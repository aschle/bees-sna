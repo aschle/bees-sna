{
 "cells": [
  {
   "cell_type": "markdown",
   "metadata": {},
   "source": [
    "# Z Rotation per Camera (1hour)"
   ]
  },
  {
   "cell_type": "code",
   "execution_count": 2,
   "metadata": {
    "collapsed": false
   },
   "outputs": [],
   "source": [
    "from bb_binary import FrameContainer, Repository\n",
    "from datetime import datetime, timedelta\n",
    "\n",
    "import numpy as np\n",
    "import pandas as pd\n",
    "\n",
    "from pandas import DataFrame, Series"
   ]
  },
  {
   "cell_type": "code",
   "execution_count": 4,
   "metadata": {
    "collapsed": false
   },
   "outputs": [],
   "source": [
    "folder0 = \"2015082215\"\n",
    "folder1 = \"2015092215\"\n",
    "folder2 = \"2015102215\"\n",
    "folder_list = [folder0, folder1, folder2]\n",
    "path = \"../00_Data/testset_2015_1h/\"\n",
    "repo = Repository(path+folder2)"
   ]
  },
  {
   "cell_type": "code",
   "execution_count": null,
   "metadata": {
    "collapsed": true
   },
   "outputs": [],
   "source": [
    "ids = []\n",
    "for frame, fc in repo.iter_frames(cam=0):\n",
    "    ids.extend([d.decodedId for d in frame.detectionsUnion.detectionsDP])"
   ]
  },
  {
   "cell_type": "code",
   "execution_count": null,
   "metadata": {
    "collapsed": true
   },
   "outputs": [],
   "source": [
    "def plot_rotation(df, sample):\n",
    "    \n",
    "    gr = df[['zRotation', 'cam_id']].groupby(level='fc_id')\n",
    "    for i, group in gr:\n",
    "        plt.figure()\n",
    "        N = 80\n",
    "        count, division = np.histogram(group.zRotation, bins=N)\n",
    "        count = count\n",
    "        width = (2*np.pi) / N\n",
    "        theta = np.linspace(0.0, 2 * np.pi, N, endpoint=False)\n",
    "\n",
    "        ax = plt.subplot(111, projection='polar')\n",
    "        bars = ax.bar(theta, count, width=width, bottom=10)\n",
    "        ax.set_title(\"Frequency of Angles of cam ID {} of sample {}\".format(group.cam_id[0],\n",
    "                                                                            sample))\n",
    "\n",
    "        plt.savefig(\"plots/rotation_cam{}_{}\".format(group.cam_id[0], sample))"
   ]
  }
 ],
 "metadata": {
  "kernelspec": {
   "display_name": "Python 3",
   "language": "python",
   "name": "python3"
  },
  "language_info": {
   "codemirror_mode": {
    "name": "ipython",
    "version": 3
   },
   "file_extension": ".py",
   "mimetype": "text/x-python",
   "name": "python",
   "nbconvert_exporter": "python",
   "pygments_lexer": "ipython3",
   "version": "3.5.2"
  }
 },
 "nbformat": 4,
 "nbformat_minor": 1
}
