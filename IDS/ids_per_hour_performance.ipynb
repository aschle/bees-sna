{
 "cells": [
  {
   "cell_type": "code",
   "execution_count": 1,
   "metadata": {
    "collapsed": true
   },
   "outputs": [],
   "source": [
    "%matplotlib inline"
   ]
  },
  {
   "cell_type": "code",
   "execution_count": 2,
   "metadata": {
    "collapsed": false
   },
   "outputs": [],
   "source": [
    "from bb_binary import FrameContainer, Repository, load_frame_container\n",
    "from datetime import datetime, timedelta\n",
    "from collections import namedtuple\n",
    "from collections import Counter\n",
    "import multiprocessing\n",
    "import sqlite3\n",
    "import matplotlib\n",
    "\n",
    "import numpy as np\n",
    "import pandas as pd\n",
    "import json\n",
    "import tables\n",
    "\n",
    "from collections import Counter\n",
    "\n",
    "from pandas import DataFrame, Series"
   ]
  },
  {
   "cell_type": "code",
   "execution_count": 3,
   "metadata": {
    "collapsed": true
   },
   "outputs": [],
   "source": [
    "def get_detected_id(bits):\n",
    "    binary_id = (bits>0.5)*1\n",
    "    decimal_id = int(''.join([str(c) for c in binary_id.tolist()[:11]]), 2)\n",
    "    if ((sum(binary_id) % 2) == 1):\n",
    "        decimal_id += 2048\n",
    "\n",
    "    return decimal_id"
   ]
  },
  {
   "cell_type": "code",
   "execution_count": 4,
   "metadata": {
    "collapsed": true
   },
   "outputs": [],
   "source": [
    "def get_confidence(bits):\n",
    "    return np.min(np.abs(0.5 - bits)) * 2"
   ]
  },
  {
   "cell_type": "code",
   "execution_count": 5,
   "metadata": {
    "collapsed": true
   },
   "outputs": [],
   "source": [
    "# Dezimale ID ausrechnen und an DataFrame angaengen\n",
    "def calcIds(df, threshold):\n",
    "    df.decodedId = df.decodedId.apply(lambda x: np.array(x)/255)\n",
    "    df = df.assign(confidence = df.decodedId.apply(get_confidence))\n",
    "    df = df[df.confidence >= threshold]\n",
    "    df = df.assign(id = df.decodedId.apply(get_detected_id))\n",
    "\n",
    "    return df"
   ]
  },
  {
   "cell_type": "code",
   "execution_count": 6,
   "metadata": {
    "collapsed": true
   },
   "outputs": [],
   "source": [
    "Detection = namedtuple(\n",
    "    'Detection',\n",
    "    ['idx', 'xpos', 'ypos', 'radius', 'zRotation', 'decodedId', 'frame_idx', 'timestamp', 'cam_id', 'fc_id']\n",
    ")"
   ]
  },
  {
   "cell_type": "code",
   "execution_count": 7,
   "metadata": {
    "collapsed": true
   },
   "outputs": [],
   "source": [
    "def get_dataframe2(fcs):\n",
    "    \"\"\"\n",
    "    Converts framecontainer(s) to a dataframe. Uses fixed columns.\n",
    "    :param fcs: One or multiple framecontainer\n",
    "    :return: Pandas Dataframe\n",
    "    \"\"\"\n",
    "    if not isinstance(fcs, (tuple, list)):\n",
    "        fcs = fcs,\n",
    "\n",
    "    tpls = []\n",
    "    for fc in fcs:\n",
    "        for f in fc.frames:\n",
    "            for d in f.detectionsUnion.detectionsDP:\n",
    "                d = Detection(d.idx, d.xpos, d.ypos, d.radius, d.zRotation, list(d.decodedId), f.frameIdx, f.timestamp, fc.camId, fc.id)\n",
    "                tpls.append(d)\n",
    "\n",
    "    df = pd.DataFrame(tpls)\n",
    "    return df"
   ]
  },
  {
   "cell_type": "code",
   "execution_count": 8,
   "metadata": {
    "collapsed": true
   },
   "outputs": [],
   "source": [
    "def getIDs(m, d, h, files):\n",
    "    a = np.zeros(2**12, dtype='int32')\n",
    "    \n",
    "    for f in files:\n",
    "        fc = load_frame_container(f)\n",
    "        df = get_dataframe2(fc)\n",
    "        df = calcIds(df, 0.95)\n",
    "        ids = list(df.id)\n",
    "        for i in ids:\n",
    "            a[i] += 1\n",
    "    return (m,d,h,a)"
   ]
  },
  {
   "cell_type": "code",
   "execution_count": null,
   "metadata": {
    "collapsed": true
   },
   "outputs": [],
   "source": [
    "# /mnt/data/all"
   ]
  },
  {
   "cell_type": "code",
   "execution_count": 74,
   "metadata": {
    "collapsed": false
   },
   "outputs": [],
   "source": [
    "def run(cpu = 8):\n",
    "    \n",
    "    pool = multiprocessing.Pool(cpu)\n",
    "    \n",
    "    repo = Repository(\"data/1d/\")\n",
    "    \n",
    "    file_list = []\n",
    "    for f in repo.iter_fnames():\n",
    "        string = f.split('2015')\n",
    "        datum = string[1].split(\"/\")\n",
    "        file_list.append([datum[1], datum[2], datum[3], f])\n",
    "    \n",
    "    # DataFrame with all files\n",
    "    df = DataFrame(file_list, columns=['m', 'd', 'h', 'file'])\n",
    "    \n",
    "    # Group by hours\n",
    "    gr = df.groupby(by=['m','d','h'])\n",
    "    \n",
    "    # Pro Gruppe einen Task erstellen\n",
    "    tasks = []\n",
    "\n",
    "    for group in gr:\n",
    "        files = list(group[1].file)\n",
    "        tasks.append((group[0][0], group[0][1], group[0][2], files))\n",
    "        \n",
    "    results = [pool.apply_async( getIDs, t ) for t in tasks[:2]]\n",
    "    \n",
    "    # Write results straight to DB\n",
    "    conn = sqlite3.connect('ids.db')\n",
    "    c = conn.cursor()\n",
    "    c.execute('''DROP TABLE IF EXISTS IDS''')\n",
    "    c.execute('''CREATE TABLE IDS\n",
    "           (MONTH   CHARACTER(20)   NOT NULL,\n",
    "           DAY   CHARACTER(20)   NOT NULL,\n",
    "           HOUR  CHARACTER(20)   NOT NULL,\n",
    "           ID   INT   NOT NULL,\n",
    "           COUNT   INT   NOT NULL);''')\n",
    "    \n",
    "    for result in results:\n",
    "        \n",
    "        res = result.get()\n",
    "        m = res[0]\n",
    "        d = res[1]\n",
    "        h = res[2]\n",
    "        \n",
    "        for e, r in enumerate(res[3]):\n",
    "            c.execute(\"insert into ids (month, day, hour, id, count) values (?, ?, ?, ?, ?)\",\n",
    "            (m, d, h, e, int(r)))\n",
    "\n",
    "    pool.close()\n",
    "    pool.join()\n",
    "    \n",
    "    counting = c.execute('SELECT count(*) FROM IDS')\n",
    "    \n",
    "    conn.commit()\n",
    "    conn.close()"
   ]
  },
  {
   "cell_type": "code",
   "execution_count": 75,
   "metadata": {
    "collapsed": false
   },
   "outputs": [],
   "source": [
    "l = run(8)"
   ]
  },
  {
   "cell_type": "code",
   "execution_count": 76,
   "metadata": {
    "collapsed": false
   },
   "outputs": [],
   "source": [
    "conn = sqlite3.connect('ids.db')"
   ]
  },
  {
   "cell_type": "code",
   "execution_count": 77,
   "metadata": {
    "collapsed": true
   },
   "outputs": [],
   "source": [
    "c = conn.cursor()"
   ]
  },
  {
   "cell_type": "code",
   "execution_count": 80,
   "metadata": {
    "collapsed": false
   },
   "outputs": [
    {
     "name": "stdout",
     "output_type": "stream",
     "text": [
      "(8192,)\n"
     ]
    }
   ],
   "source": [
    "num = 0\n",
    "for e in c.execute('SELECT count(*) FROM IDS'):\n",
    "    if (num < 100):\n",
    "        print(e)\n",
    "    num += 1\n",
    "    "
   ]
  },
  {
   "cell_type": "code",
   "execution_count": null,
   "metadata": {
    "collapsed": true
   },
   "outputs": [],
   "source": []
  }
 ],
 "metadata": {
  "kernelspec": {
   "display_name": "Python 3",
   "language": "python",
   "name": "python3"
  },
  "language_info": {
   "codemirror_mode": {
    "name": "ipython",
    "version": 3
   },
   "file_extension": ".py",
   "mimetype": "text/x-python",
   "name": "python",
   "nbconvert_exporter": "python",
   "pygments_lexer": "ipython3",
   "version": "3.5.2"
  }
 },
 "nbformat": 4,
 "nbformat_minor": 2
}
