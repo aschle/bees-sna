{
 "cells": [
  {
   "cell_type": "code",
   "execution_count": 71,
   "metadata": {
    "collapsed": true
   },
   "outputs": [],
   "source": [
    "%matplotlib inline"
   ]
  },
  {
   "cell_type": "code",
   "execution_count": 72,
   "metadata": {
    "collapsed": false
   },
   "outputs": [],
   "source": [
    "from bb_binary import FrameContainer, Repository, load_frame_container\n",
    "from datetime import datetime, timedelta\n",
    "from collections import namedtuple\n",
    "from collections import Counter\n",
    "import multiprocessing\n",
    "import sqlite3\n",
    "import matplotlib\n",
    "\n",
    "import numpy as np\n",
    "import pandas as pd\n",
    "import json\n",
    "import matplotlib.pyplot as plt\n",
    "\n",
    "from collections import Counter\n",
    "\n",
    "from pandas import DataFrame, Series\n",
    "import seaborn as sns"
   ]
  },
  {
   "cell_type": "code",
   "execution_count": 73,
   "metadata": {
    "collapsed": true
   },
   "outputs": [],
   "source": [
    "conn = sqlite3.connect('ids.db')"
   ]
  },
  {
   "cell_type": "code",
   "execution_count": 74,
   "metadata": {
    "collapsed": true
   },
   "outputs": [],
   "source": [
    "c = conn.cursor()"
   ]
  },
  {
   "cell_type": "code",
   "execution_count": 75,
   "metadata": {
    "collapsed": true
   },
   "outputs": [],
   "source": [
    "sql = 'SELECT * FROM IDS'"
   ]
  },
  {
   "cell_type": "code",
   "execution_count": 76,
   "metadata": {
    "collapsed": false
   },
   "outputs": [],
   "source": [
    "df = pd.read_sql(sql, conn)"
   ]
  },
  {
   "cell_type": "code",
   "execution_count": 77,
   "metadata": {
    "collapsed": false
   },
   "outputs": [
    {
     "data": {
      "text/html": [
       "<div>\n",
       "<table border=\"1\" class=\"dataframe\">\n",
       "  <thead>\n",
       "    <tr style=\"text-align: right;\">\n",
       "      <th></th>\n",
       "      <th>MONTH</th>\n",
       "      <th>DAY</th>\n",
       "      <th>HOUR</th>\n",
       "      <th>ID</th>\n",
       "      <th>COUNT</th>\n",
       "    </tr>\n",
       "  </thead>\n",
       "  <tbody>\n",
       "    <tr>\n",
       "      <th>5935099</th>\n",
       "      <td>09</td>\n",
       "      <td>19</td>\n",
       "      <td>08</td>\n",
       "      <td>4091</td>\n",
       "      <td>0</td>\n",
       "    </tr>\n",
       "    <tr>\n",
       "      <th>5935100</th>\n",
       "      <td>09</td>\n",
       "      <td>19</td>\n",
       "      <td>08</td>\n",
       "      <td>4092</td>\n",
       "      <td>0</td>\n",
       "    </tr>\n",
       "    <tr>\n",
       "      <th>5935101</th>\n",
       "      <td>09</td>\n",
       "      <td>19</td>\n",
       "      <td>08</td>\n",
       "      <td>4093</td>\n",
       "      <td>0</td>\n",
       "    </tr>\n",
       "    <tr>\n",
       "      <th>5935102</th>\n",
       "      <td>09</td>\n",
       "      <td>19</td>\n",
       "      <td>08</td>\n",
       "      <td>4094</td>\n",
       "      <td>0</td>\n",
       "    </tr>\n",
       "    <tr>\n",
       "      <th>5935103</th>\n",
       "      <td>09</td>\n",
       "      <td>19</td>\n",
       "      <td>08</td>\n",
       "      <td>4095</td>\n",
       "      <td>0</td>\n",
       "    </tr>\n",
       "  </tbody>\n",
       "</table>\n",
       "</div>"
      ],
      "text/plain": [
       "        MONTH DAY HOUR    ID  COUNT\n",
       "5935099    09  19   08  4091      0\n",
       "5935100    09  19   08  4092      0\n",
       "5935101    09  19   08  4093      0\n",
       "5935102    09  19   08  4094      0\n",
       "5935103    09  19   08  4095      0"
      ]
     },
     "execution_count": 77,
     "metadata": {},
     "output_type": "execute_result"
    }
   ],
   "source": [
    "df.tail()"
   ]
  },
  {
   "cell_type": "code",
   "execution_count": 88,
   "metadata": {
    "collapsed": false
   },
   "outputs": [
    {
     "data": {
      "text/plain": [
       "array(['01', '02', '03', '04', '05', '06', '07', '08', '09', '10', '11',\n",
       "       '12', '13', '14', '15', '16', '17', '18', '19'], dtype=object)"
      ]
     },
     "execution_count": 88,
     "metadata": {},
     "output_type": "execute_result"
    }
   ],
   "source": [
    "df[df.MONTH=='09'].DAY.unique()"
   ]
  },
  {
   "cell_type": "code",
   "execution_count": 79,
   "metadata": {
    "collapsed": false
   },
   "outputs": [
    {
     "data": {
      "text/plain": [
       "array(['07', '08', '09'], dtype=object)"
      ]
     },
     "execution_count": 79,
     "metadata": {},
     "output_type": "execute_result"
    }
   ],
   "source": [
    "df.MONTH.unique()"
   ]
  },
  {
   "cell_type": "code",
   "execution_count": 80,
   "metadata": {
    "collapsed": false
   },
   "outputs": [
    {
     "data": {
      "text/plain": [
       "array(['19', '20', '21', '22', '23', '24', '25', '26', '27', '28', '29',\n",
       "       '30', '31', '01', '02', '03', '04', '05', '06', '07', '08', '09',\n",
       "       '10', '11', '12', '13', '14', '15', '16', '17', '18'], dtype=object)"
      ]
     },
     "execution_count": 80,
     "metadata": {},
     "output_type": "execute_result"
    }
   ],
   "source": [
    "df.DAY.unique()"
   ]
  },
  {
   "cell_type": "code",
   "execution_count": 191,
   "metadata": {
    "collapsed": false
   },
   "outputs": [
    {
     "data": {
      "text/plain": [
       "array(['12', '13', '14', '15', '16', '17', '18', '19', '20', '21', '22',\n",
       "       '23', '00', '01', '02', '03', '04', '05', '06', '07', '08', '09',\n",
       "       '10', '11'], dtype=object)"
      ]
     },
     "execution_count": 191,
     "metadata": {},
     "output_type": "execute_result"
    }
   ],
   "source": [
    "df.HOUR.unique()"
   ]
  },
  {
   "cell_type": "markdown",
   "metadata": {},
   "source": [
    "# Statistik zu einer Stunde"
   ]
  },
  {
   "cell_type": "code",
   "execution_count": 107,
   "metadata": {
    "collapsed": true
   },
   "outputs": [],
   "source": [
    "dfh = df.query('(MONTH == \"07\") & (DAY == \"25\" ) & (HOUR == \"15\")')"
   ]
  },
  {
   "cell_type": "code",
   "execution_count": 108,
   "metadata": {
    "collapsed": false
   },
   "outputs": [
    {
     "name": "stderr",
     "output_type": "stream",
     "text": [
      "/usr/local/lib/python3.6/site-packages/ipykernel/__main__.py:1: SettingWithCopyWarning: \n",
      "A value is trying to be set on a copy of a slice from a DataFrame.\n",
      "Try using .loc[row_indexer,col_indexer] = value instead\n",
      "\n",
      "See the caveats in the documentation: http://pandas.pydata.org/pandas-docs/stable/indexing.html#indexing-view-versus-copy\n",
      "  if __name__ == '__main__':\n"
     ]
    }
   ],
   "source": [
    "dfh['frac'] = (100*dfh.COUNT)/(60*60*3)"
   ]
  },
  {
   "cell_type": "code",
   "execution_count": 109,
   "metadata": {
    "collapsed": false
   },
   "outputs": [
    {
     "data": {
      "text/html": [
       "<div>\n",
       "<table border=\"1\" class=\"dataframe\">\n",
       "  <thead>\n",
       "    <tr style=\"text-align: right;\">\n",
       "      <th></th>\n",
       "      <th>MONTH</th>\n",
       "      <th>DAY</th>\n",
       "      <th>HOUR</th>\n",
       "      <th>ID</th>\n",
       "      <th>COUNT</th>\n",
       "      <th>frac</th>\n",
       "    </tr>\n",
       "  </thead>\n",
       "  <tbody>\n",
       "    <tr>\n",
       "      <th>602112</th>\n",
       "      <td>07</td>\n",
       "      <td>25</td>\n",
       "      <td>15</td>\n",
       "      <td>0</td>\n",
       "      <td>0</td>\n",
       "      <td>0.000000</td>\n",
       "    </tr>\n",
       "    <tr>\n",
       "      <th>602113</th>\n",
       "      <td>07</td>\n",
       "      <td>25</td>\n",
       "      <td>15</td>\n",
       "      <td>1</td>\n",
       "      <td>0</td>\n",
       "      <td>0.000000</td>\n",
       "    </tr>\n",
       "    <tr>\n",
       "      <th>602114</th>\n",
       "      <td>07</td>\n",
       "      <td>25</td>\n",
       "      <td>15</td>\n",
       "      <td>2</td>\n",
       "      <td>1</td>\n",
       "      <td>0.009259</td>\n",
       "    </tr>\n",
       "    <tr>\n",
       "      <th>602115</th>\n",
       "      <td>07</td>\n",
       "      <td>25</td>\n",
       "      <td>15</td>\n",
       "      <td>3</td>\n",
       "      <td>34</td>\n",
       "      <td>0.314815</td>\n",
       "    </tr>\n",
       "    <tr>\n",
       "      <th>602116</th>\n",
       "      <td>07</td>\n",
       "      <td>25</td>\n",
       "      <td>15</td>\n",
       "      <td>4</td>\n",
       "      <td>0</td>\n",
       "      <td>0.000000</td>\n",
       "    </tr>\n",
       "  </tbody>\n",
       "</table>\n",
       "</div>"
      ],
      "text/plain": [
       "       MONTH DAY HOUR  ID  COUNT      frac\n",
       "602112    07  25   15   0      0  0.000000\n",
       "602113    07  25   15   1      0  0.000000\n",
       "602114    07  25   15   2      1  0.009259\n",
       "602115    07  25   15   3     34  0.314815\n",
       "602116    07  25   15   4      0  0.000000"
      ]
     },
     "execution_count": 109,
     "metadata": {},
     "output_type": "execute_result"
    }
   ],
   "source": [
    "dfh.head()"
   ]
  },
  {
   "cell_type": "code",
   "execution_count": 110,
   "metadata": {
    "collapsed": false
   },
   "outputs": [
    {
     "data": {
      "text/plain": [
       "(4096, 6)"
      ]
     },
     "execution_count": 110,
     "metadata": {},
     "output_type": "execute_result"
    }
   ],
   "source": [
    "dfh.shape"
   ]
  },
  {
   "cell_type": "code",
   "execution_count": 111,
   "metadata": {
    "collapsed": false,
    "scrolled": false
   },
   "outputs": [
    {
     "data": {
      "text/plain": [
       "<matplotlib.text.Text at 0x171e4b3c8>"
      ]
     },
     "execution_count": 111,
     "metadata": {},
     "output_type": "execute_result"
    },
    {
     "data": {
      "image/png": "[encoded data removed]",
      "text/plain": [
       "<matplotlib.figure.Figure at 0x175406908>"
      ]
     },
     "metadata": {},
     "output_type": "display_data"
    }
   ],
   "source": [
    "fig, ax = plt.subplots()\n",
    "dfh.frac.hist(ax=ax, bins=50)\n",
    "ax.set_yscale('log')\n",
    "ax.set_xlim(0,100)\n",
    "ax.set_title(\"Distribution of ID Frequency (1h) \\n 12:00 - 13:00 Uhr 20. August 2015\")\n"
   ]
  },
  {
   "cell_type": "code",
   "execution_count": 112,
   "metadata": {
    "collapsed": true
   },
   "outputs": [],
   "source": [
    "dfh0 = dfh[dfh.COUNT>0]"
   ]
  },
  {
   "cell_type": "code",
   "execution_count": 113,
   "metadata": {
    "collapsed": false
   },
   "outputs": [
    {
     "data": {
      "text/plain": [
       "<matplotlib.text.Text at 0x14f0cd6d8>"
      ]
     },
     "execution_count": 113,
     "metadata": {},
     "output_type": "execute_result"
    },
    {
     "data": {
      "image/png": "[encoded data removed]",
      "text/plain": [
       "<matplotlib.figure.Figure at 0x120ba4828>"
      ]
     },
     "metadata": {},
     "output_type": "display_data"
    }
   ],
   "source": [
    "fig, ax = plt.subplots()\n",
    "dfh0.frac.hist(ax=ax, bins=50)\n",
    "ax.set_yscale('log')\n",
    "ax.set_xlim(0,100)\n",
    "ax.set_title(\"Distribution of ID Frequency (1h) without 0 \\n 12:00 - 13:00 Uhr 20. August 2015\")"
   ]
  },
  {
   "cell_type": "code",
   "execution_count": 114,
   "metadata": {
    "collapsed": false
   },
   "outputs": [
    {
     "data": {
      "text/plain": [
       "3497"
      ]
     },
     "execution_count": 114,
     "metadata": {},
     "output_type": "execute_result"
    }
   ],
   "source": [
    "dfh0.shape[0]"
   ]
  },
  {
   "cell_type": "code",
   "execution_count": 115,
   "metadata": {
    "collapsed": false
   },
   "outputs": [
    {
     "data": {
      "text/plain": [
       "85.3759765625"
      ]
     },
     "execution_count": 115,
     "metadata": {},
     "output_type": "execute_result"
    }
   ],
   "source": [
    "100*dfh0.shape[0]/(2**12)"
   ]
  },
  {
   "cell_type": "code",
   "execution_count": 116,
   "metadata": {
    "collapsed": false,
    "scrolled": false
   },
   "outputs": [],
   "source": [
    "c = Counter(dfh0.COUNT.values)"
   ]
  },
  {
   "cell_type": "code",
   "execution_count": 117,
   "metadata": {
    "collapsed": false
   },
   "outputs": [
    {
     "data": {
      "text/plain": [
       "dict_values([465, 10, 1, 1, 17, 1, 2, 2, 1, 217, 1, 1, 1, 1, 334, 40, 53, 1, 1, 1, 1, 1, 2, 134, 1, 1, 1, 1, 1, 1, 1, 2, 1, 1, 1, 1, 1, 1, 1, 1, 1, 1, 1, 6, 1, 2, 1, 1, 96, 1, 87, 1, 1, 1, 1, 3, 1, 2, 1, 1, 2, 2, 1, 1, 1, 1, 1, 1, 1, 1, 1, 2, 3, 1, 160, 2, 1, 42, 1, 1, 1, 1, 1, 2, 1, 1, 1, 1, 1, 1, 1, 1, 1, 1, 1, 1, 1, 1, 1, 30, 1, 1, 105, 1, 1, 2, 1, 1, 1, 30, 1, 1, 1, 1, 1, 1, 1, 1, 1, 1, 1, 1, 66, 23, 1, 1, 2, 2, 2, 1, 1, 1, 4, 1, 1, 1, 1, 2, 1, 1, 1, 1, 1, 1, 1, 1, 1, 1, 2, 2, 1, 1, 1, 1, 1, 1, 1, 1, 1, 1, 1, 2, 49, 4, 1, 1, 1, 1, 1, 1, 2, 2, 1, 1, 3, 1, 1, 1, 1, 2, 1, 1, 1, 1, 1, 1, 2, 1, 2, 2, 1, 1, 2, 2, 1, 1, 1, 1, 1, 1, 1, 1, 1, 1, 2, 1, 1, 1, 1, 1, 1, 1, 1, 1, 2, 1, 1, 1, 1, 1, 1, 1, 1, 2, 1, 1, 1, 1, 1, 1, 1, 2, 1, 1, 1, 2, 1, 1, 1, 1, 2, 1, 2, 1, 1, 1, 1, 1, 1, 1, 1, 1, 1, 1, 2, 1, 2, 1, 7, 1, 1, 2, 1, 2, 1, 1, 1, 1, 1, 1, 1, 1, 1, 1, 1, 1, 1, 1, 1, 1, 2, 1, 1, 1, 1, 1, 1, 1, 1, 1, 1, 1, 1, 1, 1, 1, 1, 1, 1, 1, 1, 2, 1, 1, 1, 1, 1, 2, 1, 1, 1, 2, 1, 1, 2, 1, 1, 3, 1, 1, 1, 1, 1, 1, 1, 1, 1, 1, 1, 45, 1, 28, 2, 1, 1, 1, 1, 2, 1, 1, 1, 2, 1, 1, 1, 2, 1, 1, 1, 1, 1, 5, 1, 1, 1, 1, 1, 1, 1, 1, 1, 1, 1, 2, 1, 1, 1, 2, 1, 1, 1, 1, 1, 1, 1, 1, 1, 1, 1, 1, 1, 2, 1, 1, 1, 2, 1, 1, 1, 1, 1, 1, 1, 1, 1, 1, 1, 1, 1, 1, 1, 1, 1, 1, 1, 1, 1, 1, 1, 2, 1, 1, 1, 1, 1, 1, 1, 1, 1, 1, 1, 1, 1, 1, 1, 1, 1, 1, 1, 2, 2, 1, 1, 1, 1, 1, 1, 1, 1, 1, 1, 1, 1, 1, 2, 1, 1, 1, 1, 1, 1, 1, 1, 1, 1, 1, 1, 1, 1, 1, 1, 1, 1, 1, 1, 1, 1, 1, 1, 1, 1, 1, 1, 1, 1, 1, 75, 1, 1, 1, 1, 1, 1, 1, 1, 1, 1, 1, 1, 23, 1, 34, 1, 1, 1, 1, 1, 1, 1, 1, 1, 1, 2, 1, 1, 1, 1, 1, 1, 1, 1, 1, 1, 1, 15, 1, 1, 1, 1, 1, 1, 1, 1, 1, 1, 1, 1, 1, 1, 1, 1, 1, 1, 1, 1, 1, 1, 1, 1, 1, 1, 1, 1, 1, 1, 2, 1, 1, 1, 1, 1, 1, 1, 1, 1, 1, 1, 2, 1, 1, 1, 30, 1, 1, 1, 1, 1, 1, 1, 1, 21, 14, 1, 1, 1, 1, 1, 1, 1, 1, 1, 1, 1, 1, 1, 1, 1, 1, 1, 1, 1, 1, 2, 1, 1, 2, 1, 1, 1, 1, 1, 1, 1, 1, 1, 1, 1, 1, 1, 1, 12, 1, 1, 1, 1, 1, 1, 5, 1, 1, 1, 1, 1, 1, 1, 1, 1, 1, 1, 1, 1, 1, 1, 1, 1, 1, 1, 1, 1, 1, 5, 1, 1, 1, 1, 1, 1, 1, 1, 1, 1, 1, 1, 1, 2, 1, 1, 1, 1, 1, 1, 1, 1, 1, 1, 1, 1, 1, 1, 1, 1, 1, 1, 1, 1, 1, 1, 1, 1, 1, 2, 1, 1, 2, 1, 1, 1, 1, 1, 1, 1, 1, 1, 1, 1, 2, 1, 1, 1, 1, 1, 2, 1, 2, 1, 1, 1, 1, 1, 1, 1, 1, 1, 1, 1, 1, 1, 1, 1, 1, 1, 1, 1, 1, 1, 1, 1, 1, 1, 1, 1, 1, 1, 1, 1, 1, 1, 1, 1, 1, 1, 1, 1, 1, 1, 1, 1, 1, 1, 1, 1, 1, 1, 1, 1, 1, 8, 1, 1, 1, 1, 1, 2, 1, 1, 1, 1, 1, 1, 1, 1, 1, 1, 1, 1, 1, 1, 1, 1, 1, 1, 1, 1, 1, 1, 1, 1, 1, 1, 1, 1, 1, 1, 1, 1, 1, 1, 1, 1, 1, 1, 1, 1, 1, 1, 1, 1, 12, 1, 1, 1, 1, 1, 1, 1, 1, 1, 1, 1, 1, 1, 1, 1, 1, 1, 1, 1, 1, 1, 1, 1, 1, 1, 1, 1, 21, 1, 1, 1, 1, 15, 2, 1, 1, 1, 6, 3, 1, 15, 2, 1, 6, 8, 1, 1, 3, 2, 1, 2, 5, 1, 1, 6, 9, 1, 3, 11, 1, 1, 1, 2, 1, 1, 1, 3, 3, 1, 11, 12, 2, 1, 1, 9, 1, 1, 6, 1, 2, 2, 1, 6, 1, 2, 5, 1, 1, 1, 4, 4, 1, 1, 6, 1, 6, 3, 2, 3, 4, 2, 9, 1, 2, 1, 7, 1, 1, 2, 4, 3, 1, 1, 4, 1, 1, 2, 1, 1, 1, 2, 1, 1, 1, 2, 2, 1, 1, 1, 1, 1, 1, 1])"
      ]
     },
     "execution_count": 117,
     "metadata": {},
     "output_type": "execute_result"
    }
   ],
   "source": [
    "c.values()"
   ]
  },
  {
   "cell_type": "code",
   "execution_count": 118,
   "metadata": {
    "collapsed": false
   },
   "outputs": [],
   "source": [
    "dfh01 = dfh0[dfh0.COUNT > 15]"
   ]
  },
  {
   "cell_type": "code",
   "execution_count": 119,
   "metadata": {
    "collapsed": false
   },
   "outputs": [
    {
     "data": {
      "text/plain": [
       "<matplotlib.axes._subplots.AxesSubplot at 0x16e3bf2b0>"
      ]
     },
     "execution_count": 119,
     "metadata": {},
     "output_type": "execute_result"
    },
    {
     "data": {
      "image/png": "[encoded data removed]",
      "text/plain": [
       "<matplotlib.figure.Figure at 0x129feca90>"
      ]
     },
     "metadata": {},
     "output_type": "display_data"
    }
   ],
   "source": [
    "dfh01.COUNT.hist(bins=30)"
   ]
  },
  {
   "cell_type": "markdown",
   "metadata": {},
   "source": [
    "# Statistik zu einem Tag 30.07."
   ]
  },
  {
   "cell_type": "code",
   "execution_count": 120,
   "metadata": {
    "collapsed": true
   },
   "outputs": [],
   "source": [
    "dfd = df.query('(MONTH == \"07\") & (DAY == \"30\" )')"
   ]
  },
  {
   "cell_type": "code",
   "execution_count": 121,
   "metadata": {
    "collapsed": false,
    "scrolled": false
   },
   "outputs": [
    {
     "data": {
      "text/plain": [
       "<matplotlib.axes._subplots.AxesSubplot at 0x111283f98>"
      ]
     },
     "execution_count": 121,
     "metadata": {},
     "output_type": "execute_result"
    },
    {
     "data": {
      "image/png": "[encoded data removed]",
      "text/plain": [
       "<matplotlib.figure.Figure at 0x110d7fb38>"
      ]
     },
     "metadata": {},
     "output_type": "display_data"
    }
   ],
   "source": [
    "dfd.COUNT.hist(bins=50)"
   ]
  },
  {
   "cell_type": "code",
   "execution_count": 122,
   "metadata": {
    "collapsed": false
   },
   "outputs": [
    {
     "data": {
      "text/plain": [
       "count    98304.000000\n",
       "mean       330.187266\n",
       "std        754.599424\n",
       "min          0.000000\n",
       "25%          1.000000\n",
       "50%          6.000000\n",
       "75%        130.000000\n",
       "max       9020.000000\n",
       "Name: COUNT, dtype: float64"
      ]
     },
     "execution_count": 122,
     "metadata": {},
     "output_type": "execute_result"
    }
   ],
   "source": [
    "dfd.COUNT.describe()"
   ]
  },
  {
   "cell_type": "code",
   "execution_count": 123,
   "metadata": {
    "collapsed": true
   },
   "outputs": [],
   "source": [
    "dfd0 = dfd[dfd.COUNT > 0]"
   ]
  },
  {
   "cell_type": "code",
   "execution_count": 124,
   "metadata": {
    "collapsed": false
   },
   "outputs": [
    {
     "data": {
      "text/html": [
       "<div>\n",
       "<table border=\"1\" class=\"dataframe\">\n",
       "  <thead>\n",
       "    <tr style=\"text-align: right;\">\n",
       "      <th></th>\n",
       "      <th>MONTH</th>\n",
       "      <th>DAY</th>\n",
       "      <th>HOUR</th>\n",
       "      <th>ID</th>\n",
       "      <th>COUNT</th>\n",
       "    </tr>\n",
       "  </thead>\n",
       "  <tbody>\n",
       "    <tr>\n",
       "      <th>1019905</th>\n",
       "      <td>07</td>\n",
       "      <td>30</td>\n",
       "      <td>00</td>\n",
       "      <td>1</td>\n",
       "      <td>1</td>\n",
       "    </tr>\n",
       "    <tr>\n",
       "      <th>1019907</th>\n",
       "      <td>07</td>\n",
       "      <td>30</td>\n",
       "      <td>00</td>\n",
       "      <td>3</td>\n",
       "      <td>2</td>\n",
       "    </tr>\n",
       "    <tr>\n",
       "      <th>1019908</th>\n",
       "      <td>07</td>\n",
       "      <td>30</td>\n",
       "      <td>00</td>\n",
       "      <td>4</td>\n",
       "      <td>21</td>\n",
       "    </tr>\n",
       "    <tr>\n",
       "      <th>1019909</th>\n",
       "      <td>07</td>\n",
       "      <td>30</td>\n",
       "      <td>00</td>\n",
       "      <td>5</td>\n",
       "      <td>2</td>\n",
       "    </tr>\n",
       "    <tr>\n",
       "      <th>1019910</th>\n",
       "      <td>07</td>\n",
       "      <td>30</td>\n",
       "      <td>00</td>\n",
       "      <td>6</td>\n",
       "      <td>382</td>\n",
       "    </tr>\n",
       "  </tbody>\n",
       "</table>\n",
       "</div>"
      ],
      "text/plain": [
       "        MONTH DAY HOUR  ID  COUNT\n",
       "1019905    07  30   00   1      1\n",
       "1019907    07  30   00   3      2\n",
       "1019908    07  30   00   4     21\n",
       "1019909    07  30   00   5      2\n",
       "1019910    07  30   00   6    382"
      ]
     },
     "execution_count": 124,
     "metadata": {},
     "output_type": "execute_result"
    }
   ],
   "source": [
    "dfd0.head()"
   ]
  },
  {
   "cell_type": "code",
   "execution_count": 125,
   "metadata": {
    "collapsed": false,
    "scrolled": false
   },
   "outputs": [
    {
     "data": {
      "text/plain": [
       "4095"
      ]
     },
     "execution_count": 125,
     "metadata": {},
     "output_type": "execute_result"
    }
   ],
   "source": [
    "len(np.unique(list(dfd0.ID)))"
   ]
  },
  {
   "cell_type": "code",
   "execution_count": 126,
   "metadata": {
    "collapsed": false
   },
   "outputs": [],
   "source": [
    "grouped = dfd0.groupby(by=\"ID\")"
   ]
  },
  {
   "cell_type": "code",
   "execution_count": 127,
   "metadata": {
    "collapsed": false,
    "scrolled": false
   },
   "outputs": [
    {
     "name": "stdout",
     "output_type": "stream",
     "text": [
      "        MONTH DAY HOUR    ID  COUNT\n",
      "1023162    07  30   00  3258      1\n",
      "1027258    07  30   01  3258     21\n",
      "1031354    07  30   02  3258      9\n",
      "1035450    07  30   03  3258      9\n",
      "1039546    07  30   04  3258      8\n",
      "1043642    07  30   05  3258      8\n",
      "1047738    07  30   06  3258      3\n",
      "1051834    07  30   07  3258     14\n",
      "1055930    07  30   08  3258      7\n",
      "1060026    07  30   09  3258     11\n",
      "1064122    07  30   10  3258      7\n",
      "1068218    07  30   11  3258     14\n",
      "1072314    07  30   12  3258     16\n",
      "1076410    07  30   13  3258     13\n",
      "1080506    07  30   14  3258     17\n",
      "1084602    07  30   15  3258     24\n",
      "1088698    07  30   16  3258      6\n",
      "1092794    07  30   17  3258     10\n",
      "1096890    07  30   18  3258    193\n",
      "1100986    07  30   19  3258      6\n",
      "1105082    07  30   20  3258      4\n",
      "1109178    07  30   21  3258      3\n",
      "1113274    07  30   22  3258     14\n",
      "1117370    07  30   23  3258      1\n"
     ]
    }
   ],
   "source": [
    "# ID der Königin\n",
    "for g, gr in grouped:\n",
    "    if (g == 3258):\n",
    "        print(gr)\n",
    "        "
   ]
  },
  {
   "cell_type": "code",
   "execution_count": 128,
   "metadata": {
    "collapsed": false
   },
   "outputs": [],
   "source": [
    "day = grouped['COUNT'].agg({'summe' : np.sum, 'meann' : np.mean})"
   ]
  },
  {
   "cell_type": "code",
   "execution_count": 129,
   "metadata": {
    "collapsed": false
   },
   "outputs": [
    {
     "data": {
      "text/html": [
       "<div>\n",
       "<table border=\"1\" class=\"dataframe\">\n",
       "  <thead>\n",
       "    <tr style=\"text-align: right;\">\n",
       "      <th></th>\n",
       "      <th>summe</th>\n",
       "      <th>meann</th>\n",
       "    </tr>\n",
       "    <tr>\n",
       "      <th>ID</th>\n",
       "      <th></th>\n",
       "      <th></th>\n",
       "    </tr>\n",
       "  </thead>\n",
       "  <tbody>\n",
       "    <tr>\n",
       "      <th>0</th>\n",
       "      <td>61</td>\n",
       "      <td>3.388889</td>\n",
       "    </tr>\n",
       "    <tr>\n",
       "      <th>1</th>\n",
       "      <td>464</td>\n",
       "      <td>19.333333</td>\n",
       "    </tr>\n",
       "    <tr>\n",
       "      <th>2</th>\n",
       "      <td>30</td>\n",
       "      <td>2.142857</td>\n",
       "    </tr>\n",
       "    <tr>\n",
       "      <th>3</th>\n",
       "      <td>30350</td>\n",
       "      <td>1264.583333</td>\n",
       "    </tr>\n",
       "    <tr>\n",
       "      <th>4</th>\n",
       "      <td>128</td>\n",
       "      <td>5.565217</td>\n",
       "    </tr>\n",
       "    <tr>\n",
       "      <th>5</th>\n",
       "      <td>112</td>\n",
       "      <td>5.600000</td>\n",
       "    </tr>\n",
       "    <tr>\n",
       "      <th>6</th>\n",
       "      <td>12468</td>\n",
       "      <td>623.400000</td>\n",
       "    </tr>\n",
       "    <tr>\n",
       "      <th>7</th>\n",
       "      <td>217</td>\n",
       "      <td>9.041667</td>\n",
       "    </tr>\n",
       "    <tr>\n",
       "      <th>8</th>\n",
       "      <td>10783</td>\n",
       "      <td>449.291667</td>\n",
       "    </tr>\n",
       "    <tr>\n",
       "      <th>9</th>\n",
       "      <td>15405</td>\n",
       "      <td>641.875000</td>\n",
       "    </tr>\n",
       "  </tbody>\n",
       "</table>\n",
       "</div>"
      ],
      "text/plain": [
       "    summe        meann\n",
       "ID                    \n",
       "0      61     3.388889\n",
       "1     464    19.333333\n",
       "2      30     2.142857\n",
       "3   30350  1264.583333\n",
       "4     128     5.565217\n",
       "5     112     5.600000\n",
       "6   12468   623.400000\n",
       "7     217     9.041667\n",
       "8   10783   449.291667\n",
       "9   15405   641.875000"
      ]
     },
     "execution_count": 129,
     "metadata": {},
     "output_type": "execute_result"
    }
   ],
   "source": [
    "day.head(10)"
   ]
  },
  {
   "cell_type": "code",
   "execution_count": 130,
   "metadata": {
    "collapsed": false
   },
   "outputs": [
    {
     "data": {
      "text/plain": [
       "<matplotlib.axes._subplots.AxesSubplot at 0x14eb1c048>"
      ]
     },
     "execution_count": 130,
     "metadata": {},
     "output_type": "execute_result"
    },
    {
     "data": {
      "image/png": "[encoded data removed]",
      "text/plain": [
       "<matplotlib.figure.Figure at 0x164ea61d0>"
      ]
     },
     "metadata": {},
     "output_type": "display_data"
    }
   ],
   "source": [
    "day.summe.hist(bins=50)"
   ]
  },
  {
   "cell_type": "code",
   "execution_count": 131,
   "metadata": {
    "collapsed": false
   },
   "outputs": [
    {
     "data": {
      "text/plain": [
       "count     4095.000000\n",
       "mean      7926.429548\n",
       "std      13448.512381\n",
       "min          1.000000\n",
       "25%         66.000000\n",
       "50%        243.000000\n",
       "75%      13699.000000\n",
       "max      81287.000000\n",
       "Name: summe, dtype: float64"
      ]
     },
     "execution_count": 131,
     "metadata": {},
     "output_type": "execute_result"
    }
   ],
   "source": [
    "day.summe.describe()"
   ]
  },
  {
   "cell_type": "code",
   "execution_count": 132,
   "metadata": {
    "collapsed": false
   },
   "outputs": [
    {
     "data": {
      "text/plain": [
       "<matplotlib.axes._subplots.AxesSubplot at 0x111e6b9b0>"
      ]
     },
     "execution_count": 132,
     "metadata": {},
     "output_type": "execute_result"
    },
    {
     "data": {
      "image/png": "[encoded data removed]",
      "text/plain": [
       "<matplotlib.figure.Figure at 0x111789fd0>"
      ]
     },
     "metadata": {},
     "output_type": "display_data"
    }
   ],
   "source": [
    "day.meann.hist(bins=50)"
   ]
  },
  {
   "cell_type": "code",
   "execution_count": 133,
   "metadata": {
    "collapsed": false
   },
   "outputs": [],
   "source": [
    "ghour = dfd0.groupby(by='HOUR')"
   ]
  },
  {
   "cell_type": "code",
   "execution_count": 134,
   "metadata": {
    "collapsed": false
   },
   "outputs": [],
   "source": [
    "data = ghour['ID'].nunique()"
   ]
  },
  {
   "cell_type": "code",
   "execution_count": 135,
   "metadata": {
    "collapsed": false,
    "scrolled": true
   },
   "outputs": [
    {
     "data": {
      "text/plain": [
       "<matplotlib.axes._subplots.AxesSubplot at 0x11380add8>"
      ]
     },
     "execution_count": 135,
     "metadata": {},
     "output_type": "execute_result"
    },
    {
     "data": {
      "image/png": "[encoded data removed]",
      "text/plain": [
       "<matplotlib.figure.Figure at 0x171226d30>"
      ]
     },
     "metadata": {},
     "output_type": "display_data"
    }
   ],
   "source": [
    "data.plot()"
   ]
  },
  {
   "cell_type": "markdown",
   "metadata": {},
   "source": [
    "# Statistik zu einem Tag 21.08."
   ]
  },
  {
   "cell_type": "code",
   "execution_count": 136,
   "metadata": {
    "collapsed": true
   },
   "outputs": [],
   "source": [
    "dfd21 = df.query('(MONTH == \"08\") & (DAY == \"21\" )')"
   ]
  },
  {
   "cell_type": "code",
   "execution_count": 137,
   "metadata": {
    "collapsed": true
   },
   "outputs": [],
   "source": [
    "dfd210 = dfd21[dfd21.COUNT > 0]"
   ]
  },
  {
   "cell_type": "code",
   "execution_count": 138,
   "metadata": {
    "collapsed": false
   },
   "outputs": [
    {
     "data": {
      "text/plain": [
       "4091"
      ]
     },
     "execution_count": 138,
     "metadata": {},
     "output_type": "execute_result"
    }
   ],
   "source": [
    "len(np.unique(list(dfd210.ID)))"
   ]
  },
  {
   "cell_type": "code",
   "execution_count": 139,
   "metadata": {
    "collapsed": true
   },
   "outputs": [],
   "source": [
    "grouped21 = dfd210.groupby(by=\"ID\")"
   ]
  },
  {
   "cell_type": "code",
   "execution_count": 140,
   "metadata": {
    "collapsed": true
   },
   "outputs": [],
   "source": [
    "day21 = grouped21['COUNT'].agg({'summe' : np.sum, 'mean' : np.mean})"
   ]
  },
  {
   "cell_type": "code",
   "execution_count": 141,
   "metadata": {
    "collapsed": true
   },
   "outputs": [],
   "source": [
    "ghour21 = dfd210.groupby(by='HOUR')"
   ]
  },
  {
   "cell_type": "code",
   "execution_count": 142,
   "metadata": {
    "collapsed": true
   },
   "outputs": [],
   "source": [
    "data21 = ghour21['ID'].nunique()"
   ]
  },
  {
   "cell_type": "code",
   "execution_count": 143,
   "metadata": {
    "collapsed": false
   },
   "outputs": [
    {
     "data": {
      "text/plain": [
       "<matplotlib.axes._subplots.AxesSubplot at 0x115e9eb70>"
      ]
     },
     "execution_count": 143,
     "metadata": {},
     "output_type": "execute_result"
    },
    {
     "data": {
      "image/png": "[encoded data removed]",
      "text/plain": [
       "<matplotlib.figure.Figure at 0x1162517b8>"
      ]
     },
     "metadata": {},
     "output_type": "display_data"
    }
   ],
   "source": [
    "data21.plot()"
   ]
  },
  {
   "cell_type": "markdown",
   "metadata": {},
   "source": [
    "# Plotten eines beliebigen Tages"
   ]
  },
  {
   "cell_type": "code",
   "execution_count": 230,
   "metadata": {
    "collapsed": true
   },
   "outputs": [],
   "source": [
    "def plotDayIDs(df, month, day):\n",
    "    limit=20\n",
    "    q = \"(MONTH == '{}') & (DAY == '{}')\".format(month, day)\n",
    "    dfd = df.query(q)\n",
    "    dfd0 = dfd[dfd.COUNT > limit]\n",
    "    print(len(np.unique(list(dfd0.ID))))\n",
    "    ghour = dfd0.groupby(by='HOUR')\n",
    "    data = ghour['ID'].nunique()\n",
    "    fig, ax = plt.subplots()\n",
    "    data.plot(ax=ax)\n",
    "    #ax.set_xlim(0,23)\n",
    "    ax.set_ylim(0,2**12)\n",
    "    ax.set_title(\"{}.{}.2016 (> {})\".format(day, month, limit))\n",
    "    ax.set_xlabel(\"Hours\")\n",
    "    ax.set_ylabel(\"Number of bees\")"
   ]
  },
  {
   "cell_type": "code",
   "execution_count": 231,
   "metadata": {
    "collapsed": false
   },
   "outputs": [
    {
     "name": "stdout",
     "output_type": "stream",
     "text": [
      "2328\n"
     ]
    },
    {
     "data": {
      "image/png": "[encoded data removed]",
      "text/plain": [
       "<matplotlib.figure.Figure at 0x12883d080>"
      ]
     },
     "metadata": {},
     "output_type": "display_data"
    }
   ],
   "source": [
    "plotDayIDs(df, \"07\", \"21\")"
   ]
  },
  {
   "cell_type": "code",
   "execution_count": 226,
   "metadata": {
    "collapsed": false
   },
   "outputs": [
    {
     "name": "stdout",
     "output_type": "stream",
     "text": [
      "3757\n"
     ]
    },
    {
     "data": {
      "image/png": "[encoded data removed]",
      "text/plain": [
       "<matplotlib.figure.Figure at 0x135525860>"
      ]
     },
     "metadata": {},
     "output_type": "display_data"
    }
   ],
   "source": [
    "plotDayIDs(df, \"08\", \"17\")"
   ]
  },
  {
   "cell_type": "code",
   "execution_count": 227,
   "metadata": {
    "collapsed": false
   },
   "outputs": [
    {
     "name": "stdout",
     "output_type": "stream",
     "text": [
      "785\n"
     ]
    },
    {
     "data": {
      "image/png": "[encoded data removed]",
      "text/plain": [
       "<matplotlib.figure.Figure at 0x113b06908>"
      ]
     },
     "metadata": {},
     "output_type": "display_data"
    }
   ],
   "source": [
    "plotDayIDs(df, \"09\", \"10\")"
   ]
  },
  {
   "cell_type": "code",
   "execution_count": 56,
   "metadata": {
    "collapsed": false,
    "scrolled": false
   },
   "outputs": [],
   "source": [
    "# for i in list(range(19,32)):\n",
    "#     i = str(i).zfill(2)\n",
    "#     plotDayIDs(df, \"08\", i)"
   ]
  },
  {
   "cell_type": "markdown",
   "metadata": {},
   "source": [
    "# Plot über den gesamten Zeitraum"
   ]
  },
  {
   "cell_type": "code",
   "execution_count": 218,
   "metadata": {
    "collapsed": false
   },
   "outputs": [],
   "source": [
    "df0 = df[df.COUNT > 5]"
   ]
  },
  {
   "cell_type": "code",
   "execution_count": 219,
   "metadata": {
    "collapsed": false
   },
   "outputs": [],
   "source": [
    "grouped = df0.groupby(by=['MONTH', 'DAY'])"
   ]
  },
  {
   "cell_type": "code",
   "execution_count": 221,
   "metadata": {
    "collapsed": false
   },
   "outputs": [
    {
     "data": {
      "text/plain": [
       "<matplotlib.text.Text at 0x116308080>"
      ]
     },
     "execution_count": 221,
     "metadata": {},
     "output_type": "execute_result"
    },
    {
     "data": {
      "image/png": "[encoded data removed]",
      "text/plain": [
       "<matplotlib.figure.Figure at 0x1104c2e80>"
      ]
     },
     "metadata": {},
     "output_type": "display_data"
    }
   ],
   "source": [
    "fig, ax = plt.subplots()\n",
    "grouped.ID.nunique().plot(ax=ax)\n",
    "ax.set_title(\"2016 - Number of Bee-IDs per Day \\n(at least 5 detections per hour)\")"
   ]
  },
  {
   "cell_type": "markdown",
   "metadata": {
    "collapsed": true
   },
   "source": [
    "# Plot gesamter Zeitraum jeder Tag"
   ]
  },
  {
   "cell_type": "code",
   "execution_count": 223,
   "metadata": {
    "collapsed": true
   },
   "outputs": [],
   "source": [
    "def dataPerDay(df, month, day):\n",
    "    q = \"(MONTH == '{}') & (DAY == '{}')\".format(month, day)\n",
    "    dfd = df.query(q)\n",
    "    dfd0 = dfd[dfd.COUNT > 20]\n",
    "    ghour = dfd0.groupby(by='HOUR')\n",
    "    data = ghour['ID'].nunique()\n",
    "    return data"
   ]
  },
  {
   "cell_type": "code",
   "execution_count": 193,
   "metadata": {
    "collapsed": true
   },
   "outputs": [],
   "source": [
    "data_all = []\n",
    "\n",
    "for day in list(range(19,32)):\n",
    "    data_all.append((\"07\", day, dataPerDay(df, \"07\", str(day).zfill(2))))"
   ]
  },
  {
   "cell_type": "code",
   "execution_count": 194,
   "metadata": {
    "collapsed": true
   },
   "outputs": [],
   "source": [
    "for day in list(range(1,32)):\n",
    "    data_all.append((\"08\", day, dataPerDay(df, \"08\", str(day).zfill(2))))"
   ]
  },
  {
   "cell_type": "code",
   "execution_count": 195,
   "metadata": {
    "collapsed": false
   },
   "outputs": [],
   "source": [
    "for day in list(range(1,20)):\n",
    "    data_all.append((\"09\", day, dataPerDay(df, \"09\", str(day).zfill(2))))"
   ]
  },
  {
   "cell_type": "code",
   "execution_count": 196,
   "metadata": {
    "collapsed": false
   },
   "outputs": [],
   "source": [
    "#for i in list(range(len(data_all))):\n",
    "    #print(i, data_all[i][0], data_all[i][1], len(data_all[i][2]))"
   ]
  },
  {
   "cell_type": "code",
   "execution_count": 197,
   "metadata": {
    "collapsed": false
   },
   "outputs": [],
   "source": [
    "df_list = []\n",
    "df_columns = []\n",
    "for item in data_all:\n",
    "    df_list.append(item[2])\n",
    "    df_columns.append(\"{}.{}.15 \".format(item[1], item[0]))"
   ]
  },
  {
   "cell_type": "code",
   "execution_count": 198,
   "metadata": {
    "collapsed": false
   },
   "outputs": [],
   "source": [
    "dd = pd.concat(df_list, axis=1)"
   ]
  },
  {
   "cell_type": "code",
   "execution_count": 199,
   "metadata": {
    "collapsed": true
   },
   "outputs": [],
   "source": [
    "dd.columns=df_columns"
   ]
  },
  {
   "cell_type": "code",
   "execution_count": 200,
   "metadata": {
    "collapsed": false
   },
   "outputs": [
    {
     "data": {
      "text/html": [
       "<div>\n",
       "<table border=\"1\" class=\"dataframe\">\n",
       "  <thead>\n",
       "    <tr style=\"text-align: right;\">\n",
       "      <th></th>\n",
       "      <th>19.07.15</th>\n",
       "      <th>20.07.15</th>\n",
       "      <th>21.07.15</th>\n",
       "      <th>22.07.15</th>\n",
       "      <th>23.07.15</th>\n",
       "      <th>24.07.15</th>\n",
       "      <th>25.07.15</th>\n",
       "      <th>26.07.15</th>\n",
       "      <th>27.07.15</th>\n",
       "      <th>28.07.15</th>\n",
       "      <th>...</th>\n",
       "      <th>10.09.15</th>\n",
       "      <th>11.09.15</th>\n",
       "      <th>12.09.15</th>\n",
       "      <th>13.09.15</th>\n",
       "      <th>14.09.15</th>\n",
       "      <th>15.09.15</th>\n",
       "      <th>16.09.15</th>\n",
       "      <th>17.09.15</th>\n",
       "      <th>18.09.15</th>\n",
       "      <th>19.09.15</th>\n",
       "    </tr>\n",
       "  </thead>\n",
       "  <tbody>\n",
       "    <tr>\n",
       "      <th>00</th>\n",
       "      <td>NaN</td>\n",
       "      <td>1134</td>\n",
       "      <td>1352</td>\n",
       "      <td>1107</td>\n",
       "      <td>1149</td>\n",
       "      <td>1129</td>\n",
       "      <td>1054</td>\n",
       "      <td>1042</td>\n",
       "      <td>1370.0</td>\n",
       "      <td>1308</td>\n",
       "      <td>...</td>\n",
       "      <td>123</td>\n",
       "      <td>146</td>\n",
       "      <td>108</td>\n",
       "      <td>98</td>\n",
       "      <td>45</td>\n",
       "      <td>31</td>\n",
       "      <td>25</td>\n",
       "      <td>20</td>\n",
       "      <td>15</td>\n",
       "      <td>10.0</td>\n",
       "    </tr>\n",
       "    <tr>\n",
       "      <th>01</th>\n",
       "      <td>NaN</td>\n",
       "      <td>1212</td>\n",
       "      <td>1234</td>\n",
       "      <td>1175</td>\n",
       "      <td>1177</td>\n",
       "      <td>1204</td>\n",
       "      <td>1037</td>\n",
       "      <td>1040</td>\n",
       "      <td>1157.0</td>\n",
       "      <td>1313</td>\n",
       "      <td>...</td>\n",
       "      <td>179</td>\n",
       "      <td>154</td>\n",
       "      <td>111</td>\n",
       "      <td>61</td>\n",
       "      <td>45</td>\n",
       "      <td>34</td>\n",
       "      <td>37</td>\n",
       "      <td>22</td>\n",
       "      <td>12</td>\n",
       "      <td>20.0</td>\n",
       "    </tr>\n",
       "    <tr>\n",
       "      <th>02</th>\n",
       "      <td>NaN</td>\n",
       "      <td>1222</td>\n",
       "      <td>1144</td>\n",
       "      <td>1095</td>\n",
       "      <td>966</td>\n",
       "      <td>1160</td>\n",
       "      <td>1073</td>\n",
       "      <td>1045</td>\n",
       "      <td>1259.0</td>\n",
       "      <td>1292</td>\n",
       "      <td>...</td>\n",
       "      <td>169</td>\n",
       "      <td>162</td>\n",
       "      <td>104</td>\n",
       "      <td>88</td>\n",
       "      <td>51</td>\n",
       "      <td>47</td>\n",
       "      <td>39</td>\n",
       "      <td>19</td>\n",
       "      <td>18</td>\n",
       "      <td>22.0</td>\n",
       "    </tr>\n",
       "    <tr>\n",
       "      <th>03</th>\n",
       "      <td>NaN</td>\n",
       "      <td>1233</td>\n",
       "      <td>1399</td>\n",
       "      <td>1299</td>\n",
       "      <td>1216</td>\n",
       "      <td>1207</td>\n",
       "      <td>1079</td>\n",
       "      <td>1181</td>\n",
       "      <td>1404.0</td>\n",
       "      <td>1250</td>\n",
       "      <td>...</td>\n",
       "      <td>191</td>\n",
       "      <td>175</td>\n",
       "      <td>97</td>\n",
       "      <td>95</td>\n",
       "      <td>80</td>\n",
       "      <td>56</td>\n",
       "      <td>36</td>\n",
       "      <td>35</td>\n",
       "      <td>30</td>\n",
       "      <td>17.0</td>\n",
       "    </tr>\n",
       "    <tr>\n",
       "      <th>04</th>\n",
       "      <td>NaN</td>\n",
       "      <td>1277</td>\n",
       "      <td>1239</td>\n",
       "      <td>1197</td>\n",
       "      <td>1211</td>\n",
       "      <td>1311</td>\n",
       "      <td>1186</td>\n",
       "      <td>1205</td>\n",
       "      <td>1429.0</td>\n",
       "      <td>1224</td>\n",
       "      <td>...</td>\n",
       "      <td>203</td>\n",
       "      <td>157</td>\n",
       "      <td>126</td>\n",
       "      <td>90</td>\n",
       "      <td>81</td>\n",
       "      <td>57</td>\n",
       "      <td>46</td>\n",
       "      <td>47</td>\n",
       "      <td>19</td>\n",
       "      <td>23.0</td>\n",
       "    </tr>\n",
       "    <tr>\n",
       "      <th>05</th>\n",
       "      <td>NaN</td>\n",
       "      <td>1230</td>\n",
       "      <td>1356</td>\n",
       "      <td>1213</td>\n",
       "      <td>1265</td>\n",
       "      <td>1361</td>\n",
       "      <td>1237</td>\n",
       "      <td>1223</td>\n",
       "      <td>1518.0</td>\n",
       "      <td>1444</td>\n",
       "      <td>...</td>\n",
       "      <td>159</td>\n",
       "      <td>139</td>\n",
       "      <td>106</td>\n",
       "      <td>87</td>\n",
       "      <td>96</td>\n",
       "      <td>64</td>\n",
       "      <td>50</td>\n",
       "      <td>39</td>\n",
       "      <td>21</td>\n",
       "      <td>18.0</td>\n",
       "    </tr>\n",
       "    <tr>\n",
       "      <th>06</th>\n",
       "      <td>NaN</td>\n",
       "      <td>1216</td>\n",
       "      <td>1298</td>\n",
       "      <td>1150</td>\n",
       "      <td>1324</td>\n",
       "      <td>1183</td>\n",
       "      <td>1249</td>\n",
       "      <td>1161</td>\n",
       "      <td>1477.0</td>\n",
       "      <td>1578</td>\n",
       "      <td>...</td>\n",
       "      <td>181</td>\n",
       "      <td>143</td>\n",
       "      <td>109</td>\n",
       "      <td>99</td>\n",
       "      <td>75</td>\n",
       "      <td>62</td>\n",
       "      <td>40</td>\n",
       "      <td>29</td>\n",
       "      <td>23</td>\n",
       "      <td>12.0</td>\n",
       "    </tr>\n",
       "    <tr>\n",
       "      <th>07</th>\n",
       "      <td>NaN</td>\n",
       "      <td>1306</td>\n",
       "      <td>1327</td>\n",
       "      <td>1328</td>\n",
       "      <td>1219</td>\n",
       "      <td>1379</td>\n",
       "      <td>1245</td>\n",
       "      <td>1165</td>\n",
       "      <td>1572.0</td>\n",
       "      <td>1502</td>\n",
       "      <td>...</td>\n",
       "      <td>179</td>\n",
       "      <td>144</td>\n",
       "      <td>94</td>\n",
       "      <td>90</td>\n",
       "      <td>80</td>\n",
       "      <td>76</td>\n",
       "      <td>60</td>\n",
       "      <td>38</td>\n",
       "      <td>19</td>\n",
       "      <td>5.0</td>\n",
       "    </tr>\n",
       "    <tr>\n",
       "      <th>08</th>\n",
       "      <td>NaN</td>\n",
       "      <td>1339</td>\n",
       "      <td>1183</td>\n",
       "      <td>1178</td>\n",
       "      <td>1197</td>\n",
       "      <td>1294</td>\n",
       "      <td>1096</td>\n",
       "      <td>1186</td>\n",
       "      <td>1434.0</td>\n",
       "      <td>1511</td>\n",
       "      <td>...</td>\n",
       "      <td>151</td>\n",
       "      <td>124</td>\n",
       "      <td>86</td>\n",
       "      <td>88</td>\n",
       "      <td>78</td>\n",
       "      <td>61</td>\n",
       "      <td>39</td>\n",
       "      <td>28</td>\n",
       "      <td>24</td>\n",
       "      <td>5.0</td>\n",
       "    </tr>\n",
       "    <tr>\n",
       "      <th>09</th>\n",
       "      <td>NaN</td>\n",
       "      <td>1228</td>\n",
       "      <td>1289</td>\n",
       "      <td>1186</td>\n",
       "      <td>1242</td>\n",
       "      <td>1344</td>\n",
       "      <td>1247</td>\n",
       "      <td>1236</td>\n",
       "      <td>1470.0</td>\n",
       "      <td>1533</td>\n",
       "      <td>...</td>\n",
       "      <td>161</td>\n",
       "      <td>125</td>\n",
       "      <td>100</td>\n",
       "      <td>86</td>\n",
       "      <td>72</td>\n",
       "      <td>57</td>\n",
       "      <td>46</td>\n",
       "      <td>29</td>\n",
       "      <td>23</td>\n",
       "      <td>NaN</td>\n",
       "    </tr>\n",
       "    <tr>\n",
       "      <th>10</th>\n",
       "      <td>NaN</td>\n",
       "      <td>1347</td>\n",
       "      <td>1487</td>\n",
       "      <td>1285</td>\n",
       "      <td>1077</td>\n",
       "      <td>1185</td>\n",
       "      <td>1338</td>\n",
       "      <td>1117</td>\n",
       "      <td>1169.0</td>\n",
       "      <td>1432</td>\n",
       "      <td>...</td>\n",
       "      <td>160</td>\n",
       "      <td>110</td>\n",
       "      <td>84</td>\n",
       "      <td>78</td>\n",
       "      <td>59</td>\n",
       "      <td>62</td>\n",
       "      <td>34</td>\n",
       "      <td>27</td>\n",
       "      <td>32</td>\n",
       "      <td>NaN</td>\n",
       "    </tr>\n",
       "    <tr>\n",
       "      <th>11</th>\n",
       "      <td>NaN</td>\n",
       "      <td>1487</td>\n",
       "      <td>1533</td>\n",
       "      <td>1402</td>\n",
       "      <td>1210</td>\n",
       "      <td>1356</td>\n",
       "      <td>1094</td>\n",
       "      <td>1262</td>\n",
       "      <td>1494.0</td>\n",
       "      <td>1398</td>\n",
       "      <td>...</td>\n",
       "      <td>140</td>\n",
       "      <td>112</td>\n",
       "      <td>88</td>\n",
       "      <td>81</td>\n",
       "      <td>63</td>\n",
       "      <td>60</td>\n",
       "      <td>37</td>\n",
       "      <td>33</td>\n",
       "      <td>22</td>\n",
       "      <td>NaN</td>\n",
       "    </tr>\n",
       "    <tr>\n",
       "      <th>12</th>\n",
       "      <td>907.0</td>\n",
       "      <td>1445</td>\n",
       "      <td>1336</td>\n",
       "      <td>1521</td>\n",
       "      <td>1122</td>\n",
       "      <td>1208</td>\n",
       "      <td>1285</td>\n",
       "      <td>1189</td>\n",
       "      <td>1396.0</td>\n",
       "      <td>1654</td>\n",
       "      <td>...</td>\n",
       "      <td>178</td>\n",
       "      <td>119</td>\n",
       "      <td>101</td>\n",
       "      <td>84</td>\n",
       "      <td>45</td>\n",
       "      <td>59</td>\n",
       "      <td>35</td>\n",
       "      <td>30</td>\n",
       "      <td>29</td>\n",
       "      <td>NaN</td>\n",
       "    </tr>\n",
       "    <tr>\n",
       "      <th>13</th>\n",
       "      <td>1382.0</td>\n",
       "      <td>1609</td>\n",
       "      <td>1245</td>\n",
       "      <td>1513</td>\n",
       "      <td>1009</td>\n",
       "      <td>1142</td>\n",
       "      <td>1296</td>\n",
       "      <td>1418</td>\n",
       "      <td>1425.0</td>\n",
       "      <td>1554</td>\n",
       "      <td>...</td>\n",
       "      <td>147</td>\n",
       "      <td>125</td>\n",
       "      <td>74</td>\n",
       "      <td>94</td>\n",
       "      <td>63</td>\n",
       "      <td>48</td>\n",
       "      <td>24</td>\n",
       "      <td>29</td>\n",
       "      <td>17</td>\n",
       "      <td>NaN</td>\n",
       "    </tr>\n",
       "    <tr>\n",
       "      <th>14</th>\n",
       "      <td>1393.0</td>\n",
       "      <td>1372</td>\n",
       "      <td>1328</td>\n",
       "      <td>1421</td>\n",
       "      <td>1079</td>\n",
       "      <td>1122</td>\n",
       "      <td>1298</td>\n",
       "      <td>1327</td>\n",
       "      <td>NaN</td>\n",
       "      <td>1467</td>\n",
       "      <td>...</td>\n",
       "      <td>131</td>\n",
       "      <td>132</td>\n",
       "      <td>68</td>\n",
       "      <td>71</td>\n",
       "      <td>55</td>\n",
       "      <td>49</td>\n",
       "      <td>37</td>\n",
       "      <td>29</td>\n",
       "      <td>22</td>\n",
       "      <td>NaN</td>\n",
       "    </tr>\n",
       "    <tr>\n",
       "      <th>15</th>\n",
       "      <td>1423.0</td>\n",
       "      <td>1401</td>\n",
       "      <td>1237</td>\n",
       "      <td>1314</td>\n",
       "      <td>1151</td>\n",
       "      <td>1167</td>\n",
       "      <td>1384</td>\n",
       "      <td>1296</td>\n",
       "      <td>1391.0</td>\n",
       "      <td>1463</td>\n",
       "      <td>...</td>\n",
       "      <td>133</td>\n",
       "      <td>120</td>\n",
       "      <td>65</td>\n",
       "      <td>62</td>\n",
       "      <td>60</td>\n",
       "      <td>32</td>\n",
       "      <td>38</td>\n",
       "      <td>23</td>\n",
       "      <td>18</td>\n",
       "      <td>NaN</td>\n",
       "    </tr>\n",
       "    <tr>\n",
       "      <th>16</th>\n",
       "      <td>1432.0</td>\n",
       "      <td>1283</td>\n",
       "      <td>1269</td>\n",
       "      <td>1356</td>\n",
       "      <td>1116</td>\n",
       "      <td>1044</td>\n",
       "      <td>1251</td>\n",
       "      <td>1214</td>\n",
       "      <td>1457.0</td>\n",
       "      <td>1478</td>\n",
       "      <td>...</td>\n",
       "      <td>172</td>\n",
       "      <td>120</td>\n",
       "      <td>67</td>\n",
       "      <td>61</td>\n",
       "      <td>53</td>\n",
       "      <td>30</td>\n",
       "      <td>34</td>\n",
       "      <td>28</td>\n",
       "      <td>13</td>\n",
       "      <td>NaN</td>\n",
       "    </tr>\n",
       "    <tr>\n",
       "      <th>17</th>\n",
       "      <td>1309.0</td>\n",
       "      <td>1496</td>\n",
       "      <td>1282</td>\n",
       "      <td>1205</td>\n",
       "      <td>1086</td>\n",
       "      <td>1170</td>\n",
       "      <td>1246</td>\n",
       "      <td>1219</td>\n",
       "      <td>1371.0</td>\n",
       "      <td>1372</td>\n",
       "      <td>...</td>\n",
       "      <td>122</td>\n",
       "      <td>122</td>\n",
       "      <td>75</td>\n",
       "      <td>63</td>\n",
       "      <td>71</td>\n",
       "      <td>39</td>\n",
       "      <td>34</td>\n",
       "      <td>20</td>\n",
       "      <td>6</td>\n",
       "      <td>NaN</td>\n",
       "    </tr>\n",
       "    <tr>\n",
       "      <th>18</th>\n",
       "      <td>1317.0</td>\n",
       "      <td>1204</td>\n",
       "      <td>1166</td>\n",
       "      <td>1371</td>\n",
       "      <td>1054</td>\n",
       "      <td>1010</td>\n",
       "      <td>1097</td>\n",
       "      <td>1244</td>\n",
       "      <td>1333.0</td>\n",
       "      <td>1452</td>\n",
       "      <td>...</td>\n",
       "      <td>140</td>\n",
       "      <td>118</td>\n",
       "      <td>90</td>\n",
       "      <td>42</td>\n",
       "      <td>42</td>\n",
       "      <td>22</td>\n",
       "      <td>30</td>\n",
       "      <td>12</td>\n",
       "      <td>17</td>\n",
       "      <td>NaN</td>\n",
       "    </tr>\n",
       "    <tr>\n",
       "      <th>19</th>\n",
       "      <td>1233.0</td>\n",
       "      <td>1274</td>\n",
       "      <td>1199</td>\n",
       "      <td>1172</td>\n",
       "      <td>1284</td>\n",
       "      <td>946</td>\n",
       "      <td>1279</td>\n",
       "      <td>1218</td>\n",
       "      <td>1249.0</td>\n",
       "      <td>1297</td>\n",
       "      <td>...</td>\n",
       "      <td>130</td>\n",
       "      <td>118</td>\n",
       "      <td>79</td>\n",
       "      <td>57</td>\n",
       "      <td>35</td>\n",
       "      <td>37</td>\n",
       "      <td>23</td>\n",
       "      <td>17</td>\n",
       "      <td>17</td>\n",
       "      <td>NaN</td>\n",
       "    </tr>\n",
       "    <tr>\n",
       "      <th>20</th>\n",
       "      <td>1287.0</td>\n",
       "      <td>1263</td>\n",
       "      <td>1126</td>\n",
       "      <td>1216</td>\n",
       "      <td>1001</td>\n",
       "      <td>1086</td>\n",
       "      <td>1192</td>\n",
       "      <td>1232</td>\n",
       "      <td>1414.0</td>\n",
       "      <td>1347</td>\n",
       "      <td>...</td>\n",
       "      <td>150</td>\n",
       "      <td>110</td>\n",
       "      <td>59</td>\n",
       "      <td>68</td>\n",
       "      <td>49</td>\n",
       "      <td>33</td>\n",
       "      <td>29</td>\n",
       "      <td>11</td>\n",
       "      <td>12</td>\n",
       "      <td>NaN</td>\n",
       "    </tr>\n",
       "    <tr>\n",
       "      <th>21</th>\n",
       "      <td>1262.0</td>\n",
       "      <td>1350</td>\n",
       "      <td>1112</td>\n",
       "      <td>1379</td>\n",
       "      <td>1059</td>\n",
       "      <td>1110</td>\n",
       "      <td>1087</td>\n",
       "      <td>1166</td>\n",
       "      <td>1272.0</td>\n",
       "      <td>1499</td>\n",
       "      <td>...</td>\n",
       "      <td>126</td>\n",
       "      <td>114</td>\n",
       "      <td>72</td>\n",
       "      <td>44</td>\n",
       "      <td>48</td>\n",
       "      <td>34</td>\n",
       "      <td>21</td>\n",
       "      <td>16</td>\n",
       "      <td>14</td>\n",
       "      <td>NaN</td>\n",
       "    </tr>\n",
       "    <tr>\n",
       "      <th>22</th>\n",
       "      <td>1192.0</td>\n",
       "      <td>1193</td>\n",
       "      <td>1255</td>\n",
       "      <td>1143</td>\n",
       "      <td>1050</td>\n",
       "      <td>1073</td>\n",
       "      <td>1240</td>\n",
       "      <td>1073</td>\n",
       "      <td>1259.0</td>\n",
       "      <td>1419</td>\n",
       "      <td>...</td>\n",
       "      <td>146</td>\n",
       "      <td>114</td>\n",
       "      <td>62</td>\n",
       "      <td>37</td>\n",
       "      <td>47</td>\n",
       "      <td>30</td>\n",
       "      <td>18</td>\n",
       "      <td>10</td>\n",
       "      <td>15</td>\n",
       "      <td>NaN</td>\n",
       "    </tr>\n",
       "    <tr>\n",
       "      <th>23</th>\n",
       "      <td>1290.0</td>\n",
       "      <td>1275</td>\n",
       "      <td>1135</td>\n",
       "      <td>1016</td>\n",
       "      <td>1130</td>\n",
       "      <td>1064</td>\n",
       "      <td>1122</td>\n",
       "      <td>1182</td>\n",
       "      <td>1227.0</td>\n",
       "      <td>1446</td>\n",
       "      <td>...</td>\n",
       "      <td>142</td>\n",
       "      <td>112</td>\n",
       "      <td>77</td>\n",
       "      <td>55</td>\n",
       "      <td>26</td>\n",
       "      <td>24</td>\n",
       "      <td>18</td>\n",
       "      <td>8</td>\n",
       "      <td>12</td>\n",
       "      <td>NaN</td>\n",
       "    </tr>\n",
       "  </tbody>\n",
       "</table>\n",
       "<p>24 rows × 63 columns</p>\n",
       "</div>"
      ],
      "text/plain": [
       "    19.07.15   20.07.15   21.07.15   22.07.15   23.07.15   24.07.15   \\\n",
       "00        NaN       1134       1352       1107       1149       1129   \n",
       "01        NaN       1212       1234       1175       1177       1204   \n",
       "02        NaN       1222       1144       1095        966       1160   \n",
       "03        NaN       1233       1399       1299       1216       1207   \n",
       "04        NaN       1277       1239       1197       1211       1311   \n",
       "05        NaN       1230       1356       1213       1265       1361   \n",
       "06        NaN       1216       1298       1150       1324       1183   \n",
       "07        NaN       1306       1327       1328       1219       1379   \n",
       "08        NaN       1339       1183       1178       1197       1294   \n",
       "09        NaN       1228       1289       1186       1242       1344   \n",
       "10        NaN       1347       1487       1285       1077       1185   \n",
       "11        NaN       1487       1533       1402       1210       1356   \n",
       "12      907.0       1445       1336       1521       1122       1208   \n",
       "13     1382.0       1609       1245       1513       1009       1142   \n",
       "14     1393.0       1372       1328       1421       1079       1122   \n",
       "15     1423.0       1401       1237       1314       1151       1167   \n",
       "16     1432.0       1283       1269       1356       1116       1044   \n",
       "17     1309.0       1496       1282       1205       1086       1170   \n",
       "18     1317.0       1204       1166       1371       1054       1010   \n",
       "19     1233.0       1274       1199       1172       1284        946   \n",
       "20     1287.0       1263       1126       1216       1001       1086   \n",
       "21     1262.0       1350       1112       1379       1059       1110   \n",
       "22     1192.0       1193       1255       1143       1050       1073   \n",
       "23     1290.0       1275       1135       1016       1130       1064   \n",
       "\n",
       "    25.07.15   26.07.15   27.07.15   28.07.15     ...      10.09.15   \\\n",
       "00       1054       1042     1370.0       1308    ...            123   \n",
       "01       1037       1040     1157.0       1313    ...            179   \n",
       "02       1073       1045     1259.0       1292    ...            169   \n",
       "03       1079       1181     1404.0       1250    ...            191   \n",
       "04       1186       1205     1429.0       1224    ...            203   \n",
       "05       1237       1223     1518.0       1444    ...            159   \n",
       "06       1249       1161     1477.0       1578    ...            181   \n",
       "07       1245       1165     1572.0       1502    ...            179   \n",
       "08       1096       1186     1434.0       1511    ...            151   \n",
       "09       1247       1236     1470.0       1533    ...            161   \n",
       "10       1338       1117     1169.0       1432    ...            160   \n",
       "11       1094       1262     1494.0       1398    ...            140   \n",
       "12       1285       1189     1396.0       1654    ...            178   \n",
       "13       1296       1418     1425.0       1554    ...            147   \n",
       "14       1298       1327        NaN       1467    ...            131   \n",
       "15       1384       1296     1391.0       1463    ...            133   \n",
       "16       1251       1214     1457.0       1478    ...            172   \n",
       "17       1246       1219     1371.0       1372    ...            122   \n",
       "18       1097       1244     1333.0       1452    ...            140   \n",
       "19       1279       1218     1249.0       1297    ...            130   \n",
       "20       1192       1232     1414.0       1347    ...            150   \n",
       "21       1087       1166     1272.0       1499    ...            126   \n",
       "22       1240       1073     1259.0       1419    ...            146   \n",
       "23       1122       1182     1227.0       1446    ...            142   \n",
       "\n",
       "    11.09.15   12.09.15   13.09.15   14.09.15   15.09.15   16.09.15   \\\n",
       "00        146        108         98         45         31         25   \n",
       "01        154        111         61         45         34         37   \n",
       "02        162        104         88         51         47         39   \n",
       "03        175         97         95         80         56         36   \n",
       "04        157        126         90         81         57         46   \n",
       "05        139        106         87         96         64         50   \n",
       "06        143        109         99         75         62         40   \n",
       "07        144         94         90         80         76         60   \n",
       "08        124         86         88         78         61         39   \n",
       "09        125        100         86         72         57         46   \n",
       "10        110         84         78         59         62         34   \n",
       "11        112         88         81         63         60         37   \n",
       "12        119        101         84         45         59         35   \n",
       "13        125         74         94         63         48         24   \n",
       "14        132         68         71         55         49         37   \n",
       "15        120         65         62         60         32         38   \n",
       "16        120         67         61         53         30         34   \n",
       "17        122         75         63         71         39         34   \n",
       "18        118         90         42         42         22         30   \n",
       "19        118         79         57         35         37         23   \n",
       "20        110         59         68         49         33         29   \n",
       "21        114         72         44         48         34         21   \n",
       "22        114         62         37         47         30         18   \n",
       "23        112         77         55         26         24         18   \n",
       "\n",
       "    17.09.15   18.09.15   19.09.15   \n",
       "00         20         15       10.0  \n",
       "01         22         12       20.0  \n",
       "02         19         18       22.0  \n",
       "03         35         30       17.0  \n",
       "04         47         19       23.0  \n",
       "05         39         21       18.0  \n",
       "06         29         23       12.0  \n",
       "07         38         19        5.0  \n",
       "08         28         24        5.0  \n",
       "09         29         23        NaN  \n",
       "10         27         32        NaN  \n",
       "11         33         22        NaN  \n",
       "12         30         29        NaN  \n",
       "13         29         17        NaN  \n",
       "14         29         22        NaN  \n",
       "15         23         18        NaN  \n",
       "16         28         13        NaN  \n",
       "17         20          6        NaN  \n",
       "18         12         17        NaN  \n",
       "19         17         17        NaN  \n",
       "20         11         12        NaN  \n",
       "21         16         14        NaN  \n",
       "22         10         15        NaN  \n",
       "23          8         12        NaN  \n",
       "\n",
       "[24 rows x 63 columns]"
      ]
     },
     "execution_count": 200,
     "metadata": {},
     "output_type": "execute_result"
    }
   ],
   "source": [
    "dd"
   ]
  },
  {
   "cell_type": "code",
   "execution_count": 201,
   "metadata": {
    "collapsed": false
   },
   "outputs": [
    {
     "data": {
      "text/plain": [
       "<matplotlib.text.Text at 0x11b73f4a8>"
      ]
     },
     "execution_count": 201,
     "metadata": {},
     "output_type": "execute_result"
    },
    {
     "data": {
      "image/png": "[encoded data removed]",
      "text/plain": [
       "<matplotlib.figure.Figure at 0x11928bb38>"
      ]
     },
     "metadata": {},
     "output_type": "display_data"
    }
   ],
   "source": [
    "g = sns.heatmap(dd.transpose(), cmap=\"YlGnBu\")\n",
    "g.figure.set_size_inches(12,16)\n",
    "g.set_title(\"Number of Bees per Hour 2016\")\n",
    "g.set_xlabel(\"Hours\")\n",
    "g.set_ylabel(\"Days\")"
   ]
  },
  {
   "cell_type": "code",
   "execution_count": null,
   "metadata": {
    "collapsed": true
   },
   "outputs": [],
   "source": []
  }
 ],
 "metadata": {
  "anaconda-cloud": {},
  "kernelspec": {
   "display_name": "Python 3",
   "language": "python",
   "name": "python3"
  },
  "language_info": {
   "codemirror_mode": {
    "name": "ipython",
    "version": 3
   },
   "file_extension": ".py",
   "mimetype": "text/x-python",
   "name": "python",
   "nbconvert_exporter": "python",
   "pygments_lexer": "ipython3",
   "version": "3.5.2"
  },
  "toc": {
   "colors": {
    "hover_highlight": "#DAA520",
    "running_highlight": "#FF0000",
    "selected_highlight": "#FFD700"
   },
   "moveMenuLeft": true,
   "nav_menu": {
    "height": "120px",
    "width": "252px"
   },
   "navigate_menu": true,
   "number_sections": true,
   "sideBar": true,
   "threshold": 4,
   "toc_cell": false,
   "toc_section_display": "block",
   "toc_window_display": false
  }
 },
 "nbformat": 4,
 "nbformat_minor": 2
}
