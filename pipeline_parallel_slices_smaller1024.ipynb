{
 "cells": [
  {
   "cell_type": "code",
   "execution_count": 21,
   "metadata": {
    "collapsed": false
   },
   "outputs": [
    {
     "name": "stdout",
     "output_type": "stream",
     "text": [
      "The autoreload extension is already loaded. To reload it, use:\n",
      "  %reload_ext autoreload\n"
     ]
    }
   ],
   "source": [
    "%load_ext autoreload\n",
    "%autoreload 2"
   ]
  },
  {
   "cell_type": "code",
   "execution_count": 22,
   "metadata": {
    "collapsed": true
   },
   "outputs": [],
   "source": [
    "import multiprocessing\n",
    "from multiprocessing import Pool\n",
    "from bb_binary import FrameContainer, Repository, load_frame_container\n",
    "import pandas as pd\n",
    "import numpy as np\n",
    "from collections import namedtuple \n",
    "import networkx as nx\n",
    "\n",
    "from pandas import DataFrame, Series\n",
    "\n",
    "import bib.preprocessing as prep"
   ]
  },
  {
   "cell_type": "markdown",
   "metadata": {},
   "source": [
    "# For a given folder, create some networks with a window size\n",
    "(2^x frames < 1024)"
   ]
  },
  {
   "cell_type": "code",
   "execution_count": 23,
   "metadata": {
    "collapsed": true
   },
   "outputs": [],
   "source": [
    "#path = \"00_Data/testset_2015_20m/2015082215/\"\n",
    "path = \"../data/1h/2015082215/\""
   ]
  },
  {
   "cell_type": "code",
   "execution_count": 24,
   "metadata": {
    "collapsed": true
   },
   "outputs": [],
   "source": [
    "ilen = 3\n",
    "distance = 160\n",
    "confidence = .95\n",
    "window_size = 2**8 #256 # 4 netzwerke pro datei #~85 Sekunden"
   ]
  },
  {
   "cell_type": "code",
   "execution_count": 25,
   "metadata": {
    "collapsed": true
   },
   "outputs": [],
   "source": [
    "# packt immer die 4 Kameradateien zusammen\n",
    "def get_files(path):\n",
    "    repo = Repository(path)\n",
    "    file = list(repo.iter_fnames())\n",
    "    a = [f.split('/')[-1].split(\"_\")[1] for f in file]\n",
    "    l = len(a)/4\n",
    "    npa = np.array(file).reshape(int(l),4)\n",
    "    return npa"
   ]
  },
  {
   "cell_type": "code",
   "execution_count": 26,
   "metadata": {
    "collapsed": true
   },
   "outputs": [],
   "source": [
    "files = get_files(path)"
   ]
  },
  {
   "cell_type": "code",
   "execution_count": 27,
   "metadata": {
    "collapsed": false
   },
   "outputs": [],
   "source": [
    "number_cpu = 4\n",
    "# multiprocessing.cpu_count()"
   ]
  },
  {
   "cell_type": "code",
   "execution_count": 28,
   "metadata": {
    "collapsed": true
   },
   "outputs": [],
   "source": [
    "pool = multiprocessing.Pool( number_cpu )"
   ]
  },
  {
   "cell_type": "code",
   "execution_count": 29,
   "metadata": {
    "collapsed": true
   },
   "outputs": [],
   "source": [
    "tasks = []\n",
    "\n",
    "for e, f in enumerate(files[:2]):\n",
    "    tasks.append((e, f, confidence, distance, ilen, window_size))"
   ]
  },
  {
   "cell_type": "code",
   "execution_count": 30,
   "metadata": {
    "collapsed": false
   },
   "outputs": [
    {
     "data": {
      "text/plain": [
       "2"
      ]
     },
     "execution_count": 30,
     "metadata": {},
     "output_type": "execute_result"
    }
   ],
   "source": [
    "len(tasks)"
   ]
  },
  {
   "cell_type": "code",
   "execution_count": 31,
   "metadata": {
    "collapsed": false
   },
   "outputs": [
    {
     "data": {
      "text/plain": [
       "[(0,\n",
       "  array([ '/home/mi/aschle/workspace/data/1h/2015082215/2015/08/22/15/00/Cam_3_2015-08-22T15:04:01.415537Z--2015-08-22T15:09:42.430042Z.bbb',\n",
       "         '/home/mi/aschle/workspace/data/1h/2015082215/2015/08/22/15/00/Cam_0_2015-08-22T15:04:02.986627Z--2015-08-22T15:09:44.012132Z.bbb',\n",
       "         '/home/mi/aschle/workspace/data/1h/2015082215/2015/08/22/15/00/Cam_2_2015-08-22T15:04:03.113634Z--2015-08-22T15:09:44.128139Z.bbb',\n",
       "         '/home/mi/aschle/workspace/data/1h/2015082215/2015/08/22/15/00/Cam_1_2015-08-22T15:04:26.298959Z--2015-08-22T15:10:07.314465Z.bbb'], \n",
       "        dtype='<U128'),\n",
       "  0.95,\n",
       "  160,\n",
       "  3,\n",
       "  256),\n",
       " (1,\n",
       "  array([ '/home/mi/aschle/workspace/data/1h/2015082215/2015/08/22/15/00/Cam_3_2015-08-22T15:09:42.763061Z--2015-08-22T15:15:23.777565Z.bbb',\n",
       "         '/home/mi/aschle/workspace/data/1h/2015082215/2015/08/22/15/00/Cam_0_2015-08-22T15:09:44.345151Z--2015-08-22T15:15:25.360656Z.bbb',\n",
       "         '/home/mi/aschle/workspace/data/1h/2015082215/2015/08/22/15/00/Cam_2_2015-08-22T15:09:44.461158Z--2015-08-22T15:15:25.476663Z.bbb',\n",
       "         '/home/mi/aschle/workspace/data/1h/2015082215/2015/08/22/15/00/Cam_1_2015-08-22T15:10:07.647484Z--2015-08-22T15:15:48.662988Z.bbb'], \n",
       "        dtype='<U128'),\n",
       "  0.95,\n",
       "  160,\n",
       "  3,\n",
       "  256)]"
      ]
     },
     "execution_count": 31,
     "metadata": {},
     "output_type": "execute_result"
    }
   ],
   "source": [
    "tasks"
   ]
  },
  {
   "cell_type": "code",
   "execution_count": 32,
   "metadata": {
    "collapsed": true
   },
   "outputs": [],
   "source": [
    "def generate_networks(index, file_list, confidence=.95, distance=160, ilen=3, window_size=256):\n",
    "    print(\"process {}\".format(index))\n",
    "    \n",
    "    xmax = 3000\n",
    "    \n",
    "    # list of networks\n",
    "    network_list = []\n",
    "    \n",
    "    # one df per cam\n",
    "    dataframes = np.empty(4, dtype=object)\n",
    "\n",
    "    for i in list(range(4)):\n",
    "        fc = load_frame_container(file_list[i])\n",
    "        df = prep.get_dataframe2(fc)\n",
    "        df = prep.calcIds(df,confidence)\n",
    "\n",
    "        camIdx = int(file_list[i].split(\"/\")[-1].split(\"_\")[1])\n",
    "        dataframes[camIdx] = df\n",
    "\n",
    "    # cam 0 und cam1 nach rechts verschieben\n",
    "    dataframes[0].xpos = dataframes[0].xpos + xmax\n",
    "    dataframes[1].xpos = dataframes[1].xpos + xmax\n",
    "\n",
    "    # Seiten zusammenfugen\n",
    "    side0 = pd.concat([dataframes[3], dataframes[0]])\n",
    "    side1 = pd.concat([dataframes[2], dataframes[1]])\n",
    "\n",
    "    close1 = prep.get_close_bees_ckd(side0, distance)\n",
    "    close2 = prep.get_close_bees_ckd(side1, distance)\n",
    "\n",
    "    close = pd.concat([close1,close2])\n",
    "\n",
    "    p = prep.bee_pairs_to_timeseries(close)\n",
    "    \n",
    "    for w in list(range(1024/window_size)): \n",
    "        part = p.ix[:,window_size*w:window_size*(w+1)]\n",
    "        edges = prep.extract_interactions(part,ilen)\n",
    "        g = prep.create_graph2(edges)\n",
    "        network_list.append(((index*1024)+(w*window_size),g))\n",
    "    \n",
    "    return network_list"
   ]
  },
  {
   "cell_type": "code",
   "execution_count": 33,
   "metadata": {
    "collapsed": true
   },
   "outputs": [],
   "source": [
    "networks = []"
   ]
  },
  {
   "cell_type": "code",
   "execution_count": 34,
   "metadata": {
    "collapsed": false
   },
   "outputs": [],
   "source": [
    "results = [pool.apply_async( generate_networks, t, callback=networks.extend ) for t in tasks]"
   ]
  },
  {
   "cell_type": "code",
   "execution_count": 35,
   "metadata": {
    "collapsed": false
   },
   "outputs": [
    {
     "data": {
      "text/plain": [
       "0"
      ]
     },
     "execution_count": 35,
     "metadata": {},
     "output_type": "execute_result"
    }
   ],
   "source": [
    "len(networks)"
   ]
  },
  {
   "cell_type": "code",
   "execution_count": null,
   "metadata": {
    "collapsed": true
   },
   "outputs": [],
   "source": []
  }
 ],
 "metadata": {
  "anaconda-cloud": {},
  "kernelspec": {
   "display_name": "Python [default]",
   "language": "python",
   "name": "python3"
  },
  "language_info": {
   "codemirror_mode": {
    "name": "ipython",
    "version": 3
   },
   "file_extension": ".py",
   "mimetype": "text/x-python",
   "name": "python",
   "nbconvert_exporter": "python",
   "pygments_lexer": "ipython3",
   "version": "3.5.2"
  }
 },
 "nbformat": 4,
 "nbformat_minor": 1
}
