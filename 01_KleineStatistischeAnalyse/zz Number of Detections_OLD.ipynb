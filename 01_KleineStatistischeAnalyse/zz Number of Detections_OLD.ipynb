{
 "cells": [
  {
   "cell_type": "code",
   "execution_count": 2,
   "metadata": {
    "collapsed": true
   },
   "outputs": [],
   "source": [
    "import pandas as pd\n",
    "import numpy as np\n",
    "import seaborn as sns \n",
    "\n",
    "from numpy.random import randn\n",
    "\n",
    "from pandas import DataFrame, Series\n",
    "\n",
    "from bb_binary import Repository, convert_frame_to_numpy\n",
    "\n",
    "# Import the stats librayr from numpy\n",
    "from scipy import stats\n",
    "\n",
    "# These are the plotting modules adn libraries we'll use:\n",
    "import matplotlib as mpl\n",
    "import matplotlib.pyplot as plt\n",
    "import seaborn as sns\n",
    "\n",
    "# Command so that plots appear in the iPython Notebook\n",
    "%matplotlib inline"
   ]
  },
  {
   "cell_type": "code",
   "execution_count": 3,
   "metadata": {
    "collapsed": false
   },
   "outputs": [],
   "source": [
    "repo = Repository('../00_Data/testset_2015_1h/2015082215')"
   ]
  },
  {
   "cell_type": "code",
   "execution_count": 5,
   "metadata": {
    "collapsed": true
   },
   "outputs": [],
   "source": [
    "camID = None"
   ]
  },
  {
   "cell_type": "code",
   "execution_count": 6,
   "metadata": {
    "collapsed": false
   },
   "outputs": [
    {
     "data": {
      "text/plain": [
       "56"
      ]
     },
     "execution_count": 6,
     "metadata": {},
     "output_type": "execute_result"
    }
   ],
   "source": [
    "len(list(repo.iter_fnames(cam=camID)))"
   ]
  },
  {
   "cell_type": "code",
   "execution_count": 7,
   "metadata": {
    "collapsed": false
   },
   "outputs": [],
   "source": [
    "frames = list(repo.iter_frames(cam=camID))"
   ]
  },
  {
   "cell_type": "code",
   "execution_count": 8,
   "metadata": {
    "collapsed": false
   },
   "outputs": [
    {
     "data": {
      "text/plain": [
       "57344"
      ]
     },
     "execution_count": 8,
     "metadata": {},
     "output_type": "execute_result"
    }
   ],
   "source": [
    "len(frames)"
   ]
  },
  {
   "cell_type": "code",
   "execution_count": 9,
   "metadata": {
    "collapsed": true
   },
   "outputs": [],
   "source": [
    "f = frames[1023]"
   ]
  },
  {
   "cell_type": "code",
   "execution_count": 10,
   "metadata": {
    "collapsed": false
   },
   "outputs": [
    {
     "data": {
      "text/plain": [
       "2"
      ]
     },
     "execution_count": 10,
     "metadata": {},
     "output_type": "execute_result"
    }
   ],
   "source": [
    "len(f)"
   ]
  },
  {
   "cell_type": "code",
   "execution_count": 11,
   "metadata": {
    "collapsed": false
   },
   "outputs": [],
   "source": [
    "frame = f[0]\n",
    "frameContainer = f[1]"
   ]
  },
  {
   "cell_type": "markdown",
   "metadata": {},
   "source": [
    "## Frame attributes\n",
    "```\n",
    "id @0 :UInt64;                 # global unique id of the frame\n",
    "dataSourceIdx @1:UInt32;       # the frame is from this data source\n",
    "frameIdx @6 :UInt32;           # sequential increasing index for every data source.\n",
    "timestamp @2 :Float64;         # unix time stamp of the frame\n",
    "timedelta @3 :UInt32;          # time difference between this frame and the frame before in microseconds\n",
    "```"
   ]
  },
  {
   "cell_type": "code",
   "execution_count": 12,
   "metadata": {
    "collapsed": false
   },
   "outputs": [
    {
     "name": "stdout",
     "output_type": "stream",
     "text": [
      "id: 0\n",
      "dataSourceIdx: 0\n",
      "frameIdx: 1023\n",
      "timestamp: 1444057348.485803\n",
      "timedelta: 0\n",
      "len detection: 29\n"
     ]
    }
   ],
   "source": [
    "print(\"id: {}\".format(frame.id))\n",
    "print(\"dataSourceIdx: {}\".format(frame.dataSourceIdx))\n",
    "print(\"frameIdx: {}\".format(frame.frameIdx))\n",
    "print(\"timestamp: {}\".format(frame.timestamp))\n",
    "print(\"timedelta: {}\".format(frame.timedelta))\n",
    "print(\"len detection: {}\".format(len(frame.detectionsUnion.detectionsDP)))\n"
   ]
  },
  {
   "cell_type": "markdown",
   "metadata": {},
   "source": [
    "## Frame Container attributes\n",
    "```\n",
    "  id @0 :UInt64;                    # global unique id of the frame container\n",
    "  dataSources @1:List(DataSource);  # list of data sources (videos / images)\n",
    "  fromTimestamp @2 :Float64;        # unix timestamp of the first frame\n",
    "  toTimestamp @3 :Float64;          # unix timestamp of the last frame\n",
    "  frames @4 :List(Frame);           # frames must be sorted by in the order they where recorded.\n",
    "  camId @5 :UInt16;                 # the cam number\n",
    "  hiveId @6 :UInt16;                # the id of the hive\n",
    "  transformationMatrix @7 :List(Float32);\n",
    "```"
   ]
  },
  {
   "cell_type": "code",
   "execution_count": 13,
   "metadata": {
    "collapsed": false
   },
   "outputs": [
    {
     "name": "stdout",
     "output_type": "stream",
     "text": [
      "id: 17415910220773240986\n",
      "len dataSources: 1\n",
      "dataSources: [ ( idx = 0,\n",
      "    filename = \"Cam_3_20151005165647_469298_TO_Cam_3_20151005170228_485803.mkv\" ) ]\n",
      "fromTimestamp: 1444057007.469298\n",
      "toTimestamp: 1444057348.485803\n",
      "len frames: 1024\n",
      "camId: 3\n",
      "hiveId: 0\n",
      "transformationMatrix: []\n"
     ]
    }
   ],
   "source": [
    "print(\"id: {}\".format(frameContainer.id))\n",
    "print(\"len dataSources: {}\".format(len(frameContainer.dataSources)))\n",
    "print(\"dataSources: {}\".format(frameContainer.dataSources))\n",
    "print(\"fromTimestamp: {}\".format(frameContainer.fromTimestamp))\n",
    "print(\"toTimestamp: {}\".format(frameContainer.toTimestamp))\n",
    "print(\"len frames: {}\".format(len(frameContainer.frames)))\n",
    "print(\"camId: {}\".format(frameContainer.camId))\n",
    "print(\"hiveId: {}\".format(frameContainer.hiveId))\n",
    "print(\"transformationMatrix: {}\".format(frameContainer.transformationMatrix))"
   ]
  },
  {
   "cell_type": "markdown",
   "metadata": {},
   "source": [
    "```\n",
    "0    13267605695333194752\n",
    "1    13267605695333194752\n",
    "2    13267605695333194752\n",
    "...\n",
    "1023 13267605695333194752\n",
    "\n",
    "1024 13331998411278232559\n",
    "...\n",
    "2047 13331998411278232559\n",
    "\n",
    "2048 9471591813396092983\n",
    "```"
   ]
  },
  {
   "cell_type": "code",
   "execution_count": 14,
   "metadata": {
    "collapsed": false
   },
   "outputs": [],
   "source": [
    "frame_list = []\n",
    "for f,c in frames:\n",
    "    frame_list.append({'f_idx': f.frameIdx,\n",
    "                       'f_timestamp': f.timestamp,\n",
    "                       'f_detections': len(f.detectionsUnion.detectionsDP),\n",
    "                       'c_id': c.id,\n",
    "                       'c_cam_id': c.camId\n",
    "                       } )"
   ]
  },
  {
   "cell_type": "code",
   "execution_count": 15,
   "metadata": {
    "collapsed": false
   },
   "outputs": [],
   "source": [
    "df = DataFrame(frame_list)"
   ]
  },
  {
   "cell_type": "code",
   "execution_count": 14,
   "metadata": {
    "collapsed": false
   },
   "outputs": [],
   "source": [
    "# df.describe()"
   ]
  },
  {
   "cell_type": "markdown",
   "metadata": {
    "collapsed": true
   },
   "source": [
    "## Number of Detections per Frame"
   ]
  },
  {
   "cell_type": "code",
   "execution_count": 16,
   "metadata": {
    "collapsed": false
   },
   "outputs": [
    {
     "data": {
      "text/plain": [
       "c_cam_id        57344\n",
       "c_id            57344\n",
       "f_detections    57344\n",
       "f_idx           57344\n",
       "f_timestamp     57344\n",
       "dtype: int64"
      ]
     },
     "execution_count": 16,
     "metadata": {},
     "output_type": "execute_result"
    }
   ],
   "source": [
    "df.count()"
   ]
  },
  {
   "cell_type": "code",
   "execution_count": 17,
   "metadata": {
    "collapsed": false
   },
   "outputs": [
    {
     "data": {
      "text/plain": [
       "(57344, 5)"
      ]
     },
     "execution_count": 17,
     "metadata": {},
     "output_type": "execute_result"
    }
   ],
   "source": [
    "df.shape"
   ]
  },
  {
   "cell_type": "code",
   "execution_count": 18,
   "metadata": {
    "collapsed": false
   },
   "outputs": [],
   "source": [
    "subset = df[:2048]"
   ]
  },
  {
   "cell_type": "code",
   "execution_count": 19,
   "metadata": {
    "collapsed": false
   },
   "outputs": [
    {
     "data": {
      "text/plain": [
       "Index(['c_cam_id', 'c_id', 'f_detections', 'f_idx', 'f_timestamp'], dtype='object')"
      ]
     },
     "execution_count": 19,
     "metadata": {},
     "output_type": "execute_result"
    }
   ],
   "source": [
    "subset.columns"
   ]
  },
  {
   "cell_type": "code",
   "execution_count": 20,
   "metadata": {
    "collapsed": false
   },
   "outputs": [
    {
     "data": {
      "text/html": [
       "<div>\n",
       "<table border=\"1\" class=\"dataframe\">\n",
       "  <thead>\n",
       "    <tr style=\"text-align: right;\">\n",
       "      <th></th>\n",
       "      <th>c_cam_id</th>\n",
       "      <th>c_id</th>\n",
       "      <th>f_detections</th>\n",
       "      <th>f_idx</th>\n",
       "      <th>f_timestamp</th>\n",
       "    </tr>\n",
       "  </thead>\n",
       "  <tbody>\n",
       "    <tr>\n",
       "      <th>0</th>\n",
       "      <td>3</td>\n",
       "      <td>17415910220773240986</td>\n",
       "      <td>23</td>\n",
       "      <td>0</td>\n",
       "      <td>1.444057e+09</td>\n",
       "    </tr>\n",
       "    <tr>\n",
       "      <th>1023</th>\n",
       "      <td>3</td>\n",
       "      <td>17415910220773240986</td>\n",
       "      <td>29</td>\n",
       "      <td>1023</td>\n",
       "      <td>1.444057e+09</td>\n",
       "    </tr>\n",
       "    <tr>\n",
       "      <th>1024</th>\n",
       "      <td>1</td>\n",
       "      <td>10134891941190964816</td>\n",
       "      <td>62</td>\n",
       "      <td>0</td>\n",
       "      <td>1.444057e+09</td>\n",
       "    </tr>\n",
       "  </tbody>\n",
       "</table>\n",
       "</div>"
      ],
      "text/plain": [
       "      c_cam_id                  c_id  f_detections  f_idx   f_timestamp\n",
       "0            3  17415910220773240986            23      0  1.444057e+09\n",
       "1023         3  17415910220773240986            29   1023  1.444057e+09\n",
       "1024         1  10134891941190964816            62      0  1.444057e+09"
      ]
     },
     "execution_count": 20,
     "metadata": {},
     "output_type": "execute_result"
    }
   ],
   "source": [
    "subset.ix[[0,1023,1024]]"
   ]
  },
  {
   "cell_type": "code",
   "execution_count": 21,
   "metadata": {
    "collapsed": false
   },
   "outputs": [
    {
     "data": {
      "text/plain": [
       "68.273371684551236"
      ]
     },
     "execution_count": 21,
     "metadata": {},
     "output_type": "execute_result"
    }
   ],
   "source": [
    "span = df.f_timestamp.max() - df.f_timestamp.min()\n",
    "span/60"
   ]
  },
  {
   "cell_type": "code",
   "execution_count": 22,
   "metadata": {
    "collapsed": false
   },
   "outputs": [
    {
     "data": {
      "image/png": "[encoded data removed]",
      "text/plain": [
       "<matplotlib.figure.Figure at 0x1154f92e8>"
      ]
     },
     "metadata": {},
     "output_type": "display_data"
    }
   ],
   "source": [
    "for i in range(4):\n",
    "        dataset1 = df[df.c_cam_id == i].f_detections\n",
    "\n",
    "        #Plot a histogram of the dataset, note bins=10 by default\n",
    "        plt.hist(dataset1, alpha=0.7, bins=15)"
   ]
  },
  {
   "cell_type": "code",
   "execution_count": 24,
   "metadata": {
    "collapsed": false
   },
   "outputs": [
    {
     "data": {
      "image/png": "[encoded data removed]",
      "text/plain": [
       "<matplotlib.figure.Figure at 0x115f9dac8>"
      ]
     },
     "metadata": {},
     "output_type": "display_data"
    }
   ],
   "source": [
    "ax = sns.countplot(x='f_detections', data=df[df.c_cam_id == 1])"
   ]
  },
  {
   "cell_type": "code",
   "execution_count": 25,
   "metadata": {
    "collapsed": false
   },
   "outputs": [
    {
     "name": "stderr",
     "output_type": "stream",
     "text": [
      "/usr/local/lib/python3.5/site-packages/ipykernel/__main__.py:3: SettingWithCopyWarning: \n",
      "A value is trying to be set on a copy of a slice from a DataFrame.\n",
      "Try using .loc[row_indexer,col_indexer] = value instead\n",
      "\n",
      "See the caveats in the documentation: http://pandas.pydata.org/pandas-docs/stable/indexing.html#indexing-view-versus-copy\n",
      "  app.launch_new_instance()\n"
     ]
    },
    {
     "data": {
      "text/html": [
       "<div>\n",
       "<table border=\"1\" class=\"dataframe\">\n",
       "  <thead>\n",
       "    <tr style=\"text-align: right;\">\n",
       "      <th></th>\n",
       "      <th>c_cam_id</th>\n",
       "      <th>c_id</th>\n",
       "      <th>f_detections</th>\n",
       "      <th>f_idx</th>\n",
       "      <th>f_timestamp</th>\n",
       "      <th>col</th>\n",
       "    </tr>\n",
       "  </thead>\n",
       "  <tbody>\n",
       "    <tr>\n",
       "      <th>0</th>\n",
       "      <td>3</td>\n",
       "      <td>17415910220773240986</td>\n",
       "      <td>23</td>\n",
       "      <td>0</td>\n",
       "      <td>1.444057e+09</td>\n",
       "      <td>0</td>\n",
       "    </tr>\n",
       "    <tr>\n",
       "      <th>1</th>\n",
       "      <td>3</td>\n",
       "      <td>17415910220773240986</td>\n",
       "      <td>22</td>\n",
       "      <td>1</td>\n",
       "      <td>1.444057e+09</td>\n",
       "      <td>1</td>\n",
       "    </tr>\n",
       "    <tr>\n",
       "      <th>2</th>\n",
       "      <td>3</td>\n",
       "      <td>17415910220773240986</td>\n",
       "      <td>23</td>\n",
       "      <td>2</td>\n",
       "      <td>1.444057e+09</td>\n",
       "      <td>2</td>\n",
       "    </tr>\n",
       "    <tr>\n",
       "      <th>3</th>\n",
       "      <td>3</td>\n",
       "      <td>17415910220773240986</td>\n",
       "      <td>23</td>\n",
       "      <td>3</td>\n",
       "      <td>1.444057e+09</td>\n",
       "      <td>3</td>\n",
       "    </tr>\n",
       "    <tr>\n",
       "      <th>4</th>\n",
       "      <td>3</td>\n",
       "      <td>17415910220773240986</td>\n",
       "      <td>22</td>\n",
       "      <td>4</td>\n",
       "      <td>1.444057e+09</td>\n",
       "      <td>4</td>\n",
       "    </tr>\n",
       "  </tbody>\n",
       "</table>\n",
       "</div>"
      ],
      "text/plain": [
       "   c_cam_id                  c_id  f_detections  f_idx   f_timestamp  col\n",
       "0         3  17415910220773240986            23      0  1.444057e+09    0\n",
       "1         3  17415910220773240986            22      1  1.444057e+09    1\n",
       "2         3  17415910220773240986            23      2  1.444057e+09    2\n",
       "3         3  17415910220773240986            23      3  1.444057e+09    3\n",
       "4         3  17415910220773240986            22      4  1.444057e+09    4"
      ]
     },
     "execution_count": 25,
     "metadata": {},
     "output_type": "execute_result"
    }
   ],
   "source": [
    "cam = df[df.c_cam_id == 3]\n",
    "arr = list(range(len(cam)))\n",
    "cam['col'] = arr\n",
    "cam.head()"
   ]
  },
  {
   "cell_type": "code",
   "execution_count": 53,
   "metadata": {
    "collapsed": false
   },
   "outputs": [
    {
     "data": {
      "text/html": [
       "<div>\n",
       "<table border=\"1\" class=\"dataframe\">\n",
       "  <thead>\n",
       "    <tr style=\"text-align: right;\">\n",
       "      <th></th>\n",
       "      <th>c_cam_id</th>\n",
       "      <th>c_id</th>\n",
       "      <th>f_detections</th>\n",
       "      <th>f_idx</th>\n",
       "      <th>f_timestamp</th>\n",
       "      <th>col</th>\n",
       "    </tr>\n",
       "    <tr>\n",
       "      <th>col</th>\n",
       "      <th></th>\n",
       "      <th></th>\n",
       "      <th></th>\n",
       "      <th></th>\n",
       "      <th></th>\n",
       "      <th></th>\n",
       "    </tr>\n",
       "  </thead>\n",
       "  <tbody>\n",
       "    <tr>\n",
       "      <th>0</th>\n",
       "      <td>3</td>\n",
       "      <td>16645562255532878167</td>\n",
       "      <td>53</td>\n",
       "      <td>0</td>\n",
       "      <td>1.442275e+09</td>\n",
       "      <td>0</td>\n",
       "    </tr>\n",
       "    <tr>\n",
       "      <th>1</th>\n",
       "      <td>3</td>\n",
       "      <td>16645562255532878167</td>\n",
       "      <td>54</td>\n",
       "      <td>1</td>\n",
       "      <td>1.442275e+09</td>\n",
       "      <td>1</td>\n",
       "    </tr>\n",
       "    <tr>\n",
       "      <th>2</th>\n",
       "      <td>3</td>\n",
       "      <td>16645562255532878167</td>\n",
       "      <td>52</td>\n",
       "      <td>2</td>\n",
       "      <td>1.442275e+09</td>\n",
       "      <td>2</td>\n",
       "    </tr>\n",
       "    <tr>\n",
       "      <th>3</th>\n",
       "      <td>3</td>\n",
       "      <td>16645562255532878167</td>\n",
       "      <td>54</td>\n",
       "      <td>3</td>\n",
       "      <td>1.442275e+09</td>\n",
       "      <td>3</td>\n",
       "    </tr>\n",
       "    <tr>\n",
       "      <th>4</th>\n",
       "      <td>3</td>\n",
       "      <td>16645562255532878167</td>\n",
       "      <td>57</td>\n",
       "      <td>4</td>\n",
       "      <td>1.442275e+09</td>\n",
       "      <td>4</td>\n",
       "    </tr>\n",
       "  </tbody>\n",
       "</table>\n",
       "</div>"
      ],
      "text/plain": [
       "     c_cam_id                  c_id  f_detections  f_idx   f_timestamp  col\n",
       "col                                                                        \n",
       "0           3  16645562255532878167            53      0  1.442275e+09    0\n",
       "1           3  16645562255532878167            54      1  1.442275e+09    1\n",
       "2           3  16645562255532878167            52      2  1.442275e+09    2\n",
       "3           3  16645562255532878167            54      3  1.442275e+09    3\n",
       "4           3  16645562255532878167            57      4  1.442275e+09    4"
      ]
     },
     "execution_count": 53,
     "metadata": {},
     "output_type": "execute_result"
    }
   ],
   "source": [
    "cam = cam.set_index(cam.col)\n",
    "cam.head()"
   ]
  },
  {
   "cell_type": "code",
   "execution_count": 54,
   "metadata": {
    "collapsed": false,
    "scrolled": true
   },
   "outputs": [],
   "source": [
    "array = list(range(0,len(cam),1000))"
   ]
  },
  {
   "cell_type": "code",
   "execution_count": 55,
   "metadata": {
    "collapsed": true
   },
   "outputs": [],
   "source": [
    "cam = cam.ix[array]"
   ]
  },
  {
   "cell_type": "code",
   "execution_count": 56,
   "metadata": {
    "collapsed": false
   },
   "outputs": [
    {
     "data": {
      "text/html": [
       "<div>\n",
       "<table border=\"1\" class=\"dataframe\">\n",
       "  <thead>\n",
       "    <tr style=\"text-align: right;\">\n",
       "      <th></th>\n",
       "      <th>c_cam_id</th>\n",
       "      <th>c_id</th>\n",
       "      <th>f_detections</th>\n",
       "      <th>f_idx</th>\n",
       "      <th>f_timestamp</th>\n",
       "      <th>col</th>\n",
       "    </tr>\n",
       "    <tr>\n",
       "      <th>col</th>\n",
       "      <th></th>\n",
       "      <th></th>\n",
       "      <th></th>\n",
       "      <th></th>\n",
       "      <th></th>\n",
       "      <th></th>\n",
       "    </tr>\n",
       "  </thead>\n",
       "  <tbody>\n",
       "    <tr>\n",
       "      <th>0</th>\n",
       "      <td>3</td>\n",
       "      <td>16645562255532878167</td>\n",
       "      <td>53</td>\n",
       "      <td>0</td>\n",
       "      <td>1.442275e+09</td>\n",
       "      <td>0</td>\n",
       "    </tr>\n",
       "    <tr>\n",
       "      <th>1000</th>\n",
       "      <td>3</td>\n",
       "      <td>16645562255532878167</td>\n",
       "      <td>50</td>\n",
       "      <td>1000</td>\n",
       "      <td>1.442275e+09</td>\n",
       "      <td>1000</td>\n",
       "    </tr>\n",
       "    <tr>\n",
       "      <th>2000</th>\n",
       "      <td>3</td>\n",
       "      <td>12893511600649459610</td>\n",
       "      <td>53</td>\n",
       "      <td>976</td>\n",
       "      <td>1.442276e+09</td>\n",
       "      <td>2000</td>\n",
       "    </tr>\n",
       "    <tr>\n",
       "      <th>3000</th>\n",
       "      <td>3</td>\n",
       "      <td>15658072471154873523</td>\n",
       "      <td>51</td>\n",
       "      <td>952</td>\n",
       "      <td>1.442276e+09</td>\n",
       "      <td>3000</td>\n",
       "    </tr>\n",
       "    <tr>\n",
       "      <th>4000</th>\n",
       "      <td>3</td>\n",
       "      <td>13841222198001369218</td>\n",
       "      <td>43</td>\n",
       "      <td>928</td>\n",
       "      <td>1.442276e+09</td>\n",
       "      <td>4000</td>\n",
       "    </tr>\n",
       "  </tbody>\n",
       "</table>\n",
       "</div>"
      ],
      "text/plain": [
       "      c_cam_id                  c_id  f_detections  f_idx   f_timestamp   col\n",
       "col                                                                          \n",
       "0            3  16645562255532878167            53      0  1.442275e+09     0\n",
       "1000         3  16645562255532878167            50   1000  1.442275e+09  1000\n",
       "2000         3  12893511600649459610            53    976  1.442276e+09  2000\n",
       "3000         3  15658072471154873523            51    952  1.442276e+09  3000\n",
       "4000         3  13841222198001369218            43    928  1.442276e+09  4000"
      ]
     },
     "execution_count": 56,
     "metadata": {},
     "output_type": "execute_result"
    }
   ],
   "source": [
    "cam.head()"
   ]
  },
  {
   "cell_type": "code",
   "execution_count": 57,
   "metadata": {
    "collapsed": true
   },
   "outputs": [],
   "source": [
    "cam = cam.set_index(cam.f_timestamp)"
   ]
  },
  {
   "cell_type": "code",
   "execution_count": 58,
   "metadata": {
    "collapsed": false
   },
   "outputs": [
    {
     "data": {
      "text/plain": [
       "<matplotlib.axes._subplots.AxesSubplot at 0x25ecea3c8>"
      ]
     },
     "execution_count": 58,
     "metadata": {},
     "output_type": "execute_result"
    },
    {
     "data": {
      "image/png": "[encoded data removed]",
      "text/plain": [
       "<matplotlib.figure.Figure at 0x25eca8c50>"
      ]
     },
     "metadata": {},
     "output_type": "display_data"
    }
   ],
   "source": [
    "\n",
    "sns.tsplot([cam.f_detections])"
   ]
  },
  {
   "cell_type": "markdown",
   "metadata": {
    "collapsed": true
   },
   "source": []
  },
  {
   "cell_type": "code",
   "execution_count": null,
   "metadata": {
    "collapsed": true
   },
   "outputs": [],
   "source": []
  },
  {
   "cell_type": "code",
   "execution_count": null,
   "metadata": {
    "collapsed": true
   },
   "outputs": [],
   "source": []
  }
 ],
 "metadata": {
  "kernelspec": {
   "display_name": "Python 3",
   "language": "python",
   "name": "python3"
  },
  "language_info": {
   "codemirror_mode": {
    "name": "ipython",
    "version": 3
   },
   "file_extension": ".py",
   "mimetype": "text/x-python",
   "name": "python",
   "nbconvert_exporter": "python",
   "pygments_lexer": "ipython3",
   "version": "3.5.2"
  }
 },
 "nbformat": 4,
 "nbformat_minor": 1
}
