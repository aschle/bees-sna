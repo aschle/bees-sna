{
 "cells": [
  {
   "cell_type": "markdown",
   "metadata": {},
   "source": [
    "# Small Stat about Variables"
   ]
  },
  {
   "cell_type": "code",
   "execution_count": 152,
   "metadata": {
    "collapsed": false
   },
   "outputs": [],
   "source": [
    "import pandas as pd\n",
    "import numpy as np\n",
    "import seaborn as sns\n",
    "import matplotlib as mpl\n",
    "import matplotlib.pyplot as plt\n",
    "\n",
    "from datetime import datetime\n",
    "from numpy.random import randn,randint\n",
    "from pandas import DataFrame, Series\n",
    "from bb_binary import Repository, load_frame_container\n",
    "from scipy import stats\n",
    "\n",
    "# Command so that plots appear in the iPython Notebook\n",
    "%matplotlib inline"
   ]
  },
  {
   "cell_type": "code",
   "execution_count": 153,
   "metadata": {
    "collapsed": false
   },
   "outputs": [],
   "source": [
    "base = \"../00_Data/testset_2015_1h/\"\n",
    "folder0 = \"2015082215\"\n",
    "folder1 = \"2015092215\"\n",
    "folder2 = \"2015102215\"\n",
    "folder_list = [folder0, folder1, folder2]"
   ]
  },
  {
   "cell_type": "code",
   "execution_count": 154,
   "metadata": {
    "collapsed": false
   },
   "outputs": [],
   "source": [
    "def createDF(repo, sample):\n",
    "    cam0 = list(repo.iter_fnames(cam=0))[0]\n",
    "    cam1 = list(repo.iter_fnames(cam=1))[0]\n",
    "    cam2 = list(repo.iter_fnames(cam=2))[0]\n",
    "    cam3 = list(repo.iter_fnames(cam=3))[0]\n",
    "    files = [cam0, cam1, cam2, cam3]\n",
    "    \n",
    "    df = DataFrame()\n",
    "\n",
    "    # Für jede Datei die Frames einlesen und an DataFrame anhängen\n",
    "    for f in files:\n",
    "\n",
    "        # id - ID des FrameContainers\n",
    "        # frameIdx - ID von einem Frame: 0 - 1023\n",
    "        # idx - ID einer Detection: kommt drauf an wie viele es so gibt\n",
    "\n",
    "        fc = load_frame_container(f)\n",
    "\n",
    "        for f in fc.frames:\n",
    "            # alle Detections von einem Frame\n",
    "            det = DataFrame([d.to_dict() for d in f.detectionsUnion.detectionsDP])\n",
    "            det['frame_idx'] = f.frameIdx\n",
    "            det['cam_id'] = fc.camId\n",
    "            det['fc_id'] = fc.id\n",
    "            det = det.set_index(['fc_id', 'frame_idx', 'idx'])\n",
    "            df = pd.concat([df, det])\n",
    "    \n",
    "    df.drop(['descriptor', 'localizerSaliency', 'xposHive', 'yposHive', 'xRotation', 'yRotation'], axis=1, inplace=True)\n",
    "    return df"
   ]
  },
  {
   "cell_type": "code",
   "execution_count": 155,
   "metadata": {
    "collapsed": false
   },
   "outputs": [],
   "source": [
    "def print_stat(df, sample):\n",
    "    print(\"STAT FOR {}\".format(sample))\n",
    "    print(\"### RADIUS\")\n",
    "    print(df['radius'].describe())\n",
    "    print(\"### XPOS\")\n",
    "    print(df['xpos'].describe())\n",
    "    print(df['xpos'].groupby(level='fc_id').mean())\n",
    "    print(\"### YPOS\")\n",
    "    print(df['ypos'].describe())\n",
    "    print(df['ypos'].groupby(level='fc_id').mean())\n",
    "    print(\"### ZROTATION\")\n",
    "    print(df['zRotation'].describe())"
   ]
  },
  {
   "cell_type": "code",
   "execution_count": 156,
   "metadata": {
    "collapsed": false,
    "scrolled": false
   },
   "outputs": [],
   "source": [
    "def plot_xy_pos(df, sample):\n",
    "    gr = df[['xpos', 'ypos', 'cam_id']].groupby(level='fc_id')\n",
    "\n",
    "    for i, group in gr:\n",
    "        plt.figure()\n",
    "        t = \"cam id: {} of sample {}\".format(group.cam_id[0], sample)\n",
    "        group.plot.scatter(x='xpos', y='ypos', title=t, s=1, xlim=(0,3000), ylim=(0,4000))\n",
    "        plt.savefig(\"plots/scatterplot_xypos_cam{}_{}\".format(group.cam_id[0], sample))"
   ]
  },
  {
   "cell_type": "code",
   "execution_count": null,
   "metadata": {
    "collapsed": true
   },
   "outputs": [],
   "source": [
    "def plot_xy_pos_alpha(df, sample):\n",
    "    gr = df[['xpos', 'ypos', 'cam_id']].groupby(level='fc_id')\n",
    "\n",
    "    for i, group in gr:\n",
    "        plt.figure()\n",
    "        t = \"cam id: {} of sample {}\".format(group.cam_id[0], sample)\n",
    "        group.plot.scatter(x='xpos', y='ypos', title=t, s=1, xlim=(0,3000), ylim=(0,4000), alpha=0.1)\n",
    "        plt.savefig(\"plots/scatterplot_xypos_cam{}_{}\".format(group.cam_id[0], sample))"
   ]
  },
  {
   "cell_type": "code",
   "execution_count": 157,
   "metadata": {
    "collapsed": false
   },
   "outputs": [],
   "source": [
    "def plot_rotation(df, sample):\n",
    "    \n",
    "    gr = df[['zRotation', 'cam_id']].groupby(level='fc_id')\n",
    "    for i, group in gr:\n",
    "        plt.figure()\n",
    "        N = 80\n",
    "        count, division = np.histogram(group.zRotation, bins=N)\n",
    "        count = count\n",
    "        width = (2*np.pi) / N\n",
    "        theta = np.linspace(0.0, 2 * np.pi, N, endpoint=False)\n",
    "\n",
    "        ax = plt.subplot(111, projection='polar')\n",
    "        bars = ax.bar(theta, count, width=width, bottom=10)\n",
    "        ax.set_title(\"Frequency of Angles of cam ID {} of sample {}\".format(group.cam_id[0],sample))\n",
    "\n",
    "        plt.savefig(\"plots/rotation_cam{}_{}\".format(group.cam_id[0], sample))"
   ]
  },
  {
   "cell_type": "code",
   "execution_count": null,
   "metadata": {
    "collapsed": false,
    "scrolled": false
   },
   "outputs": [],
   "source": [
    "for f in folder_list:\n",
    "    r = Repository(base+f)\n",
    "    df = createDF(r, f)\n",
    "#     print_stat(df,f)\n",
    "    plot_xy_pos(df,f)\n",
    "#     plot_rotation(df,f)"
   ]
  }
 ],
 "metadata": {
  "kernelspec": {
   "display_name": "Python 3",
   "language": "python",
   "name": "python3"
  },
  "language_info": {
   "codemirror_mode": {
    "name": "ipython",
    "version": 3
   },
   "file_extension": ".py",
   "mimetype": "text/x-python",
   "name": "python",
   "nbconvert_exporter": "python",
   "pygments_lexer": "ipython3",
   "version": "3.5.2"
  }
 },
 "nbformat": 4,
 "nbformat_minor": 1
}
