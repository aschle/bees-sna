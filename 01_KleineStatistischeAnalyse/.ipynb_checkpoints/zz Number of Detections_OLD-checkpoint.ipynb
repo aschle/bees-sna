{
 "cells": [
  {
   "cell_type": "code",
   "execution_count": 968,
   "metadata": {
    "collapsed": true
   },
   "outputs": [],
   "source": [
    "import pandas as pd\n",
    "import numpy as np\n",
    "import seaborn as sns \n",
    "\n",
    "from numpy.random import randn\n",
    "\n",
    "from pandas import DataFrame, Series\n",
    "\n",
    "from bb_binary import Repository, convert_frame_to_numpy\n",
    "\n",
    "# Import the stats librayr from numpy\n",
    "from scipy import stats\n",
    "\n",
    "# These are the plotting modules adn libraries we'll use:\n",
    "import matplotlib as mpl\n",
    "import matplotlib.pyplot as plt\n",
    "import seaborn as sns\n",
    "\n",
    "# Command so that plots appear in the iPython Notebook\n",
    "%matplotlib inline\n",
    "\n",
    "# repo = Repository('../00_Data/data-6minutes-cam1')"
   ]
  },
  {
   "cell_type": "code",
   "execution_count": 657,
   "metadata": {
    "collapsed": true
   },
   "outputs": [],
   "source": [
    "# repo = Repository('../00_Data/1day')"
   ]
  },
  {
   "cell_type": "code",
   "execution_count": 764,
   "metadata": {
    "collapsed": true
   },
   "outputs": [],
   "source": [
    "repo = Repository('../00_Data/1h')"
   ]
  },
  {
   "cell_type": "code",
   "execution_count": 859,
   "metadata": {
    "collapsed": true
   },
   "outputs": [],
   "source": [
    "camID = None"
   ]
  },
  {
   "cell_type": "code",
   "execution_count": 860,
   "metadata": {
    "collapsed": false
   },
   "outputs": [
    {
     "data": {
      "text/plain": [
       "56"
      ]
     },
     "execution_count": 860,
     "metadata": {},
     "output_type": "execute_result"
    }
   ],
   "source": [
    "len(list(repo.iter_fnames(cam=camID)))"
   ]
  },
  {
   "cell_type": "code",
   "execution_count": 861,
   "metadata": {
    "collapsed": false
   },
   "outputs": [],
   "source": [
    "frames = list(repo.iter_frames(cam=camID))"
   ]
  },
  {
   "cell_type": "code",
   "execution_count": 862,
   "metadata": {
    "collapsed": false
   },
   "outputs": [
    {
     "data": {
      "text/plain": [
       "57344"
      ]
     },
     "execution_count": 862,
     "metadata": {},
     "output_type": "execute_result"
    }
   ],
   "source": [
    "len(frames)"
   ]
  },
  {
   "cell_type": "code",
   "execution_count": 863,
   "metadata": {
    "collapsed": true
   },
   "outputs": [],
   "source": [
    "f = frames[1023]"
   ]
  },
  {
   "cell_type": "code",
   "execution_count": 864,
   "metadata": {
    "collapsed": false
   },
   "outputs": [
    {
     "data": {
      "text/plain": [
       "2"
      ]
     },
     "execution_count": 864,
     "metadata": {},
     "output_type": "execute_result"
    }
   ],
   "source": [
    "len(f)"
   ]
  },
  {
   "cell_type": "code",
   "execution_count": 865,
   "metadata": {
    "collapsed": false
   },
   "outputs": [],
   "source": [
    "frame = f[0]\n",
    "frameContainer = f[1]"
   ]
  },
  {
   "cell_type": "markdown",
   "metadata": {},
   "source": [
    "## Frame attributes\n",
    "```\n",
    "id @0 :UInt64;                 # global unique id of the frame\n",
    "dataSourceIdx @1:UInt32;       # the frame is from this data source\n",
    "frameIdx @6 :UInt32;           # sequential increasing index for every data source.\n",
    "timestamp @2 :Float64;         # unix time stamp of the frame\n",
    "timedelta @3 :UInt32;          # time difference between this frame and the frame before in microseconds\n",
    "```"
   ]
  },
  {
   "cell_type": "code",
   "execution_count": 866,
   "metadata": {
    "collapsed": false
   },
   "outputs": [
    {
     "name": "stdout",
     "output_type": "stream",
     "text": [
      "id: 0\n",
      "dataSourceIdx: 0\n",
      "frameIdx: 1023\n",
      "timestamp: 1444057348.485803\n",
      "timedelta: 0\n",
      "len detection: 29\n"
     ]
    }
   ],
   "source": [
    "print(\"id: {}\".format(frame.id))\n",
    "print(\"dataSourceIdx: {}\".format(frame.dataSourceIdx))\n",
    "print(\"frameIdx: {}\".format(frame.frameIdx))\n",
    "print(\"timestamp: {}\".format(frame.timestamp))\n",
    "print(\"timedelta: {}\".format(frame.timedelta))\n",
    "print(\"len detection: {}\".format(len(frame.detectionsUnion.detectionsDP)))\n"
   ]
  },
  {
   "cell_type": "markdown",
   "metadata": {},
   "source": [
    "## Frame Container attributes\n",
    "```\n",
    "  id @0 :UInt64;                    # global unique id of the frame container\n",
    "  dataSources @1:List(DataSource);  # list of data sources (videos / images)\n",
    "  fromTimestamp @2 :Float64;        # unix timestamp of the first frame\n",
    "  toTimestamp @3 :Float64;          # unix timestamp of the last frame\n",
    "  frames @4 :List(Frame);           # frames must be sorted by in the order they where recorded.\n",
    "  camId @5 :UInt16;                 # the cam number\n",
    "  hiveId @6 :UInt16;                # the id of the hive\n",
    "  transformationMatrix @7 :List(Float32);\n",
    "```"
   ]
  },
  {
   "cell_type": "code",
   "execution_count": 867,
   "metadata": {
    "collapsed": false
   },
   "outputs": [
    {
     "name": "stdout",
     "output_type": "stream",
     "text": [
      "id: 17415910220773240986\n",
      "len dataSources: 1\n",
      "dataSources: [ ( idx = 0,\n",
      "    filename = \"Cam_3_20151005165647_469298_TO_Cam_3_20151005170228_485803.mkv\" ) ]\n",
      "fromTimestamp: 1444057007.469298\n",
      "toTimestamp: 1444057348.485803\n",
      "len frames: 1024\n",
      "camId: 3\n",
      "hiveId: 0\n",
      "transformationMatrix: []\n"
     ]
    }
   ],
   "source": [
    "print(\"id: {}\".format(frameContainer.id))\n",
    "print(\"len dataSources: {}\".format(len(frameContainer.dataSources)))\n",
    "print(\"dataSources: {}\".format(frameContainer.dataSources))\n",
    "print(\"fromTimestamp: {}\".format(frameContainer.fromTimestamp))\n",
    "print(\"toTimestamp: {}\".format(frameContainer.toTimestamp))\n",
    "print(\"len frames: {}\".format(len(frameContainer.frames)))\n",
    "print(\"camId: {}\".format(frameContainer.camId))\n",
    "print(\"hiveId: {}\".format(frameContainer.hiveId))\n",
    "print(\"transformationMatrix: {}\".format(frameContainer.transformationMatrix))"
   ]
  },
  {
   "cell_type": "markdown",
   "metadata": {},
   "source": [
    "```\n",
    "0    13267605695333194752\n",
    "1    13267605695333194752\n",
    "2    13267605695333194752\n",
    "...\n",
    "1023 13267605695333194752\n",
    "\n",
    "1024 13331998411278232559\n",
    "...\n",
    "2047 13331998411278232559\n",
    "\n",
    "2048 9471591813396092983\n",
    "```"
   ]
  },
  {
   "cell_type": "code",
   "execution_count": 868,
   "metadata": {
    "collapsed": false
   },
   "outputs": [],
   "source": [
    "frame_list = []\n",
    "for f,c in frames:\n",
    "    frame_list.append({'f_idx': f.frameIdx,\n",
    "                       'f_timestamp': f.timestamp,\n",
    "                       'f_detections': len(f.detectionsUnion.detectionsDP),\n",
    "                       'c_id': c.id,\n",
    "                       'c_cam_id': c.camId\n",
    "                       } )"
   ]
  },
  {
   "cell_type": "code",
   "execution_count": 869,
   "metadata": {
    "collapsed": false
   },
   "outputs": [],
   "source": [
    "df = DataFrame(frame_list)"
   ]
  },
  {
   "cell_type": "code",
   "execution_count": 870,
   "metadata": {
    "collapsed": false
   },
   "outputs": [],
   "source": [
    "# df.describe()"
   ]
  },
  {
   "cell_type": "markdown",
   "metadata": {
    "collapsed": true
   },
   "source": [
    "## Number of Detections per Frame"
   ]
  },
  {
   "cell_type": "code",
   "execution_count": 871,
   "metadata": {
    "collapsed": false
   },
   "outputs": [
    {
     "data": {
      "text/plain": [
       "c_cam_id        57344\n",
       "c_id            57344\n",
       "f_detections    57344\n",
       "f_idx           57344\n",
       "f_timestamp     57344\n",
       "dtype: int64"
      ]
     },
     "execution_count": 871,
     "metadata": {},
     "output_type": "execute_result"
    }
   ],
   "source": [
    "df.count()"
   ]
  },
  {
   "cell_type": "code",
   "execution_count": 872,
   "metadata": {
    "collapsed": false
   },
   "outputs": [
    {
     "data": {
      "text/plain": [
       "(57344, 5)"
      ]
     },
     "execution_count": 872,
     "metadata": {},
     "output_type": "execute_result"
    }
   ],
   "source": [
    "df.shape"
   ]
  },
  {
   "cell_type": "code",
   "execution_count": 873,
   "metadata": {
    "collapsed": false
   },
   "outputs": [],
   "source": [
    "subset = df[:2048]"
   ]
  },
  {
   "cell_type": "code",
   "execution_count": 874,
   "metadata": {
    "collapsed": false
   },
   "outputs": [
    {
     "data": {
      "text/plain": [
       "Index(['c_cam_id', 'c_id', 'f_detections', 'f_idx', 'f_timestamp'], dtype='object')"
      ]
     },
     "execution_count": 874,
     "metadata": {},
     "output_type": "execute_result"
    }
   ],
   "source": [
    "subset.columns"
   ]
  },
  {
   "cell_type": "code",
   "execution_count": 875,
   "metadata": {
    "collapsed": false
   },
   "outputs": [
    {
     "data": {
      "text/html": [
       "<div>\n",
       "<table border=\"1\" class=\"dataframe\">\n",
       "  <thead>\n",
       "    <tr style=\"text-align: right;\">\n",
       "      <th></th>\n",
       "      <th>c_cam_id</th>\n",
       "      <th>c_id</th>\n",
       "      <th>f_detections</th>\n",
       "      <th>f_idx</th>\n",
       "      <th>f_timestamp</th>\n",
       "    </tr>\n",
       "  </thead>\n",
       "  <tbody>\n",
       "    <tr>\n",
       "      <th>0</th>\n",
       "      <td>3</td>\n",
       "      <td>17415910220773240986</td>\n",
       "      <td>23</td>\n",
       "      <td>0</td>\n",
       "      <td>1.444057e+09</td>\n",
       "    </tr>\n",
       "    <tr>\n",
       "      <th>1023</th>\n",
       "      <td>3</td>\n",
       "      <td>17415910220773240986</td>\n",
       "      <td>29</td>\n",
       "      <td>1023</td>\n",
       "      <td>1.444057e+09</td>\n",
       "    </tr>\n",
       "    <tr>\n",
       "      <th>1024</th>\n",
       "      <td>1</td>\n",
       "      <td>10134891941190964816</td>\n",
       "      <td>62</td>\n",
       "      <td>0</td>\n",
       "      <td>1.444057e+09</td>\n",
       "    </tr>\n",
       "  </tbody>\n",
       "</table>\n",
       "</div>"
      ],
      "text/plain": [
       "      c_cam_id                  c_id  f_detections  f_idx   f_timestamp\n",
       "0            3  17415910220773240986            23      0  1.444057e+09\n",
       "1023         3  17415910220773240986            29   1023  1.444057e+09\n",
       "1024         1  10134891941190964816            62      0  1.444057e+09"
      ]
     },
     "execution_count": 875,
     "metadata": {},
     "output_type": "execute_result"
    }
   ],
   "source": [
    "subset.ix[[0,1023,1024]]"
   ]
  },
  {
   "cell_type": "code",
   "execution_count": 876,
   "metadata": {
    "collapsed": false
   },
   "outputs": [
    {
     "data": {
      "text/plain": [
       "68.273371684551236"
      ]
     },
     "execution_count": 876,
     "metadata": {},
     "output_type": "execute_result"
    }
   ],
   "source": [
    "span = df.f_timestamp.max() - df.f_timestamp.min()\n",
    "span/60"
   ]
  },
  {
   "cell_type": "code",
   "execution_count": 897,
   "metadata": {
    "collapsed": false
   },
   "outputs": [
    {
     "data": {
      "image/png": "[encoded data removed]",
      "text/plain": [
       "<matplotlib.figure.Figure at 0x112655518>"
      ]
     },
     "metadata": {},
     "output_type": "display_data"
    }
   ],
   "source": [
    "for i in range(4):\n",
    "        dataset1 = df[df.c_cam_id == i].f_detections\n",
    "\n",
    "        #Plot a histogram of the dataset, note bins=10 by default\n",
    "        plt.hist(dataset1, alpha=0.7, bins=15)"
   ]
  },
  {
   "cell_type": "code",
   "execution_count": 910,
   "metadata": {
    "collapsed": false
   },
   "outputs": [
    {
     "data": {
      "image/png": "[encoded data removed]",
      "text/plain": [
       "<matplotlib.figure.Figure at 0x122104f60>"
      ]
     },
     "metadata": {},
     "output_type": "display_data"
    }
   ],
   "source": [
    "ax = sns.countplot(x='f_detections', data=df[df.c_cam_id == 3])"
   ]
  },
  {
   "cell_type": "code",
   "execution_count": 987,
   "metadata": {
    "collapsed": false
   },
   "outputs": [
    {
     "name": "stderr",
     "output_type": "stream",
     "text": [
      "/usr/local/lib/python3.5/site-packages/ipykernel/__main__.py:3: SettingWithCopyWarning: \n",
      "A value is trying to be set on a copy of a slice from a DataFrame.\n",
      "Try using .loc[row_indexer,col_indexer] = value instead\n",
      "\n",
      "See the caveats in the documentation: http://pandas.pydata.org/pandas-docs/stable/indexing.html#indexing-view-versus-copy\n",
      "  app.launch_new_instance()\n"
     ]
    },
    {
     "data": {
      "text/html": [
       "<div>\n",
       "<table border=\"1\" class=\"dataframe\">\n",
       "  <thead>\n",
       "    <tr style=\"text-align: right;\">\n",
       "      <th></th>\n",
       "      <th>c_cam_id</th>\n",
       "      <th>c_id</th>\n",
       "      <th>f_detections</th>\n",
       "      <th>f_idx</th>\n",
       "      <th>f_timestamp</th>\n",
       "      <th>col</th>\n",
       "    </tr>\n",
       "  </thead>\n",
       "  <tbody>\n",
       "    <tr>\n",
       "      <th>2048</th>\n",
       "      <td>0</td>\n",
       "      <td>13267605695333194752</td>\n",
       "      <td>26</td>\n",
       "      <td>0</td>\n",
       "      <td>1.444057e+09</td>\n",
       "      <td>0</td>\n",
       "    </tr>\n",
       "    <tr>\n",
       "      <th>2049</th>\n",
       "      <td>0</td>\n",
       "      <td>13267605695333194752</td>\n",
       "      <td>26</td>\n",
       "      <td>1</td>\n",
       "      <td>1.444057e+09</td>\n",
       "      <td>1</td>\n",
       "    </tr>\n",
       "    <tr>\n",
       "      <th>2050</th>\n",
       "      <td>0</td>\n",
       "      <td>13267605695333194752</td>\n",
       "      <td>27</td>\n",
       "      <td>2</td>\n",
       "      <td>1.444057e+09</td>\n",
       "      <td>2</td>\n",
       "    </tr>\n",
       "    <tr>\n",
       "      <th>2051</th>\n",
       "      <td>0</td>\n",
       "      <td>13267605695333194752</td>\n",
       "      <td>26</td>\n",
       "      <td>3</td>\n",
       "      <td>1.444057e+09</td>\n",
       "      <td>3</td>\n",
       "    </tr>\n",
       "    <tr>\n",
       "      <th>2052</th>\n",
       "      <td>0</td>\n",
       "      <td>13267605695333194752</td>\n",
       "      <td>27</td>\n",
       "      <td>4</td>\n",
       "      <td>1.444057e+09</td>\n",
       "      <td>4</td>\n",
       "    </tr>\n",
       "  </tbody>\n",
       "</table>\n",
       "</div>"
      ],
      "text/plain": [
       "      c_cam_id                  c_id  f_detections  f_idx   f_timestamp  col\n",
       "2048         0  13267605695333194752            26      0  1.444057e+09    0\n",
       "2049         0  13267605695333194752            26      1  1.444057e+09    1\n",
       "2050         0  13267605695333194752            27      2  1.444057e+09    2\n",
       "2051         0  13267605695333194752            26      3  1.444057e+09    3\n",
       "2052         0  13267605695333194752            27      4  1.444057e+09    4"
      ]
     },
     "execution_count": 987,
     "metadata": {},
     "output_type": "execute_result"
    }
   ],
   "source": [
    "cam = df[df.c_cam_id == 0]\n",
    "arr = list(range(len(cam)))\n",
    "cam['col'] = arr\n",
    "cam.head()"
   ]
  },
  {
   "cell_type": "code",
   "execution_count": 988,
   "metadata": {
    "collapsed": false
   },
   "outputs": [
    {
     "data": {
      "text/html": [
       "<div>\n",
       "<table border=\"1\" class=\"dataframe\">\n",
       "  <thead>\n",
       "    <tr style=\"text-align: right;\">\n",
       "      <th></th>\n",
       "      <th>c_cam_id</th>\n",
       "      <th>c_id</th>\n",
       "      <th>f_detections</th>\n",
       "      <th>f_idx</th>\n",
       "      <th>f_timestamp</th>\n",
       "      <th>col</th>\n",
       "    </tr>\n",
       "    <tr>\n",
       "      <th>col</th>\n",
       "      <th></th>\n",
       "      <th></th>\n",
       "      <th></th>\n",
       "      <th></th>\n",
       "      <th></th>\n",
       "      <th></th>\n",
       "    </tr>\n",
       "  </thead>\n",
       "  <tbody>\n",
       "    <tr>\n",
       "      <th>0</th>\n",
       "      <td>0</td>\n",
       "      <td>13267605695333194752</td>\n",
       "      <td>26</td>\n",
       "      <td>0</td>\n",
       "      <td>1.444057e+09</td>\n",
       "      <td>0</td>\n",
       "    </tr>\n",
       "    <tr>\n",
       "      <th>1</th>\n",
       "      <td>0</td>\n",
       "      <td>13267605695333194752</td>\n",
       "      <td>26</td>\n",
       "      <td>1</td>\n",
       "      <td>1.444057e+09</td>\n",
       "      <td>1</td>\n",
       "    </tr>\n",
       "    <tr>\n",
       "      <th>2</th>\n",
       "      <td>0</td>\n",
       "      <td>13267605695333194752</td>\n",
       "      <td>27</td>\n",
       "      <td>2</td>\n",
       "      <td>1.444057e+09</td>\n",
       "      <td>2</td>\n",
       "    </tr>\n",
       "    <tr>\n",
       "      <th>3</th>\n",
       "      <td>0</td>\n",
       "      <td>13267605695333194752</td>\n",
       "      <td>26</td>\n",
       "      <td>3</td>\n",
       "      <td>1.444057e+09</td>\n",
       "      <td>3</td>\n",
       "    </tr>\n",
       "    <tr>\n",
       "      <th>4</th>\n",
       "      <td>0</td>\n",
       "      <td>13267605695333194752</td>\n",
       "      <td>27</td>\n",
       "      <td>4</td>\n",
       "      <td>1.444057e+09</td>\n",
       "      <td>4</td>\n",
       "    </tr>\n",
       "  </tbody>\n",
       "</table>\n",
       "</div>"
      ],
      "text/plain": [
       "     c_cam_id                  c_id  f_detections  f_idx   f_timestamp  col\n",
       "col                                                                        \n",
       "0           0  13267605695333194752            26      0  1.444057e+09    0\n",
       "1           0  13267605695333194752            26      1  1.444057e+09    1\n",
       "2           0  13267605695333194752            27      2  1.444057e+09    2\n",
       "3           0  13267605695333194752            26      3  1.444057e+09    3\n",
       "4           0  13267605695333194752            27      4  1.444057e+09    4"
      ]
     },
     "execution_count": 988,
     "metadata": {},
     "output_type": "execute_result"
    }
   ],
   "source": [
    "cam = cam.set_index(cam.col)\n",
    "cam.head()"
   ]
  },
  {
   "cell_type": "code",
   "execution_count": 989,
   "metadata": {
    "collapsed": false,
    "scrolled": true
   },
   "outputs": [],
   "source": [
    "array = list(range(0,14336,25))"
   ]
  },
  {
   "cell_type": "code",
   "execution_count": 990,
   "metadata": {
    "collapsed": true
   },
   "outputs": [],
   "source": [
    "cam = cam.ix[array]"
   ]
  },
  {
   "cell_type": "code",
   "execution_count": 991,
   "metadata": {
    "collapsed": false
   },
   "outputs": [
    {
     "data": {
      "text/html": [
       "<div>\n",
       "<table border=\"1\" class=\"dataframe\">\n",
       "  <thead>\n",
       "    <tr style=\"text-align: right;\">\n",
       "      <th></th>\n",
       "      <th>c_cam_id</th>\n",
       "      <th>c_id</th>\n",
       "      <th>f_detections</th>\n",
       "      <th>f_idx</th>\n",
       "      <th>f_timestamp</th>\n",
       "      <th>col</th>\n",
       "    </tr>\n",
       "    <tr>\n",
       "      <th>col</th>\n",
       "      <th></th>\n",
       "      <th></th>\n",
       "      <th></th>\n",
       "      <th></th>\n",
       "      <th></th>\n",
       "      <th></th>\n",
       "    </tr>\n",
       "  </thead>\n",
       "  <tbody>\n",
       "    <tr>\n",
       "      <th>0</th>\n",
       "      <td>0</td>\n",
       "      <td>13267605695333194752</td>\n",
       "      <td>26</td>\n",
       "      <td>0</td>\n",
       "      <td>1.444057e+09</td>\n",
       "      <td>0</td>\n",
       "    </tr>\n",
       "    <tr>\n",
       "      <th>25</th>\n",
       "      <td>0</td>\n",
       "      <td>13267605695333194752</td>\n",
       "      <td>26</td>\n",
       "      <td>25</td>\n",
       "      <td>1.444057e+09</td>\n",
       "      <td>25</td>\n",
       "    </tr>\n",
       "    <tr>\n",
       "      <th>50</th>\n",
       "      <td>0</td>\n",
       "      <td>13267605695333194752</td>\n",
       "      <td>27</td>\n",
       "      <td>50</td>\n",
       "      <td>1.444057e+09</td>\n",
       "      <td>50</td>\n",
       "    </tr>\n",
       "    <tr>\n",
       "      <th>75</th>\n",
       "      <td>0</td>\n",
       "      <td>13267605695333194752</td>\n",
       "      <td>30</td>\n",
       "      <td>75</td>\n",
       "      <td>1.444057e+09</td>\n",
       "      <td>75</td>\n",
       "    </tr>\n",
       "    <tr>\n",
       "      <th>100</th>\n",
       "      <td>0</td>\n",
       "      <td>13267605695333194752</td>\n",
       "      <td>28</td>\n",
       "      <td>100</td>\n",
       "      <td>1.444057e+09</td>\n",
       "      <td>100</td>\n",
       "    </tr>\n",
       "  </tbody>\n",
       "</table>\n",
       "</div>"
      ],
      "text/plain": [
       "     c_cam_id                  c_id  f_detections  f_idx   f_timestamp  col\n",
       "col                                                                        \n",
       "0           0  13267605695333194752            26      0  1.444057e+09    0\n",
       "25          0  13267605695333194752            26     25  1.444057e+09   25\n",
       "50          0  13267605695333194752            27     50  1.444057e+09   50\n",
       "75          0  13267605695333194752            30     75  1.444057e+09   75\n",
       "100         0  13267605695333194752            28    100  1.444057e+09  100"
      ]
     },
     "execution_count": 991,
     "metadata": {},
     "output_type": "execute_result"
    }
   ],
   "source": [
    "cam.head()"
   ]
  },
  {
   "cell_type": "code",
   "execution_count": 992,
   "metadata": {
    "collapsed": true
   },
   "outputs": [],
   "source": [
    "cam = cam.set_index(cam.f_timestamp)"
   ]
  },
  {
   "cell_type": "code",
   "execution_count": 993,
   "metadata": {
    "collapsed": false
   },
   "outputs": [
    {
     "data": {
      "text/plain": [
       "<matplotlib.axes._subplots.AxesSubplot at 0x112bb9898>"
      ]
     },
     "execution_count": 993,
     "metadata": {},
     "output_type": "execute_result"
    },
    {
     "data": {
      "image/png": "[encoded data removed]",
      "text/plain": [
       "<matplotlib.figure.Figure at 0x121fdd048>"
      ]
     },
     "metadata": {},
     "output_type": "display_data"
    }
   ],
   "source": [
    "\n",
    "sns.tsplot([cam.f_detections])"
   ]
  },
  {
   "cell_type": "code",
   "execution_count": null,
   "metadata": {
    "collapsed": true
   },
   "outputs": [],
   "source": []
  }
 ],
 "metadata": {
  "kernelspec": {
   "display_name": "Python 3",
   "language": "python",
   "name": "python3"
  },
  "language_info": {
   "codemirror_mode": {
    "name": "ipython",
    "version": 3
   },
   "file_extension": ".py",
   "mimetype": "text/x-python",
   "name": "python",
   "nbconvert_exporter": "python",
   "pygments_lexer": "ipython3",
   "version": "3.5.2"
  }
 },
 "nbformat": 4,
 "nbformat_minor": 1
}
