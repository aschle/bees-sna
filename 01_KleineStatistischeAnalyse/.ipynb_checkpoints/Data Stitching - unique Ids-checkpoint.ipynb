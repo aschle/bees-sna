{
 "cells": [
  {
   "cell_type": "markdown",
   "metadata": {},
   "source": [
    "# Stitching Data for one side of the hive (cam0 and cam1)"
   ]
  },
  {
   "cell_type": "code",
   "execution_count": 3,
   "metadata": {
    "collapsed": false
   },
   "outputs": [],
   "source": [
    "import pandas as pd\n",
    "import numpy as np\n",
    "import seaborn as sns\n",
    "import matplotlib as mpl\n",
    "import matplotlib.pyplot as plt\n",
    "\n",
    "from datetime import datetime\n",
    "from numpy.random import randn,randint\n",
    "from pandas import DataFrame, Series\n",
    "from bb_binary import Repository, load_frame_container\n",
    "from scipy import stats\n",
    "\n",
    "# Command so that plots appear in the iPython Notebook\n",
    "%matplotlib inline\n",
    "\n",
    "repo = Repository('../00_Data/thirdh/')\n",
    "\n",
    "cam0 = list(repo.iter_fnames(cam=0))[0]\n",
    "cam1 = list(repo.iter_fnames(cam=1))[0]\n",
    "cam2 = list(repo.iter_fnames(cam=2))[0]\n",
    "cam3 = list(repo.iter_fnames(cam=3))[0]\n",
    "\n",
    "files = [cam0, cam1, cam2, cam3]\n",
    "files = files[:2]"
   ]
  },
  {
   "cell_type": "code",
   "execution_count": 4,
   "metadata": {
    "collapsed": false
   },
   "outputs": [
    {
     "data": {
      "text/html": [
       "<div>\n",
       "<table border=\"1\" class=\"dataframe\">\n",
       "  <thead>\n",
       "    <tr style=\"text-align: right;\">\n",
       "      <th></th>\n",
       "      <th></th>\n",
       "      <th></th>\n",
       "      <th>decodedId</th>\n",
       "      <th>descriptor</th>\n",
       "      <th>localizerSaliency</th>\n",
       "      <th>radius</th>\n",
       "      <th>xRotation</th>\n",
       "      <th>xpos</th>\n",
       "      <th>xposHive</th>\n",
       "      <th>yRotation</th>\n",
       "      <th>ypos</th>\n",
       "      <th>yposHive</th>\n",
       "      <th>zRotation</th>\n",
       "    </tr>\n",
       "    <tr>\n",
       "      <th>fc_id</th>\n",
       "      <th>frame_idx</th>\n",
       "      <th>idx</th>\n",
       "      <th></th>\n",
       "      <th></th>\n",
       "      <th></th>\n",
       "      <th></th>\n",
       "      <th></th>\n",
       "      <th></th>\n",
       "      <th></th>\n",
       "      <th></th>\n",
       "      <th></th>\n",
       "      <th></th>\n",
       "      <th></th>\n",
       "    </tr>\n",
       "  </thead>\n",
       "  <tbody>\n",
       "    <tr>\n",
       "      <th rowspan=\"2\" valign=\"top\">-5179138378376356864</th>\n",
       "      <th rowspan=\"2\" valign=\"top\">0</th>\n",
       "      <th>0</th>\n",
       "      <td>[0, 0, 0, 0, 0, 255, 255, 0, 0, 0, 7, 255]</td>\n",
       "      <td>[216, 177, 98, 196, 137, 18, 37, 74, 149, 43, ...</td>\n",
       "      <td>0.673130</td>\n",
       "      <td>23.003563</td>\n",
       "      <td>-0.005575</td>\n",
       "      <td>102</td>\n",
       "      <td>102</td>\n",
       "      <td>-0.607849</td>\n",
       "      <td>1750</td>\n",
       "      <td>1750</td>\n",
       "      <td>0.010662</td>\n",
       "    </tr>\n",
       "    <tr>\n",
       "      <th>1</th>\n",
       "      <td>[6, 255, 255, 255, 0, 255, 0, 255, 255, 0, 255...</td>\n",
       "      <td>[55, 110, 221, 186, 116, 233, 210, 165, 74, 14...</td>\n",
       "      <td>0.701643</td>\n",
       "      <td>23.086124</td>\n",
       "      <td>-0.026012</td>\n",
       "      <td>100</td>\n",
       "      <td>100</td>\n",
       "      <td>-0.605590</td>\n",
       "      <td>2362</td>\n",
       "      <td>2362</td>\n",
       "      <td>-1.891746</td>\n",
       "    </tr>\n",
       "  </tbody>\n",
       "</table>\n",
       "</div>"
      ],
      "text/plain": [
       "                                                                            decodedId  \\\n",
       "fc_id                frame_idx idx                                                      \n",
       "-5179138378376356864 0         0           [0, 0, 0, 0, 0, 255, 255, 0, 0, 0, 7, 255]   \n",
       "                               1    [6, 255, 255, 255, 0, 255, 0, 255, 255, 0, 255...   \n",
       "\n",
       "                                                                           descriptor  \\\n",
       "fc_id                frame_idx idx                                                      \n",
       "-5179138378376356864 0         0    [216, 177, 98, 196, 137, 18, 37, 74, 149, 43, ...   \n",
       "                               1    [55, 110, 221, 186, 116, 233, 210, 165, 74, 14...   \n",
       "\n",
       "                                    localizerSaliency     radius  xRotation  \\\n",
       "fc_id                frame_idx idx                                            \n",
       "-5179138378376356864 0         0             0.673130  23.003563  -0.005575   \n",
       "                               1             0.701643  23.086124  -0.026012   \n",
       "\n",
       "                                    xpos  xposHive  yRotation  ypos  yposHive  \\\n",
       "fc_id                frame_idx idx                                              \n",
       "-5179138378376356864 0         0     102       102  -0.607849  1750      1750   \n",
       "                               1     100       100  -0.605590  2362      2362   \n",
       "\n",
       "                                    zRotation  \n",
       "fc_id                frame_idx idx             \n",
       "-5179138378376356864 0         0     0.010662  \n",
       "                               1    -1.891746  "
      ]
     },
     "execution_count": 4,
     "metadata": {},
     "output_type": "execute_result"
    }
   ],
   "source": [
    "df = DataFrame()\n",
    "\n",
    "# Für jede Datei die Frames einlesen und an DataFrame anhängen\n",
    "for f in files:\n",
    "    \n",
    "    # id - ID des FrameContainers\n",
    "    # frameIdx - ID von einem Frame: 0 - 1023\n",
    "    # idx - ID einer Detection: kommt drauf an wie viele es so gibt\n",
    "    \n",
    "    fc = load_frame_container(f)\n",
    "    \n",
    "    for f in fc.frames:\n",
    "        # alle Detections von einem Frame\n",
    "        det = DataFrame([d.to_dict() for d in f.detectionsUnion.detectionsDP])\n",
    "        det['frame_idx'] = f.frameIdx\n",
    "        det['fc_id'] = fc.id\n",
    "        det = det.set_index(['fc_id', 'frame_idx', 'idx'])\n",
    "        df = pd.concat([df, det])\n",
    "\n",
    "df.head(2)"
   ]
  },
  {
   "cell_type": "code",
   "execution_count": 13,
   "metadata": {
    "collapsed": true
   },
   "outputs": [],
   "source": [
    "df.drop(['descriptor', 'localizerSaliency', 'xposHive', 'yposHive', 'xRotation', 'yRotation'], axis=1, inplace=True)"
   ]
  },
  {
   "cell_type": "code",
   "execution_count": 14,
   "metadata": {
    "collapsed": false
   },
   "outputs": [
    {
     "data": {
      "text/plain": [
       "FrozenList(['fc_id', 'frame_idx', 'idx'])"
      ]
     },
     "execution_count": 14,
     "metadata": {},
     "output_type": "execute_result"
    }
   ],
   "source": [
    "df.index.names"
   ]
  },
  {
   "cell_type": "code",
   "execution_count": 15,
   "metadata": {
    "collapsed": false
   },
   "outputs": [
    {
     "data": {
      "text/html": [
       "<div>\n",
       "<table border=\"1\" class=\"dataframe\">\n",
       "  <thead>\n",
       "    <tr style=\"text-align: right;\">\n",
       "      <th></th>\n",
       "      <th></th>\n",
       "      <th></th>\n",
       "      <th>decodedId</th>\n",
       "      <th>radius</th>\n",
       "      <th>xpos</th>\n",
       "      <th>ypos</th>\n",
       "      <th>zRotation</th>\n",
       "    </tr>\n",
       "    <tr>\n",
       "      <th>fc_id</th>\n",
       "      <th>frame_idx</th>\n",
       "      <th>idx</th>\n",
       "      <th></th>\n",
       "      <th></th>\n",
       "      <th></th>\n",
       "      <th></th>\n",
       "      <th></th>\n",
       "    </tr>\n",
       "  </thead>\n",
       "  <tbody>\n",
       "    <tr>\n",
       "      <th rowspan=\"2\" valign=\"top\">-5179138378376356864</th>\n",
       "      <th rowspan=\"2\" valign=\"top\">0</th>\n",
       "      <th>0</th>\n",
       "      <td>[0, 0, 0, 0, 0, 255, 255, 0, 0, 0, 7, 255]</td>\n",
       "      <td>23.003563</td>\n",
       "      <td>102</td>\n",
       "      <td>1750</td>\n",
       "      <td>0.010662</td>\n",
       "    </tr>\n",
       "    <tr>\n",
       "      <th>1</th>\n",
       "      <td>[6, 255, 255, 255, 0, 255, 0, 255, 255, 0, 255...</td>\n",
       "      <td>23.086124</td>\n",
       "      <td>100</td>\n",
       "      <td>2362</td>\n",
       "      <td>-1.891746</td>\n",
       "    </tr>\n",
       "  </tbody>\n",
       "</table>\n",
       "</div>"
      ],
      "text/plain": [
       "                                                                            decodedId  \\\n",
       "fc_id                frame_idx idx                                                      \n",
       "-5179138378376356864 0         0           [0, 0, 0, 0, 0, 255, 255, 0, 0, 0, 7, 255]   \n",
       "                               1    [6, 255, 255, 255, 0, 255, 0, 255, 255, 0, 255...   \n",
       "\n",
       "                                       radius  xpos  ypos  zRotation  \n",
       "fc_id                frame_idx idx                                    \n",
       "-5179138378376356864 0         0    23.003563   102  1750   0.010662  \n",
       "                               1    23.086124   100  2362  -1.891746  "
      ]
     },
     "execution_count": 15,
     "metadata": {},
     "output_type": "execute_result"
    }
   ],
   "source": [
    "df.head(2)"
   ]
  },
  {
   "cell_type": "markdown",
   "metadata": {},
   "source": [
    "## Wie viele Bienen wurden von Cam0 UND von Cam1 erkannt?\n",
    "Wie groß ist die Überlappung?\n",
    "### Schritte\n",
    "* Ersteinmal eine lesabere ID umrechnen für alle Detections\n",
    "* pro Frame Schnittmenge ausrechnen\n",
    "* gucken wie groß die ist\n",
    "* vielleicht auch mal für cam2 und cam3 anschauen"
   ]
  },
  {
   "cell_type": "code",
   "execution_count": 90,
   "metadata": {
    "collapsed": false
   },
   "outputs": [],
   "source": [
    "def get_binary_bit(bit, threshold):\n",
    "    if (bit <= threshold):\n",
    "        return 0\n",
    "    \n",
    "    if (bit >= 255-threshold):\n",
    "        return 1\n",
    "    \n",
    "    else:\n",
    "        return np.nan\n",
    "\n",
    "# Zum ausrechnen der IDs\n",
    "def get_detected_ids(detections, threshold):\n",
    "    \n",
    "    # Umrechnen in binary array [0,1,1,1,0,1,1,1,0,0,0,1]\n",
    "    # Ids die nicht umgerechnet werden können, weil außerhalb des threshold, werden NAN\n",
    "    # binary_ids = [list()     for i in d]) for d in detections]\n",
    "\n",
    "    # convert to decimal id using 11 least significant bits\n",
    "    decimal_ids = [int(''.join([str(c) for c in id[:11]]), 2) for id in detections]\n",
    "    print(decimal_ids)\n",
    "\n",
    "    # determine what kind of parity bit was used and add 2^11 to decimal id\n",
    "    # uneven parity bit was used\n",
    "    decimal_ids = np.array(decimal_ids)\n",
    "    decimal_ids[(np.sum(detections, axis=1) % 2) == 1] += 2048\n",
    "    \n",
    "    return decimal_ids\n",
    "\n",
    "\n",
    "# Zum ausrechnen der IDs\n",
    "def get_detected_id(id, threshold):\n",
    "    \n",
    "    # Umrechnen in binary array [0,1,1,1,0,1,1,1,0,0,0,1]\n",
    "    # Ids die nicht umgerechnet werden können, weil außerhalb des threshold, werden NAN\n",
    "    # binary_ids = [list()     for i in d]) for d in detections]\n",
    "\n",
    "    # convert to decimal id using 11 least significant bits\n",
    "    decimal_id = int(''.join([str(c) for c in id[:11]]), 2)\n",
    "    print(decimal_id)\n",
    "\n",
    "    # determine what kind of parity bit was used and add 2^11 to decimal id\n",
    "    # uneven parity bit was used\n",
    "    if ((decimal_id % 2) == 1):\n",
    "        decimal_id += 2048\n",
    "\n",
    "    return decimal_id"
   ]
  },
  {
   "cell_type": "code",
   "execution_count": 91,
   "metadata": {
    "collapsed": false
   },
   "outputs": [
    {
     "data": {
      "text/plain": [
       "nan"
      ]
     },
     "execution_count": 91,
     "metadata": {},
     "output_type": "execute_result"
    }
   ],
   "source": [
    "get_binary_bit(233, 20)"
   ]
  },
  {
   "cell_type": "code",
   "execution_count": 92,
   "metadata": {
    "collapsed": false
   },
   "outputs": [
    {
     "name": "stdout",
     "output_type": "stream",
     "text": [
      "[255, 0, 255, 0, 255, 255, 255, 255, 255, 0, 0, 255]\n"
     ]
    },
    {
     "data": {
      "text/plain": [
       "[1, 0, 1, 0, 1, 1, 1, 1, 1, 0, 0, 1]"
      ]
     },
     "execution_count": 92,
     "metadata": {},
     "output_type": "execute_result"
    }
   ],
   "source": [
    "t = 10\n",
    "array = df.iloc[2].decodedId\n",
    "print(array)\n",
    "\n",
    "bin = [get_binary_bit(x,t) for x in array]\n",
    "bin"
   ]
  },
  {
   "cell_type": "code",
   "execution_count": 93,
   "metadata": {
    "collapsed": false
   },
   "outputs": [
    {
     "name": "stdout",
     "output_type": "stream",
     "text": [
      "1404\n"
     ]
    },
    {
     "data": {
      "text/plain": [
       "1404"
      ]
     },
     "execution_count": 93,
     "metadata": {},
     "output_type": "execute_result"
    }
   ],
   "source": [
    "get_detected_id(bin, t)"
   ]
  },
  {
   "cell_type": "code",
   "execution_count": 94,
   "metadata": {
    "collapsed": false
   },
   "outputs": [
    {
     "name": "stdout",
     "output_type": "stream",
     "text": [
      "[1404]\n",
      "[1 0 1 0 1 1 1 1 1 0 0 1]\n"
     ]
    },
    {
     "data": {
      "text/plain": [
       "array([1404])"
      ]
     },
     "execution_count": 94,
     "metadata": {},
     "output_type": "execute_result"
    }
   ],
   "source": [
    "get_detected_ids([bin], t)"
   ]
  },
  {
   "cell_type": "code",
   "execution_count": null,
   "metadata": {
    "collapsed": true
   },
   "outputs": [],
   "source": []
  },
  {
   "cell_type": "code",
   "execution_count": null,
   "metadata": {
    "collapsed": true
   },
   "outputs": [],
   "source": []
  }
 ],
 "metadata": {
  "kernelspec": {
   "display_name": "Python 3",
   "language": "python",
   "name": "python3"
  },
  "language_info": {
   "codemirror_mode": {
    "name": "ipython",
    "version": 3
   },
   "file_extension": ".py",
   "mimetype": "text/x-python",
   "name": "python",
   "nbconvert_exporter": "python",
   "pygments_lexer": "ipython3",
   "version": "3.5.2"
  }
 },
 "nbformat": 4,
 "nbformat_minor": 1
}
