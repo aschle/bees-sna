{
 "cells": [
  {
   "cell_type": "markdown",
   "metadata": {},
   "source": [
    "# Stitching Data for one side of the hive (cam0 and cam1)\n",
    "\n",
    "schauen wie viele Bienen es doppelt in beiden haelften gibt"
   ]
  },
  {
   "cell_type": "code",
   "execution_count": 2,
   "metadata": {
    "collapsed": false
   },
   "outputs": [],
   "source": [
    "import pandas as pd\n",
    "import numpy as np\n",
    "import seaborn as sns\n",
    "import matplotlib as mpl\n",
    "import matplotlib.pyplot as plt\n",
    "\n",
    "from datetime import datetime\n",
    "from numpy.random import randn,randint\n",
    "from pandas import DataFrame, Series\n",
    "from bb_binary import Repository, load_frame_container\n",
    "from scipy import stats\n",
    "\n",
    "# Command so that plots appear in the iPython Notebook\n",
    "%matplotlib inline\n",
    "\n",
    "repo = Repository('../00_Data/thirdh/')\n",
    "\n",
    "cam0 = list(repo.iter_fnames(cam=0))[0]\n",
    "cam1 = list(repo.iter_fnames(cam=1))[0]\n",
    "cam2 = list(repo.iter_fnames(cam=2))[0]\n",
    "cam3 = list(repo.iter_fnames(cam=3))[0]\n",
    "\n",
    "files = [cam0, cam1, cam2, cam3]"
   ]
  },
  {
   "cell_type": "code",
   "execution_count": 3,
   "metadata": {
    "collapsed": false
   },
   "outputs": [
    {
     "data": {
      "text/html": [
       "<div>\n",
       "<table border=\"1\" class=\"dataframe\">\n",
       "  <thead>\n",
       "    <tr style=\"text-align: right;\">\n",
       "      <th></th>\n",
       "      <th></th>\n",
       "      <th></th>\n",
       "      <th>decodedId</th>\n",
       "      <th>descriptor</th>\n",
       "      <th>localizerSaliency</th>\n",
       "      <th>radius</th>\n",
       "      <th>xRotation</th>\n",
       "      <th>xpos</th>\n",
       "      <th>xposHive</th>\n",
       "      <th>yRotation</th>\n",
       "      <th>ypos</th>\n",
       "      <th>yposHive</th>\n",
       "      <th>zRotation</th>\n",
       "      <th>cam_id</th>\n",
       "    </tr>\n",
       "    <tr>\n",
       "      <th>fc_id</th>\n",
       "      <th>frame_idx</th>\n",
       "      <th>idx</th>\n",
       "      <th></th>\n",
       "      <th></th>\n",
       "      <th></th>\n",
       "      <th></th>\n",
       "      <th></th>\n",
       "      <th></th>\n",
       "      <th></th>\n",
       "      <th></th>\n",
       "      <th></th>\n",
       "      <th></th>\n",
       "      <th></th>\n",
       "      <th></th>\n",
       "    </tr>\n",
       "  </thead>\n",
       "  <tbody>\n",
       "    <tr>\n",
       "      <th rowspan=\"2\" valign=\"top\">-5179138378376356864</th>\n",
       "      <th rowspan=\"2\" valign=\"top\">0</th>\n",
       "      <th>0</th>\n",
       "      <td>[0, 0, 0, 0, 0, 255, 255, 0, 0, 0, 7, 255]</td>\n",
       "      <td>[216, 177, 98, 196, 137, 18, 37, 74, 149, 43, ...</td>\n",
       "      <td>0.673130</td>\n",
       "      <td>23.003563</td>\n",
       "      <td>-0.005575</td>\n",
       "      <td>102</td>\n",
       "      <td>102</td>\n",
       "      <td>-0.607849</td>\n",
       "      <td>1750</td>\n",
       "      <td>1750</td>\n",
       "      <td>0.010662</td>\n",
       "      <td>0</td>\n",
       "    </tr>\n",
       "    <tr>\n",
       "      <th>1</th>\n",
       "      <td>[6, 255, 255, 255, 0, 255, 0, 255, 255, 0, 255...</td>\n",
       "      <td>[55, 110, 221, 186, 116, 233, 210, 165, 74, 14...</td>\n",
       "      <td>0.701643</td>\n",
       "      <td>23.086124</td>\n",
       "      <td>-0.026012</td>\n",
       "      <td>100</td>\n",
       "      <td>100</td>\n",
       "      <td>-0.605590</td>\n",
       "      <td>2362</td>\n",
       "      <td>2362</td>\n",
       "      <td>-1.891746</td>\n",
       "      <td>0</td>\n",
       "    </tr>\n",
       "  </tbody>\n",
       "</table>\n",
       "</div>"
      ],
      "text/plain": [
       "                                                                            decodedId  \\\n",
       "fc_id                frame_idx idx                                                      \n",
       "-5179138378376356864 0         0           [0, 0, 0, 0, 0, 255, 255, 0, 0, 0, 7, 255]   \n",
       "                               1    [6, 255, 255, 255, 0, 255, 0, 255, 255, 0, 255...   \n",
       "\n",
       "                                                                           descriptor  \\\n",
       "fc_id                frame_idx idx                                                      \n",
       "-5179138378376356864 0         0    [216, 177, 98, 196, 137, 18, 37, 74, 149, 43, ...   \n",
       "                               1    [55, 110, 221, 186, 116, 233, 210, 165, 74, 14...   \n",
       "\n",
       "                                    localizerSaliency     radius  xRotation  \\\n",
       "fc_id                frame_idx idx                                            \n",
       "-5179138378376356864 0         0             0.673130  23.003563  -0.005575   \n",
       "                               1             0.701643  23.086124  -0.026012   \n",
       "\n",
       "                                    xpos  xposHive  yRotation  ypos  yposHive  \\\n",
       "fc_id                frame_idx idx                                              \n",
       "-5179138378376356864 0         0     102       102  -0.607849  1750      1750   \n",
       "                               1     100       100  -0.605590  2362      2362   \n",
       "\n",
       "                                    zRotation  cam_id  \n",
       "fc_id                frame_idx idx                     \n",
       "-5179138378376356864 0         0     0.010662       0  \n",
       "                               1    -1.891746       0  "
      ]
     },
     "execution_count": 3,
     "metadata": {},
     "output_type": "execute_result"
    }
   ],
   "source": [
    "df = DataFrame()\n",
    "\n",
    "# Für jede Datei die Frames einlesen und an DataFrame anhängen\n",
    "for f in files:\n",
    "    \n",
    "    # id - ID des FrameContainers\n",
    "    # frameIdx - ID von einem Frame: 0 - 1023\n",
    "    # idx - ID einer Detection: kommt drauf an wie viele es so gibt\n",
    "    \n",
    "    fc = load_frame_container(f)\n",
    "    \n",
    "    for f in fc.frames:\n",
    "        # alle Detections von einem Frame\n",
    "        det = DataFrame([d.to_dict() for d in f.detectionsUnion.detectionsDP])\n",
    "        det['frame_idx'] = f.frameIdx\n",
    "        det['fc_id'] = fc.id\n",
    "        det['cam_id'] = fc.camId\n",
    "        det = det.set_index(['fc_id', 'frame_idx', 'idx'])\n",
    "        df = pd.concat([df, det])\n",
    "\n",
    "df.head(2)"
   ]
  },
  {
   "cell_type": "code",
   "execution_count": 4,
   "metadata": {
    "collapsed": true
   },
   "outputs": [],
   "source": [
    "df.drop(['descriptor', 'localizerSaliency', 'xposHive', 'yposHive', 'xRotation', 'yRotation'], axis=1, inplace=True)"
   ]
  },
  {
   "cell_type": "code",
   "execution_count": 5,
   "metadata": {
    "collapsed": false
   },
   "outputs": [
    {
     "data": {
      "text/plain": [
       "FrozenList(['fc_id', 'frame_idx', 'idx'])"
      ]
     },
     "execution_count": 5,
     "metadata": {},
     "output_type": "execute_result"
    }
   ],
   "source": [
    "df.index.names"
   ]
  },
  {
   "cell_type": "code",
   "execution_count": 6,
   "metadata": {
    "collapsed": false
   },
   "outputs": [
    {
     "data": {
      "text/html": [
       "<div>\n",
       "<table border=\"1\" class=\"dataframe\">\n",
       "  <thead>\n",
       "    <tr style=\"text-align: right;\">\n",
       "      <th></th>\n",
       "      <th></th>\n",
       "      <th></th>\n",
       "      <th>decodedId</th>\n",
       "      <th>radius</th>\n",
       "      <th>xpos</th>\n",
       "      <th>ypos</th>\n",
       "      <th>zRotation</th>\n",
       "      <th>cam_id</th>\n",
       "    </tr>\n",
       "    <tr>\n",
       "      <th>fc_id</th>\n",
       "      <th>frame_idx</th>\n",
       "      <th>idx</th>\n",
       "      <th></th>\n",
       "      <th></th>\n",
       "      <th></th>\n",
       "      <th></th>\n",
       "      <th></th>\n",
       "      <th></th>\n",
       "    </tr>\n",
       "  </thead>\n",
       "  <tbody>\n",
       "    <tr>\n",
       "      <th rowspan=\"2\" valign=\"top\">-5179138378376356864</th>\n",
       "      <th rowspan=\"2\" valign=\"top\">0</th>\n",
       "      <th>0</th>\n",
       "      <td>[0, 0, 0, 0, 0, 255, 255, 0, 0, 0, 7, 255]</td>\n",
       "      <td>23.003563</td>\n",
       "      <td>102</td>\n",
       "      <td>1750</td>\n",
       "      <td>0.010662</td>\n",
       "      <td>0</td>\n",
       "    </tr>\n",
       "    <tr>\n",
       "      <th>1</th>\n",
       "      <td>[6, 255, 255, 255, 0, 255, 0, 255, 255, 0, 255...</td>\n",
       "      <td>23.086124</td>\n",
       "      <td>100</td>\n",
       "      <td>2362</td>\n",
       "      <td>-1.891746</td>\n",
       "      <td>0</td>\n",
       "    </tr>\n",
       "  </tbody>\n",
       "</table>\n",
       "</div>"
      ],
      "text/plain": [
       "                                                                            decodedId  \\\n",
       "fc_id                frame_idx idx                                                      \n",
       "-5179138378376356864 0         0           [0, 0, 0, 0, 0, 255, 255, 0, 0, 0, 7, 255]   \n",
       "                               1    [6, 255, 255, 255, 0, 255, 0, 255, 255, 0, 255...   \n",
       "\n",
       "                                       radius  xpos  ypos  zRotation  cam_id  \n",
       "fc_id                frame_idx idx                                            \n",
       "-5179138378376356864 0         0    23.003563   102  1750   0.010662       0  \n",
       "                               1    23.086124   100  2362  -1.891746       0  "
      ]
     },
     "execution_count": 6,
     "metadata": {},
     "output_type": "execute_result"
    }
   ],
   "source": [
    "df.head(2)"
   ]
  },
  {
   "cell_type": "markdown",
   "metadata": {},
   "source": [
    "## Wie viele verschiedene Bienen wurden pro Kameras erkannt?\n",
    "Wie groß ist die Überlappung?\n",
    "\n",
    "### Schritte\n",
    "* Ersteinmal eine lesbare ID umrechnen für alle Detections\n",
    "* pro Frame Schnittmenge ausrechnen\n",
    "* gucken wie groß die ist\n",
    "\n",
    "zusammen gehoeren cam 0 und 3, \n",
    "cam 1 und 2"
   ]
  },
  {
   "cell_type": "code",
   "execution_count": 7,
   "metadata": {
    "collapsed": false
   },
   "outputs": [],
   "source": [
    "def get_binary_bit(bit, threshold):\n",
    "    if (bit <= threshold):\n",
    "        return 0\n",
    "    \n",
    "    if (bit >= 255-threshold):\n",
    "        return 1\n",
    "    \n",
    "    else:\n",
    "        return np.nan\n",
    "\n",
    "# Zum ausrechnen der IDs\n",
    "def get_detected_id(id):\n",
    "    \n",
    "    threshold = 50\n",
    "    \n",
    "    # Umrechnen in binary array [0,1,1,1,0,1,1,1,0,0,0,1]\n",
    "    # Ids die nicht umgerechnet werden können, weil außerhalb des threshold, werden NAN\n",
    "    binary_id = [get_binary_bit(i, threshold) for i in id]\n",
    "\n",
    "    decimal_id = np.nan\n",
    "\n",
    "    if not np.isnan(binary_id).any():\n",
    "        # convert to decimal id using 11 least significant bits\n",
    "        decimal_id = int(''.join([str(c) for c in binary_id[:11]]), 2)\n",
    "\n",
    "        # determine what kind of parity bit was used and add 2^11 to decimal id\n",
    "        # uneven parity bit was used\n",
    "        if ((sum(binary_id) % 2) == 1):\n",
    "            decimal_id += 2048\n",
    "\n",
    "    return decimal_id"
   ]
  },
  {
   "cell_type": "code",
   "execution_count": 8,
   "metadata": {
    "collapsed": false
   },
   "outputs": [
    {
     "name": "stdout",
     "output_type": "stream",
     "text": [
      "[208, 255, 255, 248, 255, 0, 255, 0, 255, 0, 255, 1]\n"
     ]
    },
    {
     "data": {
      "text/plain": [
       "[nan, 1, 1, 1, 1, 0, 1, 0, 1, 0, 1, 0]"
      ]
     },
     "execution_count": 8,
     "metadata": {},
     "output_type": "execute_result"
    }
   ],
   "source": [
    "t = 10\n",
    "array = df.iloc[100].decodedId\n",
    "print(array)\n",
    "\n",
    "bin = [get_binary_bit(x,t) for x in array]\n",
    "bin"
   ]
  },
  {
   "cell_type": "code",
   "execution_count": 9,
   "metadata": {
    "collapsed": false
   },
   "outputs": [
    {
     "data": {
      "text/plain": [
       "2005"
      ]
     },
     "execution_count": 9,
     "metadata": {},
     "output_type": "execute_result"
    }
   ],
   "source": [
    "get_detected_id(array)"
   ]
  },
  {
   "cell_type": "code",
   "execution_count": 10,
   "metadata": {
    "collapsed": false
   },
   "outputs": [],
   "source": [
    "df['id'] = df.decodedId.apply(get_detected_id)"
   ]
  },
  {
   "cell_type": "markdown",
   "metadata": {},
   "source": [
    "**Prozent an rows die NAN enthalten**"
   ]
  },
  {
   "cell_type": "code",
   "execution_count": 11,
   "metadata": {
    "collapsed": false
   },
   "outputs": [
    {
     "name": "stdout",
     "output_type": "stream",
     "text": [
      "Total detections all cams 1024 frames: 144068\n",
      "19.320043312880028 percent NAN rows\n"
     ]
    }
   ],
   "source": [
    "rows = df.shape[0]\n",
    "nulls = np.isnan(df.id).sum()\n",
    "print(\"Total detections all cams 1024 frames: {}\".format(rows))\n",
    "print(\"{} percent NAN rows\".format(nulls*100/rows))"
   ]
  },
  {
   "cell_type": "code",
   "execution_count": 427,
   "metadata": {
    "collapsed": false
   },
   "outputs": [
    {
     "data": {
      "text/html": [
       "<div>\n",
       "<table border=\"1\" class=\"dataframe\">\n",
       "  <thead>\n",
       "    <tr style=\"text-align: right;\">\n",
       "      <th></th>\n",
       "      <th></th>\n",
       "      <th></th>\n",
       "      <th>decodedId</th>\n",
       "      <th>radius</th>\n",
       "      <th>xpos</th>\n",
       "      <th>ypos</th>\n",
       "      <th>zRotation</th>\n",
       "      <th>cam_id</th>\n",
       "      <th>id</th>\n",
       "    </tr>\n",
       "    <tr>\n",
       "      <th>fc_id</th>\n",
       "      <th>frame_idx</th>\n",
       "      <th>idx</th>\n",
       "      <th></th>\n",
       "      <th></th>\n",
       "      <th></th>\n",
       "      <th></th>\n",
       "      <th></th>\n",
       "      <th></th>\n",
       "      <th></th>\n",
       "    </tr>\n",
       "  </thead>\n",
       "  <tbody>\n",
       "    <tr>\n",
       "      <th rowspan=\"10\" valign=\"top\">-5179138378376356864</th>\n",
       "      <th rowspan=\"10\" valign=\"top\">0</th>\n",
       "      <th>0</th>\n",
       "      <td>[0, 0, 0, 0, 0, 255, 255, 0, 0, 0, 7, 255]</td>\n",
       "      <td>23.003563</td>\n",
       "      <td>102</td>\n",
       "      <td>1750</td>\n",
       "      <td>0.010662</td>\n",
       "      <td>0</td>\n",
       "      <td>2096.0</td>\n",
       "    </tr>\n",
       "    <tr>\n",
       "      <th>1</th>\n",
       "      <td>[6, 255, 255, 255, 0, 255, 0, 255, 255, 0, 255...</td>\n",
       "      <td>23.086124</td>\n",
       "      <td>100</td>\n",
       "      <td>2362</td>\n",
       "      <td>-1.891746</td>\n",
       "      <td>0</td>\n",
       "      <td>941.0</td>\n",
       "    </tr>\n",
       "    <tr>\n",
       "      <th>2</th>\n",
       "      <td>[255, 0, 255, 0, 255, 255, 255, 255, 255, 0, 0...</td>\n",
       "      <td>22.594471</td>\n",
       "      <td>175</td>\n",
       "      <td>1562</td>\n",
       "      <td>0.573300</td>\n",
       "      <td>0</td>\n",
       "      <td>1404.0</td>\n",
       "    </tr>\n",
       "    <tr>\n",
       "      <th>3</th>\n",
       "      <td>[218, 207, 196, 65, 162, 249, 218, 243, 158, 1...</td>\n",
       "      <td>23.224226</td>\n",
       "      <td>337</td>\n",
       "      <td>1050</td>\n",
       "      <td>-0.096084</td>\n",
       "      <td>0</td>\n",
       "      <td>NaN</td>\n",
       "    </tr>\n",
       "    <tr>\n",
       "      <th>4</th>\n",
       "      <td>[0, 0, 0, 255, 0, 1, 0, 0, 254, 0, 255, 255]</td>\n",
       "      <td>22.616663</td>\n",
       "      <td>388</td>\n",
       "      <td>2124</td>\n",
       "      <td>2.327337</td>\n",
       "      <td>0</td>\n",
       "      <td>133.0</td>\n",
       "    </tr>\n",
       "    <tr>\n",
       "      <th>5</th>\n",
       "      <td>[0, 255, 0, 0, 254, 0, 0, 255, 0, 0, 255, 0]</td>\n",
       "      <td>22.837029</td>\n",
       "      <td>425</td>\n",
       "      <td>812</td>\n",
       "      <td>-1.252054</td>\n",
       "      <td>0</td>\n",
       "      <td>585.0</td>\n",
       "    </tr>\n",
       "    <tr>\n",
       "      <th>6</th>\n",
       "      <td>[0, 0, 255, 0, 0, 255, 0, 0, 0, 0, 255, 255]</td>\n",
       "      <td>22.723553</td>\n",
       "      <td>449</td>\n",
       "      <td>1664</td>\n",
       "      <td>1.664661</td>\n",
       "      <td>0</td>\n",
       "      <td>289.0</td>\n",
       "    </tr>\n",
       "    <tr>\n",
       "      <th>7</th>\n",
       "      <td>[1, 0, 250, 254, 255, 0, 0, 253, 1, 239, 255, ...</td>\n",
       "      <td>22.926441</td>\n",
       "      <td>450</td>\n",
       "      <td>2677</td>\n",
       "      <td>1.795066</td>\n",
       "      <td>0</td>\n",
       "      <td>2507.0</td>\n",
       "    </tr>\n",
       "    <tr>\n",
       "      <th>8</th>\n",
       "      <td>[0, 255, 0, 255, 0, 254, 0, 0, 0, 0, 255, 0]</td>\n",
       "      <td>22.940126</td>\n",
       "      <td>476</td>\n",
       "      <td>1826</td>\n",
       "      <td>-0.389227</td>\n",
       "      <td>0</td>\n",
       "      <td>673.0</td>\n",
       "    </tr>\n",
       "    <tr>\n",
       "      <th>9</th>\n",
       "      <td>[0, 255, 0, 249, 0, 243, 255, 159, 0, 0, 253, ...</td>\n",
       "      <td>23.274599</td>\n",
       "      <td>565</td>\n",
       "      <td>2373</td>\n",
       "      <td>-0.406192</td>\n",
       "      <td>0</td>\n",
       "      <td>NaN</td>\n",
       "    </tr>\n",
       "  </tbody>\n",
       "</table>\n",
       "</div>"
      ],
      "text/plain": [
       "                                                                            decodedId  \\\n",
       "fc_id                frame_idx idx                                                      \n",
       "-5179138378376356864 0         0           [0, 0, 0, 0, 0, 255, 255, 0, 0, 0, 7, 255]   \n",
       "                               1    [6, 255, 255, 255, 0, 255, 0, 255, 255, 0, 255...   \n",
       "                               2    [255, 0, 255, 0, 255, 255, 255, 255, 255, 0, 0...   \n",
       "                               3    [218, 207, 196, 65, 162, 249, 218, 243, 158, 1...   \n",
       "                               4         [0, 0, 0, 255, 0, 1, 0, 0, 254, 0, 255, 255]   \n",
       "                               5         [0, 255, 0, 0, 254, 0, 0, 255, 0, 0, 255, 0]   \n",
       "                               6         [0, 0, 255, 0, 0, 255, 0, 0, 0, 0, 255, 255]   \n",
       "                               7    [1, 0, 250, 254, 255, 0, 0, 253, 1, 239, 255, ...   \n",
       "                               8         [0, 255, 0, 255, 0, 254, 0, 0, 0, 0, 255, 0]   \n",
       "                               9    [0, 255, 0, 249, 0, 243, 255, 159, 0, 0, 253, ...   \n",
       "\n",
       "                                       radius  xpos  ypos  zRotation  cam_id  \\\n",
       "fc_id                frame_idx idx                                             \n",
       "-5179138378376356864 0         0    23.003563   102  1750   0.010662       0   \n",
       "                               1    23.086124   100  2362  -1.891746       0   \n",
       "                               2    22.594471   175  1562   0.573300       0   \n",
       "                               3    23.224226   337  1050  -0.096084       0   \n",
       "                               4    22.616663   388  2124   2.327337       0   \n",
       "                               5    22.837029   425   812  -1.252054       0   \n",
       "                               6    22.723553   449  1664   1.664661       0   \n",
       "                               7    22.926441   450  2677   1.795066       0   \n",
       "                               8    22.940126   476  1826  -0.389227       0   \n",
       "                               9    23.274599   565  2373  -0.406192       0   \n",
       "\n",
       "                                        id  \n",
       "fc_id                frame_idx idx          \n",
       "-5179138378376356864 0         0    2096.0  \n",
       "                               1     941.0  \n",
       "                               2    1404.0  \n",
       "                               3       NaN  \n",
       "                               4     133.0  \n",
       "                               5     585.0  \n",
       "                               6     289.0  \n",
       "                               7    2507.0  \n",
       "                               8     673.0  \n",
       "                               9       NaN  "
      ]
     },
     "execution_count": 427,
     "metadata": {},
     "output_type": "execute_result"
    }
   ],
   "source": [
    "df.head(10)"
   ]
  },
  {
   "cell_type": "code",
   "execution_count": 12,
   "metadata": {
    "collapsed": false
   },
   "outputs": [],
   "source": [
    "df_ids = df.dropna()"
   ]
  },
  {
   "cell_type": "code",
   "execution_count": 13,
   "metadata": {
    "collapsed": false
   },
   "outputs": [
    {
     "data": {
      "text/html": [
       "<div>\n",
       "<table border=\"1\" class=\"dataframe\">\n",
       "  <thead>\n",
       "    <tr style=\"text-align: right;\">\n",
       "      <th></th>\n",
       "      <th></th>\n",
       "      <th></th>\n",
       "      <th>decodedId</th>\n",
       "      <th>radius</th>\n",
       "      <th>xpos</th>\n",
       "      <th>ypos</th>\n",
       "      <th>zRotation</th>\n",
       "      <th>cam_id</th>\n",
       "      <th>id</th>\n",
       "    </tr>\n",
       "    <tr>\n",
       "      <th>fc_id</th>\n",
       "      <th>frame_idx</th>\n",
       "      <th>idx</th>\n",
       "      <th></th>\n",
       "      <th></th>\n",
       "      <th></th>\n",
       "      <th></th>\n",
       "      <th></th>\n",
       "      <th></th>\n",
       "      <th></th>\n",
       "    </tr>\n",
       "  </thead>\n",
       "  <tbody>\n",
       "    <tr>\n",
       "      <th rowspan=\"10\" valign=\"top\">-5179138378376356864</th>\n",
       "      <th rowspan=\"10\" valign=\"top\">0</th>\n",
       "      <th>0</th>\n",
       "      <td>[0, 0, 0, 0, 0, 255, 255, 0, 0, 0, 7, 255]</td>\n",
       "      <td>23.003563</td>\n",
       "      <td>102</td>\n",
       "      <td>1750</td>\n",
       "      <td>0.010662</td>\n",
       "      <td>0</td>\n",
       "      <td>2096.0</td>\n",
       "    </tr>\n",
       "    <tr>\n",
       "      <th>1</th>\n",
       "      <td>[6, 255, 255, 255, 0, 255, 0, 255, 255, 0, 255...</td>\n",
       "      <td>23.086124</td>\n",
       "      <td>100</td>\n",
       "      <td>2362</td>\n",
       "      <td>-1.891746</td>\n",
       "      <td>0</td>\n",
       "      <td>941.0</td>\n",
       "    </tr>\n",
       "    <tr>\n",
       "      <th>2</th>\n",
       "      <td>[255, 0, 255, 0, 255, 255, 255, 255, 255, 0, 0...</td>\n",
       "      <td>22.594471</td>\n",
       "      <td>175</td>\n",
       "      <td>1562</td>\n",
       "      <td>0.573300</td>\n",
       "      <td>0</td>\n",
       "      <td>1404.0</td>\n",
       "    </tr>\n",
       "    <tr>\n",
       "      <th>4</th>\n",
       "      <td>[0, 0, 0, 255, 0, 1, 0, 0, 254, 0, 255, 255]</td>\n",
       "      <td>22.616663</td>\n",
       "      <td>388</td>\n",
       "      <td>2124</td>\n",
       "      <td>2.327337</td>\n",
       "      <td>0</td>\n",
       "      <td>133.0</td>\n",
       "    </tr>\n",
       "    <tr>\n",
       "      <th>5</th>\n",
       "      <td>[0, 255, 0, 0, 254, 0, 0, 255, 0, 0, 255, 0]</td>\n",
       "      <td>22.837029</td>\n",
       "      <td>425</td>\n",
       "      <td>812</td>\n",
       "      <td>-1.252054</td>\n",
       "      <td>0</td>\n",
       "      <td>585.0</td>\n",
       "    </tr>\n",
       "    <tr>\n",
       "      <th>6</th>\n",
       "      <td>[0, 0, 255, 0, 0, 255, 0, 0, 0, 0, 255, 255]</td>\n",
       "      <td>22.723553</td>\n",
       "      <td>449</td>\n",
       "      <td>1664</td>\n",
       "      <td>1.664661</td>\n",
       "      <td>0</td>\n",
       "      <td>289.0</td>\n",
       "    </tr>\n",
       "    <tr>\n",
       "      <th>7</th>\n",
       "      <td>[1, 0, 250, 254, 255, 0, 0, 253, 1, 239, 255, ...</td>\n",
       "      <td>22.926441</td>\n",
       "      <td>450</td>\n",
       "      <td>2677</td>\n",
       "      <td>1.795066</td>\n",
       "      <td>0</td>\n",
       "      <td>2507.0</td>\n",
       "    </tr>\n",
       "    <tr>\n",
       "      <th>8</th>\n",
       "      <td>[0, 255, 0, 255, 0, 254, 0, 0, 0, 0, 255, 0]</td>\n",
       "      <td>22.940126</td>\n",
       "      <td>476</td>\n",
       "      <td>1826</td>\n",
       "      <td>-0.389227</td>\n",
       "      <td>0</td>\n",
       "      <td>673.0</td>\n",
       "    </tr>\n",
       "    <tr>\n",
       "      <th>10</th>\n",
       "      <td>[255, 0, 0, 255, 0, 255, 255, 255, 255, 0, 0, ...</td>\n",
       "      <td>22.786806</td>\n",
       "      <td>652</td>\n",
       "      <td>1887</td>\n",
       "      <td>0.301280</td>\n",
       "      <td>0</td>\n",
       "      <td>3260.0</td>\n",
       "    </tr>\n",
       "    <tr>\n",
       "      <th>11</th>\n",
       "      <td>[0, 255, 255, 255, 255, 255, 0, 255, 0, 0, 255...</td>\n",
       "      <td>23.077099</td>\n",
       "      <td>712</td>\n",
       "      <td>1049</td>\n",
       "      <td>-1.764035</td>\n",
       "      <td>0</td>\n",
       "      <td>1001.0</td>\n",
       "    </tr>\n",
       "  </tbody>\n",
       "</table>\n",
       "</div>"
      ],
      "text/plain": [
       "                                                                            decodedId  \\\n",
       "fc_id                frame_idx idx                                                      \n",
       "-5179138378376356864 0         0           [0, 0, 0, 0, 0, 255, 255, 0, 0, 0, 7, 255]   \n",
       "                               1    [6, 255, 255, 255, 0, 255, 0, 255, 255, 0, 255...   \n",
       "                               2    [255, 0, 255, 0, 255, 255, 255, 255, 255, 0, 0...   \n",
       "                               4         [0, 0, 0, 255, 0, 1, 0, 0, 254, 0, 255, 255]   \n",
       "                               5         [0, 255, 0, 0, 254, 0, 0, 255, 0, 0, 255, 0]   \n",
       "                               6         [0, 0, 255, 0, 0, 255, 0, 0, 0, 0, 255, 255]   \n",
       "                               7    [1, 0, 250, 254, 255, 0, 0, 253, 1, 239, 255, ...   \n",
       "                               8         [0, 255, 0, 255, 0, 254, 0, 0, 0, 0, 255, 0]   \n",
       "                               10   [255, 0, 0, 255, 0, 255, 255, 255, 255, 0, 0, ...   \n",
       "                               11   [0, 255, 255, 255, 255, 255, 0, 255, 0, 0, 255...   \n",
       "\n",
       "                                       radius  xpos  ypos  zRotation  cam_id  \\\n",
       "fc_id                frame_idx idx                                             \n",
       "-5179138378376356864 0         0    23.003563   102  1750   0.010662       0   \n",
       "                               1    23.086124   100  2362  -1.891746       0   \n",
       "                               2    22.594471   175  1562   0.573300       0   \n",
       "                               4    22.616663   388  2124   2.327337       0   \n",
       "                               5    22.837029   425   812  -1.252054       0   \n",
       "                               6    22.723553   449  1664   1.664661       0   \n",
       "                               7    22.926441   450  2677   1.795066       0   \n",
       "                               8    22.940126   476  1826  -0.389227       0   \n",
       "                               10   22.786806   652  1887   0.301280       0   \n",
       "                               11   23.077099   712  1049  -1.764035       0   \n",
       "\n",
       "                                        id  \n",
       "fc_id                frame_idx idx          \n",
       "-5179138378376356864 0         0    2096.0  \n",
       "                               1     941.0  \n",
       "                               2    1404.0  \n",
       "                               4     133.0  \n",
       "                               5     585.0  \n",
       "                               6     289.0  \n",
       "                               7    2507.0  \n",
       "                               8     673.0  \n",
       "                               10   3260.0  \n",
       "                               11   1001.0  "
      ]
     },
     "execution_count": 13,
     "metadata": {},
     "output_type": "execute_result"
    }
   ],
   "source": [
    "df_ids.head(10)"
   ]
  },
  {
   "cell_type": "markdown",
   "metadata": {},
   "source": [
    "## Schauen ob pro Frame, alle Detection Ids unique sind."
   ]
  },
  {
   "cell_type": "code",
   "execution_count": 430,
   "metadata": {
    "collapsed": false
   },
   "outputs": [],
   "source": [
    "# df.ix[:,0,:]\n",
    "#f0 = df_ids.xs(0, level='frame_idx').xs(-5179138378376356864, level='fc_id')\n",
    "# df.sort_index().loc[[slice(None), 0, slice(None)]]\n",
    "#f0"
   ]
  },
  {
   "cell_type": "code",
   "execution_count": 14,
   "metadata": {
    "collapsed": false
   },
   "outputs": [
    {
     "data": {
      "text/html": [
       "<div>\n",
       "<table border=\"1\" class=\"dataframe\">\n",
       "  <thead>\n",
       "    <tr style=\"text-align: right;\">\n",
       "      <th></th>\n",
       "      <th>fc_id</th>\n",
       "      <th>idx</th>\n",
       "      <th>frame_idx</th>\n",
       "      <th>decodedId</th>\n",
       "      <th>radius</th>\n",
       "      <th>xpos</th>\n",
       "      <th>ypos</th>\n",
       "      <th>zRotation</th>\n",
       "      <th>cam_id</th>\n",
       "      <th>id</th>\n",
       "    </tr>\n",
       "  </thead>\n",
       "  <tbody>\n",
       "    <tr>\n",
       "      <th>0</th>\n",
       "      <td>-5179138378376356864</td>\n",
       "      <td>0</td>\n",
       "      <td>0</td>\n",
       "      <td>[0, 0, 0, 0, 0, 255, 255, 0, 0, 0, 7, 255]</td>\n",
       "      <td>23.003563</td>\n",
       "      <td>102</td>\n",
       "      <td>1750</td>\n",
       "      <td>0.010662</td>\n",
       "      <td>0</td>\n",
       "      <td>2096.0</td>\n",
       "    </tr>\n",
       "    <tr>\n",
       "      <th>1</th>\n",
       "      <td>-5179138378376356864</td>\n",
       "      <td>1</td>\n",
       "      <td>0</td>\n",
       "      <td>[6, 255, 255, 255, 0, 255, 0, 255, 255, 0, 255...</td>\n",
       "      <td>23.086124</td>\n",
       "      <td>100</td>\n",
       "      <td>2362</td>\n",
       "      <td>-1.891746</td>\n",
       "      <td>0</td>\n",
       "      <td>941.0</td>\n",
       "    </tr>\n",
       "    <tr>\n",
       "      <th>2</th>\n",
       "      <td>-5179138378376356864</td>\n",
       "      <td>2</td>\n",
       "      <td>0</td>\n",
       "      <td>[255, 0, 255, 0, 255, 255, 255, 255, 255, 0, 0...</td>\n",
       "      <td>22.594471</td>\n",
       "      <td>175</td>\n",
       "      <td>1562</td>\n",
       "      <td>0.573300</td>\n",
       "      <td>0</td>\n",
       "      <td>1404.0</td>\n",
       "    </tr>\n",
       "    <tr>\n",
       "      <th>4</th>\n",
       "      <td>-5179138378376356864</td>\n",
       "      <td>4</td>\n",
       "      <td>0</td>\n",
       "      <td>[0, 0, 0, 255, 0, 1, 0, 0, 254, 0, 255, 255]</td>\n",
       "      <td>22.616663</td>\n",
       "      <td>388</td>\n",
       "      <td>2124</td>\n",
       "      <td>2.327337</td>\n",
       "      <td>0</td>\n",
       "      <td>133.0</td>\n",
       "    </tr>\n",
       "    <tr>\n",
       "      <th>5</th>\n",
       "      <td>-5179138378376356864</td>\n",
       "      <td>5</td>\n",
       "      <td>0</td>\n",
       "      <td>[0, 255, 0, 0, 254, 0, 0, 255, 0, 0, 255, 0]</td>\n",
       "      <td>22.837029</td>\n",
       "      <td>425</td>\n",
       "      <td>812</td>\n",
       "      <td>-1.252054</td>\n",
       "      <td>0</td>\n",
       "      <td>585.0</td>\n",
       "    </tr>\n",
       "  </tbody>\n",
       "</table>\n",
       "</div>"
      ],
      "text/plain": [
       "                 fc_id  idx  frame_idx  \\\n",
       "0 -5179138378376356864    0          0   \n",
       "1 -5179138378376356864    1          0   \n",
       "2 -5179138378376356864    2          0   \n",
       "4 -5179138378376356864    4          0   \n",
       "5 -5179138378376356864    5          0   \n",
       "\n",
       "                                           decodedId     radius  xpos  ypos  \\\n",
       "0         [0, 0, 0, 0, 0, 255, 255, 0, 0, 0, 7, 255]  23.003563   102  1750   \n",
       "1  [6, 255, 255, 255, 0, 255, 0, 255, 255, 0, 255...  23.086124   100  2362   \n",
       "2  [255, 0, 255, 0, 255, 255, 255, 255, 255, 0, 0...  22.594471   175  1562   \n",
       "4       [0, 0, 0, 255, 0, 1, 0, 0, 254, 0, 255, 255]  22.616663   388  2124   \n",
       "5       [0, 255, 0, 0, 254, 0, 0, 255, 0, 0, 255, 0]  22.837029   425   812   \n",
       "\n",
       "   zRotation  cam_id      id  \n",
       "0   0.010662       0  2096.0  \n",
       "1  -1.891746       0   941.0  \n",
       "2   0.573300       0  1404.0  \n",
       "4   2.327337       0   133.0  \n",
       "5  -1.252054       0   585.0  "
      ]
     },
     "execution_count": 14,
     "metadata": {},
     "output_type": "execute_result"
    }
   ],
   "source": [
    "df2 = df.reset_index(level=1).reset_index(level=1).reset_index(level=1)\n",
    "df2 = df2.dropna()\n",
    "df2.head()"
   ]
  },
  {
   "cell_type": "markdown",
   "metadata": {},
   "source": [
    "### In welchen Frames gibt es gleiche IDs?"
   ]
  },
  {
   "cell_type": "code",
   "execution_count": 432,
   "metadata": {
    "collapsed": false
   },
   "outputs": [
    {
     "data": {
      "text/html": [
       "<div>\n",
       "<table border=\"1\" class=\"dataframe\">\n",
       "  <thead>\n",
       "    <tr style=\"text-align: right;\">\n",
       "      <th></th>\n",
       "      <th></th>\n",
       "      <th>sizes</th>\n",
       "      <th>uniques</th>\n",
       "      <th>diff</th>\n",
       "    </tr>\n",
       "    <tr>\n",
       "      <th>cam_id</th>\n",
       "      <th>frame_idx</th>\n",
       "      <th></th>\n",
       "      <th></th>\n",
       "      <th></th>\n",
       "    </tr>\n",
       "  </thead>\n",
       "  <tbody>\n",
       "    <tr>\n",
       "      <th rowspan=\"11\" valign=\"top\">1</th>\n",
       "      <th>73</th>\n",
       "      <td>48</td>\n",
       "      <td>47.0</td>\n",
       "      <td>1.0</td>\n",
       "    </tr>\n",
       "    <tr>\n",
       "      <th>113</th>\n",
       "      <td>48</td>\n",
       "      <td>47.0</td>\n",
       "      <td>1.0</td>\n",
       "    </tr>\n",
       "    <tr>\n",
       "      <th>114</th>\n",
       "      <td>48</td>\n",
       "      <td>47.0</td>\n",
       "      <td>1.0</td>\n",
       "    </tr>\n",
       "    <tr>\n",
       "      <th>115</th>\n",
       "      <td>49</td>\n",
       "      <td>48.0</td>\n",
       "      <td>1.0</td>\n",
       "    </tr>\n",
       "    <tr>\n",
       "      <th>127</th>\n",
       "      <td>53</td>\n",
       "      <td>52.0</td>\n",
       "      <td>1.0</td>\n",
       "    </tr>\n",
       "    <tr>\n",
       "      <th>249</th>\n",
       "      <td>58</td>\n",
       "      <td>57.0</td>\n",
       "      <td>1.0</td>\n",
       "    </tr>\n",
       "    <tr>\n",
       "      <th>400</th>\n",
       "      <td>54</td>\n",
       "      <td>53.0</td>\n",
       "      <td>1.0</td>\n",
       "    </tr>\n",
       "    <tr>\n",
       "      <th>590</th>\n",
       "      <td>58</td>\n",
       "      <td>57.0</td>\n",
       "      <td>1.0</td>\n",
       "    </tr>\n",
       "    <tr>\n",
       "      <th>878</th>\n",
       "      <td>48</td>\n",
       "      <td>47.0</td>\n",
       "      <td>1.0</td>\n",
       "    </tr>\n",
       "    <tr>\n",
       "      <th>959</th>\n",
       "      <td>55</td>\n",
       "      <td>54.0</td>\n",
       "      <td>1.0</td>\n",
       "    </tr>\n",
       "    <tr>\n",
       "      <th>963</th>\n",
       "      <td>61</td>\n",
       "      <td>60.0</td>\n",
       "      <td>1.0</td>\n",
       "    </tr>\n",
       "    <tr>\n",
       "      <th rowspan=\"3\" valign=\"top\">2</th>\n",
       "      <th>1</th>\n",
       "      <td>24</td>\n",
       "      <td>23.0</td>\n",
       "      <td>1.0</td>\n",
       "    </tr>\n",
       "    <tr>\n",
       "      <th>5</th>\n",
       "      <td>23</td>\n",
       "      <td>22.0</td>\n",
       "      <td>1.0</td>\n",
       "    </tr>\n",
       "    <tr>\n",
       "      <th>584</th>\n",
       "      <td>22</td>\n",
       "      <td>21.0</td>\n",
       "      <td>1.0</td>\n",
       "    </tr>\n",
       "    <tr>\n",
       "      <th>3</th>\n",
       "      <th>86</th>\n",
       "      <td>22</td>\n",
       "      <td>21.0</td>\n",
       "      <td>1.0</td>\n",
       "    </tr>\n",
       "  </tbody>\n",
       "</table>\n",
       "</div>"
      ],
      "text/plain": [
       "                  sizes  uniques  diff\n",
       "cam_id frame_idx                      \n",
       "1      73            48     47.0   1.0\n",
       "       113           48     47.0   1.0\n",
       "       114           48     47.0   1.0\n",
       "       115           49     48.0   1.0\n",
       "       127           53     52.0   1.0\n",
       "       249           58     57.0   1.0\n",
       "       400           54     53.0   1.0\n",
       "       590           58     57.0   1.0\n",
       "       878           48     47.0   1.0\n",
       "       959           55     54.0   1.0\n",
       "       963           61     60.0   1.0\n",
       "2      1             24     23.0   1.0\n",
       "       5             23     22.0   1.0\n",
       "       584           22     21.0   1.0\n",
       "3      86            22     21.0   1.0"
      ]
     },
     "execution_count": 432,
     "metadata": {},
     "output_type": "execute_result"
    }
   ],
   "source": [
    "gr = df2.groupby(['cam_id', 'frame_idx'])\n",
    "\n",
    "id_unique = gr['id'].aggregate(lambda x: x.nunique())\n",
    "id_sizes = gr['id'].size()\n",
    "\n",
    "df_id_unique = DataFrame({'uniques': id_unique, 'sizes': id_sizes})\n",
    "df_id_unique['diff'] = df_id_unique.sizes - df_id_unique.uniques\n",
    "df_id_unique.head()\n",
    "\n",
    "df_id_unique[df_id_unique['diff'] > 0]"
   ]
  },
  {
   "cell_type": "code",
   "execution_count": 15,
   "metadata": {
    "collapsed": false
   },
   "outputs": [],
   "source": [
    "gr2 = df2.groupby(['frame_idx'])\n",
    "\n",
    "n_uniques = gr2['id'].aggregate(lambda x: x.nunique())\n",
    "n_sizes = gr2['id'].size()"
   ]
  },
  {
   "cell_type": "code",
   "execution_count": 16,
   "metadata": {
    "collapsed": false
   },
   "outputs": [
    {
     "data": {
      "text/html": [
       "<div>\n",
       "<table border=\"1\" class=\"dataframe\">\n",
       "  <thead>\n",
       "    <tr style=\"text-align: right;\">\n",
       "      <th></th>\n",
       "      <th>sizes</th>\n",
       "      <th>uniques</th>\n",
       "      <th>diff</th>\n",
       "    </tr>\n",
       "    <tr>\n",
       "      <th>frame_idx</th>\n",
       "      <th></th>\n",
       "      <th></th>\n",
       "      <th></th>\n",
       "    </tr>\n",
       "  </thead>\n",
       "  <tbody>\n",
       "    <tr>\n",
       "      <th>0</th>\n",
       "      <td>122</td>\n",
       "      <td>114.0</td>\n",
       "      <td>8.0</td>\n",
       "    </tr>\n",
       "    <tr>\n",
       "      <th>1</th>\n",
       "      <td>111</td>\n",
       "      <td>103.0</td>\n",
       "      <td>8.0</td>\n",
       "    </tr>\n",
       "    <tr>\n",
       "      <th>2</th>\n",
       "      <td>111</td>\n",
       "      <td>105.0</td>\n",
       "      <td>6.0</td>\n",
       "    </tr>\n",
       "    <tr>\n",
       "      <th>3</th>\n",
       "      <td>114</td>\n",
       "      <td>106.0</td>\n",
       "      <td>8.0</td>\n",
       "    </tr>\n",
       "    <tr>\n",
       "      <th>4</th>\n",
       "      <td>108</td>\n",
       "      <td>100.0</td>\n",
       "      <td>8.0</td>\n",
       "    </tr>\n",
       "  </tbody>\n",
       "</table>\n",
       "</div>"
      ],
      "text/plain": [
       "           sizes  uniques  diff\n",
       "frame_idx                      \n",
       "0            122    114.0   8.0\n",
       "1            111    103.0   8.0\n",
       "2            111    105.0   6.0\n",
       "3            114    106.0   8.0\n",
       "4            108    100.0   8.0"
      ]
     },
     "execution_count": 16,
     "metadata": {},
     "output_type": "execute_result"
    }
   ],
   "source": [
    "df_counts = DataFrame({'uniques': n_uniques, 'sizes': n_sizes})\n",
    "df_counts['diff'] = np.abs(df_counts.sizes - df_counts.uniques)\n",
    "df_counts.head()"
   ]
  },
  {
   "cell_type": "code",
   "execution_count": 435,
   "metadata": {
    "collapsed": false
   },
   "outputs": [
    {
     "data": {
      "text/plain": [
       "<matplotlib.axes._subplots.AxesSubplot at 0x118236c88>"
      ]
     },
     "execution_count": 435,
     "metadata": {},
     "output_type": "execute_result"
    },
    {
     "data": {
      "image/png": "[encoded data removed]",
      "text/plain": [
       "<matplotlib.figure.Figure at 0x11821a710>"
      ]
     },
     "metadata": {},
     "output_type": "display_data"
    }
   ],
   "source": [
    "df_counts['diff'].plot.box()"
   ]
  },
  {
   "cell_type": "code",
   "execution_count": 436,
   "metadata": {
    "collapsed": false
   },
   "outputs": [
    {
     "data": {
      "text/plain": [
       "count    1024.000000\n",
       "mean        7.729492\n",
       "std         2.162976\n",
       "min         2.000000\n",
       "25%         6.000000\n",
       "50%         8.000000\n",
       "75%         9.000000\n",
       "max        15.000000\n",
       "Name: diff, dtype: float64"
      ]
     },
     "execution_count": 436,
     "metadata": {},
     "output_type": "execute_result"
    }
   ],
   "source": [
    "df_counts['diff'].describe()"
   ]
  },
  {
   "cell_type": "code",
   "execution_count": null,
   "metadata": {
    "collapsed": true
   },
   "outputs": [],
   "source": []
  }
 ],
 "metadata": {
  "kernelspec": {
   "display_name": "Python 3",
   "language": "python",
   "name": "python3"
  },
  "language_info": {
   "codemirror_mode": {
    "name": "ipython",
    "version": 3
   },
   "file_extension": ".py",
   "mimetype": "text/x-python",
   "name": "python",
   "nbconvert_exporter": "python",
   "pygments_lexer": "ipython3",
   "version": "3.5.2"
  }
 },
 "nbformat": 4,
 "nbformat_minor": 1
}
