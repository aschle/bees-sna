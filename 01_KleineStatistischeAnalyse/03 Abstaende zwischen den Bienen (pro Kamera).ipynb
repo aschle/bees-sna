{
 "cells": [
  {
   "cell_type": "code",
   "execution_count": 7,
   "metadata": {
    "collapsed": true
   },
   "outputs": [],
   "source": [
    "import pandas as pd\n",
    "import numpy as np\n",
    "import seaborn as sns\n",
    "import matplotlib as mpl\n",
    "import matplotlib.pyplot as plt\n",
    "\n",
    "from datetime import datetime\n",
    "from numpy.random import randn,randint\n",
    "from pandas import DataFrame, Series\n",
    "from bb_binary import Repository, load_frame_container\n",
    "from scipy import stats\n",
    "\n",
    "# Command so that plots appear in the iPython Notebook\n",
    "%matplotlib inline"
   ]
  },
  {
   "cell_type": "code",
   "execution_count": 8,
   "metadata": {
    "collapsed": true
   },
   "outputs": [],
   "source": [
    "base = \"../00_Data/testset_2015_1h/\"\n",
    "#folder0 = \"2015082215\"\n",
    "#folder1 = \"2015092215\"\n",
    "folder2 = \"2015102215\"\n",
    "\n",
    "folder_list = [folder0, folder1, folder2]"
   ]
  },
  {
   "cell_type": "code",
   "execution_count": 9,
   "metadata": {
    "collapsed": true
   },
   "outputs": [],
   "source": [
    "def createDF(repo, sample):\n",
    "    cam0 = list(repo.iter_fnames(cam=0))[0]\n",
    "    cam1 = list(repo.iter_fnames(cam=1))[0]\n",
    "    cam2 = list(repo.iter_fnames(cam=2))[0]\n",
    "    cam3 = list(repo.iter_fnames(cam=3))[0]\n",
    "    files = [cam0, cam1, cam2, cam3]\n",
    "    \n",
    "    df = DataFrame()\n",
    "\n",
    "    # Für jede Datei die Frames einlesen und an DataFrame anhängen\n",
    "    for f in files:\n",
    "\n",
    "        # id - ID des FrameContainers\n",
    "        # frameIdx - ID von einem Frame: 0 - 1023\n",
    "        # idx - ID einer Detection: kommt drauf an wie viele es so gibt\n",
    "\n",
    "        fc = load_frame_container(f)\n",
    "\n",
    "        for f in fc.frames:\n",
    "            # alle Detections von einem Frame\n",
    "            det = DataFrame([d.to_dict() for d in f.detectionsUnion.detectionsDP])\n",
    "            det['frame_idx'] = f.frameIdx\n",
    "            det['cam_id'] = fc.camId\n",
    "            det['fc_id'] = fc.id\n",
    "            det = det.set_index(['fc_id', 'frame_idx', 'idx'])\n",
    "            df = pd.concat([df, det])\n",
    "    \n",
    "    df.drop(['descriptor', 'localizerSaliency', 'xposHive', 'yposHive', 'xRotation', 'yRotation'], axis=1, inplace=True)\n",
    "    return df"
   ]
  },
  {
   "cell_type": "code",
   "execution_count": 10,
   "metadata": {
    "collapsed": true
   },
   "outputs": [],
   "source": [
    "def get_binary_bit(bit, threshold):\n",
    "    if (bit <= threshold):\n",
    "        return 0\n",
    "    \n",
    "    if (bit >= 255-threshold):\n",
    "        return 1\n",
    "    \n",
    "    else:\n",
    "        return np.nan\n",
    "\n",
    "# Zum ausrechnen der IDs\n",
    "def get_detected_id(id):\n",
    "    \n",
    "    threshold = 30\n",
    "    \n",
    "    # Umrechnen in binary array [0,1,1,1,0,1,1,1,0,0,0,1]\n",
    "    # Ids die nicht umgerechnet werden können, weil außerhalb des threshold, werden NAN\n",
    "    binary_id = [get_binary_bit(i, threshold) for i in id]\n",
    "\n",
    "    decimal_id = np.nan\n",
    "\n",
    "    if not np.isnan(binary_id).any():\n",
    "        # convert to decimal id using 11 least significant bits\n",
    "        decimal_id = int(''.join([str(c) for c in binary_id[:11]]), 2)\n",
    "\n",
    "        # determine what kind of parity bit was used and add 2^11 to decimal id\n",
    "        # uneven parity bit was used\n",
    "        if ((sum(binary_id) % 2) == 1):\n",
    "            decimal_id += 2048\n",
    "\n",
    "    return decimal_id"
   ]
  },
  {
   "cell_type": "code",
   "execution_count": 11,
   "metadata": {
    "collapsed": false
   },
   "outputs": [],
   "source": [
    "def print_stat_ids(df, f):\n",
    "    df['id'] = df.decodedId.apply(get_detected_id)\n",
    "    print(f)\n",
    "    print(\"Number of Detections: {}\".format(df.shape[0]))\n",
    "    df = df.dropna()\n",
    "    print(\"Number of dropping na values: {}\".format(df.shape[0]))\n"
   ]
  },
  {
   "cell_type": "code",
   "execution_count": 13,
   "metadata": {
    "collapsed": false
   },
   "outputs": [
    {
     "name": "stdout",
     "output_type": "stream",
     "text": [
      "2015082215\n",
      "Number of Detections: 481457\n",
      "Number of dropping na values: 353672\n",
      "2015092215\n",
      "Number of Detections: 198039\n",
      "Number of dropping na values: 148626\n",
      "2015102215\n",
      "Number of Detections: 46331\n",
      "Number of dropping na values: 33508\n"
     ]
    }
   ],
   "source": [
    "for f in folder_list:\n",
    "    r = Repository(base+f)\n",
    "    df = createDF(r, f)\n",
    "    print_stat_ids(df,f)"
   ]
  },
  {
   "cell_type": "code",
   "execution_count": null,
   "metadata": {
    "collapsed": true
   },
   "outputs": [],
   "source": []
  },
  {
   "cell_type": "code",
   "execution_count": null,
   "metadata": {
    "collapsed": true
   },
   "outputs": [],
   "source": []
  },
  {
   "cell_type": "code",
   "execution_count": null,
   "metadata": {
    "collapsed": true
   },
   "outputs": [],
   "source": []
  },
  {
   "cell_type": "code",
   "execution_count": null,
   "metadata": {
    "collapsed": true
   },
   "outputs": [],
   "source": []
  },
  {
   "cell_type": "markdown",
   "metadata": {},
   "source": [
    "### Bees facing each other?"
   ]
  },
  {
   "cell_type": "code",
   "execution_count": 162,
   "metadata": {
    "collapsed": false
   },
   "outputs": [
    {
     "data": {
      "text/html": [
       "<div>\n",
       "<table border=\"1\" class=\"dataframe\">\n",
       "  <thead>\n",
       "    <tr style=\"text-align: right;\">\n",
       "      <th></th>\n",
       "      <th></th>\n",
       "      <th></th>\n",
       "      <th>xpos</th>\n",
       "      <th>ypos</th>\n",
       "      <th>zRotation</th>\n",
       "      <th>cam_id</th>\n",
       "      <th>id</th>\n",
       "    </tr>\n",
       "    <tr>\n",
       "      <th>fc_id</th>\n",
       "      <th>frame_idx</th>\n",
       "      <th>idx</th>\n",
       "      <th></th>\n",
       "      <th></th>\n",
       "      <th></th>\n",
       "      <th></th>\n",
       "      <th></th>\n",
       "    </tr>\n",
       "  </thead>\n",
       "  <tbody>\n",
       "    <tr>\n",
       "      <th rowspan=\"5\" valign=\"top\">-8311852132518586800</th>\n",
       "      <th rowspan=\"5\" valign=\"top\">0</th>\n",
       "      <th>1</th>\n",
       "      <td>49</td>\n",
       "      <td>2125</td>\n",
       "      <td>1.808376</td>\n",
       "      <td>1</td>\n",
       "      <td>1313.0</td>\n",
       "    </tr>\n",
       "    <tr>\n",
       "      <th>2</th>\n",
       "      <td>64</td>\n",
       "      <td>1914</td>\n",
       "      <td>0.752673</td>\n",
       "      <td>1</td>\n",
       "      <td>1937.0</td>\n",
       "    </tr>\n",
       "    <tr>\n",
       "      <th>3</th>\n",
       "      <td>86</td>\n",
       "      <td>1149</td>\n",
       "      <td>2.772051</td>\n",
       "      <td>1</td>\n",
       "      <td>1756.0</td>\n",
       "    </tr>\n",
       "    <tr>\n",
       "      <th>4</th>\n",
       "      <td>124</td>\n",
       "      <td>1724</td>\n",
       "      <td>-2.471518</td>\n",
       "      <td>1</td>\n",
       "      <td>749.0</td>\n",
       "    </tr>\n",
       "    <tr>\n",
       "      <th>5</th>\n",
       "      <td>148</td>\n",
       "      <td>1300</td>\n",
       "      <td>2.375421</td>\n",
       "      <td>1</td>\n",
       "      <td>1408.0</td>\n",
       "    </tr>\n",
       "  </tbody>\n",
       "</table>\n",
       "</div>"
      ],
      "text/plain": [
       "                                    xpos  ypos  zRotation  cam_id      id\n",
       "fc_id                frame_idx idx                                       \n",
       "-8311852132518586800 0         1      49  2125   1.808376       1  1313.0\n",
       "                               2      64  1914   0.752673       1  1937.0\n",
       "                               3      86  1149   2.772051       1  1756.0\n",
       "                               4     124  1724  -2.471518       1   749.0\n",
       "                               5     148  1300   2.375421       1  1408.0"
      ]
     },
     "execution_count": 162,
     "metadata": {},
     "output_type": "execute_result"
    }
   ],
   "source": [
    "df1 = df_ids[df_ids.cam_id == 1]\n",
    "df1.head()"
   ]
  },
  {
   "cell_type": "code",
   "execution_count": 163,
   "metadata": {
    "collapsed": false
   },
   "outputs": [
    {
     "name": "stderr",
     "output_type": "stream",
     "text": [
      "/usr/local/lib/python3.5/site-packages/ipykernel/__main__.py:1: SettingWithCopyWarning: \n",
      "A value is trying to be set on a copy of a slice from a DataFrame.\n",
      "Try using .loc[row_indexer,col_indexer] = value instead\n",
      "\n",
      "See the caveats in the documentation: http://pandas.pydata.org/pandas-docs/stable/indexing.html#indexing-view-versus-copy\n",
      "  if __name__ == '__main__':\n"
     ]
    }
   ],
   "source": [
    "df1['key'] = 1\n",
    "gr = df1.groupby(level = 'frame_idx')"
   ]
  },
  {
   "cell_type": "code",
   "execution_count": 164,
   "metadata": {
    "collapsed": false
   },
   "outputs": [
    {
     "name": "stdout",
     "output_type": "stream",
     "text": [
      "(2703732, 11)\n"
     ]
    }
   ],
   "source": [
    "merged = DataFrame()\n",
    "\n",
    "for i, g in gr:\n",
    "    cartprodukt = pd.merge(g, g, on='key')\n",
    "    merged = pd.concat([merged, cartprodukt])\n",
    "    \n",
    "print(merged.shape)"
   ]
  },
  {
   "cell_type": "code",
   "execution_count": 165,
   "metadata": {
    "collapsed": false
   },
   "outputs": [],
   "source": [
    "merged.columns\n",
    "\n",
    "merged = merged[merged.id_x < merged.id_y]\n",
    "merged = merged.drop('key', axis=1)"
   ]
  },
  {
   "cell_type": "code",
   "execution_count": 166,
   "metadata": {
    "collapsed": false
   },
   "outputs": [
    {
     "data": {
      "text/html": [
       "<div>\n",
       "<table border=\"1\" class=\"dataframe\">\n",
       "  <thead>\n",
       "    <tr style=\"text-align: right;\">\n",
       "      <th></th>\n",
       "      <th>xpos_x</th>\n",
       "      <th>ypos_x</th>\n",
       "      <th>zRotation_x</th>\n",
       "      <th>cam_id_x</th>\n",
       "      <th>id_x</th>\n",
       "      <th>xpos_y</th>\n",
       "      <th>ypos_y</th>\n",
       "      <th>zRotation_y</th>\n",
       "      <th>cam_id_y</th>\n",
       "      <th>id_y</th>\n",
       "    </tr>\n",
       "  </thead>\n",
       "  <tbody>\n",
       "    <tr>\n",
       "      <th>1</th>\n",
       "      <td>49</td>\n",
       "      <td>2125</td>\n",
       "      <td>1.808376</td>\n",
       "      <td>1</td>\n",
       "      <td>1313.0</td>\n",
       "      <td>64</td>\n",
       "      <td>1914</td>\n",
       "      <td>0.752673</td>\n",
       "      <td>1</td>\n",
       "      <td>1937.0</td>\n",
       "    </tr>\n",
       "    <tr>\n",
       "      <th>2</th>\n",
       "      <td>49</td>\n",
       "      <td>2125</td>\n",
       "      <td>1.808376</td>\n",
       "      <td>1</td>\n",
       "      <td>1313.0</td>\n",
       "      <td>86</td>\n",
       "      <td>1149</td>\n",
       "      <td>2.772051</td>\n",
       "      <td>1</td>\n",
       "      <td>1756.0</td>\n",
       "    </tr>\n",
       "    <tr>\n",
       "      <th>4</th>\n",
       "      <td>49</td>\n",
       "      <td>2125</td>\n",
       "      <td>1.808376</td>\n",
       "      <td>1</td>\n",
       "      <td>1313.0</td>\n",
       "      <td>148</td>\n",
       "      <td>1300</td>\n",
       "      <td>2.375421</td>\n",
       "      <td>1</td>\n",
       "      <td>1408.0</td>\n",
       "    </tr>\n",
       "    <tr>\n",
       "      <th>7</th>\n",
       "      <td>49</td>\n",
       "      <td>2125</td>\n",
       "      <td>1.808376</td>\n",
       "      <td>1</td>\n",
       "      <td>1313.0</td>\n",
       "      <td>214</td>\n",
       "      <td>2364</td>\n",
       "      <td>1.183083</td>\n",
       "      <td>1</td>\n",
       "      <td>1977.0</td>\n",
       "    </tr>\n",
       "    <tr>\n",
       "      <th>10</th>\n",
       "      <td>49</td>\n",
       "      <td>2125</td>\n",
       "      <td>1.808376</td>\n",
       "      <td>1</td>\n",
       "      <td>1313.0</td>\n",
       "      <td>339</td>\n",
       "      <td>2249</td>\n",
       "      <td>-0.490967</td>\n",
       "      <td>1</td>\n",
       "      <td>1861.0</td>\n",
       "    </tr>\n",
       "  </tbody>\n",
       "</table>\n",
       "</div>"
      ],
      "text/plain": [
       "    xpos_x  ypos_x  zRotation_x  cam_id_x    id_x  xpos_y  ypos_y  \\\n",
       "1       49    2125     1.808376         1  1313.0      64    1914   \n",
       "2       49    2125     1.808376         1  1313.0      86    1149   \n",
       "4       49    2125     1.808376         1  1313.0     148    1300   \n",
       "7       49    2125     1.808376         1  1313.0     214    2364   \n",
       "10      49    2125     1.808376         1  1313.0     339    2249   \n",
       "\n",
       "    zRotation_y  cam_id_y    id_y  \n",
       "1      0.752673         1  1937.0  \n",
       "2      2.772051         1  1756.0  \n",
       "4      2.375421         1  1408.0  \n",
       "7      1.183083         1  1977.0  \n",
       "10    -0.490967         1  1861.0  "
      ]
     },
     "execution_count": 166,
     "metadata": {},
     "output_type": "execute_result"
    }
   ],
   "source": [
    "merged.head()"
   ]
  },
  {
   "cell_type": "code",
   "execution_count": 167,
   "metadata": {
    "collapsed": true
   },
   "outputs": [],
   "source": [
    "merged.loc[:, 'dist'] = np.sqrt(np.square(merged.xpos_x - merged.xpos_y) + np.square(merged.ypos_x - merged.ypos_y))"
   ]
  },
  {
   "cell_type": "code",
   "execution_count": 168,
   "metadata": {
    "collapsed": false
   },
   "outputs": [
    {
     "data": {
      "text/html": [
       "<div>\n",
       "<table border=\"1\" class=\"dataframe\">\n",
       "  <thead>\n",
       "    <tr style=\"text-align: right;\">\n",
       "      <th></th>\n",
       "      <th>xpos_x</th>\n",
       "      <th>ypos_x</th>\n",
       "      <th>zRotation_x</th>\n",
       "      <th>cam_id_x</th>\n",
       "      <th>id_x</th>\n",
       "      <th>xpos_y</th>\n",
       "      <th>ypos_y</th>\n",
       "      <th>zRotation_y</th>\n",
       "      <th>cam_id_y</th>\n",
       "      <th>id_y</th>\n",
       "      <th>dist</th>\n",
       "    </tr>\n",
       "  </thead>\n",
       "  <tbody>\n",
       "    <tr>\n",
       "      <th>1</th>\n",
       "      <td>49</td>\n",
       "      <td>2125</td>\n",
       "      <td>1.808376</td>\n",
       "      <td>1</td>\n",
       "      <td>1313.0</td>\n",
       "      <td>64</td>\n",
       "      <td>1914</td>\n",
       "      <td>0.752673</td>\n",
       "      <td>1</td>\n",
       "      <td>1937.0</td>\n",
       "      <td>211.532503</td>\n",
       "    </tr>\n",
       "    <tr>\n",
       "      <th>2</th>\n",
       "      <td>49</td>\n",
       "      <td>2125</td>\n",
       "      <td>1.808376</td>\n",
       "      <td>1</td>\n",
       "      <td>1313.0</td>\n",
       "      <td>86</td>\n",
       "      <td>1149</td>\n",
       "      <td>2.772051</td>\n",
       "      <td>1</td>\n",
       "      <td>1756.0</td>\n",
       "      <td>976.701080</td>\n",
       "    </tr>\n",
       "    <tr>\n",
       "      <th>4</th>\n",
       "      <td>49</td>\n",
       "      <td>2125</td>\n",
       "      <td>1.808376</td>\n",
       "      <td>1</td>\n",
       "      <td>1313.0</td>\n",
       "      <td>148</td>\n",
       "      <td>1300</td>\n",
       "      <td>2.375421</td>\n",
       "      <td>1</td>\n",
       "      <td>1408.0</td>\n",
       "      <td>830.918769</td>\n",
       "    </tr>\n",
       "    <tr>\n",
       "      <th>7</th>\n",
       "      <td>49</td>\n",
       "      <td>2125</td>\n",
       "      <td>1.808376</td>\n",
       "      <td>1</td>\n",
       "      <td>1313.0</td>\n",
       "      <td>214</td>\n",
       "      <td>2364</td>\n",
       "      <td>1.183083</td>\n",
       "      <td>1</td>\n",
       "      <td>1977.0</td>\n",
       "      <td>290.423828</td>\n",
       "    </tr>\n",
       "    <tr>\n",
       "      <th>10</th>\n",
       "      <td>49</td>\n",
       "      <td>2125</td>\n",
       "      <td>1.808376</td>\n",
       "      <td>1</td>\n",
       "      <td>1313.0</td>\n",
       "      <td>339</td>\n",
       "      <td>2249</td>\n",
       "      <td>-0.490967</td>\n",
       "      <td>1</td>\n",
       "      <td>1861.0</td>\n",
       "      <td>315.398161</td>\n",
       "    </tr>\n",
       "  </tbody>\n",
       "</table>\n",
       "</div>"
      ],
      "text/plain": [
       "    xpos_x  ypos_x  zRotation_x  cam_id_x    id_x  xpos_y  ypos_y  \\\n",
       "1       49    2125     1.808376         1  1313.0      64    1914   \n",
       "2       49    2125     1.808376         1  1313.0      86    1149   \n",
       "4       49    2125     1.808376         1  1313.0     148    1300   \n",
       "7       49    2125     1.808376         1  1313.0     214    2364   \n",
       "10      49    2125     1.808376         1  1313.0     339    2249   \n",
       "\n",
       "    zRotation_y  cam_id_y    id_y        dist  \n",
       "1      0.752673         1  1937.0  211.532503  \n",
       "2      2.772051         1  1756.0  976.701080  \n",
       "4      2.375421         1  1408.0  830.918769  \n",
       "7      1.183083         1  1977.0  290.423828  \n",
       "10    -0.490967         1  1861.0  315.398161  "
      ]
     },
     "execution_count": 168,
     "metadata": {},
     "output_type": "execute_result"
    }
   ],
   "source": [
    "merged.head()"
   ]
  },
  {
   "cell_type": "code",
   "execution_count": null,
   "metadata": {
    "collapsed": true
   },
   "outputs": [],
   "source": [
    "# def looksat(xpos, xrot, ypos, yrot):\n",
    "#     return (xrot.dot(ypos - xpos))>0, (yrot.dot(xpos-ypos))>0\n",
    "\n",
    "# xpos = np.array([1,1])\n",
    "# ypos = np.array([3,2])\n",
    "# xrot = np.array([0,1])\n",
    "# yrot = np.array([1,1])\n",
    "\n",
    "# looksat(xpos, xrot, ypos, yrot)\n",
    "\n",
    "# yrot = np.array([-1,-1])\n",
    "# looksat(xpos, xrot, ypos, yrot)\n",
    "\n",
    "# xrot = np.array([-1,-1])\n",
    "# looksat(xpos, xrot, ypos, yrot)"
   ]
  },
  {
   "cell_type": "code",
   "execution_count": 169,
   "metadata": {
    "collapsed": false
   },
   "outputs": [],
   "source": [
    "def facing(xpos_x, ypos_x, angle_x, xpos_y, ypos_y, angle_y):\n",
    "    \n",
    "    A = np.array(np.array([xpos_x, ypos_x]))\n",
    "    angleA = np.array((np.cos(angle_x), np.sin(angle_x)))\n",
    "    \n",
    "    B = np.array(np.array([xpos_y, ypos_y]))\n",
    "    angleB = np.array((np.cos(angle_y), np.sin(angle_y)))\n",
    "    \n",
    "    ab = (angleA.dot(B-A)) > 0\n",
    "    ba = (angleB.dot(A-B)) > 0\n",
    "    \n",
    "    return ab & ba"
   ]
  },
  {
   "cell_type": "code",
   "execution_count": 170,
   "metadata": {
    "collapsed": false
   },
   "outputs": [
    {
     "data": {
      "text/plain": [
       "False"
      ]
     },
     "execution_count": 170,
     "metadata": {},
     "output_type": "execute_result"
    }
   ],
   "source": [
    "facing(2,2, np.pi/2, 4,4, 0)"
   ]
  },
  {
   "cell_type": "code",
   "execution_count": 131,
   "metadata": {
    "collapsed": false
   },
   "outputs": [],
   "source": [
    "# merged['facing'] = map(facing,\n",
    "#                        merged.xpos_x, merged.ypos_x, merged.zRotation_x,\n",
    "#                        merged.xpos_y, merged.ypos_y, merged.zRotation_y)"
   ]
  },
  {
   "cell_type": "code",
   "execution_count": null,
   "metadata": {
    "collapsed": false
   },
   "outputs": [],
   "source": [
    "# merged['facing'] = facing(merged.xpos_x, merged.ypos_x, merged.zRotation_x,\n",
    "#                          merged.xpos_y, merged.ypos_y, merged.zRotation_y)"
   ]
  },
  {
   "cell_type": "code",
   "execution_count": 171,
   "metadata": {
    "collapsed": false
   },
   "outputs": [],
   "source": [
    "merged['facing'] = merged.apply((lambda x: facing(x.xpos_x, x.ypos_x, x.zRotation_x,\n",
    "                                                  x.xpos_y, x.ypos_y, x.zRotation_y)), axis=1)\n"
   ]
  },
  {
   "cell_type": "code",
   "execution_count": 172,
   "metadata": {
    "collapsed": false
   },
   "outputs": [
    {
     "data": {
      "text/html": [
       "<div>\n",
       "<table border=\"1\" class=\"dataframe\">\n",
       "  <thead>\n",
       "    <tr style=\"text-align: right;\">\n",
       "      <th></th>\n",
       "      <th>xpos_x</th>\n",
       "      <th>ypos_x</th>\n",
       "      <th>zRotation_x</th>\n",
       "      <th>cam_id_x</th>\n",
       "      <th>id_x</th>\n",
       "      <th>xpos_y</th>\n",
       "      <th>ypos_y</th>\n",
       "      <th>zRotation_y</th>\n",
       "      <th>cam_id_y</th>\n",
       "      <th>id_y</th>\n",
       "      <th>dist</th>\n",
       "      <th>facing</th>\n",
       "    </tr>\n",
       "  </thead>\n",
       "  <tbody>\n",
       "    <tr>\n",
       "      <th>16</th>\n",
       "      <td>49</td>\n",
       "      <td>2125</td>\n",
       "      <td>1.808376</td>\n",
       "      <td>1</td>\n",
       "      <td>1313.0</td>\n",
       "      <td>624</td>\n",
       "      <td>2775</td>\n",
       "      <td>2.942781</td>\n",
       "      <td>1</td>\n",
       "      <td>1733.0</td>\n",
       "      <td>867.827748</td>\n",
       "      <td>True</td>\n",
       "    </tr>\n",
       "    <tr>\n",
       "      <th>21</th>\n",
       "      <td>49</td>\n",
       "      <td>2125</td>\n",
       "      <td>1.808376</td>\n",
       "      <td>1</td>\n",
       "      <td>1313.0</td>\n",
       "      <td>687</td>\n",
       "      <td>2425</td>\n",
       "      <td>2.849189</td>\n",
       "      <td>1</td>\n",
       "      <td>1412.0</td>\n",
       "      <td>705.013475</td>\n",
       "      <td>True</td>\n",
       "    </tr>\n",
       "    <tr>\n",
       "      <th>31</th>\n",
       "      <td>49</td>\n",
       "      <td>2125</td>\n",
       "      <td>1.808376</td>\n",
       "      <td>1</td>\n",
       "      <td>1313.0</td>\n",
       "      <td>923</td>\n",
       "      <td>2650</td>\n",
       "      <td>2.743015</td>\n",
       "      <td>1</td>\n",
       "      <td>1564.0</td>\n",
       "      <td>1019.559218</td>\n",
       "      <td>True</td>\n",
       "    </tr>\n",
       "    <tr>\n",
       "      <th>53</th>\n",
       "      <td>49</td>\n",
       "      <td>2125</td>\n",
       "      <td>1.808376</td>\n",
       "      <td>1</td>\n",
       "      <td>1313.0</td>\n",
       "      <td>2562</td>\n",
       "      <td>2850</td>\n",
       "      <td>-2.918107</td>\n",
       "      <td>1</td>\n",
       "      <td>1780.0</td>\n",
       "      <td>2615.491158</td>\n",
       "      <td>True</td>\n",
       "    </tr>\n",
       "    <tr>\n",
       "      <th>79</th>\n",
       "      <td>64</td>\n",
       "      <td>1914</td>\n",
       "      <td>0.752673</td>\n",
       "      <td>1</td>\n",
       "      <td>1937.0</td>\n",
       "      <td>837</td>\n",
       "      <td>1263</td>\n",
       "      <td>1.021201</td>\n",
       "      <td>1</td>\n",
       "      <td>3762.0</td>\n",
       "      <td>1010.608727</td>\n",
       "      <td>True</td>\n",
       "    </tr>\n",
       "  </tbody>\n",
       "</table>\n",
       "</div>"
      ],
      "text/plain": [
       "    xpos_x  ypos_x  zRotation_x  cam_id_x    id_x  xpos_y  ypos_y  \\\n",
       "16      49    2125     1.808376         1  1313.0     624    2775   \n",
       "21      49    2125     1.808376         1  1313.0     687    2425   \n",
       "31      49    2125     1.808376         1  1313.0     923    2650   \n",
       "53      49    2125     1.808376         1  1313.0    2562    2850   \n",
       "79      64    1914     0.752673         1  1937.0     837    1263   \n",
       "\n",
       "    zRotation_y  cam_id_y    id_y         dist facing  \n",
       "16     2.942781         1  1733.0   867.827748   True  \n",
       "21     2.849189         1  1412.0   705.013475   True  \n",
       "31     2.743015         1  1564.0  1019.559218   True  \n",
       "53    -2.918107         1  1780.0  2615.491158   True  \n",
       "79     1.021201         1  3762.0  1010.608727   True  "
      ]
     },
     "execution_count": 172,
     "metadata": {},
     "output_type": "execute_result"
    }
   ],
   "source": [
    "merged[merged.facing == True].head()"
   ]
  },
  {
   "cell_type": "code",
   "execution_count": 173,
   "metadata": {
    "collapsed": true
   },
   "outputs": [],
   "source": [
    "true = len(merged[merged.facing == True])"
   ]
  },
  {
   "cell_type": "code",
   "execution_count": 174,
   "metadata": {
    "collapsed": true
   },
   "outputs": [],
   "source": [
    "false = len(merged[merged.facing == False])"
   ]
  },
  {
   "cell_type": "code",
   "execution_count": 176,
   "metadata": {
    "collapsed": false
   },
   "outputs": [
    {
     "data": {
      "text/plain": [
       "348675"
      ]
     },
     "execution_count": 176,
     "metadata": {},
     "output_type": "execute_result"
    }
   ],
   "source": [
    "true"
   ]
  },
  {
   "cell_type": "code",
   "execution_count": 177,
   "metadata": {
    "collapsed": false
   },
   "outputs": [
    {
     "data": {
      "text/plain": [
       "976967"
      ]
     },
     "execution_count": 177,
     "metadata": {},
     "output_type": "execute_result"
    }
   ],
   "source": [
    "false"
   ]
  },
  {
   "cell_type": "code",
   "execution_count": 178,
   "metadata": {
    "collapsed": false
   },
   "outputs": [
    {
     "data": {
      "text/plain": [
       "1325642"
      ]
     },
     "execution_count": 178,
     "metadata": {},
     "output_type": "execute_result"
    }
   ],
   "source": [
    "true+false"
   ]
  },
  {
   "cell_type": "code",
   "execution_count": 189,
   "metadata": {
    "collapsed": false
   },
   "outputs": [
    {
     "data": {
      "text/plain": [
       "<matplotlib.axes._subplots.AxesSubplot at 0x11362b0f0>"
      ]
     },
     "execution_count": 189,
     "metadata": {},
     "output_type": "execute_result"
    },
    {
     "data": {
      "image/png": "[encoded data removed]",
      "text/plain": [
       "<matplotlib.figure.Figure at 0x11362cb00>"
      ]
     },
     "metadata": {},
     "output_type": "display_data"
    }
   ],
   "source": [
    "ms = merged[merged.dist <= 150]\n",
    "ms.dist.plot.hist(bins=(15))"
   ]
  },
  {
   "cell_type": "code",
   "execution_count": 197,
   "metadata": {
    "collapsed": false
   },
   "outputs": [
    {
     "data": {
      "text/plain": [
       "0.9016008847034116"
      ]
     },
     "execution_count": 197,
     "metadata": {},
     "output_type": "execute_result"
    }
   ],
   "source": [
    "100*ms.shape[0]/merged.shape[0]"
   ]
  },
  {
   "cell_type": "code",
   "execution_count": 201,
   "metadata": {
    "collapsed": false
   },
   "outputs": [
    {
     "data": {
      "text/plain": [
       "2958"
      ]
     },
     "execution_count": 201,
     "metadata": {},
     "output_type": "execute_result"
    }
   ],
   "source": [
    "true = ms[ms.facing == True].shape[0]\n",
    "true"
   ]
  },
  {
   "cell_type": "code",
   "execution_count": 202,
   "metadata": {
    "collapsed": false
   },
   "outputs": [
    {
     "data": {
      "text/plain": [
       "8994"
      ]
     },
     "execution_count": 202,
     "metadata": {},
     "output_type": "execute_result"
    }
   ],
   "source": [
    "false = ms[ms.facing == False].shape[0]\n",
    "false"
   ]
  },
  {
   "cell_type": "code",
   "execution_count": 87,
   "metadata": {
    "collapsed": true
   },
   "outputs": [],
   "source": [
    "test = DataFrame({\"A\":[1,2,3], \"B\":[11,22,33], \"C\":[10,20,30]})"
   ]
  },
  {
   "cell_type": "code",
   "execution_count": 70,
   "metadata": {
    "collapsed": false
   },
   "outputs": [
    {
     "data": {
      "text/html": [
       "<div>\n",
       "<table border=\"1\" class=\"dataframe\">\n",
       "  <thead>\n",
       "    <tr style=\"text-align: right;\">\n",
       "      <th></th>\n",
       "      <th>A</th>\n",
       "      <th>B</th>\n",
       "      <th>C</th>\n",
       "    </tr>\n",
       "  </thead>\n",
       "  <tbody>\n",
       "    <tr>\n",
       "      <th>0</th>\n",
       "      <td>1</td>\n",
       "      <td>11</td>\n",
       "      <td>10</td>\n",
       "    </tr>\n",
       "    <tr>\n",
       "      <th>1</th>\n",
       "      <td>2</td>\n",
       "      <td>22</td>\n",
       "      <td>20</td>\n",
       "    </tr>\n",
       "    <tr>\n",
       "      <th>2</th>\n",
       "      <td>3</td>\n",
       "      <td>33</td>\n",
       "      <td>30</td>\n",
       "    </tr>\n",
       "  </tbody>\n",
       "</table>\n",
       "</div>"
      ],
      "text/plain": [
       "   A   B   C\n",
       "0  1  11  10\n",
       "1  2  22  20\n",
       "2  3  33  30"
      ]
     },
     "execution_count": 70,
     "metadata": {},
     "output_type": "execute_result"
    }
   ],
   "source": [
    "test"
   ]
  },
  {
   "cell_type": "code",
   "execution_count": 116,
   "metadata": {
    "collapsed": true
   },
   "outputs": [],
   "source": [
    "def function(a,s,c):\n",
    "    return a+s+c"
   ]
  },
  {
   "cell_type": "code",
   "execution_count": 117,
   "metadata": {
    "collapsed": false
   },
   "outputs": [],
   "source": [
    "test['erg'] = test.apply(lambda row: row.A+row.B+row.C, axis=1)"
   ]
  },
  {
   "cell_type": "code",
   "execution_count": 137,
   "metadata": {
    "collapsed": false
   },
   "outputs": [],
   "source": [
    "test['erg2'] = map(function, test['A'], test['B'], test['C'])"
   ]
  },
  {
   "cell_type": "code",
   "execution_count": 138,
   "metadata": {
    "collapsed": false
   },
   "outputs": [
    {
     "data": {
      "text/html": [
       "<div>\n",
       "<table border=\"1\" class=\"dataframe\">\n",
       "  <thead>\n",
       "    <tr style=\"text-align: right;\">\n",
       "      <th></th>\n",
       "      <th>A</th>\n",
       "      <th>B</th>\n",
       "      <th>C</th>\n",
       "      <th>erg</th>\n",
       "      <th>erg2</th>\n",
       "    </tr>\n",
       "  </thead>\n",
       "  <tbody>\n",
       "    <tr>\n",
       "      <th>0</th>\n",
       "      <td>1</td>\n",
       "      <td>11</td>\n",
       "      <td>10</td>\n",
       "      <td>22</td>\n",
       "      <td>&lt;map object at 0x10b818b38&gt;</td>\n",
       "    </tr>\n",
       "    <tr>\n",
       "      <th>1</th>\n",
       "      <td>2</td>\n",
       "      <td>22</td>\n",
       "      <td>20</td>\n",
       "      <td>44</td>\n",
       "      <td>&lt;map object at 0x10b818b38&gt;</td>\n",
       "    </tr>\n",
       "    <tr>\n",
       "      <th>2</th>\n",
       "      <td>3</td>\n",
       "      <td>33</td>\n",
       "      <td>30</td>\n",
       "      <td>66</td>\n",
       "      <td>&lt;map object at 0x10b818b38&gt;</td>\n",
       "    </tr>\n",
       "  </tbody>\n",
       "</table>\n",
       "</div>"
      ],
      "text/plain": [
       "   A   B   C  erg                         erg2\n",
       "0  1  11  10   22  <map object at 0x10b818b38>\n",
       "1  2  22  20   44  <map object at 0x10b818b38>\n",
       "2  3  33  30   66  <map object at 0x10b818b38>"
      ]
     },
     "execution_count": 138,
     "metadata": {},
     "output_type": "execute_result"
    }
   ],
   "source": [
    "test"
   ]
  },
  {
   "cell_type": "code",
   "execution_count": null,
   "metadata": {
    "collapsed": true
   },
   "outputs": [],
   "source": []
  }
 ],
 "metadata": {
  "kernelspec": {
   "display_name": "Python 3",
   "language": "python",
   "name": "python3"
  },
  "language_info": {
   "codemirror_mode": {
    "name": "ipython",
    "version": 3
   },
   "file_extension": ".py",
   "mimetype": "text/x-python",
   "name": "python",
   "nbconvert_exporter": "python",
   "pygments_lexer": "ipython3",
   "version": "3.5.2"
  }
 },
 "nbformat": 4,
 "nbformat_minor": 1
}
