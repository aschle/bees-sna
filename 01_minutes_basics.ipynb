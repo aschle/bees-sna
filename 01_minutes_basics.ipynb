{
 "cells": [
  {
   "cell_type": "markdown",
   "metadata": {},
   "source": [
    "# 6 Minute Dataset, 4 cameras - August "
   ]
  },
  {
   "cell_type": "code",
   "execution_count": 1,
   "metadata": {
    "collapsed": true
   },
   "outputs": [],
   "source": [
    "%load_ext autoreload\n",
    "%autoreload 2"
   ]
  },
  {
   "cell_type": "code",
   "execution_count": 2,
   "metadata": {
    "collapsed": true
   },
   "outputs": [],
   "source": [
    "import pandas as pd\n",
    "import numpy as np\n",
    "import bib.preprocessing as prep\n",
    "from pandas import DataFrame, Series\n",
    "from bb_binary import Repository, convert_frame_to_numpy, load_frame_container\n",
    "import matplotlib.pyplot as plt\n",
    "%matplotlib inline"
   ]
  },
  {
   "cell_type": "code",
   "execution_count": 5,
   "metadata": {
    "collapsed": true
   },
   "outputs": [],
   "source": [
    "folder = \"../data/1h/2015082215/\""
   ]
  },
  {
   "cell_type": "code",
   "execution_count": 61,
   "metadata": {
    "collapsed": false
   },
   "outputs": [],
   "source": [
    "fc0 = prep.get_fc(folder,0) # for cam 0\n",
    "fc1 = prep.get_fc(folder,1) # for cam 1\n",
    "fc2 = prep.get_fc(folder,2) # for cam 2\n",
    "fc3 = prep.get_fc(folder,3) # for cam 3"
   ]
  },
  {
   "cell_type": "markdown",
   "metadata": {},
   "source": [
    "## Attributes of Frame Container - corresponds to a video file (1024 frames)\n",
    "Wrapping frames and detections of one video file. For each camera there is a seperate file.\n",
    "\n",
    "* `fc.id` \n",
    "* `fc.dataSources`\n",
    "* `fc.fromTimestamp`\n",
    "* `fc.toTimestamp`\n",
    "* `fc.camId`\n",
    "* `fc.hiveId`\n",
    "* `fc.transformationMatrix`\n",
    "* `fc.frames`"
   ]
  },
  {
   "cell_type": "markdown",
   "metadata": {},
   "source": [
    "## Frames"
   ]
  },
  {
   "cell_type": "code",
   "execution_count": 18,
   "metadata": {
    "collapsed": false
   },
   "outputs": [
    {
     "data": {
      "text/plain": [
       "1024"
      ]
     },
     "execution_count": 18,
     "metadata": {},
     "output_type": "execute_result"
    }
   ],
   "source": [
    "len(fc0.frames)"
   ]
  },
  {
   "cell_type": "code",
   "execution_count": 37,
   "metadata": {
    "collapsed": false
   },
   "outputs": [],
   "source": [
    "frame = fc0.frames[100]"
   ]
  },
  {
   "cell_type": "markdown",
   "metadata": {},
   "source": [
    "* `frame.id`\n",
    "* `frame.frameIdx` (0-1023)\n",
    "* `frame.dataSourceIdx`- Ist irgenwie immer null, weil es nur genau eine DataSource gibt, ist das mal anders irgendwann?\n",
    "* `frame.dataSourceIdx`\n",
    "* `frame.timestamp`\n",
    "* `frame.timedelta` - Ist auch immer 0. Warum?\n",
    "* `frame.detectionsUnion`"
   ]
  },
  {
   "cell_type": "markdown",
   "metadata": {},
   "source": [
    "## Detections Union - DetectionsDP (hier sind alle Detections drin)"
   ]
  },
  {
   "cell_type": "code",
   "execution_count": 49,
   "metadata": {
    "collapsed": false
   },
   "outputs": [],
   "source": [
    "detections = [det for det in frame.detectionsUnion.detectionsDP]"
   ]
  },
  {
   "cell_type": "code",
   "execution_count": 55,
   "metadata": {
    "collapsed": false
   },
   "outputs": [],
   "source": [
    "detection = detections[5]"
   ]
  },
  {
   "cell_type": "code",
   "execution_count": 56,
   "metadata": {
    "collapsed": false
   },
   "outputs": [
    {
     "data": {
      "text/plain": [
       "<bb_binary_schema.capnp:DetectionDP reader (idx = 5, xpos = 150, ypos = 1737, xposHive = 150, yposHive = 1737, zRotation = 0.84273362, yRotation = -0.16114587, xRotation = 0.1610682, radius = 22.572151, localizerSaliency = 0.70354193, decodedId = [1, 255, 255, 0, 0, 255, 0, 0, 255, 0, 0, 0], descriptor = [156, 56, 112, 224, 192, 129, 3, 6, 12, 25, 50, 100, 201, 146, 37, 74])>"
      ]
     },
     "execution_count": 56,
     "metadata": {},
     "output_type": "execute_result"
    }
   ],
   "source": [
    "detection"
   ]
  },
  {
   "cell_type": "markdown",
   "metadata": {},
   "source": [
    "## Create a DataFrame"
   ]
  },
  {
   "cell_type": "code",
   "execution_count": 57,
   "metadata": {
    "collapsed": true
   },
   "outputs": [],
   "source": [
    "df0 = prep.get_dataframe2(fc0)"
   ]
  },
  {
   "cell_type": "code",
   "execution_count": 62,
   "metadata": {
    "collapsed": false
   },
   "outputs": [
    {
     "data": {
      "text/html": [
       "<div>\n",
       "<table border=\"1\" class=\"dataframe\">\n",
       "  <thead>\n",
       "    <tr style=\"text-align: right;\">\n",
       "      <th></th>\n",
       "      <th>idx</th>\n",
       "      <th>xpos</th>\n",
       "      <th>ypos</th>\n",
       "      <th>radius</th>\n",
       "      <th>decodedId</th>\n",
       "      <th>frame_idx</th>\n",
       "      <th>timestamp</th>\n",
       "      <th>cam_id</th>\n",
       "      <th>fc_id</th>\n",
       "    </tr>\n",
       "  </thead>\n",
       "  <tbody>\n",
       "    <tr>\n",
       "      <th>0</th>\n",
       "      <td>0</td>\n",
       "      <td>51</td>\n",
       "      <td>300</td>\n",
       "      <td>22.956493</td>\n",
       "      <td>[0, 0, 255, 129, 0, 0, 253, 255, 255, 255, 255...</td>\n",
       "      <td>0</td>\n",
       "      <td>1.440256e+09</td>\n",
       "      <td>0</td>\n",
       "      <td>12852176111040490474</td>\n",
       "    </tr>\n",
       "    <tr>\n",
       "      <th>1</th>\n",
       "      <td>1</td>\n",
       "      <td>50</td>\n",
       "      <td>2813</td>\n",
       "      <td>22.676100</td>\n",
       "      <td>[238, 4, 129, 0, 4, 2, 0, 0, 0, 255, 255, 255]</td>\n",
       "      <td>0</td>\n",
       "      <td>1.440256e+09</td>\n",
       "      <td>0</td>\n",
       "      <td>12852176111040490474</td>\n",
       "    </tr>\n",
       "    <tr>\n",
       "      <th>2</th>\n",
       "      <td>2</td>\n",
       "      <td>75</td>\n",
       "      <td>1925</td>\n",
       "      <td>23.020720</td>\n",
       "      <td>[1, 255, 0, 255, 0, 255, 0, 252, 20, 251, 255, 6]</td>\n",
       "      <td>0</td>\n",
       "      <td>1.440256e+09</td>\n",
       "      <td>0</td>\n",
       "      <td>12852176111040490474</td>\n",
       "    </tr>\n",
       "  </tbody>\n",
       "</table>\n",
       "</div>"
      ],
      "text/plain": [
       "   idx  xpos  ypos     radius  \\\n",
       "0    0    51   300  22.956493   \n",
       "1    1    50  2813  22.676100   \n",
       "2    2    75  1925  23.020720   \n",
       "\n",
       "                                           decodedId  frame_idx     timestamp  \\\n",
       "0  [0, 0, 255, 129, 0, 0, 253, 255, 255, 255, 255...          0  1.440256e+09   \n",
       "1     [238, 4, 129, 0, 4, 2, 0, 0, 0, 255, 255, 255]          0  1.440256e+09   \n",
       "2  [1, 255, 0, 255, 0, 255, 0, 252, 20, 251, 255, 6]          0  1.440256e+09   \n",
       "\n",
       "   cam_id                 fc_id  \n",
       "0       0  12852176111040490474  \n",
       "1       0  12852176111040490474  \n",
       "2       0  12852176111040490474  "
      ]
     },
     "execution_count": 62,
     "metadata": {},
     "output_type": "execute_result"
    }
   ],
   "source": [
    "df0.head(3)"
   ]
  },
  {
   "cell_type": "code",
   "execution_count": 63,
   "metadata": {
    "collapsed": false
   },
   "outputs": [
    {
     "data": {
      "text/plain": [
       "(224057, 9)"
      ]
     },
     "execution_count": 63,
     "metadata": {},
     "output_type": "execute_result"
    }
   ],
   "source": [
    "df0.shape"
   ]
  },
  {
   "cell_type": "code",
   "execution_count": null,
   "metadata": {
    "collapsed": true
   },
   "outputs": [],
   "source": []
  }
 ],
 "metadata": {
  "anaconda-cloud": {},
  "kernelspec": {
   "display_name": "Python [conda root]",
   "language": "python",
   "name": "conda-root-py"
  },
  "language_info": {
   "codemirror_mode": {
    "name": "ipython",
    "version": 3
   },
   "file_extension": ".py",
   "mimetype": "text/x-python",
   "name": "python",
   "nbconvert_exporter": "python",
   "pygments_lexer": "ipython3",
   "version": "3.5.2"
  }
 },
 "nbformat": 4,
 "nbformat_minor": 2
}
