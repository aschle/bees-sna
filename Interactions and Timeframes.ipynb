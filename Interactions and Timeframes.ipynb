{
 "cells": [
  {
   "cell_type": "markdown",
   "metadata": {},
   "source": [
    "## Interaction based on Timeslots (1024, 512, 256, 128, 64, 32, 16, 8, 4, 2)\n",
    "* 32 -> 10.6 seconds ~11\n",
    "* 16 -> 5.3 seconds ~5\n",
    "* 8 -> 2.6 seconds ~3\n",
    "* 4 -> 1.3 seconds"
   ]
  }
 ],
 "metadata": {
  "anaconda-cloud": {},
  "kernelspec": {
   "display_name": "Python [default]",
   "language": "python",
   "name": "python3"
  },
  "language_info": {
   "codemirror_mode": {
    "name": "ipython",
    "version": 3
   },
   "file_extension": ".py",
   "mimetype": "text/x-python",
   "name": "python",
   "nbconvert_exporter": "python",
   "pygments_lexer": "ipython3",
   "version": "3.5.2"
  }
 },
 "nbformat": 4,
 "nbformat_minor": 1
}
