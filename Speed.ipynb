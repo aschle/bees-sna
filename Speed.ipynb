{
 "cells": [
  {
   "cell_type": "code",
   "execution_count": 11,
   "metadata": {
    "collapsed": false
   },
   "outputs": [
    {
     "name": "stdout",
     "output_type": "stream",
     "text": [
      "The autoreload extension is already loaded. To reload it, use:\n",
      "  %reload_ext autoreload\n"
     ]
    }
   ],
   "source": [
    "%load_ext autoreload\n",
    "%autoreload 2"
   ]
  },
  {
   "cell_type": "code",
   "execution_count": 381,
   "metadata": {
    "collapsed": false
   },
   "outputs": [],
   "source": [
    "from bb_binary import FrameContainer, Repository, load_frame_container\n",
    "import pandas as pd\n",
    "import numpy as np\n",
    "from collections import namedtuple \n",
    "from pandas import DataFrame, Series\n",
    "%matplotlib inline\n",
    "import matplotlib.pyplot as plt\n",
    "import seaborn as sns\n",
    "import random\n",
    "\n",
    "from collections import Counter\n",
    "import bib.preprocessing as prep"
   ]
  },
  {
   "cell_type": "markdown",
   "metadata": {},
   "source": [
    "# Speed of Bees (6 min Dataset, Cam0)\n",
    "* Erster Versuch mit meinen Daten (umformen in Zeitreihen)\n",
    "* Zweiter Versuch mit Kadirs Daten (Tracks)"
   ]
  },
  {
   "cell_type": "code",
   "execution_count": 13,
   "metadata": {
    "collapsed": true
   },
   "outputs": [],
   "source": [
    "path = \"00_Data/testset_2015_20m/2015082215/\""
   ]
  },
  {
   "cell_type": "code",
   "execution_count": 17,
   "metadata": {
    "collapsed": false
   },
   "outputs": [],
   "source": [
    "fc = prep.get_fc(path, 0)"
   ]
  },
  {
   "cell_type": "code",
   "execution_count": 20,
   "metadata": {
    "collapsed": true
   },
   "outputs": [],
   "source": [
    "df = prep.get_dataframe2(fc)"
   ]
  },
  {
   "cell_type": "code",
   "execution_count": 22,
   "metadata": {
    "collapsed": false
   },
   "outputs": [],
   "source": [
    "df = prep.calcIds(df,0.95)"
   ]
  },
  {
   "cell_type": "code",
   "execution_count": 368,
   "metadata": {
    "collapsed": false,
    "scrolled": true
   },
   "outputs": [
    {
     "data": {
      "text/html": [
       "<div>\n",
       "<table border=\"1\" class=\"dataframe\">\n",
       "  <thead>\n",
       "    <tr style=\"text-align: right;\">\n",
       "      <th></th>\n",
       "      <th>idx</th>\n",
       "      <th>xpos</th>\n",
       "      <th>ypos</th>\n",
       "      <th>radius</th>\n",
       "      <th>zRotation</th>\n",
       "      <th>frame_idx</th>\n",
       "      <th>timestamp</th>\n",
       "      <th>cam_id</th>\n",
       "      <th>fc_id</th>\n",
       "      <th>confidence</th>\n",
       "      <th>id</th>\n",
       "    </tr>\n",
       "  </thead>\n",
       "  <tbody>\n",
       "    <tr>\n",
       "      <th>0</th>\n",
       "      <td>0</td>\n",
       "      <td>51</td>\n",
       "      <td>1912</td>\n",
       "      <td>22.742498</td>\n",
       "      <td>0.505413</td>\n",
       "      <td>0</td>\n",
       "      <td>1.440257e+09</td>\n",
       "      <td>0</td>\n",
       "      <td>14905447169876506043</td>\n",
       "      <td>1.000000</td>\n",
       "      <td>696</td>\n",
       "    </tr>\n",
       "    <tr>\n",
       "      <th>1</th>\n",
       "      <td>1</td>\n",
       "      <td>49</td>\n",
       "      <td>3050</td>\n",
       "      <td>22.789341</td>\n",
       "      <td>2.598309</td>\n",
       "      <td>0</td>\n",
       "      <td>1.440257e+09</td>\n",
       "      <td>0</td>\n",
       "      <td>14905447169876506043</td>\n",
       "      <td>1.000000</td>\n",
       "      <td>856</td>\n",
       "    </tr>\n",
       "    <tr>\n",
       "      <th>3</th>\n",
       "      <td>3</td>\n",
       "      <td>64</td>\n",
       "      <td>1338</td>\n",
       "      <td>22.750143</td>\n",
       "      <td>0.923082</td>\n",
       "      <td>0</td>\n",
       "      <td>1.440257e+09</td>\n",
       "      <td>0</td>\n",
       "      <td>14905447169876506043</td>\n",
       "      <td>1.000000</td>\n",
       "      <td>3563</td>\n",
       "    </tr>\n",
       "    <tr>\n",
       "      <th>4</th>\n",
       "      <td>4</td>\n",
       "      <td>77</td>\n",
       "      <td>2439</td>\n",
       "      <td>22.995449</td>\n",
       "      <td>0.096520</td>\n",
       "      <td>0</td>\n",
       "      <td>1.440257e+09</td>\n",
       "      <td>0</td>\n",
       "      <td>14905447169876506043</td>\n",
       "      <td>0.992157</td>\n",
       "      <td>3434</td>\n",
       "    </tr>\n",
       "    <tr>\n",
       "      <th>5</th>\n",
       "      <td>5</td>\n",
       "      <td>76</td>\n",
       "      <td>2949</td>\n",
       "      <td>23.107546</td>\n",
       "      <td>-1.235086</td>\n",
       "      <td>0</td>\n",
       "      <td>1.440257e+09</td>\n",
       "      <td>0</td>\n",
       "      <td>14905447169876506043</td>\n",
       "      <td>0.992157</td>\n",
       "      <td>716</td>\n",
       "    </tr>\n",
       "  </tbody>\n",
       "</table>\n",
       "</div>"
      ],
      "text/plain": [
       "   idx  xpos  ypos     radius  zRotation  frame_idx     timestamp  cam_id  \\\n",
       "0    0    51  1912  22.742498   0.505413          0  1.440257e+09       0   \n",
       "1    1    49  3050  22.789341   2.598309          0  1.440257e+09       0   \n",
       "3    3    64  1338  22.750143   0.923082          0  1.440257e+09       0   \n",
       "4    4    77  2439  22.995449   0.096520          0  1.440257e+09       0   \n",
       "5    5    76  2949  23.107546  -1.235086          0  1.440257e+09       0   \n",
       "\n",
       "                  fc_id  confidence    id  \n",
       "0  14905447169876506043    1.000000   696  \n",
       "1  14905447169876506043    1.000000   856  \n",
       "3  14905447169876506043    1.000000  3563  \n",
       "4  14905447169876506043    0.992157  3434  \n",
       "5  14905447169876506043    0.992157   716  "
      ]
     },
     "execution_count": 368,
     "metadata": {},
     "output_type": "execute_result"
    }
   ],
   "source": [
    "df.head()"
   ]
  },
  {
   "cell_type": "code",
   "execution_count": 166,
   "metadata": {
    "collapsed": false
   },
   "outputs": [],
   "source": [
    "def f():\n",
    "    u_id = df.id.unique()\n",
    "    num_columns = len((df.frame_idx.unique()))\n",
    "    num_rows = len(u_id)\n",
    "    mapping = {k:i for i,k in enumerate(u_id)}\n",
    "    arr =  np.zeros(shape=(num_rows, num_columns)).astype(tuple)\n",
    "    dft = pd.DataFrame(arr)\n",
    "\n",
    "    i = 0\n",
    "    for a, row in df.iterrows():\n",
    "        dft.iat[mapping[row.id], row.frame_idx] = (row.xpos, row.ypos)\n",
    "    \n",
    "    dft.index = u_id\n",
    "    return dft"
   ]
  },
  {
   "cell_type": "code",
   "execution_count": 310,
   "metadata": {
    "collapsed": false
   },
   "outputs": [],
   "source": [
    "dft = f()"
   ]
  },
  {
   "cell_type": "markdown",
   "metadata": {},
   "source": [
    "## Umgeformter Datensatz (Zeitreihen mit x, y Positionen als Tupel)"
   ]
  },
  {
   "cell_type": "code",
   "execution_count": 369,
   "metadata": {
    "collapsed": false
   },
   "outputs": [
    {
     "data": {
      "text/html": [
       "<div>\n",
       "<table border=\"1\" class=\"dataframe\">\n",
       "  <thead>\n",
       "    <tr style=\"text-align: right;\">\n",
       "      <th></th>\n",
       "      <th>0</th>\n",
       "      <th>1</th>\n",
       "      <th>2</th>\n",
       "      <th>3</th>\n",
       "      <th>4</th>\n",
       "      <th>5</th>\n",
       "      <th>6</th>\n",
       "      <th>7</th>\n",
       "      <th>8</th>\n",
       "      <th>9</th>\n",
       "      <th>...</th>\n",
       "      <th>1015</th>\n",
       "      <th>1016</th>\n",
       "      <th>1017</th>\n",
       "      <th>1018</th>\n",
       "      <th>1019</th>\n",
       "      <th>1020</th>\n",
       "      <th>1021</th>\n",
       "      <th>1022</th>\n",
       "      <th>1023</th>\n",
       "      <th>total</th>\n",
       "    </tr>\n",
       "  </thead>\n",
       "  <tbody>\n",
       "    <tr>\n",
       "      <th>696</th>\n",
       "      <td>(51, 1912)</td>\n",
       "      <td>(52, 1912)</td>\n",
       "      <td>(76, 1913)</td>\n",
       "      <td>(51, 1937)</td>\n",
       "      <td>(51, 1937)</td>\n",
       "      <td>0</td>\n",
       "      <td>(51, 1937)</td>\n",
       "      <td>(63, 1936)</td>\n",
       "      <td>(51, 1937)</td>\n",
       "      <td>0</td>\n",
       "      <td>...</td>\n",
       "      <td>0</td>\n",
       "      <td>0</td>\n",
       "      <td>0</td>\n",
       "      <td>0</td>\n",
       "      <td>0</td>\n",
       "      <td>0</td>\n",
       "      <td>0</td>\n",
       "      <td>0</td>\n",
       "      <td>0</td>\n",
       "      <td>2626.962694</td>\n",
       "    </tr>\n",
       "    <tr>\n",
       "      <th>856</th>\n",
       "      <td>(49, 3050)</td>\n",
       "      <td>(87, 3050)</td>\n",
       "      <td>(99, 3038)</td>\n",
       "      <td>(112, 3037)</td>\n",
       "      <td>(125, 3037)</td>\n",
       "      <td>(162, 3051)</td>\n",
       "      <td>0</td>\n",
       "      <td>0</td>\n",
       "      <td>(237, 3064)</td>\n",
       "      <td>(250, 3064)</td>\n",
       "      <td>...</td>\n",
       "      <td>0</td>\n",
       "      <td>0</td>\n",
       "      <td>0</td>\n",
       "      <td>0</td>\n",
       "      <td>0</td>\n",
       "      <td>0</td>\n",
       "      <td>0</td>\n",
       "      <td>0</td>\n",
       "      <td>0</td>\n",
       "      <td>9594.466137</td>\n",
       "    </tr>\n",
       "    <tr>\n",
       "      <th>3563</th>\n",
       "      <td>(64, 1338)</td>\n",
       "      <td>(64, 1338)</td>\n",
       "      <td>(89, 1350)</td>\n",
       "      <td>(88, 1363)</td>\n",
       "      <td>(76, 1363)</td>\n",
       "      <td>(89, 1350)</td>\n",
       "      <td>(101, 1350)</td>\n",
       "      <td>(89, 1338)</td>\n",
       "      <td>(89, 1350)</td>\n",
       "      <td>(77, 1350)</td>\n",
       "      <td>...</td>\n",
       "      <td>0</td>\n",
       "      <td>0</td>\n",
       "      <td>0</td>\n",
       "      <td>0</td>\n",
       "      <td>0</td>\n",
       "      <td>0</td>\n",
       "      <td>0</td>\n",
       "      <td>0</td>\n",
       "      <td>0</td>\n",
       "      <td>6543.433128</td>\n",
       "    </tr>\n",
       "    <tr>\n",
       "      <th>3434</th>\n",
       "      <td>(77, 2439)</td>\n",
       "      <td>0</td>\n",
       "      <td>0</td>\n",
       "      <td>0</td>\n",
       "      <td>(64, 2451)</td>\n",
       "      <td>(77, 2426)</td>\n",
       "      <td>(77, 2426)</td>\n",
       "      <td>(77, 2413)</td>\n",
       "      <td>(77, 2426)</td>\n",
       "      <td>(77, 2426)</td>\n",
       "      <td>...</td>\n",
       "      <td>0</td>\n",
       "      <td>0</td>\n",
       "      <td>(451, 1826)</td>\n",
       "      <td>0</td>\n",
       "      <td>(463, 1813)</td>\n",
       "      <td>(439, 1814)</td>\n",
       "      <td>(463, 1800)</td>\n",
       "      <td>(451, 1813)</td>\n",
       "      <td>(439, 1812)</td>\n",
       "      <td>8887.989906</td>\n",
       "    </tr>\n",
       "    <tr>\n",
       "      <th>716</th>\n",
       "      <td>(76, 2949)</td>\n",
       "      <td>(50, 2974)</td>\n",
       "      <td>0</td>\n",
       "      <td>0</td>\n",
       "      <td>0</td>\n",
       "      <td>0</td>\n",
       "      <td>0</td>\n",
       "      <td>0</td>\n",
       "      <td>0</td>\n",
       "      <td>0</td>\n",
       "      <td>...</td>\n",
       "      <td>0</td>\n",
       "      <td>0</td>\n",
       "      <td>0</td>\n",
       "      <td>0</td>\n",
       "      <td>0</td>\n",
       "      <td>0</td>\n",
       "      <td>0</td>\n",
       "      <td>0</td>\n",
       "      <td>0</td>\n",
       "      <td>167.332381</td>\n",
       "    </tr>\n",
       "  </tbody>\n",
       "</table>\n",
       "<p>5 rows × 1025 columns</p>\n",
       "</div>"
      ],
      "text/plain": [
       "               0           1           2            3            4  \\\n",
       "696   (51, 1912)  (52, 1912)  (76, 1913)   (51, 1937)   (51, 1937)   \n",
       "856   (49, 3050)  (87, 3050)  (99, 3038)  (112, 3037)  (125, 3037)   \n",
       "3563  (64, 1338)  (64, 1338)  (89, 1350)   (88, 1363)   (76, 1363)   \n",
       "3434  (77, 2439)           0           0            0   (64, 2451)   \n",
       "716   (76, 2949)  (50, 2974)           0            0            0   \n",
       "\n",
       "                5            6           7            8            9  \\\n",
       "696             0   (51, 1937)  (63, 1936)   (51, 1937)            0   \n",
       "856   (162, 3051)            0           0  (237, 3064)  (250, 3064)   \n",
       "3563   (89, 1350)  (101, 1350)  (89, 1338)   (89, 1350)   (77, 1350)   \n",
       "3434   (77, 2426)   (77, 2426)  (77, 2413)   (77, 2426)   (77, 2426)   \n",
       "716             0            0           0            0            0   \n",
       "\n",
       "         ...      1015 1016         1017 1018         1019         1020  \\\n",
       "696      ...         0    0            0    0            0            0   \n",
       "856      ...         0    0            0    0            0            0   \n",
       "3563     ...         0    0            0    0            0            0   \n",
       "3434     ...         0    0  (451, 1826)    0  (463, 1813)  (439, 1814)   \n",
       "716      ...         0    0            0    0            0            0   \n",
       "\n",
       "             1021         1022         1023        total  \n",
       "696             0            0            0  2626.962694  \n",
       "856             0            0            0  9594.466137  \n",
       "3563            0            0            0  6543.433128  \n",
       "3434  (463, 1800)  (451, 1813)  (439, 1812)  8887.989906  \n",
       "716             0            0            0   167.332381  \n",
       "\n",
       "[5 rows x 1025 columns]"
      ]
     },
     "execution_count": 369,
     "metadata": {},
     "output_type": "execute_result"
    }
   ],
   "source": [
    "dft.head()"
   ]
  },
  {
   "cell_type": "markdown",
   "metadata": {},
   "source": [
    "# Gesamter Weg einer Biene"
   ]
  },
  {
   "cell_type": "code",
   "execution_count": 312,
   "metadata": {
    "collapsed": false
   },
   "outputs": [],
   "source": [
    "def distance(liste):\n",
    "    liste = list(liste[liste != 0])\n",
    "    summe = 0\n",
    "    \n",
    "    for (px1,py1), (px2,py2) in zip(liste, liste[1:]):\n",
    "        d = np.sqrt(np.square(px1 - px2) + np.square(py1 - py2))\n",
    "        summe += d\n",
    "    return summe"
   ]
  },
  {
   "cell_type": "code",
   "execution_count": 313,
   "metadata": {
    "collapsed": false
   },
   "outputs": [],
   "source": [
    "dft['total'] = dft.apply(distance, axis=1)"
   ]
  },
  {
   "cell_type": "code",
   "execution_count": 372,
   "metadata": {
    "collapsed": false
   },
   "outputs": [
    {
     "data": {
      "text/plain": [
       "696     2626.962694\n",
       "856     9594.466137\n",
       "3563    6543.433128\n",
       "3434    8887.989906\n",
       "716      167.332381\n",
       "Name: total, dtype: float64"
      ]
     },
     "execution_count": 372,
     "metadata": {},
     "output_type": "execute_result"
    }
   ],
   "source": [
    "dft.total.head()"
   ]
  },
  {
   "cell_type": "code",
   "execution_count": 321,
   "metadata": {
    "collapsed": false
   },
   "outputs": [
    {
     "data": {
      "text/plain": [
       "<matplotlib.axes._subplots.AxesSubplot at 0x10c4f1390>"
      ]
     },
     "execution_count": 321,
     "metadata": {},
     "output_type": "execute_result"
    },
    {
     "data": {
      "image/png": "[encoded data removed]",
      "text/plain": [
       "<matplotlib.figure.Figure at 0x12632f7b8>"
      ]
     },
     "metadata": {},
     "output_type": "display_data"
    }
   ],
   "source": [
    "dft.total.hist(bins=100)"
   ]
  },
  {
   "cell_type": "code",
   "execution_count": 326,
   "metadata": {
    "collapsed": false
   },
   "outputs": [
    {
     "data": {
      "text/plain": [
       "count     1555.000000\n",
       "mean      2702.868612\n",
       "std       4358.104390\n",
       "min          0.000000\n",
       "25%          0.000000\n",
       "50%        501.722035\n",
       "75%       3385.024057\n",
       "max      24094.638502\n",
       "Name: total, dtype: float64"
      ]
     },
     "execution_count": 326,
     "metadata": {},
     "output_type": "execute_result"
    }
   ],
   "source": [
    "dft.total.describe()"
   ]
  },
  {
   "cell_type": "markdown",
   "metadata": {},
   "source": [
    "## Beispiel Bewegung einer Biene (lange Distanz)"
   ]
  },
  {
   "cell_type": "code",
   "execution_count": 506,
   "metadata": {
    "collapsed": false
   },
   "outputs": [],
   "source": [
    "dftlong = dft[dft.total > 20000]\n",
    "dftlong.shape\n",
    "ex = dftlong.iloc[2]"
   ]
  },
  {
   "cell_type": "code",
   "execution_count": 507,
   "metadata": {
    "collapsed": false
   },
   "outputs": [],
   "source": [
    "data = list(ex[ex != 0])[:-1]"
   ]
  },
  {
   "cell_type": "code",
   "execution_count": 508,
   "metadata": {
    "collapsed": false
   },
   "outputs": [],
   "source": [
    "data = DataFrame(data, columns=['x', 'y'])"
   ]
  },
  {
   "cell_type": "code",
   "execution_count": 509,
   "metadata": {
    "collapsed": false
   },
   "outputs": [
    {
     "data": {
      "text/plain": [
       "(0, 4000)"
      ]
     },
     "execution_count": 509,
     "metadata": {},
     "output_type": "execute_result"
    },
    {
     "data": {
      "image/png": "[encoded data removed]",
      "text/plain": [
       "<matplotlib.figure.Figure at 0x14a98f630>"
      ]
     },
     "metadata": {},
     "output_type": "display_data"
    }
   ],
   "source": [
    "sns.lmplot(x='x', y='y', data=data, fit_reg=False)\n",
    "plt.title('Position of one Bee')\n",
    "plt.xlabel('x')\n",
    "plt.ylabel('y')\n",
    "plt.xlim(0,3000)\n",
    "plt.ylim(0,4000)"
   ]
  },
  {
   "cell_type": "markdown",
   "metadata": {},
   "source": [
    "# Using Track Data"
   ]
  },
  {
   "cell_type": "code",
   "execution_count": 327,
   "metadata": {
    "collapsed": true
   },
   "outputs": [],
   "source": [
    "dd = pd.read_pickle(\"bee_relative_singlecam.pickle\")"
   ]
  },
  {
   "cell_type": "code",
   "execution_count": 329,
   "metadata": {
    "collapsed": false
   },
   "outputs": [],
   "source": [
    "dd['dist'] = np.sqrt(dd.x.pow(2) + dd.y.pow(2))"
   ]
  },
  {
   "cell_type": "code",
   "execution_count": 330,
   "metadata": {
    "collapsed": false
   },
   "outputs": [
    {
     "data": {
      "text/html": [
       "<div>\n",
       "<table border=\"1\" class=\"dataframe\">\n",
       "  <thead>\n",
       "    <tr style=\"text-align: right;\">\n",
       "      <th></th>\n",
       "      <th>timestamp</th>\n",
       "      <th>x</th>\n",
       "      <th>y</th>\n",
       "      <th>track_id</th>\n",
       "      <th>id</th>\n",
       "      <th>abs_orientation</th>\n",
       "      <th>turn_velocity</th>\n",
       "      <th>dist</th>\n",
       "    </tr>\n",
       "  </thead>\n",
       "  <tbody>\n",
       "    <tr>\n",
       "      <th>1</th>\n",
       "      <td>0.334019</td>\n",
       "      <td>13.0</td>\n",
       "      <td>-12.0</td>\n",
       "      <td>22</td>\n",
       "      <td>f10008418946791263827d22c1</td>\n",
       "      <td>2.107346</td>\n",
       "      <td>0.057285</td>\n",
       "      <td>17.691806</td>\n",
       "    </tr>\n",
       "    <tr>\n",
       "      <th>2</th>\n",
       "      <td>0.333019</td>\n",
       "      <td>12.0</td>\n",
       "      <td>0.0</td>\n",
       "      <td>22</td>\n",
       "      <td>f14833439648217778241d22c1</td>\n",
       "      <td>2.035695</td>\n",
       "      <td>0.071651</td>\n",
       "      <td>12.000000</td>\n",
       "    </tr>\n",
       "    <tr>\n",
       "      <th>3</th>\n",
       "      <td>0.333019</td>\n",
       "      <td>13.0</td>\n",
       "      <td>0.0</td>\n",
       "      <td>22</td>\n",
       "      <td>f14496160650241856162d22c1</td>\n",
       "      <td>2.297365</td>\n",
       "      <td>0.261671</td>\n",
       "      <td>13.000000</td>\n",
       "    </tr>\n",
       "    <tr>\n",
       "      <th>4</th>\n",
       "      <td>0.334019</td>\n",
       "      <td>-1.0</td>\n",
       "      <td>12.0</td>\n",
       "      <td>22</td>\n",
       "      <td>f14871950799153320900d23c1</td>\n",
       "      <td>2.013552</td>\n",
       "      <td>0.283814</td>\n",
       "      <td>12.041595</td>\n",
       "    </tr>\n",
       "    <tr>\n",
       "      <th>5</th>\n",
       "      <td>0.333019</td>\n",
       "      <td>1.0</td>\n",
       "      <td>1.0</td>\n",
       "      <td>22</td>\n",
       "      <td>f10882062306833271369d24c1</td>\n",
       "      <td>1.869439</td>\n",
       "      <td>0.144113</td>\n",
       "      <td>1.414214</td>\n",
       "    </tr>\n",
       "  </tbody>\n",
       "</table>\n",
       "</div>"
      ],
      "text/plain": [
       "   timestamp     x     y  track_id                          id  \\\n",
       "1   0.334019  13.0 -12.0        22  f10008418946791263827d22c1   \n",
       "2   0.333019  12.0   0.0        22  f14833439648217778241d22c1   \n",
       "3   0.333019  13.0   0.0        22  f14496160650241856162d22c1   \n",
       "4   0.334019  -1.0  12.0        22  f14871950799153320900d23c1   \n",
       "5   0.333019   1.0   1.0        22  f10882062306833271369d24c1   \n",
       "\n",
       "   abs_orientation  turn_velocity       dist  \n",
       "1         2.107346       0.057285  17.691806  \n",
       "2         2.035695       0.071651  12.000000  \n",
       "3         2.297365       0.261671  13.000000  \n",
       "4         2.013552       0.283814  12.041595  \n",
       "5         1.869439       0.144113   1.414214  "
      ]
     },
     "execution_count": 330,
     "metadata": {},
     "output_type": "execute_result"
    }
   ],
   "source": [
    "dd.head()"
   ]
  },
  {
   "cell_type": "markdown",
   "metadata": {},
   "source": [
    "## Distribution of Travel Distance"
   ]
  },
  {
   "cell_type": "code",
   "execution_count": 513,
   "metadata": {
    "collapsed": false
   },
   "outputs": [
    {
     "data": {
      "text/plain": [
       "<matplotlib.text.Text at 0x14c5e4f98>"
      ]
     },
     "execution_count": 513,
     "metadata": {},
     "output_type": "execute_result"
    },
    {
     "data": {
      "image/png": "[encoded data removed]",
      "text/plain": [
       "<matplotlib.figure.Figure at 0x14aaedb00>"
      ]
     },
     "metadata": {},
     "output_type": "display_data"
    }
   ],
   "source": [
    "dd.dist.hist(bins=30)\n",
    "#plt.xlim(0,120)\n",
    "plt.title('Distribution of travel distance (one frame)')\n",
    "plt.xlabel('Distance in px')\n",
    "plt.ylabel('Number of Steps')"
   ]
  },
  {
   "cell_type": "code",
   "execution_count": 338,
   "metadata": {
    "collapsed": false
   },
   "outputs": [
    {
     "data": {
      "text/plain": [
       "count    642260.000000\n",
       "mean         12.789929\n",
       "std          16.087454\n",
       "min           0.000000\n",
       "25%           0.000000\n",
       "50%          12.000000\n",
       "75%          17.691806\n",
       "max         269.007435\n",
       "Name: dist, dtype: float64"
      ]
     },
     "execution_count": 338,
     "metadata": {},
     "output_type": "execute_result"
    }
   ],
   "source": [
    "dd.dist.describe()"
   ]
  },
  {
   "cell_type": "markdown",
   "metadata": {},
   "source": [
    "Der Durchschnitt, wenn man alle Schritte betrachtet (auch sich nicht bewegende Bienen) beträgt dann 13 px."
   ]
  },
  {
   "cell_type": "markdown",
   "metadata": {},
   "source": [
    "## Ohne die Stehenden Bienen\n",
    "Da ist der Durchschnitt bei 23 px."
   ]
  },
  {
   "cell_type": "code",
   "execution_count": 517,
   "metadata": {
    "collapsed": false
   },
   "outputs": [
    {
     "data": {
      "text/plain": [
       "<matplotlib.axes._subplots.AxesSubplot at 0x13b8960b8>"
      ]
     },
     "execution_count": 517,
     "metadata": {},
     "output_type": "execute_result"
    },
    {
     "data": {
      "image/png": "[encoded data removed]",
      "text/plain": [
       "<matplotlib.figure.Figure at 0x14ad29f60>"
      ]
     },
     "metadata": {},
     "output_type": "display_data"
    }
   ],
   "source": [
    "dd[dd.dist > 5].dist.hist()"
   ]
  },
  {
   "cell_type": "code",
   "execution_count": 520,
   "metadata": {
    "collapsed": false
   },
   "outputs": [
    {
     "data": {
      "text/plain": [
       "count    354238.000000\n",
       "mean         22.987906\n",
       "std          15.399973\n",
       "min           9.055385\n",
       "25%          13.000000\n",
       "50%          17.691806\n",
       "75%          27.730849\n",
       "max         269.007435\n",
       "Name: dist, dtype: float64"
      ]
     },
     "execution_count": 520,
     "metadata": {},
     "output_type": "execute_result"
    }
   ],
   "source": [
    "dd[dd.dist > 5].dist.describe()"
   ]
  },
  {
   "cell_type": "markdown",
   "metadata": {},
   "source": [
    "Auch wenn man die extrem langen Schritte rausnimmt, bleibt es bei 23px pro Frame."
   ]
  },
  {
   "cell_type": "code",
   "execution_count": 521,
   "metadata": {
    "collapsed": false
   },
   "outputs": [
    {
     "data": {
      "text/plain": [
       "count    354229.000000\n",
       "mean         22.982970\n",
       "std          15.368648\n",
       "min           9.055385\n",
       "25%          13.000000\n",
       "50%          17.691806\n",
       "75%          27.730849\n",
       "max         199.424171\n",
       "Name: dist, dtype: float64"
      ]
     },
     "execution_count": 521,
     "metadata": {},
     "output_type": "execute_result"
    }
   ],
   "source": [
    "dd.query('dist > 5 & dist < 200').dist.describe()"
   ]
  },
  {
   "cell_type": "markdown",
   "metadata": {},
   "source": [
    "## Durchschnittliche Schrittlänge pro Track\n",
    "Hier ist der Durchschnitt 18.4 px."
   ]
  },
  {
   "cell_type": "code",
   "execution_count": null,
   "metadata": {
    "collapsed": true
   },
   "outputs": [],
   "source": [
    "track_dist_means = dd.dist.groupby(dd.track_id).mean()"
   ]
  },
  {
   "cell_type": "code",
   "execution_count": 525,
   "metadata": {
    "collapsed": false
   },
   "outputs": [
    {
     "data": {
      "text/plain": [
       "<matplotlib.axes._subplots.AxesSubplot at 0x145001a20>"
      ]
     },
     "execution_count": 525,
     "metadata": {},
     "output_type": "execute_result"
    },
    {
     "data": {
      "image/png": "[encoded data removed]",
      "text/plain": [
       "<matplotlib.figure.Figure at 0x1420d3c88>"
      ]
     },
     "metadata": {},
     "output_type": "display_data"
    }
   ],
   "source": [
    "track_dist_means.hist(bins=30)"
   ]
  },
  {
   "cell_type": "code",
   "execution_count": 526,
   "metadata": {
    "collapsed": false
   },
   "outputs": [
    {
     "data": {
      "text/plain": [
       "count    3155.000000\n",
       "mean       18.407499\n",
       "std        11.102862\n",
       "min         0.134328\n",
       "25%        10.969599\n",
       "50%        16.685208\n",
       "75%        23.667140\n",
       "max        74.986359\n",
       "Name: dist, dtype: float64"
      ]
     },
     "execution_count": 526,
     "metadata": {},
     "output_type": "execute_result"
    }
   ],
   "source": [
    "track_dist_means.describe()"
   ]
  },
  {
   "cell_type": "markdown",
   "metadata": {},
   "source": [
    "## Nur Tracks betrachten wo sich die Bienen wirklich bewegen."
   ]
  },
  {
   "cell_type": "code",
   "execution_count": 546,
   "metadata": {
    "collapsed": false,
    "scrolled": false
   },
   "outputs": [],
   "source": [
    "tracks_with_walking = track_dist_means[track_dist_means > 15].index"
   ]
  },
  {
   "cell_type": "code",
   "execution_count": 547,
   "metadata": {
    "collapsed": false
   },
   "outputs": [
    {
     "data": {
      "text/plain": [
       "23.713653877960379"
      ]
     },
     "execution_count": 547,
     "metadata": {},
     "output_type": "execute_result"
    }
   ],
   "source": [
    "dd[dd.track_id.isin(tracks_with_walking)].dist.mean()"
   ]
  }
 ],
 "metadata": {
  "kernelspec": {
   "display_name": "Python 3",
   "language": "python",
   "name": "python3"
  },
  "language_info": {
   "codemirror_mode": {
    "name": "ipython",
    "version": 3
   },
   "file_extension": ".py",
   "mimetype": "text/x-python",
   "name": "python",
   "nbconvert_exporter": "python",
   "pygments_lexer": "ipython3",
   "version": "3.6.0"
  }
 },
 "nbformat": 4,
 "nbformat_minor": 2
}
