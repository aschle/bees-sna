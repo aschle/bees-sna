{
 "cells": [
  {
   "cell_type": "code",
   "execution_count": 1,
   "metadata": {
    "collapsed": false
   },
   "outputs": [],
   "source": [
    "%load_ext autoreload\n",
    "%autoreload 2"
   ]
  },
  {
   "cell_type": "code",
   "execution_count": 2,
   "metadata": {
    "collapsed": false
   },
   "outputs": [],
   "source": [
    "import multiprocessing\n",
    "from multiprocessing import Pool\n",
    "from bb_binary import FrameContainer, Repository, load_frame_container\n",
    "import pandas as pd\n",
    "import numpy as np\n",
    "from collections import namedtuple \n",
    "import networkx as nx\n",
    "\n",
    "from pandas import DataFrame, Series\n",
    "from collections import Counter\n",
    "import matplotlib.pyplot as plt\n",
    "import bib.preprocessing as prep\n",
    "import seaborn as sns\n",
    "%matplotlib inline "
   ]
  },
  {
   "cell_type": "markdown",
   "metadata": {},
   "source": [
    "# How often and how long do bees interact (are bees close to each other)?\n",
    "\n",
    "Looking at all bees for a complete day (24 hours), I want to find out how often a bee pair is detected, also looking at the distribution."
   ]
  },
  {
   "cell_type": "code",
   "execution_count": 3,
   "metadata": {
    "collapsed": true
   },
   "outputs": [],
   "source": [
    "# packt immer die 4 Kameradateien zusammen\n",
    "def get_files(path):\n",
    "    repo = Repository(path)\n",
    "    file = list(repo.iter_fnames())\n",
    "    a = [f.split('/')[-1].split(\"_\")[1] for f in file]\n",
    "    l = len(a)/4\n",
    "    npa = np.array(file).reshape(int(l),4)\n",
    "    return npa"
   ]
  },
  {
   "cell_type": "code",
   "execution_count": null,
   "metadata": {
    "collapsed": true
   },
   "outputs": [],
   "source": [
    "#path = \"/storage/mi/aschle/1day/20150822/\""
   ]
  },
  {
   "cell_type": "code",
   "execution_count": 4,
   "metadata": {
    "collapsed": true
   },
   "outputs": [],
   "source": [
    "path = \"../data/1h/2015082215/\""
   ]
  },
  {
   "cell_type": "code",
   "execution_count": 5,
   "metadata": {
    "collapsed": false
   },
   "outputs": [],
   "source": [
    "files = get_files(path)"
   ]
  },
  {
   "cell_type": "code",
   "execution_count": 6,
   "metadata": {
    "collapsed": false
   },
   "outputs": [
    {
     "data": {
      "text/plain": [
       "10"
      ]
     },
     "execution_count": 6,
     "metadata": {},
     "output_type": "execute_result"
    }
   ],
   "source": [
    "len(files)"
   ]
  },
  {
   "cell_type": "code",
   "execution_count": 13,
   "metadata": {
    "collapsed": false
   },
   "outputs": [],
   "source": [
    "def generate_timeseries_pairs(files):\n",
    "    \n",
    "    xmax = 3000\n",
    "    distance = 160\n",
    "    confidence = 0.95\n",
    "    \n",
    "    # one df per cam\n",
    "    dataframes = [DataFrame(),DataFrame(),DataFrame(),DataFrame()]\n",
    "\n",
    "    for e, file_list in enumerate(files):\n",
    "        for i in list(range(4)):\n",
    "            fc = load_frame_container(file_list[i])\n",
    "            df = prep.get_dataframe2(fc)\n",
    "            df = prep.calcIds(df,confidence)\n",
    "            df['frame_idx'] = df['frame_idx'] + e*1024\n",
    "\n",
    "            camIdx = int(file_list[i].split(\"/\")[-1].split(\"_\")[1])\n",
    "            dataframes[camIdx] = pd.concat([dataframes[camIdx], df])\n",
    "\n",
    "    # cam 0 und cam1 nach rechts verschieben\n",
    "    dataframes[0].xpos = dataframes[0].xpos + xmax\n",
    "    dataframes[1].xpos = dataframes[1].xpos + xmax\n",
    "\n",
    "    # Seiten zusammenfugen\n",
    "    side0 = pd.concat([dataframes[3], dataframes[0]])\n",
    "    side1 = pd.concat([dataframes[2], dataframes[1]])\n",
    "\n",
    "    close1 = prep.get_close_bees_ckd(side0, distance)\n",
    "    close2 = prep.get_close_bees_ckd(side1, distance)\n",
    "\n",
    "    close = pd.concat([close1,close2])\n",
    "\n",
    "    return bee_pairs_to_timeseries(close)"
   ]
  },
  {
   "cell_type": "code",
   "execution_count": 14,
   "metadata": {
    "collapsed": true
   },
   "outputs": [],
   "source": [
    "def bee_pairs_to_timeseries(df):\n",
    "    close = df[['frame_idx', 'id_x', 'id_y']]\n",
    "    close['pair'] = list(zip(close.id_x, close.id_y))\n",
    "    u_pairs = close.pair.unique()\n",
    "    col = close.frame_idx.unique()\n",
    "    dft = DataFrame(0, index=u_pairs, columns=col)\n",
    "    gr = close.groupby('frame_idx')\n",
    "\n",
    "    for i, group in gr:\n",
    "        l = group['pair']\n",
    "        dft.loc[l,i] = 1\n",
    "\n",
    "    return dft"
   ]
  },
  {
   "cell_type": "code",
   "execution_count": 20,
   "metadata": {
    "collapsed": false
   },
   "outputs": [
    {
     "name": "stdout",
     "output_type": "stream",
     "text": [
      "CPU times: user 20min 57s, sys: 5.82 s, total: 21min 3s\n",
      "Wall time: 21min\n"
     ]
    }
   ],
   "source": [
    "%time dft = generate_timeseries_pairs(files)"
   ]
  },
  {
   "cell_type": "code",
   "execution_count": 21,
   "metadata": {
    "collapsed": false
   },
   "outputs": [
    {
     "data": {
      "text/plain": [
       "(147430, 10240)"
      ]
     },
     "execution_count": 21,
     "metadata": {},
     "output_type": "execute_result"
    }
   ],
   "source": [
    "dft.shape"
   ]
  },
  {
   "cell_type": "code",
   "execution_count": 42,
   "metadata": {
    "collapsed": true
   },
   "outputs": [],
   "source": [
    "dft.to_pickle(\"/storage/mi/aschle/dft-1h-2015082215.pickle\")"
   ]
  },
  {
   "cell_type": "markdown",
   "metadata": {},
   "source": [
    "## Number of 1 per pair and number of 0 per pair"
   ]
  },
  {
   "cell_type": "code",
   "execution_count": 22,
   "metadata": {
    "collapsed": false
   },
   "outputs": [],
   "source": [
    "dft_summen = DataFrame()\n",
    "dft_summen[\"sum1\"] = dft.sum(axis=1)"
   ]
  },
  {
   "cell_type": "code",
   "execution_count": 23,
   "metadata": {
    "collapsed": false
   },
   "outputs": [],
   "source": [
    "dft_summen[\"sum0\"] = (dft.shape[1]) - dft_summen['sum1']"
   ]
  },
  {
   "cell_type": "code",
   "execution_count": 24,
   "metadata": {
    "collapsed": false
   },
   "outputs": [
    {
     "data": {
      "text/plain": [
       "147430"
      ]
     },
     "execution_count": 24,
     "metadata": {},
     "output_type": "execute_result"
    }
   ],
   "source": [
    "# Numer of unique Bee Pairs\n",
    "len(dft_summen.index)"
   ]
  },
  {
   "cell_type": "markdown",
   "metadata": {},
   "source": [
    "### Number of 1 = Pair detected"
   ]
  },
  {
   "cell_type": "code",
   "execution_count": 25,
   "metadata": {
    "collapsed": false
   },
   "outputs": [
    {
     "data": {
      "text/plain": [
       "10240"
      ]
     },
     "execution_count": 25,
     "metadata": {},
     "output_type": "execute_result"
    }
   ],
   "source": [
    "len(files)*1024"
   ]
  },
  {
   "cell_type": "code",
   "execution_count": 26,
   "metadata": {
    "collapsed": false
   },
   "outputs": [
    {
     "data": {
      "text/plain": [
       "<matplotlib.text.Text at 0x7fc54208a710>"
      ]
     },
     "execution_count": 26,
     "metadata": {},
     "output_type": "execute_result"
    },
    {
     "data": {
      "image/png": "[encoded data removed]",
      "text/plain": [
       "<matplotlib.figure.Figure at 0x7fc58012f898>"
      ]
     },
     "metadata": {},
     "output_type": "display_data"
    }
   ],
   "source": [
    "ax = dft_summen.sum1.hist(bins=100, log=True)\n",
    "ax.set_xlabel(\"Numer of '1' (pairs)\")\n",
    "ax.set_ylabel(\"Frequency\")\n",
    "ax.set_title(\"Distribution - How often (how many frames) was a pair detected during an hour?\")"
   ]
  },
  {
   "cell_type": "code",
   "execution_count": 27,
   "metadata": {
    "collapsed": false
   },
   "outputs": [],
   "source": [
    "freq = Counter(dft_summen.sum1)"
   ]
  },
  {
   "cell_type": "code",
   "execution_count": 28,
   "metadata": {
    "collapsed": false
   },
   "outputs": [
    {
     "data": {
      "text/plain": [
       "count    147430.000000\n",
       "mean          9.140324\n",
       "std          33.546379\n",
       "min           1.000000\n",
       "25%           1.000000\n",
       "50%           3.000000\n",
       "75%           8.000000\n",
       "max        3735.000000\n",
       "Name: sum1, dtype: float64"
      ]
     },
     "execution_count": 28,
     "metadata": {},
     "output_type": "execute_result"
    }
   ],
   "source": [
    "dft_summen.sum1.describe()"
   ]
  },
  {
   "cell_type": "markdown",
   "metadata": {},
   "source": [
    "### Number of 0 = Pair not detected"
   ]
  },
  {
   "cell_type": "code",
   "execution_count": 29,
   "metadata": {
    "collapsed": false
   },
   "outputs": [
    {
     "data": {
      "text/plain": [
       "<matplotlib.text.Text at 0x7fc57f1bf278>"
      ]
     },
     "execution_count": 29,
     "metadata": {},
     "output_type": "execute_result"
    },
    {
     "data": {
      "image/png": "[encoded data removed]",
      "text/plain": [
       "<matplotlib.figure.Figure at 0x7fc541d8d630>"
      ]
     },
     "metadata": {},
     "output_type": "display_data"
    }
   ],
   "source": [
    "ax = dft_summen.sum0.hist(bins=100, log=True)\n",
    "ax.set_xlabel(\"Numer of '0' (pairs)\")\n",
    "ax.set_ylabel(\"Frequency\")\n",
    "ax.set_title(\"Distribution - How often (how many frames) was a pair not detected during an hour?\")"
   ]
  },
  {
   "cell_type": "code",
   "execution_count": 30,
   "metadata": {
    "collapsed": false
   },
   "outputs": [
    {
     "data": {
      "text/plain": [
       "count    147430.000000\n",
       "mean      10230.859676\n",
       "std          33.546379\n",
       "min        6505.000000\n",
       "25%       10232.000000\n",
       "50%       10237.000000\n",
       "75%       10239.000000\n",
       "max       10239.000000\n",
       "Name: sum0, dtype: float64"
      ]
     },
     "execution_count": 30,
     "metadata": {},
     "output_type": "execute_result"
    }
   ],
   "source": [
    "dft_summen.sum0.describe()"
   ]
  },
  {
   "cell_type": "markdown",
   "metadata": {},
   "source": [
    "## Length of 1"
   ]
  },
  {
   "cell_type": "code",
   "execution_count": 31,
   "metadata": {
    "collapsed": true
   },
   "outputs": [],
   "source": [
    "def get_ketten_len(kette, val):\n",
    "    kette = kette.apply(str)\n",
    "    s = kette.str.cat(sep='')\n",
    "    ss = s.split(val)\n",
    "    return [len(x) for x in ss if len(x) > 0]"
   ]
  },
  {
   "cell_type": "code",
   "execution_count": 32,
   "metadata": {
    "collapsed": false
   },
   "outputs": [
    {
     "name": "stdout",
     "output_type": "stream",
     "text": [
      "CPU times: user 14min 51s, sys: 944 ms, total: 14min 52s\n",
      "Wall time: 14min 44s\n"
     ]
    }
   ],
   "source": [
    "%time chains1 = dft.apply(get_ketten_len, axis=1, args=[\"0\"])"
   ]
  },
  {
   "cell_type": "code",
   "execution_count": 33,
   "metadata": {
    "collapsed": false
   },
   "outputs": [
    {
     "name": "stdout",
     "output_type": "stream",
     "text": [
      "CPU times: user 48 ms, sys: 4 ms, total: 52 ms\n",
      "Wall time: 51 ms\n"
     ]
    }
   ],
   "source": [
    "%time list_1 = [j for i in chains1 for j in i]"
   ]
  },
  {
   "cell_type": "code",
   "execution_count": 34,
   "metadata": {
    "collapsed": false
   },
   "outputs": [
    {
     "data": {
      "text/plain": [
       "<matplotlib.text.Text at 0x7fc5455c88d0>"
      ]
     },
     "execution_count": 34,
     "metadata": {},
     "output_type": "execute_result"
    },
    {
     "data": {
      "image/png": "[encoded data removed]",
      "text/plain": [
       "<matplotlib.figure.Figure at 0x7fc541fa9208>"
      ]
     },
     "metadata": {},
     "output_type": "display_data"
    }
   ],
   "source": [
    "plt.hist(list_1, bins=100, log=True, )\n",
    "plt.xlabel(\"Length of '1' (pairs)\")\n",
    "plt.ylabel(\"Frequency\")\n",
    "plt.title(\"Distribution of 1,11,111,... (length)\")"
   ]
  },
  {
   "cell_type": "code",
   "execution_count": 35,
   "metadata": {
    "collapsed": false
   },
   "outputs": [
    {
     "data": {
      "text/html": [
       "<div>\n",
       "<table border=\"1\" class=\"dataframe\">\n",
       "  <thead>\n",
       "    <tr style=\"text-align: right;\">\n",
       "      <th></th>\n",
       "      <th>0</th>\n",
       "    </tr>\n",
       "  </thead>\n",
       "  <tbody>\n",
       "    <tr>\n",
       "      <th>count</th>\n",
       "      <td>563063.000000</td>\n",
       "    </tr>\n",
       "    <tr>\n",
       "      <th>mean</th>\n",
       "      <td>2.393263</td>\n",
       "    </tr>\n",
       "    <tr>\n",
       "      <th>std</th>\n",
       "      <td>3.685632</td>\n",
       "    </tr>\n",
       "    <tr>\n",
       "      <th>min</th>\n",
       "      <td>1.000000</td>\n",
       "    </tr>\n",
       "    <tr>\n",
       "      <th>25%</th>\n",
       "      <td>1.000000</td>\n",
       "    </tr>\n",
       "    <tr>\n",
       "      <th>50%</th>\n",
       "      <td>1.000000</td>\n",
       "    </tr>\n",
       "    <tr>\n",
       "      <th>75%</th>\n",
       "      <td>3.000000</td>\n",
       "    </tr>\n",
       "    <tr>\n",
       "      <th>max</th>\n",
       "      <td>353.000000</td>\n",
       "    </tr>\n",
       "  </tbody>\n",
       "</table>\n",
       "</div>"
      ],
      "text/plain": [
       "                   0\n",
       "count  563063.000000\n",
       "mean        2.393263\n",
       "std         3.685632\n",
       "min         1.000000\n",
       "25%         1.000000\n",
       "50%         1.000000\n",
       "75%         3.000000\n",
       "max       353.000000"
      ]
     },
     "execution_count": 35,
     "metadata": {},
     "output_type": "execute_result"
    }
   ],
   "source": [
    "DataFrame(list_1).describe()"
   ]
  },
  {
   "cell_type": "markdown",
   "metadata": {},
   "source": [
    "### Length of 0"
   ]
  },
  {
   "cell_type": "code",
   "execution_count": 36,
   "metadata": {
    "collapsed": false
   },
   "outputs": [
    {
     "name": "stdout",
     "output_type": "stream",
     "text": [
      "CPU times: user 11min 39s, sys: 1.05 s, total: 11min 40s\n",
      "Wall time: 11min 32s\n"
     ]
    }
   ],
   "source": [
    "%time chains0 = dft.apply(get_ketten_len, axis=1, args=[\"1\"])"
   ]
  },
  {
   "cell_type": "code",
   "execution_count": 37,
   "metadata": {
    "collapsed": true
   },
   "outputs": [],
   "source": [
    "list_0 = [j for i in chains0 for j in i]"
   ]
  },
  {
   "cell_type": "code",
   "execution_count": 38,
   "metadata": {
    "collapsed": false
   },
   "outputs": [
    {
     "data": {
      "text/plain": [
       "<matplotlib.text.Text at 0x7fc57eca2ac8>"
      ]
     },
     "execution_count": 38,
     "metadata": {},
     "output_type": "execute_result"
    },
    {
     "data": {
      "image/png": "[encoded data removed]",
      "text/plain": [
       "<matplotlib.figure.Figure at 0x7fc54588bf28>"
      ]
     },
     "metadata": {},
     "output_type": "display_data"
    }
   ],
   "source": [
    "(n, bins, patches) = plt.hist(list_0, bins=100, log=True)\n",
    "plt.xlabel(\"Length of '0' (pairs)\")\n",
    "plt.ylabel(\"Frequency\")\n",
    "plt.title(\"Distribution of 0,00,000,... (length)\")"
   ]
  },
  {
   "cell_type": "code",
   "execution_count": 39,
   "metadata": {
    "collapsed": false
   },
   "outputs": [
    {
     "data": {
      "text/html": [
       "<div>\n",
       "<table border=\"1\" class=\"dataframe\">\n",
       "  <thead>\n",
       "    <tr style=\"text-align: right;\">\n",
       "      <th></th>\n",
       "      <th>0</th>\n",
       "    </tr>\n",
       "  </thead>\n",
       "  <tbody>\n",
       "    <tr>\n",
       "      <th>count</th>\n",
       "      <td>710240.000000</td>\n",
       "    </tr>\n",
       "    <tr>\n",
       "      <th>mean</th>\n",
       "      <td>2123.698527</td>\n",
       "    </tr>\n",
       "    <tr>\n",
       "      <th>std</th>\n",
       "      <td>3037.781182</td>\n",
       "    </tr>\n",
       "    <tr>\n",
       "      <th>min</th>\n",
       "      <td>1.000000</td>\n",
       "    </tr>\n",
       "    <tr>\n",
       "      <th>25%</th>\n",
       "      <td>2.000000</td>\n",
       "    </tr>\n",
       "    <tr>\n",
       "      <th>50%</th>\n",
       "      <td>55.000000</td>\n",
       "    </tr>\n",
       "    <tr>\n",
       "      <th>75%</th>\n",
       "      <td>3974.000000</td>\n",
       "    </tr>\n",
       "    <tr>\n",
       "      <th>max</th>\n",
       "      <td>10239.000000</td>\n",
       "    </tr>\n",
       "  </tbody>\n",
       "</table>\n",
       "</div>"
      ],
      "text/plain": [
       "                   0\n",
       "count  710240.000000\n",
       "mean     2123.698527\n",
       "std      3037.781182\n",
       "min         1.000000\n",
       "25%         2.000000\n",
       "50%        55.000000\n",
       "75%      3974.000000\n",
       "max     10239.000000"
      ]
     },
     "execution_count": 39,
     "metadata": {},
     "output_type": "execute_result"
    }
   ],
   "source": [
    "DataFrame(list_0).describe()"
   ]
  },
  {
   "cell_type": "code",
   "execution_count": null,
   "metadata": {
    "collapsed": true
   },
   "outputs": [],
   "source": []
  }
 ],
 "metadata": {
  "anaconda-cloud": {},
  "kernelspec": {
   "display_name": "Python [default]",
   "language": "python",
   "name": "python3"
  },
  "language_info": {
   "codemirror_mode": {
    "name": "ipython",
    "version": 3
   },
   "file_extension": ".py",
   "mimetype": "text/x-python",
   "name": "python",
   "nbconvert_exporter": "python",
   "pygments_lexer": "ipython3",
   "version": "3.5.2"
  }
 },
 "nbformat": 4,
 "nbformat_minor": 1
}
