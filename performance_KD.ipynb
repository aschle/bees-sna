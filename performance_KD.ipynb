{
 "cells": [
  {
   "cell_type": "code",
   "execution_count": 27,
   "metadata": {
    "collapsed": false
   },
   "outputs": [],
   "source": [
    "import sys\n",
    "import beessna.bib.preprocessing as prep\n",
    "import pandas as pd\n",
    "import numpy as np\n",
    "import networkx as nx\n",
    "from scipy import spatial\n",
    "\n",
    "from bb_binary import FrameContainer, Repository, load_frame_container\n",
    "from pandas import DataFrame, Series\n",
    "\n",
    "%load_ext line_profiler"
   ]
  },
  {
   "cell_type": "code",
   "execution_count": 3,
   "metadata": {
    "collapsed": true
   },
   "outputs": [],
   "source": [
    "def get_files(path):\n",
    "    repo = Repository(path)\n",
    "    file = list(repo.iter_fnames())\n",
    "    a = [f.split('/')[-1].split(\"_\")[1] for f in file]\n",
    "    l = len(a)/4\n",
    "    npa = np.array(file).reshape(int(l),4)\n",
    "    return npa"
   ]
  },
  {
   "cell_type": "code",
   "execution_count": 4,
   "metadata": {
    "collapsed": true
   },
   "outputs": [],
   "source": [
    "def get_close_bees(df, distance):\n",
    "\n",
    "    df = df.reset_index(level = 'frame_idx')\n",
    "\n",
    "    m = pd.merge(df, df, on='frame_idx')\n",
    "    #m = m.query('id_x < id_y')\n",
    "    m = m[m.id_x < m.id_y]\n",
    "\n",
    "    m.loc[:, 'dist'] = np.square(m.xpos_x - m.xpos_y) \\\n",
    "        + np.square(m.ypos_x - m.ypos_y)\n",
    "\n",
    "    filtered = m[m.dist <= distance**2]\n",
    "\n",
    "    filtered = filtered[['frame_idx','id_x', 'id_y']]\n",
    "    return filtered"
   ]
  },
  {
   "cell_type": "code",
   "execution_count": 5,
   "metadata": {
    "collapsed": true
   },
   "outputs": [],
   "source": [
    "def get_close_bees_kd(df, distance):\n",
    "\n",
    "    df_close = DataFrame()\n",
    "\n",
    "    gr = df.groupby('frame_idx')\n",
    "\n",
    "    for i, group in gr:\n",
    "        xy_coordinates = group[['xpos', 'ypos']].values\n",
    "        tree = spatial.KDTree(xy_coordinates, leafsize=20)\n",
    "        result = tree.query_pairs(distance)\n",
    "        l = [[i,group['id'].iat[a], group['id'].iat[b]] for a,b in result]\n",
    "        df_close = df_close.append(DataFrame(l, columns=['frame_idx', 'id_x', 'id_y']))\n",
    "\n",
    "    return df_close"
   ]
  },
  {
   "cell_type": "code",
   "execution_count": 20,
   "metadata": {
    "collapsed": true
   },
   "outputs": [],
   "source": [
    "def get_close_bees_ckd(df, distance):\n",
    "\n",
    "    df_close = DataFrame()\n",
    "\n",
    "    gr = df.groupby('frame_idx')\n",
    "\n",
    "    for i, group in gr:\n",
    "        xy_coordinates = group[['xpos', 'ypos']].values\n",
    "        tree = spatial.cKDTree(xy_coordinates, leafsize=20)\n",
    "        result = tree.query_pairs(distance)\n",
    "        l = [[i,group['id'].iat[a], group['id'].iat[b]] for a,b in result]\n",
    "        df_close = df_close.append(DataFrame(l, columns=['frame_idx', 'id_x', 'id_y']))\n",
    "\n",
    "    return df_close"
   ]
  },
  {
   "cell_type": "code",
   "execution_count": 6,
   "metadata": {
    "collapsed": true
   },
   "outputs": [],
   "source": [
    "global side1\n",
    "global side2"
   ]
  },
  {
   "cell_type": "code",
   "execution_count": 32,
   "metadata": {
    "collapsed": true
   },
   "outputs": [],
   "source": [
    "def f(c=0.95,d=160,m=\"10\",l=3):\n",
    "    \n",
    "    f = \"data/1h/\"\n",
    "    p = \"2015\" + m + \"2215\"\n",
    "\n",
    "    CONFIDENCE = c\n",
    "    DISTANCE = d\n",
    "\n",
    "    xmax = 3000\n",
    "    ymax = 4000\n",
    "    LENGTH = l\n",
    "\n",
    "    path = f+p\n",
    "\n",
    "    files = get_files(path)\n",
    "\n",
    "    interactions = Series()\n",
    "\n",
    "    for file_list in files[:1]:\n",
    "\n",
    "        dataframes = np.empty(4, dtype=object)\n",
    "\n",
    "        for i in list(range(4)):\n",
    "            fc = load_frame_container(file_list[i])\n",
    "            df = prep.get_dataframe(fc)\n",
    "            df = prep.calcIds(df,CONFIDENCE)\n",
    "\n",
    "            camIdx = int(file_list[i].split(\"/\")[-1].split(\"_\")[1])\n",
    "            dataframes[camIdx] = df\n",
    "\n",
    "        # cam 0 und cam1 nach rechts verschieben\n",
    "        dataframes[0].xpos = dataframes[0].xpos + xmax\n",
    "        dataframes[1].xpos = dataframes[1].xpos + xmax\n",
    "\n",
    "        # Seiten zusammenfugen\n",
    "        side0 = pd.concat([dataframes[3], dataframes[0]])\n",
    "        side1 = pd.concat([dataframes[2], dataframes[1]])\n",
    "\n",
    "        close1 = get_close_bees_ckd(side0, DISTANCE)\n",
    "        close2 = get_close_bees_ckd(side1, DISTANCE)\n",
    "\n",
    "        close = pd.concat([close1,close2])\n",
    "\n",
    "        p = prep.bee_pairs_to_timeseries(close)\n",
    "\n",
    "        edges = prep.extract_interactions(p,LENGTH)\n",
    "\n",
    "        interactions = pd.concat([interactions, edges])\n",
    "\n",
    "    G = prep.create_graph2(interactions)\n",
    "    # nx.write_graphml(G, filename + \".graphml\")"
   ]
  },
  {
   "cell_type": "code",
   "execution_count": 33,
   "metadata": {
    "collapsed": false
   },
   "outputs": [],
   "source": [
    "%lprun -f f f(m=\"08\")"
   ]
  },
  {
   "cell_type": "code",
   "execution_count": 34,
   "metadata": {
    "collapsed": false
   },
   "outputs": [
    {
     "name": "stdout",
     "output_type": "stream",
     "text": [
      "CPU times: user 1min 31s, sys: 300 ms, total: 1min 31s\n",
      "Wall time: 1min 31s\n"
     ]
    }
   ],
   "source": [
    "%time f(m=\"08\")"
   ]
  },
  {
   "cell_type": "markdown",
   "metadata": {},
   "source": [
    "# August\n",
    "\n",
    "Timer unit: 1e-06 s\n",
    "\n",
    "Total time: 289.339 s\n",
    "File: <ipython-input-28-15d62d1629c7>\n",
    "Function: f at line 1\n",
    "\n",
    "Line #      Hits         Time  Per Hit   % Time  Line Contents\n",
    "==============================================================\n",
    "     1                                           def f(c=0.95,d=160,m=\"10\",l=3):\n",
    "     2                                               \n",
    "     3         1            4      4.0      0.0      f = \"data/1h/\"\n",
    "     4         1            5      5.0      0.0      p = \"2015\" + m + \"2215\"\n",
    "     5                                           \n",
    "     6         1            2      2.0      0.0      CONFIDENCE = c\n",
    "     7         1            2      2.0      0.0      DISTANCE = d\n",
    "     8                                           \n",
    "     9         1            2      2.0      0.0      xmax = 3000\n",
    "    10         1            2      2.0      0.0      ymax = 4000\n",
    "    11         1            2      2.0      0.0      LENGTH = l\n",
    "    12                                           \n",
    "    13         1            3      3.0      0.0      path = f+p\n",
    "    14                                           \n",
    "    15         1        36183  36183.0      0.0      files = get_files(path)\n",
    "    16                                           \n",
    "    17         1          794    794.0      0.0      interactions = Series()\n",
    "    18                                           \n",
    "    19         2           17      8.5      0.0      for file_list in files[:1]:\n",
    "    20                                           \n",
    "    21         1           17     17.0      0.0          dataframes = np.empty(4, dtype=object)\n",
    "    22                                           \n",
    "    23         5           20      4.0      0.0          for i in list(range(4)):\n",
    "    24         4        18684   4671.0      0.0              fc = load_frame_container(file_list[i])\n",
    "    25         4     34087673 8521918.2     11.8              df = prep.get_dataframe(fc)\n",
    "    26         4     31822032 7955508.0     11.0              df = prep.calcIds(df,CONFIDENCE)\n",
    "    27                                           \n",
    "    28         4          295     73.8      0.0              camIdx = int(file_list[i].split(\"/\")[-1].split(\"_\")[1])\n",
    "    29         4           14      3.5      0.0              dataframes[camIdx] = df\n",
    "    30                                           \n",
    "    31                                                   # cam 0 und cam1 nach rechts verschieben\n",
    "    32         1         2147   2147.0      0.0          dataframes[0].xpos = dataframes[0].xpos + xmax\n",
    "    33         1         1201   1201.0      0.0          dataframes[1].xpos = dataframes[1].xpos + xmax\n",
    "    34                                           \n",
    "    35                                                   # Seiten zusammenfugen\n",
    "    36         1        17167  17167.0      0.0          side0 = pd.concat([dataframes[3], dataframes[0]])\n",
    "    37         1        11736  11736.0      0.0          side1 = pd.concat([dataframes[2], dataframes[1]])\n",
    "    38                                           \n",
    "    39         1     16361026 16361026.0      5.7          close1 = get_close_bees_ckd(side0, DISTANCE)\n",
    "    40         1      8482647 8482647.0      2.9          close2 = get_close_bees_ckd(side1, DISTANCE)\n",
    "    41                                           \n",
    "    42         1     90526887 90526887.0     31.3          close1 = get_close_bees_kd(side0, DISTANCE)\n",
    "    43         1     38827023 38827023.0     13.4          close2 = get_close_bees_kd(side1, DISTANCE)\n",
    "    44                                           \n",
    "    45         1     29052971 29052971.0     10.0          close1 = get_close_bees(side0, DISTANCE)\n",
    "    46         1      6008248 6008248.0      2.1          close2 = get_close_bees(side1, DISTANCE)\n",
    "    47                                           \n",
    "    48         1         2511   2511.0      0.0          close = pd.concat([close1,close2])\n",
    "    49                                           \n",
    "    50         1     11966027 11966027.0      4.1          p = prep.bee_pairs_to_timeseries(close)\n",
    "    51                                           \n",
    "    52         1     22061077 22061077.0      7.6          edges = prep.extract_interactions(p,LENGTH)\n",
    "    53                                           \n",
    "    54         1         2143   2143.0      0.0          interactions = pd.concat([interactions, edges])\n",
    "    55                                           \n",
    "    56         1        50235  50235.0      0.0      G = prep.create_graph2(interactions)"
   ]
  },
  {
   "cell_type": "markdown",
   "metadata": {},
   "source": [
    "# September\n",
    "\n",
    "Timer unit: 1e-06 s\n",
    "\n",
    "Total time: 112.756 s\n",
    "File: <ipython-input-28-15d62d1629c7>\n",
    "Function: f at line 1\n",
    "\n",
    "Line #      Hits         Time  Per Hit   % Time  Line Contents\n",
    "==============================================================\n",
    "     1                                           def f(c=0.95,d=160,m=\"10\",l=3):\n",
    "     2                                               \n",
    "     3         1            4      4.0      0.0      f = \"data/1h/\"\n",
    "     4         1            4      4.0      0.0      p = \"2015\" + m + \"2215\"\n",
    "     5                                           \n",
    "     6         1            2      2.0      0.0      CONFIDENCE = c\n",
    "     7         1            2      2.0      0.0      DISTANCE = d\n",
    "     8                                           \n",
    "     9         1            2      2.0      0.0      xmax = 3000\n",
    "    10         1            2      2.0      0.0      ymax = 4000\n",
    "    11         1            2      2.0      0.0      LENGTH = l\n",
    "    12                                           \n",
    "    13         1            2      2.0      0.0      path = f+p\n",
    "    14                                           \n",
    "    15         1        41787  41787.0      0.0      files = get_files(path)\n",
    "    16                                           \n",
    "    17         1          812    812.0      0.0      interactions = Series()\n",
    "    18                                           \n",
    "    19         2           16      8.0      0.0      for file_list in files[:1]:\n",
    "    20                                           \n",
    "    21         1           17     17.0      0.0          dataframes = np.empty(4, dtype=object)\n",
    "    22                                           \n",
    "    23         5           20      4.0      0.0          for i in list(range(4)):\n",
    "    24         4         7953   1988.2      0.0              fc = load_frame_container(file_list[i])\n",
    "    25         4     27026549 6756637.2     24.0              df = prep.get_dataframe(fc)\n",
    "    26         4     12670936 3167734.0     11.2              df = prep.calcIds(df,CONFIDENCE)\n",
    "    27                                           \n",
    "    28         4          286     71.5      0.0              camIdx = int(file_list[i].split(\"/\")[-1].split(\"_\")[1])\n",
    "    29         4           14      3.5      0.0              dataframes[camIdx] = df\n",
    "    30                                           \n",
    "    31                                                   # cam 0 und cam1 nach rechts verschieben\n",
    "    32         1         1573   1573.0      0.0          dataframes[0].xpos = dataframes[0].xpos + xmax\n",
    "    33         1         1107   1107.0      0.0          dataframes[1].xpos = dataframes[1].xpos + xmax\n",
    "    34                                           \n",
    "    35                                                   # Seiten zusammenfugen\n",
    "    36         1        10340  10340.0      0.0          side0 = pd.concat([dataframes[3], dataframes[0]])\n",
    "    37         1         9029   9029.0      0.0          side1 = pd.concat([dataframes[2], dataframes[1]])\n",
    "    38                                           \n",
    "    39         1      7494383 7494383.0      6.6          close1 = get_close_bees_ckd(side0, DISTANCE)\n",
    "    40         1      6088745 6088745.0      5.4          close2 = get_close_bees_ckd(side1, DISTANCE)\n",
    "    41                                           \n",
    "    42         1     29403785 29403785.0     26.1          close1 = get_close_bees_kd(side0, DISTANCE)\n",
    "    43         1     15735002 15735002.0     14.0          close2 = get_close_bees_kd(side1, DISTANCE)\n",
    "    44                                           \n",
    "    45         1      3877745 3877745.0      3.4          close1 = get_close_bees(side0, DISTANCE)\n",
    "    46         1      1407698 1407698.0      1.2          close2 = get_close_bees(side1, DISTANCE)\n",
    "    47                                           \n",
    "    48         1         1610   1610.0      0.0          close = pd.concat([close1,close2])\n",
    "    49                                           \n",
    "    50         1      4264701 4264701.0      3.8          p = prep.bee_pairs_to_timeseries(close)\n",
    "    51                                           \n",
    "    52         1      4695635 4695635.0      4.2          edges = prep.extract_interactions(p,LENGTH)\n",
    "    53                                           \n",
    "    54         1         1963   1963.0      0.0          interactions = pd.concat([interactions, edges])\n",
    "    55                                           \n",
    "    56         1        14282  14282.0      0.0      G = prep.create_graph2(interactions)\n"
   ]
  },
  {
   "cell_type": "markdown",
   "metadata": {},
   "source": [
    "# Oktober\n",
    "\n",
    "Timer unit: 1e-06 s\n",
    "\n",
    "Total time: 51.0593 s\n",
    "File: <ipython-input-28-15d62d1629c7>\n",
    "Function: f at line 1\n",
    "\n",
    "Line #      Hits         Time  Per Hit   % Time  Line Contents\n",
    "==============================================================\n",
    "     1                                           def f(c=0.95,d=160,m=\"10\",l=3):\n",
    "     2                                               \n",
    "     3         1            4      4.0      0.0      f = \"data/1h/\"\n",
    "     4         1            5      5.0      0.0      p = \"2015\" + m + \"2215\"\n",
    "     5                                           \n",
    "     6         1            2      2.0      0.0      CONFIDENCE = c\n",
    "     7         1            2      2.0      0.0      DISTANCE = d\n",
    "     8                                           \n",
    "     9         1            2      2.0      0.0      xmax = 3000\n",
    "    10         1            2      2.0      0.0      ymax = 4000\n",
    "    11         1            2      2.0      0.0      LENGTH = l\n",
    "    12                                           \n",
    "    13         1            2      2.0      0.0      path = f+p\n",
    "    14                                           \n",
    "    15         1        40525  40525.0      0.1      files = get_files(path)\n",
    "    16                                           \n",
    "    17         1          756    756.0      0.0      interactions = Series()\n",
    "    18                                           \n",
    "    19         2           16      8.0      0.0      for file_list in files[:1]:\n",
    "    20                                           \n",
    "    21         1           18     18.0      0.0          dataframes = np.empty(4, dtype=object)\n",
    "    22                                           \n",
    "    23         5           17      3.4      0.0          for i in list(range(4)):\n",
    "    24         4         4166   1041.5      0.0              fc = load_frame_container(file_list[i])\n",
    "    25         4     23563753 5890938.2     46.1              df = prep.get_dataframe(fc)\n",
    "    26         4      2648676 662169.0      5.2              df = prep.calcIds(df,CONFIDENCE)\n",
    "    27                                           \n",
    "    28         4          113     28.2      0.0              camIdx = int(file_list[i].split(\"/\")[-1].split(\"_\")[1])\n",
    "    29         4           10      2.5      0.0              dataframes[camIdx] = df\n",
    "    30                                           \n",
    "    31                                                   # cam 0 und cam1 nach rechts verschieben\n",
    "    32         1         1197   1197.0      0.0          dataframes[0].xpos = dataframes[0].xpos + xmax\n",
    "    33         1         1023   1023.0      0.0          dataframes[1].xpos = dataframes[1].xpos + xmax\n",
    "    34                                           \n",
    "    35                                                   # Seiten zusammenfugen\n",
    "    36         1         7299   7299.0      0.0          side0 = pd.concat([dataframes[3], dataframes[0]])\n",
    "    37         1         7155   7155.0      0.0          side1 = pd.concat([dataframes[2], dataframes[1]])\n",
    "    38                                           \n",
    "    39         1      5143742 5143742.0     10.1          close1 = get_close_bees_ckd(side0, DISTANCE)\n",
    "    40         1      5120215 5120215.0     10.0          close2 = get_close_bees_ckd(side1, DISTANCE)\n",
    "    41                                           \n",
    "    42         1      6173559 6173559.0     12.1          close1 = get_close_bees_kd(side0, DISTANCE)\n",
    "    43         1      6143488 6143488.0     12.0          close2 = get_close_bees_kd(side1, DISTANCE)\n",
    "    44                                           \n",
    "    45         1       123014 123014.0      0.2          close1 = get_close_bees(side0, DISTANCE)\n",
    "    46         1       125967 125967.0      0.2          close2 = get_close_bees(side1, DISTANCE)\n",
    "    47                                           \n",
    "    48         1         1341   1341.0      0.0          close = pd.concat([close1,close2])\n",
    "    49                                           \n",
    "    50         1      1808195 1808195.0      3.5          p = prep.bee_pairs_to_timeseries(close)\n",
    "    51                                           \n",
    "    52         1       142805 142805.0      0.3          edges = prep.extract_interactions(p,LENGTH)\n",
    "    53                                           \n",
    "    54         1         1706   1706.0      0.0          interactions = pd.concat([interactions, edges])\n",
    "    55                                           \n",
    "    56         1          503    503.0      0.0      G = prep.create_graph2(interactions)"
   ]
  },
  {
   "cell_type": "markdown",
   "metadata": {},
   "source": [
    "Timer unit: 1e-06 s\n",
    "\n",
    "Total time: 131.67 s\n",
    "File: <ipython-input-32-2edbd3501b0b>\n",
    "Function: f at line 1\n",
    "\n",
    "Line #      Hits         Time  Per Hit   % Time  Line Contents\n",
    "==============================================================\n",
    "     1                                           def f(c=0.95,d=160,m=\"10\",l=3):\n",
    "     2                                               \n",
    "     3         1            3      3.0      0.0      f = \"data/1h/\"\n",
    "     4         1            3      3.0      0.0      p = \"2015\" + m + \"2215\"\n",
    "     5                                           \n",
    "     6         1            2      2.0      0.0      CONFIDENCE = c\n",
    "     7         1            1      1.0      0.0      DISTANCE = d\n",
    "     8                                           \n",
    "     9         1            1      1.0      0.0      xmax = 3000\n",
    "    10         1            2      2.0      0.0      ymax = 4000\n",
    "    11         1            2      2.0      0.0      LENGTH = l\n",
    "    12                                           \n",
    "    13         1            2      2.0      0.0      path = f+p\n",
    "    14                                           \n",
    "    15         1        27978  27978.0      0.0      files = get_files(path)\n",
    "    16                                           \n",
    "    17         1          584    584.0      0.0      interactions = Series()\n",
    "    18                                           \n",
    "    19         2           15      7.5      0.0      for file_list in files[:1]:\n",
    "    20                                           \n",
    "    21         1           13     13.0      0.0          dataframes = np.empty(4, dtype=object)\n",
    "    22                                           \n",
    "    23         5           16      3.2      0.0          for i in list(range(4)):\n",
    "    24         4        17682   4420.5      0.0              fc = load_frame_container(file_list[i])\n",
    "    25         4     34144405 8536101.2     25.9              df = prep.get_dataframe(fc)\n",
    "    26         4     33137433 8284358.2     25.2              df = prep.calcIds(df,CONFIDENCE)\n",
    "    27                                           \n",
    "    28         4          202     50.5      0.0              camIdx = int(file_list[i].split(\"/\")[-1].split(\"_\")[1])\n",
    "    29         4           15      3.8      0.0              dataframes[camIdx] = df\n",
    "    30                                           \n",
    "    31                                                   # cam 0 und cam1 nach rechts verschieben\n",
    "    32         1         2113   2113.0      0.0          dataframes[0].xpos = dataframes[0].xpos + xmax\n",
    "    33         1         1199   1199.0      0.0          dataframes[1].xpos = dataframes[1].xpos + xmax\n",
    "    34                                           \n",
    "    35                                                   # Seiten zusammenfugen\n",
    "    36         1        17273  17273.0      0.0          side0 = pd.concat([dataframes[3], dataframes[0]])\n",
    "    37         1        11689  11689.0      0.0          side1 = pd.concat([dataframes[2], dataframes[1]])\n",
    "    38                                           \n",
    "    39         1     15639772 15639772.0     11.9          close1 = get_close_bees_ckd(side0, DISTANCE)\n",
    "    40         1      8425304 8425304.0      6.4          close2 = get_close_bees_ckd(side1, DISTANCE)\n",
    "    41                                           \n",
    "    42         1         3158   3158.0      0.0          close = pd.concat([close1,close2])\n",
    "    43                                           \n",
    "    44         1     11007595 11007595.0      8.4          p = prep.bee_pairs_to_timeseries(close)\n",
    "    45                                           \n",
    "    46         1     29174109 29174109.0     22.2          edges = prep.extract_interactions(p,LENGTH)\n",
    "    47                                           \n",
    "    48         1         2219   2219.0      0.0          interactions = pd.concat([interactions, edges])\n",
    "    49                                           \n",
    "    50         1        56727  56727.0      0.0      G = prep.create_graph2(interactions)"
   ]
  },
  {
   "cell_type": "markdown",
   "metadata": {},
   "source": [
    "# Optimizing calc IDs!"
   ]
  },
  {
   "cell_type": "code",
   "execution_count": 52,
   "metadata": {
    "collapsed": true
   },
   "outputs": [],
   "source": [
    "def f2(c=0.95,d=160,m=\"10\",l=3):\n",
    "    \n",
    "    f = \"data/1h/\"\n",
    "    p = \"2015\" + m + \"2215\"\n",
    "\n",
    "    CONFIDENCE = c\n",
    "    DISTANCE = d\n",
    "\n",
    "    xmax = 3000\n",
    "    ymax = 4000\n",
    "    LENGTH = l\n",
    "\n",
    "    path = f+p\n",
    "\n",
    "    files = get_files(path)\n",
    "\n",
    "    for file_list in files[:1]:\n",
    "\n",
    "        for i in list(range(4)):\n",
    "            fc = load_frame_container(file_list[i])\n",
    "            df = prep.get_dataframe(fc)\n",
    "            df = calcIds(df,CONFIDENCE)"
   ]
  },
  {
   "cell_type": "code",
   "execution_count": 104,
   "metadata": {
    "collapsed": false
   },
   "outputs": [],
   "source": [
    "# helper function\n",
    "# Zum ausrechnen der IDs\n",
    "def get_detected_id(bits):\n",
    "    binary_id = (bits>0.5)*1\n",
    "    decimal_id = int(''.join([str(c) for c in binary_id.tolist()[:11]]), 2)\n",
    "\n",
    "    # determine what kind of parity bit was used and add 2^11 to decimal id\n",
    "    # uneven parity bit was used\n",
    "    if ((sum(binary_id) % 2) == 1):\n",
    "        decimal_id += 2048\n",
    "\n",
    "    return decimal_id"
   ]
  },
  {
   "cell_type": "code",
   "execution_count": 103,
   "metadata": {
    "collapsed": true
   },
   "outputs": [],
   "source": [
    "def get_confidence(bits):\n",
    "    return np.min(np.abs(0.5 - bits)) * 2"
   ]
  },
  {
   "cell_type": "code",
   "execution_count": 119,
   "metadata": {
    "collapsed": true
   },
   "outputs": [],
   "source": [
    "# Dezimale ID ausrechnen und an DataFrame angaengen\n",
    "def calcIds(df, threshold):\n",
    "    df.decodedId = df.decodedId.apply(lambda x: np.array(x)/255)\n",
    "    df = df.assign(confidence = df.decodedId.apply(get_confidence))\n",
    "    df = df[df.confidence >= threshold]\n",
    "    df = df.assign(id = df.decodedId.apply(get_detected_id))\n",
    "\n",
    "    df = df.drop('decodedId', 1)\n",
    "\n",
    "    return df"
   ]
  },
  {
   "cell_type": "code",
   "execution_count": 108,
   "metadata": {
    "collapsed": false
   },
   "outputs": [
    {
     "name": "stdout",
     "output_type": "stream",
     "text": [
      "*** KeyboardInterrupt exception caught in code being profiled."
     ]
    }
   ],
   "source": [
    "%lprun -f f2 -f calcIds -f get_confidence -f get_detected_id f2(m=\"08\")"
   ]
  },
  {
   "cell_type": "markdown",
   "metadata": {},
   "source": [
    "Timer unit: 1e-06 s\n",
    "\n",
    "Total time: 74.6098 s\n",
    "File: <ipython-input-52-081516ed82b8>\n",
    "Function: f2 at line 1\n",
    "\n",
    "Line #      Hits         Time  Per Hit   % Time  Line Contents\n",
    "==============================================================\n",
    "     1                                           def f2(c=0.95,d=160,m=\"10\",l=3):\n",
    "     2                                               \n",
    "     3         1            2      2.0      0.0      f = \"data/1h/\"\n",
    "     4         1            2      2.0      0.0      p = \"2015\" + m + \"2215\"\n",
    "     5                                           \n",
    "     6         1            1      1.0      0.0      CONFIDENCE = c\n",
    "     7         1            0      0.0      0.0      DISTANCE = d\n",
    "     8                                           \n",
    "     9         1            0      0.0      0.0      xmax = 3000\n",
    "    10         1            1      1.0      0.0      ymax = 4000\n",
    "    11         1            1      1.0      0.0      LENGTH = l\n",
    "    12                                           \n",
    "    13         1            1      1.0      0.0      path = f+p\n",
    "    14                                           \n",
    "    15         1        28104  28104.0      0.0      files = get_files(path)\n",
    "    16                                           \n",
    "    17         2           27     13.5      0.0      for file_list in files[:1]:\n",
    "    18                                           \n",
    "    19         5           29      5.8      0.0          for i in list(range(4)):\n",
    "    20         4        16397   4099.2      0.0              fc = load_frame_container(file_list[i])\n",
    "    21         4     34193878 8548469.5     45.8              df = prep.get_dataframe(fc)\n",
    "    22         4     40371374 10092843.5     54.1              df = calcIds(df,CONFIDENCE)\n",
    "\n",
    "Total time: 16.6785 s\n",
    "File: <ipython-input-53-72087af56ba1>\n",
    "Function: get_detected_id at line 3\n",
    "\n",
    "Line #      Hits         Time  Per Hit   % Time  Line Contents\n",
    "==============================================================\n",
    "     3                                           def get_detected_id(bits):\n",
    "     4                                           \n",
    "     5                                               # Umrechnen in binary array [0,1,1,1,0,1,1,1,0,0,0,1]\n",
    "     6    319929      2024772      6.3     12.1      bits = np.array(bits)\n",
    "     7    319929      1896065      5.9     11.4      bits = bits/255\n",
    "     8    319929      7356271     23.0     44.1      binary_id = [int(x > 0.5) for x in bits]\n",
    "     9                                           \n",
    "    10    319929      3841928     12.0     23.0      decimal_id = int(''.join([str(c) for c in binary_id[:11]]), 2)\n",
    "    11                                           \n",
    "    12                                               # determine what kind of parity bit was used and add 2^11 to decimal id\n",
    "    13                                               # uneven parity bit was used\n",
    "    14    319929       824578      2.6      4.9      if ((sum(binary_id) % 2) == 1):\n",
    "    15    264078       367062      1.4      2.2          decimal_id += 2048\n",
    "    16                                           \n",
    "    17    319929       367813      1.1      2.2      return decimal_id\n",
    "\n",
    "Total time: 17.2008 s\n",
    "File: <ipython-input-54-2261ddafb2f4>\n",
    "Function: get_confidence at line 1\n",
    "\n",
    "Line #      Hits         Time  Per Hit   % Time  Line Contents\n",
    "==============================================================\n",
    "     1                                           def get_confidence(bits):\n",
    "     2    504847      3442396      6.8     20.0      bits = np.array(bits)\n",
    "     3    504847      2841899      5.6     16.5      bits = bits/255\n",
    "     4                                           \n",
    "     5    504847     10916481     21.6     63.5      return np.min(np.abs(0.5 - bits)) * 2\n",
    "\n",
    "Total time: 40.2917 s\n",
    "File: <ipython-input-55-cf48b804dfce>\n",
    "Function: calcIds at line 2\n",
    "\n",
    "Line #      Hits         Time  Per Hit   % Time  Line Contents\n",
    "==============================================================\n",
    "     2                                           def calcIds(df, threshold):\n",
    "     3         4     19315084 4828771.0     47.9      df = df.assign(confidence = df.decodedId.apply(get_confidence))\n",
    "     4         4        50012  12503.0      0.1      df = df[df.confidence >= threshold]\n",
    "     5         4     20891742 5222935.5     51.9      df = df.assign(id = df.decodedId.apply(get_detected_id))\n",
    "     6                                           \n",
    "     7         4        34879   8719.8      0.1      df = df.drop('decodedId', 1)\n",
    "     8                                           \n",
    "     9         4           17      4.2      0.0      return df"
   ]
  },
  {
   "cell_type": "code",
   "execution_count": null,
   "metadata": {
    "collapsed": true
   },
   "outputs": [],
   "source": [
    "bits = np.random.rand(1000000)"
   ]
  },
  {
   "cell_type": "code",
   "execution_count": 66,
   "metadata": {
    "collapsed": false
   },
   "outputs": [
    {
     "name": "stdout",
     "output_type": "stream",
     "text": [
      "1 loop, best of 3: 856 ms per loop\n"
     ]
    }
   ],
   "source": [
    "%timeit binary_id = [int(x > 0.5) for x in bits]"
   ]
  },
  {
   "cell_type": "code",
   "execution_count": 72,
   "metadata": {
    "collapsed": false
   },
   "outputs": [
    {
     "name": "stdout",
     "output_type": "stream",
     "text": [
      "100 loops, best of 3: 4.06 ms per loop\n"
     ]
    }
   ],
   "source": [
    "%timeit (bits>0.5)*1"
   ]
  },
  {
   "cell_type": "code",
   "execution_count": 76,
   "metadata": {
    "collapsed": true
   },
   "outputs": [],
   "source": [
    "%lprun -f f2 -f calcIds -f get_confidence -f get_detected_id f2(m=\"08\")"
   ]
  },
  {
   "cell_type": "code",
   "execution_count": 82,
   "metadata": {
    "collapsed": false
   },
   "outputs": [
    {
     "name": "stdout",
     "output_type": "stream",
     "text": [
      "1 loop, best of 3: 878 ms per loop\n"
     ]
    }
   ],
   "source": [
    "%timeit binary_id = [int(x > 0.5) for x in bits]"
   ]
  },
  {
   "cell_type": "code",
   "execution_count": 83,
   "metadata": {
    "collapsed": false
   },
   "outputs": [
    {
     "name": "stdout",
     "output_type": "stream",
     "text": [
      "100 loops, best of 3: 3.97 ms per loop\n"
     ]
    }
   ],
   "source": [
    "%timeit binary_id2 = (bits>0.5)*1"
   ]
  },
  {
   "cell_type": "code",
   "execution_count": 95,
   "metadata": {
    "collapsed": false
   },
   "outputs": [
    {
     "name": "stdout",
     "output_type": "stream",
     "text": [
      "1 loop, best of 3: 349 ms per loop\n"
     ]
    }
   ],
   "source": [
    "%timeit decimal_id = int(''.join([str(c) for c in binary_id]), 2)"
   ]
  },
  {
   "cell_type": "code",
   "execution_count": 94,
   "metadata": {
    "collapsed": false
   },
   "outputs": [
    {
     "name": "stdout",
     "output_type": "stream",
     "text": [
      "1 loop, best of 3: 360 ms per loop\n"
     ]
    }
   ],
   "source": [
    "%timeit decimal_id = int(''.join([str(c) for c in binary_id2.tolist()]), 2)"
   ]
  },
  {
   "cell_type": "code",
   "execution_count": 98,
   "metadata": {
    "collapsed": true
   },
   "outputs": [],
   "source": [
    "%lprun -f f2 -f calcIds -f get_confidence -f get_detected_id f2(m=\"08\")"
   ]
  },
  {
   "cell_type": "code",
   "execution_count": 101,
   "metadata": {
    "collapsed": false
   },
   "outputs": [
    {
     "data": {
      "text/plain": [
       "499803"
      ]
     },
     "execution_count": 101,
     "metadata": {},
     "output_type": "execute_result"
    }
   ],
   "source": [
    "sum(binary_id)"
   ]
  },
  {
   "cell_type": "markdown",
   "metadata": {},
   "source": [
    "Timer unit: 1e-06 s\n",
    "\n",
    "Total time: 72.5807 s\n",
    "File: <ipython-input-52-081516ed82b8>\n",
    "Function: f2 at line 1\n",
    "\n",
    "Line #      Hits         Time  Per Hit   % Time  Line Contents\n",
    "==============================================================\n",
    "     1                                           def f2(c=0.95,d=160,m=\"10\",l=3):\n",
    "     2                                               \n",
    "     3         1            3      3.0      0.0      f = \"data/1h/\"\n",
    "     4         1            3      3.0      0.0      p = \"2015\" + m + \"2215\"\n",
    "     5                                           \n",
    "     6         1            1      1.0      0.0      CONFIDENCE = c\n",
    "     7         1            1      1.0      0.0      DISTANCE = d\n",
    "     8                                           \n",
    "     9         1            1      1.0      0.0      xmax = 3000\n",
    "    10         1            1      1.0      0.0      ymax = 4000\n",
    "    11         1            1      1.0      0.0      LENGTH = l\n",
    "    12                                           \n",
    "    13         1            2      2.0      0.0      path = f+p\n",
    "    14                                           \n",
    "    15         1        24711  24711.0      0.0      files = get_files(path)\n",
    "    16                                           \n",
    "    17         2           27     13.5      0.0      for file_list in files[:1]:\n",
    "    18                                           \n",
    "    19         5           29      5.8      0.0          for i in list(range(4)):\n",
    "    20         4        19239   4809.8      0.0              fc = load_frame_container(file_list[i])\n",
    "    21         4     34149115 8537278.8     47.0              df = prep.get_dataframe(fc)\n",
    "    22         4     38387586 9596896.5     52.9              df = calcIds(df,CONFIDENCE)\n",
    "\n",
    "Total time: 17.4818 s\n",
    "File: <ipython-input-54-2261ddafb2f4>\n",
    "Function: get_confidence at line 1\n",
    "\n",
    "Line #      Hits         Time  Per Hit   % Time  Line Contents\n",
    "==============================================================\n",
    "     1                                           def get_confidence(bits):\n",
    "     2    504847      3523779      7.0     20.2      bits = np.array(bits)\n",
    "     3    504847      2874457      5.7     16.4      bits = bits/255\n",
    "     4                                           \n",
    "     5    504847     11083518     22.0     63.4      return np.min(np.abs(0.5 - bits)) * 2\n",
    "\n",
    "Total time: 38.308 s\n",
    "File: <ipython-input-55-cf48b804dfce>\n",
    "Function: calcIds at line 2\n",
    "\n",
    "Line #      Hits         Time  Per Hit   % Time  Line Contents\n",
    "==============================================================\n",
    "     2                                           def calcIds(df, threshold):\n",
    "     3         4     19629457 4907364.2     51.2      df = df.assign(confidence = df.decodedId.apply(get_confidence))\n",
    "     4         4        52273  13068.2      0.1      df = df[df.confidence >= threshold]\n",
    "     5         4     18588510 4647127.5     48.5      df = df.assign(id = df.decodedId.apply(get_detected_id))\n",
    "     6                                           \n",
    "     7         4        37755   9438.8      0.1      df = df.drop('decodedId', 1)\n",
    "     8                                           \n",
    "     9         4           17      4.2      0.0      return df\n",
    "\n",
    "Total time: 15.0665 s\n",
    "File: <ipython-input-97-61d3f5fa6144>\n",
    "Function: get_detected_id at line 3\n",
    "\n",
    "Line #      Hits         Time  Per Hit   % Time  Line Contents\n",
    "==============================================================\n",
    "     3                                           def get_detected_id(bits):\n",
    "     4                                           \n",
    "     5                                               # Umrechnen in binary array [0,1,1,1,0,1,1,1,0,0,0,1]\n",
    "     6    319929      2050586      6.4     13.6      bits = np.array(bits)\n",
    "     7    319929      1933509      6.0     12.8      bits = bits/255\n",
    "     8    319929      2811215      8.8     18.7      binary_id = (bits>0.5)*1\n",
    "     9                                           \n",
    "    10    319929      4760327     14.9     31.6      decimal_id = int(''.join([str(c) for c in binary_id.tolist()[:11]]), 2)\n",
    "    11                                           \n",
    "    12                                               # determine what kind of parity bit was used and add 2^11 to decimal id\n",
    "    13                                               # uneven parity bit was used\n",
    "    14    319929      2849710      8.9     18.9      if ((sum(binary_id) % 2) == 1):\n",
    "    15    264078       350912      1.3      2.3          decimal_id += 2048\n",
    "    16                                           \n",
    "    17    319929       310214      1.0      2.1      return decimal_id"
   ]
  },
  {
   "cell_type": "code",
   "execution_count": 120,
   "metadata": {
    "collapsed": false
   },
   "outputs": [],
   "source": [
    "%lprun -f f2 -f calcIds -f get_confidence -f get_detected_id f2(m=\"08\")"
   ]
  },
  {
   "cell_type": "markdown",
   "metadata": {},
   "source": [
    "Timer unit: 1e-06 s\n",
    "\n",
    "Total time: 10.4425 s\n",
    "File: <ipython-input-103-45d845ac9a0b>\n",
    "Function: get_confidence at line 1\n",
    "\n",
    "Line #      Hits         Time  Per Hit   % Time  Line Contents\n",
    "==============================================================\n",
    "     1                                           def get_confidence(bits):\n",
    "     2    504847     10442488     20.7    100.0      return np.min(np.abs(0.5 - bits)) * 2\n",
    "\n",
    "Total time: 10.8666 s\n",
    "File: <ipython-input-104-a0bbeffc4959>\n",
    "Function: get_detected_id at line 3\n",
    "\n",
    "Line #      Hits         Time  Per Hit   % Time  Line Contents\n",
    "==============================================================\n",
    "     3                                           def get_detected_id(bits):\n",
    "     4    319929      3131722      9.8     28.8      binary_id = (bits>0.5)*1\n",
    "     5    319929      4490893     14.0     41.3      decimal_id = int(''.join([str(c) for c in binary_id.tolist()[:11]]), 2)\n",
    "     6                                           \n",
    "     7                                               # determine what kind of parity bit was used and add 2^11 to decimal id\n",
    "     8                                               # uneven parity bit was used\n",
    "     9    319929      2629997      8.2     24.2      if ((sum(binary_id) % 2) == 1):\n",
    "    10    264078       324526      1.2      3.0          decimal_id += 2048\n",
    "    11                                           \n",
    "    12    319929       289433      0.9      2.7      return decimal_id\n",
    "\n",
    "Total time: 29.5378 s\n",
    "File: <ipython-input-119-d82846765835>\n",
    "Function: calcIds at line 2\n",
    "\n",
    "Line #      Hits         Time  Per Hit   % Time  Line Contents\n",
    "==============================================================\n",
    "     2                                           def calcIds(df, threshold):\n",
    "     3         4      4278492 1069623.0     14.5      df.decodedId = df.decodedId.apply(lambda x: np.array(x)/255)\n",
    "     4         4     11776394 2944098.5     39.9      df = df.assign(confidence = df.decodedId.apply(get_confidence))\n",
    "     5         4        55361  13840.2      0.2      df = df[df.confidence >= threshold]\n",
    "     6         4     13391031 3347757.8     45.3      df = df.assign(id = df.decodedId.apply(get_detected_id))\n",
    "     7                                           \n",
    "     8         4        36533   9133.2      0.1      df = df.drop('decodedId', 1)\n",
    "     9                                           \n",
    "    10         4           17      4.2      0.0      return df\n",
    "\n",
    "Total time: 64.3705 s\n",
    "File: <ipython-input-52-081516ed82b8>\n",
    "Function: f2 at line 1\n",
    "\n",
    "Line #      Hits         Time  Per Hit   % Time  Line Contents\n",
    "==============================================================\n",
    "     1                                           def f2(c=0.95,d=160,m=\"10\",l=3):\n",
    "     2                                               \n",
    "     3         1            3      3.0      0.0      f = \"data/1h/\"\n",
    "     4         1            4      4.0      0.0      p = \"2015\" + m + \"2215\"\n",
    "     5                                           \n",
    "     6         1            1      1.0      0.0      CONFIDENCE = c\n",
    "     7         1            1      1.0      0.0      DISTANCE = d\n",
    "     8                                           \n",
    "     9         1            1      1.0      0.0      xmax = 3000\n",
    "    10         1            0      0.0      0.0      ymax = 4000\n",
    "    11         1            1      1.0      0.0      LENGTH = l\n",
    "    12                                           \n",
    "    13         1            1      1.0      0.0      path = f+p\n",
    "    14                                           \n",
    "    15         1        27978  27978.0      0.0      files = get_files(path)\n",
    "    16                                           \n",
    "    17         2           26     13.0      0.0      for file_list in files[:1]:\n",
    "    18                                           \n",
    "    19         5           26      5.2      0.0          for i in list(range(4)):\n",
    "    20         4        20161   5040.2      0.0              fc = load_frame_container(file_list[i])\n",
    "    21         4     34601416 8650354.0     53.8              df = prep.get_dataframe(fc)\n",
    "    22         4     29720903 7430225.8     46.2              df = calcIds(df,CONFIDENCE)"
   ]
  },
  {
   "cell_type": "code",
   "execution_count": 127,
   "metadata": {
    "collapsed": true
   },
   "outputs": [],
   "source": [
    "def f3(c=0.95,d=160,m=\"10\",l=3):\n",
    "    \n",
    "    f = \"data/1h/\"\n",
    "    p = \"2015\" + m + \"2215\"\n",
    "\n",
    "    CONFIDENCE = c\n",
    "    DISTANCE = d\n",
    "\n",
    "    xmax = 3000\n",
    "    ymax = 4000\n",
    "    LENGTH = l\n",
    "\n",
    "    path = f+p\n",
    "\n",
    "    files = get_files(path)\n",
    "\n",
    "    interactions = Series()\n",
    "\n",
    "    for file_list in files[:1]:\n",
    "\n",
    "        dataframes = np.empty(4, dtype=object)\n",
    "\n",
    "        for i in list(range(4)):\n",
    "            fc = load_frame_container(file_list[i])\n",
    "            df = prep.get_dataframe(fc)\n",
    "            df = prep.calcIds(df,CONFIDENCE)\n",
    "\n",
    "            camIdx = int(file_list[i].split(\"/\")[-1].split(\"_\")[1])\n",
    "            dataframes[camIdx] = df\n",
    "\n",
    "        # cam 0 und cam1 nach rechts verschieben\n",
    "        dataframes[0].xpos = dataframes[0].xpos + xmax\n",
    "        dataframes[1].xpos = dataframes[1].xpos + xmax\n",
    "\n",
    "        # Seiten zusammenfugen\n",
    "        side0 = pd.concat([dataframes[3], dataframes[0]])\n",
    "        side1 = pd.concat([dataframes[2], dataframes[1]])\n",
    "\n",
    "        close1 = get_close_bees_ckd(side0, DISTANCE)\n",
    "        close2 = get_close_bees_ckd(side1, DISTANCE)\n",
    "\n",
    "        close = pd.concat([close1,close2])\n",
    "\n",
    "        p = prep.bee_pairs_to_timeseries(close)\n",
    "\n",
    "        edges = extract_interactions(p,LENGTH)\n",
    "\n",
    "        interactions = pd.concat([interactions, edges])\n",
    "\n",
    "    G = prep.create_graph2(interactions)\n",
    "    # nx.write_graphml(G, filename + \".graphml\")"
   ]
  },
  {
   "cell_type": "code",
   "execution_count": 128,
   "metadata": {
    "collapsed": true
   },
   "outputs": [],
   "source": [
    "def extract_interactions(dft, minlength):\n",
    "    kette = dft.apply(get_ketten, axis=1, args=[\"0\"])\n",
    "    kk = kette.apply(lambda x: [len(item) for item in x])\n",
    "    kk = kk.apply(lambda x: len([item for item in x if item >= minlength]))\n",
    "    return kk[kk > 0]"
   ]
  },
  {
   "cell_type": "code",
   "execution_count": 129,
   "metadata": {
    "collapsed": true
   },
   "outputs": [],
   "source": [
    "def get_ketten(kette, val):\n",
    "    kette = kette.apply(str)\n",
    "    s = kette.str.cat(sep='')\n",
    "    ss = s.split(val)\n",
    "    return [x for x in ss if len(x) > 0]"
   ]
  },
  {
   "cell_type": "code",
   "execution_count": 146,
   "metadata": {
    "collapsed": false
   },
   "outputs": [
    {
     "name": "stdout",
     "output_type": "stream",
     "text": [
      "CPU times: user 1min 31s, sys: 232 ms, total: 1min 32s\n",
      "Wall time: 1min 31s\n"
     ]
    }
   ],
   "source": [
    "%time f3(m=\"08\")"
   ]
  },
  {
   "cell_type": "code",
   "execution_count": 141,
   "metadata": {
    "collapsed": false
   },
   "outputs": [],
   "source": [
    "s = Series(np.array([1]*1000000))"
   ]
  },
  {
   "cell_type": "code",
   "execution_count": 143,
   "metadata": {
    "collapsed": false
   },
   "outputs": [
    {
     "name": "stdout",
     "output_type": "stream",
     "text": [
      "1 loop, best of 3: 333 ms per loop\n"
     ]
    }
   ],
   "source": [
    "%timeit s.apply(str)"
   ]
  },
  {
   "cell_type": "code",
   "execution_count": 145,
   "metadata": {
    "collapsed": false
   },
   "outputs": [
    {
     "name": "stdout",
     "output_type": "stream",
     "text": [
      "1 loop, best of 3: 399 ms per loop\n"
     ]
    }
   ],
   "source": [
    "%timeit ''.join([str(c) for c in s.tolist()])"
   ]
  },
  {
   "cell_type": "code",
   "execution_count": null,
   "metadata": {
    "collapsed": true
   },
   "outputs": [],
   "source": []
  }
 ],
 "metadata": {
  "anaconda-cloud": {},
  "kernelspec": {
   "display_name": "Python [conda root]",
   "language": "python",
   "name": "conda-root-py"
  },
  "language_info": {
   "codemirror_mode": {
    "name": "ipython",
    "version": 3
   },
   "file_extension": ".py",
   "mimetype": "text/x-python",
   "name": "python",
   "nbconvert_exporter": "python",
   "pygments_lexer": "ipython3",
   "version": "3.5.2"
  }
 },
 "nbformat": 4,
 "nbformat_minor": 2
}
