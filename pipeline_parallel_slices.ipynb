{
 "cells": [
  {
   "cell_type": "code",
   "execution_count": null,
   "metadata": {
    "collapsed": true
   },
   "outputs": [],
   "source": [
    "%load_ext autoreload\n",
    "%autoreload 2"
   ]
  },
  {
   "cell_type": "code",
   "execution_count": null,
   "metadata": {
    "collapsed": true
   },
   "outputs": [],
   "source": [
    "import multiprocessing\n",
    "from multiprocessing import Pool\n",
    "from bb_binary import FrameContainer, Repository, load_frame_container\n",
    "import pandas as pd\n",
    "import numpy as np\n",
    "from collections import namedtuple \n",
    "import networkx as nx\n",
    "\n",
    "from pandas import DataFrame, Series\n",
    "\n",
    "import bib.preprocessing as prep"
   ]
  },
  {
   "cell_type": "markdown",
   "metadata": {},
   "source": [
    "# Create netwok slices with windowsize for folder"
   ]
  },
  {
   "cell_type": "code",
   "execution_count": null,
   "metadata": {
    "collapsed": true
   },
   "outputs": [],
   "source": [
    "path = \"00_Data/testset_2015_20m/2015082215/\""
   ]
  },
  {
   "cell_type": "code",
   "execution_count": null,
   "metadata": {
    "collapsed": true
   },
   "outputs": [],
   "source": [
    "ilen = 3\n",
    "distance = 160\n",
    "confidence = .95"
   ]
  },
  {
   "cell_type": "code",
   "execution_count": null,
   "metadata": {
    "collapsed": true
   },
   "outputs": [],
   "source": [
    "# packt immer die 4 Kameradateien zusammen\n",
    "def get_files(path):\n",
    "    repo = Repository(path)\n",
    "    file = list(repo.iter_fnames())\n",
    "    a = [f.split('/')[-1].split(\"_\")[1] for f in file]\n",
    "    l = len(a)/4\n",
    "    npa = np.array(file).reshape(int(l),4)\n",
    "    return npa"
   ]
  },
  {
   "cell_type": "code",
   "execution_count": null,
   "metadata": {
    "collapsed": true
   },
   "outputs": [],
   "source": [
    "files = get_files(path)"
   ]
  },
  {
   "cell_type": "code",
   "execution_count": null,
   "metadata": {
    "collapsed": true
   },
   "outputs": [],
   "source": [
    "pool = multiprocessing.Pool( multiprocessing.cpu_count() )"
   ]
  },
  {
   "cell_type": "code",
   "execution_count": null,
   "metadata": {
    "collapsed": true
   },
   "outputs": [],
   "source": [
    "tasks_files = []\n",
    "\n",
    "for e, f in enumerate(files):\n",
    "    tasks_files.append((e, f, confidence, distance, ilen))"
   ]
  },
  {
   "cell_type": "code",
   "execution_count": null,
   "metadata": {
    "collapsed": true
   },
   "outputs": [],
   "source": [
    "def generate_timeseries(index, file_list, confidence=.95, distance=160, ilen=3 ):\n",
    "    \n",
    "    xmax = 3000\n",
    "    \n",
    "    # one df per cam\n",
    "    dataframes = np.empty(4, dtype=object)\n",
    "\n",
    "    for i in list(range(4)):\n",
    "        fc = load_frame_container(file_list[i])\n",
    "        df = prep.get_dataframe2(fc)\n",
    "        df = prep.calcIds(df,confidence)\n",
    "        df = prep.calcIds(df,CONFIDENCE)\n",
    "        df['frame_idx'] = df['frame_idx'] + index*1024\n",
    "\n",
    "        camIdx = int(file_list[i].split(\"/\")[-1].split(\"_\")[1])\n",
    "        dataframes[camIdx] = df\n",
    "    \n",
    "    return dataframes"
   ]
  },
  {
   "cell_type": "code",
   "execution_count": null,
   "metadata": {
    "collapsed": false
   },
   "outputs": [],
   "source": [
    "results = [pool.apply_async( generate_timeseries, t ) for t in tasks]"
   ]
  },
  {
   "cell_type": "code",
   "execution_count": null,
   "metadata": {
    "collapsed": true
   },
   "outputs": [],
   "source": [
    "dataframes = [DataFrame(), DataFrame(), DataFrame(), DataFrame()]"
   ]
  },
  {
   "cell_type": "code",
   "execution_count": null,
   "metadata": {
    "collapsed": false
   },
   "outputs": [],
   "source": [
    "for result in results:\n",
    "    df_list = result.get()\n",
    "    for e, df in enumerate(df_list):\n",
    "        dataframes[e] = pd.concat([dataframes[e], df])"
   ]
  },
  {
   "cell_type": "code",
   "execution_count": null,
   "metadata": {
    "collapsed": true
   },
   "outputs": [],
   "source": []
  }
 ],
 "metadata": {
  "kernelspec": {
   "display_name": "Python 3",
   "language": "python",
   "name": "python3"
  },
  "language_info": {
   "codemirror_mode": {
    "name": "ipython",
    "version": 3
   },
   "file_extension": ".py",
   "mimetype": "text/x-python",
   "name": "python",
   "nbconvert_exporter": "python",
   "pygments_lexer": "ipython3",
   "version": "3.5.2"
  }
 },
 "nbformat": 4,
 "nbformat_minor": 1
}
