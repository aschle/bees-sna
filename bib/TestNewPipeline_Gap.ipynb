{
 "cells": [
  {
   "cell_type": "code",
   "execution_count": 1,
   "metadata": {
    "ExecuteTime": {
     "end_time": "2017-02-22T16:48:33.076142",
     "start_time": "2017-02-22T16:48:32.260094"
    },
    "collapsed": true
   },
   "outputs": [],
   "source": [
    "import networkx as nx\n",
    "import preprocessing as prep\n",
    "import sys  \n",
    "import datetime\n",
    "import pytz\n",
    "import numpy as np\n",
    "import pandas as pd\n",
    "\n",
    "from multiprocessing import Pool\n",
    "from bb_binary import FrameContainer, Repository, load_frame_container\n",
    "from collections import namedtuple \n",
    "from pandas import DataFrame, Series\n",
    "\n",
    "import pipeline_frames_parallel as pfp"
   ]
  },
  {
   "cell_type": "code",
   "execution_count": 2,
   "metadata": {
    "ExecuteTime": {
     "end_time": "2017-02-22T16:48:33.091833",
     "start_time": "2017-02-22T16:48:33.080066"
    },
    "collapsed": true
   },
   "outputs": [],
   "source": [
    "startT = \"2016-07-21T15:00:00Z\"\n",
    "startT_dt = datetime.datetime.strptime(startT, \"%Y-%m-%dT%H:%M:%SZ\").replace(tzinfo=pytz.UTC)\n",
    "startT_ts = startT_dt.timestamp()\n",
    "endT_dt = startT_dt + datetime.timedelta(minutes=1)\n",
    "endT_ts = endT_dt.timestamp()"
   ]
  },
  {
   "cell_type": "code",
   "execution_count": 3,
   "metadata": {
    "ExecuteTime": {
     "end_time": "2017-02-22T16:48:33.222900",
     "start_time": "2017-02-22T16:48:33.095896"
    },
    "collapsed": true
   },
   "outputs": [],
   "source": [
    "enu = 0\n",
    "path = \"/mnt/data2016/\"\n",
    "b = startT_ts\n",
    "e = endT_ts\n",
    "confidence = 0.95\n",
    "distance = 212\n",
    "ilen = 3\n",
    "year = 2016\n",
    "gap = 2"
   ]
  },
  {
   "cell_type": "code",
   "execution_count": null,
   "metadata": {
    "ExecuteTime": {
     "end_time": "2017-02-22T14:57:13.646372",
     "start_time": "2017-02-22T14:57:13.561984"
    },
    "collapsed": true
   },
   "outputs": [],
   "source": [
    "def generate_network(enu, path, b, e, confidence, distance, ilen, year, gap):\n",
    "    \n",
    "    repo = Repository(path)\n",
    "    xmax = 3000\n",
    "    offset = 200\n",
    "    \n",
    "    Detection = namedtuple('Detection',\n",
    "                           ['idx', 'xpos', 'ypos', 'radius', 'zRotation', 'decodedId', 'frame_idx', 'timestamp', 'cam_id', 'fc_id'])\n",
    "    # one df per cam\n",
    "    parts = np.empty(4, dtype=object)\n",
    "\n",
    "\n",
    "    for i in list(range(4)):\n",
    "         \n",
    "        tpls = []\n",
    "        myid = 0\n",
    "\n",
    "\n",
    "        for frame, fc in repo.iter_frames(begin=b, end=e, cam=i):\n",
    "            for d in frame.detectionsUnion.detectionsDP:\n",
    "                d = Detection(d.idx, d.xpos, d.ypos, d.radius, d.zRotation, list(d.decodedId), myid, frame.timestamp, fc.camId, fc.id)\n",
    "                tpls.append(d)\n",
    "            myid += 1\n",
    "        \n",
    "        df = DataFrame(tpls)\n",
    "        print(\"#{} DF-{}: {}, {}, {}\".format(enu, i, df.shape, datetime.datetime.fromtimestamp(b, tz=pytz.UTC),datetime.datetime.fromtimestamp(e, tz=pytz.UTC)))\n",
    "        df = prep.calcIds(df, confidence, year)\n",
    "        parts[i] = df\n",
    "    \n",
    "    if year == 2015:\n",
    "        # cam 0 und cam1 nach rechts verschieben\n",
    "        parts[0].xpos = parts[0].xpos + xmax + offset\n",
    "        parts[1].xpos = parts[1].xpos + xmax + offset\n",
    "\n",
    "        # Seiten zusammenfugen\n",
    "        side0 = pd.concat([parts[3], parts[0]])\n",
    "        side1 = pd.concat([parts[2], parts[1]])\n",
    "\n",
    "    if year == 2016:\n",
    "        # cam 1 und cam 3 nach rechts verschieben\n",
    "        parts[1].xpos = parts[1].xpos + xmax + offset\n",
    "        parts[3].xpos = parts[3].xpos + xmax + offset\n",
    "\n",
    "        # Seiten zusammenfugen\n",
    "        side0 = pd.concat([parts[0], parts[1]])\n",
    "        side1 = pd.concat([parts[2], parts[3]])\n",
    "\n",
    "\n",
    "    close1 = prep.get_close_bees_ckd(side0, distance)\n",
    "    close2 = prep.get_close_bees_ckd(side1, distance)\n",
    "\n",
    "    close = pd.concat([close1,close2])\n",
    "\n",
    "    p = prep.bee_pairs_to_timeseries(close)\n",
    "\n",
    "    # Coorect pair time series\n",
    "    p_corrected = p.apply(prep.fill_gaps, axis=1, args=[gap])\n",
    "\n",
    "    return prep.extract_interactions(p_corrected,ilen)"
   ]
  },
  {
   "cell_type": "code",
   "execution_count": null,
   "metadata": {
    "ExecuteTime": {
     "end_time": "2017-02-22T15:21:19.591986",
     "start_time": "2017-02-22T15:20:34.928527"
    },
    "collapsed": false
   },
   "outputs": [],
   "source": [
    "edges = []\n",
    "for i in [1,2,3]:\n",
    "    edges.append(generate_network(enu,path,b,e,confidence,distance,ilen,year,gap))\n",
    "    b = e\n",
    "    e = e + 60"
   ]
  },
  {
   "cell_type": "code",
   "execution_count": null,
   "metadata": {
    "ExecuteTime": {
     "end_time": "2017-02-22T15:21:40.335165",
     "start_time": "2017-02-22T15:21:40.326881"
    },
    "collapsed": true
   },
   "outputs": [],
   "source": [
    "E = pd.concat(edges)"
   ]
  },
  {
   "cell_type": "code",
   "execution_count": null,
   "metadata": {
    "ExecuteTime": {
     "end_time": "2017-02-22T15:21:53.459116",
     "start_time": "2017-02-22T15:21:53.453536"
    },
    "collapsed": true
   },
   "outputs": [],
   "source": [
    "G = nx.Graph()"
   ]
  },
  {
   "cell_type": "code",
   "execution_count": null,
   "metadata": {
    "ExecuteTime": {
     "end_time": "2017-02-22T15:55:58.411459",
     "start_time": "2017-02-22T15:55:58.387363"
    },
    "collapsed": false
   },
   "outputs": [],
   "source": [
    "edges = DataFrame(E.tolist(), columns=['frequency', 'totalduration', 'durations'], index=E.index).reset_index().rename(columns={'index':'pair'})"
   ]
  },
  {
   "cell_type": "code",
   "execution_count": null,
   "metadata": {
    "ExecuteTime": {
     "end_time": "2017-02-22T15:55:59.420455",
     "start_time": "2017-02-22T15:55:59.397447"
    },
    "collapsed": false
   },
   "outputs": [],
   "source": [
    "edges.head()"
   ]
  },
  {
   "cell_type": "code",
   "execution_count": null,
   "metadata": {
    "ExecuteTime": {
     "end_time": "2017-02-22T15:56:05.876321",
     "start_time": "2017-02-22T15:56:05.869160"
    },
    "collapsed": false
   },
   "outputs": [],
   "source": [
    "pairs = edges.groupby(by=\"pair\")"
   ]
  },
  {
   "cell_type": "code",
   "execution_count": null,
   "metadata": {
    "ExecuteTime": {
     "end_time": "2017-02-22T16:44:57.424424",
     "start_time": "2017-02-22T16:44:57.418044"
    },
    "collapsed": false
   },
   "outputs": [],
   "source": [
    "def myfunction(zeugs):\n",
    "    retval = str(sum(zeugs.values, []))\n",
    "    return retval"
   ]
  },
  {
   "cell_type": "code",
   "execution_count": null,
   "metadata": {
    "ExecuteTime": {
     "end_time": "2017-02-22T16:46:40.529281",
     "start_time": "2017-02-22T16:46:40.523925"
    },
    "collapsed": false
   },
   "outputs": [],
   "source": [
    "ss = Series([[1,2],[3,4],[2,3]])"
   ]
  },
  {
   "cell_type": "code",
   "execution_count": null,
   "metadata": {
    "ExecuteTime": {
     "end_time": "2017-02-22T16:46:48.915178",
     "start_time": "2017-02-22T16:46:48.906287"
    },
    "collapsed": false
   },
   "outputs": [],
   "source": [
    "myfunction(ss)"
   ]
  },
  {
   "cell_type": "code",
   "execution_count": null,
   "metadata": {
    "ExecuteTime": {
     "end_time": "2017-02-22T15:56:11.052263",
     "start_time": "2017-02-22T15:56:10.323192"
    },
    "collapsed": false
   },
   "outputs": [],
   "source": [
    "summ = pairs.aggregate({'frequency': sum, 'totalduration': sum, 'durations': myfunction}).reset_index()"
   ]
  },
  {
   "cell_type": "code",
   "execution_count": null,
   "metadata": {
    "ExecuteTime": {
     "end_time": "2017-02-22T15:56:50.065704",
     "start_time": "2017-02-22T15:56:47.512384"
    },
    "collapsed": false,
    "scrolled": false
   },
   "outputs": [],
   "source": [
    "for index, x in summ.iterrows():\n",
    "    G.add_edge(x.pair[0], x.pair[1], frequency=x.frequency, totalduration=x.totalduration, durations=x.durations)\n",
    "\n"
   ]
  },
  {
   "cell_type": "code",
   "execution_count": null,
   "metadata": {
    "ExecuteTime": {
     "end_time": "2017-02-22T15:57:07.303749",
     "start_time": "2017-02-22T15:57:07.287970"
    },
    "collapsed": false
   },
   "outputs": [],
   "source": [
    "print(nx.info(G))"
   ]
  },
  {
   "cell_type": "code",
   "execution_count": 4,
   "metadata": {
    "ExecuteTime": {
     "end_time": "2017-02-22T16:48:55.029645",
     "start_time": "2017-02-22T16:48:40.322347"
    },
    "collapsed": false
   },
   "outputs": [
    {
     "name": "stdout",
     "output_type": "stream",
     "text": [
      "#0 DF-0: (22026, 10), 2016-07-21 15:00:00+00:00, 2016-07-21 15:01:00+00:00\n",
      "#0 DF-1: (25064, 10), 2016-07-21 15:00:00+00:00, 2016-07-21 15:01:00+00:00\n",
      "#0 DF-2: (18500, 10), 2016-07-21 15:00:00+00:00, 2016-07-21 15:01:00+00:00\n",
      "#0 DF-3: (23292, 10), 2016-07-21 15:00:00+00:00, 2016-07-21 15:01:00+00:00\n"
     ]
    }
   ],
   "source": [
    "edges = pfp.generate_network(enu,path,b,e,confidence,distance,ilen,year,gap)"
   ]
  },
  {
   "cell_type": "code",
   "execution_count": 5,
   "metadata": {
    "ExecuteTime": {
     "end_time": "2017-02-22T16:48:56.309369",
     "start_time": "2017-02-22T16:48:55.033257"
    },
    "collapsed": true
   },
   "outputs": [],
   "source": [
    "G = prep.create_graph2(edges)"
   ]
  },
  {
   "cell_type": "code",
   "execution_count": 6,
   "metadata": {
    "ExecuteTime": {
     "end_time": "2017-02-22T16:48:56.319759",
     "start_time": "2017-02-22T16:48:56.313229"
    },
    "collapsed": false
   },
   "outputs": [
    {
     "name": "stdout",
     "output_type": "stream",
     "text": [
      "Name: \n",
      "Type: Graph\n",
      "Number of nodes: 598\n",
      "Number of edges: 2285\n",
      "Average degree:   7.6421\n"
     ]
    }
   ],
   "source": [
    "print(nx.info(G))"
   ]
  },
  {
   "cell_type": "code",
   "execution_count": 8,
   "metadata": {
    "ExecuteTime": {
     "end_time": "2017-02-22T16:49:18.631336",
     "start_time": "2017-02-22T16:49:18.623267"
    },
    "collapsed": false
   },
   "outputs": [
    {
     "data": {
      "text/plain": [
       "{'durations': '(25,)', 'frequency': 1, 'totalduration': 25}"
      ]
     },
     "execution_count": 8,
     "metadata": {},
     "output_type": "execute_result"
    }
   ],
   "source": [
    "G.get_edge_data(20,1068)"
   ]
  },
  {
   "cell_type": "code",
   "execution_count": null,
   "metadata": {
    "ExecuteTime": {
     "end_time": "2017-02-22T16:37:22.702689",
     "start_time": "2017-02-22T16:37:22.692932"
    },
    "collapsed": false
   },
   "outputs": [],
   "source": [
    "(str([1,2,3]))"
   ]
  },
  {
   "cell_type": "code",
   "execution_count": 9,
   "metadata": {
    "ExecuteTime": {
     "end_time": "2017-02-22T16:49:22.206343",
     "start_time": "2017-02-22T16:49:21.993632"
    },
    "collapsed": false
   },
   "outputs": [],
   "source": [
    "nx.write_graphml(G, \"ttt\" + \".graphml\")\n"
   ]
  },
  {
   "cell_type": "code",
   "execution_count": null,
   "metadata": {
    "collapsed": true
   },
   "outputs": [],
   "source": []
  }
 ],
 "metadata": {
  "kernelspec": {
   "display_name": "Python 3",
   "language": "python",
   "name": "python3"
  },
  "language_info": {
   "codemirror_mode": {
    "name": "ipython",
    "version": 3
   },
   "file_extension": ".py",
   "mimetype": "text/x-python",
   "name": "python",
   "nbconvert_exporter": "python",
   "pygments_lexer": "ipython3",
   "version": "3.5.2"
  },
  "toc": {
   "colors": {
    "hover_highlight": "#DAA520",
    "running_highlight": "#FF0000",
    "selected_highlight": "#FFD700"
   },
   "moveMenuLeft": true,
   "nav_menu": {
    "height": "12px",
    "width": "252px"
   },
   "navigate_menu": true,
   "number_sections": true,
   "sideBar": true,
   "threshold": 4,
   "toc_cell": false,
   "toc_section_display": "block",
   "toc_window_display": false
  }
 },
 "nbformat": 4,
 "nbformat_minor": 2
}
