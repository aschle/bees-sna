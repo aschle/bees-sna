{
 "cells": [
  {
   "cell_type": "code",
   "execution_count": 41,
   "metadata": {
    "ExecuteTime": {
     "end_time": "2017-03-21T18:32:48.884028",
     "start_time": "2017-03-21T18:32:48.857412"
    },
    "collapsed": true
   },
   "outputs": [],
   "source": [
    "import networkx as nx\n",
    "import preprocessing as prep\n",
    "import numpy as np\n",
    "import pandas as pd\n",
    "import numpy as np\n",
    "import json\n",
    "import os\n",
    "import datetime\n",
    "import pytz\n",
    "import matplotlib.pyplot as plt\n",
    "from collections import Counter\n",
    "from bb_binary import load_frame_container, Repository\n",
    "from pandas import Series, DataFrame\n",
    "import seaborn as sns\n",
    "import igraph as ig\n",
    "import sqlite3\n",
    "import hatching as ht\n",
    "from scipy import stats\n",
    "\n",
    "%matplotlib inline"
   ]
  },
  {
   "cell_type": "code",
   "execution_count": 42,
   "metadata": {
    "ExecuteTime": {
     "end_time": "2017-03-21T18:32:50.064085",
     "start_time": "2017-03-21T18:32:50.057545"
    },
    "collapsed": true
   },
   "outputs": [],
   "source": [
    "graph_files = os.listdir(\"networks/\")\n",
    "graph_files = [g for g in graph_files if g.endswith('.graphml')]"
   ]
  },
  {
   "cell_type": "code",
   "execution_count": 47,
   "metadata": {
    "ExecuteTime": {
     "end_time": "2017-03-21T18:36:38.270329",
     "start_time": "2017-03-21T18:36:38.262167"
    },
    "collapsed": false
   },
   "outputs": [],
   "source": [
    "graph_files.sort()"
   ]
  },
  {
   "cell_type": "code",
   "execution_count": 48,
   "metadata": {
    "ExecuteTime": {
     "end_time": "2017-03-21T18:36:42.075252",
     "start_time": "2017-03-21T18:36:42.067666"
    },
    "collapsed": false
   },
   "outputs": [
    {
     "data": {
      "text/plain": [
       "['0813_10h_95conf_212dist_3ilen_2gap_600minutes_2016-08-13_08:00:00+00:00.graphml',\n",
       " '0814_10h_95conf_212dist_3ilen_2gap_600minutes_2016-08-14_08:00:00+00:00.graphml',\n",
       " '0816_10h_95conf_212dist_3ilen_2gap_600minutes_2016-08-16_08:00:00+00:00.graphml',\n",
       " '0817_10h_95conf_212dist_3ilen_2gap_600minutes_2016-08-17_08:00:00+00:00.graphml',\n",
       " '0820_10h_95conf_212dist_3ilen_2gap_600minutes_2016-08-20_08:00:00+00:00.graphml',\n",
       " '0822_10h_95conf_212dist_3ilen_2gap_600minutes_2016-08-22_08:00:00+00:00.graphml',\n",
       " '0824_10h_95conf_212dist_3ilen_2gap_600minutes_2016-08-24_08:00:00+00:00.graphml',\n",
       " '0825_10h_95conf_212dist_3ilen_2gap_600minutes_2016-08-25_08:00:00+00:00.graphml',\n",
       " '0902_10h_95conf_212dist_3ilen_2gap_600minutes_2016-09-02_08:00:00+00:00.graphml']"
      ]
     },
     "execution_count": 48,
     "metadata": {},
     "output_type": "execute_result"
    }
   ],
   "source": [
    "graph_files"
   ]
  },
  {
   "cell_type": "code",
   "execution_count": 44,
   "metadata": {
    "ExecuteTime": {
     "end_time": "2017-03-21T18:33:20.177554",
     "start_time": "2017-03-21T18:32:52.881402"
    },
    "collapsed": true
   },
   "outputs": [],
   "source": [
    "g = nx.read_graphml(\"networks/\"+graph_files[0])"
   ]
  },
  {
   "cell_type": "code",
   "execution_count": 46,
   "metadata": {
    "ExecuteTime": {
     "end_time": "2017-03-21T18:36:22.882586",
     "start_time": "2017-03-21T18:36:22.861804"
    },
    "collapsed": true
   },
   "outputs": [],
   "source": [
    "def addInverseWeight(filename):\n",
    "    g = nx.read_graphml(\"networks/\" + filename)\n",
    "    \n",
    "    maxE = 0\n",
    "    for e in g.edges():\n",
    "        f = g.get_edge_data(e[0], e[1]).get('frequency')\n",
    "        if f > maxE:\n",
    "            maxE = f\n",
    "\n",
    "    for e in g.edges():\n",
    "        f = g.get_edge_data(e[0], e[1]).get('frequency')\n",
    "        g[e[0]][e[1]]['finv2']= maxE - f\n",
    "        \n",
    "    nx.write_graphml(g, \"networks/\" + filename)"
   ]
  },
  {
   "cell_type": "code",
   "execution_count": 49,
   "metadata": {
    "ExecuteTime": {
     "end_time": "2017-03-21T18:38:34.584866",
     "start_time": "2017-03-21T18:36:54.712970"
    },
    "collapsed": false
   },
   "outputs": [],
   "source": [
    "addInverseWeight(graph_files[4])"
   ]
  },
  {
   "cell_type": "code",
   "execution_count": 50,
   "metadata": {
    "ExecuteTime": {
     "end_time": "2017-03-21T18:40:04.755093",
     "start_time": "2017-03-21T18:38:34.587354"
    },
    "collapsed": true
   },
   "outputs": [],
   "source": [
    "addInverseWeight(graph_files[5])"
   ]
  },
  {
   "cell_type": "code",
   "execution_count": 51,
   "metadata": {
    "ExecuteTime": {
     "end_time": "2017-03-21T18:41:35.299797",
     "start_time": "2017-03-21T18:40:04.759860"
    },
    "collapsed": true
   },
   "outputs": [],
   "source": [
    "addInverseWeight(graph_files[6])"
   ]
  },
  {
   "cell_type": "code",
   "execution_count": 19,
   "metadata": {
    "ExecuteTime": {
     "end_time": "2017-03-13T17:19:05.141421",
     "start_time": "2017-03-13T17:12:05.594762"
    },
    "collapsed": true
   },
   "outputs": [],
   "source": [
    "for f in graph_files:\n",
    "    addInverseWeight(f)"
   ]
  },
  {
   "cell_type": "code",
   "execution_count": 28,
   "metadata": {
    "ExecuteTime": {
     "end_time": "2017-03-13T19:07:31.152936",
     "start_time": "2017-03-13T19:07:31.148861"
    },
    "collapsed": true
   },
   "outputs": [],
   "source": [
    "g = ig.Graph()"
   ]
  },
  {
   "cell_type": "code",
   "execution_count": 35,
   "metadata": {
    "ExecuteTime": {
     "end_time": "2017-03-13T19:07:57.044742",
     "start_time": "2017-03-13T19:07:57.040614"
    },
    "collapsed": false
   },
   "outputs": [],
   "source": [
    "g.add_vertex(7)"
   ]
  },
  {
   "cell_type": "code",
   "execution_count": 36,
   "metadata": {
    "ExecuteTime": {
     "end_time": "2017-03-13T19:07:57.451299",
     "start_time": "2017-03-13T19:07:57.444910"
    },
    "collapsed": false
   },
   "outputs": [
    {
     "data": {
      "text/plain": [
       "'IGRAPH UN-- 7 0 -- \\n+ attr: name (v)'"
      ]
     },
     "execution_count": 36,
     "metadata": {},
     "output_type": "execute_result"
    }
   ],
   "source": [
    "g.summary()"
   ]
  },
  {
   "cell_type": "code",
   "execution_count": 40,
   "metadata": {
    "ExecuteTime": {
     "end_time": "2017-03-13T19:08:47.836268",
     "start_time": "2017-03-13T19:08:47.832135"
    },
    "collapsed": false
   },
   "outputs": [],
   "source": [
    "g.add_edge(2,3)"
   ]
  },
  {
   "cell_type": "code",
   "execution_count": null,
   "metadata": {
    "collapsed": true
   },
   "outputs": [],
   "source": []
  }
 ],
 "metadata": {
  "anaconda-cloud": {},
  "kernelspec": {
   "display_name": "Python [default]",
   "language": "python",
   "name": "python3"
  },
  "language_info": {
   "codemirror_mode": {
    "name": "ipython",
    "version": 3
   },
   "file_extension": ".py",
   "mimetype": "text/x-python",
   "name": "python",
   "nbconvert_exporter": "python",
   "pygments_lexer": "ipython3",
   "version": "3.5.2"
  },
  "toc": {
   "colors": {
    "hover_highlight": "#DAA520",
    "running_highlight": "#FF0000",
    "selected_highlight": "#FFD700"
   },
   "moveMenuLeft": true,
   "nav_menu": {
    "height": "12px",
    "width": "252px"
   },
   "navigate_menu": true,
   "number_sections": true,
   "sideBar": true,
   "threshold": 4,
   "toc_cell": false,
   "toc_section_display": "block",
   "toc_window_display": false
  }
 },
 "nbformat": 4,
 "nbformat_minor": 2
}
