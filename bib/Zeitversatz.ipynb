{
 "cells": [
  {
   "cell_type": "code",
   "execution_count": 410,
   "metadata": {
    "ExecuteTime": {
     "end_time": "2017-01-18T13:36:19.703484",
     "start_time": "2017-01-18T13:36:19.684410"
    },
    "collapsed": true
   },
   "outputs": [],
   "source": [
    "import preprocessing as prep\n",
    "import numpy as np\n",
    "import pandas as pd\n",
    "from pandas import Series, DataFrame\n",
    "import helper as hlp\n",
    "from bb_binary import FrameContainer, Repository, load_frame_container\n",
    "import matplotlib.pyplot as plt\n",
    "%matplotlib inline\n",
    "import itertools\n",
    "from collections import Counter\n",
    "\n",
    "import helper as hlp\n",
    "import time\n",
    "import datetime\n",
    "import sys"
   ]
  },
  {
   "cell_type": "markdown",
   "metadata": {},
   "source": [
    "# Testing iter_frames() mit `begin` and `end`"
   ]
  },
  {
   "cell_type": "code",
   "execution_count": 533,
   "metadata": {
    "ExecuteTime": {
     "end_time": "2017-01-18T18:18:34.132005",
     "start_time": "2017-01-18T18:18:34.124504"
    },
    "collapsed": true
   },
   "outputs": [],
   "source": [
    "path = \"/mnt/data/20150822/\""
   ]
  },
  {
   "cell_type": "code",
   "execution_count": 534,
   "metadata": {
    "ExecuteTime": {
     "end_time": "2017-01-18T18:20:21.278360",
     "start_time": "2017-01-18T18:18:35.814171"
    },
    "collapsed": false
   },
   "outputs": [
    {
     "name": "stdout",
     "output_type": "stream",
     "text": [
      "1440201908.542753\n",
      "2015-08-22 00:05:08.542753\n",
      "From: 2015-08-22 00:15:08.542753\n",
      "To: 2015-08-22 00:17:08.542753\n",
      "1440\n"
     ]
    }
   ],
   "source": [
    "repo = Repository(path)\n",
    "\n",
    "min = sys.maxsize\n",
    "for frame, fc in repo.iter_frames():\n",
    "    if (frame.timestamp < min):\n",
    "        min = frame.timestamp\n",
    "print(min)\n",
    "print(datetime.datetime.fromtimestamp(min))\n",
    "\n",
    "s = min + 10*60\n",
    "e = s + 2*60\n",
    "print(\"From: {}\".format(datetime.datetime.fromtimestamp(s)))\n",
    "print(\"To: {}\".format(datetime.datetime.fromtimestamp(e)))\n",
    "\n",
    "count = 0\n",
    "l = []\n",
    "for frame, fc in repo.iter_frames(begin=s, end=e, cam=None):\n",
    "    count += 1\n",
    "    l.append([frame.timestamp, fc.camId, fc.id, frame.frameIdx, frame.id ])\n",
    "print(count)"
   ]
  },
  {
   "cell_type": "markdown",
   "metadata": {},
   "source": [
    "Hier sollen Frames für insgesamt 2 Minuten (alle Kameras) bei rauskommen."
   ]
  },
  {
   "cell_type": "code",
   "execution_count": 538,
   "metadata": {
    "ExecuteTime": {
     "end_time": "2017-01-18T18:20:55.143739",
     "start_time": "2017-01-18T18:20:55.135576"
    },
    "collapsed": false
   },
   "outputs": [
    {
     "data": {
      "text/plain": [
       "60.0"
      ]
     },
     "execution_count": 538,
     "metadata": {},
     "output_type": "execute_result"
    }
   ],
   "source": [
    "count/4/3/2"
   ]
  },
  {
   "cell_type": "code",
   "execution_count": 535,
   "metadata": {
    "ExecuteTime": {
     "end_time": "2017-01-18T18:20:21.297546",
     "start_time": "2017-01-18T18:20:21.283427"
    },
    "collapsed": false
   },
   "outputs": [],
   "source": [
    "df = DataFrame(l, columns=['timestamp', 'cam', 'fcid', 'frameIdx', 'frameid'])"
   ]
  },
  {
   "cell_type": "code",
   "execution_count": 536,
   "metadata": {
    "ExecuteTime": {
     "end_time": "2017-01-18T18:20:21.410439",
     "start_time": "2017-01-18T18:20:21.301078"
    },
    "collapsed": true
   },
   "outputs": [
    {
     "data": {
      "text/html": [
       "<div>\n",
       "<table border=\"1\" class=\"dataframe\">\n",
       "  <thead>\n",
       "    <tr style=\"text-align: right;\">\n",
       "      <th></th>\n",
       "      <th>timestamp</th>\n",
       "      <th>cam</th>\n",
       "      <th>fcid</th>\n",
       "      <th>frameIdx</th>\n",
       "      <th>frameid</th>\n",
       "    </tr>\n",
       "  </thead>\n",
       "  <tbody>\n",
       "    <tr>\n",
       "      <th>750</th>\n",
       "      <td>1.440203e+09</td>\n",
       "      <td>1</td>\n",
       "      <td>10486475669690815502</td>\n",
       "      <td>702</td>\n",
       "      <td>0</td>\n",
       "    </tr>\n",
       "    <tr>\n",
       "      <th>0</th>\n",
       "      <td>1.440203e+09</td>\n",
       "      <td>3</td>\n",
       "      <td>10581779802665057523</td>\n",
       "      <td>776</td>\n",
       "      <td>0</td>\n",
       "    </tr>\n",
       "    <tr>\n",
       "      <th>248</th>\n",
       "      <td>1.440203e+09</td>\n",
       "      <td>0</td>\n",
       "      <td>15015016821248640699</td>\n",
       "      <td>773</td>\n",
       "      <td>0</td>\n",
       "    </tr>\n",
       "    <tr>\n",
       "      <th>499</th>\n",
       "      <td>1.440203e+09</td>\n",
       "      <td>2</td>\n",
       "      <td>16803839146906050043</td>\n",
       "      <td>773</td>\n",
       "      <td>0</td>\n",
       "    </tr>\n",
       "    <tr>\n",
       "      <th>751</th>\n",
       "      <td>1.440203e+09</td>\n",
       "      <td>1</td>\n",
       "      <td>10486475669690815502</td>\n",
       "      <td>703</td>\n",
       "      <td>0</td>\n",
       "    </tr>\n",
       "    <tr>\n",
       "      <th>1</th>\n",
       "      <td>1.440203e+09</td>\n",
       "      <td>3</td>\n",
       "      <td>10581779802665057523</td>\n",
       "      <td>777</td>\n",
       "      <td>0</td>\n",
       "    </tr>\n",
       "    <tr>\n",
       "      <th>249</th>\n",
       "      <td>1.440203e+09</td>\n",
       "      <td>0</td>\n",
       "      <td>15015016821248640699</td>\n",
       "      <td>774</td>\n",
       "      <td>0</td>\n",
       "    </tr>\n",
       "    <tr>\n",
       "      <th>500</th>\n",
       "      <td>1.440203e+09</td>\n",
       "      <td>2</td>\n",
       "      <td>16803839146906050043</td>\n",
       "      <td>774</td>\n",
       "      <td>0</td>\n",
       "    </tr>\n",
       "    <tr>\n",
       "      <th>752</th>\n",
       "      <td>1.440203e+09</td>\n",
       "      <td>1</td>\n",
       "      <td>10486475669690815502</td>\n",
       "      <td>704</td>\n",
       "      <td>0</td>\n",
       "    </tr>\n",
       "    <tr>\n",
       "      <th>2</th>\n",
       "      <td>1.440203e+09</td>\n",
       "      <td>3</td>\n",
       "      <td>10581779802665057523</td>\n",
       "      <td>778</td>\n",
       "      <td>0</td>\n",
       "    </tr>\n",
       "    <tr>\n",
       "      <th>250</th>\n",
       "      <td>1.440203e+09</td>\n",
       "      <td>0</td>\n",
       "      <td>15015016821248640699</td>\n",
       "      <td>775</td>\n",
       "      <td>0</td>\n",
       "    </tr>\n",
       "    <tr>\n",
       "      <th>501</th>\n",
       "      <td>1.440203e+09</td>\n",
       "      <td>2</td>\n",
       "      <td>16803839146906050043</td>\n",
       "      <td>775</td>\n",
       "      <td>0</td>\n",
       "    </tr>\n",
       "    <tr>\n",
       "      <th>753</th>\n",
       "      <td>1.440203e+09</td>\n",
       "      <td>1</td>\n",
       "      <td>10486475669690815502</td>\n",
       "      <td>705</td>\n",
       "      <td>0</td>\n",
       "    </tr>\n",
       "    <tr>\n",
       "      <th>3</th>\n",
       "      <td>1.440203e+09</td>\n",
       "      <td>3</td>\n",
       "      <td>10581779802665057523</td>\n",
       "      <td>779</td>\n",
       "      <td>0</td>\n",
       "    </tr>\n",
       "    <tr>\n",
       "      <th>251</th>\n",
       "      <td>1.440203e+09</td>\n",
       "      <td>0</td>\n",
       "      <td>15015016821248640699</td>\n",
       "      <td>776</td>\n",
       "      <td>0</td>\n",
       "    </tr>\n",
       "    <tr>\n",
       "      <th>502</th>\n",
       "      <td>1.440203e+09</td>\n",
       "      <td>2</td>\n",
       "      <td>16803839146906050043</td>\n",
       "      <td>776</td>\n",
       "      <td>0</td>\n",
       "    </tr>\n",
       "    <tr>\n",
       "      <th>754</th>\n",
       "      <td>1.440203e+09</td>\n",
       "      <td>1</td>\n",
       "      <td>10486475669690815502</td>\n",
       "      <td>706</td>\n",
       "      <td>0</td>\n",
       "    </tr>\n",
       "    <tr>\n",
       "      <th>4</th>\n",
       "      <td>1.440203e+09</td>\n",
       "      <td>3</td>\n",
       "      <td>10581779802665057523</td>\n",
       "      <td>780</td>\n",
       "      <td>0</td>\n",
       "    </tr>\n",
       "    <tr>\n",
       "      <th>252</th>\n",
       "      <td>1.440203e+09</td>\n",
       "      <td>0</td>\n",
       "      <td>15015016821248640699</td>\n",
       "      <td>777</td>\n",
       "      <td>0</td>\n",
       "    </tr>\n",
       "    <tr>\n",
       "      <th>503</th>\n",
       "      <td>1.440203e+09</td>\n",
       "      <td>2</td>\n",
       "      <td>16803839146906050043</td>\n",
       "      <td>777</td>\n",
       "      <td>0</td>\n",
       "    </tr>\n",
       "    <tr>\n",
       "      <th>755</th>\n",
       "      <td>1.440203e+09</td>\n",
       "      <td>1</td>\n",
       "      <td>10486475669690815502</td>\n",
       "      <td>707</td>\n",
       "      <td>0</td>\n",
       "    </tr>\n",
       "    <tr>\n",
       "      <th>5</th>\n",
       "      <td>1.440203e+09</td>\n",
       "      <td>3</td>\n",
       "      <td>10581779802665057523</td>\n",
       "      <td>781</td>\n",
       "      <td>0</td>\n",
       "    </tr>\n",
       "    <tr>\n",
       "      <th>253</th>\n",
       "      <td>1.440203e+09</td>\n",
       "      <td>0</td>\n",
       "      <td>15015016821248640699</td>\n",
       "      <td>778</td>\n",
       "      <td>0</td>\n",
       "    </tr>\n",
       "    <tr>\n",
       "      <th>504</th>\n",
       "      <td>1.440203e+09</td>\n",
       "      <td>2</td>\n",
       "      <td>16803839146906050043</td>\n",
       "      <td>778</td>\n",
       "      <td>0</td>\n",
       "    </tr>\n",
       "    <tr>\n",
       "      <th>756</th>\n",
       "      <td>1.440203e+09</td>\n",
       "      <td>1</td>\n",
       "      <td>10486475669690815502</td>\n",
       "      <td>708</td>\n",
       "      <td>0</td>\n",
       "    </tr>\n",
       "    <tr>\n",
       "      <th>6</th>\n",
       "      <td>1.440203e+09</td>\n",
       "      <td>3</td>\n",
       "      <td>10581779802665057523</td>\n",
       "      <td>782</td>\n",
       "      <td>0</td>\n",
       "    </tr>\n",
       "    <tr>\n",
       "      <th>254</th>\n",
       "      <td>1.440203e+09</td>\n",
       "      <td>0</td>\n",
       "      <td>15015016821248640699</td>\n",
       "      <td>779</td>\n",
       "      <td>0</td>\n",
       "    </tr>\n",
       "    <tr>\n",
       "      <th>505</th>\n",
       "      <td>1.440203e+09</td>\n",
       "      <td>2</td>\n",
       "      <td>16803839146906050043</td>\n",
       "      <td>779</td>\n",
       "      <td>0</td>\n",
       "    </tr>\n",
       "    <tr>\n",
       "      <th>757</th>\n",
       "      <td>1.440203e+09</td>\n",
       "      <td>1</td>\n",
       "      <td>10486475669690815502</td>\n",
       "      <td>709</td>\n",
       "      <td>0</td>\n",
       "    </tr>\n",
       "    <tr>\n",
       "      <th>7</th>\n",
       "      <td>1.440203e+09</td>\n",
       "      <td>3</td>\n",
       "      <td>10581779802665057523</td>\n",
       "      <td>783</td>\n",
       "      <td>0</td>\n",
       "    </tr>\n",
       "    <tr>\n",
       "      <th>...</th>\n",
       "      <td>...</td>\n",
       "      <td>...</td>\n",
       "      <td>...</td>\n",
       "      <td>...</td>\n",
       "      <td>...</td>\n",
       "    </tr>\n",
       "    <tr>\n",
       "      <th>1285</th>\n",
       "      <td>1.440203e+09</td>\n",
       "      <td>0</td>\n",
       "      <td>11920469783708604988</td>\n",
       "      <td>101</td>\n",
       "      <td>0</td>\n",
       "    </tr>\n",
       "    <tr>\n",
       "      <th>1394</th>\n",
       "      <td>1.440203e+09</td>\n",
       "      <td>2</td>\n",
       "      <td>11653880770042695472</td>\n",
       "      <td>101</td>\n",
       "      <td>0</td>\n",
       "    </tr>\n",
       "    <tr>\n",
       "      <th>1433</th>\n",
       "      <td>1.440203e+09</td>\n",
       "      <td>1</td>\n",
       "      <td>13784734444898400230</td>\n",
       "      <td>31</td>\n",
       "      <td>0</td>\n",
       "    </tr>\n",
       "    <tr>\n",
       "      <th>1177</th>\n",
       "      <td>1.440203e+09</td>\n",
       "      <td>3</td>\n",
       "      <td>10722031514238549031</td>\n",
       "      <td>105</td>\n",
       "      <td>0</td>\n",
       "    </tr>\n",
       "    <tr>\n",
       "      <th>1286</th>\n",
       "      <td>1.440203e+09</td>\n",
       "      <td>0</td>\n",
       "      <td>11920469783708604988</td>\n",
       "      <td>102</td>\n",
       "      <td>0</td>\n",
       "    </tr>\n",
       "    <tr>\n",
       "      <th>1395</th>\n",
       "      <td>1.440203e+09</td>\n",
       "      <td>2</td>\n",
       "      <td>11653880770042695472</td>\n",
       "      <td>102</td>\n",
       "      <td>0</td>\n",
       "    </tr>\n",
       "    <tr>\n",
       "      <th>1434</th>\n",
       "      <td>1.440203e+09</td>\n",
       "      <td>1</td>\n",
       "      <td>13784734444898400230</td>\n",
       "      <td>32</td>\n",
       "      <td>0</td>\n",
       "    </tr>\n",
       "    <tr>\n",
       "      <th>1178</th>\n",
       "      <td>1.440203e+09</td>\n",
       "      <td>3</td>\n",
       "      <td>10722031514238549031</td>\n",
       "      <td>106</td>\n",
       "      <td>0</td>\n",
       "    </tr>\n",
       "    <tr>\n",
       "      <th>1287</th>\n",
       "      <td>1.440203e+09</td>\n",
       "      <td>0</td>\n",
       "      <td>11920469783708604988</td>\n",
       "      <td>103</td>\n",
       "      <td>0</td>\n",
       "    </tr>\n",
       "    <tr>\n",
       "      <th>1396</th>\n",
       "      <td>1.440203e+09</td>\n",
       "      <td>2</td>\n",
       "      <td>11653880770042695472</td>\n",
       "      <td>103</td>\n",
       "      <td>0</td>\n",
       "    </tr>\n",
       "    <tr>\n",
       "      <th>1435</th>\n",
       "      <td>1.440203e+09</td>\n",
       "      <td>1</td>\n",
       "      <td>13784734444898400230</td>\n",
       "      <td>33</td>\n",
       "      <td>0</td>\n",
       "    </tr>\n",
       "    <tr>\n",
       "      <th>1179</th>\n",
       "      <td>1.440203e+09</td>\n",
       "      <td>3</td>\n",
       "      <td>10722031514238549031</td>\n",
       "      <td>107</td>\n",
       "      <td>0</td>\n",
       "    </tr>\n",
       "    <tr>\n",
       "      <th>1288</th>\n",
       "      <td>1.440203e+09</td>\n",
       "      <td>0</td>\n",
       "      <td>11920469783708604988</td>\n",
       "      <td>104</td>\n",
       "      <td>0</td>\n",
       "    </tr>\n",
       "    <tr>\n",
       "      <th>1397</th>\n",
       "      <td>1.440203e+09</td>\n",
       "      <td>2</td>\n",
       "      <td>11653880770042695472</td>\n",
       "      <td>104</td>\n",
       "      <td>0</td>\n",
       "    </tr>\n",
       "    <tr>\n",
       "      <th>1436</th>\n",
       "      <td>1.440203e+09</td>\n",
       "      <td>1</td>\n",
       "      <td>13784734444898400230</td>\n",
       "      <td>34</td>\n",
       "      <td>0</td>\n",
       "    </tr>\n",
       "    <tr>\n",
       "      <th>1180</th>\n",
       "      <td>1.440203e+09</td>\n",
       "      <td>3</td>\n",
       "      <td>10722031514238549031</td>\n",
       "      <td>108</td>\n",
       "      <td>0</td>\n",
       "    </tr>\n",
       "    <tr>\n",
       "      <th>1289</th>\n",
       "      <td>1.440203e+09</td>\n",
       "      <td>0</td>\n",
       "      <td>11920469783708604988</td>\n",
       "      <td>105</td>\n",
       "      <td>0</td>\n",
       "    </tr>\n",
       "    <tr>\n",
       "      <th>1398</th>\n",
       "      <td>1.440203e+09</td>\n",
       "      <td>2</td>\n",
       "      <td>11653880770042695472</td>\n",
       "      <td>105</td>\n",
       "      <td>0</td>\n",
       "    </tr>\n",
       "    <tr>\n",
       "      <th>1437</th>\n",
       "      <td>1.440203e+09</td>\n",
       "      <td>1</td>\n",
       "      <td>13784734444898400230</td>\n",
       "      <td>35</td>\n",
       "      <td>0</td>\n",
       "    </tr>\n",
       "    <tr>\n",
       "      <th>1181</th>\n",
       "      <td>1.440203e+09</td>\n",
       "      <td>3</td>\n",
       "      <td>10722031514238549031</td>\n",
       "      <td>109</td>\n",
       "      <td>0</td>\n",
       "    </tr>\n",
       "    <tr>\n",
       "      <th>1290</th>\n",
       "      <td>1.440203e+09</td>\n",
       "      <td>0</td>\n",
       "      <td>11920469783708604988</td>\n",
       "      <td>106</td>\n",
       "      <td>0</td>\n",
       "    </tr>\n",
       "    <tr>\n",
       "      <th>1399</th>\n",
       "      <td>1.440203e+09</td>\n",
       "      <td>2</td>\n",
       "      <td>11653880770042695472</td>\n",
       "      <td>106</td>\n",
       "      <td>0</td>\n",
       "    </tr>\n",
       "    <tr>\n",
       "      <th>1438</th>\n",
       "      <td>1.440203e+09</td>\n",
       "      <td>1</td>\n",
       "      <td>13784734444898400230</td>\n",
       "      <td>36</td>\n",
       "      <td>0</td>\n",
       "    </tr>\n",
       "    <tr>\n",
       "      <th>1182</th>\n",
       "      <td>1.440203e+09</td>\n",
       "      <td>3</td>\n",
       "      <td>10722031514238549031</td>\n",
       "      <td>110</td>\n",
       "      <td>0</td>\n",
       "    </tr>\n",
       "    <tr>\n",
       "      <th>1291</th>\n",
       "      <td>1.440203e+09</td>\n",
       "      <td>0</td>\n",
       "      <td>11920469783708604988</td>\n",
       "      <td>107</td>\n",
       "      <td>0</td>\n",
       "    </tr>\n",
       "    <tr>\n",
       "      <th>1400</th>\n",
       "      <td>1.440203e+09</td>\n",
       "      <td>2</td>\n",
       "      <td>11653880770042695472</td>\n",
       "      <td>107</td>\n",
       "      <td>0</td>\n",
       "    </tr>\n",
       "    <tr>\n",
       "      <th>1439</th>\n",
       "      <td>1.440203e+09</td>\n",
       "      <td>1</td>\n",
       "      <td>13784734444898400230</td>\n",
       "      <td>37</td>\n",
       "      <td>0</td>\n",
       "    </tr>\n",
       "    <tr>\n",
       "      <th>1183</th>\n",
       "      <td>1.440203e+09</td>\n",
       "      <td>3</td>\n",
       "      <td>10722031514238549031</td>\n",
       "      <td>111</td>\n",
       "      <td>0</td>\n",
       "    </tr>\n",
       "    <tr>\n",
       "      <th>1292</th>\n",
       "      <td>1.440203e+09</td>\n",
       "      <td>0</td>\n",
       "      <td>11920469783708604988</td>\n",
       "      <td>108</td>\n",
       "      <td>0</td>\n",
       "    </tr>\n",
       "    <tr>\n",
       "      <th>1401</th>\n",
       "      <td>1.440203e+09</td>\n",
       "      <td>2</td>\n",
       "      <td>11653880770042695472</td>\n",
       "      <td>108</td>\n",
       "      <td>0</td>\n",
       "    </tr>\n",
       "  </tbody>\n",
       "</table>\n",
       "<p>1440 rows × 5 columns</p>\n",
       "</div>"
      ],
      "text/plain": [
       "         timestamp  cam                  fcid  frameIdx  frameid\n",
       "750   1.440203e+09    1  10486475669690815502       702        0\n",
       "0     1.440203e+09    3  10581779802665057523       776        0\n",
       "248   1.440203e+09    0  15015016821248640699       773        0\n",
       "499   1.440203e+09    2  16803839146906050043       773        0\n",
       "751   1.440203e+09    1  10486475669690815502       703        0\n",
       "1     1.440203e+09    3  10581779802665057523       777        0\n",
       "249   1.440203e+09    0  15015016821248640699       774        0\n",
       "500   1.440203e+09    2  16803839146906050043       774        0\n",
       "752   1.440203e+09    1  10486475669690815502       704        0\n",
       "2     1.440203e+09    3  10581779802665057523       778        0\n",
       "250   1.440203e+09    0  15015016821248640699       775        0\n",
       "501   1.440203e+09    2  16803839146906050043       775        0\n",
       "753   1.440203e+09    1  10486475669690815502       705        0\n",
       "3     1.440203e+09    3  10581779802665057523       779        0\n",
       "251   1.440203e+09    0  15015016821248640699       776        0\n",
       "502   1.440203e+09    2  16803839146906050043       776        0\n",
       "754   1.440203e+09    1  10486475669690815502       706        0\n",
       "4     1.440203e+09    3  10581779802665057523       780        0\n",
       "252   1.440203e+09    0  15015016821248640699       777        0\n",
       "503   1.440203e+09    2  16803839146906050043       777        0\n",
       "755   1.440203e+09    1  10486475669690815502       707        0\n",
       "5     1.440203e+09    3  10581779802665057523       781        0\n",
       "253   1.440203e+09    0  15015016821248640699       778        0\n",
       "504   1.440203e+09    2  16803839146906050043       778        0\n",
       "756   1.440203e+09    1  10486475669690815502       708        0\n",
       "6     1.440203e+09    3  10581779802665057523       782        0\n",
       "254   1.440203e+09    0  15015016821248640699       779        0\n",
       "505   1.440203e+09    2  16803839146906050043       779        0\n",
       "757   1.440203e+09    1  10486475669690815502       709        0\n",
       "7     1.440203e+09    3  10581779802665057523       783        0\n",
       "...            ...  ...                   ...       ...      ...\n",
       "1285  1.440203e+09    0  11920469783708604988       101        0\n",
       "1394  1.440203e+09    2  11653880770042695472       101        0\n",
       "1433  1.440203e+09    1  13784734444898400230        31        0\n",
       "1177  1.440203e+09    3  10722031514238549031       105        0\n",
       "1286  1.440203e+09    0  11920469783708604988       102        0\n",
       "1395  1.440203e+09    2  11653880770042695472       102        0\n",
       "1434  1.440203e+09    1  13784734444898400230        32        0\n",
       "1178  1.440203e+09    3  10722031514238549031       106        0\n",
       "1287  1.440203e+09    0  11920469783708604988       103        0\n",
       "1396  1.440203e+09    2  11653880770042695472       103        0\n",
       "1435  1.440203e+09    1  13784734444898400230        33        0\n",
       "1179  1.440203e+09    3  10722031514238549031       107        0\n",
       "1288  1.440203e+09    0  11920469783708604988       104        0\n",
       "1397  1.440203e+09    2  11653880770042695472       104        0\n",
       "1436  1.440203e+09    1  13784734444898400230        34        0\n",
       "1180  1.440203e+09    3  10722031514238549031       108        0\n",
       "1289  1.440203e+09    0  11920469783708604988       105        0\n",
       "1398  1.440203e+09    2  11653880770042695472       105        0\n",
       "1437  1.440203e+09    1  13784734444898400230        35        0\n",
       "1181  1.440203e+09    3  10722031514238549031       109        0\n",
       "1290  1.440203e+09    0  11920469783708604988       106        0\n",
       "1399  1.440203e+09    2  11653880770042695472       106        0\n",
       "1438  1.440203e+09    1  13784734444898400230        36        0\n",
       "1182  1.440203e+09    3  10722031514238549031       110        0\n",
       "1291  1.440203e+09    0  11920469783708604988       107        0\n",
       "1400  1.440203e+09    2  11653880770042695472       107        0\n",
       "1439  1.440203e+09    1  13784734444898400230        37        0\n",
       "1183  1.440203e+09    3  10722031514238549031       111        0\n",
       "1292  1.440203e+09    0  11920469783708604988       108        0\n",
       "1401  1.440203e+09    2  11653880770042695472       108        0\n",
       "\n",
       "[1440 rows x 5 columns]"
      ]
     },
     "execution_count": 536,
     "metadata": {},
     "output_type": "execute_result"
    }
   ],
   "source": [
    "df.sort_values(by='timestamp')"
   ]
  },
  {
   "cell_type": "markdown",
   "metadata": {
    "collapsed": true,
    "heading_collapsed": true
   },
   "source": [
    "# Dateien vergleichen (timestamp From am FrameContainer)\n",
    "Pro Datei vergleichen, den Timestamp am FrameContainer.\n",
    "Und dann immer den minimalen Timestamp von allen Frames pro FrameContainer."
   ]
  },
  {
   "cell_type": "code",
   "execution_count": 539,
   "metadata": {
    "ExecuteTime": {
     "end_time": "2017-01-18T18:26:42.445899",
     "start_time": "2017-01-18T18:26:42.437097"
    },
    "collapsed": true,
    "hidden": true
   },
   "outputs": [],
   "source": [
    "path = \"/mnt/data/2015082215/\""
   ]
  },
  {
   "cell_type": "code",
   "execution_count": 540,
   "metadata": {
    "ExecuteTime": {
     "end_time": "2017-01-18T18:26:44.175607",
     "start_time": "2017-01-18T18:26:44.114836"
    },
    "collapsed": true,
    "hidden": true
   },
   "outputs": [],
   "source": [
    "files = hlp.get_files(path)"
   ]
  },
  {
   "cell_type": "code",
   "execution_count": 541,
   "metadata": {
    "ExecuteTime": {
     "end_time": "2017-01-18T18:26:45.408181",
     "start_time": "2017-01-18T18:26:45.396058"
    },
    "collapsed": false,
    "hidden": true
   },
   "outputs": [
    {
     "data": {
      "text/plain": [
       "array([[ '/mnt/data/2015082215/2015/08/22/15/00/Cam_3_2015-08-22T15:04:01.415537Z--2015-08-22T15:09:42.430042Z.bbb',\n",
       "        '/mnt/data/2015082215/2015/08/22/15/00/Cam_0_2015-08-22T15:04:02.986627Z--2015-08-22T15:09:44.012132Z.bbb',\n",
       "        '/mnt/data/2015082215/2015/08/22/15/00/Cam_2_2015-08-22T15:04:03.113634Z--2015-08-22T15:09:44.128139Z.bbb',\n",
       "        '/mnt/data/2015082215/2015/08/22/15/00/Cam_1_2015-08-22T15:04:26.298959Z--2015-08-22T15:10:07.314465Z.bbb'],\n",
       "       [ '/mnt/data/2015082215/2015/08/22/15/00/Cam_3_2015-08-22T15:09:42.763061Z--2015-08-22T15:15:23.777565Z.bbb',\n",
       "        '/mnt/data/2015082215/2015/08/22/15/00/Cam_0_2015-08-22T15:09:44.345151Z--2015-08-22T15:15:25.360656Z.bbb',\n",
       "        '/mnt/data/2015082215/2015/08/22/15/00/Cam_2_2015-08-22T15:09:44.461158Z--2015-08-22T15:15:25.476663Z.bbb',\n",
       "        '/mnt/data/2015082215/2015/08/22/15/00/Cam_1_2015-08-22T15:10:07.647484Z--2015-08-22T15:15:48.662988Z.bbb'],\n",
       "       [ '/mnt/data/2015082215/2015/08/22/15/00/Cam_3_2015-08-22T15:15:24.110584Z--2015-08-22T15:21:05.125089Z.bbb',\n",
       "        '/mnt/data/2015082215/2015/08/22/15/00/Cam_0_2015-08-22T15:15:25.693675Z--2015-08-22T15:21:06.709181Z.bbb',\n",
       "        '/mnt/data/2015082215/2015/08/22/15/00/Cam_2_2015-08-22T15:15:25.809681Z--2015-08-22T15:21:06.827187Z.bbb',\n",
       "        '/mnt/data/2015082215/2015/08/22/15/00/Cam_1_2015-08-22T15:15:48.997008Z--2015-08-22T15:21:30.012512Z.bbb'],\n",
       "       [ '/mnt/data/2015082215/2015/08/22/15/20/Cam_3_2015-08-22T15:21:05.458108Z--2015-08-22T15:26:46.471613Z.bbb',\n",
       "        '/mnt/data/2015082215/2015/08/22/15/20/Cam_0_2015-08-22T15:21:07.042200Z--2015-08-22T15:26:48.057704Z.bbb',\n",
       "        '/mnt/data/2015082215/2015/08/22/15/20/Cam_2_2015-08-22T15:21:07.161206Z--2015-08-22T15:26:48.177711Z.bbb',\n",
       "        '/mnt/data/2015082215/2015/08/22/15/20/Cam_1_2015-08-22T15:21:30.345531Z--2015-08-22T15:27:11.361037Z.bbb'],\n",
       "       [ '/mnt/data/2015082215/2015/08/22/15/20/Cam_3_2015-08-22T15:26:46.805633Z--2015-08-22T15:32:27.819138Z.bbb',\n",
       "        '/mnt/data/2015082215/2015/08/22/15/20/Cam_0_2015-08-22T15:26:48.391724Z--2015-08-22T15:32:29.407228Z.bbb',\n",
       "        '/mnt/data/2015082215/2015/08/22/15/20/Cam_2_2015-08-22T15:26:48.511730Z--2015-08-22T15:32:29.529236Z.bbb',\n",
       "        '/mnt/data/2015082215/2015/08/22/15/20/Cam_1_2015-08-22T15:27:11.694056Z--2015-08-22T15:32:52.709561Z.bbb'],\n",
       "       [ '/mnt/data/2015082215/2015/08/22/15/20/Cam_3_2015-08-22T15:32:28.153156Z--2015-08-22T15:38:09.166661Z.bbb',\n",
       "        '/mnt/data/2015082215/2015/08/22/15/20/Cam_0_2015-08-22T15:32:29.740247Z--2015-08-22T15:38:10.755753Z.bbb',\n",
       "        '/mnt/data/2015082215/2015/08/22/15/20/Cam_2_2015-08-22T15:32:29.862255Z--2015-08-22T15:38:10.879760Z.bbb',\n",
       "        '/mnt/data/2015082215/2015/08/22/15/20/Cam_1_2015-08-22T15:32:53.043581Z--2015-08-22T15:38:34.058084Z.bbb'],\n",
       "       [ '/mnt/data/2015082215/2015/08/22/15/20/Cam_3_2015-08-22T15:38:09.499680Z--2015-08-22T15:43:50.514185Z.bbb',\n",
       "        '/mnt/data/2015082215/2015/08/22/15/20/Cam_0_2015-08-22T15:38:11.088772Z--2015-08-22T15:43:52.104276Z.bbb',\n",
       "        '/mnt/data/2015082215/2015/08/22/15/20/Cam_2_2015-08-22T15:38:11.212779Z--2015-08-22T15:43:52.230283Z.bbb',\n",
       "        '/mnt/data/2015082215/2015/08/22/15/20/Cam_1_2015-08-22T15:38:34.392105Z--2015-08-22T15:44:15.407609Z.bbb'],\n",
       "       [ '/mnt/data/2015082215/2015/08/22/15/40/Cam_3_2015-08-22T15:43:50.847204Z--2015-08-22T15:49:31.861710Z.bbb',\n",
       "        '/mnt/data/2015082215/2015/08/22/15/40/Cam_0_2015-08-22T15:43:52.438296Z--2015-08-22T15:49:33.453800Z.bbb',\n",
       "        '/mnt/data/2015082215/2015/08/22/15/40/Cam_2_2015-08-22T15:43:52.563302Z--2015-08-22T15:49:33.580807Z.bbb',\n",
       "        '/mnt/data/2015082215/2015/08/22/15/40/Cam_1_2015-08-22T15:44:15.740628Z--2015-08-22T15:49:56.756134Z.bbb'],\n",
       "       [ '/mnt/data/2015082215/2015/08/22/15/40/Cam_3_2015-08-22T15:49:32.194729Z--2015-08-22T15:55:13.209233Z.bbb',\n",
       "        '/mnt/data/2015082215/2015/08/22/15/40/Cam_0_2015-08-22T15:49:33.786819Z--2015-08-22T15:55:14.802325Z.bbb',\n",
       "        '/mnt/data/2015082215/2015/08/22/15/40/Cam_2_2015-08-22T15:49:33.914827Z--2015-08-22T15:55:14.932332Z.bbb',\n",
       "        '/mnt/data/2015082215/2015/08/22/15/40/Cam_1_2015-08-22T15:49:57.089153Z--2015-08-22T15:55:38.104657Z.bbb'],\n",
       "       [ '/mnt/data/2015082215/2015/08/22/15/40/Cam_3_2015-08-22T15:55:13.542253Z--2015-08-22T16:00:54.556757Z.bbb',\n",
       "        '/mnt/data/2015082215/2015/08/22/15/40/Cam_0_2015-08-22T15:55:15.135344Z--2015-08-22T16:00:56.150849Z.bbb',\n",
       "        '/mnt/data/2015082215/2015/08/22/15/40/Cam_2_2015-08-22T15:55:15.265351Z--2015-08-22T16:00:56.282855Z.bbb',\n",
       "        '/mnt/data/2015082215/2015/08/22/15/40/Cam_1_2015-08-22T15:55:38.438677Z--2015-08-22T16:01:19.454181Z.bbb']], \n",
       "      dtype='<U104')"
      ]
     },
     "execution_count": 541,
     "metadata": {},
     "output_type": "execute_result"
    }
   ],
   "source": [
    "files"
   ]
  },
  {
   "cell_type": "code",
   "execution_count": 153,
   "metadata": {
    "ExecuteTime": {
     "end_time": "2017-01-17T22:49:50.421102",
     "start_time": "2017-01-17T22:49:49.941555"
    },
    "collapsed": false,
    "hidden": true
   },
   "outputs": [],
   "source": [
    "sstart = []\n",
    "for flist in files:\n",
    "    start = []\n",
    "    for f in flist:\n",
    "        fc = load_frame_container(f)\n",
    "        start.append(fc.fromTimestamp)\n",
    "    \n",
    "    sstart.append(start)"
   ]
  },
  {
   "cell_type": "code",
   "execution_count": 154,
   "metadata": {
    "ExecuteTime": {
     "end_time": "2017-01-17T22:49:50.585341",
     "start_time": "2017-01-17T22:49:50.570054"
    },
    "collapsed": false,
    "hidden": true
   },
   "outputs": [
    {
     "data": {
      "text/plain": [
       "10"
      ]
     },
     "execution_count": 154,
     "metadata": {},
     "output_type": "execute_result"
    }
   ],
   "source": [
    "len(sstart)"
   ]
  },
  {
   "cell_type": "code",
   "execution_count": 155,
   "metadata": {
    "ExecuteTime": {
     "end_time": "2017-01-17T22:49:51.173864",
     "start_time": "2017-01-17T22:49:51.166371"
    },
    "collapsed": true,
    "hidden": true
   },
   "outputs": [],
   "source": [
    "df = DataFrame(sstart)"
   ]
  },
  {
   "cell_type": "code",
   "execution_count": 156,
   "metadata": {
    "ExecuteTime": {
     "end_time": "2017-01-17T22:49:52.024178",
     "start_time": "2017-01-17T22:49:52.002483"
    },
    "collapsed": false,
    "hidden": true
   },
   "outputs": [
    {
     "data": {
      "text/html": [
       "<div>\n",
       "<table border=\"1\" class=\"dataframe\">\n",
       "  <thead>\n",
       "    <tr style=\"text-align: right;\">\n",
       "      <th></th>\n",
       "      <th>0</th>\n",
       "      <th>1</th>\n",
       "      <th>2</th>\n",
       "      <th>3</th>\n",
       "    </tr>\n",
       "  </thead>\n",
       "  <tbody>\n",
       "    <tr>\n",
       "      <th>0</th>\n",
       "      <td>1.440256e+09</td>\n",
       "      <td>1.440256e+09</td>\n",
       "      <td>1.440256e+09</td>\n",
       "      <td>1.440256e+09</td>\n",
       "    </tr>\n",
       "    <tr>\n",
       "      <th>1</th>\n",
       "      <td>1.440256e+09</td>\n",
       "      <td>1.440256e+09</td>\n",
       "      <td>1.440256e+09</td>\n",
       "      <td>1.440256e+09</td>\n",
       "    </tr>\n",
       "    <tr>\n",
       "      <th>2</th>\n",
       "      <td>1.440257e+09</td>\n",
       "      <td>1.440257e+09</td>\n",
       "      <td>1.440257e+09</td>\n",
       "      <td>1.440257e+09</td>\n",
       "    </tr>\n",
       "    <tr>\n",
       "      <th>3</th>\n",
       "      <td>1.440257e+09</td>\n",
       "      <td>1.440257e+09</td>\n",
       "      <td>1.440257e+09</td>\n",
       "      <td>1.440257e+09</td>\n",
       "    </tr>\n",
       "    <tr>\n",
       "      <th>4</th>\n",
       "      <td>1.440257e+09</td>\n",
       "      <td>1.440257e+09</td>\n",
       "      <td>1.440257e+09</td>\n",
       "      <td>1.440257e+09</td>\n",
       "    </tr>\n",
       "  </tbody>\n",
       "</table>\n",
       "</div>"
      ],
      "text/plain": [
       "              0             1             2             3\n",
       "0  1.440256e+09  1.440256e+09  1.440256e+09  1.440256e+09\n",
       "1  1.440256e+09  1.440256e+09  1.440256e+09  1.440256e+09\n",
       "2  1.440257e+09  1.440257e+09  1.440257e+09  1.440257e+09\n",
       "3  1.440257e+09  1.440257e+09  1.440257e+09  1.440257e+09\n",
       "4  1.440257e+09  1.440257e+09  1.440257e+09  1.440257e+09"
      ]
     },
     "execution_count": 156,
     "metadata": {},
     "output_type": "execute_result"
    }
   ],
   "source": [
    "df.head()"
   ]
  },
  {
   "cell_type": "code",
   "execution_count": 157,
   "metadata": {
    "ExecuteTime": {
     "end_time": "2017-01-17T22:49:53.046127",
     "start_time": "2017-01-17T22:49:53.031094"
    },
    "collapsed": false,
    "hidden": true
   },
   "outputs": [],
   "source": [
    "df1 = df.apply(lambda x: Series((a,b) for a,b in list(itertools.product(*[list(x),list(x)])) if a < b ), axis=1)"
   ]
  },
  {
   "cell_type": "code",
   "execution_count": 158,
   "metadata": {
    "ExecuteTime": {
     "end_time": "2017-01-17T22:49:54.322552",
     "start_time": "2017-01-17T22:49:54.311893"
    },
    "collapsed": false,
    "hidden": true
   },
   "outputs": [],
   "source": [
    "df2 = df1.applymap(lambda x: x[0]-x[1])"
   ]
  },
  {
   "cell_type": "markdown",
   "metadata": {
    "ExecuteTime": {
     "end_time": "2017-01-18T18:27:42.296564",
     "start_time": "2017-01-18T18:27:42.291112"
    },
    "heading_collapsed": true,
    "hidden": true
   },
   "source": [
    "## Minimaler und Maximaler Fehler"
   ]
  },
  {
   "cell_type": "code",
   "execution_count": 542,
   "metadata": {
    "ExecuteTime": {
     "end_time": "2017-01-18T18:27:27.626240",
     "start_time": "2017-01-18T18:27:27.608994"
    },
    "collapsed": false,
    "hidden": true
   },
   "outputs": [
    {
     "data": {
      "text/plain": [
       "0   -0.127007\n",
       "1   -0.116006\n",
       "2   -0.116006\n",
       "3   -0.119006\n",
       "4   -0.120007\n",
       "5   -0.122007\n",
       "6   -0.124007\n",
       "7   -0.125007\n",
       "8   -0.128007\n",
       "9   -0.130007\n",
       "dtype: float64"
      ]
     },
     "execution_count": 542,
     "metadata": {},
     "output_type": "execute_result"
    }
   ],
   "source": [
    "df2.max(axis=1)"
   ]
  },
  {
   "cell_type": "code",
   "execution_count": 159,
   "metadata": {
    "ExecuteTime": {
     "end_time": "2017-01-17T22:49:56.006186",
     "start_time": "2017-01-17T22:49:55.993045"
    },
    "collapsed": false,
    "hidden": true
   },
   "outputs": [
    {
     "data": {
      "text/plain": [
       "0   -24.883423\n",
       "1   -24.884423\n",
       "2   -24.886423\n",
       "3   -24.887423\n",
       "4   -24.888423\n",
       "5   -24.890424\n",
       "6   -24.892424\n",
       "7   -24.893424\n",
       "8   -24.894424\n",
       "9   -24.896424\n",
       "dtype: float64"
      ]
     },
     "execution_count": 159,
     "metadata": {},
     "output_type": "execute_result"
    }
   ],
   "source": [
    "df2.min(axis=1)"
   ]
  },
  {
   "cell_type": "markdown",
   "metadata": {
    "ExecuteTime": {
     "end_time": "2017-01-17T22:47:06.006482",
     "start_time": "2017-01-17T22:47:05.999881"
    },
    "heading_collapsed": true
   },
   "source": [
    "# Timestampf am ersten Frame imFrameContainer vergleichen"
   ]
  },
  {
   "cell_type": "code",
   "execution_count": 160,
   "metadata": {
    "ExecuteTime": {
     "end_time": "2017-01-17T22:49:59.622178",
     "start_time": "2017-01-17T22:49:59.381189"
    },
    "collapsed": true,
    "hidden": true
   },
   "outputs": [],
   "source": [
    "sstart = []\n",
    "for flist in files:\n",
    "    start = []\n",
    "    for f in flist:\n",
    "        fc = load_frame_container(f)\n",
    "        start.append(fc.frames[0].timestamp)\n",
    "    \n",
    "    sstart.append(start)"
   ]
  },
  {
   "cell_type": "code",
   "execution_count": 161,
   "metadata": {
    "ExecuteTime": {
     "end_time": "2017-01-17T22:50:00.078140",
     "start_time": "2017-01-17T22:50:00.070717"
    },
    "collapsed": false,
    "hidden": true
   },
   "outputs": [
    {
     "data": {
      "text/plain": [
       "[1440255841.415537, 1440255842.986627, 1440255843.113634, 1440255866.29896]"
      ]
     },
     "execution_count": 161,
     "metadata": {},
     "output_type": "execute_result"
    }
   ],
   "source": [
    "sstart[0]"
   ]
  },
  {
   "cell_type": "code",
   "execution_count": 162,
   "metadata": {
    "ExecuteTime": {
     "end_time": "2017-01-17T22:50:20.670261",
     "start_time": "2017-01-17T22:50:20.662339"
    },
    "collapsed": true,
    "hidden": true
   },
   "outputs": [],
   "source": [
    "df = DataFrame(sstart)"
   ]
  },
  {
   "cell_type": "code",
   "execution_count": 163,
   "metadata": {
    "ExecuteTime": {
     "end_time": "2017-01-17T22:50:26.924320",
     "start_time": "2017-01-17T22:50:26.900313"
    },
    "collapsed": false,
    "hidden": true
   },
   "outputs": [
    {
     "data": {
      "text/html": [
       "<div>\n",
       "<table border=\"1\" class=\"dataframe\">\n",
       "  <thead>\n",
       "    <tr style=\"text-align: right;\">\n",
       "      <th></th>\n",
       "      <th>0</th>\n",
       "      <th>1</th>\n",
       "      <th>2</th>\n",
       "      <th>3</th>\n",
       "    </tr>\n",
       "  </thead>\n",
       "  <tbody>\n",
       "    <tr>\n",
       "      <th>0</th>\n",
       "      <td>1.440256e+09</td>\n",
       "      <td>1.440256e+09</td>\n",
       "      <td>1.440256e+09</td>\n",
       "      <td>1.440256e+09</td>\n",
       "    </tr>\n",
       "    <tr>\n",
       "      <th>1</th>\n",
       "      <td>1.440256e+09</td>\n",
       "      <td>1.440256e+09</td>\n",
       "      <td>1.440256e+09</td>\n",
       "      <td>1.440256e+09</td>\n",
       "    </tr>\n",
       "    <tr>\n",
       "      <th>2</th>\n",
       "      <td>1.440257e+09</td>\n",
       "      <td>1.440257e+09</td>\n",
       "      <td>1.440257e+09</td>\n",
       "      <td>1.440257e+09</td>\n",
       "    </tr>\n",
       "    <tr>\n",
       "      <th>3</th>\n",
       "      <td>1.440257e+09</td>\n",
       "      <td>1.440257e+09</td>\n",
       "      <td>1.440257e+09</td>\n",
       "      <td>1.440257e+09</td>\n",
       "    </tr>\n",
       "    <tr>\n",
       "      <th>4</th>\n",
       "      <td>1.440257e+09</td>\n",
       "      <td>1.440257e+09</td>\n",
       "      <td>1.440257e+09</td>\n",
       "      <td>1.440257e+09</td>\n",
       "    </tr>\n",
       "  </tbody>\n",
       "</table>\n",
       "</div>"
      ],
      "text/plain": [
       "              0             1             2             3\n",
       "0  1.440256e+09  1.440256e+09  1.440256e+09  1.440256e+09\n",
       "1  1.440256e+09  1.440256e+09  1.440256e+09  1.440256e+09\n",
       "2  1.440257e+09  1.440257e+09  1.440257e+09  1.440257e+09\n",
       "3  1.440257e+09  1.440257e+09  1.440257e+09  1.440257e+09\n",
       "4  1.440257e+09  1.440257e+09  1.440257e+09  1.440257e+09"
      ]
     },
     "execution_count": 163,
     "metadata": {},
     "output_type": "execute_result"
    }
   ],
   "source": [
    "df.head()"
   ]
  },
  {
   "cell_type": "code",
   "execution_count": 164,
   "metadata": {
    "ExecuteTime": {
     "end_time": "2017-01-17T22:50:37.970204",
     "start_time": "2017-01-17T22:50:37.952331"
    },
    "collapsed": true,
    "hidden": true
   },
   "outputs": [],
   "source": [
    "df1 = df.apply(lambda x: Series((a,b) for a,b in list(itertools.product(*[list(x),list(x)])) if a < b ), axis=1)"
   ]
  },
  {
   "cell_type": "code",
   "execution_count": 165,
   "metadata": {
    "ExecuteTime": {
     "end_time": "2017-01-17T22:50:43.890932",
     "start_time": "2017-01-17T22:50:43.881383"
    },
    "collapsed": true,
    "hidden": true
   },
   "outputs": [],
   "source": [
    "df2 = df1.applymap(lambda x: x[0]-x[1])"
   ]
  },
  {
   "cell_type": "markdown",
   "metadata": {
    "hidden": true
   },
   "source": [
    "## Minimaler und Maximaler Fehler\n"
   ]
  },
  {
   "cell_type": "code",
   "execution_count": 544,
   "metadata": {
    "ExecuteTime": {
     "end_time": "2017-01-18T18:28:10.503329",
     "start_time": "2017-01-18T18:28:10.488445"
    },
    "collapsed": false,
    "hidden": true
   },
   "outputs": [
    {
     "data": {
      "text/plain": [
       "0   -0.127007\n",
       "1   -0.116006\n",
       "2   -0.116006\n",
       "3   -0.119006\n",
       "4   -0.120007\n",
       "5   -0.122007\n",
       "6   -0.124007\n",
       "7   -0.125007\n",
       "8   -0.128007\n",
       "9   -0.130007\n",
       "dtype: float64"
      ]
     },
     "execution_count": 544,
     "metadata": {},
     "output_type": "execute_result"
    }
   ],
   "source": [
    "df2.max(axis=1)"
   ]
  },
  {
   "cell_type": "code",
   "execution_count": 166,
   "metadata": {
    "ExecuteTime": {
     "end_time": "2017-01-17T22:50:49.014387",
     "start_time": "2017-01-17T22:50:49.003442"
    },
    "collapsed": false,
    "hidden": true
   },
   "outputs": [
    {
     "data": {
      "text/plain": [
       "0   -24.883423\n",
       "1   -24.884423\n",
       "2   -24.886423\n",
       "3   -24.887423\n",
       "4   -24.888423\n",
       "5   -24.890424\n",
       "6   -24.892424\n",
       "7   -24.893424\n",
       "8   -24.894424\n",
       "9   -24.896424\n",
       "dtype: float64"
      ]
     },
     "execution_count": 166,
     "metadata": {},
     "output_type": "execute_result"
    }
   ],
   "source": [
    "df2.min(axis=1)"
   ]
  },
  {
   "cell_type": "markdown",
   "metadata": {
    "heading_collapsed": true
   },
   "source": [
    "# Dateien über den gesamten Zeitraum"
   ]
  },
  {
   "cell_type": "code",
   "execution_count": 547,
   "metadata": {
    "ExecuteTime": {
     "end_time": "2017-01-18T18:29:05.578801",
     "start_time": "2017-01-18T18:29:05.573059"
    },
    "collapsed": true,
    "hidden": true
   },
   "outputs": [],
   "source": [
    "repo = Repository(\"/mnt/data/all/\")"
   ]
  },
  {
   "cell_type": "code",
   "execution_count": 709,
   "metadata": {
    "ExecuteTime": {
     "end_time": "2017-01-18T22:56:09.314439",
     "start_time": "2017-01-18T22:55:58.224991"
    },
    "collapsed": false,
    "hidden": true
   },
   "outputs": [],
   "source": [
    "file_list = []\n",
    "for f in repo.iter_fnames():\n",
    "    string = f.split('2015')\n",
    "    datum = string[1].split(\"/\")\n",
    "    file_list.append([datum[1], datum[2], datum[3], f])\n",
    "\n",
    "# DataFrame with all files\n",
    "df = DataFrame(file_list, columns=['m', 'd', 'h', 'file'])\n",
    "    \n",
    "# Group by hours\n",
    "gr = df.groupby(by=['m','d','h'])"
   ]
  },
  {
   "cell_type": "code",
   "execution_count": 710,
   "metadata": {
    "ExecuteTime": {
     "end_time": "2017-01-18T22:56:09.336577",
     "start_time": "2017-01-18T22:56:09.317562"
    },
    "collapsed": false,
    "hidden": true
   },
   "outputs": [
    {
     "data": {
      "text/html": [
       "<div>\n",
       "<table border=\"1\" class=\"dataframe\">\n",
       "  <thead>\n",
       "    <tr style=\"text-align: right;\">\n",
       "      <th></th>\n",
       "      <th>m</th>\n",
       "      <th>d</th>\n",
       "      <th>h</th>\n",
       "      <th>file</th>\n",
       "    </tr>\n",
       "  </thead>\n",
       "  <tbody>\n",
       "    <tr>\n",
       "      <th>0</th>\n",
       "      <td>08</td>\n",
       "      <td>19</td>\n",
       "      <td>16</td>\n",
       "      <td>/mnt/data/all/2015/08/19/16/20/Cam_2_2015-08-1...</td>\n",
       "    </tr>\n",
       "    <tr>\n",
       "      <th>1</th>\n",
       "      <td>08</td>\n",
       "      <td>19</td>\n",
       "      <td>16</td>\n",
       "      <td>/mnt/data/all/2015/08/19/16/20/Cam_0_2015-08-1...</td>\n",
       "    </tr>\n",
       "    <tr>\n",
       "      <th>2</th>\n",
       "      <td>08</td>\n",
       "      <td>19</td>\n",
       "      <td>16</td>\n",
       "      <td>/mnt/data/all/2015/08/19/16/20/Cam_1_2015-08-1...</td>\n",
       "    </tr>\n",
       "    <tr>\n",
       "      <th>3</th>\n",
       "      <td>08</td>\n",
       "      <td>19</td>\n",
       "      <td>16</td>\n",
       "      <td>/mnt/data/all/2015/08/19/16/20/Cam_3_2015-08-1...</td>\n",
       "    </tr>\n",
       "    <tr>\n",
       "      <th>4</th>\n",
       "      <td>08</td>\n",
       "      <td>19</td>\n",
       "      <td>16</td>\n",
       "      <td>/mnt/data/all/2015/08/19/16/40/Cam_0_2015-08-1...</td>\n",
       "    </tr>\n",
       "  </tbody>\n",
       "</table>\n",
       "</div>"
      ],
      "text/plain": [
       "    m   d   h                                               file\n",
       "0  08  19  16  /mnt/data/all/2015/08/19/16/20/Cam_2_2015-08-1...\n",
       "1  08  19  16  /mnt/data/all/2015/08/19/16/20/Cam_0_2015-08-1...\n",
       "2  08  19  16  /mnt/data/all/2015/08/19/16/20/Cam_1_2015-08-1...\n",
       "3  08  19  16  /mnt/data/all/2015/08/19/16/20/Cam_3_2015-08-1...\n",
       "4  08  19  16  /mnt/data/all/2015/08/19/16/40/Cam_0_2015-08-1..."
      ]
     },
     "execution_count": 710,
     "metadata": {},
     "output_type": "execute_result"
    }
   ],
   "source": [
    "df.head(5)"
   ]
  },
  {
   "cell_type": "markdown",
   "metadata": {
    "hidden": true
   },
   "source": [
    "## Anzahl der Dateien pro Kamera pro Stunde"
   ]
  },
  {
   "cell_type": "code",
   "execution_count": 559,
   "metadata": {
    "ExecuteTime": {
     "end_time": "2017-01-18T18:30:28.970324",
     "start_time": "2017-01-18T18:30:28.961191"
    },
    "collapsed": true,
    "hidden": true
   },
   "outputs": [],
   "source": [
    "gr = df.groupby(by=[\"m\", \"d\", \"h\"])"
   ]
  },
  {
   "cell_type": "code",
   "execution_count": 560,
   "metadata": {
    "ExecuteTime": {
     "end_time": "2017-01-18T18:30:29.402651",
     "start_time": "2017-01-18T18:30:29.396632"
    },
    "collapsed": true,
    "hidden": true
   },
   "outputs": [],
   "source": [
    "mdh = []\n",
    "c = []"
   ]
  },
  {
   "cell_type": "code",
   "execution_count": 561,
   "metadata": {
    "ExecuteTime": {
     "end_time": "2017-01-18T18:30:30.681924",
     "start_time": "2017-01-18T18:30:29.717675"
    },
    "collapsed": false,
    "hidden": true,
    "scrolled": false
   },
   "outputs": [],
   "source": [
    "for g, group in gr:\n",
    "    m,d,h = g\n",
    "    files = (list(group.file))\n",
    "    a = [int(f.split('/')[-1].split(\"_\")[1]) for f in files]\n",
    "    mdh.append([m,d,h])\n",
    "    c.append(Counter(a))"
   ]
  },
  {
   "cell_type": "code",
   "execution_count": 562,
   "metadata": {
    "ExecuteTime": {
     "end_time": "2017-01-18T18:30:30.690840",
     "start_time": "2017-01-18T18:30:30.684710"
    },
    "collapsed": false,
    "hidden": true
   },
   "outputs": [],
   "source": [
    "dfmdh = DataFrame(mdh, columns=[\"m\", \"d\", \"h\"])"
   ]
  },
  {
   "cell_type": "code",
   "execution_count": 563,
   "metadata": {
    "ExecuteTime": {
     "end_time": "2017-01-18T18:30:30.799631",
     "start_time": "2017-01-18T18:30:30.694092"
    },
    "collapsed": false,
    "hidden": true
   },
   "outputs": [],
   "source": [
    "dfc = DataFrame(c).fillna(value=0)"
   ]
  },
  {
   "cell_type": "code",
   "execution_count": 564,
   "metadata": {
    "ExecuteTime": {
     "end_time": "2017-01-18T18:30:30.903277",
     "start_time": "2017-01-18T18:30:30.898242"
    },
    "collapsed": false,
    "hidden": true
   },
   "outputs": [],
   "source": [
    "dfc.columns = [\"cam0\", \"cam1\", \"cam2\", \"cam3\"]"
   ]
  },
  {
   "cell_type": "code",
   "execution_count": 565,
   "metadata": {
    "ExecuteTime": {
     "end_time": "2017-01-18T18:30:31.417919",
     "start_time": "2017-01-18T18:30:31.411024"
    },
    "collapsed": false,
    "hidden": true
   },
   "outputs": [],
   "source": [
    "df_all = pd.concat([dfmdh, dfc], axis=1)"
   ]
  },
  {
   "cell_type": "code",
   "execution_count": 566,
   "metadata": {
    "ExecuteTime": {
     "end_time": "2017-01-18T18:30:32.427653",
     "start_time": "2017-01-18T18:30:32.404178"
    },
    "collapsed": false,
    "hidden": true
   },
   "outputs": [
    {
     "data": {
      "text/html": [
       "<div>\n",
       "<table border=\"1\" class=\"dataframe\">\n",
       "  <thead>\n",
       "    <tr style=\"text-align: right;\">\n",
       "      <th></th>\n",
       "      <th>m</th>\n",
       "      <th>d</th>\n",
       "      <th>h</th>\n",
       "      <th>cam0</th>\n",
       "      <th>cam1</th>\n",
       "      <th>cam2</th>\n",
       "      <th>cam3</th>\n",
       "    </tr>\n",
       "  </thead>\n",
       "  <tbody>\n",
       "    <tr>\n",
       "      <th>0</th>\n",
       "      <td>08</td>\n",
       "      <td>19</td>\n",
       "      <td>16</td>\n",
       "      <td>2</td>\n",
       "      <td>2.0</td>\n",
       "      <td>2.0</td>\n",
       "      <td>2.0</td>\n",
       "    </tr>\n",
       "    <tr>\n",
       "      <th>1</th>\n",
       "      <td>08</td>\n",
       "      <td>19</td>\n",
       "      <td>17</td>\n",
       "      <td>4</td>\n",
       "      <td>4.0</td>\n",
       "      <td>4.0</td>\n",
       "      <td>4.0</td>\n",
       "    </tr>\n",
       "    <tr>\n",
       "      <th>2</th>\n",
       "      <td>08</td>\n",
       "      <td>19</td>\n",
       "      <td>18</td>\n",
       "      <td>3</td>\n",
       "      <td>3.0</td>\n",
       "      <td>3.0</td>\n",
       "      <td>3.0</td>\n",
       "    </tr>\n",
       "    <tr>\n",
       "      <th>3</th>\n",
       "      <td>08</td>\n",
       "      <td>19</td>\n",
       "      <td>19</td>\n",
       "      <td>4</td>\n",
       "      <td>4.0</td>\n",
       "      <td>5.0</td>\n",
       "      <td>4.0</td>\n",
       "    </tr>\n",
       "    <tr>\n",
       "      <th>4</th>\n",
       "      <td>08</td>\n",
       "      <td>19</td>\n",
       "      <td>20</td>\n",
       "      <td>4</td>\n",
       "      <td>4.0</td>\n",
       "      <td>3.0</td>\n",
       "      <td>4.0</td>\n",
       "    </tr>\n",
       "  </tbody>\n",
       "</table>\n",
       "</div>"
      ],
      "text/plain": [
       "    m   d   h  cam0  cam1  cam2  cam3\n",
       "0  08  19  16     2   2.0   2.0   2.0\n",
       "1  08  19  17     4   4.0   4.0   4.0\n",
       "2  08  19  18     3   3.0   3.0   3.0\n",
       "3  08  19  19     4   4.0   5.0   4.0\n",
       "4  08  19  20     4   4.0   3.0   4.0"
      ]
     },
     "execution_count": 566,
     "metadata": {},
     "output_type": "execute_result"
    }
   ],
   "source": [
    "df_all.head()"
   ]
  },
  {
   "cell_type": "code",
   "execution_count": 567,
   "metadata": {
    "ExecuteTime": {
     "end_time": "2017-01-18T18:30:48.537734",
     "start_time": "2017-01-18T18:30:48.528346"
    },
    "collapsed": false,
    "hidden": true
   },
   "outputs": [],
   "source": [
    "df_all['summ'] = df_all.ix[:,3:].sum(axis=1)"
   ]
  },
  {
   "cell_type": "code",
   "execution_count": 568,
   "metadata": {
    "ExecuteTime": {
     "end_time": "2017-01-18T18:30:59.908816",
     "start_time": "2017-01-18T18:30:59.880715"
    },
    "collapsed": false,
    "hidden": true
   },
   "outputs": [
    {
     "data": {
      "text/html": [
       "<div>\n",
       "<table border=\"1\" class=\"dataframe\">\n",
       "  <thead>\n",
       "    <tr style=\"text-align: right;\">\n",
       "      <th></th>\n",
       "      <th>m</th>\n",
       "      <th>d</th>\n",
       "      <th>h</th>\n",
       "      <th>cam0</th>\n",
       "      <th>cam1</th>\n",
       "      <th>cam2</th>\n",
       "      <th>cam3</th>\n",
       "      <th>summ</th>\n",
       "    </tr>\n",
       "  </thead>\n",
       "  <tbody>\n",
       "    <tr>\n",
       "      <th>0</th>\n",
       "      <td>08</td>\n",
       "      <td>19</td>\n",
       "      <td>16</td>\n",
       "      <td>2</td>\n",
       "      <td>2.0</td>\n",
       "      <td>2.0</td>\n",
       "      <td>2.0</td>\n",
       "      <td>8.0</td>\n",
       "    </tr>\n",
       "    <tr>\n",
       "      <th>1</th>\n",
       "      <td>08</td>\n",
       "      <td>19</td>\n",
       "      <td>17</td>\n",
       "      <td>4</td>\n",
       "      <td>4.0</td>\n",
       "      <td>4.0</td>\n",
       "      <td>4.0</td>\n",
       "      <td>16.0</td>\n",
       "    </tr>\n",
       "    <tr>\n",
       "      <th>2</th>\n",
       "      <td>08</td>\n",
       "      <td>19</td>\n",
       "      <td>18</td>\n",
       "      <td>3</td>\n",
       "      <td>3.0</td>\n",
       "      <td>3.0</td>\n",
       "      <td>3.0</td>\n",
       "      <td>12.0</td>\n",
       "    </tr>\n",
       "    <tr>\n",
       "      <th>3</th>\n",
       "      <td>08</td>\n",
       "      <td>19</td>\n",
       "      <td>19</td>\n",
       "      <td>4</td>\n",
       "      <td>4.0</td>\n",
       "      <td>5.0</td>\n",
       "      <td>4.0</td>\n",
       "      <td>17.0</td>\n",
       "    </tr>\n",
       "    <tr>\n",
       "      <th>4</th>\n",
       "      <td>08</td>\n",
       "      <td>19</td>\n",
       "      <td>20</td>\n",
       "      <td>4</td>\n",
       "      <td>4.0</td>\n",
       "      <td>3.0</td>\n",
       "      <td>4.0</td>\n",
       "      <td>15.0</td>\n",
       "    </tr>\n",
       "  </tbody>\n",
       "</table>\n",
       "</div>"
      ],
      "text/plain": [
       "    m   d   h  cam0  cam1  cam2  cam3  summ\n",
       "0  08  19  16     2   2.0   2.0   2.0   8.0\n",
       "1  08  19  17     4   4.0   4.0   4.0  16.0\n",
       "2  08  19  18     3   3.0   3.0   3.0  12.0\n",
       "3  08  19  19     4   4.0   5.0   4.0  17.0\n",
       "4  08  19  20     4   4.0   3.0   4.0  15.0"
      ]
     },
     "execution_count": 568,
     "metadata": {},
     "output_type": "execute_result"
    }
   ],
   "source": [
    "df_all.head()"
   ]
  },
  {
   "cell_type": "code",
   "execution_count": 589,
   "metadata": {
    "ExecuteTime": {
     "end_time": "2017-01-18T20:07:10.801147",
     "start_time": "2017-01-18T20:07:10.768453"
    },
    "collapsed": false,
    "hidden": true
   },
   "outputs": [
    {
     "data": {
      "text/html": [
       "<div>\n",
       "<table border=\"1\" class=\"dataframe\">\n",
       "  <thead>\n",
       "    <tr style=\"text-align: right;\">\n",
       "      <th></th>\n",
       "      <th>m</th>\n",
       "      <th>d</th>\n",
       "      <th>h</th>\n",
       "      <th>cam0</th>\n",
       "      <th>cam1</th>\n",
       "      <th>cam2</th>\n",
       "      <th>cam3</th>\n",
       "      <th>summ</th>\n",
       "    </tr>\n",
       "  </thead>\n",
       "  <tbody>\n",
       "    <tr>\n",
       "      <th>1595</th>\n",
       "      <td>10</td>\n",
       "      <td>26</td>\n",
       "      <td>06</td>\n",
       "      <td>6</td>\n",
       "      <td>6.0</td>\n",
       "      <td>6.0</td>\n",
       "      <td>6.0</td>\n",
       "      <td>24.0</td>\n",
       "    </tr>\n",
       "    <tr>\n",
       "      <th>1596</th>\n",
       "      <td>10</td>\n",
       "      <td>26</td>\n",
       "      <td>07</td>\n",
       "      <td>11</td>\n",
       "      <td>10.0</td>\n",
       "      <td>10.0</td>\n",
       "      <td>11.0</td>\n",
       "      <td>42.0</td>\n",
       "    </tr>\n",
       "    <tr>\n",
       "      <th>1597</th>\n",
       "      <td>10</td>\n",
       "      <td>26</td>\n",
       "      <td>08</td>\n",
       "      <td>6</td>\n",
       "      <td>1.0</td>\n",
       "      <td>1.0</td>\n",
       "      <td>10.0</td>\n",
       "      <td>18.0</td>\n",
       "    </tr>\n",
       "    <tr>\n",
       "      <th>1598</th>\n",
       "      <td>10</td>\n",
       "      <td>26</td>\n",
       "      <td>09</td>\n",
       "      <td>11</td>\n",
       "      <td>10.0</td>\n",
       "      <td>10.0</td>\n",
       "      <td>10.0</td>\n",
       "      <td>41.0</td>\n",
       "    </tr>\n",
       "    <tr>\n",
       "      <th>1599</th>\n",
       "      <td>10</td>\n",
       "      <td>26</td>\n",
       "      <td>10</td>\n",
       "      <td>2</td>\n",
       "      <td>2.0</td>\n",
       "      <td>2.0</td>\n",
       "      <td>0.0</td>\n",
       "      <td>6.0</td>\n",
       "    </tr>\n",
       "  </tbody>\n",
       "</table>\n",
       "</div>"
      ],
      "text/plain": [
       "       m   d   h  cam0  cam1  cam2  cam3  summ\n",
       "1595  10  26  06     6   6.0   6.0   6.0  24.0\n",
       "1596  10  26  07    11  10.0  10.0  11.0  42.0\n",
       "1597  10  26  08     6   1.0   1.0  10.0  18.0\n",
       "1598  10  26  09    11  10.0  10.0  10.0  41.0\n",
       "1599  10  26  10     2   2.0   2.0   0.0   6.0"
      ]
     },
     "execution_count": 589,
     "metadata": {},
     "output_type": "execute_result"
    }
   ],
   "source": [
    "df_all.tail()"
   ]
  },
  {
   "cell_type": "code",
   "execution_count": 569,
   "metadata": {
    "ExecuteTime": {
     "end_time": "2017-01-18T18:31:05.133715",
     "start_time": "2017-01-18T18:31:04.826702"
    },
    "collapsed": false,
    "hidden": true
   },
   "outputs": [
    {
     "data": {
      "text/plain": [
       "<matplotlib.axes._subplots.AxesSubplot at 0x7fcc3410d5c0>"
      ]
     },
     "execution_count": 569,
     "metadata": {},
     "output_type": "execute_result"
    },
    {
     "data": {
      "image/png": "[encoded data removed]",
      "text/plain": [
       "<matplotlib.figure.Figure at 0x7fcc25460080>"
      ]
     },
     "metadata": {},
     "output_type": "display_data"
    }
   ],
   "source": [
    "df_all.summ.plot.box()"
   ]
  },
  {
   "cell_type": "code",
   "execution_count": 570,
   "metadata": {
    "ExecuteTime": {
     "end_time": "2017-01-18T18:31:09.122626",
     "start_time": "2017-01-18T18:31:09.109748"
    },
    "collapsed": false,
    "hidden": true
   },
   "outputs": [
    {
     "data": {
      "text/plain": [
       "count    1600.000000\n",
       "mean       41.631875\n",
       "std         4.772378\n",
       "min         2.000000\n",
       "25%        40.000000\n",
       "50%        43.000000\n",
       "75%        44.000000\n",
       "max        84.000000\n",
       "Name: summ, dtype: float64"
      ]
     },
     "execution_count": 570,
     "metadata": {},
     "output_type": "execute_result"
    }
   ],
   "source": [
    "df_all.summ.describe()"
   ]
  },
  {
   "cell_type": "markdown",
   "metadata": {
    "hidden": true
   },
   "source": [
    "## Verlauf über die Zeit"
   ]
  },
  {
   "cell_type": "code",
   "execution_count": 571,
   "metadata": {
    "ExecuteTime": {
     "end_time": "2017-01-18T18:31:51.843530",
     "start_time": "2017-01-18T18:31:50.549164"
    },
    "collapsed": false,
    "hidden": true
   },
   "outputs": [
    {
     "data": {
      "text/plain": [
       "<matplotlib.text.Text at 0x7fcc253dadd8>"
      ]
     },
     "execution_count": 571,
     "metadata": {},
     "output_type": "execute_result"
    },
    {
     "data": {
      "image/png": "[encoded data removed]",
      "text/plain": [
       "<matplotlib.figure.Figure at 0x7fcc26cff3c8>"
      ]
     },
     "metadata": {},
     "output_type": "display_data"
    }
   ],
   "source": [
    "fig, axes = plt.subplots()\n",
    "df_all.summ.plot()\n",
    "fig.set_size_inches(60,10)\n",
    "axes.set_title(\"Number of files per day and hour\")\n",
    "axes.set_xlabel(\"Hours\")\n",
    "axes.set_ylabel(\"Number of files\")"
   ]
  },
  {
   "cell_type": "code",
   "execution_count": 575,
   "metadata": {
    "ExecuteTime": {
     "end_time": "2017-01-18T18:32:56.434785",
     "start_time": "2017-01-18T18:32:56.034111"
    },
    "collapsed": false,
    "hidden": true
   },
   "outputs": [
    {
     "data": {
      "text/plain": [
       "<matplotlib.axes._subplots.AxesSubplot at 0x7fcc253af198>"
      ]
     },
     "execution_count": 575,
     "metadata": {},
     "output_type": "execute_result"
    },
    {
     "data": {
      "image/png": "[encoded data removed]",
      "text/plain": [
       "<matplotlib.figure.Figure at 0x7fcc269ece48>"
      ]
     },
     "metadata": {},
     "output_type": "display_data"
    }
   ],
   "source": [
    "fig, axes = plt.subplots()\n",
    "fig.set_size_inches(20,5)\n",
    "df_all.cam0.plot()"
   ]
  },
  {
   "cell_type": "markdown",
   "metadata": {
    "hidden": true
   },
   "source": [
    "## Schlechte Tage"
   ]
  },
  {
   "cell_type": "code",
   "execution_count": 593,
   "metadata": {
    "ExecuteTime": {
     "end_time": "2017-01-18T20:48:37.219137",
     "start_time": "2017-01-18T20:48:37.176947"
    },
    "collapsed": false,
    "hidden": true
   },
   "outputs": [
    {
     "data": {
      "text/plain": [
       "[('08', '19'),\n",
       " ('08', '20'),\n",
       " ('08', '27'),\n",
       " ('09', '01'),\n",
       " ('09', '21'),\n",
       " ('09', '23'),\n",
       " ('09', '27'),\n",
       " ('09', '28'),\n",
       " ('10', '05'),\n",
       " ('10', '12'),\n",
       " ('10', '25'),\n",
       " ('10', '26')]"
      ]
     },
     "execution_count": 593,
     "metadata": {},
     "output_type": "execute_result"
    }
   ],
   "source": [
    "list(df_all.query(\"summ > 44 | summ <40\").iloc[:,:2].apply(lambda x: (x.m, x.d), axis=1).unique())"
   ]
  },
  {
   "cell_type": "code",
   "execution_count": 573,
   "metadata": {
    "ExecuteTime": {
     "end_time": "2017-01-18T18:32:08.087669",
     "start_time": "2017-01-18T18:32:08.055532"
    },
    "collapsed": false,
    "hidden": true
   },
   "outputs": [
    {
     "data": {
      "text/html": [
       "<div>\n",
       "<table border=\"1\" class=\"dataframe\">\n",
       "  <thead>\n",
       "    <tr style=\"text-align: right;\">\n",
       "      <th></th>\n",
       "      <th>m</th>\n",
       "      <th>d</th>\n",
       "      <th>h</th>\n",
       "      <th>cam0</th>\n",
       "      <th>cam1</th>\n",
       "      <th>cam2</th>\n",
       "      <th>cam3</th>\n",
       "      <th>summ</th>\n",
       "    </tr>\n",
       "  </thead>\n",
       "  <tbody>\n",
       "    <tr>\n",
       "      <th>25</th>\n",
       "      <td>08</td>\n",
       "      <td>20</td>\n",
       "      <td>17</td>\n",
       "      <td>14</td>\n",
       "      <td>14.0</td>\n",
       "      <td>14.0</td>\n",
       "      <td>14.0</td>\n",
       "      <td>56.0</td>\n",
       "    </tr>\n",
       "    <tr>\n",
       "      <th>765</th>\n",
       "      <td>09</td>\n",
       "      <td>21</td>\n",
       "      <td>05</td>\n",
       "      <td>19</td>\n",
       "      <td>19.0</td>\n",
       "      <td>18.0</td>\n",
       "      <td>19.0</td>\n",
       "      <td>75.0</td>\n",
       "    </tr>\n",
       "    <tr>\n",
       "      <th>906</th>\n",
       "      <td>09</td>\n",
       "      <td>27</td>\n",
       "      <td>05</td>\n",
       "      <td>16</td>\n",
       "      <td>17.0</td>\n",
       "      <td>17.0</td>\n",
       "      <td>17.0</td>\n",
       "      <td>67.0</td>\n",
       "    </tr>\n",
       "    <tr>\n",
       "      <th>1566</th>\n",
       "      <td>10</td>\n",
       "      <td>25</td>\n",
       "      <td>01</td>\n",
       "      <td>21</td>\n",
       "      <td>21.0</td>\n",
       "      <td>21.0</td>\n",
       "      <td>21.0</td>\n",
       "      <td>84.0</td>\n",
       "    </tr>\n",
       "  </tbody>\n",
       "</table>\n",
       "</div>"
      ],
      "text/plain": [
       "       m   d   h  cam0  cam1  cam2  cam3  summ\n",
       "25    08  20  17    14  14.0  14.0  14.0  56.0\n",
       "765   09  21  05    19  19.0  18.0  19.0  75.0\n",
       "906   09  27  05    16  17.0  17.0  17.0  67.0\n",
       "1566  10  25  01    21  21.0  21.0  21.0  84.0"
      ]
     },
     "execution_count": 573,
     "metadata": {},
     "output_type": "execute_result"
    }
   ],
   "source": [
    "df_all[df_all.summ > 44]"
   ]
  },
  {
   "cell_type": "code",
   "execution_count": 574,
   "metadata": {
    "ExecuteTime": {
     "end_time": "2017-01-18T18:32:08.572643",
     "start_time": "2017-01-18T18:32:08.528308"
    },
    "collapsed": false,
    "hidden": true
   },
   "outputs": [
    {
     "data": {
      "text/html": [
       "<div>\n",
       "<table border=\"1\" class=\"dataframe\">\n",
       "  <thead>\n",
       "    <tr style=\"text-align: right;\">\n",
       "      <th></th>\n",
       "      <th>m</th>\n",
       "      <th>d</th>\n",
       "      <th>h</th>\n",
       "      <th>cam0</th>\n",
       "      <th>cam1</th>\n",
       "      <th>cam2</th>\n",
       "      <th>cam3</th>\n",
       "      <th>summ</th>\n",
       "    </tr>\n",
       "  </thead>\n",
       "  <tbody>\n",
       "    <tr>\n",
       "      <th>0</th>\n",
       "      <td>08</td>\n",
       "      <td>19</td>\n",
       "      <td>16</td>\n",
       "      <td>2</td>\n",
       "      <td>2.0</td>\n",
       "      <td>2.0</td>\n",
       "      <td>2.0</td>\n",
       "      <td>8.0</td>\n",
       "    </tr>\n",
       "    <tr>\n",
       "      <th>1</th>\n",
       "      <td>08</td>\n",
       "      <td>19</td>\n",
       "      <td>17</td>\n",
       "      <td>4</td>\n",
       "      <td>4.0</td>\n",
       "      <td>4.0</td>\n",
       "      <td>4.0</td>\n",
       "      <td>16.0</td>\n",
       "    </tr>\n",
       "    <tr>\n",
       "      <th>2</th>\n",
       "      <td>08</td>\n",
       "      <td>19</td>\n",
       "      <td>18</td>\n",
       "      <td>3</td>\n",
       "      <td>3.0</td>\n",
       "      <td>3.0</td>\n",
       "      <td>3.0</td>\n",
       "      <td>12.0</td>\n",
       "    </tr>\n",
       "    <tr>\n",
       "      <th>3</th>\n",
       "      <td>08</td>\n",
       "      <td>19</td>\n",
       "      <td>19</td>\n",
       "      <td>4</td>\n",
       "      <td>4.0</td>\n",
       "      <td>5.0</td>\n",
       "      <td>4.0</td>\n",
       "      <td>17.0</td>\n",
       "    </tr>\n",
       "    <tr>\n",
       "      <th>4</th>\n",
       "      <td>08</td>\n",
       "      <td>19</td>\n",
       "      <td>20</td>\n",
       "      <td>4</td>\n",
       "      <td>4.0</td>\n",
       "      <td>3.0</td>\n",
       "      <td>4.0</td>\n",
       "      <td>15.0</td>\n",
       "    </tr>\n",
       "    <tr>\n",
       "      <th>5</th>\n",
       "      <td>08</td>\n",
       "      <td>19</td>\n",
       "      <td>21</td>\n",
       "      <td>3</td>\n",
       "      <td>4.0</td>\n",
       "      <td>4.0</td>\n",
       "      <td>4.0</td>\n",
       "      <td>15.0</td>\n",
       "    </tr>\n",
       "    <tr>\n",
       "      <th>6</th>\n",
       "      <td>08</td>\n",
       "      <td>19</td>\n",
       "      <td>22</td>\n",
       "      <td>4</td>\n",
       "      <td>4.0</td>\n",
       "      <td>4.0</td>\n",
       "      <td>3.0</td>\n",
       "      <td>15.0</td>\n",
       "    </tr>\n",
       "    <tr>\n",
       "      <th>7</th>\n",
       "      <td>08</td>\n",
       "      <td>19</td>\n",
       "      <td>23</td>\n",
       "      <td>4</td>\n",
       "      <td>4.0</td>\n",
       "      <td>3.0</td>\n",
       "      <td>4.0</td>\n",
       "      <td>15.0</td>\n",
       "    </tr>\n",
       "    <tr>\n",
       "      <th>8</th>\n",
       "      <td>08</td>\n",
       "      <td>20</td>\n",
       "      <td>00</td>\n",
       "      <td>3</td>\n",
       "      <td>3.0</td>\n",
       "      <td>4.0</td>\n",
       "      <td>3.0</td>\n",
       "      <td>13.0</td>\n",
       "    </tr>\n",
       "    <tr>\n",
       "      <th>9</th>\n",
       "      <td>08</td>\n",
       "      <td>20</td>\n",
       "      <td>01</td>\n",
       "      <td>4</td>\n",
       "      <td>4.0</td>\n",
       "      <td>3.0</td>\n",
       "      <td>4.0</td>\n",
       "      <td>15.0</td>\n",
       "    </tr>\n",
       "    <tr>\n",
       "      <th>10</th>\n",
       "      <td>08</td>\n",
       "      <td>20</td>\n",
       "      <td>02</td>\n",
       "      <td>4</td>\n",
       "      <td>4.0</td>\n",
       "      <td>4.0</td>\n",
       "      <td>3.0</td>\n",
       "      <td>15.0</td>\n",
       "    </tr>\n",
       "    <tr>\n",
       "      <th>11</th>\n",
       "      <td>08</td>\n",
       "      <td>20</td>\n",
       "      <td>03</td>\n",
       "      <td>4</td>\n",
       "      <td>3.0</td>\n",
       "      <td>3.0</td>\n",
       "      <td>4.0</td>\n",
       "      <td>14.0</td>\n",
       "    </tr>\n",
       "    <tr>\n",
       "      <th>12</th>\n",
       "      <td>08</td>\n",
       "      <td>20</td>\n",
       "      <td>04</td>\n",
       "      <td>3</td>\n",
       "      <td>4.0</td>\n",
       "      <td>4.0</td>\n",
       "      <td>3.0</td>\n",
       "      <td>14.0</td>\n",
       "    </tr>\n",
       "    <tr>\n",
       "      <th>13</th>\n",
       "      <td>08</td>\n",
       "      <td>20</td>\n",
       "      <td>05</td>\n",
       "      <td>4</td>\n",
       "      <td>4.0</td>\n",
       "      <td>4.0</td>\n",
       "      <td>4.0</td>\n",
       "      <td>16.0</td>\n",
       "    </tr>\n",
       "    <tr>\n",
       "      <th>14</th>\n",
       "      <td>08</td>\n",
       "      <td>20</td>\n",
       "      <td>06</td>\n",
       "      <td>4</td>\n",
       "      <td>3.0</td>\n",
       "      <td>3.0</td>\n",
       "      <td>3.0</td>\n",
       "      <td>13.0</td>\n",
       "    </tr>\n",
       "    <tr>\n",
       "      <th>15</th>\n",
       "      <td>08</td>\n",
       "      <td>20</td>\n",
       "      <td>07</td>\n",
       "      <td>3</td>\n",
       "      <td>4.0</td>\n",
       "      <td>4.0</td>\n",
       "      <td>4.0</td>\n",
       "      <td>15.0</td>\n",
       "    </tr>\n",
       "    <tr>\n",
       "      <th>16</th>\n",
       "      <td>08</td>\n",
       "      <td>20</td>\n",
       "      <td>08</td>\n",
       "      <td>4</td>\n",
       "      <td>3.0</td>\n",
       "      <td>4.0</td>\n",
       "      <td>4.0</td>\n",
       "      <td>15.0</td>\n",
       "    </tr>\n",
       "    <tr>\n",
       "      <th>17</th>\n",
       "      <td>08</td>\n",
       "      <td>20</td>\n",
       "      <td>09</td>\n",
       "      <td>4</td>\n",
       "      <td>4.0</td>\n",
       "      <td>3.0</td>\n",
       "      <td>3.0</td>\n",
       "      <td>14.0</td>\n",
       "    </tr>\n",
       "    <tr>\n",
       "      <th>18</th>\n",
       "      <td>08</td>\n",
       "      <td>20</td>\n",
       "      <td>10</td>\n",
       "      <td>3</td>\n",
       "      <td>4.0</td>\n",
       "      <td>4.0</td>\n",
       "      <td>4.0</td>\n",
       "      <td>15.0</td>\n",
       "    </tr>\n",
       "    <tr>\n",
       "      <th>19</th>\n",
       "      <td>08</td>\n",
       "      <td>20</td>\n",
       "      <td>11</td>\n",
       "      <td>4</td>\n",
       "      <td>3.0</td>\n",
       "      <td>3.0</td>\n",
       "      <td>3.0</td>\n",
       "      <td>13.0</td>\n",
       "    </tr>\n",
       "    <tr>\n",
       "      <th>20</th>\n",
       "      <td>08</td>\n",
       "      <td>20</td>\n",
       "      <td>12</td>\n",
       "      <td>4</td>\n",
       "      <td>5.0</td>\n",
       "      <td>5.0</td>\n",
       "      <td>5.0</td>\n",
       "      <td>19.0</td>\n",
       "    </tr>\n",
       "    <tr>\n",
       "      <th>22</th>\n",
       "      <td>08</td>\n",
       "      <td>20</td>\n",
       "      <td>14</td>\n",
       "      <td>7</td>\n",
       "      <td>7.0</td>\n",
       "      <td>7.0</td>\n",
       "      <td>7.0</td>\n",
       "      <td>28.0</td>\n",
       "    </tr>\n",
       "    <tr>\n",
       "      <th>23</th>\n",
       "      <td>08</td>\n",
       "      <td>20</td>\n",
       "      <td>15</td>\n",
       "      <td>6</td>\n",
       "      <td>7.0</td>\n",
       "      <td>7.0</td>\n",
       "      <td>7.0</td>\n",
       "      <td>27.0</td>\n",
       "    </tr>\n",
       "    <tr>\n",
       "      <th>24</th>\n",
       "      <td>08</td>\n",
       "      <td>20</td>\n",
       "      <td>16</td>\n",
       "      <td>7</td>\n",
       "      <td>7.0</td>\n",
       "      <td>8.0</td>\n",
       "      <td>7.0</td>\n",
       "      <td>29.0</td>\n",
       "    </tr>\n",
       "    <tr>\n",
       "      <th>26</th>\n",
       "      <td>08</td>\n",
       "      <td>20</td>\n",
       "      <td>18</td>\n",
       "      <td>1</td>\n",
       "      <td>1.0</td>\n",
       "      <td>1.0</td>\n",
       "      <td>1.0</td>\n",
       "      <td>4.0</td>\n",
       "    </tr>\n",
       "    <tr>\n",
       "      <th>177</th>\n",
       "      <td>08</td>\n",
       "      <td>27</td>\n",
       "      <td>01</td>\n",
       "      <td>1</td>\n",
       "      <td>0.0</td>\n",
       "      <td>0.0</td>\n",
       "      <td>1.0</td>\n",
       "      <td>2.0</td>\n",
       "    </tr>\n",
       "    <tr>\n",
       "      <th>178</th>\n",
       "      <td>08</td>\n",
       "      <td>27</td>\n",
       "      <td>08</td>\n",
       "      <td>6</td>\n",
       "      <td>7.0</td>\n",
       "      <td>6.0</td>\n",
       "      <td>7.0</td>\n",
       "      <td>26.0</td>\n",
       "    </tr>\n",
       "    <tr>\n",
       "      <th>300</th>\n",
       "      <td>09</td>\n",
       "      <td>01</td>\n",
       "      <td>10</td>\n",
       "      <td>8</td>\n",
       "      <td>8.0</td>\n",
       "      <td>8.0</td>\n",
       "      <td>8.0</td>\n",
       "      <td>32.0</td>\n",
       "    </tr>\n",
       "    <tr>\n",
       "      <th>301</th>\n",
       "      <td>09</td>\n",
       "      <td>01</td>\n",
       "      <td>13</td>\n",
       "      <td>8</td>\n",
       "      <td>8.0</td>\n",
       "      <td>8.0</td>\n",
       "      <td>8.0</td>\n",
       "      <td>32.0</td>\n",
       "    </tr>\n",
       "    <tr>\n",
       "      <th>817</th>\n",
       "      <td>09</td>\n",
       "      <td>23</td>\n",
       "      <td>09</td>\n",
       "      <td>4</td>\n",
       "      <td>4.0</td>\n",
       "      <td>4.0</td>\n",
       "      <td>4.0</td>\n",
       "      <td>16.0</td>\n",
       "    </tr>\n",
       "    <tr>\n",
       "      <th>818</th>\n",
       "      <td>09</td>\n",
       "      <td>23</td>\n",
       "      <td>13</td>\n",
       "      <td>6</td>\n",
       "      <td>6.0</td>\n",
       "      <td>6.0</td>\n",
       "      <td>6.0</td>\n",
       "      <td>24.0</td>\n",
       "    </tr>\n",
       "    <tr>\n",
       "      <th>932</th>\n",
       "      <td>09</td>\n",
       "      <td>28</td>\n",
       "      <td>07</td>\n",
       "      <td>3</td>\n",
       "      <td>4.0</td>\n",
       "      <td>3.0</td>\n",
       "      <td>3.0</td>\n",
       "      <td>13.0</td>\n",
       "    </tr>\n",
       "    <tr>\n",
       "      <th>933</th>\n",
       "      <td>09</td>\n",
       "      <td>28</td>\n",
       "      <td>11</td>\n",
       "      <td>3</td>\n",
       "      <td>2.0</td>\n",
       "      <td>2.0</td>\n",
       "      <td>2.0</td>\n",
       "      <td>9.0</td>\n",
       "    </tr>\n",
       "    <tr>\n",
       "      <th>934</th>\n",
       "      <td>09</td>\n",
       "      <td>28</td>\n",
       "      <td>16</td>\n",
       "      <td>8</td>\n",
       "      <td>8.0</td>\n",
       "      <td>8.0</td>\n",
       "      <td>8.0</td>\n",
       "      <td>32.0</td>\n",
       "    </tr>\n",
       "    <tr>\n",
       "      <th>1089</th>\n",
       "      <td>10</td>\n",
       "      <td>05</td>\n",
       "      <td>03</td>\n",
       "      <td>6</td>\n",
       "      <td>6.0</td>\n",
       "      <td>6.0</td>\n",
       "      <td>6.0</td>\n",
       "      <td>24.0</td>\n",
       "    </tr>\n",
       "    <tr>\n",
       "      <th>1090</th>\n",
       "      <td>10</td>\n",
       "      <td>05</td>\n",
       "      <td>04</td>\n",
       "      <td>1</td>\n",
       "      <td>1.0</td>\n",
       "      <td>1.0</td>\n",
       "      <td>1.0</td>\n",
       "      <td>4.0</td>\n",
       "    </tr>\n",
       "    <tr>\n",
       "      <th>1268</th>\n",
       "      <td>10</td>\n",
       "      <td>12</td>\n",
       "      <td>14</td>\n",
       "      <td>9</td>\n",
       "      <td>9.0</td>\n",
       "      <td>9.0</td>\n",
       "      <td>9.0</td>\n",
       "      <td>36.0</td>\n",
       "    </tr>\n",
       "    <tr>\n",
       "      <th>1595</th>\n",
       "      <td>10</td>\n",
       "      <td>26</td>\n",
       "      <td>06</td>\n",
       "      <td>6</td>\n",
       "      <td>6.0</td>\n",
       "      <td>6.0</td>\n",
       "      <td>6.0</td>\n",
       "      <td>24.0</td>\n",
       "    </tr>\n",
       "    <tr>\n",
       "      <th>1597</th>\n",
       "      <td>10</td>\n",
       "      <td>26</td>\n",
       "      <td>08</td>\n",
       "      <td>6</td>\n",
       "      <td>1.0</td>\n",
       "      <td>1.0</td>\n",
       "      <td>10.0</td>\n",
       "      <td>18.0</td>\n",
       "    </tr>\n",
       "    <tr>\n",
       "      <th>1599</th>\n",
       "      <td>10</td>\n",
       "      <td>26</td>\n",
       "      <td>10</td>\n",
       "      <td>2</td>\n",
       "      <td>2.0</td>\n",
       "      <td>2.0</td>\n",
       "      <td>0.0</td>\n",
       "      <td>6.0</td>\n",
       "    </tr>\n",
       "  </tbody>\n",
       "</table>\n",
       "</div>"
      ],
      "text/plain": [
       "       m   d   h  cam0  cam1  cam2  cam3  summ\n",
       "0     08  19  16     2   2.0   2.0   2.0   8.0\n",
       "1     08  19  17     4   4.0   4.0   4.0  16.0\n",
       "2     08  19  18     3   3.0   3.0   3.0  12.0\n",
       "3     08  19  19     4   4.0   5.0   4.0  17.0\n",
       "4     08  19  20     4   4.0   3.0   4.0  15.0\n",
       "5     08  19  21     3   4.0   4.0   4.0  15.0\n",
       "6     08  19  22     4   4.0   4.0   3.0  15.0\n",
       "7     08  19  23     4   4.0   3.0   4.0  15.0\n",
       "8     08  20  00     3   3.0   4.0   3.0  13.0\n",
       "9     08  20  01     4   4.0   3.0   4.0  15.0\n",
       "10    08  20  02     4   4.0   4.0   3.0  15.0\n",
       "11    08  20  03     4   3.0   3.0   4.0  14.0\n",
       "12    08  20  04     3   4.0   4.0   3.0  14.0\n",
       "13    08  20  05     4   4.0   4.0   4.0  16.0\n",
       "14    08  20  06     4   3.0   3.0   3.0  13.0\n",
       "15    08  20  07     3   4.0   4.0   4.0  15.0\n",
       "16    08  20  08     4   3.0   4.0   4.0  15.0\n",
       "17    08  20  09     4   4.0   3.0   3.0  14.0\n",
       "18    08  20  10     3   4.0   4.0   4.0  15.0\n",
       "19    08  20  11     4   3.0   3.0   3.0  13.0\n",
       "20    08  20  12     4   5.0   5.0   5.0  19.0\n",
       "22    08  20  14     7   7.0   7.0   7.0  28.0\n",
       "23    08  20  15     6   7.0   7.0   7.0  27.0\n",
       "24    08  20  16     7   7.0   8.0   7.0  29.0\n",
       "26    08  20  18     1   1.0   1.0   1.0   4.0\n",
       "177   08  27  01     1   0.0   0.0   1.0   2.0\n",
       "178   08  27  08     6   7.0   6.0   7.0  26.0\n",
       "300   09  01  10     8   8.0   8.0   8.0  32.0\n",
       "301   09  01  13     8   8.0   8.0   8.0  32.0\n",
       "817   09  23  09     4   4.0   4.0   4.0  16.0\n",
       "818   09  23  13     6   6.0   6.0   6.0  24.0\n",
       "932   09  28  07     3   4.0   3.0   3.0  13.0\n",
       "933   09  28  11     3   2.0   2.0   2.0   9.0\n",
       "934   09  28  16     8   8.0   8.0   8.0  32.0\n",
       "1089  10  05  03     6   6.0   6.0   6.0  24.0\n",
       "1090  10  05  04     1   1.0   1.0   1.0   4.0\n",
       "1268  10  12  14     9   9.0   9.0   9.0  36.0\n",
       "1595  10  26  06     6   6.0   6.0   6.0  24.0\n",
       "1597  10  26  08     6   1.0   1.0  10.0  18.0\n",
       "1599  10  26  10     2   2.0   2.0   0.0   6.0"
      ]
     },
     "execution_count": 574,
     "metadata": {},
     "output_type": "execute_result"
    }
   ],
   "source": [
    "df_all[df_all.summ < 40]"
   ]
  },
  {
   "cell_type": "markdown",
   "metadata": {
    "hidden": true
   },
   "source": [
    "## Teilbarkeit durch 4 :D"
   ]
  },
  {
   "cell_type": "code",
   "execution_count": 496,
   "metadata": {
    "ExecuteTime": {
     "end_time": "2017-01-18T18:03:34.880548",
     "start_time": "2017-01-18T18:03:34.862575"
    },
    "collapsed": false,
    "hidden": true
   },
   "outputs": [
    {
     "data": {
      "text/plain": [
       "253.0"
      ]
     },
     "execution_count": 496,
     "metadata": {},
     "output_type": "execute_result"
    }
   ],
   "source": [
    "sum(df_all.query(\"m=='08' & d=='23'\").summ)/4"
   ]
  },
  {
   "cell_type": "markdown",
   "metadata": {
    "heading_collapsed": true
   },
   "source": [
    "# Eine Stunde genauer anschauen: '08', '19', '19'"
   ]
  },
  {
   "cell_type": "code",
   "execution_count": 576,
   "metadata": {
    "ExecuteTime": {
     "end_time": "2017-01-18T18:33:45.866646",
     "start_time": "2017-01-18T18:33:45.850754"
    },
    "collapsed": true,
    "hidden": true
   },
   "outputs": [],
   "source": [
    "repo2 = Repository(\"/mnt/data/2015081919/\")"
   ]
  },
  {
   "cell_type": "code",
   "execution_count": 577,
   "metadata": {
    "ExecuteTime": {
     "end_time": "2017-01-18T18:33:48.210960",
     "start_time": "2017-01-18T18:33:48.197705"
    },
    "collapsed": false,
    "hidden": true
   },
   "outputs": [],
   "source": [
    "fff = list(repo2.iter_fnames())"
   ]
  },
  {
   "cell_type": "code",
   "execution_count": 578,
   "metadata": {
    "ExecuteTime": {
     "end_time": "2017-01-18T18:33:52.461980",
     "start_time": "2017-01-18T18:33:52.255658"
    },
    "collapsed": false,
    "hidden": true
   },
   "outputs": [
    {
     "name": "stdout",
     "output_type": "stream",
     "text": [
      "148 Cam_2_2015-08-19T19:00:00.987534Z--2015-08-19T19:02:27.999943Z.bbb\n",
      "1024 Cam_0_2015-08-19T19:00:01.571568Z--2015-08-19T19:17:04.664086Z.bbb\n",
      "1024 Cam_1_2015-08-19T19:00:01.646573Z--2015-08-19T19:17:04.733089Z.bbb\n",
      "532 Cam_3_2015-08-19T19:00:01.956589Z--2015-08-19T19:08:52.999963Z.bbb\n",
      "1024 Cam_2_2015-08-19T19:02:29Z--2015-08-19T19:19:32.083518Z.bbb\n",
      "1024 Cam_3_2015-08-19T19:08:54.000021Z--2015-08-19T19:25:57.083539Z.bbb\n",
      "1024 Cam_0_2015-08-19T19:17:05.664143Z--2015-08-19T19:34:08.756660Z.bbb\n",
      "1024 Cam_1_2015-08-19T19:17:05.733146Z--2015-08-19T19:34:08.820663Z.bbb\n",
      "1024 Cam_2_2015-08-19T19:19:33.083575Z--2015-08-19T19:36:36.171092Z.bbb\n",
      "1024 Cam_3_2015-08-19T19:25:58.083595Z--2015-08-19T19:43:01.167113Z.bbb\n",
      "1024 Cam_0_2015-08-19T19:34:09.756717Z--2015-08-19T19:51:12.848234Z.bbb\n",
      "1024 Cam_1_2015-08-19T19:34:09.820722Z--2015-08-19T19:51:12.907238Z.bbb\n",
      "1024 Cam_2_2015-08-19T19:36:37.171149Z--2015-08-19T19:53:40.263667Z.bbb\n",
      "1024 Cam_3_2015-08-19T19:43:02.167170Z--2015-08-19T20:00:05.250686Z.bbb\n",
      "1024 Cam_0_2015-08-19T19:51:13.849292Z--2015-08-19T20:08:16.940809Z.bbb\n",
      "1024 Cam_1_2015-08-19T19:51:13.907295Z--2015-08-19T20:08:16.994812Z.bbb\n",
      "1024 Cam_2_2015-08-19T19:53:41.263724Z--2015-08-19T20:10:44.357242Z.bbb\n"
     ]
    }
   ],
   "source": [
    "for i in list(range(len(fff))):\n",
    "    fc = load_frame_container(fff[i])\n",
    "    print(len(fc.frames), fff[i].split(\"/\")[-1])"
   ]
  },
  {
   "cell_type": "code",
   "execution_count": 579,
   "metadata": {
    "ExecuteTime": {
     "end_time": "2017-01-18T18:33:56.191640",
     "start_time": "2017-01-18T18:33:56.183230"
    },
    "collapsed": false,
    "hidden": true
   },
   "outputs": [
    {
     "data": {
      "text/plain": [
       "1024"
      ]
     },
     "execution_count": 579,
     "metadata": {},
     "output_type": "execute_result"
    }
   ],
   "source": [
    "len(fc.frames)"
   ]
  },
  {
   "cell_type": "markdown",
   "metadata": {
    "heading_collapsed": true
   },
   "source": [
    "# Anzahl an Kamera Dateien"
   ]
  },
  {
   "cell_type": "code",
   "execution_count": 580,
   "metadata": {
    "ExecuteTime": {
     "end_time": "2017-01-18T18:34:07.529314",
     "start_time": "2017-01-18T18:34:07.524021"
    },
    "collapsed": true,
    "hidden": true
   },
   "outputs": [],
   "source": [
    "repo3 = Repository(\"/mnt/data/all/\")"
   ]
  },
  {
   "cell_type": "code",
   "execution_count": 581,
   "metadata": {
    "ExecuteTime": {
     "end_time": "2017-01-18T18:34:22.320179",
     "start_time": "2017-01-18T18:34:11.601142"
    },
    "collapsed": true,
    "hidden": true
   },
   "outputs": [],
   "source": [
    "file = list(repo3.iter_fnames())"
   ]
  },
  {
   "cell_type": "code",
   "execution_count": 582,
   "metadata": {
    "ExecuteTime": {
     "end_time": "2017-01-18T18:34:26.962166",
     "start_time": "2017-01-18T18:34:26.953495"
    },
    "collapsed": false,
    "hidden": true
   },
   "outputs": [
    {
     "data": {
      "text/plain": [
       "16652.75"
      ]
     },
     "execution_count": 582,
     "metadata": {},
     "output_type": "execute_result"
    }
   ],
   "source": [
    "(len(file))/4"
   ]
  },
  {
   "cell_type": "code",
   "execution_count": 583,
   "metadata": {
    "ExecuteTime": {
     "end_time": "2017-01-18T18:35:15.282926",
     "start_time": "2017-01-18T18:35:15.270622"
    },
    "collapsed": false,
    "hidden": true
   },
   "outputs": [
    {
     "data": {
      "text/plain": [
       "['/mnt/data/all/2015/10/26/09/40/Cam_0_2015-10-26T09:41:32.622534Z--2015-10-26T09:47:13.640039Z.bbb',\n",
       " '/mnt/data/all/2015/10/26/09/40/Cam_1_2015-10-26T09:42:34.251060Z--2015-10-26T09:48:15.269565Z.bbb',\n",
       " '/mnt/data/all/2015/10/26/09/40/Cam_2_2015-10-26T09:42:50.531991Z--2015-10-26T09:48:31.549495Z.bbb',\n",
       " '/mnt/data/all/2015/10/26/09/40/Cam_3_2015-10-26T09:47:13.911056Z--2015-10-26T09:52:54.928560Z.bbb',\n",
       " '/mnt/data/all/2015/10/26/09/40/Cam_0_2015-10-26T09:47:13.974059Z--2015-10-26T09:52:54.991564Z.bbb',\n",
       " '/mnt/data/all/2015/10/26/09/40/Cam_1_2015-10-26T09:48:15.602583Z--2015-10-26T09:53:56.620089Z.bbb',\n",
       " '/mnt/data/all/2015/10/26/09/40/Cam_2_2015-10-26T09:48:31.883514Z--2015-10-26T09:54:12.901021Z.bbb',\n",
       " '/mnt/data/all/2015/10/26/09/40/Cam_3_2015-10-26T09:52:55.261579Z--2015-10-26T10:12:58.649410Z.bbb',\n",
       " '/mnt/data/all/2015/10/26/09/40/Cam_0_2015-10-26T09:52:55.325583Z--2015-10-26T09:58:36.343089Z.bbb',\n",
       " '/mnt/data/all/2015/10/26/09/40/Cam_1_2015-10-26T09:53:56.953108Z--2015-10-26T09:59:37.981614Z.bbb',\n",
       " '/mnt/data/all/2015/10/26/09/40/Cam_2_2015-10-26T09:54:13.234040Z--2015-10-26T09:59:54.252545Z.bbb',\n",
       " '/mnt/data/all/2015/10/26/09/40/Cam_0_2015-10-26T09:58:36.676107Z--2015-10-26T10:04:17.694612Z.bbb',\n",
       " '/mnt/data/all/2015/10/26/09/40/Cam_1_2015-10-26T09:59:38.314632Z--2015-10-26T10:05:19.323137Z.bbb',\n",
       " '/mnt/data/all/2015/10/26/09/40/Cam_2_2015-10-26T09:59:54.585563Z--2015-10-26T10:05:35.604068Z.bbb',\n",
       " '/mnt/data/all/2015/10/26/10/00/Cam_0_2015-10-26T10:04:18.027631Z--2015-10-26T10:09:59.046137Z.bbb',\n",
       " '/mnt/data/all/2015/10/26/10/00/Cam_1_2015-10-26T10:05:19.656157Z--2015-10-26T10:11:00.675662Z.bbb',\n",
       " '/mnt/data/all/2015/10/26/10/00/Cam_2_2015-10-26T10:05:35.937088Z--2015-10-26T10:11:16.954592Z.bbb',\n",
       " '/mnt/data/all/2015/10/26/10/00/Cam_0_2015-10-26T10:09:59.379156Z--2015-10-26T10:12:57.388338Z.bbb',\n",
       " '/mnt/data/all/2015/10/26/10/00/Cam_1_2015-10-26T10:11:01.007680Z--2015-10-26T10:12:26.011543Z.bbb',\n",
       " '/mnt/data/all/2015/10/26/10/00/Cam_2_2015-10-26T10:11:17.288611Z--2015-10-26T10:12:42.293473Z.bbb']"
      ]
     },
     "execution_count": 583,
     "metadata": {},
     "output_type": "execute_result"
    }
   ],
   "source": [
    "file[-20:]"
   ]
  },
  {
   "cell_type": "code",
   "execution_count": 584,
   "metadata": {
    "ExecuteTime": {
     "end_time": "2017-01-18T18:35:20.461720",
     "start_time": "2017-01-18T18:35:20.451863"
    },
    "collapsed": false,
    "hidden": true
   },
   "outputs": [],
   "source": [
    "file = file[0:66611-12]"
   ]
  },
  {
   "cell_type": "code",
   "execution_count": 585,
   "metadata": {
    "ExecuteTime": {
     "end_time": "2017-01-18T18:35:22.594201",
     "start_time": "2017-01-18T18:35:22.585159"
    },
    "collapsed": false,
    "hidden": true
   },
   "outputs": [
    {
     "data": {
      "text/plain": [
       "66599"
      ]
     },
     "execution_count": 585,
     "metadata": {},
     "output_type": "execute_result"
    }
   ],
   "source": [
    "len(file)"
   ]
  },
  {
   "cell_type": "markdown",
   "metadata": {
    "hidden": true
   },
   "source": [
    "Am letzten Tag ist irgendwas mit der Camera 3 komisch."
   ]
  },
  {
   "cell_type": "markdown",
   "metadata": {
    "heading_collapsed": true
   },
   "source": [
    "# Wie oft gibt es welche Dateien (kameras)"
   ]
  },
  {
   "cell_type": "code",
   "execution_count": 586,
   "metadata": {
    "ExecuteTime": {
     "end_time": "2017-01-18T18:35:35.400264",
     "start_time": "2017-01-18T18:35:35.265591"
    },
    "collapsed": true,
    "hidden": true
   },
   "outputs": [],
   "source": [
    "a = [int(f.split('/')[-1].split(\"_\")[1]) for f in file]"
   ]
  },
  {
   "cell_type": "code",
   "execution_count": 587,
   "metadata": {
    "ExecuteTime": {
     "end_time": "2017-01-18T18:35:36.244705",
     "start_time": "2017-01-18T18:35:36.214708"
    },
    "collapsed": false,
    "hidden": true
   },
   "outputs": [],
   "source": [
    "dfa = DataFrame(a, columns=[\"A\"])"
   ]
  },
  {
   "cell_type": "code",
   "execution_count": 588,
   "metadata": {
    "ExecuteTime": {
     "end_time": "2017-01-18T18:35:37.042263",
     "start_time": "2017-01-18T18:35:37.011629"
    },
    "collapsed": false,
    "hidden": true
   },
   "outputs": [
    {
     "data": {
      "text/plain": [
       "Counter({0: 16650, 1: 16646, 2: 16647, 3: 16656})"
      ]
     },
     "execution_count": 588,
     "metadata": {},
     "output_type": "execute_result"
    }
   ],
   "source": [
    "Counter(list(dfa.A))"
   ]
  },
  {
   "cell_type": "markdown",
   "metadata": {},
   "source": [
    "# Versatz der Dateien"
   ]
  },
  {
   "cell_type": "code",
   "execution_count": 725,
   "metadata": {
    "ExecuteTime": {
     "end_time": "2017-01-20T10:47:21.921909",
     "start_time": "2017-01-20T10:47:21.901055"
    },
    "collapsed": false
   },
   "outputs": [
    {
     "data": {
      "text/plain": [
       "cam0    254.0\n",
       "cam1    254.0\n",
       "cam2    254.0\n",
       "cam3    254.0\n",
       "dtype: float64"
      ]
     },
     "execution_count": 725,
     "metadata": {},
     "output_type": "execute_result"
    }
   ],
   "source": [
    "df_all.query(\"m=='08' & d=='21'\").iloc[:,3:7].sum()"
   ]
  },
  {
   "cell_type": "code",
   "execution_count": 614,
   "metadata": {
    "ExecuteTime": {
     "end_time": "2017-01-18T21:33:05.390542",
     "start_time": "2017-01-18T21:33:05.384075"
    },
    "collapsed": false
   },
   "outputs": [],
   "source": [
    "gr1 = df_all.groupby(by=[\"m\", \"d\"])"
   ]
  },
  {
   "cell_type": "code",
   "execution_count": 623,
   "metadata": {
    "ExecuteTime": {
     "end_time": "2017-01-18T21:38:42.568895",
     "start_time": "2017-01-18T21:38:42.512981"
    },
    "collapsed": false
   },
   "outputs": [],
   "source": [
    "gr1sum = gr1.apply(sum)"
   ]
  },
  {
   "cell_type": "markdown",
   "metadata": {},
   "source": [
    "## An welchen Tagen stimmt die Anzahl der Dateien pro Kamera nicht überein?"
   ]
  },
  {
   "cell_type": "code",
   "execution_count": 629,
   "metadata": {
    "ExecuteTime": {
     "end_time": "2017-01-18T21:43:31.956772",
     "start_time": "2017-01-18T21:43:31.938102"
    },
    "collapsed": false
   },
   "outputs": [],
   "source": [
    "gr1sum[\"same\"] = (gr1sum.cam0 == gr1sum.cam1) & (gr1sum.cam0 == gr1sum.cam2) & (gr1sum.cam0 == gr1sum.cam3)"
   ]
  },
  {
   "cell_type": "code",
   "execution_count": 638,
   "metadata": {
    "ExecuteTime": {
     "end_time": "2017-01-18T21:52:04.797544",
     "start_time": "2017-01-18T21:52:04.739196"
    },
    "collapsed": false
   },
   "outputs": [
    {
     "data": {
      "text/html": [
       "<div>\n",
       "<table border=\"1\" class=\"dataframe\">\n",
       "  <thead>\n",
       "    <tr style=\"text-align: right;\">\n",
       "      <th></th>\n",
       "      <th></th>\n",
       "      <th>m</th>\n",
       "      <th>d</th>\n",
       "      <th>h</th>\n",
       "      <th>cam0</th>\n",
       "      <th>cam1</th>\n",
       "      <th>cam2</th>\n",
       "      <th>cam3</th>\n",
       "      <th>summ</th>\n",
       "      <th>same</th>\n",
       "    </tr>\n",
       "    <tr>\n",
       "      <th>m</th>\n",
       "      <th>d</th>\n",
       "      <th></th>\n",
       "      <th></th>\n",
       "      <th></th>\n",
       "      <th></th>\n",
       "      <th></th>\n",
       "      <th></th>\n",
       "      <th></th>\n",
       "      <th></th>\n",
       "      <th></th>\n",
       "    </tr>\n",
       "  </thead>\n",
       "  <tbody>\n",
       "    <tr>\n",
       "      <th rowspan=\"3\" valign=\"top\">08</th>\n",
       "      <th>19</th>\n",
       "      <td>8.080808e+14</td>\n",
       "      <td>1.919192e+15</td>\n",
       "      <td>1.617182e+15</td>\n",
       "      <td>28.0</td>\n",
       "      <td>29.0</td>\n",
       "      <td>28.0</td>\n",
       "      <td>28.0</td>\n",
       "      <td>113.0</td>\n",
       "      <td>False</td>\n",
       "    </tr>\n",
       "    <tr>\n",
       "      <th>20</th>\n",
       "      <td>8.080808e+46</td>\n",
       "      <td>2.020202e+47</td>\n",
       "      <td>1.020304e+44</td>\n",
       "      <td>145.0</td>\n",
       "      <td>147.0</td>\n",
       "      <td>149.0</td>\n",
       "      <td>146.0</td>\n",
       "      <td>587.0</td>\n",
       "      <td>False</td>\n",
       "    </tr>\n",
       "    <tr>\n",
       "      <th>27</th>\n",
       "      <td>8.080808e+34</td>\n",
       "      <td>2.727273e+35</td>\n",
       "      <td>1.080910e+32</td>\n",
       "      <td>177.0</td>\n",
       "      <td>176.0</td>\n",
       "      <td>176.0</td>\n",
       "      <td>177.0</td>\n",
       "      <td>706.0</td>\n",
       "      <td>False</td>\n",
       "    </tr>\n",
       "    <tr>\n",
       "      <th rowspan=\"4\" valign=\"top\">09</th>\n",
       "      <th>18</th>\n",
       "      <td>9.090909e+46</td>\n",
       "      <td>1.818182e+47</td>\n",
       "      <td>1.020304e+44</td>\n",
       "      <td>253.0</td>\n",
       "      <td>253.0</td>\n",
       "      <td>254.0</td>\n",
       "      <td>253.0</td>\n",
       "      <td>1013.0</td>\n",
       "      <td>False</td>\n",
       "    </tr>\n",
       "    <tr>\n",
       "      <th>19</th>\n",
       "      <td>9.090909e+46</td>\n",
       "      <td>1.919192e+47</td>\n",
       "      <td>1.020304e+44</td>\n",
       "      <td>254.0</td>\n",
       "      <td>254.0</td>\n",
       "      <td>253.0</td>\n",
       "      <td>254.0</td>\n",
       "      <td>1015.0</td>\n",
       "      <td>False</td>\n",
       "    </tr>\n",
       "    <tr>\n",
       "      <th>27</th>\n",
       "      <td>9.090909e+46</td>\n",
       "      <td>2.727273e+47</td>\n",
       "      <td>1.020304e+44</td>\n",
       "      <td>258.0</td>\n",
       "      <td>259.0</td>\n",
       "      <td>259.0</td>\n",
       "      <td>259.0</td>\n",
       "      <td>1035.0</td>\n",
       "      <td>False</td>\n",
       "    </tr>\n",
       "    <tr>\n",
       "      <th>28</th>\n",
       "      <td>9.090909e+32</td>\n",
       "      <td>2.828283e+33</td>\n",
       "      <td>1.020304e+30</td>\n",
       "      <td>161.0</td>\n",
       "      <td>161.0</td>\n",
       "      <td>160.0</td>\n",
       "      <td>160.0</td>\n",
       "      <td>642.0</td>\n",
       "      <td>False</td>\n",
       "    </tr>\n",
       "    <tr>\n",
       "      <th rowspan=\"3\" valign=\"top\">10</th>\n",
       "      <th>17</th>\n",
       "      <td>1.010101e+47</td>\n",
       "      <td>1.717172e+47</td>\n",
       "      <td>1.020304e+44</td>\n",
       "      <td>253.0</td>\n",
       "      <td>253.0</td>\n",
       "      <td>253.0</td>\n",
       "      <td>254.0</td>\n",
       "      <td>1013.0</td>\n",
       "      <td>False</td>\n",
       "    </tr>\n",
       "    <tr>\n",
       "      <th>18</th>\n",
       "      <td>1.010101e+47</td>\n",
       "      <td>1.818182e+47</td>\n",
       "      <td>1.020304e+44</td>\n",
       "      <td>254.0</td>\n",
       "      <td>254.0</td>\n",
       "      <td>254.0</td>\n",
       "      <td>253.0</td>\n",
       "      <td>1015.0</td>\n",
       "      <td>False</td>\n",
       "    </tr>\n",
       "    <tr>\n",
       "      <th>26</th>\n",
       "      <td>1.010101e+21</td>\n",
       "      <td>2.626263e+21</td>\n",
       "      <td>1.020304e+18</td>\n",
       "      <td>98.0</td>\n",
       "      <td>91.0</td>\n",
       "      <td>92.0</td>\n",
       "      <td>99.0</td>\n",
       "      <td>380.0</td>\n",
       "      <td>False</td>\n",
       "    </tr>\n",
       "  </tbody>\n",
       "</table>\n",
       "</div>"
      ],
      "text/plain": [
       "                  m             d             h   cam0   cam1   cam2   cam3  \\\n",
       "m  d                                                                          \n",
       "08 19  8.080808e+14  1.919192e+15  1.617182e+15   28.0   29.0   28.0   28.0   \n",
       "   20  8.080808e+46  2.020202e+47  1.020304e+44  145.0  147.0  149.0  146.0   \n",
       "   27  8.080808e+34  2.727273e+35  1.080910e+32  177.0  176.0  176.0  177.0   \n",
       "09 18  9.090909e+46  1.818182e+47  1.020304e+44  253.0  253.0  254.0  253.0   \n",
       "   19  9.090909e+46  1.919192e+47  1.020304e+44  254.0  254.0  253.0  254.0   \n",
       "   27  9.090909e+46  2.727273e+47  1.020304e+44  258.0  259.0  259.0  259.0   \n",
       "   28  9.090909e+32  2.828283e+33  1.020304e+30  161.0  161.0  160.0  160.0   \n",
       "10 17  1.010101e+47  1.717172e+47  1.020304e+44  253.0  253.0  253.0  254.0   \n",
       "   18  1.010101e+47  1.818182e+47  1.020304e+44  254.0  254.0  254.0  253.0   \n",
       "   26  1.010101e+21  2.626263e+21  1.020304e+18   98.0   91.0   92.0   99.0   \n",
       "\n",
       "         summ   same  \n",
       "m  d                  \n",
       "08 19   113.0  False  \n",
       "   20   587.0  False  \n",
       "   27   706.0  False  \n",
       "09 18  1013.0  False  \n",
       "   19  1015.0  False  \n",
       "   27  1035.0  False  \n",
       "   28   642.0  False  \n",
       "10 17  1013.0  False  \n",
       "   18  1015.0  False  \n",
       "   26   380.0  False  "
      ]
     },
     "execution_count": 638,
     "metadata": {},
     "output_type": "execute_result"
    }
   ],
   "source": [
    "gr1sum[gr1sum.same == False]"
   ]
  },
  {
   "cell_type": "markdown",
   "metadata": {
    "ExecuteTime": {
     "end_time": "2017-01-18T21:57:11.041289",
     "start_time": "2017-01-18T21:57:11.028477"
    }
   },
   "source": [
    "## Wie ist der Versatz der Kameras an den guten Tagen? - PRO TAG\n",
    "* z.B. 21.08. bis 26.08.\n",
    "* 28-31\n",
    "* 02.09.-17.09. und so weiter\n",
    "\n",
    "\n",
    "Wenn die Kameras so ziemlich parallel laufen, dann wäre ja alles ganz schön."
   ]
  },
  {
   "cell_type": "code",
   "execution_count": 875,
   "metadata": {
    "ExecuteTime": {
     "end_time": "2017-01-20T12:12:01.287711",
     "start_time": "2017-01-20T12:12:01.278178"
    },
    "collapsed": true
   },
   "outputs": [],
   "source": [
    "good = {8: [21,22,23,24,25,26,28,29,30,31],\n",
    "        9:[2,3,4,5,6,7,8,9,10,11,12,13,14,15,16,17,20,22,24,25,26,29,30],\n",
    "        10:[1,2,3,4,6,7,8,9,10,11,13,14,15,16,19,20,21,22,23,24]}"
   ]
  },
  {
   "cell_type": "code",
   "execution_count": 876,
   "metadata": {
    "ExecuteTime": {
     "end_time": "2017-01-20T12:12:02.183607",
     "start_time": "2017-01-20T12:12:02.173299"
    },
    "collapsed": false
   },
   "outputs": [],
   "source": [
    "def toTimestamp(dt):\n",
    "    try:\n",
    "        timestamp = datetime.datetime.strptime(dt, \"%Y-%m-%dT%H:%M:%S.%fZ\")\n",
    "    except ValueError:\n",
    "        timestamp = datetime.datetime.strptime(dt, \"%Y-%m-%dT%H:%M:%SZ\")\n",
    "        \n",
    "    return datetime.datetime.timestamp(timestamp)"
   ]
  },
  {
   "cell_type": "code",
   "execution_count": 877,
   "metadata": {
    "ExecuteTime": {
     "end_time": "2017-01-20T12:12:09.784610",
     "start_time": "2017-01-20T12:12:09.759244"
    },
    "collapsed": true
   },
   "outputs": [],
   "source": [
    "def getDiffsForDay(df, m,d):\n",
    "    flist = list(df.query(\"m=='{}' & d=='{}'\".format(m,d)).file)\n",
    "    flist = np.array(flist).reshape(int(len(flist)/4),4)\n",
    "\n",
    "    # Timestamps aus den files extrahieren\n",
    "    ts = []\n",
    "    for fl in flist:\n",
    "        start = []\n",
    "        for f in fl:\n",
    "            d = f.split(\"--\")[0].split(\"_\")[-1]\n",
    "            start.append(toTimestamp(d))\n",
    "\n",
    "        ts.append(start)\n",
    "    \n",
    "    dfts = DataFrame(ts)\n",
    "    \n",
    "    # Paarweise Differenz bestimmen\n",
    "    dfts_tuples = dfts.apply(lambda x: Series([(i,j)  for e,i in enumerate(x) for j in x[e+1:]]), axis=1)\n",
    "    dfts_diffs = dfts_tuples.applymap(lambda x: abs(x[0]-x[1]))\n",
    "    \n",
    "    return dfts_diffs"
   ]
  },
  {
   "cell_type": "code",
   "execution_count": 902,
   "metadata": {
    "ExecuteTime": {
     "end_time": "2017-01-20T12:25:30.571090",
     "start_time": "2017-01-20T12:25:12.927636"
    },
    "collapsed": false,
    "scrolled": false
   },
   "outputs": [],
   "source": [
    "results = []\n",
    "for item in good:\n",
    "    for d in good[item]:\n",
    "        results.append((item, d, getDiffsForDay(df,str(item).zfill(2), str(d).zfill(2))))"
   ]
  },
  {
   "cell_type": "code",
   "execution_count": 886,
   "metadata": {
    "ExecuteTime": {
     "end_time": "2017-01-20T12:16:17.761412",
     "start_time": "2017-01-20T12:16:17.708491"
    },
    "collapsed": false,
    "scrolled": false
   },
   "outputs": [],
   "source": [
    "data = []\n",
    "for m,d,r in results:\n",
    "    data.append((m,d,r.min(axis=1).min(), r.max(axis=1).max()))"
   ]
  },
  {
   "cell_type": "code",
   "execution_count": 890,
   "metadata": {
    "ExecuteTime": {
     "end_time": "2017-01-20T12:17:23.686208",
     "start_time": "2017-01-20T12:17:23.672184"
    },
    "collapsed": false
   },
   "outputs": [],
   "source": [
    "df_plotting = DataFrame(data, columns=[\"month\", \"day\", \"mindiff\", \"maxdiff\"])"
   ]
  },
  {
   "cell_type": "code",
   "execution_count": 924,
   "metadata": {
    "ExecuteTime": {
     "end_time": "2017-01-20T12:43:55.769496",
     "start_time": "2017-01-20T12:43:55.474738"
    },
    "collapsed": false
   },
   "outputs": [
    {
     "data": {
      "text/plain": [
       "<matplotlib.text.Text at 0x7fcc01f91358>"
      ]
     },
     "execution_count": 924,
     "metadata": {},
     "output_type": "execute_result"
    },
    {
     "data": {
      "image/png": "[encoded data removed]",
      "text/plain": [
       "<matplotlib.figure.Figure at 0x7fcc01fc8550>"
      ]
     },
     "metadata": {},
     "output_type": "display_data"
    }
   ],
   "source": [
    "axes = df_plotting.mindiff.plot()\n",
    "axes.set_title(\"Min Diff of timestamps \\nbetween all cams (only good days)\")\n",
    "axes.set_xlabel(\"days\")\n",
    "axes.set_ylabel(\"diff in s\")"
   ]
  },
  {
   "cell_type": "code",
   "execution_count": 913,
   "metadata": {
    "ExecuteTime": {
     "end_time": "2017-01-20T12:36:30.502402",
     "start_time": "2017-01-20T12:36:30.471620"
    },
    "collapsed": false
   },
   "outputs": [
    {
     "data": {
      "text/html": [
       "<div>\n",
       "<table border=\"1\" class=\"dataframe\">\n",
       "  <thead>\n",
       "    <tr style=\"text-align: right;\">\n",
       "      <th></th>\n",
       "      <th>mindiff</th>\n",
       "    </tr>\n",
       "  </thead>\n",
       "  <tbody>\n",
       "    <tr>\n",
       "      <th>count</th>\n",
       "      <td>53.000000</td>\n",
       "    </tr>\n",
       "    <tr>\n",
       "      <th>mean</th>\n",
       "      <td>0.316356</td>\n",
       "    </tr>\n",
       "    <tr>\n",
       "      <th>std</th>\n",
       "      <td>0.627328</td>\n",
       "    </tr>\n",
       "    <tr>\n",
       "      <th>min</th>\n",
       "      <td>0.000000</td>\n",
       "    </tr>\n",
       "    <tr>\n",
       "      <th>25%</th>\n",
       "      <td>0.011000</td>\n",
       "    </tr>\n",
       "    <tr>\n",
       "      <th>50%</th>\n",
       "      <td>0.083005</td>\n",
       "    </tr>\n",
       "    <tr>\n",
       "      <th>75%</th>\n",
       "      <td>0.300016</td>\n",
       "    </tr>\n",
       "    <tr>\n",
       "      <th>max</th>\n",
       "      <td>3.056175</td>\n",
       "    </tr>\n",
       "  </tbody>\n",
       "</table>\n",
       "</div>"
      ],
      "text/plain": [
       "         mindiff\n",
       "count  53.000000\n",
       "mean    0.316356\n",
       "std     0.627328\n",
       "min     0.000000\n",
       "25%     0.011000\n",
       "50%     0.083005\n",
       "75%     0.300016\n",
       "max     3.056175"
      ]
     },
     "execution_count": 913,
     "metadata": {},
     "output_type": "execute_result"
    }
   ],
   "source": [
    "DataFrame(df_plotting.mindiff.describe())"
   ]
  },
  {
   "cell_type": "code",
   "execution_count": 923,
   "metadata": {
    "ExecuteTime": {
     "end_time": "2017-01-20T12:43:49.312609",
     "start_time": "2017-01-20T12:43:49.019894"
    },
    "collapsed": false
   },
   "outputs": [
    {
     "data": {
      "text/plain": [
       "<matplotlib.text.Text at 0x7fcc02032ac8>"
      ]
     },
     "execution_count": 923,
     "metadata": {},
     "output_type": "execute_result"
    },
    {
     "data": {
      "image/png": "[encoded data removed]",
      "text/plain": [
       "<matplotlib.figure.Figure at 0x7fcc02063390>"
      ]
     },
     "metadata": {},
     "output_type": "display_data"
    }
   ],
   "source": [
    "axes = df_plotting.maxdiff.plot()\n",
    "axes.set_title(\"Max Diff of timestamps \\nbetween all cams (only good days)\")\n",
    "axes.set_xlabel(\"days\")\n",
    "axes.set_ylabel(\"diff in s\")"
   ]
  },
  {
   "cell_type": "code",
   "execution_count": 914,
   "metadata": {
    "ExecuteTime": {
     "end_time": "2017-01-20T12:36:40.021738",
     "start_time": "2017-01-20T12:36:39.999381"
    },
    "collapsed": false
   },
   "outputs": [
    {
     "data": {
      "text/html": [
       "<div>\n",
       "<table border=\"1\" class=\"dataframe\">\n",
       "  <thead>\n",
       "    <tr style=\"text-align: right;\">\n",
       "      <th></th>\n",
       "      <th>maxdiff</th>\n",
       "    </tr>\n",
       "  </thead>\n",
       "  <tbody>\n",
       "    <tr>\n",
       "      <th>count</th>\n",
       "      <td>53.000000</td>\n",
       "    </tr>\n",
       "    <tr>\n",
       "      <th>mean</th>\n",
       "      <td>14.179849</td>\n",
       "    </tr>\n",
       "    <tr>\n",
       "      <th>std</th>\n",
       "      <td>25.989530</td>\n",
       "    </tr>\n",
       "    <tr>\n",
       "      <th>min</th>\n",
       "      <td>1.044060</td>\n",
       "    </tr>\n",
       "    <tr>\n",
       "      <th>25%</th>\n",
       "      <td>2.433140</td>\n",
       "    </tr>\n",
       "    <tr>\n",
       "      <th>50%</th>\n",
       "      <td>4.267245</td>\n",
       "    </tr>\n",
       "    <tr>\n",
       "      <th>75%</th>\n",
       "      <td>7.733444</td>\n",
       "    </tr>\n",
       "    <tr>\n",
       "      <th>max</th>\n",
       "      <td>93.408343</td>\n",
       "    </tr>\n",
       "  </tbody>\n",
       "</table>\n",
       "</div>"
      ],
      "text/plain": [
       "         maxdiff\n",
       "count  53.000000\n",
       "mean   14.179849\n",
       "std    25.989530\n",
       "min     1.044060\n",
       "25%     2.433140\n",
       "50%     4.267245\n",
       "75%     7.733444\n",
       "max    93.408343"
      ]
     },
     "execution_count": 914,
     "metadata": {},
     "output_type": "execute_result"
    }
   ],
   "source": [
    "DataFrame(df_plotting.maxdiff.describe())"
   ]
  },
  {
   "cell_type": "code",
   "execution_count": 927,
   "metadata": {
    "ExecuteTime": {
     "end_time": "2017-01-20T12:47:43.450588",
     "start_time": "2017-01-20T12:47:43.435583"
    },
    "collapsed": false
   },
   "outputs": [
    {
     "data": {
      "text/plain": [
       "280.2250292301178"
      ]
     },
     "execution_count": 927,
     "metadata": {},
     "output_type": "execute_result"
    }
   ],
   "source": [
    "df_plotting.maxdiff.describe().max()*3"
   ]
  },
  {
   "cell_type": "markdown",
   "metadata": {},
   "source": [
    "# get_Frames genauer anschauen!"
   ]
  },
  {
   "cell_type": "code",
   "execution_count": 945,
   "metadata": {
    "ExecuteTime": {
     "end_time": "2017-01-20T14:10:20.154318",
     "start_time": "2017-01-20T14:10:20.145257"
    },
    "collapsed": true
   },
   "outputs": [],
   "source": [
    "pall = \"/mnt/data/all/\"\n",
    "\n",
    "repoall = Repository(pall)\n",
    "\n",
    "m=\"08\"\n",
    "d=\"21\"\n",
    "h=\"00\"\n",
    "begin = \"2015-{}-{}T{}:00:00Z\".format(m,d,h) # %Y-%m-%dT%H:%M:%SZ\n",
    "begin_ts = datetime.datetime.timestamp(datetime.datetime.strptime(begin, \"%Y-%m-%dT%H:%M:%SZ\"))\n",
    "end_ts = begin_ts + 60*60"
   ]
  },
  {
   "cell_type": "code",
   "execution_count": 1001,
   "metadata": {
    "ExecuteTime": {
     "end_time": "2017-01-20T14:39:59.409492",
     "start_time": "2017-01-20T14:39:53.850647"
    },
    "collapsed": false
   },
   "outputs": [],
   "source": [
    "parts = [None, None, None, None]\n",
    "\n",
    "for i in list(range(4)):\n",
    "    \n",
    "    tmp = []\n",
    "    for frame, fc in repoall.iter_frames(begin=begin_ts, end=end_ts, cam=i):\n",
    "        tmp.append([frame.timestamp, fc.camId, fc.id, frame.frameIdx, frame.id])\n",
    "    \n",
    "    parts[i] = DataFrame(tmp, columns=['timestamp', 'cam', 'fcid', 'frameIdx', 'frameid'])\n",
    "\n",
    "tsdf = pd.concat([parts[0].timestamp, parts[1].timestamp, parts[2].timestamp, parts[3].timestamp], axis=1 )"
   ]
  },
  {
   "cell_type": "code",
   "execution_count": 1003,
   "metadata": {
    "ExecuteTime": {
     "end_time": "2017-01-20T14:40:11.145219",
     "start_time": "2017-01-20T14:39:59.430898"
    },
    "collapsed": false
   },
   "outputs": [],
   "source": [
    "# Paarweise Differenz bestimmen\n",
    "tsdf_tuples = tsdf.apply(lambda x: Series([(i,j)  for e,i in enumerate(x) for j in x[e+1:]]), axis=1)\n",
    "tsdf_diffs = tsdf_tuples.applymap(lambda x: abs(x[0]-x[1]))"
   ]
  },
  {
   "cell_type": "code",
   "execution_count": 1004,
   "metadata": {
    "ExecuteTime": {
     "end_time": "2017-01-20T14:40:11.159967",
     "start_time": "2017-01-20T14:40:11.148932"
    },
    "collapsed": false
   },
   "outputs": [
    {
     "data": {
      "text/plain": [
       "0.095005989074707031"
      ]
     },
     "execution_count": 1004,
     "metadata": {},
     "output_type": "execute_result"
    }
   ],
   "source": [
    "tsdf_diffs.max().max()"
   ]
  },
  {
   "cell_type": "code",
   "execution_count": 1064,
   "metadata": {
    "ExecuteTime": {
     "end_time": "2017-01-22T10:46:55.457548",
     "start_time": "2017-01-22T10:46:55.423635"
    },
    "collapsed": true
   },
   "outputs": [],
   "source": [
    "def getDiffMaxPerHour(repoall, m, d, h):\n",
    "    \n",
    "    # FROM - TO festlegen\n",
    "    begin = \"2015-{}-{}T{}:00:00Z\".format(m,d,h) # %Y-%m-%dT%H:%M:%SZ\n",
    "    begin_ts = datetime.datetime.timestamp(datetime.datetime.strptime(begin, \"%Y-%m-%dT%H:%M:%SZ\"))\n",
    "    end_ts = begin_ts + 60*60\n",
    "\n",
    "    parts = [None, None, None, None]\n",
    "\n",
    "    # Get Frames for each cam\n",
    "    for i in list(range(4)):\n",
    "\n",
    "        tmp = []\n",
    "        for frame, fc in repoall.iter_frames(begin=begin_ts, end=end_ts, cam=i):\n",
    "            tmp.append([frame.timestamp, fc.camId, fc.id, frame.frameIdx, frame.id])\n",
    "\n",
    "        parts[i] = DataFrame(tmp, columns=['timestamp', 'cam', 'fcid', 'frameIdx', 'frameid'])\n",
    "    \n",
    "    # Dataframe with all timestamps each column is a camera\n",
    "    tsdf = pd.concat([parts[0].timestamp, parts[1].timestamp, parts[2].timestamp, parts[3].timestamp], axis=1 )\n",
    "    \n",
    "    # Paarweise Differenz bestimmen\n",
    "    tsdf_tuples = tsdf.apply(lambda x: Series([(i,j)  for e,i in enumerate(x) for j in x[e+1:]]), axis=1)\n",
    "    tsdf_diffs = tsdf_tuples.applymap(lambda x: abs(x[0]-x[1]))\n",
    "    \n",
    "    #return tsdf_diffs.max().max()\n",
    "    return tsdf_diffs"
   ]
  },
  {
   "cell_type": "code",
   "execution_count": 1024,
   "metadata": {
    "ExecuteTime": {
     "end_time": "2017-01-21T21:49:15.338562",
     "start_time": "2017-01-21T21:48:58.872675"
    },
    "collapsed": false
   },
   "outputs": [
    {
     "data": {
      "text/plain": [
       "0.095005989074707031"
      ]
     },
     "execution_count": 1024,
     "metadata": {},
     "output_type": "execute_result"
    }
   ],
   "source": [
    "getDiffMaxPerHour(repoall, \"08\", \"21\", \"00\")"
   ]
  },
  {
   "cell_type": "code",
   "execution_count": null,
   "metadata": {
    "ExecuteTime": {
     "start_time": "2017-01-21T22:38:36.317Z"
    },
    "collapsed": false,
    "scrolled": true
   },
   "outputs": [
    {
     "name": "stdout",
     "output_type": "stream",
     "text": [
      "8 21 0\n",
      "8 21 1\n",
      "8 21 2\n",
      "8 21 3\n",
      "8 21 4\n",
      "8 21 5\n",
      "8 21 6\n",
      "8 21 7\n",
      "8 21 8\n",
      "8 21 9\n",
      "8 21 10\n",
      "8 21 11\n",
      "8 21 12\n",
      "8 21 13\n",
      "8 21 14\n",
      "8 21 15\n",
      "8 21 16\n",
      "8 21 17\n",
      "8 21 18\n",
      "8 21 19\n",
      "8 21 20\n",
      "8 21 21\n",
      "8 21 22\n",
      "8 21 23\n",
      "8 22 0\n",
      "8 22 1\n",
      "8 22 2\n",
      "8 22 3\n",
      "8 22 4\n",
      "8 22 5\n",
      "8 22 6\n",
      "8 22 7\n",
      "8 22 8\n",
      "8 22 9\n",
      "8 22 10\n",
      "8 22 11\n",
      "8 22 12\n",
      "8 22 13\n",
      "8 22 14\n",
      "8 22 15\n",
      "8 22 16\n",
      "8 22 17\n",
      "8 22 18\n",
      "8 22 19\n",
      "8 22 20\n",
      "8 22 21\n",
      "8 22 22\n",
      "8 22 23\n",
      "8 23 0\n",
      "8 23 1\n",
      "8 23 2\n",
      "8 23 3\n",
      "8 23 4\n",
      "8 23 5\n",
      "8 23 6\n",
      "8 23 7\n",
      "8 23 8\n",
      "8 23 9\n",
      "8 23 10\n",
      "8 23 11\n",
      "8 23 12\n",
      "8 23 13\n",
      "8 23 14\n",
      "8 23 15\n",
      "8 23 16\n",
      "8 23 17\n",
      "8 23 18\n",
      "8 23 19\n",
      "8 23 20\n",
      "8 23 21\n",
      "8 23 22\n",
      "8 23 23\n",
      "8 24 0\n",
      "8 24 1\n",
      "8 24 2\n",
      "8 24 3\n",
      "8 24 4\n",
      "8 24 5\n",
      "8 24 6\n",
      "8 24 7\n",
      "8 24 8\n",
      "8 24 9\n",
      "8 24 10\n",
      "8 24 11\n",
      "8 24 12\n",
      "8 24 13\n",
      "8 24 14\n",
      "8 24 15\n",
      "8 24 16\n",
      "8 24 17\n",
      "8 24 18\n",
      "8 24 19\n",
      "8 24 20\n",
      "8 24 21\n",
      "8 24 22\n",
      "8 24 23\n",
      "8 25 0\n",
      "8 25 1\n",
      "8 25 2\n",
      "8 25 3\n",
      "8 25 4\n",
      "8 25 5\n",
      "8 25 6\n",
      "8 25 7\n",
      "8 25 8\n",
      "8 25 9\n",
      "8 25 10\n",
      "8 25 11\n",
      "8 25 12\n",
      "8 25 13\n",
      "8 25 14\n",
      "8 25 15\n",
      "8 25 16\n",
      "8 25 17\n",
      "8 25 18\n",
      "8 25 19\n",
      "8 25 20\n",
      "8 25 21\n",
      "8 25 22\n",
      "8 25 23\n",
      "8 26 0\n",
      "8 26 1\n",
      "8 26 2\n",
      "8 26 3\n",
      "8 26 4\n",
      "8 26 5\n",
      "8 26 6\n",
      "8 26 7\n",
      "8 26 8\n",
      "8 26 9\n",
      "8 26 10\n",
      "8 26 11\n",
      "8 26 12\n",
      "8 26 13\n",
      "8 26 14\n",
      "8 26 15\n",
      "8 26 16\n",
      "8 26 17\n",
      "8 26 18\n",
      "8 26 19\n",
      "8 26 20\n",
      "8 26 21\n",
      "8 26 22\n",
      "8 26 23\n",
      "8 28 0\n",
      "8 28 1\n",
      "8 28 2\n",
      "8 28 3\n",
      "8 28 4\n",
      "8 28 5\n",
      "8 28 6\n",
      "8 28 7\n",
      "8 28 8\n",
      "8 28 9\n",
      "8 28 10\n",
      "8 28 11\n",
      "8 28 12\n",
      "8 28 13\n",
      "8 28 14\n",
      "8 28 15\n",
      "8 28 16\n",
      "8 28 17\n",
      "8 28 18\n",
      "8 28 19\n",
      "8 28 20\n",
      "8 28 21\n",
      "8 28 22\n",
      "8 28 23\n",
      "8 29 0\n",
      "8 29 1\n",
      "8 29 2\n",
      "8 29 3\n",
      "8 29 4\n",
      "8 29 5\n",
      "8 29 6\n",
      "8 29 7\n",
      "8 29 8\n",
      "8 29 9\n",
      "8 29 10\n",
      "8 29 11\n",
      "8 29 12\n",
      "8 29 13\n",
      "8 29 14\n",
      "8 29 15\n",
      "8 29 16\n",
      "8 29 17\n",
      "8 29 18\n",
      "8 29 19\n",
      "8 29 20\n",
      "8 29 21\n",
      "8 29 22\n",
      "8 29 23\n",
      "8 30 0\n",
      "8 30 1\n",
      "8 30 2\n",
      "8 30 3\n",
      "8 30 4\n",
      "8 30 5\n",
      "8 30 6\n",
      "8 30 7\n",
      "8 30 8\n",
      "8 30 9\n",
      "8 30 10\n",
      "8 30 11\n",
      "8 30 12\n",
      "8 30 13\n",
      "8 30 14\n",
      "8 30 15\n",
      "8 30 16\n",
      "8 30 17\n",
      "8 30 18\n",
      "8 30 19\n",
      "8 30 20\n",
      "8 30 21\n",
      "8 30 22\n",
      "8 30 23\n",
      "8 31 0\n",
      "8 31 1\n",
      "8 31 2\n",
      "8 31 3\n",
      "8 31 4\n",
      "8 31 5\n",
      "8 31 6\n",
      "8 31 7\n",
      "8 31 8\n",
      "8 31 9\n",
      "8 31 10\n",
      "8 31 11\n",
      "8 31 12\n",
      "8 31 13\n",
      "8 31 14\n",
      "8 31 15\n",
      "8 31 16\n",
      "8 31 17\n",
      "8 31 18\n",
      "8 31 19\n",
      "8 31 20\n",
      "8 31 21\n",
      "8 31 22\n",
      "8 31 23\n",
      "9 2 0\n",
      "9 2 1\n",
      "9 2 2\n",
      "9 2 3\n",
      "9 2 4\n",
      "9 2 5\n",
      "9 2 6\n",
      "9 2 7\n",
      "9 2 8\n",
      "9 2 9\n",
      "9 2 10\n",
      "9 2 11\n",
      "9 2 12\n",
      "9 2 13\n",
      "9 2 14\n",
      "9 2 15\n",
      "9 2 16\n",
      "9 2 17\n",
      "9 2 18\n",
      "9 2 19\n",
      "9 2 20\n",
      "9 2 21\n",
      "9 2 22\n",
      "9 2 23\n",
      "9 3 0\n",
      "9 3 1\n",
      "9 3 2\n",
      "9 3 3\n",
      "9 3 4\n",
      "9 3 5\n",
      "9 3 6\n",
      "9 3 7\n",
      "9 3 8\n",
      "9 3 9\n",
      "9 3 10\n",
      "9 3 11\n",
      "9 3 12\n",
      "9 3 13\n",
      "9 3 14\n",
      "9 3 15\n",
      "9 3 16\n",
      "9 3 17\n",
      "9 3 18\n",
      "9 3 19\n",
      "9 3 20\n",
      "9 3 21\n",
      "9 3 22\n",
      "9 3 23\n",
      "9 4 0\n",
      "9 4 1\n",
      "9 4 2\n",
      "9 4 3\n",
      "9 4 4\n",
      "9 4 5\n",
      "9 4 6\n",
      "9 4 7\n",
      "9 4 8\n",
      "9 4 9\n",
      "9 4 10\n",
      "9 4 11\n",
      "9 4 12\n",
      "9 4 13\n",
      "9 4 14\n",
      "9 4 15\n",
      "9 4 16\n",
      "9 4 17\n",
      "9 4 18\n",
      "9 4 19\n",
      "9 4 20\n",
      "9 4 21\n",
      "9 4 22\n",
      "9 4 23\n",
      "9 5 0\n",
      "9 5 1\n",
      "9 5 2\n",
      "9 5 3\n",
      "9 5 4\n",
      "9 5 5\n",
      "9 5 6\n",
      "9 5 7\n",
      "9 5 8\n",
      "9 5 9\n",
      "9 5 10\n",
      "9 5 11\n",
      "9 5 12\n",
      "9 5 13\n",
      "9 5 14\n",
      "9 5 15\n",
      "9 5 16\n",
      "9 5 17\n",
      "9 5 18\n",
      "9 5 19\n",
      "9 5 20\n",
      "9 5 21\n",
      "9 5 22\n",
      "9 5 23\n",
      "9 6 0\n",
      "9 6 1\n",
      "9 6 2\n",
      "9 6 3\n",
      "9 6 4\n",
      "9 6 5\n",
      "9 6 6\n",
      "9 6 7\n",
      "9 6 8\n",
      "9 6 9\n",
      "9 6 10\n",
      "9 6 11\n",
      "9 6 12\n",
      "9 6 13\n",
      "9 6 14\n",
      "9 6 15\n",
      "9 6 16\n",
      "9 6 17\n",
      "9 6 18\n",
      "9 6 19\n",
      "9 6 20\n",
      "9 6 21\n",
      "9 6 22\n",
      "9 6 23\n",
      "9 7 0\n",
      "9 7 1\n",
      "9 7 2\n",
      "9 7 3\n",
      "9 7 4\n",
      "9 7 5\n",
      "9 7 6\n",
      "9 7 7\n",
      "9 7 8\n",
      "9 7 9\n",
      "9 7 10\n",
      "9 7 11\n",
      "9 7 12\n",
      "9 7 13\n",
      "9 7 14\n",
      "9 7 15\n",
      "9 7 16\n",
      "9 7 17\n",
      "9 7 18\n",
      "9 7 19\n",
      "9 7 20\n",
      "9 7 21\n",
      "9 7 22\n",
      "9 7 23\n",
      "9 8 0\n",
      "9 8 1\n",
      "9 8 2\n",
      "9 8 3\n",
      "9 8 4\n",
      "9 8 5\n",
      "9 8 6\n",
      "9 8 7\n",
      "9 8 8\n",
      "9 8 9\n",
      "9 8 10\n",
      "9 8 11\n",
      "9 8 12\n",
      "9 8 13\n",
      "9 8 14\n",
      "9 8 15\n",
      "9 8 16\n",
      "9 8 17\n",
      "9 8 18\n",
      "9 8 19\n",
      "9 8 20\n",
      "9 8 21\n",
      "9 8 22\n",
      "9 8 23\n",
      "9 9 0\n",
      "9 9 1\n",
      "9 9 2\n",
      "9 9 3\n",
      "9 9 4\n",
      "9 9 5\n",
      "9 9 6\n",
      "9 9 7\n",
      "9 9 8\n",
      "9 9 9\n",
      "9 9 10\n",
      "9 9 11\n",
      "9 9 12\n",
      "9 9 13\n",
      "9 9 14\n",
      "9 9 15\n",
      "9 9 16\n",
      "9 9 17\n",
      "9 9 18\n",
      "9 9 19\n",
      "9 9 20\n",
      "9 9 21\n",
      "9 9 22\n",
      "9 9 23\n",
      "9 10 0\n",
      "9 10 1\n",
      "9 10 2\n",
      "9 10 3\n",
      "9 10 4\n",
      "9 10 5\n",
      "9 10 6\n",
      "9 10 7\n",
      "9 10 8\n",
      "9 10 9\n",
      "9 10 10\n",
      "9 10 11\n",
      "9 10 12\n",
      "9 10 13\n",
      "9 10 14\n",
      "9 10 15\n",
      "9 10 16\n",
      "9 10 17\n",
      "9 10 18\n",
      "9 10 19\n",
      "9 10 20\n",
      "9 10 21\n",
      "9 10 22\n",
      "9 10 23\n",
      "9 11 0\n",
      "9 11 1\n",
      "9 11 2\n",
      "9 11 3\n",
      "9 11 4\n",
      "9 11 5\n",
      "9 11 6\n",
      "9 11 7\n",
      "9 11 8\n",
      "9 11 9\n",
      "9 11 10\n",
      "9 11 11\n",
      "9 11 12\n",
      "9 11 13\n",
      "9 11 14\n",
      "9 11 15\n",
      "9 11 16\n",
      "9 11 17\n",
      "9 11 18\n",
      "9 11 19\n",
      "9 11 20\n",
      "9 11 21\n",
      "9 11 22\n",
      "9 11 23\n",
      "9 12 0\n",
      "9 12 1\n",
      "9 12 2\n",
      "9 12 3\n",
      "9 12 4\n",
      "9 12 5\n",
      "9 12 6\n",
      "9 12 7\n",
      "9 12 8\n",
      "9 12 9\n",
      "9 12 10\n",
      "9 12 11\n",
      "9 12 12\n",
      "9 12 13\n",
      "9 12 14\n",
      "9 12 15\n",
      "9 12 16\n",
      "9 12 17\n",
      "9 12 18\n",
      "9 12 19\n",
      "9 12 20\n",
      "9 12 21\n",
      "9 12 22\n",
      "9 12 23\n",
      "9 13 0\n",
      "9 13 1\n",
      "9 13 2\n",
      "9 13 3\n",
      "9 13 4\n",
      "9 13 5\n",
      "9 13 6\n",
      "9 13 7\n",
      "9 13 8\n",
      "9 13 9\n",
      "9 13 10\n",
      "9 13 11\n",
      "9 13 12\n",
      "9 13 13\n",
      "9 13 14\n",
      "9 13 15\n",
      "9 13 16\n",
      "9 13 17\n",
      "9 13 18\n",
      "9 13 19\n",
      "9 13 20\n",
      "9 13 21\n",
      "9 13 22\n",
      "9 13 23\n",
      "9 14 0\n",
      "9 14 1\n",
      "9 14 2\n",
      "9 14 3\n",
      "9 14 4\n",
      "9 14 5\n",
      "9 14 6\n",
      "9 14 7\n",
      "9 14 8\n",
      "9 14 9\n",
      "9 14 10\n",
      "9 14 11\n",
      "9 14 12\n",
      "9 14 13\n",
      "9 14 14\n",
      "9 14 15\n",
      "9 14 16\n",
      "9 14 17\n",
      "9 14 18\n",
      "9 14 19\n",
      "9 14 20\n",
      "9 14 21\n",
      "9 14 22\n",
      "9 14 23\n",
      "9 15 0\n",
      "9 15 1\n",
      "9 15 2\n",
      "9 15 3\n",
      "9 15 4\n",
      "9 15 5\n",
      "9 15 6\n",
      "9 15 7\n",
      "9 15 8\n",
      "9 15 9\n",
      "9 15 10\n",
      "9 15 11\n",
      "9 15 12\n",
      "9 15 13\n",
      "9 15 14\n",
      "9 15 15\n",
      "9 15 16\n",
      "9 15 17\n",
      "9 15 18\n",
      "9 15 19\n",
      "9 15 20\n",
      "9 15 21\n",
      "9 15 22\n",
      "9 15 23\n",
      "9 16 0\n",
      "9 16 1\n",
      "9 16 2\n",
      "9 16 3\n",
      "9 16 4\n",
      "9 16 5\n",
      "9 16 6\n",
      "9 16 7\n",
      "9 16 8\n",
      "9 16 9\n",
      "9 16 10\n",
      "9 16 11\n",
      "9 16 12\n",
      "9 16 13\n",
      "9 16 14\n",
      "9 16 15\n",
      "9 16 16\n",
      "9 16 17\n",
      "9 16 18\n",
      "9 16 19\n",
      "9 16 20\n",
      "9 16 21\n",
      "9 16 22\n",
      "9 16 23\n",
      "9 17 0\n",
      "9 17 1\n",
      "9 17 2\n"
     ]
    }
   ],
   "source": [
    "diffs_all = []\n",
    "for item in good:\n",
    "    for d in good[item]:\n",
    "        for h in list(range(24)):\n",
    "            print(item,d,h)\n",
    "            diffs_all.append((item, d, h, getDiffMaxPerHour(repoall, str(item).zfill(2), str(d).zfill(2), str(h).zfill(2))))"
   ]
  },
  {
   "cell_type": "code",
   "execution_count": 1047,
   "metadata": {
    "ExecuteTime": {
     "end_time": "2017-01-22T10:38:05.692016",
     "start_time": "2017-01-22T10:38:05.681744"
    },
    "collapsed": false
   },
   "outputs": [],
   "source": [
    "dfdiff = DataFrame(diffs_all, columns=[\"m\", \"d\", \"h\", \"diffs\"])"
   ]
  },
  {
   "cell_type": "code",
   "execution_count": 1061,
   "metadata": {
    "ExecuteTime": {
     "end_time": "2017-01-22T10:40:21.892073",
     "start_time": "2017-01-22T10:40:21.869477"
    },
    "collapsed": false
   },
   "outputs": [
    {
     "data": {
      "text/html": [
       "<div>\n",
       "<table border=\"1\" class=\"dataframe\">\n",
       "  <thead>\n",
       "    <tr style=\"text-align: right;\">\n",
       "      <th></th>\n",
       "      <th>m</th>\n",
       "      <th>d</th>\n",
       "      <th>h</th>\n",
       "      <th>diffs</th>\n",
       "    </tr>\n",
       "  </thead>\n",
       "  <tbody>\n",
       "    <tr>\n",
       "      <th>65</th>\n",
       "      <td>8</td>\n",
       "      <td>23</td>\n",
       "      <td>17</td>\n",
       "      <td>4.954283</td>\n",
       "    </tr>\n",
       "    <tr>\n",
       "      <th>85</th>\n",
       "      <td>8</td>\n",
       "      <td>24</td>\n",
       "      <td>13</td>\n",
       "      <td>252.630450</td>\n",
       "    </tr>\n",
       "  </tbody>\n",
       "</table>\n",
       "</div>"
      ],
      "text/plain": [
       "    m   d   h       diffs\n",
       "65  8  23  17    4.954283\n",
       "85  8  24  13  252.630450"
      ]
     },
     "execution_count": 1061,
     "metadata": {},
     "output_type": "execute_result"
    }
   ],
   "source": [
    "dfdiff[dfdiff.diffs > 1]\n"
   ]
  },
  {
   "cell_type": "code",
   "execution_count": 1062,
   "metadata": {
    "ExecuteTime": {
     "end_time": "2017-01-22T10:40:54.350079",
     "start_time": "2017-01-22T10:40:54.341506"
    },
    "collapsed": false
   },
   "outputs": [
    {
     "data": {
      "text/plain": [
       "4.2"
      ]
     },
     "execution_count": 1062,
     "metadata": {},
     "output_type": "execute_result"
    }
   ],
   "source": [
    "252/60"
   ]
  },
  {
   "cell_type": "code",
   "execution_count": 1065,
   "metadata": {
    "ExecuteTime": {
     "end_time": "2017-01-22T10:47:13.074744",
     "start_time": "2017-01-22T10:47:01.710574"
    },
    "collapsed": false
   },
   "outputs": [],
   "source": [
    "ttt = getDiffMaxPerHour(repoall, \"08\", \"24\", \"13\")"
   ]
  },
  {
   "cell_type": "code",
   "execution_count": 1070,
   "metadata": {
    "ExecuteTime": {
     "end_time": "2017-01-22T10:52:38.746305",
     "start_time": "2017-01-22T10:52:38.733430"
    },
    "collapsed": true
   },
   "outputs": [],
   "source": [
    "# FROM - TO festlegen\n",
    "begin = \"2015-{}-{}T{}:00:00Z\".format(m,d,h) # %Y-%m-%dT%H:%M:%SZ\n",
    "begin_ts = datetime.datetime.timestamp(datetime.datetime.strptime(begin, \"%Y-%m-%dT%H:%M:%SZ\"))\n",
    "end_ts = begin_ts + 59*60"
   ]
  },
  {
   "cell_type": "code",
   "execution_count": 1071,
   "metadata": {
    "ExecuteTime": {
     "end_time": "2017-01-22T10:52:39.584047",
     "start_time": "2017-01-22T10:52:39.579193"
    },
    "collapsed": true
   },
   "outputs": [],
   "source": [
    "parts = [None, None, None, None]"
   ]
  },
  {
   "cell_type": "code",
   "execution_count": 1072,
   "metadata": {
    "ExecuteTime": {
     "end_time": "2017-01-22T10:52:51.300414",
     "start_time": "2017-01-22T10:52:40.162821"
    },
    "collapsed": false
   },
   "outputs": [
    {
     "ename": "AssertionError",
     "evalue": "",
     "output_type": "error",
     "traceback": [
      "\u001b[0;31m---------------------------------------------------------------------------\u001b[0m",
      "\u001b[0;31mAssertionError\u001b[0m                            Traceback (most recent call last)",
      "\u001b[0;32m<ipython-input-1072-901021a9b590>\u001b[0m in \u001b[0;36m<module>\u001b[0;34m()\u001b[0m\n\u001b[1;32m      3\u001b[0m \u001b[0;34m\u001b[0m\u001b[0m\n\u001b[1;32m      4\u001b[0m     \u001b[0mtmp\u001b[0m \u001b[0;34m=\u001b[0m \u001b[0;34m[\u001b[0m\u001b[0;34m]\u001b[0m\u001b[0;34m\u001b[0m\u001b[0m\n\u001b[0;32m----> 5\u001b[0;31m     \u001b[0;32mfor\u001b[0m \u001b[0mframe\u001b[0m\u001b[0;34m,\u001b[0m \u001b[0mfc\u001b[0m \u001b[0;32min\u001b[0m \u001b[0mrepoall\u001b[0m\u001b[0;34m.\u001b[0m\u001b[0miter_frames\u001b[0m\u001b[0;34m(\u001b[0m\u001b[0mbegin\u001b[0m\u001b[0;34m=\u001b[0m\u001b[0mbegin_ts\u001b[0m\u001b[0;34m,\u001b[0m \u001b[0mend\u001b[0m\u001b[0;34m=\u001b[0m\u001b[0mend_ts\u001b[0m\u001b[0;34m,\u001b[0m \u001b[0mcam\u001b[0m\u001b[0;34m=\u001b[0m\u001b[0mi\u001b[0m\u001b[0;34m)\u001b[0m\u001b[0;34m:\u001b[0m\u001b[0;34m\u001b[0m\u001b[0m\n\u001b[0m\u001b[1;32m      6\u001b[0m         \u001b[0mtmp\u001b[0m\u001b[0;34m.\u001b[0m\u001b[0mappend\u001b[0m\u001b[0;34m(\u001b[0m\u001b[0;34m[\u001b[0m\u001b[0mframe\u001b[0m\u001b[0;34m.\u001b[0m\u001b[0mtimestamp\u001b[0m\u001b[0;34m,\u001b[0m \u001b[0mfc\u001b[0m\u001b[0;34m.\u001b[0m\u001b[0mcamId\u001b[0m\u001b[0;34m,\u001b[0m \u001b[0mfc\u001b[0m\u001b[0;34m.\u001b[0m\u001b[0mid\u001b[0m\u001b[0;34m,\u001b[0m \u001b[0mframe\u001b[0m\u001b[0;34m.\u001b[0m\u001b[0mframeIdx\u001b[0m\u001b[0;34m,\u001b[0m \u001b[0mframe\u001b[0m\u001b[0;34m.\u001b[0m\u001b[0mid\u001b[0m\u001b[0;34m]\u001b[0m\u001b[0;34m)\u001b[0m\u001b[0;34m\u001b[0m\u001b[0m\n\u001b[1;32m      7\u001b[0m \u001b[0;34m\u001b[0m\u001b[0m\n",
      "\u001b[0;32m/usr/local/lib/python3.5/dist-packages/bb_binary/repository.py\u001b[0m in \u001b[0;36miter_frames\u001b[0;34m(self, begin, end, cam)\u001b[0m\n\u001b[1;32m    212\u001b[0m                 \u001b[0mFrameContainer\u001b[0m \u001b[0;34m(\u001b[0m\u001b[0mFrameContainer\u001b[0m\u001b[0;34m)\u001b[0m\u001b[0;34m:\u001b[0m \u001b[0mthe\u001b[0m \u001b[0mcorresponding\u001b[0m \u001b[0mFrameContainer\u001b[0m \u001b[0;32mfor\u001b[0m \u001b[0meach\u001b[0m \u001b[0mframe\u001b[0m\u001b[0;34m.\u001b[0m\u001b[0;34m\u001b[0m\u001b[0m\n\u001b[1;32m    213\u001b[0m         \"\"\"\n\u001b[0;32m--> 214\u001b[0;31m         \u001b[0;32mfor\u001b[0m \u001b[0mf\u001b[0m \u001b[0;32min\u001b[0m \u001b[0mself\u001b[0m\u001b[0;34m.\u001b[0m\u001b[0miter_fnames\u001b[0m\u001b[0;34m(\u001b[0m\u001b[0mbegin\u001b[0m\u001b[0;34m=\u001b[0m\u001b[0mbegin\u001b[0m\u001b[0;34m,\u001b[0m \u001b[0mend\u001b[0m\u001b[0;34m=\u001b[0m\u001b[0mend\u001b[0m\u001b[0;34m,\u001b[0m \u001b[0mcam\u001b[0m\u001b[0;34m=\u001b[0m\u001b[0mcam\u001b[0m\u001b[0;34m)\u001b[0m\u001b[0;34m:\u001b[0m\u001b[0;34m\u001b[0m\u001b[0m\n\u001b[0m\u001b[1;32m    215\u001b[0m             \u001b[0mfc\u001b[0m \u001b[0;34m=\u001b[0m \u001b[0mload_frame_container\u001b[0m\u001b[0;34m(\u001b[0m\u001b[0mf\u001b[0m\u001b[0;34m)\u001b[0m\u001b[0;34m\u001b[0m\u001b[0m\n\u001b[1;32m    216\u001b[0m             \u001b[0;32mfor\u001b[0m \u001b[0mframe\u001b[0m \u001b[0;32min\u001b[0m \u001b[0mfc\u001b[0m\u001b[0;34m.\u001b[0m\u001b[0mframes\u001b[0m\u001b[0;34m:\u001b[0m\u001b[0;34m\u001b[0m\u001b[0m\n",
      "\u001b[0;32m/usr/local/lib/python3.5/dist-packages/bb_binary/repository.py\u001b[0m in \u001b[0;36miter_fnames\u001b[0;34m(self, begin, end, cam)\u001b[0m\n\u001b[1;32m    191\u001b[0m             \u001b[0;32melse\u001b[0m\u001b[0;34m:\u001b[0m\u001b[0;34m\u001b[0m\u001b[0m\n\u001b[1;32m    192\u001b[0m                 current_path = self._step_to_next_directory(\n\u001b[0;32m--> 193\u001b[0;31m                     current_path, direction='forward')\n\u001b[0m\u001b[1;32m    194\u001b[0m                 \u001b[0mcurrent_path\u001b[0m \u001b[0;34m=\u001b[0m \u001b[0mself\u001b[0m\u001b[0;34m.\u001b[0m\u001b[0m_join_with_repo_dir\u001b[0m\u001b[0;34m(\u001b[0m\u001b[0mcurrent_path\u001b[0m\u001b[0;34m)\u001b[0m\u001b[0;34m\u001b[0m\u001b[0m\n\u001b[1;32m    195\u001b[0m \u001b[0;34m\u001b[0m\u001b[0m\n",
      "\u001b[0;32m/usr/local/lib/python3.5/dist-packages/bb_binary/repository.py\u001b[0m in \u001b[0;36m_step_to_next_directory\u001b[0;34m(self, path, direction)\u001b[0m\n\u001b[1;32m    306\u001b[0m             \u001b[0mpath_dt\u001b[0m \u001b[0;34m=\u001b[0m \u001b[0mself\u001b[0m\u001b[0;34m.\u001b[0m\u001b[0m_get_time_from_path\u001b[0m\u001b[0;34m(\u001b[0m\u001b[0mpath\u001b[0m\u001b[0;34m)\u001b[0m\u001b[0;34m\u001b[0m\u001b[0m\n\u001b[1;32m    307\u001b[0m             \u001b[0mend_dt\u001b[0m \u001b[0;34m=\u001b[0m \u001b[0mself\u001b[0m\u001b[0;34m.\u001b[0m\u001b[0m_get_time_from_path\u001b[0m\u001b[0;34m(\u001b[0m\u001b[0mend\u001b[0m\u001b[0;34m)\u001b[0m\u001b[0;34m\u001b[0m\u001b[0m\n\u001b[0;32m--> 308\u001b[0;31m             \u001b[0;32massert\u001b[0m \u001b[0mpath_dt\u001b[0m \u001b[0;34m<\u001b[0m \u001b[0mend_dt\u001b[0m\u001b[0;34m\u001b[0m\u001b[0m\n\u001b[0m\u001b[1;32m    309\u001b[0m \u001b[0;34m\u001b[0m\u001b[0m\n\u001b[1;32m    310\u001b[0m         \u001b[0;32melif\u001b[0m \u001b[0mdirection\u001b[0m \u001b[0;34m==\u001b[0m \u001b[0;34m'backward'\u001b[0m\u001b[0;34m:\u001b[0m\u001b[0;34m\u001b[0m\u001b[0m\n",
      "\u001b[0;31mAssertionError\u001b[0m: "
     ]
    }
   ],
   "source": [
    "# Get Frames for each cam\n",
    "for i in list(range(4)):\n",
    "\n",
    "    tmp = []\n",
    "    for frame, fc in repoall.iter_frames(begin=begin_ts, end=end_ts, cam=i):\n",
    "        tmp.append([frame.timestamp, fc.camId, fc.id, frame.frameIdx, frame.id])\n",
    "\n",
    "    parts[i] = DataFrame(tmp, columns=['timestamp', 'cam', 'fcid', 'frameIdx', 'frameid'])"
   ]
  },
  {
   "cell_type": "code",
   "execution_count": 1066,
   "metadata": {
    "ExecuteTime": {
     "end_time": "2017-01-22T10:47:17.204486",
     "start_time": "2017-01-22T10:47:17.145672"
    },
    "collapsed": false
   },
   "outputs": [
    {
     "data": {
      "text/html": [
       "<div>\n",
       "<table border=\"1\" class=\"dataframe\">\n",
       "  <thead>\n",
       "    <tr style=\"text-align: right;\">\n",
       "      <th></th>\n",
       "      <th>0</th>\n",
       "      <th>1</th>\n",
       "      <th>2</th>\n",
       "      <th>3</th>\n",
       "      <th>4</th>\n",
       "      <th>5</th>\n",
       "    </tr>\n",
       "  </thead>\n",
       "  <tbody>\n",
       "    <tr>\n",
       "      <th>0</th>\n",
       "      <td>0.171010</td>\n",
       "      <td>0.262015</td>\n",
       "      <td>0.294017</td>\n",
       "      <td>0.091005</td>\n",
       "      <td>0.123007</td>\n",
       "      <td>0.032002</td>\n",
       "    </tr>\n",
       "    <tr>\n",
       "      <th>1</th>\n",
       "      <td>0.172010</td>\n",
       "      <td>0.262015</td>\n",
       "      <td>0.294017</td>\n",
       "      <td>0.090005</td>\n",
       "      <td>0.122007</td>\n",
       "      <td>0.032002</td>\n",
       "    </tr>\n",
       "    <tr>\n",
       "      <th>2</th>\n",
       "      <td>0.171010</td>\n",
       "      <td>0.262015</td>\n",
       "      <td>0.293017</td>\n",
       "      <td>0.091005</td>\n",
       "      <td>0.122007</td>\n",
       "      <td>0.031002</td>\n",
       "    </tr>\n",
       "    <tr>\n",
       "      <th>3</th>\n",
       "      <td>0.171010</td>\n",
       "      <td>0.262015</td>\n",
       "      <td>0.294017</td>\n",
       "      <td>0.091005</td>\n",
       "      <td>0.123007</td>\n",
       "      <td>0.032002</td>\n",
       "    </tr>\n",
       "    <tr>\n",
       "      <th>4</th>\n",
       "      <td>0.172010</td>\n",
       "      <td>0.262015</td>\n",
       "      <td>0.294017</td>\n",
       "      <td>0.090005</td>\n",
       "      <td>0.122007</td>\n",
       "      <td>0.032002</td>\n",
       "    </tr>\n",
       "    <tr>\n",
       "      <th>5</th>\n",
       "      <td>0.171010</td>\n",
       "      <td>0.262015</td>\n",
       "      <td>0.293017</td>\n",
       "      <td>0.091005</td>\n",
       "      <td>0.122007</td>\n",
       "      <td>0.031002</td>\n",
       "    </tr>\n",
       "    <tr>\n",
       "      <th>6</th>\n",
       "      <td>0.171010</td>\n",
       "      <td>0.262015</td>\n",
       "      <td>0.294017</td>\n",
       "      <td>0.091005</td>\n",
       "      <td>0.123007</td>\n",
       "      <td>0.032002</td>\n",
       "    </tr>\n",
       "    <tr>\n",
       "      <th>7</th>\n",
       "      <td>0.172009</td>\n",
       "      <td>0.262015</td>\n",
       "      <td>0.294016</td>\n",
       "      <td>0.090006</td>\n",
       "      <td>0.122007</td>\n",
       "      <td>0.032001</td>\n",
       "    </tr>\n",
       "    <tr>\n",
       "      <th>8</th>\n",
       "      <td>0.171009</td>\n",
       "      <td>0.262015</td>\n",
       "      <td>0.293016</td>\n",
       "      <td>0.091006</td>\n",
       "      <td>0.122007</td>\n",
       "      <td>0.031001</td>\n",
       "    </tr>\n",
       "    <tr>\n",
       "      <th>9</th>\n",
       "      <td>0.171009</td>\n",
       "      <td>0.262015</td>\n",
       "      <td>0.294017</td>\n",
       "      <td>0.091006</td>\n",
       "      <td>0.123008</td>\n",
       "      <td>0.032002</td>\n",
       "    </tr>\n",
       "    <tr>\n",
       "      <th>10</th>\n",
       "      <td>0.172010</td>\n",
       "      <td>0.262015</td>\n",
       "      <td>0.294017</td>\n",
       "      <td>0.090005</td>\n",
       "      <td>0.122007</td>\n",
       "      <td>0.032002</td>\n",
       "    </tr>\n",
       "    <tr>\n",
       "      <th>11</th>\n",
       "      <td>0.171010</td>\n",
       "      <td>0.262015</td>\n",
       "      <td>0.293017</td>\n",
       "      <td>0.091005</td>\n",
       "      <td>0.122007</td>\n",
       "      <td>0.031002</td>\n",
       "    </tr>\n",
       "    <tr>\n",
       "      <th>12</th>\n",
       "      <td>0.171010</td>\n",
       "      <td>0.262015</td>\n",
       "      <td>0.294017</td>\n",
       "      <td>0.091005</td>\n",
       "      <td>0.123007</td>\n",
       "      <td>0.032002</td>\n",
       "    </tr>\n",
       "    <tr>\n",
       "      <th>13</th>\n",
       "      <td>0.172010</td>\n",
       "      <td>0.262015</td>\n",
       "      <td>0.294017</td>\n",
       "      <td>0.090005</td>\n",
       "      <td>0.122007</td>\n",
       "      <td>0.032002</td>\n",
       "    </tr>\n",
       "    <tr>\n",
       "      <th>14</th>\n",
       "      <td>0.171010</td>\n",
       "      <td>0.262015</td>\n",
       "      <td>0.293017</td>\n",
       "      <td>0.091005</td>\n",
       "      <td>0.122007</td>\n",
       "      <td>0.031002</td>\n",
       "    </tr>\n",
       "    <tr>\n",
       "      <th>15</th>\n",
       "      <td>0.171010</td>\n",
       "      <td>0.262015</td>\n",
       "      <td>0.294017</td>\n",
       "      <td>0.091005</td>\n",
       "      <td>0.123007</td>\n",
       "      <td>0.032002</td>\n",
       "    </tr>\n",
       "    <tr>\n",
       "      <th>16</th>\n",
       "      <td>0.172010</td>\n",
       "      <td>0.262015</td>\n",
       "      <td>0.294017</td>\n",
       "      <td>0.090005</td>\n",
       "      <td>0.122007</td>\n",
       "      <td>0.032002</td>\n",
       "    </tr>\n",
       "    <tr>\n",
       "      <th>17</th>\n",
       "      <td>0.171010</td>\n",
       "      <td>0.262015</td>\n",
       "      <td>0.293017</td>\n",
       "      <td>0.091005</td>\n",
       "      <td>0.122007</td>\n",
       "      <td>0.031002</td>\n",
       "    </tr>\n",
       "    <tr>\n",
       "      <th>18</th>\n",
       "      <td>0.171010</td>\n",
       "      <td>0.262015</td>\n",
       "      <td>0.294017</td>\n",
       "      <td>0.091005</td>\n",
       "      <td>0.123007</td>\n",
       "      <td>0.032002</td>\n",
       "    </tr>\n",
       "    <tr>\n",
       "      <th>19</th>\n",
       "      <td>0.172010</td>\n",
       "      <td>0.262015</td>\n",
       "      <td>0.294017</td>\n",
       "      <td>0.090005</td>\n",
       "      <td>0.122007</td>\n",
       "      <td>0.032002</td>\n",
       "    </tr>\n",
       "    <tr>\n",
       "      <th>20</th>\n",
       "      <td>0.171010</td>\n",
       "      <td>0.262015</td>\n",
       "      <td>0.293017</td>\n",
       "      <td>0.091005</td>\n",
       "      <td>0.122007</td>\n",
       "      <td>0.031002</td>\n",
       "    </tr>\n",
       "    <tr>\n",
       "      <th>21</th>\n",
       "      <td>0.171010</td>\n",
       "      <td>0.262015</td>\n",
       "      <td>0.294017</td>\n",
       "      <td>0.091005</td>\n",
       "      <td>0.123007</td>\n",
       "      <td>0.032002</td>\n",
       "    </tr>\n",
       "    <tr>\n",
       "      <th>22</th>\n",
       "      <td>0.172009</td>\n",
       "      <td>0.262015</td>\n",
       "      <td>0.294016</td>\n",
       "      <td>0.090006</td>\n",
       "      <td>0.122007</td>\n",
       "      <td>0.032001</td>\n",
       "    </tr>\n",
       "    <tr>\n",
       "      <th>23</th>\n",
       "      <td>0.171009</td>\n",
       "      <td>0.262015</td>\n",
       "      <td>0.293016</td>\n",
       "      <td>0.091006</td>\n",
       "      <td>0.122007</td>\n",
       "      <td>0.031001</td>\n",
       "    </tr>\n",
       "    <tr>\n",
       "      <th>24</th>\n",
       "      <td>0.171009</td>\n",
       "      <td>0.262015</td>\n",
       "      <td>0.294017</td>\n",
       "      <td>0.091006</td>\n",
       "      <td>0.123008</td>\n",
       "      <td>0.032002</td>\n",
       "    </tr>\n",
       "    <tr>\n",
       "      <th>25</th>\n",
       "      <td>0.172010</td>\n",
       "      <td>0.262015</td>\n",
       "      <td>0.294017</td>\n",
       "      <td>0.090005</td>\n",
       "      <td>0.122007</td>\n",
       "      <td>0.032002</td>\n",
       "    </tr>\n",
       "    <tr>\n",
       "      <th>26</th>\n",
       "      <td>0.171010</td>\n",
       "      <td>0.262015</td>\n",
       "      <td>0.293017</td>\n",
       "      <td>0.091005</td>\n",
       "      <td>0.122007</td>\n",
       "      <td>0.031002</td>\n",
       "    </tr>\n",
       "    <tr>\n",
       "      <th>27</th>\n",
       "      <td>0.171010</td>\n",
       "      <td>0.262015</td>\n",
       "      <td>0.294017</td>\n",
       "      <td>0.091005</td>\n",
       "      <td>0.123007</td>\n",
       "      <td>0.032002</td>\n",
       "    </tr>\n",
       "    <tr>\n",
       "      <th>28</th>\n",
       "      <td>0.172010</td>\n",
       "      <td>0.262015</td>\n",
       "      <td>0.294017</td>\n",
       "      <td>0.090005</td>\n",
       "      <td>0.122007</td>\n",
       "      <td>0.032002</td>\n",
       "    </tr>\n",
       "    <tr>\n",
       "      <th>29</th>\n",
       "      <td>0.171010</td>\n",
       "      <td>0.262015</td>\n",
       "      <td>0.293017</td>\n",
       "      <td>0.091005</td>\n",
       "      <td>0.122007</td>\n",
       "      <td>0.031002</td>\n",
       "    </tr>\n",
       "    <tr>\n",
       "      <th>...</th>\n",
       "      <td>...</td>\n",
       "      <td>...</td>\n",
       "      <td>...</td>\n",
       "      <td>...</td>\n",
       "      <td>...</td>\n",
       "      <td>...</td>\n",
       "    </tr>\n",
       "    <tr>\n",
       "      <th>10292</th>\n",
       "      <td>0.513030</td>\n",
       "      <td>0.277016</td>\n",
       "      <td>NaN</td>\n",
       "      <td>0.790046</td>\n",
       "      <td>NaN</td>\n",
       "      <td>NaN</td>\n",
       "    </tr>\n",
       "    <tr>\n",
       "      <th>10293</th>\n",
       "      <td>0.513030</td>\n",
       "      <td>0.278016</td>\n",
       "      <td>NaN</td>\n",
       "      <td>0.791046</td>\n",
       "      <td>NaN</td>\n",
       "      <td>NaN</td>\n",
       "    </tr>\n",
       "    <tr>\n",
       "      <th>10294</th>\n",
       "      <td>0.513029</td>\n",
       "      <td>0.278016</td>\n",
       "      <td>NaN</td>\n",
       "      <td>0.791045</td>\n",
       "      <td>NaN</td>\n",
       "      <td>NaN</td>\n",
       "    </tr>\n",
       "    <tr>\n",
       "      <th>10295</th>\n",
       "      <td>0.513029</td>\n",
       "      <td>0.277016</td>\n",
       "      <td>NaN</td>\n",
       "      <td>0.790045</td>\n",
       "      <td>NaN</td>\n",
       "      <td>NaN</td>\n",
       "    </tr>\n",
       "    <tr>\n",
       "      <th>10296</th>\n",
       "      <td>0.513029</td>\n",
       "      <td>0.278016</td>\n",
       "      <td>NaN</td>\n",
       "      <td>0.791045</td>\n",
       "      <td>NaN</td>\n",
       "      <td>NaN</td>\n",
       "    </tr>\n",
       "    <tr>\n",
       "      <th>10297</th>\n",
       "      <td>0.513029</td>\n",
       "      <td>0.278016</td>\n",
       "      <td>NaN</td>\n",
       "      <td>0.791045</td>\n",
       "      <td>NaN</td>\n",
       "      <td>NaN</td>\n",
       "    </tr>\n",
       "    <tr>\n",
       "      <th>10298</th>\n",
       "      <td>0.513029</td>\n",
       "      <td>0.277016</td>\n",
       "      <td>NaN</td>\n",
       "      <td>0.790045</td>\n",
       "      <td>NaN</td>\n",
       "      <td>NaN</td>\n",
       "    </tr>\n",
       "    <tr>\n",
       "      <th>10299</th>\n",
       "      <td>0.513029</td>\n",
       "      <td>0.278016</td>\n",
       "      <td>NaN</td>\n",
       "      <td>0.791045</td>\n",
       "      <td>NaN</td>\n",
       "      <td>NaN</td>\n",
       "    </tr>\n",
       "    <tr>\n",
       "      <th>10300</th>\n",
       "      <td>0.513029</td>\n",
       "      <td>0.278016</td>\n",
       "      <td>NaN</td>\n",
       "      <td>0.791045</td>\n",
       "      <td>NaN</td>\n",
       "      <td>NaN</td>\n",
       "    </tr>\n",
       "    <tr>\n",
       "      <th>10301</th>\n",
       "      <td>0.513029</td>\n",
       "      <td>0.277016</td>\n",
       "      <td>NaN</td>\n",
       "      <td>0.790045</td>\n",
       "      <td>NaN</td>\n",
       "      <td>NaN</td>\n",
       "    </tr>\n",
       "    <tr>\n",
       "      <th>10302</th>\n",
       "      <td>0.513029</td>\n",
       "      <td>0.278016</td>\n",
       "      <td>NaN</td>\n",
       "      <td>0.791045</td>\n",
       "      <td>NaN</td>\n",
       "      <td>NaN</td>\n",
       "    </tr>\n",
       "    <tr>\n",
       "      <th>10303</th>\n",
       "      <td>0.513029</td>\n",
       "      <td>0.278016</td>\n",
       "      <td>NaN</td>\n",
       "      <td>0.791045</td>\n",
       "      <td>NaN</td>\n",
       "      <td>NaN</td>\n",
       "    </tr>\n",
       "    <tr>\n",
       "      <th>10304</th>\n",
       "      <td>0.513030</td>\n",
       "      <td>0.277015</td>\n",
       "      <td>NaN</td>\n",
       "      <td>0.790045</td>\n",
       "      <td>NaN</td>\n",
       "      <td>NaN</td>\n",
       "    </tr>\n",
       "    <tr>\n",
       "      <th>10305</th>\n",
       "      <td>0.513030</td>\n",
       "      <td>0.278016</td>\n",
       "      <td>NaN</td>\n",
       "      <td>0.791046</td>\n",
       "      <td>NaN</td>\n",
       "      <td>NaN</td>\n",
       "    </tr>\n",
       "    <tr>\n",
       "      <th>10306</th>\n",
       "      <td>0.513030</td>\n",
       "      <td>0.278016</td>\n",
       "      <td>NaN</td>\n",
       "      <td>0.791046</td>\n",
       "      <td>NaN</td>\n",
       "      <td>NaN</td>\n",
       "    </tr>\n",
       "    <tr>\n",
       "      <th>10307</th>\n",
       "      <td>0.513030</td>\n",
       "      <td>0.277016</td>\n",
       "      <td>NaN</td>\n",
       "      <td>0.790046</td>\n",
       "      <td>NaN</td>\n",
       "      <td>NaN</td>\n",
       "    </tr>\n",
       "    <tr>\n",
       "      <th>10308</th>\n",
       "      <td>0.513030</td>\n",
       "      <td>0.278016</td>\n",
       "      <td>NaN</td>\n",
       "      <td>0.791046</td>\n",
       "      <td>NaN</td>\n",
       "      <td>NaN</td>\n",
       "    </tr>\n",
       "    <tr>\n",
       "      <th>10309</th>\n",
       "      <td>0.513029</td>\n",
       "      <td>0.278016</td>\n",
       "      <td>NaN</td>\n",
       "      <td>0.791045</td>\n",
       "      <td>NaN</td>\n",
       "      <td>NaN</td>\n",
       "    </tr>\n",
       "    <tr>\n",
       "      <th>10310</th>\n",
       "      <td>0.513029</td>\n",
       "      <td>0.277016</td>\n",
       "      <td>NaN</td>\n",
       "      <td>0.790045</td>\n",
       "      <td>NaN</td>\n",
       "      <td>NaN</td>\n",
       "    </tr>\n",
       "    <tr>\n",
       "      <th>10311</th>\n",
       "      <td>0.513029</td>\n",
       "      <td>0.278016</td>\n",
       "      <td>NaN</td>\n",
       "      <td>0.791045</td>\n",
       "      <td>NaN</td>\n",
       "      <td>NaN</td>\n",
       "    </tr>\n",
       "    <tr>\n",
       "      <th>10312</th>\n",
       "      <td>0.513029</td>\n",
       "      <td>0.278016</td>\n",
       "      <td>NaN</td>\n",
       "      <td>0.791045</td>\n",
       "      <td>NaN</td>\n",
       "      <td>NaN</td>\n",
       "    </tr>\n",
       "    <tr>\n",
       "      <th>10313</th>\n",
       "      <td>0.513029</td>\n",
       "      <td>0.277016</td>\n",
       "      <td>NaN</td>\n",
       "      <td>0.790045</td>\n",
       "      <td>NaN</td>\n",
       "      <td>NaN</td>\n",
       "    </tr>\n",
       "    <tr>\n",
       "      <th>10314</th>\n",
       "      <td>0.513029</td>\n",
       "      <td>0.278016</td>\n",
       "      <td>NaN</td>\n",
       "      <td>0.791045</td>\n",
       "      <td>NaN</td>\n",
       "      <td>NaN</td>\n",
       "    </tr>\n",
       "    <tr>\n",
       "      <th>10315</th>\n",
       "      <td>0.513029</td>\n",
       "      <td>0.278016</td>\n",
       "      <td>NaN</td>\n",
       "      <td>0.791045</td>\n",
       "      <td>NaN</td>\n",
       "      <td>NaN</td>\n",
       "    </tr>\n",
       "    <tr>\n",
       "      <th>10316</th>\n",
       "      <td>0.513029</td>\n",
       "      <td>0.277016</td>\n",
       "      <td>NaN</td>\n",
       "      <td>0.790045</td>\n",
       "      <td>NaN"
      ],
      "text/plain": [
       "              0         1         2         3         4         5\n",
       "0      0.171010  0.262015  0.294017  0.091005  0.123007  0.032002\n",
       "1      0.172010  0.262015  0.294017  0.090005  0.122007  0.032002\n",
       "2      0.171010  0.262015  0.293017  0.091005  0.122007  0.031002\n",
       "3      0.171010  0.262015  0.294017  0.091005  0.123007  0.032002\n",
       "4      0.172010  0.262015  0.294017  0.090005  0.122007  0.032002\n",
       "5      0.171010  0.262015  0.293017  0.091005  0.122007  0.031002\n",
       "6      0.171010  0.262015  0.294017  0.091005  0.123007  0.032002\n",
       "7      0.172009  0.262015  0.294016  0.090006  0.122007  0.032001\n",
       "8      0.171009  0.262015  0.293016  0.091006  0.122007  0.031001\n",
       "9      0.171009  0.262015  0.294017  0.091006  0.123008  0.032002\n",
       "10     0.172010  0.262015  0.294017  0.090005  0.122007  0.032002\n",
       "11     0.171010  0.262015  0.293017  0.091005  0.122007  0.031002\n",
       "12     0.171010  0.262015  0.294017  0.091005  0.123007  0.032002\n",
       "13     0.172010  0.262015  0.294017  0.090005  0.122007  0.032002\n",
       "14     0.171010  0.262015  0.293017  0.091005  0.122007  0.031002\n",
       "15     0.171010  0.262015  0.294017  0.091005  0.123007  0.032002\n",
       "16     0.172010  0.262015  0.294017  0.090005  0.122007  0.032002\n",
       "17     0.171010  0.262015  0.293017  0.091005  0.122007  0.031002\n",
       "18     0.171010  0.262015  0.294017  0.091005  0.123007  0.032002\n",
       "19     0.172010  0.262015  0.294017  0.090005  0.122007  0.032002\n",
       "20     0.171010  0.262015  0.293017  0.091005  0.122007  0.031002\n",
       "21     0.171010  0.262015  0.294017  0.091005  0.123007  0.032002\n",
       "22     0.172009  0.262015  0.294016  0.090006  0.122007  0.032001\n",
       "23     0.171009  0.262015  0.293016  0.091006  0.122007  0.031001\n",
       "24     0.171009  0.262015  0.294017  0.091006  0.123008  0.032002\n",
       "25     0.172010  0.262015  0.294017  0.090005  0.122007  0.032002\n",
       "26     0.171010  0.262015  0.293017  0.091005  0.122007  0.031002\n",
       "27     0.171010  0.262015  0.294017  0.091005  0.123007  0.032002\n",
       "28     0.172010  0.262015  0.294017  0.090005  0.122007  0.032002\n",
       "29     0.171010  0.262015  0.293017  0.091005  0.122007  0.031002\n",
       "...         ...       ...       ...       ...       ...       ...\n",
       "10292  0.513030  0.277016       NaN  0.790046       NaN       NaN\n",
       "10293  0.513030  0.278016       NaN  0.791046       NaN       NaN\n",
       "10294  0.513029  0.278016       NaN  0.791045       NaN       NaN\n",
       "10295  0.513029  0.277016       NaN  0.790045       NaN       NaN\n",
       "10296  0.513029  0.278016       NaN  0.791045       NaN       NaN\n",
       "10297  0.513029  0.278016       NaN  0.791045       NaN       NaN\n",
       "10298  0.513029  0.277016       NaN  0.790045       NaN       NaN\n",
       "10299  0.513029  0.278016       NaN  0.791045       NaN       NaN\n",
       "10300  0.513029  0.278016       NaN  0.791045       NaN       NaN\n",
       "10301  0.513029  0.277016       NaN  0.790045       NaN       NaN\n",
       "10302  0.513029  0.278016       NaN  0.791045       NaN       NaN\n",
       "10303  0.513029  0.278016       NaN  0.791045       NaN       NaN\n",
       "10304  0.513030  0.277015       NaN  0.790045       NaN       NaN\n",
       "10305  0.513030  0.278016       NaN  0.791046       NaN       NaN\n",
       "10306  0.513030  0.278016       NaN  0.791046       NaN       NaN\n",
       "10307  0.513030  0.277016       NaN  0.790046       NaN       NaN\n",
       "10308  0.513030  0.278016       NaN  0.791046       NaN       NaN\n",
       "10309  0.513029  0.278016       NaN  0.791045       NaN       NaN\n",
       "10310  0.513029  0.277016       NaN  0.790045       NaN       NaN\n",
       "10311  0.513029  0.278016       NaN  0.791045       NaN       NaN\n",
       "10312  0.513029  0.278016       NaN  0.791045       NaN       NaN\n",
       "10313  0.513029  0.277016       NaN  0.790045       NaN       NaN\n",
       "10314  0.513029  0.278016       NaN  0.791045       NaN       NaN\n",
       "10315  0.513029  0.278016       NaN  0.791045       NaN       NaN\n",
       "10316  0.513029  0.277016       NaN  0.790045       NaN       NaN\n",
       "10317  0.513029  0.278016       NaN  0.791045       NaN       NaN\n",
       "10318  0.513029  0.278016       NaN  0.791045       NaN       NaN\n",
       "10319  0.513030  0.277015       NaN  0.790045       NaN       NaN\n",
       "10320  0.513030       NaN       NaN       NaN       NaN       NaN\n",
       "10321       NaN       NaN       NaN       NaN       NaN       NaN\n",
       "\n",
       "[10322 rows x 6 columns]"
      ]
     },
     "execution_count": 1066,
     "metadata": {},
     "output_type": "execute_result"
    },
    {
     "data": {
      "text/html": [
       "<b>limit_output extension: Maximum message size of 10000 exceeded with 10911 characters</b>"
      ]
     },
     "metadata": {},
     "output_type": "display_data"
    }
   ],
   "source": [
    "# Dataframe with all timestamps each column is a camera\n",
    "tsdf = pd.concat([parts[0].timestamp, parts[1].timestamp, parts[2].timestamp, parts[3].timestamp], axis=1 )\n",
    "\n",
    "# Paarweise Differenz bestimmen\n",
    "tsdf_tuples = tsdf.apply(lambda x: Series([(i,j)  for e,i in enumerate(x) for j in x[e+1:]]), axis=1)\n",
    "tsdf_diffs = tsdf_tuples.applymap(lambda x: abs(x[0]-x[1]))"
   ]
  },
  {
   "cell_type": "code",
   "execution_count": null,
   "metadata": {
    "collapsed": true
   },
   "outputs": [],
   "source": []
  }
 ],
 "metadata": {
  "kernelspec": {
   "display_name": "Python 3",
   "language": "python",
   "name": "python3"
  },
  "language_info": {
   "codemirror_mode": {
    "name": "ipython",
    "version": 3
   },
   "file_extension": ".py",
   "mimetype": "text/x-python",
   "name": "python",
   "nbconvert_exporter": "python",
   "pygments_lexer": "ipython3",
   "version": "3.5.2"
  },
  "toc": {
   "colors": {
    "hover_highlight": "#DAA520",
    "running_highlight": "#FF0000",
    "selected_highlight": "#FFD700"
   },
   "moveMenuLeft": true,
   "nav_menu": {
    "height": "100px",
    "width": "252px"
   },
   "navigate_menu": true,
   "number_sections": true,
   "sideBar": true,
   "threshold": 4,
   "toc_cell": false,
   "toc_section_display": "block",
   "toc_window_display": true
  }
 },
 "nbformat": 4,
 "nbformat_minor": 2
}
