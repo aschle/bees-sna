{
 "cells": [
  {
   "cell_type": "code",
   "execution_count": 152,
   "metadata": {
    "ExecuteTime": {
     "end_time": "2017-01-22T10:22:23.625267",
     "start_time": "2017-01-22T10:22:23.609907"
    },
    "collapsed": true
   },
   "outputs": [],
   "source": [
    "import multiprocessing\n",
    "import pandas as pd\n",
    "import numpy as np\n",
    "import networkx as nx\n",
    "import preprocessing as prep\n",
    "import sys\n",
    "import datetime\n",
    "\n",
    "from multiprocessing import Pool\n",
    "from bb_binary import FrameContainer, Repository, load_frame_container\n",
    "from collections import namedtuple \n",
    "from pandas import DataFrame, Series"
   ]
  },
  {
   "cell_type": "code",
   "execution_count": 153,
   "metadata": {
    "ExecuteTime": {
     "end_time": "2017-01-22T10:22:24.237775",
     "start_time": "2017-01-22T10:22:24.228215"
    },
    "collapsed": true
   },
   "outputs": [],
   "source": [
    "path = \"/mnt/data/2015082215/\"\n",
    "conf = .95\n",
    "dist = 160\n",
    "ilen = 3\n",
    "cpus = 6"
   ]
  },
  {
   "cell_type": "code",
   "execution_count": 154,
   "metadata": {
    "ExecuteTime": {
     "end_time": "2017-01-22T10:22:25.037194",
     "start_time": "2017-01-22T10:22:25.030378"
    },
    "collapsed": false
   },
   "outputs": [],
   "source": [
    "repo = Repository(path)"
   ]
  },
  {
   "cell_type": "code",
   "execution_count": 155,
   "metadata": {
    "ExecuteTime": {
     "end_time": "2017-01-22T10:22:25.683342",
     "start_time": "2017-01-22T10:22:25.676320"
    },
    "collapsed": false
   },
   "outputs": [],
   "source": [
    "number_hours = 1*60*60 #number of hours in total in seconds\n",
    "slice_len = 10*60   #number of seconds per slice"
   ]
  },
  {
   "cell_type": "code",
   "execution_count": 156,
   "metadata": {
    "ExecuteTime": {
     "end_time": "2017-01-22T10:22:26.169446",
     "start_time": "2017-01-22T10:22:26.159606"
    },
    "collapsed": false
   },
   "outputs": [],
   "source": [
    "m=\"08\"\n",
    "d=\"22\"\n",
    "h=\"15\"\n",
    "begin = \"2015-{}-{}T{}:00:00Z\".format(m,d,h) # %Y-%m-%dT%H:%M:%SZ\n",
    "begin_ts = datetime.datetime.timestamp(datetime.datetime.strptime(begin, \"%Y-%m-%dT%H:%M:%SZ\"))"
   ]
  },
  {
   "cell_type": "code",
   "execution_count": 157,
   "metadata": {
    "ExecuteTime": {
     "end_time": "2017-01-22T10:22:26.611604",
     "start_time": "2017-01-22T10:22:26.605635"
    },
    "collapsed": false
   },
   "outputs": [],
   "source": [
    "parts = int(number_hours/slice_len)"
   ]
  },
  {
   "cell_type": "code",
   "execution_count": 159,
   "metadata": {
    "ExecuteTime": {
     "end_time": "2017-01-22T10:22:32.770440",
     "start_time": "2017-01-22T10:22:32.762297"
    },
    "collapsed": false
   },
   "outputs": [
    {
     "data": {
      "text/plain": [
       "60"
      ]
     },
     "execution_count": 159,
     "metadata": {},
     "output_type": "execute_result"
    }
   ],
   "source": [
    "parts*10"
   ]
  },
  {
   "cell_type": "code",
   "execution_count": 160,
   "metadata": {
    "ExecuteTime": {
     "end_time": "2017-01-22T10:22:33.825520",
     "start_time": "2017-01-22T10:22:33.816407"
    },
    "collapsed": false
   },
   "outputs": [],
   "source": [
    "tasks = []\n",
    "\n",
    "for i in list(range(parts)):\n",
    "    b = begin_ts + (i * slice_len)\n",
    "    e = (b-0.1) + (slice_len)\n",
    "    #print(\"{}-{}\".format(datetime.datetime.fromtimestamp(b),datetime.datetime.fromtimestamp(e)))\n",
    "    tasks.append((b, e))"
   ]
  },
  {
   "cell_type": "code",
   "execution_count": 161,
   "metadata": {
    "ExecuteTime": {
     "end_time": "2017-01-22T10:22:36.213771",
     "start_time": "2017-01-22T10:22:36.205515"
    },
    "collapsed": false
   },
   "outputs": [
    {
     "data": {
      "text/plain": [
       "6"
      ]
     },
     "execution_count": 161,
     "metadata": {},
     "output_type": "execute_result"
    }
   ],
   "source": [
    "len(tasks)"
   ]
  },
  {
   "cell_type": "code",
   "execution_count": 162,
   "metadata": {
    "ExecuteTime": {
     "end_time": "2017-01-22T10:22:37.650388",
     "start_time": "2017-01-22T10:22:37.644899"
    },
    "collapsed": true
   },
   "outputs": [],
   "source": [
    "xmax = 3000\n",
    "offset = 200"
   ]
  },
  {
   "cell_type": "code",
   "execution_count": 163,
   "metadata": {
    "ExecuteTime": {
     "end_time": "2017-01-22T10:22:41.137304",
     "start_time": "2017-01-22T10:22:41.126438"
    },
    "collapsed": true
   },
   "outputs": [],
   "source": [
    "Detection = namedtuple('Detection',\n",
    "                       ['idx', 'xpos', 'ypos', 'radius', 'zRotation', 'decodedId', 'frame_idx', 'timestamp', 'cam_id', 'fc_id'])"
   ]
  },
  {
   "cell_type": "code",
   "execution_count": 164,
   "metadata": {
    "ExecuteTime": {
     "end_time": "2017-01-22T10:22:41.703953",
     "start_time": "2017-01-22T10:22:41.695637"
    },
    "collapsed": true
   },
   "outputs": [],
   "source": [
    "begin_ts = tasks[1][0]\n",
    "end_ts = tasks[1][1]"
   ]
  },
  {
   "cell_type": "code",
   "execution_count": 165,
   "metadata": {
    "ExecuteTime": {
     "end_time": "2017-01-22T10:22:42.482844",
     "start_time": "2017-01-22T10:22:42.474879"
    },
    "collapsed": false
   },
   "outputs": [
    {
     "name": "stdout",
     "output_type": "stream",
     "text": [
      "1440256200.0 1440256799.9\n"
     ]
    }
   ],
   "source": [
    "print(begin_ts,end_ts)"
   ]
  },
  {
   "cell_type": "code",
   "execution_count": 166,
   "metadata": {
    "ExecuteTime": {
     "end_time": "2017-01-22T10:23:43.431672",
     "start_time": "2017-01-22T10:22:48.752032"
    },
    "collapsed": false,
    "scrolled": false
   },
   "outputs": [
    {
     "name": "stdout",
     "output_type": "stream",
     "text": [
      "0\n",
      "1\n",
      "2\n",
      "3\n"
     ]
    }
   ],
   "source": [
    "# one df per cam\n",
    "parts = np.empty(4, dtype=object)\n",
    "\n",
    "for i in list(range(4)):\n",
    "    print(i)\n",
    "\n",
    "    tpls = []\n",
    "    myid = 0\n",
    "    for f, fc in repo.iter_frames(begin=begin_ts, end=end_ts, cam=i):\n",
    "        for d in f.detectionsUnion.detectionsDP:\n",
    "            d = Detection(d.idx, d.xpos, d.ypos, d.radius, d.zRotation, list(d.decodedId), myid, f.timestamp, fc.camId, fc.id)\n",
    "            tpls.append(d)\n",
    "        myid += 1\n",
    "\n",
    "    df = DataFrame(tpls)\n",
    "    df = prep.calcIds(df,conf)\n",
    "    parts[i] = df"
   ]
  },
  {
   "cell_type": "code",
   "execution_count": 167,
   "metadata": {
    "ExecuteTime": {
     "end_time": "2017-01-22T10:23:43.451049",
     "start_time": "2017-01-22T10:23:43.435380"
    },
    "collapsed": true
   },
   "outputs": [],
   "source": [
    "# cam 0 und cam1 nach rechts verschieben\n",
    "parts[0].xpos = parts[0].xpos + xmax + offset\n",
    "parts[1].xpos = parts[1].xpos + xmax + offset"
   ]
  },
  {
   "cell_type": "code",
   "execution_count": 168,
   "metadata": {
    "ExecuteTime": {
     "end_time": "2017-01-22T10:23:43.726436",
     "start_time": "2017-01-22T10:23:43.454426"
    },
    "collapsed": true
   },
   "outputs": [],
   "source": [
    "# Seiten zusammenfugen\n",
    "side0 = pd.concat([parts[3], parts[0]])\n",
    "side1 = pd.concat([parts[2], parts[1]])"
   ]
  },
  {
   "cell_type": "code",
   "execution_count": 169,
   "metadata": {
    "ExecuteTime": {
     "end_time": "2017-01-22T10:24:14.105654",
     "start_time": "2017-01-22T10:23:43.729430"
    },
    "collapsed": false
   },
   "outputs": [],
   "source": [
    "close1 = prep.get_close_bees_ckd(side0, dist)\n",
    "close2 = prep.get_close_bees_ckd(side1, dist)"
   ]
  },
  {
   "cell_type": "code",
   "execution_count": 170,
   "metadata": {
    "ExecuteTime": {
     "end_time": "2017-01-22T10:24:14.122695",
     "start_time": "2017-01-22T10:24:14.109586"
    },
    "collapsed": true
   },
   "outputs": [],
   "source": [
    "close = pd.concat([close1,close2])"
   ]
  },
  {
   "cell_type": "code",
   "execution_count": 171,
   "metadata": {
    "ExecuteTime": {
     "end_time": "2017-01-22T10:26:29.738299",
     "start_time": "2017-01-22T10:24:14.127667"
    },
    "collapsed": true
   },
   "outputs": [],
   "source": [
    "p = prep.bee_pairs_to_timeseries(close)"
   ]
  },
  {
   "cell_type": "code",
   "execution_count": 172,
   "metadata": {
    "ExecuteTime": {
     "end_time": "2017-01-22T10:27:47.464327",
     "start_time": "2017-01-22T10:26:29.742300"
    },
    "collapsed": true
   },
   "outputs": [],
   "source": [
    "edges =  prep.extract_interactions(p,ilen)"
   ]
  },
  {
   "cell_type": "code",
   "execution_count": 173,
   "metadata": {
    "ExecuteTime": {
     "end_time": "2017-01-22T10:27:47.486254",
     "start_time": "2017-01-22T10:27:47.469884"
    },
    "collapsed": true
   },
   "outputs": [],
   "source": [
    "filename = \"testframes\""
   ]
  },
  {
   "cell_type": "code",
   "execution_count": 174,
   "metadata": {
    "ExecuteTime": {
     "end_time": "2017-01-22T10:27:47.794054",
     "start_time": "2017-01-22T10:27:47.490538"
    },
    "collapsed": false
   },
   "outputs": [],
   "source": [
    "G = prep.create_graph2(edges)"
   ]
  },
  {
   "cell_type": "code",
   "execution_count": 175,
   "metadata": {
    "ExecuteTime": {
     "end_time": "2017-01-22T10:27:49.254431",
     "start_time": "2017-01-22T10:27:47.797498"
    },
    "collapsed": false
   },
   "outputs": [
    {
     "name": "stdout",
     "output_type": "stream",
     "text": [
      "Name: \n",
      "Type: Graph\n",
      "Number of nodes: 2220\n",
      "Number of edges: 26680\n",
      "Average degree:  24.0360\n"
     ]
    }
   ],
   "source": [
    "nx.write_graphml(G, \"{}_{}conf_{}dist_{}ilen\".format(filename,str(c), str(dist), str(ilen)) + \".graphml\")\n",
    "print(nx.info(G))"
   ]
  },
  {
   "cell_type": "markdown",
   "metadata": {},
   "source": [
    "# Ohne Multithreading"
   ]
  },
  {
   "cell_type": "code",
   "execution_count": null,
   "metadata": {
    "collapsed": true
   },
   "outputs": [],
   "source": []
  }
 ],
 "metadata": {
  "kernelspec": {
   "display_name": "Python 3",
   "language": "python",
   "name": "python3"
  },
  "language_info": {
   "codemirror_mode": {
    "name": "ipython",
    "version": 3
   },
   "file_extension": ".py",
   "mimetype": "text/x-python",
   "name": "python",
   "nbconvert_exporter": "python",
   "pygments_lexer": "ipython3",
   "version": "3.5.2"
  },
  "toc": {
   "colors": {
    "hover_highlight": "#DAA520",
    "running_highlight": "#FF0000",
    "selected_highlight": "#FFD700"
   },
   "moveMenuLeft": true,
   "nav_menu": {
    "height": "30px",
    "width": "252px"
   },
   "navigate_menu": true,
   "number_sections": true,
   "sideBar": true,
   "threshold": 4,
   "toc_cell": false,
   "toc_section_display": "block",
   "toc_window_display": false
  }
 },
 "nbformat": 4,
 "nbformat_minor": 2
}
