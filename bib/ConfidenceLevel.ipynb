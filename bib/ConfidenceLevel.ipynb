{
 "cells": [
  {
   "cell_type": "code",
   "execution_count": 72,
   "metadata": {
    "ExecuteTime": {
     "end_time": "2017-02-27T11:28:12.488044",
     "start_time": "2017-02-27T11:28:12.466597"
    },
    "collapsed": true
   },
   "outputs": [],
   "source": [
    "import pandas as pd\n",
    "import numpy as np\n",
    "from pandas import DataFrame, Series\n",
    "import datetime\n",
    "import pytz\n",
    "import matplotlib.pyplot as plt\n",
    "import preprocessing as prep\n",
    "from collections import namedtuple\n",
    "from bb_binary import FrameContainer, Repository, load_frame_container\n",
    "import numpy as np\n",
    "import numpy.ma as npma\n",
    "import datetime\n",
    "import csv\n",
    "import seaborn as sns\n",
    "from collections import Counter\n",
    "sns.set_context(\"paper\")\n",
    "import hatching as ht"
   ]
  },
  {
   "cell_type": "code",
   "execution_count": 36,
   "metadata": {
    "ExecuteTime": {
     "end_time": "2017-02-27T10:13:29.683745",
     "start_time": "2017-02-27T10:13:29.674646"
    },
    "collapsed": true
   },
   "outputs": [],
   "source": [
    "%matplotlib inline"
   ]
  },
  {
   "cell_type": "code",
   "execution_count": 437,
   "metadata": {
    "ExecuteTime": {
     "end_time": "2017-03-01T12:33:27.278044",
     "start_time": "2017-03-01T12:33:27.267997"
    },
    "collapsed": true
   },
   "outputs": [],
   "source": [
    "start = \"2016-07-26T16:00:00Z\"\n",
    "start_dt = datetime.datetime.strptime(start, \"%Y-%m-%dT%H:%M:%SZ\").replace(tzinfo=pytz.UTC)\n",
    "start_ts = start_dt.timestamp()\n",
    "end_dt = start_dt + datetime.timedelta(minutes=60)\n",
    "end_ts = end_dt.timestamp()"
   ]
  },
  {
   "cell_type": "code",
   "execution_count": 438,
   "metadata": {
    "ExecuteTime": {
     "end_time": "2017-03-01T12:35:50.661508",
     "start_time": "2017-03-01T12:33:29.696005"
    },
    "collapsed": true
   },
   "outputs": [],
   "source": [
    "df0 = prep.getDF(\"/mnt/data2016/\",start_ts, end_ts, 0)\n",
    "df1 = prep.getDF(\"/mnt/data2016/\",start_ts, end_ts, 1)\n",
    "df2 = prep.getDF(\"/mnt/data2016/\",start_ts, end_ts, 2)\n",
    "df3 = prep.getDF(\"/mnt/data2016/\",start_ts, end_ts, 3)"
   ]
  },
  {
   "cell_type": "code",
   "execution_count": 439,
   "metadata": {
    "ExecuteTime": {
     "end_time": "2017-03-01T12:43:08.836211",
     "start_time": "2017-03-01T12:43:05.553552"
    },
    "collapsed": true
   },
   "outputs": [],
   "source": [
    "data2 = pd.concat([df0,df1,df2,df3])"
   ]
  },
  {
   "cell_type": "code",
   "execution_count": 161,
   "metadata": {
    "ExecuteTime": {
     "end_time": "2017-02-27T13:07:02.182591",
     "start_time": "2017-02-27T13:07:02.092866"
    },
    "collapsed": false
   },
   "outputs": [],
   "source": [
    "data = pd.concat([df0,df1,df2,df3])"
   ]
  },
  {
   "cell_type": "code",
   "execution_count": 162,
   "metadata": {
    "ExecuteTime": {
     "end_time": "2017-02-27T13:07:02.306508",
     "start_time": "2017-02-27T13:07:02.185417"
    },
    "collapsed": false
   },
   "outputs": [
    {
     "data": {
      "text/html": [
       "<div>\n",
       "<table border=\"1\" class=\"dataframe\">\n",
       "  <thead>\n",
       "    <tr style=\"text-align: right;\">\n",
       "      <th></th>\n",
       "      <th>idx</th>\n",
       "      <th>xpos</th>\n",
       "      <th>ypos</th>\n",
       "      <th>radius</th>\n",
       "      <th>zRotation</th>\n",
       "      <th>decodedId</th>\n",
       "      <th>frame_idx</th>\n",
       "      <th>timestamp</th>\n",
       "      <th>cam_id</th>\n",
       "      <th>fc_id</th>\n",
       "    </tr>\n",
       "  </thead>\n",
       "  <tbody>\n",
       "    <tr>\n",
       "      <th>0</th>\n",
       "      <td>0</td>\n",
       "      <td>51</td>\n",
       "      <td>1337</td>\n",
       "      <td>22.927212</td>\n",
       "      <td>-0.436176</td>\n",
       "      <td>[255, 255, 0, 255, 0, 0, 254, 255, 255, 0, 255...</td>\n",
       "      <td>0</td>\n",
       "      <td>1.469549e+09</td>\n",
       "      <td>0</td>\n",
       "      <td>10487780367802891005</td>\n",
       "    </tr>\n",
       "    <tr>\n",
       "      <th>1</th>\n",
       "      <td>1</td>\n",
       "      <td>163</td>\n",
       "      <td>1538</td>\n",
       "      <td>22.708023</td>\n",
       "      <td>0.595369</td>\n",
       "      <td>[255, 255, 255, 255, 0, 0, 0, 254, 255, 255, 2...</td>\n",
       "      <td>0</td>\n",
       "      <td>1.469549e+09</td>\n",
       "      <td>0</td>\n",
       "      <td>10487780367802891005</td>\n",
       "    </tr>\n",
       "    <tr>\n",
       "      <th>2</th>\n",
       "      <td>2</td>\n",
       "      <td>189</td>\n",
       "      <td>2626</td>\n",
       "      <td>23.293472</td>\n",
       "      <td>0.364826</td>\n",
       "      <td>[126, 134, 144, 71, 92, 248, 21, 15, 8, 130, 1...</td>\n",
       "      <td>0</td>\n",
       "      <td>1.469549e+09</td>\n",
       "      <td>0</td>\n",
       "      <td>10487780367802891005</td>\n",
       "    </tr>\n",
       "  </tbody>\n",
       "</table>\n",
       "</div>"
      ],
      "text/plain": [
       "   idx  xpos  ypos     radius  zRotation  \\\n",
       "0    0    51  1337  22.927212  -0.436176   \n",
       "1    1   163  1538  22.708023   0.595369   \n",
       "2    2   189  2626  23.293472   0.364826   \n",
       "\n",
       "                                           decodedId  frame_idx     timestamp  \\\n",
       "0  [255, 255, 0, 255, 0, 0, 254, 255, 255, 0, 255...          0  1.469549e+09   \n",
       "1  [255, 255, 255, 255, 0, 0, 0, 254, 255, 255, 2...          0  1.469549e+09   \n",
       "2  [126, 134, 144, 71, 92, 248, 21, 15, 8, 130, 1...          0  1.469549e+09   \n",
       "\n",
       "   cam_id                 fc_id  \n",
       "0       0  10487780367802891005  \n",
       "1       0  10487780367802891005  \n",
       "2       0  10487780367802891005  "
      ]
     },
     "execution_count": 162,
     "metadata": {},
     "output_type": "execute_result"
    }
   ],
   "source": [
    "data.head(3)"
   ]
  },
  {
   "cell_type": "code",
   "execution_count": 163,
   "metadata": {
    "ExecuteTime": {
     "end_time": "2017-02-27T13:07:40.524678",
     "start_time": "2017-02-27T13:07:02.309029"
    },
    "collapsed": true
   },
   "outputs": [],
   "source": [
    "data = prep.calcIds(data, 0, 2016)"
   ]
  },
  {
   "cell_type": "code",
   "execution_count": 164,
   "metadata": {
    "ExecuteTime": {
     "end_time": "2017-02-27T13:07:43.898784",
     "start_time": "2017-02-27T13:07:40.528681"
    },
    "collapsed": true
   },
   "outputs": [],
   "source": [
    "total = data.shape[0]\n",
    "remaining = []\n",
    "for i in np.arange(0,1.01, 0.01):\n",
    "    df = data[data.confidence >= i]\n",
    "    remaining.append({'conf': i*100, 'rest': df.shape[0], 'restP': df.shape[0]/total*100})"
   ]
  },
  {
   "cell_type": "code",
   "execution_count": 165,
   "metadata": {
    "ExecuteTime": {
     "end_time": "2017-02-27T13:07:43.907258",
     "start_time": "2017-02-27T13:07:43.901406"
    },
    "collapsed": false
   },
   "outputs": [],
   "source": [
    "plotData = DataFrame(remaining)"
   ]
  },
  {
   "cell_type": "code",
   "execution_count": 166,
   "metadata": {
    "ExecuteTime": {
     "end_time": "2017-02-27T13:07:44.345427",
     "start_time": "2017-02-27T13:07:43.910850"
    },
    "collapsed": false
   },
   "outputs": [
    {
     "data": {
      "image/png": "[encoded data removed]",
      "text/plain": [
       "<matplotlib.figure.Figure at 0x7f2aca470240>"
      ]
     },
     "metadata": {},
     "output_type": "display_data"
    }
   ],
   "source": [
    "fig, ax = plt.subplots()\n",
    "ax = plotData.plot(x='conf', y='restP', kind='area', alpha=0.75, ax=ax, colormap='summer', legend=False)\n",
    "#ax.set_title('Remaining Data & Confidence Level')\n",
    "ax.set_xlabel('Confidence Level in %')\n",
    "ax.set_ylabel('Remaining detections in %')\n",
    "fig.set_size_inches(5.91553/2,3)\n",
    "plt.tight_layout()\n",
    "plt.savefig('confVSamount.pdf')"
   ]
  },
  {
   "cell_type": "code",
   "execution_count": 167,
   "metadata": {
    "ExecuteTime": {
     "end_time": "2017-02-27T13:07:48.082132",
     "start_time": "2017-02-27T13:07:44.348151"
    },
    "collapsed": true
   },
   "outputs": [],
   "source": [
    "total = 4096\n",
    "remainingIDs = []\n",
    "for i in np.arange(0,1.01, 0.01):\n",
    "    df = data[data.confidence >= i]\n",
    "    ids = len(df.id.unique())\n",
    "    \n",
    "    remainingIDs.append({'conf': i*100, 'rest': ids, 'restP': ids/total*100})"
   ]
  },
  {
   "cell_type": "code",
   "execution_count": 168,
   "metadata": {
    "ExecuteTime": {
     "end_time": "2017-02-27T13:07:48.092730",
     "start_time": "2017-02-27T13:07:48.084971"
    },
    "collapsed": false
   },
   "outputs": [],
   "source": [
    "plotDataIDs = DataFrame(remainingIDs)"
   ]
  },
  {
   "cell_type": "code",
   "execution_count": 169,
   "metadata": {
    "ExecuteTime": {
     "end_time": "2017-02-27T13:07:48.549444",
     "start_time": "2017-02-27T13:07:48.095736"
    },
    "collapsed": false
   },
   "outputs": [
    {
     "data": {
      "image/png": "[encoded data removed]",
      "text/plain": [
       "<matplotlib.figure.Figure at 0x7f2aca45f5c0>"
      ]
     },
     "metadata": {},
     "output_type": "display_data"
    }
   ],
   "source": [
    "fig, ax = plt.subplots()\n",
    "ax = plotDataIDs.plot(x='conf', y='restP', kind='area', alpha=0.75, ax=ax, colormap='summer', legend=False)\n",
    "#ax.set_title('Unique IDs & Confidence Level')\n",
    "ax.set_xlabel('Confidence Level in %')\n",
    "ax.set_ylabel('Number of Unique IDs in %')\n",
    "fig.set_size_inches(5.91553/2,3)\n",
    "plt.tight_layout()\n",
    "plt.savefig('confVSids.pdf')"
   ]
  },
  {
   "cell_type": "code",
   "execution_count": 170,
   "metadata": {
    "ExecuteTime": {
     "end_time": "2017-02-27T13:07:48.769208",
     "start_time": "2017-02-27T13:07:48.552244"
    },
    "collapsed": true
   },
   "outputs": [],
   "source": [
    "aa = ht.get_all_bees_age(start_dt)"
   ]
  },
  {
   "cell_type": "code",
   "execution_count": 171,
   "metadata": {
    "ExecuteTime": {
     "end_time": "2017-02-27T13:10:39.367623",
     "start_time": "2017-02-27T13:07:48.772012"
    },
    "collapsed": true
   },
   "outputs": [],
   "source": [
    "data['age'] = data.id.apply(lambda x: aa.iloc[x].age)"
   ]
  },
  {
   "cell_type": "code",
   "execution_count": 172,
   "metadata": {
    "ExecuteTime": {
     "end_time": "2017-02-27T13:10:39.403470",
     "start_time": "2017-02-27T13:10:39.371719"
    },
    "collapsed": false
   },
   "outputs": [
    {
     "data": {
      "text/html": [
       "<div>\n",
       "<table border=\"1\" class=\"dataframe\">\n",
       "  <thead>\n",
       "    <tr style=\"text-align: right;\">\n",
       "      <th></th>\n",
       "      <th>idx</th>\n",
       "      <th>xpos</th>\n",
       "      <th>ypos</th>\n",
       "      <th>radius</th>\n",
       "      <th>zRotation</th>\n",
       "      <th>frame_idx</th>\n",
       "      <th>timestamp</th>\n",
       "      <th>cam_id</th>\n",
       "      <th>fc_id</th>\n",
       "      <th>confidence</th>\n",
       "      <th>id</th>\n",
       "      <th>age</th>\n",
       "    </tr>\n",
       "  </thead>\n",
       "  <tbody>\n",
       "    <tr>\n",
       "      <th>0</th>\n",
       "      <td>0</td>\n",
       "      <td>51</td>\n",
       "      <td>1337</td>\n",
       "      <td>22.927212</td>\n",
       "      <td>-0.436176</td>\n",
       "      <td>0</td>\n",
       "      <td>1.469549e+09</td>\n",
       "      <td>0</td>\n",
       "      <td>10487780367802891005</td>\n",
       "      <td>0.992157</td>\n",
       "      <td>3387</td>\n",
       "      <td>15</td>\n",
       "    </tr>\n",
       "    <tr>\n",
       "      <th>1</th>\n",
       "      <td>1</td>\n",
       "      <td>163</td>\n",
       "      <td>1538</td>\n",
       "      <td>22.708023</td>\n",
       "      <td>0.595369</td>\n",
       "      <td>0</td>\n",
       "      <td>1.469549e+09</td>\n",
       "      <td>0</td>\n",
       "      <td>10487780367802891005</td>\n",
       "      <td>0.992157</td>\n",
       "      <td>3870</td>\n",
       "      <td>5</td>\n",
       "    </tr>\n",
       "    <tr>\n",
       "      <th>2</th>\n",
       "      <td>2</td>\n",
       "      <td>189</td>\n",
       "      <td>2626</td>\n",
       "      <td>23.293472</td>\n",
       "      <td>0.364826</td>\n",
       "      <td>0</td>\n",
       "      <td>1.469549e+09</td>\n",
       "      <td>0</td>\n",
       "      <td>10487780367802891005</td>\n",
       "      <td>0.011765</td>\n",
       "      <td>1607</td>\n",
       "      <td>4</td>\n",
       "    </tr>\n",
       "    <tr>\n",
       "      <th>3</th>\n",
       "      <td>3</td>\n",
       "      <td>202</td>\n",
       "      <td>924</td>\n",
       "      <td>22.790953</td>\n",
       "      <td>0.147058</td>\n",
       "      <td>0</td>\n",
       "      <td>1.469549e+09</td>\n",
       "      <td>0</td>\n",
       "      <td>10487780367802891005</td>\n",
       "      <td>0.992157</td>\n",
       "      <td>1854</td>\n",
       "      <td>5</td>\n",
       "    </tr>\n",
       "    <tr>\n",
       "      <th>4</th>\n",
       "      <td>4</td>\n",
       "      <td>201</td>\n",
       "      <td>1990</td>\n",
       "      <td>23.085573</td>\n",
       "      <td>0.218766</td>\n",
       "      <td>0</td>\n",
       "      <td>1.469549e+09</td>\n",
       "      <td>0</td>\n",
       "      <td>10487780367802891005</td>\n",
       "      <td>0.050980</td>\n",
       "      <td>541</td>\n",
       "      <td>-100</td>\n",
       "    </tr>\n",
       "  </tbody>\n",
       "</table>\n",
       "</div>"
      ],
      "text/plain": [
       "   idx  xpos  ypos     radius  zRotation  frame_idx     timestamp  cam_id  \\\n",
       "0    0    51  1337  22.927212  -0.436176          0  1.469549e+09       0   \n",
       "1    1   163  1538  22.708023   0.595369          0  1.469549e+09       0   \n",
       "2    2   189  2626  23.293472   0.364826          0  1.469549e+09       0   \n",
       "3    3   202   924  22.790953   0.147058          0  1.469549e+09       0   \n",
       "4    4   201  1990  23.085573   0.218766          0  1.469549e+09       0   \n",
       "\n",
       "                  fc_id  confidence    id  age  \n",
       "0  10487780367802891005    0.992157  3387   15  \n",
       "1  10487780367802891005    0.992157  3870    5  \n",
       "2  10487780367802891005    0.011765  1607    4  \n",
       "3  10487780367802891005    0.992157  1854    5  \n",
       "4  10487780367802891005    0.050980   541 -100  "
      ]
     },
     "execution_count": 172,
     "metadata": {},
     "output_type": "execute_result"
    }
   ],
   "source": [
    "data.head()"
   ]
  },
  {
   "cell_type": "code",
   "execution_count": 173,
   "metadata": {
    "ExecuteTime": {
     "end_time": "2017-02-27T13:10:44.415174",
     "start_time": "2017-02-27T13:10:39.406765"
    },
    "collapsed": true
   },
   "outputs": [],
   "source": [
    "remainingDetAge = []\n",
    "for i in np.arange(0,1.01, 0.01):\n",
    "    df = data[data.confidence >= i]\n",
    "    c = i*100\n",
    "    numDet = df.shape[0]\n",
    "    wrongs = df[df.age < 0].shape[0]\n",
    "    remainingDetAge.append({'conf': c, 'detections': numDet, 'wrongs': wrongs, 'wrongsP': (wrongs*2)/numDet*100})"
   ]
  },
  {
   "cell_type": "code",
   "execution_count": 174,
   "metadata": {
    "ExecuteTime": {
     "end_time": "2017-02-27T13:10:44.423703",
     "start_time": "2017-02-27T13:10:44.417971"
    },
    "collapsed": false
   },
   "outputs": [],
   "source": [
    "plotDataDetAge = DataFrame(remainingDetAge)"
   ]
  },
  {
   "cell_type": "code",
   "execution_count": 187,
   "metadata": {
    "ExecuteTime": {
     "end_time": "2017-02-27T13:22:34.928162",
     "start_time": "2017-02-27T13:22:34.910736"
    },
    "collapsed": false
   },
   "outputs": [
    {
     "data": {
      "text/html": [
       "<div>\n",
       "<table border=\"1\" class=\"dataframe\">\n",
       "  <thead>\n",
       "    <tr style=\"text-align: right;\">\n",
       "      <th></th>\n",
       "      <th>conf</th>\n",
       "      <th>detections</th>\n",
       "      <th>wrongs</th>\n",
       "      <th>wrongsP</th>\n",
       "    </tr>\n",
       "  </thead>\n",
       "  <tbody>\n",
       "    <tr>\n",
       "      <th>96</th>\n",
       "      <td>96.0</td>\n",
       "      <td>320361</td>\n",
       "      <td>6827</td>\n",
       "      <td>4.262067</td>\n",
       "    </tr>\n",
       "    <tr>\n",
       "      <th>97</th>\n",
       "      <td>97.0</td>\n",
       "      <td>301628</td>\n",
       "      <td>5634</td>\n",
       "      <td>3.735727</td>\n",
       "    </tr>\n",
       "    <tr>\n",
       "      <th>98</th>\n",
       "      <td>98.0</td>\n",
       "      <td>286689</td>\n",
       "      <td>4893</td>\n",
       "      <td>3.413455</td>\n",
       "    </tr>\n",
       "    <tr>\n",
       "      <th>99</th>\n",
       "      <td>99.0</td>\n",
       "      <td>262560</td>\n",
       "      <td>4003</td>\n",
       "      <td>3.049208</td>\n",
       "    </tr>\n",
       "    <tr>\n",
       "      <th>100</th>\n",
       "      <td>100.0</td>\n",
       "      <td>203955</td>\n",
       "      <td>2508</td>\n",
       "      <td>2.459366</td>\n",
       "    </tr>\n",
       "  </tbody>\n",
       "</table>\n",
       "</div>"
      ],
      "text/plain": [
       "      conf  detections  wrongs   wrongsP\n",
       "96    96.0      320361    6827  4.262067\n",
       "97    97.0      301628    5634  3.735727\n",
       "98    98.0      286689    4893  3.413455\n",
       "99    99.0      262560    4003  3.049208\n",
       "100  100.0      203955    2508  2.459366"
      ]
     },
     "execution_count": 187,
     "metadata": {},
     "output_type": "execute_result"
    }
   ],
   "source": [
    "plotDataDetAge.tail()"
   ]
  },
  {
   "cell_type": "code",
   "execution_count": 189,
   "metadata": {
    "ExecuteTime": {
     "end_time": "2017-02-27T13:23:44.648624",
     "start_time": "2017-02-27T13:23:44.305347"
    },
    "collapsed": false
   },
   "outputs": [
    {
     "data": {
      "image/png": "[encoded data removed]",
      "text/plain": [
       "<matplotlib.figure.Figure at 0x7f2accb3fac8>"
      ]
     },
     "metadata": {},
     "output_type": "display_data"
    }
   ],
   "source": [
    "fig, ax = plt.subplots()\n",
    "ax = plotDataDetAge.plot(x='conf', y='wrongsP', kind='area', alpha=0.75, ax=ax, colormap='summer', legend=False, ylim=(0,100))\n",
    "#ax.set_title('Unique IDs & Confidence Level')\n",
    "ax.set_xlabel('Confidence Level in %')\n",
    "ax.set_ylabel('Wrong Detections in %')\n",
    "\n",
    "plt.axhline(2.456, color='0.25', linestyle='dotted', linewidth=1)\n",
    "plt.text(20,4,'2.5%',rotation=0)\n",
    "    \n",
    "fig.set_size_inches(5.91553/2,3)\n",
    "plt.tight_layout()\n",
    "plt.savefig('confVSdetquality.pdf')"
   ]
  },
  {
   "cell_type": "code",
   "execution_count": 176,
   "metadata": {
    "ExecuteTime": {
     "end_time": "2017-02-27T13:10:44.924386",
     "start_time": "2017-02-27T13:10:44.900876"
    },
    "collapsed": false
   },
   "outputs": [
    {
     "data": {
      "text/html": [
       "<div>\n",
       "<table border=\"1\" class=\"dataframe\">\n",
       "  <thead>\n",
       "    <tr style=\"text-align: right;\">\n",
       "      <th></th>\n",
       "      <th>idx</th>\n",
       "      <th>xpos</th>\n",
       "      <th>ypos</th>\n",
       "      <th>radius</th>\n",
       "      <th>zRotation</th>\n",
       "      <th>frame_idx</th>\n",
       "      <th>timestamp</th>\n",
       "      <th>cam_id</th>\n",
       "      <th>fc_id</th>\n",
       "      <th>confidence</th>\n",
       "      <th>id</th>\n",
       "      <th>age</th>\n",
       "    </tr>\n",
       "  </thead>\n",
       "  <tbody>\n",
       "    <tr>\n",
       "      <th>0</th>\n",
       "      <td>0</td>\n",
       "      <td>51</td>\n",
       "      <td>1337</td>\n",
       "      <td>22.927212</td>\n",
       "      <td>-0.436176</td>\n",
       "      <td>0</td>\n",
       "      <td>1.469549e+09</td>\n",
       "      <td>0</td>\n",
       "      <td>10487780367802891005</td>\n",
       "      <td>0.992157</td>\n",
       "      <td>3387</td>\n",
       "      <td>15</td>\n",
       "    </tr>\n",
       "    <tr>\n",
       "      <th>1</th>\n",
       "      <td>1</td>\n",
       "      <td>163</td>\n",
       "      <td>1538</td>\n",
       "      <td>22.708023</td>\n",
       "      <td>0.595369</td>\n",
       "      <td>0</td>\n",
       "      <td>1.469549e+09</td>\n",
       "      <td>0</td>\n",
       "      <td>10487780367802891005</td>\n",
       "      <td>0.992157</td>\n",
       "      <td>3870</td>\n",
       "      <td>5</td>\n",
       "    </tr>\n",
       "  </tbody>\n",
       "</table>\n",
       "</div>"
      ],
      "text/plain": [
       "   idx  xpos  ypos     radius  zRotation  frame_idx     timestamp  cam_id  \\\n",
       "0    0    51  1337  22.927212  -0.436176          0  1.469549e+09       0   \n",
       "1    1   163  1538  22.708023   0.595369          0  1.469549e+09       0   \n",
       "\n",
       "                  fc_id  confidence    id  age  \n",
       "0  10487780367802891005    0.992157  3387   15  \n",
       "1  10487780367802891005    0.992157  3870    5  "
      ]
     },
     "execution_count": 176,
     "metadata": {},
     "output_type": "execute_result"
    }
   ],
   "source": [
    "data.head(2)"
   ]
  },
  {
   "cell_type": "code",
   "execution_count": 177,
   "metadata": {
    "ExecuteTime": {
     "end_time": "2017-02-27T13:12:36.763785",
     "start_time": "2017-02-27T13:10:44.926955"
    },
    "collapsed": false
   },
   "outputs": [],
   "source": [
    "total = 4096\n",
    "remainingIDsAge = []\n",
    "\n",
    "for i in np.arange(0,1.01, 0.01):\n",
    "    df = data[data.confidence >= i]\n",
    "    ids = DataFrame(df.id.unique(), columns=['id'])\n",
    "    ids['age'] = ids.id.apply(lambda x: aa.iloc[x].age)\n",
    "    \n",
    "    numIDs = ids.shape[0]\n",
    "    wrongs = ids[ids.age < 0].shape[0]\n",
    "    \n",
    "    remainingIDsAge.append({'conf': i*100, 'IDs': numIDs, 'wrongs': wrongs, 'wrongsP':  (wrongs)/numIDs*100})"
   ]
  },
  {
   "cell_type": "code",
   "execution_count": 178,
   "metadata": {
    "ExecuteTime": {
     "end_time": "2017-02-27T13:12:36.774638",
     "start_time": "2017-02-27T13:12:36.767615"
    },
    "collapsed": false
   },
   "outputs": [],
   "source": [
    "plotDataIDsAge = DataFrame(remainingIDsAge)"
   ]
  },
  {
   "cell_type": "code",
   "execution_count": 186,
   "metadata": {
    "ExecuteTime": {
     "end_time": "2017-02-27T13:21:53.680869",
     "start_time": "2017-02-27T13:21:53.654593"
    },
    "collapsed": false
   },
   "outputs": [
    {
     "data": {
      "text/html": [
       "<div>\n",
       "<table border=\"1\" class=\"dataframe\">\n",
       "  <thead>\n",
       "    <tr style=\"text-align: right;\">\n",
       "      <th></th>\n",
       "      <th>IDs</th>\n",
       "      <th>conf</th>\n",
       "      <th>wrongs</th>\n",
       "      <th>wrongsP</th>\n",
       "    </tr>\n",
       "  </thead>\n",
       "  <tbody>\n",
       "    <tr>\n",
       "      <th>96</th>\n",
       "      <td>1962</td>\n",
       "      <td>96.0</td>\n",
       "      <td>951</td>\n",
       "      <td>48.470948</td>\n",
       "    </tr>\n",
       "    <tr>\n",
       "      <th>97</th>\n",
       "      <td>1790</td>\n",
       "      <td>97.0</td>\n",
       "      <td>825</td>\n",
       "      <td>46.089385</td>\n",
       "    </tr>\n",
       "    <tr>\n",
       "      <th>98</th>\n",
       "      <td>1670</td>\n",
       "      <td>98.0</td>\n",
       "      <td>733</td>\n",
       "      <td>43.892216</td>\n",
       "    </tr>\n",
       "    <tr>\n",
       "      <th>99</th>\n",
       "      <td>1499</td>\n",
       "      <td>99.0</td>\n",
       "      <td>600</td>\n",
       "      <td>40.026684</td>\n",
       "    </tr>\n",
       "    <tr>\n",
       "      <th>100</th>\n",
       "      <td>1217</td>\n",
       "      <td>100.0</td>\n",
       "      <td>368</td>\n",
       "      <td>30.238291</td>\n",
       "    </tr>\n",
       "  </tbody>\n",
       "</table>\n",
       "</div>"
      ],
      "text/plain": [
       "      IDs   conf  wrongs    wrongsP\n",
       "96   1962   96.0     951  48.470948\n",
       "97   1790   97.0     825  46.089385\n",
       "98   1670   98.0     733  43.892216\n",
       "99   1499   99.0     600  40.026684\n",
       "100  1217  100.0     368  30.238291"
      ]
     },
     "execution_count": 186,
     "metadata": {},
     "output_type": "execute_result"
    }
   ],
   "source": [
    "plotDataIDsAge.tail()"
   ]
  },
  {
   "cell_type": "code",
   "execution_count": 190,
   "metadata": {
    "ExecuteTime": {
     "end_time": "2017-02-27T13:24:55.386823",
     "start_time": "2017-02-27T13:24:55.039582"
    },
    "collapsed": false
   },
   "outputs": [
    {
     "data": {
      "image/png": "[encoded data removed]",
      "text/plain": [
       "<matplotlib.figure.Figure at 0x7f2accccab70>"
      ]
     },
     "metadata": {},
     "output_type": "display_data"
    }
   ],
   "source": [
    "fig, ax = plt.subplots()\n",
    "ax = plotDataIDsAge.plot(x='conf', y='wrongsP', kind='area', alpha=0.75, ax=ax, colormap='summer', legend=False, ylim=(0,100), xlim=(0,100))\n",
    "#ax.set_title('Unique IDs & Confidence Level')\n",
    "ax.set_xlabel('Confidence Level in %')\n",
    "ax.set_ylabel('Wrong IDs in %')\n",
    "\n",
    "plt.axhline(30.24, color='0.25', linestyle='dotted', linewidth=1)\n",
    "plt.text(20,32,'30.2%',rotation=0)\n",
    "\n",
    "fig.set_size_inches(5.91553/2,3)\n",
    "plt.tight_layout()\n",
    "plt.savefig('confVSidsquality.pdf')"
   ]
  },
  {
   "cell_type": "code",
   "execution_count": 435,
   "metadata": {
    "ExecuteTime": {
     "end_time": "2017-03-01T12:31:31.789802",
     "start_time": "2017-03-01T12:31:31.771488"
    },
    "collapsed": false
   },
   "outputs": [
    {
     "data": {
      "text/html": [
       "<div>\n",
       "<table border=\"1\" class=\"dataframe\">\n",
       "  <thead>\n",
       "    <tr style=\"text-align: right;\">\n",
       "      <th></th>\n",
       "      <th>id</th>\n",
       "      <th>frequency</th>\n",
       "      <th>age</th>\n",
       "    </tr>\n",
       "  </thead>\n",
       "  <tbody>\n",
       "    <tr>\n",
       "      <th>0</th>\n",
       "      <td>7</td>\n",
       "      <td>3</td>\n",
       "      <td>-100</td>\n",
       "    </tr>\n",
       "    <tr>\n",
       "      <th>1</th>\n",
       "      <td>8</td>\n",
       "      <td>69</td>\n",
       "      <td>1</td>\n",
       "    </tr>\n",
       "  </tbody>\n",
       "</table>\n",
       "</div>"
      ],
      "text/plain": [
       "   id  frequency  age\n",
       "0   7          3 -100\n",
       "1   8         69    1"
      ]
     },
     "execution_count": 435,
     "metadata": {},
     "output_type": "execute_result"
    }
   ],
   "source": [
    "dffrequency.head(2)"
   ]
  },
  {
   "cell_type": "code",
   "execution_count": 236,
   "metadata": {
    "ExecuteTime": {
     "end_time": "2017-02-27T14:22:17.010107",
     "start_time": "2017-02-27T14:22:16.255041"
    },
    "collapsed": false
   },
   "outputs": [],
   "source": [
    "dffrequency = DataFrame(data[data.confidence >= 0.95].groupby(by='id').size(), columns=['frequency']).reset_index()\n",
    "dffrequency['age'] = dffrequency.id.apply(lambda x: aa.iloc[x].age)"
   ]
  },
  {
   "cell_type": "code",
   "execution_count": 436,
   "metadata": {
    "ExecuteTime": {
     "end_time": "2017-03-01T12:32:08.025997",
     "start_time": "2017-03-01T12:32:07.525191"
    },
    "collapsed": false
   },
   "outputs": [
    {
     "data": {
      "text/plain": [
       "<matplotlib.axes._subplots.AxesSubplot at 0x7f2ab8dd6c50>"
      ]
     },
     "execution_count": 436,
     "metadata": {},
     "output_type": "execute_result"
    },
    {
     "data": {
      "image/png": "[encoded data removed]",
      "text/plain": [
       "<matplotlib.figure.Figure at 0x7f2ab84dfd30>"
      ]
     },
     "metadata": {},
     "output_type": "display_data"
    }
   ],
   "source": [
    "dffrequency.frequency.plot.hist(bins=50)"
   ]
  },
  {
   "cell_type": "code",
   "execution_count": 237,
   "metadata": {
    "ExecuteTime": {
     "end_time": "2017-02-27T14:22:17.330800",
     "start_time": "2017-02-27T14:22:17.012834"
    },
    "collapsed": false
   },
   "outputs": [
    {
     "data": {
      "text/plain": [
       "<matplotlib.axes._subplots.AxesSubplot at 0x7f2ac5d8a080>"
      ]
     },
     "execution_count": 237,
     "metadata": {},
     "output_type": "execute_result"
    },
    {
     "data": {
      "image/png": "[encoded data removed]",
      "text/plain": [
       "<matplotlib.figure.Figure at 0x7f2ac3b65780>"
      ]
     },
     "metadata": {},
     "output_type": "display_data"
    }
   ],
   "source": [
    "dffrequency.plot.scatter(x='age', y='frequency', s=5, alpha=0.1)"
   ]
  },
  {
   "cell_type": "code",
   "execution_count": 238,
   "metadata": {
    "ExecuteTime": {
     "end_time": "2017-02-27T14:22:19.027169",
     "start_time": "2017-02-27T14:22:18.372500"
    },
    "collapsed": false
   },
   "outputs": [
    {
     "data": {
      "text/plain": [
       "<matplotlib.axes._subplots.AxesSubplot at 0x7f2abb2e5b00>"
      ]
     },
     "execution_count": 238,
     "metadata": {},
     "output_type": "execute_result"
    },
    {
     "data": {
      "image/png": "[encoded data removed]",
      "text/plain": [
       "<matplotlib.figure.Figure at 0x7f2abb72ef98>"
      ]
     },
     "metadata": {},
     "output_type": "display_data"
    }
   ],
   "source": [
    "dffrequency[dffrequency.age < 0].frequency.hist(bins=100)#mean()"
   ]
  },
  {
   "cell_type": "code",
   "execution_count": 239,
   "metadata": {
    "ExecuteTime": {
     "end_time": "2017-02-27T14:22:20.455640",
     "start_time": "2017-02-27T14:22:19.832243"
    },
    "collapsed": false
   },
   "outputs": [
    {
     "data": {
      "text/plain": [
       "<matplotlib.axes._subplots.AxesSubplot at 0x7f2acafce320>"
      ]
     },
     "execution_count": 239,
     "metadata": {},
     "output_type": "execute_result"
    },
    {
     "data": {
      "image/png": "[encoded data removed]",
      "text/plain": [
       "<matplotlib.figure.Figure at 0x7f2acc990d68>"
      ]
     },
     "metadata": {},
     "output_type": "display_data"
    }
   ],
   "source": [
    "dffrequency[dffrequency.age >= 0].frequency.hist(bins=100) #mean()"
   ]
  },
  {
   "cell_type": "code",
   "execution_count": 219,
   "metadata": {
    "ExecuteTime": {
     "end_time": "2017-02-27T14:14:00.138036",
     "start_time": "2017-02-27T14:14:00.128825"
    },
    "collapsed": false
   },
   "outputs": [
    {
     "data": {
      "text/plain": [
       "159.34827082318557"
      ]
     },
     "execution_count": 219,
     "metadata": {},
     "output_type": "execute_result"
    }
   ],
   "source": [
    "dffrequency.frequency.mean()"
   ]
  },
  {
   "cell_type": "code",
   "execution_count": 220,
   "metadata": {
    "ExecuteTime": {
     "end_time": "2017-02-27T14:14:15.298758",
     "start_time": "2017-02-27T14:14:15.289473"
    },
    "collapsed": false
   },
   "outputs": [
    {
     "data": {
      "text/plain": [
       "43.125"
      ]
     },
     "execution_count": 220,
     "metadata": {},
     "output_type": "execute_result"
    }
   ],
   "source": [
    "310.5/7.2"
   ]
  },
  {
   "cell_type": "code",
   "execution_count": 221,
   "metadata": {
    "ExecuteTime": {
     "end_time": "2017-02-27T14:14:21.179060",
     "start_time": "2017-02-27T14:14:20.762396"
    },
    "collapsed": false
   },
   "outputs": [
    {
     "data": {
      "text/plain": [
       "<matplotlib.colorbar.Colorbar at 0x7f2ac2c7d908>"
      ]
     },
     "execution_count": 221,
     "metadata": {},
     "output_type": "execute_result"
    },
    {
     "data": {
      "image/png": "[encoded data removed]",
      "text/plain": [
       "<matplotlib.figure.Figure at 0x7f2abbce71d0>"
      ]
     },
     "metadata": {},
     "output_type": "display_data"
    }
   ],
   "source": [
    "H, xedges, yedeges, im = plt.hist2d(dffrequency.age,dffrequency.frequency,bins=[120,120])\n",
    "plt.colorbar()"
   ]
  },
  {
   "cell_type": "markdown",
   "metadata": {},
   "source": [
    "# Average Number of Gaps per Bee Series depending on Confidence Level"
   ]
  },
  {
   "cell_type": "code",
   "execution_count": 240,
   "metadata": {
    "ExecuteTime": {
     "end_time": "2017-02-27T17:34:41.927394",
     "start_time": "2017-02-27T17:34:41.887292"
    },
    "collapsed": false
   },
   "outputs": [
    {
     "data": {
      "text/html": [
       "<div>\n",
       "<table border=\"1\" class=\"dataframe\">\n",
       "  <thead>\n",
       "    <tr style=\"text-align: right;\">\n",
       "      <th></th>\n",
       "      <th>idx</th>\n",
       "      <th>xpos</th>\n",
       "      <th>ypos</th>\n",
       "      <th>radius</th>\n",
       "      <th>zRotation</th>\n",
       "      <th>frame_idx</th>\n",
       "      <th>timestamp</th>\n",
       "      <th>cam_id</th>\n",
       "      <th>fc_id</th>\n",
       "      <th>confidence</th>\n",
       "      <th>id</th>\n",
       "      <th>age</th>\n",
       "    </tr>\n",
       "  </thead>\n",
       "  <tbody>\n",
       "    <tr>\n",
       "      <th>0</th>\n",
       "      <td>0</td>\n",
       "      <td>51</td>\n",
       "      <td>1337</td>\n",
       "      <td>22.927212</td>\n",
       "      <td>-0.436176</td>\n",
       "      <td>0</td>\n",
       "      <td>1.469549e+09</td>\n",
       "      <td>0</td>\n",
       "      <td>10487780367802891005</td>\n",
       "      <td>0.992157</td>\n",
       "      <td>3387</td>\n",
       "      <td>15</td>\n",
       "    </tr>\n",
       "    <tr>\n",
       "      <th>1</th>\n",
       "      <td>1</td>\n",
       "      <td>163</td>\n",
       "      <td>1538</td>\n",
       "      <td>22.708023</td>\n",
       "      <td>0.595369</td>\n",
       "      <td>0</td>\n",
       "      <td>1.469549e+09</td>\n",
       "      <td>0</td>\n",
       "      <td>10487780367802891005</td>\n",
       "      <td>0.992157</td>\n",
       "      <td>3870</td>\n",
       "      <td>5</td>\n",
       "    </tr>\n",
       "    <tr>\n",
       "      <th>2</th>\n",
       "      <td>2</td>\n",
       "      <td>189</td>\n",
       "      <td>2626</td>\n",
       "      <td>23.293472</td>\n",
       "      <td>0.364826</td>\n",
       "      <td>0</td>\n",
       "      <td>1.469549e+09</td>\n",
       "      <td>0</td>\n",
       "      <td>10487780367802891005</td>\n",
       "      <td>0.011765</td>\n",
       "      <td>1607</td>\n",
       "      <td>4</td>\n",
       "    </tr>\n",
       "    <tr>\n",
       "      <th>3</th>\n",
       "      <td>3</td>\n",
       "      <td>202</td>\n",
       "      <td>924</td>\n",
       "      <td>22.790953</td>\n",
       "      <td>0.147058</td>\n",
       "      <td>0</td>\n",
       "      <td>1.469549e+09</td>\n",
       "      <td>0</td>\n",
       "      <td>10487780367802891005</td>\n",
       "      <td>0.992157</td>\n",
       "      <td>1854</td>\n",
       "      <td>5</td>\n",
       "    </tr>\n",
       "    <tr>\n",
       "      <th>4</th>\n",
       "      <td>4</td>\n",
       "      <td>201</td>\n",
       "      <td>1990</td>\n",
       "      <td>23.085573</td>\n",
       "      <td>0.218766</td>\n",
       "      <td>0</td>\n",
       "      <td>1.469549e+09</td>\n",
       "      <td>0</td>\n",
       "      <td>10487780367802891005</td>\n",
       "      <td>0.050980</td>\n",
       "      <td>541</td>\n",
       "      <td>-100</td>\n",
       "    </tr>\n",
       "  </tbody>\n",
       "</table>\n",
       "</div>"
      ],
      "text/plain": [
       "   idx  xpos  ypos     radius  zRotation  frame_idx     timestamp  cam_id  \\\n",
       "0    0    51  1337  22.927212  -0.436176          0  1.469549e+09       0   \n",
       "1    1   163  1538  22.708023   0.595369          0  1.469549e+09       0   \n",
       "2    2   189  2626  23.293472   0.364826          0  1.469549e+09       0   \n",
       "3    3   202   924  22.790953   0.147058          0  1.469549e+09       0   \n",
       "4    4   201  1990  23.085573   0.218766          0  1.469549e+09       0   \n",
       "\n",
       "                  fc_id  confidence    id  age  \n",
       "0  10487780367802891005    0.992157  3387   15  \n",
       "1  10487780367802891005    0.992157  3870    5  \n",
       "2  10487780367802891005    0.011765  1607    4  \n",
       "3  10487780367802891005    0.992157  1854    5  \n",
       "4  10487780367802891005    0.050980   541 -100  "
      ]
     },
     "execution_count": 240,
     "metadata": {},
     "output_type": "execute_result"
    }
   ],
   "source": [
    "data.head()"
   ]
  },
  {
   "cell_type": "code",
   "execution_count": 320,
   "metadata": {
    "ExecuteTime": {
     "end_time": "2017-02-27T21:21:47.485280",
     "start_time": "2017-02-27T21:21:47.472745"
    },
    "collapsed": true
   },
   "outputs": [],
   "source": [
    "def get_gaps_length(kette):\n",
    "    kette = kette.apply(str)\n",
    "    s = kette.str.cat(sep='')\n",
    "    #s = s.strip(\"0\")\n",
    "    ss = s.split('1')\n",
    "    return [len(x) for x in ss if len(x) > 0]"
   ]
  },
  {
   "cell_type": "code",
   "execution_count": 321,
   "metadata": {
    "ExecuteTime": {
     "end_time": "2017-02-27T21:21:48.291260",
     "start_time": "2017-02-27T21:21:48.281291"
    },
    "collapsed": true
   },
   "outputs": [],
   "source": [
    "def get_num_of_gaps(kette):\n",
    "    kette = kette.apply(str)\n",
    "    s = kette.str.cat(sep='')\n",
    "    #s = s.strip(\"0\")\n",
    "    ss = s.split('1')\n",
    "    return len([len(x) for x in ss if len(x) > 0])"
   ]
  },
  {
   "cell_type": "code",
   "execution_count": 392,
   "metadata": {
    "ExecuteTime": {
     "end_time": "2017-02-28T16:00:45.686415",
     "start_time": "2017-02-28T15:57:34.499009"
    },
    "collapsed": false,
    "scrolled": false
   },
   "outputs": [],
   "source": [
    "statGapS = []\n",
    "for i in np.arange(0,1.01, 0.01)[[0,10,20,30,40,50,60,70,80,85,90,91,92,93,94,95,96,97,98,99,100]]:\n",
    "    dd = data[data.confidence >= i]\n",
    "    dft = prep.df_to_timeseries(dd)\n",
    "    gapsLen = dft.apply(get_gaps_length, axis=1)\n",
    "    flattened = [n for elem in gapsLen for n in elem]\n",
    "    sL = Series(flattened)\n",
    " \n",
    "    gapsNum = dft.apply(get_num_of_gaps, axis=1)\n",
    "    s = Series(gapsNum)\n",
    "    \n",
    "    s0 = dft.shape[1] - Series(dft.sum(axis=1))\n",
    "    \n",
    "    statGapS.append({'conf': i, 'LenMean': sL.mean(), 'LenMedian': sL.median(), 'NumMean': s.mean(), 'NumMedian': s.median(),'total': dft.shape[0], \\\n",
    "                    'total0': s0.sum(), 's0mean': s0.mean(), 's0median': s0.median()})"
   ]
  },
  {
   "cell_type": "code",
   "execution_count": 393,
   "metadata": {
    "ExecuteTime": {
     "end_time": "2017-02-28T16:00:49.939161",
     "start_time": "2017-02-28T16:00:49.927046"
    },
    "collapsed": false
   },
   "outputs": [],
   "source": [
    "dfGAPS = DataFrame(statGapS)\n",
    "dfGAPS.conf *= 100"
   ]
  },
  {
   "cell_type": "code",
   "execution_count": 428,
   "metadata": {
    "ExecuteTime": {
     "end_time": "2017-02-28T16:21:50.583715",
     "start_time": "2017-02-28T16:21:50.131084"
    },
    "collapsed": false
   },
   "outputs": [
    {
     "data": {
      "image/png": "[encoded data removed]",
      "text/plain": [
       "<matplotlib.figure.Figure at 0x7f2ac35c2198>"
      ]
     },
     "metadata": {},
     "output_type": "display_data"
    }
   ],
   "source": [
    "fig, ax = plt.subplots()\n",
    "dfGAPS.plot(x=\"conf\", y=[\"LenMedian\", \"LenMean\"], colormap=\"summer\", ax=ax)\n",
    "fig.set_size_inches(5.91553/2,3)\n",
    "plt.tight_layout()\n",
    "ax.set_title(\"Gap Length\")\n",
    "ax.set_ylabel(\"Frames\")\n",
    "ax.set_xlabel(\"Confidence in %\")\n",
    "ax.legend([\"Median\", \"Mean\"], loc=0)\n",
    "plt.axvline(95, color='0.25', linestyle='dashed', linewidth=1)\n",
    "plt.text(80,5,'95%',rotation=0)\n",
    "plt.savefig('gaplen.pdf')"
   ]
  },
  {
   "cell_type": "code",
   "execution_count": 425,
   "metadata": {
    "ExecuteTime": {
     "end_time": "2017-02-28T16:21:12.339880",
     "start_time": "2017-02-28T16:21:11.920663"
    },
    "collapsed": false
   },
   "outputs": [
    {
     "data": {
      "image/png": "[encoded data removed]",
      "text/plain": [
       "<matplotlib.figure.Figure at 0x7f2ac3741c50>"
      ]
     },
     "metadata": {},
     "output_type": "display_data"
    }
   ],
   "source": [
    "fig, ax = plt.subplots()\n",
    "dfGAPS.plot(x=\"conf\", y=[\"NumMedian\", \"NumMean\"], colormap=\"summer\",ax=ax)\n",
    "fig.set_size_inches(5.91553/2,3)\n",
    "plt.tight_layout()\n",
    "ax.set_title(\"Number of Gaps\")\n",
    "ax.set_ylabel(\"Frames\")\n",
    "ax.set_xlabel(\"Confidence in %\")\n",
    "ax.legend([\"Median\", \"Mean\"], loc=0)\n",
    "plt.axvline(95, color='0.25', linestyle='dashed', linewidth=1)\n",
    "plt.text(80,40,'95%',rotation=0)\n",
    "plt.savefig('numgaps.pdf')"
   ]
  },
  {
   "cell_type": "code",
   "execution_count": 429,
   "metadata": {
    "ExecuteTime": {
     "end_time": "2017-02-28T16:22:20.535245",
     "start_time": "2017-02-28T16:22:20.197936"
    },
    "collapsed": false
   },
   "outputs": [
    {
     "data": {
      "text/plain": [
       "<matplotlib.axes._subplots.AxesSubplot at 0x7f2ac37644a8>"
      ]
     },
     "execution_count": 429,
     "metadata": {},
     "output_type": "execute_result"
    },
    {
     "data": {
      "image/png": "[encoded data removed]",
      "text/plain": [
       "<matplotlib.figure.Figure at 0x7f2ab7d78630>"
      ]
     },
     "metadata": {},
     "output_type": "display_data"
    }
   ],
   "source": [
    "dfGAPS.plot(x=\"conf\", y=[\"s0median\", \"s0mean\"], colormap=\"summer\")"
   ]
  },
  {
   "cell_type": "code",
   "execution_count": 368,
   "metadata": {
    "ExecuteTime": {
     "end_time": "2017-02-28T15:38:51.956623",
     "start_time": "2017-02-28T15:38:51.947153"
    },
    "collapsed": false
   },
   "outputs": [],
   "source": [
    "testdf = DataFrame([[1,2,3],[3,4,5],[3,4,5]])"
   ]
  },
  {
   "cell_type": "code",
   "execution_count": 369,
   "metadata": {
    "ExecuteTime": {
     "end_time": "2017-02-28T15:38:54.735483",
     "start_time": "2017-02-28T15:38:54.721283"
    },
    "collapsed": false
   },
   "outputs": [
    {
     "data": {
      "text/html": [
       "<div>\n",
       "<table border=\"1\" class=\"dataframe\">\n",
       "  <thead>\n",
       "    <tr style=\"text-align: right;\">\n",
       "      <th></th>\n",
       "      <th>0</th>\n",
       "      <th>1</th>\n",
       "      <th>2</th>\n",
       "    </tr>\n",
       "  </thead>\n",
       "  <tbody>\n",
       "    <tr>\n",
       "      <th>0</th>\n",
       "      <td>1</td>\n",
       "      <td>2</td>\n",
       "      <td>3</td>\n",
       "    </tr>\n",
       "    <tr>\n",
       "      <th>1</th>\n",
       "      <td>3</td>\n",
       "      <td>4</td>\n",
       "      <td>5</td>\n",
       "    </tr>\n",
       "    <tr>\n",
       "      <th>2</th>\n",
       "      <td>3</td>\n",
       "      <td>4</td>\n",
       "      <td>5</td>\n",
       "    </tr>\n",
       "  </tbody>\n",
       "</table>\n",
       "</div>"
      ],
      "text/plain": [
       "   0  1  2\n",
       "0  1  2  3\n",
       "1  3  4  5\n",
       "2  3  4  5"
      ]
     },
     "execution_count": 369,
     "metadata": {},
     "output_type": "execute_result"
    }
   ],
   "source": [
    "testdf"
   ]
  },
  {
   "cell_type": "code",
   "execution_count": 371,
   "metadata": {
    "ExecuteTime": {
     "end_time": "2017-02-28T15:39:14.998167",
     "start_time": "2017-02-28T15:39:14.985852"
    },
    "collapsed": false
   },
   "outputs": [
    {
     "data": {
      "text/plain": [
       "0     6\n",
       "1    12\n",
       "2    12\n",
       "dtype: int64"
      ]
     },
     "execution_count": 371,
     "metadata": {},
     "output_type": "execute_result"
    }
   ],
   "source": [
    "testdf.sum(axis=1)"
   ]
  },
  {
   "cell_type": "markdown",
   "metadata": {},
   "source": [
    "# Histogramm: Frequency of Detection per ID: conf = 95"
   ]
  },
  {
   "cell_type": "code",
   "execution_count": 430,
   "metadata": {
    "ExecuteTime": {
     "end_time": "2017-02-28T16:42:12.205388",
     "start_time": "2017-02-28T16:42:12.095297"
    },
    "collapsed": true
   },
   "outputs": [],
   "source": [
    "data95 = data[data.confidence >= 0.95]"
   ]
  },
  {
   "cell_type": "code",
   "execution_count": 432,
   "metadata": {
    "ExecuteTime": {
     "end_time": "2017-02-28T16:43:01.816371",
     "start_time": "2017-02-28T16:43:01.789621"
    },
    "collapsed": false
   },
   "outputs": [],
   "source": [
    "data95Stat = data95.groupby(by='id').size()"
   ]
  },
  {
   "cell_type": "code",
   "execution_count": 433,
   "metadata": {
    "ExecuteTime": {
     "end_time": "2017-02-28T16:43:12.257865",
     "start_time": "2017-02-28T16:43:12.242759"
    },
    "collapsed": false
   },
   "outputs": [
    {
     "data": {
      "text/plain": [
       "id\n",
       "7         3\n",
       "8        69\n",
       "10      171\n",
       "11        3\n",
       "12      154\n",
       "13        1\n",
       "14        2\n",
       "16       92\n",
       "18      393\n",
       "19        1\n",
       "20      561\n",
       "22        2\n",
       "23      575\n",
       "24        1\n",
       "26        2\n",
       "27      297\n",
       "28        1\n",
       "29       15\n",
       "30      763\n",
       "31        9\n",
       "32      536\n",
       "33        2\n",
       "34        2\n",
       "36      533\n",
       "38        1\n",
       "41        2\n",
       "42        1\n",
       "44        4\n",
       "46        1\n",
       "48       57\n",
       "       ... \n",
       "4052    176\n",
       "4053      2\n",
       "4055    632\n",
       "4060     13\n",
       "4061    720\n",
       "4062      5\n",
       "4063      2\n",
       "4065    285\n",
       "4066    163\n",
       "4067      8\n",
       "4068    547\n",
       "4069      1\n",
       "4071    729\n",
       "4072      1\n",
       "4073      2\n",
       "4074      1\n",
       "4075      4\n",
       "4076      2\n",
       "4077      4\n",
       "4078    287\n",
       "4079      2\n",
       "4081      1\n",
       "4083      2\n",
       "4084      1\n",
       "4085    902\n",
       "4086    672\n",
       "4092    535\n",
       "4093      3\n",
       "4094      1\n",
       "4095      2\n",
       "dtype: int64"
      ]
     },
     "execution_count": 433,
     "metadata": {},
     "output_type": "execute_result"
    }
   ],
   "source": [
    "data95Stat"
   ]
  },
  {
   "cell_type": "code",
   "execution_count": null,
   "metadata": {
    "collapsed": true
   },
   "outputs": [],
   "source": []
  }
 ],
 "metadata": {
  "kernelspec": {
   "display_name": "Python 3",
   "language": "python",
   "name": "python3"
  },
  "language_info": {
   "codemirror_mode": {
    "name": "ipython",
    "version": 3
   },
   "file_extension": ".py",
   "mimetype": "text/x-python",
   "name": "python",
   "nbconvert_exporter": "python",
   "pygments_lexer": "ipython3",
   "version": "3.5.2"
  },
  "toc": {
   "colors": {
    "hover_highlight": "#DAA520",
    "running_highlight": "#FF0000",
    "selected_highlight": "#FFD700"
   },
   "moveMenuLeft": true,
   "nav_menu": {
    "height": "44px",
    "width": "252px"
   },
   "navigate_menu": true,
   "number_sections": true,
   "sideBar": true,
   "threshold": 4,
   "toc_cell": false,
   "toc_section_display": "block",
   "toc_window_display": false
  }
 },
 "nbformat": 4,
 "nbformat_minor": 2
}
