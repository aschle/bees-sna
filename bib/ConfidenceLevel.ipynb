{
 "cells": [
  {
   "cell_type": "code",
   "execution_count": 4,
   "metadata": {
    "ExecuteTime": {
     "end_time": "2017-03-22T16:18:05.067853",
     "start_time": "2017-03-22T16:18:02.289883"
    },
    "collapsed": true
   },
   "outputs": [],
   "source": [
    "import pandas as pd\n",
    "import numpy as np\n",
    "from pandas import DataFrame, Series\n",
    "import datetime\n",
    "import pytz\n",
    "import matplotlib.pyplot as plt\n",
    "import preprocessing as prep\n",
    "from collections import namedtuple\n",
    "from bb_binary import FrameContainer, Repository, load_frame_container\n",
    "import numpy as np\n",
    "import numpy.ma as npma\n",
    "import datetime\n",
    "import csv\n",
    "import seaborn as sns\n",
    "from collections import Counter\n",
    "import hatching as ht"
   ]
  },
  {
   "cell_type": "code",
   "execution_count": 5,
   "metadata": {
    "ExecuteTime": {
     "end_time": "2017-03-22T16:18:05.084495",
     "start_time": "2017-03-22T16:18:05.070827"
    },
    "collapsed": true
   },
   "outputs": [],
   "source": [
    "%matplotlib inline"
   ]
  },
  {
   "cell_type": "code",
   "execution_count": 35,
   "metadata": {
    "ExecuteTime": {
     "end_time": "2017-03-22T17:17:57.680563",
     "start_time": "2017-03-22T17:17:57.676011"
    },
    "collapsed": true
   },
   "outputs": [],
   "source": [
    "sns.set_context(\"paper\")"
   ]
  },
  {
   "cell_type": "code",
   "execution_count": 17,
   "metadata": {
    "ExecuteTime": {
     "end_time": "2017-03-22T17:11:00.682540",
     "start_time": "2017-03-22T17:11:00.674220"
    },
    "collapsed": true
   },
   "outputs": [],
   "source": [
    "start = \"2016-07-26T16:00:00Z\"\n",
    "start_dt = datetime.datetime.strptime(start, \"%Y-%m-%dT%H:%M:%SZ\").replace(tzinfo=pytz.UTC)\n",
    "start_ts = start_dt.timestamp()\n",
    "end_dt = start_dt + datetime.timedelta(minutes=10)\n",
    "end_ts = end_dt.timestamp()"
   ]
  },
  {
   "cell_type": "code",
   "execution_count": 18,
   "metadata": {
    "ExecuteTime": {
     "end_time": "2017-03-22T17:11:01.290876",
     "start_time": "2017-03-22T17:11:01.287011"
    },
    "collapsed": true
   },
   "outputs": [],
   "source": [
    "path = '/storage/mi/aschle/data/'"
   ]
  },
  {
   "cell_type": "code",
   "execution_count": 19,
   "metadata": {
    "ExecuteTime": {
     "end_time": "2017-03-22T17:11:23.986232",
     "start_time": "2017-03-22T17:11:01.737264"
    },
    "collapsed": false
   },
   "outputs": [],
   "source": [
    "df0 = prep.getDF(path, start_ts, end_ts, 0)\n",
    "df1 = prep.getDF(path, start_ts, end_ts, 1)\n",
    "df2 = prep.getDF(path, start_ts, end_ts, 2)\n",
    "df3 = prep.getDF(path, start_ts, end_ts, 3)"
   ]
  },
  {
   "cell_type": "markdown",
   "metadata": {},
   "source": [
    "# Number of Detections and IDS VS confidence level"
   ]
  },
  {
   "cell_type": "code",
   "execution_count": 248,
   "metadata": {
    "ExecuteTime": {
     "end_time": "2017-03-22T23:40:20.358326",
     "start_time": "2017-03-22T23:40:20.086057"
    },
    "collapsed": false
   },
   "outputs": [],
   "source": [
    "data = pd.concat([df0,df1,df2,df3])"
   ]
  },
  {
   "cell_type": "code",
   "execution_count": 249,
   "metadata": {
    "ExecuteTime": {
     "end_time": "2017-03-22T23:40:21.207235",
     "start_time": "2017-03-22T23:40:21.176589"
    },
    "collapsed": false
   },
   "outputs": [
    {
     "data": {
      "text/html": [
       "<div>\n",
       "<table border=\"1\" class=\"dataframe\">\n",
       "  <thead>\n",
       "    <tr style=\"text-align: right;\">\n",
       "      <th></th>\n",
       "      <th>idx</th>\n",
       "      <th>xpos</th>\n",
       "      <th>ypos</th>\n",
       "      <th>radius</th>\n",
       "      <th>zRotation</th>\n",
       "      <th>decodedId</th>\n",
       "      <th>frame_idx</th>\n",
       "      <th>timestamp</th>\n",
       "      <th>cam_id</th>\n",
       "      <th>fc_id</th>\n",
       "      <th>frame_id</th>\n",
       "    </tr>\n",
       "  </thead>\n",
       "  <tbody>\n",
       "    <tr>\n",
       "      <th>0</th>\n",
       "      <td>0</td>\n",
       "      <td>51</td>\n",
       "      <td>1337</td>\n",
       "      <td>22.927212</td>\n",
       "      <td>-0.436176</td>\n",
       "      <td>[255, 255, 0, 255, 0, 0, 254, 255, 255, 0, 255...</td>\n",
       "      <td>0</td>\n",
       "      <td>1.469549e+09</td>\n",
       "      <td>0</td>\n",
       "      <td>10487780367802891005</td>\n",
       "      <td>9235224632327916253</td>\n",
       "    </tr>\n",
       "  </tbody>\n",
       "</table>\n",
       "</div>"
      ],
      "text/plain": [
       "   idx  xpos  ypos     radius  zRotation  \\\n",
       "0    0    51  1337  22.927212  -0.436176   \n",
       "\n",
       "                                           decodedId  frame_idx     timestamp  \\\n",
       "0  [255, 255, 0, 255, 0, 0, 254, 255, 255, 0, 255...          0  1.469549e+09   \n",
       "\n",
       "   cam_id                 fc_id             frame_id  \n",
       "0       0  10487780367802891005  9235224632327916253  "
      ]
     },
     "execution_count": 249,
     "metadata": {},
     "output_type": "execute_result"
    }
   ],
   "source": [
    "data.head(1)"
   ]
  },
  {
   "cell_type": "code",
   "execution_count": 250,
   "metadata": {
    "ExecuteTime": {
     "end_time": "2017-03-22T23:41:51.187378",
     "start_time": "2017-03-22T23:40:23.948468"
    },
    "collapsed": false
   },
   "outputs": [],
   "source": [
    "data = prep.calcIds(data, 0, 2016)"
   ]
  },
  {
   "cell_type": "code",
   "execution_count": 37,
   "metadata": {
    "ExecuteTime": {
     "end_time": "2017-03-22T17:19:06.719836",
     "start_time": "2017-03-22T17:18:55.485137"
    },
    "collapsed": true
   },
   "outputs": [],
   "source": [
    "total = data.shape[0]\n",
    "remaining = []\n",
    "for i in np.arange(0,1.01, 0.01):\n",
    "    df = data[data.confidence >= i]\n",
    "    remaining.append({'conf': i*100, 'remainingDetections': df.shape[0], 'remainingDetectionsP': df.shape[0]/total*100})"
   ]
  },
  {
   "cell_type": "code",
   "execution_count": 38,
   "metadata": {
    "ExecuteTime": {
     "end_time": "2017-03-22T17:19:07.326414",
     "start_time": "2017-03-22T17:19:07.320058"
    },
    "collapsed": false
   },
   "outputs": [],
   "source": [
    "plotData = DataFrame(remaining)"
   ]
  },
  {
   "cell_type": "code",
   "execution_count": 39,
   "metadata": {
    "ExecuteTime": {
     "end_time": "2017-03-22T17:19:07.805801",
     "start_time": "2017-03-22T17:19:07.789687"
    },
    "collapsed": false
   },
   "outputs": [
    {
     "data": {
      "text/html": [
       "<div>\n",
       "<table border=\"1\" class=\"dataframe\">\n",
       "  <thead>\n",
       "    <tr style=\"text-align: right;\">\n",
       "      <th></th>\n",
       "      <th>conf</th>\n",
       "      <th>remainingDetections</th>\n",
       "      <th>remainingDetectionsP</th>\n",
       "    </tr>\n",
       "  </thead>\n",
       "  <tbody>\n",
       "    <tr>\n",
       "      <th>0</th>\n",
       "      <td>0.0</td>\n",
       "      <td>1056033</td>\n",
       "      <td>100.000000</td>\n",
       "    </tr>\n",
       "    <tr>\n",
       "      <th>1</th>\n",
       "      <td>1.0</td>\n",
       "      <td>1048626</td>\n",
       "      <td>99.298601</td>\n",
       "    </tr>\n",
       "  </tbody>\n",
       "</table>\n",
       "</div>"
      ],
      "text/plain": [
       "   conf  remainingDetections  remainingDetectionsP\n",
       "0   0.0              1056033            100.000000\n",
       "1   1.0              1048626             99.298601"
      ]
     },
     "execution_count": 39,
     "metadata": {},
     "output_type": "execute_result"
    }
   ],
   "source": [
    "plotData.head(2)"
   ]
  },
  {
   "cell_type": "code",
   "execution_count": 41,
   "metadata": {
    "ExecuteTime": {
     "end_time": "2017-03-22T17:19:56.241863",
     "start_time": "2017-03-22T17:19:44.254606"
    },
    "collapsed": true
   },
   "outputs": [],
   "source": [
    "total = 4096\n",
    "remainingIDs = []\n",
    "for i in np.arange(0,1.01, 0.01):\n",
    "    df = data[data.confidence >= i]\n",
    "    ids = len(df.id.unique())\n",
    "    \n",
    "    remainingIDs.append({'conf': i*100, 'remainingIds': ids, 'remainingIdsP': ids/total*100})"
   ]
  },
  {
   "cell_type": "code",
   "execution_count": 42,
   "metadata": {
    "ExecuteTime": {
     "end_time": "2017-03-22T17:20:17.129068",
     "start_time": "2017-03-22T17:20:17.122443"
    },
    "collapsed": false
   },
   "outputs": [],
   "source": [
    "plotDataIDs = DataFrame(remainingIDs)"
   ]
  },
  {
   "cell_type": "code",
   "execution_count": 44,
   "metadata": {
    "ExecuteTime": {
     "end_time": "2017-03-22T17:21:05.689508",
     "start_time": "2017-03-22T17:21:05.679037"
    },
    "collapsed": false
   },
   "outputs": [],
   "source": [
    "plotDataAll = plotData.merge(plotDataIDs,on='conf')"
   ]
  },
  {
   "cell_type": "code",
   "execution_count": 45,
   "metadata": {
    "ExecuteTime": {
     "end_time": "2017-03-22T17:21:21.572281",
     "start_time": "2017-03-22T17:21:21.563993"
    },
    "collapsed": true
   },
   "outputs": [],
   "source": [
    "plotDataAll.to_csv('10minNumDetectionsIDsVSconfidence.csv')"
   ]
  },
  {
   "cell_type": "code",
   "execution_count": 637,
   "metadata": {
    "ExecuteTime": {
     "end_time": "2017-04-13T12:26:32.364193",
     "start_time": "2017-04-13T12:26:32.341124"
    },
    "collapsed": false
   },
   "outputs": [
    {
     "data": {
      "text/html": [
       "<div>\n",
       "<table border=\"1\" class=\"dataframe\">\n",
       "  <thead>\n",
       "    <tr style=\"text-align: right;\">\n",
       "      <th></th>\n",
       "      <th>conf</th>\n",
       "      <th>remainingDetections</th>\n",
       "      <th>remainingDetectionsP</th>\n",
       "      <th>remainingIds</th>\n",
       "      <th>remainingIdsP</th>\n",
       "    </tr>\n",
       "  </thead>\n",
       "  <tbody>\n",
       "    <tr>\n",
       "      <th>95</th>\n",
       "      <td>95.0</td>\n",
       "      <td>649382</td>\n",
       "      <td>61.492586</td>\n",
       "      <td>2550</td>\n",
       "      <td>62.255859</td>\n",
       "    </tr>\n",
       "  </tbody>\n",
       "</table>\n",
       "</div>"
      ],
      "text/plain": [
       "    conf  remainingDetections  remainingDetectionsP  remainingIds  \\\n",
       "95  95.0               649382             61.492586          2550   \n",
       "\n",
       "    remainingIdsP  \n",
       "95      62.255859  "
      ]
     },
     "execution_count": 637,
     "metadata": {},
     "output_type": "execute_result"
    }
   ],
   "source": [
    "plotDataAll.query('conf == 95.0')"
   ]
  },
  {
   "cell_type": "code",
   "execution_count": 122,
   "metadata": {
    "ExecuteTime": {
     "end_time": "2017-03-22T18:28:19.250090",
     "start_time": "2017-03-22T18:28:18.627916"
    },
    "collapsed": false
   },
   "outputs": [
    {
     "data": {
      "image/png": "[encoded data removed]",
      "text/plain": [
       "<matplotlib.figure.Figure at 0x7f1bb74486d8>"
      ]
     },
     "metadata": {},
     "output_type": "display_data"
    }
   ],
   "source": [
    "fig, ax = plt.subplots()\n",
    "ax = plotDataAll.plot(x='conf', y=['remainingIdsP', 'remainingDetectionsP'], alpha=0.75, ax=ax, color=['#007f66', '#cb9f0a'], ylim=(0,105), xlim=(0,100))\n",
    "ax.set_xlabel('Confidence Level in %')\n",
    "ax.legend(['Remaining Detections', 'Remainig IDs'], loc=3)\n",
    "ax.set_xticks([10,20,30,40,50,60,70,80,90,100])\n",
    "fig.set_size_inches(5.91553, 5.91553/3)\n",
    "plt.tight_layout()\n",
    "plt.savefig('confVSids.pdf')"
   ]
  },
  {
   "cell_type": "markdown",
   "metadata": {},
   "source": [
    "# Age Info"
   ]
  },
  {
   "cell_type": "code",
   "execution_count": 86,
   "metadata": {
    "ExecuteTime": {
     "end_time": "2017-03-22T17:41:59.370853",
     "start_time": "2017-03-22T17:41:59.015203"
    },
    "collapsed": true
   },
   "outputs": [],
   "source": [
    "aa = ht.get_all_bees_age(start_dt)\n",
    "\n",
    "\n",
    "\n",
    "data['age'] = data.id.apply(lambda x: aa.iloc[x].age)"
   ]
  },
  {
   "cell_type": "code",
   "execution_count": 88,
   "metadata": {
    "ExecuteTime": {
     "end_time": "2017-03-22T17:46:54.607645",
     "start_time": "2017-03-22T17:46:54.585751"
    },
    "collapsed": false
   },
   "outputs": [
    {
     "data": {
      "text/html": [
       "<div>\n",
       "<table border=\"1\" class=\"dataframe\">\n",
       "  <thead>\n",
       "    <tr style=\"text-align: right;\">\n",
       "      <th></th>\n",
       "      <th>idx</th>\n",
       "      <th>xpos</th>\n",
       "      <th>ypos</th>\n",
       "      <th>radius</th>\n",
       "      <th>zRotation</th>\n",
       "      <th>frame_idx</th>\n",
       "      <th>timestamp</th>\n",
       "      <th>cam_id</th>\n",
       "      <th>fc_id</th>\n",
       "      <th>frame_id</th>\n",
       "      <th>confidence</th>\n",
       "      <th>id</th>\n",
       "      <th>age</th>\n",
       "    </tr>\n",
       "  </thead>\n",
       "  <tbody>\n",
       "    <tr>\n",
       "      <th>0</th>\n",
       "      <td>0</td>\n",
       "      <td>51</td>\n",
       "      <td>1337</td>\n",
       "      <td>22.927212</td>\n",
       "      <td>-0.436176</td>\n",
       "      <td>0</td>\n",
       "      <td>1.469549e+09</td>\n",
       "      <td>0</td>\n",
       "      <td>10487780367802891005</td>\n",
       "      <td>9235224632327916253</td>\n",
       "      <td>0.992157</td>\n",
       "      <td>3387</td>\n",
       "      <td>15</td>\n",
       "    </tr>\n",
       "    <tr>\n",
       "      <th>1</th>\n",
       "      <td>1</td>\n",
       "      <td>163</td>\n",
       "      <td>1538</td>\n",
       "      <td>22.708023</td>\n",
       "      <td>0.595369</td>\n",
       "      <td>0</td>\n",
       "      <td>1.469549e+09</td>\n",
       "      <td>0</td>\n",
       "      <td>10487780367802891005</td>\n",
       "      <td>9235224632327916253</td>\n",
       "      <td>0.992157</td>\n",
       "      <td>3870</td>\n",
       "      <td>5</td>\n",
       "    </tr>\n",
       "  </tbody>\n",
       "</table>\n",
       "</div>"
      ],
      "text/plain": [
       "   idx  xpos  ypos     radius  zRotation  frame_idx     timestamp  cam_id  \\\n",
       "0    0    51  1337  22.927212  -0.436176          0  1.469549e+09       0   \n",
       "1    1   163  1538  22.708023   0.595369          0  1.469549e+09       0   \n",
       "\n",
       "                  fc_id             frame_id  confidence    id  age  \n",
       "0  10487780367802891005  9235224632327916253    0.992157  3387   15  \n",
       "1  10487780367802891005  9235224632327916253    0.992157  3870    5  "
      ]
     },
     "execution_count": 88,
     "metadata": {},
     "output_type": "execute_result"
    }
   ],
   "source": [
    "data.head(2)"
   ]
  },
  {
   "cell_type": "code",
   "execution_count": 89,
   "metadata": {
    "ExecuteTime": {
     "end_time": "2017-03-22T17:47:09.011566",
     "start_time": "2017-03-22T17:46:54.609743"
    },
    "collapsed": true
   },
   "outputs": [],
   "source": [
    "remainingDetAge = []\n",
    "for i in np.arange(0,1.01, 0.01):\n",
    "    df = data[data.confidence >= i]\n",
    "    c = i*100\n",
    "    numDet = df.shape[0]\n",
    "    wrongs = df[df.age < 0].shape[0]\n",
    "    remainingDetAge.append({'conf': c, 'detections': numDet, 'wrongDetections': wrongs, 'wrongDetectionsP': (wrongs*2)/numDet*100})"
   ]
  },
  {
   "cell_type": "code",
   "execution_count": 90,
   "metadata": {
    "ExecuteTime": {
     "end_time": "2017-03-22T17:47:09.018549",
     "start_time": "2017-03-22T17:47:09.013975"
    },
    "collapsed": false
   },
   "outputs": [],
   "source": [
    "plotDataDetAge = DataFrame(remainingDetAge)"
   ]
  },
  {
   "cell_type": "code",
   "execution_count": 91,
   "metadata": {
    "ExecuteTime": {
     "end_time": "2017-03-22T17:47:09.037112",
     "start_time": "2017-03-22T17:47:09.020702"
    },
    "collapsed": false
   },
   "outputs": [
    {
     "data": {
      "text/html": [
       "<div>\n",
       "<table border=\"1\" class=\"dataframe\">\n",
       "  <thead>\n",
       "    <tr style=\"text-align: right;\">\n",
       "      <th></th>\n",
       "      <th>conf</th>\n",
       "      <th>detections</th>\n",
       "      <th>wrongDetections</th>\n",
       "      <th>wrongDetectionsP</th>\n",
       "    </tr>\n",
       "  </thead>\n",
       "  <tbody>\n",
       "    <tr>\n",
       "      <th>99</th>\n",
       "      <td>99.0</td>\n",
       "      <td>521895</td>\n",
       "      <td>6327</td>\n",
       "      <td>2.424626</td>\n",
       "    </tr>\n",
       "    <tr>\n",
       "      <th>100</th>\n",
       "      <td>100.0</td>\n",
       "      <td>406432</td>\n",
       "      <td>3694</td>\n",
       "      <td>1.817770</td>\n",
       "    </tr>\n",
       "  </tbody>\n",
       "</table>\n",
       "</div>"
      ],
      "text/plain": [
       "      conf  detections  wrongDetections  wrongDetectionsP\n",
       "99    99.0      521895             6327          2.424626\n",
       "100  100.0      406432             3694          1.817770"
      ]
     },
     "execution_count": 91,
     "metadata": {},
     "output_type": "execute_result"
    }
   ],
   "source": [
    "plotDataDetAge.tail(2)"
   ]
  },
  {
   "cell_type": "code",
   "execution_count": 92,
   "metadata": {
    "ExecuteTime": {
     "end_time": "2017-03-22T17:49:57.114253",
     "start_time": "2017-03-22T17:47:59.933256"
    },
    "collapsed": false
   },
   "outputs": [],
   "source": [
    "total = 4096\n",
    "remainingIDsAge = []\n",
    "\n",
    "for i in np.arange(0,1.01, 0.01):\n",
    "    df = data[data.confidence >= i]\n",
    "    ids = DataFrame(df.id.unique(), columns=['id'])\n",
    "    ids['age'] = ids.id.apply(lambda x: aa.iloc[x].age)\n",
    "    \n",
    "    numIDs = ids.shape[0]\n",
    "    wrongs = ids[ids.age < 0].shape[0]\n",
    "    \n",
    "    remainingIDsAge.append({'conf': i*100, 'IDs': numIDs, 'wrongIds': wrongs, 'wrongIdsP':  (wrongs)/numIDs*100})"
   ]
  },
  {
   "cell_type": "code",
   "execution_count": 93,
   "metadata": {
    "ExecuteTime": {
     "end_time": "2017-03-22T17:49:57.120893",
     "start_time": "2017-03-22T17:49:57.116379"
    },
    "collapsed": false
   },
   "outputs": [],
   "source": [
    "plotDataIDsAge = DataFrame(remainingIDsAge)"
   ]
  },
  {
   "cell_type": "code",
   "execution_count": 94,
   "metadata": {
    "ExecuteTime": {
     "end_time": "2017-03-22T17:49:57.133119",
     "start_time": "2017-03-22T17:49:57.122965"
    },
    "collapsed": true
   },
   "outputs": [],
   "source": [
    "plotDataAllAge = plotDataDetAge.merge(plotDataIDsAge,on='conf')"
   ]
  },
  {
   "cell_type": "code",
   "execution_count": 636,
   "metadata": {
    "ExecuteTime": {
     "end_time": "2017-04-13T12:25:24.958091",
     "start_time": "2017-04-13T12:25:24.929649"
    },
    "collapsed": false
   },
   "outputs": [
    {
     "data": {
      "text/html": [
       "<div>\n",
       "<table border=\"1\" class=\"dataframe\">\n",
       "  <thead>\n",
       "    <tr style=\"text-align: right;\">\n",
       "      <th></th>\n",
       "      <th>conf</th>\n",
       "      <th>detections</th>\n",
       "      <th>wrongDetections</th>\n",
       "      <th>wrongDetectionsP</th>\n",
       "      <th>IDs</th>\n",
       "      <th>wrongIds</th>\n",
       "      <th>wrongIdsP</th>\n",
       "    </tr>\n",
       "  </thead>\n",
       "  <tbody>\n",
       "    <tr>\n",
       "      <th>95</th>\n",
       "      <td>95.0</td>\n",
       "      <td>649382</td>\n",
       "      <td>12462</td>\n",
       "      <td>3.838111</td>\n",
       "      <td>2550</td>\n",
       "      <td>1375</td>\n",
       "      <td>53.921569</td>\n",
       "    </tr>\n",
       "  </tbody>\n",
       "</table>\n",
       "</div>"
      ],
      "text/plain": [
       "    conf  detections  wrongDetections  wrongDetectionsP   IDs  wrongIds  \\\n",
       "95  95.0      649382            12462          3.838111  2550      1375   \n",
       "\n",
       "    wrongIdsP  \n",
       "95  53.921569  "
      ]
     },
     "execution_count": 636,
     "metadata": {},
     "output_type": "execute_result"
    }
   ],
   "source": [
    "plotDataAllAge.query('conf == 95.0')"
   ]
  },
  {
   "cell_type": "code",
   "execution_count": 97,
   "metadata": {
    "ExecuteTime": {
     "end_time": "2017-03-22T17:52:20.090356",
     "start_time": "2017-03-22T17:52:20.068192"
    },
    "collapsed": true
   },
   "outputs": [],
   "source": [
    "plotDataAllAge.to_csv('10minNumDetectionsIDsVSconfidenceAGE.csv')"
   ]
  },
  {
   "cell_type": "code",
   "execution_count": 99,
   "metadata": {
    "ExecuteTime": {
     "end_time": "2017-03-22T17:56:20.941433",
     "start_time": "2017-03-22T17:56:20.929362"
    },
    "collapsed": false
   },
   "outputs": [],
   "source": [
    "allall = plotDataAllAge.merge(plotDataAll, on='conf')"
   ]
  },
  {
   "cell_type": "code",
   "execution_count": 127,
   "metadata": {
    "ExecuteTime": {
     "end_time": "2017-03-22T19:02:55.374586",
     "start_time": "2017-03-22T19:02:55.370265"
    },
    "collapsed": true
   },
   "outputs": [],
   "source": [
    "tot = 1056033"
   ]
  },
  {
   "cell_type": "code",
   "execution_count": 146,
   "metadata": {
    "ExecuteTime": {
     "end_time": "2017-03-22T19:11:03.677622",
     "start_time": "2017-03-22T19:11:03.671031"
    },
    "collapsed": false
   },
   "outputs": [],
   "source": [
    "allall['DET'] = (allall.detections - allall.wrongDetections)/tot*100"
   ]
  },
  {
   "cell_type": "code",
   "execution_count": 147,
   "metadata": {
    "ExecuteTime": {
     "end_time": "2017-03-22T19:11:04.383731",
     "start_time": "2017-03-22T19:11:04.377985"
    },
    "collapsed": true
   },
   "outputs": [],
   "source": [
    "allall['DETWRONG'] = allall.wrongDetections/tot*100"
   ]
  },
  {
   "cell_type": "code",
   "execution_count": 193,
   "metadata": {
    "ExecuteTime": {
     "end_time": "2017-03-22T19:38:05.796413",
     "start_time": "2017-03-22T19:38:05.792034"
    },
    "collapsed": true
   },
   "outputs": [],
   "source": [
    "totid = 4096"
   ]
  },
  {
   "cell_type": "code",
   "execution_count": 194,
   "metadata": {
    "ExecuteTime": {
     "end_time": "2017-03-22T19:38:06.254071",
     "start_time": "2017-03-22T19:38:06.248105"
    },
    "collapsed": false
   },
   "outputs": [],
   "source": [
    "allall['IDS'] = (allall.IDs - allall.wrongIds)/totid*100"
   ]
  },
  {
   "cell_type": "code",
   "execution_count": 195,
   "metadata": {
    "ExecuteTime": {
     "end_time": "2017-03-22T19:38:36.974720",
     "start_time": "2017-03-22T19:38:36.968508"
    },
    "collapsed": true
   },
   "outputs": [],
   "source": [
    "allall['IDSWRONG'] = allall.wrongIds/totid*100"
   ]
  },
  {
   "cell_type": "code",
   "execution_count": 148,
   "metadata": {
    "ExecuteTime": {
     "end_time": "2017-03-22T19:11:05.358551",
     "start_time": "2017-03-22T19:11:05.321140"
    },
    "collapsed": false
   },
   "outputs": [
    {
     "data": {
      "text/html": [
       "<div>\n",
       "<table border=\"1\" class=\"dataframe\">\n",
       "  <thead>\n",
       "    <tr style=\"text-align: right;\">\n",
       "      <th></th>\n",
       "      <th>conf</th>\n",
       "      <th>detections</th>\n",
       "      <th>wrongDetections</th>\n",
       "      <th>wrongDetectionsP</th>\n",
       "      <th>IDs</th>\n",
       "      <th>wrongIds</th>\n",
       "      <th>wrongIdsP</th>\n",
       "      <th>remainingDetections</th>\n",
       "      <th>remainingDetectionsP</th>\n",
       "      <th>remainingIds</th>\n",
       "      <th>remainingIdsP</th>\n",
       "      <th>DET</th>\n",
       "      <th>DETWRONG</th>\n",
       "    </tr>\n",
       "  </thead>\n",
       "  <tbody>\n",
       "    <tr>\n",
       "      <th>0</th>\n",
       "      <td>0.0</td>\n",
       "      <td>1056033</td>\n",
       "      <td>149620</td>\n",
       "      <td>28.336236</td>\n",
       "      <td>4093</td>\n",
       "      <td>2080</td>\n",
       "      <td>50.818471</td>\n",
       "      <td>1056033</td>\n",
       "      <td>100.000000</td>\n",
       "      <td>4093</td>\n",
       "      <td>99.926758</td>\n",
       "      <td>85.831882</td>\n",
       "      <td>14.168118</td>\n",
       "    </tr>\n",
       "    <tr>\n",
       "      <th>1</th>\n",
       "      <td>1.0</td>\n",
       "      <td>1048626</td>\n",
       "      <td>145837</td>\n",
       "      <td>27.814874</td>\n",
       "      <td>4093</td>\n",
       "      <td>2080</td>\n",
       "      <td>50.818471</td>\n",
       "      <td>1048626</td>\n",
       "      <td>99.298601</td>\n",
       "      <td>4093</td>\n",
       "      <td>99.926758</td>\n",
       "      <td>85.488711</td>\n",
       "      <td>13.809890</td>\n",
       "    </tr>\n",
       "    <tr>\n",
       "      <th>2</th>\n",
       "      <td>2.0</td>\n",
       "      <td>1034777</td>\n",
       "      <td>138727</td>\n",
       "      <td>26.812927</td>\n",
       "      <td>4093</td>\n",
       "      <td>2080</td>\n",
       "      <td>50.818471</td>\n",
       "      <td>1034777</td>\n",
       "      <td>97.987184</td>\n",
       "      <td>4093</td>\n",
       "      <td>99.926758</td>\n",
       "      <td>84.850568</td>\n",
       "      <td>13.136616</td>\n",
       "    </tr>\n",
       "    <tr>\n",
       "      <th>3</th>\n",
       "      <td>3.0</td>\n",
       "      <td>1028480</td>\n",
       "      <td>135407</td>\n",
       "      <td>26.331479</td>\n",
       "      <td>4092</td>\n",
       "      <td>2080</td>\n",
       "      <td>50.830890</td>\n",
       "      <td>1028480</td>\n",
       "      <td>97.390896</td>\n",
       "      <td>4092</td>\n",
       "      <td>99.902344</td>\n",
       "      <td>84.568664</td>\n",
       "      <td>12.822232</td>\n",
       "    </tr>\n",
       "    <tr>\n",
       "      <th>4</th>\n",
       "      <td>4.0</td>\n",
       "      <td>1022431</td>\n",
       "      <td>132402</td>\n",
       "      <td>25.899449</td>\n",
       "      <td>4091</td>\n",
       "      <td>2080</td>\n",
       "      <td>50.843315</td>\n",
       "      <td>1022431</td>\n",
       "      <td>96.818092</td>\n",
       "      <td>4091</td>\n",
       "      <td>99.877930</td>\n",
       "      <td>84.280415</td>\n",
       "      <td>12.537676</td>\n",
       "    </tr>\n",
       "  </tbody>\n",
       "</table>\n",
       "</div>"
      ],
      "text/plain": [
       "   conf  detections  wrongDetections  wrongDetectionsP   IDs  wrongIds  \\\n",
       "0   0.0     1056033           149620         28.336236  4093      2080   \n",
       "1   1.0     1048626           145837         27.814874  4093      2080   \n",
       "2   2.0     1034777           138727         26.812927  4093      2080   \n",
       "3   3.0     1028480           135407         26.331479  4092      2080   \n",
       "4   4.0     1022431           132402         25.899449  4091      2080   \n",
       "\n",
       "   wrongIdsP  remainingDetections  remainingDetectionsP  remainingIds  \\\n",
       "0  50.818471              1056033            100.000000          4093   \n",
       "1  50.818471              1048626             99.298601          4093   \n",
       "2  50.818471              1034777             97.987184          4093   \n",
       "3  50.830890              1028480             97.390896          4092   \n",
       "4  50.843315              1022431             96.818092          4091   \n",
       "\n",
       "   remainingIdsP        DET   DETWRONG  \n",
       "0      99.926758  85.831882  14.168118  \n",
       "1      99.926758  85.488711  13.809890  \n",
       "2      99.926758  84.850568  13.136616  \n",
       "3      99.902344  84.568664  12.822232  \n",
       "4      99.877930  84.280415  12.537676  "
      ]
     },
     "execution_count": 148,
     "metadata": {},
     "output_type": "execute_result"
    }
   ],
   "source": [
    "allall.head()"
   ]
  },
  {
   "cell_type": "code",
   "execution_count": 240,
   "metadata": {
    "ExecuteTime": {
     "end_time": "2017-03-22T23:33:33.839240",
     "start_time": "2017-03-22T23:33:33.827091"
    },
    "collapsed": true
   },
   "outputs": [],
   "source": [
    "allall.to_csv('allallConfPlotData.csv')"
   ]
  },
  {
   "cell_type": "code",
   "execution_count": 675,
   "metadata": {
    "ExecuteTime": {
     "end_time": "2017-04-18T00:12:26.239990",
     "start_time": "2017-04-18T00:12:25.506816"
    },
    "collapsed": false,
    "scrolled": false
   },
   "outputs": [
    {
     "data": {
      "image/png": "[encoded data removed]",
      "text/plain": [
       "<matplotlib.figure.Figure at 0x7f1bde4c8208>"
      ]
     },
     "metadata": {},
     "output_type": "display_data"
    }
   ],
   "source": [
    "sns.set_style(\"darkgrid\", {\"axes.facecolor\": \"#ebebeb\"})\n",
    "fig, ax = plt.subplots()\n",
    "fig.set_size_inches(5.91553/2, 5.91553/3)\n",
    "allall['newdetwrong'] = allall.DETWRONG/2\n",
    "ax = allall.plot(x='conf', y=['DET', 'newdetwrong'][::-1], kind='area', ax=ax, color=['#007f66', '#004033'][::-1], ylim=(0,105))\n",
    "ax.set_xlabel('Confidence level in %')\n",
    "ax.set_ylabel('Amount of detections in %')\n",
    "ax.set_xticks([10,20,30,40,50,60,70,80,90,100])\n",
    "\n",
    "#legend = ax.legend(['Remaining detections', 'Wrong detections'], loc=3, )\n",
    "#frame = legend.get_frame()\n",
    "#frame.set_facecolor('#00FFCC')\n",
    "\n",
    "lgd = plt.legend(['Remaining', 'Invalid'][::-1], bbox_to_anchor=(0., 1.02, 1., .102), loc=3, borderaxespad=0.)\n",
    "\n",
    "plt.tight_layout()\n",
    "fig.savefig('detectionsWrongConf.pdf', bbox_extra_artists=(lgd,), bbox_inches='tight')\n",
    "#plt.savefig('detectionsWrongConf.pdf')"
   ]
  },
  {
   "cell_type": "code",
   "execution_count": 676,
   "metadata": {
    "ExecuteTime": {
     "end_time": "2017-04-18T00:12:27.277466",
     "start_time": "2017-04-18T00:12:26.560365"
    },
    "collapsed": false
   },
   "outputs": [
    {
     "data": {
      "image/png": "[encoded data removed]",
      "text/plain": [
       "<matplotlib.figure.Figure at 0x7f1b9bbe8a20>"
      ]
     },
     "metadata": {},
     "output_type": "display_data"
    }
   ],
   "source": [
    "sns.set_style(\"darkgrid\", {\"axes.facecolor\": \"#ebebeb\"})\n",
    "fig, ax = plt.subplots()\n",
    "fig.set_size_inches(5.91553/2, 5.91553/3)\n",
    "\n",
    "ax = allall.plot(x='conf', y=['IDS', 'IDSWRONG'][::-1], kind='area', ax=ax, color=['#007f66', '#004033'][::-1], ylim=(0,105))\n",
    "ax.set_xlabel('Confidence level in %')\n",
    "ax.set_ylabel('Amount of IDs in %')\n",
    "ax.set_xticks([10,20,30,40,50,60,70,80,90,100])\n",
    "\n",
    "lgd = plt.legend(['Remaining', 'Invalid'][::-1], bbox_to_anchor=(0., 1.02, 1., .102), loc=3, borderaxespad=0.)\n",
    "\n",
    "plt.tight_layout()\n",
    "#plt.savefig('idsWrongConf.pdf')\n",
    "fig.savefig('idsWrongConf.pdf', bbox_extra_artists=(lgd,), bbox_inches='tight')"
   ]
  },
  {
   "cell_type": "code",
   "execution_count": 236,
   "metadata": {
    "ExecuteTime": {
     "end_time": "2017-02-27T14:22:17.010107",
     "start_time": "2017-02-27T14:22:16.255041"
    },
    "collapsed": false
   },
   "outputs": [],
   "source": [
    "dffrequency = DataFrame(data[data.confidence >= 0.95].groupby(by='id').size(), columns=['frequency']).reset_index()\n",
    "dffrequency['age'] = dffrequency.id.apply(lambda x: aa.iloc[x].age)"
   ]
  },
  {
   "cell_type": "code",
   "execution_count": 436,
   "metadata": {
    "ExecuteTime": {
     "end_time": "2017-03-01T12:32:08.025997",
     "start_time": "2017-03-01T12:32:07.525191"
    },
    "collapsed": false
   },
   "outputs": [
    {
     "data": {
      "text/plain": [
       "<matplotlib.axes._subplots.AxesSubplot at 0x7f2ab8dd6c50>"
      ]
     },
     "execution_count": 436,
     "metadata": {},
     "output_type": "execute_result"
    },
    {
     "data": {
      "image/png": "[encoded data removed]",
      "text/plain": [
       "<matplotlib.figure.Figure at 0x7f2ab84dfd30>"
      ]
     },
     "metadata": {},
     "output_type": "display_data"
    }
   ],
   "source": [
    "dffrequency.frequency.plot.hist(bins=50)"
   ]
  },
  {
   "cell_type": "code",
   "execution_count": 237,
   "metadata": {
    "ExecuteTime": {
     "end_time": "2017-02-27T14:22:17.330800",
     "start_time": "2017-02-27T14:22:17.012834"
    },
    "collapsed": false
   },
   "outputs": [
    {
     "data": {
      "text/plain": [
       "<matplotlib.axes._subplots.AxesSubplot at 0x7f2ac5d8a080>"
      ]
     },
     "execution_count": 237,
     "metadata": {},
     "output_type": "execute_result"
    },
    {
     "data": {
      "image/png": "[encoded data removed]",
      "text/plain": [
       "<matplotlib.figure.Figure at 0x7f2ac3b65780>"
      ]
     },
     "metadata": {},
     "output_type": "display_data"
    }
   ],
   "source": [
    "dffrequency.plot.scatter(x='age', y='frequency', s=5, alpha=0.1)"
   ]
  },
  {
   "cell_type": "code",
   "execution_count": 238,
   "metadata": {
    "ExecuteTime": {
     "end_time": "2017-02-27T14:22:19.027169",
     "start_time": "2017-02-27T14:22:18.372500"
    },
    "collapsed": false
   },
   "outputs": [
    {
     "data": {
      "text/plain": [
       "<matplotlib.axes._subplots.AxesSubplot at 0x7f2abb2e5b00>"
      ]
     },
     "execution_count": 238,
     "metadata": {},
     "output_type": "execute_result"
    },
    {
     "data": {
      "image/png": "[encoded data removed]",
      "text/plain": [
       "<matplotlib.figure.Figure at 0x7f2abb72ef98>"
      ]
     },
     "metadata": {},
     "output_type": "display_data"
    }
   ],
   "source": [
    "dffrequency[dffrequency.age < 0].frequency.hist(bins=100)#mean()"
   ]
  },
  {
   "cell_type": "code",
   "execution_count": 239,
   "metadata": {
    "ExecuteTime": {
     "end_time": "2017-02-27T14:22:20.455640",
     "start_time": "2017-02-27T14:22:19.832243"
    },
    "collapsed": false
   },
   "outputs": [
    {
     "data": {
      "text/plain": [
       "<matplotlib.axes._subplots.AxesSubplot at 0x7f2acafce320>"
      ]
     },
     "execution_count": 239,
     "metadata": {},
     "output_type": "execute_result"
    },
    {
     "data": {
      "image/png": "[encoded data removed]",
      "text/plain": [
       "<matplotlib.figure.Figure at 0x7f2acc990d68>"
      ]
     },
     "metadata": {},
     "output_type": "display_data"
    }
   ],
   "source": [
    "dffrequency[dffrequency.age >= 0].frequency.hist(bins=100) #mean()"
   ]
  },
  {
   "cell_type": "code",
   "execution_count": 219,
   "metadata": {
    "ExecuteTime": {
     "end_time": "2017-02-27T14:14:00.138036",
     "start_time": "2017-02-27T14:14:00.128825"
    },
    "collapsed": false
   },
   "outputs": [
    {
     "data": {
      "text/plain": [
       "159.34827082318557"
      ]
     },
     "execution_count": 219,
     "metadata": {},
     "output_type": "execute_result"
    }
   ],
   "source": [
    "dffrequency.frequency.mean()"
   ]
  },
  {
   "cell_type": "code",
   "execution_count": 220,
   "metadata": {
    "ExecuteTime": {
     "end_time": "2017-02-27T14:14:15.298758",
     "start_time": "2017-02-27T14:14:15.289473"
    },
    "collapsed": false
   },
   "outputs": [
    {
     "data": {
      "text/plain": [
       "43.125"
      ]
     },
     "execution_count": 220,
     "metadata": {},
     "output_type": "execute_result"
    }
   ],
   "source": [
    "310.5/7.2"
   ]
  },
  {
   "cell_type": "code",
   "execution_count": 221,
   "metadata": {
    "ExecuteTime": {
     "end_time": "2017-02-27T14:14:21.179060",
     "start_time": "2017-02-27T14:14:20.762396"
    },
    "collapsed": false
   },
   "outputs": [
    {
     "data": {
      "text/plain": [
       "<matplotlib.colorbar.Colorbar at 0x7f2ac2c7d908>"
      ]
     },
     "execution_count": 221,
     "metadata": {},
     "output_type": "execute_result"
    },
    {
     "data": {
      "image/png": "[encoded data removed]",
      "text/plain": [
       "<matplotlib.figure.Figure at 0x7f2abbce71d0>"
      ]
     },
     "metadata": {},
     "output_type": "display_data"
    }
   ],
   "source": [
    "H, xedges, yedeges, im = plt.hist2d(dffrequency.age,dffrequency.frequency,bins=[120,120])\n",
    "plt.colorbar()"
   ]
  },
  {
   "cell_type": "markdown",
   "metadata": {},
   "source": [
    "# Average Number of Gaps per Bee Series depending on Confidence Level"
   ]
  },
  {
   "cell_type": "code",
   "execution_count": 251,
   "metadata": {
    "ExecuteTime": {
     "end_time": "2017-03-22T23:41:51.215850",
     "start_time": "2017-03-22T23:41:51.189549"
    },
    "collapsed": false
   },
   "outputs": [],
   "source": [
    "data0 = data[data.cam_id == 0]"
   ]
  },
  {
   "cell_type": "code",
   "execution_count": 252,
   "metadata": {
    "ExecuteTime": {
     "end_time": "2017-03-22T23:55:48.334134",
     "start_time": "2017-03-22T23:55:47.813473"
    },
    "collapsed": false
   },
   "outputs": [
    {
     "data": {
      "text/html": [
       "<div>\n",
       "<table border=\"1\" class=\"dataframe\">\n",
       "  <thead>\n",
       "    <tr style=\"text-align: right;\">\n",
       "      <th></th>\n",
       "      <th>idx</th>\n",
       "      <th>xpos</th>\n",
       "      <th>ypos</th>\n",
       "      <th>radius</th>\n",
       "      <th>zRotation</th>\n",
       "      <th>frame_idx</th>\n",
       "      <th>timestamp</th>\n",
       "      <th>cam_id</th>\n",
       "      <th>fc_id</th>\n",
       "      <th>frame_id</th>\n",
       "      <th>confidence</th>\n",
       "      <th>id</th>\n",
       "    </tr>\n",
       "  </thead>\n",
       "  <tbody>\n",
       "    <tr>\n",
       "      <th>0</th>\n",
       "      <td>0</td>\n",
       "      <td>51</td>\n",
       "      <td>1337</td>\n",
       "      <td>22.927212</td>\n",
       "      <td>-0.436176</td>\n",
       "      <td>0</td>\n",
       "      <td>1.469549e+09</td>\n",
       "      <td>0</td>\n",
       "      <td>10487780367802891005</td>\n",
       "      <td>9235224632327916253</td>\n",
       "      <td>0.992157</td>\n",
       "      <td>3387</td>\n",
       "    </tr>\n",
       "    <tr>\n",
       "      <th>1</th>\n",
       "      <td>1</td>\n",
       "      <td>163</td>\n",
       "      <td>1538</td>\n",
       "      <td>22.708023</td>\n",
       "      <td>0.595369</td>\n",
       "      <td>0</td>\n",
       "      <td>1.469549e+09</td>\n",
       "      <td>0</td>\n",
       "      <td>10487780367802891005</td>\n",
       "      <td>9235224632327916253</td>\n",
       "      <td>0.992157</td>\n",
       "      <td>3870</td>\n",
       "    </tr>\n",
       "    <tr>\n",
       "      <th>2</th>\n",
       "      <td>2</td>\n",
       "      <td>189</td>\n",
       "      <td>2626</td>\n",
       "      <td>23.293472</td>\n",
       "      <td>0.364826</td>\n",
       "      <td>0</td>\n",
       "      <td>1.469549e+09</td>\n",
       "      <td>0</td>\n",
       "      <td>10487780367802891005</td>\n",
       "      <td>9235224632327916253</td>\n",
       "      <td>0.011765</td>\n",
       "      <td>1607</td>\n",
       "    </tr>\n",
       "    <tr>\n",
       "      <th>3</th>\n",
       "      <td>3</td>\n",
       "      <td>202</td>\n",
       "      <td>924</td>\n",
       "      <td>22.790953</td>\n",
       "      <td>0.147058</td>\n",
       "      <td>0</td>\n",
       "      <td>1.469549e+09</td>\n",
       "      <td>0</td>\n",
       "      <td>10487780367802891005</td>\n",
       "      <td>9235224632327916253</td>\n",
       "      <td>0.992157</td>\n",
       "      <td>1854</td>\n",
       "    </tr>\n",
       "    <tr>\n",
       "      <th>4</th>\n",
       "      <td>4</td>\n",
       "      <td>201</td>\n",
       "      <td>1990</td>\n",
       "      <td>23.085573</td>\n",
       "      <td>0.218766</td>\n",
       "      <td>0</td>\n",
       "      <td>1.469549e+09</td>\n",
       "      <td>0</td>\n",
       "      <td>10487780367802891005</td>\n",
       "      <td>9235224632327916253</td>\n",
       "      <td>0.050980</td>\n",
       "      <td>541</td>\n",
       "    </tr>\n",
       "  </tbody>\n",
       "</table>\n",
       "</div>"
      ],
      "text/plain": [
       "   idx  xpos  ypos     radius  zRotation  frame_idx     timestamp  cam_id  \\\n",
       "0    0    51  1337  22.927212  -0.436176          0  1.469549e+09       0   \n",
       "1    1   163  1538  22.708023   0.595369          0  1.469549e+09       0   \n",
       "2    2   189  2626  23.293472   0.364826          0  1.469549e+09       0   \n",
       "3    3   202   924  22.790953   0.147058          0  1.469549e+09       0   \n",
       "4    4   201  1990  23.085573   0.218766          0  1.469549e+09       0   \n",
       "\n",
       "                  fc_id             frame_id  confidence    id  \n",
       "0  10487780367802891005  9235224632327916253    0.992157  3387  \n",
       "1  10487780367802891005  9235224632327916253    0.992157  3870  \n",
       "2  10487780367802891005  9235224632327916253    0.011765  1607  \n",
       "3  10487780367802891005  9235224632327916253    0.992157  1854  \n",
       "4  10487780367802891005  9235224632327916253    0.050980   541  "
      ]
     },
     "execution_count": 252,
     "metadata": {},
     "output_type": "execute_result"
    }
   ],
   "source": [
    "data.head()"
   ]
  },
  {
   "cell_type": "code",
   "execution_count": 604,
   "metadata": {
    "ExecuteTime": {
     "end_time": "2017-04-12T01:14:04.118326",
     "start_time": "2017-04-12T01:14:04.109564"
    },
    "collapsed": true
   },
   "outputs": [],
   "source": [
    "def get_gaps_length(kette):\n",
    "    kette = kette.apply(str)\n",
    "    s = kette.str.cat(sep='')\n",
    "    s = s.strip(\"0\")\n",
    "    ss = s.split('1')\n",
    "    return [len(x) for x in ss if len(x) > 0]"
   ]
  },
  {
   "cell_type": "code",
   "execution_count": 612,
   "metadata": {
    "ExecuteTime": {
     "end_time": "2017-04-12T01:18:29.972210",
     "start_time": "2017-04-12T01:18:29.963313"
    },
    "collapsed": true
   },
   "outputs": [],
   "source": [
    "def get_num_of_gaps(kette):\n",
    "    kette = kette.apply(str)\n",
    "    s = kette.str.cat(sep='')\n",
    "    s = s.strip(\"0\")\n",
    "    ss = s.split('1')\n",
    "    return len([len(x) for x in ss if len(x) > 0])"
   ]
  },
  {
   "cell_type": "code",
   "execution_count": 255,
   "metadata": {
    "ExecuteTime": {
     "end_time": "2017-03-23T00:01:38.828882",
     "start_time": "2017-03-22T23:55:51.929699"
    },
    "collapsed": false,
    "scrolled": false
   },
   "outputs": [],
   "source": [
    "statGapS = []\n",
    "for i in np.arange(0,1.01, 0.01)[[0,10,20,30,40,50,60,70,80,85,90,91,92,93,94,95,96,97,98,99,100]]:\n",
    "    dd = data[data.confidence >= i]\n",
    "    dft = prep.df_to_timeseries(dd)\n",
    "    gapsLen = dft.apply(get_gaps_length, axis=1)\n",
    "    flattened = [n for elem in gapsLen for n in elem]\n",
    "    sL = Series(flattened)\n",
    " \n",
    "    gapsNum = dft.apply(get_num_of_gaps, axis=1)\n",
    "    s = Series(gapsNum)\n",
    "    \n",
    "    s0 = dft.shape[1] - Series(dft.sum(axis=1))\n",
    "    \n",
    "    statGapS.append({'conf': i, 'LenMean': sL.mean(), 'LenMedian': sL.median(), 'NumMean': s.mean(), 'NumMedian': s.median(),'total': dft.shape[0], \\\n",
    "                    'total0': s0.sum(), 's0mean': s0.mean(), 's0median': s0.median()})"
   ]
  },
  {
   "cell_type": "code",
   "execution_count": 256,
   "metadata": {
    "ExecuteTime": {
     "end_time": "2017-03-23T00:01:38.836900",
     "start_time": "2017-03-23T00:01:38.831126"
    },
    "collapsed": false
   },
   "outputs": [],
   "source": [
    "dfGAPS = DataFrame(statGapS)\n",
    "dfGAPS.conf *= 100"
   ]
  },
  {
   "cell_type": "code",
   "execution_count": 257,
   "metadata": {
    "ExecuteTime": {
     "end_time": "2017-03-23T00:01:55.485072",
     "start_time": "2017-03-23T00:01:55.478347"
    },
    "collapsed": true
   },
   "outputs": [],
   "source": [
    "dfGAPS.to_csv('gapsPlotData.csv')"
   ]
  },
  {
   "cell_type": "code",
   "execution_count": 289,
   "metadata": {
    "ExecuteTime": {
     "end_time": "2017-03-23T00:27:57.965840",
     "start_time": "2017-03-23T00:27:57.421967"
    },
    "collapsed": false
   },
   "outputs": [
    {
     "data": {
      "image/png": "[encoded data removed]",
      "text/plain": [
       "<matplotlib.figure.Figure at 0x7f1b9a9be898>"
      ]
     },
     "metadata": {},
     "output_type": "display_data"
    }
   ],
   "source": [
    "fig, ax = plt.subplots()\n",
    "dfGAPS.plot(x=\"conf\", y=[\"LenMedian\", \"LenMean\"], color=['#007f66', '#cb9f0a'], ax=ax, legend=False)\n",
    "fig.set_size_inches(5.91553/2,5.91553/3)\n",
    "\n",
    "ax.set_ylabel(\"Gap length in frames\")\n",
    "ax.set_xlabel(\"Confidence in %\")\n",
    "plt.axvline(95, color='0.5', linestyle='dotted', linewidth=1)\n",
    "plt.text(85,15,'95',rotation=0)\n",
    "plt.tight_layout()\n",
    "\n",
    "#lgd = plt.legend([\"Median\", \"Mean\"], bbox_to_anchor=(0., 1.02, 1., .102), loc=3, borderaxespad=0.)\n",
    "#fig.savefig('gaplen.pdf', bbox_extra_artists=(lgd,), bbox_inches='tight')\n",
    "plt.savefig('gaplen.pdf')"
   ]
  },
  {
   "cell_type": "code",
   "execution_count": 290,
   "metadata": {
    "ExecuteTime": {
     "end_time": "2017-03-23T00:27:59.070331",
     "start_time": "2017-03-23T00:27:58.530752"
    },
    "collapsed": false
   },
   "outputs": [
    {
     "data": {
      "image/png": "[encoded data removed]",
      "text/plain": [
       "<matplotlib.figure.Figure at 0x7f1b9a979e10>"
      ]
     },
     "metadata": {},
     "output_type": "display_data"
    }
   ],
   "source": [
    "fig, ax = plt.subplots()\n",
    "dfGAPS.plot(x=\"conf\", y=[\"NumMedian\", \"NumMean\"], color=['#007f66', '#cb9f0a'],ax=ax, legend=False)\n",
    "fig.set_size_inches(5.91553/2,5.91553/3)\n",
    "\n",
    "ax.set_ylabel(\"Number of gaps\")\n",
    "ax.set_xlabel(\"Confidence in %\")\n",
    "plt.axvline(95, color='0.5', linestyle='dotted', linewidth=1)\n",
    "plt.text(85,15,'95',rotation=0)\n",
    "plt.tight_layout()\n",
    "#lgd = plt.legend([\"Median\", \"Mean\"], bbox_to_anchor=(0., 1.02, 1., .102), loc=3, borderaxespad=0.)\n",
    "#fig.savefig('numgaps.pdf', bbox_extra_artists=(lgd,), bbox_inches='tight')\n",
    "plt.savefig('numgaps.pdf')"
   ]
  },
  {
   "cell_type": "code",
   "execution_count": 429,
   "metadata": {
    "ExecuteTime": {
     "end_time": "2017-02-28T16:22:20.535245",
     "start_time": "2017-02-28T16:22:20.197936"
    },
    "collapsed": false
   },
   "outputs": [
    {
     "data": {
      "text/plain": [
       "<matplotlib.axes._subplots.AxesSubplot at 0x7f2ac37644a8>"
      ]
     },
     "execution_count": 429,
     "metadata": {},
     "output_type": "execute_result"
    },
    {
     "data": {
      "image/png": "[encoded data removed]",
      "text/plain": [
       "<matplotlib.figure.Figure at 0x7f2ab7d78630>"
      ]
     },
     "metadata": {},
     "output_type": "display_data"
    }
   ],
   "source": [
    "dfGAPS.plot(x=\"conf\", y=[\"s0median\", \"s0mean\"], colormap=\"summer\")"
   ]
  },
  {
   "cell_type": "markdown",
   "metadata": {},
   "source": [
    "# Average Number of Gaps in Pair Time Series"
   ]
  },
  {
   "cell_type": "code",
   "execution_count": 592,
   "metadata": {
    "ExecuteTime": {
     "end_time": "2017-04-12T01:04:12.611196",
     "start_time": "2017-04-12T01:04:12.573689"
    },
    "collapsed": false
   },
   "outputs": [],
   "source": [
    "data1 = data[data.cam_id == 1]"
   ]
  },
  {
   "cell_type": "code",
   "execution_count": 631,
   "metadata": {
    "ExecuteTime": {
     "end_time": "2017-04-12T12:38:21.324188",
     "start_time": "2017-04-12T10:03:09.453293"
    },
    "collapsed": false
   },
   "outputs": [],
   "source": [
    "statPairs = []\n",
    "for i in np.arange(0,1.01, 0.01):            \n",
    "    dd = data1[data1.confidence >= i]\n",
    "    dftpairs = prep.get_close_bees_ckd(dd, 212)\n",
    "    dftpairs = prep.bee_pairs_to_timeseries(dftpairs)\n",
    "    \n",
    "    # Gap Length\n",
    "    gapsLen = dftpairs.apply(get_gaps_length, axis=1)\n",
    "    meanGapLength = gapsLen.apply(lambda x: Series(x).mean()).mean()\n",
    "    flattened = Series([n for elem in gapsLen for n in elem])   \n",
    "    medianGapLength = flattened.median()\n",
    "    \n",
    "    # Number of Gaps\n",
    "    gapsNum = dftpairs.apply(get_num_of_gaps, axis=1)\n",
    "    meanNumberOfGaps = gapsNum.mean()\n",
    "    medianNumberOfGaps = gapsNum.median()\n",
    "    statPairs.append({\"confidence\": i,\n",
    "                      \"meanGapLength\": meanGapLength,\n",
    "                      'medianGapLength': medianGapLength,\n",
    "                      \"meanNumberOfGaps\": meanNumberOfGaps,\n",
    "                      'medianNumberOfGaps': medianNumberOfGaps})"
   ]
  },
  {
   "cell_type": "code",
   "execution_count": 632,
   "metadata": {
    "ExecuteTime": {
     "end_time": "2017-04-12T15:52:36.004502",
     "start_time": "2017-04-12T15:52:35.997825"
    },
    "collapsed": false
   },
   "outputs": [],
   "source": [
    "statPairs = DataFrame(statPairs)"
   ]
  },
  {
   "cell_type": "code",
   "execution_count": 634,
   "metadata": {
    "ExecuteTime": {
     "end_time": "2017-04-12T15:53:08.224194",
     "start_time": "2017-04-12T15:53:07.671978"
    },
    "collapsed": false
   },
   "outputs": [
    {
     "data": {
      "text/plain": [
       "<matplotlib.axes._subplots.AxesSubplot at 0x7f1b65380240>"
      ]
     },
     "execution_count": 634,
     "metadata": {},
     "output_type": "execute_result"
    },
    {
     "data": {
      "image/png": "[encoded data removed]",
      "text/plain": [
       "<matplotlib.figure.Figure at 0x7f1b9af76a58>"
      ]
     },
     "metadata": {},
     "output_type": "display_data"
    }
   ],
   "source": [
    "statPairs.plot(x='confidence', y=['meanGapLength', 'medianGapLength'])"
   ]
  },
  {
   "cell_type": "code",
   "execution_count": 635,
   "metadata": {
    "ExecuteTime": {
     "end_time": "2017-04-12T15:54:28.100428",
     "start_time": "2017-04-12T15:54:27.557320"
    },
    "collapsed": false
   },
   "outputs": [
    {
     "data": {
      "text/plain": [
       "<matplotlib.axes._subplots.AxesSubplot at 0x7f1b99239400>"
      ]
     },
     "execution_count": 635,
     "metadata": {},
     "output_type": "execute_result"
    },
    {
     "data": {
      "image/png": "[encoded data removed]",
      "text/plain": [
       "<matplotlib.figure.Figure at 0x7f1b99260c88>"
      ]
     },
     "metadata": {},
     "output_type": "display_data"
    }
   ],
   "source": [
    "statPairs.plot(x='confidence', y=['meanNumberOfGaps','medianNumberOfGaps'])"
   ]
  },
  {
   "cell_type": "code",
   "execution_count": 620,
   "metadata": {
    "ExecuteTime": {
     "end_time": "2017-04-12T01:34:24.654495",
     "start_time": "2017-04-12T01:34:24.648219"
    },
    "collapsed": false
   },
   "outputs": [
    {
     "data": {
      "text/plain": [
       "2.7777777777777777"
      ]
     },
     "execution_count": 620,
     "metadata": {},
     "output_type": "execute_result"
    }
   ],
   "source": [
    "100*10/6/60"
   ]
  },
  {
   "cell_type": "code",
   "execution_count": null,
   "metadata": {
    "collapsed": true
   },
   "outputs": [],
   "source": [
    "    gapsLen = dft.apply(get_gaps_length, axis=1)\n",
    "    flattened = [n for elem in gapsLen for n in elem]\n",
    "    sL = Series(flattened)\n",
    " \n",
    "    gapsNum = dft.apply(get_num_of_gaps, axis=1)\n",
    "    s = Series(gapsNum)\n",
    "    \n",
    "    s0 = dft.shape[1] - Series(dft.sum(axis=1))\n",
    "    \n",
    "    statGapS.append({'conf': i, 'LenMean': sL.mean(), 'LenMedian': sL.median(), 'NumMean': s.mean(), 'NumMedian': s.median(),'total': dft.shape[0], \\\n",
    "                    'total0': s0.sum(), 's0mean': s0.mean(), 's0median': s0.median()})"
   ]
  },
  {
   "cell_type": "code",
   "execution_count": null,
   "metadata": {
    "collapsed": true
   },
   "outputs": [],
   "source": []
  },
  {
   "cell_type": "code",
   "execution_count": null,
   "metadata": {
    "collapsed": true
   },
   "outputs": [],
   "source": []
  },
  {
   "cell_type": "code",
   "execution_count": null,
   "metadata": {
    "collapsed": true
   },
   "outputs": [],
   "source": []
  },
  {
   "cell_type": "code",
   "execution_count": null,
   "metadata": {
    "collapsed": true
   },
   "outputs": [],
   "source": []
  },
  {
   "cell_type": "code",
   "execution_count": 368,
   "metadata": {
    "ExecuteTime": {
     "end_time": "2017-02-28T15:38:51.956623",
     "start_time": "2017-02-28T15:38:51.947153"
    },
    "collapsed": false
   },
   "outputs": [],
   "source": [
    "testdf = DataFrame([[1,2,3],[3,4,5],[3,4,5]])"
   ]
  },
  {
   "cell_type": "code",
   "execution_count": 369,
   "metadata": {
    "ExecuteTime": {
     "end_time": "2017-02-28T15:38:54.735483",
     "start_time": "2017-02-28T15:38:54.721283"
    },
    "collapsed": false
   },
   "outputs": [
    {
     "data": {
      "text/html": [
       "<div>\n",
       "<table border=\"1\" class=\"dataframe\">\n",
       "  <thead>\n",
       "    <tr style=\"text-align: right;\">\n",
       "      <th></th>\n",
       "      <th>0</th>\n",
       "      <th>1</th>\n",
       "      <th>2</th>\n",
       "    </tr>\n",
       "  </thead>\n",
       "  <tbody>\n",
       "    <tr>\n",
       "      <th>0</th>\n",
       "      <td>1</td>\n",
       "      <td>2</td>\n",
       "      <td>3</td>\n",
       "    </tr>\n",
       "    <tr>\n",
       "      <th>1</th>\n",
       "      <td>3</td>\n",
       "      <td>4</td>\n",
       "      <td>5</td>\n",
       "    </tr>\n",
       "    <tr>\n",
       "      <th>2</th>\n",
       "      <td>3</td>\n",
       "      <td>4</td>\n",
       "      <td>5</td>\n",
       "    </tr>\n",
       "  </tbody>\n",
       "</table>\n",
       "</div>"
      ],
      "text/plain": [
       "   0  1  2\n",
       "0  1  2  3\n",
       "1  3  4  5\n",
       "2  3  4  5"
      ]
     },
     "execution_count": 369,
     "metadata": {},
     "output_type": "execute_result"
    }
   ],
   "source": [
    "testdf"
   ]
  },
  {
   "cell_type": "code",
   "execution_count": 371,
   "metadata": {
    "ExecuteTime": {
     "end_time": "2017-02-28T15:39:14.998167",
     "start_time": "2017-02-28T15:39:14.985852"
    },
    "collapsed": false
   },
   "outputs": [
    {
     "data": {
      "text/plain": [
       "0     6\n",
       "1    12\n",
       "2    12\n",
       "dtype: int64"
      ]
     },
     "execution_count": 371,
     "metadata": {},
     "output_type": "execute_result"
    }
   ],
   "source": [
    "testdf.sum(axis=1)"
   ]
  },
  {
   "cell_type": "markdown",
   "metadata": {},
   "source": [
    "# Histogramm: Frequency of Detection per ID: conf = 95"
   ]
  },
  {
   "cell_type": "code",
   "execution_count": 294,
   "metadata": {
    "ExecuteTime": {
     "end_time": "2017-03-24T00:04:48.019965",
     "start_time": "2017-03-24T00:04:48.010635"
    },
    "collapsed": false,
    "scrolled": false
   },
   "outputs": [],
   "source": [
    "freq = pd.read_csv('ID_frequencies_2016-08-20_95conf_24h.csv', names=['id', 'freq'])"
   ]
  },
  {
   "cell_type": "code",
   "execution_count": 296,
   "metadata": {
    "ExecuteTime": {
     "end_time": "2017-03-24T00:06:30.038852",
     "start_time": "2017-03-24T00:06:30.032198"
    },
    "collapsed": false
   },
   "outputs": [
    {
     "data": {
      "text/plain": [
       "302400.0"
      ]
     },
     "execution_count": 296,
     "metadata": {},
     "output_type": "execute_result"
    }
   ],
   "source": [
    "24*60*60*3.5"
   ]
  },
  {
   "cell_type": "code",
   "execution_count": 306,
   "metadata": {
    "ExecuteTime": {
     "end_time": "2017-03-24T00:14:35.757449",
     "start_time": "2017-03-24T00:14:35.752161"
    },
    "collapsed": true
   },
   "outputs": [],
   "source": [
    "start = \"2016-08-20T16:00:00Z\"\n",
    "start_dt = datetime.datetime.strptime(start, \"%Y-%m-%dT%H:%M:%SZ\").replace(tzinfo=pytz.UTC)"
   ]
  },
  {
   "cell_type": "code",
   "execution_count": 307,
   "metadata": {
    "ExecuteTime": {
     "end_time": "2017-03-24T00:14:38.393132",
     "start_time": "2017-03-24T00:14:36.684469"
    },
    "collapsed": false
   },
   "outputs": [],
   "source": [
    "aa = ht.get_all_bees_age(start_dt)\n",
    "freq['age'] = freq.id.apply(lambda x: aa.iloc[x].age)"
   ]
  },
  {
   "cell_type": "code",
   "execution_count": 308,
   "metadata": {
    "ExecuteTime": {
     "end_time": "2017-03-24T00:14:38.404990",
     "start_time": "2017-03-24T00:14:38.394929"
    },
    "collapsed": false
   },
   "outputs": [
    {
     "data": {
      "text/html": [
       "<div>\n",
       "<table border=\"1\" class=\"dataframe\">\n",
       "  <thead>\n",
       "    <tr style=\"text-align: right;\">\n",
       "      <th></th>\n",
       "      <th>id</th>\n",
       "      <th>freq</th>\n",
       "      <th>age</th>\n",
       "    </tr>\n",
       "  </thead>\n",
       "  <tbody>\n",
       "    <tr>\n",
       "      <th>0</th>\n",
       "      <td>0</td>\n",
       "      <td>51</td>\n",
       "      <td>-100</td>\n",
       "    </tr>\n",
       "    <tr>\n",
       "      <th>1</th>\n",
       "      <td>1</td>\n",
       "      <td>353</td>\n",
       "      <td>23</td>\n",
       "    </tr>\n",
       "    <tr>\n",
       "      <th>2</th>\n",
       "      <td>2</td>\n",
       "      <td>11</td>\n",
       "      <td>-100</td>\n",
       "    </tr>\n",
       "    <tr>\n",
       "      <th>3</th>\n",
       "      <td>3</td>\n",
       "      <td>148</td>\n",
       "      <td>45</td>\n",
       "    </tr>\n",
       "    <tr>\n",
       "      <th>4</th>\n",
       "      <td>4</td>\n",
       "      <td>14</td>\n",
       "      <td>-2</td>\n",
       "    </tr>\n",
       "  </tbody>\n",
       "</table>\n",
       "</div>"
      ],
      "text/plain": [
       "   id  freq  age\n",
       "0   0    51 -100\n",
       "1   1   353   23\n",
       "2   2    11 -100\n",
       "3   3   148   45\n",
       "4   4    14   -2"
      ]
     },
     "execution_count": 308,
     "metadata": {},
     "output_type": "execute_result"
    }
   ],
   "source": [
    "freq.head()"
   ]
  },
  {
   "cell_type": "code",
   "execution_count": 310,
   "metadata": {
    "ExecuteTime": {
     "end_time": "2017-03-24T00:15:29.221951",
     "start_time": "2017-03-24T00:15:28.593188"
    },
    "collapsed": false
   },
   "outputs": [
    {
     "data": {
      "text/plain": [
       "<matplotlib.axes._subplots.AxesSubplot at 0x7f1b9a65bf98>"
      ]
     },
     "execution_count": 310,
     "metadata": {},
     "output_type": "execute_result"
    },
    {
     "data": {
      "image/png": "[encoded data removed]",
      "text/plain": [
       "<matplotlib.figure.Figure at 0x7f1b9a591d30>"
      ]
     },
     "metadata": {},
     "output_type": "display_data"
    }
   ],
   "source": [
    "freq[freq.age<200].plot.scatter(y='age', x='freq', s=1, alpha=0.1)"
   ]
  },
  {
   "cell_type": "code",
   "execution_count": 503,
   "metadata": {
    "ExecuteTime": {
     "end_time": "2017-03-24T01:52:37.492246",
     "start_time": "2017-03-24T01:52:37.483688"
    },
    "collapsed": true
   },
   "outputs": [],
   "source": [
    "dataPos = freq[freq.age >= 0].freq\n",
    "dataNeg = (freq[freq.age < 0].freq)"
   ]
  },
  {
   "cell_type": "code",
   "execution_count": 505,
   "metadata": {
    "ExecuteTime": {
     "end_time": "2017-03-24T01:52:46.424147",
     "start_time": "2017-03-24T01:52:46.417711"
    },
    "collapsed": false
   },
   "outputs": [
    {
     "data": {
      "text/plain": [
       "1084"
      ]
     },
     "execution_count": 505,
     "metadata": {},
     "output_type": "execute_result"
    }
   ],
   "source": [
    "len(dataNeg)"
   ]
  },
  {
   "cell_type": "code",
   "execution_count": 506,
   "metadata": {
    "ExecuteTime": {
     "end_time": "2017-03-24T01:52:53.524951",
     "start_time": "2017-03-24T01:52:53.518670"
    },
    "collapsed": false
   },
   "outputs": [
    {
     "data": {
      "text/plain": [
       "3012"
      ]
     },
     "execution_count": 506,
     "metadata": {},
     "output_type": "execute_result"
    }
   ],
   "source": [
    "len(dataPos)"
   ]
  },
  {
   "cell_type": "code",
   "execution_count": 507,
   "metadata": {
    "ExecuteTime": {
     "end_time": "2017-03-24T01:53:01.055194",
     "start_time": "2017-03-24T01:53:01.049427"
    },
    "collapsed": false
   },
   "outputs": [],
   "source": [
    "listeNeg = dataNeg[dataNeg > 10000]"
   ]
  },
  {
   "cell_type": "code",
   "execution_count": 508,
   "metadata": {
    "ExecuteTime": {
     "end_time": "2017-03-24T01:53:01.555403",
     "start_time": "2017-03-24T01:53:01.551316"
    },
    "collapsed": true
   },
   "outputs": [],
   "source": [
    "remove = [17,155,2045,2357,3103]"
   ]
  },
  {
   "cell_type": "code",
   "execution_count": 509,
   "metadata": {
    "ExecuteTime": {
     "end_time": "2017-03-24T01:53:02.552573",
     "start_time": "2017-03-24T01:53:02.542370"
    },
    "collapsed": false
   },
   "outputs": [
    {
     "name": "stderr",
     "output_type": "stream",
     "text": [
      "/home/mi/aschle/miniconda3/lib/python3.5/site-packages/ipykernel/__main__.py:1: UserWarning: Boolean Series key will be reindexed to match DataFrame index.\n",
      "  if __name__ == '__main__':\n"
     ]
    }
   ],
   "source": [
    "dataNeg = freq[~freq.id.isin(remove)][freq.age < 0].freq"
   ]
  },
  {
   "cell_type": "code",
   "execution_count": 510,
   "metadata": {
    "ExecuteTime": {
     "end_time": "2017-03-24T01:53:08.946538",
     "start_time": "2017-03-24T01:53:08.940261"
    },
    "collapsed": false
   },
   "outputs": [
    {
     "data": {
      "text/plain": [
       "1079"
      ]
     },
     "execution_count": 510,
     "metadata": {},
     "output_type": "execute_result"
    }
   ],
   "source": [
    "len(dataNeg)"
   ]
  },
  {
   "cell_type": "code",
   "execution_count": 555,
   "metadata": {
    "ExecuteTime": {
     "end_time": "2017-03-24T02:15:17.632165",
     "start_time": "2017-03-24T02:15:17.627860"
    },
    "collapsed": true
   },
   "outputs": [],
   "source": [
    "binn=80"
   ]
  },
  {
   "cell_type": "code",
   "execution_count": 556,
   "metadata": {
    "ExecuteTime": {
     "end_time": "2017-03-24T02:15:20.229018",
     "start_time": "2017-03-24T02:15:18.806884"
    },
    "collapsed": false
   },
   "outputs": [
    {
     "data": {
      "image/png": "[encoded data removed]",
      "text/plain": [
       "<matplotlib.figure.Figure at 0x7f1bb6e604e0>"
      ]
     },
     "metadata": {},
     "output_type": "display_data"
    }
   ],
   "source": [
    "fig, ax = plt.subplots()\n",
    "fig.set_size_inches(5.91553,5.91553/3)\n",
    "sns.set_style('darkgrid')\n",
    "sns.set_context(\"paper\")\n",
    "ax.set_yscale('log')\n",
    "\n",
    "a = plt.hist([dataPos], bins=binn, range=(0,200000))\n",
    "b = plt.hist([dataNeg], bins=binn, range=(0,200000))"
   ]
  },
  {
   "cell_type": "code",
   "execution_count": 557,
   "metadata": {
    "ExecuteTime": {
     "end_time": "2017-03-24T02:15:20.390970",
     "start_time": "2017-03-24T02:15:20.387287"
    },
    "collapsed": true
   },
   "outputs": [],
   "source": [
    "posi = list(Series(a[0]))"
   ]
  },
  {
   "cell_type": "code",
   "execution_count": 558,
   "metadata": {
    "ExecuteTime": {
     "end_time": "2017-03-24T02:15:20.917026",
     "start_time": "2017-03-24T02:15:20.912659"
    },
    "collapsed": true
   },
   "outputs": [],
   "source": [
    "neg = list(Series(b[0]))"
   ]
  },
  {
   "cell_type": "code",
   "execution_count": 559,
   "metadata": {
    "ExecuteTime": {
     "end_time": "2017-03-24T02:15:21.443469",
     "start_time": "2017-03-24T02:15:21.438614"
    },
    "collapsed": false
   },
   "outputs": [],
   "source": [
    "negi = list((Series(b[0]))*(-1))"
   ]
  },
  {
   "cell_type": "code",
   "execution_count": 560,
   "metadata": {
    "ExecuteTime": {
     "end_time": "2017-03-24T02:15:21.977547",
     "start_time": "2017-03-24T02:15:21.970827"
    },
    "collapsed": true
   },
   "outputs": [],
   "source": [
    "x = range(len(posi))\n",
    "negative_data = [int(i) for i in list(negi)]\n",
    "positive_data = [int(i) for i in list(posi)]"
   ]
  },
  {
   "cell_type": "code",
   "execution_count": 678,
   "metadata": {
    "ExecuteTime": {
     "end_time": "2017-04-18T00:16:47.389283",
     "start_time": "2017-04-18T00:16:40.239486"
    },
    "collapsed": false
   },
   "outputs": [
    {
     "data": {
      "image/png": "[encoded data removed]",
      "text/plain": [
       "<matplotlib.figure.Figure at 0x7f1b88721f28>"
      ]
     },
     "metadata": {},
     "output_type": "display_data"
    }
   ],
   "source": [
    "from matplotlib.ticker import ScalarFormatter\n",
    "\n",
    "fig = plt.figure()\n",
    "fig.set_size_inches(5.91553,5.91553/3)\n",
    "sns.set_style(\"darkgrid\", {\"axes.facecolor\": \"#ebebeb\"})\n",
    "\n",
    "sns.set_context(\"paper\")\n",
    "ax = plt.subplot()\n",
    "ax.set_yscale('symlog')\n",
    "ecolor= 'white'\n",
    "lw = 0\n",
    "al = 1\n",
    "ax.axvline(np.percentile(dataNeg, q=99)/1000, linewidth=1, color='0.5', linestyle='solid', alpha=al)\n",
    "aa = ax.bar(x, negative_data, width=1, color='#CB9F0A', alpha=al, edgecolor=ecolor, linewidth=lw)\n",
    "bb = ax.bar(x, positive_data, width=1, color='#007f66', alpha=al, edgecolor=ecolor, linewidth=lw)\n",
    "ax.set_ylabel('Number of bees')\n",
    "\n",
    "ax.set_yticks([-1000, -10, 0,10,1000])\n",
    "ax.text(7,100, r'$P_{99}$')\n",
    "\n",
    "\n",
    "ax.set_xticklabels([int(int(i)/1000) for i in a[1][::10]])\n",
    "ax.set_yticklabels(['$10^3$','$10^2$','0','$10^2$','$10^3$'])\n",
    "ax.set_xlabel(r'Detection frequency $\\times 10^3$')\n",
    "fig.tight_layout()\n",
    "\n",
    "lgd = plt.legend([aa,bb], ['Negative age', 'Positive age'], loc=4)\n",
    "\n",
    "# 'xfmt = ScalarFormatter(useMathText=True)\n",
    "# xfmt.set_powerlimits((0,0))\n",
    "# #xfmt.set_useOffset(10)\n",
    "# ax'.xaxis.set_major_formatter(xfmt)\n",
    "plt.savefig('filter.pdf', dpi=300, bbox_inches='tight')"
   ]
  },
  {
   "cell_type": "code",
   "execution_count": 523,
   "metadata": {
    "ExecuteTime": {
     "end_time": "2017-03-24T01:58:10.062052",
     "start_time": "2017-03-24T01:58:10.057840"
    },
    "collapsed": true
   },
   "outputs": [],
   "source": [
    "binn=50"
   ]
  },
  {
   "cell_type": "code",
   "execution_count": 524,
   "metadata": {
    "ExecuteTime": {
     "end_time": "2017-03-24T01:58:11.934428",
     "start_time": "2017-03-24T01:58:10.647284"
    },
    "collapsed": false
   },
   "outputs": [
    {
     "data": {
      "text/plain": [
       "<matplotlib.axes._subplots.AxesSubplot at 0x7f1b99208128>"
      ]
     },
     "execution_count": 524,
     "metadata": {},
     "output_type": "execute_result"
    },
    {
     "data": {
      "image/png": "[encoded data removed]",
      "text/plain": [
       "<matplotlib.figure.Figure at 0x7f1b992089b0>"
      ]
     },
     "metadata": {},
     "output_type": "display_data"
    }
   ],
   "source": [
    "fig, ax = plt.subplots()\n",
    "fig.set_size_inches(5.91553,5.91553/3)\n",
    "sns.set_style('darkgrid')\n",
    "sns.set_context(\"paper\")\n",
    "ax.set_yscale('log')\n",
    "freq[freq.age<0].freq.plot.hist(bins=100, ax=ax, range=(0,200000))"
   ]
  },
  {
   "cell_type": "code",
   "execution_count": 334,
   "metadata": {
    "ExecuteTime": {
     "end_time": "2017-03-24T00:35:36.062871",
     "start_time": "2017-03-24T00:35:34.738495"
    },
    "collapsed": false
   },
   "outputs": [
    {
     "data": {
      "text/plain": [
       "<matplotlib.axes._subplots.AxesSubplot at 0x7f1b66413780>"
      ]
     },
     "execution_count": 334,
     "metadata": {},
     "output_type": "execute_result"
    },
    {
     "data": {
      "image/png": "[encoded data removed]",
      "text/plain": [
       "<matplotlib.figure.Figure at 0x7f1b6640e390>"
      ]
     },
     "metadata": {},
     "output_type": "display_data"
    }
   ],
   "source": [
    "fig, ax = plt.subplots()\n",
    "fig.set_size_inches(5.91553,5.91553/3)\n",
    "sns.set_style('darkgrid')\n",
    "sns.set_context(\"paper\")\n",
    "ax.set_yscale('log')\n",
    "freq[freq.age>=0].freq.plot.hist(bins=100, ax=ax, range=(0,200000))"
   ]
  },
  {
   "cell_type": "code",
   "execution_count": null,
   "metadata": {
    "collapsed": true
   },
   "outputs": [],
   "source": []
  }
 ],
 "metadata": {
  "anaconda-cloud": {},
  "kernelspec": {
   "display_name": "Python [default]",
   "language": "python",
   "name": "python3"
  },
  "language_info": {
   "codemirror_mode": {
    "name": "ipython",
    "version": 3
   },
   "file_extension": ".py",
   "mimetype": "text/x-python",
   "name": "python",
   "nbconvert_exporter": "python",
   "pygments_lexer": "ipython3",
   "version": "3.5.2"
  },
  "toc": {
   "colors": {
    "hover_highlight": "#DAA520",
    "running_highlight": "#FF0000",
    "selected_highlight": "#FFD700"
   },
   "moveMenuLeft": true,
   "nav_menu": {
    "height": "44px",
    "width": "252px"
   },
   "navigate_menu": true,
   "number_sections": true,
   "sideBar": true,
   "threshold": 4,
   "toc_cell": false,
   "toc_position": {
    "height": "854px",
    "left": "0px",
    "right": "1468px",
    "top": "106px",
    "width": "212px"
   },
   "toc_section_display": "block",
   "toc_window_display": true
  }
 },
 "nbformat": 4,
 "nbformat_minor": 2
}
