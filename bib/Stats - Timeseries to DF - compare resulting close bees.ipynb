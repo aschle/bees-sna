{
 "cells": [
  {
   "cell_type": "code",
   "execution_count": 1,
   "metadata": {
    "collapsed": true
   },
   "outputs": [],
   "source": [
    "import preprocessing as prep\n",
    "import numpy as np\n",
    "import pandas as pd\n",
    "from pandas import Series, DataFrame\n",
    "\n",
    "import matplotlib as mpl\n",
    "import matplotlib.pyplot as plt\n",
    "\n",
    "# Command so that plots appear in the iPython Notebook\n",
    "%matplotlib inline"
   ]
  },
  {
   "cell_type": "code",
   "execution_count": 2,
   "metadata": {
    "collapsed": true
   },
   "outputs": [],
   "source": [
    "def bee_pairs_to_timeseries(df):\n",
    "    close = df[['frame_idx', 'id_x', 'id_y']]\n",
    "    close = close.set_index(['frame_idx'])\n",
    "    close['pair'] = list(zip(close.id_x, close.id_y))\n",
    "    u_pairs = close.pair.unique()\n",
    "    dft = DataFrame(0, index=u_pairs, columns=np.arange(1024))\n",
    "    gr = close.groupby(level='frame_idx')\n",
    "\n",
    "    for i, group in gr:\n",
    "        l = group['pair']\n",
    "        dft.loc[l,i] = 1\n",
    "\n",
    "#     kette1 = dft.apply(get_ketten, axis=1, args=[1])\n",
    "\n",
    "    # keep values over 3 and count length or arrays\n",
    "#     k = kette1.apply(lambda x: len([item for item in x if item>3]))\n",
    "#     filteredout = k[k > 0]\n",
    "\n",
    "    return dft"
   ]
  },
  {
   "cell_type": "code",
   "execution_count": 3,
   "metadata": {
    "collapsed": true
   },
   "outputs": [],
   "source": [
    "path_list = [\n",
    "    \"../00_Data/testset_2015_1h/2015082215\",\n",
    "    \"../00_Data/testset_2015_1h/2015092215\",\n",
    "    \"../00_Data/testset_2015_1h/2015102215\"\n",
    "]\n",
    "path_list = [\"../00_Data/testset_2015_1h/2015092215\"]"
   ]
  },
  {
   "cell_type": "code",
   "execution_count": 4,
   "metadata": {
    "collapsed": false
   },
   "outputs": [
    {
     "name": "stdout",
     "output_type": "stream",
     "text": [
      "\n",
      "### file ../00_Data/testset_2015_1h/2015092215 cam 0\n"
     ]
    }
   ],
   "source": [
    "for p in path_list:\n",
    "\n",
    "    fc = prep.get_fc(p, 0)\n",
    "    df = prep.get_dataframe(fc)\n",
    "    df = prep.calcIds(df, 0.9)\n",
    "\n",
    "    df_c = prep.correct_bees_timeframes(df)\n",
    "    df_c_close = prep.get_close_bees(df_c, 150)\n",
    "    df_c_close_pairs = bee_pairs_to_timeseries(df_c_close)\n",
    "    \n",
    "    df_close = prep.get_close_bees(df, 150)\n",
    "    df_close_pairs = bee_pairs_to_timeseries(df_close)"
   ]
  },
  {
   "cell_type": "code",
   "execution_count": 5,
   "metadata": {
    "collapsed": false
   },
   "outputs": [
    {
     "data": {
      "text/html": [
       "<div>\n",
       "<table border=\"1\" class=\"dataframe\">\n",
       "  <thead>\n",
       "    <tr style=\"text-align: right;\">\n",
       "      <th></th>\n",
       "      <th>0</th>\n",
       "      <th>1</th>\n",
       "      <th>2</th>\n",
       "      <th>3</th>\n",
       "      <th>4</th>\n",
       "      <th>5</th>\n",
       "      <th>6</th>\n",
       "      <th>7</th>\n",
       "      <th>8</th>\n",
       "      <th>9</th>\n",
       "      <th>...</th>\n",
       "      <th>1014</th>\n",
       "      <th>1015</th>\n",
       "      <th>1016</th>\n",
       "      <th>1017</th>\n",
       "      <th>1018</th>\n",
       "      <th>1019</th>\n",
       "      <th>1020</th>\n",
       "      <th>1021</th>\n",
       "      <th>1022</th>\n",
       "      <th>1023</th>\n",
       "    </tr>\n",
       "  </thead>\n",
       "  <tbody>\n",
       "    <tr>\n",
       "      <th>(1205, 1285)</th>\n",
       "      <td>1</td>\n",
       "      <td>0</td>\n",
       "      <td>1</td>\n",
       "      <td>0</td>\n",
       "      <td>0</td>\n",
       "      <td>0</td>\n",
       "      <td>0</td>\n",
       "      <td>0</td>\n",
       "      <td>0</td>\n",
       "      <td>0</td>\n",
       "      <td>...</td>\n",
       "      <td>0</td>\n",
       "      <td>0</td>\n",
       "      <td>0</td>\n",
       "      <td>0</td>\n",
       "      <td>0</td>\n",
       "      <td>0</td>\n",
       "      <td>0</td>\n",
       "      <td>0</td>\n",
       "      <td>0</td>\n",
       "      <td>0</td>\n",
       "    </tr>\n",
       "    <tr>\n",
       "      <th>(596, 1668)</th>\n",
       "      <td>1</td>\n",
       "      <td>0</td>\n",
       "      <td>0</td>\n",
       "      <td>0</td>\n",
       "      <td>0</td>\n",
       "      <td>0</td>\n",
       "      <td>0</td>\n",
       "      <td>0</td>\n",
       "      <td>0</td>\n",
       "      <td>0</td>\n",
       "      <td>...</td>\n",
       "      <td>0</td>\n",
       "      <td>0</td>\n",
       "      <td>0</td>\n",
       "      <td>0</td>\n",
       "      <td>0</td>\n",
       "      <td>0</td>\n",
       "      <td>0</td>\n",
       "      <td>0</td>\n",
       "      <td>0</td>\n",
       "      <td>0</td>\n",
       "    </tr>\n",
       "    <tr>\n",
       "      <th>(1365, 1405)</th>\n",
       "      <td>1</td>\n",
       "      <td>1</td>\n",
       "      <td>1</td>\n",
       "      <td>1</td>\n",
       "      <td>1</td>\n",
       "      <td>1</td>\n",
       "      <td>0</td>\n",
       "      <td>1</td>\n",
       "      <td>1</td>\n",
       "      <td>0</td>\n",
       "      <td>...</td>\n",
       "      <td>0</td>\n",
       "      <td>0</td>\n",
       "      <td>0</td>\n",
       "      <td>0</td>\n",
       "      <td>0</td>\n",
       "      <td>0</td>\n",
       "      <td>0</td>\n",
       "      <td>0</td>\n",
       "      <td>0</td>\n",
       "      <td>0</td>\n",
       "    </tr>\n",
       "    <tr>\n",
       "      <th>(633, 797)</th>\n",
       "      <td>1</td>\n",
       "      <td>0</td>\n",
       "      <td>0</td>\n",
       "      <td>0</td>\n",
       "      <td>0</td>\n",
       "      <td>0</td>\n",
       "      <td>0</td>\n",
       "      <td>0</td>\n",
       "      <td>0</td>\n",
       "      <td>0</td>\n",
       "      <td>...</td>\n",
       "      <td>0</td>\n",
       "      <td>0</td>\n",
       "      <td>0</td>\n",
       "      <td>0</td>\n",
       "      <td>0</td>\n",
       "      <td>0</td>\n",
       "      <td>0</td>\n",
       "      <td>0</td>\n",
       "      <td>0</td>\n",
       "      <td>0</td>\n",
       "    </tr>\n",
       "    <tr>\n",
       "      <th>(857, 1045)</th>\n",
       "      <td>1</td>\n",
       "      <td>1</td>\n",
       "      <td>0</td>\n",
       "      <td>1</td>\n",
       "      <td>1</td>\n",
       "      <td>1</td>\n",
       "      <td>0</td>\n",
       "      <td>0</td>\n",
       "      <td>1</td>\n",
       "      <td>1</td>\n",
       "      <td>...</td>\n",
       "      <td>0</td>\n",
       "      <td>0</td>\n",
       "      <td>0</td>\n",
       "      <td>0</td>\n",
       "      <td>0</td>\n",
       "      <td>0</td>\n",
       "      <td>0</td>\n",
       "      <td>0</td>\n",
       "      <td>0</td>\n",
       "      <td>0</td>\n",
       "    </tr>\n",
       "  </tbody>\n",
       "</table>\n",
       "<p>5 rows × 1024 columns</p>\n",
       "</div>"
      ],
      "text/plain": [
       "              0     1     2     3     4     5     6     7     8     9     \\\n",
       "(1205, 1285)     1     0     1     0     0     0     0     0     0     0   \n",
       "(596, 1668)      1     0     0     0     0     0     0     0     0     0   \n",
       "(1365, 1405)     1     1     1     1     1     1     0     1     1     0   \n",
       "(633, 797)       1     0     0     0     0     0     0     0     0     0   \n",
       "(857, 1045)      1     1     0     1     1     1     0     0     1     1   \n",
       "\n",
       "              ...   1014  1015  1016  1017  1018  1019  1020  1021  1022  1023  \n",
       "(1205, 1285)  ...      0     0     0     0     0     0     0     0     0     0  \n",
       "(596, 1668)   ...      0     0     0     0     0     0     0     0     0     0  \n",
       "(1365, 1405)  ...      0     0     0     0     0     0     0     0     0     0  \n",
       "(633, 797)    ...      0     0     0     0     0     0     0     0     0     0  \n",
       "(857, 1045)   ...      0     0     0     0     0     0     0     0     0     0  \n",
       "\n",
       "[5 rows x 1024 columns]"
      ]
     },
     "execution_count": 5,
     "metadata": {},
     "output_type": "execute_result"
    }
   ],
   "source": [
    "df_close_pairs.head()"
   ]
  },
  {
   "cell_type": "code",
   "execution_count": 6,
   "metadata": {
    "collapsed": true
   },
   "outputs": [],
   "source": [
    "def stat_summe(dft):\n",
    "    summe = dft.sum(axis=1)\n",
    "    print(\"Anzahl Paare: {}\".format(summe.shape))\n",
    "    print(summe.describe())\n",
    "    print(\"###\")\n",
    "    print(summe.value_counts().sort_index())"
   ]
  },
  {
   "cell_type": "markdown",
   "metadata": {},
   "source": [
    "## Statistik zu Paaren (ohne Korrektur) - Summen"
   ]
  },
  {
   "cell_type": "code",
   "execution_count": 7,
   "metadata": {
    "collapsed": false
   },
   "outputs": [
    {
     "name": "stdout",
     "output_type": "stream",
     "text": [
      "Anzahl Paare: (724,)\n",
      "count    724.000000\n",
      "mean       9.433702\n",
      "std       15.118518\n",
      "min        1.000000\n",
      "25%        2.000000\n",
      "50%        5.000000\n",
      "75%       10.250000\n",
      "max      135.000000\n",
      "dtype: float64\n",
      "###\n",
      "1      165\n",
      "2       66\n",
      "3       77\n",
      "4       53\n",
      "5       33\n",
      "6       42\n",
      "7       36\n",
      "8       30\n",
      "9       23\n",
      "10      18\n",
      "11      17\n",
      "12      12\n",
      "13      19\n",
      "14      11\n",
      "15      15\n",
      "16       8\n",
      "17       7\n",
      "18       8\n",
      "19       4\n",
      "20      10\n",
      "21       6\n",
      "22       1\n",
      "23       7\n",
      "24       2\n",
      "26       3\n",
      "27       2\n",
      "28       2\n",
      "31       3\n",
      "32       2\n",
      "33       4\n",
      "34       1\n",
      "35       1\n",
      "36       2\n",
      "37       2\n",
      "38       1\n",
      "41       3\n",
      "43       1\n",
      "44       4\n",
      "46       1\n",
      "48       2\n",
      "51       2\n",
      "56       3\n",
      "60       1\n",
      "66       3\n",
      "68       2\n",
      "79       1\n",
      "84       1\n",
      "98       1\n",
      "99       1\n",
      "102      2\n",
      "103      1\n",
      "133      1\n",
      "135      1\n",
      "dtype: int64\n"
     ]
    }
   ],
   "source": [
    "stat_summe(df_close_pairs)"
   ]
  },
  {
   "cell_type": "code",
   "execution_count": 28,
   "metadata": {
    "collapsed": true
   },
   "outputs": [],
   "source": [
    "def stat_ketten(liste):\n",
    "    print(\"Anzahl der Paare: {}\".format(liste.shape))\n",
    "    slist = [item for row in liste for item in row]\n",
    "    print(len(slist))\n",
    "    print(Series(slist).describe())\n",
    "    print(Series(slist).value_counts().sort_index())\n",
    "    print(Series(slist).value_counts().sort_index().describe())\n",
    "    Series(slist).hist(bins=100)\n",
    "    plt.show()\n",
    "    Series(slist).plot.box()\n",
    "    plt.show()"
   ]
  },
  {
   "cell_type": "markdown",
   "metadata": {},
   "source": [
    "## Statistik zu Paaren (MIT Korrektur) - Summen"
   ]
  },
  {
   "cell_type": "code",
   "execution_count": 29,
   "metadata": {
    "collapsed": false
   },
   "outputs": [
    {
     "name": "stdout",
     "output_type": "stream",
     "text": [
      "Anzahl Paare: (796,)\n",
      "count    796.000000\n",
      "mean       9.580402\n",
      "std       15.830146\n",
      "min        1.000000\n",
      "25%        1.000000\n",
      "50%        4.000000\n",
      "75%       11.000000\n",
      "max      146.000000\n",
      "dtype: float64\n",
      "###\n",
      "1      217\n",
      "2       62\n",
      "3       66\n",
      "4       59\n",
      "5       31\n",
      "6       43\n",
      "7       37\n",
      "8       37\n",
      "9       22\n",
      "10      22\n",
      "11      19\n",
      "12      13\n",
      "13      20\n",
      "14      12\n",
      "15      10\n",
      "16      11\n",
      "17      10\n",
      "18       8\n",
      "19       5\n",
      "20       7\n",
      "21       6\n",
      "22       5\n",
      "23       6\n",
      "24       6\n",
      "25       4\n",
      "26       2\n",
      "28       3\n",
      "29       1\n",
      "30       2\n",
      "32       2\n",
      "      ... \n",
      "35       3\n",
      "36       3\n",
      "38       3\n",
      "40       1\n",
      "41       3\n",
      "42       2\n",
      "44       2\n",
      "46       2\n",
      "48       1\n",
      "49       1\n",
      "50       1\n",
      "51       1\n",
      "52       1\n",
      "59       2\n",
      "60       3\n",
      "61       1\n",
      "66       1\n",
      "69       1\n",
      "71       1\n",
      "72       1\n",
      "74       1\n",
      "76       1\n",
      "83       1\n",
      "94       1\n",
      "105      2\n",
      "108      1\n",
      "109      1\n",
      "110      1\n",
      "139      1\n",
      "146      1\n",
      "dtype: int64\n"
     ]
    }
   ],
   "source": [
    "stat_summe(df_c_close_pairs)"
   ]
  },
  {
   "cell_type": "markdown",
   "metadata": {},
   "source": [
    "## Länge von 1er-Ketten (ohne Korrektur)"
   ]
  },
  {
   "cell_type": "code",
   "execution_count": 30,
   "metadata": {
    "collapsed": false
   },
   "outputs": [],
   "source": [
    "kette1 = df_close_pairs.apply(prep.get_ketten, axis=1, args=[1])"
   ]
  },
  {
   "cell_type": "code",
   "execution_count": 31,
   "metadata": {
    "collapsed": false
   },
   "outputs": [
    {
     "name": "stdout",
     "output_type": "stream",
     "text": [
      "Anzahl der Paare: (724,)\n",
      "2235\n",
      "count    2235.000000\n",
      "mean        3.055928\n",
      "std         4.003021\n",
      "min         1.000000\n",
      "25%         1.000000\n",
      "50%         2.000000\n",
      "75%         4.000000\n",
      "max        53.000000\n",
      "dtype: float64\n",
      "1     1014\n",
      "2      417\n",
      "3      241\n",
      "4      149\n",
      "5      113\n",
      "6       85\n",
      "7       49\n",
      "8       36\n",
      "9       24\n",
      "10      20\n",
      "11      16\n",
      "12      11\n",
      "13      12\n",
      "14       5\n",
      "15       4\n",
      "16       7\n",
      "17       5\n",
      "18       2\n",
      "19       3\n",
      "20       4\n",
      "21       3\n",
      "22       1\n",
      "24       2\n",
      "25       1\n",
      "27       4\n",
      "31       1\n",
      "32       1\n",
      "40       1\n",
      "51       2\n",
      "53       2\n",
      "dtype: int64\n",
      "count      30.000000\n",
      "mean       74.500000\n",
      "std       198.375602\n",
      "min         1.000000\n",
      "25%         2.000000\n",
      "50%         5.000000\n",
      "75%        33.000000\n",
      "max      1014.000000\n",
      "dtype: float64\n"
     ]
    },
    {
     "data": {
      "image/png": "[encoded data removed]",
      "text/plain": [
       "<matplotlib.figure.Figure at 0x10cfb3e48>"
      ]
     },
     "metadata": {},
     "output_type": "display_data"
    },
    {
     "data": {
      "image/png": "[encoded data removed]",
      "text/plain": [
       "<matplotlib.figure.Figure at 0x10d529400>"
      ]
     },
     "metadata": {},
     "output_type": "display_data"
    }
   ],
   "source": [
    "stat_ketten(kette1)"
   ]
  },
  {
   "cell_type": "markdown",
   "metadata": {},
   "source": [
    "## Länge von 1er-Ketten (MIT Korrektur)"
   ]
  },
  {
   "cell_type": "code",
   "execution_count": 32,
   "metadata": {
    "collapsed": false
   },
   "outputs": [
    {
     "name": "stdout",
     "output_type": "stream",
     "text": [
      "Anzahl der Paare: (796,)\n",
      "1903\n",
      "count    1903.000000\n",
      "mean        4.007357\n",
      "std         5.306083\n",
      "min         1.000000\n",
      "25%         1.000000\n",
      "50%         2.000000\n",
      "75%         5.000000\n",
      "max        60.000000\n",
      "dtype: float64\n",
      "1     734\n",
      "2     275\n",
      "3     233\n",
      "4     147\n",
      "5     115\n",
      "6      88\n",
      "7      63\n",
      "8      46\n",
      "9      33\n",
      "10     29\n",
      "11     23\n",
      "12     17\n",
      "13     17\n",
      "14     12\n",
      "15      6\n",
      "16      8\n",
      "17      8\n",
      "18      5\n",
      "19      7\n",
      "20      4\n",
      "21      5\n",
      "22      3\n",
      "24      2\n",
      "25      3\n",
      "27      2\n",
      "28      3\n",
      "29      3\n",
      "30      1\n",
      "32      1\n",
      "35      3\n",
      "38      1\n",
      "47      1\n",
      "49      1\n",
      "54      1\n",
      "59      1\n",
      "60      2\n",
      "dtype: int64\n",
      "count     36.000000\n",
      "mean      52.861111\n",
      "std      133.123177\n",
      "min        1.000000\n",
      "25%        2.000000\n",
      "50%        5.500000\n",
      "75%       30.000000\n",
      "max      734.000000\n",
      "dtype: float64\n"
     ]
    },
    {
     "data": {
      "image/png": "[encoded data removed]",
      "text/plain": [
       "<matplotlib.figure.Figure at 0x10d51a6d8>"
      ]
     },
     "metadata": {},
     "output_type": "display_data"
    },
    {
     "data": {
      "image/png": "[encoded data removed]",
      "text/plain": [
       "<matplotlib.figure.Figure at 0x10d68fe80>"
      ]
     },
     "metadata": {},
     "output_type": "display_data"
    }
   ],
   "source": [
    "kette_c_1 = df_c_close_pairs.apply(prep.get_ketten, axis=1, args=[1])\n",
    "stat_ketten(kette_c_1)"
   ]
  },
  {
   "cell_type": "markdown",
   "metadata": {},
   "source": [
    "## Länge von 0er Ketten (ohne Korrektur)"
   ]
  },
  {
   "cell_type": "code",
   "execution_count": 33,
   "metadata": {
    "collapsed": false,
    "scrolled": false
   },
   "outputs": [
    {
     "name": "stdout",
     "output_type": "stream",
     "text": [
      "Anzahl der Paare: (724,)\n",
      "2943\n",
      "count    2943.000000\n",
      "mean      249.590894\n",
      "std       321.274112\n",
      "min         1.000000\n",
      "25%         2.000000\n",
      "50%        47.000000\n",
      "75%       466.000000\n",
      "max      1023.000000\n",
      "dtype: float64\n",
      "1       582\n",
      "2       227\n",
      "3       150\n",
      "4        90\n",
      "5        51\n",
      "6        36\n",
      "7        34\n",
      "8        18\n",
      "9        21\n",
      "10       17\n",
      "11       15\n",
      "12       15\n",
      "13       14\n",
      "14        6\n",
      "15       16\n",
      "16        7\n",
      "17        4\n",
      "18        8\n",
      "19        5\n",
      "20        7\n",
      "21        4\n",
      "22       11\n",
      "23        7\n",
      "24        6\n",
      "25        7\n",
      "26        5\n",
      "27        3\n",
      "28        7\n",
      "29        5\n",
      "30        7\n",
      "       ... \n",
      "984       4\n",
      "985       1\n",
      "987       1\n",
      "988       2\n",
      "989       1\n",
      "990       1\n",
      "991       5\n",
      "992       6\n",
      "993       3\n",
      "995       2\n",
      "996       1\n",
      "997       1\n",
      "998       1\n",
      "999       3\n",
      "1002      3\n",
      "1003      2\n",
      "1004      1\n",
      "1005      2\n",
      "1006      1\n",
      "1009      1\n",
      "1010      3\n",
      "1013      4\n",
      "1015      3\n",
      "1016      1\n",
      "1017      1\n",
      "1019      1\n",
      "1020      1\n",
      "1021      4\n",
      "1022      3\n",
      "1023      2\n",
      "dtype: int64\n",
      "count    785.000000\n",
      "mean       3.749045\n",
      "std       23.199654\n",
      "min        1.000000\n",
      "25%        1.000000\n",
      "50%        2.000000\n",
      "75%        3.000000\n",
      "max      582.000000\n",
      "dtype: float64\n"
     ]
    },
    {
     "data": {
      "image/png": "[encoded data removed]",
      "text/plain": [
       "<matplotlib.figure.Figure at 0x108820d68>"
      ]
     },
     "metadata": {},
     "output_type": "display_data"
    },
    {
     "data": {
      "image/png": "[encoded data removed]",
      "text/plain": [
       "<matplotlib.figure.Figure at 0x10cfc3e80>"
      ]
     },
     "metadata": {},
     "output_type": "display_data"
    }
   ],
   "source": [
    "kette_0 = df_close_pairs.apply(prep.get_ketten, axis=1, args=[0])\n",
    "stat_ketten(kette_0)"
   ]
  },
  {
   "cell_type": "markdown",
   "metadata": {},
   "source": [
    "## Länge von 0er Ketten (MIT Korrektur)"
   ]
  },
  {
   "cell_type": "code",
   "execution_count": 34,
   "metadata": {
    "collapsed": false,
    "scrolled": false
   },
   "outputs": [
    {
     "name": "stdout",
     "output_type": "stream",
     "text": [
      "Anzahl der Paare: (796,)\n",
      "2683\n",
      "count    2683.000000\n",
      "mean      300.960865\n",
      "std       330.400932\n",
      "min         1.000000\n",
      "25%         5.000000\n",
      "50%       152.000000\n",
      "75%       564.000000\n",
      "max      1023.000000\n",
      "dtype: float64\n",
      "1       188\n",
      "2       220\n",
      "3       150\n",
      "4        90\n",
      "5        47\n",
      "6        34\n",
      "7        30\n",
      "8        18\n",
      "9        23\n",
      "10       16\n",
      "11       20\n",
      "12       13\n",
      "13       13\n",
      "14        7\n",
      "15       16\n",
      "16        7\n",
      "17        9\n",
      "18        8\n",
      "19        5\n",
      "20        6\n",
      "21        6\n",
      "22        8\n",
      "23        7\n",
      "24        6\n",
      "25        8\n",
      "26        6\n",
      "27        4\n",
      "28        6\n",
      "29        4\n",
      "30        9\n",
      "       ... \n",
      "985       1\n",
      "987       1\n",
      "988       2\n",
      "989       1\n",
      "990       1\n",
      "991       5\n",
      "992       6\n",
      "993       3\n",
      "995       2\n",
      "996       1\n",
      "997       1\n",
      "998       2\n",
      "999       3\n",
      "1002      3\n",
      "1003      3\n",
      "1004      1\n",
      "1005      2\n",
      "1006      1\n",
      "1007      1\n",
      "1009      2\n",
      "1010      3\n",
      "1013      5\n",
      "1015      3\n",
      "1016      1\n",
      "1017      1\n",
      "1019      1\n",
      "1020      1\n",
      "1021      5\n",
      "1022      3\n",
      "1023      2\n",
      "dtype: int64\n",
      "count    799.000000\n",
      "mean       3.357947\n",
      "std       12.139830\n",
      "min        1.000000\n",
      "25%        1.000000\n",
      "50%        2.000000\n",
      "75%        3.000000\n",
      "max      220.000000\n",
      "dtype: float64\n"
     ]
    },
    {
     "data": {
      "image/png": "[encoded data removed]",
      "text/plain": [
       "<matplotlib.figure.Figure at 0x10d4ee390>"
      ]
     },
     "metadata": {},
     "output_type": "display_data"
    },
    {
     "data": {
      "image/png": "[encoded data removed]",
      "text/plain": [
       "<matplotlib.figure.Figure at 0x10d4fbeb8>"
      ]
     },
     "metadata": {},
     "output_type": "display_data"
    }
   ],
   "source": [
    "kette_c_0 = df_c_close_pairs.apply(prep.get_ketten, axis=1, args=[0])\n",
    "stat_ketten(kette_c_0)"
   ]
  },
  {
   "cell_type": "code",
   "execution_count": 35,
   "metadata": {
    "collapsed": true
   },
   "outputs": [],
   "source": [
    "a = Series([1,2,3])\n",
    "b = Series([7,8,9])"
   ]
  },
  {
   "cell_type": "code",
   "execution_count": 38,
   "metadata": {
    "collapsed": false
   },
   "outputs": [],
   "source": [
    "c = a.append(b)"
   ]
  },
  {
   "cell_type": "code",
   "execution_count": 37,
   "metadata": {
    "collapsed": false
   },
   "outputs": [
    {
     "data": {
      "text/plain": [
       "0    1\n",
       "1    2\n",
       "2    3\n",
       "dtype: int64"
      ]
     },
     "execution_count": 37,
     "metadata": {},
     "output_type": "execute_result"
    }
   ],
   "source": [
    "a"
   ]
  },
  {
   "cell_type": "code",
   "execution_count": 39,
   "metadata": {
    "collapsed": false
   },
   "outputs": [
    {
     "data": {
      "text/plain": [
       "0    1\n",
       "1    2\n",
       "2    3\n",
       "0    7\n",
       "1    8\n",
       "2    9\n",
       "dtype: int64"
      ]
     },
     "execution_count": 39,
     "metadata": {},
     "output_type": "execute_result"
    }
   ],
   "source": [
    "c"
   ]
  },
  {
   "cell_type": "code",
   "execution_count": 40,
   "metadata": {
    "collapsed": false
   },
   "outputs": [
    {
     "data": {
      "text/plain": [
       "'09'"
      ]
     },
     "execution_count": 40,
     "metadata": {},
     "output_type": "execute_result"
    }
   ],
   "source": [
    "str(0.9).replace('.','')"
   ]
  },
  {
   "cell_type": "code",
   "execution_count": null,
   "metadata": {
    "collapsed": true
   },
   "outputs": [],
   "source": []
  }
 ],
 "metadata": {
  "kernelspec": {
   "display_name": "Python 3",
   "language": "python",
   "name": "python3"
  },
  "language_info": {
   "codemirror_mode": {
    "name": "ipython",
    "version": 3
   },
   "file_extension": ".py",
   "mimetype": "text/x-python",
   "name": "python",
   "nbconvert_exporter": "python",
   "pygments_lexer": "ipython3",
   "version": "3.5.2"
  }
 },
 "nbformat": 4,
 "nbformat_minor": 1
}
