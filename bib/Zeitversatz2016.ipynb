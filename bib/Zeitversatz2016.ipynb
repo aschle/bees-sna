{
 "cells": [
  {
   "cell_type": "code",
   "execution_count": 4,
   "metadata": {
    "ExecuteTime": {
     "end_time": "2017-03-03T13:05:08.750429",
     "start_time": "2017-03-03T13:05:08.737687"
    },
    "collapsed": true
   },
   "outputs": [],
   "source": [
    "import preprocessing as prep\n",
    "import numpy as np\n",
    "import pandas as pd\n",
    "from pandas import Series, DataFrame\n",
    "import matplotlib.pyplot as plt\n",
    "import datetime\n",
    "import sys\n",
    "import pytz\n",
    "\n",
    "%matplotlib inline"
   ]
  },
  {
   "cell_type": "code",
   "execution_count": 8,
   "metadata": {
    "ExecuteTime": {
     "end_time": "2017-03-03T13:05:51.899282",
     "start_time": "2017-03-03T13:05:51.893344"
    },
    "collapsed": true
   },
   "outputs": [],
   "source": [
    "path = \"/mnt/data2016/\""
   ]
  },
  {
   "cell_type": "code",
   "execution_count": 5,
   "metadata": {
    "ExecuteTime": {
     "end_time": "2017-03-03T13:05:09.230863",
     "start_time": "2017-03-03T13:05:09.224354"
    },
    "collapsed": true
   },
   "outputs": [],
   "source": [
    "def stringToTS(string):\n",
    "    dt = datetime.datetime.strptime(string, \"%Y-%m-%dT%H:%M:%SZ\").replace(tzinfo=pytz.UTC)\n",
    "    ts = dt.timestamp()\n",
    "    return ts"
   ]
  },
  {
   "cell_type": "code",
   "execution_count": 11,
   "metadata": {
    "ExecuteTime": {
     "end_time": "2017-03-03T13:08:39.043251",
     "start_time": "2017-03-03T13:08:39.029952"
    },
    "collapsed": true
   },
   "outputs": [],
   "source": [
    "def getDF0123(path, start_ts, end_ts):\n",
    "    df0 = prep.getDF(path, start_ts, end_ts, 0)\n",
    "    df1 = prep.getDF(path, start_ts, end_ts, 1)\n",
    "    df2 = prep.getDF(path, start_ts, end_ts, 2)\n",
    "    df3 = prep.getDF(path, start_ts, end_ts, 3)\n",
    "    \n",
    "    return df0,df1,df2,df3"
   ]
  },
  {
   "cell_type": "code",
   "execution_count": 14,
   "metadata": {
    "ExecuteTime": {
     "end_time": "2017-03-03T13:10:43.469395",
     "start_time": "2017-03-03T13:10:43.462951"
    },
    "collapsed": true
   },
   "outputs": [],
   "source": [
    "def getNumFrames(df):\n",
    "    return df.groupby(by='frame_idx').size().shape[0]"
   ]
  },
  {
   "cell_type": "code",
   "execution_count": 653,
   "metadata": {
    "ExecuteTime": {
     "end_time": "2017-03-03T20:54:57.649303",
     "start_time": "2017-03-03T20:54:57.636440"
    },
    "collapsed": false
   },
   "outputs": [],
   "source": [
    "start = \"2016-07-26T23:55:00Z\"\n",
    "start_ts = stringToTS(start)\n",
    "end_ts = start_ts + 5*60"
   ]
  },
  {
   "cell_type": "code",
   "execution_count": 654,
   "metadata": {
    "ExecuteTime": {
     "end_time": "2017-03-03T20:55:09.471733",
     "start_time": "2017-03-03T20:54:59.392831"
    },
    "collapsed": true
   },
   "outputs": [],
   "source": [
    "df0,df1,df2,df3 = getDF0123(path, start_ts, end_ts)"
   ]
  },
  {
   "cell_type": "code",
   "execution_count": 655,
   "metadata": {
    "ExecuteTime": {
     "end_time": "2017-03-03T20:55:09.499900",
     "start_time": "2017-03-03T20:55:09.474625"
    },
    "collapsed": false
   },
   "outputs": [
    {
     "data": {
      "text/plain": [
       "(902, 903, 878, 910)"
      ]
     },
     "execution_count": 655,
     "metadata": {},
     "output_type": "execute_result"
    }
   ],
   "source": [
    "getNumFrames(df0),getNumFrames(df1),getNumFrames(df2), getNumFrames(df3)"
   ]
  },
  {
   "cell_type": "code",
   "execution_count": 658,
   "metadata": {
    "ExecuteTime": {
     "end_time": "2017-03-03T20:55:40.511609",
     "start_time": "2017-03-03T20:55:40.498315"
    },
    "collapsed": false
   },
   "outputs": [
    {
     "data": {
      "text/plain": [
       "2.9320740699768066"
      ]
     },
     "execution_count": 658,
     "metadata": {},
     "output_type": "execute_result"
    }
   ],
   "source": [
    "abs(s3-Series(list(s3)[1:])).max()"
   ]
  },
  {
   "cell_type": "code",
   "execution_count": 659,
   "metadata": {
    "ExecuteTime": {
     "end_time": "2017-03-03T20:55:40.887957",
     "start_time": "2017-03-03T20:55:40.875569"
    },
    "collapsed": false
   },
   "outputs": [
    {
     "data": {
      "text/plain": [
       "0.8610079288482666"
      ]
     },
     "execution_count": 659,
     "metadata": {},
     "output_type": "execute_result"
    }
   ],
   "source": [
    "abs(s2-Series(list(s2)[1:])).max()"
   ]
  },
  {
   "cell_type": "code",
   "execution_count": 656,
   "metadata": {
    "ExecuteTime": {
     "end_time": "2017-03-03T20:55:36.251083",
     "start_time": "2017-03-03T20:55:36.243066"
    },
    "collapsed": false
   },
   "outputs": [],
   "source": [
    "s3 = Series((df2.timestamp.unique()))"
   ]
  },
  {
   "cell_type": "code",
   "execution_count": 657,
   "metadata": {
    "ExecuteTime": {
     "end_time": "2017-03-03T20:55:36.719539",
     "start_time": "2017-03-03T20:55:36.712018"
    },
    "collapsed": false
   },
   "outputs": [],
   "source": [
    "s2 = Series((df3.timestamp.unique()))"
   ]
  },
  {
   "cell_type": "code",
   "execution_count": 660,
   "metadata": {
    "ExecuteTime": {
     "end_time": "2017-03-03T20:55:43.888266",
     "start_time": "2017-03-03T20:55:43.576746"
    },
    "collapsed": false
   },
   "outputs": [
    {
     "data": {
      "text/plain": [
       "<matplotlib.axes._subplots.AxesSubplot at 0x7f6d52543128>"
      ]
     },
     "execution_count": 660,
     "metadata": {},
     "output_type": "execute_result"
    },
    {
     "data": {
      "image/png": "[encoded data removed]",
      "text/plain": [
       "<matplotlib.figure.Figure at 0x7f6d5149f0f0>"
      ]
     },
     "metadata": {},
     "output_type": "display_data"
    }
   ],
   "source": [
    "(abs(s3-s2)).plot()"
   ]
  },
  {
   "cell_type": "code",
   "execution_count": 504,
   "metadata": {
    "ExecuteTime": {
     "end_time": "2017-03-03T19:30:10.760807",
     "start_time": "2017-03-03T19:30:10.754248"
    },
    "collapsed": true
   },
   "outputs": [],
   "source": [
    "def myfunction(stuff):\n",
    "    return stuff.apply(lambda x: x.d, axis=1).idxmin()"
   ]
  },
  {
   "cell_type": "code",
   "execution_count": 667,
   "metadata": {
    "ExecuteTime": {
     "end_time": "2017-03-03T20:57:25.968383",
     "start_time": "2017-03-03T20:57:25.942562"
    },
    "collapsed": false
   },
   "outputs": [],
   "source": [
    "def mapping(df_one, df_two):\n",
    "    s_one = Series((df_one.timestamp.unique()))\n",
    "    s_two = Series((df_two.timestamp.unique()))\n",
    "    \n",
    "    mapping = []\n",
    "    for i in list(range(len(s_one))):\n",
    "        d = abs(s_one[i]-s_two)\n",
    "        min_idx = d.idxmin()\n",
    "        mapping.append((i, min_idx, d[min_idx]))\n",
    "    \n",
    "    mapping = DataFrame(mapping, columns=[\"idx_one\",\"idx_two\",'d'])\n",
    "    fix = mapping.groupby(by=\"idx_two\").apply(myfunction).values\n",
    "    mapping = mapping.iloc[fix]\n",
    "    mapping = mapping[mapping['d'] < (0.332/2)]\n",
    "    \n",
    "    # drop stuff\n",
    "    df_one = df_one[df_one.frame_idx.isin(mapping.idx_one)]\n",
    "    df_two = df_two[df_two.frame_idx.isin(mapping.idx_two)]\n",
    "    \n",
    "    # change the frame_idx accordingly\n",
    "    df_two.frame_idx = df_one.frame_idx.apply(lambda x: mapping.idx_two[x])\n",
    "\n",
    "    return df_one, df_two"
   ]
  },
  {
   "cell_type": "code",
   "execution_count": 668,
   "metadata": {
    "ExecuteTime": {
     "end_time": "2017-03-03T20:57:34.769590",
     "start_time": "2017-03-03T20:57:26.706878"
    },
    "collapsed": false
   },
   "outputs": [
    {
     "name": "stderr",
     "output_type": "stream",
     "text": [
      "/usr/local/lib/python3.5/dist-packages/pandas/core/generic.py:2773: SettingWithCopyWarning: \n",
      "A value is trying to be set on a copy of a slice from a DataFrame.\n",
      "Try using .loc[row_indexer,col_indexer] = value instead\n",
      "\n",
      "See the caveats in the documentation: http://pandas.pydata.org/pandas-docs/stable/indexing.html#indexing-view-versus-copy\n",
      "  self[name] = value\n"
     ]
    }
   ],
   "source": [
    "d3, d2 = mapping(df3,df2)"
   ]
  },
  {
   "cell_type": "code",
   "execution_count": 766,
   "metadata": {
    "ExecuteTime": {
     "end_time": "2017-03-03T21:29:45.074064",
     "start_time": "2017-03-03T21:29:45.035991"
    },
    "collapsed": false
   },
   "outputs": [],
   "source": [
    "df_one = df3\n",
    "df_two = df2\n",
    "\n",
    "s_one = Series((df_one.timestamp.unique()))\n",
    "s_two = Series((df_two.timestamp.unique()))"
   ]
  },
  {
   "cell_type": "code",
   "execution_count": 767,
   "metadata": {
    "ExecuteTime": {
     "end_time": "2017-03-03T21:29:45.355195",
     "start_time": "2017-03-03T21:29:45.347035"
    },
    "collapsed": false
   },
   "outputs": [
    {
     "data": {
      "text/plain": [
       "(910,)"
      ]
     },
     "execution_count": 767,
     "metadata": {},
     "output_type": "execute_result"
    }
   ],
   "source": [
    "s_one.shape"
   ]
  },
  {
   "cell_type": "code",
   "execution_count": 768,
   "metadata": {
    "ExecuteTime": {
     "end_time": "2017-03-03T21:29:45.600095",
     "start_time": "2017-03-03T21:29:45.593421"
    },
    "collapsed": false
   },
   "outputs": [
    {
     "data": {
      "text/plain": [
       "(878,)"
      ]
     },
     "execution_count": 768,
     "metadata": {},
     "output_type": "execute_result"
    }
   ],
   "source": [
    "s_two.shape"
   ]
  },
  {
   "cell_type": "code",
   "execution_count": 769,
   "metadata": {
    "ExecuteTime": {
     "end_time": "2017-03-03T21:29:46.297986",
     "start_time": "2017-03-03T21:29:45.803364"
    },
    "collapsed": true
   },
   "outputs": [],
   "source": [
    "mapping = []\n",
    "for i in list(range(len(s_one))):\n",
    "    d = abs(s_one[i]-s_two)\n",
    "    min_idx = d.idxmin()\n",
    "    mapping.append((i, min_idx, d[min_idx]))\n",
    "\n",
    "mapping = DataFrame(mapping, columns=[\"idx_one\",\"idx_two\",'d'])"
   ]
  },
  {
   "cell_type": "code",
   "execution_count": 770,
   "metadata": {
    "ExecuteTime": {
     "end_time": "2017-03-03T21:29:46.306463",
     "start_time": "2017-03-03T21:29:46.300735"
    },
    "collapsed": false
   },
   "outputs": [
    {
     "data": {
      "text/plain": [
       "(910, 3)"
      ]
     },
     "execution_count": 770,
     "metadata": {},
     "output_type": "execute_result"
    }
   ],
   "source": [
    "mapping.shape"
   ]
  },
  {
   "cell_type": "code",
   "execution_count": 771,
   "metadata": {
    "ExecuteTime": {
     "end_time": "2017-03-03T21:29:46.994559",
     "start_time": "2017-03-03T21:29:46.313240"
    },
    "collapsed": true
   },
   "outputs": [],
   "source": [
    "fix = mapping.groupby(by=\"idx_two\").apply(myfunction).values"
   ]
  },
  {
   "cell_type": "code",
   "execution_count": 772,
   "metadata": {
    "ExecuteTime": {
     "end_time": "2017-03-03T21:29:47.002744",
     "start_time": "2017-03-03T21:29:46.997418"
    },
    "collapsed": true
   },
   "outputs": [],
   "source": [
    "mapping = mapping.iloc[fix]"
   ]
  },
  {
   "cell_type": "code",
   "execution_count": 773,
   "metadata": {
    "ExecuteTime": {
     "end_time": "2017-03-03T21:29:47.109758",
     "start_time": "2017-03-03T21:29:47.005626"
    },
    "collapsed": false
   },
   "outputs": [
    {
     "data": {
      "text/plain": [
       "(846, 3)"
      ]
     },
     "execution_count": 773,
     "metadata": {},
     "output_type": "execute_result"
    }
   ],
   "source": [
    "mapping.shape"
   ]
  },
  {
   "cell_type": "code",
   "execution_count": 774,
   "metadata": {
    "ExecuteTime": {
     "end_time": "2017-03-03T21:29:47.226875",
     "start_time": "2017-03-03T21:29:47.113158"
    },
    "collapsed": true
   },
   "outputs": [],
   "source": [
    "mapping = mapping[mapping['d'] < (0.332/2)]"
   ]
  },
  {
   "cell_type": "code",
   "execution_count": 775,
   "metadata": {
    "ExecuteTime": {
     "end_time": "2017-03-03T21:29:47.310543",
     "start_time": "2017-03-03T21:29:47.230615"
    },
    "collapsed": false
   },
   "outputs": [
    {
     "data": {
      "text/plain": [
       "832"
      ]
     },
     "execution_count": 775,
     "metadata": {},
     "output_type": "execute_result"
    }
   ],
   "source": [
    "len(mapping.idx_two)"
   ]
  },
  {
   "cell_type": "code",
   "execution_count": 776,
   "metadata": {
    "ExecuteTime": {
     "end_time": "2017-03-03T21:29:47.580520",
     "start_time": "2017-03-03T21:29:47.460910"
    },
    "collapsed": true
   },
   "outputs": [],
   "source": [
    "# drop stuff\n",
    "df_one = df_one[df_one.frame_idx.isin(mapping.idx_one)]\n",
    "df_two = df_two[df_two.frame_idx.isin(mapping.idx_two)]"
   ]
  },
  {
   "cell_type": "code",
   "execution_count": 777,
   "metadata": {
    "ExecuteTime": {
     "end_time": "2017-03-03T21:29:48.509241",
     "start_time": "2017-03-03T21:29:48.492842"
    },
    "collapsed": false
   },
   "outputs": [
    {
     "data": {
      "text/html": [
       "<div>\n",
       "<table border=\"1\" class=\"dataframe\">\n",
       "  <thead>\n",
       "    <tr style=\"text-align: right;\">\n",
       "      <th></th>\n",
       "      <th>idx_one</th>\n",
       "      <th>idx_two</th>\n",
       "      <th>d</th>\n",
       "    </tr>\n",
       "  </thead>\n",
       "  <tbody>\n",
       "    <tr>\n",
       "      <th>0</th>\n",
       "      <td>0</td>\n",
       "      <td>1</td>\n",
       "      <td>0.038993</td>\n",
       "    </tr>\n",
       "    <tr>\n",
       "      <th>1</th>\n",
       "      <td>1</td>\n",
       "      <td>2</td>\n",
       "      <td>0.000000</td>\n",
       "    </tr>\n",
       "    <tr>\n",
       "      <th>2</th>\n",
       "      <td>2</td>\n",
       "      <td>4</td>\n",
       "      <td>0.000175</td>\n",
       "    </tr>\n",
       "    <tr>\n",
       "      <th>5</th>\n",
       "      <td>5</td>\n",
       "      <td>5</td>\n",
       "      <td>0.000125</td>\n",
       "    </tr>\n",
       "    <tr>\n",
       "      <th>12</th>\n",
       "      <td>12</td>\n",
       "      <td>6</td>\n",
       "      <td>0.000000</td>\n",
       "    </tr>\n",
       "    <tr>\n",
       "      <th>13</th>\n",
       "      <td>13</td>\n",
       "      <td>7</td>\n",
       "      <td>0.000003</td>\n",
       "    </tr>\n",
       "    <tr>\n",
       "      <th>14</th>\n",
       "      <td>14</td>\n",
       "      <td>8</td>\n",
       "      <td>0.000075</td>\n",
       "    </tr>\n",
       "    <tr>\n",
       "      <th>15</th>\n",
       "      <td>15</td>\n",
       "      <td>9</td>\n",
       "      <td>0.000058</td>\n",
       "    </tr>\n",
       "    <tr>\n",
       "      <th>16</th>\n",
       "      <td>16</td>\n",
       "      <td>10</td>\n",
       "      <td>0.000039</td>\n",
       "    </tr>\n",
       "    <tr>\n",
       "      <th>17</th>\n",
       "      <td>17</td>\n",
       "      <td>11</td>\n",
       "      <td>0.000094</td>\n",
       "    </tr>\n",
       "  </tbody>\n",
       "</table>\n",
       "</div>"
      ],
      "text/plain": [
       "    idx_one  idx_two         d\n",
       "0         0        1  0.038993\n",
       "1         1        2  0.000000\n",
       "2         2        4  0.000175\n",
       "5         5        5  0.000125\n",
       "12       12        6  0.000000\n",
       "13       13        7  0.000003\n",
       "14       14        8  0.000075\n",
       "15       15        9  0.000058\n",
       "16       16       10  0.000039\n",
       "17       17       11  0.000094"
      ]
     },
     "execution_count": 777,
     "metadata": {},
     "output_type": "execute_result"
    }
   ],
   "source": [
    "mapping.head(10)"
   ]
  },
  {
   "cell_type": "code",
   "execution_count": 778,
   "metadata": {
    "ExecuteTime": {
     "end_time": "2017-03-03T21:29:49.047423",
     "start_time": "2017-03-03T21:29:49.028546"
    },
    "collapsed": false
   },
   "outputs": [
    {
     "data": {
      "text/html": [
       "<div>\n",
       "<table border=\"1\" class=\"dataframe\">\n",
       "  <thead>\n",
       "    <tr style=\"text-align: right;\">\n",
       "      <th></th>\n",
       "      <th>idx_one</th>\n",
       "      <th>idx_two</th>\n",
       "      <th>d</th>\n",
       "    </tr>\n",
       "  </thead>\n",
       "  <tbody>\n",
       "    <tr>\n",
       "      <th>0</th>\n",
       "      <td>0</td>\n",
       "      <td>1</td>\n",
       "      <td>0.038993</td>\n",
       "    </tr>\n",
       "    <tr>\n",
       "      <th>1</th>\n",
       "      <td>1</td>\n",
       "      <td>2</td>\n",
       "      <td>0.000000</td>\n",
       "    </tr>\n",
       "    <tr>\n",
       "      <th>2</th>\n",
       "      <td>2</td>\n",
       "      <td>4</td>\n",
       "      <td>0.000175</td>\n",
       "    </tr>\n",
       "    <tr>\n",
       "      <th>5</th>\n",
       "      <td>5</td>\n",
       "      <td>5</td>\n",
       "      <td>0.000125</td>\n",
       "    </tr>\n",
       "    <tr>\n",
       "      <th>12</th>\n",
       "      <td>12</td>\n",
       "      <td>6</td>\n",
       "      <td>0.000000</td>\n",
       "    </tr>\n",
       "  </tbody>\n",
       "</table>\n",
       "</div>"
      ],
      "text/plain": [
       "    idx_one  idx_two         d\n",
       "0         0        1  0.038993\n",
       "1         1        2  0.000000\n",
       "2         2        4  0.000175\n",
       "5         5        5  0.000125\n",
       "12       12        6  0.000000"
      ]
     },
     "execution_count": 778,
     "metadata": {},
     "output_type": "execute_result"
    }
   ],
   "source": [
    "mapping.head()"
   ]
  },
  {
   "cell_type": "code",
   "execution_count": 779,
   "metadata": {
    "ExecuteTime": {
     "end_time": "2017-03-03T21:29:50.113779",
     "start_time": "2017-03-03T21:29:50.104118"
    },
    "collapsed": false
   },
   "outputs": [
    {
     "data": {
      "text/plain": [
       "array([ 0,  1,  2,  5, 12, 13, 14, 15, 16, 17])"
      ]
     },
     "execution_count": 779,
     "metadata": {},
     "output_type": "execute_result"
    }
   ],
   "source": [
    "df_one.frame_idx.unique()[:10]"
   ]
  },
  {
   "cell_type": "code",
   "execution_count": 780,
   "metadata": {
    "ExecuteTime": {
     "end_time": "2017-03-03T21:29:51.166708",
     "start_time": "2017-03-03T21:29:51.158173"
    },
    "collapsed": false
   },
   "outputs": [
    {
     "data": {
      "text/plain": [
       "array([ 1,  2,  4,  5,  6,  7,  8,  9, 10, 11])"
      ]
     },
     "execution_count": 780,
     "metadata": {},
     "output_type": "execute_result"
    }
   ],
   "source": [
    "df_two.frame_idx.unique()[:10]"
   ]
  },
  {
   "cell_type": "code",
   "execution_count": 781,
   "metadata": {
    "ExecuteTime": {
     "end_time": "2017-03-03T21:29:52.682891",
     "start_time": "2017-03-03T21:29:52.674168"
    },
    "collapsed": true
   },
   "outputs": [],
   "source": [
    "mapping = mapping.set_index('idx_two')"
   ]
  },
  {
   "cell_type": "code",
   "execution_count": 782,
   "metadata": {
    "ExecuteTime": {
     "end_time": "2017-03-03T21:30:00.640420",
     "start_time": "2017-03-03T21:29:53.386383"
    },
    "collapsed": false
   },
   "outputs": [],
   "source": [
    "new = df_two.frame_idx.apply(lambda x: mapping.idx_one[x])"
   ]
  },
  {
   "cell_type": "code",
   "execution_count": 784,
   "metadata": {
    "ExecuteTime": {
     "end_time": "2017-03-03T21:31:40.599165",
     "start_time": "2017-03-03T21:31:40.572192"
    },
    "collapsed": false
   },
   "outputs": [],
   "source": [
    "# change the frame_idx accordingly\n",
    "df.two = df_two.assign(frame_idx = new)"
   ]
  },
  {
   "cell_type": "code",
   "execution_count": 785,
   "metadata": {
    "ExecuteTime": {
     "end_time": "2017-03-03T21:31:42.268067",
     "start_time": "2017-03-03T21:31:42.251921"
    },
    "collapsed": false
   },
   "outputs": [
    {
     "data": {
      "text/plain": [
       "832"
      ]
     },
     "execution_count": 785,
     "metadata": {},
     "output_type": "execute_result"
    }
   ],
   "source": [
    "len(df_one.frame_idx.unique())"
   ]
  },
  {
   "cell_type": "code",
   "execution_count": 786,
   "metadata": {
    "ExecuteTime": {
     "end_time": "2017-03-03T21:31:43.576852",
     "start_time": "2017-03-03T21:31:43.567889"
    },
    "collapsed": false
   },
   "outputs": [
    {
     "data": {
      "text/plain": [
       "832"
      ]
     },
     "execution_count": 786,
     "metadata": {},
     "output_type": "execute_result"
    }
   ],
   "source": [
    "len(df_two.frame_idx.unique())"
   ]
  },
  {
   "cell_type": "code",
   "execution_count": 763,
   "metadata": {
    "ExecuteTime": {
     "end_time": "2017-03-03T21:25:47.244278",
     "start_time": "2017-03-03T21:25:47.230611"
    },
    "collapsed": false
   },
   "outputs": [
    {
     "data": {
      "text/plain": [
       "0.0"
      ]
     },
     "execution_count": 763,
     "metadata": {},
     "output_type": "execute_result"
    }
   ],
   "source": [
    "abs(df_one.timestamp.unique() - df_two.timestamp.unique()).min()"
   ]
  },
  {
   "cell_type": "code",
   "execution_count": 595,
   "metadata": {
    "ExecuteTime": {
     "end_time": "2017-03-03T19:57:00.656603",
     "start_time": "2017-03-03T19:57:00.366883"
    },
    "collapsed": false
   },
   "outputs": [
    {
     "data": {
      "text/plain": [
       "<matplotlib.axes._subplots.AxesSubplot at 0x7f6d5081ad30>"
      ]
     },
     "execution_count": 595,
     "metadata": {},
     "output_type": "execute_result"
    },
    {
     "data": {
      "image/png": "[encoded data removed]",
      "text/plain": [
       "<matplotlib.figure.Figure at 0x7f6d5081a080>"
      ]
     },
     "metadata": {},
     "output_type": "display_data"
    }
   ],
   "source": [
    "m.plot.scatter(x=\"idx_one\", y=\"idx_two\", s=0.1, xlim=(100,200), ylim=(100,200))"
   ]
  },
  {
   "cell_type": "code",
   "execution_count": null,
   "metadata": {
    "collapsed": true
   },
   "outputs": [],
   "source": []
  }
 ],
 "metadata": {
  "kernelspec": {
   "display_name": "Python 3",
   "language": "python",
   "name": "python3"
  },
  "language_info": {
   "codemirror_mode": {
    "name": "ipython",
    "version": 3
   },
   "file_extension": ".py",
   "mimetype": "text/x-python",
   "name": "python",
   "nbconvert_exporter": "python",
   "pygments_lexer": "ipython3",
   "version": "3.5.2"
  },
  "toc": {
   "colors": {
    "hover_highlight": "#DAA520",
    "running_highlight": "#FF0000",
    "selected_highlight": "#FFD700"
   },
   "moveMenuLeft": true,
   "nav_menu": {
    "height": "12px",
    "width": "252px"
   },
   "navigate_menu": true,
   "number_sections": true,
   "sideBar": true,
   "threshold": 4,
   "toc_cell": false,
   "toc_section_display": "block",
   "toc_window_display": false
  }
 },
 "nbformat": 4,
 "nbformat_minor": 2
}
