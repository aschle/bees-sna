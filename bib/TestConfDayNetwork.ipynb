{
 "cells": [
  {
   "cell_type": "markdown",
   "metadata": {},
   "source": [
    "# Test Confidence Values 90-100 for Hour Network\n",
    "\n",
    "/mnt/data2016/ \\\n",
    "2016-07-21T15:00:00Z \\\n",
    "       60 \\\n",
    "       conf \\\n",
    "       212 \\\n",
    "       3 \\\n",
    "       8 \\\n",
    "       2016-07-21T15:00:00Z_1h_allCams-conf \\\n",
    "       2016 \\\n",
    "       2\n",
    "       \n",
    "Check Number of Nodes and check weather the bee/node should exist"
   ]
  },
  {
   "cell_type": "code",
   "execution_count": 1,
   "metadata": {
    "ExecuteTime": {
     "end_time": "2017-02-23T13:22:02.408468",
     "start_time": "2017-02-23T13:22:02.388272"
    },
    "collapsed": true
   },
   "outputs": [],
   "source": [
    "%load_ext autoreload"
   ]
  },
  {
   "cell_type": "code",
   "execution_count": 2,
   "metadata": {
    "ExecuteTime": {
     "end_time": "2017-02-23T13:22:02.842806",
     "start_time": "2017-02-23T13:22:02.837600"
    },
    "collapsed": true
   },
   "outputs": [],
   "source": [
    "%autoreload 2"
   ]
  },
  {
   "cell_type": "code",
   "execution_count": 344,
   "metadata": {
    "ExecuteTime": {
     "end_time": "2017-02-23T16:50:41.456524",
     "start_time": "2017-02-23T16:50:41.405642"
    },
    "collapsed": true
   },
   "outputs": [],
   "source": [
    "import networkx as nx\n",
    "import os\n",
    "import pandas as pd\n",
    "import numpy as np\n",
    "from pandas import DataFrame, Series\n",
    "import datetime\n",
    "import pytz\n",
    "import matplotlib.pyplot as plt\n",
    "import preprocessing as prep\n",
    "from collections import namedtuple\n",
    "from bb_binary import FrameContainer, Repository, load_frame_container\n",
    "import numpy as np\n",
    "import numpy.ma as npma\n",
    "import datetime\n",
    "import csv\n",
    "import seaborn as sns\n",
    "from collections import Counter\n",
    "import hatching as ht\n",
    "import seaborn as sns"
   ]
  },
  {
   "cell_type": "code",
   "execution_count": 289,
   "metadata": {
    "ExecuteTime": {
     "end_time": "2017-02-23T14:53:02.719275",
     "start_time": "2017-02-23T14:53:02.683571"
    },
    "collapsed": false
   },
   "outputs": [],
   "source": [
    "graphml = []\n",
    "liste = os.listdir()\n",
    "\n",
    "for file in liste:\n",
    "    if file.endswith(\".graphml\"):\n",
    "            graphml.append(file)"
   ]
  },
  {
   "cell_type": "code",
   "execution_count": 296,
   "metadata": {
    "ExecuteTime": {
     "end_time": "2017-02-23T14:54:38.754561",
     "start_time": "2017-02-23T14:54:38.721384"
    },
    "collapsed": false
   },
   "outputs": [
    {
     "data": {
      "text/plain": [
       "['2016-07-21T15:00:00Z_1h_allCams-97_0.97conf_212dist_3ilen.graphml',\n",
       " '2016-07-21T15:00:00Z_1h_allCams-93_0.93conf_212dist_3ilen.graphml',\n",
       " '2016-07-21T15:00:00Z_1h_allCams-94_0.94conf_212dist_3ilen.graphml',\n",
       " '2016-07-21T15:00:00Z_1h_allCams-99_0.99conf_212dist_3ilen.graphml',\n",
       " '2016-07-21T15:00:00Z_1h_allCams-90_0.9conf_212dist_3ilen.graphml',\n",
       " '2016-07-21T15:00:00Z_1h_allCams-96_0.96conf_212dist_3ilen.graphml',\n",
       " '2016-07-21T15:00:00Z_1h_allCams-95_0.95conf_212dist_3ilen.graphml',\n",
       " '2016-07-21T15:00:00Z_1h_allCams-98_0.98conf_212dist_3ilen.graphml',\n",
       " '2016-07-21T15:00:00Z_1h_allCams-91_0.91conf_212dist_3ilen.graphml',\n",
       " '2016-07-21T15:00:00Z_1h_allCams-92_0.92conf_212dist_3ilen.graphml']"
      ]
     },
     "execution_count": 296,
     "metadata": {},
     "output_type": "execute_result"
    }
   ],
   "source": [
    "graphml"
   ]
  },
  {
   "cell_type": "code",
   "execution_count": 290,
   "metadata": {
    "ExecuteTime": {
     "end_time": "2017-02-23T14:53:03.307329",
     "start_time": "2017-02-23T14:53:03.279204"
    },
    "collapsed": true
   },
   "outputs": [],
   "source": [
    "start = \"2016-07-21T16:00:00Z\"\n",
    "start_dt = datetime.datetime.strptime(start, \"%Y-%m-%dT%H:%M:%SZ\").replace(tzinfo=pytz.UTC)"
   ]
  },
  {
   "cell_type": "code",
   "execution_count": 291,
   "metadata": {
    "ExecuteTime": {
     "end_time": "2017-02-23T14:53:43.739543",
     "start_time": "2017-02-23T14:53:03.680313"
    },
    "collapsed": false
   },
   "outputs": [],
   "source": [
    "list_nodes = []\n",
    "for f in graphml:\n",
    "    c = int(f.split('Cams-')[1].split('_')[0])\n",
    "    G = nx.read_graphml(f)\n",
    "    n = list(G.node)\n",
    "    list_nodes.append((c,n))"
   ]
  },
  {
   "cell_type": "code",
   "execution_count": 292,
   "metadata": {
    "ExecuteTime": {
     "end_time": "2017-02-23T14:53:43.781722",
     "start_time": "2017-02-23T14:53:43.742431"
    },
    "collapsed": false
   },
   "outputs": [
    {
     "data": {
      "text/html": [
       "<div>\n",
       "<table border=\"1\" class=\"dataframe\">\n",
       "  <thead>\n",
       "    <tr style=\"text-align: right;\">\n",
       "      <th></th>\n",
       "      <th>dec12</th>\n",
       "      <th>birthdate</th>\n",
       "      <th>age</th>\n",
       "    </tr>\n",
       "  </thead>\n",
       "  <tbody>\n",
       "    <tr>\n",
       "      <th>0</th>\n",
       "      <td>0</td>\n",
       "      <td>NaT</td>\n",
       "      <td>-1</td>\n",
       "    </tr>\n",
       "    <tr>\n",
       "      <th>1</th>\n",
       "      <td>1</td>\n",
       "      <td>2016-07-28</td>\n",
       "      <td>-7</td>\n",
       "    </tr>\n",
       "    <tr>\n",
       "      <th>2</th>\n",
       "      <td>2</td>\n",
       "      <td>NaT</td>\n",
       "      <td>-1</td>\n",
       "    </tr>\n",
       "    <tr>\n",
       "      <th>3</th>\n",
       "      <td>3</td>\n",
       "      <td>2016-07-06</td>\n",
       "      <td>15</td>\n",
       "    </tr>\n",
       "    <tr>\n",
       "      <th>4</th>\n",
       "      <td>4</td>\n",
       "      <td>2016-08-22</td>\n",
       "      <td>-32</td>\n",
       "    </tr>\n",
       "  </tbody>\n",
       "</table>\n",
       "</div>"
      ],
      "text/plain": [
       "   dec12  birthdate  age\n",
       "0      0        NaT   -1\n",
       "1      1 2016-07-28   -7\n",
       "2      2        NaT   -1\n",
       "3      3 2016-07-06   15\n",
       "4      4 2016-08-22  -32"
      ]
     },
     "execution_count": 292,
     "metadata": {},
     "output_type": "execute_result"
    }
   ],
   "source": [
    "aa.head()"
   ]
  },
  {
   "cell_type": "code",
   "execution_count": 293,
   "metadata": {
    "ExecuteTime": {
     "end_time": "2017-02-23T14:53:44.102918",
     "start_time": "2017-02-23T14:53:43.785138"
    },
    "collapsed": false
   },
   "outputs": [],
   "source": [
    "aa = ht.get_all_bees_age(start_dt)"
   ]
  },
  {
   "cell_type": "code",
   "execution_count": 294,
   "metadata": {
    "ExecuteTime": {
     "end_time": "2017-02-23T14:53:49.267064",
     "start_time": "2017-02-23T14:53:44.106141"
    },
    "collapsed": false
   },
   "outputs": [],
   "source": [
    "stat = []\n",
    "for c, n in list_nodes:\n",
    "    ids = DataFrame(n, columns=['id'], dtype='int')\n",
    "    ids[\"age\"] = ids.id.apply(lambda x: aa.iloc[x].age)\n",
    "    total = ids.shape[0]\n",
    "    wrong = len(ids[ids.age < 0])\n",
    "    stat.append((c,total,wrong, wrong/total))"
   ]
  },
  {
   "cell_type": "code",
   "execution_count": 295,
   "metadata": {
    "ExecuteTime": {
     "end_time": "2017-02-23T14:53:49.326808",
     "start_time": "2017-02-23T14:53:49.269946"
    },
    "collapsed": false
   },
   "outputs": [
    {
     "data": {
      "text/html": [
       "<div>\n",
       "<table border=\"1\" class=\"dataframe\">\n",
       "  <thead>\n",
       "    <tr style=\"text-align: right;\">\n",
       "      <th></th>\n",
       "      <th>conf</th>\n",
       "      <th>total</th>\n",
       "      <th>wrong</th>\n",
       "      <th>wrongP</th>\n",
       "    </tr>\n",
       "  </thead>\n",
       "  <tbody>\n",
       "    <tr>\n",
       "      <th>0</th>\n",
       "      <td>97</td>\n",
       "      <td>1436</td>\n",
       "      <td>510</td>\n",
       "      <td>0.355153</td>\n",
       "    </tr>\n",
       "    <tr>\n",
       "      <th>1</th>\n",
       "      <td>93</td>\n",
       "      <td>1749</td>\n",
       "      <td>784</td>\n",
       "      <td>0.448256</td>\n",
       "    </tr>\n",
       "    <tr>\n",
       "      <th>2</th>\n",
       "      <td>94</td>\n",
       "      <td>1705</td>\n",
       "      <td>747</td>\n",
       "      <td>0.438123</td>\n",
       "    </tr>\n",
       "    <tr>\n",
       "      <th>3</th>\n",
       "      <td>99</td>\n",
       "      <td>1228</td>\n",
       "      <td>315</td>\n",
       "      <td>0.256515</td>\n",
       "    </tr>\n",
       "    <tr>\n",
       "      <th>4</th>\n",
       "      <td>90</td>\n",
       "      <td>1916</td>\n",
       "      <td>937</td>\n",
       "      <td>0.489040</td>\n",
       "    </tr>\n",
       "    <tr>\n",
       "      <th>5</th>\n",
       "      <td>96</td>\n",
       "      <td>1580</td>\n",
       "      <td>636</td>\n",
       "      <td>0.402532</td>\n",
       "    </tr>\n",
       "    <tr>\n",
       "      <th>6</th>\n",
       "      <td>95</td>\n",
       "      <td>1648</td>\n",
       "      <td>697</td>\n",
       "      <td>0.422937</td>\n",
       "    </tr>\n",
       "    <tr>\n",
       "      <th>7</th>\n",
       "      <td>98</td>\n",
       "      <td>1337</td>\n",
       "      <td>418</td>\n",
       "      <td>0.312640</td>\n",
       "    </tr>\n",
       "    <tr>\n",
       "      <th>8</th>\n",
       "      <td>91</td>\n",
       "      <td>1880</td>\n",
       "      <td>906</td>\n",
       "      <td>0.481915</td>\n",
       "    </tr>\n",
       "    <tr>\n",
       "      <th>9</th>\n",
       "      <td>92</td>\n",
       "      <td>1837</td>\n",
       "      <td>866</td>\n",
       "      <td>0.471421</td>\n",
       "    </tr>\n",
       "  </tbody>\n",
       "</table>\n",
       "</div>"
      ],
      "text/plain": [
       "   conf  total  wrong    wrongP\n",
       "0    97   1436    510  0.355153\n",
       "1    93   1749    784  0.448256\n",
       "2    94   1705    747  0.438123\n",
       "3    99   1228    315  0.256515\n",
       "4    90   1916    937  0.489040\n",
       "5    96   1580    636  0.402532\n",
       "6    95   1648    697  0.422937\n",
       "7    98   1337    418  0.312640\n",
       "8    91   1880    906  0.481915\n",
       "9    92   1837    866  0.471421"
      ]
     },
     "execution_count": 295,
     "metadata": {},
     "output_type": "execute_result"
    }
   ],
   "source": [
    "DataFrame(stat, columns=['conf', 'total', 'wrong', 'wrongP'])"
   ]
  },
  {
   "cell_type": "code",
   "execution_count": 169,
   "metadata": {
    "ExecuteTime": {
     "end_time": "2017-02-23T14:32:48.593000",
     "start_time": "2017-02-23T14:32:48.557584"
    },
    "collapsed": true
   },
   "outputs": [],
   "source": [
    "%matplotlib inline"
   ]
  },
  {
   "cell_type": "markdown",
   "metadata": {},
   "source": [
    "# Test Networks and Quality complete Pipeline :("
   ]
  },
  {
   "cell_type": "code",
   "execution_count": 456,
   "metadata": {
    "ExecuteTime": {
     "end_time": "2017-02-23T22:55:23.494092",
     "start_time": "2017-02-23T22:55:23.446943"
    },
    "collapsed": true
   },
   "outputs": [],
   "source": [
    "s = \"2016-07-21T16:00:00Z\"\n",
    "s_dt = datetime.datetime.strptime(s, \"%Y-%m-%dT%H:%M:%SZ\").replace(tzinfo=pytz.UTC)\n",
    "s_ts = s_dt.timestamp()"
   ]
  },
  {
   "cell_type": "code",
   "execution_count": 457,
   "metadata": {
    "ExecuteTime": {
     "end_time": "2017-02-23T22:55:29.703768",
     "start_time": "2017-02-23T22:55:29.680282"
    },
    "collapsed": true
   },
   "outputs": [],
   "source": [
    "e_dt = s_dt + datetime.timedelta(minutes=5)\n",
    "e_ts = e_dt.timestamp()"
   ]
  },
  {
   "cell_type": "code",
   "execution_count": 458,
   "metadata": {
    "ExecuteTime": {
     "end_time": "2017-02-23T22:55:50.748367",
     "start_time": "2017-02-23T22:55:50.720149"
    },
    "collapsed": true
   },
   "outputs": [],
   "source": [
    "path = \"/mnt/data2016/\"\n",
    "b = s_ts\n",
    "e = e_ts\n",
    "confidence = 0.95\n",
    "distance = 212\n",
    "ilen = 3\n",
    "year = 2016\n",
    "gap = 2"
   ]
  },
  {
   "cell_type": "code",
   "execution_count": 459,
   "metadata": {
    "ExecuteTime": {
     "end_time": "2017-02-23T22:56:06.628798",
     "start_time": "2017-02-23T22:55:54.988820"
    },
    "collapsed": true
   },
   "outputs": [],
   "source": [
    "repo = Repository(path)\n",
    "xmax = 3000\n",
    "offset = 200\n",
    "    \n",
    "Detection = namedtuple('Detection', ['idx', 'xpos', 'ypos', 'radius', 'zRotation', 'decodedId', 'frame_idx', 'timestamp', 'cam_id', 'fc_id'])\n",
    "\n",
    "# one df per cam\n",
    "parts = np.empty(4, dtype=object)\n",
    "\n",
    "for i in list(range(4)):\n",
    "\n",
    "    tpls = []\n",
    "    myid = 0\n",
    "\n",
    "\n",
    "    for frame, fc in repo.iter_frames(begin=b, end=e, cam=i):\n",
    "        for d in frame.detectionsUnion.detectionsDP:\n",
    "            d = Detection(d.idx, d.xpos, d.ypos, d.radius, d.zRotation, list(d.decodedId), myid, frame.timestamp, fc.camId, fc.id)\n",
    "            tpls.append(d)\n",
    "        myid += 1\n",
    "\n",
    "    df = DataFrame(tpls)\n",
    "    parts[i] = df"
   ]
  },
  {
   "cell_type": "code",
   "execution_count": 460,
   "metadata": {
    "ExecuteTime": {
     "end_time": "2017-02-23T22:56:34.832766",
     "start_time": "2017-02-23T22:56:06.632348"
    },
    "collapsed": true
   },
   "outputs": [],
   "source": [
    "partsid = np.empty(4, dtype=object)\n",
    "\n",
    "for i in list(range(4)):    \n",
    "    partsid[i] = prep.calcIds(parts[i], confidence, year)"
   ]
  },
  {
   "cell_type": "code",
   "execution_count": 461,
   "metadata": {
    "ExecuteTime": {
     "end_time": "2017-02-23T22:56:34.869520",
     "start_time": "2017-02-23T22:56:34.835777"
    },
    "collapsed": true
   },
   "outputs": [],
   "source": [
    "partsid[1].xpos = partsid[1].xpos + xmax + offset\n",
    "partsid[3].xpos = partsid[3].xpos + xmax + offset"
   ]
  },
  {
   "cell_type": "code",
   "execution_count": 462,
   "metadata": {
    "ExecuteTime": {
     "end_time": "2017-02-23T22:56:35.050575",
     "start_time": "2017-02-23T22:56:34.873187"
    },
    "collapsed": true
   },
   "outputs": [],
   "source": [
    "side0 = pd.concat([partsid[0], partsid[1]])\n",
    "side1 = pd.concat([partsid[2], partsid[3]])"
   ]
  },
  {
   "cell_type": "code",
   "execution_count": 463,
   "metadata": {
    "ExecuteTime": {
     "end_time": "2017-02-23T22:56:35.185007",
     "start_time": "2017-02-23T22:56:35.055506"
    },
    "collapsed": true
   },
   "outputs": [],
   "source": [
    "side = pd.concat([side0,side1])"
   ]
  },
  {
   "cell_type": "code",
   "execution_count": 288,
   "metadata": {
    "ExecuteTime": {
     "end_time": "2017-02-23T14:51:00.386693",
     "start_time": "2017-02-23T14:51:00.349626"
    },
    "collapsed": false
   },
   "outputs": [
    {
     "data": {
      "text/html": [
       "<div>\n",
       "<table border=\"1\" class=\"dataframe\">\n",
       "  <thead>\n",
       "    <tr style=\"text-align: right;\">\n",
       "      <th></th>\n",
       "      <th>idx</th>\n",
       "      <th>xpos</th>\n",
       "      <th>ypos</th>\n",
       "      <th>radius</th>\n",
       "      <th>zRotation</th>\n",
       "      <th>frame_idx</th>\n",
       "      <th>timestamp</th>\n",
       "      <th>cam_id</th>\n",
       "      <th>fc_id</th>\n",
       "      <th>confidence</th>\n",
       "      <th>id</th>\n",
       "      <th>age</th>\n",
       "    </tr>\n",
       "  </thead>\n",
       "  <tbody>\n",
       "  </tbody>\n",
       "</table>\n",
       "</div>"
      ],
      "text/plain": [
       "Empty DataFrame\n",
       "Columns: [idx, xpos, ypos, radius, zRotation, frame_idx, timestamp, cam_id, fc_id, confidence, id, age]\n",
       "Index: []"
      ]
     },
     "execution_count": 288,
     "metadata": {},
     "output_type": "execute_result"
    }
   ],
   "source": [
    "# ID Königin\n",
    "\n",
    "side[side.id == 2988]"
   ]
  },
  {
   "cell_type": "markdown",
   "metadata": {},
   "source": [
    "# Detectionen"
   ]
  },
  {
   "cell_type": "markdown",
   "metadata": {},
   "source": [
    "## Alter der einzelnen Detections bestimmen"
   ]
  },
  {
   "cell_type": "code",
   "execution_count": 179,
   "metadata": {
    "ExecuteTime": {
     "end_time": "2017-02-23T14:34:50.852374",
     "start_time": "2017-02-23T14:34:50.686207"
    },
    "collapsed": true
   },
   "outputs": [],
   "source": [
    "def getNegatives(df):\n",
    "    df[\"age\"] = df.id.apply(lambda x: aa.iloc[x].age)\n",
    "    return len(df[df.age < 0])"
   ]
  },
  {
   "cell_type": "code",
   "execution_count": 180,
   "metadata": {
    "ExecuteTime": {
     "end_time": "2017-02-23T14:35:58.346920",
     "start_time": "2017-02-23T14:34:50.857821"
    },
    "collapsed": false
   },
   "outputs": [],
   "source": [
    "numNegDetections = getNegatives(side)"
   ]
  },
  {
   "cell_type": "code",
   "execution_count": 181,
   "metadata": {
    "ExecuteTime": {
     "end_time": "2017-02-23T14:35:58.393176",
     "start_time": "2017-02-23T14:35:58.351493"
    },
    "collapsed": false
   },
   "outputs": [
    {
     "data": {
      "text/plain": [
       "4544"
      ]
     },
     "execution_count": 181,
     "metadata": {},
     "output_type": "execute_result"
    }
   ],
   "source": [
    "numNegDetections"
   ]
  },
  {
   "cell_type": "code",
   "execution_count": 182,
   "metadata": {
    "ExecuteTime": {
     "end_time": "2017-02-23T14:35:58.609866",
     "start_time": "2017-02-23T14:35:58.396968"
    },
    "collapsed": false
   },
   "outputs": [
    {
     "data": {
      "text/plain": [
       "0.02126982343799734"
      ]
     },
     "execution_count": 182,
     "metadata": {},
     "output_type": "execute_result"
    }
   ],
   "source": [
    "numNegDetections/side.shape[0]"
   ]
  },
  {
   "cell_type": "markdown",
   "metadata": {},
   "source": [
    "## Alter der IDs"
   ]
  },
  {
   "cell_type": "code",
   "execution_count": 183,
   "metadata": {
    "ExecuteTime": {
     "end_time": "2017-02-23T14:35:58.838336",
     "start_time": "2017-02-23T14:35:58.613102"
    },
    "collapsed": true
   },
   "outputs": [],
   "source": [
    "allids = DataFrame(side.id.unique(), columns=['id'])"
   ]
  },
  {
   "cell_type": "code",
   "execution_count": 184,
   "metadata": {
    "ExecuteTime": {
     "end_time": "2017-02-23T14:35:59.083759",
     "start_time": "2017-02-23T14:35:58.842075"
    },
    "collapsed": false
   },
   "outputs": [
    {
     "data": {
      "text/plain": [
       "1442"
      ]
     },
     "execution_count": 184,
     "metadata": {},
     "output_type": "execute_result"
    }
   ],
   "source": [
    "allids.shape[0]"
   ]
  },
  {
   "cell_type": "code",
   "execution_count": 185,
   "metadata": {
    "ExecuteTime": {
     "end_time": "2017-02-23T14:35:59.745308",
     "start_time": "2017-02-23T14:35:59.087279"
    },
    "collapsed": true
   },
   "outputs": [],
   "source": [
    "numNegIDs = getNegatives(allids)"
   ]
  },
  {
   "cell_type": "code",
   "execution_count": 186,
   "metadata": {
    "ExecuteTime": {
     "end_time": "2017-02-23T14:35:59.779787",
     "start_time": "2017-02-23T14:35:59.748055"
    },
    "collapsed": false
   },
   "outputs": [
    {
     "data": {
      "text/plain": [
       "653"
      ]
     },
     "execution_count": 186,
     "metadata": {},
     "output_type": "execute_result"
    }
   ],
   "source": [
    "numNegIDs"
   ]
  },
  {
   "cell_type": "code",
   "execution_count": 187,
   "metadata": {
    "ExecuteTime": {
     "end_time": "2017-02-23T14:35:59.923832",
     "start_time": "2017-02-23T14:35:59.782879"
    },
    "collapsed": false
   },
   "outputs": [
    {
     "data": {
      "text/plain": [
       "0.45284327323162277"
      ]
     },
     "execution_count": 187,
     "metadata": {},
     "output_type": "execute_result"
    }
   ],
   "source": [
    "numNegIDs/allids.shape[0]"
   ]
  },
  {
   "cell_type": "markdown",
   "metadata": {},
   "source": [
    "## Falsche Ids haben wenige Detections, Korrekte IDs haben viele Detections?"
   ]
  },
  {
   "cell_type": "code",
   "execution_count": 188,
   "metadata": {
    "ExecuteTime": {
     "end_time": "2017-02-23T14:36:00.127093",
     "start_time": "2017-02-23T14:35:59.926855"
    },
    "collapsed": true
   },
   "outputs": [],
   "source": [
    "wrongdetections = side[side.age <0]"
   ]
  },
  {
   "cell_type": "code",
   "execution_count": 189,
   "metadata": {
    "ExecuteTime": {
     "end_time": "2017-02-23T14:36:00.346609",
     "start_time": "2017-02-23T14:36:00.130391"
    },
    "collapsed": false
   },
   "outputs": [
    {
     "data": {
      "text/plain": [
       "1.0"
      ]
     },
     "execution_count": 189,
     "metadata": {},
     "output_type": "execute_result"
    }
   ],
   "source": [
    "wrongdetections.id.value_counts().median()"
   ]
  },
  {
   "cell_type": "code",
   "execution_count": 190,
   "metadata": {
    "ExecuteTime": {
     "end_time": "2017-02-23T14:36:00.588778",
     "start_time": "2017-02-23T14:36:00.350065"
    },
    "collapsed": true
   },
   "outputs": [],
   "source": [
    "correctdetections = side[side.age >= 0]"
   ]
  },
  {
   "cell_type": "code",
   "execution_count": 191,
   "metadata": {
    "ExecuteTime": {
     "end_time": "2017-02-23T14:36:00.761727",
     "start_time": "2017-02-23T14:36:00.591982"
    },
    "collapsed": false
   },
   "outputs": [
    {
     "data": {
      "text/plain": [
       "247.0"
      ]
     },
     "execution_count": 191,
     "metadata": {},
     "output_type": "execute_result"
    }
   ],
   "source": [
    "correctdetections.id.value_counts().median()"
   ]
  },
  {
   "cell_type": "code",
   "execution_count": 192,
   "metadata": {
    "ExecuteTime": {
     "end_time": "2017-02-23T14:36:00.943969",
     "start_time": "2017-02-23T14:36:00.765259"
    },
    "collapsed": false
   },
   "outputs": [
    {
     "data": {
      "text/plain": [
       "789"
      ]
     },
     "execution_count": 192,
     "metadata": {},
     "output_type": "execute_result"
    }
   ],
   "source": [
    "len(correctdetections.id.unique())"
   ]
  },
  {
   "cell_type": "code",
   "execution_count": 193,
   "metadata": {
    "ExecuteTime": {
     "end_time": "2017-02-23T14:36:01.027678",
     "start_time": "2017-02-23T14:36:00.947303"
    },
    "collapsed": false
   },
   "outputs": [
    {
     "data": {
      "text/plain": [
       "653"
      ]
     },
     "execution_count": 193,
     "metadata": {},
     "output_type": "execute_result"
    }
   ],
   "source": [
    "len(wrongdetections.id.unique())"
   ]
  },
  {
   "cell_type": "markdown",
   "metadata": {},
   "source": [
    "# Detectionen von Paaren"
   ]
  },
  {
   "cell_type": "code",
   "execution_count": 194,
   "metadata": {
    "ExecuteTime": {
     "end_time": "2017-02-23T14:36:11.856768",
     "start_time": "2017-02-23T14:36:01.031894"
    },
    "collapsed": true
   },
   "outputs": [],
   "source": [
    "close1 = prep.get_close_bees_ckd(side0, distance)\n",
    "close2 = prep.get_close_bees_ckd(side1, distance)\n",
    "\n",
    "close = pd.concat([close1,close2])"
   ]
  },
  {
   "cell_type": "markdown",
   "metadata": {},
   "source": [
    "## Alter der Detectionen von den Paaren bestimmen"
   ]
  },
  {
   "cell_type": "code",
   "execution_count": 195,
   "metadata": {
    "ExecuteTime": {
     "end_time": "2017-02-23T14:37:05.502365",
     "start_time": "2017-02-23T14:36:11.859590"
    },
    "collapsed": false
   },
   "outputs": [],
   "source": [
    "close['age_x'] = close.id_x.apply(lambda x: aa.iloc[x].age)\n",
    "close['age_y'] = close.id_y.apply(lambda x: aa.iloc[x].age)"
   ]
  },
  {
   "cell_type": "code",
   "execution_count": 196,
   "metadata": {
    "ExecuteTime": {
     "end_time": "2017-02-23T14:37:05.534044",
     "start_time": "2017-02-23T14:37:05.505536"
    },
    "collapsed": false
   },
   "outputs": [
    {
     "data": {
      "text/plain": [
       "85437"
      ]
     },
     "execution_count": 196,
     "metadata": {},
     "output_type": "execute_result"
    }
   ],
   "source": [
    "close.shape[0]"
   ]
  },
  {
   "cell_type": "code",
   "execution_count": 197,
   "metadata": {
    "ExecuteTime": {
     "end_time": "2017-02-23T14:37:05.827617",
     "start_time": "2017-02-23T14:37:05.537563"
    },
    "collapsed": false
   },
   "outputs": [],
   "source": [
    "numNegPairDet = len(close.query('age_x < 0 or age_y < 0'))"
   ]
  },
  {
   "cell_type": "code",
   "execution_count": 198,
   "metadata": {
    "ExecuteTime": {
     "end_time": "2017-02-23T14:37:06.062700",
     "start_time": "2017-02-23T14:37:05.831583"
    },
    "collapsed": false
   },
   "outputs": [
    {
     "data": {
      "text/plain": [
       "3772"
      ]
     },
     "execution_count": 198,
     "metadata": {},
     "output_type": "execute_result"
    }
   ],
   "source": [
    "numNegPairDet"
   ]
  },
  {
   "cell_type": "code",
   "execution_count": 199,
   "metadata": {
    "ExecuteTime": {
     "end_time": "2017-02-23T14:37:06.238838",
     "start_time": "2017-02-23T14:37:06.066463"
    },
    "collapsed": false
   },
   "outputs": [
    {
     "data": {
      "text/plain": [
       "0.04414949026768262"
      ]
     },
     "execution_count": 199,
     "metadata": {},
     "output_type": "execute_result"
    }
   ],
   "source": [
    "numNegPairDet/close.shape[0]"
   ]
  },
  {
   "cell_type": "markdown",
   "metadata": {},
   "source": [
    "## Alter der IDs von den Paaren bestimmen"
   ]
  },
  {
   "cell_type": "code",
   "execution_count": 200,
   "metadata": {
    "ExecuteTime": {
     "end_time": "2017-02-23T14:37:06.302558",
     "start_time": "2017-02-23T14:37:06.242114"
    },
    "collapsed": true
   },
   "outputs": [],
   "source": [
    "idx = list(close.id_x.unique())\n",
    "idy= list(close.id_y.unique())"
   ]
  },
  {
   "cell_type": "code",
   "execution_count": 201,
   "metadata": {
    "ExecuteTime": {
     "end_time": "2017-02-23T14:37:06.369975",
     "start_time": "2017-02-23T14:37:06.306054"
    },
    "collapsed": false
   },
   "outputs": [],
   "source": [
    "allPairIds = DataFrame(Series(idx + idy).unique(), columns=['id'])"
   ]
  },
  {
   "cell_type": "code",
   "execution_count": 202,
   "metadata": {
    "ExecuteTime": {
     "end_time": "2017-02-23T14:37:06.468269",
     "start_time": "2017-02-23T14:37:06.373440"
    },
    "collapsed": false
   },
   "outputs": [
    {
     "data": {
      "text/plain": [
       "1207"
      ]
     },
     "execution_count": 202,
     "metadata": {},
     "output_type": "execute_result"
    }
   ],
   "source": [
    "allPairIds.shape[0]"
   ]
  },
  {
   "cell_type": "code",
   "execution_count": 203,
   "metadata": {
    "ExecuteTime": {
     "end_time": "2017-02-23T14:37:06.911514",
     "start_time": "2017-02-23T14:37:06.471672"
    },
    "collapsed": true
   },
   "outputs": [],
   "source": [
    "numNegPairIds = getNegatives(allPairIds)"
   ]
  },
  {
   "cell_type": "code",
   "execution_count": 204,
   "metadata": {
    "ExecuteTime": {
     "end_time": "2017-02-23T14:37:06.943850",
     "start_time": "2017-02-23T14:37:06.914554"
    },
    "collapsed": false
   },
   "outputs": [
    {
     "data": {
      "text/plain": [
       "463"
      ]
     },
     "execution_count": 204,
     "metadata": {},
     "output_type": "execute_result"
    }
   ],
   "source": [
    "numNegPairIds"
   ]
  },
  {
   "cell_type": "code",
   "execution_count": 205,
   "metadata": {
    "ExecuteTime": {
     "end_time": "2017-02-23T14:37:07.163726",
     "start_time": "2017-02-23T14:37:06.946371"
    },
    "collapsed": false
   },
   "outputs": [
    {
     "data": {
      "text/plain": [
       "0.3835956917978459"
      ]
     },
     "execution_count": 205,
     "metadata": {},
     "output_type": "execute_result"
    }
   ],
   "source": [
    "numNegPairIds/allPairIds.shape[0]"
   ]
  },
  {
   "cell_type": "markdown",
   "metadata": {},
   "source": [
    "# Pair Time Series"
   ]
  },
  {
   "cell_type": "code",
   "execution_count": 206,
   "metadata": {
    "ExecuteTime": {
     "end_time": "2017-02-23T14:37:15.818036",
     "start_time": "2017-02-23T14:37:07.167406"
    },
    "collapsed": true
   },
   "outputs": [],
   "source": [
    "p = prep.bee_pairs_to_timeseries(close)"
   ]
  },
  {
   "cell_type": "code",
   "execution_count": 207,
   "metadata": {
    "ExecuteTime": {
     "end_time": "2017-02-23T14:37:15.873633",
     "start_time": "2017-02-23T14:37:15.821520"
    },
    "collapsed": false
   },
   "outputs": [
    {
     "data": {
      "text/html": [
       "<div>\n",
       "<table border=\"1\" class=\"dataframe\">\n",
       "  <thead>\n",
       "    <tr style=\"text-align: right;\">\n",
       "      <th></th>\n",
       "      <th>0</th>\n",
       "      <th>1</th>\n",
       "      <th>2</th>\n",
       "      <th>3</th>\n",
       "      <th>4</th>\n",
       "      <th>5</th>\n",
       "      <th>6</th>\n",
       "      <th>7</th>\n",
       "      <th>8</th>\n",
       "      <th>9</th>\n",
       "      <th>...</th>\n",
       "      <th>893</th>\n",
       "      <th>894</th>\n",
       "      <th>895</th>\n",
       "      <th>896</th>\n",
       "      <th>897</th>\n",
       "      <th>898</th>\n",
       "      <th>899</th>\n",
       "      <th>900</th>\n",
       "      <th>901</th>\n",
       "      <th>902</th>\n",
       "    </tr>\n",
       "  </thead>\n",
       "  <tbody>\n",
       "    <tr>\n",
       "      <th>(2676, 4068)</th>\n",
       "      <td>1</td>\n",
       "      <td>0</td>\n",
       "      <td>0</td>\n",
       "      <td>0</td>\n",
       "      <td>0</td>\n",
       "      <td>0</td>\n",
       "      <td>0</td>\n",
       "      <td>0</td>\n",
       "      <td>0</td>\n",
       "      <td>0</td>\n",
       "      <td>...</td>\n",
       "      <td>0</td>\n",
       "      <td>0</td>\n",
       "      <td>0</td>\n",
       "      <td>0</td>\n",
       "      <td>0</td>\n",
       "      <td>0</td>\n",
       "      <td>0</td>\n",
       "      <td>0</td>\n",
       "      <td>0</td>\n",
       "      <td>0</td>\n",
       "    </tr>\n",
       "    <tr>\n",
       "      <th>(297, 797)</th>\n",
       "      <td>1</td>\n",
       "      <td>0</td>\n",
       "      <td>0</td>\n",
       "      <td>0</td>\n",
       "      <td>0</td>\n",
       "      <td>0</td>\n",
       "      <td>0</td>\n",
       "      <td>0</td>\n",
       "      <td>0</td>\n",
       "      <td>0</td>\n",
       "      <td>...</td>\n",
       "      <td>0</td>\n",
       "      <td>0</td>\n",
       "      <td>0</td>\n",
       "      <td>0</td>\n",
       "      <td>0</td>\n",
       "      <td>0</td>\n",
       "      <td>0</td>\n",
       "      <td>0</td>\n",
       "      <td>0</td>\n",
       "      <td>0</td>\n",
       "    </tr>\n",
       "  </tbody>\n",
       "</table>\n",
       "<p>2 rows × 903 columns</p>\n",
       "</div>"
      ],
      "text/plain": [
       "              0    1    2    3    4    5    6    7    8    9   ...   893  894  \\\n",
       "(2676, 4068)    1    0    0    0    0    0    0    0    0    0 ...     0    0   \n",
       "(297, 797)      1    0    0    0    0    0    0    0    0    0 ...     0    0   \n",
       "\n",
       "              895  896  897  898  899  900  901  902  \n",
       "(2676, 4068)    0    0    0    0    0    0    0    0  \n",
       "(297, 797)      0    0    0    0    0    0    0    0  \n",
       "\n",
       "[2 rows x 903 columns]"
      ]
     },
     "execution_count": 207,
     "metadata": {},
     "output_type": "execute_result"
    }
   ],
   "source": [
    "p.head(2)"
   ]
  },
  {
   "cell_type": "markdown",
   "metadata": {
    "ExecuteTime": {
     "end_time": "2017-02-23T13:54:31.597178",
     "start_time": "2017-02-23T13:54:31.558458"
    }
   },
   "source": [
    "## Alter der Paare bestimmen"
   ]
  },
  {
   "cell_type": "code",
   "execution_count": 208,
   "metadata": {
    "ExecuteTime": {
     "end_time": "2017-02-23T14:37:24.913149",
     "start_time": "2017-02-23T14:37:15.876539"
    },
    "collapsed": false
   },
   "outputs": [],
   "source": [
    "alterPaare = DataFrame([((aa.iloc[a].age), aa.iloc[b].age, a, b) for a,b in p.index.values], columns=['age_x', 'age_y', 'id_x', 'id_y'])"
   ]
  },
  {
   "cell_type": "code",
   "execution_count": 209,
   "metadata": {
    "ExecuteTime": {
     "end_time": "2017-02-23T14:37:24.962117",
     "start_time": "2017-02-23T14:37:24.916676"
    },
    "collapsed": true
   },
   "outputs": [],
   "source": [
    "numNegPairSer = len(alterPaare.query('age_x < 0 or age_y < 0'))"
   ]
  },
  {
   "cell_type": "code",
   "execution_count": 210,
   "metadata": {
    "ExecuteTime": {
     "end_time": "2017-02-23T14:37:25.137718",
     "start_time": "2017-02-23T14:37:24.965961"
    },
    "collapsed": false
   },
   "outputs": [
    {
     "data": {
      "text/plain": [
       "1412"
      ]
     },
     "execution_count": 210,
     "metadata": {},
     "output_type": "execute_result"
    }
   ],
   "source": [
    "numNegPairSer"
   ]
  },
  {
   "cell_type": "code",
   "execution_count": 211,
   "metadata": {
    "ExecuteTime": {
     "end_time": "2017-02-23T14:37:25.255280",
     "start_time": "2017-02-23T14:37:25.141159"
    },
    "collapsed": false
   },
   "outputs": [
    {
     "data": {
      "text/plain": [
       "13528"
      ]
     },
     "execution_count": 211,
     "metadata": {},
     "output_type": "execute_result"
    }
   ],
   "source": [
    "alterPaare.shape[0]"
   ]
  },
  {
   "cell_type": "code",
   "execution_count": 212,
   "metadata": {
    "ExecuteTime": {
     "end_time": "2017-02-23T14:37:25.317862",
     "start_time": "2017-02-23T14:37:25.258047"
    },
    "collapsed": false
   },
   "outputs": [
    {
     "data": {
      "text/plain": [
       "0.10437610881135423"
      ]
     },
     "execution_count": 212,
     "metadata": {},
     "output_type": "execute_result"
    }
   ],
   "source": [
    "numNegPairSer/alterPaare.shape[0]"
   ]
  },
  {
   "cell_type": "markdown",
   "metadata": {
    "ExecuteTime": {
     "end_time": "2017-02-23T13:02:09.447208",
     "start_time": "2017-02-23T13:02:09.399418"
    }
   },
   "source": [
    "## Alter der IDs von den Paaren bestimmen"
   ]
  },
  {
   "cell_type": "code",
   "execution_count": 213,
   "metadata": {
    "ExecuteTime": {
     "end_time": "2017-02-23T14:37:25.368229",
     "start_time": "2017-02-23T14:37:25.321899"
    },
    "collapsed": false
   },
   "outputs": [],
   "source": [
    "seriesIDs = DataFrame(Series([a for a,b in list(p.index)] + [b for a,b in list(p.index)]).unique(), columns=['id'])"
   ]
  },
  {
   "cell_type": "code",
   "execution_count": 214,
   "metadata": {
    "ExecuteTime": {
     "end_time": "2017-02-23T14:37:25.977691",
     "start_time": "2017-02-23T14:37:25.370945"
    },
    "collapsed": false
   },
   "outputs": [],
   "source": [
    "numNegSerIDs = getNegatives(seriesIDs)"
   ]
  },
  {
   "cell_type": "code",
   "execution_count": 215,
   "metadata": {
    "ExecuteTime": {
     "end_time": "2017-02-23T14:37:26.010513",
     "start_time": "2017-02-23T14:37:25.981401"
    },
    "collapsed": false
   },
   "outputs": [
    {
     "data": {
      "text/plain": [
       "463"
      ]
     },
     "execution_count": 215,
     "metadata": {},
     "output_type": "execute_result"
    }
   ],
   "source": [
    "numNegSerIDs"
   ]
  },
  {
   "cell_type": "code",
   "execution_count": 216,
   "metadata": {
    "ExecuteTime": {
     "end_time": "2017-02-23T14:37:26.180499",
     "start_time": "2017-02-23T14:37:26.013305"
    },
    "collapsed": false
   },
   "outputs": [
    {
     "data": {
      "text/plain": [
       "1207"
      ]
     },
     "execution_count": 216,
     "metadata": {},
     "output_type": "execute_result"
    }
   ],
   "source": [
    "seriesIDs.shape[0]"
   ]
  },
  {
   "cell_type": "code",
   "execution_count": 217,
   "metadata": {
    "ExecuteTime": {
     "end_time": "2017-02-23T14:37:26.220615",
     "start_time": "2017-02-23T14:37:26.184148"
    },
    "collapsed": false
   },
   "outputs": [
    {
     "data": {
      "text/plain": [
       "0.3835956917978459"
      ]
     },
     "execution_count": 217,
     "metadata": {},
     "output_type": "execute_result"
    }
   ],
   "source": [
    "numNegSerIDs/seriesIDs.shape[0]"
   ]
  },
  {
   "cell_type": "markdown",
   "metadata": {},
   "source": [
    "## Time Series of wrong paare mal anschauen"
   ]
  },
  {
   "cell_type": "code",
   "execution_count": 218,
   "metadata": {
    "ExecuteTime": {
     "end_time": "2017-02-23T14:37:26.265920",
     "start_time": "2017-02-23T14:37:26.223977"
    },
    "collapsed": false
   },
   "outputs": [],
   "source": [
    "negativePairs = alterPaare.query('age_x < 0 or age_y < 0')"
   ]
  },
  {
   "cell_type": "code",
   "execution_count": 219,
   "metadata": {
    "ExecuteTime": {
     "end_time": "2017-02-23T14:37:26.302374",
     "start_time": "2017-02-23T14:37:26.269847"
    },
    "collapsed": true
   },
   "outputs": [],
   "source": [
    "nP = list(zip(negativePairs.id_x, negativePairs.id_y))"
   ]
  },
  {
   "cell_type": "code",
   "execution_count": 220,
   "metadata": {
    "ExecuteTime": {
     "end_time": "2017-02-23T14:37:26.367196",
     "start_time": "2017-02-23T14:37:26.305413"
    },
    "collapsed": true
   },
   "outputs": [],
   "source": [
    "NP = p[p.index.isin(nP)]"
   ]
  },
  {
   "cell_type": "code",
   "execution_count": 221,
   "metadata": {
    "ExecuteTime": {
     "end_time": "2017-02-23T14:37:26.620230",
     "start_time": "2017-02-23T14:37:26.369981"
    },
    "collapsed": false
   },
   "outputs": [
    {
     "data": {
      "text/plain": [
       "2.6012747875354107"
      ]
     },
     "execution_count": 221,
     "metadata": {},
     "output_type": "execute_result"
    }
   ],
   "source": [
    "NP.apply(sum, axis=1).mean()"
   ]
  },
  {
   "cell_type": "code",
   "execution_count": 222,
   "metadata": {
    "ExecuteTime": {
     "end_time": "2017-02-23T14:37:26.890302",
     "start_time": "2017-02-23T14:37:26.622784"
    },
    "collapsed": false
   },
   "outputs": [
    {
     "data": {
      "text/plain": [
       "1.0"
      ]
     },
     "execution_count": 222,
     "metadata": {},
     "output_type": "execute_result"
    }
   ],
   "source": [
    "NP.apply(sum, axis=1).median()"
   ]
  },
  {
   "cell_type": "code",
   "execution_count": 223,
   "metadata": {
    "ExecuteTime": {
     "end_time": "2017-02-23T14:37:27.144787",
     "start_time": "2017-02-23T14:37:26.893003"
    },
    "collapsed": false
   },
   "outputs": [
    {
     "data": {
      "text/plain": [
       "0    1\n",
       "dtype: int64"
      ]
     },
     "execution_count": 223,
     "metadata": {},
     "output_type": "execute_result"
    }
   ],
   "source": [
    "NP.apply(sum, axis=1).mode()"
   ]
  },
  {
   "cell_type": "code",
   "execution_count": 224,
   "metadata": {
    "ExecuteTime": {
     "end_time": "2017-02-23T14:37:27.175171",
     "start_time": "2017-02-23T14:37:27.147168"
    },
    "collapsed": true
   },
   "outputs": [],
   "source": [
    "positivePairs = alterPaare.query('age_x >= 0 and age_y >= 0')"
   ]
  },
  {
   "cell_type": "code",
   "execution_count": 225,
   "metadata": {
    "ExecuteTime": {
     "end_time": "2017-02-23T14:37:27.316855",
     "start_time": "2017-02-23T14:37:27.177710"
    },
    "collapsed": true
   },
   "outputs": [],
   "source": [
    "pP = list(zip(positivePairs.id_x, positivePairs.id_y))"
   ]
  },
  {
   "cell_type": "code",
   "execution_count": 226,
   "metadata": {
    "ExecuteTime": {
     "end_time": "2017-02-23T14:37:27.554764",
     "start_time": "2017-02-23T14:37:27.320230"
    },
    "collapsed": true
   },
   "outputs": [],
   "source": [
    "PP = p[p.index.isin(pP)]"
   ]
  },
  {
   "cell_type": "code",
   "execution_count": 227,
   "metadata": {
    "ExecuteTime": {
     "end_time": "2017-02-23T14:37:29.499601",
     "start_time": "2017-02-23T14:37:27.557409"
    },
    "collapsed": false
   },
   "outputs": [
    {
     "data": {
      "text/plain": [
       "6.7117860680092436"
      ]
     },
     "execution_count": 227,
     "metadata": {},
     "output_type": "execute_result"
    }
   ],
   "source": [
    "PP.apply(sum, axis=1).mean()"
   ]
  },
  {
   "cell_type": "code",
   "execution_count": 228,
   "metadata": {
    "ExecuteTime": {
     "end_time": "2017-02-23T14:37:29.755462",
     "start_time": "2017-02-23T14:37:29.502240"
    },
    "collapsed": false
   },
   "outputs": [
    {
     "data": {
      "text/plain": [
       "1.0"
      ]
     },
     "execution_count": 228,
     "metadata": {},
     "output_type": "execute_result"
    }
   ],
   "source": [
    "NP.apply(sum, axis=1).median()"
   ]
  },
  {
   "cell_type": "code",
   "execution_count": 229,
   "metadata": {
    "ExecuteTime": {
     "end_time": "2017-02-23T14:37:30.009168",
     "start_time": "2017-02-23T14:37:29.758117"
    },
    "collapsed": false
   },
   "outputs": [
    {
     "data": {
      "text/plain": [
       "0    1\n",
       "dtype: int64"
      ]
     },
     "execution_count": 229,
     "metadata": {},
     "output_type": "execute_result"
    }
   ],
   "source": [
    "NP.apply(sum, axis=1).mode()"
   ]
  },
  {
   "cell_type": "markdown",
   "metadata": {},
   "source": [
    "# Coorect pair time series"
   ]
  },
  {
   "cell_type": "code",
   "execution_count": 230,
   "metadata": {
    "ExecuteTime": {
     "end_time": "2017-02-23T14:37:40.145516",
     "start_time": "2017-02-23T14:37:30.011540"
    },
    "collapsed": true
   },
   "outputs": [],
   "source": [
    "p_corrected = p.apply(prep.fill_gaps, axis=1, args=[gap])"
   ]
  },
  {
   "cell_type": "code",
   "execution_count": 231,
   "metadata": {
    "ExecuteTime": {
     "end_time": "2017-02-23T14:37:40.199179",
     "start_time": "2017-02-23T14:37:40.148827"
    },
    "collapsed": false
   },
   "outputs": [
    {
     "data": {
      "text/html": [
       "<div>\n",
       "<table border=\"1\" class=\"dataframe\">\n",
       "  <thead>\n",
       "    <tr style=\"text-align: right;\">\n",
       "      <th></th>\n",
       "      <th>0</th>\n",
       "      <th>1</th>\n",
       "      <th>2</th>\n",
       "      <th>3</th>\n",
       "      <th>4</th>\n",
       "      <th>5</th>\n",
       "      <th>6</th>\n",
       "      <th>7</th>\n",
       "      <th>8</th>\n",
       "      <th>9</th>\n",
       "      <th>...</th>\n",
       "      <th>893</th>\n",
       "      <th>894</th>\n",
       "      <th>895</th>\n",
       "      <th>896</th>\n",
       "      <th>897</th>\n",
       "      <th>898</th>\n",
       "      <th>899</th>\n",
       "      <th>900</th>\n",
       "      <th>901</th>\n",
       "      <th>902</th>\n",
       "    </tr>\n",
       "  </thead>\n",
       "  <tbody>\n",
       "    <tr>\n",
       "      <th>(2676, 4068)</th>\n",
       "      <td>1</td>\n",
       "      <td>0</td>\n",
       "      <td>0</td>\n",
       "      <td>0</td>\n",
       "      <td>0</td>\n",
       "      <td>0</td>\n",
       "      <td>0</td>\n",
       "      <td>0</td>\n",
       "      <td>0</td>\n",
       "      <td>0</td>\n",
       "      <td>...</td>\n",
       "      <td>0</td>\n",
       "      <td>0</td>\n",
       "      <td>0</td>\n",
       "      <td>0</td>\n",
       "      <td>0</td>\n",
       "      <td>0</td>\n",
       "      <td>0</td>\n",
       "      <td>0</td>\n",
       "      <td>0</td>\n",
       "      <td>0</td>\n",
       "    </tr>\n",
       "    <tr>\n",
       "      <th>(297, 797)</th>\n",
       "      <td>1</td>\n",
       "      <td>0</td>\n",
       "      <td>0</td>\n",
       "      <td>0</td>\n",
       "      <td>0</td>\n",
       "      <td>0</td>\n",
       "      <td>0</td>\n",
       "      <td>0</td>\n",
       "      <td>0</td>\n",
       "      <td>0</td>\n",
       "      <td>...</td>\n",
       "      <td>0</td>\n",
       "      <td>0</td>\n",
       "      <td>0</td>\n",
       "      <td>0</td>\n",
       "      <td>0</td>\n",
       "      <td>0</td>\n",
       "      <td>0</td>\n",
       "      <td>0</td>\n",
       "      <td>0</td>\n",
       "      <td>0</td>\n",
       "    </tr>\n",
       "  </tbody>\n",
       "</table>\n",
       "<p>2 rows × 903 columns</p>\n",
       "</div>"
      ],
      "text/plain": [
       "              0    1    2    3    4    5    6    7    8    9   ...   893  894  \\\n",
       "(2676, 4068)    1    0    0    0    0    0    0    0    0    0 ...     0    0   \n",
       "(297, 797)      1    0    0    0    0    0    0    0    0    0 ...     0    0   \n",
       "\n",
       "              895  896  897  898  899  900  901  902  \n",
       "(2676, 4068)    0    0    0    0    0    0    0    0  \n",
       "(297, 797)      0    0    0    0    0    0    0    0  \n",
       "\n",
       "[2 rows x 903 columns]"
      ]
     },
     "execution_count": 231,
     "metadata": {},
     "output_type": "execute_result"
    }
   ],
   "source": [
    "p_corrected.head(2)"
   ]
  },
  {
   "cell_type": "markdown",
   "metadata": {},
   "source": [
    "## Time Series of wrong paare corrigiert mal anschauen"
   ]
  },
  {
   "cell_type": "code",
   "execution_count": 232,
   "metadata": {
    "ExecuteTime": {
     "end_time": "2017-02-23T14:37:40.413799",
     "start_time": "2017-02-23T14:37:40.201681"
    },
    "collapsed": true
   },
   "outputs": [],
   "source": [
    "nPC = p_corrected[p_corrected.index.isin(nP)]"
   ]
  },
  {
   "cell_type": "code",
   "execution_count": 233,
   "metadata": {
    "ExecuteTime": {
     "end_time": "2017-02-23T14:37:40.942024",
     "start_time": "2017-02-23T14:37:40.416508"
    },
    "collapsed": false
   },
   "outputs": [
    {
     "data": {
      "text/plain": [
       "2.9985835694050991"
      ]
     },
     "execution_count": 233,
     "metadata": {},
     "output_type": "execute_result"
    }
   ],
   "source": [
    "nPC.apply(sum, axis=1).mean()"
   ]
  },
  {
   "cell_type": "code",
   "execution_count": 234,
   "metadata": {
    "ExecuteTime": {
     "end_time": "2017-02-23T14:37:41.112782",
     "start_time": "2017-02-23T14:37:40.944640"
    },
    "collapsed": true
   },
   "outputs": [],
   "source": [
    "pPC = p_corrected[p_corrected.index.isin(pP)]"
   ]
  },
  {
   "cell_type": "code",
   "execution_count": 235,
   "metadata": {
    "ExecuteTime": {
     "end_time": "2017-02-23T14:37:43.063353",
     "start_time": "2017-02-23T14:37:41.115295"
    },
    "collapsed": false
   },
   "outputs": [
    {
     "data": {
      "text/plain": [
       "8.4002971277649383"
      ]
     },
     "execution_count": 235,
     "metadata": {},
     "output_type": "execute_result"
    }
   ],
   "source": [
    "pPC.apply(sum, axis=1).mean()"
   ]
  },
  {
   "cell_type": "markdown",
   "metadata": {},
   "source": [
    "# Interaktionen"
   ]
  },
  {
   "cell_type": "code",
   "execution_count": 236,
   "metadata": {
    "ExecuteTime": {
     "end_time": "2017-02-23T14:37:55.833393",
     "start_time": "2017-02-23T14:37:43.065859"
    },
    "collapsed": true
   },
   "outputs": [],
   "source": [
    "interactions = prep.extract_interactions(p_corrected,ilen)"
   ]
  },
  {
   "cell_type": "code",
   "execution_count": 237,
   "metadata": {
    "ExecuteTime": {
     "end_time": "2017-02-23T14:37:55.870294",
     "start_time": "2017-02-23T14:37:55.836922"
    },
    "collapsed": true
   },
   "outputs": [],
   "source": [
    "df = DataFrame(interactions.tolist(), columns=['frequency', 'totalduration', 'durations'], index=interactions.index)"
   ]
  },
  {
   "cell_type": "code",
   "execution_count": 238,
   "metadata": {
    "ExecuteTime": {
     "end_time": "2017-02-23T14:37:56.268951",
     "start_time": "2017-02-23T14:37:55.873836"
    },
    "collapsed": false
   },
   "outputs": [
    {
     "data": {
      "text/html": [
       "<div>\n",
       "<table border=\"1\" class=\"dataframe\">\n",
       "  <thead>\n",
       "    <tr style=\"text-align: right;\">\n",
       "      <th></th>\n",
       "      <th>frequency</th>\n",
       "      <th>totalduration</th>\n",
       "      <th>durations</th>\n",
       "    </tr>\n",
       "  </thead>\n",
       "  <tbody>\n",
       "    <tr>\n",
       "      <th>(297, 3402)</th>\n",
       "      <td>1</td>\n",
       "      <td>4</td>\n",
       "      <td>[4]</td>\n",
       "    </tr>\n",
       "    <tr>\n",
       "      <th>(2117, 3123)</th>\n",
       "      <td>1</td>\n",
       "      <td>5</td>\n",
       "      <td>[5]</td>\n",
       "    </tr>\n",
       "  </tbody>\n",
       "</table>\n",
       "</div>"
      ],
      "text/plain": [
       "              frequency  totalduration durations\n",
       "(297, 3402)           1              4       [4]\n",
       "(2117, 3123)          1              5       [5]"
      ]
     },
     "execution_count": 238,
     "metadata": {},
     "output_type": "execute_result"
    }
   ],
   "source": [
    "df.head(2)"
   ]
  },
  {
   "cell_type": "markdown",
   "metadata": {},
   "source": [
    "## Alter der Interaktionen anschauen"
   ]
  },
  {
   "cell_type": "code",
   "execution_count": 239,
   "metadata": {
    "ExecuteTime": {
     "end_time": "2017-02-23T14:37:56.316385",
     "start_time": "2017-02-23T14:37:56.271517"
    },
    "collapsed": true
   },
   "outputs": [],
   "source": [
    "numNegInteractions = len(df[df.index.isin(nP)])"
   ]
  },
  {
   "cell_type": "code",
   "execution_count": 240,
   "metadata": {
    "ExecuteTime": {
     "end_time": "2017-02-23T14:37:56.352695",
     "start_time": "2017-02-23T14:37:56.319860"
    },
    "collapsed": false
   },
   "outputs": [
    {
     "data": {
      "text/plain": [
       "191"
      ]
     },
     "execution_count": 240,
     "metadata": {},
     "output_type": "execute_result"
    }
   ],
   "source": [
    "numNegInteractions"
   ]
  },
  {
   "cell_type": "code",
   "execution_count": 241,
   "metadata": {
    "ExecuteTime": {
     "end_time": "2017-02-23T14:37:56.385079",
     "start_time": "2017-02-23T14:37:56.355926"
    },
    "collapsed": false
   },
   "outputs": [
    {
     "data": {
      "text/plain": [
       "7362"
      ]
     },
     "execution_count": 241,
     "metadata": {},
     "output_type": "execute_result"
    }
   ],
   "source": [
    "df.shape[0]"
   ]
  },
  {
   "cell_type": "code",
   "execution_count": 242,
   "metadata": {
    "ExecuteTime": {
     "end_time": "2017-02-23T14:37:56.659725",
     "start_time": "2017-02-23T14:37:56.388059"
    },
    "collapsed": false
   },
   "outputs": [
    {
     "data": {
      "text/plain": [
       "0.025944036946481935"
      ]
     },
     "execution_count": 242,
     "metadata": {},
     "output_type": "execute_result"
    }
   ],
   "source": [
    "numNegInteractions/df.shape[0]"
   ]
  },
  {
   "cell_type": "markdown",
   "metadata": {},
   "source": [
    "## Frequency and Total Duration of negative Interactons"
   ]
  },
  {
   "cell_type": "code",
   "execution_count": 258,
   "metadata": {
    "ExecuteTime": {
     "end_time": "2017-02-23T14:42:29.236369",
     "start_time": "2017-02-23T14:42:29.201569"
    },
    "collapsed": false
   },
   "outputs": [],
   "source": [
    "negativeInteractions = df[df.index.isin(nP)]"
   ]
  },
  {
   "cell_type": "code",
   "execution_count": 279,
   "metadata": {
    "ExecuteTime": {
     "end_time": "2017-02-23T14:45:16.044040",
     "start_time": "2017-02-23T14:45:16.012719"
    },
    "collapsed": false
   },
   "outputs": [
    {
     "data": {
      "text/plain": [
       "2.0"
      ]
     },
     "execution_count": 279,
     "metadata": {},
     "output_type": "execute_result"
    }
   ],
   "source": [
    "negativeInteractions.frequency.quantile(q=0.65)"
   ]
  },
  {
   "cell_type": "code",
   "execution_count": 283,
   "metadata": {
    "ExecuteTime": {
     "end_time": "2017-02-23T14:45:48.915433",
     "start_time": "2017-02-23T14:45:48.889417"
    },
    "collapsed": false
   },
   "outputs": [
    {
     "data": {
      "text/plain": [
       "16.0"
      ]
     },
     "execution_count": 283,
     "metadata": {},
     "output_type": "execute_result"
    }
   ],
   "source": [
    "negativeInteractions.totalduration.quantile(q=0.80)"
   ]
  },
  {
   "cell_type": "code",
   "execution_count": 284,
   "metadata": {
    "ExecuteTime": {
     "end_time": "2017-02-23T14:46:05.025816",
     "start_time": "2017-02-23T14:46:04.935255"
    },
    "collapsed": false
   },
   "outputs": [
    {
     "data": {
      "text/html": [
       "<div>\n",
       "<table border=\"1\" class=\"dataframe\">\n",
       "  <thead>\n",
       "    <tr style=\"text-align: right;\">\n",
       "      <th></th>\n",
       "      <th>frequency</th>\n",
       "      <th>totalduration</th>\n",
       "      <th>durations</th>\n",
       "    </tr>\n",
       "  </thead>\n",
       "  <tbody>\n",
       "    <tr>\n",
       "      <th>(1406, 2045)</th>\n",
       "      <td>1</td>\n",
       "      <td>4</td>\n",
       "      <td>[4]</td>\n",
       "    </tr>\n",
       "    <tr>\n",
       "      <th>(2054, 3180)</th>\n",
       "      <td>1</td>\n",
       "      <td>4</td>\n",
       "      <td>[4]</td>\n",
       "    </tr>\n",
       "    <tr>\n",
       "      <th>(1751, 2868)</th>\n",
       "      <td>1</td>\n",
       "      <td>4</td>\n",
       "      <td>[4]</td>\n",
       "    </tr>\n",
       "    <tr>\n",
       "      <th>(238, 2478)</th>\n",
       "      <td>2</td>\n",
       "      <td>7</td>\n",
       "      <td>[3, 4]</td>\n",
       "    </tr>\n",
       "    <tr>\n",
       "      <th>(1014, 2478)</th>\n",
       "      <td>3</td>\n",
       "      <td>10</td>\n",
       "      <td>[3, 3, 4]</td>\n",
       "    </tr>\n",
       "    <tr>\n",
       "      <th>(2045, 2139)</th>\n",
       "      <td>1</td>\n",
       "      <td>3</td>\n",
       "      <td>[3]</td>\n",
       "    </tr>\n",
       "    <tr>\n",
       "      <th>(870, 918)</th>\n",
       "      <td>4</td>\n",
       "      <td>33</td>\n",
       "      <td>[4, 10, 8, 11]</td>\n",
       "    </tr>\n",
       "    <tr>\n",
       "      <th>(622, 2045)</th>\n",
       "      <td>1</td>\n",
       "      <td>7</td>\n",
       "      <td>[7]</td>\n",
       "    </tr>\n",
       "    <tr>\n",
       "      <th>(1751, 2429)</th>\n",
       "      <td>8</td>\n",
       "      <td>69</td>\n",
       "      <td>[4, 14, 3, 5, 4, 3, 18, 18]</td>\n",
       "    </tr>\n",
       "    <tr>\n",
       "      <th>(1751, 2890)</th>\n",
       "      <td>3</td>\n",
       "      <td>14</td>\n",
       "      <td>[4, 5, 5]</td>\n",
       "    </tr>\n",
       "    <tr>\n",
       "      <th>(867, 1751)</th>\n",
       "      <td>1</td>\n",
       "      <td>3</td>\n",
       "      <td>[3]</td>\n",
       "    </tr>\n",
       "    <tr>\n",
       "      <th>(1436, 1751)</th>\n",
       "      <td>1</td>\n",
       "      <td>5</td>\n",
       "      <td>[5]</td>\n",
       "    </tr>\n",
       "    <tr>\n",
       "      <th>(1751, 2762)</th>\n",
       "      <td>2</td>\n",
       "      <td>20</td>\n",
       "      <td>[9, 11]</td>\n",
       "    </tr>\n",
       "    <tr>\n",
       "      <th>(2045, 2117)</th>\n",
       "      <td>2</td>\n",
       "      <td>7</td>\n",
       "      <td>[3, 4]</td>\n",
       "    </tr>\n",
       "    <tr>\n",
       "      <th>(656, 2117)</th>\n",
       "      <td>1</td>\n",
       "      <td>3</td>\n",
       "      <td>[3]</td>\n",
       "    </tr>\n",
       "    <tr>\n",
       "      <th>(742, 870)</th>\n",
       "      <td>9</td>\n",
       "      <td>46</td>\n",
       "      <td>[4, 5, 5, 7, 5, 8, 3, 6, 3]</td>\n",
       "    </tr>\n",
       "    <tr>\n",
       "      <th>(870, 2142)</th>\n",
       "      <td>2</td>\n",
       "      <td>6</td>\n",
       "      <td>[3, 3]</td>\n",
       "    </tr>\n",
       "    <tr>\n",
       "      <th>(1321, 3572)</th>\n",
       "      <td>1</td>\n",
       "      <td>3</td>\n",
       "      <td>[3]</td>\n",
       "    </tr>\n",
       "    <tr>\n",
       "      <th>(1731, 2821)</th>\n",
       "      <td>1</td>\n",
       "      <td>4</td>\n",
       "      <td>[4]</td>\n",
       "    </tr>\n",
       "    <tr>\n",
       "      <th>(1725, 1751)</th>\n",
       "      <td>1</td>\n",
       "      <td>4</td>\n",
       "      <td>[4]</td>\n",
       "    </tr>\n",
       "    <tr>\n",
       "      <th>(622, 870)</th>\n",
       "      <td>3</td>\n",
       "      <td>21</td>\n",
       "      <td>[3, 13, 5]</td>\n",
       "    </tr>\n",
       "    <tr>\n",
       "      <th>(2165, 3756)</th>\n",
       "      <td>1</td>\n",
       "      <td>4</td>\n",
       "      <td>[4]</td>\n",
       "    </tr>\n",
       "    <tr>\n",
       "      <th>(1582, 2534)</th>\n",
       "      <td>1</td>\n",
       "      <td>3</td>\n",
       "      <td>[3]</td>\n",
       "    </tr>\n",
       "    <tr>\n",
       "      <th>(1470, 1751)</th>\n",
       "      <td>1</td>\n",
       "      <td>3</td>\n",
       "      <td>[3]</td>\n",
       "    </tr>\n",
       "    <tr>\n",
       "      <th>(1820, 3325)</th>\n",
       "      <td>1</td>\n",
       "      <td>3</td>\n",
       "      <td>[3]</td>\n",
       "    </tr>\n",
       "    <tr>\n",
       "      <th>(1751, 1853)</th>\n",
       "      <td>1</td>\n",
       "      <td>5</td>\n",
       "      <td>[5]</td>\n",
       "    </tr>\n",
       "    <tr>\n",
       "      <th>(450, 1751)</th>\n",
       "      <td>1</td>\n",
       "      <td>3</td>\n",
       "      <td>[3]</td>\n",
       "    </tr>\n",
       "    <tr>\n",
       "      <th>(1751, 1785)</th>\n",
       "      <td>1</td>\n",
       "      <td>8</td>\n",
       "      <td>[8]</td>\n",
       "    </tr>\n",
       "    <tr>\n",
       "      <th>(1751, 2525)</th>\n",
       "      <td>1</td>\n",
       "      <td>5</td>\n",
       "      <td>[5]</td>\n",
       "    </tr>\n",
       "    <tr>\n",
       "      <th>(1751, 2085)</th>\n",
       "      <td>8</td>\n",
       "      <td>49</td>\n",
       "      <td>[5, 5, 4, 7, 3, 8, 11, 6]</td>\n",
       "    </tr>\n",
       "    <tr>\n",
       "      <th>...</th>\n",
       "      <td>...</td>\n",
       "      <td>...</td>\n",
       "      <td>...</td>\n",
       "    </tr>\n",
       "    <tr>\n",
       "      <th>(1058, 2984)</th>\n",
       "      <td>1</td>\n",
       "      <td>3</td>\n",
       "      <td>[3]</td>\n",
       "    </tr>\n",
       "    <tr>\n",
       "      <th>(864, 4012)</th>\n",
       "      <td>2</td>\n",
       "      <td>7</td>\n",
       "      <td>[3, 4]</td>\n",
       "    </tr>\n",
       "    <tr>\n",
       "      <th>(1058, 2379)</th>\n",
       "      <td>1</td>\n",
       "      <td>4</td>\n",
       "      <td>[4]</td>\n",
       "    </tr>\n",
       "    <tr>\n",
       "      <th>(1058, 3843)</th>\n",
       "      <td>1</td>\n",
       "      <td>3</td>\n",
       "      <td>[3]</td>\n",
       "    </tr>\n",
       "    <tr>\n",
       "      <th>(864, 3412)</th>\n",
       "      <td>2</td>\n",
       "      <td>8</td>\n",
       "      <td>[5, 3]</td>\n",
       "    </tr>\n",
       "    <tr>\n",
       "      <th>(864, 3923)</th>\n",
       "      <td>2</td>\n",
       "      <td>13</td>\n",
       "      <td>[7, 6]</td>\n",
       "    </tr>\n",
       "    <tr>\n",
       "      <th>(442, 864)</th>\n",
       "      <td>7</td>\n",
       "      <td>56</td>\n",
       "      <td>[4, 7, 11, 22, 6, 3, 3]</td>\n",
       "    </tr>\n",
       "    <tr>\n",
       "      <th>(1964, 2725)</th>\n",
       "      <td>1</td>\n",
       "      <td>3</td>\n",
       "      <td>[3]</td>\n",
       "    </tr>\n",
       "    <tr>\n",
       "      <th>(540, 1964)</th>\n",
       "      <td>1</td>\n",
       "      <td>3</td>\n",
       "      <td>[3]</td>\n",
       "    </tr>\n",
       "    <tr>\n",
       "      <th>(245, 864)</th>\n",
       "      <td>2</td>\n",
       "      <td>10</td>\n",
       "      <td>[5, 5]</td>\n",
       "    </tr>\n",
       "    <tr>\n",
       "      <th>(864, 3732)</th>\n",
       "      <td>2</td>\n",
       "      <td>10</td>\n",
       "      <td>[5, 5]</td>\n",
       "    </tr>\n",
       "    <tr>\n",
       "      <th>(668, 1076)</th>\n",
       "      <td>1</td>\n",
       "      <td>10</td>\n",
       "      <td>[10]</td>\n",
       "    </tr>\n",
       "    <tr>\n",
       "      <th>(864, 3473)</th>\n",
       "      <td>3</td>\n",
       "      <td>22</td>\n",
       "      <td>[8, 5, 9]</td>\n",
       "    </tr>\n",
       "    <tr>\n",
       "      <th>(66, 1069)</th>\n",
       "      <td>1</td>\n",
       "      <td>6</td>\n",
       "      <td>[6]</td>\n",
       "    </tr>\n",
       "    <tr>\n",
       "      <th>(1361, 2379)</th>\n",
       "      <td>1</td>\n",
       "      <td>3</td>\n",
       "      <td>[3]</td>\n",
       "    </tr>\n",
       "    <tr>\n",
       "      <th>(492, 1361)</th>\n",
       "      <td>1</td>\n",
       "      <td>3</td>\n",
       "      <td>[3]</td>\n",
       "    </tr>\n",
       "    <tr>\n",
       "      <th>(864, 1492)</th>\n",
       "      <td>1</td>\n",
       "      <td>6</td>\n",
       "      <td>[6]</td>\n",
       "    </tr>\n",
       "    <tr>\n",
       "      <th>(864, 1548)</th>\n",
       "      <td>1</td>\n",
       "      <td>8</td>\n",
       "      <td>[8]</td>\n",
       "    </tr>\n",
       "    <tr>\n",
       "      <th>(864, 2034)</th>\n",
       "      <td>1</td>\n",
       "      <td>5</td>\n",
       "      <td>[5]</td>\n",
       "    </tr>\n",
       "    <tr>\n",
       "      <th>(864, 2160)</th>\n",
       "      <td>4</td>\n",
       "      <td>21</td>\n",
       "      <td>[4, 5, 9, 3]</td>\n",
       "    </tr>\n",
       "    <tr>\n",
       "      <th>(1888, 2160)</th>\n",
       "      <td>1</td>\n",
       "      <td>4</td>\n",
       "      <td>[4]</td>\n",
       "    </tr>\n",
       "    <tr>\n",
       "      <th>(864, 1122)</th>\n",
       "      <td>3</td>\n",
       "      <td>23</td>\n",
       "      <td>[8, 7, 8]</td>\n",
       "    </tr>\n",
       "    <tr>\n",
       "      <th>(773, 864)</th>\n",
       "      <td>1</td>\n",
       "      <td>5</td>\n",
       "      <td>[5]</td>\n",
       "    </tr>\n",
       "    <tr>\n",
       "      <th>(864, 1237)</th>\n",
       "      <td>1</td>\n",
       "      <td>3</td>\n",
       "      <td>[3]</td>\n",
       "    </tr>\n",
       "    <tr>\n",
       "      <th>(864, 1638)</th>\n",
       "      <td>2</td>\n",
       "      <td>10</td>\n",
       "      <td>[4, 6]</td>\n",
       "    </tr>\n",
       "    <tr>\n",
       "      <th>(1572, 2601)</th>\n",
       "      <td>1</td>\n",
       "      <td>3</td>\n",
       "      <td>[3]</td>\n",
       "    </tr>\n",
       "    <tr>\n",
       "      <th>(864, 3564)</th>\n",
       "      <td>1</td>\n",
       "      <td>4</td>\n",
       "      <td>[4]</td>\n",
       "    </tr>\n",
       "    <tr>\n",
       "      <th>(429, 1262)</th>\n",
       "      <td>1</td>\n",
       "      <td>3</td>\n",
       "      <td>[3]</td>\n",
       "    </tr>\n",
       "    <tr>\n",
       "      <th>(2602, 2755)</th>\n",
       "      <td>1</td>\n",
       "      <td>4</td>\n",
       "      <td>[4]</td>\n",
       "    </tr>\n",
       "    <tr>\n",
       "      <th>(2061, 2602)</th>\n",
       "      <td>1</td>\n",
       "      <td>4</td>\n",
       "      <td>[4]</td>\n",
       "    </tr>\n",
       "  </tbody>\n",
       "</table>\n",
       "<p>191 rows × 3 columns</p>\n",
       "</div>"
      ],
      "text/plain": [
       "              frequency  totalduration                    durations\n",
       "(1406, 2045)          1              4                          [4]\n",
       "(2054, 3180)          1              4                          [4]\n",
       "(1751, 2868)          1              4                          [4]\n",
       "(238, 2478)           2              7                       [3, 4]\n",
       "(1014, 2478)          3             10                    [3, 3, 4]\n",
       "(2045, 2139)          1              3                          [3]\n",
       "(870, 918)            4             33               [4, 10, 8, 11]\n",
       "(622, 2045)           1              7                          [7]\n",
       "(1751, 2429)          8             69  [4, 14, 3, 5, 4, 3, 18, 18]\n",
       "(1751, 2890)          3             14                    [4, 5, 5]\n",
       "(867, 1751)           1              3                          [3]\n",
       "(1436, 1751)          1              5                          [5]\n",
       "(1751, 2762)          2             20                      [9, 11]\n",
       "(2045, 2117)          2              7                       [3, 4]\n",
       "(656, 2117)           1              3                          [3]\n",
       "(742, 870)            9             46  [4, 5, 5, 7, 5, 8, 3, 6, 3]\n",
       "(870, 2142)           2              6                       [3, 3]\n",
       "(1321, 3572)          1              3                          [3]\n",
       "(1731, 2821)          1              4                          [4]\n",
       "(1725, 1751)          1              4                          [4]\n",
       "(622, 870)            3             21                   [3, 13, 5]\n",
       "(2165, 3756)          1              4                          [4]\n",
       "(1582, 2534)          1              3                          [3]\n",
       "(1470, 1751)          1              3                          [3]\n",
       "(1820, 3325)          1              3                          [3]\n",
       "(1751, 1853)          1              5                          [5]\n",
       "(450, 1751)           1              3                          [3]\n",
       "(1751, 1785)          1              8                          [8]\n",
       "(1751, 2525)          1              5                          [5]\n",
       "(1751, 2085)          8             49    [5, 5, 4, 7, 3, 8, 11, 6]\n",
       "...                 ...            ...                          ...\n",
       "(1058, 2984)          1              3                          [3]\n",
       "(864, 4012)           2              7                       [3, 4]\n",
       "(1058, 2379)          1              4                          [4]\n",
       "(1058, 3843)          1              3                          [3]\n",
       "(864, 3412)           2              8                       [5, 3]\n",
       "(864, 3923)           2             13                       [7, 6]\n",
       "(442, 864)            7             56      [4, 7, 11, 22, 6, 3, 3]\n",
       "(1964, 2725)          1              3                          [3]\n",
       "(540, 1964)           1              3                          [3]\n",
       "(245, 864)            2             10                       [5, 5]\n",
       "(864, 3732)           2             10                       [5, 5]\n",
       "(668, 1076)           1             10                         [10]\n",
       "(864, 3473)           3             22                    [8, 5, 9]\n",
       "(66, 1069)            1              6                          [6]\n",
       "(1361, 2379)          1              3                          [3]\n",
       "(492, 1361)           1              3                          [3]\n",
       "(864, 1492)           1              6                          [6]\n",
       "(864, 1548)           1              8                          [8]\n",
       "(864, 2034)           1              5                          [5]\n",
       "(864, 2160)           4             21                 [4, 5, 9, 3]\n",
       "(1888, 2160)          1              4                          [4]\n",
       "(864, 1122)           3             23                    [8, 7, 8]\n",
       "(773, 864)            1              5                          [5]\n",
       "(864, 1237)           1              3                          [3]\n",
       "(864, 1638)           2             10                       [4, 6]\n",
       "(1572, 2601)          1              3                          [3]\n",
       "(864, 3564)           1              4                          [4]\n",
       "(429, 1262)           1              3                          [3]\n",
       "(2602, 2755)          1              4                          [4]\n",
       "(2061, 2602)          1              4                          [4]\n",
       "\n",
       "[191 rows x 3 columns]"
      ]
     },
     "execution_count": 284,
     "metadata": {},
     "output_type": "execute_result"
    }
   ],
   "source": [
    "negativeInteractions"
   ]
  },
  {
   "cell_type": "markdown",
   "metadata": {},
   "source": [
    "## Alter der IDs der Interaktionen anschauen"
   ]
  },
  {
   "cell_type": "code",
   "execution_count": 243,
   "metadata": {
    "ExecuteTime": {
     "end_time": "2017-02-23T14:37:56.869252",
     "start_time": "2017-02-23T14:37:56.662317"
    },
    "collapsed": false
   },
   "outputs": [],
   "source": [
    "idInter = DataFrame(Series([a for a,b in list(df.index)] + [b for a,b in list(df.index)]).unique(), columns=['id'])"
   ]
  },
  {
   "cell_type": "code",
   "execution_count": 244,
   "metadata": {
    "ExecuteTime": {
     "end_time": "2017-02-23T14:37:57.357030",
     "start_time": "2017-02-23T14:37:56.871904"
    },
    "collapsed": false
   },
   "outputs": [],
   "source": [
    "numNegInterIDs = getNegatives(idInter)"
   ]
  },
  {
   "cell_type": "code",
   "execution_count": 245,
   "metadata": {
    "ExecuteTime": {
     "end_time": "2017-02-23T14:37:57.388987",
     "start_time": "2017-02-23T14:37:57.360843"
    },
    "collapsed": false
   },
   "outputs": [
    {
     "data": {
      "text/plain": [
       "40"
      ]
     },
     "execution_count": 245,
     "metadata": {},
     "output_type": "execute_result"
    }
   ],
   "source": [
    "numNegInterIDs"
   ]
  },
  {
   "cell_type": "code",
   "execution_count": 246,
   "metadata": {
    "ExecuteTime": {
     "end_time": "2017-02-23T14:37:57.446562",
     "start_time": "2017-02-23T14:37:57.391427"
    },
    "collapsed": false
   },
   "outputs": [
    {
     "data": {
      "text/plain": [
       "735"
      ]
     },
     "execution_count": 246,
     "metadata": {},
     "output_type": "execute_result"
    }
   ],
   "source": [
    "idInter.shape[0]"
   ]
  },
  {
   "cell_type": "code",
   "execution_count": 247,
   "metadata": {
    "ExecuteTime": {
     "end_time": "2017-02-23T14:37:57.478607",
     "start_time": "2017-02-23T14:37:57.450562"
    },
    "collapsed": false
   },
   "outputs": [
    {
     "data": {
      "text/plain": [
       "0.05442176870748299"
      ]
     },
     "execution_count": 247,
     "metadata": {},
     "output_type": "execute_result"
    }
   ],
   "source": [
    "numNegInterIDs/idInter.shape[0]"
   ]
  },
  {
   "cell_type": "markdown",
   "metadata": {},
   "source": [
    "# Graph bauen"
   ]
  },
  {
   "cell_type": "code",
   "execution_count": 248,
   "metadata": {
    "ExecuteTime": {
     "end_time": "2017-02-23T14:38:00.869189",
     "start_time": "2017-02-23T14:37:57.482026"
    },
    "collapsed": true
   },
   "outputs": [],
   "source": [
    "G = prep.create_graph2(interactions)"
   ]
  },
  {
   "cell_type": "code",
   "execution_count": 249,
   "metadata": {
    "ExecuteTime": {
     "end_time": "2017-02-23T14:38:00.901546",
     "start_time": "2017-02-23T14:38:00.872275"
    },
    "collapsed": false
   },
   "outputs": [
    {
     "data": {
      "text/plain": [
       "'Name: \\nType: Graph\\nNumber of nodes: 735\\nNumber of edges: 7362\\nAverage degree:  20.0327'"
      ]
     },
     "execution_count": 249,
     "metadata": {},
     "output_type": "execute_result"
    }
   ],
   "source": [
    "nx.info(G)"
   ]
  },
  {
   "cell_type": "code",
   "execution_count": 250,
   "metadata": {
    "ExecuteTime": {
     "end_time": "2017-02-23T14:38:01.359313",
     "start_time": "2017-02-23T14:38:00.903983"
    },
    "collapsed": true
   },
   "outputs": [],
   "source": [
    "ids = DataFrame(list(G.node), columns=['id'], dtype='int')"
   ]
  },
  {
   "cell_type": "code",
   "execution_count": 251,
   "metadata": {
    "ExecuteTime": {
     "end_time": "2017-02-23T14:38:01.792579",
     "start_time": "2017-02-23T14:38:01.363611"
    },
    "collapsed": false
   },
   "outputs": [],
   "source": [
    "numNegNodes = getNegatives(ids)"
   ]
  },
  {
   "cell_type": "code",
   "execution_count": 252,
   "metadata": {
    "ExecuteTime": {
     "end_time": "2017-02-23T14:38:01.818361",
     "start_time": "2017-02-23T14:38:01.795030"
    },
    "collapsed": false
   },
   "outputs": [
    {
     "data": {
      "text/plain": [
       "40"
      ]
     },
     "execution_count": 252,
     "metadata": {},
     "output_type": "execute_result"
    }
   ],
   "source": [
    "numNegNodes"
   ]
  },
  {
   "cell_type": "markdown",
   "metadata": {},
   "source": [
    "# Degree of wrong Nodes"
   ]
  },
  {
   "cell_type": "code",
   "execution_count": 253,
   "metadata": {
    "ExecuteTime": {
     "end_time": "2017-02-23T14:38:01.950346",
     "start_time": "2017-02-23T14:38:01.820829"
    },
    "collapsed": false
   },
   "outputs": [],
   "source": [
    "negativeNodes = list(ids[ids.age < 0].id)"
   ]
  },
  {
   "cell_type": "code",
   "execution_count": 254,
   "metadata": {
    "ExecuteTime": {
     "end_time": "2017-02-23T14:38:02.008605",
     "start_time": "2017-02-23T14:38:01.956828"
    },
    "collapsed": true
   },
   "outputs": [],
   "source": [
    "positiveNodes = list(ids[ids.age >= 0].id)"
   ]
  },
  {
   "cell_type": "code",
   "execution_count": 255,
   "metadata": {
    "ExecuteTime": {
     "end_time": "2017-02-23T14:38:02.433055",
     "start_time": "2017-02-23T14:38:02.014710"
    },
    "collapsed": false
   },
   "outputs": [
    {
     "data": {
      "text/plain": [
       "<matplotlib.axes._subplots.AxesSubplot at 0x7f06a043f128>"
      ]
     },
     "execution_count": 255,
     "metadata": {},
     "output_type": "execute_result"
    },
    {
     "data": {
      "image/png": "[encoded data removed]",
      "text/plain": [
       "<matplotlib.figure.Figure at 0x7f06602bcac8>"
      ]
     },
     "metadata": {},
     "output_type": "display_data"
    }
   ],
   "source": [
    "Series(G.degree(negativeNodes)).hist(bins=25)"
   ]
  },
  {
   "cell_type": "code",
   "execution_count": 256,
   "metadata": {
    "ExecuteTime": {
     "end_time": "2017-02-23T14:38:02.805298",
     "start_time": "2017-02-23T14:38:02.435898"
    },
    "collapsed": false,
    "scrolled": false
   },
   "outputs": [
    {
     "data": {
      "text/plain": [
       "<matplotlib.axes._subplots.AxesSubplot at 0x7f06601a2320>"
      ]
     },
     "execution_count": 256,
     "metadata": {},
     "output_type": "execute_result"
    },
    {
     "data": {
      "image/png": "[encoded data removed]",
      "text/plain": [
       "<matplotlib.figure.Figure at 0x7f06601a52e8>"
      ]
     },
     "metadata": {},
     "output_type": "display_data"
    }
   ],
   "source": [
    "Series(G.degree(positiveNodes)).hist(bins=25)"
   ]
  },
  {
   "cell_type": "code",
   "execution_count": 297,
   "metadata": {
    "ExecuteTime": {
     "end_time": "2017-02-23T14:55:08.477134",
     "start_time": "2017-02-23T14:55:03.781912"
    },
    "collapsed": true
   },
   "outputs": [],
   "source": [
    "G2 = nx.read_graphml('2016-07-21T15:00:00Z_1h_allCams-90_0.9conf_212dist_3ilen.graphml')"
   ]
  },
  {
   "cell_type": "code",
   "execution_count": 306,
   "metadata": {
    "ExecuteTime": {
     "end_time": "2017-02-23T14:56:23.788292",
     "start_time": "2017-02-23T14:56:23.761781"
    },
    "collapsed": false
   },
   "outputs": [],
   "source": [
    "n2 = set(list(G2.node))"
   ]
  },
  {
   "cell_type": "code",
   "execution_count": 316,
   "metadata": {
    "ExecuteTime": {
     "end_time": "2017-02-23T14:58:26.329970",
     "start_time": "2017-02-23T14:58:26.302998"
    },
    "collapsed": false
   },
   "outputs": [
    {
     "data": {
      "text/plain": [
       "False"
      ]
     },
     "execution_count": 316,
     "metadata": {},
     "output_type": "execute_result"
    }
   ],
   "source": [
    "'2988' in n2"
   ]
  },
  {
   "cell_type": "code",
   "execution_count": 317,
   "metadata": {
    "ExecuteTime": {
     "end_time": "2017-02-23T15:03:52.825267",
     "start_time": "2017-02-23T15:03:52.777049"
    },
    "collapsed": false
   },
   "outputs": [
    {
     "data": {
      "text/plain": [
       "-33"
      ]
     },
     "execution_count": 317,
     "metadata": {},
     "output_type": "execute_result"
    }
   ],
   "source": [
    "aa.iloc[2988].age"
   ]
  },
  {
   "cell_type": "markdown",
   "metadata": {},
   "source": [
    "# Wie oft wurde eine ID detectiert"
   ]
  },
  {
   "cell_type": "code",
   "execution_count": 464,
   "metadata": {
    "ExecuteTime": {
     "end_time": "2017-02-23T22:56:35.244748",
     "start_time": "2017-02-23T22:56:35.188593"
    },
    "collapsed": false
   },
   "outputs": [],
   "source": [
    "idstat = side.groupby(by='id').size()"
   ]
  },
  {
   "cell_type": "code",
   "execution_count": 465,
   "metadata": {
    "ExecuteTime": {
     "end_time": "2017-02-23T22:56:35.303285",
     "start_time": "2017-02-23T22:56:35.247989"
    },
    "collapsed": true
   },
   "outputs": [],
   "source": [
    "from scipy import stats"
   ]
  },
  {
   "cell_type": "code",
   "execution_count": 466,
   "metadata": {
    "ExecuteTime": {
     "end_time": "2017-02-23T22:56:35.833741",
     "start_time": "2017-02-23T22:56:35.307620"
    },
    "collapsed": false
   },
   "outputs": [
    {
     "data": {
      "text/plain": [
       "<matplotlib.axes._subplots.AxesSubplot at 0x7f0667310208>"
      ]
     },
     "execution_count": 466,
     "metadata": {},
     "output_type": "execute_result"
    },
    {
     "data": {
      "image/png": "[encoded data removed]",
      "text/plain": [
       "<matplotlib.figure.Figure at 0x7f066733df28>"
      ]
     },
     "metadata": {},
     "output_type": "display_data"
    }
   ],
   "source": [
    "idstat.hist(bins=50)"
   ]
  },
  {
   "cell_type": "code",
   "execution_count": 467,
   "metadata": {
    "ExecuteTime": {
     "end_time": "2017-02-23T22:56:35.865775",
     "start_time": "2017-02-23T22:56:35.837378"
    },
    "collapsed": false
   },
   "outputs": [],
   "source": [
    "m = idstat.mean()"
   ]
  },
  {
   "cell_type": "code",
   "execution_count": 468,
   "metadata": {
    "ExecuteTime": {
     "end_time": "2017-02-23T22:56:35.963797",
     "start_time": "2017-02-23T22:56:35.869713"
    },
    "collapsed": false
   },
   "outputs": [
    {
     "data": {
      "text/plain": [
       "147.28044466902475"
      ]
     },
     "execution_count": 468,
     "metadata": {},
     "output_type": "execute_result"
    }
   ],
   "source": [
    "m"
   ]
  },
  {
   "cell_type": "code",
   "execution_count": 469,
   "metadata": {
    "ExecuteTime": {
     "end_time": "2017-02-23T22:56:36.013718",
     "start_time": "2017-02-23T22:56:35.967815"
    },
    "collapsed": true
   },
   "outputs": [],
   "source": [
    "def getPositives(df):\n",
    "    df[\"age\"] = df.id.apply(lambda x: aa.iloc[x].age)\n",
    "    return len(df[df.age >= 0])"
   ]
  },
  {
   "cell_type": "code",
   "execution_count": null,
   "metadata": {
    "collapsed": true
   },
   "outputs": [],
   "source": [
    "def removeDetections(df, cutoff=10):\n",
    "    idstat = df.groupby(by='id').size()\n",
    "    m = idstat.mean()\n",
    "    boder = cutoff*m/100\n",
    "    trashIDs = idstat[idstat < border]\n",
    "    \n",
    "    # remove detections with trashIDs from df\n",
    "    "
   ]
  },
  {
   "cell_type": "code",
   "execution_count": 470,
   "metadata": {
    "ExecuteTime": {
     "end_time": "2017-02-23T22:57:39.623478",
     "start_time": "2017-02-23T22:56:36.017662"
    },
    "collapsed": false
   },
   "outputs": [],
   "source": [
    "mystat = []\n",
    "for i in np.arange(100+1):\n",
    "    border = i*m/100\n",
    "    \n",
    "    restGut = idstat[idstat >= border]\n",
    "    idxGut = DataFrame(list(restGut.index.values), columns=['id'])\n",
    "    negativesGut = getNegatives(idxGut)\n",
    "    \n",
    "    restBoese = idstat[idstat < border]\n",
    "    idxBoese = DataFrame(list(restBoese.index.values), columns=['id'])\n",
    "    positivesBoese = getPositives(idxBoese)\n",
    "    \n",
    "    mystat.append((i,border, len(restGut), negativesGut, len(restBoese), positivesBoese))   "
   ]
  },
  {
   "cell_type": "code",
   "execution_count": 471,
   "metadata": {
    "ExecuteTime": {
     "end_time": "2017-02-23T22:57:39.664885",
     "start_time": "2017-02-23T22:57:39.627589"
    },
    "collapsed": false
   },
   "outputs": [],
   "source": [
    "dfmystat = DataFrame(mystat, columns=['i', 'border', 'restids', 'negatives', 'muellids', 'positives'])"
   ]
  },
  {
   "cell_type": "code",
   "execution_count": 498,
   "metadata": {
    "ExecuteTime": {
     "end_time": "2017-02-23T23:25:47.297468",
     "start_time": "2017-02-23T23:25:47.233813"
    },
    "collapsed": false
   },
   "outputs": [
    {
     "data": {
      "text/html": [
       "<div>\n",
       "<table border=\"1\" class=\"dataframe\">\n",
       "  <thead>\n",
       "    <tr style=\"text-align: right;\">\n",
       "      <th></th>\n",
       "      <th>i</th>\n",
       "      <th>border</th>\n",
       "      <th>restids</th>\n",
       "      <th>negatives</th>\n",
       "      <th>muellids</th>\n",
       "      <th>positives</th>\n",
       "      <th>restidsP</th>\n",
       "      <th>negP</th>\n",
       "      <th>muellidsP</th>\n",
       "      <th>posP</th>\n",
       "    </tr>\n",
       "  </thead>\n",
       "  <tbody>\n",
       "    <tr>\n",
       "      <th>0</th>\n",
       "      <td>0</td>\n",
       "      <td>0.000000</td>\n",
       "      <td>1979</td>\n",
       "      <td>1085</td>\n",
       "      <td>0</td>\n",
       "      <td>0</td>\n",
       "      <td>100.000000</td>\n",
       "      <td>54.825670</td>\n",
       "      <td>0.000000</td>\n",
       "      <td>0.000000</td>\n",
       "    </tr>\n",
       "    <tr>\n",
       "      <th>1</th>\n",
       "      <td>1</td>\n",
       "      <td>1.472804</td>\n",
       "      <td>1453</td>\n",
       "      <td>672</td>\n",
       "      <td>526</td>\n",
       "      <td>113</td>\n",
       "      <td>73.420920</td>\n",
       "      <td>33.956544</td>\n",
       "      <td>26.579080</td>\n",
       "      <td>5.709955</td>\n",
       "    </tr>\n",
       "    <tr>\n",
       "      <th>2</th>\n",
       "      <td>2</td>\n",
       "      <td>2.945609</td>\n",
       "      <td>1210</td>\n",
       "      <td>456</td>\n",
       "      <td>769</td>\n",
       "      <td>140</td>\n",
       "      <td>61.141991</td>\n",
       "      <td>23.041940</td>\n",
       "      <td>38.858009</td>\n",
       "      <td>7.074280</td>\n",
       "    </tr>\n",
       "    <tr>\n",
       "      <th>3</th>\n",
       "      <td>3</td>\n",
       "      <td>4.418413</td>\n",
       "      <td>1023</td>\n",
       "      <td>289</td>\n",
       "      <td>956</td>\n",
       "      <td>160</td>\n",
       "      <td>51.692774</td>\n",
       "      <td>14.603335</td>\n",
       "      <td>48.307226</td>\n",
       "      <td>8.084891</td>\n",
       "    </tr>\n",
       "    <tr>\n",
       "      <th>4</th>\n",
       "      <td>4</td>\n",
       "      <td>5.891218</td>\n",
       "      <td>968</td>\n",
       "      <td>241</td>\n",
       "      <td>1011</td>\n",
       "      <td>167</td>\n",
       "      <td>48.913593</td>\n",
       "      <td>12.177868</td>\n",
       "      <td>51.086407</td>\n",
       "      <td>8.438605</td>\n",
       "    </tr>\n",
       "    <tr>\n",
       "      <th>5</th>\n",
       "      <td>5</td>\n",
       "      <td>7.364022</td>\n",
       "      <td>894</td>\n",
       "      <td>173</td>\n",
       "      <td>1085</td>\n",
       "      <td>173</td>\n",
       "      <td>45.174330</td>\n",
       "      <td>8.741789</td>\n",
       "      <td>54.825670</td>\n",
       "      <td>8.741789</td>\n",
       "    </tr>\n",
       "    <tr>\n",
       "      <th>6</th>\n",
       "      <td>6</td>\n",
       "      <td>8.836827</td>\n",
       "      <td>861</td>\n",
       "      <td>142</td>\n",
       "      <td>1118</td>\n",
       "      <td>175</td>\n",
       "      <td>43.506822</td>\n",
       "      <td>7.175341</td>\n",
       "      <td>56.493178</td>\n",
       "      <td>8.842850</td>\n",
       "    </tr>\n",
       "    <tr>\n",
       "      <th>7</th>\n",
       "      <td>7</td>\n",
       "      <td>10.309631</td>\n",
       "      <td>826</td>\n",
       "      <td>108</td>\n",
       "      <td>1153</td>\n",
       "      <td>176</td>\n",
       "      <td>41.738252</td>\n",
       "      <td>5.457302</td>\n",
       "      <td>58.261748</td>\n",
       "      <td>8.893380</td>\n",
       "    </tr>\n",
       "    <tr>\n",
       "      <th>8</th>\n",
       "      <td>8</td>\n",
       "      <td>11.782436</td>\n",
       "      <td>808</td>\n",
       "      <td>92</td>\n",
       "      <td>1171</td>\n",
       "      <td>178</td>\n",
       "      <td>40.828701</td>\n",
       "      <td>4.648813</td>\n",
       "      <td>59.171299</td>\n",
       "      <td>8.994442</td>\n",
       "    </tr>\n",
       "    <tr>\n",
       "      <th>9</th>\n",
       "      <td>9</td>\n",
       "      <td>13.255240</td>\n",
       "      <td>784</td>\n",
       "      <td>71</td>\n",
       "      <td>1195</td>\n",
       "      <td>181</td>\n",
       "      <td>39.615968</td>\n",
       "      <td>3.587671</td>\n",
       "      <td>60.384032</td>\n",
       "      <td>9.146033</td>\n",
       "    </tr>\n",
       "    <tr>\n",
       "      <th>10</th>\n",
       "      <td>10</td>\n",
       "      <td>14.728044</td>\n",
       "      <td>777</td>\n",
       "      <td>64</td>\n",
       "      <td>1202</td>\n",
       "      <td>181</td>\n",
       "      <td>39.262254</td>\n",
       "      <td>3.233957</td>\n",
       "      <td>60.737746</td>\n",
       "      <td>9.146033</td>\n",
       "    </tr>\n",
       "    <tr>\n",
       "      <th>11</th>\n",
       "      <td>11</td>\n",
       "      <td>16.200849</td>\n",
       "      <td>760</td>\n",
       "      <td>48</td>\n",
       "      <td>1219</td>\n",
       "      <td>182</td>\n",
       "      <td>38.403234</td>\n",
       "      <td>2.425467</td>\n",
       "      <td>61.596766</td>\n",
       "      <td>9.196564</td>\n",
       "    </tr>\n",
       "  </tbody>\n",
       "</table>\n",
       "</div>"
      ],
      "text/plain": [
       "     i     border  restids  negatives  muellids  positives    restidsP  \\\n",
       "0    0   0.000000     1979       1085         0          0  100.000000   \n",
       "1    1   1.472804     1453        672       526        113   73.420920   \n",
       "2    2   2.945609     1210        456       769        140   61.141991   \n",
       "3    3   4.418413     1023        289       956        160   51.692774   \n",
       "4    4   5.891218      968        241      1011        167   48.913593   \n",
       "5    5   7.364022      894        173      1085        173   45.174330   \n",
       "6    6   8.836827      861        142      1118        175   43.506822   \n",
       "7    7  10.309631      826        108      1153        176   41.738252   \n",
       "8    8  11.782436      808         92      1171        178   40.828701   \n",
       "9    9  13.255240      784         71      1195        181   39.615968   \n",
       "10  10  14.728044      777         64      1202        181   39.262254   \n",
       "11  11  16.200849      760         48      1219        182   38.403234   \n",
       "\n",
       "         negP  muellidsP      posP  \n",
       "0   54.825670   0.000000  0.000000  \n",
       "1   33.956544  26.579080  5.709955  \n",
       "2   23.041940  38.858009  7.074280  \n",
       "3   14.603335  48.307226  8.084891  \n",
       "4   12.177868  51.086407  8.438605  \n",
       "5    8.741789  54.825670  8.741789  \n",
       "6    7.175341  56.493178  8.842850  \n",
       "7    5.457302  58.261748  8.893380  \n",
       "8    4.648813  59.171299  8.994442  \n",
       "9    3.587671  60.384032  9.146033  \n",
       "10   3.233957  60.737746  9.146033  \n",
       "11   2.425467  61.596766  9.196564  "
      ]
     },
     "execution_count": 498,
     "metadata": {},
     "output_type": "execute_result"
    }
   ],
   "source": [
    "dfmystat.head(12)"
   ]
  },
  {
   "cell_type": "code",
   "execution_count": 455,
   "metadata": {
    "ExecuteTime": {
     "end_time": "2017-02-23T22:49:04.127866",
     "start_time": "2017-02-23T22:49:04.032394"
    },
    "collapsed": false
   },
   "outputs": [
    {
     "data": {
      "text/html": [
       "<div>\n",
       "<table border=\"1\" class=\"dataframe\">\n",
       "  <thead>\n",
       "    <tr style=\"text-align: right;\">\n",
       "      <th></th>\n",
       "      <th>i</th>\n",
       "      <th>border</th>\n",
       "      <th>restids</th>\n",
       "      <th>negatives</th>\n",
       "      <th>muellids</th>\n",
       "      <th>positives</th>\n",
       "      <th>restidsP</th>\n",
       "      <th>negP</th>\n",
       "      <th>muellidsP</th>\n",
       "      <th>posP</th>\n",
       "    </tr>\n",
       "  </thead>\n",
       "  <tbody>\n",
       "    <tr>\n",
       "      <th>0</th>\n",
       "      <td>0</td>\n",
       "      <td>0.000000</td>\n",
       "      <td>1847</td>\n",
       "      <td>950</td>\n",
       "      <td>0</td>\n",
       "      <td>0</td>\n",
       "      <td>100.000000</td>\n",
       "      <td>51.434759</td>\n",
       "      <td>0.000000</td>\n",
       "      <td>0.000000</td>\n",
       "    </tr>\n",
       "    <tr>\n",
       "      <th>1</th>\n",
       "      <td>1</td>\n",
       "      <td>2.368538</td>\n",
       "      <td>1197</td>\n",
       "      <td>393</td>\n",
       "      <td>650</td>\n",
       "      <td>93</td>\n",
       "      <td>64.807796</td>\n",
       "      <td>21.277748</td>\n",
       "      <td>35.192204</td>\n",
       "      <td>5.035192</td>\n",
       "    </tr>\n",
       "    <tr>\n",
       "      <th>2</th>\n",
       "      <td>2</td>\n",
       "      <td>4.737076</td>\n",
       "      <td>1021</td>\n",
       "      <td>232</td>\n",
       "      <td>826</td>\n",
       "      <td>108</td>\n",
       "      <td>55.278831</td>\n",
       "      <td>12.560910</td>\n",
       "      <td>44.721169</td>\n",
       "      <td>5.847320</td>\n",
       "    </tr>\n",
       "    <tr>\n",
       "      <th>3</th>\n",
       "      <td>3</td>\n",
       "      <td>7.105615</td>\n",
       "      <td>905</td>\n",
       "      <td>129</td>\n",
       "      <td>942</td>\n",
       "      <td>121</td>\n",
       "      <td>48.998376</td>\n",
       "      <td>6.984299</td>\n",
       "      <td>51.001624</td>\n",
       "      <td>6.551164</td>\n",
       "    </tr>\n",
       "    <tr>\n",
       "      <th>4</th>\n",
       "      <td>4</td>\n",
       "      <td>9.474153</td>\n",
       "      <td>868</td>\n",
       "      <td>96</td>\n",
       "      <td>979</td>\n",
       "      <td>125</td>\n",
       "      <td>46.995127</td>\n",
       "      <td>5.197618</td>\n",
       "      <td>53.004873</td>\n",
       "      <td>6.767731</td>\n",
       "    </tr>\n",
       "    <tr>\n",
       "      <th>5</th>\n",
       "      <td>5</td>\n",
       "      <td>11.842691</td>\n",
       "      <td>844</td>\n",
       "      <td>76</td>\n",
       "      <td>1003</td>\n",
       "      <td>129</td>\n",
       "      <td>45.695723</td>\n",
       "      <td>4.114781</td>\n",
       "      <td>54.304277</td>\n",
       "      <td>6.984299</td>\n",
       "    </tr>\n",
       "    <tr>\n",
       "      <th>6</th>\n",
       "      <td>6</td>\n",
       "      <td>14.211229</td>\n",
       "      <td>813</td>\n",
       "      <td>49</td>\n",
       "      <td>1034</td>\n",
       "      <td>133</td>\n",
       "      <td>44.017325</td>\n",
       "      <td>2.652951</td>\n",
       "      <td>55.982675</td>\n",
       "      <td>7.200866</td>\n",
       "    </tr>\n",
       "    <tr>\n",
       "      <th>7</th>\n",
       "      <td>7</td>\n",
       "      <td>16.579767</td>\n",
       "      <td>801</td>\n",
       "      <td>39</td>\n",
       "      <td>1046</td>\n",
       "      <td>135</td>\n",
       "      <td>43.367623</td>\n",
       "      <td>2.111532</td>\n",
       "      <td>56.632377</td>\n",
       "      <td>7.309150</td>\n",
       "    </tr>\n",
       "    <tr>\n",
       "      <th>8</th>\n",
       "      <td>8</td>\n",
       "      <td>18.948305</td>\n",
       "      <td>790</td>\n",
       "      <td>32</td>\n",
       "      <td>1057</td>\n",
       "      <td>139</td>\n",
       "      <td>42.772063</td>\n",
       "      <td>1.732539</td>\n",
       "      <td>57.227937</td>\n",
       "      <td>7.525717</td>\n",
       "    </tr>\n",
       "    <tr>\n",
       "      <th>9</th>\n",
       "      <td>9</td>\n",
       "      <td>21.316844</td>\n",
       "      <td>779</td>\n",
       "      <td>24</td>\n",
       "      <td>1068</td>\n",
       "      <td>142</td>\n",
       "      <td>42.176502</td>\n",
       "      <td>1.299404</td>\n",
       "      <td>57.823498</td>\n",
       "      <td>7.688143</td>\n",
       "    </tr>\n",
       "    <tr>\n",
       "      <th>10</th>\n",
       "      <td>10</td>\n",
       "      <td>23.685382</td>\n",
       "      <td>775</td>\n",
       "      <td>22</td>\n",
       "      <td>1072</td>\n",
       "      <td>144</td>\n",
       "      <td>41.959935</td>\n",
       "      <td>1.191121</td>\n",
       "      <td>58.040065</td>\n",
       "      <td>7.796427</td>\n",
       "    </tr>\n",
       "    <tr>\n",
       "      <th>11</th>\n",
       "      <td>11</td>\n",
       "      <td>26.053920</td>\n",
       "      <td>769</td>\n",
       "      <td>19</td>\n",
       "      <td>1078</td>\n",
       "      <td>147</td>\n",
       "      <td>41.635084</td>\n",
       "      <td>1.028695</td>\n",
       "      <td>58.364916</td>\n",
       "      <td>7.958852</td>\n",
       "    </tr>\n",
       "    <tr>\n",
       "      <th>12</th>\n",
       "      <td>12</td>\n",
       "      <td>28.422458</td>\n",
       "      <td>764</td>\n",
       "      <td>16</td>\n",
       "      <td>1083</td>\n",
       "      <td>149</td>\n",
       "      <td>41.364375</td>\n",
       "      <td>0.866270</td>\n",
       "      <td>58.635625</td>\n",
       "      <td>8.067136</td>\n",
       "    </tr>\n",
       "    <tr>\n",
       "      <th>13</th>\n",
       "      <td>13</td>\n",
       "      <td>30.790996</td>\n",
       "      <td>760</td>\n",
       "      <td>15</td>\n",
       "      <td>1087</td>\n",
       "      <td>152</td>\n",
       "      <td>41.147807</td>\n",
       "      <td>0.812128</td>\n",
       "      <td>58.852193</td>\n",
       "      <td>8.229561</td>\n",
       "    </tr>\n",
       "    <tr>\n",
       "      <th>14</th>\n",
       "      <td>14</td>\n",
       "      <td>33.159534</td>\n",
       "      <td>755</td>\n",
       "      <td>13</td>\n",
       "      <td>1092</td>\n",
       "      <td>155</td>\n",
       "      <td>40.877098</td>\n",
       "      <td>0.703844</td>\n",
       "      <td>59.122902</td>\n",
       "      <td>8.391987</td>\n",
       "    </tr>\n",
       "    <tr>\n",
       "      <th>15</th>\n",
       "      <td>15</td>\n",
       "      <td>35.528073</td>\n",
       "      <td>753</td>\n",
       "      <td>12</td>\n",
       "      <td>1094</td>\n",
       "      <td>156</td>\n",
       "      <td>40.768814</td>\n",
       "      <td>0.649702</td>\n",
       "      <td>59.231186</td>\n",
       "      <td>8.446129</td>\n",
       "    </tr>\n",
       "    <tr>\n",
       "      <th>16</th>\n",
       "      <td>16</td>\n",
       "      <td>37.896611</td>\n",
       "      <td>751</td>\n",
       "      <td>11</td>\n",
       "      <td>1096</td>\n",
       "      <td>157</td>\n",
       "      <td>40.660531</td>\n",
       "      <td>0.595560</td>\n",
       "      <td>59.339469</td>\n",
       "      <td>8.500271</td>\n",
       "    </tr>\n",
       "    <tr>\n",
       "      <th>17</th>\n",
       "      <td>17</td>\n",
       "      <td>40.265149</td>\n",
       "      <td>747</td>\n",
       "      <td>11</td>\n",
       "      <td>1100</td>\n",
       "      <td>161</td>\n",
       "      <td>40.443963</td>\n",
       "      <td>0.595560</td>\n",
       "      <td>59.556037</td>\n",
       "      <td>8.716838</td>\n",
       "    </tr>\n",
       "    <tr>\n",
       "      <th>18</th>\n",
       "      <td>18</td>\n",
       "      <td>42.633687</td>\n",
       "      <td>746</td>\n",
       "      <td>11</td>\n",
       "      <td>1101</td>\n",
       "      <td>162</td>\n",
       "      <td>40.389821</td>\n",
       "      <td>0.595560</td>\n",
       "      <td>59.610179</td>\n",
       "      <td>8.770980</td>\n",
       "    </tr>\n",
       "    <tr>\n",
       "      <th>19</th>\n",
       "      <td>19</td>\n",
       "      <td>45.002225</td>\n",
       "      <td>745</td>\n",
       "      <td>11</td>\n",
       "      <td>1102</td>\n",
       "      <td>163</td>\n",
       "      <td>40.335679</td>\n",
       "      <td>0.595560</td>\n",
       "      <td>59.664321</td>\n",
       "      <td>8.825122</td>\n",
       "    </tr>\n",
       "    <tr>\n",
       "      <th>20</th>\n",
       "      <td>20</td>\n",
       "      <td>47.370763</td>\n",
       "      <td>744</td>\n",
       "      <td>11</td>\n",
       "      <td>1103</td>\n",
       "      <td>164</td>\n",
       "      <td>40.281538</td>\n",
       "      <td>0.595560</td>\n",
       "      <td>59.718462</td>\n",
       "      <td>8.879264</td>\n",
       "    </tr>\n",
       "    <tr>\n",
       "      <th>21</th>\n",
       "      <td>21</td>\n",
       "      <td>49.739302</td>\n",
       "      <td>743</td>\n",
       "      <td>11</td>\n",
       "      <td>1104</td>\n",
       "      <td>165</td>\n",
       "      <td>40.227396</td>\n",
       "      <td>0.595560</td>\n",
       "      <td>59.772604</td>\n",
       "      <td>8.933406</td>\n",
       "    </tr>\n",
       "    <tr>\n",
       "      <th>22</th>\n",
       "      <td>22</td>\n",
       "      <td>52.107840</td>\n",
       "      <td>743</td>\n",
       "      <td>11</td>\n",
       "      <td>1104</td>\n",
       "      <td>165</td>\n",
       "      <td>40.227396</td>\n",
       "      <td>0.595560</td>\n",
       "      <td>59.772604</td>\n",
       "      <td>8.933406</td>\n",
       "    </tr>\n",
       "    <tr>\n",
       "      <th>23</th>\n",
       "      <td>23</td>\n",
       "      <td>54.476378</td>\n",
       "      <td>742</td>\n",
       "      <td>11</td>\n",
       "      <td>1105</td>\n",
       "      <td>166</td>\n",
       "      <td>40.173254</td>\n",
       "      <td>0.595560</td>\n",
       "      <td>59.826746</td>\n",
       "      <td>8.987547</td>\n",
       "    </tr>\n",
       "    <tr>\n",
       "      <th>24</th>\n",
       "      <td>24</td>\n",
       "      <td>56.844916</td>\n",
       "      <td>740</td>\n",
       "      <td>10</td>\n",
       "      <td>1107</td>\n",
       "      <td>167</td>\n",
       "      <td>40.064970</td>\n",
       "      <td>0.541419</td>\n",
       "      <td>59.935030</td>\n",
       "      <td>9.041689</td>\n",
       "    </tr>\n",
       "    <tr>\n",
       "      <th>25</th>\n",
       "      <td>25</td>\n",
       "      <td>59.213454</td>\n",
       "      <td>738</td>\n",
       "      <td>10</td>\n",
       "      <td>1109</td>\n",
       "      <td>169</td>\n",
       "      <td>39.956687</td>\n",
       "      <td>0.541419</td>\n",
       "      <td>60.043313</td>\n",
       "      <td>9.149973</td>\n",
       "    </tr>\n",
       "    <tr>\n",
       "      <th>26</th>\n",
       "      <td>26</td>\n",
       "      <td>61.581992</td>\n",
       "      <td>738</td>\n",
       "      <td>10</td>\n",
       "      <td>1109</td>\n",
       "      <td>169</td>\n",
       "      <td>39.956687</td>\n",
       "      <td>0.541419</td>\n",
       "      <td>60.043313</td>\n",
       "      <td>9.149973</td>\n",
       "    </tr>\n",
       "    <tr>\n",
       "      <th>27</th>\n",
       "      <td>27</td>\n",
       "      <td>63.950531</td>\n",
       "      <td>737</td>\n",
       "      <td>10</td>\n",
       "      <td>1110</td>\n",
       "      <td>170</td>\n",
       "      <td>39.902545</td>\n",
       "      <td>0.541419</td>\n",
       "      <td>60.097455</td>\n",
       "      <td>9.204115</td>\n",
       "    </tr>\n",
       "    <tr>\n",
       "      <th>28</th>\n",
       "      <td>28</td>\n",
       "      <td>66.319069</td>\n",
       "      <td>734</td>\n",
       "      <td>9</td>\n",
       "      <td>1113</td>\n",
       "      <td>172</td>\n",
       "      <td>39.740119</td>\n",
       "      <td>0.487277</td>\n",
       "      <td>60.259881</td>\n",
       "      <td>9.312398</td>\n",
       "    </tr>\n",
       "    <tr>\n",
       "      <th>29</th>\n",
       "      <td>29</td>\n",
       "      <td>68.687607</td>\n",
       "      <td>734</td>\n",
       "      <td>9</td>\n",
       "      <td>1113</td>\n",
       "      <td>172</td>\n",
       "      <td>39.740119</td>\n",
       "      <td>0.487277</td>\n",
       "      <td>60.259881</td>\n",
       "      <td>9.312398</td>\n",
       "    </tr>\n",
       "    <tr>\n",
       "      <th>...</th>\n",
       "      <td>...</td>\n",
       "      <td>...</td>\n",
       "      <td>...</td>\n",
       "      <td>...</td>\n",
       "      <td>...</td>\n",
       "      <td>...</td>\n",
       "      <td>...</td>\n",
       "      <td>...</td>\n",
       "      <td>...</td>\n",
       "      <td>...</td>\n",
       "    </tr>\n",
       "    <tr>\n",
       "      <th>71</th>\n",
       "      <td>71</td>\n",
       "      <td>168.166210</td>\n",
       "      <td>663</td>\n",
       "      <td>9</td>\n",
       "      <td>1184</td>\n",
       "      <td>243</td>\n",
       "      <td>35.896048</td>\n",
       "      <td>0.487277</td>\n",
       "      <td>64.103952</td>\n",
       "      <td>13.156470</td>\n",
       "    </tr>\n",
       "    <tr>\n",
       "      <th>72</th>\n",
       "      <td>72</td>\n",
       "      <td>170.534748</td>\n",
       "      <td>660</td>\n",
       "      <td>9</td>\n",
       "      <td>1187</td>\n",
       "      <td>246</td>\n",
       "      <td>35.733622</td>\n",
       "      <td>0.487277</td>\n",
       "      <td>64.266378</td>\n",
       "      <td>13.318896</td>\n",
       "    </tr>\n",
       "    <tr>\n",
       "      <th>73</th>\n",
       "      <td>73</td>\n",
       "      <td>172.903286</td>\n",
       "      <td>658</td>\n",
       "      <td>9</td>\n",
       "      <td>1189</td>\n",
       "      <td>248</td>\n",
       "      <td>35.625338</td>\n",
       "      <td>0.487277</td>\n",
       "      <td>64.374662</td>\n",
       "      <td>13.427179</td>\n",
       "    </tr>\n",
       "    <tr>\n",
       "      <th>74</th>\n",
       "      <td>74</td>\n",
       "      <td>175.271825</td>\n",
       "      <td>655</td>\n",
       "      <td>9</td>\n",
       "      <td>1192</td>\n",
       "      <td>251</td>\n",
       "      <td>35.462913</td>\n",
       "      <td>0.487277</td>\n",
       "      <td>64.537087</td>\n",
       "      <td>13.589605</td>\n",
       "    </tr>\n",
       "    <tr>\n",
       "      <th>75</th>\n",
       "      <td>75</td>\n",
       "      <td>177.640363</td>\n",
       "      <td>654</td>\n",
       "      <td>8</td>\n",
       "      <td>1193</td>\n",
       "      <td>251</td>\n",
       "      <td>35.408771</td>\n",
       "      <td>0.433135</td>\n",
       "      <td>64.591229</td>\n",
       "      <td>13.589605</td>\n",
       "    </tr>\n",
       "    <tr>\n",
       "      <th>76</th>\n",
       "      <td>76</td>\n",
       "      <td>180.008901</td>\n",
       "      <td>654</td>\n",
       "      <td>8</td>\n",
       "      <td>1193</td>\n",
       "      <td>251</td>\n",
       "      <td>35.408771</td>\n",
       "      <td>0.433135</td>\n",
       "      <td>64.591229</td>\n",
       "      <td>13.589605</td>\n",
       "    </tr>\n",
       "    <tr>\n",
       "      <th>77</th>\n",
       "      <td>77</td>\n",
       "      <td>182.377439</td>\n",
       "      <td>653</td>\n",
       "      <td>8</td>\n",
       "      <td>1194</td>\n",
       "      <td>252</td>\n",
       "      <td>35.354629</td>\n",
       "      <td>0.433135</td>\n",
       "      <td>64.645371</td>\n",
       "      <td>13.643747</td>\n",
       "    </tr>\n",
       "    <tr>\n",
       "      <th>78</th>\n",
       "      "
      ],
      "text/plain": [
       "       i      border  restids  negatives  muellids  positives    restidsP  \\\n",
       "0      0    0.000000     1847        950         0          0  100.000000   \n",
       "1      1    2.368538     1197        393       650         93   64.807796   \n",
       "2      2    4.737076     1021        232       826        108   55.278831   \n",
       "3      3    7.105615      905        129       942        121   48.998376   \n",
       "4      4    9.474153      868         96       979        125   46.995127   \n",
       "5      5   11.842691      844         76      1003        129   45.695723   \n",
       "6      6   14.211229      813         49      1034        133   44.017325   \n",
       "7      7   16.579767      801         39      1046        135   43.367623   \n",
       "8      8   18.948305      790         32      1057        139   42.772063   \n",
       "9      9   21.316844      779         24      1068        142   42.176502   \n",
       "10    10   23.685382      775         22      1072        144   41.959935   \n",
       "11    11   26.053920      769         19      1078        147   41.635084   \n",
       "12    12   28.422458      764         16      1083        149   41.364375   \n",
       "13    13   30.790996      760         15      1087        152   41.147807   \n",
       "14    14   33.159534      755         13      1092        155   40.877098   \n",
       "15    15   35.528073      753         12      1094        156   40.768814   \n",
       "16    16   37.896611      751         11      1096        157   40.660531   \n",
       "17    17   40.265149      747         11      1100        161   40.443963   \n",
       "18    18   42.633687      746         11      1101        162   40.389821   \n",
       "19    19   45.002225      745         11      1102        163   40.335679   \n",
       "20    20   47.370763      744         11      1103        164   40.281538   \n",
       "21    21   49.739302      743         11      1104        165   40.227396   \n",
       "22    22   52.107840      743         11      1104        165   40.227396   \n",
       "23    23   54.476378      742         11      1105        166   40.173254   \n",
       "24    24   56.844916      740         10      1107        167   40.064970   \n",
       "25    25   59.213454      738         10      1109        169   39.956687   \n",
       "26    26   61.581992      738         10      1109        169   39.956687   \n",
       "27    27   63.950531      737         10      1110        170   39.902545   \n",
       "28    28   66.319069      734          9      1113        172   39.740119   \n",
       "29    29   68.687607      734          9      1113        172   39.740119   \n",
       "..   ...         ...      ...        ...       ...        ...         ...   \n",
       "71    71  168.166210      663          9      1184        243   35.896048   \n",
       "72    72  170.534748      660          9      1187        246   35.733622   \n",
       "73    73  172.903286      658          9      1189        248   35.625338   \n",
       "74    74  175.271825      655          9      1192        251   35.462913   \n",
       "75    75  177.640363      654          8      1193        251   35.408771   \n",
       "76    76  180.008901      654          8      1193        251   35.408771   \n",
       "77    77  182.377439      653          8      1194        252   35.354629   \n",
       "78    78  184.745977      649          8      1198        256   35.138062   \n",
       "79    79  187.114515      646          8      1201        259   34.975636   \n",
       "80    80  189.483054      643          8      1204        262   34.813211   \n",
       "81    81  191.851592      642          8      1205        263   34.759069   \n",
       "82    82  194.220130      639          8      1208        266   34.596643   \n",
       "83    83  196.588668      638          8      1209        267   34.542501   \n",
       "84    84  198.957206      636          8      1211        269   34.434218   \n",
       "85    85  201.325744      634          8      1213        271   34.325934   \n",
       "86    86  203.694283      632          8      1215        273   34.217650   \n",
       "87    87  206.062821      632          8      1215        273   34.217650   \n",
       "88    88  208.431359      631          8      1216        274   34.163508   \n",
       "89    89  210.799897      629          8      1218        276   34.055225   \n",
       "90    90  213.168435      627          8      1220        278   33.946941   \n",
       "91    91  215.536973      627          8      1220        278   33.946941   \n",
       "92    92  217.905512      626          8      1221        279   33.892799   \n",
       "93    93  220.274050      620          7      1227        284   33.567948   \n",
       "94    94  222.642588      620          7      1227        284   33.567948   \n",
       "95    95  225.011126      617          7      1230        287   33.405522   \n",
       "96    96  227.379664      616          7      1231        288   33.351381   \n",
       "97    97  229.748202      613          7      1234        291   33.188955   \n",
       "98    98  232.116741      611          7      1236        293   33.080671   \n",
       "99    99  234.485279      609          7      1238        295   32.972388   \n",
       "100  100  236.853817      609          7      1238        295   32.972388   \n",
       "\n",
       "          negP  muellidsP       posP  \n",
       "0    51.434759   0.000000   0.000000  \n",
       "1    21.277748  35.192204   5.035192  \n",
       "2    12.560910  44.721169   5.847320  \n",
       "3     6.984299  51.001624   6.551164  \n",
       "4     5.197618  53.004873   6.767731  \n",
       "5     4.114781  54.304277   6.984299  \n",
       "6     2.652951  55.982675   7.200866  \n",
       "7     2.111532  56.632377   7.309150  \n",
       "8     1.732539  57.227937   7.525717  \n",
       "9     1.299404  57.823498   7.688143  \n",
       "10    1.191121  58.040065   7.796427  \n",
       "11    1.028695  58.364916   7.958852  \n",
       "12    0.866270  58.635625   8.067136  \n",
       "13    0.812128  58.852193   8.229561  \n",
       "14    0.703844  59.122902   8.391987  \n",
       "15    0.649702  59.231186   8.446129  \n",
       "16    0.595560  59.339469   8.500271  \n",
       "17    0.595560  59.556037   8.716838  \n",
       "18    0.595560  59.610179   8.770980  \n",
       "19    0.595560  59.664321   8.825122  \n",
       "20    0.595560  59.718462   8.879264  \n",
       "21    0.595560  59.772604   8.933406  \n",
       "22    0.595560  59.772604   8.933406  \n",
       "23    0.595560  59.826746   8.987547  \n",
       "24    0.541419  59.935030   9.041689  \n",
       "25    0.541419  60.043313   9.149973  \n",
       "26    0.541419  60.043313   9.149973  \n",
       "27    0.541419  60.097455   9.204115  \n",
       "28    0.487277  60.259881   9.312398  \n",
       "29    0.487277  60.259881   9.312398  \n",
       "..         ...        ...        ...  \n",
       "71    0.487277  64.103952  13.156470  \n",
       "72    0.487277  64.266378  13.318896  \n",
       "73    0.487277  64.374662  13.427179  \n",
       "74    0.487277  64.537087  13.589605  \n",
       "75    0.433135  64.591229  13.589605  \n",
       "76    0.433135  64.591229  13.589605  \n",
       "77    0.433135  64.645371  13.643747  \n",
       "78    0.433135  64.861938  13.860314  \n",
       "79    0.433135  65.024364  14.022740  \n",
       "80    0.433135  65.186789  14.185165  \n",
       "81    0.433135  65.240931  14.239307  \n",
       "82    0.433135  65.403357  14.401733  \n",
       "83    0.433135  65.457499  14.455874  \n",
       "84    0.433135  65.565782  14.564158  \n",
       "85    0.433135  65.674066  14.672442  \n",
       "86    0.433135  65.782350  14.780726  \n",
       "87    0.433135  65.782350  14.780726  \n",
       "88    0.433135  65.836492  14.834867  \n",
       "89    0.433135  65.944775  14.943151  \n",
       "90    0.433135  66.053059  15.051435  \n",
       "91    0.433135  66.053059  15.051435  \n",
       "92    0.433135  66.107201  15.105577  \n",
       "93    0.378993  66.432052  15.376286  \n",
       "94    0.378993  66.432052  15.376286  \n",
       "95    0.378993  66.594478  15.538711  \n",
       "96    0.378993  66.648619  15.592853  \n",
       "97    0.378993  66.811045  15.755279  \n",
       "98    0.378993  66.919329  15.863563  \n",
       "99    0.378993  67.027612  15.971846  \n",
       "100   0.378993  67.027612  15.971846  \n",
       "\n",
       "[101 rows x 10 columns]"
      ]
     },
     "execution_count": 455,
     "metadata": {},
     "output_type": "execute_result"
    },
    {
     "data": {
      "text/html": [
       "<b>limit_output extension: Maximum message size of 10000 exceeded with 15889 characters</b>"
      ]
     },
     "metadata": {},
     "output_type": "display_data"
    }
   ],
   "source": [
    "dfmystat"
   ]
  },
  {
   "cell_type": "code",
   "execution_count": 473,
   "metadata": {
    "ExecuteTime": {
     "end_time": "2017-02-23T22:57:40.119736",
     "start_time": "2017-02-23T22:57:40.053991"
    },
    "collapsed": false
   },
   "outputs": [],
   "source": [
    "dfmystat['restidsP'] = 100*dfmystat.restids/dfmystat.restids.max()"
   ]
  },
  {
   "cell_type": "code",
   "execution_count": 474,
   "metadata": {
    "ExecuteTime": {
     "end_time": "2017-02-23T22:57:40.271682",
     "start_time": "2017-02-23T22:57:40.123540"
    },
    "collapsed": true
   },
   "outputs": [],
   "source": [
    "dfmystat['negP'] = 100*dfmystat.negatives/dfmystat.restids.max()"
   ]
  },
  {
   "cell_type": "code",
   "execution_count": 475,
   "metadata": {
    "ExecuteTime": {
     "end_time": "2017-02-23T22:57:40.457388",
     "start_time": "2017-02-23T22:57:40.275438"
    },
    "collapsed": true
   },
   "outputs": [],
   "source": [
    "dfmystat['muellidsP'] = 100*dfmystat.muellids/dfmystat.restids.max()"
   ]
  },
  {
   "cell_type": "code",
   "execution_count": 476,
   "metadata": {
    "ExecuteTime": {
     "end_time": "2017-02-23T22:57:40.595361",
     "start_time": "2017-02-23T22:57:40.461566"
    },
    "collapsed": true
   },
   "outputs": [],
   "source": [
    "dfmystat['posP'] = 100*dfmystat.positives/dfmystat.restids.max()"
   ]
  },
  {
   "cell_type": "code",
   "execution_count": 519,
   "metadata": {
    "ExecuteTime": {
     "end_time": "2017-02-23T23:32:31.363421",
     "start_time": "2017-02-23T23:32:30.900544"
    },
    "collapsed": false
   },
   "outputs": [
    {
     "data": {
      "text/plain": [
       "<matplotlib.text.Text at 0x7f0668604908>"
      ]
     },
     "execution_count": 519,
     "metadata": {},
     "output_type": "execute_result"
    },
    {
     "data": {
      "image/png": "[encoded data removed]",
      "text/plain": [
       "<matplotlib.figure.Figure at 0x7f06684914e0>"
      ]
     },
     "metadata": {},
     "output_type": "display_data"
    }
   ],
   "source": [
    "fig, ax = plt.subplots()\n",
    "ax = dfmystat.plot(x='i', y=['muellidsP', 'restidsP','posP', 'negP'], stacked=False, kind='area', alpha=0.5, ax=ax, colormap='summer', xlim=(0,50))\n",
    "ax.legend(['discarded IDs', 'remaining IDs', 'remaining IDs - neg age', 'discarded IDs - pos age'])\n",
    "ax.set_xlabel('CutOff - X Percent of mean detections (mean=147, 5min)')\n",
    "ax.set_ylabel('Total IDs in %')\n",
    "ax.set_title('CutOff - Discarding IDs \\n with a low number of detections (95%)')\n",
    "\n",
    "plt.axvline(10, color='0.25', linestyle='dashed', linewidth=1)\n",
    "plt.text(8,90,'10%',rotation=90)\n",
    "\n",
    "plt.axhline(3, color='0.25', linestyle='dotted', linewidth=1)\n",
    "plt.text(15,4,'3%',rotation=0)\n",
    "\n",
    "plt.axhline(9, color='0.25', linestyle='dotted', linewidth=1)\n",
    "plt.text(15,10,'9%',rotation=0)\n",
    "\n",
    "plt.axhline(61, color='0.25', linestyle='dotted', linewidth=1)\n",
    "plt.text(15,62,'61%',rotation=0)\n",
    "\n",
    "plt.axhline(39, color='0.25', linestyle='dotted', linewidth=1)\n",
    "plt.text(15,40,'39%',rotation=0)"
   ]
  },
  {
   "cell_type": "code",
   "execution_count": 454,
   "metadata": {
    "ExecuteTime": {
     "end_time": "2017-02-23T22:44:58.343274",
     "start_time": "2017-02-23T22:44:57.971725"
    },
    "collapsed": false,
    "scrolled": true
   },
   "outputs": [
    {
     "data": {
      "image/png": "[encoded data removed]",
      "text/plain": [
       "<matplotlib.figure.Figure at 0x7f06673b95c0>"
      ]
     },
     "metadata": {},
     "output_type": "display_data"
    }
   ],
   "source": [
    "fig, ax = plt.subplots()\n",
    "ax = dfmystat.plot(x='i', y=['muellidsP', 'restidsP','posP', 'negP'], stacked=False, kind='area', alpha=0.5, ax=ax, colormap='summer', xlim=(0,20))"
   ]
  },
  {
   "cell_type": "code",
   "execution_count": 424,
   "metadata": {
    "ExecuteTime": {
     "end_time": "2017-02-23T22:30:54.868816",
     "start_time": "2017-02-23T22:30:54.507286"
    },
    "collapsed": false
   },
   "outputs": [
    {
     "data": {
      "image/png": "[encoded data removed]",
      "text/plain": [
       "<matplotlib.figure.Figure at 0x7f06676be588>"
      ]
     },
     "metadata": {},
     "output_type": "display_data"
    }
   ],
   "source": [
    "fig, ax = plt.subplots()\n",
    "ax = dfmystat.plot(x='i', y=['muellidsP', 'restidsP','posP', 'negP'], stacked=False, kind='area', alpha=0.5, ax=ax, colormap='summer', xlim=(0,20))"
   ]
  },
  {
   "cell_type": "code",
   "execution_count": 417,
   "metadata": {
    "ExecuteTime": {
     "end_time": "2017-02-23T22:21:08.533954",
     "start_time": "2017-02-23T22:21:08.201475"
    },
    "collapsed": false
   },
   "outputs": [
    {
     "data": {
      "image/png": "[encoded data removed]",
      "text/plain": [
       "<matplotlib.figure.Figure at 0x7f06673b62e8>"
      ]
     },
     "metadata": {},
     "output_type": "display_data"
    }
   ],
   "source": [
    "fig, ax = plt.subplots()\n",
    "ax = dfmystat.plot(x='i', y=['muellidsP', 'posP'], stacked=False, kind='area', alpha=0.75, ax=ax, colormap='summer', xlim=(0,100))"
   ]
  },
  {
   "cell_type": "code",
   "execution_count": 562,
   "metadata": {
    "ExecuteTime": {
     "end_time": "2017-02-24T00:02:08.412160",
     "start_time": "2017-02-24T00:02:08.367817"
    },
    "collapsed": true
   },
   "outputs": [],
   "source": [
    "def removeDetections(df, cutoff=10):\n",
    "    idstat = df.groupby(by='id').size()\n",
    "    m = idstat.mean()\n",
    "    boder = cutoff*m/100\n",
    "    keepIDs = idstat[idstat >= border]\n",
    "    keepIDs = list(keepIDs.index.values)\n",
    "    \n",
    "    # remove detections with trashIDs from df\n",
    "    leftOver = side[side.id.isin(keepIds)]\n",
    "    \n",
    "    return leftOver"
   ]
  },
  {
   "cell_type": "code",
   "execution_count": 563,
   "metadata": {
    "ExecuteTime": {
     "end_time": "2017-02-24T00:02:31.838082",
     "start_time": "2017-02-24T00:02:31.696714"
    },
    "collapsed": false,
    "scrolled": false
   },
   "outputs": [],
   "source": [
    "leftOver = removeDetections(side, 10)"
   ]
  },
  {
   "cell_type": "code",
   "execution_count": 565,
   "metadata": {
    "ExecuteTime": {
     "end_time": "2017-02-24T00:02:47.247216",
     "start_time": "2017-02-24T00:02:47.218015"
    },
    "collapsed": false
   },
   "outputs": [
    {
     "data": {
      "text/plain": [
       "(275924, 11)"
      ]
     },
     "execution_count": 565,
     "metadata": {},
     "output_type": "execute_result"
    }
   ],
   "source": [
    "leftOver.shape"
   ]
  },
  {
   "cell_type": "code",
   "execution_count": 566,
   "metadata": {
    "ExecuteTime": {
     "end_time": "2017-02-24T00:02:53.811462",
     "start_time": "2017-02-24T00:02:53.775966"
    },
    "collapsed": false
   },
   "outputs": [
    {
     "data": {
      "text/plain": [
       "(291468, 11)"
      ]
     },
     "execution_count": 566,
     "metadata": {},
     "output_type": "execute_result"
    }
   ],
   "source": [
    "side.shape[0]"
   ]
  },
  {
   "cell_type": "code",
   "execution_count": null,
   "metadata": {
    "collapsed": true
   },
   "outputs": [],
   "source": [
    "side.shape[0]-leftOver.shape[0]"
   ]
  }
 ],
 "metadata": {
  "kernelspec": {
   "display_name": "Python 3",
   "language": "python",
   "name": "python3"
  },
  "language_info": {
   "codemirror_mode": {
    "name": "ipython",
    "version": 3
   },
   "file_extension": ".py",
   "mimetype": "text/x-python",
   "name": "python",
   "nbconvert_exporter": "python",
   "pygments_lexer": "ipython3",
   "version": "3.5.2"
  },
  "toc": {
   "colors": {
    "hover_highlight": "#DAA520",
    "running_highlight": "#FF0000",
    "selected_highlight": "#FFD700"
   },
   "moveMenuLeft": true,
   "nav_menu": {
    "height": "425px",
    "width": "252px"
   },
   "navigate_menu": true,
   "number_sections": true,
   "sideBar": true,
   "threshold": 4,
   "toc_cell": false,
   "toc_section_display": "block",
   "toc_window_display": false
  }
 },
 "nbformat": 4,
 "nbformat_minor": 2
}
