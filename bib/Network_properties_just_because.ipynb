{
 "cells": [
  {
   "cell_type": "code",
   "execution_count": 15,
   "metadata": {
    "collapsed": true
   },
   "outputs": [],
   "source": [
    "import networkx as nx\n",
    "import preprocessing as prep\n",
    "import numpy as np\n",
    "import pandas as pd\n",
    "import json\n",
    "import matplotlib.pyplot as plt\n",
    "\n",
    "from collections import Counter\n",
    "from bb_binary import load_frame_container, Repository\n",
    "from pandas import Series, DataFrame\n",
    "%matplotlib inline"
   ]
  },
  {
   "cell_type": "markdown",
   "metadata": {},
   "source": [
    "# Tagesnetzwerk 2015/08/22\n",
    "* confidence: 0.95\n",
    "* max distance: 160px\n",
    "* interaction length: 3 frames"
   ]
  },
  {
   "cell_type": "code",
   "execution_count": 16,
   "metadata": {
    "collapsed": true
   },
   "outputs": [],
   "source": [
    "file_name = \"1day20150822_0.95conf_160dist_3ilen.graphml\""
   ]
  },
  {
   "cell_type": "code",
   "execution_count": 40,
   "metadata": {
    "collapsed": false
   },
   "outputs": [],
   "source": [
    "G = nx.read_graphml(\"1day20150822_0.95conf_160dist_3ilen.graphml\")"
   ]
  },
  {
   "cell_type": "code",
   "execution_count": 41,
   "metadata": {
    "collapsed": false
   },
   "outputs": [
    {
     "name": "stdout",
     "output_type": "stream",
     "text": [
      "Name: \n",
      "Type: Graph\n",
      "Number of nodes: 2461\n",
      "Number of edges: 325975\n",
      "Average degree: 264.9126\n"
     ]
    }
   ],
   "source": [
    "print(nx.info(G))"
   ]
  },
  {
   "cell_type": "markdown",
   "metadata": {},
   "source": [
    "## Density (ungefiltert)"
   ]
  },
  {
   "cell_type": "code",
   "execution_count": 18,
   "metadata": {
    "collapsed": true
   },
   "outputs": [],
   "source": [
    "degrees = G.degree().values()"
   ]
  },
  {
   "cell_type": "code",
   "execution_count": 19,
   "metadata": {
    "collapsed": false
   },
   "outputs": [],
   "source": [
    "s = Series(list(degrees))"
   ]
  },
  {
   "cell_type": "code",
   "execution_count": 6,
   "metadata": {
    "collapsed": true
   },
   "outputs": [],
   "source": [
    "gd = nx.density(G)"
   ]
  },
  {
   "cell_type": "code",
   "execution_count": 7,
   "metadata": {
    "collapsed": false
   },
   "outputs": [
    {
     "name": "stdout",
     "output_type": "stream",
     "text": [
      "Density: 0.10768806387779441\n"
     ]
    }
   ],
   "source": [
    "print(\"Density: {}\".format(gd))"
   ]
  },
  {
   "cell_type": "markdown",
   "metadata": {},
   "source": [
    "Wenn man jetzt mal annimmt, dass dieses Netzwerk irgendwie Sinn macht, dann kann man sich mal ein paar Eigenschaften anschauen."
   ]
  },
  {
   "cell_type": "markdown",
   "metadata": {},
   "source": [
    "# Degree distribution (ungefiltert)"
   ]
  },
  {
   "cell_type": "code",
   "execution_count": 21,
   "metadata": {
    "collapsed": false
   },
   "outputs": [
    {
     "data": {
      "text/plain": [
       "<matplotlib.axes._subplots.AxesSubplot at 0x7f2411a9e780>"
      ]
     },
     "execution_count": 21,
     "metadata": {},
     "output_type": "execute_result"
    },
    {
     "data": {
      "image/png": "[encoded data removed]",
      "text/plain": [
       "<matplotlib.figure.Figure at 0x7f2411ad85c0>"
      ]
     },
     "metadata": {},
     "output_type": "display_data"
    }
   ],
   "source": [
    "fig, ax = plt.subplots()\n",
    "s.hist(ax=ax, bins=50)"
   ]
  },
  {
   "cell_type": "code",
   "execution_count": 22,
   "metadata": {
    "collapsed": false
   },
   "outputs": [
    {
     "data": {
      "image/png": "[encoded data removed]",
      "text/plain": [
       "<matplotlib.figure.Figure at 0x7f2411aa1240>"
      ]
     },
     "metadata": {},
     "output_type": "display_data"
    }
   ],
   "source": [
    "fig, ax = plt.subplots()\n",
    "s.hist(ax=ax, bins=50, bottom=0.1)\n",
    "ax.set_yscale('log')"
   ]
  },
  {
   "cell_type": "code",
   "execution_count": 23,
   "metadata": {
    "collapsed": false
   },
   "outputs": [],
   "source": [
    "c = Counter(s)"
   ]
  },
  {
   "cell_type": "code",
   "execution_count": 24,
   "metadata": {
    "collapsed": false
   },
   "outputs": [
    {
     "data": {
      "text/plain": [
       "count    2461.000000\n",
       "mean      264.912637\n",
       "std       330.734505\n",
       "min         1.000000\n",
       "25%         2.000000\n",
       "50%         8.000000\n",
       "75%       645.000000\n",
       "max       965.000000\n",
       "dtype: float64"
      ]
     },
     "execution_count": 24,
     "metadata": {},
     "output_type": "execute_result"
    }
   ],
   "source": [
    "s.describe()"
   ]
  },
  {
   "cell_type": "markdown",
   "metadata": {},
   "source": [
    "# Edge weights distribution"
   ]
  },
  {
   "cell_type": "code",
   "execution_count": 25,
   "metadata": {
    "collapsed": false,
    "scrolled": false
   },
   "outputs": [],
   "source": [
    "l = []"
   ]
  },
  {
   "cell_type": "code",
   "execution_count": 26,
   "metadata": {
    "collapsed": true
   },
   "outputs": [],
   "source": [
    "for e in G.edges():\n",
    "    l.append(G.get_edge_data(e[0],e[1]).get(\"weight\"))"
   ]
  },
  {
   "cell_type": "code",
   "execution_count": 27,
   "metadata": {
    "collapsed": false
   },
   "outputs": [],
   "source": [
    "edge_weights = Series(l)"
   ]
  },
  {
   "cell_type": "code",
   "execution_count": 28,
   "metadata": {
    "collapsed": false
   },
   "outputs": [
    {
     "data": {
      "text/plain": [
       "<matplotlib.axes._subplots.AxesSubplot at 0x7f2424091240>"
      ]
     },
     "execution_count": 28,
     "metadata": {},
     "output_type": "execute_result"
    },
    {
     "data": {
      "image/png": "[encoded data removed]",
      "text/plain": [
       "<matplotlib.figure.Figure at 0x7f24240acb38>"
      ]
     },
     "metadata": {},
     "output_type": "display_data"
    }
   ],
   "source": [
    "edge_weights.hist(bins=62)"
   ]
  },
  {
   "cell_type": "code",
   "execution_count": 29,
   "metadata": {
    "collapsed": false
   },
   "outputs": [
    {
     "data": {
      "image/png": "[encoded data removed]",
      "text/plain": [
       "<matplotlib.figure.Figure at 0x7f2423c2c780>"
      ]
     },
     "metadata": {},
     "output_type": "display_data"
    }
   ],
   "source": [
    "fig, ax = plt.subplots()\n",
    "edge_weights.hist(ax=ax, bins=62, bottom=0.1)\n",
    "ax.set_yscale('log')"
   ]
  },
  {
   "cell_type": "code",
   "execution_count": 30,
   "metadata": {
    "collapsed": false
   },
   "outputs": [
    {
     "data": {
      "text/plain": [
       "count    325975.000000\n",
       "mean          1.962700\n",
       "std           2.209585\n",
       "min           1.000000\n",
       "25%           1.000000\n",
       "50%           1.000000\n",
       "75%           2.000000\n",
       "max          62.000000\n",
       "dtype: float64"
      ]
     },
     "execution_count": 30,
     "metadata": {},
     "output_type": "execute_result"
    }
   ],
   "source": [
    "edge_weights.describe()"
   ]
  },
  {
   "cell_type": "code",
   "execution_count": 31,
   "metadata": {
    "collapsed": false
   },
   "outputs": [],
   "source": [
    "ew = Counter(edge_weights)"
   ]
  },
  {
   "cell_type": "markdown",
   "metadata": {},
   "source": [
    "## Remove edges with weight 1\n",
    "Welche Kanten entfernt werden (thesholding) wird weiter unten genauer untersucht. Hier werden erstmal nur Kanten mit Gewicht 1 entfernt."
   ]
  },
  {
   "cell_type": "code",
   "execution_count": 32,
   "metadata": {
    "collapsed": true
   },
   "outputs": [],
   "source": [
    "G1 = G.copy()"
   ]
  },
  {
   "cell_type": "code",
   "execution_count": 33,
   "metadata": {
    "collapsed": true
   },
   "outputs": [],
   "source": [
    "for e in G1.edges():\n",
    "    if (G1.get_edge_data(e[0],e[1]).get(\"weight\") < 2):\n",
    "        G1.remove_edge(e[0],e[1])"
   ]
  },
  {
   "cell_type": "code",
   "execution_count": 44,
   "metadata": {
    "collapsed": false
   },
   "outputs": [
    {
     "name": "stdout",
     "output_type": "stream",
     "text": [
      "Name: \n",
      "Type: Graph\n",
      "Number of nodes: 2461\n",
      "Number of edges: 125003\n",
      "Average degree: 101.5872\n"
     ]
    }
   ],
   "source": [
    "print(nx.info(G1))"
   ]
  },
  {
   "cell_type": "code",
   "execution_count": 45,
   "metadata": {
    "collapsed": false
   },
   "outputs": [
    {
     "name": "stdout",
     "output_type": "stream",
     "text": [
      "Name: \n",
      "Type: Graph\n",
      "Number of nodes: 2461\n",
      "Number of edges: 325975\n",
      "Average degree: 264.9126\n"
     ]
    }
   ],
   "source": [
    "print(nx.info(G))"
   ]
  },
  {
   "cell_type": "code",
   "execution_count": 47,
   "metadata": {
    "collapsed": false
   },
   "outputs": [
    {
     "data": {
      "text/plain": [
       "38.34741928061968"
      ]
     },
     "execution_count": 47,
     "metadata": {},
     "output_type": "execute_result"
    }
   ],
   "source": [
    "G1.number_of_edges()*100/G.number_of_edges()"
   ]
  },
  {
   "cell_type": "code",
   "execution_count": 20,
   "metadata": {
    "collapsed": false
   },
   "outputs": [],
   "source": [
    "# nx.write_graphml(G1,\"1day20150822_0.95conf_160dist_3ilen_filtered.graphml\")"
   ]
  },
  {
   "cell_type": "markdown",
   "metadata": {},
   "source": [
    "## Global structure (network level metrics)\n",
    "\n",
    "- [X] number of components (size distribution of components)\n",
    "- [X] diameter (for biggest component!)\n",
    "- [X] size of biggest component\n",
    "- [X] size - nodes and edges\n",
    "\n",
    "\n",
    "- [X] density\n",
    "- [X] mean/average degree\n",
    "- [X] degree distribution\n",
    "- [X] global clustering coefficient (also for biggest component)\n",
    "\n",
    "\n",
    "- [X] average path length"
   ]
  },
  {
   "cell_type": "markdown",
   "metadata": {},
   "source": [
    "### Number of components and size distribution"
   ]
  },
  {
   "cell_type": "code",
   "execution_count": 48,
   "metadata": {
    "collapsed": false
   },
   "outputs": [
    {
     "name": "stdout",
     "output_type": "stream",
     "text": [
      "Number of components: 964\n"
     ]
    },
    {
     "data": {
      "text/plain": [
       "Counter({1: 963, 1498: 1})"
      ]
     },
     "execution_count": 48,
     "metadata": {},
     "output_type": "execute_result"
    }
   ],
   "source": [
    "# only for biggest subgraph\n",
    "Gcc = sorted(nx.connected_component_subgraphs(G1), key = len, reverse=True)\n",
    "print(\"Number of components: {}\".format(len(Gcc)))\n",
    "\n",
    "size_components = []\n",
    "for comp in Gcc:\n",
    "    size_components.append(nx.number_of_nodes(comp))\n",
    "    \n",
    "Counter(list(size_components))"
   ]
  },
  {
   "cell_type": "markdown",
   "metadata": {},
   "source": [
    "There is one big component with 1498 nodes."
   ]
  },
  {
   "cell_type": "markdown",
   "metadata": {},
   "source": [
    "### Biggest component"
   ]
  },
  {
   "cell_type": "markdown",
   "metadata": {},
   "source": [
    "#### Diameter"
   ]
  },
  {
   "cell_type": "code",
   "execution_count": 51,
   "metadata": {
    "collapsed": false
   },
   "outputs": [
    {
     "name": "stdout",
     "output_type": "stream",
     "text": [
      "Diameter: 4\n"
     ]
    }
   ],
   "source": [
    "G0 = Gcc[0]\n",
    "diameter = nx.diameter(G0)\n",
    "print(\"Diameter: {}\".format(diameter))"
   ]
  },
  {
   "cell_type": "markdown",
   "metadata": {},
   "source": [
    "#### Nodes and Edges"
   ]
  },
  {
   "cell_type": "code",
   "execution_count": 52,
   "metadata": {
    "collapsed": false
   },
   "outputs": [
    {
     "name": "stdout",
     "output_type": "stream",
     "text": [
      "Number of nodes: 1498\n",
      "Number of edges: 125003\n"
     ]
    }
   ],
   "source": [
    "g0n = nx.number_of_nodes(G0)\n",
    "g0e = nx.number_of_edges(G0)\n",
    "print(\"Number of nodes: {}\".format(g0n))\n",
    "print(\"Number of edges: {}\".format(g0e))"
   ]
  },
  {
   "cell_type": "markdown",
   "metadata": {},
   "source": [
    "#### Density"
   ]
  },
  {
   "cell_type": "code",
   "execution_count": 54,
   "metadata": {
    "collapsed": false
   },
   "outputs": [
    {
     "name": "stdout",
     "output_type": "stream",
     "text": [
      "Density: 0.11148509747577041\n"
     ]
    }
   ],
   "source": [
    "density = nx.density(G0)\n",
    "print(\"Density: {}\".format(density))"
   ]
  },
  {
   "cell_type": "markdown",
   "metadata": {},
   "source": [
    "#### Average Degree"
   ]
  },
  {
   "cell_type": "code",
   "execution_count": 37,
   "metadata": {
    "collapsed": false
   },
   "outputs": [
    {
     "name": "stdout",
     "output_type": "stream",
     "text": [
      "Average degree: 166.8931909212283\n"
     ]
    }
   ],
   "source": [
    "degrees = G0.degree().values()\n",
    "average_degree = sum(degrees)/g0n\n",
    "print(\"Average degree: {}\".format(average_degree))"
   ]
  },
  {
   "cell_type": "markdown",
   "metadata": {},
   "source": [
    "#### Degree Distribution"
   ]
  },
  {
   "cell_type": "code",
   "execution_count": 55,
   "metadata": {
    "collapsed": false
   },
   "outputs": [],
   "source": [
    "degree_distribution = Series(list(degrees))"
   ]
  },
  {
   "cell_type": "code",
   "execution_count": 56,
   "metadata": {
    "collapsed": false
   },
   "outputs": [
    {
     "data": {
      "image/png": "[encoded data removed]",
      "text/plain": [
       "<matplotlib.figure.Figure at 0x7f24208e85f8>"
      ]
     },
     "metadata": {},
     "output_type": "display_data"
    }
   ],
   "source": [
    "ax = degree_distribution.hist(bins=100)\n",
    "#ax.set_yscale('log')"
   ]
  },
  {
   "cell_type": "code",
   "execution_count": 57,
   "metadata": {
    "collapsed": false
   },
   "outputs": [
    {
     "data": {
      "text/plain": [
       "count    2461.000000\n",
       "mean      264.912637\n",
       "std       330.734505\n",
       "min         1.000000\n",
       "25%         2.000000\n",
       "50%         8.000000\n",
       "75%       645.000000\n",
       "max       965.000000\n",
       "dtype: float64"
      ]
     },
     "execution_count": 57,
     "metadata": {},
     "output_type": "execute_result"
    }
   ],
   "source": [
    "degree_distribution.describe()"
   ]
  },
  {
   "cell_type": "markdown",
   "metadata": {},
   "source": [
    "#### global clustering coefficient"
   ]
  },
  {
   "cell_type": "code",
   "execution_count": 44,
   "metadata": {
    "collapsed": false
   },
   "outputs": [
    {
     "name": "stdout",
     "output_type": "stream",
     "text": [
      "CC: 0.1668284983624336\n",
      "CC biggest component: 0.2740753901668552\n"
     ]
    }
   ],
   "source": [
    "cc = nx.average_clustering(G1)\n",
    "cc0 = nx.average_clustering(G0)\n",
    "print(\"CC: {}\".format(cc))\n",
    "print(\"CC biggest component: {}\".format(cc0))"
   ]
  },
  {
   "cell_type": "markdown",
   "metadata": {},
   "source": [
    "#### Average shortest path length"
   ]
  },
  {
   "cell_type": "code",
   "execution_count": 45,
   "metadata": {
    "collapsed": true
   },
   "outputs": [],
   "source": [
    "average_shortest_path = nx.average_shortest_path_length(G0)"
   ]
  },
  {
   "cell_type": "code",
   "execution_count": 46,
   "metadata": {
    "collapsed": false
   },
   "outputs": [
    {
     "name": "stdout",
     "output_type": "stream",
     "text": [
      "Average shortest path: 2.3117378504226966\n"
     ]
    }
   ],
   "source": [
    "print(\"Average shortest path: {}\".format(average_shortest_path))"
   ]
  },
  {
   "cell_type": "markdown",
   "metadata": {},
   "source": [
    "### Was habe ich nun davon?\n",
    "Jetzt kommen hier irgendwelche Werte raus. Was mach ich mit denen?\n",
    "Ich müsste die ja mit irgendwas vergleichen. Ich könnte die zum Beispiel mit anderen Studien vergleichen.\n",
    "\n",
    "\n",
    "Das mit dem Vergleichen von verschiedenen Netzwerken ist aber doch nicht soooo sinnvoll, bzw. man sollte aufpassen. [cite!]\n",
    "\n",
    "\n",
    "### Density\n",
    "*Mersch - Ameisen*\n",
    "\n",
    "Die haben eine Density von 0.75 (dannach wurden dann edges entfernt um besser die Communities zu finden).\n",
    "Hier ist die Density bei 0.1, bevor ich edges entfernt habe mit kleiner als 2 edge weight. So was sagt das jetzt. Ameisen reden mit allen Ameisen, Bienen wohl anscheinende nicht. Aber Achtung Achtung, verschieden konstruierte Netzwerke lassen sich nur beschränkt vergleichen. Obwohl ich jetzt davon aus gehen würde das das hier ok ist, da meine proximity eigentlich mehr umfassen müsste als Merschs-Interaktions-Ding.\n",
    "\n",
    "*Baracchi - Honey Bees*\n",
    "\n",
    "0.15, very low, compared to random network with same number of nodes and ties (What???? verstehe ich nicht). Hm.\n",
    "Also in dem Bereich bewege ich mich ja anscheinend auch. Das ist ja nett. Haben beide eine Ähnliche definition von interaktion/proximity verwendet.\n",
    "\n",
    "\n",
    "### Vorschlag von TU Menschen from long long ago\n",
    "\n",
    "Comparison with:\n",
    "* A) natural bees Networks (if we can find in the literature)\n",
    "* B) Random geometric graphs (die sehen ganz passend aus irgendwie)\n",
    "* C) mammals networks, e.g. Dolphins (warum würde man das machen wollen?)\n",
    "\n",
    "### Mit Random Graph vergleichen?\n",
    "Wenn ich da wieder drüber nachdenke, dann kann man sich ja einen random graph erzeugen, man hat eine große Auswahl: https://graph-tool.skewed.de/static/doc/generation.html oder http://networkx.readthedocs.io/en/stable/reference/generators.html und dann kann man die Netwerkeigenschaften untereinander vergleichen. Was bringt das denn? Warum sollte ich das machen wollen? Das würde ich doch nur machen wollen, wenn ich etwas bestimmtes zeigen möchte oder? Ich habe keine Ahnung was ich hier mit machen soll!"
   ]
  },
  {
   "cell_type": "markdown",
   "metadata": {},
   "source": [
    "### Is it a real network? Or created by chance? Does it make a difference?\n",
    "* degree distribution (not biniminal/poisson) - ja sieht nicht binominalverteilt aus, sieht ziemlich nach scale free, wenige hubs, viele knote mit wenig links (aber komischer Berg auf der rechten Seite!)\n",
    "* connectedness (giant component) - ja sieht ziemlich verbunden aus alles, gibt nur eine große komponente\n",
    "* average path length (~diameter) - ist hier auch ziemlich klein, Small-world phenomenon, $d = \\frac{\\ln nodes}{\\ln av degree}$\n",
    "* clustering coefficient - müsste höher sein als bei einem random network, jep ist es auch"
   ]
  },
  {
   "cell_type": "code",
   "execution_count": 89,
   "metadata": {
    "collapsed": false
   },
   "outputs": [],
   "source": [
    "random_g0 = nx.erdos_renyi_graph(n=nx.number_of_nodes(G0), p=density)"
   ]
  },
  {
   "cell_type": "code",
   "execution_count": 90,
   "metadata": {
    "collapsed": false
   },
   "outputs": [
    {
     "data": {
      "text/plain": [
       "'Name: gnp_random_graph(1498,0.11148509747577041)\\nType: Graph\\nNumber of nodes: 1498\\nNumber of edges: 125148\\nAverage degree: 167.0868'"
      ]
     },
     "execution_count": 90,
     "metadata": {},
     "output_type": "execute_result"
    }
   ],
   "source": [
    "nx.info(random_g0)"
   ]
  },
  {
   "cell_type": "code",
   "execution_count": 91,
   "metadata": {
    "collapsed": false
   },
   "outputs": [
    {
     "data": {
      "text/plain": [
       "125003"
      ]
     },
     "execution_count": 91,
     "metadata": {},
     "output_type": "execute_result"
    }
   ],
   "source": [
    "nx.number_of_edges(G0)"
   ]
  },
  {
   "cell_type": "code",
   "execution_count": 92,
   "metadata": {
    "collapsed": false
   },
   "outputs": [
    {
     "data": {
      "text/plain": [
       "0.11170937857183524"
      ]
     },
     "execution_count": 92,
     "metadata": {},
     "output_type": "execute_result"
    }
   ],
   "source": [
    "nx.average_clustering(random_g0)"
   ]
  },
  {
   "cell_type": "code",
   "execution_count": 93,
   "metadata": {
    "collapsed": false
   },
   "outputs": [
    {
     "data": {
      "text/plain": [
       "0.27407539016685495"
      ]
     },
     "execution_count": 93,
     "metadata": {},
     "output_type": "execute_result"
    }
   ],
   "source": [
    "nx.average_clustering(G0)"
   ]
  },
  {
   "cell_type": "markdown",
   "metadata": {},
   "source": [
    "So was hat man nun davon, man weiß jetzt das genau dieses Netzwerk kein random Netzwerk ist. Jetzt weiß ich es ist ein echtes Netzwerk. Scale-free, small world. D.h, wenn man jetzt eine bestimmte Eigenschaft des echten Netzwerks untersucht, dann kann man diese auch im random Netzwerk untersuchen. Gibt es die dort auch, dann ensteht es durch zufall, wenn nicht, dann ist dies Eigenschaft durch irgendwas entstanden. Was/wann bringt einem das was???"
   ]
  },
  {
   "cell_type": "markdown",
   "metadata": {},
   "source": [
    "Was ist mit Centralisation (degree, closeness, usw.)?"
   ]
  },
  {
   "cell_type": "markdown",
   "metadata": {},
   "source": [
    "## Local structure (node level metrics)\n",
    "- [X] node degree - look at degree distribution\n",
    "- [X] centrality measures (degree, closeness, betweenness, eigenvector)\n",
    "- [O] edge weights (siehe ganz oben)"
   ]
  },
  {
   "cell_type": "markdown",
   "metadata": {},
   "source": [
    "### Degree distribution"
   ]
  },
  {
   "cell_type": "code",
   "execution_count": 68,
   "metadata": {
    "collapsed": false
   },
   "outputs": [
    {
     "data": {
      "image/png": "[encoded data removed]",
      "text/plain": [
       "<matplotlib.figure.Figure at 0x7f242025fe10>"
      ]
     },
     "metadata": {},
     "output_type": "display_data"
    }
   ],
   "source": [
    "ax = degree_distribution.hist(bins=50)"
   ]
  },
  {
   "cell_type": "markdown",
   "metadata": {},
   "source": [
    "It is a bit strange that on the right is a little hill :)"
   ]
  },
  {
   "cell_type": "markdown",
   "metadata": {},
   "source": [
    "### Degree centrality\n",
    "http://networkx.readthedocs.io/en/stable/reference/generated/networkx.algorithms.centrality.degree_centrality.html#degree-centrality"
   ]
  },
  {
   "cell_type": "code",
   "execution_count": 69,
   "metadata": {
    "collapsed": true
   },
   "outputs": [],
   "source": [
    "import operator"
   ]
  },
  {
   "cell_type": "code",
   "execution_count": 70,
   "metadata": {
    "collapsed": false
   },
   "outputs": [],
   "source": [
    "dc = nx.degree_centrality(G0)\n",
    "sorted_dc = sorted(dc.items(), key=operator.itemgetter(1))"
   ]
  },
  {
   "cell_type": "code",
   "execution_count": 71,
   "metadata": {
    "collapsed": false,
    "scrolled": false
   },
   "outputs": [
    {
     "data": {
      "text/plain": [
       "<matplotlib.axes._subplots.AxesSubplot at 0x7f242011b780>"
      ]
     },
     "execution_count": 71,
     "metadata": {},
     "output_type": "execute_result"
    },
    {
     "data": {
      "image/png": "[encoded data removed]",
      "text/plain": [
       "<matplotlib.figure.Figure at 0x7f2420077860>"
      ]
     },
     "metadata": {},
     "output_type": "display_data"
    }
   ],
   "source": [
    "Series(dc).hist(bins=50)"
   ]
  },
  {
   "cell_type": "markdown",
   "metadata": {},
   "source": [
    "### Closeness centrality\n",
    "http://networkx.readthedocs.io/en/stable/reference/generated/networkx.algorithms.centrality.closeness_centrality.html#closeness-centrality"
   ]
  },
  {
   "cell_type": "code",
   "execution_count": 61,
   "metadata": {
    "collapsed": true
   },
   "outputs": [],
   "source": [
    "closeness_c = nx.closeness_centrality(G0)"
   ]
  },
  {
   "cell_type": "code",
   "execution_count": 62,
   "metadata": {
    "collapsed": false
   },
   "outputs": [
    {
     "data": {
      "text/plain": [
       "<matplotlib.axes._subplots.AxesSubplot at 0x7f242068d0f0>"
      ]
     },
     "execution_count": 62,
     "metadata": {},
     "output_type": "execute_result"
    },
    {
     "data": {
      "image/png": "[encoded data removed]",
      "text/plain": [
       "<matplotlib.figure.Figure at 0x7f24206c9d68>"
      ]
     },
     "metadata": {},
     "output_type": "display_data"
    }
   ],
   "source": [
    "Series(closeness_c).hist(bins=50)"
   ]
  },
  {
   "cell_type": "markdown",
   "metadata": {},
   "source": [
    "### Betweenness Centrality\n",
    "http://networkx.readthedocs.io/en/stable/reference/generated/networkx.algorithms.centrality.betweenness_centrality.html#betweenness-centrality"
   ]
  },
  {
   "cell_type": "code",
   "execution_count": 63,
   "metadata": {
    "collapsed": true
   },
   "outputs": [],
   "source": [
    "betweenness_c = nx.betweenness_centrality(G0)"
   ]
  },
  {
   "cell_type": "code",
   "execution_count": 64,
   "metadata": {
    "collapsed": false
   },
   "outputs": [
    {
     "data": {
      "text/plain": [
       "<matplotlib.axes._subplots.AxesSubplot at 0x7f24206fb748>"
      ]
     },
     "execution_count": 64,
     "metadata": {},
     "output_type": "execute_result"
    },
    {
     "data": {
      "image/png": "[encoded data removed]",
      "text/plain": [
       "<matplotlib.figure.Figure at 0x7f2420859a90>"
      ]
     },
     "metadata": {},
     "output_type": "display_data"
    }
   ],
   "source": [
    "Series(betweenness_c).hist(bins=50)"
   ]
  },
  {
   "cell_type": "markdown",
   "metadata": {},
   "source": [
    "### Eigenvector\n",
    "http://networkx.readthedocs.io/en/stable/reference/generated/networkx.algorithms.centrality.eigenvector_centrality.html#eigenvector-centrality"
   ]
  },
  {
   "cell_type": "code",
   "execution_count": 65,
   "metadata": {
    "collapsed": true
   },
   "outputs": [],
   "source": [
    "eigenvector_c = nx.eigenvector_centrality(G0)"
   ]
  },
  {
   "cell_type": "code",
   "execution_count": 66,
   "metadata": {
    "collapsed": false
   },
   "outputs": [
    {
     "data": {
      "text/plain": [
       "<matplotlib.axes._subplots.AxesSubplot at 0x7f2420336cc0>"
      ]
     },
     "execution_count": 66,
     "metadata": {},
     "output_type": "execute_result"
    },
    {
     "data": {
      "image/png": "[encoded data removed]",
      "text/plain": [
       "<matplotlib.figure.Figure at 0x7f24205ec668>"
      ]
     },
     "metadata": {},
     "output_type": "display_data"
    }
   ],
   "source": [
    "Series(eigenvector_c).hist(bins=50)"
   ]
  },
  {
   "cell_type": "markdown",
   "metadata": {},
   "source": [
    "## Community detection\n",
    "- [X] cliques (dauert ewig, daher gepickelt)\n",
    "- [O] communities"
   ]
  },
  {
   "cell_type": "markdown",
   "metadata": {},
   "source": [
    "### Cliques\n",
    "http://networkx.readthedocs.io/en/stable/reference/generated/networkx.algorithms.clique.enumerate_all_cliques.html#networkx.algorithms.clique.enumerate_all_cliques"
   ]
  },
  {
   "cell_type": "code",
   "execution_count": 72,
   "metadata": {
    "collapsed": false
   },
   "outputs": [],
   "source": [
    "def get_cliques(G0):\n",
    "    cliques = list(nx.enumerate_all_cliques(G0))\n",
    "    clique_s = Series(cliques)\n",
    "    # clique_s.to_pickle(\"/storage/mi/aschle/1day20150822_0.95conf_160dist_3ilen_filtered-cliques.pickle\")"
   ]
  },
  {
   "cell_type": "code",
   "execution_count": 129,
   "metadata": {
    "collapsed": false
   },
   "outputs": [],
   "source": [
    "cl = list(cliques)"
   ]
  },
  {
   "cell_type": "code",
   "execution_count": 133,
   "metadata": {
    "collapsed": false
   },
   "outputs": [
    {
     "data": {
      "text/plain": [
       "144304589"
      ]
     },
     "execution_count": 133,
     "metadata": {},
     "output_type": "execute_result"
    }
   ],
   "source": [
    "len(cl)"
   ]
  },
  {
   "cell_type": "code",
   "execution_count": 139,
   "metadata": {
    "code_folding": [],
    "collapsed": false
   },
   "outputs": [],
   "source": [
    "length_cl = []\n",
    "for cli in cl:\n",
    "    length_cl.append(len(cli))"
   ]
  },
  {
   "cell_type": "code",
   "execution_count": 141,
   "metadata": {
    "collapsed": false
   },
   "outputs": [
    {
     "data": {
      "text/plain": [
       "Counter({1: 1498,\n",
       "         2: 124978,\n",
       "         3: 3345112,\n",
       "         4: 24535230,\n",
       "         5: 56536779,\n",
       "         6: 45010845,\n",
       "         7: 13189732,\n",
       "         8: 1491471,\n",
       "         9: 67683,\n",
       "         10: 1252,\n",
       "         11: 9})"
      ]
     },
     "execution_count": 141,
     "metadata": {},
     "output_type": "execute_result"
    }
   ],
   "source": [
    "Counter(length_cl)"
   ]
  },
  {
   "cell_type": "code",
   "execution_count": 143,
   "metadata": {
    "collapsed": false
   },
   "outputs": [],
   "source": [
    "biggest_clique = [c for c in cliques if len(c) == 11]"
   ]
  },
  {
   "cell_type": "code",
   "execution_count": 144,
   "metadata": {
    "collapsed": false
   },
   "outputs": [
    {
     "data": {
      "text/plain": [
       "[['704',\n",
       "  '3149',\n",
       "  '3583',\n",
       "  '232',\n",
       "  '3938',\n",
       "  '3122',\n",
       "  '80',\n",
       "  '996',\n",
       "  '2601',\n",
       "  '3559',\n",
       "  '3498'],\n",
       " ['704',\n",
       "  '3149',\n",
       "  '3583',\n",
       "  '232',\n",
       "  '3938',\n",
       "  '3122',\n",
       "  '80',\n",
       "  '2601',\n",
       "  '3821',\n",
       "  '3559',\n",
       "  '3498'],\n",
       " ['704',\n",
       "  '3149',\n",
       "  '3583',\n",
       "  '232',\n",
       "  '3122',\n",
       "  '80',\n",
       "  '996',\n",
       "  '2601',\n",
       "  '3559',\n",
       "  '3498',\n",
       "  '96'],\n",
       " ['704',\n",
       "  '3583',\n",
       "  '232',\n",
       "  '3938',\n",
       "  '3127',\n",
       "  '3122',\n",
       "  '80',\n",
       "  '996',\n",
       "  '2601',\n",
       "  '3559',\n",
       "  '3498'],\n",
       " ['704',\n",
       "  '3583',\n",
       "  '232',\n",
       "  '3938',\n",
       "  '3127',\n",
       "  '3122',\n",
       "  '80',\n",
       "  '996',\n",
       "  '2601',\n",
       "  '3559',\n",
       "  '3213'],\n",
       " ['928',\n",
       "  '2059',\n",
       "  '2739',\n",
       "  '1000',\n",
       "  '688',\n",
       "  '2710',\n",
       "  '3577',\n",
       "  '68',\n",
       "  '2349',\n",
       "  '3451',\n",
       "  '2462'],\n",
       " ['3426',\n",
       "  '3587',\n",
       "  '3463',\n",
       "  '3279',\n",
       "  '3961',\n",
       "  '1028',\n",
       "  '3713',\n",
       "  '3537',\n",
       "  '2454',\n",
       "  '2843',\n",
       "  '544'],\n",
       " ['2753',\n",
       "  '3406',\n",
       "  '4093',\n",
       "  '3286',\n",
       "  '3647',\n",
       "  '2430',\n",
       "  '3411',\n",
       "  '688',\n",
       "  '536',\n",
       "  '2770',\n",
       "  '4077'],\n",
       " ['3982',\n",
       "  '3362',\n",
       "  '2668',\n",
       "  '800',\n",
       "  '2062',\n",
       "  '992',\n",
       "  '3321',\n",
       "  '568',\n",
       "  '3621',\n",
       "  '3267',\n",
       "  '2839']]"
      ]
     },
     "execution_count": 144,
     "metadata": {},
     "output_type": "execute_result"
    }
   ],
   "source": [
    "biggest_clique[0]"
   ]
  },
  {
   "cell_type": "markdown",
   "metadata": {},
   "source": [
    "So man könnte sich jetzt zum Beispiel mal die Cliquen näher anschauen. Wer ist da so drin? Wie sind die cliquen an dem einen tag, wie an dem nächsten Tag, sind diese gleich? Also gleichen Bienen in den cliquen?"
   ]
  },
  {
   "cell_type": "markdown",
   "metadata": {
    "collapsed": true
   },
   "source": [
    "### Communities"
   ]
  },
  {
   "cell_type": "markdown",
   "metadata": {
    "collapsed": false
   },
   "source": [
    "Dauert super lange, also viel zu lange, und braucht viel zu viel RAM, lounge war komplett voll, und 12 stunden rechnen hat auch nicht gereicht."
   ]
  },
  {
   "cell_type": "markdown",
   "metadata": {},
   "source": [
    "# Performance\n",
    "* one should consider using graph-tool instead of networkx maybe:\n",
    "https://graph-tool.skewed.de/performance"
   ]
  },
  {
   "cell_type": "markdown",
   "metadata": {},
   "source": [
    "# Thresholding Edges - compare network properties\n",
    "Wenn ich mir die Verteilung der Edge Weights anschaue, wie entscheide ich, welche Edge Weights ich wegschmeiße?"
   ]
  },
  {
   "cell_type": "code",
   "execution_count": 75,
   "metadata": {
    "collapsed": false
   },
   "outputs": [
    {
     "name": "stdout",
     "output_type": "stream",
     "text": [
      "Name: \n",
      "Type: Graph\n",
      "Number of nodes: 2461\n",
      "Number of edges: 325975\n",
      "Average degree: 264.9126\n"
     ]
    }
   ],
   "source": [
    "print(nx.info(G))"
   ]
  },
  {
   "cell_type": "code",
   "execution_count": 77,
   "metadata": {
    "collapsed": false
   },
   "outputs": [
    {
     "data": {
      "text/plain": [
       "count    325975.000000\n",
       "mean          1.962700\n",
       "std           2.209585\n",
       "min           1.000000\n",
       "25%           1.000000\n",
       "50%           1.000000\n",
       "75%           2.000000\n",
       "max          62.000000\n",
       "dtype: float64"
      ]
     },
     "execution_count": 77,
     "metadata": {},
     "output_type": "execute_result"
    }
   ],
   "source": [
    "edge_weights.describe()"
   ]
  },
  {
   "cell_type": "code",
   "execution_count": 80,
   "metadata": {
    "collapsed": false
   },
   "outputs": [],
   "source": [
    "max_ew = edge_weights.max()"
   ]
  },
  {
   "cell_type": "code",
   "execution_count": 175,
   "metadata": {
    "collapsed": true
   },
   "outputs": [],
   "source": [
    "GG = G.copy()"
   ]
  },
  {
   "cell_type": "code",
   "execution_count": 176,
   "metadata": {
    "collapsed": true
   },
   "outputs": [],
   "source": [
    "def get_properties(g):\n",
    "    n = g.number_of_nodes()\n",
    "    e = g.number_of_edges()\n",
    "    d = nx.density(g)\n",
    "    cc = nx.average_clustering(g)\n",
    "    degrees = g.degree().values()\n",
    "    \n",
    "    # Number of components\n",
    "    Gcc = sorted(nx.connected_component_subgraphs(g), key = len, reverse=True)\n",
    "    components = len(Gcc)\n",
    "    \n",
    "    # Size of components\n",
    "    size_components = []\n",
    "    for comp in Gcc:\n",
    "        size_components.append(nx.number_of_nodes(comp))\n",
    "    size_components = Counter(list(size_components))\n",
    "    \n",
    "    # Biggest component\n",
    "    g0 = Gcc[0]\n",
    "    \n",
    "    g0n = nx.number_of_nodes(g0)\n",
    "    g0e = nx.number_of_edges(g0)\n",
    "    diameter = nx.diameter(g0)\n",
    "    density = nx.density(g0)\n",
    "    g0degrees = g0.degree().values()\n",
    "    average_degree = sum(g0degrees)/g0n\n",
    "    \n",
    "    cc0 = nx.average_clustering(g0)\n",
    "    average_shortest_path = nx.average_shortest_path_length(g0)\n",
    "\n",
    "    return {\"nodes\": n, \"edges\":e, \"density\":d, \"cc\":cc, \"degrees\":degrees, \"components\": components,\n",
    "           \"sizeComponents\": size_components, \"nodes-g0\": g0n, \"edges-g0\":g0e, \"diameter-g0\":diameter,\n",
    "           \"density-g0\":density, \"degrees-g0\": g0degrees, \"average-degree-g0\": average_degree,\n",
    "           \"cc-g0\":cc0, \"av-shortest-path-g0\":average_shortest_path}"
   ]
  },
  {
   "cell_type": "code",
   "execution_count": 177,
   "metadata": {
    "collapsed": false
   },
   "outputs": [],
   "source": [
    "properties = []\n",
    "for i in list(range(1,max_ew)):\n",
    "    for e in GG.edges():\n",
    "        if (GG.get_edge_data(e[0],e[1]).get(\"weight\") <= i):\n",
    "            GG.remove_edge(e[0],e[1])\n",
    "    \n",
    "    p = get_properties(GG)\n",
    "    p[\"threshold\"] = i\n",
    "    properties.append(p)"
   ]
  },
  {
   "cell_type": "code",
   "execution_count": 191,
   "metadata": {
    "collapsed": false,
    "scrolled": true
   },
   "outputs": [],
   "source": [
    "df = DataFrame(properties)"
   ]
  },
  {
   "cell_type": "code",
   "execution_count": 192,
   "metadata": {
    "collapsed": false,
    "scrolled": false
   },
   "outputs": [
    {
     "data": {
      "text/html": [
       "<div>\n",
       "<table border=\"1\" class=\"dataframe\">\n",
       "  <thead>\n",
       "    <tr style=\"text-align: right;\">\n",
       "      <th></th>\n",
       "      <th>av-shortest-path-g0</th>\n",
       "      <th>average-degree-g0</th>\n",
       "      <th>cc</th>\n",
       "      <th>cc-g0</th>\n",
       "      <th>components</th>\n",
       "      <th>degrees</th>\n",
       "      <th>degrees-g0</th>\n",
       "      <th>density</th>\n",
       "      <th>density-g0</th>\n",
       "      <th>diameter-g0</th>\n",
       "      <th>edges</th>\n",
       "      <th>edges-g0</th>\n",
       "      <th>nodes</th>\n",
       "      <th>nodes-g0</th>\n",
       "      <th>sizeComponents</th>\n",
       "      <th>threshold</th>\n",
       "    </tr>\n",
       "  </thead>\n",
       "  <tbody>\n",
       "    <tr>\n",
       "      <th>0</th>\n",
       "      <td>2.311738</td>\n",
       "      <td>166.893191</td>\n",
       "      <td>0.166828</td>\n",
       "      <td>0.274075</td>\n",
       "      <td>964</td>\n",
       "      <td>(214, 305, 197, 5, 0, 289, 298, 2, 168, 0, 0, ...</td>\n",
       "      <td>(214, 3, 5, 289, 1, 1, 168, 197, 3, 265, 1, 30...</td>\n",
       "      <td>0.041296</td>\n",
       "      <td>0.111485</td>\n",
       "      <td>4</td>\n",
       "      <td>125003</td>\n",
       "      <td>125003</td>\n",
       "      <td>2461</td>\n",
       "      <td>1498</td>\n",
       "      <td>{1: 963, 1498: 1}</td>\n",
       "      <td>1</td>\n",
       "    </tr>\n",
       "    <tr>\n",
       "      <th>1</th>\n",
       "      <td>2.264231</td>\n",
       "      <td>98.757624</td>\n",
       "      <td>0.074680</td>\n",
       "      <td>0.147501</td>\n",
       "      <td>1216</td>\n",
       "      <td>(106, 153, 102, 1, 0, 148, 147, 0, 93, 0, 0, 2...</td>\n",
       "      <td>(131, 106, 112, 157, 1, 42, 148, 150, 160, 159...</td>\n",
       "      <td>0.020326</td>\n",
       "      <td>0.079323</td>\n",
       "      <td>5</td>\n",
       "      <td>61526</td>\n",
       "      <td>61526</td>\n",
       "      <td>2461</td>\n",
       "      <td>1246</td>\n",
       "      <td>{1: 1215, 1246: 1}</td>\n",
       "      <td>2</td>\n",
       "    </tr>\n",
       "    <tr>\n",
       "      <th>2</th>\n",
       "      <td>2.223726</td>\n",
       "      <td>62.529464</td>\n",
       "      <td>0.043205</td>\n",
       "      <td>0.093516</td>\n",
       "      <td>1325</td>\n",
       "      <td>(58, 89, 46, 1, 0, 86, 88, 0, 61, 0, 0, 2, 0, ...</td>\n",
       "      <td>(65, 58, 71, 91, 1, 19, 86, 45, 92, 61, 2, 80,...</td>\n",
       "      <td>0.011744</td>\n",
       "      <td>0.055044</td>\n",
       "      <td>5</td>\n",
       "      <td>35548</td>\n",
       "      <td>35548</td>\n",
       "      <td>2461</td>\n",
       "      <td>1137</td>\n",
       "      <td>{1137: 1, 1: 1324}</td>\n",
       "      <td>3</td>\n",
       "    </tr>\n",
       "  </tbody>\n",
       "</table>\n",
       "</div>"
      ],
      "text/plain": [
       "   av-shortest-path-g0  average-degree-g0        cc     cc-g0  components  \\\n",
       "0             2.311738         166.893191  0.166828  0.274075         964   \n",
       "1             2.264231          98.757624  0.074680  0.147501        1216   \n",
       "2             2.223726          62.529464  0.043205  0.093516        1325   \n",
       "\n",
       "                                             degrees  \\\n",
       "0  (214, 305, 197, 5, 0, 289, 298, 2, 168, 0, 0, ...   \n",
       "1  (106, 153, 102, 1, 0, 148, 147, 0, 93, 0, 0, 2...   \n",
       "2  (58, 89, 46, 1, 0, 86, 88, 0, 61, 0, 0, 2, 0, ...   \n",
       "\n",
       "                                          degrees-g0   density  density-g0  \\\n",
       "0  (214, 3, 5, 289, 1, 1, 168, 197, 3, 265, 1, 30...  0.041296    0.111485   \n",
       "1  (131, 106, 112, 157, 1, 42, 148, 150, 160, 159...  0.020326    0.079323   \n",
       "2  (65, 58, 71, 91, 1, 19, 86, 45, 92, 61, 2, 80,...  0.011744    0.055044   \n",
       "\n",
       "   diameter-g0   edges  edges-g0  nodes  nodes-g0      sizeComponents  \\\n",
       "0            4  125003    125003   2461      1498   {1: 963, 1498: 1}   \n",
       "1            5   61526     61526   2461      1246  {1: 1215, 1246: 1}   \n",
       "2            5   35548     35548   2461      1137  {1137: 1, 1: 1324}   \n",
       "\n",
       "   threshold  \n",
       "0          1  \n",
       "1          2  \n",
       "2          3  "
      ]
     },
     "execution_count": 192,
     "metadata": {},
     "output_type": "execute_result"
    }
   ],
   "source": [
    "df.head(3)"
   ]
  },
  {
   "cell_type": "code",
   "execution_count": 180,
   "metadata": {
    "collapsed": false
   },
   "outputs": [
    {
     "data": {
      "text/plain": [
       "Index(['av-shortest-path-g0', 'average-degree-g0', 'cc', 'cc-g0', 'components',\n",
       "       'degrees', 'degrees-g0', 'density', 'density-g0', 'diameter-g0',\n",
       "       'edges', 'edges-g0', 'nodes', 'nodes-g0', 'sizeComponents',\n",
       "       'threshold'],\n",
       "      dtype='object')"
      ]
     },
     "execution_count": 180,
     "metadata": {},
     "output_type": "execute_result"
    }
   ],
   "source": [
    "df.columns"
   ]
  },
  {
   "cell_type": "code",
   "execution_count": 181,
   "metadata": {
    "collapsed": false,
    "scrolled": false
   },
   "outputs": [
    {
     "data": {
      "text/plain": [
       "<matplotlib.text.Text at 0x7f241617d6d8>"
      ]
     },
     "execution_count": 181,
     "metadata": {},
     "output_type": "execute_result"
    },
    {
     "data": {
      "image/png": "[encoded data removed]",
      "text/plain": [
       "<matplotlib.figure.Figure at 0x7f2413030080>"
      ]
     },
     "metadata": {},
     "output_type": "display_data"
    }
   ],
   "source": [
    "fig, axes = plt.subplots(nrows=4, ncols=2, figsize=(10,18), )\n",
    "\n",
    "df.plot(ax=axes[0,0], x='threshold', y='edges')\n",
    "df.plot(ax=axes[0,0], x='threshold', y='edges-g0')\n",
    "axes[0,0].set_title('#Edges')\n",
    "axes[0,0].set_yscale('log')\n",
    "\n",
    "df.plot(ax=axes[0,1], x='threshold', y='nodes-g0')\n",
    "axes[0,1].set_title('#Nodes G0')\n",
    "\n",
    "\n",
    "df.plot(ax=axes[1,0], x='threshold', y='components')\n",
    "axes[1,0].set_title('#components')\n",
    "\n",
    "df.plot(ax=axes[1,1], x='threshold', y='average-degree-g0')\n",
    "axes[1,1].set_title('average-degree G0')\n",
    "\n",
    "\n",
    "df.plot(ax=axes[2,0], x='threshold', y='density')\n",
    "df.plot(ax=axes[2,0], x='threshold', y='density-g0')\n",
    "axes[2,0].set_title('Density')\n",
    "\n",
    "\n",
    "df.plot(ax=axes[2,1], x='threshold', y='cc')\n",
    "df.plot(ax=axes[2,1], x='threshold', y='cc-g0')\n",
    "axes[2,1].set_title('CC')\n",
    "\n",
    "\n",
    "df.plot(ax=axes[3,0], x='threshold', y='diameter-g0')\n",
    "axes[3,0].set_title('diameter-g0')"
   ]
  },
  {
   "cell_type": "markdown",
   "metadata": {},
   "source": [
    "# Number of Edges"
   ]
  },
  {
   "cell_type": "code",
   "execution_count": 182,
   "metadata": {
    "collapsed": true
   },
   "outputs": [],
   "source": [
    "total = G.number_of_edges()"
   ]
  },
  {
   "cell_type": "code",
   "execution_count": 183,
   "metadata": {
    "collapsed": false
   },
   "outputs": [
    {
     "data": {
      "text/plain": [
       "325975"
      ]
     },
     "execution_count": 183,
     "metadata": {},
     "output_type": "execute_result"
    }
   ],
   "source": [
    "total"
   ]
  },
  {
   "cell_type": "code",
   "execution_count": 196,
   "metadata": {
    "collapsed": false
   },
   "outputs": [],
   "source": [
    "df['edges_percent'] = df.edges*100/total"
   ]
  },
  {
   "cell_type": "code",
   "execution_count": 219,
   "metadata": {
    "collapsed": false,
    "scrolled": false
   },
   "outputs": [
    {
     "data": {
      "text/html": [
       "<div>\n",
       "<table border=\"1\" class=\"dataframe\">\n",
       "  <thead>\n",
       "    <tr style=\"text-align: right;\">\n",
       "      <th></th>\n",
       "      <th>av-shortest-path-g0</th>\n",
       "      <th>average-degree-g0</th>\n",
       "      <th>cc</th>\n",
       "      <th>cc-g0</th>\n",
       "      <th>components</th>\n",
       "      <th>degrees</th>\n",
       "      <th>degrees-g0</th>\n",
       "      <th>density</th>\n",
       "      <th>density-g0</th>\n",
       "      <th>diameter-g0</th>\n",
       "      <th>edges</th>\n",
       "      <th>edges-g0</th>\n",
       "      <th>nodes</th>\n",
       "      <th>nodes-g0</th>\n",
       "      <th>sizeComponents</th>\n",
       "      <th>threshold</th>\n",
       "      <th>edges_percent</th>\n",
       "    </tr>\n",
       "  </thead>\n",
       "  <tbody>\n",
       "    <tr>\n",
       "      <th>0</th>\n",
       "      <td>2.311738</td>\n",
       "      <td>166.893191</td>\n",
       "      <td>0.166828</td>\n",
       "      <td>0.274075</td>\n",
       "      <td>964</td>\n",
       "      <td>(214, 305, 197, 5, 0, 289, 298, 2, 168, 0, 0, ...</td>\n",
       "      <td>(214, 3, 5, 289, 1, 1, 168, 197, 3, 265, 1, 30...</td>\n",
       "      <td>0.041296</td>\n",
       "      <td>0.111485</td>\n",
       "      <td>4</td>\n",
       "      <td>125003</td>\n",
       "      <td>125003</td>\n",
       "      <td>2461</td>\n",
       "      <td>1498</td>\n",
       "      <td>{1: 963, 1498: 1}</td>\n",
       "      <td>1</td>\n",
       "      <td>38.347419</td>\n",
       "    </tr>\n",
       "    <tr>\n",
       "      <th>1</th>\n",
       "      <td>2.264231</td>\n",
       "      <td>98.757624</td>\n",
       "      <td>0.074680</td>\n",
       "      <td>0.147501</td>\n",
       "      <td>1216</td>\n",
       "      <td>(106, 153, 102, 1, 0, 148, 147, 0, 93, 0, 0, 2...</td>\n",
       "      <td>(131, 106, 112, 157, 1, 42, 148, 150, 160, 159...</td>\n",
       "      <td>0.020326</td>\n",
       "      <td>0.079323</td>\n",
       "      <td>5</td>\n",
       "      <td>61526</td>\n",
       "      <td>61526</td>\n",
       "      <td>2461</td>\n",
       "      <td>1246</td>\n",
       "      <td>{1: 1215, 1246: 1}</td>\n",
       "      <td>2</td>\n",
       "      <td>18.874454</td>\n",
       "    </tr>\n",
       "  </tbody>\n",
       "</table>\n",
       "</div>"
      ],
      "text/plain": [
       "   av-shortest-path-g0  average-degree-g0        cc     cc-g0  components  \\\n",
       "0             2.311738         166.893191  0.166828  0.274075         964   \n",
       "1             2.264231          98.757624  0.074680  0.147501        1216   \n",
       "\n",
       "                                             degrees  \\\n",
       "0  (214, 305, 197, 5, 0, 289, 298, 2, 168, 0, 0, ...   \n",
       "1  (106, 153, 102, 1, 0, 148, 147, 0, 93, 0, 0, 2...   \n",
       "\n",
       "                                          degrees-g0   density  density-g0  \\\n",
       "0  (214, 3, 5, 289, 1, 1, 168, 197, 3, 265, 1, 30...  0.041296    0.111485   \n",
       "1  (131, 106, 112, 157, 1, 42, 148, 150, 160, 159...  0.020326    0.079323   \n",
       "\n",
       "   diameter-g0   edges  edges-g0  nodes  nodes-g0      sizeComponents  \\\n",
       "0            4  125003    125003   2461      1498   {1: 963, 1498: 1}   \n",
       "1            5   61526     61526   2461      1246  {1: 1215, 1246: 1}   \n",
       "\n",
       "   threshold  edges_percent  \n",
       "0          1      38.347419  \n",
       "1          2      18.874454  "
      ]
     },
     "execution_count": 219,
     "metadata": {},
     "output_type": "execute_result"
    }
   ],
   "source": [
    "df.head(2)"
   ]
  },
  {
   "cell_type": "code",
   "execution_count": 216,
   "metadata": {
    "collapsed": false
   },
   "outputs": [
    {
     "data": {
      "image/png": "[encoded data removed]",
      "text/plain": [
       "<matplotlib.figure.Figure at 0x7f2423e4cb00>"
      ]
     },
     "metadata": {},
     "output_type": "display_data"
    }
   ],
   "source": [
    "fig, ax = plt.subplots()\n",
    "df.plot(ax=ax, x='threshold', y='edges_percent')\n",
    "plt.plot((0, 62), (1, 1), 'k-')\n",
    "plt.plot((0, 62), (10, 10), 'r-')\n",
    "plt.plot((3, 3), (0, 100), 'r-')\n",
    "plt.plot((11, 11), (0, 100), 'k-')\n",
    "ax.set_yscale('log')\n"
   ]
  },
  {
   "cell_type": "markdown",
   "metadata": {},
   "source": [
    "## Size distribution of components"
   ]
  },
  {
   "cell_type": "code",
   "execution_count": 228,
   "metadata": {
    "collapsed": false
   },
   "outputs": [
    {
     "data": {
      "text/plain": [
       "0      2\n",
       "1      2\n",
       "2      2\n",
       "3      2\n",
       "4      2\n",
       "5      2\n",
       "6      2\n",
       "7      2\n",
       "8      2\n",
       "9      2\n",
       "10     3\n",
       "11     2\n",
       "12     2\n",
       "13     3\n",
       "14     3\n",
       "15     4\n",
       "16     4\n",
       "17     6\n",
       "18     8\n",
       "19     9\n",
       "20     8\n",
       "21    10\n",
       "22    11\n",
       "23    11\n",
       "24    11\n",
       "25    11\n",
       "26    10\n",
       "27     9\n",
       "28     8\n",
       "29     7\n",
       "      ..\n",
       "31     6\n",
       "32     5\n",
       "33     5\n",
       "34     5\n",
       "35     5\n",
       "36     5\n",
       "37     4\n",
       "38     3\n",
       "39     3\n",
       "40     3\n",
       "41     3\n",
       "42     3\n",
       "43     3\n",
       "44     3\n",
       "45     3\n",
       "46     3\n",
       "47     3\n",
       "48     2\n",
       "49     2\n",
       "50     2\n",
       "51     2\n",
       "52     2\n",
       "53     2\n",
       "54     2\n",
       "55     2\n",
       "56     2\n",
       "57     2\n",
       "58     2\n",
       "59     2\n",
       "60     2\n",
       "Name: sizeComponents, dtype: int64"
      ]
     },
     "execution_count": 228,
     "metadata": {},
     "output_type": "execute_result"
    }
   ],
   "source": [
    "df.sizeComponents.apply(len)"
   ]
  },
  {
   "cell_type": "code",
   "execution_count": 231,
   "metadata": {
    "collapsed": false
   },
   "outputs": [
    {
     "data": {
      "text/plain": [
       "<matplotlib.axes._subplots.AxesSubplot at 0x7f24246ed748>"
      ]
     },
     "execution_count": 231,
     "metadata": {},
     "output_type": "execute_result"
    },
    {
     "data": {
      "image/png": "[encoded data removed]",
      "text/plain": [
       "<matplotlib.figure.Figure at 0x7f242455e978>"
      ]
     },
     "metadata": {},
     "output_type": "display_data"
    }
   ],
   "source": [
    "df.sizeComponents.apply(len).plot()"
   ]
  },
  {
   "cell_type": "code",
   "execution_count": null,
   "metadata": {
    "collapsed": true
   },
   "outputs": [],
   "source": []
  }
 ],
 "metadata": {
  "anaconda-cloud": {},
  "kernelspec": {
   "display_name": "Python 3",
   "language": "python",
   "name": "python3"
  },
  "language_info": {
   "codemirror_mode": {
    "name": "ipython",
    "version": 3
   },
   "file_extension": ".py",
   "mimetype": "text/x-python",
   "name": "python",
   "nbconvert_exporter": "python",
   "pygments_lexer": "ipython3",
   "version": "3.5.2"
  }
 },
 "nbformat": 4,
 "nbformat_minor": 2
}
