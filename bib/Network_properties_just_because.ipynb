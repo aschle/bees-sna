{
 "cells": [
  {
   "cell_type": "code",
   "execution_count": 48,
   "metadata": {
    "collapsed": true
   },
   "outputs": [],
   "source": [
    "import networkx as nx\n",
    "import preprocessing as prep\n",
    "import numpy as np\n",
    "import pandas as pd\n",
    "import json\n",
    "\n",
    "from collections import Counter\n",
    "from bb_binary import load_frame_container, Repository\n",
    "from pandas import Series, DataFrame"
   ]
  },
  {
   "cell_type": "code",
   "execution_count": 49,
   "metadata": {
    "collapsed": true
   },
   "outputs": [],
   "source": [
    "%matplotlib inline"
   ]
  },
  {
   "cell_type": "code",
   "execution_count": 50,
   "metadata": {
    "collapsed": true
   },
   "outputs": [],
   "source": [
    "file_name = \"1day20150822_0.95conf_160dist_3ilen.graphml\""
   ]
  },
  {
   "cell_type": "code",
   "execution_count": 51,
   "metadata": {
    "collapsed": true
   },
   "outputs": [],
   "source": [
    "G = nx.read_graphml(\"1day20150822_0.95conf_160dist_3ilen.graphml\")"
   ]
  },
  {
   "cell_type": "code",
   "execution_count": 52,
   "metadata": {
    "collapsed": true
   },
   "outputs": [],
   "source": [
    "degrees = G.degree().values()"
   ]
  },
  {
   "cell_type": "code",
   "execution_count": 53,
   "metadata": {
    "collapsed": false
   },
   "outputs": [],
   "source": [
    "s = Series(list(degrees))"
   ]
  },
  {
   "cell_type": "code",
   "execution_count": 83,
   "metadata": {
    "collapsed": true
   },
   "outputs": [],
   "source": [
    "gd = nx.density(G)"
   ]
  },
  {
   "cell_type": "code",
   "execution_count": 84,
   "metadata": {
    "collapsed": false
   },
   "outputs": [
    {
     "name": "stdout",
     "output_type": "stream",
     "text": [
      "Density: 0.10768806387779441\n"
     ]
    }
   ],
   "source": [
    "print(\"Density: {}\".format(gd))"
   ]
  },
  {
   "cell_type": "markdown",
   "metadata": {},
   "source": [
    "Wenn man jetzt mal annimmt, dieses Netzwerk macht evtl. irgendwie Sinn, dann kann man sich mal ein paar Eigenschaften anschauen, man könnte versuchen diese zu interpretieren und einzuordnen (naja das ist wohl eher schwierig)."
   ]
  },
  {
   "cell_type": "markdown",
   "metadata": {},
   "source": [
    "# Degree distribution"
   ]
  },
  {
   "cell_type": "code",
   "execution_count": 54,
   "metadata": {
    "collapsed": false
   },
   "outputs": [
    {
     "data": {
      "text/plain": [
       "<matplotlib.axes._subplots.AxesSubplot at 0x7f59f3632dd8>"
      ]
     },
     "execution_count": 54,
     "metadata": {},
     "output_type": "execute_result"
    },
    {
     "data": {
      "image/png": "[encoded data removed]",
      "text/plain": [
       "<matplotlib.figure.Figure at 0x7f59f2ded710>"
      ]
     },
     "metadata": {},
     "output_type": "display_data"
    }
   ],
   "source": [
    "s.hist(bins=50)"
   ]
  },
  {
   "cell_type": "code",
   "execution_count": 55,
   "metadata": {
    "collapsed": false
   },
   "outputs": [],
   "source": [
    "c = Counter(s)"
   ]
  },
  {
   "cell_type": "code",
   "execution_count": 56,
   "metadata": {
    "collapsed": false
   },
   "outputs": [
    {
     "data": {
      "text/plain": [
       "count    2461.000000\n",
       "mean      264.912637\n",
       "std       330.734505\n",
       "min         1.000000\n",
       "25%         2.000000\n",
       "50%         8.000000\n",
       "75%       645.000000\n",
       "max       965.000000\n",
       "dtype: float64"
      ]
     },
     "execution_count": 56,
     "metadata": {},
     "output_type": "execute_result"
    }
   ],
   "source": [
    "s.describe()"
   ]
  },
  {
   "cell_type": "markdown",
   "metadata": {},
   "source": [
    "# Edge weights distribution"
   ]
  },
  {
   "cell_type": "code",
   "execution_count": 57,
   "metadata": {
    "collapsed": false,
    "scrolled": false
   },
   "outputs": [],
   "source": [
    "l = []"
   ]
  },
  {
   "cell_type": "code",
   "execution_count": 58,
   "metadata": {
    "collapsed": true
   },
   "outputs": [],
   "source": [
    "for e in G.edges():\n",
    "    l.append(G.get_edge_data(e[0],e[1]).get(\"weight\"))"
   ]
  },
  {
   "cell_type": "code",
   "execution_count": 59,
   "metadata": {
    "collapsed": false
   },
   "outputs": [],
   "source": [
    "edge_weights = Series(l)"
   ]
  },
  {
   "cell_type": "code",
   "execution_count": 60,
   "metadata": {
    "collapsed": false
   },
   "outputs": [
    {
     "data": {
      "text/plain": [
       "<matplotlib.axes._subplots.AxesSubplot at 0x7f59f3e70588>"
      ]
     },
     "execution_count": 60,
     "metadata": {},
     "output_type": "execute_result"
    },
    {
     "data": {
      "image/png": "[encoded data removed]",
      "text/plain": [
       "<matplotlib.figure.Figure at 0x7f59f44516a0>"
      ]
     },
     "metadata": {},
     "output_type": "display_data"
    }
   ],
   "source": [
    "edge_weights.hist(bins=50)"
   ]
  },
  {
   "cell_type": "code",
   "execution_count": 61,
   "metadata": {
    "collapsed": false
   },
   "outputs": [
    {
     "data": {
      "text/plain": [
       "count    325975.000000\n",
       "mean          1.962700\n",
       "std           2.209585\n",
       "min           1.000000\n",
       "25%           1.000000\n",
       "50%           1.000000\n",
       "75%           2.000000\n",
       "max          62.000000\n",
       "dtype: float64"
      ]
     },
     "execution_count": 61,
     "metadata": {},
     "output_type": "execute_result"
    }
   ],
   "source": [
    "edge_weights.describe()"
   ]
  },
  {
   "cell_type": "code",
   "execution_count": 62,
   "metadata": {
    "collapsed": false
   },
   "outputs": [],
   "source": [
    "ew = Counter(edge_weights)"
   ]
  },
  {
   "cell_type": "markdown",
   "metadata": {},
   "source": [
    "## Remove edges with weight 1"
   ]
  },
  {
   "cell_type": "code",
   "execution_count": 63,
   "metadata": {
    "collapsed": true
   },
   "outputs": [],
   "source": [
    "G1 = G.copy()"
   ]
  },
  {
   "cell_type": "code",
   "execution_count": 64,
   "metadata": {
    "collapsed": true
   },
   "outputs": [],
   "source": [
    "for e in G1.edges():\n",
    "    if (G1.get_edge_data(e[0],e[1]).get(\"weight\") < 2):\n",
    "        G1.remove_edge(e[0],e[1])\n"
   ]
  },
  {
   "cell_type": "code",
   "execution_count": 65,
   "metadata": {
    "collapsed": false
   },
   "outputs": [
    {
     "data": {
      "text/plain": [
       "'Name: \\nType: Graph\\nNumber of nodes: 2461\\nNumber of edges: 125003\\nAverage degree: 101.5872'"
      ]
     },
     "execution_count": 65,
     "metadata": {},
     "output_type": "execute_result"
    }
   ],
   "source": [
    "nx.info(G1)"
   ]
  },
  {
   "cell_type": "code",
   "execution_count": 66,
   "metadata": {
    "collapsed": false
   },
   "outputs": [
    {
     "data": {
      "text/plain": [
       "'Name: \\nType: Graph\\nNumber of nodes: 2461\\nNumber of edges: 325975\\nAverage degree: 264.9126'"
      ]
     },
     "execution_count": 66,
     "metadata": {},
     "output_type": "execute_result"
    }
   ],
   "source": [
    "nx.info(G)"
   ]
  },
  {
   "cell_type": "code",
   "execution_count": 20,
   "metadata": {
    "collapsed": false
   },
   "outputs": [],
   "source": [
    "# nx.write_graphml(G1,\"1day20150822_0.95conf_160dist_3ilen_filtered.graphml\")"
   ]
  },
  {
   "cell_type": "markdown",
   "metadata": {},
   "source": [
    "## Global structure (network level metrics)\n",
    "\n",
    "- [X] number of components (size distribution of components)\n",
    "- [X] diameter (for biggest component!)\n",
    "- [X] size of biggest component\n",
    "- [X] size - nodes and edges\n",
    "\n",
    "\n",
    "- [X] density\n",
    "- [X] mean/average degree\n",
    "- [X] degree distribution\n",
    "- [X] global clustering coefficient (also for biggest component)\n",
    "\n",
    "\n",
    "- [X] average path length"
   ]
  },
  {
   "cell_type": "markdown",
   "metadata": {},
   "source": [
    "### Number of components and size distribution"
   ]
  },
  {
   "cell_type": "code",
   "execution_count": 67,
   "metadata": {
    "collapsed": false
   },
   "outputs": [
    {
     "name": "stdout",
     "output_type": "stream",
     "text": [
      "Number of components: 964\n"
     ]
    },
    {
     "data": {
      "text/plain": [
       "Counter({1: 963, 1498: 1})"
      ]
     },
     "execution_count": 67,
     "metadata": {},
     "output_type": "execute_result"
    }
   ],
   "source": [
    "# only for biggest subgraph\n",
    "Gcc = sorted(nx.connected_component_subgraphs(G1), key = len, reverse=True)\n",
    "print(\"Number of components: {}\".format(len(Gcc)))\n",
    "\n",
    "size_components = []\n",
    "for comp in Gcc:\n",
    "    size_components.append(nx.number_of_nodes(comp))\n",
    "    \n",
    "Counter(list(size_components))"
   ]
  },
  {
   "cell_type": "markdown",
   "metadata": {},
   "source": [
    "There is one big component!"
   ]
  },
  {
   "cell_type": "markdown",
   "metadata": {},
   "source": [
    "### Diameter for biggest component"
   ]
  },
  {
   "cell_type": "code",
   "execution_count": 70,
   "metadata": {
    "collapsed": false
   },
   "outputs": [
    {
     "name": "stdout",
     "output_type": "stream",
     "text": [
      "Diameter: 4\n"
     ]
    }
   ],
   "source": [
    "G0 = Gcc[0]\n",
    "diameter = nx.diameter(G0)\n",
    "print(\"Diameter: {}\".format(diameter))"
   ]
  },
  {
   "cell_type": "markdown",
   "metadata": {},
   "source": [
    "### Nodes and Edges for biggest component"
   ]
  },
  {
   "cell_type": "code",
   "execution_count": 71,
   "metadata": {
    "collapsed": false
   },
   "outputs": [
    {
     "name": "stdout",
     "output_type": "stream",
     "text": [
      "Number of nodes: 1498\n",
      "Number of edges: 125003\n"
     ]
    }
   ],
   "source": [
    "g0n = nx.number_of_nodes(G0)\n",
    "g0e = nx.number_of_edges(G0)\n",
    "print(\"Number of nodes: {}\".format(g0n))\n",
    "print(\"Number of edges: {}\".format(g0e))"
   ]
  },
  {
   "cell_type": "code",
   "execution_count": 74,
   "metadata": {
    "collapsed": false
   },
   "outputs": [
    {
     "name": "stdout",
     "output_type": "stream",
     "text": [
      "Number of nodes: 2461\n",
      "Number of edges: 125003\n"
     ]
    }
   ],
   "source": [
    "g1n = nx.number_of_nodes(G1)\n",
    "g1e = nx.number_of_edges(G1)\n",
    "print(\"Number of nodes: {}\".format(nodes))\n",
    "print(\"Number of edges: {}\".format(edges))"
   ]
  },
  {
   "cell_type": "markdown",
   "metadata": {},
   "source": [
    "### Density (biggest component)"
   ]
  },
  {
   "cell_type": "code",
   "execution_count": 73,
   "metadata": {
    "collapsed": false
   },
   "outputs": [
    {
     "name": "stdout",
     "output_type": "stream",
     "text": [
      "Density: 0.11148509747577041\n"
     ]
    }
   ],
   "source": [
    "density = nx.density(G0)\n",
    "print(\"Density: {}\".format(density))"
   ]
  },
  {
   "cell_type": "markdown",
   "metadata": {},
   "source": [
    "### Average Degree"
   ]
  },
  {
   "cell_type": "code",
   "execution_count": 75,
   "metadata": {
    "collapsed": false
   },
   "outputs": [
    {
     "name": "stdout",
     "output_type": "stream",
     "text": [
      "Average degree: 166.8931909212283\n"
     ]
    }
   ],
   "source": [
    "degrees = G0.degree().values()\n",
    "average_degree = sum(degrees)/g0n\n",
    "print(\"Average degree: {}\".format(average_degree))"
   ]
  },
  {
   "cell_type": "markdown",
   "metadata": {},
   "source": [
    "### Degree Distribution (of biggest component)"
   ]
  },
  {
   "cell_type": "code",
   "execution_count": 76,
   "metadata": {
    "collapsed": false
   },
   "outputs": [],
   "source": [
    "degree_distribution = Series(list(degrees))"
   ]
  },
  {
   "cell_type": "code",
   "execution_count": null,
   "metadata": {
    "collapsed": false
   },
   "outputs": [],
   "source": [
    "ax = degree_distribution.hist(bins=50)\n",
    "# ax.set_yscale('log')"
   ]
  },
  {
   "cell_type": "code",
   "execution_count": 78,
   "metadata": {
    "collapsed": false
   },
   "outputs": [
    {
     "data": {
      "text/plain": [
       "count    1498.000000\n",
       "mean      166.893191\n",
       "std       129.616904\n",
       "min         1.000000\n",
       "25%         3.000000\n",
       "50%       217.000000\n",
       "75%       283.750000\n",
       "max       378.000000\n",
       "dtype: float64"
      ]
     },
     "execution_count": 78,
     "metadata": {},
     "output_type": "execute_result"
    }
   ],
   "source": [
    "degree_distribution.describe()"
   ]
  },
  {
   "cell_type": "markdown",
   "metadata": {},
   "source": [
    "### global clustering coefficient"
   ]
  },
  {
   "cell_type": "code",
   "execution_count": 79,
   "metadata": {
    "collapsed": false
   },
   "outputs": [
    {
     "name": "stdout",
     "output_type": "stream",
     "text": [
      "CC: 0.16682849836243335\n",
      "CC biggest component: 0.27407539016685495\n"
     ]
    }
   ],
   "source": [
    "cc = nx.average_clustering(G1)\n",
    "cc0 = nx.average_clustering(G0)\n",
    "print(\"CC: {}\".format(cc))\n",
    "print(\"CC biggest component: {}\".format(cc0))"
   ]
  },
  {
   "cell_type": "markdown",
   "metadata": {},
   "source": [
    "### Average shortest path length"
   ]
  },
  {
   "cell_type": "code",
   "execution_count": 80,
   "metadata": {
    "collapsed": true
   },
   "outputs": [],
   "source": [
    "average_shortest_path = nx.average_shortest_path_length(G0)"
   ]
  },
  {
   "cell_type": "code",
   "execution_count": 81,
   "metadata": {
    "collapsed": false
   },
   "outputs": [
    {
     "name": "stdout",
     "output_type": "stream",
     "text": [
      "Average shortest path: 2.3117378504226966\n"
     ]
    }
   ],
   "source": [
    "print(\"Average shortest path: {}\".format(average_shortest_path))"
   ]
  },
  {
   "cell_type": "markdown",
   "metadata": {},
   "source": [
    "## Was habe ich nun davon?\n",
    "Jetzt kommen hier irgendwelche Werte raus. Was mach ich mit denen?\n",
    "Ich müsste die ja mit irgendwas vergleichen. Ich könnte die zum Beispiel mit anderen Studien vergleichen.\n",
    "\n",
    "\n",
    "### Density\n",
    "*Mersch - Ameisen*\n",
    "\n",
    "Die haben eine Density von 0.75 (dannach wurden dann edges entfernt um besser die Communities zu finden).\n",
    "Hier ist die Density bei 0.1, bevor ich edges entfernt habe mit kleiner als 2 edge weight. So was sagt das jetzt. Ameisen reden mit allen Ameisen, Bienen wohl anscheinende nicht. Aber Achtung Achtung, verschieden konstruierte Netzwerke lassen sich nur beschränkt vergleichen. Obwohl ich jetzt davon aus gehen würde das das hier ok ist, da meine proximity eigentlich mehr umfassen müsste als Merschs-Interaktions-Ding.\n",
    "\n",
    "*Baracchi - Honey Bees*\n",
    "\n",
    "0.15, very low, compared to random network with same number of nodes and ties (What???? verstehe ich nicht). Hm.\n",
    "Also in dem Bereich bewege ich mich ja anscheinend auch. Das ist ja nett. Haben beide eine Ähnliche definition von interaktion/proximity verwendet.\n",
    "\n",
    "\n",
    "### Vorschlag von TU Menschen from long long ago\n",
    "\n",
    "Comparison with:\n",
    "* A) natural bees Networks (if we can find in the literature)\n",
    "* B) Random geometric graphs (die sehen ganz passend aus irgendwie)\n",
    "* C) mammals networks, e.g. Dolphins (warum würde man das machen wollen?)\n",
    "\n",
    "## Mit Random Graph vergleichen?\n",
    "Wenn ich da wieder drüber nachdenke, dann kann man sich ja einen random graph erzeugen, man hat eine große Auswahl: https://graph-tool.skewed.de/static/doc/generation.html oder http://networkx.readthedocs.io/en/stable/reference/generators.html und dann kann man die Netwerkeigenschaften untereinander vergleichen. Was bringt das denn? Warum sollte ich das machen wollen? Das würde ich doch nur machen wollen, wenn ich etwas bestimmtes zeigen möchte oder? Ich habe keine Ahnung was ich hier mit machen soll!"
   ]
  },
  {
   "cell_type": "markdown",
   "metadata": {},
   "source": [
    "## Is it a real network? Or created by chance? Does it make a difference?\n",
    "* degree distribution (not biniminal/poisson) - ja sieht nicht binominalverteilt aus, sieht ziemlich nach scale free, wenige hubs, viele knote mit wenig links\n",
    "* connectedness (giant component) - ja sieht ziemlich verbunden aus alles, gibt nur eine große komponente\n",
    "* average path length (~diameter) - ist hier auch ziemlich klein, Small-world phenomenon, $d = \\frac{\\ln nodes}{\\ln av degree}$\n",
    "* clustering coefficient - müsste höher sein als bei einem random network, jep ist es auch"
   ]
  },
  {
   "cell_type": "code",
   "execution_count": 89,
   "metadata": {
    "collapsed": false
   },
   "outputs": [],
   "source": [
    "random_g0 = nx.erdos_renyi_graph(n=nx.number_of_nodes(G0), p=density)"
   ]
  },
  {
   "cell_type": "code",
   "execution_count": 90,
   "metadata": {
    "collapsed": false
   },
   "outputs": [
    {
     "data": {
      "text/plain": [
       "'Name: gnp_random_graph(1498,0.11148509747577041)\\nType: Graph\\nNumber of nodes: 1498\\nNumber of edges: 125148\\nAverage degree: 167.0868'"
      ]
     },
     "execution_count": 90,
     "metadata": {},
     "output_type": "execute_result"
    }
   ],
   "source": [
    "nx.info(random_g0)"
   ]
  },
  {
   "cell_type": "code",
   "execution_count": 91,
   "metadata": {
    "collapsed": false
   },
   "outputs": [
    {
     "data": {
      "text/plain": [
       "125003"
      ]
     },
     "execution_count": 91,
     "metadata": {},
     "output_type": "execute_result"
    }
   ],
   "source": [
    "nx.number_of_edges(G0)"
   ]
  },
  {
   "cell_type": "code",
   "execution_count": 92,
   "metadata": {
    "collapsed": false
   },
   "outputs": [
    {
     "data": {
      "text/plain": [
       "0.11170937857183524"
      ]
     },
     "execution_count": 92,
     "metadata": {},
     "output_type": "execute_result"
    }
   ],
   "source": [
    "nx.average_clustering(random_g0)"
   ]
  },
  {
   "cell_type": "code",
   "execution_count": 93,
   "metadata": {
    "collapsed": false
   },
   "outputs": [
    {
     "data": {
      "text/plain": [
       "0.27407539016685495"
      ]
     },
     "execution_count": 93,
     "metadata": {},
     "output_type": "execute_result"
    }
   ],
   "source": [
    "nx.average_clustering(G0)"
   ]
  },
  {
   "cell_type": "markdown",
   "metadata": {},
   "source": [
    "So was hat man nun davon, man weiß jetzt das genau dieses Netzwerk kein random Netzwerk ist. Jetzt weiß ich es ist ein echtes Netzwerk. Scale-free, small world. D.h, wenn man jetzt eine bestimmte Eigenschaft des echten Netzwerks untersucht, dann kann man diese auch im random Netzwerk untersuchen. Gibt es die dort auch, dann ensteht es durch zufall, wenn nicht, dann ist dies Eigenschaft durch irgendwas entstanden. Was bringt einem das was??? Das sind reine Netwerkeigenscahften, das hat nichts mit den Eigenschaften/Verhalten von Bienen zu tun."
   ]
  },
  {
   "cell_type": "markdown",
   "metadata": {},
   "source": [
    "## Local structure (node level metrics)\n",
    "- [ ] node degree\n",
    "- [ ] centrality measures (degree, closeness, betweenness, eigenvector)\n",
    "- [ ] edge weights"
   ]
  },
  {
   "cell_type": "code",
   "execution_count": 3,
   "metadata": {
    "collapsed": false
   },
   "outputs": [
    {
     "ename": "ImportError",
     "evalue": "dlopen(/usr/local/lib/python2.7/site-packages/graph_tool/libgraph_tool_core.so, 8): Library not loaded: /usr/local/opt/boost-python/lib/libboost_python.dylib\n  Referenced from: /usr/local/lib/python2.7/site-packages/graph_tool/libgraph_tool_core.so\n  Reason: image not found",
     "output_type": "error",
     "traceback": [
      "\u001b[0;31m---------------------------------------------------------------------------\u001b[0m",
      "\u001b[0;31mImportError\u001b[0m                               Traceback (most recent call last)",
      "\u001b[0;32m<ipython-input-3-d020dee308ce>\u001b[0m in \u001b[0;36m<module>\u001b[0;34m()\u001b[0m\n\u001b[0;32m----> 1\u001b[0;31m \u001b[0;32mimport\u001b[0m \u001b[0mgraph_tool\u001b[0m \u001b[0;32mas\u001b[0m \u001b[0mgt\u001b[0m\u001b[0;34m\u001b[0m\u001b[0m\n\u001b[0m",
      "\u001b[0;32m/usr/local/lib/python2.7/site-packages/graph_tool/__init__.py\u001b[0m in \u001b[0;36m<module>\u001b[0;34m()\u001b[0m\n\u001b[1;32m    104\u001b[0m \u001b[0;34m\u001b[0m\u001b[0m\n\u001b[1;32m    105\u001b[0m \u001b[0;32mfrom\u001b[0m \u001b[0;34m.\u001b[0m\u001b[0mdl_import\u001b[0m \u001b[0;32mimport\u001b[0m \u001b[0;34m*\u001b[0m\u001b[0;34m\u001b[0m\u001b[0m\n\u001b[0;32m--> 106\u001b[0;31m \u001b[0mdl_import\u001b[0m\u001b[0;34m(\u001b[0m\u001b[0;34m\"from . import libgraph_tool_core as libcore\"\u001b[0m\u001b[0;34m)\u001b[0m\u001b[0;34m\u001b[0m\u001b[0m\n\u001b[0m\u001b[1;32m    107\u001b[0m \u001b[0m__version__\u001b[0m \u001b[0;34m=\u001b[0m \u001b[0mlibcore\u001b[0m\u001b[0;34m.\u001b[0m\u001b[0mmod_info\u001b[0m\u001b[0;34m(\u001b[0m\u001b[0;34m)\u001b[0m\u001b[0;34m.\u001b[0m\u001b[0mversion\u001b[0m\u001b[0;34m\u001b[0m\u001b[0m\n\u001b[1;32m    108\u001b[0m \u001b[0;34m\u001b[0m\u001b[0m\n",
      "\u001b[0;32m/usr/local/lib/python2.7/site-packages/graph_tool/dl_import.py\u001b[0m in \u001b[0;36mdl_import\u001b[0;34m(import_expr)\u001b[0m\n\u001b[1;32m     55\u001b[0m \u001b[0;34m\u001b[0m\u001b[0m\n\u001b[1;32m     56\u001b[0m     \u001b[0;32mtry\u001b[0m\u001b[0;34m:\u001b[0m\u001b[0;34m\u001b[0m\u001b[0m\n\u001b[0;32m---> 57\u001b[0;31m         \u001b[0;32mexec\u001b[0m\u001b[0;34m(\u001b[0m\u001b[0mimport_expr\u001b[0m\u001b[0;34m,\u001b[0m \u001b[0mlocal_dict\u001b[0m\u001b[0;34m,\u001b[0m \u001b[0mglobal_dict\u001b[0m\u001b[0;34m)\u001b[0m\u001b[0;34m\u001b[0m\u001b[0m\n\u001b[0m\u001b[1;32m     58\u001b[0m     \u001b[0;32mfinally\u001b[0m\u001b[0;34m:\u001b[0m\u001b[0;34m\u001b[0m\u001b[0m\n\u001b[1;32m     59\u001b[0m         \u001b[0msys\u001b[0m\u001b[0;34m.\u001b[0m\u001b[0msetdlopenflags\u001b[0m\u001b[0;34m(\u001b[0m\u001b[0morig_dlopen_flags\u001b[0m\u001b[0;34m)\u001b[0m  \u001b[0;31m# reset it to normal case to\u001b[0m\u001b[0;34m\u001b[0m\u001b[0m\n",
      "\u001b[0;32m<string>\u001b[0m in \u001b[0;36m<module>\u001b[0;34m()\u001b[0m\n",
      "\u001b[0;31mImportError\u001b[0m: dlopen(/usr/local/lib/python2.7/site-packages/graph_tool/libgraph_tool_core.so, 8): Library not loaded: /usr/local/opt/boost-python/lib/libboost_python.dylib\n  Referenced from: /usr/local/lib/python2.7/site-packages/graph_tool/libgraph_tool_core.so\n  Reason: image not found"
     ]
    }
   ],
   "source": [
    "import graph_tool as gt"
   ]
  },
  {
   "cell_type": "code",
   "execution_count": null,
   "metadata": {
    "collapsed": true
   },
   "outputs": [],
   "source": [
    "p = \"../1day20150822_0.95conf_160dist_3ilen_filtered.graphml\""
   ]
  },
  {
   "cell_type": "markdown",
   "metadata": {},
   "source": [
    "## Community detection\n",
    "- [ ] cliques\n",
    "- [ ] communities"
   ]
  }
 ],
 "metadata": {
  "anaconda-cloud": {},
  "kernelspec": {
   "display_name": "Python 2",
   "language": "python",
   "name": "python2"
  },
  "language_info": {
   "codemirror_mode": {
    "name": "ipython",
    "version": 2
   },
   "file_extension": ".py",
   "mimetype": "text/x-python",
   "name": "python",
   "nbconvert_exporter": "python",
   "pygments_lexer": "ipython2",
   "version": "2.7.9"
  }
 },
 "nbformat": 4,
 "nbformat_minor": 2
}
