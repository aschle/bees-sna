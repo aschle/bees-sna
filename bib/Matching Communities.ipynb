{
 "cells": [
  {
   "cell_type": "code",
   "execution_count": 3,
   "metadata": {
    "ExecuteTime": {
     "end_time": "2017-02-05T13:10:26.889650",
     "start_time": "2017-02-05T13:10:26.635633"
    },
    "collapsed": true
   },
   "outputs": [],
   "source": [
    "import networkx as nx\n",
    "import os\n",
    "import pandas as pd\n",
    "import numpy as np\n",
    "from pandas import DataFrame, Series\n",
    "import datetime\n",
    "import pytz\n",
    "import matplotlib.pyplot as plt\n",
    "import igraph as ig"
   ]
  },
  {
   "cell_type": "code",
   "execution_count": 2,
   "metadata": {
    "ExecuteTime": {
     "end_time": "2017-02-05T13:08:23.965274",
     "start_time": "2017-02-05T13:08:23.950368"
    },
    "collapsed": true
   },
   "outputs": [],
   "source": [
    "%matplotlib inline"
   ]
  },
  {
   "cell_type": "markdown",
   "metadata": {},
   "source": [
    "# Simple Relative Overlap"
   ]
  },
  {
   "cell_type": "markdown",
   "metadata": {},
   "source": [
    "## iGraph fastgreedy communities for two 160px and 6ilen hourly Graphs"
   ]
  },
  {
   "cell_type": "code",
   "execution_count": 77,
   "metadata": {
    "ExecuteTime": {
     "end_time": "2017-02-05T14:23:46.043093",
     "start_time": "2017-02-05T14:23:45.840553"
    },
    "collapsed": true
   },
   "outputs": [],
   "source": [
    "g0 = ig.Graph.Read_GraphML(\"networks-hours/2015-08-21T10:00:00Z_1h_allCams_0.99conf_160dist_6ilen.graphml\")\n",
    "g1 = ig.Graph.Read_GraphML(\"networks-hours/2015-08-21T11:00:00Z_1h_allCams_0.99conf_160dist_6ilen.graphml\")"
   ]
  },
  {
   "cell_type": "code",
   "execution_count": 6,
   "metadata": {
    "ExecuteTime": {
     "end_time": "2017-02-05T13:11:39.662529",
     "start_time": "2017-02-05T13:11:39.657592"
    },
    "collapsed": false
   },
   "outputs": [
    {
     "data": {
      "text/plain": [
       "'IGRAPH U-W- 772 5691 -- \\n+ attr: id (v), weight (e)'"
      ]
     },
     "execution_count": 6,
     "metadata": {},
     "output_type": "execute_result"
    }
   ],
   "source": [
    "g0.summary()"
   ]
  },
  {
   "cell_type": "code",
   "execution_count": 7,
   "metadata": {
    "ExecuteTime": {
     "end_time": "2017-02-05T13:11:47.031030",
     "start_time": "2017-02-05T13:11:47.025711"
    },
    "collapsed": false
   },
   "outputs": [
    {
     "data": {
      "text/plain": [
       "'IGRAPH U-W- 767 6446 -- \\n+ attr: id (v), weight (e)'"
      ]
     },
     "execution_count": 7,
     "metadata": {},
     "output_type": "execute_result"
    }
   ],
   "source": [
    "g1.summary()"
   ]
  },
  {
   "cell_type": "code",
   "execution_count": 30,
   "metadata": {
    "ExecuteTime": {
     "end_time": "2017-02-05T13:25:45.978402",
     "start_time": "2017-02-05T13:25:45.899517"
    },
    "collapsed": false
   },
   "outputs": [],
   "source": [
    "d0 = g0.community_fastgreedy()\n",
    "vc0 = d0.as_clustering(d0.optimal_count)"
   ]
  },
  {
   "cell_type": "code",
   "execution_count": 31,
   "metadata": {
    "ExecuteTime": {
     "end_time": "2017-02-05T13:25:46.657155",
     "start_time": "2017-02-05T13:25:46.651769"
    },
    "collapsed": false
   },
   "outputs": [
    {
     "data": {
      "text/plain": [
       "[5, 143, 230, 358, 2, 3, 4, 19, 6, 2]"
      ]
     },
     "execution_count": 31,
     "metadata": {},
     "output_type": "execute_result"
    }
   ],
   "source": [
    "vc0.sizes()"
   ]
  },
  {
   "cell_type": "code",
   "execution_count": 32,
   "metadata": {
    "ExecuteTime": {
     "end_time": "2017-02-05T13:25:47.223839",
     "start_time": "2017-02-05T13:25:47.127915"
    },
    "collapsed": false
   },
   "outputs": [],
   "source": [
    "d1 = g1.community_fastgreedy()\n",
    "vc1 = d1.as_clustering(d1.optimal_count)"
   ]
  },
  {
   "cell_type": "code",
   "execution_count": 33,
   "metadata": {
    "ExecuteTime": {
     "end_time": "2017-02-05T13:25:47.613487",
     "start_time": "2017-02-05T13:25:47.608198"
    },
    "collapsed": false
   },
   "outputs": [
    {
     "data": {
      "text/plain": [
       "[274, 180, 294, 11, 3, 3, 2]"
      ]
     },
     "execution_count": 33,
     "metadata": {},
     "output_type": "execute_result"
    }
   ],
   "source": [
    "vc1.sizes()"
   ]
  },
  {
   "cell_type": "markdown",
   "metadata": {},
   "source": [
    "Compare to geht nicht, da die Graphen, verschiedene Anzahlen an Knoten haben :("
   ]
  },
  {
   "cell_type": "markdown",
   "metadata": {},
   "source": [
    "## Vergleichen der Communities"
   ]
  },
  {
   "cell_type": "code",
   "execution_count": 34,
   "metadata": {
    "ExecuteTime": {
     "end_time": "2017-02-05T13:25:50.527138",
     "start_time": "2017-02-05T13:25:50.518508"
    },
    "code_folding": [
     0
    ],
    "collapsed": true
   },
   "outputs": [],
   "source": [
    "def getCommunitiesFastGreedy(g):\n",
    "\n",
    "    fg = g.community_fastgreedy()\n",
    "    vc = fg.as_clustering(fg.optimal_count)\n",
    "\n",
    "    membership = vc.membership\n",
    "    ids = [[] for i in range(len(vc.sizes()))]\n",
    "\n",
    "    for name, membership in zip(g.vs, membership):\n",
    "        ids[membership].append(int(name['id']))\n",
    "\n",
    "    return ids"
   ]
  },
  {
   "cell_type": "code",
   "execution_count": 78,
   "metadata": {
    "ExecuteTime": {
     "end_time": "2017-02-05T14:23:49.444157",
     "start_time": "2017-02-05T14:23:48.923335"
    },
    "collapsed": false
   },
   "outputs": [],
   "source": [
    "list0 = getCommunitiesFastGreedy(g0)"
   ]
  },
  {
   "cell_type": "code",
   "execution_count": 79,
   "metadata": {
    "ExecuteTime": {
     "end_time": "2017-02-05T14:23:49.997886",
     "start_time": "2017-02-05T14:23:49.539769"
    },
    "collapsed": true
   },
   "outputs": [],
   "source": [
    "list1 = getCommunitiesFastGreedy(g1)"
   ]
  },
  {
   "cell_type": "code",
   "execution_count": 73,
   "metadata": {
    "ExecuteTime": {
     "end_time": "2017-02-05T14:23:18.364146",
     "start_time": "2017-02-05T14:23:18.359440"
    },
    "collapsed": true
   },
   "outputs": [],
   "source": [
    "def overlap1(s0, s1):\n",
    "    x = len(set(s0).intersection(s1))\n",
    "    y = len(set(s0).union(s1))\n",
    "    return x/y"
   ]
  },
  {
   "cell_type": "code",
   "execution_count": 74,
   "metadata": {
    "ExecuteTime": {
     "end_time": "2017-02-05T14:23:18.781637",
     "start_time": "2017-02-05T14:23:18.777235"
    },
    "collapsed": true
   },
   "outputs": [],
   "source": [
    "def overlap2(s0,s1):\n",
    "    x = len(set(s0).intersection(s1))\n",
    "    return min(x/len(s0), x/len(s1))"
   ]
  },
  {
   "cell_type": "code",
   "execution_count": 66,
   "metadata": {
    "ExecuteTime": {
     "end_time": "2017-02-05T14:13:22.275841",
     "start_time": "2017-02-05T14:13:22.270718"
    },
    "collapsed": false
   },
   "outputs": [
    {
     "data": {
      "text/plain": [
       "0.14285714285714285"
      ]
     },
     "execution_count": 66,
     "metadata": {},
     "output_type": "execute_result"
    }
   ],
   "source": [
    "overlap1([5,6,7], [1,2,3,4,5])"
   ]
  },
  {
   "cell_type": "code",
   "execution_count": 67,
   "metadata": {
    "ExecuteTime": {
     "end_time": "2017-02-05T14:13:56.387011",
     "start_time": "2017-02-05T14:13:56.381813"
    },
    "collapsed": false
   },
   "outputs": [
    {
     "data": {
      "text/plain": [
       "0.2"
      ]
     },
     "execution_count": 67,
     "metadata": {},
     "output_type": "execute_result"
    }
   ],
   "source": [
    "overlap2([5,6,7], [1,2,3,4,5])"
   ]
  },
  {
   "cell_type": "code",
   "execution_count": 82,
   "metadata": {
    "ExecuteTime": {
     "end_time": "2017-02-05T14:26:10.939621",
     "start_time": "2017-02-05T14:26:10.929696"
    },
    "collapsed": false
   },
   "outputs": [],
   "source": [
    "overlap = []\n",
    "\n",
    "for e0, l0 in enumerate(list0):\n",
    "    for e1, l1 in enumerate(list1):\n",
    "        overlap.append((e0,e1, overlap1(l0,l1)))\n",
    "        "
   ]
  },
  {
   "cell_type": "code",
   "execution_count": 83,
   "metadata": {
    "ExecuteTime": {
     "end_time": "2017-02-05T14:26:11.488187",
     "start_time": "2017-02-05T14:26:11.477316"
    },
    "collapsed": false
   },
   "outputs": [
    {
     "data": {
      "text/plain": [
       "[(0, 0, 0.5615212527964206),\n",
       " (0, 1, 0.05575539568345324),\n",
       " (0, 2, 0.03404255319148936),\n",
       " (0, 3, 0.0029069767441860465),\n",
       " (0, 4, 0.0),\n",
       " (1, 0, 0.05263157894736842),\n",
       " (1, 1, 0.152014652014652),\n",
       " (1, 2, 0.48841698841698844),\n",
       " (1, 3, 0.0),\n",
       " (1, 4, 0.0),\n",
       " (2, 0, 0.0726950354609929),\n",
       " (2, 1, 0.2931937172774869),\n",
       " (2, 2, 0.16058394160583941),\n",
       " (2, 3, 0.00398406374501992),\n",
       " (2, 4, 0.00398406374501992),\n",
       " (3, 0, 0.002777777777777778),\n",
       " (3, 1, 0.012145748987854251),\n",
       " (3, 2, 0.005128205128205128),\n",
       " (3, 3, 0.0),\n",
       " (3, 4, 0.0),\n",
       " (4, 0, 0.0027548209366391185),\n",
       " (4, 1, 0.00796812749003984),\n",
       " (4, 2, 0.015424164524421594),\n",
       " (4, 3, 0.0),\n",
       " (4, 4, 0.0)]"
      ]
     },
     "execution_count": 83,
     "metadata": {},
     "output_type": "execute_result"
    }
   ],
   "source": [
    "overlap"
   ]
  },
  {
   "cell_type": "markdown",
   "metadata": {},
   "source": [
    "## For daylie Networks"
   ]
  },
  {
   "cell_type": "code",
   "execution_count": 125,
   "metadata": {
    "ExecuteTime": {
     "end_time": "2017-02-05T17:46:22.979606",
     "start_time": "2017-02-05T17:46:22.971516"
    },
    "collapsed": true
   },
   "outputs": [],
   "source": [
    "def getMatches(g0,g1):\n",
    "    list0 = getCommunitiesFastGreedy(g0)\n",
    "    list1 = getCommunitiesFastGreedy(g1)\n",
    "    \n",
    "    overlap = []\n",
    "\n",
    "    for e0, l0 in enumerate(list0):\n",
    "        for e1, l1 in enumerate(list1):\n",
    "            overlap.append((e0,e1, len(l0), len(l1), overlap1(l0,l1)))\n",
    "    \n",
    "    return overlap"
   ]
  },
  {
   "cell_type": "code",
   "execution_count": 126,
   "metadata": {
    "ExecuteTime": {
     "end_time": "2017-02-05T17:46:31.623641",
     "start_time": "2017-02-05T17:46:30.104185"
    },
    "collapsed": true
   },
   "outputs": [],
   "source": [
    "gd0 = ig.Graph.Read_GraphML(\"networks-days/2015-08-21T00:00:00Z_1d_allCams_0.99conf_160dist_6ilen.graphml\")\n",
    "gd1 = ig.Graph.Read_GraphML(\"networks-days/2015-08-22T00:00:00Z_1d_allCams_0.99conf_160dist_6ilen.graphml\")"
   ]
  },
  {
   "cell_type": "code",
   "execution_count": 127,
   "metadata": {
    "ExecuteTime": {
     "end_time": "2017-02-05T17:46:34.250745",
     "start_time": "2017-02-05T17:46:32.173356"
    },
    "collapsed": true
   },
   "outputs": [],
   "source": [
    "gd2 = ig.Graph.Read_GraphML(\"networks-days/2015-08-23T00:00:00Z_1d_allCams_0.99conf_160dist_6ilen.graphml\")\n",
    "gd3 = ig.Graph.Read_GraphML(\"networks-days/2015-08-24T00:00:00Z_1d_allCams_0.99conf_160dist_6ilen.graphml\")\n",
    "gd4 = ig.Graph.Read_GraphML(\"networks-days/2015-08-25T00:00:00Z_1d_allCams_0.99conf_160dist_6ilen.graphml\")"
   ]
  },
  {
   "cell_type": "code",
   "execution_count": 128,
   "metadata": {
    "ExecuteTime": {
     "end_time": "2017-02-05T17:46:43.958152",
     "start_time": "2017-02-05T17:46:34.534921"
    },
    "collapsed": false
   },
   "outputs": [
    {
     "data": {
      "text/plain": [
       "[(0, 0, 509, 526, 0.5356083086053413),\n",
       " (0, 1, 509, 654, 0.028293545534924844),\n",
       " (0, 2, 509, 2, 0.0),\n",
       " (1, 0, 661, 526, 0.0448943661971831),\n",
       " (1, 1, 661, 654, 0.7234600262123198),\n",
       " (1, 2, 661, 2, 0.0015105740181268882),\n",
       " (2, 0, 3, 526, 0.003795066413662239),\n",
       " (2, 1, 3, 654, 0.0),\n",
       " (2, 2, 3, 2, 0.0),\n",
       " (3, 0, 12, 526, 0.011278195488721804),\n",
       " (3, 1, 12, 654, 0.0030120481927710845),\n",
       " (3, 2, 12, 2, 0.0),\n",
       " (4, 0, 8, 526, 0.007547169811320755),\n",
       " (4, 1, 8, 654, 0.0060790273556231),\n",
       " (4, 2, 8, 2, 0.0),\n",
       " (5, 0, 9, 526, 0.011342155009451797),\n",
       " (5, 1, 9, 654, 0.0030257186081694403),\n",
       " (5, 2, 9, 2, 0.0)]"
      ]
     },
     "execution_count": 128,
     "metadata": {},
     "output_type": "execute_result"
    }
   ],
   "source": [
    "getMatches(gd0,gd1)"
   ]
  },
  {
   "cell_type": "code",
   "execution_count": 129,
   "metadata": {
    "ExecuteTime": {
     "end_time": "2017-02-05T17:48:26.755603",
     "start_time": "2017-02-05T17:48:18.003086"
    },
    "collapsed": false
   },
   "outputs": [
    {
     "data": {
      "text/plain": [
       "[(0, 0, 526, 633, 0.02475685234305924),\n",
       " (0, 1, 526, 510, 0.553223388305847),\n",
       " (0, 2, 526, 8, 0.0037593984962406013),\n",
       " (0, 3, 526, 4, 0.003787878787878788),\n",
       " (1, 0, 654, 633, 0.716),\n",
       " (1, 1, 654, 510, 0.043010752688172046),\n",
       " (1, 2, 654, 8, 0.004552352048558422),\n",
       " (1, 3, 654, 4, 0.0015220700152207),\n",
       " (2, 0, 2, 633, 0.0015772870662460567),\n",
       " (2, 1, 2, 510, 0.0),\n",
       " (2, 2, 2, 8, 0.0),\n",
       " (2, 3, 2, 4, 0.0)]"
      ]
     },
     "execution_count": 129,
     "metadata": {},
     "output_type": "execute_result"
    }
   ],
   "source": [
    "getMatches(gd1,gd2)"
   ]
  },
  {
   "cell_type": "code",
   "execution_count": 130,
   "metadata": {
    "ExecuteTime": {
     "end_time": "2017-02-05T17:48:34.516679",
     "start_time": "2017-02-05T17:48:26.757810"
    },
    "collapsed": false
   },
   "outputs": [
    {
     "data": {
      "text/plain": [
       "[(0, 0, 633, 584, 0.6740027510316369),\n",
       " (0, 1, 633, 541, 0.05008944543828265),\n",
       " (0, 2, 633, 9, 0.0015600624024961),\n",
       " (1, 0, 510, 584, 0.016728624535315983),\n",
       " (1, 1, 510, 541, 0.525399129172714),\n",
       " (1, 2, 510, 9, 0.007766990291262136),\n",
       " (2, 0, 8, 584, 0.003389830508474576),\n",
       " (2, 1, 8, 541, 0.003656307129798903),\n",
       " (2, 2, 8, 9, 0.0625),\n",
       " (3, 0, 4, 584, 0.0),\n",
       " (3, 1, 4, 541, 0.003683241252302026),\n",
       " (3, 2, 4, 9, 0.0)]"
      ]
     },
     "execution_count": 130,
     "metadata": {},
     "output_type": "execute_result"
    }
   ],
   "source": [
    "getMatches(gd2,gd3)"
   ]
  },
  {
   "cell_type": "code",
   "execution_count": 131,
   "metadata": {
    "ExecuteTime": {
     "end_time": "2017-02-05T17:48:40.673071",
     "start_time": "2017-02-05T17:48:34.519039"
    },
    "collapsed": false
   },
   "outputs": [
    {
     "data": {
      "text/plain": [
       "[(0, 0, 584, 637, 0.5436156763590392),\n",
       " (0, 1, 584, 502, 0.04725168756027001),\n",
       " (0, 2, 584, 12, 0.006756756756756757),\n",
       " (1, 0, 541, 637, 0.03788546255506608),\n",
       " (1, 1, 541, 502, 0.5094066570188133),\n",
       " (1, 2, 541, 12, 0.009124087591240875),\n",
       " (2, 0, 9, 637, 0.004665629860031105),\n",
       " (2, 1, 9, 502, 0.007889546351084813),\n",
       " (2, 2, 9, 12, 0.0)]"
      ]
     },
     "execution_count": 131,
     "metadata": {},
     "output_type": "execute_result"
    }
   ],
   "source": [
    "getMatches(gd3,gd4)"
   ]
  },
  {
   "cell_type": "markdown",
   "metadata": {},
   "source": [
    "## Das ganze mit k-cliques>"
   ]
  },
  {
   "cell_type": "code",
   "execution_count": 97,
   "metadata": {
    "ExecuteTime": {
     "end_time": "2017-02-05T14:53:51.945513",
     "start_time": "2017-02-05T14:53:51.932041"
    },
    "collapsed": true
   },
   "outputs": [],
   "source": [
    "def getMatchesKCC(g0,g1,k):\n",
    "    list0 = list(nx.community.k_clique_communities(g0,k))\n",
    "    list1 = list(nx.community.k_clique_communities(g1,k))\n",
    "    \n",
    "    overlap = []\n",
    "\n",
    "    for e0, l0 in enumerate(list0):\n",
    "        for e1, l1 in enumerate(list1):\n",
    "            overlap.append((e0,e1, overlap1(l0,l1)))\n",
    "    \n",
    "    return overlap"
   ]
  },
  {
   "cell_type": "code",
   "execution_count": null,
   "metadata": {
    "collapsed": true
   },
   "outputs": [],
   "source": [
    "gh0 = nx.read_graphml(\"networks-hours/2015-08-21T10:00:00Z_1h_allCams_0.99conf_160dist_6ilen.graphml\")\n",
    "gh1 = nx.read_graphml(\"networks-hours/2015-08-21T11:00:00Z_1h_allCams_0.99conf_160dist_6ilen.graphml\")"
   ]
  },
  {
   "cell_type": "code",
   "execution_count": 117,
   "metadata": {
    "ExecuteTime": {
     "end_time": "2017-02-05T15:01:32.172257",
     "start_time": "2017-02-05T15:01:31.297901"
    },
    "collapsed": true
   },
   "outputs": [],
   "source": [
    "gh2 = nx.read_graphml(\"networks-hours/2015-08-21T12:00:00Z_1h_allCams_0.99conf_160dist_6ilen.graphml\")"
   ]
  },
  {
   "cell_type": "code",
   "execution_count": 115,
   "metadata": {
    "ExecuteTime": {
     "end_time": "2017-02-05T15:00:53.986387",
     "start_time": "2017-02-05T15:00:35.434405"
    },
    "collapsed": false,
    "scrolled": false
   },
   "outputs": [],
   "source": [
    "result = getMatchesKCC(gh0, gh1, 3)"
   ]
  },
  {
   "cell_type": "code",
   "execution_count": 116,
   "metadata": {
    "ExecuteTime": {
     "end_time": "2017-02-05T15:00:53.993760",
     "start_time": "2017-02-05T15:00:53.988424"
    },
    "collapsed": false,
    "scrolled": false
   },
   "outputs": [
    {
     "data": {
      "text/plain": [
       "[(0, 0, 0.8276209677419355)]"
      ]
     },
     "execution_count": 116,
     "metadata": {},
     "output_type": "execute_result"
    }
   ],
   "source": [
    "[(a,b,c) for a,b,c in result if c > 0.2]"
   ]
  },
  {
   "cell_type": "code",
   "execution_count": 120,
   "metadata": {
    "ExecuteTime": {
     "end_time": "2017-02-05T15:02:06.848041",
     "start_time": "2017-02-05T15:02:02.320097"
    },
    "collapsed": true
   },
   "outputs": [],
   "source": [
    "result = getMatchesKCC(gh1, gh2, 4)"
   ]
  },
  {
   "cell_type": "code",
   "execution_count": 121,
   "metadata": {
    "ExecuteTime": {
     "end_time": "2017-02-05T15:02:06.857299",
     "start_time": "2017-02-05T15:02:06.850310"
    },
    "collapsed": false
   },
   "outputs": [
    {
     "data": {
      "text/plain": [
       "[(0, 0, 0.5977011494252874),\n",
       " (14, 49, 0.2222222222222222),\n",
       " (19, 45, 0.2857142857142857),\n",
       " (47, 57, 0.3333333333333333),\n",
       " (84, 48, 0.2857142857142857),\n",
       " (85, 95, 0.2857142857142857),\n",
       " (108, 40, 0.2222222222222222)]"
      ]
     },
     "execution_count": 121,
     "metadata": {},
     "output_type": "execute_result"
    }
   ],
   "source": [
    "[(a,b,c) for a,b,c in result if c > 0.2]"
   ]
  },
  {
   "cell_type": "markdown",
   "metadata": {},
   "source": [
    "# KCC Matching Palla"
   ]
  },
  {
   "cell_type": "code",
   "execution_count": 147,
   "metadata": {
    "ExecuteTime": {
     "end_time": "2017-02-05T18:26:52.179891",
     "start_time": "2017-02-05T18:26:52.176618"
    },
    "collapsed": true
   },
   "outputs": [],
   "source": [
    "k=4"
   ]
  },
  {
   "cell_type": "code",
   "execution_count": 148,
   "metadata": {
    "ExecuteTime": {
     "end_time": "2017-02-05T18:26:54.468276",
     "start_time": "2017-02-05T18:26:52.753725"
    },
    "collapsed": true
   },
   "outputs": [],
   "source": [
    "gh0 = nx.read_graphml(\"networks-hours/2015-08-21T10:00:00Z_1h_allCams_0.99conf_160dist_6ilen.graphml\")\n",
    "gh1 = nx.read_graphml(\"networks-hours/2015-08-21T11:00:00Z_1h_allCams_0.99conf_160dist_6ilen.graphml\")"
   ]
  },
  {
   "cell_type": "code",
   "execution_count": 149,
   "metadata": {
    "ExecuteTime": {
     "end_time": "2017-02-05T18:27:04.143235",
     "start_time": "2017-02-05T18:26:54.470782"
    },
    "collapsed": true
   },
   "outputs": [],
   "source": [
    "list0 = list(nx.community.k_clique_communities(gh0,k))\n",
    "list1 = list(nx.community.k_clique_communities(gh1,k))"
   ]
  },
  {
   "cell_type": "code",
   "execution_count": 154,
   "metadata": {
    "ExecuteTime": {
     "end_time": "2017-02-05T18:27:22.404986",
     "start_time": "2017-02-05T18:27:22.400861"
    },
    "collapsed": false
   },
   "outputs": [
    {
     "name": "stdout",
     "output_type": "stream",
     "text": [
      "127\n"
     ]
    }
   ],
   "source": [
    "print(len(list0))"
   ]
  },
  {
   "cell_type": "code",
   "execution_count": 156,
   "metadata": {
    "ExecuteTime": {
     "end_time": "2017-02-05T18:27:35.708126",
     "start_time": "2017-02-05T18:27:35.704176"
    },
    "collapsed": false
   },
   "outputs": [
    {
     "name": "stdout",
     "output_type": "stream",
     "text": [
      "145\n"
     ]
    }
   ],
   "source": [
    "print(len(list1))"
   ]
  },
  {
   "cell_type": "code",
   "execution_count": 150,
   "metadata": {
    "ExecuteTime": {
     "end_time": "2017-02-05T18:27:04.150716",
     "start_time": "2017-02-05T18:27:04.145649"
    },
    "collapsed": false
   },
   "outputs": [
    {
     "name": "stdout",
     "output_type": "stream",
     "text": [
      "Name: \n",
      "Type: Graph\n",
      "Number of nodes: 993\n",
      "Number of edges: 14991\n",
      "Average degree:  30.1934\n"
     ]
    }
   ],
   "source": [
    "print(nx.info(gh0))"
   ]
  },
  {
   "cell_type": "code",
   "execution_count": 151,
   "metadata": {
    "ExecuteTime": {
     "end_time": "2017-02-05T18:27:04.158818",
     "start_time": "2017-02-05T18:27:04.152827"
    },
    "collapsed": false
   },
   "outputs": [
    {
     "name": "stdout",
     "output_type": "stream",
     "text": [
      "Name: \n",
      "Type: Graph\n",
      "Number of nodes: 989\n",
      "Number of edges: 13255\n",
      "Average degree:  26.8049\n"
     ]
    }
   ],
   "source": [
    "print(nx.info(gh1))"
   ]
  },
  {
   "cell_type": "code",
   "execution_count": 157,
   "metadata": {
    "ExecuteTime": {
     "end_time": "2017-02-05T18:27:52.354704",
     "start_time": "2017-02-05T18:27:52.244833"
    },
    "collapsed": false
   },
   "outputs": [],
   "source": [
    "gh01 = nx.compose(gh0,gh1)"
   ]
  },
  {
   "cell_type": "code",
   "execution_count": 158,
   "metadata": {
    "ExecuteTime": {
     "end_time": "2017-02-05T18:27:53.305386",
     "start_time": "2017-02-05T18:27:53.299845"
    },
    "collapsed": false
   },
   "outputs": [
    {
     "name": "stdout",
     "output_type": "stream",
     "text": [
      "Name: compose( ,  )\n",
      "Type: Graph\n",
      "Number of nodes: 1044\n",
      "Number of edges: 27171\n",
      "Average degree:  52.0517\n"
     ]
    }
   ],
   "source": [
    "print(nx.info(gh01))"
   ]
  },
  {
   "cell_type": "code",
   "execution_count": 159,
   "metadata": {
    "ExecuteTime": {
     "end_time": "2017-02-05T18:30:30.266478",
     "start_time": "2017-02-05T18:27:55.914314"
    },
    "collapsed": false,
    "scrolled": true
   },
   "outputs": [],
   "source": [
    "# Communities in Joint Graph\n",
    "list01 = list(nx.community.k_clique_communities(gh01,k))"
   ]
  },
  {
   "cell_type": "code",
   "execution_count": 160,
   "metadata": {
    "ExecuteTime": {
     "end_time": "2017-02-05T18:30:30.273068",
     "start_time": "2017-02-05T18:30:30.268654"
    },
    "collapsed": false
   },
   "outputs": [
    {
     "data": {
      "text/plain": [
       "72"
      ]
     },
     "execution_count": 160,
     "metadata": {},
     "output_type": "execute_result"
    }
   ],
   "source": [
    "len(list01)"
   ]
  },
  {
   "cell_type": "code",
   "execution_count": 161,
   "metadata": {
    "ExecuteTime": {
     "end_time": "2017-02-05T18:30:34.965725",
     "start_time": "2017-02-05T18:30:34.961426"
    },
    "collapsed": true
   },
   "outputs": [],
   "source": [
    "# For each community v_k in the joint graph\n",
    "# extract a list of communities d_ik contained in v_k\n",
    "# extract a list of communities e_ik contained in v_k"
   ]
  },
  {
   "cell_type": "code",
   "execution_count": 206,
   "metadata": {
    "ExecuteTime": {
     "end_time": "2017-02-05T18:48:26.348399",
     "start_time": "2017-02-05T18:48:26.343792"
    },
    "collapsed": true
   },
   "outputs": [],
   "source": [
    "d = [[] for i in range(len(list01))]\n",
    "e = [[] for i in range(len(list01))]"
   ]
  },
  {
   "cell_type": "code",
   "execution_count": 207,
   "metadata": {
    "ExecuteTime": {
     "end_time": "2017-02-05T18:48:26.754630",
     "start_time": "2017-02-05T18:48:26.731145"
    },
    "code_folding": [],
    "collapsed": true
   },
   "outputs": [],
   "source": [
    "for e01, l01 in enumerate(list01):\n",
    "    for e0, l0 in enumerate(list0):\n",
    "        if (set(l0).issubset(l01)):\n",
    "            d[e01].append(l0)\n",
    "    \n",
    "    for e1, l1 in enumerate(list1):\n",
    "        if (set(l1).issubset(l01)):\n",
    "            e[e01].append(l1)"
   ]
  },
  {
   "cell_type": "code",
   "execution_count": 213,
   "metadata": {
    "ExecuteTime": {
     "end_time": "2017-02-05T18:50:23.520776",
     "start_time": "2017-02-05T18:50:23.449949"
    },
    "collapsed": false
   },
   "outputs": [],
   "source": [
    "# calculate relative overlap for each pairs\n",
    "o = [[] for i in range(len(list01))]\n",
    "\n",
    "for i in range(len(list01)):\n",
    "    for ed, di in enumerate(d[i]):\n",
    "        for ee, ei in enumerate(e[i]):\n",
    "            o[i].append((ed,ee, overlap1(di,ei)))\n",
    "    \n",
    "    "
   ]
  },
  {
   "cell_type": "code",
   "execution_count": 240,
   "metadata": {
    "ExecuteTime": {
     "end_time": "2017-02-07T12:44:35.226750",
     "start_time": "2017-02-07T12:44:35.207727"
    },
    "collapsed": false,
    "scrolled": false
   },
   "outputs": [
    {
     "name": "stdout",
     "output_type": "stream",
     "text": [
      "[(0, 0, 0.6519721577726219), (10, 97, 0.3333333333333333), (14, 115, 0.3333333333333333), (14, 141, 0.3333333333333333), (33, 20, 0.25), (54, 45, 0.3333333333333333), (59, 62, 0.2857142857142857), (88, 9, 0.3333333333333333), (88, 41, 0.3333333333333333)]\n",
      "[]\n",
      "[]\n",
      "[]\n",
      "[]\n",
      "[]\n",
      "[]\n",
      "[]\n",
      "[]\n",
      "[]\n",
      "[]\n",
      "[]\n",
      "[]\n",
      "[]\n",
      "[]\n",
      "[]\n",
      "[]\n",
      "[]\n",
      "[]\n",
      "[]\n",
      "[]\n",
      "[]\n",
      "[]\n",
      "[]\n",
      "[]\n",
      "[]\n",
      "[]\n",
      "[]\n",
      "[]\n",
      "[]\n",
      "[]\n",
      "[]\n",
      "[]\n",
      "[]\n",
      "[]\n",
      "[]\n",
      "[]\n",
      "[]\n",
      "[]\n",
      "[]\n",
      "[]\n",
      "[]\n",
      "[]\n",
      "[]\n",
      "[]\n",
      "[]\n",
      "[]\n",
      "[]\n",
      "[]\n",
      "[]\n",
      "[]\n",
      "[]\n",
      "[]\n",
      "[]\n",
      "[]\n",
      "[]\n",
      "[]\n",
      "[]\n",
      "[]\n",
      "[]\n",
      "[]\n",
      "[]\n",
      "[]\n",
      "[]\n",
      "[]\n",
      "[]\n",
      "[]\n",
      "[]\n",
      "[]\n",
      "[]\n",
      "[]\n",
      "[]\n"
     ]
    }
   ],
   "source": [
    "for i in range(len(o)):\n",
    "    print([(a,b,c) for a,b,c in o[i] if c > 0.2])"
   ]
  },
  {
   "cell_type": "code",
   "execution_count": null,
   "metadata": {
    "collapsed": true
   },
   "outputs": [],
   "source": []
  }
 ],
 "metadata": {
  "anaconda-cloud": {},
  "kernelspec": {
   "display_name": "Python [conda root]",
   "language": "python",
   "name": "conda-root-py"
  },
  "language_info": {
   "codemirror_mode": {
    "name": "ipython",
    "version": 3
   },
   "file_extension": ".py",
   "mimetype": "text/x-python",
   "name": "python",
   "nbconvert_exporter": "python",
   "pygments_lexer": "ipython3",
   "version": "3.5.2"
  },
  "toc": {
   "colors": {
    "hover_highlight": "#DAA520",
    "running_highlight": "#FF0000",
    "selected_highlight": "#FFD700"
   },
   "moveMenuLeft": true,
   "nav_menu": {
    "height": "135px",
    "width": "252px"
   },
   "navigate_menu": true,
   "number_sections": true,
   "sideBar": true,
   "threshold": 4,
   "toc_cell": false,
   "toc_position": {
    "height": "881px",
    "left": "0px",
    "right": "1708px",
    "top": "106px",
    "width": "212px"
   },
   "toc_section_display": "block",
   "toc_window_display": true
  }
 },
 "nbformat": 4,
 "nbformat_minor": 2
}
