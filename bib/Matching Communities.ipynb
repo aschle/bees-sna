{
 "cells": [
  {
   "cell_type": "code",
   "execution_count": 95,
   "metadata": {
    "ExecuteTime": {
     "end_time": "2017-03-14T20:47:20.012945",
     "start_time": "2017-03-14T20:47:19.993783"
    },
    "collapsed": true
   },
   "outputs": [],
   "source": [
    "import networkx as nx\n",
    "import os\n",
    "import pandas as pd\n",
    "import numpy as np\n",
    "from pandas import DataFrame, Series\n",
    "import datetime\n",
    "import pytz\n",
    "import matplotlib.pyplot as plt\n",
    "import igraph as ig\n",
    "import hatching as ht"
   ]
  },
  {
   "cell_type": "code",
   "execution_count": 4,
   "metadata": {
    "ExecuteTime": {
     "end_time": "2017-03-14T19:40:31.420694",
     "start_time": "2017-03-14T19:40:31.404476"
    },
    "collapsed": true
   },
   "outputs": [],
   "source": [
    "%matplotlib inline"
   ]
  },
  {
   "cell_type": "code",
   "execution_count": 5,
   "metadata": {
    "ExecuteTime": {
     "end_time": "2017-03-14T19:40:32.576938",
     "start_time": "2017-03-14T19:40:32.564597"
    },
    "collapsed": true
   },
   "outputs": [],
   "source": [
    "def getAllNetworks(folder):\n",
    "    graph_files = os.listdir(\"{}/\".format(folder))\n",
    "    graph_files = [g for g in graph_files if g.endswith('.graphml')]\n",
    "    graph_files.sort()\n",
    "    \n",
    "    print(graph_files)\n",
    "    g_list = []\n",
    "    for f in graph_files:\n",
    "        g_list.append((f, ig.Graph.Read_GraphML(\"{}/{}\".format(folder,f))))\n",
    "    return g_list"
   ]
  },
  {
   "cell_type": "markdown",
   "metadata": {},
   "source": [
    "# Communities over time"
   ]
  },
  {
   "cell_type": "code",
   "execution_count": 139,
   "metadata": {
    "ExecuteTime": {
     "end_time": "2017-03-17T21:54:41.990755",
     "start_time": "2017-03-17T21:54:18.585088"
    },
    "collapsed": false
   },
   "outputs": [
    {
     "name": "stdout",
     "output_type": "stream",
     "text": [
      "['0813_10h_95conf_212dist_3ilen_2gap_600minutes_2016-08-13_08:00:00+00:00.graphml', '0814_10h_95conf_212dist_3ilen_2gap_600minutes_2016-08-14_08:00:00+00:00.graphml', '0816_10h_95conf_212dist_3ilen_2gap_600minutes_2016-08-16_08:00:00+00:00.graphml', '0817_10h_95conf_212dist_3ilen_2gap_600minutes_2016-08-17_08:00:00+00:00.graphml', '0820_10h_95conf_212dist_3ilen_2gap_600minutes_2016-08-20_08:00:00+00:00.graphml', '0822_10h_95conf_212dist_3ilen_2gap_600minutes_2016-08-22_08:00:00+00:00.graphml', '0824_10h_95conf_212dist_3ilen_2gap_600minutes_2016-08-24_08:00:00+00:00.graphml', '0825_10h_95conf_212dist_3ilen_2gap_600minutes_2016-08-25_08:00:00+00:00.graphml', '0902_10h_95conf_212dist_3ilen_2gap_600minutes_2016-09-02_08:00:00+00:00.graphml']\n"
     ]
    }
   ],
   "source": [
    "g_list = getAllNetworks('networks/')"
   ]
  },
  {
   "cell_type": "code",
   "execution_count": 140,
   "metadata": {
    "ExecuteTime": {
     "end_time": "2017-03-17T21:54:42.119205",
     "start_time": "2017-03-17T21:54:41.993471"
    },
    "collapsed": false
   },
   "outputs": [],
   "source": [
    "g_list = [g_list[4], g_list[5], g_list[6]]"
   ]
  },
  {
   "cell_type": "code",
   "execution_count": 217,
   "metadata": {
    "ExecuteTime": {
     "end_time": "2017-04-01T02:52:27.804702",
     "start_time": "2017-04-01T02:52:27.780496"
    },
    "collapsed": true
   },
   "outputs": [],
   "source": [
    "def getCommunities(g, datee):\n",
    "    \n",
    "    #lev = g.community_leading_eigenvector(weights=\"frequency\")\n",
    "    lev = g.community_walktrap(weights=\"frequency\")\n",
    "    lev_vc = lev.as_clustering(lev.optimal_count)\n",
    "    membership = lev_vc.membership\n",
    "\n",
    "    ids = []\n",
    "    #membership = lev.membership\n",
    "    \n",
    "    for name, membership in zip(g.vs, membership):\n",
    "        ids.append((int(name['id']), membership))\n",
    "    \n",
    "    date_dt = datetime.datetime.strptime(datee, \"%Y-%m-%d\").replace(tzinfo=pytz.UTC)\n",
    "    aa = ht.get_all_bees_age(date_dt)\n",
    "    \n",
    "\n",
    "    df = DataFrame(ids, columns=[\"id\", \"community\"])\n",
    "    df['age'] = df.id.apply(lambda x: aa.iloc[x].age)\n",
    "    \n",
    "    return df"
   ]
  },
  {
   "cell_type": "code",
   "execution_count": 218,
   "metadata": {
    "ExecuteTime": {
     "end_time": "2017-04-01T02:53:24.641971",
     "start_time": "2017-04-01T02:52:28.748166"
    },
    "collapsed": false
   },
   "outputs": [],
   "source": [
    "c_list = [None, None, None]\n",
    "\n",
    "for e, g in enumerate(g_list):\n",
    "    c_list[e] = getCommunities(g[1], g[0].split('_')[-2])"
   ]
  },
  {
   "cell_type": "code",
   "execution_count": 219,
   "metadata": {
    "ExecuteTime": {
     "end_time": "2017-04-01T02:53:24.654970",
     "start_time": "2017-04-01T02:53:24.644694"
    },
    "collapsed": false
   },
   "outputs": [
    {
     "data": {
      "text/plain": [
       "community\n",
       "0    431\n",
       "1    490\n",
       "2      1\n",
       "dtype: int64"
      ]
     },
     "execution_count": 219,
     "metadata": {},
     "output_type": "execute_result"
    }
   ],
   "source": [
    "c_list[0].groupby(by='community').size()"
   ]
  },
  {
   "cell_type": "code",
   "execution_count": 220,
   "metadata": {
    "ExecuteTime": {
     "end_time": "2017-04-01T02:53:24.679854",
     "start_time": "2017-04-01T02:53:24.657871"
    },
    "collapsed": false
   },
   "outputs": [
    {
     "data": {
      "text/plain": [
       "community\n",
       "0    311\n",
       "1    372\n",
       "2    294\n",
       "3      1\n",
       "dtype: int64"
      ]
     },
     "execution_count": 220,
     "metadata": {},
     "output_type": "execute_result"
    }
   ],
   "source": [
    "c_list[1].groupby(by='community').size()"
   ]
  },
  {
   "cell_type": "code",
   "execution_count": 221,
   "metadata": {
    "ExecuteTime": {
     "end_time": "2017-04-01T02:53:24.691964",
     "start_time": "2017-04-01T02:53:24.682772"
    },
    "collapsed": false
   },
   "outputs": [
    {
     "data": {
      "text/plain": [
       "community\n",
       "0    301\n",
       "1    390\n",
       "2    231\n",
       "dtype: int64"
      ]
     },
     "execution_count": 221,
     "metadata": {},
     "output_type": "execute_result"
    }
   ],
   "source": [
    "c_list[2].groupby(by='community').size()"
   ]
  },
  {
   "cell_type": "markdown",
   "metadata": {},
   "source": [
    "# Relative Overlap"
   ]
  },
  {
   "cell_type": "code",
   "execution_count": 222,
   "metadata": {
    "ExecuteTime": {
     "end_time": "2017-04-01T02:53:24.700614",
     "start_time": "2017-04-01T02:53:24.694874"
    },
    "collapsed": true
   },
   "outputs": [],
   "source": [
    "def overlap1(s0, s1):\n",
    "    x = len(set(s0).intersection(s1))\n",
    "    y = len(set(s0).union(s1))\n",
    "    return x/y"
   ]
  },
  {
   "cell_type": "code",
   "execution_count": 223,
   "metadata": {
    "ExecuteTime": {
     "end_time": "2017-04-01T02:53:24.709630",
     "start_time": "2017-04-01T02:53:24.703937"
    },
    "collapsed": true
   },
   "outputs": [],
   "source": [
    "def overlap2(s0,s1):\n",
    "    x = len(set(s0).intersection(s1))\n",
    "    return min(x/len(s0), x/len(s1))"
   ]
  },
  {
   "cell_type": "code",
   "execution_count": 224,
   "metadata": {
    "ExecuteTime": {
     "end_time": "2017-04-01T02:53:24.719007",
     "start_time": "2017-04-01T02:53:24.712431"
    },
    "collapsed": false
   },
   "outputs": [],
   "source": [
    "a = c_list[0].groupby(by='community').id.apply(list)"
   ]
  },
  {
   "cell_type": "code",
   "execution_count": 225,
   "metadata": {
    "ExecuteTime": {
     "end_time": "2017-04-01T02:53:24.739668",
     "start_time": "2017-04-01T02:53:24.721647"
    },
    "collapsed": true
   },
   "outputs": [],
   "source": [
    "b = c_list[1].groupby(by='community').id.apply(list)"
   ]
  },
  {
   "cell_type": "code",
   "execution_count": 226,
   "metadata": {
    "ExecuteTime": {
     "end_time": "2017-04-01T02:53:24.748706",
     "start_time": "2017-04-01T02:53:24.742359"
    },
    "collapsed": true
   },
   "outputs": [],
   "source": [
    "c = c_list[2].groupby(by='community').id.apply(list)"
   ]
  },
  {
   "cell_type": "code",
   "execution_count": 227,
   "metadata": {
    "ExecuteTime": {
     "end_time": "2017-04-01T02:53:24.758106",
     "start_time": "2017-04-01T02:53:24.751163"
    },
    "collapsed": false
   },
   "outputs": [],
   "source": [
    "aa = list(c_list[0].id)"
   ]
  },
  {
   "cell_type": "code",
   "execution_count": 228,
   "metadata": {
    "ExecuteTime": {
     "end_time": "2017-04-01T02:53:24.777357",
     "start_time": "2017-04-01T02:53:24.760749"
    },
    "collapsed": true
   },
   "outputs": [],
   "source": [
    "bb = list(c_list[1].id)"
   ]
  },
  {
   "cell_type": "code",
   "execution_count": 229,
   "metadata": {
    "ExecuteTime": {
     "end_time": "2017-04-01T02:53:24.784166",
     "start_time": "2017-04-01T02:53:24.779947"
    },
    "collapsed": true
   },
   "outputs": [],
   "source": [
    "cc = list(c_list[2].id)"
   ]
  },
  {
   "cell_type": "code",
   "execution_count": 242,
   "metadata": {
    "ExecuteTime": {
     "end_time": "2017-04-01T22:08:50.557852",
     "start_time": "2017-04-01T22:08:50.550797"
    },
    "collapsed": false
   },
   "outputs": [
    {
     "data": {
      "text/plain": [
       "0.8517382413087935"
      ]
     },
     "execution_count": 242,
     "metadata": {},
     "output_type": "execute_result"
    }
   ],
   "source": [
    "overlap2(aa,bb)"
   ]
  },
  {
   "cell_type": "code",
   "execution_count": 243,
   "metadata": {
    "ExecuteTime": {
     "end_time": "2017-04-01T22:08:51.422410",
     "start_time": "2017-04-01T22:08:51.415468"
    },
    "collapsed": false
   },
   "outputs": [
    {
     "data": {
      "text/plain": [
       "833"
      ]
     },
     "execution_count": 243,
     "metadata": {},
     "output_type": "execute_result"
    }
   ],
   "source": [
    "len(set(aa).intersection(set(bb)))"
   ]
  },
  {
   "cell_type": "code",
   "execution_count": 244,
   "metadata": {
    "ExecuteTime": {
     "end_time": "2017-04-01T22:09:08.452711",
     "start_time": "2017-04-01T22:09:08.445444"
    },
    "collapsed": false
   },
   "outputs": [
    {
     "data": {
      "text/plain": [
       "823"
      ]
     },
     "execution_count": 244,
     "metadata": {},
     "output_type": "execute_result"
    }
   ],
   "source": [
    "len(set(bb).intersection(set(cc)))"
   ]
  },
  {
   "cell_type": "code",
   "execution_count": 233,
   "metadata": {
    "ExecuteTime": {
     "end_time": "2017-04-01T02:53:24.842656",
     "start_time": "2017-04-01T02:53:24.826685"
    },
    "collapsed": false
   },
   "outputs": [
    {
     "data": {
      "text/plain": [
       "716"
      ]
     },
     "execution_count": 233,
     "metadata": {},
     "output_type": "execute_result"
    }
   ],
   "source": [
    "len(set(aa).intersection(set(cc)))"
   ]
  },
  {
   "cell_type": "code",
   "execution_count": 234,
   "metadata": {
    "ExecuteTime": {
     "end_time": "2017-04-01T02:53:24.851692",
     "start_time": "2017-04-01T02:53:24.845331"
    },
    "collapsed": false
   },
   "outputs": [
    {
     "data": {
      "text/plain": [
       "0.8415132924335378"
      ]
     },
     "execution_count": 234,
     "metadata": {},
     "output_type": "execute_result"
    }
   ],
   "source": [
    "overlap2(bb,cc)"
   ]
  },
  {
   "cell_type": "code",
   "execution_count": 235,
   "metadata": {
    "ExecuteTime": {
     "end_time": "2017-04-01T02:53:24.860542",
     "start_time": "2017-04-01T02:53:24.854471"
    },
    "collapsed": false
   },
   "outputs": [
    {
     "data": {
      "text/plain": [
       "0.7765726681127982"
      ]
     },
     "execution_count": 235,
     "metadata": {},
     "output_type": "execute_result"
    }
   ],
   "source": [
    "overlap2(aa,cc)"
   ]
  },
  {
   "cell_type": "code",
   "execution_count": 240,
   "metadata": {
    "ExecuteTime": {
     "end_time": "2017-04-01T03:04:42.650364",
     "start_time": "2017-04-01T03:04:42.638790"
    },
    "collapsed": false
   },
   "outputs": [],
   "source": [
    "overlap = []\n",
    "\n",
    "for e0, l0 in enumerate(b):\n",
    "    for e1, l1 in enumerate(c):\n",
    "        overlap.append((e0,e1, overlap1(l0,l1), len(l0), len(l1), len(set(l0).intersection(set(l1)))))\n",
    "        "
   ]
  },
  {
   "cell_type": "code",
   "execution_count": 241,
   "metadata": {
    "ExecuteTime": {
     "end_time": "2017-04-01T03:04:43.217721",
     "start_time": "2017-04-01T03:04:43.207850"
    },
    "collapsed": false
   },
   "outputs": [
    {
     "data": {
      "text/plain": [
       "[(0, 0, 0.21188118811881188, 311, 301, 107),\n",
       " (0, 1, 0.300556586270872, 311, 390, 162),\n",
       " (0, 2, 0.003703703703703704, 311, 231, 2),\n",
       " (1, 0, 0.3300395256916996, 372, 301, 167),\n",
       " (1, 1, 0.02557200538358008, 372, 390, 19),\n",
       " (1, 2, 0.36425339366515835, 372, 231, 161),\n",
       " (2, 0, 0.024096385542168676, 294, 301, 14),\n",
       " (2, 1, 0.3790322580645161, 294, 390, 188),\n",
       " (2, 2, 0.0038240917782026767, 294, 231, 2),\n",
       " (3, 0, 0.0, 1, 301, 0),\n",
       " (3, 1, 0.0, 1, 390, 0),\n",
       " (3, 2, 0.004329004329004329, 1, 231, 1)]"
      ]
     },
     "execution_count": 241,
     "metadata": {},
     "output_type": "execute_result"
    }
   ],
   "source": [
    "overlap"
   ]
  },
  {
   "cell_type": "markdown",
   "metadata": {},
   "source": [
    "## For daylie Networks"
   ]
  },
  {
   "cell_type": "code",
   "execution_count": 125,
   "metadata": {
    "ExecuteTime": {
     "end_time": "2017-02-05T17:46:22.979606",
     "start_time": "2017-02-05T17:46:22.971516"
    },
    "collapsed": true
   },
   "outputs": [],
   "source": [
    "def getMatches(g0,g1):\n",
    "    list0 = getCommunitiesFastGreedy(g0)\n",
    "    list1 = getCommunitiesFastGreedy(g1)\n",
    "    \n",
    "    overlap = []\n",
    "\n",
    "    for e0, l0 in enumerate(list0):\n",
    "        for e1, l1 in enumerate(list1):\n",
    "            overlap.append((e0,e1, len(l0), len(l1), overlap1(l0,l1)))\n",
    "    \n",
    "    return overlap"
   ]
  },
  {
   "cell_type": "code",
   "execution_count": 126,
   "metadata": {
    "ExecuteTime": {
     "end_time": "2017-02-05T17:46:31.623641",
     "start_time": "2017-02-05T17:46:30.104185"
    },
    "collapsed": true
   },
   "outputs": [],
   "source": [
    "gd0 = ig.Graph.Read_GraphML(\"networks-days/2015-08-21T00:00:00Z_1d_allCams_0.99conf_160dist_6ilen.graphml\")\n",
    "gd1 = ig.Graph.Read_GraphML(\"networks-days/2015-08-22T00:00:00Z_1d_allCams_0.99conf_160dist_6ilen.graphml\")"
   ]
  },
  {
   "cell_type": "code",
   "execution_count": 127,
   "metadata": {
    "ExecuteTime": {
     "end_time": "2017-02-05T17:46:34.250745",
     "start_time": "2017-02-05T17:46:32.173356"
    },
    "collapsed": true
   },
   "outputs": [],
   "source": [
    "gd2 = ig.Graph.Read_GraphML(\"networks-days/2015-08-23T00:00:00Z_1d_allCams_0.99conf_160dist_6ilen.graphml\")\n",
    "gd3 = ig.Graph.Read_GraphML(\"networks-days/2015-08-24T00:00:00Z_1d_allCams_0.99conf_160dist_6ilen.graphml\")\n",
    "gd4 = ig.Graph.Read_GraphML(\"networks-days/2015-08-25T00:00:00Z_1d_allCams_0.99conf_160dist_6ilen.graphml\")"
   ]
  },
  {
   "cell_type": "code",
   "execution_count": 128,
   "metadata": {
    "ExecuteTime": {
     "end_time": "2017-02-05T17:46:43.958152",
     "start_time": "2017-02-05T17:46:34.534921"
    },
    "collapsed": false
   },
   "outputs": [
    {
     "data": {
      "text/plain": [
       "[(0, 0, 509, 526, 0.5356083086053413),\n",
       " (0, 1, 509, 654, 0.028293545534924844),\n",
       " (0, 2, 509, 2, 0.0),\n",
       " (1, 0, 661, 526, 0.0448943661971831),\n",
       " (1, 1, 661, 654, 0.7234600262123198),\n",
       " (1, 2, 661, 2, 0.0015105740181268882),\n",
       " (2, 0, 3, 526, 0.003795066413662239),\n",
       " (2, 1, 3, 654, 0.0),\n",
       " (2, 2, 3, 2, 0.0),\n",
       " (3, 0, 12, 526, 0.011278195488721804),\n",
       " (3, 1, 12, 654, 0.0030120481927710845),\n",
       " (3, 2, 12, 2, 0.0),\n",
       " (4, 0, 8, 526, 0.007547169811320755),\n",
       " (4, 1, 8, 654, 0.0060790273556231),\n",
       " (4, 2, 8, 2, 0.0),\n",
       " (5, 0, 9, 526, 0.011342155009451797),\n",
       " (5, 1, 9, 654, 0.0030257186081694403),\n",
       " (5, 2, 9, 2, 0.0)]"
      ]
     },
     "execution_count": 128,
     "metadata": {},
     "output_type": "execute_result"
    }
   ],
   "source": [
    "getMatches(gd0,gd1)"
   ]
  },
  {
   "cell_type": "code",
   "execution_count": 129,
   "metadata": {
    "ExecuteTime": {
     "end_time": "2017-02-05T17:48:26.755603",
     "start_time": "2017-02-05T17:48:18.003086"
    },
    "collapsed": false
   },
   "outputs": [
    {
     "data": {
      "text/plain": [
       "[(0, 0, 526, 633, 0.02475685234305924),\n",
       " (0, 1, 526, 510, 0.553223388305847),\n",
       " (0, 2, 526, 8, 0.0037593984962406013),\n",
       " (0, 3, 526, 4, 0.003787878787878788),\n",
       " (1, 0, 654, 633, 0.716),\n",
       " (1, 1, 654, 510, 0.043010752688172046),\n",
       " (1, 2, 654, 8, 0.004552352048558422),\n",
       " (1, 3, 654, 4, 0.0015220700152207),\n",
       " (2, 0, 2, 633, 0.0015772870662460567),\n",
       " (2, 1, 2, 510, 0.0),\n",
       " (2, 2, 2, 8, 0.0),\n",
       " (2, 3, 2, 4, 0.0)]"
      ]
     },
     "execution_count": 129,
     "metadata": {},
     "output_type": "execute_result"
    }
   ],
   "source": [
    "getMatches(gd1,gd2)"
   ]
  },
  {
   "cell_type": "code",
   "execution_count": 130,
   "metadata": {
    "ExecuteTime": {
     "end_time": "2017-02-05T17:48:34.516679",
     "start_time": "2017-02-05T17:48:26.757810"
    },
    "collapsed": false
   },
   "outputs": [
    {
     "data": {
      "text/plain": [
       "[(0, 0, 633, 584, 0.6740027510316369),\n",
       " (0, 1, 633, 541, 0.05008944543828265),\n",
       " (0, 2, 633, 9, 0.0015600624024961),\n",
       " (1, 0, 510, 584, 0.016728624535315983),\n",
       " (1, 1, 510, 541, 0.525399129172714),\n",
       " (1, 2, 510, 9, 0.007766990291262136),\n",
       " (2, 0, 8, 584, 0.003389830508474576),\n",
       " (2, 1, 8, 541, 0.003656307129798903),\n",
       " (2, 2, 8, 9, 0.0625),\n",
       " (3, 0, 4, 584, 0.0),\n",
       " (3, 1, 4, 541, 0.003683241252302026),\n",
       " (3, 2, 4, 9, 0.0)]"
      ]
     },
     "execution_count": 130,
     "metadata": {},
     "output_type": "execute_result"
    }
   ],
   "source": [
    "getMatches(gd2,gd3)"
   ]
  },
  {
   "cell_type": "code",
   "execution_count": 131,
   "metadata": {
    "ExecuteTime": {
     "end_time": "2017-02-05T17:48:40.673071",
     "start_time": "2017-02-05T17:48:34.519039"
    },
    "collapsed": false
   },
   "outputs": [
    {
     "data": {
      "text/plain": [
       "[(0, 0, 584, 637, 0.5436156763590392),\n",
       " (0, 1, 584, 502, 0.04725168756027001),\n",
       " (0, 2, 584, 12, 0.006756756756756757),\n",
       " (1, 0, 541, 637, 0.03788546255506608),\n",
       " (1, 1, 541, 502, 0.5094066570188133),\n",
       " (1, 2, 541, 12, 0.009124087591240875),\n",
       " (2, 0, 9, 637, 0.004665629860031105),\n",
       " (2, 1, 9, 502, 0.007889546351084813),\n",
       " (2, 2, 9, 12, 0.0)]"
      ]
     },
     "execution_count": 131,
     "metadata": {},
     "output_type": "execute_result"
    }
   ],
   "source": [
    "getMatches(gd3,gd4)"
   ]
  },
  {
   "cell_type": "markdown",
   "metadata": {},
   "source": [
    "## Das ganze mit k-cliques>"
   ]
  },
  {
   "cell_type": "code",
   "execution_count": 97,
   "metadata": {
    "ExecuteTime": {
     "end_time": "2017-02-05T14:53:51.945513",
     "start_time": "2017-02-05T14:53:51.932041"
    },
    "collapsed": true
   },
   "outputs": [],
   "source": [
    "def getMatchesKCC(g0,g1,k):\n",
    "    list0 = list(nx.community.k_clique_communities(g0,k))\n",
    "    list1 = list(nx.community.k_clique_communities(g1,k))\n",
    "    \n",
    "    overlap = []\n",
    "\n",
    "    for e0, l0 in enumerate(list0):\n",
    "        for e1, l1 in enumerate(list1):\n",
    "            overlap.append((e0,e1, overlap1(l0,l1)))\n",
    "    \n",
    "    return overlap"
   ]
  },
  {
   "cell_type": "code",
   "execution_count": null,
   "metadata": {
    "collapsed": true
   },
   "outputs": [],
   "source": [
    "gh0 = nx.read_graphml(\"networks-hours/2015-08-21T10:00:00Z_1h_allCams_0.99conf_160dist_6ilen.graphml\")\n",
    "gh1 = nx.read_graphml(\"networks-hours/2015-08-21T11:00:00Z_1h_allCams_0.99conf_160dist_6ilen.graphml\")"
   ]
  },
  {
   "cell_type": "code",
   "execution_count": 117,
   "metadata": {
    "ExecuteTime": {
     "end_time": "2017-02-05T15:01:32.172257",
     "start_time": "2017-02-05T15:01:31.297901"
    },
    "collapsed": true
   },
   "outputs": [],
   "source": [
    "gh2 = nx.read_graphml(\"networks-hours/2015-08-21T12:00:00Z_1h_allCams_0.99conf_160dist_6ilen.graphml\")"
   ]
  },
  {
   "cell_type": "code",
   "execution_count": 115,
   "metadata": {
    "ExecuteTime": {
     "end_time": "2017-02-05T15:00:53.986387",
     "start_time": "2017-02-05T15:00:35.434405"
    },
    "collapsed": false,
    "scrolled": false
   },
   "outputs": [],
   "source": [
    "result = getMatchesKCC(gh0, gh1, 3)"
   ]
  },
  {
   "cell_type": "code",
   "execution_count": 116,
   "metadata": {
    "ExecuteTime": {
     "end_time": "2017-02-05T15:00:53.993760",
     "start_time": "2017-02-05T15:00:53.988424"
    },
    "collapsed": false,
    "scrolled": false
   },
   "outputs": [
    {
     "data": {
      "text/plain": [
       "[(0, 0, 0.8276209677419355)]"
      ]
     },
     "execution_count": 116,
     "metadata": {},
     "output_type": "execute_result"
    }
   ],
   "source": [
    "[(a,b,c) for a,b,c in result if c > 0.2]"
   ]
  },
  {
   "cell_type": "code",
   "execution_count": 120,
   "metadata": {
    "ExecuteTime": {
     "end_time": "2017-02-05T15:02:06.848041",
     "start_time": "2017-02-05T15:02:02.320097"
    },
    "collapsed": true
   },
   "outputs": [],
   "source": [
    "result = getMatchesKCC(gh1, gh2, 4)"
   ]
  },
  {
   "cell_type": "code",
   "execution_count": 121,
   "metadata": {
    "ExecuteTime": {
     "end_time": "2017-02-05T15:02:06.857299",
     "start_time": "2017-02-05T15:02:06.850310"
    },
    "collapsed": false
   },
   "outputs": [
    {
     "data": {
      "text/plain": [
       "[(0, 0, 0.5977011494252874),\n",
       " (14, 49, 0.2222222222222222),\n",
       " (19, 45, 0.2857142857142857),\n",
       " (47, 57, 0.3333333333333333),\n",
       " (84, 48, 0.2857142857142857),\n",
       " (85, 95, 0.2857142857142857),\n",
       " (108, 40, 0.2222222222222222)]"
      ]
     },
     "execution_count": 121,
     "metadata": {},
     "output_type": "execute_result"
    }
   ],
   "source": [
    "[(a,b,c) for a,b,c in result if c > 0.2]"
   ]
  },
  {
   "cell_type": "markdown",
   "metadata": {},
   "source": [
    "# KCC Matching Palla"
   ]
  },
  {
   "cell_type": "code",
   "execution_count": 147,
   "metadata": {
    "ExecuteTime": {
     "end_time": "2017-02-05T18:26:52.179891",
     "start_time": "2017-02-05T18:26:52.176618"
    },
    "collapsed": true
   },
   "outputs": [],
   "source": [
    "k=4"
   ]
  },
  {
   "cell_type": "code",
   "execution_count": 148,
   "metadata": {
    "ExecuteTime": {
     "end_time": "2017-02-05T18:26:54.468276",
     "start_time": "2017-02-05T18:26:52.753725"
    },
    "collapsed": true
   },
   "outputs": [],
   "source": [
    "gh0 = nx.read_graphml(\"networks-hours/2015-08-21T10:00:00Z_1h_allCams_0.99conf_160dist_6ilen.graphml\")\n",
    "gh1 = nx.read_graphml(\"networks-hours/2015-08-21T11:00:00Z_1h_allCams_0.99conf_160dist_6ilen.graphml\")"
   ]
  },
  {
   "cell_type": "code",
   "execution_count": 149,
   "metadata": {
    "ExecuteTime": {
     "end_time": "2017-02-05T18:27:04.143235",
     "start_time": "2017-02-05T18:26:54.470782"
    },
    "collapsed": true
   },
   "outputs": [],
   "source": [
    "list0 = list(nx.community.k_clique_communities(gh0,k))\n",
    "list1 = list(nx.community.k_clique_communities(gh1,k))"
   ]
  },
  {
   "cell_type": "code",
   "execution_count": 154,
   "metadata": {
    "ExecuteTime": {
     "end_time": "2017-02-05T18:27:22.404986",
     "start_time": "2017-02-05T18:27:22.400861"
    },
    "collapsed": false
   },
   "outputs": [
    {
     "name": "stdout",
     "output_type": "stream",
     "text": [
      "127\n"
     ]
    }
   ],
   "source": [
    "print(len(list0))"
   ]
  },
  {
   "cell_type": "code",
   "execution_count": 156,
   "metadata": {
    "ExecuteTime": {
     "end_time": "2017-02-05T18:27:35.708126",
     "start_time": "2017-02-05T18:27:35.704176"
    },
    "collapsed": false
   },
   "outputs": [
    {
     "name": "stdout",
     "output_type": "stream",
     "text": [
      "145\n"
     ]
    }
   ],
   "source": [
    "print(len(list1))"
   ]
  },
  {
   "cell_type": "code",
   "execution_count": 150,
   "metadata": {
    "ExecuteTime": {
     "end_time": "2017-02-05T18:27:04.150716",
     "start_time": "2017-02-05T18:27:04.145649"
    },
    "collapsed": false
   },
   "outputs": [
    {
     "name": "stdout",
     "output_type": "stream",
     "text": [
      "Name: \n",
      "Type: Graph\n",
      "Number of nodes: 993\n",
      "Number of edges: 14991\n",
      "Average degree:  30.1934\n"
     ]
    }
   ],
   "source": [
    "print(nx.info(gh0))"
   ]
  },
  {
   "cell_type": "code",
   "execution_count": 151,
   "metadata": {
    "ExecuteTime": {
     "end_time": "2017-02-05T18:27:04.158818",
     "start_time": "2017-02-05T18:27:04.152827"
    },
    "collapsed": false
   },
   "outputs": [
    {
     "name": "stdout",
     "output_type": "stream",
     "text": [
      "Name: \n",
      "Type: Graph\n",
      "Number of nodes: 989\n",
      "Number of edges: 13255\n",
      "Average degree:  26.8049\n"
     ]
    }
   ],
   "source": [
    "print(nx.info(gh1))"
   ]
  },
  {
   "cell_type": "code",
   "execution_count": 157,
   "metadata": {
    "ExecuteTime": {
     "end_time": "2017-02-05T18:27:52.354704",
     "start_time": "2017-02-05T18:27:52.244833"
    },
    "collapsed": false
   },
   "outputs": [],
   "source": [
    "gh01 = nx.compose(gh0,gh1)"
   ]
  },
  {
   "cell_type": "code",
   "execution_count": 158,
   "metadata": {
    "ExecuteTime": {
     "end_time": "2017-02-05T18:27:53.305386",
     "start_time": "2017-02-05T18:27:53.299845"
    },
    "collapsed": false
   },
   "outputs": [
    {
     "name": "stdout",
     "output_type": "stream",
     "text": [
      "Name: compose( ,  )\n",
      "Type: Graph\n",
      "Number of nodes: 1044\n",
      "Number of edges: 27171\n",
      "Average degree:  52.0517\n"
     ]
    }
   ],
   "source": [
    "print(nx.info(gh01))"
   ]
  },
  {
   "cell_type": "code",
   "execution_count": 159,
   "metadata": {
    "ExecuteTime": {
     "end_time": "2017-02-05T18:30:30.266478",
     "start_time": "2017-02-05T18:27:55.914314"
    },
    "collapsed": false,
    "scrolled": true
   },
   "outputs": [],
   "source": [
    "# Communities in Joint Graph\n",
    "list01 = list(nx.community.k_clique_communities(gh01,k))"
   ]
  },
  {
   "cell_type": "code",
   "execution_count": 160,
   "metadata": {
    "ExecuteTime": {
     "end_time": "2017-02-05T18:30:30.273068",
     "start_time": "2017-02-05T18:30:30.268654"
    },
    "collapsed": false
   },
   "outputs": [
    {
     "data": {
      "text/plain": [
       "72"
      ]
     },
     "execution_count": 160,
     "metadata": {},
     "output_type": "execute_result"
    }
   ],
   "source": [
    "len(list01)"
   ]
  },
  {
   "cell_type": "code",
   "execution_count": 161,
   "metadata": {
    "ExecuteTime": {
     "end_time": "2017-02-05T18:30:34.965725",
     "start_time": "2017-02-05T18:30:34.961426"
    },
    "collapsed": true
   },
   "outputs": [],
   "source": [
    "# For each community v_k in the joint graph\n",
    "# extract a list of communities d_ik contained in v_k\n",
    "# extract a list of communities e_ik contained in v_k"
   ]
  },
  {
   "cell_type": "code",
   "execution_count": 206,
   "metadata": {
    "ExecuteTime": {
     "end_time": "2017-02-05T18:48:26.348399",
     "start_time": "2017-02-05T18:48:26.343792"
    },
    "collapsed": true
   },
   "outputs": [],
   "source": [
    "d = [[] for i in range(len(list01))]\n",
    "e = [[] for i in range(len(list01))]"
   ]
  },
  {
   "cell_type": "code",
   "execution_count": 207,
   "metadata": {
    "ExecuteTime": {
     "end_time": "2017-02-05T18:48:26.754630",
     "start_time": "2017-02-05T18:48:26.731145"
    },
    "code_folding": [],
    "collapsed": true
   },
   "outputs": [],
   "source": [
    "for e01, l01 in enumerate(list01):\n",
    "    for e0, l0 in enumerate(list0):\n",
    "        if (set(l0).issubset(l01)):\n",
    "            d[e01].append(l0)\n",
    "    \n",
    "    for e1, l1 in enumerate(list1):\n",
    "        if (set(l1).issubset(l01)):\n",
    "            e[e01].append(l1)"
   ]
  },
  {
   "cell_type": "code",
   "execution_count": 213,
   "metadata": {
    "ExecuteTime": {
     "end_time": "2017-02-05T18:50:23.520776",
     "start_time": "2017-02-05T18:50:23.449949"
    },
    "collapsed": false
   },
   "outputs": [],
   "source": [
    "# calculate relative overlap for each pairs\n",
    "o = [[] for i in range(len(list01))]\n",
    "\n",
    "for i in range(len(list01)):\n",
    "    for ed, di in enumerate(d[i]):\n",
    "        for ee, ei in enumerate(e[i]):\n",
    "            o[i].append((ed,ee, overlap1(di,ei)))\n",
    "    \n",
    "    "
   ]
  },
  {
   "cell_type": "code",
   "execution_count": 240,
   "metadata": {
    "ExecuteTime": {
     "end_time": "2017-02-07T12:44:35.226750",
     "start_time": "2017-02-07T12:44:35.207727"
    },
    "collapsed": false,
    "scrolled": false
   },
   "outputs": [
    {
     "name": "stdout",
     "output_type": "stream",
     "text": [
      "[(0, 0, 0.6519721577726219), (10, 97, 0.3333333333333333), (14, 115, 0.3333333333333333), (14, 141, 0.3333333333333333), (33, 20, 0.25), (54, 45, 0.3333333333333333), (59, 62, 0.2857142857142857), (88, 9, 0.3333333333333333), (88, 41, 0.3333333333333333)]\n",
      "[]\n",
      "[]\n",
      "[]\n",
      "[]\n",
      "[]\n",
      "[]\n",
      "[]\n",
      "[]\n",
      "[]\n",
      "[]\n",
      "[]\n",
      "[]\n",
      "[]\n",
      "[]\n",
      "[]\n",
      "[]\n",
      "[]\n",
      "[]\n",
      "[]\n",
      "[]\n",
      "[]\n",
      "[]\n",
      "[]\n",
      "[]\n",
      "[]\n",
      "[]\n",
      "[]\n",
      "[]\n",
      "[]\n",
      "[]\n",
      "[]\n",
      "[]\n",
      "[]\n",
      "[]\n",
      "[]\n",
      "[]\n",
      "[]\n",
      "[]\n",
      "[]\n",
      "[]\n",
      "[]\n",
      "[]\n",
      "[]\n",
      "[]\n",
      "[]\n",
      "[]\n",
      "[]\n",
      "[]\n",
      "[]\n",
      "[]\n",
      "[]\n",
      "[]\n",
      "[]\n",
      "[]\n",
      "[]\n",
      "[]\n",
      "[]\n",
      "[]\n",
      "[]\n",
      "[]\n",
      "[]\n",
      "[]\n",
      "[]\n",
      "[]\n",
      "[]\n",
      "[]\n",
      "[]\n",
      "[]\n",
      "[]\n",
      "[]\n",
      "[]\n"
     ]
    }
   ],
   "source": [
    "for i in range(len(o)):\n",
    "    print([(a,b,c) for a,b,c in o[i] if c > 0.2])"
   ]
  },
  {
   "cell_type": "code",
   "execution_count": null,
   "metadata": {
    "collapsed": true
   },
   "outputs": [],
   "source": []
  }
 ],
 "metadata": {
  "anaconda-cloud": {},
  "kernelspec": {
   "display_name": "Python [conda root]",
   "language": "python",
   "name": "conda-root-py"
  },
  "language_info": {
   "codemirror_mode": {
    "name": "ipython",
    "version": 3
   },
   "file_extension": ".py",
   "mimetype": "text/x-python",
   "name": "python",
   "nbconvert_exporter": "python",
   "pygments_lexer": "ipython3",
   "version": "3.5.2"
  },
  "toc": {
   "colors": {
    "hover_highlight": "#DAA520",
    "running_highlight": "#FF0000",
    "selected_highlight": "#FFD700"
   },
   "moveMenuLeft": true,
   "nav_menu": {
    "height": "135px",
    "width": "252px"
   },
   "navigate_menu": true,
   "number_sections": true,
   "sideBar": true,
   "threshold": 4,
   "toc_cell": false,
   "toc_position": {
    "height": "881px",
    "left": "0px",
    "right": "1708px",
    "top": "106px",
    "width": "212px"
   },
   "toc_section_display": "block",
   "toc_window_display": true
  }
 },
 "nbformat": 4,
 "nbformat_minor": 2
}
