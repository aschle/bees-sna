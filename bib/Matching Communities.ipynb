{
 "cells": [
  {
   "cell_type": "code",
   "execution_count": 3,
   "metadata": {
    "ExecuteTime": {
     "end_time": "2017-02-05T13:10:26.889650",
     "start_time": "2017-02-05T13:10:26.635633"
    },
    "collapsed": true
   },
   "outputs": [],
   "source": [
    "import networkx as nx\n",
    "import os\n",
    "import pandas as pd\n",
    "import numpy as np\n",
    "from pandas import DataFrame, Series\n",
    "import datetime\n",
    "import pytz\n",
    "import matplotlib.pyplot as plt\n",
    "import igraph as ig"
   ]
  },
  {
   "cell_type": "code",
   "execution_count": 2,
   "metadata": {
    "ExecuteTime": {
     "end_time": "2017-02-05T13:08:23.965274",
     "start_time": "2017-02-05T13:08:23.950368"
    },
    "collapsed": true
   },
   "outputs": [],
   "source": [
    "%matplotlib inline"
   ]
  },
  {
   "cell_type": "markdown",
   "metadata": {},
   "source": [
    "# Simple Relative Overlap"
   ]
  },
  {
   "cell_type": "markdown",
   "metadata": {},
   "source": [
    "## iGraph fastgreedy communities for two 160px and 6ilen hourly Graphs"
   ]
  },
  {
   "cell_type": "code",
   "execution_count": 77,
   "metadata": {
    "ExecuteTime": {
     "end_time": "2017-02-05T14:23:46.043093",
     "start_time": "2017-02-05T14:23:45.840553"
    },
    "collapsed": true
   },
   "outputs": [],
   "source": [
    "g0 = ig.Graph.Read_GraphML(\"networks-hours/2015-08-21T10:00:00Z_1h_allCams_0.99conf_160dist_6ilen.graphml\")\n",
    "g1 = ig.Graph.Read_GraphML(\"networks-hours/2015-08-21T11:00:00Z_1h_allCams_0.99conf_160dist_6ilen.graphml\")"
   ]
  },
  {
   "cell_type": "code",
   "execution_count": 6,
   "metadata": {
    "ExecuteTime": {
     "end_time": "2017-02-05T13:11:39.662529",
     "start_time": "2017-02-05T13:11:39.657592"
    },
    "collapsed": false
   },
   "outputs": [
    {
     "data": {
      "text/plain": [
       "'IGRAPH U-W- 772 5691 -- \\n+ attr: id (v), weight (e)'"
      ]
     },
     "execution_count": 6,
     "metadata": {},
     "output_type": "execute_result"
    }
   ],
   "source": [
    "g0.summary()"
   ]
  },
  {
   "cell_type": "code",
   "execution_count": 7,
   "metadata": {
    "ExecuteTime": {
     "end_time": "2017-02-05T13:11:47.031030",
     "start_time": "2017-02-05T13:11:47.025711"
    },
    "collapsed": false
   },
   "outputs": [
    {
     "data": {
      "text/plain": [
       "'IGRAPH U-W- 767 6446 -- \\n+ attr: id (v), weight (e)'"
      ]
     },
     "execution_count": 7,
     "metadata": {},
     "output_type": "execute_result"
    }
   ],
   "source": [
    "g1.summary()"
   ]
  },
  {
   "cell_type": "code",
   "execution_count": 30,
   "metadata": {
    "ExecuteTime": {
     "end_time": "2017-02-05T13:25:45.978402",
     "start_time": "2017-02-05T13:25:45.899517"
    },
    "collapsed": false
   },
   "outputs": [],
   "source": [
    "d0 = g0.community_fastgreedy()\n",
    "vc0 = d0.as_clustering(d0.optimal_count)"
   ]
  },
  {
   "cell_type": "code",
   "execution_count": 31,
   "metadata": {
    "ExecuteTime": {
     "end_time": "2017-02-05T13:25:46.657155",
     "start_time": "2017-02-05T13:25:46.651769"
    },
    "collapsed": false
   },
   "outputs": [
    {
     "data": {
      "text/plain": [
       "[5, 143, 230, 358, 2, 3, 4, 19, 6, 2]"
      ]
     },
     "execution_count": 31,
     "metadata": {},
     "output_type": "execute_result"
    }
   ],
   "source": [
    "vc0.sizes()"
   ]
  },
  {
   "cell_type": "code",
   "execution_count": 32,
   "metadata": {
    "ExecuteTime": {
     "end_time": "2017-02-05T13:25:47.223839",
     "start_time": "2017-02-05T13:25:47.127915"
    },
    "collapsed": false
   },
   "outputs": [],
   "source": [
    "d1 = g1.community_fastgreedy()\n",
    "vc1 = d1.as_clustering(d1.optimal_count)"
   ]
  },
  {
   "cell_type": "code",
   "execution_count": 33,
   "metadata": {
    "ExecuteTime": {
     "end_time": "2017-02-05T13:25:47.613487",
     "start_time": "2017-02-05T13:25:47.608198"
    },
    "collapsed": false
   },
   "outputs": [
    {
     "data": {
      "text/plain": [
       "[274, 180, 294, 11, 3, 3, 2]"
      ]
     },
     "execution_count": 33,
     "metadata": {},
     "output_type": "execute_result"
    }
   ],
   "source": [
    "vc1.sizes()"
   ]
  },
  {
   "cell_type": "markdown",
   "metadata": {},
   "source": [
    "Compare to geht nicht, da die Graphen, verschiedene Anzahlen an Knoten haben :("
   ]
  },
  {
   "cell_type": "markdown",
   "metadata": {},
   "source": [
    "## Vergleichen der Communities"
   ]
  },
  {
   "cell_type": "code",
   "execution_count": 34,
   "metadata": {
    "ExecuteTime": {
     "end_time": "2017-02-05T13:25:50.527138",
     "start_time": "2017-02-05T13:25:50.518508"
    },
    "code_folding": [
     0
    ],
    "collapsed": true
   },
   "outputs": [],
   "source": [
    "def getCommunitiesFastGreedy(g):\n",
    "\n",
    "    fg = g.community_fastgreedy()\n",
    "    vc = fg.as_clustering(fg.optimal_count)\n",
    "\n",
    "    membership = vc.membership\n",
    "    ids = [[] for i in range(len(vc.sizes()))]\n",
    "\n",
    "    for name, membership in zip(g.vs, membership):\n",
    "        ids[membership].append(int(name['id']))\n",
    "\n",
    "    return ids"
   ]
  },
  {
   "cell_type": "code",
   "execution_count": 78,
   "metadata": {
    "ExecuteTime": {
     "end_time": "2017-02-05T14:23:49.444157",
     "start_time": "2017-02-05T14:23:48.923335"
    },
    "collapsed": false
   },
   "outputs": [],
   "source": [
    "list0 = getCommunitiesFastGreedy(g0)"
   ]
  },
  {
   "cell_type": "code",
   "execution_count": 79,
   "metadata": {
    "ExecuteTime": {
     "end_time": "2017-02-05T14:23:49.997886",
     "start_time": "2017-02-05T14:23:49.539769"
    },
    "collapsed": true
   },
   "outputs": [],
   "source": [
    "list1 = getCommunitiesFastGreedy(g1)"
   ]
  },
  {
   "cell_type": "code",
   "execution_count": 73,
   "metadata": {
    "ExecuteTime": {
     "end_time": "2017-02-05T14:23:18.364146",
     "start_time": "2017-02-05T14:23:18.359440"
    },
    "collapsed": true
   },
   "outputs": [],
   "source": [
    "def overlap1(s0, s1):\n",
    "    x = len(set(s0).intersection(s1))\n",
    "    y = len(set(s0).union(s1))\n",
    "    return x/y"
   ]
  },
  {
   "cell_type": "code",
   "execution_count": 74,
   "metadata": {
    "ExecuteTime": {
     "end_time": "2017-02-05T14:23:18.781637",
     "start_time": "2017-02-05T14:23:18.777235"
    },
    "collapsed": true
   },
   "outputs": [],
   "source": [
    "def overlap2(s0,s1):\n",
    "    x = len(set(s0).intersection(s1))\n",
    "    return min(x/len(s0), x/len(s1))"
   ]
  },
  {
   "cell_type": "code",
   "execution_count": 66,
   "metadata": {
    "ExecuteTime": {
     "end_time": "2017-02-05T14:13:22.275841",
     "start_time": "2017-02-05T14:13:22.270718"
    },
    "collapsed": false
   },
   "outputs": [
    {
     "data": {
      "text/plain": [
       "0.14285714285714285"
      ]
     },
     "execution_count": 66,
     "metadata": {},
     "output_type": "execute_result"
    }
   ],
   "source": [
    "overlap1([5,6,7], [1,2,3,4,5])"
   ]
  },
  {
   "cell_type": "code",
   "execution_count": 67,
   "metadata": {
    "ExecuteTime": {
     "end_time": "2017-02-05T14:13:56.387011",
     "start_time": "2017-02-05T14:13:56.381813"
    },
    "collapsed": false
   },
   "outputs": [
    {
     "data": {
      "text/plain": [
       "0.2"
      ]
     },
     "execution_count": 67,
     "metadata": {},
     "output_type": "execute_result"
    }
   ],
   "source": [
    "overlap2([5,6,7], [1,2,3,4,5])"
   ]
  },
  {
   "cell_type": "code",
   "execution_count": 82,
   "metadata": {
    "ExecuteTime": {
     "end_time": "2017-02-05T14:26:10.939621",
     "start_time": "2017-02-05T14:26:10.929696"
    },
    "collapsed": false
   },
   "outputs": [],
   "source": [
    "overlap = []\n",
    "\n",
    "for e0, l0 in enumerate(list0):\n",
    "    for e1, l1 in enumerate(list1):\n",
    "        overlap.append((e0,e1, overlap1(l0,l1)))\n",
    "        "
   ]
  },
  {
   "cell_type": "code",
   "execution_count": 83,
   "metadata": {
    "ExecuteTime": {
     "end_time": "2017-02-05T14:26:11.488187",
     "start_time": "2017-02-05T14:26:11.477316"
    },
    "collapsed": false
   },
   "outputs": [
    {
     "data": {
      "text/plain": [
       "[(0, 0, 0.5615212527964206),\n",
       " (0, 1, 0.05575539568345324),\n",
       " (0, 2, 0.03404255319148936),\n",
       " (0, 3, 0.0029069767441860465),\n",
       " (0, 4, 0.0),\n",
       " (1, 0, 0.05263157894736842),\n",
       " (1, 1, 0.152014652014652),\n",
       " (1, 2, 0.48841698841698844),\n",
       " (1, 3, 0.0),\n",
       " (1, 4, 0.0),\n",
       " (2, 0, 0.0726950354609929),\n",
       " (2, 1, 0.2931937172774869),\n",
       " (2, 2, 0.16058394160583941),\n",
       " (2, 3, 0.00398406374501992),\n",
       " (2, 4, 0.00398406374501992),\n",
       " (3, 0, 0.002777777777777778),\n",
       " (3, 1, 0.012145748987854251),\n",
       " (3, 2, 0.005128205128205128),\n",
       " (3, 3, 0.0),\n",
       " (3, 4, 0.0),\n",
       " (4, 0, 0.0027548209366391185),\n",
       " (4, 1, 0.00796812749003984),\n",
       " (4, 2, 0.015424164524421594),\n",
       " (4, 3, 0.0),\n",
       " (4, 4, 0.0)]"
      ]
     },
     "execution_count": 83,
     "metadata": {},
     "output_type": "execute_result"
    }
   ],
   "source": [
    "overlap"
   ]
  },
  {
   "cell_type": "markdown",
   "metadata": {},
   "source": [
    "## For daylie Networks"
   ]
  },
  {
   "cell_type": "code",
   "execution_count": 125,
   "metadata": {
    "ExecuteTime": {
     "end_time": "2017-02-05T17:46:22.979606",
     "start_time": "2017-02-05T17:46:22.971516"
    },
    "collapsed": true
   },
   "outputs": [],
   "source": [
    "def getMatches(g0,g1):\n",
    "    list0 = getCommunitiesFastGreedy(g0)\n",
    "    list1 = getCommunitiesFastGreedy(g1)\n",
    "    \n",
    "    overlap = []\n",
    "\n",
    "    for e0, l0 in enumerate(list0):\n",
    "        for e1, l1 in enumerate(list1):\n",
    "            overlap.append((e0,e1, len(l0), len(l1), overlap1(l0,l1)))\n",
    "    \n",
    "    return overlap"
   ]
  },
  {
   "cell_type": "code",
   "execution_count": 126,
   "metadata": {
    "ExecuteTime": {
     "end_time": "2017-02-05T17:46:31.623641",
     "start_time": "2017-02-05T17:46:30.104185"
    },
    "collapsed": true
   },
   "outputs": [],
   "source": [
    "gd0 = ig.Graph.Read_GraphML(\"networks-days/2015-08-21T00:00:00Z_1d_allCams_0.99conf_160dist_6ilen.graphml\")\n",
    "gd1 = ig.Graph.Read_GraphML(\"networks-days/2015-08-22T00:00:00Z_1d_allCams_0.99conf_160dist_6ilen.graphml\")"
   ]
  },
  {
   "cell_type": "code",
   "execution_count": 127,
   "metadata": {
    "ExecuteTime": {
     "end_time": "2017-02-05T17:46:34.250745",
     "start_time": "2017-02-05T17:46:32.173356"
    },
    "collapsed": true
   },
   "outputs": [],
   "source": [
    "gd2 = ig.Graph.Read_GraphML(\"networks-days/2015-08-23T00:00:00Z_1d_allCams_0.99conf_160dist_6ilen.graphml\")\n",
    "gd3 = ig.Graph.Read_GraphML(\"networks-days/2015-08-24T00:00:00Z_1d_allCams_0.99conf_160dist_6ilen.graphml\")\n",
    "gd4 = ig.Graph.Read_GraphML(\"networks-days/2015-08-25T00:00:00Z_1d_allCams_0.99conf_160dist_6ilen.graphml\")"
   ]
  },
  {
   "cell_type": "code",
   "execution_count": 128,
   "metadata": {
    "ExecuteTime": {
     "end_time": "2017-02-05T17:46:43.958152",
     "start_time": "2017-02-05T17:46:34.534921"
    },
    "collapsed": false
   },
   "outputs": [
    {
     "data": {
      "text/plain": [
       "[(0, 0, 509, 526, 0.5356083086053413),\n",
       " (0, 1, 509, 654, 0.028293545534924844),\n",
       " (0, 2, 509, 2, 0.0),\n",
       " (1, 0, 661, 526, 0.0448943661971831),\n",
       " (1, 1, 661, 654, 0.7234600262123198),\n",
       " (1, 2, 661, 2, 0.0015105740181268882),\n",
       " (2, 0, 3, 526, 0.003795066413662239),\n",
       " (2, 1, 3, 654, 0.0),\n",
       " (2, 2, 3, 2, 0.0),\n",
       " (3, 0, 12, 526, 0.011278195488721804),\n",
       " (3, 1, 12, 654, 0.0030120481927710845),\n",
       " (3, 2, 12, 2, 0.0),\n",
       " (4, 0, 8, 526, 0.007547169811320755),\n",
       " (4, 1, 8, 654, 0.0060790273556231),\n",
       " (4, 2, 8, 2, 0.0),\n",
       " (5, 0, 9, 526, 0.011342155009451797),\n",
       " (5, 1, 9, 654, 0.0030257186081694403),\n",
       " (5, 2, 9, 2, 0.0)]"
      ]
     },
     "execution_count": 128,
     "metadata": {},
     "output_type": "execute_result"
    }
   ],
   "source": [
    "getMatches(gd0,gd1)"
   ]
  },
  {
   "cell_type": "code",
   "execution_count": 129,
   "metadata": {
    "ExecuteTime": {
     "end_time": "2017-02-05T17:48:26.755603",
     "start_time": "2017-02-05T17:48:18.003086"
    },
    "collapsed": false
   },
   "outputs": [
    {
     "data": {
      "text/plain": [
       "[(0, 0, 526, 633, 0.02475685234305924),\n",
       " (0, 1, 526, 510, 0.553223388305847),\n",
       " (0, 2, 526, 8, 0.0037593984962406013),\n",
       " (0, 3, 526, 4, 0.003787878787878788),\n",
       " (1, 0, 654, 633, 0.716),\n",
       " (1, 1, 654, 510, 0.043010752688172046),\n",
       " (1, 2, 654, 8, 0.004552352048558422),\n",
       " (1, 3, 654, 4, 0.0015220700152207),\n",
       " (2, 0, 2, 633, 0.0015772870662460567),\n",
       " (2, 1, 2, 510, 0.0),\n",
       " (2, 2, 2, 8, 0.0),\n",
       " (2, 3, 2, 4, 0.0)]"
      ]
     },
     "execution_count": 129,
     "metadata": {},
     "output_type": "execute_result"
    }
   ],
   "source": [
    "getMatches(gd1,gd2)"
   ]
  },
  {
   "cell_type": "code",
   "execution_count": 130,
   "metadata": {
    "ExecuteTime": {
     "end_time": "2017-02-05T17:48:34.516679",
     "start_time": "2017-02-05T17:48:26.757810"
    },
    "collapsed": false
   },
   "outputs": [
    {
     "data": {
      "text/plain": [
       "[(0, 0, 633, 584, 0.6740027510316369),\n",
       " (0, 1, 633, 541, 0.05008944543828265),\n",
       " (0, 2, 633, 9, 0.0015600624024961),\n",
       " (1, 0, 510, 584, 0.016728624535315983),\n",
       " (1, 1, 510, 541, 0.525399129172714),\n",
       " (1, 2, 510, 9, 0.007766990291262136),\n",
       " (2, 0, 8, 584, 0.003389830508474576),\n",
       " (2, 1, 8, 541, 0.003656307129798903),\n",
       " (2, 2, 8, 9, 0.0625),\n",
       " (3, 0, 4, 584, 0.0),\n",
       " (3, 1, 4, 541, 0.003683241252302026),\n",
       " (3, 2, 4, 9, 0.0)]"
      ]
     },
     "execution_count": 130,
     "metadata": {},
     "output_type": "execute_result"
    }
   ],
   "source": [
    "getMatches(gd2,gd3)"
   ]
  },
  {
   "cell_type": "code",
   "execution_count": 131,
   "metadata": {
    "ExecuteTime": {
     "end_time": "2017-02-05T17:48:40.673071",
     "start_time": "2017-02-05T17:48:34.519039"
    },
    "collapsed": false
   },
   "outputs": [
    {
     "data": {
      "text/plain": [
       "[(0, 0, 584, 637, 0.5436156763590392),\n",
       " (0, 1, 584, 502, 0.04725168756027001),\n",
       " (0, 2, 584, 12, 0.006756756756756757),\n",
       " (1, 0, 541, 637, 0.03788546255506608),\n",
       " (1, 1, 541, 502, 0.5094066570188133),\n",
       " (1, 2, 541, 12, 0.009124087591240875),\n",
       " (2, 0, 9, 637, 0.004665629860031105),\n",
       " (2, 1, 9, 502, 0.007889546351084813),\n",
       " (2, 2, 9, 12, 0.0)]"
      ]
     },
     "execution_count": 131,
     "metadata": {},
     "output_type": "execute_result"
    }
   ],
   "source": [
    "getMatches(gd3,gd4)"
   ]
  },
  {
   "cell_type": "markdown",
   "metadata": {},
   "source": [
    "## Das ganze mit k-cliques>"
   ]
  },
  {
   "cell_type": "code",
   "execution_count": 97,
   "metadata": {
    "ExecuteTime": {
     "end_time": "2017-02-05T14:53:51.945513",
     "start_time": "2017-02-05T14:53:51.932041"
    },
    "collapsed": true
   },
   "outputs": [],
   "source": [
    "def getMatchesKCC(g0,g1,k):\n",
    "    list0 = list(nx.community.k_clique_communities(g0,k))\n",
    "    list1 = list(nx.community.k_clique_communities(g1,k))\n",
    "    \n",
    "    overlap = []\n",
    "\n",
    "    for e0, l0 in enumerate(list0):\n",
    "        for e1, l1 in enumerate(list1):\n",
    "            overlap.append((e0,e1, overlap1(l0,l1)))\n",
    "    \n",
    "    return overlap"
   ]
  },
  {
   "cell_type": "code",
   "execution_count": null,
   "metadata": {
    "collapsed": true
   },
   "outputs": [],
   "source": [
    "gh0 = nx.read_graphml(\"networks-hours/2015-08-21T10:00:00Z_1h_allCams_0.99conf_160dist_6ilen.graphml\")\n",
    "gh1 = nx.read_graphml(\"networks-hours/2015-08-21T11:00:00Z_1h_allCams_0.99conf_160dist_6ilen.graphml\")"
   ]
  },
  {
   "cell_type": "code",
   "execution_count": 117,
   "metadata": {
    "ExecuteTime": {
     "end_time": "2017-02-05T15:01:32.172257",
     "start_time": "2017-02-05T15:01:31.297901"
    },
    "collapsed": true
   },
   "outputs": [],
   "source": [
    "gh2 = nx.read_graphml(\"networks-hours/2015-08-21T12:00:00Z_1h_allCams_0.99conf_160dist_6ilen.graphml\")"
   ]
  },
  {
   "cell_type": "code",
   "execution_count": 115,
   "metadata": {
    "ExecuteTime": {
     "end_time": "2017-02-05T15:00:53.986387",
     "start_time": "2017-02-05T15:00:35.434405"
    },
    "collapsed": false,
    "scrolled": false
   },
   "outputs": [],
   "source": [
    "result = getMatchesKCC(gh0, gh1, 3)"
   ]
  },
  {
   "cell_type": "code",
   "execution_count": 116,
   "metadata": {
    "ExecuteTime": {
     "end_time": "2017-02-05T15:00:53.993760",
     "start_time": "2017-02-05T15:00:53.988424"
    },
    "collapsed": false,
    "scrolled": false
   },
   "outputs": [
    {
     "data": {
      "text/plain": [
       "[(0, 0, 0.8276209677419355)]"
      ]
     },
     "execution_count": 116,
     "metadata": {},
     "output_type": "execute_result"
    }
   ],
   "source": [
    "[(a,b,c) for a,b,c in result if c > 0.2]"
   ]
  },
  {
   "cell_type": "code",
   "execution_count": 120,
   "metadata": {
    "ExecuteTime": {
     "end_time": "2017-02-05T15:02:06.848041",
     "start_time": "2017-02-05T15:02:02.320097"
    },
    "collapsed": true
   },
   "outputs": [],
   "source": [
    "result = getMatchesKCC(gh1, gh2, 4)"
   ]
  },
  {
   "cell_type": "code",
   "execution_count": 121,
   "metadata": {
    "ExecuteTime": {
     "end_time": "2017-02-05T15:02:06.857299",
     "start_time": "2017-02-05T15:02:06.850310"
    },
    "collapsed": false
   },
   "outputs": [
    {
     "data": {
      "text/plain": [
       "[(0, 0, 0.5977011494252874),\n",
       " (14, 49, 0.2222222222222222),\n",
       " (19, 45, 0.2857142857142857),\n",
       " (47, 57, 0.3333333333333333),\n",
       " (84, 48, 0.2857142857142857),\n",
       " (85, 95, 0.2857142857142857),\n",
       " (108, 40, 0.2222222222222222)]"
      ]
     },
     "execution_count": 121,
     "metadata": {},
     "output_type": "execute_result"
    }
   ],
   "source": [
    "[(a,b,c) for a,b,c in result if c > 0.2]"
   ]
  },
  {
   "cell_type": "markdown",
   "metadata": {},
   "source": [
    "# KCC Matching Palla"
   ]
  },
  {
   "cell_type": "code",
   "execution_count": 147,
   "metadata": {
    "ExecuteTime": {
     "end_time": "2017-02-05T18:26:52.179891",
     "start_time": "2017-02-05T18:26:52.176618"
    },
    "collapsed": true
   },
   "outputs": [],
   "source": [
    "k=4"
   ]
  },
  {
   "cell_type": "code",
   "execution_count": 148,
   "metadata": {
    "ExecuteTime": {
     "end_time": "2017-02-05T18:26:54.468276",
     "start_time": "2017-02-05T18:26:52.753725"
    },
    "collapsed": true
   },
   "outputs": [],
   "source": [
    "gh0 = nx.read_graphml(\"networks-hours/2015-08-21T10:00:00Z_1h_allCams_0.99conf_160dist_6ilen.graphml\")\n",
    "gh1 = nx.read_graphml(\"networks-hours/2015-08-21T11:00:00Z_1h_allCams_0.99conf_160dist_6ilen.graphml\")"
   ]
  },
  {
   "cell_type": "code",
   "execution_count": 149,
   "metadata": {
    "ExecuteTime": {
     "end_time": "2017-02-05T18:27:04.143235",
     "start_time": "2017-02-05T18:26:54.470782"
    },
    "collapsed": true
   },
   "outputs": [],
   "source": [
    "list0 = list(nx.community.k_clique_communities(gh0,k))\n",
    "list1 = list(nx.community.k_clique_communities(gh1,k))"
   ]
  },
  {
   "cell_type": "code",
   "execution_count": 154,
   "metadata": {
    "ExecuteTime": {
     "end_time": "2017-02-05T18:27:22.404986",
     "start_time": "2017-02-05T18:27:22.400861"
    },
    "collapsed": false
   },
   "outputs": [
    {
     "name": "stdout",
     "output_type": "stream",
     "text": [
      "127\n"
     ]
    }
   ],
   "source": [
    "print(len(list0))"
   ]
  },
  {
   "cell_type": "code",
   "execution_count": 156,
   "metadata": {
    "ExecuteTime": {
     "end_time": "2017-02-05T18:27:35.708126",
     "start_time": "2017-02-05T18:27:35.704176"
    },
    "collapsed": false
   },
   "outputs": [
    {
     "name": "stdout",
     "output_type": "stream",
     "text": [
      "145\n"
     ]
    }
   ],
   "source": [
    "print(len(list1))"
   ]
  },
  {
   "cell_type": "code",
   "execution_count": 150,
   "metadata": {
    "ExecuteTime": {
     "end_time": "2017-02-05T18:27:04.150716",
     "start_time": "2017-02-05T18:27:04.145649"
    },
    "collapsed": false
   },
   "outputs": [
    {
     "name": "stdout",
     "output_type": "stream",
     "text": [
      "Name: \n",
      "Type: Graph\n",
      "Number of nodes: 993\n",
      "Number of edges: 14991\n",
      "Average degree:  30.1934\n"
     ]
    }
   ],
   "source": [
    "print(nx.info(gh0))"
   ]
  },
  {
   "cell_type": "code",
   "execution_count": 151,
   "metadata": {
    "ExecuteTime": {
     "end_time": "2017-02-05T18:27:04.158818",
     "start_time": "2017-02-05T18:27:04.152827"
    },
    "collapsed": false
   },
   "outputs": [
    {
     "name": "stdout",
     "output_type": "stream",
     "text": [
      "Name: \n",
      "Type: Graph\n",
      "Number of nodes: 989\n",
      "Number of edges: 13255\n",
      "Average degree:  26.8049\n"
     ]
    }
   ],
   "source": [
    "print(nx.info(gh1))"
   ]
  },
  {
   "cell_type": "code",
   "execution_count": 157,
   "metadata": {
    "ExecuteTime": {
     "end_time": "2017-02-05T18:27:52.354704",
     "start_time": "2017-02-05T18:27:52.244833"
    },
    "collapsed": false
   },
   "outputs": [],
   "source": [
    "gh01 = nx.compose(gh0,gh1)"
   ]
  },
  {
   "cell_type": "code",
   "execution_count": 158,
   "metadata": {
    "ExecuteTime": {
     "end_time": "2017-02-05T18:27:53.305386",
     "start_time": "2017-02-05T18:27:53.299845"
    },
    "collapsed": false
   },
   "outputs": [
    {
     "name": "stdout",
     "output_type": "stream",
     "text": [
      "Name: compose( ,  )\n",
      "Type: Graph\n",
      "Number of nodes: 1044\n",
      "Number of edges: 27171\n",
      "Average degree:  52.0517\n"
     ]
    }
   ],
   "source": [
    "print(nx.info(gh01))"
   ]
  },
  {
   "cell_type": "code",
   "execution_count": 159,
   "metadata": {
    "ExecuteTime": {
     "end_time": "2017-02-05T18:30:30.266478",
     "start_time": "2017-02-05T18:27:55.914314"
    },
    "collapsed": false,
    "scrolled": true
   },
   "outputs": [],
   "source": [
    "# Communities in Joint Graph\n",
    "list01 = list(nx.community.k_clique_communities(gh01,k))"
   ]
  },
  {
   "cell_type": "code",
   "execution_count": 160,
   "metadata": {
    "ExecuteTime": {
     "end_time": "2017-02-05T18:30:30.273068",
     "start_time": "2017-02-05T18:30:30.268654"
    },
    "collapsed": false
   },
   "outputs": [
    {
     "data": {
      "text/plain": [
       "72"
      ]
     },
     "execution_count": 160,
     "metadata": {},
     "output_type": "execute_result"
    }
   ],
   "source": [
    "len(list01)"
   ]
  },
  {
   "cell_type": "code",
   "execution_count": 161,
   "metadata": {
    "ExecuteTime": {
     "end_time": "2017-02-05T18:30:34.965725",
     "start_time": "2017-02-05T18:30:34.961426"
    },
    "collapsed": true
   },
   "outputs": [],
   "source": [
    "# For each community v_k in the joint graph\n",
    "# extract a list of communities d_ik contained in v_k\n",
    "# extract a list of communities e_ik contained in v_k"
   ]
  },
  {
   "cell_type": "code",
   "execution_count": 206,
   "metadata": {
    "ExecuteTime": {
     "end_time": "2017-02-05T18:48:26.348399",
     "start_time": "2017-02-05T18:48:26.343792"
    },
    "collapsed": true
   },
   "outputs": [],
   "source": [
    "d = [[] for i in range(len(list01))]\n",
    "e = [[] for i in range(len(list01))]"
   ]
  },
  {
   "cell_type": "code",
   "execution_count": 207,
   "metadata": {
    "ExecuteTime": {
     "end_time": "2017-02-05T18:48:26.754630",
     "start_time": "2017-02-05T18:48:26.731145"
    },
    "code_folding": [],
    "collapsed": true
   },
   "outputs": [],
   "source": [
    "for e01, l01 in enumerate(list01):\n",
    "    for e0, l0 in enumerate(list0):\n",
    "        if (set(l0).issubset(l01)):\n",
    "            d[e01].append(l0)\n",
    "    \n",
    "    for e1, l1 in enumerate(list1):\n",
    "        if (set(l1).issubset(l01)):\n",
    "            e[e01].append(l1)"
   ]
  },
  {
   "cell_type": "code",
   "execution_count": 213,
   "metadata": {
    "ExecuteTime": {
     "end_time": "2017-02-05T18:50:23.520776",
     "start_time": "2017-02-05T18:50:23.449949"
    },
    "collapsed": false
   },
   "outputs": [],
   "source": [
    "# calculate relative overlap for each pairs\n",
    "o = [[] for i in range(len(list01))]\n",
    "\n",
    "for i in range(len(list01)):\n",
    "    for ed, di in enumerate(d[i]):\n",
    "        for ee, ei in enumerate(e[i]):\n",
    "            o[i].append((ed,ee, overlap1(di,ei)))\n",
    "    \n",
    "    "
   ]
  },
  {
   "cell_type": "code",
   "execution_count": 231,
   "metadata": {
    "ExecuteTime": {
     "end_time": "2017-02-05T23:51:54.241679",
     "start_time": "2017-02-05T23:51:54.118128"
    },
    "collapsed": false,
    "scrolled": false
   },
   "outputs": [
    {
     "data": {
      "text/plain": [
       "[(0, 0, 0.6519721577726219),\n",
       " (0, 1, 0.005442176870748299),\n",
       " (0, 2, 0.005442176870748299),\n",
       " (0, 3, 0.005442176870748299),\n",
       " (0, 4, 0.005442176870748299),\n",
       " (0, 5, 0.00816326530612245),\n",
       " (0, 6, 0.005442176870748299),\n",
       " (0, 7, 0.005434782608695652),\n",
       " (0, 8, 0.009497964721845319),\n",
       " (0, 9, 0.004076086956521739),\n",
       " (0, 10, 0.006802721088435374),\n",
       " (0, 11, 0.004070556309362279),\n",
       " (0, 12, 0.004070556309362279),\n",
       " (0, 13, 0.005442176870748299),\n",
       " (0, 14, 0.009523809523809525),\n",
       " (0, 15, 0.005442176870748299),\n",
       " (0, 16, 0.004076086956521739),\n",
       " (0, 17, 0.004070556309362279),\n",
       " (0, 18, 0.005434782608695652),\n",
       " (0, 19, 0.004076086956521739),\n",
       " (0, 20, 0.006802721088435374),\n",
       " (0, 21, 0.005442176870748299),\n",
       " (0, 22, 0.005442176870748299),\n",
       " (0, 23, 0.0027137042062415195),\n",
       " (0, 24, 0.004076086956521739),\n",
       " (0, 25, 0.005442176870748299),\n",
       " (0, 26, 0.005442176870748299),\n",
       " (0, 27, 0.004076086956521739),\n",
       " (0, 28, 0.005442176870748299),\n",
       " (0, 29, 0.005434782608695652),\n",
       " (0, 30, 0.004076086956521739),\n",
       " (0, 31, 0.005442176870748299),\n",
       " (0, 32, 0.004076086956521739),\n",
       " (0, 33, 0.005442176870748299),\n",
       " (0, 34, 0.005442176870748299),\n",
       " (0, 35, 0.0027137042062415195),\n",
       " (0, 36, 0.004076086956521739),\n",
       " (0, 37, 0.005442176870748299),\n",
       " (0, 38, 0.005442176870748299),\n",
       " (0, 39, 0.005442176870748299),\n",
       " (0, 40, 0.005442176870748299),\n",
       " (0, 41, 0.005442176870748299),\n",
       " (0, 42, 0.005427408412483039),\n",
       " (0, 43, 0.004076086956521739),\n",
       " (0, 44, 0.005442176870748299),\n",
       " (0, 45, 0.005442176870748299),\n",
       " (0, 46, 0.005442176870748299),\n",
       " (0, 47, 0.004076086956521739),\n",
       " (0, 48, 0.004076086956521739),\n",
       " (0, 49, 0.004076086956521739),\n",
       " (0, 50, 0.0027137042062415195),\n",
       " (0, 51, 0.0027137042062415195),\n",
       " (0, 52, 0.005442176870748299),\n",
       " (0, 53, 0.004076086956521739),\n",
       " (0, 54, 0.004076086956521739),\n",
       " (0, 55, 0.005442176870748299),\n",
       " (0, 56, 0.005434782608695652),\n",
       " (0, 57, 0.005442176870748299),\n",
       " (0, 58, 0.004076086956521739),\n",
       " (0, 59, 0.0027137042062415195),\n",
       " (0, 60, 0.004076086956521739),\n",
       " (0, 61, 0.005442176870748299),\n",
       " (0, 62, 0.005442176870748299),\n",
       " (0, 63, 0.005442176870748299),\n",
       " (0, 64, 0.005442176870748299),\n",
       " (0, 65, 0.004076086956521739),\n",
       " (0, 66, 0.005442176870748299),\n",
       " (0, 67, 0.005442176870748299),\n",
       " (0, 68, 0.0027137042062415195),\n",
       " (0, 69, 0.0027137042062415195),\n",
       " (0, 70, 0.004076086956521739),\n",
       " (0, 71, 0.006802721088435374),\n",
       " (0, 72, 0.0027137042062415195),\n",
       " (0, 73, 0.005442176870748299),\n",
       " (0, 74, 0.004076086956521739),\n",
       " (0, 75, 0.006802721088435374),\n",
       " (0, 76, 0.004076086956521739),\n",
       " (0, 77, 0.005442176870748299),\n",
       " (0, 78, 0.004076086956521739),\n",
       " (0, 79, 0.004076086956521739),\n",
       " (0, 80, 0.005442176870748299),\n",
       " (0, 81, 0.004076086956521739),\n",
       " (0, 82, 0.005434782608695652),\n",
       " (0, 83, 0.004076086956521739),\n",
       " (0, 84, 0.004076086956521739),\n",
       " (0, 85, 0.004070556309362279),\n",
       " (0, 86, 0.004070556309362279),\n",
       " (0, 87, 0.004076086956521739),\n",
       " (0, 88, 0.0027137042062415195),\n",
       " (0, 89, 0.0027100271002710027),\n",
       " (0, 90, 0.004076086956521739),\n",
       " (0, 91, 0.005442176870748299),\n",
       " (0, 92, 0.006802721088435374),\n",
       " (0, 93, 0.005442176870748299),\n",
       " (0, 94, 0.004076086956521739),\n",
       " (0, 95, 0.005442176870748299),\n",
       " (0, 96, 0.006802721088435374),\n",
       " (0, 97, 0.005442176870748299),\n",
       " (0, 98, 0.005442176870748299),\n",
       " (0, 99, 0.006802721088435374),\n",
       " (0, 100, 0.004076086956521739),\n",
       " (0, 101, 0.004076086956521739),\n",
       " (0, 102, 0.004076086956521739),\n",
       " (0, 103, 0.0027137042062415195),\n",
       " (0, 104, 0.005442176870748299),\n",
       " (0, 105, 0.005442176870748299),\n",
       " (0, 106, 0.005442176870748299),\n",
       " (0, 107, 0.005442176870748299),\n",
       " (0, 108, 0.005442176870748299),\n",
       " (0, 109, 0.005442176870748299),\n",
       " (0, 110, 0.005442176870748299),\n",
       " (0, 111, 0.009523809523809525),\n",
       " (0, 112, 0.005442176870748299),\n",
       " (0, 113, 0.004076086956521739),\n",
       " (0, 114, 0.005442176870748299),\n",
       " (0, 115, 0.004076086956521739),\n",
       " (0, 116, 0.006793478260869565),\n",
       " (0, 117, 0.004076086956521739),\n",
       " (0, 118, 0.004076086956521739),\n",
       " (0, 119, 0.004076086956521739),\n",
       " (0, 120, 0.005442176870748299),\n",
       " (0, 121, 0.005442176870748299),\n",
       " (0, 122, 0.005442176870748299),\n",
       " (0, 123, 0.005442176870748299),\n",
       " (0, 124, 0.005442176870748299),\n",
       " (0, 125, 0.004076086956521739),\n",
       " (0, 126, 0.004076086956521739),\n",
       " (0, 127, 0.0027137042062415195),\n",
       " (0, 128, 0.004076086956521739),\n",
       " (0, 129, 0.004076086956521739),\n",
       " (0, 130, 0.005442176870748299),\n",
       " (0, 131, 0.005442176870748299),\n",
       " (0, 132, 0.004076086956521739),\n",
       " (0, 133, 0.004076086956521739),\n",
       " (0, 134, 0.004076086956521739),\n",
       " (0, 135, 0.005442176870748299),\n",
       " (0, 136, 0.004076086956521739),\n",
       " (0, 137, 0.005442176870748299),\n",
       " (0, 138, 0.0027137042062415195),\n",
       " (0, 139, 0.0027137042062415195),\n",
       " (0, 140, 0.004076086956521739),\n",
       " (0, 141, 0.004076086956521739),\n",
       " (0, 142, 0.005442176870748299),\n",
       " (0, 143, 0.005442176870748299),\n",
       " (1, 0, 0.005805515239477504),\n",
       " (1, 1, 0.0),\n",
       " (1, 2, 0.14285714285714285),\n",
       " (1, 3, 0.0),\n",
       " (1, 4, 0.0),\n",
       " (1, 5, 0.0),\n",
       " (1, 6, 0.0),\n",
       " (1, 7, 0.0),\n",
       " (1, 8, 0.0),\n",
       " (1, 9, 0.0),\n",
       " (1, 10, 0.0),\n",
       " (1, 11, 0.0),\n",
       " (1, 12, 0.0),\n",
       " (1, 13, 0.0),\n",
       " (1, 14, 0.0),\n",
       " (1, 15, 0.0),\n",
       " (1, 16, 0.0),\n",
       " (1, 17, 0.0),\n",
       " (1, 18, 0.0),\n",
       " (1, 19, 0.14285714285714285),\n",
       " (1, 20, 0.0),\n",
       " (1, 21, 0.0),\n",
       " (1, 22, 0.14285714285714285),\n",
       " (1, 23, 0.0),\n",
       " (1, 24, 0.0),\n",
       " (1, 25, 0.14285714285714285),\n",
       " (1, 26, 0.0),\n",
       " (1, 27, 0.0),\n",
       " (1, 28, 0.0),\n",
       " (1, 29, 0.0),\n",
       " (1, 30, 0.0),\n",
       " (1, 31, 0.0),\n",
       " (1, 32, 0.0),\n",
       " (1, 33, 0.0),\n",
       " (1, 34, 0.0),\n",
       " (1, 35, 0.0),\n",
       " (1, 36, 0.0),\n",
       " (1, 37, 0.0),\n",
       " (1, 38, 0.0),\n",
       " (1, 39, 0.0),\n",
       " (1, 40, 0.0),\n",
       " (1, 41, 0.0),\n",
       " (1, 42, 0.0),\n",
       " (1, 43, 0.0),\n",
       " (1, 44, 0.0),\n",
       " (1, 45, 0.0),\n",
       " (1, 46, 0.0),\n",
       " (1, 47, 0.0),\n",
       " (1, 48, 0.0),\n",
       " (1, 49, 0.0),\n",
       " (1, 50, 0.0),\n",
       " (1, 51, 0.0),\n",
       " (1, 52, 0.0),\n",
       " (1, 53, 0.0),\n",
       " (1, 54, 0.0),\n",
       " (1, 55, 0.0),\n",
       " (1, 56, 0.0),\n",
       " (1, 57, 0.0),\n",
       " (1, 58, 0.0),\n",
       " (1, 59, 0.14285714285714285),\n",
       " (1, 60, 0.0),\n",
       " (1, 61, 0.0),\n",
       " (1, 62, 0.14285714285714285),\n",
       " (1, 63, 0.0),\n",
       " (1, 64, 0.14285714285714285),\n",
       " (1, 65, 0.0),\n",
       " (1, 66, 0.0),\n",
       " (1, 67, 0.0),\n",
       " (1, 68, 0.0),\n",
       " (1, 69, 0.0),\n",
       " (1, 70, 0.0),\n",
       " (1, 71, 0.0),\n",
       " (1, 72, 0.0),\n",
       " (1, 73, 0.0),\n",
       " (1, 74, 0.0),\n",
       " (1, 75, 0.0),\n",
       " (1, 76, 0.0),\n",
       " (1, 77, 0.0),\n",
       " (1, 78, 0.0),\n",
       " (1, 79, 0.0),\n",
       " (1, 80, 0.0),\n",
       " (1, 81, 0.0),\n",
       " (1, 82, 0.0),\n",
       " (1, 83, 0.0),\n",
       " (1, 84, 0.0),\n",
       " (1, 85, 0.0),\n",
       " (1, 86, 0.0),\n",
       " (1, 87, 0.0),\n",
       " (1, 88, 0.0),\n",
       " (1, 89, 0.0),\n",
       " (1, 90, 0.0),\n",
       " (1, 91, 0.0),\n",
       " (1, 92, 0.125),\n",
       " (1, 93, 0.0),\n",
       " (1, 94, 0.0),\n",
       " (1, 95, 0.0),\n",
       " (1, 96, 0.0),\n",
       " (1, 97, 0.0),\n",
       " (1, 98, 0.0),\n",
       " (1, 99, 0.0),\n",
       " (1, 100, 0.0),\n",
       " (1, 101, 0.0),\n",
       " (1, 102, 0.0),\n",
       " (1, 103, 0.0),\n",
       " (1, 104, 0.0),\n",
       " (1, 105, 0.14285714285714285),\n",
       " (1, 106, 0.0),\n",
       " (1, 107, 0.0),\n",
       " (1, 108, 0.0),\n",
       " (1, 109, 0.0),\n",
       " (1, 110, 0.0),\n",
       " (1, 111, 0.0),\n",
       " (1, 112, 0.0),\n",
       " (1, 113, 0.0),\n",
       " (1, 114, 0.0),\n",
       " (1, 115, 0.0),\n",
       " (1, 116, 0.0),\n",
       " (1, 117, 0.0),\n",
       " (1, 118, 0.0),\n",
       " (1, 119, 0.0),\n",
       " (1, 120, 0.0),\n",
       " (1, 121, 0.0),\n",
       " (1, 122, 0.0),\n",
       " (1, 123, 0.0),\n",
       " (1, 124, 0.0),\n",
       " (1, 125, 0.0),\n",
       " (1, 126, 0.0),\n",
       " (1, 127, 0.0),\n",
       " (1, 128, 0.0),\n",
       " (1, 129, 0.0),\n",
       " (1, 130, 0.0),\n",
       " (1, 131, 0.0),\n",
       " (1, 132, 0.0),\n",
       " (1, 133, 0.0),\n",
       " (1, 134, 0.0),\n",
       " (1, 135, 0.0),\n",
       " (1, 136, 0.0),\n",
       " (1, 137, 0.0),\n",
       " (1, 138, 0.0),\n",
       " (1, 139, 0.0),\n",
       " (1, 140, 0.0),\n",
       " (1, 141, 0.0),\n",
       " (1, 142, 0.0),\n",
       " (1, 143, 0.0),\n",
       " (2, 0, 0.008708272859216255),\n",
       " (2, 1, 0.0),\n",
       " (2, 2, 0.0),\n",
       " (2, 3, 0.0),\n",
       " (2, 4, 0.0),\n",
       " (2, 5, 0.0),\n",
       " (2, 6, 0.0),\n",
       " (2, 7, 0.0),\n",
       " (2, 8, 0.0),\n",
       " (2, 9, 0.0),\n",
       " (2, 10, 0.0),\n",
       " (2, 11, 0.0),\n",
       " (2, 12, 0.0),\n",
       " (2, 13, 0.0),\n",
       " (2, 14, 0.0),\n",
       " (2, 15, 0.0),\n",
       " (2, 16, 0.0),\n",
       " (2, 17, 0.0),\n",
       " (2, 18, 0.0),\n",
       " (2, 19, 0.0),\n",
       " (2, 20, 0.0),\n",
       " (2, 21, 0.0),\n",
       " (2, 22, 0.0),\n",
       " (2, 23, 0.0),\n",
       " (2, 24, 0.0),\n",
       " (2, 25, 0.0),\n",
       " (2, 26, 0.0),\n",
       " (2, 27, 0.0),\n",
       " (2, 28, 0.0),\n",
       " (2, 29, 0.0),\n",
       " (2, 30, 0.0),\n",
       " (2, 31, 0.0),\n",
       " (2, 32, 0.0),\n",
       " (2, 33, 0.1111111111111111),\n",
       " (2, 34, 0.0),\n",
       " (2, 35, 0.0),\n",
       " (2, 36, 0.0),\n",
       " (2, 37, 0.0),\n",
       " (2, 38, 0.0),\n",
       " (2, 39, 0.0),\n",
       " (2, 40, 0.0),\n",
       " (2, 41, 0.1111111111111111),\n",
       " (2, 42, 0.0),\n",
       " (2, 43, 0.0),\n",
       " (2, 44, 0.0),\n",
       " (2, 45, 0.0),\n",
       " (2, 46, 0.0),\n",
       " (2, 47, 0.0),\n",
       " (2, 48, 0.0),\n",
       " (2, 49, 0.0),\n",
       " (2, 50, 0.0),\n",
       " (2, 51, 0.0),\n",
       " (2, 52, 0.0),\n",
       " (2, 53, 0.0),\n",
       " (2, 54, 0.0),\n",
       " (2, 55, 0.0),\n",
       " (2, 56, 0.0),\n",
       " (2, 57, 0.0),\n",
       " (2, 58, 0.0),\n",
       " (2, 59, 0.0),\n",
       " (2, 60, 0.0),\n",
       " (2, 61, 0.0),\n",
       " (2, 62, 0.1111111111111111),\n",
       " (2, 63, 0.0),\n",
       " (2, 64, 0.0),\n",
       " (2, 65, 0.0),\n",
       " (2, 66, 0.0),\n",
       " (2, 67, 0.0),\n",
       " (2, 68, 0.0),\n",
       " (2, 69, 0.0),\n",
       " (2, 70, 0.0),\n",
       " (2, 71, 0.0),\n",
       " (2, 72, 0.0),\n",
       " (2, 73, 0.0),\n",
       " (2, 74, 0.0),\n",
       " (2, 75, 0.0),\n",
       " (2, 76, 0.0),\n",
       " (2, 77, 0.0),\n",
       " (2, 78, 0.0),\n",
       " (2, 79, 0.0),\n",
       " (2, 80, 0.0),\n",
       " (2, 81, 0.0),\n",
       " (2, 82, 0.0),\n",
       " (2, 83, 0.0),\n",
       " (2, 84, 0.0),\n",
       " (2, 85, 0.0),\n",
       " (2, 86, 0.0),\n",
       " (2, 87, 0.0),\n",
       " (2, 88, 0.0),\n",
       " (2, 89, 0.0),\n",
       " (2, 90, 0.0),\n",
       " (2, 91, 0.0),\n",
       " (2, 92, 0.0),\n",
       " (2, 93, 0.0),\n",
       " (2, 94, 0.0),\n",
       " (2, 95, 0.0),\n",
       " (2, 96, 0.0),\n",
       " (2, 97, 0.0),\n",
       " (2, 98, 0.0),\n",
       " (2, 99, 0.0),\n",
       " (2, 100, 0.0),\n",
       " (2, 101, 0.0),\n",
       " (2, 102, 0.0),\n",
       " (2, 103, 0.0),\n",
       " (2, 104, 0.0),\n",
       " (2, 105, 0.0),\n",
       " (2, 106, 0.0),\n",
       " (2, 107, 0.0),\n",
       " (2, 108, 0.1111111111111111),\n",
       " (2, 109, 0.1111111111111111),\n",
       " (2, 110, 0.0),\n",
       " (2, 111, 0.08333333333333333),\n",
       " (2, 112, 0.1111111111111111),\n",
       " (2, 113, 0.0),\n",
       " (2, 114, 0.0),\n",
       " (2, 115, 0.0),\n",
       " (2, 116, 0.09090909090909091),\n",
       " (2, 117, 0.0),\n",
       " (2, 118, 0.0),\n",
       " (2, 119, 0.0),\n",
       " (2, 120, 0.0),\n",
       " (2, 121, 0.0),\n",
       " (2, 122, 0.0),\n",
       " (2, 123, 0.0),\n",
       " (2, 124, 0.0),\n",
       " (2, 125, 0.0),\n",
       " (2, 126, 0.0),\n",
       " (2, 127, 0.0),\n",
       " (2, 128, 0.0),\n",
       " (2, 129, 0.0),\n",
       " (2, 130, 0.0),\n",
       " (2, 131, 0.0),\n",
       " (2, 132, 0.0),\n",
       " (2, 133, 0.0),\n",
       " (2, 134, 0.0),\n",
       " (2, 135, 0.0),\n",
       " (2, 136, 0.0),\n",
       " (2, 137, 0.0),\n",
       " (2, 138, 0.1111111111111111),\n",
       " (2, 139, 0.0),\n",
       " (2, 140, 0.0),\n",
       " (2, 141, 0.0),\n",
       " (2, 142, 0.0),\n",
       " (2, 143, 0.0),\n",
       " (3, 0, 0.005797101449275362),\n",
       " (3, 1, 0.0),\n",
       " (3, 2, 0.0),\n",
       " (3, 3, 0.0),\n",
       " (3, 4, 0.0),\n",
       " (3, 5, 0.0),\n",
       " (3, 6, 0.0),\n",
       " (3, 7, 0.0),\n",
       " (3, 8, 0.0),\n",
       " (3, 9, 0.0),\n",
       " (3, 10, 0.0),\n",
       " (3, 11, 0.0),\n",
       " (3, 12, 0.0),\n",
       " (3, 13, 0.0),\n",
       " (3, 14, 0.0),\n",
       " (3, 15, 0.0),\n",
       " (3, 16, 0.0),\n",
       " (3, 17, 0.0),\n",
       " (3, 18, 0.0),\n",
       " (3, 19, 0.125),\n",
       " (3, 20, 0.0),\n",
       " (3, 21, 0.0),\n",
       " (3, 22, 0.0),\n",
       " (3, 23, 0.0),\n",
       " (3, 24, 0.0),\n",
       " (3, 25, 0.0),\n",
       " (3, 26, 0.0),\n",
       " (3, 27, 0.0),\n",
       " (3, 28, 0.0),\n",
       " (3, 29, 0.0),\n",
       " (3, 30, 0.0),\n",
       " (3, 31, 0.0),\n",
       " (3, 32, 0.0),\n",
       " (3, 33, 0.0),\n",
       " (3, 34, 0.0),\n",
       " (3, 35, 0.0),\n",
       " (3, 36, 0.0),\n",
       " (3, 37, 0.0),\n",
       " (3, 38, 0.0),\n",
       " (3, 39, 0.0),\n",
       " (3, 40, 0.0),\n",
       " (3, 41, 0.0),\n",
       " (3, 42, 0.0),\n",
       " (3,"
      ]
     },
     "execution_count": 231,
     "metadata": {},
     "output_type": "execute_result"
    },
    {
     "data": {
      "text/html": [
       "<b>limit_output extension: Maximum message size of 10000 exceeded with 18196 characters</b>"
      ]
     },
     "metadata": {},
     "output_type": "display_data"
    }
   ],
   "source": [
    "o[0]"
   ]
  },
  {
   "cell_type": "code",
   "execution_count": null,
   "metadata": {
    "collapsed": true
   },
   "outputs": [],
   "source": []
  }
 ],
 "metadata": {
  "anaconda-cloud": {},
  "kernelspec": {
   "display_name": "Python [conda root]",
   "language": "python",
   "name": "conda-root-py"
  },
  "language_info": {
   "codemirror_mode": {
    "name": "ipython",
    "version": 3
   },
   "file_extension": ".py",
   "mimetype": "text/x-python",
   "name": "python",
   "nbconvert_exporter": "python",
   "pygments_lexer": "ipython3",
   "version": "3.5.2"
  },
  "toc": {
   "colors": {
    "hover_highlight": "#DAA520",
    "running_highlight": "#FF0000",
    "selected_highlight": "#FFD700"
   },
   "moveMenuLeft": true,
   "nav_menu": {
    "height": "135px",
    "width": "252px"
   },
   "navigate_menu": true,
   "number_sections": true,
   "sideBar": true,
   "threshold": 4,
   "toc_cell": false,
   "toc_position": {
    "height": "881px",
    "left": "0px",
    "right": "1708px",
    "top": "106px",
    "width": "212px"
   },
   "toc_section_display": "block",
   "toc_window_display": true
  }
 },
 "nbformat": 4,
 "nbformat_minor": 2
}
