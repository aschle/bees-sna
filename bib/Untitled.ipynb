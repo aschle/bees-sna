{
 "cells": [
  {
   "cell_type": "code",
   "execution_count": 82,
   "metadata": {
    "collapsed": false
   },
   "outputs": [
    {
     "name": "stdout",
     "output_type": "stream",
     "text": [
      "The line_profiler extension is already loaded. To reload it, use:\n",
      "  %reload_ext line_profiler\n"
     ]
    }
   ],
   "source": [
    "%load_ext line_profiler\n",
    "import pandas as pd\n",
    "import numpy as np\n",
    "import networkx as nx\n",
    "\n",
    "from bb_binary import Repository,load_frame_container\n",
    "from pandas import DataFrame, Series\n",
    "from collections import namedtuple\n",
    "from scipy import spatial"
   ]
  },
  {
   "cell_type": "code",
   "execution_count": 83,
   "metadata": {
    "collapsed": true
   },
   "outputs": [],
   "source": [
    "def get_files(path):\n",
    "    repo = Repository(path)\n",
    "    file = list(repo.iter_fnames())\n",
    "    a = [f.split('/')[-1].split(\"_\")[1] for f in file]\n",
    "    l = len(a)/4\n",
    "    npa = np.array(file).reshape(l,4)\n",
    "    return npa"
   ]
  },
  {
   "cell_type": "code",
   "execution_count": 84,
   "metadata": {
    "collapsed": true
   },
   "outputs": [],
   "source": [
    "def get_dataframe(fc):\n",
    "    detection = namedtuple('Detection', ['idx','xpos','ypos',\n",
    "        'radius','decodedId', 'frame_idx', 'timestamp', 'cam_id', 'fc_id'])\n",
    "\n",
    "    l = []\n",
    "    for f in fc.frames:\n",
    "        tpls = [detection(d.idx, d.xpos, d.ypos, d.radius, list(d.decodedId),\n",
    "            f.frameIdx, f.timestamp, fc.camId, fc.id)\n",
    "            for d in f.detectionsUnion.detectionsDP]\n",
    "        l.append(pd.DataFrame(tpls))\n",
    "    return pd.concat(l)"
   ]
  },
  {
   "cell_type": "code",
   "execution_count": 85,
   "metadata": {
    "collapsed": true
   },
   "outputs": [],
   "source": [
    "def calcIds(df, threshold):\n",
    "    # print('\\n### Calc IDs with threshold: {}'.format(threshold))\n",
    "    #print('#Detections before calcualting IDs: {}'.format(df.shape[0]))\n",
    "\n",
    "    # calc confidence value\n",
    "        # 0...256 in 0...1 umrechnen\n",
    "        # fuer jedes bit abstand zu 0.5 berechnen und dann minimum behalten\n",
    "    # add confidence value to dataframe as column\n",
    "    df = df.assign(confidence = df.decodedId.apply(get_confidence))\n",
    "\n",
    "    # die detections entfernen die nicht  die nicht gut genug sind\n",
    "    df = df[df.confidence >= threshold]\n",
    "\n",
    "    # fuer den Rest der ueber bleibt die ID berechnen und an DF anhaengen\n",
    "    df = df.assign(id = df.decodedId.apply(get_detected_id))\n",
    "\n",
    "    df = df.drop('decodedId', 1)\n",
    "\n",
    "    #print('Number of Detections after calcualting IDs: {}'.format(df.shape[0]))\n",
    "    return df"
   ]
  },
  {
   "cell_type": "code",
   "execution_count": 86,
   "metadata": {
    "collapsed": true
   },
   "outputs": [],
   "source": [
    "def get_detected_id(bits):\n",
    "    # Umrechnen in binary array [0,1,1,1,0,1,1,1,0,0,0,1]\n",
    "    bits = np.array(bits)\n",
    "    bits = bits/255\n",
    "    binary_id = [int(x > 0.5) for x in bits]\n",
    "\n",
    "    decimal_id = int(''.join([str(c) for c in binary_id[:11]]), 2)\n",
    "\n",
    "    # determine what kind of parity bit was used and add 2^11 to decimal id\n",
    "    # uneven parity bit was used\n",
    "    if ((sum(binary_id) % 2) == 1):\n",
    "        decimal_id += 2048\n",
    "\n",
    "    return decimal_id"
   ]
  },
  {
   "cell_type": "code",
   "execution_count": 87,
   "metadata": {
    "collapsed": true
   },
   "outputs": [],
   "source": [
    "def get_confidence(bits):\n",
    "    # 12 bits mit Werten zwischen 0 und 256\n",
    "    bits = np.array(bits)\n",
    "    bits = bits/255\n",
    "\n",
    "    return np.min(np.abs(0.5 - bits)) * 2"
   ]
  },
  {
   "cell_type": "code",
   "execution_count": 88,
   "metadata": {
    "collapsed": true
   },
   "outputs": [],
   "source": [
    "def get_close_bees(df, distance):\n",
    "\n",
    "    df = df.reset_index(level = 'frame_idx')\n",
    "\n",
    "    m = pd.merge(df, df, on='frame_idx')\n",
    "    #m = m.query('id_x < id_y')\n",
    "    m = m[m.id_x < m.id_y]\n",
    "\n",
    "    m.loc[:, 'dist'] = np.square(m.xpos_x - m.xpos_y) \\\n",
    "        + np.square(m.ypos_x - m.ypos_y)\n",
    "\n",
    "    filtered = m[m.dist <= distance**2]\n",
    "\n",
    "    filtered = filtered[['frame_idx','id_x', 'id_y']]\n",
    "    return filtered"
   ]
  },
  {
   "cell_type": "code",
   "execution_count": 89,
   "metadata": {
    "collapsed": true
   },
   "outputs": [],
   "source": [
    "def get_close_bees_kd(df, distance):\n",
    "\n",
    "    df_close = DataFrame()\n",
    "\n",
    "    gr = df.groupby('frame_idx')\n",
    "\n",
    "    for i, group in gr:\n",
    "        xy_coordinates = group[['xpos', 'ypos']].values\n",
    "        tree = spatial.KDTree(xy_coordinates, leafsize=20)\n",
    "        result = tree.query_pairs(distance)\n",
    "        l = [[i,group['id'].iat[a], group['id'].iat[b]] for a,b in result]\n",
    "        df_close = df_close.append(DataFrame(l, columns=['frame_idx', 'id_x', 'id_y']))"
   ]
  },
  {
   "cell_type": "code",
   "execution_count": 90,
   "metadata": {
    "collapsed": true
   },
   "outputs": [],
   "source": [
    "def bee_pairs_to_timeseries(df):\n",
    "    close = df[['frame_idx', 'id_x', 'id_y']]\n",
    "    close = close.set_index(['frame_idx'])\n",
    "    close['pair'] = list(zip(close.id_x, close.id_y))\n",
    "    u_pairs = close.pair.unique()\n",
    "    dft = DataFrame(0, index=u_pairs, columns=np.arange(1024))\n",
    "    gr = close.groupby(level='frame_idx')\n",
    "\n",
    "    for i, group in gr:\n",
    "        l = group['pair']\n",
    "        dft.loc[l,i] = 1\n",
    "\n",
    "    return dft"
   ]
  },
  {
   "cell_type": "code",
   "execution_count": 91,
   "metadata": {
    "collapsed": true
   },
   "outputs": [],
   "source": [
    "def get_ketten(kette, val):\n",
    "    kette = kette.apply(str)\n",
    "    s = kette.str.cat(sep='')\n",
    "    ss = s.split(val)\n",
    "    return [x for x in ss if len(x) > 0]"
   ]
  },
  {
   "cell_type": "code",
   "execution_count": 92,
   "metadata": {
    "collapsed": true
   },
   "outputs": [],
   "source": [
    "def extract_interactions(dft, minlength):\n",
    "    kette = dft.apply(get_ketten, axis=1, args=[\"0\"])\n",
    "    kk = kette.apply(lambda x:[len(item) for item in x])\n",
    "    kk = kk.apply(lambda x: len([item for item in x if item >= minlength]))\n",
    "    return kk[kk > 0]"
   ]
  },
  {
   "cell_type": "code",
   "execution_count": 100,
   "metadata": {
    "collapsed": true
   },
   "outputs": [],
   "source": [
    "# 0.9, 160, \"08\", 3\n",
    "def f(c,d,m,l):\n",
    "    filename = \"{}month-{}dist-{}conf-{}len-1h\".format(m,d,str(c).replace('.',''),l)\n",
    "\n",
    "    f = \"../00_Data/testset_2015_1h/\"\n",
    "    p = \"2015\" + m + \"2215\"\n",
    "    CONFIDENCE = c\n",
    "    DISTANCE = d\n",
    "    xmax = 3000\n",
    "    ymax = 4000\n",
    "    LENGTH = l\n",
    "    path = f+p\n",
    "\n",
    "    files = get_files(path)\n",
    "\n",
    "    interactions = Series()\n",
    "\n",
    "    for file_list in files[:1]:\n",
    "        \n",
    "        dataframes = np.empty(4, dtype=object)\n",
    "        \n",
    "        for i in list(range(4)):\n",
    "            fc = load_frame_container(file_list[i])\n",
    "            df = get_dataframe(fc)\n",
    "            df = calcIds(df,CONFIDENCE)\n",
    "\n",
    "            camIdx = file_list[i].split(\"/\")[-1].split(\"_\")[1]\n",
    "            dataframes[camIdx] = df\n",
    "        \n",
    "        # cam 0 und cam1 nach rechts verschieben\n",
    "        dataframes[0].xpos = dataframes[0].xpos + xmax\n",
    "        dataframes[1].xpos = dataframes[1].xpos + xmax\n",
    "\n",
    "        # Seiten zusammenfugen\n",
    "        side0 = pd.concat([dataframes[3], dataframes[0]])\n",
    "        side1 = pd.concat([dataframes[2], dataframes[1]])\n",
    "\n",
    "        close1 = get_close_bees(side0, DISTANCE)\n",
    "        close2 = get_close_bees(side1, DISTANCE)\n",
    "        \n",
    "        close1kd = get_close_bees_kd(side0, DISTANCE)\n",
    "        close2kd = get_close_bees_kd(side1, DISTANCE)\n",
    "\n",
    "        close = pd.concat([close1,close2])\n",
    "        \n",
    "        p = bee_pairs_to_timeseries(close)\n",
    "\n",
    "        edges = extract_interactions(p,LENGTH)\n",
    "        \n",
    "        interactions = pd.concat([interactions, edges])\n",
    "\n",
    "    G = create_graph2(interactions)\n",
    "    print(nx.info(G))\n",
    "\n",
    "    #nx.write_graphml(G, filename + \".graphml\")"
   ]
  },
  {
   "cell_type": "code",
   "execution_count": 97,
   "metadata": {
    "collapsed": true
   },
   "outputs": [],
   "source": [
    "def create_graph2(pairs):\n",
    "    G = nx.Graph()\n",
    "\n",
    "    for elem in pairs.iteritems():\n",
    "        G.add_edge(int(elem[0][0]), int(elem[0][1]), weight=int(elem[1]))\n",
    "\n",
    "    return G"
   ]
  },
  {
   "cell_type": "code",
   "execution_count": 113,
   "metadata": {
    "collapsed": false
   },
   "outputs": [
    {
     "name": "stderr",
     "output_type": "stream",
     "text": [
      "/usr/local/lib/python3.5/site-packages/ipykernel/__main__.py:6: VisibleDeprecationWarning: using a non-integer number instead of an integer will result in an error in the future\n",
      "/usr/local/lib/python3.5/site-packages/ipykernel/__main__.py:30: VisibleDeprecationWarning: using a non-integer number instead of an integer will result in an error in the future\n"
     ]
    },
    {
     "name": "stdout",
     "output_type": "stream",
     "text": [
      "Name: \n",
      "Type: Graph\n",
      "Number of nodes: 240\n",
      "Number of edges: 1937\n",
      "Average degree:  16.1417\n"
     ]
    }
   ],
   "source": [
    "%lprun -f f -f get_dataframe -f get_close_bees_kd -f get_close_bees f(0.9, 160, \"09\", 3)"
   ]
  },
  {
   "cell_type": "code",
   "execution_count": 104,
   "metadata": {
    "collapsed": false
   },
   "outputs": [
    {
     "data": {
      "text/html": [
       "<div>\n",
       "<table border=\"1\" class=\"dataframe\">\n",
       "  <thead>\n",
       "    <tr style=\"text-align: right;\">\n",
       "      <th></th>\n",
       "      <th>idx</th>\n",
       "      <th>xpos</th>\n",
       "      <th>ypos</th>\n",
       "      <th>radius</th>\n",
       "      <th>frame_idx</th>\n",
       "      <th>timestamp</th>\n",
       "      <th>cam_id</th>\n",
       "      <th>fc_id</th>\n",
       "      <th>confidence</th>\n",
       "      <th>id</th>\n",
       "    </tr>\n",
       "  </thead>\n",
       "  <tbody>\n",
       "    <tr>\n",
       "      <th>3</th>\n",
       "      <td>3</td>\n",
       "      <td>452</td>\n",
       "      <td>2450</td>\n",
       "      <td>22.891178</td>\n",
       "      <td>0</td>\n",
       "      <td>1.440256e+09</td>\n",
       "      <td>3</td>\n",
       "      <td>17639613505007922451</td>\n",
       "      <td>0.921569</td>\n",
       "      <td>3994</td>\n",
       "    </tr>\n",
       "    <tr>\n",
       "      <th>4</th>\n",
       "      <td>4</td>\n",
       "      <td>702</td>\n",
       "      <td>3464</td>\n",
       "      <td>22.759066</td>\n",
       "      <td>0</td>\n",
       "      <td>1.440256e+09</td>\n",
       "      <td>3</td>\n",
       "      <td>17639613505007922451</td>\n",
       "      <td>0.968627</td>\n",
       "      <td>2251</td>\n",
       "    </tr>\n",
       "    <tr>\n",
       "      <th>5</th>\n",
       "      <td>5</td>\n",
       "      <td>887</td>\n",
       "      <td>2225</td>\n",
       "      <td>22.952803</td>\n",
       "      <td>0</td>\n",
       "      <td>1.440256e+09</td>\n",
       "      <td>3</td>\n",
       "      <td>17639613505007922451</td>\n",
       "      <td>0.992157</td>\n",
       "      <td>564</td>\n",
       "    </tr>\n",
       "    <tr>\n",
       "      <th>7</th>\n",
       "      <td>7</td>\n",
       "      <td>962</td>\n",
       "      <td>1886</td>\n",
       "      <td>23.071014</td>\n",
       "      <td>0</td>\n",
       "      <td>1.440256e+09</td>\n",
       "      <td>3</td>\n",
       "      <td>17639613505007922451</td>\n",
       "      <td>0.984314</td>\n",
       "      <td>3700</td>\n",
       "    </tr>\n",
       "    <tr>\n",
       "      <th>9</th>\n",
       "      <td>9</td>\n",
       "      <td>1237</td>\n",
       "      <td>3374</td>\n",
       "      <td>22.624674</td>\n",
       "      <td>0</td>\n",
       "      <td>1.440256e+09</td>\n",
       "      <td>3</td>\n",
       "      <td>17639613505007922451</td>\n",
       "      <td>1.000000</td>\n",
       "      <td>2762</td>\n",
       "    </tr>\n",
       "  </tbody>\n",
       "</table>\n",
       "</div>"
      ],
      "text/plain": [
       "   idx  xpos  ypos     radius  frame_idx     timestamp  cam_id  \\\n",
       "3    3   452  2450  22.891178          0  1.440256e+09       3   \n",
       "4    4   702  3464  22.759066          0  1.440256e+09       3   \n",
       "5    5   887  2225  22.952803          0  1.440256e+09       3   \n",
       "7    7   962  1886  23.071014          0  1.440256e+09       3   \n",
       "9    9  1237  3374  22.624674          0  1.440256e+09       3   \n",
       "\n",
       "                  fc_id  confidence    id  \n",
       "3  17639613505007922451    0.921569  3994  \n",
       "4  17639613505007922451    0.968627  2251  \n",
       "5  17639613505007922451    0.992157   564  \n",
       "7  17639613505007922451    0.984314  3700  \n",
       "9  17639613505007922451    1.000000  2762  "
      ]
     },
     "execution_count": 104,
     "metadata": {},
     "output_type": "execute_result"
    }
   ],
   "source": [
    "side0.head()"
   ]
  },
  {
   "cell_type": "code",
   "execution_count": 114,
   "metadata": {
    "collapsed": false
   },
   "outputs": [
    {
     "data": {
      "text/plain": [
       "77.5146484375"
      ]
     },
     "execution_count": 114,
     "metadata": {},
     "output_type": "execute_result"
    }
   ],
   "source": [
    "side0.groupby('frame_idx').size().mean()"
   ]
  },
  {
   "cell_type": "code",
   "execution_count": 115,
   "metadata": {
    "collapsed": false
   },
   "outputs": [
    {
     "data": {
      "text/plain": [
       "56.1884765625"
      ]
     },
     "execution_count": 115,
     "metadata": {},
     "output_type": "execute_result"
    }
   ],
   "source": [
    "side1.groupby('frame_idx').size().mean()\n"
   ]
  },
  {
   "cell_type": "code",
   "execution_count": 109,
   "metadata": {
    "collapsed": false
   },
   "outputs": [
    {
     "data": {
      "text/plain": [
       "24.968999999999998"
      ]
     },
     "execution_count": 109,
     "metadata": {},
     "output_type": "execute_result"
    }
   ],
   "source": [
    "287*8.7/100"
   ]
  },
  {
   "cell_type": "code",
   "execution_count": null,
   "metadata": {
    "collapsed": true
   },
   "outputs": [],
   "source": []
  },
  {
   "cell_type": "code",
   "execution_count": null,
   "metadata": {
    "collapsed": true
   },
   "outputs": [],
   "source": []
  },
  {
   "cell_type": "code",
   "execution_count": null,
   "metadata": {
    "collapsed": true
   },
   "outputs": [],
   "source": []
  },
  {
   "cell_type": "code",
   "execution_count": null,
   "metadata": {
    "collapsed": true
   },
   "outputs": [],
   "source": []
  },
  {
   "cell_type": "code",
   "execution_count": null,
   "metadata": {
    "collapsed": true
   },
   "outputs": [],
   "source": []
  },
  {
   "cell_type": "code",
   "execution_count": null,
   "metadata": {
    "collapsed": true
   },
   "outputs": [],
   "source": [
    "# Oktober"
   ]
  },
  {
   "cell_type": "markdown",
   "metadata": {},
   "source": [
    "Timer unit: 1e-06 s\n",
    "\n",
    "Total time: 32.0535 s\n",
    "File: <ipython-input-100-c9073bcbd3cc>\n",
    "Function: f at line 2\n",
    "\n",
    "Line #      Hits         Time  Per Hit   % Time  Line Contents\n",
    "==============================================================\n",
    "     2                                           def f(c,d,m,l):\n",
    "     3                                               global side0\n",
    "     4                                               global side1\n",
    "     5         1           12     12.0      0.0      filename = \"{}month-{}dist-{}conf-{}len-1h\".format(m,d,str(c).replace('.',''),l)\n",
    "     6                                           \n",
    "     7         1            2      2.0      0.0      f = \"../00_Data/testset_2015_1h/\"\n",
    "     8         1            3      3.0      0.0      p = \"2015\" + m + \"2215\"\n",
    "     9         1            2      2.0      0.0      CONFIDENCE = c\n",
    "    10         1            2      2.0      0.0      DISTANCE = d\n",
    "    11         1            2      2.0      0.0      xmax = 3000\n",
    "    12         1            1      1.0      0.0      ymax = 4000\n",
    "    13         1            1      1.0      0.0      LENGTH = l\n",
    "    14         1            1      1.0      0.0      path = f+p\n",
    "    15                                           \n",
    "    16         1        23027  23027.0      0.1      files = get_files(path)\n",
    "    17                                           \n",
    "    18         1          417    417.0      0.0      interactions = Series()\n",
    "    19                                           \n",
    "    20         2           10      5.0      0.0      for file_list in files[:1]:\n",
    "    21                                                   \n",
    "    22         1            8      8.0      0.0          dataframes = np.empty(4, dtype=object)\n",
    "    23                                                   \n",
    "    24         5           16      3.2      0.0          for i in list(range(4)):\n",
    "    25         4        35299   8824.8      0.1              fc = load_frame_container(file_list[i])\n",
    "    26         4     18335109 4583777.2     57.2              df = get_dataframe(fc)\n",
    "    27         4      2250694 562673.5      7.0              df = calcIds(df,CONFIDENCE)\n",
    "    28                                           \n",
    "    29         4          129     32.2      0.0              camIdx = file_list[i].split(\"/\")[-1].split(\"_\")[1]\n",
    "    30         4          279     69.8      0.0              dataframes[camIdx] = df\n",
    "    31                                                   \n",
    "    32                                                   # cam 0 und cam1 nach rechts verschieben\n",
    "    33         1         1369   1369.0      0.0          dataframes[0].xpos = dataframes[0].xpos + xmax\n",
    "    34         1         1209   1209.0      0.0          dataframes[1].xpos = dataframes[1].xpos + xmax\n",
    "    35                                           \n",
    "    36                                                   # Seiten zusammenfugen\n",
    "    37         1        11624  11624.0      0.0          side0 = pd.concat([dataframes[3], dataframes[0]])\n",
    "    38         1        13377  13377.0      0.0          side1 = pd.concat([dataframes[2], dataframes[1]])\n",
    "    39                                           \n",
    "    40         1       208182 208182.0      0.6          close1 = get_close_bees(side0, DISTANCE)\n",
    "    41         1       201201 201201.0      0.6          close2 = get_close_bees(side1, DISTANCE)\n",
    "    42                                                   \n",
    "    43         1      4870109 4870109.0     15.2          close1kd = get_close_bees_kd(side0, DISTANCE)\n",
    "    44         1      4890696 4890696.0     15.3          close2kd = get_close_bees_kd(side1, DISTANCE)\n",
    "    45                                           \n",
    "    46         1          826    826.0      0.0          close = pd.concat([close1,close2])\n",
    "    47                                                   \n",
    "    48         1      1087414 1087414.0      3.4          p = bee_pairs_to_timeseries(close)\n",
    "    49                                           \n",
    "    50         1       121118 121118.0      0.4          edges = extract_interactions(p,LENGTH)\n",
    "    51                                                   \n",
    "    52         1          623    623.0      0.0          interactions = pd.concat([interactions, edges])\n",
    "    53                                           \n",
    "    54         1          471    471.0      0.0      G = create_graph2(interactions)\n",
    "    55         1          267    267.0      0.0      print(nx.info(G))\n",
    "\n",
    "Total time: 18.2431 s\n",
    "File: <ipython-input-84-29acb5835905>\n",
    "Function: get_dataframe at line 1\n",
    "\n",
    "Line #      Hits         Time  Per Hit   % Time  Line Contents\n",
    "==============================================================\n",
    "     1                                           def get_dataframe(fc):\n",
    "     2         4            5      1.2      0.0      detection = namedtuple('Detection', ['idx','xpos','ypos',\n",
    "     3         4         4218   1054.5      0.0          'radius','decodedId', 'frame_idx', 'timestamp', 'cam_id', 'fc_id'])\n",
    "     4                                           \n",
    "     5         4            6      1.5      0.0      l = []\n",
    "     6      4100        17180      4.2      0.1      for f in fc.frames:\n",
    "     7      4096         6312      1.5      0.0          tpls = [detection(d.idx, d.xpos, d.ypos, d.radius, list(d.decodedId),\n",
    "     8                                                       f.frameIdx, f.timestamp, fc.camId, fc.id)\n",
    "     9      4096       753914    184.1      4.1              for d in f.detectionsUnion.detectionsDP]\n",
    "    10      4096     10282642   2510.4     56.4          l.append(pd.DataFrame(tpls))\n",
    "    11         4      7178851 1794712.8     39.4      return pd.concat(l)\n",
    "\n",
    "Total time: 0.408349 s\n",
    "File: <ipython-input-88-f3f21f8368b9>\n",
    "Function: get_close_bees at line 1\n",
    "\n",
    "Line #      Hits         Time  Per Hit   % Time  Line Contents\n",
    "==============================================================\n",
    "     1                                           def get_close_bees(df, distance):\n",
    "     2                                           \n",
    "     3         2         5386   2693.0      1.3      df = df.reset_index(level = 'frame_idx')\n",
    "     4                                           \n",
    "     5         2        91075  45537.5     22.3      m = pd.merge(df, df, on='frame_idx')\n",
    "     6                                               #m = m.query('id_x < id_y')\n",
    "     7         2       166137  83068.5     40.7      m = m[m.id_x < m.id_y]\n",
    "     8                                           \n",
    "     9         2       107548  53774.0     26.3      m.loc[:, 'dist'] = np.square(m.xpos_x - m.xpos_y)         + np.square(m.ypos_x - m.ypos_y)\n",
    "    10                                           \n",
    "    11         2        36247  18123.5      8.9      filtered = m[m.dist <= distance**2]\n",
    "    12                                           \n",
    "    13         2         1954    977.0      0.5      filtered = filtered[['frame_idx','id_x', 'id_y']]\n",
    "    14         2            2      1.0      0.0      return filtered\n",
    "\n",
    "Total time: 9.74399 s\n",
    "File: <ipython-input-89-d3df72123a10>\n",
    "Function: get_close_bees_kd at line 1\n",
    "\n",
    "Line #      Hits         Time  Per Hit   % Time  Line Contents\n",
    "==============================================================\n",
    "     1                                           def get_close_bees_kd(df, distance):\n",
    "     2                                           \n",
    "     3         2         1213    606.5      0.0      df_close = DataFrame()\n",
    "     4                                           \n",
    "     5         2          696    348.0      0.0      gr = df.groupby('frame_idx')\n",
    "     6                                           \n",
    "     7      2050       693392    338.2      7.1      for i, group in gr:\n",
    "     8      2048      1972924    963.3     20.2          xy_coordinates = group[['xpos', 'ypos']].values\n",
    "     9      2048       107955     52.7      1.1          tree = spatial.KDTree(xy_coordinates, leafsize=20)\n",
    "    10      2048      1751640    855.3     18.0          result = tree.query_pairs(distance)\n",
    "    11      2048       224536    109.6      2.3          l = [[i,group['id'].iat[a], group['id'].iat[b]] for a,b in result]\n",
    "    12      2048      4991637   2437.3     51.2          df_close = df_close.append(DataFrame(l, columns=['frame_idx', 'id_x', 'id_y']))"
   ]
  },
  {
   "cell_type": "code",
   "execution_count": null,
   "metadata": {
    "collapsed": true
   },
   "outputs": [],
   "source": [
    "#side0 = 14.7685546875\n",
    "#side1 = 15.0341796875"
   ]
  },
  {
   "cell_type": "code",
   "execution_count": null,
   "metadata": {
    "collapsed": true
   },
   "outputs": [],
   "source": [
    "# August"
   ]
  },
  {
   "cell_type": "markdown",
   "metadata": {},
   "source": [
    "Timer unit: 1e-06 s\n",
    "\n",
    "Total time: 287.559 s\n",
    "File: <ipython-input-100-c9073bcbd3cc>\n",
    "Function: f at line 2\n",
    "\n",
    "Line #      Hits         Time  Per Hit   % Time  Line Contents\n",
    "==============================================================\n",
    "     2                                           def f(c,d,m,l):\n",
    "     3                                               global side0\n",
    "     4                                               global side1\n",
    "     5         1           18     18.0      0.0      filename = \"{}month-{}dist-{}conf-{}len-1h\".format(m,d,str(c).replace('.',''),l)\n",
    "     6                                           \n",
    "     7         1            2      2.0      0.0      f = \"../00_Data/testset_2015_1h/\"\n",
    "     8         1            4      4.0      0.0      p = \"2015\" + m + \"2215\"\n",
    "     9         1            2      2.0      0.0      CONFIDENCE = c\n",
    "    10         1            2      2.0      0.0      DISTANCE = d\n",
    "    11         1            2      2.0      0.0      xmax = 3000\n",
    "    12         1            2      2.0      0.0      ymax = 4000\n",
    "    13         1            3      3.0      0.0      LENGTH = l\n",
    "    14         1            2      2.0      0.0      path = f+p\n",
    "    15                                           \n",
    "    16         1        22838  22838.0      0.0      files = get_files(path)\n",
    "    17                                           \n",
    "    18         1          720    720.0      0.0      interactions = Series()\n",
    "    19                                           \n",
    "    20         2           23     11.5      0.0      for file_list in files[:1]:\n",
    "    21                                                   \n",
    "    22         1           15     15.0      0.0          dataframes = np.empty(4, dtype=object)\n",
    "    23                                                   \n",
    "    24         5           20      4.0      0.0          for i in list(range(4)):\n",
    "    25         4        97354  24338.5      0.0              fc = load_frame_container(file_list[i])\n",
    "    26         4     24928450 6232112.5      8.7              df = get_dataframe(fc)\n",
    "    27         4     23481809 5870452.2      8.2              df = calcIds(df,CONFIDENCE)\n",
    "    28                                           \n",
    "    29         4          154     38.5      0.0              camIdx = file_list[i].split(\"/\")[-1].split(\"_\")[1]\n",
    "    30         4          312     78.0      0.0              dataframes[camIdx] = df\n",
    "    31                                                   \n",
    "    32                                                   # cam 0 und cam1 nach rechts verschieben\n",
    "    33         1         1628   1628.0      0.0          dataframes[0].xpos = dataframes[0].xpos + xmax\n",
    "    34         1         1090   1090.0      0.0          dataframes[1].xpos = dataframes[1].xpos + xmax\n",
    "    35                                           \n",
    "    36                                                   # Seiten zusammenfugen\n",
    "    37         1        18214  18214.0      0.0          side0 = pd.concat([dataframes[3], dataframes[0]])\n",
    "    38         1        11540  11540.0      0.0          side1 = pd.concat([dataframes[2], dataframes[1]])\n",
    "    39                                           \n",
    "    40         1     93542932 93542932.0     32.5          close1 = get_close_bees(side0, DISTANCE)\n",
    "    41         1     13805993 13805993.0      4.8          close2 = get_close_bees(side1, DISTANCE)\n",
    "    42                                                   \n",
    "    43         1     69713737 69713737.0     24.2          close1kd = get_close_bees_kd(side0, DISTANCE)\n",
    "    44         1     30214080 30214080.0     10.5          close2kd = get_close_bees_kd(side1, DISTANCE)\n",
    "    45                                           \n",
    "    46         1        40285  40285.0      0.0          close = pd.concat([close1,close2])\n",
    "    47                                                   \n",
    "    48         1     13913490 13913490.0      4.8          p = bee_pairs_to_timeseries(close)\n",
    "    49                                           \n",
    "    50         1     17709734 17709734.0      6.2          edges = extract_interactions(p,LENGTH)\n",
    "    51                                                   \n",
    "    52         1         1208   1208.0      0.0          interactions = pd.concat([interactions, edges])\n",
    "    53                                           \n",
    "    54         1        50195  50195.0      0.0      G = create_graph2(interactions)\n",
    "    55         1         2690   2690.0      0.0      print(nx.info(G))\n",
    "\n",
    "Total time: 24.8314 s\n",
    "File: <ipython-input-84-29acb5835905>\n",
    "Function: get_dataframe at line 1\n",
    "\n",
    "Line #      Hits         Time  Per Hit   % Time  Line Contents\n",
    "==============================================================\n",
    "     1                                           def get_dataframe(fc):\n",
    "     2         4            6      1.5      0.0      detection = namedtuple('Detection', ['idx','xpos','ypos',\n",
    "     3         4         4715   1178.8      0.0          'radius','decodedId', 'frame_idx', 'timestamp', 'cam_id', 'fc_id'])\n",
    "     4                                           \n",
    "     5         4            7      1.8      0.0      l = []\n",
    "     6      4100        15890      3.9      0.1      for f in fc.frames:\n",
    "     7      4096         6123      1.5      0.0          tpls = [detection(d.idx, d.xpos, d.ypos, d.radius, list(d.decodedId),\n",
    "     8                                                       f.frameIdx, f.timestamp, fc.camId, fc.id)\n",
    "     9      4096      6788096   1657.2     27.3              for d in f.detectionsUnion.detectionsDP]\n",
    "    10      4096     10566357   2579.7     42.6          l.append(pd.DataFrame(tpls))\n",
    "    11         4      7450225 1862556.2     30.0      return pd.concat(l)"
   ]
  },
  {
   "cell_type": "code",
   "execution_count": null,
   "metadata": {
    "collapsed": true
   },
   "outputs": [],
   "source": [
    "#side0 216.3544921875\n",
    "#side1 102.5791015625"
   ]
  },
  {
   "cell_type": "markdown",
   "metadata": {},
   "source": [
    "Timer unit: 1e-06 s\n",
    "\n",
    "Total time: 79.9249 s\n",
    "File: <ipython-input-100-c9073bcbd3cc>\n",
    "Function: f at line 2\n",
    "\n",
    "Line #      Hits         Time  Per Hit   % Time  Line Contents\n",
    "==============================================================\n",
    "     2                                           def f(c,d,m,l):\n",
    "     3                                               global side0\n",
    "     4                                               global side1\n",
    "     5         1           13     13.0      0.0      filename = \"{}month-{}dist-{}conf-{}len-1h\".format(m,d,str(c).replace('.',''),l)\n",
    "     6                                           \n",
    "     7         1            2      2.0      0.0      f = \"../00_Data/testset_2015_1h/\"\n",
    "     8         1            2      2.0      0.0      p = \"2015\" + m + \"2215\"\n",
    "     9         1            1      1.0      0.0      CONFIDENCE = c\n",
    "    10         1            2      2.0      0.0      DISTANCE = d\n",
    "    11         1            2      2.0      0.0      xmax = 3000\n",
    "    12         1            1      1.0      0.0      ymax = 4000\n",
    "    13         1            1      1.0      0.0      LENGTH = l\n",
    "    14         1            1      1.0      0.0      path = f+p\n",
    "    15                                           \n",
    "    16         1        18338  18338.0      0.0      files = get_files(path)\n",
    "    17                                           \n",
    "    18         1          420    420.0      0.0      interactions = Series()\n",
    "    19                                           \n",
    "    20         2           16      8.0      0.0      for file_list in files[:1]:\n",
    "    21                                                   \n",
    "    22         1            7      7.0      0.0          dataframes = np.empty(4, dtype=object)\n",
    "    23                                                   \n",
    "    24         5           16      3.2      0.0          for i in list(range(4)):\n",
    "    25         4        46918  11729.5      0.1              fc = load_frame_container(file_list[i])\n",
    "    26         4     20345255 5086313.8     25.5              df = get_dataframe(fc)\n",
    "    27         4      9663543 2415885.8     12.1              df = calcIds(df,CONFIDENCE)\n",
    "    28                                           \n",
    "    29         4          118     29.5      0.0              camIdx = file_list[i].split(\"/\")[-1].split(\"_\")[1]\n",
    "    30         4          300     75.0      0.0              dataframes[camIdx] = df\n",
    "    31                                                   \n",
    "    32                                                   # cam 0 und cam1 nach rechts verschieben\n",
    "    33         1         1159   1159.0      0.0          dataframes[0].xpos = dataframes[0].xpos + xmax\n",
    "    34         1          837    837.0      0.0          dataframes[1].xpos = dataframes[1].xpos + xmax\n",
    "    35                                           \n",
    "    36                                                   # Seiten zusammenfugen\n",
    "    37         1         9729   9729.0      0.0          side0 = pd.concat([dataframes[3], dataframes[0]])\n",
    "    38         1        11839  11839.0      0.0          side1 = pd.concat([dataframes[2], dataframes[1]])\n",
    "    39                                           \n",
    "    40         1      4391051 4391051.0      5.5          close1 = get_close_bees(side0, DISTANCE)\n",
    "    41         1      2073035 2073035.0      2.6          close2 = get_close_bees(side1, DISTANCE)\n",
    "    42                                                   \n",
    "    43         1     20611443 20611443.0     25.8          close1kd = get_close_bees_kd(side0, DISTANCE)\n",
    "    44         1     14955564 14955564.0     18.7          close2kd = get_close_bees_kd(side1, DISTANCE)\n",
    "    45                                           \n",
    "    46         1         1605   1605.0      0.0          close = pd.concat([close1,close2])\n",
    "    47                                                   \n",
    "    48         1      3503268 3503268.0      4.4          p = bee_pairs_to_timeseries(close)\n",
    "    49                                           \n",
    "    50         1      4276282 4276282.0      5.4          edges = extract_interactions(p,LENGTH)\n",
    "    51                                                   \n",
    "    52         1          945    945.0      0.0          interactions = pd.concat([interactions, edges])\n",
    "    53                                           \n",
    "    54         1        11975  11975.0      0.0      G = create_graph2(interactions)\n",
    "    55         1         1237   1237.0      0.0      print(nx.info(G))\n",
    "\n",
    "Total time: 20.2554 s\n",
    "File: <ipython-input-84-29acb5835905>\n",
    "Function: get_dataframe at line 1\n",
    "\n",
    "Line #      Hits         Time  Per Hit   % Time  Line Contents\n",
    "==============================================================\n",
    "     1                                           def get_dataframe(fc):\n",
    "     2         4            5      1.2      0.0      detection = namedtuple('Detection', ['idx','xpos','ypos',\n",
    "     3         4         4128   1032.0      0.0          'radius','decodedId', 'frame_idx', 'timestamp', 'cam_id', 'fc_id'])\n",
    "     4                                           \n",
    "     5         4            8      2.0      0.0      l = []\n",
    "     6      4100        15885      3.9      0.1      for f in fc.frames:\n",
    "     7      4096         5935      1.4      0.0          tpls = [detection(d.idx, d.xpos, d.ypos, d.radius, list(d.decodedId),\n",
    "     8                                                       f.frameIdx, f.timestamp, fc.camId, fc.id)\n",
    "     9      4096      2854657    696.9     14.1              for d in f.detectionsUnion.detectionsDP]\n",
    "    10      4096     10214124   2493.7     50.4          l.append(pd.DataFrame(tpls))\n",
    "    11         4      7160687 1790171.8     35.4      return pd.concat(l)\n",
    "\n",
    "Total time: 6.44989 s\n",
    "File: <ipython-input-88-f3f21f8368b9>\n",
    "Function: get_close_bees at line 1\n",
    "\n",
    "Line #      Hits         Time  Per Hit   % Time  Line Contents\n",
    "==============================================================\n",
    "     1                                           def get_close_bees(df, distance):\n",
    "     2                                           \n",
    "     3         2        31578  15789.0      0.5      df = df.reset_index(level = 'frame_idx')\n",
    "     4                                           \n",
    "     5         2      1461840 730920.0     22.7      m = pd.merge(df, df, on='frame_idx')\n",
    "     6                                               #m = m.query('id_x < id_y')\n",
    "     7         2      3504530 1752265.0     54.3      m = m[m.id_x < m.id_y]\n",
    "     8                                           \n",
    "     9         2       760400 380200.0     11.8      m.loc[:, 'dist'] = np.square(m.xpos_x - m.xpos_y)         + np.square(m.ypos_x - m.ypos_y)\n",
    "    10                                           \n",
    "    11         2       688821 344410.5     10.7      filtered = m[m.dist <= distance**2]\n",
    "    12                                           \n",
    "    13         2         2715   1357.5      0.0      filtered = filtered[['frame_idx','id_x', 'id_y']]\n",
    "    14         2            2      1.0      0.0      return filtered\n",
    "\n",
    "Total time: 35.5469 s\n",
    "File: <ipython-input-89-d3df72123a10>\n",
    "Function: get_close_bees_kd at line 1\n",
    "\n",
    "Line #      Hits         Time  Per Hit   % Time  Line Contents\n",
    "==============================================================\n",
    "     1                                           def get_close_bees_kd(df, distance):\n",
    "     2                                           \n",
    "     3         2         1335    667.5      0.0      df_close = DataFrame()\n",
    "     4                                           \n",
    "     5         2          768    384.0      0.0      gr = df.groupby('frame_idx')\n",
    "     6                                           \n",
    "     7      2050       761253    371.3      2.1      for i, group in gr:\n",
    "     8      2048      2113139   1031.8      5.9          xy_coordinates = group[['xpos', 'ypos']].values\n",
    "     9      2048       702913    343.2      2.0          tree = spatial.KDTree(xy_coordinates, leafsize=20)\n",
    "    10      2048     23770087  11606.5     66.9          result = tree.query_pairs(distance)\n",
    "    11      2048      3031548   1480.2      8.5          l = [[i,group['id'].iat[a], group['id'].iat[b]] for a,b in result]\n",
    "    12      2048      5165871   2522.4     14.5          df_close = df_close.append(DataFrame(l, columns=['frame_idx', 'id_x', 'id_y']))"
   ]
  },
  {
   "cell_type": "code",
   "execution_count": null,
   "metadata": {
    "collapsed": true
   },
   "outputs": [],
   "source": [
    "#side0 =  77.5146484375\n",
    "#side1 = 56.1884765625"
   ]
  }
 ],
 "metadata": {
  "kernelspec": {
   "display_name": "Python 3",
   "language": "python",
   "name": "python3"
  },
  "language_info": {
   "codemirror_mode": {
    "name": "ipython",
    "version": 3
   },
   "file_extension": ".py",
   "mimetype": "text/x-python",
   "name": "python",
   "nbconvert_exporter": "python",
   "pygments_lexer": "ipython3",
   "version": "3.5.2"
  }
 },
 "nbformat": 4,
 "nbformat_minor": 1
}
