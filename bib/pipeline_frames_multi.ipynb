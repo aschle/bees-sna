{
 "cells": [
  {
   "cell_type": "code",
   "execution_count": 1,
   "metadata": {
    "ExecuteTime": {
     "end_time": "2017-01-22T00:17:45.961482",
     "start_time": "2017-01-22T00:17:45.080858"
    },
    "collapsed": true
   },
   "outputs": [],
   "source": [
    "import multiprocessing\n",
    "import pandas as pd\n",
    "import numpy as np\n",
    "import networkx as nx\n",
    "import preprocessing as prep\n",
    "import sys\n",
    "import datetime\n",
    "\n",
    "from multiprocessing import Pool\n",
    "from bb_binary import FrameContainer, Repository, load_frame_container\n",
    "from collections import namedtuple \n",
    "from pandas import DataFrame, Series"
   ]
  },
  {
   "cell_type": "code",
   "execution_count": 2,
   "metadata": {
    "ExecuteTime": {
     "end_time": "2017-01-22T00:17:45.977842",
     "start_time": "2017-01-22T00:17:45.965564"
    },
    "collapsed": true
   },
   "outputs": [],
   "source": [
    "p = \"/mnt/data/2015082215/\"\n",
    "c = .95\n",
    "dist = 160\n",
    "ilen = 3\n",
    "cpus = 6"
   ]
  },
  {
   "cell_type": "code",
   "execution_count": null,
   "metadata": {
    "ExecuteTime": {
     "end_time": "2017-01-22T00:14:01.881324",
     "start_time": "2017-01-22T00:14:01.715230"
    },
    "collapsed": true
   },
   "outputs": [],
   "source": [
    "pool = multiprocessing.Pool(cpus)"
   ]
  },
  {
   "cell_type": "code",
   "execution_count": null,
   "metadata": {
    "ExecuteTime": {
     "end_time": "2017-01-22T00:14:04.238384",
     "start_time": "2017-01-22T00:14:04.228863"
    },
    "collapsed": true
   },
   "outputs": [],
   "source": [
    "repo = Repository(p)"
   ]
  },
  {
   "cell_type": "code",
   "execution_count": null,
   "metadata": {
    "ExecuteTime": {
     "end_time": "2017-01-22T00:14:17.072590",
     "start_time": "2017-01-22T00:14:17.063756"
    },
    "collapsed": false
   },
   "outputs": [],
   "source": [
    "number_hours = 1*60*60 #number of hours in total in seconds\n",
    "slice_len = 1*60   #number of seconds per slice"
   ]
  },
  {
   "cell_type": "code",
   "execution_count": null,
   "metadata": {
    "ExecuteTime": {
     "end_time": "2017-01-22T00:14:23.485398",
     "start_time": "2017-01-22T00:14:23.472795"
    },
    "collapsed": false
   },
   "outputs": [],
   "source": [
    "m=\"08\"\n",
    "d=\"22\"\n",
    "h=\"15\"\n",
    "begin = \"2015-{}-{}T{}:00:00Z\".format(m,d,h) # %Y-%m-%dT%H:%M:%SZ\n",
    "begin_ts = datetime.datetime.timestamp(datetime.datetime.strptime(begin, \"%Y-%m-%dT%H:%M:%SZ\"))"
   ]
  },
  {
   "cell_type": "code",
   "execution_count": null,
   "metadata": {
    "ExecuteTime": {
     "end_time": "2017-01-22T00:14:25.238329",
     "start_time": "2017-01-22T00:14:25.233349"
    },
    "collapsed": false
   },
   "outputs": [],
   "source": [
    "parts = int(number_hours/slice_len)"
   ]
  },
  {
   "cell_type": "code",
   "execution_count": null,
   "metadata": {
    "ExecuteTime": {
     "end_time": "2017-01-22T00:14:43.789244",
     "start_time": "2017-01-22T00:14:43.713683"
    },
    "collapsed": false
   },
   "outputs": [],
   "source": [
    "tasks = []\n",
    "\n",
    "for i in list(range(parts)):\n",
    "    b = begin_ts + (i * slice_len)\n",
    "    e = (b-0.1) + (slice_len)\n",
    "    #print(\"{}-{}\".format(datetime.datetime.fromtimestamp(b),datetime.datetime.fromtimestamp(e)))\n",
    "    tasks.append((p, b, e, c, dist, ilen))"
   ]
  },
  {
   "cell_type": "code",
   "execution_count": null,
   "metadata": {
    "ExecuteTime": {
     "end_time": "2017-01-22T00:15:25.369122",
     "start_time": "2017-01-22T00:15:25.361546"
    },
    "collapsed": false
   },
   "outputs": [],
   "source": [
    "tasks[:2]"
   ]
  },
  {
   "cell_type": "code",
   "execution_count": null,
   "metadata": {
    "ExecuteTime": {
     "end_time": "2017-01-22T00:15:18.867249",
     "start_time": "2017-01-22T00:15:18.800328"
    },
    "collapsed": true
   },
   "outputs": [],
   "source": [
    "def generate_network(path, b, e, confidence, distance, ilen):\n",
    "    \n",
    "    repo = Repository(path)\n",
    "    xmax = 3000\n",
    "    offset = 200\n",
    "    \n",
    "    Detection = namedtuple('Detection',\n",
    "                           ['idx', 'xpos', 'ypos', 'radius', 'zRotation', 'decodedId', 'frame_idx', 'timestamp', 'cam_id', 'fc_id'])\n",
    "\n",
    "    # one df per cam\n",
    "    parts = np.empty(4, dtype=object)\n",
    "\n",
    "    for i in list(range(4)):\n",
    "         \n",
    "        tpls = []\n",
    "        myid = 0\n",
    "        for frame, fc in repo.iter_frames(begin=b, end=e, cam=i):\n",
    "            for d in frame.detectionsUnion.detectionsDP:\n",
    "                d = Detection(d.idx, d.xpos, d.ypos, d.radius, d.zRotation, list(d.decodedId), myid, f.timestamp, fc.camId, fc.id)\n",
    "                tpls.append(d)\n",
    "            myid += 1\n",
    "        \n",
    "        df = DataFrame(tpls)\n",
    "        df = prep.calcIds(df,confidence)\n",
    "        parts[i] = df\n",
    "        \n",
    "\n",
    "    # cam 0 und cam1 nach rechts verschieben\n",
    "    parts[0].xpos = parts[0].xpos + xmax + offset\n",
    "    parts[1].xpos = parts[1].xpos + xmax + offset\n",
    "\n",
    "    # Seiten zusammenfugen\n",
    "    side0 = pd.concat([parts[3], parts[0]])\n",
    "    side1 = pd.concat([parts[2], parts[1]])\n",
    "\n",
    "    close1 = prep.get_close_bees_ckd(side0, distance)\n",
    "    close2 = prep.get_close_bees_ckd(side1, distance)\n",
    "\n",
    "    close = pd.concat([close1,close2])\n",
    "\n",
    "    p = prep.bee_pairs_to_timeseries(close)\n",
    "\n",
    "    return prep.extract_interactions(p,ilen)"
   ]
  },
  {
   "cell_type": "code",
   "execution_count": null,
   "metadata": {
    "ExecuteTime": {
     "end_time": "2017-01-22T00:15:36.881396",
     "start_time": "2017-01-22T00:15:36.874264"
    },
    "collapsed": false
   },
   "outputs": [],
   "source": [
    "results = [pool.apply_async( generate_network, t ) for t in tasks[:2]]"
   ]
  },
  {
   "cell_type": "code",
   "execution_count": null,
   "metadata": {
    "ExecuteTime": {
     "end_time": "2017-01-22T00:15:38.473574",
     "start_time": "2017-01-22T00:15:38.464566"
    },
    "collapsed": true
   },
   "outputs": [],
   "source": [
    "filename = \"testframes\""
   ]
  },
  {
   "cell_type": "code",
   "execution_count": null,
   "metadata": {
    "ExecuteTime": {
     "start_time": "2017-01-22T00:15:39.526Z"
    },
    "collapsed": false
   },
   "outputs": [],
   "source": [
    "# Egebnisse zusammenbasteln\n",
    "edges = []\n",
    "\n",
    "for result in results:\n",
    "    edges.append(result.get())\n",
    "\n",
    "G = prep.create_graph2(pd.concat(edges))\n",
    "nx.write_graphml(G, \"{}_{}conf_{}dist_{}ilen\".format(filename,str(c), str(dist), str(ilen)) + \".graphml\")\n",
    "print(nx.info(G))"
   ]
  },
  {
   "cell_type": "markdown",
   "metadata": {},
   "source": [
    "# Ohne Multithreading"
   ]
  },
  {
   "cell_type": "code",
   "execution_count": null,
   "metadata": {
    "collapsed": true
   },
   "outputs": [],
   "source": []
  }
 ],
 "metadata": {
  "kernelspec": {
   "display_name": "Python 3",
   "language": "python",
   "name": "python3"
  },
  "language_info": {
   "codemirror_mode": {
    "name": "ipython",
    "version": 3
   },
   "file_extension": ".py",
   "mimetype": "text/x-python",
   "name": "python",
   "nbconvert_exporter": "python",
   "pygments_lexer": "ipython3",
   "version": "3.5.2"
  },
  "toc": {
   "colors": {
    "hover_highlight": "#DAA520",
    "running_highlight": "#FF0000",
    "selected_highlight": "#FFD700"
   },
   "moveMenuLeft": true,
   "nav_menu": {
    "height": "30px",
    "width": "252px"
   },
   "navigate_menu": true,
   "number_sections": true,
   "sideBar": true,
   "threshold": 4,
   "toc_cell": false,
   "toc_section_display": "block",
   "toc_window_display": false
  }
 },
 "nbformat": 4,
 "nbformat_minor": 2
}
