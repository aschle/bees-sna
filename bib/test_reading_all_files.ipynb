{
 "cells": [
  {
   "cell_type": "code",
   "execution_count": 143,
   "metadata": {
    "collapsed": false
   },
   "outputs": [],
   "source": [
    "import pandas as pd\n",
    "import numpy as np\n",
    "import networkx as nx\n",
    "import preprocessing as prep\n",
    "import os\n",
    "\n",
    "from bb_binary import FrameContainer, Repository, load_frame_container\n",
    "from pandas import DataFrame, Series\n",
    "from scipy import spatial\n",
    "from collections import namedtuple"
   ]
  },
  {
   "cell_type": "code",
   "execution_count": 144,
   "metadata": {
    "collapsed": true
   },
   "outputs": [],
   "source": [
    "path = \"../00_Data/testset_2015_1h/2015102215\"\n",
    "#path = \"../00_Data/testset_2015_1h/2015092215\"\n",
    "#path = \"../00_Data/testset_2015_1h/2015082215\"\n",
    "CONFIDENCE = 0.9\n",
    "DISTANCE = 160\n",
    "xmax = 3000\n",
    "ymax = 4000\n",
    "LENGTH = 3"
   ]
  },
  {
   "cell_type": "code",
   "execution_count": 145,
   "metadata": {
    "collapsed": true
   },
   "outputs": [],
   "source": [
    "def get_files(path):\n",
    "    repo = Repository(path)\n",
    "    file = list(repo.iter_fnames())\n",
    "    a = [f.split('/')[-1].split(\"_\")[1] for f in file]\n",
    "    l = len(a)/4\n",
    "    npa = np.array(file).reshape(l,4)\n",
    "    return npa"
   ]
  },
  {
   "cell_type": "code",
   "execution_count": 146,
   "metadata": {
    "collapsed": false
   },
   "outputs": [
    {
     "name": "stderr",
     "output_type": "stream",
     "text": [
      "/usr/local/lib/python3.5/site-packages/ipykernel/__main__.py:6: VisibleDeprecationWarning: using a non-integer number instead of an integer will result in an error in the future\n"
     ]
    }
   ],
   "source": [
    "files = get_files(path)"
   ]
  },
  {
   "cell_type": "code",
   "execution_count": 207,
   "metadata": {
    "collapsed": false
   },
   "outputs": [
    {
     "name": "stdout",
     "output_type": "stream",
     "text": [
      "[ '/Users/alexa/Projects/bees-sna/00_Data/testset_2015_1h/2015102215/2015/10/22/15/00/Cam_3_2015-10-22T14:56:28.434061Z--2015-10-22T15:02:09.448565Z.bbb'\n",
      " '/Users/alexa/Projects/bees-sna/00_Data/testset_2015_1h/2015102215/2015/10/22/15/00/Cam_1_2015-10-22T14:56:30.169161Z--2015-10-22T15:02:11.184665Z.bbb'\n",
      " '/Users/alexa/Projects/bees-sna/00_Data/testset_2015_1h/2015102215/2015/10/22/15/00/Cam_2_2015-10-22T14:56:31.948261Z--2015-10-22T15:02:12.965768Z.bbb'\n",
      " '/Users/alexa/Projects/bees-sna/00_Data/testset_2015_1h/2015102215/2015/10/22/15/00/Cam_0_2015-10-22T14:56:32.466291Z--2015-10-22T15:02:13.480797Z.bbb']\n",
      "0\n"
     ]
    },
    {
     "name": "stderr",
     "output_type": "stream",
     "text": [
      "/usr/local/lib/python3.5/site-packages/ipykernel/__main__.py:16: VisibleDeprecationWarning: using a non-integer number instead of an integer will result in an error in the future\n"
     ]
    },
    {
     "name": "stdout",
     "output_type": "stream",
     "text": [
      "1\n",
      "2\n",
      "3\n",
      "[ '/Users/alexa/Projects/bees-sna/00_Data/testset_2015_1h/2015102215/2015/10/22/15/00/Cam_3_2015-10-22T15:02:09.782586Z--2015-10-22T15:07:50.797090Z.bbb'\n",
      " '/Users/alexa/Projects/bees-sna/00_Data/testset_2015_1h/2015102215/2015/10/22/15/00/Cam_1_2015-10-22T15:02:11.518685Z--2015-10-22T15:07:52.535190Z.bbb'\n",
      " '/Users/alexa/Projects/bees-sna/00_Data/testset_2015_1h/2015102215/2015/10/22/15/00/Cam_2_2015-10-22T15:02:13.298787Z--2015-10-22T15:07:54.317291Z.bbb'\n",
      " '/Users/alexa/Projects/bees-sna/00_Data/testset_2015_1h/2015102215/2015/10/22/15/00/Cam_0_2015-10-22T15:02:13.813816Z--2015-10-22T15:07:54.828320Z.bbb']\n",
      "0\n",
      "1\n",
      "2\n",
      "3\n"
     ]
    }
   ],
   "source": [
    "interactions = Series()\n",
    "\n",
    "for file_list in files[:2]:\n",
    "    \n",
    "    print(file_list)\n",
    "    \n",
    "    dataframes = np.empty(4, dtype=object)\n",
    "    \n",
    "    for i in list(range(4)):\n",
    "        print(i)\n",
    "        fc = load_frame_container(file_list[i])\n",
    "        df = prep.get_dataframe(fc)\n",
    "        df = prep.calcIds(df,CONFIDENCE)\n",
    "\n",
    "        camIdx = file_list[i].split(\"/\")[-1].split(\"_\")[1]\n",
    "        dataframes[camIdx] = df\n",
    "    \n",
    "    # cam 0 und cam1 nach rechts verschieben\n",
    "    dataframes[0].xpos = dataframes[0].xpos + xmax\n",
    "    dataframes[1].xpos = dataframes[1].xpos + xmax\n",
    "\n",
    "    # Seiten zusammenfugen\n",
    "    side0 = pd.concat([dataframes[3], dataframes[0]])\n",
    "    side1 = pd.concat([dataframes[2], dataframes[1]])\n",
    "\n",
    "    close1 = prep.get_close_bees(side0, DISTANCE)\n",
    "    close2 = prep.get_close_bees(side1, DISTANCE)\n",
    "\n",
    "    close = pd.concat([close1,close2])\n",
    "    \n",
    "    p = prep.bee_pairs_to_timeseries(close)\n",
    "\n",
    "    edges = prep.extract_interactions(p,LENGTH)\n",
    "    \n",
    "    interactions = pd.concat([interactions, edges])"
   ]
  },
  {
   "cell_type": "code",
   "execution_count": 208,
   "metadata": {
    "collapsed": false
   },
   "outputs": [
    {
     "data": {
      "text/plain": [
       "(119,)"
      ]
     },
     "execution_count": 208,
     "metadata": {},
     "output_type": "execute_result"
    }
   ],
   "source": [
    "interactions.shape"
   ]
  },
  {
   "cell_type": "code",
   "execution_count": 209,
   "metadata": {
    "collapsed": false
   },
   "outputs": [],
   "source": [
    "def create_graph2(pairs):\n",
    "    G = nx.Graph()\n",
    "    for elem in pairs.iteritems():\n",
    "        G.add_edge(int(elem[0][0]), int(elem[0][1]), weight=int(elem[1]))\n",
    "    return G"
   ]
  },
  {
   "cell_type": "code",
   "execution_count": 210,
   "metadata": {
    "collapsed": false
   },
   "outputs": [],
   "source": [
    "G = create_graph2(interactions)"
   ]
  },
  {
   "cell_type": "code",
   "execution_count": 211,
   "metadata": {
    "collapsed": false
   },
   "outputs": [
    {
     "data": {
      "text/plain": [
       "'Name: \\nType: Graph\\nNumber of nodes: 51\\nNumber of edges: 110\\nAverage degree:   4.3137'"
      ]
     },
     "execution_count": 211,
     "metadata": {},
     "output_type": "execute_result"
    }
   ],
   "source": [
    "nx.info(G)"
   ]
  },
  {
   "cell_type": "code",
   "execution_count": null,
   "metadata": {
    "collapsed": true
   },
   "outputs": [],
   "source": []
  }
 ],
 "metadata": {
  "kernelspec": {
   "display_name": "Python 3",
   "language": "python",
   "name": "python3"
  },
  "language_info": {
   "codemirror_mode": {
    "name": "ipython",
    "version": 3
   },
   "file_extension": ".py",
   "mimetype": "text/x-python",
   "name": "python",
   "nbconvert_exporter": "python",
   "pygments_lexer": "ipython3",
   "version": "3.5.2"
  }
 },
 "nbformat": 4,
 "nbformat_minor": 1
}
