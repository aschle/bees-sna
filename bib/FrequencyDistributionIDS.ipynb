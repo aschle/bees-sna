{
 "cells": [
  {
   "cell_type": "code",
   "execution_count": 2,
   "metadata": {
    "ExecuteTime": {
     "end_time": "2017-03-10T11:03:00.680226",
     "start_time": "2017-03-10T11:02:55.822997"
    },
    "collapsed": true
   },
   "outputs": [],
   "source": [
    "import pandas as pd\n",
    "import numpy as np\n",
    "from pandas import DataFrame, Series\n",
    "import datetime\n",
    "import pytz\n",
    "import matplotlib.pyplot as plt\n",
    "import preprocessing as prep\n",
    "from collections import namedtuple\n",
    "from bb_binary import FrameContainer, Repository, load_frame_container\n",
    "import numpy as np\n",
    "import numpy.ma as npma\n",
    "import datetime\n",
    "import csv\n",
    "import seaborn as sns\n",
    "from collections import Counter\n",
    "sns.set_context(\"paper\")\n",
    "import hatching as ht"
   ]
  },
  {
   "cell_type": "code",
   "execution_count": 3,
   "metadata": {
    "ExecuteTime": {
     "end_time": "2017-03-10T11:03:00.699586",
     "start_time": "2017-03-10T11:03:00.685166"
    },
    "collapsed": true
   },
   "outputs": [],
   "source": [
    "%matplotlib inline"
   ]
  },
  {
   "cell_type": "markdown",
   "metadata": {
    "heading_collapsed": true
   },
   "source": [
    "# Stuff"
   ]
  },
  {
   "cell_type": "code",
   "execution_count": 3,
   "metadata": {
    "ExecuteTime": {
     "end_time": "2017-03-01T18:20:46.154598",
     "start_time": "2017-03-01T18:20:45.985482"
    },
    "collapsed": true,
    "hidden": true
   },
   "outputs": [],
   "source": [
    "start = \"2016-07-26T00:00:00Z\"\n",
    "start_dt = datetime.datetime.strptime(start, \"%Y-%m-%dT%H:%M:%SZ\").replace(tzinfo=pytz.UTC)\n",
    "start_ts = start_dt.timestamp()\n",
    "end_dt = start_dt + datetime.timedelta(minutes=5)\n",
    "end_ts = end_dt.timestamp()"
   ]
  },
  {
   "cell_type": "code",
   "execution_count": null,
   "metadata": {
    "ExecuteTime": {
     "end_time": "2017-03-01T17:37:29.740321",
     "start_time": "2017-03-01T17:37:29.723509"
    },
    "collapsed": true,
    "hidden": true
   },
   "outputs": [],
   "source": [
    "def getIDS(start_ts, end_ts, conf, year):\n",
    "    df0 = prep.getDF(\"/mnt/data2016/\", start_ts, end_ts, 0)\n",
    "    df1 = prep.getDF(\"/mnt/data2016/\", start_ts, end_ts, 1)\n",
    "    df2 = prep.getDF(\"/mnt/data2016/\", start_ts, end_ts, 2)\n",
    "    df3 = prep.getDF(\"/mnt/data2016/\", start_ts, end_ts, 3)\n",
    "    \n",
    "    data = pd.concat([df0,df1,df2,df3])\n",
    "    \n",
    "    data = prep.calcIds(data, conf, year)\n",
    "    \n",
    "    df = DataFrame(data.groupby(by=\"id\").size(), columns=[\"fre\"]).reset_index()\n",
    "    \n",
    "    for r in df.iterrows():\n",
    "        id_list[r[1].id] += r[1].fre"
   ]
  },
  {
   "cell_type": "code",
   "execution_count": null,
   "metadata": {
    "ExecuteTime": {
     "end_time": "2017-03-01T17:37:32.997591",
     "start_time": "2017-03-01T17:37:32.991438"
    },
    "collapsed": false,
    "hidden": true
   },
   "outputs": [],
   "source": [
    "steps = int(24*60/5)"
   ]
  },
  {
   "cell_type": "code",
   "execution_count": null,
   "metadata": {
    "ExecuteTime": {
     "end_time": "2017-03-01T17:37:51.450479",
     "start_time": "2017-03-01T17:37:51.439901"
    },
    "collapsed": false,
    "hidden": true
   },
   "outputs": [],
   "source": [
    "60/5"
   ]
  },
  {
   "cell_type": "code",
   "execution_count": null,
   "metadata": {
    "ExecuteTime": {
     "end_time": "2017-03-01T17:44:36.360605",
     "start_time": "2017-03-01T17:38:19.426249"
    },
    "collapsed": false,
    "hidden": true
   },
   "outputs": [],
   "source": [
    "id_list = [0] * 4096\n",
    "\n",
    "for i in list(range(steps))[:12]:\n",
    "    getIDS(start_ts, end_ts, 0.95, 2016)\n",
    "    \n",
    "    start_ts = end_ts\n",
    "    end_ts += 5 * 60\n",
    "    print(start_ts, end_ts)"
   ]
  },
  {
   "cell_type": "code",
   "execution_count": 12,
   "metadata": {
    "ExecuteTime": {
     "end_time": "2017-03-01T18:38:13.098472",
     "start_time": "2017-03-01T18:38:12.884352"
    },
    "collapsed": true,
    "hidden": true
   },
   "outputs": [],
   "source": [
    "aa = ht.get_all_bees_age(start_dt)"
   ]
  },
  {
   "cell_type": "code",
   "execution_count": null,
   "metadata": {
    "ExecuteTime": {
     "end_time": "2017-03-01T17:46:52.571642",
     "start_time": "2017-03-01T17:46:52.556457"
    },
    "collapsed": false,
    "hidden": true
   },
   "outputs": [],
   "source": [
    "stat = DataFrame((id_list), index = list(range(4096)), columns=[\"freq\"]).reset_index()"
   ]
  },
  {
   "cell_type": "code",
   "execution_count": null,
   "metadata": {
    "ExecuteTime": {
     "end_time": "2017-03-01T17:46:54.767772",
     "start_time": "2017-03-01T17:46:53.474267"
    },
    "collapsed": false,
    "hidden": true
   },
   "outputs": [],
   "source": [
    "stat[\"age\"] = stat[\"index\"].apply(lambda x: aa.iloc[x].age)"
   ]
  },
  {
   "cell_type": "code",
   "execution_count": null,
   "metadata": {
    "ExecuteTime": {
     "end_time": "2017-03-01T17:47:53.325695",
     "start_time": "2017-03-01T17:47:53.309568"
    },
    "collapsed": false,
    "hidden": true
   },
   "outputs": [],
   "source": [
    "stat.head(10)"
   ]
  },
  {
   "cell_type": "code",
   "execution_count": null,
   "metadata": {
    "ExecuteTime": {
     "end_time": "2017-03-01T17:47:01.748323",
     "start_time": "2017-03-01T17:47:01.164208"
    },
    "collapsed": false,
    "hidden": true
   },
   "outputs": [],
   "source": [
    "stat.freq.hist(bins=100)"
   ]
  },
  {
   "cell_type": "code",
   "execution_count": null,
   "metadata": {
    "ExecuteTime": {
     "end_time": "2017-03-01T17:47:06.049560",
     "start_time": "2017-03-01T17:47:05.005642"
    },
    "collapsed": false,
    "hidden": true
   },
   "outputs": [],
   "source": [
    "\n",
    "fig, ax = plt.subplots()\n",
    "stat[stat.age < 0].freq.hist(bins=100, ax=ax)\n",
    "ax.set_yscale('log')"
   ]
  },
  {
   "cell_type": "code",
   "execution_count": null,
   "metadata": {
    "ExecuteTime": {
     "end_time": "2017-03-01T17:47:11.701642",
     "start_time": "2017-03-01T17:47:11.690959"
    },
    "collapsed": false,
    "hidden": true
   },
   "outputs": [],
   "source": [
    "np.percentile(stat[stat.age < 0].freq, q=99)"
   ]
  },
  {
   "cell_type": "code",
   "execution_count": null,
   "metadata": {
    "ExecuteTime": {
     "end_time": "2017-03-01T17:47:26.744266",
     "start_time": "2017-03-01T17:47:25.717808"
    },
    "collapsed": false,
    "hidden": true
   },
   "outputs": [],
   "source": [
    "fig, ax = plt.subplots()\n",
    "stat[stat.age >= 0].freq.hist(bins=100)\n",
    "ax.set_yscale('log')"
   ]
  },
  {
   "cell_type": "code",
   "execution_count": null,
   "metadata": {
    "ExecuteTime": {
     "end_time": "2017-03-01T16:34:06.158779",
     "start_time": "2017-03-01T16:34:06.141907"
    },
    "collapsed": false,
    "hidden": true
   },
   "outputs": [],
   "source": [
    "np.array([1,2,3])+np.array([1,2,3])"
   ]
  },
  {
   "cell_type": "code",
   "execution_count": null,
   "metadata": {
    "ExecuteTime": {
     "end_time": "2017-03-01T16:34:29.157649",
     "start_time": "2017-03-01T16:34:29.151971"
    },
    "collapsed": true,
    "hidden": true
   },
   "outputs": [],
   "source": [
    "id_list = np.array([0] * 4096)"
   ]
  },
  {
   "cell_type": "code",
   "execution_count": null,
   "metadata": {
    "ExecuteTime": {
     "end_time": "2017-03-01T16:35:24.669758",
     "start_time": "2017-03-01T16:35:24.659536"
    },
    "collapsed": false,
    "hidden": true
   },
   "outputs": [],
   "source": [
    "id_list + np.array([3] * 4096)"
   ]
  },
  {
   "cell_type": "code",
   "execution_count": null,
   "metadata": {
    "ExecuteTime": {
     "end_time": "2017-03-01T16:35:28.243471",
     "start_time": "2017-03-01T16:35:28.233815"
    },
    "collapsed": false,
    "hidden": true
   },
   "outputs": [],
   "source": [
    "id_list"
   ]
  },
  {
   "cell_type": "code",
   "execution_count": null,
   "metadata": {
    "ExecuteTime": {
     "end_time": "2017-03-01T17:19:05.346605",
     "start_time": "2017-03-01T17:19:05.333466"
    },
    "collapsed": false,
    "hidden": true
   },
   "outputs": [],
   "source": [
    "DataFrame([[11,22,22],[11,22,3], [2,3,4]], index=['A','B', 'C'], columns=['id', 'b', 'c']).groupby(by='id').size()"
   ]
  },
  {
   "cell_type": "code",
   "execution_count": 10,
   "metadata": {
    "ExecuteTime": {
     "end_time": "2017-03-01T18:37:59.637953",
     "start_time": "2017-03-01T18:37:59.624294"
    },
    "collapsed": true,
    "hidden": true
   },
   "outputs": [],
   "source": [
    "f = pd.read_csv('testids.csv', header=None, names=['id', 'freq'])"
   ]
  },
  {
   "cell_type": "code",
   "execution_count": 13,
   "metadata": {
    "ExecuteTime": {
     "end_time": "2017-03-01T18:38:18.027863",
     "start_time": "2017-03-01T18:38:16.763961"
    },
    "collapsed": false,
    "hidden": true
   },
   "outputs": [],
   "source": [
    "f[\"age\"] = f[\"id\"].apply(lambda x: aa.iloc[x].age)"
   ]
  },
  {
   "cell_type": "code",
   "execution_count": 17,
   "metadata": {
    "ExecuteTime": {
     "end_time": "2017-03-01T19:19:35.191681",
     "start_time": "2017-03-01T19:19:35.147575"
    },
    "collapsed": true,
    "hidden": true
   },
   "outputs": [
    {
     "data": {
      "text/html": [
       "<div>\n",
       "<table border=\"1\" class=\"dataframe\">\n",
       "  <thead>\n",
       "    <tr style=\"text-align: right;\">\n",
       "      <th></th>\n",
       "      <th>id</th>\n",
       "      <th>freq</th>\n",
       "      <th>age</th>\n",
       "    </tr>\n",
       "  </thead>\n",
       "  <tbody>\n",
       "    <tr>\n",
       "      <th>0</th>\n",
       "      <td>0</td>\n",
       "      <td>1</td>\n",
       "      <td>-100</td>\n",
       "    </tr>\n",
       "    <tr>\n",
       "      <th>1</th>\n",
       "      <td>1</td>\n",
       "      <td>2</td>\n",
       "      <td>-2</td>\n",
       "    </tr>\n",
       "    <tr>\n",
       "      <th>2</th>\n",
       "      <td>2</td>\n",
       "      <td>8</td>\n",
       "      <td>-100</td>\n",
       "    </tr>\n",
       "    <tr>\n",
       "      <th>4</th>\n",
       "      <td>4</td>\n",
       "      <td>5</td>\n",
       "      <td>-27</td>\n",
       "    </tr>\n",
       "    <tr>\n",
       "      <th>7</th>\n",
       "      <td>7</td>\n",
       "      <td>138</td>\n",
       "      <td>-100</td>\n",
       "    </tr>\n",
       "    <tr>\n",
       "      <th>11</th>\n",
       "      <td>11</td>\n",
       "      <td>1</td>\n",
       "      <td>-15</td>\n",
       "    </tr>\n",
       "    <tr>\n",
       "      <th>13</th>\n",
       "      <td>13</td>\n",
       "      <td>11</td>\n",
       "      <td>-100</td>\n",
       "    </tr>\n",
       "    <tr>\n",
       "      <th>14</th>\n",
       "      <td>14</td>\n",
       "      <td>44</td>\n",
       "      <td>-100</td>\n",
       "    </tr>\n",
       "    <tr>\n",
       "      <th>17</th>\n",
       "      <td>17</td>\n",
       "      <td>5537</td>\n",
       "      <td>-100</td>\n",
       "    </tr>\n",
       "    <tr>\n",
       "      <th>19</th>\n",
       "      <td>19</td>\n",
       "      <td>7</td>\n",
       "      <td>-15</td>\n",
       "    </tr>\n",
       "    <tr>\n",
       "      <th>21</th>\n",
       "      <td>21</td>\n",
       "      <td>8</td>\n",
       "      <td>-100</td>\n",
       "    </tr>\n",
       "    <tr>\n",
       "      <th>22</th>\n",
       "      <td>22</td>\n",
       "      <td>34</td>\n",
       "      <td>-100</td>\n",
       "    </tr>\n",
       "    <tr>\n",
       "      <th>25</th>\n",
       "      <td>25</td>\n",
       "      <td>7</td>\n",
       "      <td>-2</td>\n",
       "    </tr>\n",
       "    <tr>\n",
       "      <th>26</th>\n",
       "      <td>26</td>\n",
       "      <td>11</td>\n",
       "      <td>-100</td>\n",
       "    </tr>\n",
       "    <tr>\n",
       "      <th>28</th>\n",
       "      <td>28</td>\n",
       "      <td>8</td>\n",
       "      <td>-27</td>\n",
       "    </tr>\n",
       "    <tr>\n",
       "      <th>31</th>\n",
       "      <td>31</td>\n",
       "      <td>41</td>\n",
       "      <td>-100</td>\n",
       "    </tr>\n",
       "    <tr>\n",
       "      <th>35</th>\n",
       "      <td>35</td>\n",
       "      <td>0</td>\n",
       "      <td>-15</td>\n",
       "    </tr>\n",
       "    <tr>\n",
       "      <th>37</th>\n",
       "      <td>37</td>\n",
       "      <td>23</td>\n",
       "      <td>-100</td>\n",
       "    </tr>\n",
       "    <tr>\n",
       "      <th>38</th>\n",
       "      <td>38</td>\n",
       "      <td>14</td>\n",
       "      <td>-100</td>\n",
       "    </tr>\n",
       "    <tr>\n",
       "      <th>41</th>\n",
       "      <td>41</td>\n",
       "      <td>0</td>\n",
       "      <td>-2</td>\n",
       "    </tr>\n",
       "    <tr>\n",
       "      <th>42</th>\n",
       "      <td>42</td>\n",
       "      <td>64</td>\n",
       "      <td>-100</td>\n",
       "    </tr>\n",
       "    <tr>\n",
       "      <th>44</th>\n",
       "      <td>44</td>\n",
       "      <td>15</td>\n",
       "      <td>-20</td>\n",
       "    </tr>\n",
       "    <tr>\n",
       "      <th>47</th>\n",
       "      <td>47</td>\n",
       "      <td>31</td>\n",
       "      <td>-100</td>\n",
       "    </tr>\n",
       "    <tr>\n",
       "      <th>49</th>\n",
       "      <td>49</td>\n",
       "      <td>5</td>\n",
       "      <td>-2</td>\n",
       "    </tr>\n",
       "    <tr>\n",
       "      <th>50</th>\n",
       "      <td>50</td>\n",
       "      <td>0</td>\n",
       "      <td>-100</td>\n",
       "    </tr>\n",
       "    <tr>\n",
       "      <th>52</th>\n",
       "      <td>52</td>\n",
       "      <td>5</td>\n",
       "      <td>-20</td>\n",
       "    </tr>\n",
       "    <tr>\n",
       "      <th>55</th>\n",
       "      <td>55</td>\n",
       "      <td>3</td>\n",
       "      <td>-100</td>\n",
       "    </tr>\n",
       "    <tr>\n",
       "      <th>59</th>\n",
       "      <td>59</td>\n",
       "      <td>0</td>\n",
       "      <td>-15</td>\n",
       "    </tr>\n",
       "    <tr>\n",
       "      <th>61</th>\n",
       "      <td>61</td>\n",
       "      <td>30</td>\n",
       "      <td>-100</td>\n",
       "    </tr>\n",
       "    <tr>\n",
       "      <th>62</th>\n",
       "      <td>62</td>\n",
       "      <td>13</td>\n",
       "      <td>-100</td>\n",
       "    </tr>\n",
       "    <tr>\n",
       "      <th>...</th>\n",
       "      <td>...</td>\n",
       "      <td>...</td>\n",
       "      <td>...</td>\n",
       "    </tr>\n",
       "    <tr>\n",
       "      <th>4039</th>\n",
       "      <td>4039</td>\n",
       "      <td>1</td>\n",
       "      <td>-100</td>\n",
       "    </tr>\n",
       "    <tr>\n",
       "      <th>4040</th>\n",
       "      <td>4040</td>\n",
       "      <td>5</td>\n",
       "      <td>-2</td>\n",
       "    </tr>\n",
       "    <tr>\n",
       "      <th>4043</th>\n",
       "      <td>4043</td>\n",
       "      <td>38</td>\n",
       "      <td>-27</td>\n",
       "    </tr>\n",
       "    <tr>\n",
       "      <th>4045</th>\n",
       "      <td>4045</td>\n",
       "      <td>27</td>\n",
       "      <td>-100</td>\n",
       "    </tr>\n",
       "    <tr>\n",
       "      <th>4046</th>\n",
       "      <td>4046</td>\n",
       "      <td>86</td>\n",
       "      <td>-100</td>\n",
       "    </tr>\n",
       "    <tr>\n",
       "      <th>4048</th>\n",
       "      <td>4048</td>\n",
       "      <td>3</td>\n",
       "      <td>-2</td>\n",
       "    </tr>\n",
       "    <tr>\n",
       "      <th>4051</th>\n",
       "      <td>4051</td>\n",
       "      <td>8</td>\n",
       "      <td>-27</td>\n",
       "    </tr>\n",
       "    <tr>\n",
       "      <th>4053</th>\n",
       "      <td>4053</td>\n",
       "      <td>16</td>\n",
       "      <td>-100</td>\n",
       "    </tr>\n",
       "    <tr>\n",
       "      <th>4054</th>\n",
       "      <td>4054</td>\n",
       "      <td>32</td>\n",
       "      <td>-100</td>\n",
       "    </tr>\n",
       "    <tr>\n",
       "      <th>4057</th>\n",
       "      <td>4057</td>\n",
       "      <td>5</td>\n",
       "      <td>-6</td>\n",
       "    </tr>\n",
       "    <tr>\n",
       "      <th>4058</th>\n",
       "      <td>4058</td>\n",
       "      <td>0</td>\n",
       "      <td>-15</td>\n",
       "    </tr>\n",
       "    <tr>\n",
       "      <th>4060</th>\n",
       "      <td>4060</td>\n",
       "      <td>24</td>\n",
       "      <td>-100</td>\n",
       "    </tr>\n",
       "    <tr>\n",
       "      <th>4063</th>\n",
       "      <td>4063</td>\n",
       "      <td>3</td>\n",
       "      <td>-100</td>\n",
       "    </tr>\n",
       "    <tr>\n",
       "      <th>4064</th>\n",
       "      <td>4064</td>\n",
       "      <td>6</td>\n",
       "      <td>-2</td>\n",
       "    </tr>\n",
       "    <tr>\n",
       "      <th>4067</th>\n",
       "      <td>4067</td>\n",
       "      <td>10</td>\n",
       "      <td>-27</td>\n",
       "    </tr>\n",
       "    <tr>\n",
       "      <th>4069</th>\n",
       "      <td>4069</td>\n",
       "      <td>23</td>\n",
       "      <td>-100</td>\n",
       "    </tr>\n",
       "    <tr>\n",
       "      <th>4070</th>\n",
       "      <td>4070</td>\n",
       "      <td>3</td>\n",
       "      <td>-100</td>\n",
       "    </tr>\n",
       "    <tr>\n",
       "      <th>4073</th>\n",
       "      <td>4073</td>\n",
       "      <td>24</td>\n",
       "      <td>-6</td>\n",
       "    </tr>\n",
       "    <tr>\n",
       "      <th>4074</th>\n",
       "      <td>4074</td>\n",
       "      <td>0</td>\n",
       "      <td>-15</td>\n",
       "    </tr>\n",
       "    <tr>\n",
       "      <th>4076</th>\n",
       "      <td>4076</td>\n",
       "      <td>9</td>\n",
       "      <td>-100</td>\n",
       "    </tr>\n",
       "    <tr>\n",
       "      <th>4079</th>\n",
       "      <td>4079</td>\n",
       "      <td>3</td>\n",
       "      <td>-100</td>\n",
       "    </tr>\n",
       "    <tr>\n",
       "      <th>4081</th>\n",
       "      <td>4081</td>\n",
       "      <td>2</td>\n",
       "      <td>-6</td>\n",
       "    </tr>\n",
       "    <tr>\n",
       "      <th>4082</th>\n",
       "      <td>4082</td>\n",
       "      <td>14</td>\n",
       "      <td>-15</td>\n",
       "    </tr>\n",
       "    <tr>\n",
       "      <th>4084</th>\n",
       "      <td>4084</td>\n",
       "      <td>11</td>\n",
       "      <td>-100</td>\n",
       "    </tr>\n",
       "    <tr>\n",
       "      <th>4087</th>\n",
       "      <td>4087</td>\n",
       "      <td>8</td>\n",
       "      <td>-100</td>\n",
       "    </tr>\n",
       "    <tr>\n",
       "      <th>4088</th>\n",
       "      <td>4088</td>\n",
       "      <td>0</td>\n",
       "      <td>-2</td>\n",
       "    </tr>\n",
       "    <tr>\n",
       "      <th>4091</th>\n",
       "      <td>4091</td>\n",
       "      <td>4</td>\n",
       "      <td>-27</td>\n",
       "    </tr>\n",
       "    <tr>\n",
       "      <th>4093</th>\n",
       "      <td>4093</td>\n",
       "      <td>51</td>\n",
       "      <td>-100</td>\n",
       "    </tr>\n",
       "    <tr>\n",
       "      <th>4094</th>\n",
       "      <td>4094</td>\n",
       "      <td>7</td>\n",
       "      <td>-100</td>\n",
       "    </tr>\n",
       "    <tr>\n",
       "      <th>4095</th>\n",
       "      <td>4095</td>\n",
       "      <td>2</td>\n",
       "      <td>-100</td>\n",
       "    </tr>\n",
       "  </tbody>\n",
       "</table>\n",
       "<p>2082 rows × 3 columns</p>\n",
       "</div>"
      ],
      "text/plain": [
       "        id  freq  age\n",
       "0        0     1 -100\n",
       "1        1     2   -2\n",
       "2        2     8 -100\n",
       "4        4     5  -27\n",
       "7        7   138 -100\n",
       "11      11     1  -15\n",
       "13      13    11 -100\n",
       "14      14    44 -100\n",
       "17      17  5537 -100\n",
       "19      19     7  -15\n",
       "21      21     8 -100\n",
       "22      22    34 -100\n",
       "25      25     7   -2\n",
       "26      26    11 -100\n",
       "28      28     8  -27\n",
       "31      31    41 -100\n",
       "35      35     0  -15\n",
       "37      37    23 -100\n",
       "38      38    14 -100\n",
       "41      41     0   -2\n",
       "42      42    64 -100\n",
       "44      44    15  -20\n",
       "47      47    31 -100\n",
       "49      49     5   -2\n",
       "50      50     0 -100\n",
       "52      52     5  -20\n",
       "55      55     3 -100\n",
       "59      59     0  -15\n",
       "61      61    30 -100\n",
       "62      62    13 -100\n",
       "...    ...   ...  ...\n",
       "4039  4039     1 -100\n",
       "4040  4040     5   -2\n",
       "4043  4043    38  -27\n",
       "4045  4045    27 -100\n",
       "4046  4046    86 -100\n",
       "4048  4048     3   -2\n",
       "4051  4051     8  -27\n",
       "4053  4053    16 -100\n",
       "4054  4054    32 -100\n",
       "4057  4057     5   -6\n",
       "4058  4058     0  -15\n",
       "4060  4060    24 -100\n",
       "4063  4063     3 -100\n",
       "4064  4064     6   -2\n",
       "4067  4067    10  -27\n",
       "4069  4069    23 -100\n",
       "4070  4070     3 -100\n",
       "4073  4073    24   -6\n",
       "4074  4074     0  -15\n",
       "4076  4076     9 -100\n",
       "4079  4079     3 -100\n",
       "4081  4081     2   -6\n",
       "4082  4082    14  -15\n",
       "4084  4084    11 -100\n",
       "4087  4087     8 -100\n",
       "4088  4088     0   -2\n",
       "4091  4091     4  -27\n",
       "4093  4093    51 -100\n",
       "4094  4094     7 -100\n",
       "4095  4095     2 -100\n",
       "\n",
       "[2082 rows x 3 columns]"
      ]
     },
     "execution_count": 17,
     "metadata": {},
     "output_type": "execute_result"
    }
   ],
   "source": [
    "f.query('age < 0')"
   ]
  },
  {
   "cell_type": "code",
   "execution_count": null,
   "metadata": {
    "ExecuteTime": {
     "end_time": "2017-03-01T18:03:02.655466",
     "start_time": "2017-03-01T18:03:02.648182"
    },
    "collapsed": true,
    "hidden": true
   },
   "outputs": [],
   "source": [
    "# Bienen rausfischen"
   ]
  },
  {
   "cell_type": "code",
   "execution_count": 4,
   "metadata": {
    "ExecuteTime": {
     "end_time": "2017-03-01T18:21:01.519980",
     "start_time": "2017-03-01T18:20:51.570172"
    },
    "collapsed": true,
    "hidden": true
   },
   "outputs": [],
   "source": [
    "df0 = prep.getDF(\"/mnt/data2016/\", start_ts, end_ts, 0)\n",
    "df1 = prep.getDF(\"/mnt/data2016/\", start_ts, end_ts, 1)\n",
    "df2 = prep.getDF(\"/mnt/data2016/\", start_ts, end_ts, 2)\n",
    "df3 = prep.getDF(\"/mnt/data2016/\", start_ts, end_ts, 3)\n",
    "data = pd.concat([df0,df1,df2,df3])"
   ]
  },
  {
   "cell_type": "code",
   "execution_count": 5,
   "metadata": {
    "ExecuteTime": {
     "end_time": "2017-03-01T18:21:01.533677",
     "start_time": "2017-03-01T18:21:01.523626"
    },
    "collapsed": false,
    "hidden": true
   },
   "outputs": [],
   "source": [
    "def getDetWithID(df, id):\n",
    "    df = prep.calcIds(df, 0.95, 2016)\n",
    "    return df[df.id == id]"
   ]
  },
  {
   "cell_type": "code",
   "execution_count": 6,
   "metadata": {
    "ExecuteTime": {
     "end_time": "2017-03-01T18:21:25.940830",
     "start_time": "2017-03-01T18:21:01.537866"
    },
    "collapsed": false,
    "hidden": true
   },
   "outputs": [],
   "source": [
    "res = getDetWithID(data, 17)"
   ]
  },
  {
   "cell_type": "code",
   "execution_count": 7,
   "metadata": {
    "ExecuteTime": {
     "end_time": "2017-03-01T18:21:26.025794",
     "start_time": "2017-03-01T18:21:25.943693"
    },
    "collapsed": true,
    "hidden": true
   },
   "outputs": [
    {
     "data": {
      "text/html": [
       "<div>\n",
       "<table border=\"1\" class=\"dataframe\">\n",
       "  <thead>\n",
       "    <tr style=\"text-align: right;\">\n",
       "      <th></th>\n",
       "      <th>idx</th>\n",
       "      <th>xpos</th>\n",
       "      <th>ypos</th>\n",
       "      <th>radius</th>\n",
       "      <th>zRotation</th>\n",
       "      <th>frame_idx</th>\n",
       "      <th>timestamp</th>\n",
       "      <th>cam_id</th>\n",
       "      <th>fc_id</th>\n",
       "      <th>frame_id</th>\n",
       "      <th>confidence</th>\n",
       "      <th>id</th>\n",
       "    </tr>\n",
       "  </thead>\n",
       "  <tbody>\n",
       "    <tr>\n",
       "      <th>47258</th>\n",
       "      <td>33</td>\n",
       "      <td>962</td>\n",
       "      <td>1702</td>\n",
       "      <td>22.929085</td>\n",
       "      <td>1.641236</td>\n",
       "      <td>409</td>\n",
       "      <td>1.469491e+09</td>\n",
       "      <td>3</td>\n",
       "      <td>18029899247792549722</td>\n",
       "      <td>15523567918824866763</td>\n",
       "      <td>0.992157</td>\n",
       "      <td>17</td>\n",
       "    </tr>\n",
       "    <tr>\n",
       "      <th>47377</th>\n",
       "      <td>31</td>\n",
       "      <td>962</td>\n",
       "      <td>1702</td>\n",
       "      <td>22.945606</td>\n",
       "      <td>1.891792</td>\n",
       "      <td>410</td>\n",
       "      <td>1.469491e+09</td>\n",
       "      <td>3</td>\n",
       "      <td>18029899247792549722</td>\n",
       "      <td>18117020532787944282</td>\n",
       "      <td>1.000000</td>\n",
       "      <td>17</td>\n",
       "    </tr>\n",
       "    <tr>\n",
       "      <th>47497</th>\n",
       "      <td>31</td>\n",
       "      <td>938</td>\n",
       "      <td>1689</td>\n",
       "      <td>22.867502</td>\n",
       "      <td>2.061127</td>\n",
       "      <td>411</td>\n",
       "      <td>1.469491e+09</td>\n",
       "      <td>3</td>\n",
       "      <td>18029899247792549722</td>\n",
       "      <td>17843234826579378375</td>\n",
       "      <td>1.000000</td>\n",
       "      <td>17</td>\n",
       "    </tr>\n",
       "    <tr>\n",
       "      <th>47621</th>\n",
       "      <td>30</td>\n",
       "      <td>936</td>\n",
       "      <td>1689</td>\n",
       "      <td>22.826143</td>\n",
       "      <td>2.076247</td>\n",
       "      <td>412</td>\n",
       "      <td>1.469491e+09</td>\n",
       "      <td>3</td>\n",
       "      <td>18029899247792549722</td>\n",
       "      <td>17515868547313191665</td>\n",
       "      <td>1.000000</td>\n",
       "      <td>17</td>\n",
       "    </tr>\n",
       "    <tr>\n",
       "      <th>47744</th>\n",
       "      <td>31</td>\n",
       "      <td>936</td>\n",
       "      <td>1689</td>\n",
       "      <td>22.888643</td>\n",
       "      <td>2.122766</td>\n",
       "      <td>413</td>\n",
       "      <td>1.469491e+09</td>\n",
       "      <td>3</td>\n",
       "      <td>18029899247792549722</td>\n",
       "      <td>12345592913239308974</td>\n",
       "      <td>1.000000</td>\n",
       "      <td>17</td>\n",
       "    </tr>\n",
       "    <tr>\n",
       "      <th>47867</th>\n",
       "      <td>31</td>\n",
       "      <td>949</td>\n",
       "      <td>1676</td>\n",
       "      <td>22.958576</td>\n",
       "      <td>2.107123</td>\n",
       "      <td>414</td>\n",
       "      <td>1.469491e+09</td>\n",
       "      <td>3</td>\n",
       "      <td>18029899247792549722</td>\n",
       "      <td>10998477122412450186</td>\n",
       "      <td>1.000000</td>\n",
       "      <td>17</td>\n",
       "    </tr>\n",
       "    <tr>\n",
       "      <th>47991</th>\n",
       "      <td>32</td>\n",
       "      <td>949</td>\n",
       "      <td>1676</td>\n",
       "      <td>22.915888</td>\n",
       "      <td>2.183439</td>\n",
       "      <td>415</td>\n",
       "      <td>1.469491e+09</td>\n",
       "      <td>3</td>\n",
       "      <td>18029899247792549722</td>\n",
       "      <td>13982187246528672327</td>\n",
       "      <td>1.000000</td>\n",
       "      <td>17</td>\n",
       "    </tr>\n",
       "    <tr>\n",
       "      <th>48115</th>\n",
       "      <td>32</td>\n",
       "      <td>935</td>\n",
       "      <td>1677</td>\n",
       "      <td>22.971308</td>\n",
       "      <td>2.275588</td>\n",
       "      <td>416</td>\n",
       "      <td>1.469491e+09</td>\n",
       "      <td>3</td>\n",
       "      <td>18029899247792549722</td>\n",
       "      <td>17059633180998752499</td>\n",
       "      <td>0.976471</td>\n",
       "      <td>17</td>\n",
       "    </tr>\n",
       "    <tr>\n",
       "      <th>48243</th>\n",
       "      <td>31</td>\n",
       "      <td>948</td>\n",
       "      <td>1689</td>\n",
       "      <td>22.946896</td>\n",
       "      <td>1.986638</td>\n",
       "      <td>417</td>\n",
       "      <td>1.469491e+09</td>\n",
       "      <td>3</td>\n",
       "      <td>18029899247792549722</td>\n",
       "      <td>13316071905269373045</td>\n",
       "      <td>0.984314</td>\n",
       "      <td>17</td>\n",
       "    </tr>\n",
       "    <tr>\n",
       "      <th>48493</th>\n",
       "      <td>30</td>\n",
       "      <td>936</td>\n",
       "      <td>1689</td>\n",
       "      <td>23.016991</td>\n",
       "      <td>2.118561</td>\n",
       "      <td>419</td>\n",
       "      <td>1.469491e+09</td>\n",
       "      <td>3</td>\n",
       "      <td>18029899247792549722</td>\n",
       "      <td>10184329007651620946</td>\n",
       "      <td>0.992157</td>\n",
       "      <td>17</td>\n",
       "    </tr>\n",
       "    <tr>\n",
       "      <th>48615</th>\n",
       "      <td>27</td>\n",
       "      <td>936</td>\n",
       "      <td>1664</td>\n",
       "      <td>22.976049</td>\n",
       "      <td>2.247895</td>\n",
       "      <td>420</td>\n",
       "      <td>1.469491e+09</td>\n",
       "      <td>3</td>\n",
       "      <td>18029899247792549722</td>\n",
       "      <td>15599850683841279565</td>\n",
       "      <td>1.000000</td>\n",
       "      <td>17</td>\n",
       "    </tr>\n",
       "    <tr>\n",
       "      <th>48741</th>\n",
       "      <td>28</td>\n",
       "      <td>923</td>\n",
       "      <td>1638</td>\n",
       "      <td>22.917931</td>\n",
       "      <td>2.535296</td>\n",
       "      <td>421</td>\n",
       "      <td>1.469491e+09</td>\n",
       "      <td>3</td>\n",
       "      <td>18029899247792549722</td>\n",
       "      <td>11665848264029166675</td>\n",
       "      <td>1.000000</td>\n",
       "      <td>17</td>\n",
       "    </tr>\n",
       "    <tr>\n",
       "      <th>48865</th>\n",
       "      <td>27</td>\n",
       "      <td>910</td>\n",
       "      <td>1638</td>\n",
       "      <td>22.999004</td>\n",
       "      <td>2.712232</td>\n",
       "      <td>422</td>\n",
       "      <td>1.469491e+09</td>\n",
       "      <td>3</td>\n",
       "      <td>18029899247792549722</td>\n",
       "      <td>17488146607858500582</td>\n",
       "      <td>0.976471</td>\n",
       "      <td>17</td>\n",
       "    </tr>\n",
       "    <tr>\n",
       "      <th>48991</th>\n",
       "      <td>26</td>\n",
       "      <td>860</td>\n",
       "      <td>1637</td>\n",
       "      <td>23.126970</td>\n",
       "      <td>3.015830</td>\n",
       "      <td>423</td>\n",
       "      <td>1.469491e+09</td>\n",
       "      <td>3</td>\n",
       "      <td>18029899247792549722</td>\n",
       "      <td>12956620809418380742</td>\n",
       "      <td>0.976471</td>\n",
       "      <td>17</td>\n",
       "    </tr>\n",
       "    <tr>\n",
       "      <th>51285</th>\n",
       "      <td>27</td>\n",
       "      <td>862</td>\n",
       "      <td>1563</td>\n",
       "      <td>22.775629</td>\n",
       "      <td>2.840879</td>\n",
       "      <td>441</td>\n",
       "      <td>1.469491e+09</td>\n",
       "      <td>3</td>\n",
       "      <td>18029899247792549722</td>\n",
       "      <td>14652484769503464619</td>\n",
       "      <td>0.968627</td>\n",
       "      <td>17</td>\n",
       "    </tr>\n",
       "    <tr>\n",
       "      <th>51796</th>\n",
       "      <td>34</td>\n",
       "      <td>937</td>\n",
       "      <td>1527</td>\n",
       "      <td>22.921324</td>\n",
       "      <td>1.495702</td>\n",
       "      <td>445</td>\n",
       "      <td>1.469491e+09</td>\n",
       "      <td>3</td>\n",
       "      <td>18029899247792549722</td>\n",
       "      <td>9269565635484539754</td>\n",
       "      <td>1.000000</td>\n",
       "      <td>17</td>\n",
       "    </tr>\n",
       "    <tr>\n",
       "      <th>51926</th>\n",
       "      <td>34</td>\n",
       "      <td>936</td>\n",
       "      <td>1527</td>\n",
       "      <td>22.884304</td>\n",
       "      <td>1.766110</td>\n",
       "      <td>446</td>\n",
       "      <td>1.469491e+09</td>\n",
       "      <td>3</td>\n",
       "      <td>18029899247792549722</td>\n",
       "      <td>9738047653293118480</td>\n",
       "      <td>1.000000</td>\n",
       "      <td>17</td>\n",
       "    </tr>\n",
       "    <tr>\n",
       "      <th>52054</th>\n",
       "      <td>30</td>\n",
       "      <td>924</td>\n",
       "      <td>1539</td>\n",
       "      <td>22.792645</td>\n",
       "      <td>1.457126</td>\n",
       "      <td>447</td>\n",
       "      <td>1.469491e+09</td>\n",
       "      <td>3</td>\n",
       "      <td>18029899247792549722</td>\n",
       "      <td>14512838229080617621</td>\n",
       "      <td>1.000000</td>\n",
       "      <td>17</td>\n",
       "    </tr>\n",
       "    <tr>\n",
       "      <th>52184</th>\n",
       "      <td>31</td>\n",
       "      <td>924</td>\n",
       "      <td>1501</td>\n",
       "      <td>22.758766</td>\n",
       "      <td>1.991848</td>\n",
       "      <td>448</td>\n",
       "      <td>1.469491e+09</td>\n",
       "      <td>3</td>\n",
       "      <td>18029899247792549722</td>\n",
       "      <td>13511088690038171359</td>\n",
       "      <td>1.000000</td>\n",
       "      <td>17</td>\n",
       "    </tr>\n",
       "    <tr>\n",
       "      <th>52311</th>\n",
       "      <td>31</td>\n",
       "      <td>912</td>\n",
       "      <td>1477</td>\n",
       "      <td>22.991434</td>\n",
       "      <td>2.204930</td>\n",
       "      <td>449</td>\n",
       "      <td>1.469491e+09</td>\n",
       "      <td>3</td>\n",
       "      <td>18029899247792549722</td>\n",
       "      <td>17850864508223274334</td>\n",
       "      <td>1.000000</td>\n",
       "      <td>17</td>\n",
       "    </tr>\n",
       "    <tr>\n",
       "      <th>52439</th>\n",
       "      <td>33</td>\n",
       "      <td>924</td>\n",
       "      <td>1465</td>\n",
       "      <td>22.918276</td>\n",
       "      <td>1.921957</td>\n",
       "      <td>450</td>\n",
       "      <td>1.469491e+09</td>\n",
       "      <td>3</td>\n",
       "      <td>18029899247792549722</td>\n",
       "      <td>11718442935308551623</td>\n",
       "      <td>1.000000</td>\n",
       "      <td>17</td>\n",
       "    </tr>\n",
       "    <tr>\n",
       "      <th>52569</th>\n",
       "      <td>32</td>\n",
       "      <td>911</td>\n",
       "      <td>1401</td>\n",
       "      <td>22.932304</td>\n",
       "      <td>2.265712</td>\n",
       "      <td>451</td>\n",
       "      <td>1.469491e+09</td>\n",
       "      <td>3</td>\n",
       "      <td>18029899247792549722</td>\n",
       "      <td>9470695599104187202</td>\n",
       "      <td>1.000000</td>\n",
       "      <td>17</td>\n",
       "    </tr>\n",
       "    <tr>\n",
       "      <th>52826</th>\n",
       "      <td>35</td>\n",
       "      <td>961</td>\n",
       "      <td>1390</td>\n",
       "      <td>22.987156</td>\n",
       "      <td>1.699113</td>\n",
       "      <td>453</td>\n",
       "      <td>1.469491e+09</td>\n",
       "      <td>3</td>\n",
       "      <td>18029899247792549722</td>\n",
       "      <td>13041255597648523221</td>\n",
       "      <td>1.000000</td>\n",
       "      <td>17</td>\n",
       "    </tr>\n",
       "    <tr>\n",
       "      <th>52953</th>\n",
       "      <td>33</td>\n",
       "      <td>973</td>\n",
       "      <td>1389</td>\n",
       "      <td>22.832727</td>\n",
       "      <td>1.849771</td>\n",
       "      <td>454</td>\n",
       "      <td>1.469491e+09</td>\n",
       "      <td>3</td>\n",
       "      <td>18029899247792549722</td>\n",
       "      <td>16814318192128636658</td>\n",
       "      <td>1.000000</td>\n",
       "      <td>17</td>\n",
       "    </tr>\n",
       "    <tr>\n",
       "      <th>53082</th>\n",
       "      <td>33</td>\n",
       "      <td>949</td>\n",
       "      <td>1401</td>\n",
       "      <td>22.755507</td>\n",
       "      <td>1.600561</td>\n",
       "      <td>455</td>\n",
       "      <td>1.469491e+09</td>\n",
       "      <td>3</td>\n",
       "      <td>18029899247792549722</td>\n",
       "      <td>9943580879940524547</td>\n",
       "      <td>1.000000</td>\n",
       "      <td>17</td>\n",
       "    </tr>\n",
       "    <tr>\n",
       "      <th>53212</th>\n",
       "      <td>32</td>\n",
       "      <td>961</td>\n",
       "      <td>1415</td>\n",
       "      <td>22.957525</td>\n",
       "      <td>1.477050</td>\n",
       "      <td>456</td>\n",
       "      <td>1.469491e+09</td>\n",
       "      <td>3</td>\n",
       "      <td>18029899247792549722</td>\n",
       "      <td>9901752333155588948</td>\n",
       "      <td>0.992157</td>\n",
       "      <td>17</td>\n",
       "    </tr>\n",
       "    <tr>\n",
       "      <th>53344</th>\n",
       "      <td>35</td>\n",
       "      <td>961</td>\n",
       "      <td>1415</td>\n",
       "      <td>22.828140</td>\n",
       "      <td>1.492722</td>\n",
       "      <td>457</td>\n",
       "      <td>1.469491e+09</td>\n",
       "      <td>3</td>\n",
       "      <td>18029899247792549722</td>\n",
       "      <td>16751275501195708195</td>\n",
       "      <td>1.000000</td>\n",
       "      <td>17</td>\n",
       "    </tr>\n",
       "    <tr>\n",
       "      <th>53475</th>\n",
       "      <td>34</td>\n",
       "      <td>961</td>\n",
       "      <td>1402</td>\n",
       "      <td>22.872179</td>\n",
       "      <td>1.462155</td>\n",
       "      <td>458</td>\n",
       "      <td>1.469491e+09</td>\n",
       "      <td>3</td>\n",
       "      <td>18029899247792549722</td>\n",
       "      <td>10615371407408166451</td>\n",
       "      <td>1.000000</td>\n",
       "      <td>17</td>\n",
       "    </tr>\n",
       "    <tr>\n",
       "      <th>53605</th>\n",
       "      <td>33</td>\n",
       "      <td>960</td>\n",
       "      <td>1402</td>\n",
       "      <td>22.857401</td>\n",
       "      <td>1.680743</td>\n",
       "      <td>459</td>\n",
       "      <td>1.469491e+09</td>\n",
       "      <td>3</td>\n",
       "      <td>18029899247792549722</td>\n",
       "      <td>9473472138181926206</td>\n",
       "      <td>1.000000</td>\n",
       "      <td>17</td>\n",
       "    </tr>\n",
       "    <tr>\n",
       "      <th>53860</th>\n",
       "      <td>36</td>\n",
       "      <td>1010</td>\n",
       "      <td>1403</td>\n",
       "      <td>23.029493</td>\n",
       "      <td>1.638936</td>\n",
       "      <td>461</td>\n",
       "      <td>1.469491e+09</td>\n",
       "      <td>3</td>\n",
       "      "
      ],
      "text/plain": [
       "        idx  xpos  ypos     radius  zRotation  frame_idx     timestamp  \\\n",
       "47258    33   962  1702  22.929085   1.641236        409  1.469491e+09   \n",
       "47377    31   962  1702  22.945606   1.891792        410  1.469491e+09   \n",
       "47497    31   938  1689  22.867502   2.061127        411  1.469491e+09   \n",
       "47621    30   936  1689  22.826143   2.076247        412  1.469491e+09   \n",
       "47744    31   936  1689  22.888643   2.122766        413  1.469491e+09   \n",
       "47867    31   949  1676  22.958576   2.107123        414  1.469491e+09   \n",
       "47991    32   949  1676  22.915888   2.183439        415  1.469491e+09   \n",
       "48115    32   935  1677  22.971308   2.275588        416  1.469491e+09   \n",
       "48243    31   948  1689  22.946896   1.986638        417  1.469491e+09   \n",
       "48493    30   936  1689  23.016991   2.118561        419  1.469491e+09   \n",
       "48615    27   936  1664  22.976049   2.247895        420  1.469491e+09   \n",
       "48741    28   923  1638  22.917931   2.535296        421  1.469491e+09   \n",
       "48865    27   910  1638  22.999004   2.712232        422  1.469491e+09   \n",
       "48991    26   860  1637  23.126970   3.015830        423  1.469491e+09   \n",
       "51285    27   862  1563  22.775629   2.840879        441  1.469491e+09   \n",
       "51796    34   937  1527  22.921324   1.495702        445  1.469491e+09   \n",
       "51926    34   936  1527  22.884304   1.766110        446  1.469491e+09   \n",
       "52054    30   924  1539  22.792645   1.457126        447  1.469491e+09   \n",
       "52184    31   924  1501  22.758766   1.991848        448  1.469491e+09   \n",
       "52311    31   912  1477  22.991434   2.204930        449  1.469491e+09   \n",
       "52439    33   924  1465  22.918276   1.921957        450  1.469491e+09   \n",
       "52569    32   911  1401  22.932304   2.265712        451  1.469491e+09   \n",
       "52826    35   961  1390  22.987156   1.699113        453  1.469491e+09   \n",
       "52953    33   973  1389  22.832727   1.849771        454  1.469491e+09   \n",
       "53082    33   949  1401  22.755507   1.600561        455  1.469491e+09   \n",
       "53212    32   961  1415  22.957525   1.477050        456  1.469491e+09   \n",
       "53344    35   961  1415  22.828140   1.492722        457  1.469491e+09   \n",
       "53475    34   961  1402  22.872179   1.462155        458  1.469491e+09   \n",
       "53605    33   960  1402  22.857401   1.680743        459  1.469491e+09   \n",
       "53860    36  1010  1403  23.029493   1.638936        461  1.469491e+09   \n",
       "...     ...   ...   ...        ...        ...        ...           ...   \n",
       "81028    60  1765  3139  23.093443   0.506870        693  1.469491e+09   \n",
       "90785    55  1661  3274  22.888149  -2.838161        780  1.469491e+09   \n",
       "90895    56  1673  3262  22.999918  -2.958472        781  1.469491e+09   \n",
       "91117    57  1686  3262  22.947063  -2.978908        783  1.469491e+09   \n",
       "91346    57  1699  3275  22.891716   3.087771        785  1.469491e+09   \n",
       "91462    56  1699  3275  22.910126  -3.057198        786  1.469491e+09   \n",
       "91580    57  1698  3275  22.915764  -3.079667        787  1.469491e+09   \n",
       "91698    57  1698  3274  22.959103  -3.100338        788  1.469491e+09   \n",
       "91813    55  1685  3274  22.977726  -2.950551        789  1.469491e+09   \n",
       "91933    57  1698  3263  23.060797  -3.045262        790  1.469491e+09   \n",
       "92051    55  1698  3262  23.047462  -2.950154        791  1.469491e+09   \n",
       "92169    56  1698  3263  23.102798  -2.971280        792  1.469491e+09   \n",
       "92288    56  1698  3262  23.093449  -2.888437        793  1.469491e+09   \n",
       "92404    55  1698  3262  23.076969  -2.827683        794  1.469491e+09   \n",
       "93422    59  1698  3287  22.962437   2.962179        803  1.469491e+09   \n",
       "93540    61  1711  3275  22.858706   2.897107        804  1.469491e+09   \n",
       "93893    64  1798  3263  22.874784   2.455166        807  1.469491e+09   \n",
       "94008    61  1798  3250  22.845392   2.633786        808  1.469491e+09   \n",
       "94128    65  1786  3251  22.752251   2.279762        809  1.469491e+09   \n",
       "94246    62  1786  3226  22.825842   2.158522        810  1.469491e+09   \n",
       "97369    66  1899  3190  22.966307   1.351250        835  1.469491e+09   \n",
       "97498    72  1900  3215  22.959089   1.131506        836  1.469491e+09   \n",
       "98253    73  1902  3276  23.132908   0.250401        842  1.469491e+09   \n",
       "102109   73  1889  3377  22.929871   1.106579        872  1.469491e+09   \n",
       "102491   74  1899  3327  22.994503   1.567419        875  1.469491e+09   \n",
       "102617   73  1912  3327  23.022358   1.689466        876  1.469491e+09   \n",
       "102742   74  1912  3327  22.980721   0.951486        877  1.469491e+09   \n",
       "102869   76  1900  3327  22.938469   0.988867        878  1.469491e+09   \n",
       "103123   74  1925  3327  23.022781   1.137844        880  1.469491e+09   \n",
       "103245   73  1925  3327  23.082233   1.144932        881  1.469491e+09   \n",
       "\n",
       "        cam_id                 fc_id              frame_id  confidence  id  \n",
       "47258        3  18029899247792549722  15523567918824866763    0.992157  17  \n",
       "47377        3  18029899247792549722  18117020532787944282    1.000000  17  \n",
       "47497        3  18029899247792549722  17843234826579378375    1.000000  17  \n",
       "47621        3  18029899247792549722  17515868547313191665    1.000000  17  \n",
       "47744        3  18029899247792549722  12345592913239308974    1.000000  17  \n",
       "47867        3  18029899247792549722  10998477122412450186    1.000000  17  \n",
       "47991        3  18029899247792549722  13982187246528672327    1.000000  17  \n",
       "48115        3  18029899247792549722  17059633180998752499    0.976471  17  \n",
       "48243        3  18029899247792549722  13316071905269373045    0.984314  17  \n",
       "48493        3  18029899247792549722  10184329007651620946    0.992157  17  \n",
       "48615        3  18029899247792549722  15599850683841279565    1.000000  17  \n",
       "48741        3  18029899247792549722  11665848264029166675    1.000000  17  \n",
       "48865        3  18029899247792549722  17488146607858500582    0.976471  17  \n",
       "48991        3  18029899247792549722  12956620809418380742    0.976471  17  \n",
       "51285        3  18029899247792549722  14652484769503464619    0.968627  17  \n",
       "51796        3  18029899247792549722   9269565635484539754    1.000000  17  \n",
       "51926        3  18029899247792549722   9738047653293118480    1.000000  17  \n",
       "52054        3  18029899247792549722  14512838229080617621    1.000000  17  \n",
       "52184        3  18029899247792549722  13511088690038171359    1.000000  17  \n",
       "52311        3  18029899247792549722  17850864508223274334    1.000000  17  \n",
       "52439        3  18029899247792549722  11718442935308551623    1.000000  17  \n",
       "52569        3  18029899247792549722   9470695599104187202    1.000000  17  \n",
       "52826        3  18029899247792549722  13041255597648523221    1.000000  17  \n",
       "52953        3  18029899247792549722  16814318192128636658    1.000000  17  \n",
       "53082        3  18029899247792549722   9943580879940524547    1.000000  17  \n",
       "53212        3  18029899247792549722   9901752333155588948    0.992157  17  \n",
       "53344        3  18029899247792549722  16751275501195708195    1.000000  17  \n",
       "53475        3  18029899247792549722  10615371407408166451    1.000000  17  \n",
       "53605        3  18029899247792549722   9473472138181926206    1.000000  17  \n",
       "53860        3  18029899247792549722  14207910510104929094    1.000000  17  \n",
       "...        ...                   ...                   ...         ...  ..  \n",
       "81028        3  18029899247792549722  17391859149865641382    0.976471  17  \n",
       "90785        3  18029899247792549722  15800698722510511881    1.000000  17  \n",
       "90895        3  18029899247792549722  11553515117606020877    1.000000  17  \n",
       "91117        3  18029899247792549722   9450523533386035348    0.984314  17  \n",
       "91346        3  18029899247792549722  16772514391792832203    1.000000  17  \n",
       "91462        3  18029899247792549722  12685956239964107703    0.976471  17  \n",
       "91580        3  18029899247792549722  16773270625487992778    0.992157  17  \n",
       "91698        3  18029899247792549722   9488423090904338720    1.000000  17  \n",
       "91813        3  18029899247792549722  13277993568916826357    0.992157  17  \n",
       "91933        3  18029899247792549722  11030413604869293116    1.000000  17  \n",
       "92051        3  18029899247792549722  16251553469677394381    1.000000  17  \n",
       "92169        3  18029899247792549722  15303599859642016766    1.000000  17  \n",
       "92288        3  18029899247792549722   9978002234521013823    1.000000  17  \n",
       "92404        3  18029899247792549722  14819341231902269166    1.000000  17  \n",
       "93422        3  18029899247792549722  15183687050232816259    1.000000  17  \n",
       "93540        3  18029899247792549722  16093424303910111707    1.000000  17  \n",
       "93893        3  18029899247792549722  15977654744317886042    0.960784  17  \n",
       "94008        3  18029899247792549722  14355376336419643265    0.976471  17  \n",
       "94128        3  18029899247792549722  16610334377185718385    1.000000  17  \n",
       "94246        3  18029899247792549722  16102813699842871543    0.992157  17  \n",
       "97369        3  18029899247792549722  10587542555038264909    0.992157  17  \n",
       "97498        3  18029899247792549722  11545899346751627732    0.968627  17  \n",
       "98253        3  18029899247792549722  10364605932107830898    0.976471  17  \n",
       "102109       3  18029899247792549722   9645973399618945846    1.000000  17  \n",
       "102491       3  18029899247792549722  13570581014302629405    0.960784  17  \n",
       "102617       3  18029899247792549722   9861610091378194959    0.960784  17  \n",
       "102742       3  18029899247792549722   9412407862510737688    1.000000  17  \n",
       "102869       3  18029899247792549722  11609663938636327447    0.976471  17  \n",
       "103123       3  18029899247792549722  10000228073619747822    1.000000  17  \n",
       "103245       3  18029899247792549722  18268659603611699380    0.952941  17  \n",
       "\n",
       "[180 rows x 12 columns]"
      ]
     },
     "execution_count": 7,
     "metadata": {},
     "output_type": "execute_result"
    },
    {
     "data": {
      "text/html": [
       "<b>limit_output extension: Maximum message size of 10000 exceeded with 20202 characters</b>"
      ]
     },
     "metadata": {},
     "output_type": "display_data"
    }
   ],
   "source": [
    "res"
   ]
  },
  {
   "cell_type": "code",
   "execution_count": 8,
   "metadata": {
    "ExecuteTime": {
     "end_time": "2017-03-01T18:21:50.556063",
     "start_time": "2017-03-01T18:21:26.029023"
    },
    "collapsed": true,
    "hidden": true
   },
   "outputs": [],
   "source": [
    "res = getDetWithID(data, 888)"
   ]
  },
  {
   "cell_type": "code",
   "execution_count": 9,
   "metadata": {
    "ExecuteTime": {
     "end_time": "2017-03-01T18:21:50.636843",
     "start_time": "2017-03-01T18:21:50.560016"
    },
    "collapsed": true,
    "hidden": true
   },
   "outputs": [
    {
     "data": {
      "text/html": [
       "<div>\n",
       "<table border=\"1\" class=\"dataframe\">\n",
       "  <thead>\n",
       "    <tr style=\"text-align: right;\">\n",
       "      <th></th>\n",
       "      <th>idx</th>\n",
       "      <th>xpos</th>\n",
       "      <th>ypos</th>\n",
       "      <th>radius</th>\n",
       "      <th>zRotation</th>\n",
       "      <th>frame_idx</th>\n",
       "      <th>timestamp</th>\n",
       "      <th>cam_id</th>\n",
       "      <th>fc_id</th>\n",
       "      <th>frame_id</th>\n",
       "      <th>confidence</th>\n",
       "      <th>id</th>\n",
       "    </tr>\n",
       "  </thead>\n",
       "  <tbody>\n",
       "    <tr>\n",
       "      <th>5940</th>\n",
       "      <td>15</td>\n",
       "      <td>825</td>\n",
       "      <td>2987</td>\n",
       "      <td>22.681152</td>\n",
       "      <td>-2.025156</td>\n",
       "      <td>63</td>\n",
       "      <td>1.469491e+09</td>\n",
       "      <td>0</td>\n",
       "      <td>10523462747265020228</td>\n",
       "      <td>10368079611057354619</td>\n",
       "      <td>0.976471</td>\n",
       "      <td>888</td>\n",
       "    </tr>\n",
       "    <tr>\n",
       "      <th>6308</th>\n",
       "      <td>11</td>\n",
       "      <td>787</td>\n",
       "      <td>2999</td>\n",
       "      <td>22.780539</td>\n",
       "      <td>-1.837463</td>\n",
       "      <td>67</td>\n",
       "      <td>1.469491e+09</td>\n",
       "      <td>0</td>\n",
       "      <td>10523462747265020228</td>\n",
       "      <td>11915520625460728690</td>\n",
       "      <td>0.992157</td>\n",
       "      <td>888</td>\n",
       "    </tr>\n",
       "    <tr>\n",
       "      <th>6399</th>\n",
       "      <td>10</td>\n",
       "      <td>775</td>\n",
       "      <td>3000</td>\n",
       "      <td>22.811131</td>\n",
       "      <td>-1.743635</td>\n",
       "      <td>68</td>\n",
       "      <td>1.469491e+09</td>\n",
       "      <td>0</td>\n",
       "      <td>10523462747265020228</td>\n",
       "      <td>13810404924703824888</td>\n",
       "      <td>1.000000</td>\n",
       "      <td>888</td>\n",
       "    </tr>\n",
       "    <tr>\n",
       "      <th>6860</th>\n",
       "      <td>9</td>\n",
       "      <td>763</td>\n",
       "      <td>3000</td>\n",
       "      <td>22.660208</td>\n",
       "      <td>-2.075979</td>\n",
       "      <td>73</td>\n",
       "      <td>1.469491e+09</td>\n",
       "      <td>0</td>\n",
       "      <td>10523462747265020228</td>\n",
       "      <td>11925896762619940184</td>\n",
       "      <td>0.976471</td>\n",
       "      <td>888</td>\n",
       "    </tr>\n",
       "    <tr>\n",
       "      <th>9194</th>\n",
       "      <td>15</td>\n",
       "      <td>763</td>\n",
       "      <td>2999</td>\n",
       "      <td>22.559982</td>\n",
       "      <td>2.846528</td>\n",
       "      <td>98</td>\n",
       "      <td>1.469491e+09</td>\n",
       "      <td>0</td>\n",
       "      <td>10523462747265020228</td>\n",
       "      <td>13723425205579074769</td>\n",
       "      <td>0.976471</td>\n",
       "      <td>888</td>\n",
       "    </tr>\n",
       "    <tr>\n",
       "      <th>9285</th>\n",
       "      <td>14</td>\n",
       "      <td>764</td>\n",
       "      <td>3000</td>\n",
       "      <td>22.626305</td>\n",
       "      <td>2.942298</td>\n",
       "      <td>99</td>\n",
       "      <td>1.469491e+09</td>\n",
       "      <td>0</td>\n",
       "      <td>10523462747265020228</td>\n",
       "      <td>9458712840975548762</td>\n",
       "      <td>0.968627</td>\n",
       "      <td>888</td>\n",
       "    </tr>\n",
       "    <tr>\n",
       "      <th>9377</th>\n",
       "      <td>14</td>\n",
       "      <td>763</td>\n",
       "      <td>3000</td>\n",
       "      <td>22.640005</td>\n",
       "      <td>2.966255</td>\n",
       "      <td>100</td>\n",
       "      <td>1.469491e+09</td>\n",
       "      <td>0</td>\n",
       "      <td>10523462747265020228</td>\n",
       "      <td>11460501446706551243</td>\n",
       "      <td>0.992157</td>\n",
       "      <td>888</td>\n",
       "    </tr>\n",
       "    <tr>\n",
       "      <th>9466</th>\n",
       "      <td>14</td>\n",
       "      <td>763</td>\n",
       "      <td>3000</td>\n",
       "      <td>22.647234</td>\n",
       "      <td>2.951607</td>\n",
       "      <td>101</td>\n",
       "      <td>1.469491e+09</td>\n",
       "      <td>0</td>\n",
       "      <td>10523462747265020228</td>\n",
       "      <td>15441285705509221907</td>\n",
       "      <td>1.000000</td>\n",
       "      <td>888</td>\n",
       "    </tr>\n",
       "    <tr>\n",
       "      <th>9557</th>\n",
       "      <td>12</td>\n",
       "      <td>763</td>\n",
       "      <td>3000</td>\n",
       "      <td>22.612453</td>\n",
       "      <td>2.953726</td>\n",
       "      <td>102</td>\n",
       "      <td>1.469491e+09</td>\n",
       "      <td>0</td>\n",
       "      <td>10523462747265020228</td>\n",
       "      <td>10297576646843793508</td>\n",
       "      <td>1.000000</td>\n",
       "      <td>888</td>\n",
       "    </tr>\n",
       "    <tr>\n",
       "      <th>9648</th>\n",
       "      <td>12</td>\n",
       "      <td>763</td>\n",
       "      <td>3000</td>\n",
       "      <td>22.580841</td>\n",
       "      <td>2.925766</td>\n",
       "      <td>103</td>\n",
       "      <td>1.469491e+09</td>\n",
       "      <td>0</td>\n",
       "      <td>10523462747265020228</td>\n",
       "      <td>10730338510913452884</td>\n",
       "      <td>1.000000</td>\n",
       "      <td>888</td>\n",
       "    </tr>\n",
       "    <tr>\n",
       "      <th>9831</th>\n",
       "      <td>14</td>\n",
       "      <td>763</td>\n",
       "      <td>2999</td>\n",
       "      <td>22.578606</td>\n",
       "      <td>2.856960</td>\n",
       "      <td>105</td>\n",
       "      <td>1.469491e+09</td>\n",
       "      <td>0</td>\n",
       "      <td>10523462747265020228</td>\n",
       "      <td>14780866759570994514</td>\n",
       "      <td>1.000000</td>\n",
       "      <td>888</td>\n",
       "    </tr>\n",
       "    <tr>\n",
       "      <th>9922</th>\n",
       "      <td>12</td>\n",
       "      <td>763</td>\n",
       "      <td>2999</td>\n",
       "      <td>22.582136</td>\n",
       "      <td>2.880710</td>\n",
       "      <td>106</td>\n",
       "      <td>1.469491e+09</td>\n",
       "      <td>0</td>\n",
       "      <td>10523462747265020228</td>\n",
       "      <td>15895829323467159551</td>\n",
       "      <td>0.984314</td>\n",
       "      <td>888</td>\n",
       "    </tr>\n",
       "    <tr>\n",
       "      <th>10015</th>\n",
       "      <td>13</td>\n",
       "      <td>763</td>\n",
       "      <td>2999</td>\n",
       "      <td>22.581388</td>\n",
       "      <td>2.883260</td>\n",
       "      <td>107</td>\n",
       "      <td>1.469491e+09</td>\n",
       "      <td>0</td>\n",
       "      <td>10523462747265020228</td>\n",
       "      <td>10915126807438355451</td>\n",
       "      <td>0.992157</td>\n",
       "      <td>888</td>\n",
       "    </tr>\n",
       "    <tr>\n",
       "      <th>10105</th>\n",
       "      <td>11</td>\n",
       "      <td>776</td>\n",
       "      <td>2987</td>\n",
       "      <td>22.589558</td>\n",
       "      <td>2.834355</td>\n",
       "      <td>108</td>\n",
       "      <td>1.469491e+09</td>\n",
       "      <td>0</td>\n",
       "      <td>10523462747265020228</td>\n",
       "      <td>9590323184973564641</td>\n",
       "      <td>0.984314</td>\n",
       "      <td>888</td>\n",
       "    </tr>\n",
       "    <tr>\n",
       "      <th>10475</th>\n",
       "      <td>14</td>\n",
       "      <td>776</td>\n",
       "      <td>2987</td>\n",
       "      <td>22.582924</td>\n",
       "      <td>2.958867</td>\n",
       "      <td>112</td>\n",
       "      <td>1.469491e+09</td>\n",
       "      <td>0</td>\n",
       "      <td>10523462747265020228</td>\n",
       "      <td>9660977363681276970</td>\n",
       "      <td>0.968627</td>\n",
       "      <td>888</td>\n",
       "    </tr>\n",
       "    <tr>\n",
       "      <th>10572</th>\n",
       "      <td>16</td>\n",
       "      <td>776</td>\n",
       "      <td>2988</td>\n",
       "      <td>22.588337</td>\n",
       "      <td>2.984364</td>\n",
       "      <td>113</td>\n",
       "      <td>1.469491e+09</td>\n",
       "      <td>0</td>\n",
       "      <td>10523462747265020228</td>\n",
       "      <td>15386102289739210048</td>\n",
       "      <td>0.984314</td>\n",
       "      <td>888</td>\n",
       "    </tr>\n",
       "    <tr>\n",
       "      <th>10667</th>\n",
       "      <td>14</td>\n",
       "      <td>776</td>\n",
       "      <td>2988</td>\n",
       "      <td>22.597868</td>\n",
       "      <td>3.005741</td>\n",
       "      <td>114</td>\n",
       "      <td>1.469491e+09</td>\n",
       "      <td>0</td>\n",
       "      <td>10523462747265020228</td>\n",
       "      <td>15223272745877976064</td>\n",
       "      <td>1.000000</td>\n",
       "      <td>888</td>\n",
       "    </tr>\n",
       "    <tr>\n",
       "      <th>10761</th>\n",
       "      <td>14</td>\n",
       "      <td>776</td>\n",
       "      <td>2988</td>\n",
       "      <td>22.587330</td>\n",
       "      <td>3.039000</td>\n",
       "      <td>115</td>\n",
       "      <td>1.469491e+09</td>\n",
       "      <td>0</td>\n",
       "      <td>10523462747265020228</td>\n",
       "      <td>11235680777945771326</td>\n",
       "      <td>1.000000</td>\n",
       "      <td>888</td>\n",
       "    </tr>\n",
       "    <tr>\n",
       "      <th>10854</th>\n",
       "      <td>13</td>\n",
       "      <td>763</td>\n",
       "      <td>3000</td>\n",
       "      <td>22.644531</td>\n",
       "      <td>2.994827</td>\n",
       "      <td>116</td>\n",
       "      <td>1.469491e+09</td>\n",
       "      <td>0</td>\n",
       "      <td>10523462747265020228</td>\n",
       "      <td>16844461944732644534</td>\n",
       "      <td>1.000000</td>\n",
       "      <td>888</td>\n",
       "    </tr>\n",
       "    <tr>\n",
       "      <th>10947</th>\n",
       "      <td>11</td>\n",
       "      <td>776</td>\n",
       "      <td>3000</td>\n",
       "      <td>22.593040</td>\n",
       "      <td>2.974642</td>\n",
       "      <td>117</td>\n",
       "      <td>1.469491e+09</td>\n",
       "      <td>0</td>\n",
       "      <td>10523462747265020228</td>\n",
       "      <td>12238990134703958641</td>\n",
       "      <td>1.000000</td>\n",
       "      <td>888</td>\n",
       "    </tr>\n",
       "    <tr>\n",
       "      <th>11038</th>\n",
       "      <td>11</td>\n",
       "      <td>763</td>\n",
       "      <td>3000</td>\n",
       "      <td>22.632175</td>\n",
       "      <td>2.936602</td>\n",
       "      <td>118</td>\n",
       "      <td>1.469491e+09</td>\n",
       "      <td>0</td>\n",
       "      <td>10523462747265020228</td>\n",
       "      <td>11894273739150791498</td>\n",
       "      <td>1.000000</td>\n",
       "      <td>888</td>\n",
       "    </tr>\n",
       "    <tr>\n",
       "      <th>11316</th>\n",
       "      <td>12</td>\n",
       "      <td>763</td>\n",
       "      <td>2974</td>\n",
       "      <td>22.567966</td>\n",
       "      <td>2.551668</td>\n",
       "      <td>121</td>\n",
       "      <td>1.469491e+09</td>\n",
       "      <td>0</td>\n",
       "      <td>10523462747265020228</td>\n",
       "      <td>16619894357702719743</td>\n",
       "      <td>0.992157</td>\n",
       "      <td>888</td>\n",
       "    </tr>\n",
       "    <tr>\n",
       "      <th>11609</th>\n",
       "      <td>13</td>\n",
       "      <td>788</td>\n",
       "      <td>2924</td>\n",
       "      <td>22.557919</td>\n",
       "      <td>2.518734</td>\n",
       "      <td>124</td>\n",
       "      <td>1.469491e+09</td>\n",
       "      <td>0</td>\n",
       "      <td>10523462747265020228</td>\n",
       "      <td>10231635683087521913</td>\n",
       "      <td>0.976471</td>\n",
       "      <td>888</td>\n",
       "    </tr>\n",
       "    <tr>\n",
       "      <th>11806</th>\n",
       "      <td>12</td>\n",
       "      <td>789</td>\n",
       "      <td>2911</td>\n",
       "      <td>22.525316</td>\n",
       "      <td>2.452885</td>\n",
       "      <td>126</td>\n",
       "      <td>1.469491e+09</td>\n",
       "      <td>0</td>\n",
       "      <td>10523462747265020228</td>\n",
       "      <td>16880050365378688536</td>\n",
       "      <td>0.960784</td>\n",
       "      <td>888</td>\n",
       "    </tr>\n",
       "    <tr>\n",
       "      <th>12092</th>\n",
       "      <td>12</td>\n",
       "      <td>814</td>\n",
       "      <td>2899</td>\n",
       "      <td>22.525415</td>\n",
       "      <td>2.371914</td>\n",
       "      <td>129</td>\n",
       "      <td>1.469491e+09</td>\n",
       "      <td>0</td>\n",
       "      <td>10523462747265020228</td>\n",
       "      <td>15376318309177765590</td>\n",
       "      <td>0.976471</td>\n",
       "      <td>888</td>\n",
       "    </tr>\n",
       "    <tr>\n",
       "      <th>12192</th>\n",
       "      <td>12</td>\n",
       "      <td>814</td>\n",
       "      <td>2899</td>\n",
       "      <td>22.522339</td>\n",
       "      <td>2.341859</td>\n",
       "      <td>130</td>\n",
       "      <td>1.469491e+09</td>\n",
       "      <td>0</td>\n",
       "      <td>10523462747265020228</td>\n",
       "      <td>17619179700877804305</td>\n",
       "      <td>0.952941</td>\n",
       "      <td>888</td>\n",
       "    </tr>\n",
       "    <tr>\n",
       "      <th>12480</th>\n",
       "      <td>13</td>\n",
       "      <td>814</td>\n",
       "      <td>2899</td>\n",
       "      <td>22.528908</td>\n",
       "      <td>2.407945</td>\n",
       "      <td>133</td>\n",
       "      <td>1.469491e+09</td>\n",
       "      <td>0</td>\n",
       "      <td>10523462747265020228</td>\n",
       "      <td>15594669015060775067</td>\n",
       "      <td>0.952941</td>\n",
       "      <td>888</td>\n",
       "    </tr>\n",
       "    <tr>\n",
       "      <th>12678</th>\n",
       "      <td>14</td>\n",
       "      <td>826</td>\n",
       "      <td>2911</td>\n",
       "      <td>22.566433</td>\n",
       "      <td>2.455426</td>\n",
       "      <td>135</td>\n",
       "      <td>1.469491e+09</td>\n",
       "      <td>0</td>\n",
       "      <td>10523462747265020228</td>\n",
       "      <td>16411117315223766016</td>\n",
       "      <td>0.976471</td>\n",
       "      <td>888</td>\n",
       "    </tr>\n",
       "    <tr>\n",
       "      <th>12880</th>\n",
       "      <td>12</td>\n",
       "      <td>826</td>\n",
       "      <td>2912</td>\n",
       "      <td>22.571379</td>\n",
       "      <td>2.440655</td>\n",
       "      <td>137</td>\n",
       "      <td>1.469491e+09</td>\n",
       "      <td>0</td>\n",
       "      <td>10523462747265020228</td>\n",
       "      <td>15710075439080908161</td>\n",
       "      <td>0.968627</td>\n",
       "      <td>888</td>\n",
       "    </tr>\n",
       "    <tr>\n",
       "      <th>12977</th>\n",
       "      <td>11</td>\n",
       "      <td>826</td>\n",
       "      <td>2912</td>\n",
       "      <td>22.568136</td>\n",
       "      <td>2.448665</td>\n",
       "      <td>138</td>\n",
       "      <td>1.469491e+09</td>\n",
       "      <"
      ],
      "text/plain": [
       "       idx  xpos  ypos     radius  zRotation  frame_idx     timestamp  cam_id  \\\n",
       "5940    15   825  2987  22.681152  -2.025156         63  1.469491e+09       0   \n",
       "6308    11   787  2999  22.780539  -1.837463         67  1.469491e+09       0   \n",
       "6399    10   775  3000  22.811131  -1.743635         68  1.469491e+09       0   \n",
       "6860     9   763  3000  22.660208  -2.075979         73  1.469491e+09       0   \n",
       "9194    15   763  2999  22.559982   2.846528         98  1.469491e+09       0   \n",
       "9285    14   764  3000  22.626305   2.942298         99  1.469491e+09       0   \n",
       "9377    14   763  3000  22.640005   2.966255        100  1.469491e+09       0   \n",
       "9466    14   763  3000  22.647234   2.951607        101  1.469491e+09       0   \n",
       "9557    12   763  3000  22.612453   2.953726        102  1.469491e+09       0   \n",
       "9648    12   763  3000  22.580841   2.925766        103  1.469491e+09       0   \n",
       "9831    14   763  2999  22.578606   2.856960        105  1.469491e+09       0   \n",
       "9922    12   763  2999  22.582136   2.880710        106  1.469491e+09       0   \n",
       "10015   13   763  2999  22.581388   2.883260        107  1.469491e+09       0   \n",
       "10105   11   776  2987  22.589558   2.834355        108  1.469491e+09       0   \n",
       "10475   14   776  2987  22.582924   2.958867        112  1.469491e+09       0   \n",
       "10572   16   776  2988  22.588337   2.984364        113  1.469491e+09       0   \n",
       "10667   14   776  2988  22.597868   3.005741        114  1.469491e+09       0   \n",
       "10761   14   776  2988  22.587330   3.039000        115  1.469491e+09       0   \n",
       "10854   13   763  3000  22.644531   2.994827        116  1.469491e+09       0   \n",
       "10947   11   776  3000  22.593040   2.974642        117  1.469491e+09       0   \n",
       "11038   11   763  3000  22.632175   2.936602        118  1.469491e+09       0   \n",
       "11316   12   763  2974  22.567966   2.551668        121  1.469491e+09       0   \n",
       "11609   13   788  2924  22.557919   2.518734        124  1.469491e+09       0   \n",
       "11806   12   789  2911  22.525316   2.452885        126  1.469491e+09       0   \n",
       "12092   12   814  2899  22.525415   2.371914        129  1.469491e+09       0   \n",
       "12192   12   814  2899  22.522339   2.341859        130  1.469491e+09       0   \n",
       "12480   13   814  2899  22.528908   2.407945        133  1.469491e+09       0   \n",
       "12678   14   826  2911  22.566433   2.455426        135  1.469491e+09       0   \n",
       "12880   12   826  2912  22.571379   2.440655        137  1.469491e+09       0   \n",
       "12977   11   826  2912  22.568136   2.448665        138  1.469491e+09       0   \n",
       "...    ...   ...   ...        ...        ...        ...           ...     ...   \n",
       "82008   10   763  2962  22.796833  -2.177229        845  1.469491e+09       0   \n",
       "82106   11   762  2962  22.771370  -2.174377        846  1.469491e+09       0   \n",
       "82204   11   762  2962  22.782644  -2.084851        847  1.469491e+09       0   \n",
       "82302   10   763  2950  22.719778  -2.046700        848  1.469491e+09       0   \n",
       "82398   10   763  2950  22.718647  -2.046202        849  1.469491e+09       0   \n",
       "82494   11   762  2962  22.783279  -2.136362        850  1.469491e+09       0   \n",
       "82590   11   762  2962  22.815599  -2.155451        851  1.469491e+09       0   \n",
       "82682   11   762  2962  22.786667  -2.112665        852  1.469491e+09       0   \n",
       "82776   10   763  2962  22.747829  -2.048728        853  1.469491e+09       0   \n",
       "83234   10   750  2962  22.677671  -2.221208        858  1.469491e+09       0   \n",
       "83330   11   750  2962  22.693420  -2.202957        859  1.469491e+09       0   \n",
       "83426   10   750  2962  22.718332  -2.355562        860  1.469491e+09       0   \n",
       "83522   10   750  2962  22.678940  -2.263805        861  1.469491e+09       0   \n",
       "83719   11   763  2962  22.858686  -2.246524        863  1.469491e+09       0   \n",
       "83818   11   762  2961  22.820463  -2.272255        864  1.469491e+09       0   \n",
       "83918   11   763  2949  22.724739  -2.140325        865  1.469491e+09       0   \n",
       "84016    9   763  2962  22.826054  -2.207163        866  1.469491e+09       0   \n",
       "84118   11   750  2962  22.713348  -2.180561        867  1.469491e+09       0   \n",
       "84219   12   750  2962  22.726639  -2.227483        868  1.469491e+09       0   \n",
       "84320   12   763  2962  22.801277  -2.226874        869  1.469491e+09       0   \n",
       "84421   11   763  2962  22.841263  -2.339734        870  1.469491e+09       0   \n",
       "84519    9   763  2962  22.744865  -2.192425        871  1.469491e+09       0   \n",
       "84725   11   763  2962  22.718185  -2.237756        873  1.469491e+09       0   \n",
       "84938   11   762  2974  22.835958  -2.332557        875  1.469491e+09       0   \n",
       "86082    8   763  2950  22.741299  -1.781375        886  1.469491e+09       0   \n",
       "86190    9   762  2962  22.836281  -1.773392        887  1.469491e+09       0   \n",
       "86294    8   750  2962  22.766636  -1.979918        888  1.469491e+09       0   \n",
       "86396    9   750  2962  22.734930  -2.084095        889  1.469491e+09       0   \n",
       "86499    9   750  2962  22.742695  -2.209058        890  1.469491e+09       0   \n",
       "86601    8   750  2962  22.720615  -2.210629        891  1.469491e+09       0   \n",
       "\n",
       "                      fc_id              frame_id  confidence   id  \n",
       "5940   10523462747265020228  10368079611057354619    0.976471  888  \n",
       "6308   10523462747265020228  11915520625460728690    0.992157  888  \n",
       "6399   10523462747265020228  13810404924703824888    1.000000  888  \n",
       "6860   10523462747265020228  11925896762619940184    0.976471  888  \n",
       "9194   10523462747265020228  13723425205579074769    0.976471  888  \n",
       "9285   10523462747265020228   9458712840975548762    0.968627  888  \n",
       "9377   10523462747265020228  11460501446706551243    0.992157  888  \n",
       "9466   10523462747265020228  15441285705509221907    1.000000  888  \n",
       "9557   10523462747265020228  10297576646843793508    1.000000  888  \n",
       "9648   10523462747265020228  10730338510913452884    1.000000  888  \n",
       "9831   10523462747265020228  14780866759570994514    1.000000  888  \n",
       "9922   10523462747265020228  15895829323467159551    0.984314  888  \n",
       "10015  10523462747265020228  10915126807438355451    0.992157  888  \n",
       "10105  10523462747265020228   9590323184973564641    0.984314  888  \n",
       "10475  10523462747265020228   9660977363681276970    0.968627  888  \n",
       "10572  10523462747265020228  15386102289739210048    0.984314  888  \n",
       "10667  10523462747265020228  15223272745877976064    1.000000  888  \n",
       "10761  10523462747265020228  11235680777945771326    1.000000  888  \n",
       "10854  10523462747265020228  16844461944732644534    1.000000  888  \n",
       "10947  10523462747265020228  12238990134703958641    1.000000  888  \n",
       "11038  10523462747265020228  11894273739150791498    1.000000  888  \n",
       "11316  10523462747265020228  16619894357702719743    0.992157  888  \n",
       "11609  10523462747265020228  10231635683087521913    0.976471  888  \n",
       "11806  10523462747265020228  16880050365378688536    0.960784  888  \n",
       "12092  10523462747265020228  15376318309177765590    0.976471  888  \n",
       "12192  10523462747265020228  17619179700877804305    0.952941  888  \n",
       "12480  10523462747265020228  15594669015060775067    0.952941  888  \n",
       "12678  10523462747265020228  16411117315223766016    0.976471  888  \n",
       "12880  10523462747265020228  15710075439080908161    0.968627  888  \n",
       "12977  10523462747265020228  14679611298183039398    0.960784  888  \n",
       "...                     ...                   ...         ...  ...  \n",
       "82008  12744799190194619805  13043512932265831064    1.000000  888  \n",
       "82106  12744799190194619805  12367626385859117661    1.000000  888  \n",
       "82204  12744799190194619805  11785922675046163818    1.000000  888  \n",
       "82302  12744799190194619805   9818681838965674434    1.000000  888  \n",
       "82398  12744799190194619805  17691090583542120174    1.000000  888  \n",
       "82494  12744799190194619805  13327815292088511372    0.992157  888  \n",
       "82590  12744799190194619805  10095089796161221424    1.000000  888  \n",
       "82682  12744799190194619805  15409409386739036983    1.000000  888  \n",
       "82776  12744799190194619805   9447051369698033673    1.000000  888  \n",
       "83234  12744799190194619805  13600658514806306455    0.960784  888  \n",
       "83330  12744799190194619805  16215100215927738360    0.984314  888  \n",
       "83426  12744799190194619805  13012963301025196160    0.952941  888  \n",
       "83522  12744799190194619805  11042941975261295603    0.960784  888  \n",
       "83719  12744799190194619805  14249617361928243469    0.992157  888  \n",
       "83818  12744799190194619805  13070050201552488548    0.968627  888  \n",
       "83918  12744799190194619805  16718138216084650495    1.000000  888  \n",
       "84016  12744799190194619805  13639949713977187344    1.000000  888  \n",
       "84118  12744799190194619805  17090283837540123569    1.000000  888  \n",
       "84219  12744799190194619805  12799124548320715628    0.968627  888  \n",
       "84320  12744799190194619805   9730079741343268903    1.000000  888  \n",
       "84421  12744799190194619805  13150696985187438197    0.960784  888  \n",
       "84519  12744799190194619805  14775037388771045083    0.992157  888  \n",
       "84725  12744799190194619805  15403945350296916769    0.984314  888  \n",
       "84938  12744799190194619805  16531087972624348302    0.968627  888  \n",
       "86082  12744799190194619805  14719851208947392367    1.000000  888  \n",
       "86190  12744799190194619805  11374836374460336271    1.000000  888  \n",
       "86294  12744799190194619805  11941175019322707422    1.000000  888  \n",
       "86396  12744799190194619805  16548259594797208596    1.000000  888  \n",
       "86499  12744799190194619805  14064181320879077861    0.992157  888  \n",
       "86601  12744799190194619805  10996641109919488818    1.000000  888  \n",
       "\n",
       "[477 rows x 12 columns]"
      ]
     },
     "execution_count": 9,
     "metadata": {},
     "output_type": "execute_result"
    },
    {
     "data": {
      "text/html": [
       "<b>limit_output extension: Maximum message size of 10000 exceeded with 20225 characters</b>"
      ]
     },
     "metadata": {},
     "output_type": "display_data"
    }
   ],
   "source": [
    "res"
   ]
  },
  {
   "cell_type": "markdown",
   "metadata": {
    "collapsed": true
   },
   "source": [
    "# Read Frequency from file and plot"
   ]
  },
  {
   "cell_type": "code",
   "execution_count": 4,
   "metadata": {
    "ExecuteTime": {
     "end_time": "2017-03-10T11:03:00.954615",
     "start_time": "2017-03-10T11:03:00.704010"
    },
    "collapsed": false
   },
   "outputs": [],
   "source": [
    "def plotHist(df, ex):\n",
    "    df = df[df.id.isin(ex) == False]\n",
    "    fig, ax = plt.subplots()\n",
    "    df[df.age < 0].freq.hist(bins=100, ax=ax)\n",
    "    ax.set_xlim((0,200000))\n",
    "    ax.set_yscale('log')\n",
    "    print('Negative Age:')\n",
    "    print('mean ',df[df.age < 0].freq.mean())\n",
    "    print('median ', df[df.age < 0].freq.median())\n",
    "    print('mode ', df[df.age < 0].freq.mode())\n",
    "\n",
    "    fig, ax = plt.subplots()\n",
    "    df[df.age >= 0].freq.hist(bins=100, ax=ax)\n",
    "    #ax.set_yscale('log')\n",
    "    ax.set_xlim((0,200000))\n",
    "    print(df[df.age >= 0].freq.mean())\n",
    "    print(df[df.age >= 0].freq.median())\n",
    "    print(df[df.age >= 0].freq.mode())\n",
    "    \n",
    "    fig, ax = plt.subplots()\n",
    "    df.freq.hist(bins=100, ax=ax)\n",
    "    #ax.set_yscale('log')\n",
    "    ax.set_xlim((0,200000))\n",
    "    print(df.freq.mean())\n",
    "    print(df.freq.median())\n",
    "    print(df.freq.mode())\n",
    "\n",
    "    return df"
   ]
  },
  {
   "cell_type": "code",
   "execution_count": 5,
   "metadata": {
    "ExecuteTime": {
     "end_time": "2017-03-10T11:03:01.022343",
     "start_time": "2017-03-10T11:03:00.958808"
    },
    "collapsed": true
   },
   "outputs": [],
   "source": [
    "def addAge(df, start_dt):\n",
    "    aa = ht.get_all_bees_age(start_dt)\n",
    "    df[\"age\"] = df[\"id\"].apply(lambda x: aa.iloc[x].age)"
   ]
  },
  {
   "cell_type": "markdown",
   "metadata": {},
   "source": [
    "# 14.08.2016"
   ]
  },
  {
   "cell_type": "code",
   "execution_count": 45,
   "metadata": {
    "ExecuteTime": {
     "end_time": "2017-03-07T21:16:29.784734",
     "start_time": "2017-03-07T21:16:25.212508"
    },
    "collapsed": false
   },
   "outputs": [
    {
     "name": "stdout",
     "output_type": "stream",
     "text": [
      "Negative Age:\n",
      "mean  764.566929134\n",
      "median  385.0\n",
      "mode  0    121\n",
      "dtype: int64\n",
      "33813.377558\n",
      "1402.0\n",
      "0    62\n",
      "dtype: int64\n",
      "24543.4903067\n",
      "772.0\n",
      "0    31\n",
      "1    39\n",
      "2    62\n",
      "dtype: int64\n"
     ]
    },
    {
     "data": {
      "text/plain": [
       "5509.519999999975"
      ]
     },
     "execution_count": 45,
     "metadata": {},
     "output_type": "execute_result"
    },
    {
     "data": {
      "image/png": "[encoded data removed]",
      "text/plain": [
       "<matplotlib.figure.Figure at 0x7f427d6d0390>"
      ]
     },
     "metadata": {},
     "output_type": "display_data"
    },
    {
     "data": {
      "image/png": "[encoded data removed]",
      "text/plain": [
       "<matplotlib.figure.Figure at 0x7f427d6c62e8>"
      ]
     },
     "metadata": {},
     "output_type": "display_data"
    },
    {
     "data": {
      "image/png": "[encoded data removed]",
      "text/plain": [
       "<matplotlib.figure.Figure at 0x7f427797cb38>"
      ]
     },
     "metadata": {},
     "output_type": "display_data"
    }
   ],
   "source": [
    "f = pd.read_csv('ID_frequencies_2016-08-14_95conf_24h.csv', header=None, names=['id', 'freq'])\n",
    "start_dt = datetime.datetime.strptime(\"2016-08-14\", \"%Y-%m-%d\").replace(tzinfo=pytz.UTC)\n",
    "addAge(f, start_dt)\n",
    "f = plotHist(f, ex)\n",
    "np.percentile(f[f.age < 0].freq, q=99)"
   ]
  },
  {
   "cell_type": "code",
   "execution_count": 46,
   "metadata": {
    "ExecuteTime": {
     "end_time": "2017-03-07T21:17:15.931761",
     "start_time": "2017-03-07T21:17:15.907251"
    },
    "collapsed": false
   },
   "outputs": [
    {
     "name": "stdout",
     "output_type": "stream",
     "text": [
      "1748\n",
      "1131\n",
      "1196\n"
     ]
    }
   ],
   "source": [
    "print(len(f.query('age >= 0 & freq < 5510')))\n",
    "\n",
    "print(len(f.query('age < 0 & freq < 5510')))\n",
    "\n",
    "print(len(f.query('freq >= 5510')))"
   ]
  },
  {
   "cell_type": "code",
   "execution_count": 47,
   "metadata": {
    "ExecuteTime": {
     "end_time": "2017-03-07T21:17:20.411053",
     "start_time": "2017-03-07T21:17:20.396766"
    },
    "collapsed": false
   },
   "outputs": [
    {
     "data": {
      "text/html": [
       "<div>\n",
       "<table border=\"1\" class=\"dataframe\">\n",
       "  <thead>\n",
       "    <tr style=\"text-align: right;\">\n",
       "      <th></th>\n",
       "      <th>id</th>\n",
       "      <th>freq</th>\n",
       "      <th>age</th>\n",
       "    </tr>\n",
       "  </thead>\n",
       "  <tbody>\n",
       "  </tbody>\n",
       "</table>\n",
       "</div>"
      ],
      "text/plain": [
       "Empty DataFrame\n",
       "Columns: [id, freq, age]\n",
       "Index: []"
      ]
     },
     "execution_count": 47,
     "metadata": {},
     "output_type": "execute_result"
    }
   ],
   "source": [
    "f.query('age < 0 & freq > 10000')"
   ]
  },
  {
   "cell_type": "code",
   "execution_count": 48,
   "metadata": {
    "ExecuteTime": {
     "end_time": "2017-03-07T21:17:34.292641",
     "start_time": "2017-03-07T21:17:34.275412"
    },
    "collapsed": false
   },
   "outputs": [],
   "source": [
    "f.query('freq >= 5510').id.to_csv('IDlist_2016-08-14_95conf_24h.csv')"
   ]
  },
  {
   "cell_type": "markdown",
   "metadata": {},
   "source": [
    "# 17.08.2016"
   ]
  },
  {
   "cell_type": "code",
   "execution_count": 49,
   "metadata": {
    "ExecuteTime": {
     "end_time": "2017-03-07T21:17:44.492892",
     "start_time": "2017-03-07T21:17:39.971046"
    },
    "collapsed": false
   },
   "outputs": [
    {
     "name": "stdout",
     "output_type": "stream",
     "text": [
      "Negative Age:\n",
      "mean  742.342427093\n",
      "median  403.0\n",
      "mode  0    62\n",
      "dtype: int64\n",
      "29495.0796813\n",
      "1072.0\n",
      "0    91\n",
      "dtype: int64\n",
      "21994.6723926\n",
      "691.0\n",
      "0    107\n",
      "dtype: int64\n",
      "5301.4\n"
     ]
    },
    {
     "data": {
      "text/html": [
       "<div>\n",
       "<table border=\"1\" class=\"dataframe\">\n",
       "  <thead>\n",
       "    <tr style=\"text-align: right;\">\n",
       "      <th></th>\n",
       "      <th>id</th>\n",
       "      <th>freq</th>\n",
       "      <th>age</th>\n",
       "    </tr>\n",
       "  </thead>\n",
       "  <tbody>\n",
       "  </tbody>\n",
       "</table>\n",
       "</div>"
      ],
      "text/plain": [
       "Empty DataFrame\n",
       "Columns: [id, freq, age]\n",
       "Index: []"
      ]
     },
     "execution_count": 49,
     "metadata": {},
     "output_type": "execute_result"
    },
    {
     "data": {
      "image/png": "[encoded data removed]",
      "text/plain": [
       "<matplotlib.figure.Figure at 0x7f427765bba8>"
      ]
     },
     "metadata": {},
     "output_type": "display_data"
    },
    {
     "data": {
      "image/png": "[encoded data removed]",
      "text/plain": [
       "<matplotlib.figure.Figure at 0x7f4277a20b70>"
      ]
     },
     "metadata": {},
     "output_type": "display_data"
    },
    {
     "data": {
      "image/png": "[encoded data removed]",
      "text/plain": [
       "<matplotlib.figure.Figure at 0x7f427d9145f8>"
      ]
     },
     "metadata": {},
     "output_type": "display_data"
    }
   ],
   "source": [
    "f = pd.read_csv(\"ID_frequencies_2016-08-17_95conf_24h.csv\", header=None, names=['id', 'freq'])\n",
    "\n",
    "start_dt1 = datetime.datetime.strptime(\"2016-08-17\", \"%Y-%m-%d\").replace(tzinfo=pytz.UTC)\n",
    "\n",
    "addAge(f, start_dt1)\n",
    "\n",
    "f = plotHist(f, ex)\n",
    "\n",
    "print(np.percentile(f[f.age < 0].freq, q=99))\n",
    "\n",
    "f.query('age < 0 & freq > 10000')"
   ]
  },
  {
   "cell_type": "code",
   "execution_count": 50,
   "metadata": {
    "ExecuteTime": {
     "end_time": "2017-03-07T21:18:01.767468",
     "start_time": "2017-03-07T21:18:01.741607"
    },
    "collapsed": false
   },
   "outputs": [
    {
     "name": "stdout",
     "output_type": "stream",
     "text": [
      "1926\n",
      "1052\n",
      "1097\n"
     ]
    }
   ],
   "source": [
    "print(len(f.query('age >= 0 & freq < 5301')))\n",
    "print(len(f.query('age < 0 & freq < 5301')))\n",
    "print(len(f.query('freq >= 5301')))"
   ]
  },
  {
   "cell_type": "code",
   "execution_count": 51,
   "metadata": {
    "ExecuteTime": {
     "end_time": "2017-03-07T21:18:07.917518",
     "start_time": "2017-03-07T21:18:07.899701"
    },
    "collapsed": true
   },
   "outputs": [],
   "source": [
    "f.query('freq >= 5301').id.to_csv('IDlist_2016-08-17_95conf_24h.csv')"
   ]
  },
  {
   "cell_type": "markdown",
   "metadata": {},
   "source": [
    "# 20.08.2016"
   ]
  },
  {
   "cell_type": "code",
   "execution_count": 58,
   "metadata": {
    "ExecuteTime": {
     "end_time": "2017-03-07T21:21:17.543381",
     "start_time": "2017-03-07T21:21:17.530808"
    },
    "collapsed": false
   },
   "outputs": [],
   "source": [
    "f = pd.read_csv(\"ID_frequencies_2016-08-20_95conf_24h.csv\", header=None, names=['id', 'freq'])"
   ]
  },
  {
   "cell_type": "code",
   "execution_count": 60,
   "metadata": {
    "ExecuteTime": {
     "end_time": "2017-03-07T21:21:54.481732",
     "start_time": "2017-03-07T21:21:50.901972"
    },
    "collapsed": false
   },
   "outputs": [
    {
     "name": "stdout",
     "output_type": "stream",
     "text": [
      "Negative Age:\n",
      "mean  515.737535278\n",
      "median  230.0\n",
      "mode  0    55\n",
      "dtype: int64\n",
      "25753.4757636\n",
      "470.0\n",
      "0    51\n",
      "dtype: int64\n",
      "19169.9872393\n",
      "341.0\n",
      "0    55\n",
      "dtype: int64\n",
      "4595.9\n"
     ]
    },
    {
     "data": {
      "text/html": [
       "<div>\n",
       "<table border=\"1\" class=\"dataframe\">\n",
       "  <thead>\n",
       "    <tr style=\"text-align: right;\">\n",
       "      <th></th>\n",
       "      <th>id</th>\n",
       "      <th>freq</th>\n",
       "      <th>age</th>\n",
       "    </tr>\n",
       "  </thead>\n",
       "  <tbody>\n",
       "  </tbody>\n",
       "</table>\n",
       "</div>"
      ],
      "text/plain": [
       "Empty DataFrame\n",
       "Columns: [id, freq, age]\n",
       "Index: []"
      ]
     },
     "execution_count": 60,
     "metadata": {},
     "output_type": "execute_result"
    },
    {
     "data": {
      "image/png": "[encoded data removed]",
      "text/plain": [
       "<matplotlib.figure.Figure at 0x7f427db41e48>"
      ]
     },
     "metadata": {},
     "output_type": "display_data"
    },
    {
     "data": {
      "image/png": "[encoded data removed]",
      "text/plain": [
       "<matplotlib.figure.Figure at 0x7f427d87b940>"
      ]
     },
     "metadata": {},
     "output_type": "display_data"
    },
    {
     "data": {
      "image/png": "[encoded data removed]",
      "text/plain": [
       "<matplotlib.figure.Figure at 0x7f42778dbb38>"
      ]
     },
     "metadata": {},
     "output_type": "display_data"
    }
   ],
   "source": [
    "start_dt1 = datetime.datetime.strptime(\"2016-08-20\", \"%Y-%m-%d\").replace(tzinfo=pytz.UTC)\n",
    "\n",
    "addAge(f, start_dt1)\n",
    "f = plotHist(f, ex)\n",
    "\n",
    "print(np.percentile(f[f.age < 0].freq, q=99))\n",
    "\n",
    "f.query('age < 0 & freq > 10000')"
   ]
  },
  {
   "cell_type": "code",
   "execution_count": 61,
   "metadata": {
    "ExecuteTime": {
     "end_time": "2017-03-07T21:22:16.644916",
     "start_time": "2017-03-07T21:22:16.616452"
    },
    "collapsed": false
   },
   "outputs": [
    {
     "name": "stdout",
     "output_type": "stream",
     "text": [
      "2100\n",
      "1052\n",
      "923\n"
     ]
    }
   ],
   "source": [
    "print(len(f.query('age >= 0 & freq < 4596')))\n",
    "print(len(f.query('age < 0 & freq < 4596')))\n",
    "print(len(f.query('freq >= 4596')))"
   ]
  },
  {
   "cell_type": "code",
   "execution_count": 62,
   "metadata": {
    "ExecuteTime": {
     "end_time": "2017-03-07T21:22:25.031127",
     "start_time": "2017-03-07T21:22:25.015269"
    },
    "collapsed": true
   },
   "outputs": [],
   "source": [
    "f.query('freq >= 4596').id.to_csv('IDlist_2016-08-20_95conf_24h.csv')"
   ]
  },
  {
   "cell_type": "markdown",
   "metadata": {},
   "source": [
    "# 02.09.2016"
   ]
  },
  {
   "cell_type": "code",
   "execution_count": 67,
   "metadata": {
    "ExecuteTime": {
     "end_time": "2017-03-07T21:25:42.614994",
     "start_time": "2017-03-07T21:25:38.926540"
    },
    "collapsed": false,
    "scrolled": false
   },
   "outputs": [
    {
     "name": "stdout",
     "output_type": "stream",
     "text": [
      "Negative Age:\n",
      "mean  187.104143337\n",
      "median  35.0\n",
      "mode  0    3\n",
      "dtype: int64\n",
      "10334.8271527\n",
      "45.5\n",
      "0    2\n",
      "dtype: int64\n",
      "8111.04392638\n",
      "43.0\n",
      "0    2\n",
      "dtype: int64\n",
      "2135.2\n"
     ]
    },
    {
     "data": {
      "text/html": [
       "<div>\n",
       "<table border=\"1\" class=\"dataframe\">\n",
       "  <thead>\n",
       "    <tr style=\"text-align: right;\">\n",
       "      <th></th>\n",
       "      <th>id</th>\n",
       "      <th>freq</th>\n",
       "      <th>age</th>\n",
       "    </tr>\n",
       "  </thead>\n",
       "  <tbody>\n",
       "    <tr>\n",
       "      <th>2372</th>\n",
       "      <td>2372</td>\n",
       "      <td>5111</td>\n",
       "      <td>-100</td>\n",
       "    </tr>\n",
       "  </tbody>\n",
       "</table>\n",
       "</div>"
      ],
      "text/plain": [
       "        id  freq  age\n",
       "2372  2372  5111 -100"
      ]
     },
     "execution_count": 67,
     "metadata": {},
     "output_type": "execute_result"
    },
    {
     "data": {
      "image/png": "[encoded data removed]",
      "text/plain": [
       "<matplotlib.figure.Figure at 0x7f42776c3668>"
      ]
     },
     "metadata": {},
     "output_type": "display_data"
    },
    {
     "data": {
      "image/png": "[encoded data removed]",
      "text/plain": [
       "<matplotlib.figure.Figure at 0x7f427dab7b00>"
      ]
     },
     "metadata": {},
     "output_type": "display_data"
    },
    {
     "data": {
      "image/png": "[encoded data removed]",
      "text/plain": [
       "<matplotlib.figure.Figure at 0x7f427d6dea90>"
      ]
     },
     "metadata": {},
     "output_type": "display_data"
    }
   ],
   "source": [
    "f = pd.read_csv(\"ID_frequencies_2016-09-02_95conf_24h.csv\", header=None, names=['id', 'freq'])\n",
    "\n",
    "start_dt1 = datetime.datetime.strptime(\"2016-09-02\", \"%Y-%m-%d\").replace(tzinfo=pytz.UTC)\n",
    "\n",
    "addAge(f, start_dt1)\n",
    "f= plotHist(f, ex)\n",
    "\n",
    "print(np.percentile(f[f.age < 0].freq, q=99))\n",
    "\n",
    "f.query('age < 0 & freq > 5000')"
   ]
  },
  {
   "cell_type": "code",
   "execution_count": 64,
   "metadata": {
    "ExecuteTime": {
     "end_time": "2017-03-07T21:23:12.367054",
     "start_time": "2017-03-07T21:23:12.343336"
    },
    "collapsed": false
   },
   "outputs": [
    {
     "name": "stdout",
     "output_type": "stream",
     "text": [
      "2807\n",
      "884\n",
      "384\n"
     ]
    }
   ],
   "source": [
    "print(len(f.query('age >= 0 & freq < 2135')))\n",
    "print(len(f.query('age < 0 & freq < 2135')))\n",
    "print(len(f.query('freq >= 2135')))\n",
    "\n",
    "f.query('freq >= 2135').id.to_csv('IDlist_2016-09-02_95conf_24h.csv')"
   ]
  },
  {
   "cell_type": "markdown",
   "metadata": {},
   "source": [
    "# 08_13_10"
   ]
  },
  {
   "cell_type": "code",
   "execution_count": 22,
   "metadata": {
    "ExecuteTime": {
     "end_time": "2017-03-10T11:10:05.344768",
     "start_time": "2017-03-10T11:10:01.325446"
    },
    "collapsed": false
   },
   "outputs": [
    {
     "name": "stdout",
     "output_type": "stream",
     "text": [
      "Negative Age:\n",
      "mean  751.032399299\n",
      "median  398.0\n",
      "mode  0    164\n",
      "dtype: int64\n",
      "34043.8100273\n",
      "1672.0\n",
      "0    60\n",
      "dtype: int64\n",
      "24711.3721159\n",
      "839.5\n",
      "0    60\n",
      "1    69\n",
      "dtype: int64\n",
      "5776.93\n"
     ]
    },
    {
     "data": {
      "text/html": [
       "<div>\n",
       "<table border=\"1\" class=\"dataframe\">\n",
       "  <thead>\n",
       "    <tr style=\"text-align: right;\">\n",
       "      <th></th>\n",
       "      <th>id</th>\n",
       "      <th>freq</th>\n",
       "      <th>age</th>\n",
       "    </tr>\n",
       "  </thead>\n",
       "  <tbody>\n",
       "  </tbody>\n",
       "</table>\n",
       "</div>"
      ],
      "text/plain": [
       "Empty DataFrame\n",
       "Columns: [id, freq, age]\n",
       "Index: []"
      ]
     },
     "execution_count": 22,
     "metadata": {},
     "output_type": "execute_result"
    },
    {
     "data": {
      "image/png": "[encoded data removed]",
      "text/plain": [
       "<matplotlib.figure.Figure at 0x7f3e60185ac8>"
      ]
     },
     "metadata": {},
     "output_type": "display_data"
    },
    {
     "data": {
      "image/png": "[encoded data removed]",
      "text/plain": [
       "<matplotlib.figure.Figure at 0x7f3e6013c940>"
      ]
     },
     "metadata": {},
     "output_type": "display_data"
    },
    {
     "data": {
      "image/png": "[encoded data removed]",
      "text/plain": [
       "<matplotlib.figure.Figure at 0x7f3e487c57f0>"
      ]
     },
     "metadata": {},
     "output_type": "display_data"
    }
   ],
   "source": [
    "f = pd.read_csv(\"ID_frequencies_2016-08-13_95conf_24h.csv\", header=None, names=['id', 'freq'])\n",
    "\n",
    "start_dt1 = datetime.datetime.strptime(\"2016-08-13\", \"%Y-%m-%d\").replace(tzinfo=pytz.UTC)\n",
    "\n",
    "addAge(f, start_dt1)\n",
    "f= plotHist(f, ex)\n",
    "\n",
    "print(np.percentile(f[f.age < 0].freq, q=99))\n",
    "\n",
    "f.query('age < 0 & freq > 10000')"
   ]
  },
  {
   "cell_type": "code",
   "execution_count": 23,
   "metadata": {
    "ExecuteTime": {
     "end_time": "2017-03-10T11:10:28.016172",
     "start_time": "2017-03-10T11:10:27.994127"
    },
    "collapsed": false
   },
   "outputs": [
    {
     "name": "stdout",
     "output_type": "stream",
     "text": [
      "1699\n",
      "1130\n",
      "1245\n"
     ]
    }
   ],
   "source": [
    "print(len(f.query('age >= 0 & freq < 5777')))\n",
    "print(len(f.query('age < 0 & freq < 5777')))\n",
    "print(len(f.query('freq >= 5777')))\n",
    "\n",
    "f.query('freq >= 5777').id.to_csv('IDlist_2016-08-13_95conf_24h.csv')"
   ]
  },
  {
   "cell_type": "markdown",
   "metadata": {},
   "source": [
    "# 2016_08_16"
   ]
  },
  {
   "cell_type": "code",
   "execution_count": 25,
   "metadata": {
    "ExecuteTime": {
     "end_time": "2017-03-10T11:11:14.894199",
     "start_time": "2017-03-10T11:11:10.825959"
    },
    "collapsed": false
   },
   "outputs": [
    {
     "name": "stdout",
     "output_type": "stream",
     "text": [
      "Negative Age:\n",
      "mean  759.435028249\n",
      "median  431.0\n",
      "mode  0    34\n",
      "dtype: int64\n",
      "29696.4541833\n",
      "1370.5\n",
      "0    40\n",
      "dtype: int64\n",
      "22153.2253314\n",
      "783.0\n",
      "0    40\n",
      "dtype: int64\n",
      "5184.0\n"
     ]
    },
    {
     "data": {
      "text/html": [
       "<div>\n",
       "<table border=\"1\" class=\"dataframe\">\n",
       "  <thead>\n",
       "    <tr style=\"text-align: right;\">\n",
       "      <th></th>\n",
       "      <th>id</th>\n",
       "      <th>freq</th>\n",
       "      <th>age</th>\n",
       "    </tr>\n",
       "  </thead>\n",
       "  <tbody>\n",
       "  </tbody>\n",
       "</table>\n",
       "</div>"
      ],
      "text/plain": [
       "Empty DataFrame\n",
       "Columns: [id, freq, age]\n",
       "Index: []"
      ]
     },
     "execution_count": 25,
     "metadata": {},
     "output_type": "execute_result"
    },
    {
     "data": {
      "image/png": "[encoded data removed]",
      "text/plain": [
       "<matplotlib.figure.Figure at 0x7f3e4836e3c8>"
      ]
     },
     "metadata": {},
     "output_type": "display_data"
    },
    {
     "data": {
      "image/png": "[encoded data removed]",
      "text/plain": [
       "<matplotlib.figure.Figure at 0x7f3e6034fda0>"
      ]
     },
     "metadata": {},
     "output_type": "display_data"
    },
    {
     "data": {
      "image/png": "[encoded data removed]",
      "text/plain": [
       "<matplotlib.figure.Figure at 0x7f3e48189828>"
      ]
     },
     "metadata": {},
     "output_type": "display_data"
    }
   ],
   "source": [
    "f = pd.read_csv(\"ID_frequencies_2016-08-16_95conf_24h.csv\", header=None, names=['id', 'freq'])\n",
    "\n",
    "start_dt1 = datetime.datetime.strptime(\"2016-08-16\", \"%Y-%m-%d\").replace(tzinfo=pytz.UTC)\n",
    "\n",
    "addAge(f, start_dt1)\n",
    "f= plotHist(f, ex)\n",
    "\n",
    "print(np.percentile(f[f.age < 0].freq, q=99))\n",
    "\n",
    "f.query('age < 0 & freq > 10000')"
   ]
  },
  {
   "cell_type": "code",
   "execution_count": 26,
   "metadata": {
    "ExecuteTime": {
     "end_time": "2017-03-10T11:11:52.459888",
     "start_time": "2017-03-10T11:11:52.432360"
    },
    "collapsed": false
   },
   "outputs": [
    {
     "name": "stdout",
     "output_type": "stream",
     "text": [
      "1853\n",
      "1051\n",
      "1170\n"
     ]
    }
   ],
   "source": [
    "print(len(f.query('age >= 0 & freq < 5184')))\n",
    "print(len(f.query('age < 0 & freq < 5184')))\n",
    "print(len(f.query('freq >= 5184')))"
   ]
  },
  {
   "cell_type": "code",
   "execution_count": 27,
   "metadata": {
    "ExecuteTime": {
     "end_time": "2017-03-10T11:12:00.800772",
     "start_time": "2017-03-10T11:12:00.786365"
    },
    "collapsed": true
   },
   "outputs": [],
   "source": [
    "f.query('freq >= 5184').id.to_csv('IDlist_2016-08-16_95conf_24h.csv')"
   ]
  },
  {
   "cell_type": "markdown",
   "metadata": {},
   "source": [
    "# 2016_08_22"
   ]
  },
  {
   "cell_type": "code",
   "execution_count": 28,
   "metadata": {
    "ExecuteTime": {
     "end_time": "2017-03-10T11:12:10.442689",
     "start_time": "2017-03-10T11:12:06.469833"
    },
    "collapsed": false
   },
   "outputs": [
    {
     "name": "stdout",
     "output_type": "stream",
     "text": [
      "Negative Age:\n",
      "mean  496.219537815\n",
      "median  251.0\n",
      "mode  0    58\n",
      "1    62\n",
      "dtype: int64\n",
      "22371.470852\n",
      "519.5\n",
      "0    83\n",
      "dtype: int64\n",
      "17259.7282769\n",
      "395.5\n",
      "0    83\n",
      "dtype: int64\n",
      "4112.73\n"
     ]
    },
    {
     "data": {
      "text/html": [
       "<div>\n",
       "<table border=\"1\" class=\"dataframe\">\n",
       "  <thead>\n",
       "    <tr style=\"text-align: right;\">\n",
       "      <th></th>\n",
       "      <th>id</th>\n",
       "      <th>freq</th>\n",
       "      <th>age</th>\n",
       "    </tr>\n",
       "  </thead>\n",
       "  <tbody>\n",
       "  </tbody>\n",
       "</table>\n",
       "</div>"
      ],
      "text/plain": [
       "Empty DataFrame\n",
       "Columns: [id, freq, age]\n",
       "Index: []"
      ]
     },
     "execution_count": 28,
     "metadata": {},
     "output_type": "execute_result"
    },
    {
     "data": {
      "image/png": "[encoded data removed]",
      "text/plain": [
       "<matplotlib.figure.Figure at 0x7f3e483c14a8>"
      ]
     },
     "metadata": {},
     "output_type": "display_data"
    },
    {
     "data": {
      "image/png": "[encoded data removed]",
      "text/plain": [
       "<matplotlib.figure.Figure at 0x7f3e4864fcf8>"
      ]
     },
     "metadata": {},
     "output_type": "display_data"
    },
    {
     "data": {
      "image/png": "[encoded data removed]",
      "text/plain": [
       "<matplotlib.figure.Figure at 0x7f3e600253c8>"
      ]
     },
     "metadata": {},
     "output_type": "display_data"
    }
   ],
   "source": [
    "f = pd.read_csv(\"ID_frequencies_2016-08-22_95conf_24h.csv\", header=None, names=['id', 'freq'])\n",
    "\n",
    "start_dt1 = datetime.datetime.strptime(\"2016-08-22\", \"%Y-%m-%d\").replace(tzinfo=pytz.UTC)\n",
    "\n",
    "addAge(f, start_dt1)\n",
    "f= plotHist(f, ex)\n",
    "\n",
    "print(np.percentile(f[f.age < 0].freq, q=99))\n",
    "\n",
    "f.query('age < 0 & freq > 10000')"
   ]
  },
  {
   "cell_type": "code",
   "execution_count": 29,
   "metadata": {
    "ExecuteTime": {
     "end_time": "2017-03-10T11:12:39.735402",
     "start_time": "2017-03-10T11:12:39.707942"
    },
    "collapsed": false
   },
   "outputs": [
    {
     "name": "stdout",
     "output_type": "stream",
     "text": [
      "2154\n",
      "942\n",
      "978\n"
     ]
    }
   ],
   "source": [
    "print(len(f.query('age >= 0 & freq < 4113')))\n",
    "print(len(f.query('age < 0 & freq < 4113')))\n",
    "print(len(f.query('freq >= 4113')))"
   ]
  },
  {
   "cell_type": "code",
   "execution_count": 30,
   "metadata": {
    "ExecuteTime": {
     "end_time": "2017-03-10T11:12:44.227402",
     "start_time": "2017-03-10T11:12:44.207881"
    },
    "collapsed": true
   },
   "outputs": [],
   "source": [
    "f.query('freq >= 4113').id.to_csv('IDlist_2016-08-22_95conf_24h.csv')"
   ]
  },
  {
   "cell_type": "markdown",
   "metadata": {
    "ExecuteTime": {
     "end_time": "2017-03-10T11:07:45.780859",
     "start_time": "2017-03-10T11:07:45.775245"
    }
   },
   "source": [
    "# 2016_08_24"
   ]
  },
  {
   "cell_type": "code",
   "execution_count": 31,
   "metadata": {
    "ExecuteTime": {
     "end_time": "2017-03-10T11:12:55.415777",
     "start_time": "2017-03-10T11:12:51.326639"
    },
    "collapsed": false
   },
   "outputs": [
    {
     "name": "stdout",
     "output_type": "stream",
     "text": [
      "Negative Age:\n",
      "mean  532.214125561\n",
      "median  270.0\n",
      "mode  0    61\n",
      "dtype: int64\n",
      "21763.3774356\n",
      "460.0\n",
      "0    20\n",
      "dtype: int64\n",
      "17114.826215\n",
      "386.0\n",
      "0    61\n",
      "dtype: int64\n",
      "3684.57\n"
     ]
    },
    {
     "data": {
      "text/html": [
       "<div>\n",
       "<table border=\"1\" class=\"dataframe\">\n",
       "  <thead>\n",
       "    <tr style=\"text-align: right;\">\n",
       "      <th></th>\n",
       "      <th>id</th>\n",
       "      <th>freq</th>\n",
       "      <th>age</th>\n",
       "    </tr>\n",
       "  </thead>\n",
       "  <tbody>\n",
       "  </tbody>\n",
       "</table>\n",
       "</div>"
      ],
      "text/plain": [
       "Empty DataFrame\n",
       "Columns: [id, freq, age]\n",
       "Index: []"
      ]
     },
     "execution_count": 31,
     "metadata": {},
     "output_type": "execute_result"
    },
    {
     "data": {
      "image/png": "[encoded data removed]",
      "text/plain": [
       "<matplotlib.figure.Figure at 0x7f3e48578240>"
      ]
     },
     "metadata": {},
     "output_type": "display_data"
    },
    {
     "data": {
      "image/png": "[encoded data removed]",
      "text/plain": [
       "<matplotlib.figure.Figure at 0x7f3e60273358>"
      ]
     },
     "metadata": {},
     "output_type": "display_data"
    },
    {
     "data": {
      "image/png": "[encoded data removed]",
      "text/plain": [
       "<matplotlib.figure.Figure at 0x7f3e48758f28>"
      ]
     },
     "metadata": {},
     "output_type": "display_data"
    }
   ],
   "source": [
    "f = pd.read_csv(\"ID_frequencies_2016-08-24_95conf_24h.csv\", header=None, names=['id', 'freq'])\n",
    "\n",
    "start_dt1 = datetime.datetime.strptime(\"2016-08-24\", \"%Y-%m-%d\").replace(tzinfo=pytz.UTC)\n",
    "\n",
    "addAge(f, start_dt1)\n",
    "f= plotHist(f, ex)\n",
    "\n",
    "print(np.percentile(f[f.age < 0].freq, q=99))\n",
    "\n",
    "f.query('age < 0 & freq > 10000')"
   ]
  },
  {
   "cell_type": "code",
   "execution_count": 32,
   "metadata": {
    "ExecuteTime": {
     "end_time": "2017-03-10T11:13:30.411636",
     "start_time": "2017-03-10T11:13:30.382181"
    },
    "collapsed": false
   },
   "outputs": [
    {
     "name": "stdout",
     "output_type": "stream",
     "text": [
      "2268\n",
      "883\n",
      "923\n"
     ]
    }
   ],
   "source": [
    "print(len(f.query('age >= 0 & freq < 3685')))\n",
    "print(len(f.query('age < 0 & freq < 3685')))\n",
    "print(len(f.query('freq >= 3685')))"
   ]
  },
  {
   "cell_type": "code",
   "execution_count": 33,
   "metadata": {
    "ExecuteTime": {
     "end_time": "2017-03-10T11:13:40.995074",
     "start_time": "2017-03-10T11:13:40.977250"
    },
    "collapsed": true
   },
   "outputs": [],
   "source": [
    "f.query('freq >= 3685').id.to_csv('IDlist_2016-08-24_95conf_24h.csv')"
   ]
  },
  {
   "cell_type": "markdown",
   "metadata": {},
   "source": [
    "# 2016_08_25"
   ]
  },
  {
   "cell_type": "code",
   "execution_count": 34,
   "metadata": {
    "ExecuteTime": {
     "end_time": "2017-03-10T11:13:48.661732",
     "start_time": "2017-03-10T11:13:44.644454"
    },
    "collapsed": false
   },
   "outputs": [
    {
     "name": "stdout",
     "output_type": "stream",
     "text": [
      "Negative Age:\n",
      "mean  428.273542601\n",
      "median  188.0\n",
      "mode  0    100\n",
      "dtype: int64\n",
      "19096.3642363\n",
      "299.0\n",
      "0    41\n",
      "dtype: int64\n",
      "15008.9963181\n",
      "260.0\n",
      "0    41\n",
      "dtype: int64\n",
      "3904.7\n"
     ]
    },
    {
     "data": {
      "text/html": [
       "<div>\n",
       "<table border=\"1\" class=\"dataframe\">\n",
       "  <thead>\n",
       "    <tr style=\"text-align: right;\">\n",
       "      <th></th>\n",
       "      <th>id</th>\n",
       "      <th>freq</th>\n",
       "      <th>age</th>\n",
       "    </tr>\n",
       "  </thead>\n",
       "  <tbody>\n",
       "  </tbody>\n",
       "</table>\n",
       "</div>"
      ],
      "text/plain": [
       "Empty DataFrame\n",
       "Columns: [id, freq, age]\n",
       "Index: []"
      ]
     },
     "execution_count": 34,
     "metadata": {},
     "output_type": "execute_result"
    },
    {
     "data": {
      "image/png": "[encoded data removed]",
      "text/plain": [
       "<matplotlib.figure.Figure at 0x7f3e601a4908>"
      ]
     },
     "metadata": {},
     "output_type": "display_data"
    },
    {
     "data": {
      "image/png": "[encoded data removed]",
      "text/plain": [
       "<matplotlib.figure.Figure at 0x7f3e482b4358>"
      ]
     },
     "metadata": {},
     "output_type": "display_data"
    },
    {
     "data": {
      "image/png": "[encoded data removed]",
      "text/plain": [
       "<matplotlib.figure.Figure at 0x7f3e6018b518>"
      ]
     },
     "metadata": {},
     "output_type": "display_data"
    }
   ],
   "source": [
    "f = pd.read_csv(\"ID_frequencies_2016-08-25_95conf_24h.csv\", header=None, names=['id', 'freq'])\n",
    "\n",
    "start_dt1 = datetime.datetime.strptime(\"2016-08-25\", \"%Y-%m-%d\").replace(tzinfo=pytz.UTC)\n",
    "\n",
    "addAge(f, start_dt1)\n",
    "f= plotHist(f, ex)\n",
    "\n",
    "print(np.percentile(f[f.age < 0].freq, q=99))\n",
    "\n",
    "f.query('age < 0 & freq > 10000')"
   ]
  },
  {
   "cell_type": "code",
   "execution_count": 35,
   "metadata": {
    "ExecuteTime": {
     "end_time": "2017-03-10T11:14:20.614967",
     "start_time": "2017-03-10T11:14:20.588677"
    },
    "collapsed": false
   },
   "outputs": [
    {
     "name": "stdout",
     "output_type": "stream",
     "text": [
      "2400\n",
      "883\n",
      "791\n"
     ]
    }
   ],
   "source": [
    "print(len(f.query('age >= 0 & freq < 3905')))\n",
    "print(len(f.query('age < 0 & freq < 3905')))\n",
    "print(len(f.query('freq >= 3905')))"
   ]
  },
  {
   "cell_type": "code",
   "execution_count": 36,
   "metadata": {
    "ExecuteTime": {
     "end_time": "2017-03-10T11:14:24.430229",
     "start_time": "2017-03-10T11:14:24.415973"
    },
    "collapsed": true
   },
   "outputs": [],
   "source": [
    "f.query('freq >= 3905').id.to_csv('IDlist_2016-08-25_95conf_24h.csv')"
   ]
  },
  {
   "cell_type": "markdown",
   "metadata": {},
   "source": [
    "# Liste an Bienen die man von Anfang an ausschliesst:"
   ]
  },
  {
   "cell_type": "markdown",
   "metadata": {},
   "source": [
    "es gab 10 Bienen die \"later tagged\" sind, zu dienen weiss man kein Alter, die falle komplett raus"
   ]
  },
  {
   "cell_type": "code",
   "execution_count": 7,
   "metadata": {
    "ExecuteTime": {
     "end_time": "2017-03-10T11:03:14.776950",
     "start_time": "2017-03-10T11:03:14.765957"
    },
    "collapsed": true
   },
   "outputs": [],
   "source": [
    "hatching = pd.read_csv(\"hatchdates2016.csv\")"
   ]
  },
  {
   "cell_type": "code",
   "execution_count": 8,
   "metadata": {
    "ExecuteTime": {
     "end_time": "2017-03-10T11:03:15.645949",
     "start_time": "2017-03-10T11:03:15.640181"
    },
    "collapsed": false
   },
   "outputs": [],
   "source": [
    "s = hatching[\"later tagged\"]"
   ]
  },
  {
   "cell_type": "code",
   "execution_count": 19,
   "metadata": {
    "ExecuteTime": {
     "end_time": "2017-03-10T11:09:18.069014",
     "start_time": "2017-03-10T11:09:18.060457"
    },
    "collapsed": false
   },
   "outputs": [],
   "source": [
    "ex = list(s.dropna().index)"
   ]
  },
  {
   "cell_type": "code",
   "execution_count": 20,
   "metadata": {
    "ExecuteTime": {
     "end_time": "2017-03-10T11:09:18.595977",
     "start_time": "2017-03-10T11:09:18.587433"
    },
    "collapsed": false
   },
   "outputs": [
    {
     "data": {
      "text/plain": [
       "[2, 74, 2045, 3172, 3764, 3796, 3827, 3836, 3844, 3940]"
      ]
     },
     "execution_count": 20,
     "metadata": {},
     "output_type": "execute_result"
    }
   ],
   "source": [
    "ex"
   ]
  },
  {
   "cell_type": "code",
   "execution_count": 21,
   "metadata": {
    "ExecuteTime": {
     "end_time": "2017-03-10T11:09:20.056805",
     "start_time": "2017-03-10T11:09:20.051556"
    },
    "collapsed": true
   },
   "outputs": [],
   "source": [
    "ex.extend([17,127,131,155,2357,2380,2388,3103,3119,3165,3367, 3503])"
   ]
  },
  {
   "cell_type": "markdown",
   "metadata": {},
   "source": [
    "17   -----\n",
    "168  --xxx\n",
    "801  -----\n",
    "888  -----\n",
    "1580 22.08.2016? xxxx\n",
    "1751 QQQQQ\n",
    "2045 -----\n",
    "2357 -----\n",
    "2607 --xxx\n"
   ]
  },
  {
   "cell_type": "code",
   "execution_count": null,
   "metadata": {
    "collapsed": true
   },
   "outputs": [],
   "source": [
    "17   -----\n",
    "168  --xxx\n",
    "801  -----\n",
    "888  -----\n",
    "2045 -----\n",
    "2357 -----\n",
    "2607 --xxx"
   ]
  },
  {
   "cell_type": "code",
   "execution_count": 139,
   "metadata": {
    "ExecuteTime": {
     "end_time": "2017-03-02T13:04:16.510501",
     "start_time": "2017-03-02T13:04:16.503707"
    },
    "collapsed": false
   },
   "outputs": [],
   "source": [
    "ex.extend([17,168,801,888,2045,2357,2607])"
   ]
  },
  {
   "cell_type": "code",
   "execution_count": 140,
   "metadata": {
    "ExecuteTime": {
     "end_time": "2017-03-02T13:04:20.019447",
     "start_time": "2017-03-02T13:04:20.008939"
    },
    "collapsed": false
   },
   "outputs": [
    {
     "data": {
      "text/plain": [
       "[2,\n",
       " 74,\n",
       " 2045,\n",
       " 3172,\n",
       " 3764,\n",
       " 3796,\n",
       " 3827,\n",
       " 3836,\n",
       " 3844,\n",
       " 3940,\n",
       " 17,\n",
       " 168,\n",
       " 801,\n",
       " 888,\n",
       " 2045,\n",
       " 2357,\n",
       " 2607]"
      ]
     },
     "execution_count": 140,
     "metadata": {},
     "output_type": "execute_result"
    }
   ],
   "source": [
    "ex"
   ]
  },
  {
   "cell_type": "code",
   "execution_count": 183,
   "metadata": {
    "ExecuteTime": {
     "end_time": "2017-03-02T13:19:29.185778",
     "start_time": "2017-03-02T13:19:29.161275"
    },
    "collapsed": false
   },
   "outputs": [
    {
     "ename": "AttributeError",
     "evalue": "'NoneType' object has no attribute 'id'",
     "output_type": "error",
     "traceback": [
      "\u001b[0;31m---------------------------------------------------------------------------\u001b[0m",
      "\u001b[0;31mAttributeError\u001b[0m                            Traceback (most recent call last)",
      "\u001b[0;32m<ipython-input-183-9ca3521f6ca6>\u001b[0m in \u001b[0;36m<module>\u001b[0;34m()\u001b[0m\n\u001b[0;32m----> 1\u001b[0;31m \u001b[0mf\u001b[0m \u001b[0;34m=\u001b[0m \u001b[0mf\u001b[0m\u001b[0;34m[\u001b[0m\u001b[0mf\u001b[0m\u001b[0;34m.\u001b[0m\u001b[0mid\u001b[0m\u001b[0;34m.\u001b[0m\u001b[0misin\u001b[0m\u001b[0;34m(\u001b[0m\u001b[0mex\u001b[0m\u001b[0;34m)\u001b[0m \u001b[0;34m==\u001b[0m \u001b[0;32mFalse\u001b[0m\u001b[0;34m]\u001b[0m\u001b[0;34m\u001b[0m\u001b[0m\n\u001b[0m",
      "\u001b[0;31mAttributeError\u001b[0m: 'NoneType' object has no attribute 'id'"
     ]
    }
   ],
   "source": [
    "f = f[f.id.isin(ex) == False]"
   ]
  },
  {
   "cell_type": "code",
   "execution_count": 284,
   "metadata": {
    "ExecuteTime": {
     "end_time": "2017-03-02T14:42:17.886506",
     "start_time": "2017-03-02T14:42:17.873729"
    },
    "collapsed": false
   },
   "outputs": [
    {
     "data": {
      "text/plain": [
       "119"
      ]
     },
     "execution_count": 284,
     "metadata": {},
     "output_type": "execute_result"
    }
   ],
   "source": [
    "len(hatching[hatching.birthdate =='02.08.2016'])"
   ]
  },
  {
   "cell_type": "code",
   "execution_count": 285,
   "metadata": {
    "ExecuteTime": {
     "end_time": "2017-03-02T14:42:47.386650",
     "start_time": "2017-03-02T14:42:47.376943"
    },
    "collapsed": false
   },
   "outputs": [
    {
     "data": {
      "text/plain": [
       "1353"
      ]
     },
     "execution_count": 285,
     "metadata": {},
     "output_type": "execute_result"
    }
   ],
   "source": [
    "1225+128"
   ]
  },
  {
   "cell_type": "code",
   "execution_count": 291,
   "metadata": {
    "ExecuteTime": {
     "end_time": "2017-03-02T15:05:42.551545",
     "start_time": "2017-03-02T15:05:42.539387"
    },
    "collapsed": false
   },
   "outputs": [
    {
     "data": {
      "text/plain": [
       "65.4626611130345"
      ]
     },
     "execution_count": 291,
     "metadata": {},
     "output_type": "execute_result"
    }
   ],
   "source": [
    "np.array([603,\n",
    "672, \n",
    "696,\n",
    "761, \n",
    "787]).std() \n"
   ]
  },
  {
   "cell_type": "code",
   "execution_count": 290,
   "metadata": {
    "ExecuteTime": {
     "end_time": "2017-03-02T15:05:14.334582",
     "start_time": "2017-03-02T15:05:14.323324"
    },
    "collapsed": false
   },
   "outputs": [
    {
     "data": {
      "text/plain": [
       "2345.047206347881"
      ]
     },
     "execution_count": 290,
     "metadata": {},
     "output_type": "execute_result"
    }
   ],
   "source": [
    "np.array([41064, 34970, 34740, 35416, 36825]).std()\n"
   ]
  },
  {
   "cell_type": "code",
   "execution_count": 294,
   "metadata": {
    "ExecuteTime": {
     "end_time": "2017-03-02T15:09:39.623163",
     "start_time": "2017-03-02T15:09:39.613483"
    },
    "collapsed": false
   },
   "outputs": [
    {
     "data": {
      "text/plain": [
       "644.14128884896047"
      ]
     },
     "execution_count": 294,
     "metadata": {},
     "output_type": "execute_result"
    }
   ],
   "source": [
    "np.array([\n",
    "3858,\n",
    "4239,\n",
    "4686,\n",
    "5325,\n",
    "5577\n",
    "]).std()"
   ]
  },
  {
   "cell_type": "code",
   "execution_count": 329,
   "metadata": {
    "ExecuteTime": {
     "end_time": "2017-03-02T16:04:06.463908",
     "start_time": "2017-03-02T16:04:06.452062"
    },
    "collapsed": true
   },
   "outputs": [],
   "source": [
    "atetime.datetime.fromtimestamp(b, tz=pytz.UTC)"
   ]
  },
  {
   "cell_type": "code",
   "execution_count": 330,
   "metadata": {
    "ExecuteTime": {
     "end_time": "2017-03-02T16:04:09.057341",
     "start_time": "2017-03-02T16:04:09.023302"
    },
    "collapsed": false
   },
   "outputs": [
    {
     "data": {
      "text/html": [
       "<div>\n",
       "<table border=\"1\" class=\"dataframe\">\n",
       "  <thead>\n",
       "    <tr style=\"text-align: right;\">\n",
       "      <th></th>\n",
       "      <th>idx</th>\n",
       "      <th>xpos</th>\n",
       "      <th>ypos</th>\n",
       "      <th>radius</th>\n",
       "      <th>zRotation</th>\n",
       "      <th>frame_idx</th>\n",
       "      <th>timestamp</th>\n",
       "      <th>cam_id</th>\n",
       "      <th>fc_id</th>\n",
       "      <th>frame_id</th>\n",
       "      <th>confidence</th>\n",
       "      <th>id</th>\n",
       "    </tr>\n",
       "  </thead>\n",
       "  <tbody>\n",
       "    <tr>\n",
       "      <th>3</th>\n",
       "      <td>3</td>\n",
       "      <td>437</td>\n",
       "      <td>1137</td>\n",
       "      <td>22.808411</td>\n",
       "      <td>-2.243370</td>\n",
       "      <td>0</td>\n",
       "      <td>1.469491e+09</td>\n",
       "      <td>0</td>\n",
       "      <td>10523462747265020228</td>\n",
       "      <td>10713957194713100599</td>\n",
       "      <td>1.000000</td>\n",
       "      <td>1771</td>\n",
       "    </tr>\n",
       "    <tr>\n",
       "      <th>6</th>\n",
       "      <td>6</td>\n",
       "      <td>575</td>\n",
       "      <td>3337</td>\n",
       "      <td>22.874407</td>\n",
       "      <td>-0.647871</td>\n",
       "      <td>0</td>\n",
       "      <td>1.469491e+09</td>\n",
       "      <td>0</td>\n",
       "      <td>10523462747265020228</td>\n",
       "      <td>10713957194713100599</td>\n",
       "      <td>0.984314</td>\n",
       "      <td>1524</td>\n",
       "    </tr>\n",
       "  </tbody>\n",
       "</table>\n",
       "</div>"
      ],
      "text/plain": [
       "   idx  xpos  ypos     radius  zRotation  frame_idx     timestamp  cam_id  \\\n",
       "3    3   437  1137  22.808411  -2.243370          0  1.469491e+09       0   \n",
       "6    6   575  3337  22.874407  -0.647871          0  1.469491e+09       0   \n",
       "\n",
       "                  fc_id              frame_id  confidence    id  \n",
       "3  10523462747265020228  10713957194713100599    1.000000  1771  \n",
       "6  10523462747265020228  10713957194713100599    0.984314  1524  "
      ]
     },
     "execution_count": 330,
     "metadata": {},
     "output_type": "execute_result"
    }
   ],
   "source": [
    "data.head(2)"
   ]
  },
  {
   "cell_type": "code",
   "execution_count": 318,
   "metadata": {
    "ExecuteTime": {
     "end_time": "2017-03-02T15:57:07.870829",
     "start_time": "2017-03-02T15:56:43.944542"
    },
    "collapsed": true
   },
   "outputs": [],
   "source": [
    "data = prep.calcIds(data, 0.95, 2016)"
   ]
  },
  {
   "cell_type": "code",
   "execution_count": 319,
   "metadata": {
    "ExecuteTime": {
     "end_time": "2017-03-02T15:57:12.718350",
     "start_time": "2017-03-02T15:57:12.689292"
    },
    "collapsed": false
   },
   "outputs": [
    {
     "data": {
      "text/html": [
       "<div>\n",
       "<table border=\"1\" class=\"dataframe\">\n",
       "  <thead>\n",
       "    <tr style=\"text-align: right;\">\n",
       "      <th></th>\n",
       "      <th>idx</th>\n",
       "      <th>xpos</th>\n",
       "      <th>ypos</th>\n",
       "      <th>radius</th>\n",
       "      <th>zRotation</th>\n",
       "      <th>frame_idx</th>\n",
       "      <th>timestamp</th>\n",
       "      <th>cam_id</th>\n",
       "      <th>fc_id</th>\n",
       "      <th>frame_id</th>\n",
       "      <th>confidence</th>\n",
       "      <th>id</th>\n",
       "    </tr>\n",
       "  </thead>\n",
       "  <tbody>\n",
       "    <tr>\n",
       "      <th>3</th>\n",
       "      <td>3</td>\n",
       "      <td>437</td>\n",
       "      <td>1137</td>\n",
       "      <td>22.808411</td>\n",
       "      <td>-2.243370</td>\n",
       "      <td>0</td>\n",
       "      <td>1.469491e+09</td>\n",
       "      <td>0</td>\n",
       "      <td>10523462747265020228</td>\n",
       "      <td>10713957194713100599</td>\n",
       "      <td>1.000000</td>\n",
       "      <td>1771</td>\n",
       "    </tr>\n",
       "    <tr>\n",
       "      <th>6</th>\n",
       "      <td>6</td>\n",
       "      <td>575</td>\n",
       "      <td>3337</td>\n",
       "      <td>22.874407</td>\n",
       "      <td>-0.647871</td>\n",
       "      <td>0</td>\n",
       "      <td>1.469491e+09</td>\n",
       "      <td>0</td>\n",
       "      <td>10523462747265020228</td>\n",
       "      <td>10713957194713100599</td>\n",
       "      <td>0.984314</td>\n",
       "      <td>1524</td>\n",
       "    </tr>\n",
       "    <tr>\n",
       "      <th>8</th>\n",
       "      <td>8</td>\n",
       "      <td>639</td>\n",
       "      <td>862</td>\n",
       "      <td>22.746553</td>\n",
       "      <td>-0.010810</td>\n",
       "      <td>0</td>\n",
       "      <td>1.469491e+09</td>\n",
       "      <td>0</td>\n",
       "      <td>10523462747265020228</td>\n",
       "      <td>10713957194713100599</td>\n",
       "      <td>0.992157</td>\n",
       "      <td>3473</td>\n",
       "    </tr>\n",
       "    <tr>\n",
       "      <th>9</th>\n",
       "      <td>9</td>\n",
       "      <td>750</td>\n",
       "      <td>1374</td>\n",
       "      <td>22.956480</td>\n",
       "      <td>-1.241533</td>\n",
       "      <td>0</td>\n",
       "      <td>1.469491e+09</td>\n",
       "      <td>0</td>\n",
       "      <td>10523462747265020228</td>\n",
       "      <td>10713957194713100599</td>\n",
       "      <td>1.000000</td>\n",
       "      <td>2282</td>\n",
       "    </tr>\n",
       "    <tr>\n",
       "      <th>10</th>\n",
       "      <td>10</td>\n",
       "      <td>801</td>\n",
       "      <td>1601</td>\n",
       "      <td>22.764263</td>\n",
       "      <td>1.679263</td>\n",
       "      <td>0</td>\n",
       "      <td>1.469491e+09</td>\n",
       "      <td>0</td>\n",
       "      <td>10523462747265020228</td>\n",
       "      <td>10713957194713100599</td>\n",
       "      <td>0.984314</td>\n",
       "      <td>1733</td>\n",
       "    </tr>\n",
       "  </tbody>\n",
       "</table>\n",
       "</div>"
      ],
      "text/plain": [
       "    idx  xpos  ypos     radius  zRotation  frame_idx     timestamp  cam_id  \\\n",
       "3     3   437  1137  22.808411  -2.243370          0  1.469491e+09       0   \n",
       "6     6   575  3337  22.874407  -0.647871          0  1.469491e+09       0   \n",
       "8     8   639   862  22.746553  -0.010810          0  1.469491e+09       0   \n",
       "9     9   750  1374  22.956480  -1.241533          0  1.469491e+09       0   \n",
       "10   10   801  1601  22.764263   1.679263          0  1.469491e+09       0   \n",
       "\n",
       "                   fc_id              frame_id  confidence    id  \n",
       "3   10523462747265020228  10713957194713100599    1.000000  1771  \n",
       "6   10523462747265020228  10713957194713100599    0.984314  1524  \n",
       "8   10523462747265020228  10713957194713100599    0.992157  3473  \n",
       "9   10523462747265020228  10713957194713100599    1.000000  2282  \n",
       "10  10523462747265020228  10713957194713100599    0.984314  1733  "
      ]
     },
     "execution_count": 319,
     "metadata": {},
     "output_type": "execute_result"
    }
   ],
   "source": [
    "data.head()"
   ]
  },
  {
   "cell_type": "code",
   "execution_count": 331,
   "metadata": {
    "ExecuteTime": {
     "end_time": "2017-03-02T16:04:17.167850",
     "start_time": "2017-03-02T16:04:17.161340"
    },
    "collapsed": false
   },
   "outputs": [
    {
     "data": {
      "text/plain": [
       "(263998, 12)"
      ]
     },
     "execution_count": 331,
     "metadata": {},
     "output_type": "execute_result"
    }
   ],
   "source": [
    "data.shape"
   ]
  },
  {
   "cell_type": "code",
   "execution_count": 332,
   "metadata": {
    "ExecuteTime": {
     "end_time": "2017-03-02T16:04:23.436677",
     "start_time": "2017-03-02T16:04:23.337465"
    },
    "collapsed": true
   },
   "outputs": [],
   "source": [
    "lo = removeDetectionsList(data, '2016-07-26')"
   ]
  },
  {
   "cell_type": "code",
   "execution_count": 334,
   "metadata": {
    "ExecuteTime": {
     "end_time": "2017-03-02T16:04:33.878357",
     "start_time": "2017-03-02T16:04:33.871512"
    },
    "collapsed": false
   },
   "outputs": [
    {
     "data": {
      "text/plain": [
       "(259473, 12)"
      ]
     },
     "execution_count": 334,
     "metadata": {},
     "output_type": "execute_result"
    }
   ],
   "source": [
    "lo.shape"
   ]
  },
  {
   "cell_type": "code",
   "execution_count": 335,
   "metadata": {
    "ExecuteTime": {
     "end_time": "2017-03-02T16:04:48.763680",
     "start_time": "2017-03-02T16:04:48.756850"
    },
    "collapsed": false
   },
   "outputs": [
    {
     "data": {
      "text/plain": [
       "4525"
      ]
     },
     "execution_count": 335,
     "metadata": {},
     "output_type": "execute_result"
    }
   ],
   "source": [
    "263998-259473"
   ]
  },
  {
   "cell_type": "code",
   "execution_count": 337,
   "metadata": {
    "ExecuteTime": {
     "end_time": "2017-03-02T16:06:14.726835",
     "start_time": "2017-03-02T16:06:14.714049"
    },
    "collapsed": false
   },
   "outputs": [],
   "source": [
    "liste = pd.Series.from_csv('IDlist_2016-07-26_95conf_24h.csv')"
   ]
  },
  {
   "cell_type": "code",
   "execution_count": 346,
   "metadata": {
    "ExecuteTime": {
     "end_time": "2017-03-02T16:13:34.283172",
     "start_time": "2017-03-02T16:13:34.268591"
    },
    "collapsed": false
   },
   "outputs": [
    {
     "data": {
      "text/plain": [
       "Series([], dtype: int64)"
      ]
     },
     "execution_count": 346,
     "metadata": {},
     "output_type": "execute_result"
    }
   ],
   "source": [
    "liste[liste==3836]"
   ]
  },
  {
   "cell_type": "code",
   "execution_count": 350,
   "metadata": {
    "ExecuteTime": {
     "end_time": "2017-03-02T16:16:30.011203",
     "start_time": "2017-03-02T16:16:30.005437"
    },
    "collapsed": false
   },
   "outputs": [],
   "source": [
    "dt = datetime.datetime.fromtimestamp(start_ts, tz=pytz.UTC)"
   ]
  },
  {
   "cell_type": "code",
   "execution_count": 352,
   "metadata": {
    "ExecuteTime": {
     "end_time": "2017-03-02T16:16:58.735150",
     "start_time": "2017-03-02T16:16:58.727863"
    },
    "collapsed": false
   },
   "outputs": [
    {
     "data": {
      "text/plain": [
       "'2016-07-26'"
      ]
     },
     "execution_count": 352,
     "metadata": {},
     "output_type": "execute_result"
    }
   ],
   "source": [
    "dt.strftime(\"%Y-%m-%d\")"
   ]
  },
  {
   "cell_type": "code",
   "execution_count": null,
   "metadata": {
    "collapsed": true
   },
   "outputs": [],
   "source": []
  }
 ],
 "metadata": {
  "kernelspec": {
   "display_name": "Python 3",
   "language": "python",
   "name": "python3"
  },
  "language_info": {
   "codemirror_mode": {
    "name": "ipython",
    "version": 3
   },
   "file_extension": ".py",
   "mimetype": "text/x-python",
   "name": "python",
   "nbconvert_exporter": "python",
   "pygments_lexer": "ipython3",
   "version": "3.5.2"
  },
  "toc": {
   "colors": {
    "hover_highlight": "#DAA520",
    "running_highlight": "#FF0000",
    "selected_highlight": "#FFD700"
   },
   "moveMenuLeft": true,
   "nav_menu": {
    "height": "12px",
    "width": "252px"
   },
   "navigate_menu": true,
   "number_sections": true,
   "sideBar": true,
   "threshold": 4,
   "toc_cell": false,
   "toc_section_display": "block",
   "toc_window_display": true
  }
 },
 "nbformat": 4,
 "nbformat_minor": 2
}
