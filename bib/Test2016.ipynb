{
 "cells": [
  {
   "cell_type": "code",
   "execution_count": 1,
   "metadata": {
    "ExecuteTime": {
     "end_time": "2017-02-08T23:34:04.848372",
     "start_time": "2017-02-08T23:34:03.099804"
    },
    "collapsed": true
   },
   "outputs": [],
   "source": [
    "import networkx as nx\n",
    "import os\n",
    "import pandas as pd\n",
    "import numpy as np\n",
    "from pandas import DataFrame, Series\n",
    "import datetime\n",
    "import pytz\n",
    "import matplotlib.pyplot as plt\n",
    "import preprocessing as prep\n",
    "from collections import namedtuple\n",
    "from bb_binary import FrameContainer, Repository, load_frame_container"
   ]
  },
  {
   "cell_type": "code",
   "execution_count": 2,
   "metadata": {
    "ExecuteTime": {
     "end_time": "2017-02-08T23:34:04.855162",
     "start_time": "2017-02-08T23:34:04.850544"
    },
    "collapsed": false
   },
   "outputs": [],
   "source": [
    "Detection = namedtuple('Detection', ['idx', 'xpos', 'ypos', 'radius', 'zRotation', 'decodedId', 'frame_idx', 'timestamp', 'cam_id', 'fc_id'])"
   ]
  },
  {
   "cell_type": "code",
   "execution_count": 3,
   "metadata": {
    "ExecuteTime": {
     "end_time": "2017-02-08T23:34:05.034163",
     "start_time": "2017-02-08T23:34:05.022912"
    },
    "collapsed": true
   },
   "outputs": [],
   "source": [
    "def getDF(path, b, e, camID):\n",
    "    repo = Repository(path)\n",
    "    \n",
    "    tpls = []\n",
    "    myid = 0\n",
    "\n",
    "\n",
    "    for frame, fc in repo.iter_frames(begin=b, end=e, cam=camID):\n",
    "        for d in frame.detectionsUnion.detectionsDP:\n",
    "            d = Detection(d.idx, d.xpos, d.ypos, d.radius, d.zRotation, list(d.decodedId), myid, frame.timestamp, fc.camId, fc.id)\n",
    "            tpls.append(d)\n",
    "        myid += 1\n",
    "\n",
    "    df = DataFrame(tpls)\n",
    "    return df"
   ]
  },
  {
   "cell_type": "code",
   "execution_count": 4,
   "metadata": {
    "ExecuteTime": {
     "end_time": "2017-02-08T23:34:06.439261",
     "start_time": "2017-02-08T23:34:06.432650"
    },
    "collapsed": true
   },
   "outputs": [],
   "source": [
    "start = \"2016-07-21T12:15:00Z\"\n",
    "start_dt = datetime.datetime.strptime(start, \"%Y-%m-%dT%H:%M:%SZ\").replace(tzinfo=pytz.UTC)\n",
    "start_ts = start_dt.timestamp()\n",
    "end_dt = start_dt + datetime.timedelta(minutes=1)\n",
    "end_ts = end_dt.timestamp()"
   ]
  },
  {
   "cell_type": "code",
   "execution_count": 5,
   "metadata": {
    "ExecuteTime": {
     "end_time": "2017-02-08T23:34:08.384303",
     "start_time": "2017-02-08T23:34:07.391779"
    },
    "collapsed": false
   },
   "outputs": [],
   "source": [
    "df = getDF(\"/storage/mi/aschle/hour2016/\",start_ts, end_ts, 1)"
   ]
  },
  {
   "cell_type": "code",
   "execution_count": 6,
   "metadata": {
    "ExecuteTime": {
     "end_time": "2017-02-08T23:34:10.081814",
     "start_time": "2017-02-08T23:34:10.055965"
    },
    "collapsed": false
   },
   "outputs": [
    {
     "data": {
      "text/html": [
       "<div>\n",
       "<table border=\"1\" class=\"dataframe\">\n",
       "  <thead>\n",
       "    <tr style=\"text-align: right;\">\n",
       "      <th></th>\n",
       "      <th>idx</th>\n",
       "      <th>xpos</th>\n",
       "      <th>ypos</th>\n",
       "      <th>radius</th>\n",
       "      <th>zRotation</th>\n",
       "      <th>decodedId</th>\n",
       "      <th>frame_idx</th>\n",
       "      <th>timestamp</th>\n",
       "      <th>cam_id</th>\n",
       "      <th>fc_id</th>\n",
       "    </tr>\n",
       "  </thead>\n",
       "  <tbody>\n",
       "    <tr>\n",
       "      <th>0</th>\n",
       "      <td>0</td>\n",
       "      <td>60</td>\n",
       "      <td>2638</td>\n",
       "      <td>23.091560</td>\n",
       "      <td>2.476844</td>\n",
       "      <td>[95, 3, 255, 0, 0, 255, 255, 0, 6, 212, 101, 177]</td>\n",
       "      <td>0</td>\n",
       "      <td>1.469103e+09</td>\n",
       "      <td>1</td>\n",
       "      <td>18337027979960261638</td>\n",
       "    </tr>\n",
       "    <tr>\n",
       "      <th>1</th>\n",
       "      <td>1</td>\n",
       "      <td>74</td>\n",
       "      <td>3124</td>\n",
       "      <td>23.032566</td>\n",
       "      <td>3.041691</td>\n",
       "      <td>[31, 179, 247, 247, 215, 254, 1, 255, 4, 253, ...</td>\n",
       "      <td>0</td>\n",
       "      <td>1.469103e+09</td>\n",
       "      <td>1</td>\n",
       "      <td>18337027979960261638</td>\n",
       "    </tr>\n",
       "    <tr>\n",
       "      <th>2</th>\n",
       "      <td>2</td>\n",
       "      <td>89</td>\n",
       "      <td>2912</td>\n",
       "      <td>23.329697</td>\n",
       "      <td>-0.203116</td>\n",
       "      <td>[145, 111, 94, 4, 91, 254, 22, 248, 247, 246, ...</td>\n",
       "      <td>0</td>\n",
       "      <td>1.469103e+09</td>\n",
       "      <td>1</td>\n",
       "      <td>18337027979960261638</td>\n",
       "    </tr>\n",
       "    <tr>\n",
       "      <th>3</th>\n",
       "      <td>3</td>\n",
       "      <td>100</td>\n",
       "      <td>3349</td>\n",
       "      <td>22.783443</td>\n",
       "      <td>-1.922754</td>\n",
       "      <td>[0, 255, 0, 255, 0, 255, 255, 0, 0, 255, 0, 255]</td>\n",
       "      <td>0</td>\n",
       "      <td>1.469103e+09</td>\n",
       "      <td>1</td>\n",
       "      <td>18337027979960261638</td>\n",
       "    </tr>\n",
       "    <tr>\n",
       "      <th>4</th>\n",
       "      <td>4</td>\n",
       "      <td>110</td>\n",
       "      <td>1824</td>\n",
       "      <td>23.160673</td>\n",
       "      <td>2.948119</td>\n",
       "      <td>[255, 255, 255, 255, 255, 255, 255, 215, 4, 25...</td>\n",
       "      <td>0</td>\n",
       "      <td>1.469103e+09</td>\n",
       "      <td>1</td>\n",
       "      <td>18337027979960261638</td>\n",
       "    </tr>\n",
       "  </tbody>\n",
       "</table>\n",
       "</div>"
      ],
      "text/plain": [
       "   idx  xpos  ypos     radius  zRotation  \\\n",
       "0    0    60  2638  23.091560   2.476844   \n",
       "1    1    74  3124  23.032566   3.041691   \n",
       "2    2    89  2912  23.329697  -0.203116   \n",
       "3    3   100  3349  22.783443  -1.922754   \n",
       "4    4   110  1824  23.160673   2.948119   \n",
       "\n",
       "                                           decodedId  frame_idx     timestamp  \\\n",
       "0  [95, 3, 255, 0, 0, 255, 255, 0, 6, 212, 101, 177]          0  1.469103e+09   \n",
       "1  [31, 179, 247, 247, 215, 254, 1, 255, 4, 253, ...          0  1.469103e+09   \n",
       "2  [145, 111, 94, 4, 91, 254, 22, 248, 247, 246, ...          0  1.469103e+09   \n",
       "3   [0, 255, 0, 255, 0, 255, 255, 0, 0, 255, 0, 255]          0  1.469103e+09   \n",
       "4  [255, 255, 255, 255, 255, 255, 255, 215, 4, 25...          0  1.469103e+09   \n",
       "\n",
       "   cam_id                 fc_id  \n",
       "0       1  18337027979960261638  \n",
       "1       1  18337027979960261638  \n",
       "2       1  18337027979960261638  \n",
       "3       1  18337027979960261638  \n",
       "4       1  18337027979960261638  "
      ]
     },
     "execution_count": 6,
     "metadata": {},
     "output_type": "execute_result"
    }
   ],
   "source": [
    "df.head()"
   ]
  },
  {
   "cell_type": "code",
   "execution_count": null,
   "metadata": {
    "collapsed": true
   },
   "outputs": [],
   "source": [
    "prep.calcIds()"
   ]
  }
 ],
 "metadata": {
  "anaconda-cloud": {},
  "kernelspec": {
   "display_name": "Python [conda root]",
   "language": "python",
   "name": "conda-root-py"
  },
  "language_info": {
   "codemirror_mode": {
    "name": "ipython",
    "version": 3
   },
   "file_extension": ".py",
   "mimetype": "text/x-python",
   "name": "python",
   "nbconvert_exporter": "python",
   "pygments_lexer": "ipython3",
   "version": "3.5.2"
  },
  "toc": {
   "colors": {
    "hover_highlight": "#DAA520",
    "running_highlight": "#FF0000",
    "selected_highlight": "#FFD700"
   },
   "moveMenuLeft": true,
   "nav_menu": {
    "height": "12px",
    "width": "252px"
   },
   "navigate_menu": true,
   "number_sections": true,
   "sideBar": true,
   "threshold": 4,
   "toc_cell": false,
   "toc_section_display": "block",
   "toc_window_display": false
  }
 },
 "nbformat": 4,
 "nbformat_minor": 2
}
