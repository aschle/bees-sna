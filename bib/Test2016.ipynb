{
 "cells": [
  {
   "cell_type": "code",
   "execution_count": 2,
   "metadata": {
    "ExecuteTime": {
     "end_time": "2017-02-14T13:29:15.975213",
     "start_time": "2017-02-14T13:29:15.952016"
    },
    "collapsed": true
   },
   "outputs": [],
   "source": [
    "import networkx as nx\n",
    "import os\n",
    "import pandas as pd\n",
    "import numpy as np\n",
    "from pandas import DataFrame, Series\n",
    "import datetime\n",
    "import pytz\n",
    "import matplotlib.pyplot as plt\n",
    "import preprocessing as prep\n",
    "from collections import namedtuple\n",
    "from bb_binary import FrameContainer, Repository, load_frame_container\n",
    "import numpy as np\n",
    "import numpy.ma as npma\n",
    "import datetime\n",
    "import csv"
   ]
  },
  {
   "cell_type": "code",
   "execution_count": 70,
   "metadata": {
    "ExecuteTime": {
     "end_time": "2017-02-14T14:27:34.307509",
     "start_time": "2017-02-14T14:27:34.076484"
    },
    "collapsed": true
   },
   "outputs": [],
   "source": [
    "import igraph as ig"
   ]
  },
  {
   "cell_type": "code",
   "execution_count": 3,
   "metadata": {
    "ExecuteTime": {
     "end_time": "2017-02-14T13:29:20.790197",
     "start_time": "2017-02-14T13:29:20.764715"
    },
    "collapsed": true
   },
   "outputs": [],
   "source": [
    "%matplotlib inline"
   ]
  },
  {
   "cell_type": "code",
   "execution_count": 4,
   "metadata": {
    "ExecuteTime": {
     "end_time": "2017-02-14T13:29:21.353875",
     "start_time": "2017-02-14T13:29:21.344804"
    },
    "collapsed": false
   },
   "outputs": [],
   "source": [
    "Detection = namedtuple('Detection', ['idx', 'xpos', 'ypos', 'radius', 'zRotation', 'decodedId', 'frame_idx', 'timestamp', 'cam_id', 'fc_id'])"
   ]
  },
  {
   "cell_type": "code",
   "execution_count": 5,
   "metadata": {
    "ExecuteTime": {
     "end_time": "2017-02-14T13:29:40.152392",
     "start_time": "2017-02-14T13:29:40.133469"
    },
    "collapsed": true
   },
   "outputs": [],
   "source": [
    "def getDF(path, b, e, camID):\n",
    "    repo = Repository(path)\n",
    "    \n",
    "    tpls = []\n",
    "    myid = 0\n",
    "\n",
    "\n",
    "    for frame, fc in repo.iter_frames(begin=b, end=e, cam=camID):\n",
    "        for d in frame.detectionsUnion.detectionsDP:\n",
    "            d = Detection(d.idx, d.xpos, d.ypos, d.radius, d.zRotation, list(d.decodedId), myid, frame.timestamp, fc.camId, fc.id)\n",
    "            tpls.append(d)\n",
    "        myid += 1\n",
    "\n",
    "    df = DataFrame(tpls)\n",
    "    return df"
   ]
  },
  {
   "cell_type": "code",
   "execution_count": 6,
   "metadata": {
    "ExecuteTime": {
     "end_time": "2017-02-14T13:30:51.566938",
     "start_time": "2017-02-14T13:30:51.553345"
    },
    "collapsed": true
   },
   "outputs": [],
   "source": [
    "start = \"2016-07-21T00:00:00Z\"\n",
    "start_dt = datetime.datetime.strptime(start, \"%Y-%m-%dT%H:%M:%SZ\").replace(tzinfo=pytz.UTC)\n",
    "start_ts = start_dt.timestamp()\n",
    "end_dt = start_dt + datetime.timedelta(minutes=60)\n",
    "end_ts = end_dt.timestamp()"
   ]
  },
  {
   "cell_type": "code",
   "execution_count": 8,
   "metadata": {
    "ExecuteTime": {
     "end_time": "2017-02-14T13:31:47.966262",
     "start_time": "2017-02-14T13:31:08.154735"
    },
    "collapsed": false
   },
   "outputs": [],
   "source": [
    "df = getDF(\"/mnt/data2016/\",start_ts, end_ts, 3)"
   ]
  },
  {
   "cell_type": "code",
   "execution_count": 9,
   "metadata": {
    "ExecuteTime": {
     "end_time": "2017-02-14T13:31:52.706324",
     "start_time": "2017-02-14T13:31:52.677337"
    },
    "collapsed": false
   },
   "outputs": [
    {
     "data": {
      "text/plain": [
       "10837"
      ]
     },
     "execution_count": 9,
     "metadata": {},
     "output_type": "execute_result"
    }
   ],
   "source": [
    "len(df.frame_idx.unique())"
   ]
  },
  {
   "cell_type": "code",
   "execution_count": 10,
   "metadata": {
    "ExecuteTime": {
     "end_time": "2017-02-14T13:32:50.956541",
     "start_time": "2017-02-14T13:32:02.157294"
    },
    "collapsed": false
   },
   "outputs": [
    {
     "data": {
      "text/html": [
       "<div>\n",
       "<table border=\"1\" class=\"dataframe\">\n",
       "  <thead>\n",
       "    <tr style=\"text-align: right;\">\n",
       "      <th></th>\n",
       "      <th>idx</th>\n",
       "      <th>xpos</th>\n",
       "      <th>ypos</th>\n",
       "      <th>radius</th>\n",
       "      <th>zRotation</th>\n",
       "      <th>frame_idx</th>\n",
       "      <th>timestamp</th>\n",
       "      <th>cam_id</th>\n",
       "      <th>fc_id</th>\n",
       "      <th>confidence</th>\n",
       "      <th>id</th>\n",
       "    </tr>\n",
       "  </thead>\n",
       "  <tbody>\n",
       "    <tr>\n",
       "      <th>5</th>\n",
       "      <td>5</td>\n",
       "      <td>488</td>\n",
       "      <td>701</td>\n",
       "      <td>22.686844</td>\n",
       "      <td>1.733468</td>\n",
       "      <td>0</td>\n",
       "      <td>1.469059e+09</td>\n",
       "      <td>3</td>\n",
       "      <td>15758691713769710420</td>\n",
       "      <td>1.0</td>\n",
       "      <td>1324</td>\n",
       "    </tr>\n",
       "    <tr>\n",
       "      <th>6</th>\n",
       "      <td>6</td>\n",
       "      <td>486</td>\n",
       "      <td>825</td>\n",
       "      <td>22.852934</td>\n",
       "      <td>2.802199</td>\n",
       "      <td>0</td>\n",
       "      <td>1.469059e+09</td>\n",
       "      <td>3</td>\n",
       "      <td>15758691713769710420</td>\n",
       "      <td>1.0</td>\n",
       "      <td>62</td>\n",
       "    </tr>\n",
       "    <tr>\n",
       "      <th>7</th>\n",
       "      <td>7</td>\n",
       "      <td>500</td>\n",
       "      <td>2974</td>\n",
       "      <td>22.750666</td>\n",
       "      <td>-2.702166</td>\n",
       "      <td>0</td>\n",
       "      <td>1.469059e+09</td>\n",
       "      <td>3</td>\n",
       "      <td>15758691713769710420</td>\n",
       "      <td>1.0</td>\n",
       "      <td>1614</td>\n",
       "    </tr>\n",
       "  </tbody>\n",
       "</table>\n",
       "</div>"
      ],
      "text/plain": [
       "   idx  xpos  ypos     radius  zRotation  frame_idx     timestamp  cam_id  \\\n",
       "5    5   488   701  22.686844   1.733468          0  1.469059e+09       3   \n",
       "6    6   486   825  22.852934   2.802199          0  1.469059e+09       3   \n",
       "7    7   500  2974  22.750666  -2.702166          0  1.469059e+09       3   \n",
       "\n",
       "                  fc_id  confidence    id  \n",
       "5  15758691713769710420         1.0  1324  \n",
       "6  15758691713769710420         1.0    62  \n",
       "7  15758691713769710420         1.0  1614  "
      ]
     },
     "execution_count": 10,
     "metadata": {},
     "output_type": "execute_result"
    }
   ],
   "source": [
    "prep.calcIds(df, 0.99, 2015).head(3)"
   ]
  },
  {
   "cell_type": "code",
   "execution_count": 11,
   "metadata": {
    "ExecuteTime": {
     "end_time": "2017-02-14T13:34:31.940064",
     "start_time": "2017-02-14T13:33:27.204434"
    },
    "collapsed": false
   },
   "outputs": [
    {
     "data": {
      "text/html": [
       "<div>\n",
       "<table border=\"1\" class=\"dataframe\">\n",
       "  <thead>\n",
       "    <tr style=\"text-align: right;\">\n",
       "      <th></th>\n",
       "      <th>idx</th>\n",
       "      <th>xpos</th>\n",
       "      <th>ypos</th>\n",
       "      <th>radius</th>\n",
       "      <th>zRotation</th>\n",
       "      <th>frame_idx</th>\n",
       "      <th>timestamp</th>\n",
       "      <th>cam_id</th>\n",
       "      <th>fc_id</th>\n",
       "      <th>confidence</th>\n",
       "      <th>id</th>\n",
       "    </tr>\n",
       "  </thead>\n",
       "  <tbody>\n",
       "    <tr>\n",
       "      <th>5</th>\n",
       "      <td>5</td>\n",
       "      <td>488</td>\n",
       "      <td>701</td>\n",
       "      <td>22.686844</td>\n",
       "      <td>1.733468</td>\n",
       "      <td>0</td>\n",
       "      <td>1.469059e+09</td>\n",
       "      <td>3</td>\n",
       "      <td>15758691713769710420</td>\n",
       "      <td>1.0</td>\n",
       "      <td>2649</td>\n",
       "    </tr>\n",
       "    <tr>\n",
       "      <th>6</th>\n",
       "      <td>6</td>\n",
       "      <td>486</td>\n",
       "      <td>825</td>\n",
       "      <td>22.852934</td>\n",
       "      <td>2.802199</td>\n",
       "      <td>0</td>\n",
       "      <td>1.469059e+09</td>\n",
       "      <td>3</td>\n",
       "      <td>15758691713769710420</td>\n",
       "      <td>1.0</td>\n",
       "      <td>125</td>\n",
       "    </tr>\n",
       "    <tr>\n",
       "      <th>7</th>\n",
       "      <td>7</td>\n",
       "      <td>500</td>\n",
       "      <td>2974</td>\n",
       "      <td>22.750666</td>\n",
       "      <td>-2.702166</td>\n",
       "      <td>0</td>\n",
       "      <td>1.469059e+09</td>\n",
       "      <td>3</td>\n",
       "      <td>15758691713769710420</td>\n",
       "      <td>1.0</td>\n",
       "      <td>3228</td>\n",
       "    </tr>\n",
       "  </tbody>\n",
       "</table>\n",
       "</div>"
      ],
      "text/plain": [
       "   idx  xpos  ypos     radius  zRotation  frame_idx     timestamp  cam_id  \\\n",
       "5    5   488   701  22.686844   1.733468          0  1.469059e+09       3   \n",
       "6    6   486   825  22.852934   2.802199          0  1.469059e+09       3   \n",
       "7    7   500  2974  22.750666  -2.702166          0  1.469059e+09       3   \n",
       "\n",
       "                  fc_id  confidence    id  \n",
       "5  15758691713769710420         1.0  2649  \n",
       "6  15758691713769710420         1.0   125  \n",
       "7  15758691713769710420         1.0  3228  "
      ]
     },
     "execution_count": 11,
     "metadata": {},
     "output_type": "execute_result"
    }
   ],
   "source": [
    "prep.calcIds(df, 0.99, 2016).head(3)"
   ]
  },
  {
   "cell_type": "markdown",
   "metadata": {},
   "source": [
    "# Look at the network"
   ]
  },
  {
   "cell_type": "code",
   "execution_count": 81,
   "metadata": {
    "ExecuteTime": {
     "end_time": "2017-02-14T14:30:15.647380",
     "start_time": "2017-02-14T14:30:11.036963"
    },
    "collapsed": false
   },
   "outputs": [],
   "source": [
    "g = nx.read_graphml(\"test2016day_0.99conf_160dist_6ilen.graphml\")"
   ]
  },
  {
   "cell_type": "code",
   "execution_count": 82,
   "metadata": {
    "ExecuteTime": {
     "end_time": "2017-02-14T14:31:49.199124",
     "start_time": "2017-02-14T14:30:15.650280"
    },
    "collapsed": false
   },
   "outputs": [],
   "source": [
    "stat = prep.network_statistics(g)"
   ]
  },
  {
   "cell_type": "code",
   "execution_count": 83,
   "metadata": {
    "ExecuteTime": {
     "end_time": "2017-02-14T14:31:49.208892",
     "start_time": "2017-02-14T14:31:49.202224"
    },
    "collapsed": false
   },
   "outputs": [
    {
     "data": {
      "text/plain": [
       "{'av_deg': 157.77426312005753,\n",
       " 'av_shortest_path': 2.2693057631536755,\n",
       " 'cc': 0.29647721640935665,\n",
       " 'components': 1,\n",
       " 'degree': dict_values([1, 15, 42, 136, 4, 382, 78, 129, 174, 261, 226, 3, 236, 169, 212, 1, 150, 254, 57, 138, 1, 2, 1, 203, 150, 119, 76, 124, 2, 233, 1, 268, 366, 2, 2, 154, 262, 321, 414, 151, 333, 1, 245, 262, 7, 1, 165, 240, 189, 293, 114, 169, 247, 467, 115, 1, 338, 346, 260, 1, 1, 1, 291, 171, 234, 73, 1, 280, 397, 245, 3, 3, 288, 139, 313, 1, 1, 79, 2, 158, 163, 100, 1, 2, 3, 340, 261, 113, 1, 76, 248, 2, 337, 2, 286, 1, 1, 273, 408, 123, 337, 109, 50, 2, 1, 2, 91, 1, 292, 1, 195, 1, 333, 2, 180, 1, 326, 33, 1, 280, 315, 338, 27, 1, 521, 344, 167, 213, 47, 135, 169, 286, 190, 523, 1, 220, 272, 18, 162, 418, 2, 384, 1, 2, 1, 145, 265, 335, 423, 140, 192, 1, 153, 175, 12, 68, 376, 367, 128, 87, 1, 282, 112, 197, 222, 215, 66, 471, 130, 1, 147, 276, 251, 1, 264, 187, 1, 99, 2, 2, 1, 1, 1, 2, 359, 385, 70, 182, 181, 304, 234, 109, 59, 1, 393, 230, 143, 5, 169, 1, 226, 292, 1, 2, 322, 154, 308, 101, 219, 1, 320, 1, 2, 340, 1, 385, 323, 380, 172, 201, 1, 397, 429, 346, 84, 3, 177, 4, 2, 67, 1, 233, 440, 212, 307, 1, 341, 1, 2, 1, 364, 1, 163, 212, 427, 65, 152, 1, 2, 266, 242, 1, 353, 1, 1, 1, 262, 25, 1, 1, 2, 167, 403, 87, 90, 92, 2, 1, 94, 370, 36, 1, 267, 253, 1, 4, 54, 150, 397, 157, 3, 190, 274, 1, 400, 43, 137, 128, 172, 228, 1, 256, 223, 1, 1, 359, 1, 189, 143, 198, 4, 2, 1, 274, 24, 1, 99, 6, 77, 76, 420, 123, 95, 78, 224, 42, 259, 254, 425, 210, 296, 210, 67, 263, 114, 285, 18, 187, 2, 329, 295, 1, 328, 104, 1, 1, 222, 3, 32, 248, 2, 1, 357, 335, 166, 115, 466, 53, 111, 2, 143, 563, 428, 180, 330, 319, 1, 1, 89, 362, 2, 285, 194, 340, 76, 100, 213, 495, 411, 310, 257, 182, 234, 266, 123, 1, 176, 272, 192, 35, 201, 22, 267, 253, 172, 199, 176, 354, 146, 22, 229, 124, 280, 152, 365, 1, 117, 36, 1, 407, 1, 147, 1, 347, 1, 438, 159, 294, 177, 407, 297, 238, 250, 350, 32, 102, 86, 163, 189, 26, 1, 282, 335, 73, 124, 356, 1, 1, 213, 1, 45, 424, 278, 340, 81, 281, 212, 138, 1, 320, 238, 287, 1, 259, 2, 411, 1, 30, 287, 1, 162, 58, 1, 369, 193, 200, 1, 2, 1, 1, 49, 168, 2, 167, 220, 199, 224, 348, 218, 116, 391, 52, 150, 366, 238, 200, 172, 254, 388, 313, 126, 193, 218, 189, 154, 95, 261, 290, 163, 113, 457, 1, 53, 297, 382, 1, 253, 120, 43, 328, 190, 203, 1, 1, 1, 286, 36, 122, 351, 1, 55, 1, 2, 1, 309, 324, 250, 204, 98, 296, 2, 321, 81, 1, 320, 1, 1, 315, 13, 5, 1, 177, 122, 196, 106, 299, 199, 353, 1, 219, 353, 116, 215, 283, 398, 12, 1, 1, 215, 1, 247, 83, 269, 1, 199, 1, 183, 360, 2, 1, 1, 3, 28, 2, 392, 1, 15, 1, 274, 263, 242, 145, 181, 1, 144, 366, 188, 252, 371, 124, 161, 162, 240, 308, 3, 3, 355, 1, 367, 1, 382, 217, 1, 212, 267, 343, 76, 298, 1, 88, 239, 270, 1, 1, 1, 58, 24, 222, 132, 284, 418, 329, 144, 234, 395, 263, 270, 1, 121, 144, 300, 1, 193, 284, 1, 1, 195, 47, 2, 111, 352, 421, 2, 271, 121, 117, 294, 245, 266, 1, 350, 154, 100, 1, 190, 1, 458, 19, 1, 2, 235, 194, 292, 1, 367, 303, 206, 162, 7, 302, 242, 1, 112, 398, 167, 101, 314, 1, 1, 365, 2, 306, 2, 54, 175, 3, 3, 322, 441, 166, 103, 105, 205, 92, 374, 1, 271, 242, 1, 455, 97, 1, 1, 1, 1, 1, 1, 1, 1, 330, 143, 2, 70, 281, 1, 419, 419, 288, 41, 71, 153, 167, 188, 1, 320, 35, 3, 1, 1, 1, 180, 174, 149, 417, 168, 395, 2, 170, 1, 11, 297, 321, 2, 53, 123, 142, 1, 268, 232, 274, 383, 304, 329, 69, 5, 101, 359, 170, 386, 197, 48, 2, 32, 79, 394, 21, 2, 373, 1, 196, 287, 79, 60, 235, 1, 1, 299, 105, 327, 222, 371, 3, 305, 272, 452, 246, 292, 2, 2, 1, 329, 281, 2, 96, 243, 309, 295, 80, 1, 236, 169, 124, 2, 271, 1, 1, 1, 94, 170, 318, 42, 227, 249, 278, 306, 3, 276, 341, 347, 1, 3, 1, 225, 361, 331, 132, 336, 373, 333, 261, 331, 180, 4, 2, 302, 290, 495, 47, 354, 2, 280, 275, 235, 211, 1, 292, 151, 1, 49, 215, 297, 107, 220, 1, 233, 446, 505, 197, 173, 144, 1, 73, 2, 272, 87, 100, 314, 61, 88, 235, 103, 160, 28, 156, 1, 156, 284, 179, 60, 272, 202, 295, 314, 267, 1, 9, 2, 1, 75, 129, 355, 1, 1, 365, 8, 2, 281, 1, 153, 77, 403, 136, 1, 100, 1, 192, 242, 148, 2, 1, 273, 25, 220, 291, 350, 295, 23, 77, 279, 465, 267, 213, 2, 116, 442, 144, 389, 123, 196, 1, 1, 45, 256, 1, 11, 265, 234, 438, 100, 251, 51, 158, 316, 228, 11, 384, 59, 1, 1, 5, 155, 8, 196, 33, 127, 185, 1, 1, 272, 1, 150, 1, 162, 1, 150, 253, 107, 113, 122, 408, 152, 18, 222, 143, 341, 38, 194, 206, 201, 267, 1, 345, 341, 1, 178, 1, 2, 2, 337, 2, 101, 2, 224, 222, 93, 106, 215, 230, 216, 1, 4, 60, 308, 80, 1, 235, 1, 95, 254, 38, 122, 273, 1, 352, 334, 305, 2, 2, 131, 450, 3, 357, 1, 275, 178, 5, 81, 1, 251, 1, 373, 1, 11, 4, 336, 1, 316, 124, 230, 46, 301, 268, 2, 310, 1, 237, 1, 1, 1, 54, 10, 348, 175, 125, 420, 2, 239, 251, 328, 348, 190, 1, 1, 144, 319, 176, 172, 4, 2, 59, 481, 284, 369, 387, 35, 394, 316, 1, 1, 98, 396, 1, 476, 401, 1, 274, 375, 356, 104, 94, 1, 87, 173, 1, 1, 214, 242, 1, 346, 109, 7, 275, 109, 1, 202, 265, 88, 265, 1, 2, 32, 373, 193, 1, 46, 159, 1, 75, 186, 145, 163, 1, 1, 445, 96, 398, 2, 312, 84, 298, 20, 53, 1, 143, 1, 339, 94, 185, 130, 3, 1, 160, 116, 173, 305, 269, 195, 464, 359, 107, 185, 1, 264, 274, 163, 103, 1, 201, 235, 108, 2, 1, 173, 69, 125, 1, 227, 227, 330, 126, 258, 503, 188, 146, 130, 371, 74, 3, 1, 1, 184, 415, 88, 1, 171, 2, 1, 1, 441, 2, 1, 1, 112, 87, 1, 358, 321, 55, 1, 411, 127, 175, 219, 1, 437, 386, 71, 349, 174, 383, 2, 55, 195, 414, 1, 1, 312, 227, 116, 1, 308, 1, 1, 278, 95, 1, 285, 396, 1, 337, 1, 369, 127, 332, 1, 4, 4, 309, 237, 374, 164, 291, 2, 47, 230, 1, 196, 19, 2, 208, 369, 2, 16, 239, 291, 32, 351, 320, 180, 160, 160, 112, 1, 39, 261, 201, 91, 211, 285, 247, 3, 55, 5, 68, 104, 52, 3, 252, 103, 219, 465, 1, 1, 1, 193, 260, 11, 86, 98, 166, 122, 114, 188, 1, 1, 476, 1, 1, 134, 405, 2, 257, 1, 114, 1, 344, 249, 1, 29, 131, 19, 1, 1, 286, 1, 463, 130, 192, 442, 209, 151, 321, 134, 218, 158, 331, 281, 183, 2, 277, 1, 1, 221, 115, 96, 42, 1, 321, 2, 2, 355, 242, 20, 26, 1, 249, 136, 375, 124, 232, 1, 205, 68, 404, 1, 405, 1, 358, 58, 89, 105, 234, 3, 1, 421, 156, 311, 452, 220, 17, 274, 2, 36, 161, 80, 221, 419, 256, 104, 86, 359, 26, 321, 336, 259, 246, 2, 399, 1, 1, 313, 99, 2, 1, 177, 1, 309, 37, 117, 1, 173]),\n",
       " 'density': 0.11350666411514929,\n",
       " 'diameter': 5,\n",
       " 'edges': 109732,\n",
       " 'nodes': 1391}"
      ]
     },
     "execution_count": 83,
     "metadata": {},
     "output_type": "execute_result"
    }
   ],
   "source": [
    "stat"
   ]
  },
  {
   "cell_type": "code",
   "execution_count": 92,
   "metadata": {
    "ExecuteTime": {
     "end_time": "2017-02-14T14:39:31.946452",
     "start_time": "2017-02-14T14:39:26.081433"
    },
    "collapsed": false,
    "scrolled": false
   },
   "outputs": [],
   "source": [
    "l = []\n",
    "for n in g.nodes_iter():\n",
    "#     if get_hatchdate(int(n)) == None:\n",
    "    n = int(float(n))\n",
    "    l.append((n,get_age(n, start_dt)))"
   ]
  },
  {
   "cell_type": "code",
   "execution_count": 93,
   "metadata": {
    "ExecuteTime": {
     "end_time": "2017-02-14T14:39:37.053719",
     "start_time": "2017-02-14T14:39:37.041191"
    },
    "collapsed": false
   },
   "outputs": [],
   "source": [
    "s = DataFrame(l, columns=[\"id\", \"age\"])"
   ]
  },
  {
   "cell_type": "code",
   "execution_count": 94,
   "metadata": {
    "ExecuteTime": {
     "end_time": "2017-02-14T14:39:38.024644",
     "start_time": "2017-02-14T14:39:38.005412"
    },
    "collapsed": false
   },
   "outputs": [
    {
     "data": {
      "text/html": [
       "<div>\n",
       "<table border=\"1\" class=\"dataframe\">\n",
       "  <thead>\n",
       "    <tr style=\"text-align: right;\">\n",
       "      <th></th>\n",
       "      <th>id</th>\n",
       "      <th>age</th>\n",
       "    </tr>\n",
       "  </thead>\n",
       "  <tbody>\n",
       "    <tr>\n",
       "      <th>0</th>\n",
       "      <td>1441</td>\n",
       "      <td>-8.0</td>\n",
       "    </tr>\n",
       "    <tr>\n",
       "      <th>1</th>\n",
       "      <td>3886</td>\n",
       "      <td>0.0</td>\n",
       "    </tr>\n",
       "  </tbody>\n",
       "</table>\n",
       "</div>"
      ],
      "text/plain": [
       "     id  age\n",
       "0  1441 -8.0\n",
       "1  3886  0.0"
      ]
     },
     "execution_count": 94,
     "metadata": {},
     "output_type": "execute_result"
    }
   ],
   "source": [
    "s.head(2)"
   ]
  },
  {
   "cell_type": "code",
   "execution_count": 96,
   "metadata": {
    "ExecuteTime": {
     "end_time": "2017-02-14T14:39:56.888845",
     "start_time": "2017-02-14T14:39:56.879733"
    },
    "collapsed": false
   },
   "outputs": [
    {
     "data": {
      "text/plain": [
       "110"
      ]
     },
     "execution_count": 96,
     "metadata": {},
     "output_type": "execute_result"
    }
   ],
   "source": [
    "len(s[s.age<0])"
   ]
  },
  {
   "cell_type": "code",
   "execution_count": 103,
   "metadata": {
    "ExecuteTime": {
     "end_time": "2017-02-14T14:42:52.384637",
     "start_time": "2017-02-14T14:42:52.082958"
    },
    "collapsed": false
   },
   "outputs": [
    {
     "name": "stderr",
     "output_type": "stream",
     "text": [
      "/usr/local/lib/python3.5/dist-packages/ipykernel/__main__.py:1: UserWarning: Boolean Series key will be reindexed to match DataFrame index.\n",
      "  if __name__ == '__main__':\n"
     ]
    },
    {
     "data": {
      "text/plain": [
       "<matplotlib.axes._subplots.AxesSubplot at 0x7fef9ca98160>"
      ]
     },
     "execution_count": 103,
     "metadata": {},
     "output_type": "execute_result"
    },
    {
     "data": {
      "image/png": "[encoded data removed]",
      "text/plain": [
       "<matplotlib.figure.Figure at 0x7fef9ca8c518>"
      ]
     },
     "metadata": {},
     "output_type": "display_data"
    }
   ],
   "source": [
    "s.dropna()[s.age >= 0].age.hist(bins=15)"
   ]
  },
  {
   "cell_type": "code",
   "execution_count": 104,
   "metadata": {
    "ExecuteTime": {
     "end_time": "2017-02-14T14:42:55.438081",
     "start_time": "2017-02-14T14:42:55.390859"
    },
    "collapsed": false
   },
   "outputs": [
    {
     "data": {
      "text/html": [
       "<div>\n",
       "<table border=\"1\" class=\"dataframe\">\n",
       "  <thead>\n",
       "    <tr style=\"text-align: right;\">\n",
       "      <th></th>\n",
       "      <th>id</th>\n",
       "      <th>age</th>\n",
       "    </tr>\n",
       "  </thead>\n",
       "  <tbody>\n",
       "    <tr>\n",
       "      <th>count</th>\n",
       "      <td>1296.000000</td>\n",
       "      <td>1296.000000</td>\n",
       "    </tr>\n",
       "    <tr>\n",
       "      <th>mean</th>\n",
       "      <td>2081.756944</td>\n",
       "      <td>7.595679</td>\n",
       "    </tr>\n",
       "    <tr>\n",
       "      <th>std</th>\n",
       "      <td>1168.262622</td>\n",
       "      <td>9.870909</td>\n",
       "    </tr>\n",
       "    <tr>\n",
       "      <th>min</th>\n",
       "      <td>5.000000</td>\n",
       "      <td>-33.000000</td>\n",
       "    </tr>\n",
       "    <tr>\n",
       "      <th>25%</th>\n",
       "      <td>1117.750000</td>\n",
       "      <td>1.000000</td>\n",
       "    </tr>\n",
       "    <tr>\n",
       "      <th>50%</th>\n",
       "      <td>2023.500000</td>\n",
       "      <td>8.000000</td>\n",
       "    </tr>\n",
       "    <tr>\n",
       "      <th>75%</th>\n",
       "      <td>3081.750000</td>\n",
       "      <td>15.000000</td>\n",
       "    </tr>\n",
       "    <tr>\n",
       "      <th>max</th>\n",
       "      <td>4092.000000</td>\n",
       "      <td>23.000000</td>\n",
       "    </tr>\n",
       "  </tbody>\n",
       "</table>\n",
       "</div>"
      ],
      "text/plain": [
       "                id          age\n",
       "count  1296.000000  1296.000000\n",
       "mean   2081.756944     7.595679\n",
       "std    1168.262622     9.870909\n",
       "min       5.000000   -33.000000\n",
       "25%    1117.750000     1.000000\n",
       "50%    2023.500000     8.000000\n",
       "75%    3081.750000    15.000000\n",
       "max    4092.000000    23.000000"
      ]
     },
     "execution_count": 104,
     "metadata": {},
     "output_type": "execute_result"
    }
   ],
   "source": [
    "s.dropna().describe()"
   ]
  },
  {
   "cell_type": "code",
   "execution_count": 60,
   "metadata": {
    "ExecuteTime": {
     "end_time": "2017-02-14T14:04:56.838461",
     "start_time": "2017-02-14T14:04:56.646210"
    },
    "collapsed": false
   },
   "outputs": [],
   "source": [
    "# kcc = list(nx.community.k_clique_communities(g,4))"
   ]
  },
  {
   "cell_type": "code",
   "execution_count": 61,
   "metadata": {
    "ExecuteTime": {
     "end_time": "2017-02-14T14:04:58.265697",
     "start_time": "2017-02-14T14:04:58.260712"
    },
    "collapsed": true
   },
   "outputs": [],
   "source": [
    "a = []"
   ]
  },
  {
   "cell_type": "code",
   "execution_count": 62,
   "metadata": {
    "ExecuteTime": {
     "end_time": "2017-02-14T14:05:12.154202",
     "start_time": "2017-02-14T14:05:12.128251"
    },
    "collapsed": false
   },
   "outputs": [],
   "source": [
    "for e, group in enumerate(kcc):\n",
    "    for g in group:\n",
    "        a.append((e,g))"
   ]
  },
  {
   "cell_type": "code",
   "execution_count": 63,
   "metadata": {
    "ExecuteTime": {
     "end_time": "2017-02-14T14:05:14.432572",
     "start_time": "2017-02-14T14:05:14.422270"
    },
    "collapsed": false
   },
   "outputs": [],
   "source": [
    "dfkcc = DataFrame(a, columns=[\"group\", \"bee\"])"
   ]
  },
  {
   "cell_type": "code",
   "execution_count": 64,
   "metadata": {
    "ExecuteTime": {
     "end_time": "2017-02-14T14:05:19.278725",
     "start_time": "2017-02-14T14:05:18.488008"
    },
    "collapsed": true
   },
   "outputs": [],
   "source": [
    "dfkcc[\"age\"] = dfkcc.bee.apply(lambda x: get_age(int(x), start_dt))"
   ]
  },
  {
   "cell_type": "code",
   "execution_count": 66,
   "metadata": {
    "ExecuteTime": {
     "end_time": "2017-02-14T14:05:40.781046",
     "start_time": "2017-02-14T14:05:40.741648"
    },
    "collapsed": false
   },
   "outputs": [
    {
     "data": {
      "text/plain": [
       "group\n",
       "0     13.000000\n",
       "1     10.545455\n",
       "2      0.000000\n",
       "3      1.800000\n",
       "4      6.250000\n",
       "5      2.300000\n",
       "6     11.333333\n",
       "7      9.000000\n",
       "8      5.000000\n",
       "9      7.000000\n",
       "10     0.750000\n",
       "11     8.600000\n",
       "12    10.111111\n",
       "13     4.750000\n",
       "14     3.750000\n",
       "15     4.250000\n",
       "16    11.000000\n",
       "17     9.500000\n",
       "18     9.000000\n",
       "19     8.750000\n",
       "20     0.750000\n",
       "21    11.750000\n",
       "22    10.750000\n",
       "23     9.750000\n",
       "24     8.000000\n",
       "25     5.250000\n",
       "26     9.000000\n",
       "27     8.400000\n",
       "28     9.500000\n",
       "29     5.750000\n",
       "30     6.000000\n",
       "31     2.500000\n",
       "32     9.500000\n",
       "33    11.250000\n",
       "34     8.250000\n",
       "35    11.250000\n",
       "36     2.250000\n",
       "Name: age, dtype: float64"
      ]
     },
     "execution_count": 66,
     "metadata": {},
     "output_type": "execute_result"
    }
   ],
   "source": [
    "dfkcc.groupby(by=\"group\").age.mean()"
   ]
  },
  {
   "cell_type": "code",
   "execution_count": 67,
   "metadata": {
    "ExecuteTime": {
     "end_time": "2017-02-14T14:05:49.930093",
     "start_time": "2017-02-14T14:05:49.900145"
    },
    "collapsed": false
   },
   "outputs": [
    {
     "data": {
      "text/plain": [
       "group\n",
       "0      4\n",
       "1     11\n",
       "2      4\n",
       "3      5\n",
       "4      8\n",
       "5     10\n",
       "6      6\n",
       "7      4\n",
       "8      4\n",
       "9      6\n",
       "10     4\n",
       "11     5\n",
       "12     9\n",
       "13     4\n",
       "14     4\n",
       "15     8\n",
       "16     4\n",
       "17     4\n",
       "18     7\n",
       "19     4\n",
       "20     4\n",
       "21     4\n",
       "22     4\n",
       "23     4\n",
       "24     4\n",
       "25     4\n",
       "26     4\n",
       "27     5\n",
       "28     4\n",
       "29     4\n",
       "30     4\n",
       "31     4\n",
       "32     4\n",
       "33     4\n",
       "34     4\n",
       "35     4\n",
       "36     4\n",
       "dtype: int64"
      ]
     },
     "execution_count": 67,
     "metadata": {},
     "output_type": "execute_result"
    }
   ],
   "source": [
    "dfkcc.groupby(by=\"group\").size()"
   ]
  },
  {
   "cell_type": "code",
   "execution_count": null,
   "metadata": {
    "collapsed": true
   },
   "outputs": [],
   "source": []
  },
  {
   "cell_type": "code",
   "execution_count": null,
   "metadata": {
    "collapsed": true
   },
   "outputs": [],
   "source": []
  },
  {
   "cell_type": "code",
   "execution_count": null,
   "metadata": {
    "collapsed": true
   },
   "outputs": [],
   "source": []
  },
  {
   "cell_type": "code",
   "execution_count": null,
   "metadata": {
    "collapsed": true
   },
   "outputs": [],
   "source": []
  },
  {
   "cell_type": "code",
   "execution_count": 17,
   "metadata": {
    "ExecuteTime": {
     "end_time": "2017-02-14T13:48:09.243803",
     "start_time": "2017-02-14T13:48:09.060209"
    },
    "code_folding": [],
    "collapsed": false
   },
   "outputs": [],
   "source": [
    "def get_mean_age(ages):\n",
    "    #  Input: object array (ages of bee group)\n",
    "    # Output: float (mean)\n",
    "    if any(age is not None for age in ages):\n",
    "        return np.mean(ages)\n",
    "    else:\n",
    "        return npma.masked_equal(ages, None).mean()\n",
    "    \n",
    "def get_std_age(ages):\n",
    "    #  Input: object array (ages of bee group)\n",
    "    # Output: float (standard deviation)\n",
    "    if any(age is not None for age in ages):\n",
    "        return np.std(ages)\n",
    "    else:\n",
    "        ages_edit = []\n",
    "        for age in ages:\n",
    "            if age is not None: \n",
    "                ages_edit.append(age)\n",
    "        return np.std(ages_edit)\n",
    "\n",
    "def get_bees_of_age(ages, age):\n",
    "    #  Input: numpy object ndarray (age of all bees)\n",
    "    # Output: numpy object ndarray (bees of specified age)    \n",
    "    return np.where(ages == age)[0]\n",
    "\n",
    "def get_all_bees_age(date):\n",
    "    #  Input: date object\n",
    "    # Output: numpy object ndarray (age of all bees)\n",
    "    if isinstance(date, datetime.datetime):\n",
    "        date = date.date()\n",
    "    \n",
    "    ages = []\n",
    "    with open('hatchdates2016.csv', 'r') as csvfile:\n",
    "        reader = csv.reader(csvfile, delimiter=',')\t\n",
    "        for row in reader:\n",
    "            if reader.line_num == 1:\n",
    "                continue\n",
    "            if row[2] == '':\n",
    "                age = None\n",
    "            else:\n",
    "                age = (date - str_to_datetime(row[2]).date()).days                \n",
    "            ages.append(age)\n",
    "    return np.array(ages)\n",
    "\n",
    "def get_age(dec12, date):\t\n",
    "    #  Input: integer (12 o'clock, clockwise),\n",
    "    #\t\t  date object\n",
    "    # Output: integer (age in days)\n",
    "    if isinstance(date, datetime.datetime):\n",
    "        date = date.date()\n",
    "        \n",
    "    if get_hatchdate(dec12) is None:\n",
    "        return None\n",
    "    return (date - get_hatchdate(dec12)).days\n",
    "\n",
    "def get_hatchdate(dec12):\n",
    "    #  Input: integer (12 o'clock, clockwise)\n",
    "    # Output: date object\n",
    "    with open('hatchdates2016.csv', 'r') as csvfile:\n",
    "        reader = csv.reader(csvfile, delimiter=',')\t\t\n",
    "        for row in reader:\n",
    "            if dec12 == reader.line_num - 2:\n",
    "                if (str_to_datetime(row[2]) != None):\n",
    "                    return str_to_datetime(row[2]).date()\n",
    "                else:\n",
    "                    return None\n",
    "    \n",
    "def str_to_datetime(string):\n",
    "    #  Input: string in format '%d.%m.%Y'\n",
    "    # Output: datetime object\n",
    "    if string == '':\n",
    "        return None\n",
    "    return datetime.datetime.strptime(string, '%d.%m.%Y')\n",
    "    \n",
    "def date_to_str(date):\n",
    "    # Input: date(time) object\n",
    "    # Output: string\n",
    "    if date == None:\n",
    "        return ''\n",
    "    return date.strftime('%d.%m.%Y')"
   ]
  },
  {
   "cell_type": "code",
   "execution_count": 68,
   "metadata": {
    "ExecuteTime": {
     "end_time": "2017-02-14T14:27:28.133537",
     "start_time": "2017-02-14T14:27:28.122176"
    },
    "collapsed": true
   },
   "outputs": [],
   "source": [
    "# Alter der Communities testen"
   ]
  },
  {
   "cell_type": "code",
   "execution_count": 142,
   "metadata": {
    "ExecuteTime": {
     "end_time": "2017-02-14T15:45:51.391514",
     "start_time": "2017-02-14T15:45:50.656814"
    },
    "collapsed": false
   },
   "outputs": [],
   "source": [
    "g0 = ig.Graph.Read_GraphML(\"test2016day_0.99conf_160dist_6ilen.graphml\")"
   ]
  },
  {
   "cell_type": "code",
   "execution_count": 143,
   "metadata": {
    "ExecuteTime": {
     "end_time": "2017-02-14T15:45:51.665405",
     "start_time": "2017-02-14T15:45:51.653909"
    },
    "collapsed": true
   },
   "outputs": [],
   "source": [
    "def getCommunitiesFastGreedy(g):\n",
    "\n",
    "    fg = g.community_fastgreedy()\n",
    "    vc = fg.as_clustering(fg.optimal_count)\n",
    "\n",
    "    membership = vc.membership\n",
    "    ids = [[] for i in range(len(vc.sizes()))]\n",
    "\n",
    "    for name, membership in zip(g.vs, membership):\n",
    "        ids[membership].append(int(float(name['id'])))\n",
    "\n",
    "    return ids"
   ]
  },
  {
   "cell_type": "code",
   "execution_count": 144,
   "metadata": {
    "ExecuteTime": {
     "end_time": "2017-02-14T15:45:56.491618",
     "start_time": "2017-02-14T15:45:52.202093"
    },
    "collapsed": false
   },
   "outputs": [],
   "source": [
    "ccc =getCommunitiesFastGreedy(g0)"
   ]
  },
  {
   "cell_type": "code",
   "execution_count": 145,
   "metadata": {
    "ExecuteTime": {
     "end_time": "2017-02-14T15:45:56.631363",
     "start_time": "2017-02-14T15:45:56.495320"
    },
    "collapsed": false
   },
   "outputs": [
    {
     "data": {
      "text/plain": [
       "[606, 693, 85, 2, 5]"
      ]
     },
     "execution_count": 145,
     "metadata": {},
     "output_type": "execute_result"
    }
   ],
   "source": [
    "[len(x) for x in ccc]"
   ]
  },
  {
   "cell_type": "code",
   "execution_count": 146,
   "metadata": {
    "ExecuteTime": {
     "end_time": "2017-02-14T15:45:56.677454",
     "start_time": "2017-02-14T15:45:56.634242"
    },
    "collapsed": true
   },
   "outputs": [],
   "source": [
    "b = []"
   ]
  },
  {
   "cell_type": "code",
   "execution_count": 147,
   "metadata": {
    "ExecuteTime": {
     "end_time": "2017-02-14T15:45:56.728829",
     "start_time": "2017-02-14T15:45:56.680097"
    },
    "collapsed": true
   },
   "outputs": [],
   "source": [
    "for e, group in enumerate(ccc):\n",
    "    for g in group:\n",
    "        b.append((e,g))"
   ]
  },
  {
   "cell_type": "code",
   "execution_count": 148,
   "metadata": {
    "ExecuteTime": {
     "end_time": "2017-02-14T15:45:56.790246",
     "start_time": "2017-02-14T15:45:56.732226"
    },
    "collapsed": false
   },
   "outputs": [],
   "source": [
    "dfccc = DataFrame(b, columns=[\"group\", \"bee\"])"
   ]
  },
  {
   "cell_type": "code",
   "execution_count": 149,
   "metadata": {
    "ExecuteTime": {
     "end_time": "2017-02-14T15:46:03.744168",
     "start_time": "2017-02-14T15:45:56.793295"
    },
    "collapsed": true
   },
   "outputs": [],
   "source": [
    "dfccc[\"age\"] = dfccc.bee.apply(lambda x: get_age(int(x), start_dt))"
   ]
  },
  {
   "cell_type": "code",
   "execution_count": 150,
   "metadata": {
    "ExecuteTime": {
     "end_time": "2017-02-14T15:46:03.759066",
     "start_time": "2017-02-14T15:46:03.747058"
    },
    "collapsed": false
   },
   "outputs": [
    {
     "data": {
      "text/plain": [
       "group\n",
       "0    11.174825\n",
       "1     4.566510\n",
       "2     5.833333\n",
       "3     7.500000\n",
       "4    12.800000\n",
       "Name: age, dtype: float64"
      ]
     },
     "execution_count": 150,
     "metadata": {},
     "output_type": "execute_result"
    }
   ],
   "source": [
    "dfccc.groupby(by=\"group\").age.mean()"
   ]
  },
  {
   "cell_type": "code",
   "execution_count": 151,
   "metadata": {
    "ExecuteTime": {
     "end_time": "2017-02-14T15:46:03.895213",
     "start_time": "2017-02-14T15:46:03.763036"
    },
    "collapsed": false
   },
   "outputs": [
    {
     "data": {
      "text/plain": [
       "group\n",
       "0    11.235617\n",
       "1     7.015983\n",
       "2    10.755146\n",
       "3     9.192388\n",
       "4     5.718391\n",
       "Name: age, dtype: float64"
      ]
     },
     "execution_count": 151,
     "metadata": {},
     "output_type": "execute_result"
    }
   ],
   "source": [
    "dfccc.groupby(by=\"group\").age.std()"
   ]
  },
  {
   "cell_type": "code",
   "execution_count": 152,
   "metadata": {
    "ExecuteTime": {
     "end_time": "2017-02-14T15:46:03.955059",
     "start_time": "2017-02-14T15:46:03.898985"
    },
    "collapsed": false
   },
   "outputs": [
    {
     "data": {
      "text/plain": [
       "group\n",
       "0    606\n",
       "1    693\n",
       "2     85\n",
       "3      2\n",
       "4      5\n",
       "dtype: int64"
      ]
     },
     "execution_count": 152,
     "metadata": {},
     "output_type": "execute_result"
    }
   ],
   "source": [
    "dfccc.groupby(by=\"group\").group.size()"
   ]
  },
  {
   "cell_type": "code",
   "execution_count": 153,
   "metadata": {
    "ExecuteTime": {
     "end_time": "2017-02-14T15:46:04.016730",
     "start_time": "2017-02-14T15:46:03.958760"
    },
    "collapsed": true
   },
   "outputs": [],
   "source": [
    "gr = dfccc.groupby(by=\"group\")"
   ]
  },
  {
   "cell_type": "code",
   "execution_count": 156,
   "metadata": {
    "ExecuteTime": {
     "end_time": "2017-02-14T15:46:37.861821",
     "start_time": "2017-02-14T15:46:35.579843"
    },
    "collapsed": false,
    "scrolled": false
   },
   "outputs": [
    {
     "data": {
      "image/png": "[encoded data removed]",
      "text/plain": [
       "<matplotlib.figure.Figure at 0x7fefa71c9710>"
      ]
     },
     "metadata": {},
     "output_type": "display_data"
    },
    {
     "data": {
      "image/png": "[encoded data removed]",
      "text/plain": [
       "<matplotlib.figure.Figure at 0x7fefad270550>"
      ]
     },
     "metadata": {},
     "output_type": "display_data"
    },
    {
     "data": {
      "image/png": "[encoded data removed]",
      "text/plain": [
       "<matplotlib.figure.Figure at 0x7fefab85e5c0>"
      ]
     },
     "metadata": {},
     "output_type": "display_data"
    },
    {
     "data": {
      "image/png": "[encoded data removed]",
      "text/plain": [
       "<matplotlib.figure.Figure at 0x7fef9cbc8978>"
      ]
     },
     "metadata": {},
     "output_type": "display_data"
    },
    {
     "data": {
      "image/png": "[encoded data removed]",
      "text/plain": [
       "<matplotlib.figure.Figure at 0x7fefa2846b00>"
      ]
     },
     "metadata": {},
     "output_type": "display_data"
    },
    {
     "data": {
      "text/plain": [
       "<matplotlib.figure.Figure at 0x7fefa1e639e8>"
      ]
     },
     "metadata": {},
     "output_type": "display_data"
    }
   ],
   "source": [
    "for g, group in gr:\n",
    "    number = group.shape[0]\n",
    "    ax = group.age.hist(bins=25)\n",
    "    ax.set_title(\"Group #{}, Number of bees: {}\".format(g,number))\n",
    "    ax.set_xlabel(\"age\")\n",
    "    ax.set_ylabel(\"bees\")\n",
    "    #ax.set_xlim(-10,25)\n",
    "    ax.set_ylim(0, 200)\n",
    "    plt.figure()"
   ]
  },
  {
   "cell_type": "code",
   "execution_count": 163,
   "metadata": {
    "ExecuteTime": {
     "end_time": "2017-02-14T16:00:51.204832",
     "start_time": "2017-02-14T16:00:51.145795"
    },
    "collapsed": false
   },
   "outputs": [
    {
     "data": {
      "text/html": [
       "<div>\n",
       "<table border=\"1\" class=\"dataframe\">\n",
       "  <thead>\n",
       "    <tr style=\"text-align: right;\">\n",
       "      <th></th>\n",
       "      <th>group</th>\n",
       "      <th>bee</th>\n",
       "      <th>age</th>\n",
       "    </tr>\n",
       "  </thead>\n",
       "  <tbody>\n",
       "    <tr>\n",
       "      <th>0</th>\n",
       "      <td>0</td>\n",
       "      <td>750</td>\n",
       "      <td>NaN</td>\n",
       "    </tr>\n",
       "    <tr>\n",
       "      <th>1</th>\n",
       "      <td>0</td>\n",
       "      <td>5</td>\n",
       "      <td>7.0</td>\n",
       "    </tr>\n",
       "    <tr>\n",
       "      <th>2</th>\n",
       "      <td>0</td>\n",
       "      <td>10</td>\n",
       "      <td>17.0</td>\n",
       "    </tr>\n",
       "    <tr>\n",
       "      <th>3</th>\n",
       "      <td>0</td>\n",
       "      <td>12</td>\n",
       "      <td>10.0</td>\n",
       "    </tr>\n",
       "    <tr>\n",
       "      <th>4</th>\n",
       "      <td>0</td>\n",
       "      <td>2064</td>\n",
       "      <td>22.0</td>\n",
       "    </tr>\n",
       "  </tbody>\n",
       "</table>\n",
       "</div>"
      ],
      "text/plain": [
       "   group   bee   age\n",
       "0      0   750   NaN\n",
       "1      0     5   7.0\n",
       "2      0    10  17.0\n",
       "3      0    12  10.0\n",
       "4      0  2064  22.0"
      ]
     },
     "execution_count": 163,
     "metadata": {},
     "output_type": "execute_result"
    }
   ],
   "source": [
    "dfccc.head()"
   ]
  },
  {
   "cell_type": "code",
   "execution_count": 159,
   "metadata": {
    "ExecuteTime": {
     "end_time": "2017-02-14T15:58:56.153164",
     "start_time": "2017-02-14T15:58:55.449642"
    },
    "collapsed": false
   },
   "outputs": [],
   "source": [
    "from scipy import stats"
   ]
  },
  {
   "cell_type": "code",
   "execution_count": 169,
   "metadata": {
    "ExecuteTime": {
     "end_time": "2017-02-14T16:02:19.845047",
     "start_time": "2017-02-14T16:02:19.821701"
    },
    "collapsed": false
   },
   "outputs": [],
   "source": [
    "pv = stats.ttest_ind(dfccc.age[dfccc.group==0].dropna(), dfccc[dfccc.group==1].age.dropna())"
   ]
  },
  {
   "cell_type": "code",
   "execution_count": 170,
   "metadata": {
    "ExecuteTime": {
     "end_time": "2017-02-14T16:02:22.493388",
     "start_time": "2017-02-14T16:02:22.484351"
    },
    "collapsed": false
   },
   "outputs": [
    {
     "data": {
      "text/plain": [
       "2.2834754008554274e-33"
      ]
     },
     "execution_count": 170,
     "metadata": {},
     "output_type": "execute_result"
    }
   ],
   "source": [
    "pv.pvalue"
   ]
  },
  {
   "cell_type": "code",
   "execution_count": 195,
   "metadata": {
    "ExecuteTime": {
     "end_time": "2017-02-14T16:41:04.034536",
     "start_time": "2017-02-14T16:41:04.027953"
    },
    "collapsed": false
   },
   "outputs": [],
   "source": [
    "pd.set_option('display.float_format', lambda x: '%.5f' % x)"
   ]
  },
  {
   "cell_type": "code",
   "execution_count": 197,
   "metadata": {
    "ExecuteTime": {
     "end_time": "2017-02-14T16:44:49.932672",
     "start_time": "2017-02-14T16:44:49.768620"
    },
    "collapsed": false
   },
   "outputs": [
    {
     "data": {
      "text/html": [
       "<div>\n",
       "<table border=\"1\" class=\"dataframe\">\n",
       "  <thead>\n",
       "    <tr style=\"text-align: right;\">\n",
       "      <th></th>\n",
       "      <th>i</th>\n",
       "      <th>j</th>\n",
       "      <th>pvalue</th>\n",
       "    </tr>\n",
       "  </thead>\n",
       "  <tbody>\n",
       "    <tr>\n",
       "      <th>0</th>\n",
       "      <td>0</td>\n",
       "      <td>0</td>\n",
       "      <td>0.00054</td>\n",
       "    </tr>\n",
       "    <tr>\n",
       "      <th>1</th>\n",
       "      <td>0</td>\n",
       "      <td>1</td>\n",
       "      <td>0.00000</td>\n",
       "    </tr>\n",
       "    <tr>\n",
       "      <th>2</th>\n",
       "      <td>0</td>\n",
       "      <td>2</td>\n",
       "      <td>0.00000</td>\n",
       "    </tr>\n",
       "    <tr>\n",
       "      <th>3</th>\n",
       "      <td>0</td>\n",
       "      <td>3</td>\n",
       "      <td>0.50000</td>\n",
       "    </tr>\n",
       "    <tr>\n",
       "      <th>4</th>\n",
       "      <td>0</td>\n",
       "      <td>4</td>\n",
       "      <td>0.37500</td>\n",
       "    </tr>\n",
       "    <tr>\n",
       "      <th>5</th>\n",
       "      <td>1</td>\n",
       "      <td>0</td>\n",
       "      <td>0.00000</td>\n",
       "    </tr>\n",
       "    <tr>\n",
       "      <th>6</th>\n",
       "      <td>1</td>\n",
       "      <td>1</td>\n",
       "      <td>0.00000</td>\n",
       "    </tr>\n",
       "    <tr>\n",
       "      <th>7</th>\n",
       "      <td>1</td>\n",
       "      <td>2</td>\n",
       "      <td>0.08205</td>\n",
       "    </tr>\n",
       "    <tr>\n",
       "      <th>8</th>\n",
       "      <td>1</td>\n",
       "      <td>3</td>\n",
       "      <td>1.00000</td>\n",
       "    </tr>\n",
       "    <tr>\n",
       "      <th>9</th>\n",
       "      <td>1</td>\n",
       "      <td>4</td>\n",
       "      <td>0.37500</td>\n",
       "    </tr>\n",
       "    <tr>\n",
       "      <th>10</th>\n",
       "      <td>2</td>\n",
       "      <td>0</td>\n",
       "      <td>0.00000</td>\n",
       "    </tr>\n",
       "    <tr>\n",
       "      <th>11</th>\n",
       "      <td>2</td>\n",
       "      <td>1</td>\n",
       "      <td>0.00000</td>\n",
       "    </tr>\n",
       "    <tr>\n",
       "      <th>12</th>\n",
       "      <td>2</td>\n",
       "      <td>2</td>\n",
       "      <td>0.00102</td>\n",
       "    </tr>\n",
       "    <tr>\n",
       "      <th>13</th>\n",
       "      <td>2</td>\n",
       "      <td>3</td>\n",
       "      <td>1.00000</td>\n",
       "    </tr>\n",
       "    <tr>\n",
       "      <th>14</th>\n",
       "      <td>2</td>\n",
       "      <td>4</td>\n",
       "      <td>1.00000</td>\n",
       "    </tr>\n",
       "    <tr>\n",
       "      <th>15</th>\n",
       "      <td>3</td>\n",
       "      <td>0</td>\n",
       "      <td>0.00000</td>\n",
       "    </tr>\n",
       "    <tr>\n",
       "      <th>16</th>\n",
       "      <td>3</td>\n",
       "      <td>1</td>\n",
       "      <td>0.00000</td>\n",
       "    </tr>\n",
       "    <tr>\n",
       "      <th>17</th>\n",
       "      <td>3</td>\n",
       "      <td>2</td>\n",
       "      <td>0.66465</td>\n",
       "    </tr>\n",
       "    <tr>\n",
       "      <th>18</th>\n",
       "      <td>3</td>\n",
       "      <td>3</td>\n",
       "      <td>1.00000</td>\n",
       "    </tr>\n",
       "    <tr>\n",
       "      <th>19</th>\n",
       "      <td>3</td>\n",
       "      <td>4</td>\n",
       "      <td>0.37500</td>\n",
       "    </tr>\n",
       "    <tr>\n",
       "      <th>20</th>\n",
       "      <td>4</td>\n",
       "      <td>0</td>\n",
       "      <td>0.00054</td>\n",
       "    </tr>\n",
       "    <tr>\n",
       "      <th>21</th>\n",
       "      <td>4</td>\n",
       "      <td>1</td>\n",
       "      <td>0.00000</td>\n",
       "    </tr>\n",
       "    <tr>\n",
       "      <th>22</th>\n",
       "      <td>4</td>\n",
       "      <td>2</td>\n",
       "      <td>0.00000</td>\n",
       "    </tr>\n",
       "    <tr>\n",
       "      <th>23</th>\n",
       "      <td>4</td>\n",
       "      <td>3</td>\n",
       "      <td>0.50000</td>\n",
       "    </tr>\n",
       "    <tr>\n",
       "      <th>24</th>\n",
       "      <td>4</td>\n",
       "      <td>4</td>\n",
       "      <td>0.37500</td>\n",
       "    </tr>\n",
       "  </tbody>\n",
       "</table>\n",
       "</div>"
      ],
      "text/plain": [
       "    i  j  pvalue\n",
       "0   0  0 0.00054\n",
       "1   0  1 0.00000\n",
       "2   0  2 0.00000\n",
       "3   0  3 0.50000\n",
       "4   0  4 0.37500\n",
       "5   1  0 0.00000\n",
       "6   1  1 0.00000\n",
       "7   1  2 0.08205\n",
       "8   1  3 1.00000\n",
       "9   1  4 0.37500\n",
       "10  2  0 0.00000\n",
       "11  2  1 0.00000\n",
       "12  2  2 0.00102\n",
       "13  2  3 1.00000\n",
       "14  2  4 1.00000\n",
       "15  3  0 0.00000\n",
       "16  3  1 0.00000\n",
       "17  3  2 0.66465\n",
       "18  3  3 1.00000\n",
       "19  3  4 0.37500\n",
       "20  4  0 0.00054\n",
       "21  4  1 0.00000\n",
       "22  4  2 0.00000\n",
       "23  4  3 0.50000\n",
       "24  4  4 0.37500"
      ]
     },
     "execution_count": 197,
     "metadata": {},
     "output_type": "execute_result"
    }
   ],
   "source": [
    "p_values = []\n",
    "group_n = dfccc.group.unique()\n",
    "for i, j in [(i,j) for i in group_n for j in group_n]:\n",
    "    age1 = dfccc[dfccc.group == i].age\n",
    "    age2 = dfccc[dfccc.group == j].age\n",
    "    k = (age2>age1.median()).sum()\n",
    "    p_values.append({\n",
    "        'i': i,\n",
    "        'j': j,\n",
    "        'pvalue': stats.binom_test(k, age2.shape[0])\n",
    "    })\n",
    "\n",
    "pd.DataFrame(p_values)"
   ]
  },
  {
   "cell_type": "code",
   "execution_count": 191,
   "metadata": {
    "ExecuteTime": {
     "end_time": "2017-02-14T16:40:16.756991",
     "start_time": "2017-02-14T16:40:16.749293"
    },
    "collapsed": false
   },
   "outputs": [
    {
     "data": {
      "text/plain": [
       "5"
      ]
     },
     "execution_count": 191,
     "metadata": {},
     "output_type": "execute_result"
    }
   ],
   "source": [
    "group_n"
   ]
  },
  {
   "cell_type": "code",
   "execution_count": 205,
   "metadata": {
    "ExecuteTime": {
     "end_time": "2017-02-14T16:58:38.511047",
     "start_time": "2017-02-14T16:58:38.408631"
    },
    "collapsed": false
   },
   "outputs": [
    {
     "data": {
      "text/html": [
       "<div>\n",
       "<table border=\"1\" class=\"dataframe\">\n",
       "  <thead>\n",
       "    <tr style=\"text-align: right;\">\n",
       "      <th></th>\n",
       "      <th>i</th>\n",
       "      <th>j</th>\n",
       "      <th>pvalueleft</th>\n",
       "      <th>pvalueright</th>\n",
       "    </tr>\n",
       "  </thead>\n",
       "  <tbody>\n",
       "    <tr>\n",
       "      <th>0</th>\n",
       "      <td>0</td>\n",
       "      <td>0</td>\n",
       "      <td>0.00000</td>\n",
       "      <td>1.00000</td>\n",
       "    </tr>\n",
       "    <tr>\n",
       "      <th>1</th>\n",
       "      <td>0</td>\n",
       "      <td>1</td>\n",
       "      <td>0.46548</td>\n",
       "      <td>0.00000</td>\n",
       "    </tr>\n",
       "    <tr>\n",
       "      <th>2</th>\n",
       "      <td>0</td>\n",
       "      <td>2</td>\n",
       "      <td>0.29680</td>\n",
       "      <td>0.00000</td>\n",
       "    </tr>\n",
       "    <tr>\n",
       "      <th>3</th>\n",
       "      <td>0</td>\n",
       "      <td>3</td>\n",
       "      <td>0.54620</td>\n",
       "      <td>0.42197</td>\n",
       "    </tr>\n",
       "    <tr>\n",
       "      <th>4</th>\n",
       "      <td>0</td>\n",
       "      <td>4</td>\n",
       "      <td>0.28515</td>\n",
       "      <td>0.73883</td>\n",
       "    </tr>\n",
       "    <tr>\n",
       "      <th>5</th>\n",
       "      <td>1</td>\n",
       "      <td>0</td>\n",
       "      <td>0.46548</td>\n",
       "      <td>0.00000</td>\n",
       "    </tr>\n",
       "    <tr>\n",
       "      <th>6</th>\n",
       "      <td>1</td>\n",
       "      <td>1</td>\n",
       "      <td>0.00000</td>\n",
       "      <td>1.00000</td>\n",
       "    </tr>\n",
       "    <tr>\n",
       "      <th>7</th>\n",
       "      <td>1</td>\n",
       "      <td>2</td>\n",
       "      <td>0.22925</td>\n",
       "      <td>0.00055</td>\n",
       "    </tr>\n",
       "    <tr>\n",
       "      <th>8</th>\n",
       "      <td>1</td>\n",
       "      <td>3</td>\n",
       "      <td>0.30519</td>\n",
       "      <td>0.96919</td>\n",
       "    </tr>\n",
       "    <tr>\n",
       "      <th>9</th>\n",
       "      <td>1</td>\n",
       "      <td>4</td>\n",
       "      <td>0.46811</td>\n",
       "      <td>0.16101</td>\n",
       "    </tr>\n",
       "    <tr>\n",
       "      <th>10</th>\n",
       "      <td>2</td>\n",
       "      <td>0</td>\n",
       "      <td>0.29680</td>\n",
       "      <td>0.00000</td>\n",
       "    </tr>\n",
       "    <tr>\n",
       "      <th>11</th>\n",
       "      <td>2</td>\n",
       "      <td>1</td>\n",
       "      <td>0.22925</td>\n",
       "      <td>0.00055</td>\n",
       "    </tr>\n",
       "    <tr>\n",
       "      <th>12</th>\n",
       "      <td>2</td>\n",
       "      <td>2</td>\n",
       "      <td>0.00000</td>\n",
       "      <td>1.00000</td>\n",
       "    </tr>\n",
       "    <tr>\n",
       "      <th>13</th>\n",
       "      <td>2</td>\n",
       "      <td>3</td>\n",
       "      <td>0.31765</td>\n",
       "      <td>0.95919</td>\n",
       "    </tr>\n",
       "    <tr>\n",
       "      <th>14</th>\n",
       "      <td>2</td>\n",
       "      <td>4</td>\n",
       "      <td>0.28235</td>\n",
       "      <td>0.77360</td>\n",
       "    </tr>\n",
       "    <tr>\n",
       "      <th>15</th>\n",
       "      <td>3</td>\n",
       "      <td>0</td>\n",
       "      <td>0.54620</td>\n",
       "      <td>0.42197</td>\n",
       "    </tr>\n",
       "    <tr>\n",
       "      <th>16</th>\n",
       "      <td>3</td>\n",
       "      <td>1</td>\n",
       "      <td>0.30519</td>\n",
       "      <td>0.96919</td>\n",
       "    </tr>\n",
       "    <tr>\n",
       "      <th>17</th>\n",
       "      <td>3</td>\n",
       "      <td>2</td>\n",
       "      <td>0.31765</td>\n",
       "      <td>0.95919</td>\n",
       "    </tr>\n",
       "    <tr>\n",
       "      <th>18</th>\n",
       "      <td>3</td>\n",
       "      <td>3</td>\n",
       "      <td>0.00000</td>\n",
       "      <td>1.00000</td>\n",
       "    </tr>\n",
       "    <tr>\n",
       "      <th>19</th>\n",
       "      <td>3</td>\n",
       "      <td>4</td>\n",
       "      <td>0.60000</td>\n",
       "      <td>0.47393</td>\n",
       "    </tr>\n",
       "    <tr>\n",
       "      <th>20</th>\n",
       "      <td>4</td>\n",
       "      <td>0</td>\n",
       "      <td>0.28515</td>\n",
       "      <td>0.73883</td>\n",
       "    </tr>\n",
       "    <tr>\n",
       "      <th>21</th>\n",
       "      <td>4</td>\n",
       "      <td>1</td>\n",
       "      <td>0.46811</td>\n",
       "      <td>0.16101</td>\n",
       "    </tr>\n",
       "    <tr>\n",
       "      <th>22</th>\n",
       "      <td>4</td>\n",
       "      <td>2</td>\n",
       "      <td>0.28235</td>\n",
       "      <td>0.77360</td>\n",
       "    </tr>\n",
       "    <tr>\n",
       "      <th>23</th>\n",
       "      <td>4</td>\n",
       "      <td>3</td>\n",
       "      <td>0.60000</td>\n",
       "      <td>0.47393</td>\n",
       "    </tr>\n",
       "    <tr>\n",
       "      <th>24</th>\n",
       "      <td>4</td>\n",
       "      <td>4</td>\n",
       "      <td>0.00000</td>\n",
       "      <td>1.00000</td>\n",
       "    </tr>\n",
       "  </tbody>\n",
       "</table>\n",
       "</div>"
      ],
      "text/plain": [
       "    i  j  pvalueleft  pvalueright\n",
       "0   0  0     0.00000      1.00000\n",
       "1   0  1     0.46548      0.00000\n",
       "2   0  2     0.29680      0.00000\n",
       "3   0  3     0.54620      0.42197\n",
       "4   0  4     0.28515      0.73883\n",
       "5   1  0     0.46548      0.00000\n",
       "6   1  1     0.00000      1.00000\n",
       "7   1  2     0.22925      0.00055\n",
       "8   1  3     0.30519      0.96919\n",
       "9   1  4     0.46811      0.16101\n",
       "10  2  0     0.29680      0.00000\n",
       "11  2  1     0.22925      0.00055\n",
       "12  2  2     0.00000      1.00000\n",
       "13  2  3     0.31765      0.95919\n",
       "14  2  4     0.28235      0.77360\n",
       "15  3  0     0.54620      0.42197\n",
       "16  3  1     0.30519      0.96919\n",
       "17  3  2     0.31765      0.95919\n",
       "18  3  3     0.00000      1.00000\n",
       "19  3  4     0.60000      0.47393\n",
       "20  4  0     0.28515      0.73883\n",
       "21  4  1     0.46811      0.16101\n",
       "22  4  2     0.28235      0.77360\n",
       "23  4  3     0.60000      0.47393\n",
       "24  4  4     0.00000      1.00000"
      ]
     },
     "execution_count": 205,
     "metadata": {},
     "output_type": "execute_result"
    }
   ],
   "source": [
    "p_values = []\n",
    "group_n = dfccc.group.unique()\n",
    "for i, j in [(i,j) for i in group_n for j in group_n]:\n",
    "    age1 = dfccc[dfccc.group == i].age\n",
    "    age2 = dfccc[dfccc.group == j].age\n",
    "    k = stats.ks_2samp(age1, age2)\n",
    "    p_values.append({\n",
    "        'i': i,\n",
    "        'j': j,\n",
    "        'pvalueleft': k[0],\n",
    "        'pvalueright': k[1]\n",
    "        \n",
    "    })\n",
    "\n",
    "pd.DataFrame(p_values)\n",
    "\n"
   ]
  },
  {
   "cell_type": "code",
   "execution_count": 199,
   "metadata": {
    "ExecuteTime": {
     "end_time": "2017-02-14T16:50:17.528509",
     "start_time": "2017-02-14T16:50:17.502496"
    },
    "collapsed": false
   },
   "outputs": [
    {
     "ename": "TypeError",
     "evalue": "'list' object is not callable",
     "output_type": "error",
     "traceback": [
      "\u001b[0;31m---------------------------------------------------------------------------\u001b[0m",
      "\u001b[0;31mTypeError\u001b[0m                                 Traceback (most recent call last)",
      "\u001b[0;32m<ipython-input-199-6d0af81f5840>\u001b[0m in \u001b[0;36m<module>\u001b[0;34m()\u001b[0m\n\u001b[0;32m----> 1\u001b[0;31m \u001b[0mstats\u001b[0m\u001b[0;34m.\u001b[0m\u001b[0mkstest\u001b[0m\u001b[0;34m(\u001b[0m\u001b[0;34m[\u001b[0m\u001b[0;36m1\u001b[0m\u001b[0;34m,\u001b[0m\u001b[0;36m2\u001b[0m\u001b[0;34m,\u001b[0m\u001b[0;36m3\u001b[0m\u001b[0;34m,\u001b[0m\u001b[0;36m4\u001b[0m\u001b[0;34m,\u001b[0m\u001b[0;36m5\u001b[0m\u001b[0;34m]\u001b[0m\u001b[0;34m,\u001b[0m\u001b[0;34m[\u001b[0m\u001b[0;36m1\u001b[0m\u001b[0;34m,\u001b[0m\u001b[0;36m2\u001b[0m\u001b[0;34m,\u001b[0m\u001b[0;36m3\u001b[0m\u001b[0;34m,\u001b[0m\u001b[0;36m4\u001b[0m\u001b[0;34m,\u001b[0m\u001b[0;36m5\u001b[0m\u001b[0;34m]\u001b[0m\u001b[0;34m)\u001b[0m\u001b[0;34m\u001b[0m\u001b[0m\n\u001b[0m",
      "\u001b[0;32m/usr/local/lib/python3.5/dist-packages/scipy/stats/stats.py\u001b[0m in \u001b[0;36mkstest\u001b[0;34m(rvs, cdf, args, N, alternative, mode)\u001b[0m\n\u001b[1;32m   4100\u001b[0m         \u001b[0mvals\u001b[0m \u001b[0;34m=\u001b[0m \u001b[0mnp\u001b[0m\u001b[0;34m.\u001b[0m\u001b[0msort\u001b[0m\u001b[0;34m(\u001b[0m\u001b[0mrvs\u001b[0m\u001b[0;34m)\u001b[0m\u001b[0;34m\u001b[0m\u001b[0m\n\u001b[1;32m   4101\u001b[0m         \u001b[0mN\u001b[0m \u001b[0;34m=\u001b[0m \u001b[0mlen\u001b[0m\u001b[0;34m(\u001b[0m\u001b[0mvals\u001b[0m\u001b[0;34m)\u001b[0m\u001b[0;34m\u001b[0m\u001b[0m\n\u001b[0;32m-> 4102\u001b[0;31m     \u001b[0mcdfvals\u001b[0m \u001b[0;34m=\u001b[0m \u001b[0mcdf\u001b[0m\u001b[0;34m(\u001b[0m\u001b[0mvals\u001b[0m\u001b[0;34m,\u001b[0m \u001b[0;34m*\u001b[0m\u001b[0margs\u001b[0m\u001b[0;34m)\u001b[0m\u001b[0;34m\u001b[0m\u001b[0m\n\u001b[0m\u001b[1;32m   4103\u001b[0m \u001b[0;34m\u001b[0m\u001b[0m\n\u001b[1;32m   4104\u001b[0m     \u001b[0;31m# to not break compatibility with existing code\u001b[0m\u001b[0;34m\u001b[0m\u001b[0;34m\u001b[0m\u001b[0m\n",
      "\u001b[0;31mTypeError\u001b[0m: 'list' object is not callable"
     ]
    }
   ],
   "source": [
    "stats.kstest([1,2,3,4,5],[1,2,3,4,5],)"
   ]
  },
  {
   "cell_type": "code",
   "execution_count": 202,
   "metadata": {
    "ExecuteTime": {
     "end_time": "2017-02-14T16:50:59.918597",
     "start_time": "2017-02-14T16:50:59.899300"
    },
    "collapsed": false
   },
   "outputs": [
    {
     "ename": "TypeError",
     "evalue": "'list' object is not callable",
     "output_type": "error",
     "traceback": [
      "\u001b[0;31m---------------------------------------------------------------------------\u001b[0m",
      "\u001b[0;31mTypeError\u001b[0m                                 Traceback (most recent call last)",
      "\u001b[0;32m<ipython-input-202-bc7cf28340ac>\u001b[0m in \u001b[0;36m<module>\u001b[0;34m()\u001b[0m\n\u001b[0;32m----> 1\u001b[0;31m \u001b[0mstats\u001b[0m\u001b[0;34m.\u001b[0m\u001b[0mkstest\u001b[0m\u001b[0;34m(\u001b[0m\u001b[0;34m[\u001b[0m\u001b[0;36m1\u001b[0m\u001b[0;34m,\u001b[0m\u001b[0;36m2\u001b[0m\u001b[0;34m,\u001b[0m\u001b[0;36m3\u001b[0m\u001b[0;34m]\u001b[0m\u001b[0;34m,\u001b[0m \u001b[0;34m[\u001b[0m\u001b[0;36m1\u001b[0m\u001b[0;34m,\u001b[0m\u001b[0;36m2\u001b[0m\u001b[0;34m,\u001b[0m\u001b[0;36m3\u001b[0m\u001b[0;34m]\u001b[0m\u001b[0;34m)\u001b[0m\u001b[0;34m\u001b[0m\u001b[0m\n\u001b[0m",
      "\u001b[0;32m/usr/local/lib/python3.5/dist-packages/scipy/stats/stats.py\u001b[0m in \u001b[0;36mkstest\u001b[0;34m(rvs, cdf, args, N, alternative, mode)\u001b[0m\n\u001b[1;32m   4100\u001b[0m         \u001b[0mvals\u001b[0m \u001b[0;34m=\u001b[0m \u001b[0mnp\u001b[0m\u001b[0;34m.\u001b[0m\u001b[0msort\u001b[0m\u001b[0;34m(\u001b[0m\u001b[0mrvs\u001b[0m\u001b[0;34m)\u001b[0m\u001b[0;34m\u001b[0m\u001b[0m\n\u001b[1;32m   4101\u001b[0m         \u001b[0mN\u001b[0m \u001b[0;34m=\u001b[0m \u001b[0mlen\u001b[0m\u001b[0;34m(\u001b[0m\u001b[0mvals\u001b[0m\u001b[0;34m)\u001b[0m\u001b[0;34m\u001b[0m\u001b[0m\n\u001b[0;32m-> 4102\u001b[0;31m     \u001b[0mcdfvals\u001b[0m \u001b[0;34m=\u001b[0m \u001b[0mcdf\u001b[0m\u001b[0;34m(\u001b[0m\u001b[0mvals\u001b[0m\u001b[0;34m,\u001b[0m \u001b[0;34m*\u001b[0m\u001b[0margs\u001b[0m\u001b[0;34m)\u001b[0m\u001b[0;34m\u001b[0m\u001b[0m\n\u001b[0m\u001b[1;32m   4103\u001b[0m \u001b[0;34m\u001b[0m\u001b[0m\n\u001b[1;32m   4104\u001b[0m     \u001b[0;31m# to not break compatibility with existing code\u001b[0m\u001b[0;34m\u001b[0m\u001b[0;34m\u001b[0m\u001b[0m\n",
      "\u001b[0;31mTypeError\u001b[0m: 'list' object is not callable"
     ]
    }
   ],
   "source": [
    "stats.kstest([1,2,3], [1,2,3])"
   ]
  },
  {
   "cell_type": "code",
   "execution_count": null,
   "metadata": {
    "collapsed": true
   },
   "outputs": [],
   "source": []
  }
 ],
 "metadata": {
  "anaconda-cloud": {},
  "kernelspec": {
   "display_name": "Python [default]",
   "language": "python",
   "name": "python3"
  },
  "language_info": {
   "codemirror_mode": {
    "name": "ipython",
    "version": 3
   },
   "file_extension": ".py",
   "mimetype": "text/x-python",
   "name": "python",
   "nbconvert_exporter": "python",
   "pygments_lexer": "ipython3",
   "version": "3.5.2"
  },
  "toc": {
   "colors": {
    "hover_highlight": "#DAA520",
    "running_highlight": "#FF0000",
    "selected_highlight": "#FFD700"
   },
   "moveMenuLeft": true,
   "nav_menu": {
    "height": "12px",
    "width": "252px"
   },
   "navigate_menu": true,
   "number_sections": true,
   "sideBar": true,
   "threshold": 4,
   "toc_cell": false,
   "toc_section_display": "block",
   "toc_window_display": false
  }
 },
 "nbformat": 4,
 "nbformat_minor": 2
}
