{
 "cells": [
  {
   "cell_type": "code",
   "execution_count": 138,
   "metadata": {
    "ExecuteTime": {
     "end_time": "2017-02-09T00:48:05.055416",
     "start_time": "2017-02-09T00:48:04.741597"
    },
    "collapsed": true
   },
   "outputs": [],
   "source": [
    "import networkx as nx\n",
    "import os\n",
    "import pandas as pd\n",
    "import numpy as np\n",
    "from pandas import DataFrame, Series\n",
    "import datetime\n",
    "import pytz\n",
    "import matplotlib.pyplot as plt\n",
    "import preprocessing as prep\n",
    "from collections import namedtuple\n",
    "from bb_binary import FrameContainer, Repository, load_frame_container\n",
    "import numpy as np\n",
    "import numpy.ma as npma\n",
    "import datetime\n",
    "import csv\n",
    "import igraph as ig"
   ]
  },
  {
   "cell_type": "code",
   "execution_count": 96,
   "metadata": {
    "ExecuteTime": {
     "end_time": "2017-02-09T00:32:45.941074",
     "start_time": "2017-02-09T00:32:45.929385"
    },
    "collapsed": true
   },
   "outputs": [],
   "source": [
    "%matplotlib inline"
   ]
  },
  {
   "cell_type": "code",
   "execution_count": 2,
   "metadata": {
    "ExecuteTime": {
     "end_time": "2017-02-08T23:45:38.479325",
     "start_time": "2017-02-08T23:45:38.474673"
    },
    "collapsed": false
   },
   "outputs": [],
   "source": [
    "Detection = namedtuple('Detection', ['idx', 'xpos', 'ypos', 'radius', 'zRotation', 'decodedId', 'frame_idx', 'timestamp', 'cam_id', 'fc_id'])"
   ]
  },
  {
   "cell_type": "code",
   "execution_count": 3,
   "metadata": {
    "ExecuteTime": {
     "end_time": "2017-02-08T23:45:38.509631",
     "start_time": "2017-02-08T23:45:38.481566"
    },
    "collapsed": true
   },
   "outputs": [],
   "source": [
    "def getDF(path, b, e, camID):\n",
    "    repo = Repository(path)\n",
    "    \n",
    "    tpls = []\n",
    "    myid = 0\n",
    "\n",
    "\n",
    "    for frame, fc in repo.iter_frames(begin=b, end=e, cam=camID):\n",
    "        for d in frame.detectionsUnion.detectionsDP:\n",
    "            d = Detection(d.idx, d.xpos, d.ypos, d.radius, d.zRotation, list(d.decodedId), myid, frame.timestamp, fc.camId, fc.id)\n",
    "            tpls.append(d)\n",
    "        myid += 1\n",
    "\n",
    "    df = DataFrame(tpls)\n",
    "    return df"
   ]
  },
  {
   "cell_type": "code",
   "execution_count": 54,
   "metadata": {
    "ExecuteTime": {
     "end_time": "2017-02-09T00:00:48.474267",
     "start_time": "2017-02-09T00:00:48.468726"
    },
    "collapsed": true
   },
   "outputs": [],
   "source": [
    "start = \"2016-07-21T12:03:00Z\"\n",
    "start_dt = datetime.datetime.strptime(start, \"%Y-%m-%dT%H:%M:%SZ\").replace(tzinfo=pytz.UTC)\n",
    "start_ts = start_dt.timestamp()\n",
    "end_dt = start_dt + datetime.timedelta(minutes=45)\n",
    "end_ts = end_dt.timestamp()"
   ]
  },
  {
   "cell_type": "code",
   "execution_count": 55,
   "metadata": {
    "ExecuteTime": {
     "end_time": "2017-02-09T00:01:18.269461",
     "start_time": "2017-02-09T00:00:49.219939"
    },
    "collapsed": false
   },
   "outputs": [],
   "source": [
    "df = getDF(\"/storage/mi/aschle/hour2016/\",start_ts, end_ts, 3)"
   ]
  },
  {
   "cell_type": "code",
   "execution_count": 56,
   "metadata": {
    "ExecuteTime": {
     "end_time": "2017-02-09T00:01:18.286337",
     "start_time": "2017-02-09T00:01:18.271542"
    },
    "collapsed": false
   },
   "outputs": [
    {
     "data": {
      "text/plain": [
       "8127"
      ]
     },
     "execution_count": 56,
     "metadata": {},
     "output_type": "execute_result"
    }
   ],
   "source": [
    "len(df.frame_idx.unique())"
   ]
  },
  {
   "cell_type": "code",
   "execution_count": 11,
   "metadata": {
    "ExecuteTime": {
     "end_time": "2017-02-08T23:58:35.793937",
     "start_time": "2017-02-08T23:58:34.635105"
    },
    "collapsed": false
   },
   "outputs": [
    {
     "data": {
      "text/html": [
       "<div>\n",
       "<table border=\"1\" class=\"dataframe\">\n",
       "  <thead>\n",
       "    <tr style=\"text-align: right;\">\n",
       "      <th></th>\n",
       "      <th>idx</th>\n",
       "      <th>xpos</th>\n",
       "      <th>ypos</th>\n",
       "      <th>radius</th>\n",
       "      <th>zRotation</th>\n",
       "      <th>frame_idx</th>\n",
       "      <th>timestamp</th>\n",
       "      <th>cam_id</th>\n",
       "      <th>fc_id</th>\n",
       "      <th>confidence</th>\n",
       "      <th>id</th>\n",
       "    </tr>\n",
       "  </thead>\n",
       "  <tbody>\n",
       "    <tr>\n",
       "      <th>0</th>\n",
       "      <td>0</td>\n",
       "      <td>140</td>\n",
       "      <td>1449</td>\n",
       "      <td>23.079645</td>\n",
       "      <td>-0.250615</td>\n",
       "      <td>0</td>\n",
       "      <td>1.469103e+09</td>\n",
       "      <td>0</td>\n",
       "      <td>12799584830633962843</td>\n",
       "      <td>1.000000</td>\n",
       "      <td>954</td>\n",
       "    </tr>\n",
       "    <tr>\n",
       "      <th>2</th>\n",
       "      <td>2</td>\n",
       "      <td>164</td>\n",
       "      <td>1924</td>\n",
       "      <td>22.645014</td>\n",
       "      <td>0.465934</td>\n",
       "      <td>0</td>\n",
       "      <td>1.469103e+09</td>\n",
       "      <td>0</td>\n",
       "      <td>12799584830633962843</td>\n",
       "      <td>1.000000</td>\n",
       "      <td>645</td>\n",
       "    </tr>\n",
       "    <tr>\n",
       "      <th>5</th>\n",
       "      <td>5</td>\n",
       "      <td>212</td>\n",
       "      <td>824</td>\n",
       "      <td>22.544197</td>\n",
       "      <td>2.202154</td>\n",
       "      <td>0</td>\n",
       "      <td>1.469103e+09</td>\n",
       "      <td>0</td>\n",
       "      <td>12799584830633962843</td>\n",
       "      <td>0.992157</td>\n",
       "      <td>668</td>\n",
       "    </tr>\n",
       "    <tr>\n",
       "      <th>9</th>\n",
       "      <td>9</td>\n",
       "      <td>439</td>\n",
       "      <td>1874</td>\n",
       "      <td>23.073574</td>\n",
       "      <td>-0.601321</td>\n",
       "      <td>0</td>\n",
       "      <td>1.469103e+09</td>\n",
       "      <td>0</td>\n",
       "      <td>12799584830633962843</td>\n",
       "      <td>0.992157</td>\n",
       "      <td>1945</td>\n",
       "    </tr>\n",
       "    <tr>\n",
       "      <th>10</th>\n",
       "      <td>10</td>\n",
       "      <td>513</td>\n",
       "      <td>1624</td>\n",
       "      <td>22.943163</td>\n",
       "      <td>-0.637520</td>\n",
       "      <td>0</td>\n",
       "      <td>1.469103e+09</td>\n",
       "      <td>0</td>\n",
       "      <td>12799584830633962843</td>\n",
       "      <td>1.000000</td>\n",
       "      <td>918</td>\n",
       "    </tr>\n",
       "  </tbody>\n",
       "</table>\n",
       "</div>"
      ],
      "text/plain": [
       "    idx  xpos  ypos     radius  zRotation  frame_idx     timestamp  cam_id  \\\n",
       "0     0   140  1449  23.079645  -0.250615          0  1.469103e+09       0   \n",
       "2     2   164  1924  22.645014   0.465934          0  1.469103e+09       0   \n",
       "5     5   212   824  22.544197   2.202154          0  1.469103e+09       0   \n",
       "9     9   439  1874  23.073574  -0.601321          0  1.469103e+09       0   \n",
       "10   10   513  1624  22.943163  -0.637520          0  1.469103e+09       0   \n",
       "\n",
       "                   fc_id  confidence    id  \n",
       "0   12799584830633962843    1.000000   954  \n",
       "2   12799584830633962843    1.000000   645  \n",
       "5   12799584830633962843    0.992157   668  \n",
       "9   12799584830633962843    0.992157  1945  \n",
       "10  12799584830633962843    1.000000   918  "
      ]
     },
     "execution_count": 11,
     "metadata": {},
     "output_type": "execute_result"
    }
   ],
   "source": [
    "prep.calcIds(df, 0.99, 2015).head()"
   ]
  },
  {
   "cell_type": "code",
   "execution_count": 8,
   "metadata": {
    "ExecuteTime": {
     "end_time": "2017-02-08T23:45:42.254273",
     "start_time": "2017-02-08T23:45:40.680866"
    },
    "collapsed": false
   },
   "outputs": [
    {
     "data": {
      "text/html": [
       "<div>\n",
       "<table border=\"1\" class=\"dataframe\">\n",
       "  <thead>\n",
       "    <tr style=\"text-align: right;\">\n",
       "      <th></th>\n",
       "      <th>idx</th>\n",
       "      <th>xpos</th>\n",
       "      <th>ypos</th>\n",
       "      <th>radius</th>\n",
       "      <th>zRotation</th>\n",
       "      <th>frame_idx</th>\n",
       "      <th>timestamp</th>\n",
       "      <th>cam_id</th>\n",
       "      <th>fc_id</th>\n",
       "      <th>confidence</th>\n",
       "      <th>id</th>\n",
       "    </tr>\n",
       "  </thead>\n",
       "  <tbody>\n",
       "    <tr>\n",
       "      <th>3</th>\n",
       "      <td>3</td>\n",
       "      <td>100</td>\n",
       "      <td>3349</td>\n",
       "      <td>22.783443</td>\n",
       "      <td>-1.922754</td>\n",
       "      <td>0</td>\n",
       "      <td>1.469103e+09</td>\n",
       "      <td>1</td>\n",
       "      <td>18337027979960261638</td>\n",
       "      <td>1.000000</td>\n",
       "      <td>1381</td>\n",
       "    </tr>\n",
       "    <tr>\n",
       "      <th>6</th>\n",
       "      <td>6</td>\n",
       "      <td>139</td>\n",
       "      <td>1186</td>\n",
       "      <td>22.689045</td>\n",
       "      <td>0.338219</td>\n",
       "      <td>0</td>\n",
       "      <td>1.469103e+09</td>\n",
       "      <td>1</td>\n",
       "      <td>18337027979960261638</td>\n",
       "      <td>1.000000</td>\n",
       "      <td>948</td>\n",
       "    </tr>\n",
       "    <tr>\n",
       "      <th>7</th>\n",
       "      <td>7</td>\n",
       "      <td>225</td>\n",
       "      <td>1887</td>\n",
       "      <td>23.002411</td>\n",
       "      <td>-2.043183</td>\n",
       "      <td>0</td>\n",
       "      <td>1.469103e+09</td>\n",
       "      <td>1</td>\n",
       "      <td>18337027979960261638</td>\n",
       "      <td>0.992157</td>\n",
       "      <td>2021</td>\n",
       "    </tr>\n",
       "    <tr>\n",
       "      <th>8</th>\n",
       "      <td>8</td>\n",
       "      <td>239</td>\n",
       "      <td>2336</td>\n",
       "      <td>22.770222</td>\n",
       "      <td>-0.047829</td>\n",
       "      <td>0</td>\n",
       "      <td>1.469103e+09</td>\n",
       "      <td>1</td>\n",
       "      <td>18337027979960261638</td>\n",
       "      <td>1.000000</td>\n",
       "      <td>1141</td>\n",
       "    </tr>\n",
       "    <tr>\n",
       "      <th>9</th>\n",
       "      <td>9</td>\n",
       "      <td>249</td>\n",
       "      <td>2024</td>\n",
       "      <td>23.074924</td>\n",
       "      <td>-1.874026</td>\n",
       "      <td>0</td>\n",
       "      <td>1.469103e+09</td>\n",
       "      <td>1</td>\n",
       "      <td>18337027979960261638</td>\n",
       "      <td>0.992157</td>\n",
       "      <td>1142</td>\n",
       "    </tr>\n",
       "  </tbody>\n",
       "</table>\n",
       "</div>"
      ],
      "text/plain": [
       "   idx  xpos  ypos     radius  zRotation  frame_idx     timestamp  cam_id  \\\n",
       "3    3   100  3349  22.783443  -1.922754          0  1.469103e+09       1   \n",
       "6    6   139  1186  22.689045   0.338219          0  1.469103e+09       1   \n",
       "7    7   225  1887  23.002411  -2.043183          0  1.469103e+09       1   \n",
       "8    8   239  2336  22.770222  -0.047829          0  1.469103e+09       1   \n",
       "9    9   249  2024  23.074924  -1.874026          0  1.469103e+09       1   \n",
       "\n",
       "                  fc_id  confidence    id  \n",
       "3  18337027979960261638    1.000000  1381  \n",
       "6  18337027979960261638    1.000000   948  \n",
       "7  18337027979960261638    0.992157  2021  \n",
       "8  18337027979960261638    1.000000  1141  \n",
       "9  18337027979960261638    0.992157  1142  "
      ]
     },
     "execution_count": 8,
     "metadata": {},
     "output_type": "execute_result"
    }
   ],
   "source": [
    "prep.calcIds(df, 0.99, 2016).head()"
   ]
  },
  {
   "cell_type": "markdown",
   "metadata": {},
   "source": [
    "# Look at the network"
   ]
  },
  {
   "cell_type": "code",
   "execution_count": 164,
   "metadata": {
    "ExecuteTime": {
     "end_time": "2017-02-09T00:58:10.233163",
     "start_time": "2017-02-09T00:58:09.997939"
    },
    "collapsed": true
   },
   "outputs": [],
   "source": [
    "g = nx.read_graphml(\"test2016_0.99conf_160dist_6ilen.graphml\")"
   ]
  },
  {
   "cell_type": "code",
   "execution_count": 165,
   "metadata": {
    "ExecuteTime": {
     "end_time": "2017-02-09T00:58:16.015022",
     "start_time": "2017-02-09T00:58:12.830424"
    },
    "collapsed": false
   },
   "outputs": [],
   "source": [
    "stat = prep.network_statistics(g)"
   ]
  },
  {
   "cell_type": "code",
   "execution_count": 166,
   "metadata": {
    "ExecuteTime": {
     "end_time": "2017-02-09T00:58:16.022586",
     "start_time": "2017-02-09T00:58:16.017104"
    },
    "collapsed": false
   },
   "outputs": [
    {
     "data": {
      "text/plain": [
       "{'av_deg': 9.858123569794051,\n",
       " 'av_shortest_path': 3.253556347165538,\n",
       " 'cc': 0.055651926872375926,\n",
       " 'components': 1,\n",
       " 'degree': dict_values([15, 10, 20, 11, 7, 1, 18, 2, 13, 1, 6, 9, 4, 15, 30, 15, 23, 1, 7, 11, 3, 6, 7, 30, 3, 10, 10, 6, 10, 6, 3, 3, 3, 21, 6, 5, 3, 9, 5, 6, 5, 3, 3, 1, 3, 13, 19, 17, 2, 6, 3, 38, 2, 11, 1, 1, 2, 2, 3, 1, 5, 17, 11, 10, 9, 3, 5, 1, 2, 4, 14, 6, 6, 26, 12, 1, 21, 11, 1, 35, 25, 3, 16, 13, 2, 16, 7, 28, 1, 4, 6, 1, 11, 13, 17, 10, 15, 2, 14, 8, 2, 1, 3, 8, 10, 4, 4, 21, 19, 19, 6, 15, 7, 16, 6, 1, 5, 7, 19, 1, 18, 4, 2, 14, 4, 2, 13, 42, 1, 16, 4, 1, 18, 10, 19, 7, 4, 5, 18, 23, 9, 18, 22, 35, 11, 4, 17, 13, 9, 17, 4, 14, 15, 9, 16, 17, 9, 8, 1, 23, 3, 3, 22, 12, 11, 1, 3, 7, 21, 3, 15, 1, 15, 11, 7, 18, 29, 7, 13, 3, 5, 31, 21, 1, 8, 33, 10, 4, 18, 3, 9, 2, 7, 1, 3, 5, 6, 7, 11, 17, 20, 1, 10, 8, 4, 13, 2, 11, 6, 23, 6, 5, 9, 11, 12, 5, 2, 1, 3, 5, 14, 16, 10, 20, 15, 1, 3, 5, 10, 2, 4, 8, 23, 14, 20, 4, 36, 7, 12, 3, 4, 5, 14, 7, 1, 5, 1, 10, 16, 4, 26, 2, 13, 3, 8, 13, 1, 15, 4, 5, 8, 14, 3, 9, 1, 10, 8, 4, 3, 2, 4, 1, 23, 1, 16, 6, 3, 4, 2, 5, 8, 3, 18, 26, 4, 26, 9, 7, 12, 5, 33, 6, 5, 3, 2, 9, 8, 38, 22, 12, 35, 1, 1, 1, 24, 17, 9, 11, 3, 13, 4, 9, 1, 7, 9, 4, 1, 10, 1, 10, 4, 4, 3, 7, 14, 9, 2, 14, 14, 15, 9, 8, 1, 2, 12, 2, 12, 10, 3, 18, 5, 1, 8, 12, 49, 21, 14, 16, 33, 5, 2, 5, 1, 10, 18, 26, 3, 24, 23, 6, 18, 18, 7, 3, 18, 16, 12, 1, 3, 11, 17, 7, 8, 6, 7, 8, 1, 9, 8, 12, 6, 14, 1, 8, 6, 11, 4, 7, 15, 5, 12, 23, 3, 30, 11, 4, 10, 26, 14, 14, 4, 23, 7, 3, 17, 2, 10, 3, 12, 20, 9, 12, 1, 7, 5, 11, 8, 11, 1, 10, 6, 22, 13, 1, 4, 5, 6, 3, 20, 2, 23, 9, 1, 24, 3, 4, 1, 8, 7, 3, 8, 2, 1, 5, 1, 15, 13, 8, 7, 20, 10, 12, 8, 12, 31, 10, 4, 14, 14, 12, 2, 18, 34, 2, 2, 23, 6, 7, 10, 2, 20, 6, 17, 7, 32, 11, 3, 3, 17, 5, 9, 7, 23, 4, 12, 10, 23, 10, 21, 2, 7, 8, 14, 5, 13, 16, 13, 1, 2, 21, 8, 7, 8, 2, 3, 5, 5, 5, 6, 12, 27, 1, 8, 10, 1, 11, 8, 1, 5, 22, 6, 12, 3, 12, 14, 9, 10, 18, 6, 9, 13, 6, 9, 24, 6, 5, 11, 9, 1, 2, 14, 19, 7, 6, 7, 11, 22, 7, 1, 7, 21, 9, 20, 15, 2, 8, 7, 3, 12, 3, 3, 2, 10, 7, 3, 4, 22, 6, 12, 8, 22, 9, 6, 2, 29, 19, 18, 4, 9, 9, 34, 18, 12, 28, 5, 9, 15, 16, 4, 3, 19, 9, 7, 7, 4, 10, 2, 16, 6, 3, 9, 12, 2, 23, 8, 8, 8, 17, 5, 10, 2, 2, 1, 5, 14, 13, 2, 8, 17, 15, 32, 9, 13, 7, 20, 9, 8, 12, 1, 2, 2, 22, 13, 4, 16, 2, 6, 14, 6, 23, 3, 8, 9, 1, 20, 5, 7, 13, 6, 9, 27, 8, 8, 10, 2, 11, 5, 9, 8, 7, 22, 11, 9, 34, 27, 15, 19, 10, 2, 25, 5, 11, 8, 16, 9, 11, 6, 7, 20, 3, 15, 7, 2, 2, 3, 20, 2, 15, 14, 7, 3, 5, 13, 24, 8, 12, 15, 16, 5, 7, 10, 7, 1, 12, 10, 22, 20, 14, 3, 1, 17, 10, 10, 25, 7, 8, 3, 8, 7, 19, 7, 2, 2, 2, 1, 13, 2, 10, 2, 12, 10, 1, 1, 3, 1, 9, 6, 11, 1, 12, 6, 11, 12, 7, 12, 5, 19, 9, 7, 11, 5, 26, 12, 6, 7, 1, 10, 14, 1, 6, 34, 22, 12, 9, 18, 6, 4, 10, 15, 5, 8, 10, 10, 32, 6, 2, 5, 10, 16, 17, 1, 5, 34, 2, 21, 14, 9, 2, 7, 16, 4, 12, 14, 5, 5, 16, 17, 14, 20, 2, 2, 16, 3, 6, 9, 26, 3, 18, 4, 9, 23, 16, 23, 2, 4, 12, 1, 8, 13, 6, 15, 4, 11, 2, 4, 5, 2, 1, 3, 1, 5, 5, 12, 18, 11, 4, 4, 4, 11, 14, 6, 3, 37, 14, 5, 3, 3, 2, 10, 15, 17, 12, 4, 8, 5, 12, 18, 2, 5, 3, 3, 8, 15, 4, 22, 11, 13, 11, 12, 17, 3, 20, 5, 4]),\n",
       " 'density': 0.011292237766087114,\n",
       " 'diameter': 7,\n",
       " 'edges': 4308,\n",
       " 'nodes': 874}"
      ]
     },
     "execution_count": 166,
     "metadata": {},
     "output_type": "execute_result"
    }
   ],
   "source": [
    "stat"
   ]
  },
  {
   "cell_type": "code",
   "execution_count": 167,
   "metadata": {
    "ExecuteTime": {
     "end_time": "2017-02-09T00:58:21.291674",
     "start_time": "2017-02-09T00:58:16.024691"
    },
    "collapsed": false,
    "scrolled": false
   },
   "outputs": [],
   "source": [
    "l = []\n",
    "for n in g.nodes_iter():\n",
    "#     if get_hatchdate(int(n)) == None:\n",
    "#         print(n)\n",
    "    l.append(get_age(int(n), start_dt))"
   ]
  },
  {
   "cell_type": "code",
   "execution_count": 168,
   "metadata": {
    "ExecuteTime": {
     "end_time": "2017-02-09T00:58:21.330194",
     "start_time": "2017-02-09T00:58:21.295003"
    },
    "collapsed": false
   },
   "outputs": [],
   "source": [
    "kcc = list(nx.community.k_clique_communities(g,4))"
   ]
  },
  {
   "cell_type": "code",
   "execution_count": 169,
   "metadata": {
    "ExecuteTime": {
     "end_time": "2017-02-09T00:58:23.363486",
     "start_time": "2017-02-09T00:58:23.360032"
    },
    "collapsed": true
   },
   "outputs": [],
   "source": [
    "a = []"
   ]
  },
  {
   "cell_type": "code",
   "execution_count": 170,
   "metadata": {
    "ExecuteTime": {
     "end_time": "2017-02-09T00:58:24.391545",
     "start_time": "2017-02-09T00:58:24.384781"
    },
    "collapsed": false
   },
   "outputs": [],
   "source": [
    "for e, group in enumerate(kcc):\n",
    "    for g in group:\n",
    "        a.append((e,g))"
   ]
  },
  {
   "cell_type": "code",
   "execution_count": 171,
   "metadata": {
    "ExecuteTime": {
     "end_time": "2017-02-09T00:58:25.482566",
     "start_time": "2017-02-09T00:58:25.477767"
    },
    "collapsed": false
   },
   "outputs": [],
   "source": [
    "dfkcc = DataFrame(a, columns=[\"group\", \"bee\"])"
   ]
  },
  {
   "cell_type": "code",
   "execution_count": 172,
   "metadata": {
    "ExecuteTime": {
     "end_time": "2017-02-09T00:58:26.807073",
     "start_time": "2017-02-09T00:58:26.296106"
    },
    "collapsed": true
   },
   "outputs": [],
   "source": [
    "dfkcc[\"age\"] = dfkcc.bee.apply(lambda x: get_age(int(x), start_dt))"
   ]
  },
  {
   "cell_type": "code",
   "execution_count": 175,
   "metadata": {
    "ExecuteTime": {
     "end_time": "2017-02-09T00:59:08.607493",
     "start_time": "2017-02-09T00:59:08.598709"
    },
    "collapsed": false
   },
   "outputs": [
    {
     "data": {
      "text/plain": [
       "group\n",
       "0      5.131601\n",
       "1      0.547723\n",
       "2      3.403430\n",
       "3      0.957427\n",
       "4      4.098780\n",
       "5      5.066228\n",
       "6      5.322906\n",
       "7      5.984106\n",
       "8      2.516611\n",
       "9      1.726888\n",
       "10     6.075909\n",
       "11     5.500000\n",
       "12     3.130495\n",
       "13     3.862210\n",
       "14     5.656854\n",
       "15     2.387467\n",
       "16     3.781534\n",
       "17     2.500000\n",
       "18     3.464102\n",
       "19     0.500000\n",
       "20     4.000000\n",
       "21    10.115994\n",
       "Name: age, dtype: float64"
      ]
     },
     "execution_count": 175,
     "metadata": {},
     "output_type": "execute_result"
    }
   ],
   "source": [
    "dfkcc.groupby(by=\"group\").age.std()"
   ]
  },
  {
   "cell_type": "code",
   "execution_count": 174,
   "metadata": {
    "ExecuteTime": {
     "end_time": "2017-02-09T00:58:29.772391",
     "start_time": "2017-02-09T00:58:29.764627"
    },
    "collapsed": false
   },
   "outputs": [
    {
     "data": {
      "text/plain": [
       "group\n",
       "0     7\n",
       "1     5\n",
       "2     4\n",
       "3     4\n",
       "4     5\n",
       "5     4\n",
       "6     7\n",
       "7     7\n",
       "8     4\n",
       "9     8\n",
       "10    4\n",
       "11    4\n",
       "12    5\n",
       "13    4\n",
       "14    4\n",
       "15    5\n",
       "16    5\n",
       "17    4\n",
       "18    4\n",
       "19    4\n",
       "20    4\n",
       "21    4\n",
       "dtype: int64"
      ]
     },
     "execution_count": 174,
     "metadata": {},
     "output_type": "execute_result"
    }
   ],
   "source": [
    "dfkcc.groupby(by=\"group\").size()"
   ]
  },
  {
   "cell_type": "code",
   "execution_count": null,
   "metadata": {
    "collapsed": true
   },
   "outputs": [],
   "source": []
  },
  {
   "cell_type": "code",
   "execution_count": null,
   "metadata": {
    "collapsed": true
   },
   "outputs": [],
   "source": []
  },
  {
   "cell_type": "code",
   "execution_count": null,
   "metadata": {
    "collapsed": true
   },
   "outputs": [],
   "source": []
  },
  {
   "cell_type": "code",
   "execution_count": null,
   "metadata": {
    "collapsed": true
   },
   "outputs": [],
   "source": []
  },
  {
   "cell_type": "code",
   "execution_count": 88,
   "metadata": {
    "ExecuteTime": {
     "end_time": "2017-02-09T00:30:42.305108",
     "start_time": "2017-02-09T00:30:42.224258"
    },
    "code_folding": [],
    "collapsed": false
   },
   "outputs": [],
   "source": [
    "def get_mean_age(ages):\n",
    "    #  Input: object array (ages of bee group)\n",
    "    # Output: float (mean)\n",
    "    if any(age is not None for age in ages):\n",
    "        return np.mean(ages)\n",
    "    else:\n",
    "        return npma.masked_equal(ages, None).mean()\n",
    "    \n",
    "def get_std_age(ages):\n",
    "    #  Input: object array (ages of bee group)\n",
    "    # Output: float (standard deviation)\n",
    "    if any(age is not None for age in ages):\n",
    "        return np.std(ages)\n",
    "    else:\n",
    "        ages_edit = []\n",
    "        for age in ages:\n",
    "            if age is not None: \n",
    "                ages_edit.append(age)\n",
    "        return np.std(ages_edit)\n",
    "\n",
    "def get_bees_of_age(ages, age):\n",
    "    #  Input: numpy object ndarray (age of all bees)\n",
    "    # Output: numpy object ndarray (bees of specified age)    \n",
    "    return np.where(ages == age)[0]\n",
    "\n",
    "def get_all_bees_age(date):\n",
    "    #  Input: date object\n",
    "    # Output: numpy object ndarray (age of all bees)\n",
    "    if isinstance(date, datetime.datetime):\n",
    "        date = date.date()\n",
    "    \n",
    "    ages = []\n",
    "    with open('hatchdates2016.csv', 'r') as csvfile:\n",
    "        reader = csv.reader(csvfile, delimiter=',')\t\n",
    "        for row in reader:\n",
    "            if reader.line_num == 1:\n",
    "                continue\n",
    "            if row[2] == '':\n",
    "                age = None\n",
    "            else:\n",
    "                age = (date - str_to_datetime(row[2]).date()).days                \n",
    "            ages.append(age)\n",
    "    return np.array(ages)\n",
    "\n",
    "def get_age(dec12, date):\t\n",
    "    #  Input: integer (12 o'clock, clockwise),\n",
    "    #\t\t  date object\n",
    "    # Output: integer (age in days)\n",
    "    if isinstance(date, datetime.datetime):\n",
    "        date = date.date()\n",
    "        \n",
    "    if get_hatchdate(dec12) is None:\n",
    "        return None\n",
    "    return (date - get_hatchdate(dec12)).days\n",
    "\n",
    "def get_hatchdate(dec12):\n",
    "    #  Input: integer (12 o'clock, clockwise)\n",
    "    # Output: date object\n",
    "    with open('hatchdates2016.csv', 'r') as csvfile:\n",
    "        reader = csv.reader(csvfile, delimiter=',')\t\t\n",
    "        for row in reader:\n",
    "            if dec12 == reader.line_num - 2:\n",
    "                if (str_to_datetime(row[2]) != None):\n",
    "                    return str_to_datetime(row[2]).date()\n",
    "                else:\n",
    "                    return None\n",
    "    \n",
    "def str_to_datetime(string):\n",
    "    #  Input: string in format '%d.%m.%Y'\n",
    "    # Output: datetime object\n",
    "    if string == '':\n",
    "        return None\n",
    "    return datetime.datetime.strptime(string, '%d.%m.%Y')\n",
    "    \n",
    "def date_to_str(date):\n",
    "    # Input: date(time) object\n",
    "    # Output: string\n",
    "    if date == None:\n",
    "        return ''\n",
    "    return date.strftime('%d.%m.%Y')"
   ]
  },
  {
   "cell_type": "code",
   "execution_count": 141,
   "metadata": {
    "ExecuteTime": {
     "end_time": "2017-02-09T00:49:32.483991",
     "start_time": "2017-02-09T00:49:32.480776"
    },
    "collapsed": true
   },
   "outputs": [],
   "source": [
    "# Alter der Communities testen"
   ]
  },
  {
   "cell_type": "code",
   "execution_count": 142,
   "metadata": {
    "ExecuteTime": {
     "end_time": "2017-02-09T00:49:36.167557",
     "start_time": "2017-02-09T00:49:36.140313"
    },
    "collapsed": true
   },
   "outputs": [],
   "source": [
    "g0 = ig.Graph.Read_GraphML(\"test2016_0.99conf_160dist_6ilen.graphml\")"
   ]
  },
  {
   "cell_type": "code",
   "execution_count": 143,
   "metadata": {
    "ExecuteTime": {
     "end_time": "2017-02-09T00:49:36.919879",
     "start_time": "2017-02-09T00:49:36.910985"
    },
    "collapsed": true
   },
   "outputs": [],
   "source": [
    "def getCommunitiesFastGreedy(g):\n",
    "\n",
    "    fg = g.community_fastgreedy()\n",
    "    vc = fg.as_clustering(fg.optimal_count)\n",
    "\n",
    "    membership = vc.membership\n",
    "    ids = [[] for i in range(len(vc.sizes()))]\n",
    "\n",
    "    for name, membership in zip(g.vs, membership):\n",
    "        ids[membership].append(int(name['id']))\n",
    "\n",
    "    return ids"
   ]
  },
  {
   "cell_type": "code",
   "execution_count": 144,
   "metadata": {
    "ExecuteTime": {
     "end_time": "2017-02-09T00:49:50.662153",
     "start_time": "2017-02-09T00:49:50.589804"
    },
    "collapsed": true
   },
   "outputs": [],
   "source": [
    "ccc =getCommunitiesFastGreedy(g0)"
   ]
  },
  {
   "cell_type": "code",
   "execution_count": 147,
   "metadata": {
    "ExecuteTime": {
     "end_time": "2017-02-09T00:50:11.179213",
     "start_time": "2017-02-09T00:50:11.173545"
    },
    "collapsed": false
   },
   "outputs": [
    {
     "data": {
      "text/plain": [
       "[260, 96, 195, 21, 219, 20, 41, 16, 4, 2]"
      ]
     },
     "execution_count": 147,
     "metadata": {},
     "output_type": "execute_result"
    }
   ],
   "source": [
    "[len(x) for x in ccc]"
   ]
  },
  {
   "cell_type": "code",
   "execution_count": 148,
   "metadata": {
    "ExecuteTime": {
     "end_time": "2017-02-09T00:50:57.923470",
     "start_time": "2017-02-09T00:50:57.920094"
    },
    "collapsed": true
   },
   "outputs": [],
   "source": [
    "b = []"
   ]
  },
  {
   "cell_type": "code",
   "execution_count": 149,
   "metadata": {
    "ExecuteTime": {
     "end_time": "2017-02-09T00:51:00.962183",
     "start_time": "2017-02-09T00:51:00.957685"
    },
    "collapsed": true
   },
   "outputs": [],
   "source": [
    "for e, group in enumerate(ccc):\n",
    "    for g in group:\n",
    "        b.append((e,g))"
   ]
  },
  {
   "cell_type": "code",
   "execution_count": 152,
   "metadata": {
    "ExecuteTime": {
     "end_time": "2017-02-09T00:51:29.789891",
     "start_time": "2017-02-09T00:51:29.784964"
    },
    "collapsed": false
   },
   "outputs": [],
   "source": [
    "dfccc = DataFrame(b, columns=[\"group\", \"bee\"])"
   ]
  },
  {
   "cell_type": "code",
   "execution_count": 153,
   "metadata": {
    "ExecuteTime": {
     "end_time": "2017-02-09T00:52:01.189479",
     "start_time": "2017-02-09T00:51:54.973254"
    },
    "collapsed": true
   },
   "outputs": [],
   "source": [
    "dfccc[\"age\"] = dfccc.bee.apply(lambda x: get_age(int(x), start_dt))"
   ]
  },
  {
   "cell_type": "code",
   "execution_count": 159,
   "metadata": {
    "ExecuteTime": {
     "end_time": "2017-02-09T00:56:03.387568",
     "start_time": "2017-02-09T00:56:03.376601"
    },
    "collapsed": false
   },
   "outputs": [
    {
     "data": {
      "text/plain": [
       "group\n",
       "0     7.925781\n",
       "1    13.322917\n",
       "2     9.973822\n",
       "3     8.526316\n",
       "4     8.552995\n",
       "5    10.200000\n",
       "6    10.658537\n",
       "7    14.312500\n",
       "8     4.500000\n",
       "9     4.500000\n",
       "Name: age, dtype: float64"
      ]
     },
     "execution_count": 159,
     "metadata": {},
     "output_type": "execute_result"
    }
   ],
   "source": [
    "dfccc.groupby(by=\"group\").age.mean()"
   ]
  },
  {
   "cell_type": "code",
   "execution_count": 155,
   "metadata": {
    "ExecuteTime": {
     "end_time": "2017-02-09T00:52:29.543622",
     "start_time": "2017-02-09T00:52:29.533740"
    },
    "collapsed": false
   },
   "outputs": [
    {
     "data": {
      "text/plain": [
       "group\n",
       "0    260\n",
       "1     96\n",
       "2    195\n",
       "3     21\n",
       "4    219\n",
       "5     20\n",
       "6     41\n",
       "7     16\n",
       "8      4\n",
       "9      2\n",
       "dtype: int64"
      ]
     },
     "execution_count": 155,
     "metadata": {},
     "output_type": "execute_result"
    }
   ],
   "source": [
    "dfccc.groupby(by=\"group\").group.size()"
   ]
  },
  {
   "cell_type": "code",
   "execution_count": null,
   "metadata": {
    "collapsed": true
   },
   "outputs": [],
   "source": []
  }
 ],
 "metadata": {
  "anaconda-cloud": {},
  "kernelspec": {
   "display_name": "Python [conda root]",
   "language": "python",
   "name": "conda-root-py"
  },
  "language_info": {
   "codemirror_mode": {
    "name": "ipython",
    "version": 3
   },
   "file_extension": ".py",
   "mimetype": "text/x-python",
   "name": "python",
   "nbconvert_exporter": "python",
   "pygments_lexer": "ipython3",
   "version": "3.5.2"
  },
  "toc": {
   "colors": {
    "hover_highlight": "#DAA520",
    "running_highlight": "#FF0000",
    "selected_highlight": "#FFD700"
   },
   "moveMenuLeft": true,
   "nav_menu": {
    "height": "12px",
    "width": "252px"
   },
   "navigate_menu": true,
   "number_sections": true,
   "sideBar": true,
   "threshold": 4,
   "toc_cell": false,
   "toc_section_display": "block",
   "toc_window_display": false
  }
 },
 "nbformat": 4,
 "nbformat_minor": 2
}
