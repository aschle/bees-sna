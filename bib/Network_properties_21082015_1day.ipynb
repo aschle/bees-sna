{
 "cells": [
  {
   "cell_type": "code",
   "execution_count": 1,
   "metadata": {
    "ExecuteTime": {
     "end_time": "2017-01-25T19:25:08.853668",
     "start_time": "2017-01-25T19:25:07.085149"
    },
    "collapsed": true
   },
   "outputs": [],
   "source": [
    "import networkx as nx\n",
    "import preprocessing as prep\n",
    "import numpy as np\n",
    "import pandas as pd\n",
    "import numpy as np\n",
    "import json\n",
    "import os\n",
    "import datetime\n",
    "import pytz\n",
    "import matplotlib.pyplot as plt\n",
    "from collections import Counter\n",
    "from bb_binary import load_frame_container, Repository\n",
    "from pandas import Series, DataFrame"
   ]
  },
  {
   "cell_type": "code",
   "execution_count": 2,
   "metadata": {
    "ExecuteTime": {
     "end_time": "2017-01-25T19:25:08.867853",
     "start_time": "2017-01-25T19:25:08.855929"
    },
    "collapsed": true
   },
   "outputs": [],
   "source": [
    "%matplotlib inline"
   ]
  },
  {
   "cell_type": "code",
   "execution_count": 3,
   "metadata": {
    "ExecuteTime": {
     "end_time": "2017-01-25T19:25:08.876056",
     "start_time": "2017-01-25T19:25:08.870445"
    },
    "collapsed": false
   },
   "outputs": [],
   "source": [
    "graph_files = os.listdir()\n",
    "graph_files = [g for g in graph_files if g.endswith('.graphml') & g.startswith('2015-')]"
   ]
  },
  {
   "cell_type": "code",
   "execution_count": 4,
   "metadata": {
    "ExecuteTime": {
     "end_time": "2017-01-25T19:25:09.221090",
     "start_time": "2017-01-25T19:25:09.210906"
    },
    "collapsed": true
   },
   "outputs": [
    {
     "data": {
      "text/plain": [
       "['2015-08-21T03:00:00Z_1h_allCams_0.99conf_160dist_6ilen.graphml',\n",
       " '2015-08-21T20:00:00Z_1h_allCams_0.99conf_160dist_6ilen.graphml',\n",
       " '2015-08-21T09:00:00Z_1h_allCams_0.99conf_160dist_6ilen.graphml',\n",
       " '2015-08-21T05:00:00Z_1h_allCams_0.99conf_160dist_6ilen.graphml',\n",
       " '2015-08-21T23:00:00Z_1h_allCams_0.99conf_160dist_6ilen.graphml',\n",
       " '2015-08-21T16:00:00Z_1h_allCams_0.99conf_160dist_6ilen.graphml',\n",
       " '2015-08-21T19:00:00Z_1h_allCams_0.99conf_160dist_6ilen.graphml',\n",
       " '2015-08-21T07:00:00Z_1h_allCams_0.99conf_160dist_6ilen.graphml',\n",
       " '2015-08-21T08:00:00Z_1h_allCams_0.99conf_160dist_6ilen.graphml',\n",
       " '2015-08-21T21:00:00Z_1h_allCams_0.99conf_160dist_6ilen.graphml',\n",
       " '2015-08-21T00:00:00Z_1h_allCams_0.99conf_160dist_6ilen.graphml',\n",
       " '2015-08-21T22:00:00Z_1h_allCams_0.99conf_160dist_6ilen.graphml',\n",
       " '2015-08-21T17:00:00Z_1h_allCams_0.99conf_160dist_6ilen.graphml',\n",
       " '2015-08-21T12:00:00Z_1h_allCams_0.99conf_160dist_6ilen.graphml',\n",
       " '2015-08-21T04:00:00Z_1h_allCams_0.99conf_160dist_6ilen.graphml',\n",
       " '2015-08-21T00:00:00Z_1d_allCams_0.99conf_160dist_6ilen.graphml',\n",
       " '2015-08-21T13:00:00Z_1h_allCams_0.99conf_160dist_6ilen.graphml',\n",
       " '2015-08-21T10:00:00Z_1h_allCams_0.99conf_160dist_6ilen.graphml',\n",
       " '2015-08-21T18:00:00Z_1h_allCams_0.99conf_160dist_6ilen.graphml',\n",
       " '2015-08-21T11:00:00Z_1h_allCams_0.99conf_160dist_6ilen.graphml',\n",
       " '2015-08-21T06:00:00Z_1h_allCams_0.99conf_160dist_6ilen.graphml',\n",
       " '2015-08-21T14:00:00Z_1h_allCams_0.99conf_160dist_6ilen.graphml',\n",
       " '2015-08-21T01:00:00Z_1h_allCams_0.99conf_160dist_6ilen.graphml',\n",
       " '2015-08-21T02:00:00Z_1h_allCams_0.99conf_160dist_6ilen.graphml',\n",
       " '2015-08-21T15:00:00Z_1h_allCams_0.99conf_160dist_6ilen.graphml']"
      ]
     },
     "execution_count": 4,
     "metadata": {},
     "output_type": "execute_result"
    }
   ],
   "source": [
    "graph_files"
   ]
  },
  {
   "cell_type": "markdown",
   "metadata": {},
   "source": [
    "# Network Analysis - Example: One Network\n",
    "* Confidence 0.99, 160px radius, 6 frames as intractionlength.\n",
    "* Day-Networks 21.08.2015"
   ]
  },
  {
   "cell_type": "code",
   "execution_count": 6,
   "metadata": {
    "ExecuteTime": {
     "end_time": "2017-01-25T19:25:45.780308",
     "start_time": "2017-01-25T19:25:38.945569"
    },
    "collapsed": false
   },
   "outputs": [],
   "source": [
    "G = nx.read_graphml(\"2015-08-21T00:00:00Z_1d_allCams_0.99conf_160dist_6ilen.graphml\")"
   ]
  },
  {
   "cell_type": "markdown",
   "metadata": {
    "ExecuteTime": {
     "end_time": "2017-01-25T17:18:07.773835",
     "start_time": "2017-01-25T17:18:07.770664"
    }
   },
   "source": [
    "## Global Properties"
   ]
  },
  {
   "cell_type": "markdown",
   "metadata": {
    "ExecuteTime": {
     "end_time": "2017-01-25T17:19:32.070603",
     "start_time": "2017-01-25T17:19:32.067463"
    }
   },
   "source": [
    "### Nodes, Edges, average Degree and Density"
   ]
  },
  {
   "cell_type": "code",
   "execution_count": 7,
   "metadata": {
    "ExecuteTime": {
     "end_time": "2017-01-25T19:25:59.237370",
     "start_time": "2017-01-25T19:25:59.230309"
    },
    "collapsed": false
   },
   "outputs": [
    {
     "data": {
      "text/plain": [
       "'Name: \\nType: Graph\\nNumber of nodes: 1155\\nNumber of edges: 160460\\nAverage degree: 277.8528'"
      ]
     },
     "execution_count": 7,
     "metadata": {},
     "output_type": "execute_result"
    }
   ],
   "source": [
    "nx.info(G)"
   ]
  },
  {
   "cell_type": "code",
   "execution_count": 8,
   "metadata": {
    "ExecuteTime": {
     "end_time": "2017-01-25T19:25:59.739166",
     "start_time": "2017-01-25T19:25:59.733866"
    },
    "collapsed": false
   },
   "outputs": [
    {
     "data": {
      "text/plain": [
       "1155"
      ]
     },
     "execution_count": 8,
     "metadata": {},
     "output_type": "execute_result"
    }
   ],
   "source": [
    "len(G.nodes())"
   ]
  },
  {
   "cell_type": "code",
   "execution_count": 9,
   "metadata": {
    "ExecuteTime": {
     "end_time": "2017-01-25T19:25:59.953292",
     "start_time": "2017-01-25T19:25:59.815097"
    },
    "collapsed": false
   },
   "outputs": [
    {
     "data": {
      "text/plain": [
       "160460"
      ]
     },
     "execution_count": 9,
     "metadata": {},
     "output_type": "execute_result"
    }
   ],
   "source": [
    "len(G.edges())"
   ]
  },
  {
   "cell_type": "code",
   "execution_count": 10,
   "metadata": {
    "ExecuteTime": {
     "end_time": "2017-01-25T19:25:59.964036",
     "start_time": "2017-01-25T19:25:59.955426"
    },
    "collapsed": false
   },
   "outputs": [
    {
     "data": {
      "text/plain": [
       "277.85281385281388"
      ]
     },
     "execution_count": 10,
     "metadata": {},
     "output_type": "execute_result"
    }
   ],
   "source": [
    "Series(G.degree()).mean()"
   ]
  },
  {
   "cell_type": "code",
   "execution_count": 11,
   "metadata": {
    "ExecuteTime": {
     "end_time": "2017-01-25T19:26:00.650365",
     "start_time": "2017-01-25T19:26:00.641481"
    },
    "collapsed": false
   },
   "outputs": [
    {
     "data": {
      "text/plain": [
       "0.24077366884992535"
      ]
     },
     "execution_count": 11,
     "metadata": {},
     "output_type": "execute_result"
    }
   ],
   "source": [
    "density = nx.density(G)\n",
    "density"
   ]
  },
  {
   "cell_type": "markdown",
   "metadata": {},
   "source": [
    "### Degree distribution"
   ]
  },
  {
   "cell_type": "code",
   "execution_count": 12,
   "metadata": {
    "ExecuteTime": {
     "end_time": "2017-01-25T19:26:01.721176",
     "start_time": "2017-01-25T19:26:01.229391"
    },
    "collapsed": false
   },
   "outputs": [
    {
     "data": {
      "text/plain": [
       "<matplotlib.axes._subplots.AxesSubplot at 0x7f6edb4ed748>"
      ]
     },
     "execution_count": 12,
     "metadata": {},
     "output_type": "execute_result"
    },
    {
     "data": {
      "image/png": "[encoded data removed]",
      "text/plain": [
       "<matplotlib.figure.Figure at 0x7f6edb4f0240>"
      ]
     },
     "metadata": {},
     "output_type": "display_data"
    }
   ],
   "source": [
    "degrees = G.degree().values()\n",
    "s = Series(list(degrees))\n",
    "s.hist(bins=25)"
   ]
  },
  {
   "cell_type": "code",
   "execution_count": 13,
   "metadata": {
    "ExecuteTime": {
     "end_time": "2017-01-25T19:26:01.762899",
     "start_time": "2017-01-25T19:26:01.723668"
    },
    "collapsed": false
   },
   "outputs": [
    {
     "data": {
      "text/plain": [
       "count    1155.000000\n",
       "mean      277.852814\n",
       "std       180.142311\n",
       "min         1.000000\n",
       "25%       129.000000\n",
       "50%       317.000000\n",
       "75%       428.000000\n",
       "max       664.000000\n",
       "dtype: float64"
      ]
     },
     "execution_count": 13,
     "metadata": {},
     "output_type": "execute_result"
    }
   ],
   "source": [
    "s.describe()"
   ]
  },
  {
   "cell_type": "markdown",
   "metadata": {},
   "source": [
    "### Edge weights distribution"
   ]
  },
  {
   "cell_type": "code",
   "execution_count": 14,
   "metadata": {
    "ExecuteTime": {
     "end_time": "2017-01-25T19:26:03.654549",
     "start_time": "2017-01-25T19:26:01.765170"
    },
    "collapsed": false
   },
   "outputs": [
    {
     "data": {
      "text/plain": [
       "<matplotlib.axes._subplots.AxesSubplot at 0x7f6edb594d68>"
      ]
     },
     "execution_count": 14,
     "metadata": {},
     "output_type": "execute_result"
    },
    {
     "data": {
      "image/png": "[encoded data removed]",
      "text/plain": [
       "<matplotlib.figure.Figure at 0x7f6edb58b2e8>"
      ]
     },
     "metadata": {},
     "output_type": "display_data"
    }
   ],
   "source": [
    "l = []\n",
    "\n",
    "for e in G.edges():\n",
    "    l.append(G.get_edge_data(e[0],e[1]).get(\"weight\"))\n",
    "\n",
    "edge_weights = Series(l)\n",
    "\n",
    "fig, ax = plt.subplots()\n",
    "ax.set_yscale('log')\n",
    "edge_weights.hist(bins=50)"
   ]
  },
  {
   "cell_type": "code",
   "execution_count": 15,
   "metadata": {
    "ExecuteTime": {
     "end_time": "2017-01-25T19:26:03.681094",
     "start_time": "2017-01-25T19:26:03.657355"
    },
    "collapsed": false
   },
   "outputs": [
    {
     "data": {
      "text/plain": [
       "count    160460.000000\n",
       "mean          2.940720\n",
       "std           5.628725\n",
       "min           1.000000\n",
       "25%           1.000000\n",
       "50%           1.000000\n",
       "75%           3.000000\n",
       "max         251.000000\n",
       "dtype: float64"
      ]
     },
     "execution_count": 15,
     "metadata": {},
     "output_type": "execute_result"
    }
   ],
   "source": [
    "edge_weights.describe()"
   ]
  },
  {
   "cell_type": "markdown",
   "metadata": {},
   "source": [
    "### Weighted Degree Distribution"
   ]
  },
  {
   "cell_type": "code",
   "execution_count": 16,
   "metadata": {
    "ExecuteTime": {
     "end_time": "2017-01-25T19:26:04.354730",
     "start_time": "2017-01-25T19:26:03.683085"
    },
    "collapsed": false
   },
   "outputs": [
    {
     "data": {
      "text/plain": [
       "<matplotlib.axes._subplots.AxesSubplot at 0x7f6edb69f198>"
      ]
     },
     "execution_count": 16,
     "metadata": {},
     "output_type": "execute_result"
    },
    {
     "data": {
      "image/png": "[encoded data removed]",
      "text/plain": [
       "<matplotlib.figure.Figure at 0x7f6edb567828>"
      ]
     },
     "metadata": {},
     "output_type": "display_data"
    }
   ],
   "source": [
    "degrees = G.degree(weight='weight').values()\n",
    "s = Series(list(degrees))\n",
    "s.hist(bins=25)"
   ]
  },
  {
   "cell_type": "markdown",
   "metadata": {},
   "source": [
    "### Number of components and size distribution"
   ]
  },
  {
   "cell_type": "code",
   "execution_count": 17,
   "metadata": {
    "ExecuteTime": {
     "end_time": "2017-01-25T19:26:06.401679",
     "start_time": "2017-01-25T19:26:04.357020"
    },
    "collapsed": false
   },
   "outputs": [
    {
     "name": "stdout",
     "output_type": "stream",
     "text": [
      "Number of components: 1\n"
     ]
    },
    {
     "data": {
      "text/plain": [
       "Counter({1155: 1})"
      ]
     },
     "execution_count": 17,
     "metadata": {},
     "output_type": "execute_result"
    }
   ],
   "source": [
    "Gcc = sorted(nx.connected_component_subgraphs(G), key = len, reverse=True)\n",
    "print(\"Number of components: {}\".format(len(Gcc)))\n",
    "\n",
    "size_components = []\n",
    "for comp in Gcc:\n",
    "    size_components.append(nx.number_of_nodes(comp))\n",
    "    \n",
    "Counter(list(size_components))"
   ]
  },
  {
   "cell_type": "markdown",
   "metadata": {},
   "source": [
    "There is one big component!"
   ]
  },
  {
   "cell_type": "markdown",
   "metadata": {},
   "source": [
    "### Diameter"
   ]
  },
  {
   "cell_type": "code",
   "execution_count": 18,
   "metadata": {
    "ExecuteTime": {
     "end_time": "2017-01-25T19:27:20.191749",
     "start_time": "2017-01-25T19:26:06.404306"
    },
    "collapsed": false
   },
   "outputs": [
    {
     "name": "stdout",
     "output_type": "stream",
     "text": [
      "Diameter: 4\n"
     ]
    }
   ],
   "source": [
    "diameter = nx.diameter(G)\n",
    "print(\"Diameter: {}\".format(diameter))"
   ]
  },
  {
   "cell_type": "markdown",
   "metadata": {},
   "source": [
    "### Global clustering coefficient"
   ]
  },
  {
   "cell_type": "code",
   "execution_count": 19,
   "metadata": {
    "ExecuteTime": {
     "end_time": "2017-01-25T19:27:50.957484",
     "start_time": "2017-01-25T19:27:20.194182"
    },
    "collapsed": false
   },
   "outputs": [
    {
     "data": {
      "text/plain": [
       "0.48438434009970527"
      ]
     },
     "execution_count": 19,
     "metadata": {},
     "output_type": "execute_result"
    }
   ],
   "source": [
    "cc = nx.average_clustering(G)\n",
    "cc"
   ]
  },
  {
   "cell_type": "markdown",
   "metadata": {},
   "source": [
    "### Average shortest path length"
   ]
  },
  {
   "cell_type": "code",
   "execution_count": 20,
   "metadata": {
    "ExecuteTime": {
     "end_time": "2017-01-25T19:29:05.082982",
     "start_time": "2017-01-25T19:27:50.959783"
    },
    "collapsed": true
   },
   "outputs": [],
   "source": [
    "average_shortest_path = nx.average_shortest_path_length(G)"
   ]
  },
  {
   "cell_type": "code",
   "execution_count": 21,
   "metadata": {
    "ExecuteTime": {
     "end_time": "2017-01-25T19:29:05.092411",
     "start_time": "2017-01-25T19:29:05.086970"
    },
    "collapsed": false
   },
   "outputs": [
    {
     "name": "stdout",
     "output_type": "stream",
     "text": [
      "Average shortest path: 1.9686526067808563\n"
     ]
    }
   ],
   "source": [
    "print(\"Average shortest path: {}\".format(average_shortest_path))"
   ]
  },
  {
   "cell_type": "markdown",
   "metadata": {},
   "source": [
    "## Compare to Random Graph Model\n",
    "* degree distribution (not biniminal/poisson) - ja sieht nicht binominalverteilt aus, sieht ziemlich nach scale free, wenige hubs, viele knote mit wenig links\n",
    "* connectedness (giant component) - ja sieht ziemlich verbunden aus alles, gibt nur eine große komponente\n",
    "* average path length (~diameter) - ist hier auch ziemlich klein, Small-world phenomenon, $d = \\frac{\\ln nodes}{\\ln av degree}$\n",
    "* clustering coefficient - müsste höher sein als bei einem random network, jep ist es auch"
   ]
  },
  {
   "cell_type": "code",
   "execution_count": 22,
   "metadata": {
    "ExecuteTime": {
     "end_time": "2017-01-25T19:29:05.742698",
     "start_time": "2017-01-25T19:29:05.095579"
    },
    "collapsed": false
   },
   "outputs": [
    {
     "data": {
      "text/plain": [
       "'Name: gnp_random_graph(1155,0.24077366884992535)\\nType: Graph\\nNumber of nodes: 1155\\nNumber of edges: 160552\\nAverage degree: 278.0121'"
      ]
     },
     "execution_count": 22,
     "metadata": {},
     "output_type": "execute_result"
    }
   ],
   "source": [
    "random_g = nx.erdos_renyi_graph(n=nx.number_of_nodes(G), p=density)\n",
    "nx.info(random_g)"
   ]
  },
  {
   "cell_type": "code",
   "execution_count": 23,
   "metadata": {
    "ExecuteTime": {
     "end_time": "2017-01-25T19:29:18.975620",
     "start_time": "2017-01-25T19:29:05.745984"
    },
    "collapsed": false
   },
   "outputs": [
    {
     "data": {
      "text/plain": [
       "0.24068804376048006"
      ]
     },
     "execution_count": 23,
     "metadata": {},
     "output_type": "execute_result"
    }
   ],
   "source": [
    "nx.average_clustering(random_g)"
   ]
  },
  {
   "cell_type": "code",
   "execution_count": 24,
   "metadata": {
    "ExecuteTime": {
     "end_time": "2017-01-25T19:29:50.066768",
     "start_time": "2017-01-25T19:29:18.978035"
    },
    "collapsed": false
   },
   "outputs": [
    {
     "data": {
      "text/plain": [
       "0.48438434009970527"
      ]
     },
     "execution_count": 24,
     "metadata": {},
     "output_type": "execute_result"
    }
   ],
   "source": [
    "nx.average_clustering(G)"
   ]
  },
  {
   "cell_type": "markdown",
   "metadata": {},
   "source": [
    "## Local Structure (node level metrics)"
   ]
  },
  {
   "cell_type": "markdown",
   "metadata": {
    "ExecuteTime": {
     "end_time": "2017-01-25T18:00:45.276535",
     "start_time": "2017-01-25T18:00:45.272442"
    }
   },
   "source": [
    "### Betweennes Centrality"
   ]
  },
  {
   "cell_type": "code",
   "execution_count": 25,
   "metadata": {
    "ExecuteTime": {
     "end_time": "2017-01-25T19:32:53.662857",
     "start_time": "2017-01-25T19:29:50.069116"
    },
    "collapsed": false
   },
   "outputs": [],
   "source": [
    "bc = nx.betweenness.betweenness_centrality(G)"
   ]
  },
  {
   "cell_type": "code",
   "execution_count": 26,
   "metadata": {
    "ExecuteTime": {
     "end_time": "2017-01-25T19:32:54.057354",
     "start_time": "2017-01-25T19:32:53.665293"
    },
    "collapsed": false
   },
   "outputs": [
    {
     "data": {
      "text/plain": [
       "<matplotlib.axes._subplots.AxesSubplot at 0x7f6edb69fc50>"
      ]
     },
     "execution_count": 26,
     "metadata": {},
     "output_type": "execute_result"
    },
    {
     "data": {
      "image/png": "[encoded data removed]",
      "text/plain": [
       "<matplotlib.figure.Figure at 0x7f6edb663518>"
      ]
     },
     "metadata": {},
     "output_type": "display_data"
    }
   ],
   "source": [
    "Series(bc).hist(bins = 25)"
   ]
  },
  {
   "cell_type": "markdown",
   "metadata": {},
   "source": [
    "### Degree Centrality"
   ]
  },
  {
   "cell_type": "code",
   "execution_count": 27,
   "metadata": {
    "ExecuteTime": {
     "end_time": "2017-01-25T19:32:54.065809",
     "start_time": "2017-01-25T19:32:54.059699"
    },
    "collapsed": true
   },
   "outputs": [],
   "source": [
    "dc = nx.degree_centrality(G)"
   ]
  },
  {
   "cell_type": "code",
   "execution_count": 28,
   "metadata": {
    "ExecuteTime": {
     "end_time": "2017-01-25T19:32:54.596765",
     "start_time": "2017-01-25T19:32:54.069922"
    },
    "collapsed": false
   },
   "outputs": [
    {
     "data": {
      "text/plain": [
       "<matplotlib.axes._subplots.AxesSubplot at 0x7f6edb78b390>"
      ]
     },
     "execution_count": 28,
     "metadata": {},
     "output_type": "execute_result"
    },
    {
     "data": {
      "image/png": "[encoded data removed]",
      "text/plain": [
       "<matplotlib.figure.Figure at 0x7f6edb6d7400>"
      ]
     },
     "metadata": {},
     "output_type": "display_data"
    }
   ],
   "source": [
    "Series(dc).hist(bins = 25)"
   ]
  },
  {
   "cell_type": "markdown",
   "metadata": {},
   "source": [
    "### Closeness Centrality"
   ]
  },
  {
   "cell_type": "code",
   "execution_count": 29,
   "metadata": {
    "ExecuteTime": {
     "end_time": "2017-01-25T19:34:05.630937",
     "start_time": "2017-01-25T19:32:54.598948"
    },
    "collapsed": true
   },
   "outputs": [],
   "source": [
    "closenessc = nx.closeness.closeness_centrality(G)"
   ]
  },
  {
   "cell_type": "code",
   "execution_count": 30,
   "metadata": {
    "ExecuteTime": {
     "end_time": "2017-01-25T19:34:06.153278",
     "start_time": "2017-01-25T19:34:05.633788"
    },
    "collapsed": false
   },
   "outputs": [
    {
     "data": {
      "text/plain": [
       "<matplotlib.axes._subplots.AxesSubplot at 0x7f6edb7ba278>"
      ]
     },
     "execution_count": 30,
     "metadata": {},
     "output_type": "execute_result"
    },
    {
     "data": {
      "image/png": "[encoded data removed]",
      "text/plain": [
       "<matplotlib.figure.Figure at 0x7f6edb8026a0>"
      ]
     },
     "metadata": {},
     "output_type": "display_data"
    }
   ],
   "source": [
    "Series(closenessc).hist(bins=50)"
   ]
  },
  {
   "cell_type": "markdown",
   "metadata": {},
   "source": [
    "### Eigenvector Centrality"
   ]
  },
  {
   "cell_type": "code",
   "execution_count": 31,
   "metadata": {
    "ExecuteTime": {
     "end_time": "2017-01-25T19:34:06.160707",
     "start_time": "2017-01-25T19:34:06.156498"
    },
    "collapsed": false
   },
   "outputs": [],
   "source": [
    "# Kernel will die!\n",
    "# ec = nx.eigenvector_centrality_numpy(G)"
   ]
  }
 ],
 "metadata": {
  "anaconda-cloud": {},
  "kernelspec": {
   "display_name": "Python [conda root]",
   "language": "python",
   "name": "conda-root-py"
  },
  "language_info": {
   "codemirror_mode": {
    "name": "ipython",
    "version": 3
   },
   "file_extension": ".py",
   "mimetype": "text/x-python",
   "name": "python",
   "nbconvert_exporter": "python",
   "pygments_lexer": "ipython3",
   "version": "3.5.2"
  },
  "toc": {
   "colors": {
    "hover_highlight": "#DAA520",
    "running_highlight": "#FF0000",
    "selected_highlight": "#FFD700"
   },
   "moveMenuLeft": true,
   "nav_menu": {
    "height": "315px",
    "width": "252px"
   },
   "navigate_menu": true,
   "number_sections": true,
   "sideBar": true,
   "threshold": 4,
   "toc_cell": false,
   "toc_section_display": "block",
   "toc_window_display": true
  }
 },
 "nbformat": 4,
 "nbformat_minor": 2
}
