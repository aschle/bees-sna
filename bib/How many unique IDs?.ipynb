{
 "cells": [
  {
   "cell_type": "code",
   "execution_count": 1,
   "metadata": {
    "collapsed": false
   },
   "outputs": [],
   "source": [
    "import preprocessing as prep\n",
    "import numpy as np\n",
    "import pandas as pd\n",
    "from pandas import Series, DataFrame"
   ]
  },
  {
   "cell_type": "markdown",
   "metadata": {},
   "source": [
    "### Wie viele Bienen tauchen pro Zeitraum auf, fuer die 3 Testdatensaete mal anschauen? Das Ganze pro Kamera und dann fuer alle Zusammen."
   ]
  },
  {
   "cell_type": "code",
   "execution_count": 2,
   "metadata": {
    "collapsed": true
   },
   "outputs": [],
   "source": [
    "path_list = [\n",
    "    \"../00_Data/testset_2015_1h/2015082215\",\n",
    "    \"../00_Data/testset_2015_1h/2015092215\",\n",
    "    \"../00_Data/testset_2015_1h/2015102215\"\n",
    "]"
   ]
  },
  {
   "cell_type": "code",
   "execution_count": 3,
   "metadata": {
    "collapsed": false,
    "scrolled": false
   },
   "outputs": [
    {
     "name": "stdout",
     "output_type": "stream",
     "text": [
      "\n",
      "### file ../00_Data/testset_2015_1h/2015082215 cam 0\n",
      "../00_Data/testset_2015_1h/2015082215-0\n",
      "Detections: 143623\n",
      "unique IDs: 1933\n",
      "\n",
      "### file ../00_Data/testset_2015_1h/2015082215 cam 1\n",
      "../00_Data/testset_2015_1h/2015082215-1\n",
      "Detections: 60775\n",
      "unique IDs: 481\n",
      "\n",
      "### file ../00_Data/testset_2015_1h/2015082215 cam 2\n",
      "../00_Data/testset_2015_1h/2015082215-2\n",
      "Detections: 44266\n",
      "unique IDs: 373\n",
      "\n",
      "### file ../00_Data/testset_2015_1h/2015082215 cam 3\n",
      "../00_Data/testset_2015_1h/2015082215-3\n",
      "Detections: 77924\n",
      "unique IDs: 937\n",
      "Total unique IDs: 2475\n",
      "\n",
      "### file ../00_Data/testset_2015_1h/2015092215 cam 0\n",
      "../00_Data/testset_2015_1h/2015092215-0\n",
      "Detections: 33471\n",
      "unique IDs: 308\n",
      "\n",
      "### file ../00_Data/testset_2015_1h/2015092215 cam 1\n",
      "../00_Data/testset_2015_1h/2015092215-1\n",
      "Detections: 34325\n",
      "unique IDs: 357\n",
      "\n",
      "### file ../00_Data/testset_2015_1h/2015092215 cam 2\n",
      "../00_Data/testset_2015_1h/2015092215-2\n",
      "Detections: 23212\n",
      "unique IDs: 369\n",
      "\n",
      "### file ../00_Data/testset_2015_1h/2015092215 cam 3\n",
      "../00_Data/testset_2015_1h/2015092215-3\n",
      "Detections: 45904\n",
      "unique IDs: 373\n",
      "Total unique IDs: 940\n",
      "\n",
      "### file ../00_Data/testset_2015_1h/2015102215 cam 0\n",
      "../00_Data/testset_2015_1h/2015102215-0\n",
      "Detections: 12732\n",
      "unique IDs: 80\n",
      "\n",
      "### file ../00_Data/testset_2015_1h/2015102215 cam 1\n",
      "../00_Data/testset_2015_1h/2015102215-1\n",
      "Detections: 10728\n",
      "unique IDs: 96\n",
      "\n",
      "### file ../00_Data/testset_2015_1h/2015102215 cam 2\n",
      "../00_Data/testset_2015_1h/2015102215-2\n",
      "Detections: 4667\n",
      "unique IDs: 55\n",
      "\n",
      "### file ../00_Data/testset_2015_1h/2015102215 cam 3\n",
      "../00_Data/testset_2015_1h/2015102215-3\n",
      "Detections: 2391\n",
      "unique IDs: 33\n",
      "Total unique IDs: 187\n"
     ]
    }
   ],
   "source": [
    "for p in path_list:\n",
    "\n",
    "    id_list = []\n",
    "    for i in list(range(4)):\n",
    "        fc = prep.get_fc(p, i)\n",
    "        df = prep.get_dataframe(fc)\n",
    "        df = prep.calcIds(df, 0.9)\n",
    "        u_id = list(df.id.unique())\n",
    "        id_list.extend(u_id)\n",
    "        print(\"{}-{}\".format(p,i))\n",
    "        print(\"Detections: {}\".format(df.shape[0]))\n",
    "        print(\"unique IDs: {}\".format(len(u_id)))\n",
    "        \n",
    "        \n",
    "         \n",
    "    print(\"Total unique IDs: {}\".format(len(Series(id_list).unique())))"
   ]
  }
 ],
 "metadata": {
  "anaconda-cloud": {},
  "kernelspec": {
   "display_name": "Python [default]",
   "language": "python",
   "name": "python3"
  },
  "language_info": {
   "codemirror_mode": {
    "name": "ipython",
    "version": 3
   },
   "file_extension": ".py",
   "mimetype": "text/x-python",
   "name": "python",
   "nbconvert_exporter": "python",
   "pygments_lexer": "ipython3",
   "version": "3.5.2"
  }
 },
 "nbformat": 4,
 "nbformat_minor": 1
}
