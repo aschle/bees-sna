{
 "cells": [
  {
   "cell_type": "code",
   "execution_count": 236,
   "metadata": {
    "ExecuteTime": {
     "end_time": "2017-02-22T13:16:18.392970",
     "start_time": "2017-02-22T13:16:16.503223"
    },
    "collapsed": true
   },
   "outputs": [],
   "source": [
    "import pandas as pd\n",
    "import numpy as np\n",
    "import seaborn as sns\n",
    "from pandas import DataFrame, Series\n",
    "import datetime\n",
    "import pytz\n",
    "import matplotlib.pyplot as plt\n",
    "import preprocessing as prep"
   ]
  },
  {
   "cell_type": "code",
   "execution_count": 15,
   "metadata": {
    "ExecuteTime": {
     "end_time": "2017-02-22T11:00:36.630948",
     "start_time": "2017-02-22T11:00:36.617536"
    },
    "collapsed": true
   },
   "outputs": [],
   "source": [
    "def df_to_timeseries(df):\n",
    "    gr = df.groupby(by='frame_idx')\n",
    "    num_columns = df.frame_idx.unique().max() + 1\n",
    "    u_id = df.id.unique()\n",
    "    dft = DataFrame(0, index=u_id, columns=np.arange(num_columns))\n",
    "\n",
    "    for i, group in gr:\n",
    "        l = group['id']\n",
    "        dft.loc[l,i] = 1\n",
    "    \n",
    "    return dft"
   ]
  },
  {
   "cell_type": "code",
   "execution_count": 3,
   "metadata": {
    "ExecuteTime": {
     "end_time": "2017-02-22T10:56:33.105812",
     "start_time": "2017-02-22T10:56:33.096833"
    },
    "collapsed": true
   },
   "outputs": [],
   "source": [
    "startT = \"2016-07-21T15:00:00Z\"\n",
    "startT_dt = datetime.datetime.strptime(startT, \"%Y-%m-%dT%H:%M:%SZ\").replace(tzinfo=pytz.UTC)\n",
    "startT_ts = startT_dt.timestamp()\n",
    "endT_dt = startT_dt + datetime.timedelta(minutes=10)\n",
    "endT_ts = endT_dt.timestamp()"
   ]
  },
  {
   "cell_type": "code",
   "execution_count": 135,
   "metadata": {
    "ExecuteTime": {
     "end_time": "2017-02-22T12:36:06.975442",
     "start_time": "2017-02-22T12:36:02.222046"
    },
    "collapsed": true
   },
   "outputs": [],
   "source": [
    "t0= prep.getDF(\"/mnt/data2016/\",startT_ts, endT_ts, 0)"
   ]
  },
  {
   "cell_type": "code",
   "execution_count": 139,
   "metadata": {
    "ExecuteTime": {
     "end_time": "2017-02-22T12:36:34.323715",
     "start_time": "2017-02-22T12:36:34.314962"
    },
    "collapsed": false
   },
   "outputs": [
    {
     "data": {
      "text/plain": [
       "(214560, 10)"
      ]
     },
     "execution_count": 139,
     "metadata": {},
     "output_type": "execute_result"
    }
   ],
   "source": [
    "t0.shape"
   ]
  },
  {
   "cell_type": "code",
   "execution_count": 136,
   "metadata": {
    "ExecuteTime": {
     "end_time": "2017-02-22T12:36:16.388110",
     "start_time": "2017-02-22T12:36:10.623804"
    },
    "collapsed": true
   },
   "outputs": [],
   "source": [
    "t1= prep.getDF(\"/mnt/data2016/\",startT_ts, endT_ts, 1)"
   ]
  },
  {
   "cell_type": "code",
   "execution_count": 140,
   "metadata": {
    "ExecuteTime": {
     "end_time": "2017-02-22T12:36:40.310329",
     "start_time": "2017-02-22T12:36:40.301185"
    },
    "collapsed": false
   },
   "outputs": [
    {
     "data": {
      "text/plain": [
       "(251050, 10)"
      ]
     },
     "execution_count": 140,
     "metadata": {},
     "output_type": "execute_result"
    }
   ],
   "source": [
    "t1.shape"
   ]
  },
  {
   "cell_type": "code",
   "execution_count": 137,
   "metadata": {
    "ExecuteTime": {
     "end_time": "2017-02-22T12:36:22.556163",
     "start_time": "2017-02-22T12:36:17.710053"
    },
    "collapsed": true
   },
   "outputs": [],
   "source": [
    "t2= prep.getDF(\"/mnt/data2016/\",startT_ts, endT_ts, 2)"
   ]
  },
  {
   "cell_type": "code",
   "execution_count": 141,
   "metadata": {
    "ExecuteTime": {
     "end_time": "2017-02-22T12:36:46.705418",
     "start_time": "2017-02-22T12:36:46.697166"
    },
    "collapsed": false
   },
   "outputs": [
    {
     "data": {
      "text/plain": [
       "(231814, 10)"
      ]
     },
     "execution_count": 141,
     "metadata": {},
     "output_type": "execute_result"
    }
   ],
   "source": [
    "t2.shape"
   ]
  },
  {
   "cell_type": "code",
   "execution_count": 138,
   "metadata": {
    "ExecuteTime": {
     "end_time": "2017-02-22T12:36:32.928261",
     "start_time": "2017-02-22T12:36:27.304353"
    },
    "collapsed": true
   },
   "outputs": [],
   "source": [
    "t3= prep.getDF(\"/mnt/data2016/\",startT_ts, endT_ts, 3)"
   ]
  },
  {
   "cell_type": "code",
   "execution_count": 142,
   "metadata": {
    "ExecuteTime": {
     "end_time": "2017-02-22T12:37:08.322337",
     "start_time": "2017-02-22T12:37:08.310754"
    },
    "collapsed": false
   },
   "outputs": [
    {
     "data": {
      "text/plain": [
       "(229797, 10)"
      ]
     },
     "execution_count": 142,
     "metadata": {},
     "output_type": "execute_result"
    }
   ],
   "source": [
    "t3.shape"
   ]
  },
  {
   "cell_type": "code",
   "execution_count": 143,
   "metadata": {
    "ExecuteTime": {
     "end_time": "2017-02-22T12:37:32.606441",
     "start_time": "2017-02-22T12:37:27.210046"
    },
    "collapsed": true
   },
   "outputs": [],
   "source": [
    "df3test = prep.getDF(\"/mnt/data2016/\",startT_ts, endT_ts, 1)"
   ]
  },
  {
   "cell_type": "code",
   "execution_count": 144,
   "metadata": {
    "ExecuteTime": {
     "end_time": "2017-02-22T12:37:32.617988",
     "start_time": "2017-02-22T12:37:32.610298"
    },
    "collapsed": false
   },
   "outputs": [
    {
     "data": {
      "text/plain": [
       "(251050, 10)"
      ]
     },
     "execution_count": 144,
     "metadata": {},
     "output_type": "execute_result"
    }
   ],
   "source": [
    "df3test.shape"
   ]
  },
  {
   "cell_type": "code",
   "execution_count": 145,
   "metadata": {
    "ExecuteTime": {
     "end_time": "2017-02-22T12:37:46.423471",
     "start_time": "2017-02-22T12:37:32.621949"
    },
    "collapsed": true
   },
   "outputs": [],
   "source": [
    "df3id = prep.calcIds(df3test, 0.95, 2016)"
   ]
  },
  {
   "cell_type": "code",
   "execution_count": 146,
   "metadata": {
    "ExecuteTime": {
     "end_time": "2017-02-22T12:37:46.435577",
     "start_time": "2017-02-22T12:37:46.427556"
    },
    "collapsed": false
   },
   "outputs": [
    {
     "data": {
      "text/plain": [
       "(140734, 11)"
      ]
     },
     "execution_count": 146,
     "metadata": {},
     "output_type": "execute_result"
    }
   ],
   "source": [
    "df3id.shape"
   ]
  },
  {
   "cell_type": "code",
   "execution_count": 147,
   "metadata": {
    "ExecuteTime": {
     "end_time": "2017-02-22T12:37:48.687560",
     "start_time": "2017-02-22T12:37:48.677471"
    },
    "collapsed": false
   },
   "outputs": [
    {
     "data": {
      "text/plain": [
       "1194"
      ]
     },
     "execution_count": 147,
     "metadata": {},
     "output_type": "execute_result"
    }
   ],
   "source": [
    "len(df3id.id.unique())"
   ]
  },
  {
   "cell_type": "code",
   "execution_count": null,
   "metadata": {
    "collapsed": true
   },
   "outputs": [],
   "source": []
  },
  {
   "cell_type": "code",
   "execution_count": 122,
   "metadata": {
    "ExecuteTime": {
     "end_time": "2017-02-22T12:28:58.459326",
     "start_time": "2017-02-22T12:28:54.616517"
    },
    "collapsed": false
   },
   "outputs": [],
   "source": [
    "dft = df_to_timeseries(df3id)"
   ]
  },
  {
   "cell_type": "code",
   "execution_count": 123,
   "metadata": {
    "ExecuteTime": {
     "end_time": "2017-02-22T12:28:58.498746",
     "start_time": "2017-02-22T12:28:58.462882"
    },
    "collapsed": false
   },
   "outputs": [
    {
     "data": {
      "text/html": [
       "<div>\n",
       "<table border=\"1\" class=\"dataframe\">\n",
       "  <thead>\n",
       "    <tr style=\"text-align: right;\">\n",
       "      <th></th>\n",
       "      <th>0</th>\n",
       "      <th>1</th>\n",
       "      <th>2</th>\n",
       "      <th>3</th>\n",
       "      <th>4</th>\n",
       "      <th>5</th>\n",
       "      <th>6</th>\n",
       "      <th>7</th>\n",
       "      <th>8</th>\n",
       "      <th>9</th>\n",
       "      <th>...</th>\n",
       "      <th>1791</th>\n",
       "      <th>1792</th>\n",
       "      <th>1793</th>\n",
       "      <th>1794</th>\n",
       "      <th>1795</th>\n",
       "      <th>1796</th>\n",
       "      <th>1797</th>\n",
       "      <th>1798</th>\n",
       "      <th>1799</th>\n",
       "      <th>1800</th>\n",
       "    </tr>\n",
       "  </thead>\n",
       "  <tbody>\n",
       "    <tr>\n",
       "      <th>1338</th>\n",
       "      <td>1</td>\n",
       "      <td>1</td>\n",
       "      <td>1</td>\n",
       "      <td>1</td>\n",
       "      <td>1</td>\n",
       "      <td>1</td>\n",
       "      <td>1</td>\n",
       "      <td>1</td>\n",
       "      <td>1</td>\n",
       "      <td>1</td>\n",
       "      <td>...</td>\n",
       "      <td>0</td>\n",
       "      <td>0</td>\n",
       "      <td>0</td>\n",
       "      <td>0</td>\n",
       "      <td>0</td>\n",
       "      <td>0</td>\n",
       "      <td>0</td>\n",
       "      <td>0</td>\n",
       "      <td>0</td>\n",
       "      <td>0</td>\n",
       "    </tr>\n",
       "    <tr>\n",
       "      <th>144</th>\n",
       "      <td>1</td>\n",
       "      <td>1</td>\n",
       "      <td>1</td>\n",
       "      <td>1</td>\n",
       "      <td>1</td>\n",
       "      <td>1</td>\n",
       "      <td>1</td>\n",
       "      <td>1</td>\n",
       "      <td>1</td>\n",
       "      <td>1</td>\n",
       "      <td>...</td>\n",
       "      <td>0</td>\n",
       "      <td>0</td>\n",
       "      <td>0</td>\n",
       "      <td>0</td>\n",
       "      <td>0</td>\n",
       "      <td>0</td>\n",
       "      <td>0</td>\n",
       "      <td>0</td>\n",
       "      <td>0</td>\n",
       "      <td>1</td>\n",
       "    </tr>\n",
       "  </tbody>\n",
       "</table>\n",
       "<p>2 rows × 1801 columns</p>\n",
       "</div>"
      ],
      "text/plain": [
       "      0     1     2     3     4     5     6     7     8     9     ...   1791  \\\n",
       "1338     1     1     1     1     1     1     1     1     1     1  ...      0   \n",
       "144      1     1     1     1     1     1     1     1     1     1  ...      0   \n",
       "\n",
       "      1792  1793  1794  1795  1796  1797  1798  1799  1800  \n",
       "1338     0     0     0     0     0     0     0     0     0  \n",
       "144      0     0     0     0     0     0     0     0     1  \n",
       "\n",
       "[2 rows x 1801 columns]"
      ]
     },
     "execution_count": 123,
     "metadata": {},
     "output_type": "execute_result"
    }
   ],
   "source": [
    "dft.head(2)"
   ]
  },
  {
   "cell_type": "code",
   "execution_count": 162,
   "metadata": {
    "ExecuteTime": {
     "end_time": "2017-02-22T12:42:16.264089",
     "start_time": "2017-02-22T12:42:16.253485"
    },
    "collapsed": true
   },
   "outputs": [],
   "source": [
    "def get_ketten(kette, val):\n",
    "    kette = kette.apply(str)\n",
    "    s = kette.str.cat(sep='')\n",
    "    s = s.strip(\"0\")\n",
    "    ss = s.split(val)\n",
    "    return [len(x) for x in ss if len(x) > 0]"
   ]
  },
  {
   "cell_type": "code",
   "execution_count": 163,
   "metadata": {
    "ExecuteTime": {
     "end_time": "2017-02-22T12:42:17.854373",
     "start_time": "2017-02-22T12:42:17.845509"
    },
    "collapsed": false
   },
   "outputs": [
    {
     "data": {
      "text/plain": [
       "[2, 1]"
      ]
     },
     "execution_count": 163,
     "metadata": {},
     "output_type": "execute_result"
    }
   ],
   "source": [
    "get_ketten(Series([1,1,0,0,1,1,1,0,1,0,0,0,0,0,]), '1')"
   ]
  },
  {
   "cell_type": "code",
   "execution_count": 180,
   "metadata": {
    "ExecuteTime": {
     "end_time": "2017-02-22T12:52:15.110652",
     "start_time": "2017-02-22T12:52:13.718154"
    },
    "collapsed": false
   },
   "outputs": [],
   "source": [
    "ketten = list(dft.apply(get_ketten, axis=1, args=['0']).values)"
   ]
  },
  {
   "cell_type": "code",
   "execution_count": 181,
   "metadata": {
    "ExecuteTime": {
     "end_time": "2017-02-22T12:52:15.122367",
     "start_time": "2017-02-22T12:52:15.113863"
    },
    "collapsed": false
   },
   "outputs": [],
   "source": [
    "flattened = [n for elem in ketten for n in elem]"
   ]
  },
  {
   "cell_type": "code",
   "execution_count": 182,
   "metadata": {
    "ExecuteTime": {
     "end_time": "2017-02-22T12:52:15.542115",
     "start_time": "2017-02-22T12:52:15.126418"
    },
    "collapsed": true
   },
   "outputs": [],
   "source": [
    "%matplotlib inline"
   ]
  },
  {
   "cell_type": "code",
   "execution_count": 183,
   "metadata": {
    "ExecuteTime": {
     "end_time": "2017-02-22T12:52:16.034707",
     "start_time": "2017-02-22T12:52:15.546425"
    },
    "collapsed": false
   },
   "outputs": [],
   "source": [
    "s = Series(flattened)"
   ]
  },
  {
   "cell_type": "code",
   "execution_count": 184,
   "metadata": {
    "ExecuteTime": {
     "end_time": "2017-02-22T12:52:16.979496",
     "start_time": "2017-02-22T12:52:16.955440"
    },
    "collapsed": false
   },
   "outputs": [
    {
     "data": {
      "text/plain": [
       "count    28463.000000\n",
       "mean         4.621192\n",
       "std          9.959929\n",
       "min          1.000000\n",
       "25%          1.000000\n",
       "50%          2.000000\n",
       "75%          5.000000\n",
       "max        570.000000\n",
       "dtype: float64"
      ]
     },
     "execution_count": 184,
     "metadata": {},
     "output_type": "execute_result"
    }
   ],
   "source": [
    "s.describe()"
   ]
  },
  {
   "cell_type": "code",
   "execution_count": 185,
   "metadata": {
    "ExecuteTime": {
     "end_time": "2017-02-22T12:52:29.457456",
     "start_time": "2017-02-22T12:52:29.444763"
    },
    "collapsed": false
   },
   "outputs": [
    {
     "data": {
      "text/plain": [
       "0    1\n",
       "dtype: int64"
      ]
     },
     "execution_count": 185,
     "metadata": {},
     "output_type": "execute_result"
    }
   ],
   "source": [
    "s.mode()"
   ]
  },
  {
   "cell_type": "code",
   "execution_count": 186,
   "metadata": {
    "ExecuteTime": {
     "end_time": "2017-02-22T12:52:30.275624",
     "start_time": "2017-02-22T12:52:30.266263"
    },
    "collapsed": false
   },
   "outputs": [
    {
     "data": {
      "text/plain": [
       "4.6211924252538381"
      ]
     },
     "execution_count": 186,
     "metadata": {},
     "output_type": "execute_result"
    }
   ],
   "source": [
    "s.mean()"
   ]
  },
  {
   "cell_type": "code",
   "execution_count": 187,
   "metadata": {
    "ExecuteTime": {
     "end_time": "2017-02-22T12:52:31.764285",
     "start_time": "2017-02-22T12:52:31.754175"
    },
    "collapsed": false
   },
   "outputs": [
    {
     "data": {
      "text/plain": [
       "2.0"
      ]
     },
     "execution_count": 187,
     "metadata": {},
     "output_type": "execute_result"
    }
   ],
   "source": [
    "s.median()"
   ]
  },
  {
   "cell_type": "code",
   "execution_count": 188,
   "metadata": {
    "ExecuteTime": {
     "end_time": "2017-02-22T12:52:34.901418",
     "start_time": "2017-02-22T12:52:34.330511"
    },
    "collapsed": false
   },
   "outputs": [
    {
     "data": {
      "text/plain": [
       "<matplotlib.axes._subplots.AxesSubplot at 0x7f1f2c0f8b00>"
      ]
     },
     "execution_count": 188,
     "metadata": {},
     "output_type": "execute_result"
    },
    {
     "data": {
      "image/png": "[encoded data removed]",
      "text/plain": [
       "<matplotlib.figure.Figure at 0x7f1f2c123ac8>"
      ]
     },
     "metadata": {},
     "output_type": "display_data"
    }
   ],
   "source": [
    "s.plot.box()"
   ]
  },
  {
   "cell_type": "code",
   "execution_count": 148,
   "metadata": {
    "ExecuteTime": {
     "end_time": "2017-02-22T12:38:24.154638",
     "start_time": "2017-02-22T12:38:12.899157"
    },
    "collapsed": true
   },
   "outputs": [],
   "source": [
    "pairs = prep.get_close_bees_ckd(df3id, 212)"
   ]
  },
  {
   "cell_type": "code",
   "execution_count": 151,
   "metadata": {
    "ExecuteTime": {
     "end_time": "2017-02-22T12:40:30.153279",
     "start_time": "2017-02-22T12:40:30.135208"
    },
    "collapsed": true
   },
   "outputs": [],
   "source": [
    "def bee_pairs_to_timeseries(close):\n",
    "    max = close.frame_idx.unique().max() + 1\n",
    "    close['pair'] = list(zip(close.id_x, close.id_y))\n",
    "    u_pairs = close.pair.unique()\n",
    "    dft = DataFrame(0, index=u_pairs, columns=np.arange(max))\n",
    "    gr = close.groupby('frame_idx')\n",
    "\n",
    "    for i, group in gr:\n",
    "        l = group['pair']\n",
    "        dft.loc[l,i] = 1\n",
    "\n",
    "    return dft"
   ]
  },
  {
   "cell_type": "code",
   "execution_count": 152,
   "metadata": {
    "ExecuteTime": {
     "end_time": "2017-02-22T12:40:43.048056",
     "start_time": "2017-02-22T12:40:33.736310"
    },
    "collapsed": true
   },
   "outputs": [],
   "source": [
    "dt = bee_pairs_to_timeseries(pairs)"
   ]
  },
  {
   "cell_type": "code",
   "execution_count": 153,
   "metadata": {
    "ExecuteTime": {
     "end_time": "2017-02-22T12:40:43.093515",
     "start_time": "2017-02-22T12:40:43.051226"
    },
    "collapsed": false
   },
   "outputs": [
    {
     "data": {
      "text/html": [
       "<div>\n",
       "<table border=\"1\" class=\"dataframe\">\n",
       "  <thead>\n",
       "    <tr style=\"text-align: right;\">\n",
       "      <th></th>\n",
       "      <th>0</th>\n",
       "      <th>1</th>\n",
       "      <th>2</th>\n",
       "      <th>3</th>\n",
       "      <th>4</th>\n",
       "      <th>5</th>\n",
       "      <th>6</th>\n",
       "      <th>7</th>\n",
       "      <th>8</th>\n",
       "      <th>9</th>\n",
       "      <th>...</th>\n",
       "      <th>1796</th>\n",
       "      <th>1797</th>\n",
       "      <th>1798</th>\n",
       "      <th>1799</th>\n",
       "      <th>1800</th>\n",
       "      <th>1801</th>\n",
       "      <th>1802</th>\n",
       "      <th>1803</th>\n",
       "      <th>1804</th>\n",
       "      <th>1805</th>\n",
       "    </tr>\n",
       "  </thead>\n",
       "  <tbody>\n",
       "    <tr>\n",
       "      <th>(297, 797)</th>\n",
       "      <td>1</td>\n",
       "      <td>0</td>\n",
       "      <td>1</td>\n",
       "      <td>0</td>\n",
       "      <td>0</td>\n",
       "      <td>0</td>\n",
       "      <td>0</td>\n",
       "      <td>0</td>\n",
       "      <td>0</td>\n",
       "      <td>0</td>\n",
       "      <td>...</td>\n",
       "      <td>0</td>\n",
       "      <td>0</td>\n",
       "      <td>0</td>\n",
       "      <td>0</td>\n",
       "      <td>0</td>\n",
       "      <td>0</td>\n",
       "      <td>0</td>\n",
       "      <td>0</td>\n",
       "      <td>0</td>\n",
       "      <td>0</td>\n",
       "    </tr>\n",
       "    <tr>\n",
       "      <th>(2714, 3724)</th>\n",
       "      <td>1</td>\n",
       "      <td>0</td>\n",
       "      <td>0</td>\n",
       "      <td>0</td>\n",
       "      <td>0</td>\n",
       "      <td>0</td>\n",
       "      <td>0</td>\n",
       "      <td>0</td>\n",
       "      <td>0</td>\n",
       "      <td>0</td>\n",
       "      <td>...</td>\n",
       "      <td>0</td>\n",
       "      <td>0</td>\n",
       "      <td>0</td>\n",
       "      <td>0</td>\n",
       "      <td>0</td>\n",
       "      <td>0</td>\n",
       "      <td>0</td>\n",
       "      <td>0</td>\n",
       "      <td>0</td>\n",
       "      <td>0</td>\n",
       "    </tr>\n",
       "    <tr>\n",
       "      <th>(315, 374)</th>\n",
       "      <td>1</td>\n",
       "      <td>1</td>\n",
       "      <td>1</td>\n",
       "      <td>0</td>\n",
       "      <td>1</td>\n",
       "      <td>1</td>\n",
       "      <td>1</td>\n",
       "      <td>1</td>\n",
       "      <td>1</td>\n",
       "      <td>1</td>\n",
       "      <td>...</td>\n",
       "      <td>0</td>\n",
       "      <td>0</td>\n",
       "      <td>0</td>\n",
       "      <td>0</td>\n",
       "      <td>0</td>\n",
       "      <td>0</td>\n",
       "      <td>0</td>\n",
       "      <td>0</td>\n",
       "      <td>0</td>\n",
       "      <td>0</td>\n",
       "    </tr>\n",
       "    <tr>\n",
       "      <th>(579, 1115)</th>\n",
       "      <td>1</td>\n",
       "      <td>1</td>\n",
       "      <td>0</td>\n",
       "      <td>0</td>\n",
       "      <td>0</td>\n",
       "      <td>0</td>\n",
       "      <td>0</td>\n",
       "      <td>0</td>\n",
       "      <td>0</td>\n",
       "      <td>0</td>\n",
       "      <td>...</td>\n",
       "      <td>0</td>\n",
       "      <td>0</td>\n",
       "      <td>0</td>\n",
       "      <td>0</td>\n",
       "      <td>0</td>\n",
       "      <td>0</td>\n",
       "      <td>0</td>\n",
       "      <td>0</td>\n",
       "      <td>0</td>\n",
       "      <td>0</td>\n",
       "    </tr>\n",
       "    <tr>\n",
       "      <th>(2853, 3869)</th>\n",
       "      <td>1</td>\n",
       "      <td>0</td>\n",
       "      <td>0</td>\n",
       "      <td>0</td>\n",
       "      <td>0</td>\n",
       "      <td>0</td>\n",
       "      <td>1</td>\n",
       "      <td>1</td>\n",
       "      <td>1</td>\n",
       "      <td>1</td>\n",
       "      <td>...</td>\n",
       "      <td>0</td>\n",
       "      <td>0</td>\n",
       "      <td>0</td>\n",
       "      <td>0</td>\n",
       "      <td>0</td>\n",
       "      <td>0</td>\n",
       "      <td>0</td>\n",
       "      <td>0</td>\n",
       "      <td>0</td>\n",
       "      <td>0</td>\n",
       "    </tr>\n",
       "  </tbody>\n",
       "</table>\n",
       "<p>5 rows × 1806 columns</p>\n",
       "</div>"
      ],
      "text/plain": [
       "              0     1     2     3     4     5     6     7     8     9     \\\n",
       "(297, 797)       1     0     1     0     0     0     0     0     0     0   \n",
       "(2714, 3724)     1     0     0     0     0     0     0     0     0     0   \n",
       "(315, 374)       1     1     1     0     1     1     1     1     1     1   \n",
       "(579, 1115)      1     1     0     0     0     0     0     0     0     0   \n",
       "(2853, 3869)     1     0     0     0     0     0     1     1     1     1   \n",
       "\n",
       "              ...   1796  1797  1798  1799  1800  1801  1802  1803  1804  1805  \n",
       "(297, 797)    ...      0     0     0     0     0     0     0     0     0     0  \n",
       "(2714, 3724)  ...      0     0     0     0     0     0     0     0     0     0  \n",
       "(315, 374)    ...      0     0     0     0     0     0     0     0     0     0  \n",
       "(579, 1115)   ...      0     0     0     0     0     0     0     0     0     0  \n",
       "(2853, 3869)  ...      0     0     0     0     0     0     0     0     0     0  \n",
       "\n",
       "[5 rows x 1806 columns]"
      ]
     },
     "execution_count": 153,
     "metadata": {},
     "output_type": "execute_result"
    }
   ],
   "source": [
    "dt.head()"
   ]
  },
  {
   "cell_type": "code",
   "execution_count": 189,
   "metadata": {
    "ExecuteTime": {
     "end_time": "2017-02-22T12:52:57.517804",
     "start_time": "2017-02-22T12:52:44.774963"
    },
    "collapsed": true
   },
   "outputs": [],
   "source": [
    "ketten2 = list(dt.apply(get_ketten, axis=1, args=['0']).values)"
   ]
  },
  {
   "cell_type": "code",
   "execution_count": 190,
   "metadata": {
    "ExecuteTime": {
     "end_time": "2017-02-22T12:52:59.293445",
     "start_time": "2017-02-22T12:52:59.285189"
    },
    "collapsed": true
   },
   "outputs": [],
   "source": [
    "flattened2 = [n for elem in ketten2 for n in elem]"
   ]
  },
  {
   "cell_type": "code",
   "execution_count": 191,
   "metadata": {
    "ExecuteTime": {
     "end_time": "2017-02-22T12:52:59.858537",
     "start_time": "2017-02-22T12:52:59.841386"
    },
    "collapsed": true
   },
   "outputs": [],
   "source": [
    "s = Series(flattened2)"
   ]
  },
  {
   "cell_type": "code",
   "execution_count": 192,
   "metadata": {
    "ExecuteTime": {
     "end_time": "2017-02-22T12:53:00.671840",
     "start_time": "2017-02-22T12:53:00.656745"
    },
    "collapsed": false
   },
   "outputs": [
    {
     "data": {
      "text/plain": [
       "count    34540.000000\n",
       "mean         2.094296\n",
       "std          2.473320\n",
       "min          1.000000\n",
       "25%          1.000000\n",
       "50%          1.000000\n",
       "75%          2.000000\n",
       "max        174.000000\n",
       "dtype: float64"
      ]
     },
     "execution_count": 192,
     "metadata": {},
     "output_type": "execute_result"
    }
   ],
   "source": [
    "s.describe()"
   ]
  },
  {
   "cell_type": "code",
   "execution_count": 193,
   "metadata": {
    "ExecuteTime": {
     "end_time": "2017-02-22T12:53:03.230337",
     "start_time": "2017-02-22T12:53:03.219506"
    },
    "collapsed": false
   },
   "outputs": [
    {
     "data": {
      "text/plain": [
       "0    1\n",
       "dtype: int64"
      ]
     },
     "execution_count": 193,
     "metadata": {},
     "output_type": "execute_result"
    }
   ],
   "source": [
    "s.mode()"
   ]
  },
  {
   "cell_type": "code",
   "execution_count": 194,
   "metadata": {
    "ExecuteTime": {
     "end_time": "2017-02-22T12:53:04.095017",
     "start_time": "2017-02-22T12:53:04.076059"
    },
    "collapsed": false
   },
   "outputs": [
    {
     "data": {
      "text/plain": [
       "1.0"
      ]
     },
     "execution_count": 194,
     "metadata": {},
     "output_type": "execute_result"
    }
   ],
   "source": [
    "s.median()"
   ]
  },
  {
   "cell_type": "code",
   "execution_count": 195,
   "metadata": {
    "ExecuteTime": {
     "end_time": "2017-02-22T12:53:05.267645",
     "start_time": "2017-02-22T12:53:05.256875"
    },
    "collapsed": false
   },
   "outputs": [
    {
     "data": {
      "text/plain": [
       "2.0942964678633467"
      ]
     },
     "execution_count": 195,
     "metadata": {},
     "output_type": "execute_result"
    }
   ],
   "source": [
    "s.mean()"
   ]
  },
  {
   "cell_type": "code",
   "execution_count": 196,
   "metadata": {
    "ExecuteTime": {
     "end_time": "2017-02-22T12:53:38.000507",
     "start_time": "2017-02-22T12:53:37.985465"
    },
    "collapsed": true
   },
   "outputs": [],
   "source": [
    "def fill_gaps(ll, gap):\n",
    "    length = -1\n",
    "    for n,k in enumerate(ll):\n",
    "        if k == 0:\n",
    "            if length != -1:\n",
    "                length += 1\n",
    "        if k == 1:\n",
    "            if length <= gap:\n",
    "                # auffüllen\n",
    "                for i in list(range(length+1)):\n",
    "                    ll[n-i] = 1\n",
    "            length = 0\n",
    "    return ll"
   ]
  },
  {
   "cell_type": "code",
   "execution_count": 200,
   "metadata": {
    "ExecuteTime": {
     "end_time": "2017-02-22T12:55:13.755382",
     "start_time": "2017-02-22T12:54:59.243698"
    },
    "collapsed": true
   },
   "outputs": [],
   "source": [
    "filled = dt.apply(fill_gaps, axis=1, args=[2])"
   ]
  },
  {
   "cell_type": "code",
   "execution_count": 204,
   "metadata": {
    "ExecuteTime": {
     "end_time": "2017-02-22T12:56:10.948096",
     "start_time": "2017-02-22T12:56:10.904030"
    },
    "collapsed": false
   },
   "outputs": [
    {
     "data": {
      "text/html": [
       "<div>\n",
       "<table border=\"1\" class=\"dataframe\">\n",
       "  <thead>\n",
       "    <tr style=\"text-align: right;\">\n",
       "      <th></th>\n",
       "      <th>0</th>\n",
       "      <th>1</th>\n",
       "      <th>2</th>\n",
       "      <th>3</th>\n",
       "      <th>4</th>\n",
       "      <th>5</th>\n",
       "      <th>6</th>\n",
       "      <th>7</th>\n",
       "      <th>8</th>\n",
       "      <th>9</th>\n",
       "      <th>...</th>\n",
       "      <th>1796</th>\n",
       "      <th>1797</th>\n",
       "      <th>1798</th>\n",
       "      <th>1799</th>\n",
       "      <th>1800</th>\n",
       "      <th>1801</th>\n",
       "      <th>1802</th>\n",
       "      <th>1803</th>\n",
       "      <th>1804</th>\n",
       "      <th>1805</th>\n",
       "    </tr>\n",
       "  </thead>\n",
       "  <tbody>\n",
       "    <tr>\n",
       "      <th>(297, 797)</th>\n",
       "      <td>1</td>\n",
       "      <td>1</td>\n",
       "      <td>1</td>\n",
       "      <td>0</td>\n",
       "      <td>0</td>\n",
       "      <td>0</td>\n",
       "      <td>0</td>\n",
       "      <td>0</td>\n",
       "      <td>0</td>\n",
       "      <td>0</td>\n",
       "      <td>...</td>\n",
       "      <td>0</td>\n",
       "      <td>0</td>\n",
       "      <td>0</td>\n",
       "      <td>0</td>\n",
       "      <td>0</td>\n",
       "      <td>0</td>\n",
       "      <td>0</td>\n",
       "      <td>0</td>\n",
       "      <td>0</td>\n",
       "      <td>0</td>\n",
       "    </tr>\n",
       "    <tr>\n",
       "      <th>(2714, 3724)</th>\n",
       "      <td>1</td>\n",
       "      <td>0</td>\n",
       "      <td>0</td>\n",
       "      <td>0</td>\n",
       "      <td>0</td>\n",
       "      <td>0</td>\n",
       "      <td>0</td>\n",
       "      <td>0</td>\n",
       "      <td>0</td>\n",
       "      <td>0</td>\n",
       "      <td>...</td>\n",
       "      <td>0</td>\n",
       "      <td>0</td>\n",
       "      <td>0</td>\n",
       "      <td>0</td>\n",
       "      <td>0</td>\n",
       "      <td>0</td>\n",
       "      <td>0</td>\n",
       "      <td>0</td>\n",
       "      <td>0</td>\n",
       "      <td>0</td>\n",
       "    </tr>\n",
       "    <tr>\n",
       "      <th>(315, 374)</th>\n",
       "      <td>1</td>\n",
       "      <td>1</td>\n",
       "      <td>1</td>\n",
       "      <td>1</td>\n",
       "      <td>1</td>\n",
       "      <td>1</td>\n",
       "      <td>1</td>\n",
       "      <td>1</td>\n",
       "      <td>1</td>\n",
       "      <td>1</td>\n",
       "      <td>...</td>\n",
       "      <td>0</td>\n",
       "      <td>0</td>\n",
       "      <td>0</td>\n",
       "      <td>0</td>\n",
       "      <td>0</td>\n",
       "      <td>0</td>\n",
       "      <td>0</td>\n",
       "      <td>0</td>\n",
       "      <td>0</td>\n",
       "      <td>0</td>\n",
       "    </tr>\n",
       "    <tr>\n",
       "      <th>(579, 1115)</th>\n",
       "      <td>1</td>\n",
       "      <td>1</td>\n",
       "      <td>0</td>\n",
       "      <td>0</td>\n",
       "      <td>0</td>\n",
       "      <td>0</td>\n",
       "      <td>0</td>\n",
       "      <td>0</td>\n",
       "      <td>0</td>\n",
       "      <td>0</td>\n",
       "      <td>...</td>\n",
       "      <td>0</td>\n",
       "      <td>0</td>\n",
       "      <td>0</td>\n",
       "      <td>0</td>\n",
       "      <td>0</td>\n",
       "      <td>0</td>\n",
       "      <td>0</td>\n",
       "      <td>0</td>\n",
       "      <td>0</td>\n",
       "      <td>0</td>\n",
       "    </tr>\n",
       "    <tr>\n",
       "      <th>(2853, 3869)</th>\n",
       "      <td>1</td>\n",
       "      <td>0</td>\n",
       "      <td>0</td>\n",
       "      <td>0</td>\n",
       "      <td>0</td>\n",
       "      <td>0</td>\n",
       "      <td>1</td>\n",
       "      <td>1</td>\n",
       "      <td>1</td>\n",
       "      <td>1</td>\n",
       "      <td>...</td>\n",
       "      <td>0</td>\n",
       "      <td>0</td>\n",
       "      <td>0</td>\n",
       "      <td>0</td>\n",
       "      <td>0</td>\n",
       "      <td>0</td>\n",
       "      <td>0</td>\n",
       "      <td>0</td>\n",
       "      <td>0</td>\n",
       "      <td>0</td>\n",
       "    </tr>\n",
       "  </tbody>\n",
       "</table>\n",
       "<p>5 rows × 1806 columns</p>\n",
       "</div>"
      ],
      "text/plain": [
       "              0     1     2     3     4     5     6     7     8     9     \\\n",
       "(297, 797)       1     1     1     0     0     0     0     0     0     0   \n",
       "(2714, 3724)     1     0     0     0     0     0     0     0     0     0   \n",
       "(315, 374)       1     1     1     1     1     1     1     1     1     1   \n",
       "(579, 1115)      1     1     0     0     0     0     0     0     0     0   \n",
       "(2853, 3869)     1     0     0     0     0     0     1     1     1     1   \n",
       "\n",
       "              ...   1796  1797  1798  1799  1800  1801  1802  1803  1804  1805  \n",
       "(297, 797)    ...      0     0     0     0     0     0     0     0     0     0  \n",
       "(2714, 3724)  ...      0     0     0     0     0     0     0     0     0     0  \n",
       "(315, 374)    ...      0     0     0     0     0     0     0     0     0     0  \n",
       "(579, 1115)   ...      0     0     0     0     0     0     0     0     0     0  \n",
       "(2853, 3869)  ...      0     0     0     0     0     0     0     0     0     0  \n",
       "\n",
       "[5 rows x 1806 columns]"
      ]
     },
     "execution_count": 204,
     "metadata": {},
     "output_type": "execute_result"
    }
   ],
   "source": [
    "filled.head()"
   ]
  },
  {
   "cell_type": "code",
   "execution_count": 205,
   "metadata": {
    "ExecuteTime": {
     "end_time": "2017-02-22T12:57:05.130367",
     "start_time": "2017-02-22T12:56:52.708514"
    },
    "collapsed": true
   },
   "outputs": [],
   "source": [
    "ketten3 = list(filled.apply(get_ketten, axis=1, args=['0']).values)"
   ]
  },
  {
   "cell_type": "code",
   "execution_count": 207,
   "metadata": {
    "ExecuteTime": {
     "end_time": "2017-02-22T12:57:29.996896",
     "start_time": "2017-02-22T12:57:29.986939"
    },
    "collapsed": false
   },
   "outputs": [],
   "source": [
    "flattened3 = [n for elem in ketten3 for n in elem]"
   ]
  },
  {
   "cell_type": "code",
   "execution_count": 208,
   "metadata": {
    "ExecuteTime": {
     "end_time": "2017-02-22T12:57:44.732408",
     "start_time": "2017-02-22T12:57:44.708428"
    },
    "collapsed": true
   },
   "outputs": [],
   "source": [
    "s3 = Series(flattened3)"
   ]
  },
  {
   "cell_type": "code",
   "execution_count": 252,
   "metadata": {
    "ExecuteTime": {
     "end_time": "2017-02-22T13:26:12.456161",
     "start_time": "2017-02-22T13:26:12.444433"
    },
    "collapsed": false
   },
   "outputs": [],
   "source": [
    "s3 = s3[s3 < 30]"
   ]
  },
  {
   "cell_type": "code",
   "execution_count": 253,
   "metadata": {
    "ExecuteTime": {
     "end_time": "2017-02-22T13:26:13.410424",
     "start_time": "2017-02-22T13:26:13.017629"
    },
    "collapsed": false
   },
   "outputs": [
    {
     "data": {
      "text/plain": [
       "<matplotlib.axes._subplots.AxesSubplot at 0x7f1f419ee550>"
      ]
     },
     "execution_count": 253,
     "metadata": {},
     "output_type": "execute_result"
    },
    {
     "data": {
      "image/png": "[encoded data removed]",
      "text/plain": [
       "<matplotlib.figure.Figure at 0x7f1f411b09e8>"
      ]
     },
     "metadata": {},
     "output_type": "display_data"
    }
   ],
   "source": [
    "s3.hist(bins=25)"
   ]
  },
  {
   "cell_type": "code",
   "execution_count": 254,
   "metadata": {
    "ExecuteTime": {
     "end_time": "2017-02-22T13:26:14.013462",
     "start_time": "2017-02-22T13:26:13.996485"
    },
    "collapsed": false
   },
   "outputs": [
    {
     "data": {
      "text/plain": [
       "count    21993.000000\n",
       "mean         3.712363\n",
       "std          4.148867\n",
       "min          1.000000\n",
       "25%          1.000000\n",
       "50%          2.000000\n",
       "75%          5.000000\n",
       "max         29.000000\n",
       "dtype: float64"
      ]
     },
     "execution_count": 254,
     "metadata": {},
     "output_type": "execute_result"
    }
   ],
   "source": [
    "s3.describe()"
   ]
  },
  {
   "cell_type": "code",
   "execution_count": 255,
   "metadata": {
    "ExecuteTime": {
     "end_time": "2017-02-22T13:26:15.013493",
     "start_time": "2017-02-22T13:26:15.000447"
    },
    "collapsed": false
   },
   "outputs": [
    {
     "data": {
      "text/plain": [
       "0    1\n",
       "dtype: int64"
      ]
     },
     "execution_count": 255,
     "metadata": {},
     "output_type": "execute_result"
    }
   ],
   "source": [
    "s3.mode()"
   ]
  },
  {
   "cell_type": "code",
   "execution_count": 256,
   "metadata": {
    "ExecuteTime": {
     "end_time": "2017-02-22T13:26:15.554461",
     "start_time": "2017-02-22T13:26:15.546104"
    },
    "collapsed": false
   },
   "outputs": [
    {
     "data": {
      "text/plain": [
       "2.0"
      ]
     },
     "execution_count": 256,
     "metadata": {},
     "output_type": "execute_result"
    }
   ],
   "source": [
    "s3.median()"
   ]
  },
  {
   "cell_type": "code",
   "execution_count": 257,
   "metadata": {
    "ExecuteTime": {
     "end_time": "2017-02-22T13:26:16.192825",
     "start_time": "2017-02-22T13:26:16.179678"
    },
    "collapsed": false
   },
   "outputs": [
    {
     "data": {
      "text/plain": [
       "3.7123630245987358"
      ]
     },
     "execution_count": 257,
     "metadata": {},
     "output_type": "execute_result"
    }
   ],
   "source": [
    "s3.mean()"
   ]
  },
  {
   "cell_type": "code",
   "execution_count": 258,
   "metadata": {
    "ExecuteTime": {
     "end_time": "2017-02-22T13:26:19.688168",
     "start_time": "2017-02-22T13:26:19.177700"
    },
    "collapsed": false
   },
   "outputs": [
    {
     "data": {
      "text/plain": [
       "<matplotlib.axes._subplots.AxesSubplot at 0x7f1f43278d30>"
      ]
     },
     "execution_count": 258,
     "metadata": {},
     "output_type": "execute_result"
    },
    {
     "data": {
      "image/png": "[encoded data removed]",
      "text/plain": [
       "<matplotlib.figure.Figure at 0x7f1f42e8df98>"
      ]
     },
     "metadata": {},
     "output_type": "display_data"
    }
   ],
   "source": [
    "s3.plot.box()"
   ]
  },
  {
   "cell_type": "code",
   "execution_count": 259,
   "metadata": {
    "ExecuteTime": {
     "end_time": "2017-02-22T13:26:21.288028",
     "start_time": "2017-02-22T13:26:21.273707"
    },
    "collapsed": false
   },
   "outputs": [
    {
     "ename": "SyntaxError",
     "evalue": "invalid syntax (<ipython-input-259-df24a7e6ff39>, line 1)",
     "output_type": "error",
     "traceback": [
      "\u001b[0;36m  File \u001b[0;32m\"<ipython-input-259-df24a7e6ff39>\"\u001b[0;36m, line \u001b[0;32m1\u001b[0m\n\u001b[0;31m    for i in np.(\u001b[0m\n\u001b[0m                ^\u001b[0m\n\u001b[0;31mSyntaxError\u001b[0m\u001b[0;31m:\u001b[0m invalid syntax\n"
     ]
    }
   ],
   "source": [
    "for i in np.("
   ]
  },
  {
   "cell_type": "code",
   "execution_count": 260,
   "metadata": {
    "ExecuteTime": {
     "end_time": "2017-02-22T13:26:22.545920",
     "start_time": "2017-02-22T13:26:22.465614"
    },
    "collapsed": false
   },
   "outputs": [],
   "source": [
    "stat = []\n",
    "for i in np.arange(0,1.01,0.01):\n",
    "    stat.append((i*100, s3.quantile(q=i)))"
   ]
  },
  {
   "cell_type": "code",
   "execution_count": 261,
   "metadata": {
    "ExecuteTime": {
     "end_time": "2017-02-22T13:26:23.171911",
     "start_time": "2017-02-22T13:26:23.162454"
    },
    "collapsed": false
   },
   "outputs": [],
   "source": [
    "dfstat = DataFrame(stat, columns=['quantile', 'values'])"
   ]
  },
  {
   "cell_type": "code",
   "execution_count": 262,
   "metadata": {
    "ExecuteTime": {
     "end_time": "2017-02-22T13:26:24.133722",
     "start_time": "2017-02-22T13:26:23.812679"
    },
    "collapsed": false
   },
   "outputs": [
    {
     "data": {
      "text/plain": [
       "<matplotlib.axes._subplots.AxesSubplot at 0x7f1f43251400>"
      ]
     },
     "execution_count": 262,
     "metadata": {},
     "output_type": "execute_result"
    },
    {
     "data": {
      "image/png": "[encoded data removed]",
      "text/plain": [
       "<matplotlib.figure.Figure at 0x7f1f43ee0390>"
      ]
     },
     "metadata": {},
     "output_type": "display_data"
    }
   ],
   "source": [
    "dfstat.plot(x='quantile', y='values')"
   ]
  },
  {
   "cell_type": "code",
   "execution_count": 240,
   "metadata": {
    "ExecuteTime": {
     "end_time": "2017-02-22T13:18:54.100982",
     "start_time": "2017-02-22T13:18:54.073626"
    },
    "collapsed": false
   },
   "outputs": [
    {
     "data": {
      "text/plain": [
       "[(0.0, 1.0),\n",
       " (1.0, 1.0),\n",
       " (2.0, 1.0),\n",
       " (3.0, 1.0),\n",
       " (4.0, 1.0),\n",
       " (5.0, 1.0),\n",
       " (6.0, 1.0),\n",
       " (7.0000000000000009, 1.0),\n",
       " (8.0, 1.0),\n",
       " (9.0, 1.0),\n",
       " (10.0, 1.0),\n",
       " (11.0, 1.0),\n",
       " (12.0, 1.0),\n",
       " (13.0, 1.0),\n",
       " (14.000000000000002, 1.0),\n",
       " (15.0, 1.0),\n",
       " (16.0, 1.0),\n",
       " (17.0, 1.0),\n",
       " (18.0, 1.0),\n",
       " (19.0, 1.0),\n",
       " (20.0, 1.0),\n",
       " (21.0, 1.0),\n",
       " (22.0, 1.0),\n",
       " (23.0, 1.0),\n",
       " (24.0, 1.0),\n",
       " (25.0, 1.0),\n",
       " (26.0, 1.0),\n",
       " (27.0, 1.0),\n",
       " (28.000000000000004, 1.0),\n",
       " (28.999999999999996, 1.0),\n",
       " (30.0, 1.0),\n",
       " (31.0, 1.0),\n",
       " (32.0, 1.0),\n",
       " (33.0, 1.0),\n",
       " (34.0, 1.0),\n",
       " (35.0, 1.0),\n",
       " (36.0, 1.0),\n",
       " (37.0, 1.0),\n",
       " (38.0, 1.0),\n",
       " (39.0, 1.0),\n",
       " (40.0, 1.0),\n",
       " (41.0, 1.0),\n",
       " (42.0, 1.0),\n",
       " (43.0, 1.0),\n",
       " (44.0, 2.0),\n",
       " (45.0, 2.0),\n",
       " (46.0, 2.0),\n",
       " (47.0, 2.0),\n",
       " (48.0, 2.0),\n",
       " (49.0, 2.0),\n",
       " (50.0, 2.0),\n",
       " (51.0, 2.0),\n",
       " (52.0, 2.0),\n",
       " (53.0, 2.0),\n",
       " (54.0, 2.0),\n",
       " (55.000000000000007, 2.0),\n",
       " (56.000000000000007, 2.0),\n",
       " (57.000000000000007, 3.0),\n",
       " (57.999999999999993, 3.0),\n",
       " (59.0, 3.0),\n",
       " (60.0, 3.0),\n",
       " (61.0, 3.0),\n",
       " (62.0, 3.0),\n",
       " (63.0, 3.0),\n",
       " (64.0, 3.0),\n",
       " (65.0, 3.0),\n",
       " (66.0, 4.0),\n",
       " (67.0, 4.0),\n",
       " (68.0, 4.0),\n",
       " (69.0, 4.0),\n",
       " (70.0, 4.0),\n",
       " (71.0, 4.0),\n",
       " (72.0, 4.0),\n",
       " (73.0, 5.0),\n",
       " (74.0, 5.0),\n",
       " (75.0, 5.0),\n",
       " (76.0, 5.0),\n",
       " (77.0, 5.0),\n",
       " (78.0, 5.0),\n",
       " (79.0, 6.0),\n",
       " (80.0, 6.0),\n",
       " (81.0, 6.0),\n",
       " (82.0, 6.0),\n",
       " (83.0, 7.0),\n",
       " (84.0, 7.0),\n",
       " (85.0, 7.0),\n",
       " (86.0, 8.0),\n",
       " (87.0, 8.0),\n",
       " (88.0, 8.0),\n",
       " (89.0, 9.0),\n",
       " (90.0, 9.0),\n",
       " (91.0, 10.0),\n",
       " (92.0, 10.0),\n",
       " (93.0, 11.0),\n",
       " (94.0, 12.0),\n",
       " (95.0, 13.0),\n",
       " (96.0, 14.0),\n",
       " (97.0, 16.0),\n",
       " (98.0, 19.0),\n",
       " (99.0, 25.0),\n",
       " (100.0, 277.0)]"
      ]
     },
     "execution_count": 240,
     "metadata": {},
     "output_type": "execute_result"
    }
   ],
   "source": [
    "stat"
   ]
  },
  {
   "cell_type": "code",
   "execution_count": null,
   "metadata": {
    "collapsed": true
   },
   "outputs": [],
   "source": []
  }
 ],
 "metadata": {
  "kernelspec": {
   "display_name": "Python 3",
   "language": "python",
   "name": "python3"
  },
  "language_info": {
   "codemirror_mode": {
    "name": "ipython",
    "version": 3
   },
   "file_extension": ".py",
   "mimetype": "text/x-python",
   "name": "python",
   "nbconvert_exporter": "python",
   "pygments_lexer": "ipython3",
   "version": "3.5.2"
  },
  "toc": {
   "colors": {
    "hover_highlight": "#DAA520",
    "running_highlight": "#FF0000",
    "selected_highlight": "#FFD700"
   },
   "moveMenuLeft": true,
   "nav_menu": {
    "height": "12px",
    "width": "252px"
   },
   "navigate_menu": true,
   "number_sections": true,
   "sideBar": true,
   "threshold": 4,
   "toc_cell": false,
   "toc_section_display": "block",
   "toc_window_display": false
  }
 },
 "nbformat": 4,
 "nbformat_minor": 2
}
