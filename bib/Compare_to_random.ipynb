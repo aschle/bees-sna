{
 "cells": [
  {
   "cell_type": "code",
   "execution_count": 1,
   "metadata": {
    "ExecuteTime": {
     "end_time": "2017-03-19T23:56:22.518697",
     "start_time": "2017-03-19T23:56:15.778450"
    },
    "collapsed": true
   },
   "outputs": [],
   "source": [
    "import networkx as nx\n",
    "import preprocessing as prep\n",
    "import numpy as np\n",
    "import pandas as pd\n",
    "import numpy as np\n",
    "import json\n",
    "import os\n",
    "import datetime\n",
    "import pytz\n",
    "import matplotlib.pyplot as plt\n",
    "from collections import Counter\n",
    "from bb_binary import load_frame_container, Repository\n",
    "from pandas import Series, DataFrame\n",
    "import seaborn as sns\n",
    "import igraph as ig\n",
    "import sqlite3"
   ]
  },
  {
   "cell_type": "code",
   "execution_count": 24,
   "metadata": {
    "ExecuteTime": {
     "end_time": "2017-03-20T00:29:58.767957",
     "start_time": "2017-03-20T00:29:58.736438"
    },
    "collapsed": true
   },
   "outputs": [],
   "source": [
    "%matplotlib inline"
   ]
  },
  {
   "cell_type": "code",
   "execution_count": 188,
   "metadata": {
    "ExecuteTime": {
     "end_time": "2017-04-18T21:11:11.519791",
     "start_time": "2017-04-18T21:11:08.203173"
    },
    "collapsed": false
   },
   "outputs": [],
   "source": [
    "g1 = ig.Graph.Read_GraphML('networks/0820_10h_95conf_212dist_3ilen_2gap_600minutes_2016-08-20_08:00:00+00:00.graphml')"
   ]
  },
  {
   "cell_type": "code",
   "execution_count": 189,
   "metadata": {
    "ExecuteTime": {
     "end_time": "2017-04-18T21:11:16.822096",
     "start_time": "2017-04-18T21:11:16.651058"
    },
    "collapsed": true
   },
   "outputs": [],
   "source": [
    "rg = ig.Graph.Erdos_Renyi(n=len(g1.vs), m=len(g1.es))"
   ]
  },
  {
   "cell_type": "code",
   "execution_count": 190,
   "metadata": {
    "ExecuteTime": {
     "end_time": "2017-04-18T21:11:22.113506",
     "start_time": "2017-04-18T21:11:22.097739"
    },
    "collapsed": true
   },
   "outputs": [],
   "source": [
    "def getValuesRandom(vertices, edges):\n",
    "    deg = []\n",
    "    lcc = []\n",
    "    close = []\n",
    "    between = []\n",
    "    for i in list(range(100)):\n",
    "        rg = ig.Graph.Erdos_Renyi(n=vertices, m=edges)\n",
    "        deg.append(rg.degree())\n",
    "        lcc.append(rg.transitivity_local_undirected())\n",
    "        close.append(rg.closeness())\n",
    "        between.append(rg.betweenness())\n",
    "        print('.',sep='')\n",
    "    return deg,lcc,close,between"
   ]
  },
  {
   "cell_type": "code",
   "execution_count": 191,
   "metadata": {
    "ExecuteTime": {
     "end_time": "2017-04-18T21:12:04.630563",
     "start_time": "2017-04-18T21:11:27.938145"
    },
    "collapsed": true
   },
   "outputs": [
    {
     "name": "stdout",
     "output_type": "stream",
     "text": [
      ".\n",
      ".\n"
     ]
    },
    {
     "ename": "KeyboardInterrupt",
     "evalue": "",
     "output_type": "error",
     "traceback": [
      "\u001b[0;31m---------------------------------------------------------------------------\u001b[0m",
      "\u001b[0;31mKeyboardInterrupt\u001b[0m                         Traceback (most recent call last)",
      "\u001b[0;32m<ipython-input-191-1384db9d0fd6>\u001b[0m in \u001b[0;36m<module>\u001b[0;34m()\u001b[0m\n\u001b[0;32m----> 1\u001b[0;31m \u001b[0mdeg_rand\u001b[0m\u001b[0;34m,\u001b[0m \u001b[0mlcc_rand\u001b[0m\u001b[0;34m,\u001b[0m \u001b[0mclose_rand\u001b[0m\u001b[0;34m,\u001b[0m \u001b[0mbetween_rand\u001b[0m \u001b[0;34m=\u001b[0m \u001b[0mgetValuesRandom\u001b[0m\u001b[0;34m(\u001b[0m\u001b[0mlen\u001b[0m\u001b[0;34m(\u001b[0m\u001b[0mg1\u001b[0m\u001b[0;34m.\u001b[0m\u001b[0mvs\u001b[0m\u001b[0;34m)\u001b[0m\u001b[0;34m,\u001b[0m \u001b[0mlen\u001b[0m\u001b[0;34m(\u001b[0m\u001b[0mg1\u001b[0m\u001b[0;34m.\u001b[0m\u001b[0mes\u001b[0m\u001b[0;34m)\u001b[0m\u001b[0;34m)\u001b[0m\u001b[0;34m\u001b[0m\u001b[0m\n\u001b[0m",
      "\u001b[0;32m<ipython-input-190-d181998222c9>\u001b[0m in \u001b[0;36mgetValuesRandom\u001b[0;34m(vertices, edges)\u001b[0m\n\u001b[1;32m      9\u001b[0m         \u001b[0mlcc\u001b[0m\u001b[0;34m.\u001b[0m\u001b[0mappend\u001b[0m\u001b[0;34m(\u001b[0m\u001b[0mrg\u001b[0m\u001b[0;34m.\u001b[0m\u001b[0mtransitivity_local_undirected\u001b[0m\u001b[0;34m(\u001b[0m\u001b[0;34m)\u001b[0m\u001b[0;34m)\u001b[0m\u001b[0;34m\u001b[0m\u001b[0m\n\u001b[1;32m     10\u001b[0m         \u001b[0mclose\u001b[0m\u001b[0;34m.\u001b[0m\u001b[0mappend\u001b[0m\u001b[0;34m(\u001b[0m\u001b[0mrg\u001b[0m\u001b[0;34m.\u001b[0m\u001b[0mcloseness\u001b[0m\u001b[0;34m(\u001b[0m\u001b[0;34m)\u001b[0m\u001b[0;34m)\u001b[0m\u001b[0;34m\u001b[0m\u001b[0m\n\u001b[0;32m---> 11\u001b[0;31m         \u001b[0mbetween\u001b[0m\u001b[0;34m.\u001b[0m\u001b[0mappend\u001b[0m\u001b[0;34m(\u001b[0m\u001b[0mrg\u001b[0m\u001b[0;34m.\u001b[0m\u001b[0mbetweenness\u001b[0m\u001b[0;34m(\u001b[0m\u001b[0;34m)\u001b[0m\u001b[0;34m)\u001b[0m\u001b[0;34m\u001b[0m\u001b[0m\n\u001b[0m\u001b[1;32m     12\u001b[0m         \u001b[0mprint\u001b[0m\u001b[0;34m(\u001b[0m\u001b[0;34m'.'\u001b[0m\u001b[0;34m,\u001b[0m\u001b[0msep\u001b[0m\u001b[0;34m=\u001b[0m\u001b[0;34m''\u001b[0m\u001b[0;34m)\u001b[0m\u001b[0;34m\u001b[0m\u001b[0m\n\u001b[1;32m     13\u001b[0m     \u001b[0;32mreturn\u001b[0m \u001b[0mdeg\u001b[0m\u001b[0;34m,\u001b[0m\u001b[0mlcc\u001b[0m\u001b[0;34m,\u001b[0m\u001b[0mclose\u001b[0m\u001b[0;34m,\u001b[0m\u001b[0mbetween\u001b[0m\u001b[0;34m\u001b[0m\u001b[0m\n",
      "\u001b[0;31mKeyboardInterrupt\u001b[0m: "
     ]
    }
   ],
   "source": [
    "deg_rand, lcc_rand, close_rand, between_rand = getValuesRandom(len(g1.vs), len(g1.es))"
   ]
  },
  {
   "cell_type": "code",
   "execution_count": 187,
   "metadata": {
    "ExecuteTime": {
     "end_time": "2017-04-06T23:36:08.293019",
     "start_time": "2017-04-06T23:36:07.551018"
    },
    "collapsed": false
   },
   "outputs": [
    {
     "data": {
      "text/plain": [
       "<matplotlib.axes._subplots.AxesSubplot at 0x7f51dde8b048>"
      ]
     },
     "execution_count": 187,
     "metadata": {},
     "output_type": "execute_result"
    },
    {
     "data": {
      "image/png": "[encoded data removed]",
      "text/plain": [
       "<matplotlib.figure.Figure at 0x7f51dde99a20>"
      ]
     },
     "metadata": {},
     "output_type": "display_data"
    }
   ],
   "source": [
    "pd.concat([Series(i) for i in between_rand]).hist(bins=50)"
   ]
  },
  {
   "cell_type": "code",
   "execution_count": 192,
   "metadata": {
    "ExecuteTime": {
     "end_time": "2017-04-18T21:12:13.791772",
     "start_time": "2017-04-18T21:12:13.776147"
    },
    "collapsed": false
   },
   "outputs": [],
   "source": [
    "def calcRandom(g,n=100):\n",
    "    values = []\n",
    "    for i in list(range(100)):\n",
    "        rg = ig.Graph.Erdos_Renyi(n=len(g.vs), m=len(g.es))\n",
    "        v = rg.transitivity_undirected()\n",
    "        density = rg.density()\n",
    "        diameter = rg.diameter()\n",
    "        avpath = rg.average_path_length()\n",
    "        avdeg = Series(rg.degree()).mean()\n",
    "        values.append({'cc': v, 'density': density, 'diameter': diameter, 'avpath': avpath, 'avdeg': avdeg})\n",
    "    return values"
   ]
  },
  {
   "cell_type": "code",
   "execution_count": 193,
   "metadata": {
    "ExecuteTime": {
     "end_time": "2017-04-18T21:24:19.220828",
     "start_time": "2017-04-18T21:12:15.323124"
    },
    "collapsed": true
   },
   "outputs": [],
   "source": [
    "list1 = calcRandom(g1,100)"
   ]
  },
  {
   "cell_type": "code",
   "execution_count": 131,
   "metadata": {
    "ExecuteTime": {
     "end_time": "2017-04-02T18:42:11.782737",
     "start_time": "2017-04-02T18:42:11.749026"
    },
    "collapsed": false
   },
   "outputs": [
    {
     "data": {
      "text/html": [
       "<div>\n",
       "<table border=\"1\" class=\"dataframe\">\n",
       "  <thead>\n",
       "    <tr style=\"text-align: right;\">\n",
       "      <th></th>\n",
       "      <th>avdeg</th>\n",
       "      <th>avpath</th>\n",
       "      <th>cc</th>\n",
       "      <th>density</th>\n",
       "      <th>diameter</th>\n",
       "    </tr>\n",
       "  </thead>\n",
       "  <tbody>\n",
       "    <tr>\n",
       "      <th>count</th>\n",
       "      <td>1.000000e+02</td>\n",
       "      <td>100.000000</td>\n",
       "      <td>100.000000</td>\n",
       "      <td>100.000000</td>\n",
       "      <td>100.0</td>\n",
       "    </tr>\n",
       "    <tr>\n",
       "      <th>mean</th>\n",
       "      <td>6.316247e+02</td>\n",
       "      <td>1.314197</td>\n",
       "      <td>0.685796</td>\n",
       "      <td>0.685803</td>\n",
       "      <td>2.0</td>\n",
       "    </tr>\n",
       "    <tr>\n",
       "      <th>std</th>\n",
       "      <td>1.142596e-13</td>\n",
       "      <td>0.000000</td>\n",
       "      <td>0.000041</td>\n",
       "      <td>0.000000</td>\n",
       "      <td>0.0</td>\n",
       "    </tr>\n",
       "    <tr>\n",
       "      <th>min</th>\n",
       "      <td>6.316247e+02</td>\n",
       "      <td>1.314197</td>\n",
       "      <td>0.685695</td>\n",
       "      <td>0.685803</td>\n",
       "      <td>2.0</td>\n",
       "    </tr>\n",
       "    <tr>\n",
       "      <th>25%</th>\n",
       "      <td>6.316247e+02</td>\n",
       "      <td>1.314197</td>\n",
       "      <td>0.685770</td>\n",
       "      <td>0.685803</td>\n",
       "      <td>2.0</td>\n",
       "    </tr>\n",
       "    <tr>\n",
       "      <th>50%</th>\n",
       "      <td>6.316247e+02</td>\n",
       "      <td>1.314197</td>\n",
       "      <td>0.685794</td>\n",
       "      <td>0.685803</td>\n",
       "      <td>2.0</td>\n",
       "    </tr>\n",
       "    <tr>\n",
       "      <th>75%</th>\n",
       "      <td>6.316247e+02</td>\n",
       "      <td>1.314197</td>\n",
       "      <td>0.685820</td>\n",
       "      <td>0.685803</td>\n",
       "      <td>2.0</td>\n",
       "    </tr>\n",
       "    <tr>\n",
       "      <th>max</th>\n",
       "      <td>6.316247e+02</td>\n",
       "      <td>1.314197</td>\n",
       "      <td>0.685910</td>\n",
       "      <td>0.685803</td>\n",
       "      <td>2.0</td>\n",
       "    </tr>\n",
       "  </tbody>\n",
       "</table>\n",
       "</div>"
      ],
      "text/plain": [
       "              avdeg      avpath          cc     density  diameter\n",
       "count  1.000000e+02  100.000000  100.000000  100.000000     100.0\n",
       "mean   6.316247e+02    1.314197    0.685796    0.685803       2.0\n",
       "std    1.142596e-13    0.000000    0.000041    0.000000       0.0\n",
       "min    6.316247e+02    1.314197    0.685695    0.685803       2.0\n",
       "25%    6.316247e+02    1.314197    0.685770    0.685803       2.0\n",
       "50%    6.316247e+02    1.314197    0.685794    0.685803       2.0\n",
       "75%    6.316247e+02    1.314197    0.685820    0.685803       2.0\n",
       "max    6.316247e+02    1.314197    0.685910    0.685803       2.0"
      ]
     },
     "execution_count": 131,
     "metadata": {},
     "output_type": "execute_result"
    }
   ],
   "source": [
    "DataFrame(list1).describe()"
   ]
  },
  {
   "cell_type": "code",
   "execution_count": 132,
   "metadata": {
    "ExecuteTime": {
     "end_time": "2017-04-02T19:02:55.529194",
     "start_time": "2017-04-02T19:02:52.557437"
    },
    "collapsed": true
   },
   "outputs": [],
   "source": [
    "g2 = ig.Graph.Read_GraphML('networks/0822_10h_95conf_212dist_3ilen_2gap_600minutes_2016-08-22_08:00:00+00:00.graphml')"
   ]
  },
  {
   "cell_type": "code",
   "execution_count": 133,
   "metadata": {
    "ExecuteTime": {
     "end_time": "2017-04-02T19:13:49.256797",
     "start_time": "2017-04-02T19:02:55.531286"
    },
    "collapsed": true
   },
   "outputs": [],
   "source": [
    "list2 = calcRandom(g2,100)"
   ]
  },
  {
   "cell_type": "code",
   "execution_count": 135,
   "metadata": {
    "ExecuteTime": {
     "end_time": "2017-04-02T19:15:02.386513",
     "start_time": "2017-04-02T19:15:02.318951"
    },
    "collapsed": false
   },
   "outputs": [
    {
     "data": {
      "text/html": [
       "<div>\n",
       "<table border=\"1\" class=\"dataframe\">\n",
       "  <thead>\n",
       "    <tr style=\"text-align: right;\">\n",
       "      <th></th>\n",
       "      <th>avdeg</th>\n",
       "      <th>avpath</th>\n",
       "      <th>cc</th>\n",
       "      <th>density</th>\n",
       "      <th>diameter</th>\n",
       "    </tr>\n",
       "  </thead>\n",
       "  <tbody>\n",
       "    <tr>\n",
       "      <th>count</th>\n",
       "      <td>100.000000</td>\n",
       "      <td>1.000000e+02</td>\n",
       "      <td>100.000000</td>\n",
       "      <td>1.000000e+02</td>\n",
       "      <td>100.0</td>\n",
       "    </tr>\n",
       "    <tr>\n",
       "      <th>mean</th>\n",
       "      <td>523.652352</td>\n",
       "      <td>1.464020e+00</td>\n",
       "      <td>0.535973</td>\n",
       "      <td>5.359799e-01</td>\n",
       "      <td>2.0</td>\n",
       "    </tr>\n",
       "    <tr>\n",
       "      <th>std</th>\n",
       "      <td>0.000000</td>\n",
       "      <td>2.231632e-16</td>\n",
       "      <td>0.000055</td>\n",
       "      <td>1.115816e-16</td>\n",
       "      <td>0.0</td>\n",
       "    </tr>\n",
       "    <tr>\n",
       "      <th>min</th>\n",
       "      <td>523.652352</td>\n",
       "      <td>1.464020e+00</td>\n",
       "      <td>0.535850</td>\n",
       "      <td>5.359799e-01</td>\n",
       "      <td>2.0</td>\n",
       "    </tr>\n",
       "    <tr>\n",
       "      <th>25%</th>\n",
       "      <td>523.652352</td>\n",
       "      <td>1.464020e+00</td>\n",
       "      <td>0.535938</td>\n",
       "      <td>5.359799e-01</td>\n",
       "      <td>2.0</td>\n",
       "    </tr>\n",
       "    <tr>\n",
       "      <th>50%</th>\n",
       "      <td>523.652352</td>\n",
       "      <td>1.464020e+00</td>\n",
       "      <td>0.535965</td>\n",
       "      <td>5.359799e-01</td>\n",
       "      <td>2.0</td>\n",
       "    </tr>\n",
       "    <tr>\n",
       "      <th>75%</th>\n",
       "      <td>523.652352</td>\n",
       "      <td>1.464020e+00</td>\n",
       "      <td>0.536014</td>\n",
       "      <td>5.359799e-01</td>\n",
       "      <td>2.0</td>\n",
       "    </tr>\n",
       "    <tr>\n",
       "      <th>max</th>\n",
       "      <td>523.652352</td>\n",
       "      <td>1.464020e+00</td>\n",
       "      <td>0.536135</td>\n",
       "      <td>5.359799e-01</td>\n",
       "      <td>2.0</td>\n",
       "    </tr>\n",
       "  </tbody>\n",
       "</table>\n",
       "</div>"
      ],
      "text/plain": [
       "            avdeg        avpath          cc       density  diameter\n",
       "count  100.000000  1.000000e+02  100.000000  1.000000e+02     100.0\n",
       "mean   523.652352  1.464020e+00    0.535973  5.359799e-01       2.0\n",
       "std      0.000000  2.231632e-16    0.000055  1.115816e-16       0.0\n",
       "min    523.652352  1.464020e+00    0.535850  5.359799e-01       2.0\n",
       "25%    523.652352  1.464020e+00    0.535938  5.359799e-01       2.0\n",
       "50%    523.652352  1.464020e+00    0.535965  5.359799e-01       2.0\n",
       "75%    523.652352  1.464020e+00    0.536014  5.359799e-01       2.0\n",
       "max    523.652352  1.464020e+00    0.536135  5.359799e-01       2.0"
      ]
     },
     "execution_count": 135,
     "metadata": {},
     "output_type": "execute_result"
    }
   ],
   "source": [
    "DataFrame(list2).describe()"
   ]
  },
  {
   "cell_type": "code",
   "execution_count": 136,
   "metadata": {
    "ExecuteTime": {
     "end_time": "2017-04-02T19:15:08.613636",
     "start_time": "2017-04-02T19:15:05.579862"
    },
    "collapsed": true
   },
   "outputs": [],
   "source": [
    "g3 = ig.Graph.Read_GraphML('networks/0824_10h_95conf_212dist_3ilen_2gap_600minutes_2016-08-24_08:00:00+00:00.graphml')"
   ]
  },
  {
   "cell_type": "code",
   "execution_count": 137,
   "metadata": {
    "ExecuteTime": {
     "end_time": "2017-04-02T19:25:46.024769",
     "start_time": "2017-04-02T19:15:08.615833"
    },
    "collapsed": true
   },
   "outputs": [],
   "source": [
    "list3 = calcRandom(g3,100)"
   ]
  },
  {
   "cell_type": "code",
   "execution_count": 138,
   "metadata": {
    "ExecuteTime": {
     "end_time": "2017-04-02T19:25:46.059934",
     "start_time": "2017-04-02T19:25:46.027013"
    },
    "collapsed": false
   },
   "outputs": [
    {
     "data": {
      "text/html": [
       "<div>\n",
       "<table border=\"1\" class=\"dataframe\">\n",
       "  <thead>\n",
       "    <tr style=\"text-align: right;\">\n",
       "      <th></th>\n",
       "      <th>avdeg</th>\n",
       "      <th>avpath</th>\n",
       "      <th>cc</th>\n",
       "      <th>density</th>\n",
       "      <th>diameter</th>\n",
       "    </tr>\n",
       "  </thead>\n",
       "  <tbody>\n",
       "    <tr>\n",
       "      <th>count</th>\n",
       "      <td>100.000000</td>\n",
       "      <td>1.000000e+02</td>\n",
       "      <td>100.000000</td>\n",
       "      <td>1.000000e+02</td>\n",
       "      <td>100.0</td>\n",
       "    </tr>\n",
       "    <tr>\n",
       "      <th>mean</th>\n",
       "      <td>562.735358</td>\n",
       "      <td>1.388995e+00</td>\n",
       "      <td>0.611006</td>\n",
       "      <td>6.110047e-01</td>\n",
       "      <td>2.0</td>\n",
       "    </tr>\n",
       "    <tr>\n",
       "      <th>std</th>\n",
       "      <td>0.000000</td>\n",
       "      <td>4.463264e-16</td>\n",
       "      <td>0.000049</td>\n",
       "      <td>1.115816e-16</td>\n",
       "      <td>0.0</td>\n",
       "    </tr>\n",
       "    <tr>\n",
       "      <th>min</th>\n",
       "      <td>562.735358</td>\n",
       "      <td>1.388995e+00</td>\n",
       "      <td>0.610880</td>\n",
       "      <td>6.110047e-01</td>\n",
       "      <td>2.0</td>\n",
       "    </tr>\n",
       "    <tr>\n",
       "      <th>25%</th>\n",
       "      <td>562.735358</td>\n",
       "      <td>1.388995e+00</td>\n",
       "      <td>0.610972</td>\n",
       "      <td>6.110047e-01</td>\n",
       "      <td>2.0</td>\n",
       "    </tr>\n",
       "    <tr>\n",
       "      <th>50%</th>\n",
       "      <td>562.735358</td>\n",
       "      <td>1.388995e+00</td>\n",
       "      <td>0.611008</td>\n",
       "      <td>6.110047e-01</td>\n",
       "      <td>2.0</td>\n",
       "    </tr>\n",
       "    <tr>\n",
       "      <th>75%</th>\n",
       "      <td>562.735358</td>\n",
       "      <td>1.388995e+00</td>\n",
       "      <td>0.611043</td>\n",
       "      <td>6.110047e-01</td>\n",
       "      <td>2.0</td>\n",
       "    </tr>\n",
       "    <tr>\n",
       "      <th>max</th>\n",
       "      <td>562.735358</td>\n",
       "      <td>1.388995e+00</td>\n",
       "      <td>0.611123</td>\n",
       "      <td>6.110047e-01</td>\n",
       "      <td>2.0</td>\n",
       "    </tr>\n",
       "  </tbody>\n",
       "</table>\n",
       "</div>"
      ],
      "text/plain": [
       "            avdeg        avpath          cc       density  diameter\n",
       "count  100.000000  1.000000e+02  100.000000  1.000000e+02     100.0\n",
       "mean   562.735358  1.388995e+00    0.611006  6.110047e-01       2.0\n",
       "std      0.000000  4.463264e-16    0.000049  1.115816e-16       0.0\n",
       "min    562.735358  1.388995e+00    0.610880  6.110047e-01       2.0\n",
       "25%    562.735358  1.388995e+00    0.610972  6.110047e-01       2.0\n",
       "50%    562.735358  1.388995e+00    0.611008  6.110047e-01       2.0\n",
       "75%    562.735358  1.388995e+00    0.611043  6.110047e-01       2.0\n",
       "max    562.735358  1.388995e+00    0.611123  6.110047e-01       2.0"
      ]
     },
     "execution_count": 138,
     "metadata": {},
     "output_type": "execute_result"
    }
   ],
   "source": [
    "DataFrame(list3).describe()"
   ]
  },
  {
   "cell_type": "code",
   "execution_count": 34,
   "metadata": {
    "ExecuteTime": {
     "end_time": "2017-03-21T17:05:24.210672",
     "start_time": "2017-03-21T17:05:24.063641"
    },
    "collapsed": true
   },
   "outputs": [],
   "source": [
    "def thresholdedGraph(file, border):\n",
    "\n",
    "    G = nx.read_graphml(file)\n",
    "    print(nx.info(G))\n",
    "    \n",
    "    lowedges = []\n",
    "    for a,b in list(G.edges()):\n",
    "        data = G.get_edge_data(a,b)\n",
    "        f = data.get('frequency')\n",
    "        if f <= border:\n",
    "            lowedges.append((a,b))\n",
    "\n",
    "    print(\"anzahl removed edges\", len(lowedges))\n",
    "    for e in lowedges:\n",
    "        G.remove_edge(e[0],e[1])\n",
    "\n",
    "    print(nx.info(G))\n",
    "\n",
    "    Gcc = sorted(nx.connected_component_subgraphs(G), key = len, reverse=True)\n",
    "    print(\"Number of components: {}\".format(len(Gcc)))\n",
    "\n",
    "    size_components = []\n",
    "    for comp in Gcc:\n",
    "        size_components.append(nx.number_of_nodes(comp))\n",
    "    \n",
    "    print(Counter(list(size_components)))\n",
    "\n",
    "    G = Gcc[0]\n",
    "\n",
    "    nx.write_graphml(G, 'ttt.graphml')\n",
    "    \n",
    "    return ig.Graph.Read_GraphML('ttt.graphml')"
   ]
  },
  {
   "cell_type": "code",
   "execution_count": 80,
   "metadata": {
    "ExecuteTime": {
     "end_time": "2017-03-21T17:56:21.896343",
     "start_time": "2017-03-21T17:56:21.878557"
    },
    "collapsed": true
   },
   "outputs": [],
   "source": [
    "def thresholdedGraph2(G, border):\n",
    "    lowedges = []\n",
    "    for a,b in list(G.edges()):\n",
    "        data = G.get_edge_data(a,b)\n",
    "        f = data.get('frequency')\n",
    "        if f <= border:\n",
    "            lowedges.append((a,b))\n",
    "    print(\"anzahl removed edges\", len(lowedges))\n",
    "    for e in lowedges:\n",
    "        G.remove_edge(e[0],e[1])\n",
    "    print(nx.info(G))\n",
    "    Gcc = sorted(nx.connected_component_subgraphs(G), key = len, reverse=True)\n",
    "    print(\"Number of components: {}\".format(len(Gcc)))\n",
    "    size_components = []\n",
    "    for comp in Gcc:\n",
    "        size_components.append(nx.number_of_nodes(comp))\n",
    "    print(Counter(list(size_components)))\n",
    "    G = Gcc[0]    \n",
    "    return G"
   ]
  },
  {
   "cell_type": "code",
   "execution_count": null,
   "metadata": {
    "collapsed": true
   },
   "outputs": [],
   "source": []
  },
  {
   "cell_type": "code",
   "execution_count": 63,
   "metadata": {
    "ExecuteTime": {
     "end_time": "2017-03-21T17:19:29.215681",
     "start_time": "2017-03-21T17:18:56.496619"
    },
    "collapsed": false
   },
   "outputs": [
    {
     "name": "stdout",
     "output_type": "stream",
     "text": [
      "Name: \n",
      "Type: Graph\n",
      "Number of nodes: 922\n",
      "Number of edges: 259421\n",
      "Average degree: 562.7354\n",
      "anzahl removed edges 259358\n",
      "Name: \n",
      "Type: Graph\n",
      "Number of nodes: 922\n",
      "Number of edges: 63\n",
      "Average degree:   0.1367\n",
      "Number of components: 859\n",
      "Counter({1: 827, 2: 17, 3: 6, 4: 5, 6: 3, 5: 1})\n"
     ]
    }
   ],
   "source": [
    "gtest = thresholdedGraph('networks/0824_10h_95conf_212dist_3ilen_2gap_600minutes_2016-08-24_08:00:00+00:00.graphml', 120)"
   ]
  },
  {
   "cell_type": "code",
   "execution_count": 64,
   "metadata": {
    "ExecuteTime": {
     "end_time": "2017-03-21T17:19:31.927545",
     "start_time": "2017-03-21T17:19:31.917314"
    },
    "collapsed": false
   },
   "outputs": [
    {
     "data": {
      "text/plain": [
       "'IGRAPH U--- 6 5 -- \\n+ attr: id (v), finv (e), frequency (e), totalduration (e)'"
      ]
     },
     "execution_count": 64,
     "metadata": {},
     "output_type": "execute_result"
    }
   ],
   "source": [
    "gtest.summary()"
   ]
  },
  {
   "cell_type": "code",
   "execution_count": 66,
   "metadata": {
    "ExecuteTime": {
     "end_time": "2017-03-21T17:19:47.336300",
     "start_time": "2017-03-21T17:19:47.327567"
    },
    "collapsed": false
   },
   "outputs": [
    {
     "data": {
      "text/plain": [
       "[igraph.Vertex(<igraph.Graph object at 0x7f51df87fd68>, 0, {'id': '3080'}),\n",
       " igraph.Vertex(<igraph.Graph object at 0x7f51df87fd68>, 1, {'id': '3851'}),\n",
       " igraph.Vertex(<igraph.Graph object at 0x7f51df87fd68>, 2, {'id': '626'}),\n",
       " igraph.Vertex(<igraph.Graph object at 0x7f51df87fd68>, 3, {'id': '524'}),\n",
       " igraph.Vertex(<igraph.Graph object at 0x7f51df87fd68>, 4, {'id': '644'}),\n",
       " igraph.Vertex(<igraph.Graph object at 0x7f51df87fd68>, 5, {'id': '32'})]"
      ]
     },
     "execution_count": 66,
     "metadata": {},
     "output_type": "execute_result"
    }
   ],
   "source": [
    "list(gtest.vs)"
   ]
  },
  {
   "cell_type": "code",
   "execution_count": 72,
   "metadata": {
    "ExecuteTime": {
     "end_time": "2017-03-21T17:23:44.558775",
     "start_time": "2017-03-21T17:23:44.552942"
    },
    "collapsed": false
   },
   "outputs": [
    {
     "data": {
      "text/plain": [
       "0"
      ]
     },
     "execution_count": 72,
     "metadata": {},
     "output_type": "execute_result"
    }
   ],
   "source": [
    "gtest.get_eid(4,0)"
   ]
  },
  {
   "cell_type": "code",
   "execution_count": 65,
   "metadata": {
    "ExecuteTime": {
     "end_time": "2017-03-21T17:19:34.459651",
     "start_time": "2017-03-21T17:19:34.451701"
    },
    "collapsed": false
   },
   "outputs": [
    {
     "data": {
      "text/plain": [
       "[igraph.Edge(<igraph.Graph object at 0x7f51df87fd68>, 0, {'frequency': 185.0, 'finv': 0.005405405405405406, 'totalduration': 2266.0}),\n",
       " igraph.Edge(<igraph.Graph object at 0x7f51df87fd68>, 1, {'frequency': 134.0, 'finv': 0.007462686567164179, 'totalduration': 1957.0}),\n",
       " igraph.Edge(<igraph.Graph object at 0x7f51df87fd68>, 2, {'frequency': 211.0, 'finv': 0.004739336492890996, 'totalduration': 3625.0}),\n",
       " igraph.Edge(<igraph.Graph object at 0x7f51df87fd68>, 3, {'frequency': 132.0, 'finv': 0.007575757575757576, 'totalduration': 1804.0}),\n",
       " igraph.Edge(<igraph.Graph object at 0x7f51df87fd68>, 4, {'frequency': 126.0, 'finv': 0.007936507936507936, 'totalduration': 2607.0})]"
      ]
     },
     "execution_count": 65,
     "metadata": {},
     "output_type": "execute_result"
    }
   ],
   "source": [
    "list(gtest.es)"
   ]
  },
  {
   "cell_type": "code",
   "execution_count": 79,
   "metadata": {
    "ExecuteTime": {
     "end_time": "2017-03-21T17:31:37.879278",
     "start_time": "2017-03-21T17:31:37.870261"
    },
    "collapsed": false
   },
   "outputs": [
    {
     "data": {
      "text/plain": [
       "[56.799133199602686,\n",
       " 62.20017868007172,\n",
       " 98.9415727236403,\n",
       " 61.85217179293729,\n",
       " 75.29225731756699,\n",
       " 98.9415727236403]"
      ]
     },
     "execution_count": 79,
     "metadata": {},
     "output_type": "execute_result"
    }
   ],
   "source": [
    "gtest.closeness(weights='finv', normalized=True)"
   ]
  },
  {
   "cell_type": "code",
   "execution_count": 60,
   "metadata": {
    "ExecuteTime": {
     "end_time": "2017-03-21T17:16:59.898720",
     "start_time": "2017-03-21T17:16:59.891054"
    },
    "collapsed": false
   },
   "outputs": [
    {
     "data": {
      "text/plain": [
       "[igraph.Vertex(<igraph.Graph object at 0x7f51df87fb88>, 0, {'id': '1404'}),\n",
       " igraph.Vertex(<igraph.Graph object at 0x7f51df87fb88>, 1, {'id': '3731'}),\n",
       " igraph.Vertex(<igraph.Graph object at 0x7f51df87fb88>, 2, {'id': '2780'}),\n",
       " igraph.Vertex(<igraph.Graph object at 0x7f51df87fb88>, 3, {'id': '1092'})]"
      ]
     },
     "execution_count": 60,
     "metadata": {},
     "output_type": "execute_result"
    }
   ],
   "source": [
    "list(gtest.vs)"
   ]
  },
  {
   "cell_type": "code",
   "execution_count": 84,
   "metadata": {
    "ExecuteTime": {
     "end_time": "2017-03-21T17:58:49.287632",
     "start_time": "2017-03-21T17:58:23.267710"
    },
    "collapsed": true
   },
   "outputs": [],
   "source": [
    "gg = nx.read_graphml('networks/0824_10h_95conf_212dist_3ilen_2gap_600minutes_2016-08-24_08:00:00+00:00.graphml')"
   ]
  },
  {
   "cell_type": "code",
   "execution_count": 85,
   "metadata": {
    "ExecuteTime": {
     "end_time": "2017-03-21T17:58:51.607233",
     "start_time": "2017-03-21T17:58:49.290859"
    },
    "collapsed": false
   },
   "outputs": [
    {
     "name": "stdout",
     "output_type": "stream",
     "text": [
      "anzahl removed edges 259358\n",
      "Name: \n",
      "Type: Graph\n",
      "Number of nodes: 922\n",
      "Number of edges: 63\n",
      "Average degree:   0.1367\n",
      "Number of components: 859\n",
      "Counter({1: 827, 2: 17, 3: 6, 4: 5, 6: 3, 5: 1})\n"
     ]
    }
   ],
   "source": [
    "gg = thresholdedGraph2(gg, 120)"
   ]
  },
  {
   "cell_type": "code",
   "execution_count": 86,
   "metadata": {
    "ExecuteTime": {
     "end_time": "2017-03-21T17:58:51.627380",
     "start_time": "2017-03-21T17:58:51.614513"
    },
    "collapsed": false
   },
   "outputs": [
    {
     "data": {
      "text/plain": [
       "'Name: \\nType: Graph\\nNumber of nodes: 6\\nNumber of edges: 5\\nAverage degree:   1.6667'"
      ]
     },
     "execution_count": 86,
     "metadata": {},
     "output_type": "execute_result"
    }
   ],
   "source": [
    "nx.info(gg)"
   ]
  },
  {
   "cell_type": "code",
   "execution_count": 102,
   "metadata": {
    "ExecuteTime": {
     "end_time": "2017-03-21T18:04:31.281006",
     "start_time": "2017-03-21T18:04:31.275346"
    },
    "collapsed": false
   },
   "outputs": [
    {
     "data": {
      "text/plain": [
       "{'3080': 56.799133199602686,\n",
       " '32': 98.9415727236403,\n",
       " '3851': 62.200178680071716,\n",
       " '524': 61.85217179293728,\n",
       " '626': 98.9415727236403,\n",
       " '644': 75.29225731756699}"
      ]
     },
     "execution_count": 102,
     "metadata": {},
     "output_type": "execute_result"
    }
   ],
   "source": [
    "nx.closeness_centrality(gg, distance='finv')"
   ]
  },
  {
   "cell_type": "code",
   "execution_count": 100,
   "metadata": {
    "ExecuteTime": {
     "end_time": "2017-03-21T18:01:46.060635",
     "start_time": "2017-03-21T18:01:46.055185"
    },
    "collapsed": false
   },
   "outputs": [
    {
     "data": {
      "text/plain": [
       "[('3080', '644'),\n",
       " ('3851', '626'),\n",
       " ('626', '32'),\n",
       " ('626', '524'),\n",
       " ('644', '32')]"
      ]
     },
     "execution_count": 100,
     "metadata": {},
     "output_type": "execute_result"
    }
   ],
   "source": [
    "gg.edges()"
   ]
  },
  {
   "cell_type": "code",
   "execution_count": null,
   "metadata": {
    "collapsed": true
   },
   "outputs": [],
   "source": []
  }
 ],
 "metadata": {
  "anaconda-cloud": {},
  "kernelspec": {
   "display_name": "Python [default]",
   "language": "python",
   "name": "python3"
  },
  "language_info": {
   "codemirror_mode": {
    "name": "ipython",
    "version": 3
   },
   "file_extension": ".py",
   "mimetype": "text/x-python",
   "name": "python",
   "nbconvert_exporter": "python",
   "pygments_lexer": "ipython3",
   "version": "3.5.2"
  },
  "toc": {
   "colors": {
    "hover_highlight": "#DAA520",
    "running_highlight": "#FF0000",
    "selected_highlight": "#FFD700"
   },
   "moveMenuLeft": true,
   "nav_menu": {
    "height": "12px",
    "width": "252px"
   },
   "navigate_menu": true,
   "number_sections": true,
   "sideBar": true,
   "threshold": 4,
   "toc_cell": false,
   "toc_section_display": "block",
   "toc_window_display": false
  }
 },
 "nbformat": 4,
 "nbformat_minor": 2
}
