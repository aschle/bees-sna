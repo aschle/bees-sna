{
 "cells": [
  {
   "cell_type": "code",
   "execution_count": 1,
   "metadata": {
    "ExecuteTime": {
     "end_time": "2017-01-25T18:36:11.462181",
     "start_time": "2017-01-25T18:36:09.465699"
    },
    "collapsed": true
   },
   "outputs": [],
   "source": [
    "import networkx as nx\n",
    "import preprocessing as prep\n",
    "import numpy as np\n",
    "import pandas as pd\n",
    "import numpy as np\n",
    "import json\n",
    "import os\n",
    "import datetime\n",
    "import pytz\n",
    "import matplotlib.pyplot as plt\n",
    "from collections import Counter\n",
    "from bb_binary import load_frame_container, Repository\n",
    "from pandas import Series, DataFrame"
   ]
  },
  {
   "cell_type": "code",
   "execution_count": 2,
   "metadata": {
    "ExecuteTime": {
     "end_time": "2017-01-25T18:36:11.476274",
     "start_time": "2017-01-25T18:36:11.464788"
    },
    "collapsed": true
   },
   "outputs": [],
   "source": [
    "%matplotlib inline"
   ]
  },
  {
   "cell_type": "code",
   "execution_count": 3,
   "metadata": {
    "ExecuteTime": {
     "end_time": "2017-01-25T18:36:11.483823",
     "start_time": "2017-01-25T18:36:11.478586"
    },
    "collapsed": false
   },
   "outputs": [],
   "source": [
    "graph_files = os.listdir()\n",
    "graph_files = [g for g in graph_files if g.endswith('.graphml') & g.startswith('2015-')]"
   ]
  },
  {
   "cell_type": "code",
   "execution_count": 4,
   "metadata": {
    "ExecuteTime": {
     "end_time": "2017-01-25T18:36:12.968357",
     "start_time": "2017-01-25T18:36:12.961031"
    },
    "collapsed": false
   },
   "outputs": [
    {
     "data": {
      "text/plain": [
       "['2015-08-21T03:00:00Z_1h_allCams_0.99conf_160dist_6ilen.graphml',\n",
       " '2015-08-21T20:00:00Z_1h_allCams_0.99conf_160dist_6ilen.graphml',\n",
       " '2015-08-21T09:00:00Z_1h_allCams_0.99conf_160dist_6ilen.graphml',\n",
       " '2015-08-21T05:00:00Z_1h_allCams_0.99conf_160dist_6ilen.graphml',\n",
       " '2015-08-21T23:00:00Z_1h_allCams_0.99conf_160dist_6ilen.graphml',\n",
       " '2015-08-21T16:00:00Z_1h_allCams_0.99conf_160dist_6ilen.graphml',\n",
       " '2015-08-21T19:00:00Z_1h_allCams_0.99conf_160dist_6ilen.graphml',\n",
       " '2015-08-21T07:00:00Z_1h_allCams_0.99conf_160dist_6ilen.graphml',\n",
       " '2015-08-21T08:00:00Z_1h_allCams_0.99conf_160dist_6ilen.graphml',\n",
       " '2015-08-21T21:00:00Z_1h_allCams_0.99conf_160dist_6ilen.graphml',\n",
       " '2015-08-21T00:00:00Z_1h_allCams_0.99conf_160dist_6ilen.graphml',\n",
       " '2015-08-21T22:00:00Z_1h_allCams_0.99conf_160dist_6ilen.graphml',\n",
       " '2015-08-21T17:00:00Z_1h_allCams_0.99conf_160dist_6ilen.graphml',\n",
       " '2015-08-21T12:00:00Z_1h_allCams_0.99conf_160dist_6ilen.graphml',\n",
       " '2015-08-21T04:00:00Z_1h_allCams_0.99conf_160dist_6ilen.graphml',\n",
       " '2015-08-21T00:00:00Z_1d_allCams_0.99conf_160dist_6ilen.graphml',\n",
       " '2015-08-21T13:00:00Z_1h_allCams_0.99conf_160dist_6ilen.graphml',\n",
       " '2015-08-21T10:00:00Z_1h_allCams_0.99conf_160dist_6ilen.graphml',\n",
       " '2015-08-21T18:00:00Z_1h_allCams_0.99conf_160dist_6ilen.graphml',\n",
       " '2015-08-21T11:00:00Z_1h_allCams_0.99conf_160dist_6ilen.graphml',\n",
       " '2015-08-21T06:00:00Z_1h_allCams_0.99conf_160dist_6ilen.graphml',\n",
       " '2015-08-21T14:00:00Z_1h_allCams_0.99conf_160dist_6ilen.graphml',\n",
       " '2015-08-21T01:00:00Z_1h_allCams_0.99conf_160dist_6ilen.graphml',\n",
       " '2015-08-21T02:00:00Z_1h_allCams_0.99conf_160dist_6ilen.graphml',\n",
       " '2015-08-21T15:00:00Z_1h_allCams_0.99conf_160dist_6ilen.graphml']"
      ]
     },
     "execution_count": 4,
     "metadata": {},
     "output_type": "execute_result"
    }
   ],
   "source": [
    "graph_files"
   ]
  },
  {
   "cell_type": "markdown",
   "metadata": {},
   "source": [
    "# Network Analysis - Example: One hour Network\n",
    "* Confidence 0.99, 160px radius, 6 frames as intractionlength.\n",
    "* hour-Networks 21.08.2015\n",
    "* 2015-08-21T12:00:00Z_1h_allCams_0.99conf_160dist_6ilen.graphml"
   ]
  },
  {
   "cell_type": "code",
   "execution_count": 5,
   "metadata": {
    "ExecuteTime": {
     "end_time": "2017-01-25T18:37:03.609506",
     "start_time": "2017-01-25T18:37:03.604641"
    },
    "collapsed": false
   },
   "outputs": [],
   "source": [
    "# graph_list = []\n",
    "\n",
    "# for eg in graph_files:\n",
    "#     G = nx.read_graphml(eg)\n",
    "#     date = eg.split(\"_\")[0]\n",
    "#     date_dt = datetime.datetime.strptime(date, \"%Y-%m-%dT%H:%M:%SZ\").replace(tzinfo=pytz.UTC)\n",
    "#     date_ts = date_dt.timestamp()\n",
    "#     graph_list.append((date_dt,G))\n",
    "\n",
    "# G = graph_list[0][1]"
   ]
  },
  {
   "cell_type": "code",
   "execution_count": 103,
   "metadata": {
    "ExecuteTime": {
     "end_time": "2017-01-25T19:03:24.863811",
     "start_time": "2017-01-25T19:03:24.655629"
    },
    "collapsed": false
   },
   "outputs": [],
   "source": [
    "G = nx.read_graphml(\"2015-08-21T19:00:00Z_1h_allCams_0.99conf_160dist_6ilen.graphml\")"
   ]
  },
  {
   "cell_type": "markdown",
   "metadata": {
    "ExecuteTime": {
     "end_time": "2017-01-25T17:18:07.773835",
     "start_time": "2017-01-25T17:18:07.770664"
    }
   },
   "source": [
    "## Global Properties"
   ]
  },
  {
   "cell_type": "markdown",
   "metadata": {
    "ExecuteTime": {
     "end_time": "2017-01-25T17:19:32.070603",
     "start_time": "2017-01-25T17:19:32.067463"
    }
   },
   "source": [
    "### Nodes, Edges, average Degree and Density"
   ]
  },
  {
   "cell_type": "code",
   "execution_count": 104,
   "metadata": {
    "ExecuteTime": {
     "end_time": "2017-01-25T19:03:25.327940",
     "start_time": "2017-01-25T19:03:25.320138"
    },
    "collapsed": false
   },
   "outputs": [
    {
     "data": {
      "text/plain": [
       "'Name: \\nType: Graph\\nNumber of nodes: 760\\nNumber of edges: 5163\\nAverage degree:  13.5868'"
      ]
     },
     "execution_count": 104,
     "metadata": {},
     "output_type": "execute_result"
    }
   ],
   "source": [
    "nx.info(G)"
   ]
  },
  {
   "cell_type": "code",
   "execution_count": 105,
   "metadata": {
    "ExecuteTime": {
     "end_time": "2017-01-25T19:03:25.409842",
     "start_time": "2017-01-25T19:03:25.403329"
    },
    "collapsed": false
   },
   "outputs": [
    {
     "data": {
      "text/plain": [
       "760"
      ]
     },
     "execution_count": 105,
     "metadata": {},
     "output_type": "execute_result"
    }
   ],
   "source": [
    "len(G.nodes())"
   ]
  },
  {
   "cell_type": "code",
   "execution_count": 106,
   "metadata": {
    "ExecuteTime": {
     "end_time": "2017-01-25T19:03:25.502761",
     "start_time": "2017-01-25T19:03:25.491748"
    },
    "collapsed": false
   },
   "outputs": [
    {
     "data": {
      "text/plain": [
       "5163"
      ]
     },
     "execution_count": 106,
     "metadata": {},
     "output_type": "execute_result"
    }
   ],
   "source": [
    "len(G.edges())"
   ]
  },
  {
   "cell_type": "code",
   "execution_count": 107,
   "metadata": {
    "ExecuteTime": {
     "end_time": "2017-01-25T19:03:25.589570",
     "start_time": "2017-01-25T19:03:25.578103"
    },
    "collapsed": false
   },
   "outputs": [
    {
     "data": {
      "text/plain": [
       "13.586842105263157"
      ]
     },
     "execution_count": 107,
     "metadata": {},
     "output_type": "execute_result"
    }
   ],
   "source": [
    "Series(G.degree()).mean()"
   ]
  },
  {
   "cell_type": "code",
   "execution_count": 108,
   "metadata": {
    "ExecuteTime": {
     "end_time": "2017-01-25T19:03:25.679587",
     "start_time": "2017-01-25T19:03:25.671725"
    },
    "collapsed": false
   },
   "outputs": [
    {
     "data": {
      "text/plain": [
       "0.017900977740794674"
      ]
     },
     "execution_count": 108,
     "metadata": {},
     "output_type": "execute_result"
    }
   ],
   "source": [
    "density = nx.density(G)\n",
    "density"
   ]
  },
  {
   "cell_type": "markdown",
   "metadata": {},
   "source": [
    "### Degree distribution"
   ]
  },
  {
   "cell_type": "code",
   "execution_count": 109,
   "metadata": {
    "ExecuteTime": {
     "end_time": "2017-01-25T19:03:26.476707",
     "start_time": "2017-01-25T19:03:25.819642"
    },
    "collapsed": false
   },
   "outputs": [
    {
     "data": {
      "text/plain": [
       "<matplotlib.axes._subplots.AxesSubplot at 0x7fa0ae6f9828>"
      ]
     },
     "execution_count": 109,
     "metadata": {},
     "output_type": "execute_result"
    },
    {
     "data": {
      "image/png": "[encoded data removed]",
      "text/plain": [
       "<matplotlib.figure.Figure at 0x7fa0ae6ad9e8>"
      ]
     },
     "metadata": {},
     "output_type": "display_data"
    }
   ],
   "source": [
    "degrees = G.degree().values()\n",
    "s = Series(list(degrees))\n",
    "s.hist(bins=25)"
   ]
  },
  {
   "cell_type": "code",
   "execution_count": 110,
   "metadata": {
    "ExecuteTime": {
     "end_time": "2017-01-25T19:03:26.495306",
     "start_time": "2017-01-25T19:03:26.480042"
    },
    "collapsed": false
   },
   "outputs": [
    {
     "data": {
      "text/plain": [
       "count    760.000000\n",
       "mean      13.586842\n",
       "std       11.389052\n",
       "min        1.000000\n",
       "25%        4.000000\n",
       "50%       10.000000\n",
       "75%       20.000000\n",
       "max       70.000000\n",
       "dtype: float64"
      ]
     },
     "execution_count": 110,
     "metadata": {},
     "output_type": "execute_result"
    }
   ],
   "source": [
    "s.describe()"
   ]
  },
  {
   "cell_type": "markdown",
   "metadata": {},
   "source": [
    "### Edge weights distribution"
   ]
  },
  {
   "cell_type": "code",
   "execution_count": 111,
   "metadata": {
    "ExecuteTime": {
     "end_time": "2017-01-25T19:03:27.582743",
     "start_time": "2017-01-25T19:03:26.500066"
    },
    "collapsed": false
   },
   "outputs": [
    {
     "data": {
      "text/plain": [
       "<matplotlib.axes._subplots.AxesSubplot at 0x7fa0ae6de940>"
      ]
     },
     "execution_count": 111,
     "metadata": {},
     "output_type": "execute_result"
    },
    {
     "data": {
      "image/png": "[encoded data removed]",
      "text/plain": [
       "<matplotlib.figure.Figure at 0x7fa0ae636358>"
      ]
     },
     "metadata": {},
     "output_type": "display_data"
    }
   ],
   "source": [
    "l = []\n",
    "\n",
    "for e in G.edges():\n",
    "    l.append(G.get_edge_data(e[0],e[1]).get(\"weight\"))\n",
    "\n",
    "edge_weights = Series(l)\n",
    "\n",
    "fig, ax = plt.subplots()\n",
    "ax.set_yscale('log')\n",
    "edge_weights.hist(bins=50)"
   ]
  },
  {
   "cell_type": "code",
   "execution_count": 112,
   "metadata": {
    "ExecuteTime": {
     "end_time": "2017-01-25T19:03:27.594832",
     "start_time": "2017-01-25T19:03:27.584947"
    },
    "collapsed": false
   },
   "outputs": [
    {
     "data": {
      "text/plain": [
       "count    5163.000000\n",
       "mean        2.354251\n",
       "std         4.790640\n",
       "min         1.000000\n",
       "25%         1.000000\n",
       "50%         1.000000\n",
       "75%         2.000000\n",
       "max       122.000000\n",
       "dtype: float64"
      ]
     },
     "execution_count": 112,
     "metadata": {},
     "output_type": "execute_result"
    }
   ],
   "source": [
    "edge_weights.describe()"
   ]
  },
  {
   "cell_type": "markdown",
   "metadata": {},
   "source": [
    "### Weighted Degree Distribution"
   ]
  },
  {
   "cell_type": "code",
   "execution_count": 113,
   "metadata": {
    "ExecuteTime": {
     "end_time": "2017-01-25T19:03:28.044327",
     "start_time": "2017-01-25T19:03:27.596956"
    },
    "collapsed": false
   },
   "outputs": [
    {
     "data": {
      "text/plain": [
       "<matplotlib.axes._subplots.AxesSubplot at 0x7fa0a4321ef0>"
      ]
     },
     "execution_count": 113,
     "metadata": {},
     "output_type": "execute_result"
    },
    {
     "data": {
      "image/png": "[encoded data removed]",
      "text/plain": [
       "<matplotlib.figure.Figure at 0x7fa0a4307588>"
      ]
     },
     "metadata": {},
     "output_type": "display_data"
    }
   ],
   "source": [
    "degrees = G.degree(weight='weight').values()\n",
    "s = Series(list(degrees))\n",
    "s.hist(bins=25)"
   ]
  },
  {
   "cell_type": "markdown",
   "metadata": {},
   "source": [
    "### Number of components and size distribution"
   ]
  },
  {
   "cell_type": "code",
   "execution_count": 114,
   "metadata": {
    "ExecuteTime": {
     "end_time": "2017-01-25T19:03:28.142125",
     "start_time": "2017-01-25T19:03:28.046882"
    },
    "collapsed": false
   },
   "outputs": [
    {
     "name": "stdout",
     "output_type": "stream",
     "text": [
      "Number of components: 2\n"
     ]
    },
    {
     "data": {
      "text/plain": [
       "Counter({2: 1, 758: 1})"
      ]
     },
     "execution_count": 114,
     "metadata": {},
     "output_type": "execute_result"
    }
   ],
   "source": [
    "Gcc = sorted(nx.connected_component_subgraphs(G), key = len, reverse=True)\n",
    "print(\"Number of components: {}\".format(len(Gcc)))\n",
    "\n",
    "size_components = []\n",
    "for comp in Gcc:\n",
    "    size_components.append(nx.number_of_nodes(comp))\n",
    "    \n",
    "Counter(list(size_components))"
   ]
  },
  {
   "cell_type": "code",
   "execution_count": 121,
   "metadata": {
    "ExecuteTime": {
     "end_time": "2017-01-25T19:05:16.798470",
     "start_time": "2017-01-25T19:05:16.794888"
    },
    "collapsed": true
   },
   "outputs": [],
   "source": [
    "# keepthe biggest Component\n",
    "G = Gcc[0]"
   ]
  },
  {
   "cell_type": "markdown",
   "metadata": {},
   "source": [
    "There is one big component!"
   ]
  },
  {
   "cell_type": "markdown",
   "metadata": {},
   "source": [
    "### Diameter"
   ]
  },
  {
   "cell_type": "code",
   "execution_count": 122,
   "metadata": {
    "ExecuteTime": {
     "end_time": "2017-01-25T19:05:21.485741",
     "start_time": "2017-01-25T19:05:19.713677"
    },
    "collapsed": false
   },
   "outputs": [
    {
     "name": "stdout",
     "output_type": "stream",
     "text": [
      "Diameter: 8\n"
     ]
    }
   ],
   "source": [
    "diameter = nx.diameter(G)\n",
    "print(\"Diameter: {}\".format(diameter))"
   ]
  },
  {
   "cell_type": "markdown",
   "metadata": {},
   "source": [
    "### Global clustering coefficient"
   ]
  },
  {
   "cell_type": "code",
   "execution_count": 123,
   "metadata": {
    "ExecuteTime": {
     "end_time": "2017-01-25T19:05:21.559619",
     "start_time": "2017-01-25T19:05:21.487875"
    },
    "collapsed": false
   },
   "outputs": [
    {
     "data": {
      "text/plain": [
       "0.14717211754422568"
      ]
     },
     "execution_count": 123,
     "metadata": {},
     "output_type": "execute_result"
    }
   ],
   "source": [
    "cc = nx.average_clustering(G)\n",
    "cc"
   ]
  },
  {
   "cell_type": "markdown",
   "metadata": {},
   "source": [
    "### Average shortest path length"
   ]
  },
  {
   "cell_type": "code",
   "execution_count": 124,
   "metadata": {
    "ExecuteTime": {
     "end_time": "2017-01-25T19:05:23.949944",
     "start_time": "2017-01-25T19:05:22.617213"
    },
    "collapsed": true
   },
   "outputs": [],
   "source": [
    "average_shortest_path = nx.average_shortest_path_length(G)"
   ]
  },
  {
   "cell_type": "code",
   "execution_count": 125,
   "metadata": {
    "ExecuteTime": {
     "end_time": "2017-01-25T19:05:23.957096",
     "start_time": "2017-01-25T19:05:23.952161"
    },
    "collapsed": false
   },
   "outputs": [
    {
     "name": "stdout",
     "output_type": "stream",
     "text": [
      "Average shortest path: 3.1483567616929764\n"
     ]
    }
   ],
   "source": [
    "print(\"Average shortest path: {}\".format(average_shortest_path))"
   ]
  },
  {
   "cell_type": "markdown",
   "metadata": {},
   "source": [
    "## Compare to Random Graph Model\n",
    "* degree distribution (not biniminal/poisson) - ja sieht nicht binominalverteilt aus, sieht ziemlich nach scale free, wenige hubs, viele knote mit wenig links\n",
    "* connectedness (giant component) - ja sieht ziemlich verbunden aus alles, gibt nur eine große komponente\n",
    "* average path length (~diameter) - ist hier auch ziemlich klein, Small-world phenomenon, $d = \\frac{\\ln nodes}{\\ln av degree}$\n",
    "* clustering coefficient - müsste höher sein als bei einem random network, jep ist es auch"
   ]
  },
  {
   "cell_type": "code",
   "execution_count": 126,
   "metadata": {
    "ExecuteTime": {
     "end_time": "2017-01-25T19:05:24.075639",
     "start_time": "2017-01-25T19:05:23.959463"
    },
    "collapsed": false
   },
   "outputs": [
    {
     "data": {
      "text/plain": [
       "'Name: gnp_random_graph(758,0.017900977740794674)\\nType: Graph\\nNumber of nodes: 758\\nNumber of edges: 5063\\nAverage degree:  13.3588'"
      ]
     },
     "execution_count": 126,
     "metadata": {},
     "output_type": "execute_result"
    }
   ],
   "source": [
    "random_g = nx.erdos_renyi_graph(n=nx.number_of_nodes(G), p=density)\n",
    "nx.info(random_g)"
   ]
  },
  {
   "cell_type": "code",
   "execution_count": 127,
   "metadata": {
    "ExecuteTime": {
     "end_time": "2017-01-25T19:05:24.136651",
     "start_time": "2017-01-25T19:05:24.077908"
    },
    "collapsed": false
   },
   "outputs": [
    {
     "data": {
      "text/plain": [
       "0.017860279937634213"
      ]
     },
     "execution_count": 127,
     "metadata": {},
     "output_type": "execute_result"
    }
   ],
   "source": [
    "nx.average_clustering(random_g)"
   ]
  },
  {
   "cell_type": "code",
   "execution_count": 128,
   "metadata": {
    "ExecuteTime": {
     "end_time": "2017-01-25T19:05:24.237862",
     "start_time": "2017-01-25T19:05:24.139027"
    },
    "collapsed": false
   },
   "outputs": [
    {
     "data": {
      "text/plain": [
       "0.14717211754422568"
      ]
     },
     "execution_count": 128,
     "metadata": {},
     "output_type": "execute_result"
    }
   ],
   "source": [
    "nx.average_clustering(G)"
   ]
  },
  {
   "cell_type": "markdown",
   "metadata": {},
   "source": [
    "## Local Structure (node level metrics)"
   ]
  },
  {
   "cell_type": "markdown",
   "metadata": {
    "ExecuteTime": {
     "end_time": "2017-01-25T18:00:45.276535",
     "start_time": "2017-01-25T18:00:45.272442"
    }
   },
   "source": [
    "### Betweennes Centrality"
   ]
  },
  {
   "cell_type": "code",
   "execution_count": 129,
   "metadata": {
    "ExecuteTime": {
     "end_time": "2017-01-25T19:05:29.986810",
     "start_time": "2017-01-25T19:05:24.240141"
    },
    "collapsed": false
   },
   "outputs": [],
   "source": [
    "bc = nx.betweenness.betweenness_centrality(G)"
   ]
  },
  {
   "cell_type": "code",
   "execution_count": 130,
   "metadata": {
    "ExecuteTime": {
     "end_time": "2017-01-25T19:05:30.424417",
     "start_time": "2017-01-25T19:05:29.989259"
    },
    "collapsed": false
   },
   "outputs": [
    {
     "data": {
      "text/plain": [
       "<matplotlib.axes._subplots.AxesSubplot at 0x7fa0ae70d978>"
      ]
     },
     "execution_count": 130,
     "metadata": {},
     "output_type": "execute_result"
    },
    {
     "data": {
      "image/png": "[encoded data removed]",
      "text/plain": [
       "<matplotlib.figure.Figure at 0x7fa0a3ccccf8>"
      ]
     },
     "metadata": {},
     "output_type": "display_data"
    }
   ],
   "source": [
    "Series(bc).hist(bins = 25)"
   ]
  },
  {
   "cell_type": "markdown",
   "metadata": {},
   "source": [
    "### Degree Centrality"
   ]
  },
  {
   "cell_type": "code",
   "execution_count": 131,
   "metadata": {
    "ExecuteTime": {
     "end_time": "2017-01-25T19:05:30.432046",
     "start_time": "2017-01-25T19:05:30.426943"
    },
    "collapsed": true
   },
   "outputs": [],
   "source": [
    "dc = nx.degree_centrality(G)"
   ]
  },
  {
   "cell_type": "code",
   "execution_count": 132,
   "metadata": {
    "ExecuteTime": {
     "end_time": "2017-01-25T19:05:30.859489",
     "start_time": "2017-01-25T19:05:30.435696"
    },
    "collapsed": false
   },
   "outputs": [
    {
     "data": {
      "text/plain": [
       "<matplotlib.axes._subplots.AxesSubplot at 0x7fa0aecca4a8>"
      ]
     },
     "execution_count": 132,
     "metadata": {},
     "output_type": "execute_result"
    },
    {
     "data": {
      "image/png": "[encoded data removed]",
      "text/plain": [
       "<matplotlib.figure.Figure at 0x7fa0a4a29240>"
      ]
     },
     "metadata": {},
     "output_type": "display_data"
    }
   ],
   "source": [
    "Series(dc).hist(bins = 25)"
   ]
  },
  {
   "cell_type": "markdown",
   "metadata": {},
   "source": [
    "### Closeness Centrality"
   ]
  },
  {
   "cell_type": "code",
   "execution_count": 133,
   "metadata": {
    "ExecuteTime": {
     "end_time": "2017-01-25T19:05:32.207112",
     "start_time": "2017-01-25T19:05:30.862549"
    },
    "collapsed": true
   },
   "outputs": [],
   "source": [
    "closenessc = nx.closeness.closeness_centrality(G)"
   ]
  },
  {
   "cell_type": "code",
   "execution_count": 134,
   "metadata": {
    "ExecuteTime": {
     "end_time": "2017-01-25T19:05:32.842844",
     "start_time": "2017-01-25T19:05:32.209482"
    },
    "collapsed": false
   },
   "outputs": [
    {
     "data": {
      "text/plain": [
       "<matplotlib.axes._subplots.AxesSubplot at 0x7fa0aec594e0>"
      ]
     },
     "execution_count": 134,
     "metadata": {},
     "output_type": "execute_result"
    },
    {
     "data": {
      "image/png": "[encoded data removed]",
      "text/plain": [
       "<matplotlib.figure.Figure at 0x7fa0aec40390>"
      ]
     },
     "metadata": {},
     "output_type": "display_data"
    }
   ],
   "source": [
    "Series(closenessc).hist(bins=25)"
   ]
  },
  {
   "cell_type": "markdown",
   "metadata": {},
   "source": [
    "### Eigenvector Centrality"
   ]
  },
  {
   "cell_type": "code",
   "execution_count": 135,
   "metadata": {
    "ExecuteTime": {
     "end_time": "2017-01-25T19:05:32.850264",
     "start_time": "2017-01-25T19:05:32.846550"
    },
    "collapsed": false
   },
   "outputs": [],
   "source": [
    "# Kernel will die!\n",
    "# ec = nx.eigenvector_centrality_numpy(G)"
   ]
  },
  {
   "cell_type": "markdown",
   "metadata": {},
   "source": [
    "## Communities"
   ]
  },
  {
   "cell_type": "code",
   "execution_count": 136,
   "metadata": {
    "ExecuteTime": {
     "end_time": "2017-01-25T19:05:32.933994",
     "start_time": "2017-01-25T19:05:32.852925"
    },
    "collapsed": true
   },
   "outputs": [],
   "source": [
    "k = 5\n",
    "kcc = list(nx.community.k_clique_communities(G,k))"
   ]
  },
  {
   "cell_type": "code",
   "execution_count": 137,
   "metadata": {
    "ExecuteTime": {
     "end_time": "2017-01-25T19:05:32.942355",
     "start_time": "2017-01-25T19:05:32.936793"
    },
    "collapsed": false
   },
   "outputs": [
    {
     "data": {
      "text/plain": [
       "43"
      ]
     },
     "execution_count": 137,
     "metadata": {},
     "output_type": "execute_result"
    }
   ],
   "source": [
    "len(kcc)"
   ]
  },
  {
   "cell_type": "code",
   "execution_count": 102,
   "metadata": {
    "ExecuteTime": {
     "end_time": "2017-01-25T19:02:44.992401",
     "start_time": "2017-01-25T19:02:44.988566"
    },
    "collapsed": false,
    "scrolled": false
   },
   "outputs": [],
   "source": [
    "[len(c) for c in kcc].sort()"
   ]
  },
  {
   "cell_type": "code",
   "execution_count": null,
   "metadata": {
    "collapsed": true
   },
   "outputs": [],
   "source": []
  }
 ],
 "metadata": {
  "anaconda-cloud": {},
  "kernelspec": {
   "display_name": "Python [conda root]",
   "language": "python",
   "name": "conda-root-py"
  },
  "language_info": {
   "codemirror_mode": {
    "name": "ipython",
    "version": 3
   },
   "file_extension": ".py",
   "mimetype": "text/x-python",
   "name": "python",
   "nbconvert_exporter": "python",
   "pygments_lexer": "ipython3",
   "version": "3.5.2"
  },
  "toc": {
   "colors": {
    "hover_highlight": "#DAA520",
    "running_highlight": "#FF0000",
    "selected_highlight": "#FFD700"
   },
   "moveMenuLeft": true,
   "nav_menu": {
    "height": "315px",
    "width": "252px"
   },
   "navigate_menu": true,
   "number_sections": true,
   "sideBar": true,
   "threshold": 4,
   "toc_cell": false,
   "toc_position": {
    "height": "570px",
    "left": "0px",
    "right": "1064px",
    "top": "106px",
    "width": "212px"
   },
   "toc_section_display": "block",
   "toc_window_display": true
  }
 },
 "nbformat": 4,
 "nbformat_minor": 2
}
