{
 "cells": [
  {
   "cell_type": "code",
   "execution_count": 2,
   "metadata": {
    "ExecuteTime": {
     "end_time": "2017-02-24T18:42:14.029121",
     "start_time": "2017-02-24T18:42:13.045004"
    },
    "collapsed": true
   },
   "outputs": [],
   "source": [
    "import networkx as nx\n",
    "import preprocessing as prep\n",
    "import numpy as np\n",
    "import pandas as pd\n",
    "import numpy as np\n",
    "import json\n",
    "import os\n",
    "import datetime\n",
    "import pytz\n",
    "import matplotlib.pyplot as plt\n",
    "from collections import Counter\n",
    "from bb_binary import load_frame_container, Repository\n",
    "from pandas import Series, DataFrame"
   ]
  },
  {
   "cell_type": "code",
   "execution_count": 3,
   "metadata": {
    "ExecuteTime": {
     "end_time": "2017-02-24T18:42:14.048312",
     "start_time": "2017-02-24T18:42:14.032627"
    },
    "collapsed": true
   },
   "outputs": [],
   "source": [
    "%matplotlib inline"
   ]
  },
  {
   "cell_type": "code",
   "execution_count": 4,
   "metadata": {
    "ExecuteTime": {
     "end_time": "2017-02-24T18:42:14.801737",
     "start_time": "2017-02-24T18:42:14.795312"
    },
    "collapsed": false
   },
   "outputs": [],
   "source": [
    "graph_files = os.listdir()\n",
    "graph_files = [g for g in graph_files if g.endswith('.graphml')]"
   ]
  },
  {
   "cell_type": "code",
   "execution_count": 5,
   "metadata": {
    "ExecuteTime": {
     "end_time": "2017-02-24T18:42:15.343205",
     "start_time": "2017-02-24T18:42:15.330053"
    },
    "collapsed": false
   },
   "outputs": [
    {
     "data": {
      "text/plain": [
       "['2016-07-21T15:00:00Z_1h_allCams-97_0.97conf_212dist_3ilen.graphml',\n",
       " '2016-07-21T15:00:00Z_1h_allCams-93_0.93conf_212dist_3ilen.graphml',\n",
       " '3h_0.99conf_212dist_3ilen.graphml',\n",
       " '2016-07-21T15:00:00Z_1h_allCams-100_1.0conf_212dist_3ilen.graphml',\n",
       " '2016-07-21T15:00:00Z_1h_allCams-94_0.94conf_212dist_3ilen.graphml',\n",
       " '2016-07-21T15:00:00Z_1h_allCams-99_0.99conf_212dist_3ilen.graphml',\n",
       " '2016-07-21T15:00:00Z_1h_allCams-90_0.9conf_212dist_3ilen.graphml',\n",
       " '2016-07-21T15:00:00Z_1h_allCams-96_0.96conf_212dist_3ilen.graphml',\n",
       " '2016-07-21T15:00:00Z_1h_allCams-95_0.95conf_212dist_3ilen.graphml',\n",
       " '2016-07-21T15:00:00Z_1h_allCams-98_0.98conf_212dist_3ilen.graphml',\n",
       " '2016-07-21T15:00:00Z_1h_allCams-91_0.91conf_212dist_3ilen.graphml',\n",
       " '2016-07-21T15:00:00Z_1h_allCams-92_0.92conf_212dist_3ilen.graphml']"
      ]
     },
     "execution_count": 5,
     "metadata": {},
     "output_type": "execute_result"
    }
   ],
   "source": [
    "graph_files"
   ]
  },
  {
   "cell_type": "markdown",
   "metadata": {},
   "source": [
    "# Network Analysis - Example: One hour Network\n",
    "* Confidence 0.99, 212px radius, 3 frames as intractionlength.\n",
    "* hour-Networks 21.07.2016\n",
    "* cutoff 10\n",
    "* gap size 2\n",
    "* '2016-07-21T15:00:00Z_1h_allCams-99_0.99conf_212dist_3ilen.graphml'"
   ]
  },
  {
   "cell_type": "code",
   "execution_count": null,
   "metadata": {
    "ExecuteTime": {
     "end_time": "2017-01-25T18:37:03.609506",
     "start_time": "2017-01-25T18:37:03.604641"
    },
    "collapsed": false
   },
   "outputs": [],
   "source": [
    "# graph_list = []\n",
    "\n",
    "# for eg in graph_files:\n",
    "#     G = nx.read_graphml(eg)\n",
    "#     date = eg.split(\"_\")[0]\n",
    "#     date_dt = datetime.datetime.strptime(date, \"%Y-%m-%dT%H:%M:%SZ\").replace(tzinfo=pytz.UTC)\n",
    "#     date_ts = date_dt.timestamp()\n",
    "#     graph_list.append((date_dt,G))\n",
    "\n",
    "# G = graph_list[0][1]"
   ]
  },
  {
   "cell_type": "code",
   "execution_count": 6,
   "metadata": {
    "ExecuteTime": {
     "end_time": "2017-02-24T18:42:28.958891",
     "start_time": "2017-02-24T18:42:20.416260"
    },
    "collapsed": false
   },
   "outputs": [],
   "source": [
    "G = nx.read_graphml('3h_0.99conf_212dist_3ilen.graphml')"
   ]
  },
  {
   "cell_type": "markdown",
   "metadata": {
    "ExecuteTime": {
     "end_time": "2017-01-25T17:18:07.773835",
     "start_time": "2017-01-25T17:18:07.770664"
    }
   },
   "source": [
    "## Global Properties"
   ]
  },
  {
   "cell_type": "markdown",
   "metadata": {
    "ExecuteTime": {
     "end_time": "2017-01-25T17:19:32.070603",
     "start_time": "2017-01-25T17:19:32.067463"
    }
   },
   "source": [
    "### Nodes, Edges, average Degree and Density"
   ]
  },
  {
   "cell_type": "code",
   "execution_count": 7,
   "metadata": {
    "ExecuteTime": {
     "end_time": "2017-02-24T18:42:28.969072",
     "start_time": "2017-02-24T18:42:28.961728"
    },
    "collapsed": false
   },
   "outputs": [
    {
     "name": "stdout",
     "output_type": "stream",
     "text": [
      "Name: \n",
      "Type: Graph\n",
      "Number of nodes: 1126\n",
      "Number of edges: 153749\n",
      "Average degree: 273.0888\n"
     ]
    }
   ],
   "source": [
    "print(nx.info(G))"
   ]
  },
  {
   "cell_type": "code",
   "execution_count": 8,
   "metadata": {
    "ExecuteTime": {
     "end_time": "2017-02-24T18:42:29.173071",
     "start_time": "2017-02-24T18:42:28.972473"
    },
    "collapsed": false
   },
   "outputs": [
    {
     "data": {
      "text/plain": [
       "273.08880994671404"
      ]
     },
     "execution_count": 8,
     "metadata": {},
     "output_type": "execute_result"
    }
   ],
   "source": [
    "Series(G.degree()).mean()"
   ]
  },
  {
   "cell_type": "code",
   "execution_count": 9,
   "metadata": {
    "ExecuteTime": {
     "end_time": "2017-02-24T18:42:29.231965",
     "start_time": "2017-02-24T18:42:29.175500"
    },
    "collapsed": false
   },
   "outputs": [
    {
     "data": {
      "text/plain": [
       "0.24274560884152357"
      ]
     },
     "execution_count": 9,
     "metadata": {},
     "output_type": "execute_result"
    }
   ],
   "source": [
    "density = nx.density(G)\n",
    "density"
   ]
  },
  {
   "cell_type": "markdown",
   "metadata": {},
   "source": [
    "### Degree distribution"
   ]
  },
  {
   "cell_type": "code",
   "execution_count": 10,
   "metadata": {
    "ExecuteTime": {
     "end_time": "2017-02-24T18:42:29.727009",
     "start_time": "2017-02-24T18:42:29.235244"
    },
    "collapsed": false
   },
   "outputs": [
    {
     "data": {
      "text/plain": [
       "<matplotlib.axes._subplots.AxesSubplot at 0x7f288d20aac8>"
      ]
     },
     "execution_count": 10,
     "metadata": {},
     "output_type": "execute_result"
    },
    {
     "data": {
      "image/png": "[encoded data removed]",
      "text/plain": [
       "<matplotlib.figure.Figure at 0x7f288d20e4a8>"
      ]
     },
     "metadata": {},
     "output_type": "display_data"
    }
   ],
   "source": [
    "degrees = G.degree().values()\n",
    "s = Series(list(degrees))\n",
    "s.hist(bins=25)"
   ]
  },
  {
   "cell_type": "code",
   "execution_count": 11,
   "metadata": {
    "ExecuteTime": {
     "end_time": "2017-02-24T18:42:29.741542",
     "start_time": "2017-02-24T18:42:29.729542"
    },
    "collapsed": false
   },
   "outputs": [
    {
     "data": {
      "text/plain": [
       "count    1126.000000\n",
       "mean      273.088810\n",
       "std       169.492353\n",
       "min         1.000000\n",
       "25%       138.250000\n",
       "50%       310.500000\n",
       "75%       410.000000\n",
       "max       628.000000\n",
       "dtype: float64"
      ]
     },
     "execution_count": 11,
     "metadata": {},
     "output_type": "execute_result"
    }
   ],
   "source": [
    "s.describe()"
   ]
  },
  {
   "cell_type": "markdown",
   "metadata": {},
   "source": [
    "### Edge weights distribution"
   ]
  },
  {
   "cell_type": "code",
   "execution_count": 12,
   "metadata": {
    "ExecuteTime": {
     "end_time": "2017-02-24T18:42:31.507337",
     "start_time": "2017-02-24T18:42:29.743956"
    },
    "collapsed": false
   },
   "outputs": [
    {
     "data": {
      "text/plain": [
       "<matplotlib.axes._subplots.AxesSubplot at 0x7f288d25d6d8>"
      ]
     },
     "execution_count": 12,
     "metadata": {},
     "output_type": "execute_result"
    },
    {
     "data": {
      "image/png": "[encoded data removed]",
      "text/plain": [
       "<matplotlib.figure.Figure at 0x7f288d24aa58>"
      ]
     },
     "metadata": {},
     "output_type": "display_data"
    }
   ],
   "source": [
    "l = []\n",
    "\n",
    "for e in G.edges():\n",
    "    l.append(G.get_edge_data(e[0],e[1]).get(\"frequency\"))\n",
    "    # totalduration\n",
    "\n",
    "edge_weights = Series(l)\n",
    "\n",
    "fig, ax = plt.subplots()\n",
    "ax.set_yscale('log')\n",
    "edge_weights.hist(bins=50)"
   ]
  },
  {
   "cell_type": "code",
   "execution_count": 13,
   "metadata": {
    "ExecuteTime": {
     "end_time": "2017-02-24T18:42:31.533982",
     "start_time": "2017-02-24T18:42:31.510247"
    },
    "collapsed": false
   },
   "outputs": [
    {
     "data": {
      "text/plain": [
       "count    153749.000000\n",
       "mean          2.969483\n",
       "std           3.463152\n",
       "min           1.000000\n",
       "25%           1.000000\n",
       "50%           2.000000\n",
       "75%           3.000000\n",
       "max         146.000000\n",
       "dtype: float64"
      ]
     },
     "execution_count": 13,
     "metadata": {},
     "output_type": "execute_result"
    }
   ],
   "source": [
    "edge_weights.describe()"
   ]
  },
  {
   "cell_type": "markdown",
   "metadata": {},
   "source": [
    "### Weighted Degree Distribution"
   ]
  },
  {
   "cell_type": "code",
   "execution_count": 14,
   "metadata": {
    "ExecuteTime": {
     "end_time": "2017-02-24T18:42:32.189627",
     "start_time": "2017-02-24T18:42:31.537257"
    },
    "collapsed": false
   },
   "outputs": [
    {
     "data": {
      "text/plain": [
       "<matplotlib.axes._subplots.AxesSubplot at 0x7f288d3ce828>"
      ]
     },
     "execution_count": 14,
     "metadata": {},
     "output_type": "execute_result"
    },
    {
     "data": {
      "image/png": "[encoded data removed]",
      "text/plain": [
       "<matplotlib.figure.Figure at 0x7f288d3dff28>"
      ]
     },
     "metadata": {},
     "output_type": "display_data"
    }
   ],
   "source": [
    "degrees = G.degree(weight='frequency').values()\n",
    "#degrees = G.degree(weight='totalduration').values()\n",
    "s = Series(list(degrees))\n",
    "s.hist(bins=25)"
   ]
  },
  {
   "cell_type": "markdown",
   "metadata": {},
   "source": [
    "### Number of components and size distribution"
   ]
  },
  {
   "cell_type": "code",
   "execution_count": 15,
   "metadata": {
    "ExecuteTime": {
     "end_time": "2017-02-24T18:42:34.366098",
     "start_time": "2017-02-24T18:42:32.192422"
    },
    "collapsed": false
   },
   "outputs": [
    {
     "name": "stdout",
     "output_type": "stream",
     "text": [
      "Number of components: 1\n"
     ]
    },
    {
     "data": {
      "text/plain": [
       "Counter({1126: 1})"
      ]
     },
     "execution_count": 15,
     "metadata": {},
     "output_type": "execute_result"
    }
   ],
   "source": [
    "Gcc = sorted(nx.connected_component_subgraphs(G), key = len, reverse=True)\n",
    "print(\"Number of components: {}\".format(len(Gcc)))\n",
    "\n",
    "size_components = []\n",
    "for comp in Gcc:\n",
    "    size_components.append(nx.number_of_nodes(comp))\n",
    "    \n",
    "Counter(list(size_components))"
   ]
  },
  {
   "cell_type": "code",
   "execution_count": 16,
   "metadata": {
    "ExecuteTime": {
     "end_time": "2017-02-24T18:42:34.487860",
     "start_time": "2017-02-24T18:42:34.368696"
    },
    "collapsed": true
   },
   "outputs": [],
   "source": [
    "# keepthe biggest Component\n",
    "G = Gcc[0]"
   ]
  },
  {
   "cell_type": "markdown",
   "metadata": {},
   "source": [
    "There is one big component!"
   ]
  },
  {
   "cell_type": "markdown",
   "metadata": {},
   "source": [
    "### Diameter"
   ]
  },
  {
   "cell_type": "code",
   "execution_count": 17,
   "metadata": {
    "ExecuteTime": {
     "end_time": "2017-02-24T18:43:30.059765",
     "start_time": "2017-02-24T18:42:34.491158"
    },
    "collapsed": false
   },
   "outputs": [
    {
     "name": "stdout",
     "output_type": "stream",
     "text": [
      "Diameter: 4\n"
     ]
    }
   ],
   "source": [
    "diameter = nx.diameter(G)\n",
    "print(\"Diameter: {}\".format(diameter))"
   ]
  },
  {
   "cell_type": "markdown",
   "metadata": {},
   "source": [
    "### Global clustering coefficient"
   ]
  },
  {
   "cell_type": "code",
   "execution_count": 18,
   "metadata": {
    "ExecuteTime": {
     "end_time": "2017-02-24T18:43:55.210373",
     "start_time": "2017-02-24T18:43:30.062932"
    },
    "collapsed": false
   },
   "outputs": [
    {
     "data": {
      "text/plain": [
       "0.4944599204257412"
      ]
     },
     "execution_count": 18,
     "metadata": {},
     "output_type": "execute_result"
    }
   ],
   "source": [
    "cc = nx.average_clustering(G)\n",
    "cc"
   ]
  },
  {
   "cell_type": "markdown",
   "metadata": {},
   "source": [
    "### Average shortest path length"
   ]
  },
  {
   "cell_type": "code",
   "execution_count": 19,
   "metadata": {
    "ExecuteTime": {
     "end_time": "2017-02-24T18:44:50.852455",
     "start_time": "2017-02-24T18:43:55.213165"
    },
    "collapsed": true
   },
   "outputs": [],
   "source": [
    "average_shortest_path = nx.average_shortest_path_length(G)"
   ]
  },
  {
   "cell_type": "code",
   "execution_count": 20,
   "metadata": {
    "ExecuteTime": {
     "end_time": "2017-02-24T18:44:50.861390",
     "start_time": "2017-02-24T18:44:50.855835"
    },
    "collapsed": false
   },
   "outputs": [
    {
     "name": "stdout",
     "output_type": "stream",
     "text": [
      "Average shortest path: 1.8802210380895994\n"
     ]
    }
   ],
   "source": [
    "print(\"Average shortest path: {}\".format(average_shortest_path))"
   ]
  },
  {
   "cell_type": "markdown",
   "metadata": {},
   "source": [
    "## Compare to Random Graph Model\n",
    "* degree distribution (not biniminal/poisson) - ja sieht nicht binominalverteilt aus, sieht ziemlich nach scale free, wenige hubs, viele knote mit wenig links\n",
    "* connectedness (giant component) - ja sieht ziemlich verbunden aus alles, gibt nur eine große komponente\n",
    "* average path length (~diameter) - ist hier auch ziemlich klein, Small-world phenomenon, $d = \\frac{\\ln nodes}{\\ln av degree}$\n",
    "* clustering coefficient - müsste höher sein als bei einem random network, jep ist es auch"
   ]
  },
  {
   "cell_type": "code",
   "execution_count": 21,
   "metadata": {
    "ExecuteTime": {
     "end_time": "2017-02-24T18:44:51.639457",
     "start_time": "2017-02-24T18:44:50.864120"
    },
    "collapsed": false
   },
   "outputs": [
    {
     "data": {
      "text/plain": [
       "'Name: gnp_random_graph(1126,0.24274560884152357)\\nType: Graph\\nNumber of nodes: 1126\\nNumber of edges: 153959\\nAverage degree: 273.4618'"
      ]
     },
     "execution_count": 21,
     "metadata": {},
     "output_type": "execute_result"
    }
   ],
   "source": [
    "random_g = nx.erdos_renyi_graph(n=nx.number_of_nodes(G), p=density)\n",
    "nx.info(random_g)"
   ]
  },
  {
   "cell_type": "code",
   "execution_count": 22,
   "metadata": {
    "ExecuteTime": {
     "end_time": "2017-02-24T18:45:05.129731",
     "start_time": "2017-02-24T18:44:51.642076"
    },
    "collapsed": false
   },
   "outputs": [
    {
     "data": {
      "text/plain": [
       "0.24306381574340888"
      ]
     },
     "execution_count": 22,
     "metadata": {},
     "output_type": "execute_result"
    }
   ],
   "source": [
    "nx.average_clustering(random_g)"
   ]
  },
  {
   "cell_type": "code",
   "execution_count": 23,
   "metadata": {
    "ExecuteTime": {
     "end_time": "2017-02-24T18:45:29.295789",
     "start_time": "2017-02-24T18:45:05.132452"
    },
    "collapsed": false
   },
   "outputs": [
    {
     "data": {
      "text/plain": [
       "0.4944599204257412"
      ]
     },
     "execution_count": 23,
     "metadata": {},
     "output_type": "execute_result"
    }
   ],
   "source": [
    "nx.average_clustering(G)"
   ]
  },
  {
   "cell_type": "markdown",
   "metadata": {},
   "source": [
    "## Local Structure (node level metrics)"
   ]
  },
  {
   "cell_type": "markdown",
   "metadata": {
    "ExecuteTime": {
     "end_time": "2017-01-25T18:00:45.276535",
     "start_time": "2017-01-25T18:00:45.272442"
    }
   },
   "source": [
    "### Betweennes Centrality"
   ]
  },
  {
   "cell_type": "code",
   "execution_count": 24,
   "metadata": {
    "ExecuteTime": {
     "end_time": "2017-02-24T18:47:52.363504",
     "start_time": "2017-02-24T18:45:29.298400"
    },
    "collapsed": false
   },
   "outputs": [],
   "source": [
    "bc = nx.betweenness.betweenness_centrality(G)"
   ]
  },
  {
   "cell_type": "code",
   "execution_count": 25,
   "metadata": {
    "ExecuteTime": {
     "end_time": "2017-02-24T18:47:52.932160",
     "start_time": "2017-02-24T18:47:52.367318"
    },
    "collapsed": false,
    "scrolled": true
   },
   "outputs": [
    {
     "data": {
      "text/plain": [
       "<matplotlib.axes._subplots.AxesSubplot at 0x7f288d38e400>"
      ]
     },
     "execution_count": 25,
     "metadata": {},
     "output_type": "execute_result"
    },
    {
     "data": {
      "image/png": "[encoded data removed]",
      "text/plain": [
       "<matplotlib.figure.Figure at 0x7f288d2c94e0>"
      ]
     },
     "metadata": {},
     "output_type": "display_data"
    }
   ],
   "source": [
    "Series(bc).hist(bins = 25)"
   ]
  },
  {
   "cell_type": "markdown",
   "metadata": {},
   "source": [
    "### Degree Centrality"
   ]
  },
  {
   "cell_type": "code",
   "execution_count": 26,
   "metadata": {
    "ExecuteTime": {
     "end_time": "2017-02-24T18:47:52.940648",
     "start_time": "2017-02-24T18:47:52.934748"
    },
    "collapsed": true
   },
   "outputs": [],
   "source": [
    "dc = nx.degree_centrality(G)"
   ]
  },
  {
   "cell_type": "code",
   "execution_count": 27,
   "metadata": {
    "ExecuteTime": {
     "end_time": "2017-02-24T18:47:53.353448",
     "start_time": "2017-02-24T18:47:52.943059"
    },
    "collapsed": false
   },
   "outputs": [
    {
     "data": {
      "text/plain": [
       "<matplotlib.axes._subplots.AxesSubplot at 0x7f288d235940>"
      ]
     },
     "execution_count": 27,
     "metadata": {},
     "output_type": "execute_result"
    },
    {
     "data": {
      "image/png": "[encoded data removed]",
      "text/plain": [
       "<matplotlib.figure.Figure at 0x7f288d341f60>"
      ]
     },
     "metadata": {},
     "output_type": "display_data"
    }
   ],
   "source": [
    "Series(dc).hist(bins = 25)"
   ]
  },
  {
   "cell_type": "markdown",
   "metadata": {},
   "source": [
    "### Closeness Centrality"
   ]
  },
  {
   "cell_type": "code",
   "execution_count": 28,
   "metadata": {
    "ExecuteTime": {
     "end_time": "2017-02-24T18:48:48.304476",
     "start_time": "2017-02-24T18:47:53.355944"
    },
    "collapsed": true
   },
   "outputs": [],
   "source": [
    "closenessc = nx.closeness.closeness_centrality(G)"
   ]
  },
  {
   "cell_type": "code",
   "execution_count": 30,
   "metadata": {
    "ExecuteTime": {
     "end_time": "2017-02-24T18:52:57.064165",
     "start_time": "2017-02-24T18:52:56.538792"
    },
    "collapsed": false
   },
   "outputs": [
    {
     "data": {
      "text/plain": [
       "<matplotlib.axes._subplots.AxesSubplot at 0x7f288d4e9630>"
      ]
     },
     "execution_count": 30,
     "metadata": {},
     "output_type": "execute_result"
    },
    {
     "data": {
      "image/png": "[encoded data removed]",
      "text/plain": [
       "<matplotlib.figure.Figure at 0x7f288d530e48>"
      ]
     },
     "metadata": {},
     "output_type": "display_data"
    }
   ],
   "source": [
    "Series(closenessc).hist(bins=50)"
   ]
  },
  {
   "cell_type": "markdown",
   "metadata": {},
   "source": [
    "# Plot Closeness and Age"
   ]
  },
  {
   "cell_type": "code",
   "execution_count": 35,
   "metadata": {
    "ExecuteTime": {
     "end_time": "2017-02-24T18:56:19.656120",
     "start_time": "2017-02-24T18:56:19.637983"
    },
    "collapsed": true
   },
   "outputs": [],
   "source": [
    "import hatching as ht"
   ]
  },
  {
   "cell_type": "code",
   "execution_count": 36,
   "metadata": {
    "ExecuteTime": {
     "end_time": "2017-02-24T19:07:59.703727",
     "start_time": "2017-02-24T19:07:59.690727"
    },
    "collapsed": true
   },
   "outputs": [],
   "source": [
    "start = \"2016-07-21T15:00:00Z\"\n",
    "start_dt = datetime.datetime.strptime(start, \"%Y-%m-%dT%H:%M:%SZ\").replace(tzinfo=pytz.UTC)"
   ]
  },
  {
   "cell_type": "code",
   "execution_count": 44,
   "metadata": {
    "ExecuteTime": {
     "end_time": "2017-02-24T19:10:02.123997",
     "start_time": "2017-02-24T19:10:02.114817"
    },
    "collapsed": false
   },
   "outputs": [],
   "source": [
    "def getAges(g, date_dt):\n",
    "    aa = ht.get_all_bees_age(date_dt)\n",
    "    df = DataFrame([int(x) for x in list(g.nodes())], columns=['id'])\n",
    "    df[\"age\"] = df.id.apply(lambda x: aa.iloc[x].age)\n",
    "    return df"
   ]
  },
  {
   "cell_type": "code",
   "execution_count": 51,
   "metadata": {
    "ExecuteTime": {
     "end_time": "2017-02-24T19:13:29.003389",
     "start_time": "2017-02-24T19:13:28.995227"
    },
    "collapsed": true
   },
   "outputs": [],
   "source": [
    "def addCentrality(df, g):\n",
    "    closenessC = nx.closeness_centrality(g)\n",
    "    df['closeness'] = df.id.apply(lambda x: closenessC.get(str(x)))\n",
    "    return df"
   ]
  },
  {
   "cell_type": "code",
   "execution_count": 47,
   "metadata": {
    "ExecuteTime": {
     "end_time": "2017-02-24T19:11:15.786162",
     "start_time": "2017-02-24T19:11:15.190506"
    },
    "collapsed": false
   },
   "outputs": [],
   "source": [
    "df = getAges(G, start_dt)"
   ]
  },
  {
   "cell_type": "code",
   "execution_count": 53,
   "metadata": {
    "ExecuteTime": {
     "end_time": "2017-02-24T19:14:35.525927",
     "start_time": "2017-02-24T19:13:42.130236"
    },
    "collapsed": false
   },
   "outputs": [],
   "source": [
    "df = addCentrality(df,G)"
   ]
  },
  {
   "cell_type": "code",
   "execution_count": 60,
   "metadata": {
    "ExecuteTime": {
     "end_time": "2017-02-24T19:21:00.642617",
     "start_time": "2017-02-24T19:21:00.319798"
    },
    "collapsed": false
   },
   "outputs": [
    {
     "data": {
      "text/plain": [
       "<matplotlib.axes._subplots.AxesSubplot at 0x7f288d841ef0>"
      ]
     },
     "execution_count": 60,
     "metadata": {},
     "output_type": "execute_result"
    },
    {
     "data": {
      "image/png": "[encoded data removed]",
      "text/plain": [
       "<matplotlib.figure.Figure at 0x7f288d85b7b8>"
      ]
     },
     "metadata": {},
     "output_type": "display_data"
    }
   ],
   "source": [
    "df.plot.scatter(x='age', y='closeness', s=2, alpha=0.1)"
   ]
  },
  {
   "cell_type": "markdown",
   "metadata": {},
   "source": [
    "# Remove Nodes with low closeness"
   ]
  },
  {
   "cell_type": "code",
   "execution_count": null,
   "metadata": {
    "collapsed": true
   },
   "outputs": [],
   "source": []
  }
 ],
 "metadata": {
  "anaconda-cloud": {},
  "kernelspec": {
   "display_name": "Python 3",
   "language": "python",
   "name": "python3"
  },
  "language_info": {
   "codemirror_mode": {
    "name": "ipython",
    "version": 3
   },
   "file_extension": ".py",
   "mimetype": "text/x-python",
   "name": "python",
   "nbconvert_exporter": "python",
   "pygments_lexer": "ipython3",
   "version": "3.5.2"
  },
  "toc": {
   "colors": {
    "hover_highlight": "#DAA520",
    "running_highlight": "#FF0000",
    "selected_highlight": "#FFD700"
   },
   "moveMenuLeft": true,
   "nav_menu": {
    "height": "315px",
    "width": "252px"
   },
   "navigate_menu": true,
   "number_sections": true,
   "sideBar": true,
   "threshold": 4,
   "toc_cell": false,
   "toc_position": {
    "height": "570px",
    "left": "0px",
    "right": "1064px",
    "top": "106px",
    "width": "212px"
   },
   "toc_section_display": "block",
   "toc_window_display": true
  }
 },
 "nbformat": 4,
 "nbformat_minor": 2
}
