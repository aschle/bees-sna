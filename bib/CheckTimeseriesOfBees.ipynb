{
 "cells": [
  {
   "cell_type": "code",
   "execution_count": 1,
   "metadata": {
    "ExecuteTime": {
     "end_time": "2017-02-19T18:45:16.025994",
     "start_time": "2017-02-19T18:45:14.828165"
    },
    "collapsed": true
   },
   "outputs": [],
   "source": [
    "import pandas as pd\n",
    "import numpy as np\n",
    "from pandas import DataFrame, Series\n",
    "import datetime\n",
    "import pytz\n",
    "import matplotlib.pyplot as plt\n",
    "import preprocessing as prep\n",
    "from bb_binary import FrameContainer, Repository, load_frame_container\n",
    "import seaborn as sns"
   ]
  },
  {
   "cell_type": "code",
   "execution_count": 2,
   "metadata": {
    "ExecuteTime": {
     "end_time": "2017-02-19T18:45:16.044355",
     "start_time": "2017-02-19T18:45:16.029355"
    },
    "collapsed": true
   },
   "outputs": [],
   "source": [
    "%matplotlib inline"
   ]
  },
  {
   "cell_type": "code",
   "execution_count": 3,
   "metadata": {
    "ExecuteTime": {
     "end_time": "2017-02-19T18:45:16.847461",
     "start_time": "2017-02-19T18:45:16.838377"
    },
    "collapsed": true
   },
   "outputs": [],
   "source": [
    "start = \"2016-07-21T15:00:00Z\"\n",
    "start_dt = datetime.datetime.strptime(start, \"%Y-%m-%dT%H:%M:%SZ\").replace(tzinfo=pytz.UTC)\n",
    "start_ts = start_dt.timestamp()\n",
    "end_dt = start_dt + datetime.timedelta(minutes=5)\n",
    "end_ts = end_dt.timestamp()"
   ]
  },
  {
   "cell_type": "code",
   "execution_count": 4,
   "metadata": {
    "ExecuteTime": {
     "end_time": "2017-02-19T18:45:20.457047",
     "start_time": "2017-02-19T18:45:17.954565"
    },
    "collapsed": false
   },
   "outputs": [],
   "source": [
    "df3 = prep.getDF(\"/mnt/data2016/\",start_ts, end_ts, 3)"
   ]
  },
  {
   "cell_type": "code",
   "execution_count": 5,
   "metadata": {
    "ExecuteTime": {
     "end_time": "2017-02-19T18:45:27.564849",
     "start_time": "2017-02-19T18:45:27.535073"
    },
    "collapsed": false
   },
   "outputs": [
    {
     "data": {
      "text/html": [
       "<div>\n",
       "<table border=\"1\" class=\"dataframe\">\n",
       "  <thead>\n",
       "    <tr style=\"text-align: right;\">\n",
       "      <th></th>\n",
       "      <th>idx</th>\n",
       "      <th>xpos</th>\n",
       "      <th>ypos</th>\n",
       "      <th>radius</th>\n",
       "      <th>zRotation</th>\n",
       "      <th>decodedId</th>\n",
       "      <th>frame_idx</th>\n",
       "      <th>timestamp</th>\n",
       "      <th>cam_id</th>\n",
       "      <th>fc_id</th>\n",
       "    </tr>\n",
       "  </thead>\n",
       "  <tbody>\n",
       "    <tr>\n",
       "      <th>0</th>\n",
       "      <td>0</td>\n",
       "      <td>75</td>\n",
       "      <td>1737</td>\n",
       "      <td>23.016102</td>\n",
       "      <td>-2.815818</td>\n",
       "      <td>[16, 26, 12, 5, 6, 36, 2, 30, 5, 0, 54, 143]</td>\n",
       "      <td>0</td>\n",
       "      <td>1.469113e+09</td>\n",
       "      <td>3</td>\n",
       "      <td>13762910503243423769</td>\n",
       "    </tr>\n",
       "    <tr>\n",
       "      <th>1</th>\n",
       "      <td>1</td>\n",
       "      <td>148</td>\n",
       "      <td>2011</td>\n",
       "      <td>23.024433</td>\n",
       "      <td>-2.782721</td>\n",
       "      <td>[254, 1, 6, 255, 2, 255, 0, 0, 0, 0, 255, 0]</td>\n",
       "      <td>0</td>\n",
       "      <td>1.469113e+09</td>\n",
       "      <td>3</td>\n",
       "      <td>13762910503243423769</td>\n",
       "    </tr>\n",
       "  </tbody>\n",
       "</table>\n",
       "</div>"
      ],
      "text/plain": [
       "   idx  xpos  ypos     radius  zRotation  \\\n",
       "0    0    75  1737  23.016102  -2.815818   \n",
       "1    1   148  2011  23.024433  -2.782721   \n",
       "\n",
       "                                      decodedId  frame_idx     timestamp  \\\n",
       "0  [16, 26, 12, 5, 6, 36, 2, 30, 5, 0, 54, 143]          0  1.469113e+09   \n",
       "1  [254, 1, 6, 255, 2, 255, 0, 0, 0, 0, 255, 0]          0  1.469113e+09   \n",
       "\n",
       "   cam_id                 fc_id  \n",
       "0       3  13762910503243423769  \n",
       "1       3  13762910503243423769  "
      ]
     },
     "execution_count": 5,
     "metadata": {},
     "output_type": "execute_result"
    }
   ],
   "source": [
    "df3.head(2)"
   ]
  },
  {
   "cell_type": "code",
   "execution_count": 7,
   "metadata": {
    "ExecuteTime": {
     "end_time": "2017-02-19T18:46:00.295745",
     "start_time": "2017-02-19T18:46:00.286244"
    },
    "collapsed": false
   },
   "outputs": [
    {
     "data": {
      "text/plain": [
       "903"
      ]
     },
     "execution_count": 7,
     "metadata": {},
     "output_type": "execute_result"
    }
   ],
   "source": [
    "len(df3.frame_idx.unique())"
   ]
  },
  {
   "cell_type": "code",
   "execution_count": 173,
   "metadata": {
    "ExecuteTime": {
     "end_time": "2017-02-19T22:23:38.436676",
     "start_time": "2017-02-19T22:23:38.423374"
    },
    "collapsed": true
   },
   "outputs": [],
   "source": [
    "def df_to_timeseries_with_conf(df, conf, year):\n",
    "    dfid = prep.calcIds(df,conf,year)\n",
    "    gr = dfid.groupby(by='frame_idx')\n",
    "    num_columns = dfid.frame_idx.unique().max() + 1\n",
    "    u_id = dfid.id.unique()\n",
    "    dft = DataFrame(0, index=u_id, columns=np.arange(num_columns))\n",
    "\n",
    "    for i, group in gr:\n",
    "        l = group['id']\n",
    "        dft.loc[l,i] = 1\n",
    "    \n",
    "    return dft"
   ]
  },
  {
   "cell_type": "code",
   "execution_count": 10,
   "metadata": {
    "ExecuteTime": {
     "end_time": "2017-02-19T18:46:31.716741",
     "start_time": "2017-02-19T18:46:31.705887"
    },
    "collapsed": true
   },
   "outputs": [],
   "source": [
    "def stat_dft(dft, conf):\n",
    "    rows, columns = dft.shape\n",
    "    mean = dft.apply(sum, axis=1).mean()\n",
    "    minn = dft.apply(sum, axis=1).min()\n",
    "    maxx =  dft.apply(sum, axis=1).max()\n",
    "    sumsum =  dft.apply(sum, axis=1).sum()\n",
    "    total = rows * columns\n",
    "    return {'confidence': conf, 'rows': rows, 'columns': columns, 'mean': mean, 'min': minn, 'max': maxx, 'sum': sumsum, 'total': total}"
   ]
  },
  {
   "cell_type": "code",
   "execution_count": 37,
   "metadata": {
    "ExecuteTime": {
     "end_time": "2017-02-19T19:22:35.349421",
     "start_time": "2017-02-19T19:22:35.334918"
    },
    "collapsed": false
   },
   "outputs": [],
   "source": [
    "def stats0(df):\n",
    "    stats = []\n",
    "    for i in np.arange(0,1.02,0.02):\n",
    "        dft = df_to_timeseries_with_conf(df, i, 2016)\n",
    "        dft = (dft-1)*(-1)\n",
    "        stats.append(stat_dft(dft, i))\n",
    "    \n",
    "    st = DataFrame(stats)\n",
    "    st.confidence *= 100\n",
    "    st['sump'] = 100*st['sum']/st['total']\n",
    "    \n",
    "    return st"
   ]
  },
  {
   "cell_type": "code",
   "execution_count": 261,
   "metadata": {
    "ExecuteTime": {
     "end_time": "2017-02-21T09:42:49.572335",
     "start_time": "2017-02-21T09:42:49.557448"
    },
    "collapsed": true
   },
   "outputs": [],
   "source": [
    "def stats95(df):\n",
    "    stats = []\n",
    "    for i in [0.95]:\n",
    "        dft = df_to_timeseries_with_conf(df, i, 2016)\n",
    "        dft = (dft-1)*(-1)\n",
    "        stats.append(stat_dft(dft, i))\n",
    "    \n",
    "    st = DataFrame(stats)\n",
    "    st.confidence *= 100\n",
    "    st['sump'] = 100*st['sum']/st['total']\n",
    "    \n",
    "    return st"
   ]
  },
  {
   "cell_type": "markdown",
   "metadata": {},
   "source": [
    "# Anzahle der Nullen pro Biene"
   ]
  },
  {
   "cell_type": "code",
   "execution_count": null,
   "metadata": {
    "collapsed": true
   },
   "outputs": [],
   "source": [
    "# für 95%"
   ]
  },
  {
   "cell_type": "code",
   "execution_count": 264,
   "metadata": {
    "ExecuteTime": {
     "end_time": "2017-02-21T09:56:12.511425",
     "start_time": "2017-02-21T09:56:03.526460"
    },
    "collapsed": true
   },
   "outputs": [],
   "source": [
    "s95 = stats95(df3)"
   ]
  },
  {
   "cell_type": "code",
   "execution_count": 265,
   "metadata": {
    "ExecuteTime": {
     "end_time": "2017-02-21T09:56:12.540128",
     "start_time": "2017-02-21T09:56:12.515256"
    },
    "collapsed": false
   },
   "outputs": [
    {
     "data": {
      "text/html": [
       "<div>\n",
       "<table border=\"1\" class=\"dataframe\">\n",
       "  <thead>\n",
       "    <tr style=\"text-align: right;\">\n",
       "      <th></th>\n",
       "      <th>columns</th>\n",
       "      <th>confidence</th>\n",
       "      <th>max</th>\n",
       "      <th>mean</th>\n",
       "      <th>min</th>\n",
       "      <th>rows</th>\n",
       "      <th>sum</th>\n",
       "      <th>total</th>\n",
       "      <th>sump</th>\n",
       "    </tr>\n",
       "  </thead>\n",
       "  <tbody>\n",
       "    <tr>\n",
       "      <th>0</th>\n",
       "      <td>903</td>\n",
       "      <td>95.0</td>\n",
       "      <td>902</td>\n",
       "      <td>812.719947</td>\n",
       "      <td>99</td>\n",
       "      <td>757</td>\n",
       "      <td>615229</td>\n",
       "      <td>683571</td>\n",
       "      <td>90.002209</td>\n",
       "    </tr>\n",
       "  </tbody>\n",
       "</table>\n",
       "</div>"
      ],
      "text/plain": [
       "   columns  confidence  max        mean  min  rows     sum   total       sump\n",
       "0      903        95.0  902  812.719947   99   757  615229  683571  90.002209"
      ]
     },
     "execution_count": 265,
     "metadata": {},
     "output_type": "execute_result"
    }
   ],
   "source": [
    "s95"
   ]
  },
  {
   "cell_type": "code",
   "execution_count": 38,
   "metadata": {
    "ExecuteTime": {
     "end_time": "2017-02-19T19:31:47.504928",
     "start_time": "2017-02-19T19:22:38.287330"
    },
    "collapsed": false
   },
   "outputs": [],
   "source": [
    "s0 = stats0(df3)"
   ]
  },
  {
   "cell_type": "code",
   "execution_count": 39,
   "metadata": {
    "ExecuteTime": {
     "end_time": "2017-02-19T19:31:47.515001",
     "start_time": "2017-02-19T19:31:47.508063"
    },
    "collapsed": false
   },
   "outputs": [],
   "source": [
    "s0['meanp'] = s0['mean']*100/s0['columns'] "
   ]
  },
  {
   "cell_type": "code",
   "execution_count": 40,
   "metadata": {
    "ExecuteTime": {
     "end_time": "2017-02-19T19:31:47.739546",
     "start_time": "2017-02-19T19:31:47.517801"
    },
    "collapsed": false
   },
   "outputs": [
    {
     "data": {
      "text/html": [
       "<div>\n",
       "<table border=\"1\" class=\"dataframe\">\n",
       "  <thead>\n",
       "    <tr style=\"text-align: right;\">\n",
       "      <th></th>\n",
       "      <th>columns</th>\n",
       "      <th>confidence</th>\n",
       "      <th>max</th>\n",
       "      <th>mean</th>\n",
       "      <th>min</th>\n",
       "      <th>rows</th>\n",
       "      <th>sum</th>\n",
       "      <th>total</th>\n",
       "      <th>sump</th>\n",
       "      <th>meanp</th>\n",
       "    </tr>\n",
       "  </thead>\n",
       "  <tbody>\n",
       "    <tr>\n",
       "      <th>41</th>\n",
       "      <td>903</td>\n",
       "      <td>82.0</td>\n",
       "      <td>902</td>\n",
       "      <td>835.915683</td>\n",
       "      <td>85</td>\n",
       "      <td>1186</td>\n",
       "      <td>991396</td>\n",
       "      <td>1070958</td>\n",
       "      <td>92.570950</td>\n",
       "      <td>92.570950</td>\n",
       "    </tr>\n",
       "    <tr>\n",
       "      <th>42</th>\n",
       "      <td>903</td>\n",
       "      <td>84.0</td>\n",
       "      <td>902</td>\n",
       "      <td>834.268122</td>\n",
       "      <td>86</td>\n",
       "      <td>1145</td>\n",
       "      <td>955237</td>\n",
       "      <td>1033935</td>\n",
       "      <td>92.388496</td>\n",
       "      <td>92.388496</td>\n",
       "    </tr>\n",
       "    <tr>\n",
       "      <th>43</th>\n",
       "      <td>903</td>\n",
       "      <td>86.0</td>\n",
       "      <td>902</td>\n",
       "      <td>831.139405</td>\n",
       "      <td>87</td>\n",
       "      <td>1076</td>\n",
       "      <td>894306</td>\n",
       "      <td>971628</td>\n",
       "      <td>92.042016</td>\n",
       "      <td>92.042016</td>\n",
       "    </tr>\n",
       "    <tr>\n",
       "      <th>44</th>\n",
       "      <td>903</td>\n",
       "      <td>88.0</td>\n",
       "      <td>902</td>\n",
       "      <td>827.698617</td>\n",
       "      <td>87</td>\n",
       "      <td>1012</td>\n",
       "      <td>837631</td>\n",
       "      <td>913836</td>\n",
       "      <td>91.660976</td>\n",
       "      <td>91.660976</td>\n",
       "    </tr>\n",
       "    <tr>\n",
       "      <th>45</th>\n",
       "      <td>903</td>\n",
       "      <td>90.0</td>\n",
       "      <td>902</td>\n",
       "      <td>823.890309</td>\n",
       "      <td>92</td>\n",
       "      <td>939</td>\n",
       "      <td>773633</td>\n",
       "      <td>847917</td>\n",
       "      <td>91.239237</td>\n",
       "      <td>91.239237</td>\n",
       "    </tr>\n",
       "    <tr>\n",
       "      <th>46</th>\n",
       "      <td>903</td>\n",
       "      <td>92.0</td>\n",
       "      <td>902</td>\n",
       "      <td>820.737557</td>\n",
       "      <td>94</td>\n",
       "      <td>884</td>\n",
       "      <td>725532</td>\n",
       "      <td>798252</td>\n",
       "      <td>90.890095</td>\n",
       "      <td>90.890095</td>\n",
       "    </tr>\n",
       "    <tr>\n",
       "      <th>47</th>\n",
       "      <td>903</td>\n",
       "      <td>94.0</td>\n",
       "      <td>902</td>\n",
       "      <td>815.854819</td>\n",
       "      <td>97</td>\n",
       "      <td>799</td>\n",
       "      <td>651868</td>\n",
       "      <td>721497</td>\n",
       "      <td>90.349371</td>\n",
       "      <td>90.349371</td>\n",
       "    </tr>\n",
       "    <tr>\n",
       "      <th>48</th>\n",
       "      <td>903</td>\n",
       "      <td>96.0</td>\n",
       "      <td>902</td>\n",
       "      <td>810.834483</td>\n",
       "      <td>102</td>\n",
       "      <td>725</td>\n",
       "      <td>587855</td>\n",
       "      <td>654675</td>\n",
       "      <td>89.793409</td>\n",
       "      <td>89.793409</td>\n",
       "    </tr>\n",
       "    <tr>\n",
       "      <th>49</th>\n",
       "      <td>903</td>\n",
       "      <td>98.0</td>\n",
       "      <td>902</td>\n",
       "      <td>798.791519</td>\n",
       "      <td>119</td>\n",
       "      <td>566</td>\n",
       "      <td>452116</td>\n",
       "      <td>511098</td>\n",
       "      <td>88.459747</td>\n",
       "      <td>88.459747</td>\n",
       "    </tr>\n",
       "    <tr>\n",
       "      <th>50</th>\n",
       "      <td>903</td>\n",
       "      <td>100.0</td>\n",
       "      <td>902</td>\n",
       "      <td>804.622276</td>\n",
       "      <td>237</td>\n",
       "      <td>413</td>\n",
       "      <td>332309</td>\n",
       "      <td>372939</td>\n",
       "      <td>89.105457</td>\n",
       "      <td>89.105457</td>\n",
       "    </tr>\n",
       "  </tbody>\n",
       "</table>\n",
       "</div>"
      ],
      "text/plain": [
       "    columns  confidence  max        mean  min  rows     sum    total  \\\n",
       "41      903        82.0  902  835.915683   85  1186  991396  1070958   \n",
       "42      903        84.0  902  834.268122   86  1145  955237  1033935   \n",
       "43      903        86.0  902  831.139405   87  1076  894306   971628   \n",
       "44      903        88.0  902  827.698617   87  1012  837631   913836   \n",
       "45      903        90.0  902  823.890309   92   939  773633   847917   \n",
       "46      903        92.0  902  820.737557   94   884  725532   798252   \n",
       "47      903        94.0  902  815.854819   97   799  651868   721497   \n",
       "48      903        96.0  902  810.834483  102   725  587855   654675   \n",
       "49      903        98.0  902  798.791519  119   566  452116   511098   \n",
       "50      903       100.0  902  804.622276  237   413  332309   372939   \n",
       "\n",
       "         sump      meanp  \n",
       "41  92.570950  92.570950  \n",
       "42  92.388496  92.388496  \n",
       "43  92.042016  92.042016  \n",
       "44  91.660976  91.660976  \n",
       "45  91.239237  91.239237  \n",
       "46  90.890095  90.890095  \n",
       "47  90.349371  90.349371  \n",
       "48  89.793409  89.793409  \n",
       "49  88.459747  88.459747  \n",
       "50  89.105457  89.105457  "
      ]
     },
     "execution_count": 40,
     "metadata": {},
     "output_type": "execute_result"
    }
   ],
   "source": [
    "s0.tail(10)"
   ]
  },
  {
   "cell_type": "code",
   "execution_count": 41,
   "metadata": {
    "ExecuteTime": {
     "end_time": "2017-02-19T19:31:47.787992",
     "start_time": "2017-02-19T19:31:47.742619"
    },
    "collapsed": true
   },
   "outputs": [],
   "source": [
    "sns.set_context(\"paper\")"
   ]
  },
  {
   "cell_type": "code",
   "execution_count": 283,
   "metadata": {
    "ExecuteTime": {
     "end_time": "2017-02-21T10:40:46.437194",
     "start_time": "2017-02-21T10:40:46.158438"
    },
    "collapsed": false,
    "scrolled": false
   },
   "outputs": [
    {
     "data": {
      "image/png": "[encoded data removed]",
      "text/plain": [
       "<matplotlib.figure.Figure at 0x7fdafd8cf9e8>"
      ]
     },
     "metadata": {},
     "output_type": "display_data"
    }
   ],
   "source": [
    "fig, ax = plt.subplots()\n",
    "s0.plot.area(x='confidence', y='meanp', colormap='summer', ax=ax)\n",
    "ax.legend(['Average #0'])\n",
    "ax.set_ylabel(\"Average number of zeroes in a bee track \\n in %\")\n",
    "ax.set_xlabel(\"Confidence in %\")\n",
    "ax.set_ylim((80,100))\n",
    "\n",
    "# Confidence\n",
    "plt.axvline(95, color='0.25', linestyle='dashed', linewidth=1)\n",
    "plt.text(88,85,'95%',rotation=0)\n",
    "\n",
    "# Data 59.139511\n",
    "plt.axhline(90, color='0.25', linestyle='dotted', linewidth=1)\n",
    "plt.text(5,89,'~90%',rotation=0)\n",
    "\n",
    "fig.set_size_inches(5.91553,3)\n",
    "plt.tight_layout()"
   ]
  },
  {
   "cell_type": "markdown",
   "metadata": {},
   "source": [
    "# Anzahl der Einer Lücken pro Biene"
   ]
  },
  {
   "cell_type": "code",
   "execution_count": 275,
   "metadata": {
    "ExecuteTime": {
     "end_time": "2017-02-21T10:28:34.642783",
     "start_time": "2017-02-21T10:28:34.630579"
    },
    "collapsed": true
   },
   "outputs": [],
   "source": [
    "def get_number_of_fragments(kette):\n",
    "\n",
    "    kette = kette.apply(str)\n",
    "    s = kette.str.cat(sep='')\n",
    "\n",
    "    einer = [i for i in s.split('1') if len(i) > 0]\n",
    "    nuller = [i for i in s.split('0') if len(i) > 0]\n",
    "    \n",
    "    return len(einer)+len(nuller)"
   ]
  },
  {
   "cell_type": "code",
   "execution_count": 276,
   "metadata": {
    "ExecuteTime": {
     "end_time": "2017-02-21T10:28:35.947591",
     "start_time": "2017-02-21T10:28:35.937942"
    },
    "collapsed": true
   },
   "outputs": [],
   "source": [
    "def stat_ketten(s, conf):\n",
    "    rows = s.shape[0]\n",
    "    mean = s.mean()\n",
    "    minn = s.min()\n",
    "    maxx =  s.max()\n",
    "    sumsum =  s.sum()\n",
    "    return {'confidence': conf, 'rows': rows, 'mean': mean, 'min': minn, 'max': maxx, 'sum': sumsum}"
   ]
  },
  {
   "cell_type": "code",
   "execution_count": 277,
   "metadata": {
    "ExecuteTime": {
     "end_time": "2017-02-21T10:28:38.062273",
     "start_time": "2017-02-21T10:28:38.049589"
    },
    "collapsed": true
   },
   "outputs": [],
   "source": [
    "def statsFragments(df):\n",
    "    \n",
    "    fragments = []\n",
    "    \n",
    "    for i in np.arange(0,1.05,0.05):\n",
    "        \n",
    "        dft = df_to_timeseries_with_conf(df, i, 2016)\n",
    "        numFragments = dft.apply(get_number_of_fragments, axis=1)\n",
    "        fragments.append(stat_ketten(numFragments, i))\n",
    "    \n",
    "    st = DataFrame(fragments)\n",
    "    st.confidence *= 100\n",
    "    \n",
    "    return st"
   ]
  },
  {
   "cell_type": "code",
   "execution_count": 43,
   "metadata": {
    "ExecuteTime": {
     "end_time": "2017-02-19T19:31:48.144117",
     "start_time": "2017-02-19T19:31:48.125966"
    },
    "collapsed": true
   },
   "outputs": [],
   "source": [
    "def statsK(df, gapsize):\n",
    "    stats = []\n",
    "    statsF = []\n",
    "    for i in np.arange(0,1.02,0.02):\n",
    "        dft = df_to_timeseries_with_conf(df, i, 2016)\n",
    "        ketten = dft.apply(get_ketten_len, axis=1, args=[\"1\"])\n",
    "        anzahlEiner = ketten.apply(lambda x: len([elem for elem in x if elem == gapsize]))\n",
    "        anzahlFragments = ketten.apply(lambda x: len(x))\n",
    "        stats.append(stat_ketten(anzahlEiner, i))\n",
    "        statsF.append(stat_ketten(anzahlFragments, i))\n",
    "    \n",
    "    st = DataFrame(stats)\n",
    "    st.confidence *= 100\n",
    "    \n",
    "    stF = DataFrame(statsF)\n",
    "    stF.confidence *= 100\n",
    "    return st, stF"
   ]
  },
  {
   "cell_type": "code",
   "execution_count": 278,
   "metadata": {
    "ExecuteTime": {
     "end_time": "2017-02-21T10:32:39.528272",
     "start_time": "2017-02-21T10:28:42.266255"
    },
    "collapsed": false
   },
   "outputs": [],
   "source": [
    "sF= statsFragments(df3)"
   ]
  },
  {
   "cell_type": "code",
   "execution_count": 281,
   "metadata": {
    "ExecuteTime": {
     "end_time": "2017-02-21T10:35:03.544678",
     "start_time": "2017-02-21T10:35:03.532184"
    },
    "collapsed": false
   },
   "outputs": [
    {
     "data": {
      "text/plain": [
       "903"
      ]
     },
     "execution_count": 281,
     "metadata": {},
     "output_type": "execute_result"
    }
   ],
   "source": [
    "len(df3.frame_idx.unique())"
   ]
  },
  {
   "cell_type": "code",
   "execution_count": 280,
   "metadata": {
    "ExecuteTime": {
     "end_time": "2017-02-21T10:33:48.189608",
     "start_time": "2017-02-21T10:33:48.157543"
    },
    "collapsed": false
   },
   "outputs": [
    {
     "data": {
      "text/html": [
       "<div>\n",
       "<table border=\"1\" class=\"dataframe\">\n",
       "  <thead>\n",
       "    <tr style=\"text-align: right;\">\n",
       "      <th></th>\n",
       "      <th>confidence</th>\n",
       "      <th>max</th>\n",
       "      <th>mean</th>\n",
       "      <th>min</th>\n",
       "      <th>rows</th>\n",
       "      <th>sum</th>\n",
       "    </tr>\n",
       "  </thead>\n",
       "  <tbody>\n",
       "    <tr>\n",
       "      <th>0</th>\n",
       "      <td>0.0</td>\n",
       "      <td>303</td>\n",
       "      <td>20.125173</td>\n",
       "      <td>2</td>\n",
       "      <td>3619</td>\n",
       "      <td>72833</td>\n",
       "    </tr>\n",
       "    <tr>\n",
       "      <th>1</th>\n",
       "      <td>5.0</td>\n",
       "      <td>301</td>\n",
       "      <td>18.996223</td>\n",
       "      <td>2</td>\n",
       "      <td>3442</td>\n",
       "      <td>65385</td>\n",
       "    </tr>\n",
       "    <tr>\n",
       "      <th>2</th>\n",
       "      <td>10.0</td>\n",
       "      <td>307</td>\n",
       "      <td>18.445339</td>\n",
       "      <td>2</td>\n",
       "      <td>3229</td>\n",
       "      <td>59560</td>\n",
       "    </tr>\n",
       "    <tr>\n",
       "      <th>3</th>\n",
       "      <td>15.0</td>\n",
       "      <td>313</td>\n",
       "      <td>18.199804</td>\n",
       "      <td>2</td>\n",
       "      <td>3063</td>\n",
       "      <td>55746</td>\n",
       "    </tr>\n",
       "    <tr>\n",
       "      <th>4</th>\n",
       "      <td>20.0</td>\n",
       "      <td>315</td>\n",
       "      <td>18.081922</td>\n",
       "      <td>2</td>\n",
       "      <td>2893</td>\n",
       "      <td>52311</td>\n",
       "    </tr>\n",
       "    <tr>\n",
       "      <th>5</th>\n",
       "      <td>25.0</td>\n",
       "      <td>319</td>\n",
       "      <td>18.173834</td>\n",
       "      <td>2</td>\n",
       "      <td>2744</td>\n",
       "      <td>49869</td>\n",
       "    </tr>\n",
       "    <tr>\n",
       "      <th>6</th>\n",
       "      <td>30.0</td>\n",
       "      <td>324</td>\n",
       "      <td>18.539627</td>\n",
       "      <td>2</td>\n",
       "      <td>2574</td>\n",
       "      <td>47721</td>\n",
       "    </tr>\n",
       "    <tr>\n",
       "      <th>7</th>\n",
       "      <td>35.0</td>\n",
       "      <td>326</td>\n",
       "      <td>18.903534</td>\n",
       "      <td>2</td>\n",
       "      <td>2405</td>\n",
       "      <td>45463</td>\n",
       "    </tr>\n",
       "    <tr>\n",
       "      <th>8</th>\n",
       "      <td>40.0</td>\n",
       "      <td>328</td>\n",
       "      <td>19.317544</td>\n",
       "      <td>2</td>\n",
       "      <td>2280</td>\n",
       "      <td>44044</td>\n",
       "    </tr>\n",
       "    <tr>\n",
       "      <th>9</th>\n",
       "      <td>45.0</td>\n",
       "      <td>334</td>\n",
       "      <td>19.841639</td>\n",
       "      <td>2</td>\n",
       "      <td>2147</td>\n",
       "      <td>42600</td>\n",
       "    </tr>\n",
       "    <tr>\n",
       "      <th>10</th>\n",
       "      <td>50.0</td>\n",
       "      <td>332</td>\n",
       "      <td>20.575561</td>\n",
       "      <td>2</td>\n",
       "      <td>2005</td>\n",
       "      <td>41254</td>\n",
       "    </tr>\n",
       "    <tr>\n",
       "      <th>11</th>\n",
       "      <td>55.0</td>\n",
       "      <td>328</td>\n",
       "      <td>21.323592</td>\n",
       "      <td>2</td>\n",
       "      <td>1882</td>\n",
       "      <td>40131</td>\n",
       "    </tr>\n",
       "    <tr>\n",
       "      <th>12</th>\n",
       "      <td>60.0</td>\n",
       "      <td>328</td>\n",
       "      <td>22.248009</td>\n",
       "      <td>2</td>\n",
       "      <td>1758</td>\n",
       "      <td>39112</td>\n",
       "    </tr>\n",
       "    <tr>\n",
       "      <th>13</th>\n",
       "      <td>65.0</td>\n",
       "      <td>324</td>\n",
       "      <td>23.407498</td>\n",
       "      <td>2</td>\n",
       "      <td>1627</td>\n",
       "      <td>38084</td>\n",
       "    </tr>\n",
       "    <tr>\n",
       "      <th>14</th>\n",
       "      <td>70.0</td>\n",
       "      <td>323</td>\n",
       "      <td>24.745684</td>\n",
       "      <td>2</td>\n",
       "      <td>1506</td>\n",
       "      <td>37267</td>\n",
       "    </tr>\n",
       "    <tr>\n",
       "      <th>15</th>\n",
       "      <td>75.0</td>\n",
       "      <td>323</td>\n",
       "      <td>26.415820</td>\n",
       "      <td>2</td>\n",
       "      <td>1378</td>\n",
       "      <td>36401</td>\n",
       "    </tr>\n",
       "    <tr>\n",
       "      <th>16</th>\n",
       "      <td>80.0</td>\n",
       "      <td>331</td>\n",
       "      <td>28.468998</td>\n",
       "      <td>2</td>\n",
       "      <td>1258</td>\n",
       "      <td>35814</td>\n",
       "    </tr>\n",
       "    <tr>\n",
       "      <th>17</th>\n",
       "      <td>85.0</td>\n",
       "      <td>337</td>\n",
       "      <td>31.500000</td>\n",
       "      <td>2</td>\n",
       "      <td>1124</td>\n",
       "      <td>35406</td>\n",
       "    </tr>\n",
       "    <tr>\n",
       "      <th>18</th>\n",
       "      <td>90.0</td>\n",
       "      <td>341</td>\n",
       "      <td>37.390841</td>\n",
       "      <td>2</td>\n",
       "      <td>939</td>\n",
       "      <td>35110</td>\n",
       "    </tr>\n",
       "    <tr>\n",
       "      <th>19</th>\n",
       "      <td>95.0</td>\n",
       "      <td>345</td>\n",
       "      <td>45.949802</td>\n",
       "      <td>2</td>\n",
       "      <td>757</td>\n",
       "      <td>34784</td>\n",
       "    </tr>\n",
       "    <tr>\n",
       "      <th>20</th>\n",
       "      <td>100.0</td>\n",
       "      <td>349</td>\n",
       "      <td>76.070218</td>\n",
       "      <td>3</td>\n",
       "      <td>413</td>\n",
       "      <td>31417</td>\n",
       "    </tr>\n",
       "  </tbody>\n",
       "</table>\n",
       "</div>"
      ],
      "text/plain": [
       "    confidence  max       mean  min  rows    sum\n",
       "0          0.0  303  20.125173    2  3619  72833\n",
       "1          5.0  301  18.996223    2  3442  65385\n",
       "2         10.0  307  18.445339    2  3229  59560\n",
       "3         15.0  313  18.199804    2  3063  55746\n",
       "4         20.0  315  18.081922    2  2893  52311\n",
       "5         25.0  319  18.173834    2  2744  49869\n",
       "6         30.0  324  18.539627    2  2574  47721\n",
       "7         35.0  326  18.903534    2  2405  45463\n",
       "8         40.0  328  19.317544    2  2280  44044\n",
       "9         45.0  334  19.841639    2  2147  42600\n",
       "10        50.0  332  20.575561    2  2005  41254\n",
       "11        55.0  328  21.323592    2  1882  40131\n",
       "12        60.0  328  22.248009    2  1758  39112\n",
       "13        65.0  324  23.407498    2  1627  38084\n",
       "14        70.0  323  24.745684    2  1506  37267\n",
       "15        75.0  323  26.415820    2  1378  36401\n",
       "16        80.0  331  28.468998    2  1258  35814\n",
       "17        85.0  337  31.500000    2  1124  35406\n",
       "18        90.0  341  37.390841    2   939  35110\n",
       "19        95.0  345  45.949802    2   757  34784\n",
       "20       100.0  349  76.070218    3   413  31417"
      ]
     },
     "execution_count": 280,
     "metadata": {},
     "output_type": "execute_result"
    }
   ],
   "source": [
    "sF"
   ]
  },
  {
   "cell_type": "code",
   "execution_count": 318,
   "metadata": {
    "ExecuteTime": {
     "end_time": "2017-02-21T11:04:32.309128",
     "start_time": "2017-02-21T11:04:31.970375"
    },
    "collapsed": false
   },
   "outputs": [
    {
     "data": {
      "image/png": "[encoded data removed]",
      "text/plain": [
       "<matplotlib.figure.Figure at 0x7fdafc772be0>"
      ]
     },
     "metadata": {},
     "output_type": "display_data"
    }
   ],
   "source": [
    "fig, ax = plt.subplots()\n",
    "sF.plot.area(x='confidence', y='mean', colormap='summer', ax=ax, legend=False)\n",
    "\n",
    "ax.set_ylabel(\"Average number of fragments\")\n",
    "ax.set_xlabel(\"Confidence in %\")\n",
    "ax.set_ylim((0,100))\n",
    "\n",
    "\n",
    "# Confidence\n",
    "plt.axvline(95, color='0.25', linestyle='dashed', linewidth=1)\n",
    "plt.text(80,10,'95%',rotation=0)\n",
    "\n",
    "fig.set_size_inches(5.91553/2,3)\n",
    "plt.tight_layout()\n",
    "\n",
    "plt.savefig('fragments.pdf')"
   ]
  },
  {
   "cell_type": "code",
   "execution_count": null,
   "metadata": {
    "collapsed": true
   },
   "outputs": [],
   "source": []
  },
  {
   "cell_type": "code",
   "execution_count": null,
   "metadata": {
    "collapsed": true
   },
   "outputs": [],
   "source": []
  },
  {
   "cell_type": "code",
   "execution_count": 60,
   "metadata": {
    "ExecuteTime": {
     "end_time": "2017-02-19T20:33:21.452434",
     "start_time": "2017-02-19T20:24:18.891697"
    },
    "collapsed": false
   },
   "outputs": [],
   "source": [
    "sK1, sK1F = statsK(df3,1)"
   ]
  },
  {
   "cell_type": "code",
   "execution_count": 61,
   "metadata": {
    "ExecuteTime": {
     "end_time": "2017-02-19T20:42:25.006687",
     "start_time": "2017-02-19T20:33:21.455748"
    },
    "collapsed": false
   },
   "outputs": [],
   "source": [
    "sK2, sK2F = statsK(df3,2)"
   ]
  },
  {
   "cell_type": "code",
   "execution_count": 62,
   "metadata": {
    "ExecuteTime": {
     "end_time": "2017-02-19T20:51:29.294940",
     "start_time": "2017-02-19T20:42:25.009776"
    },
    "collapsed": true
   },
   "outputs": [],
   "source": [
    "sK3, sK3F = statsK(df3,3)"
   ]
  },
  {
   "cell_type": "code",
   "execution_count": 63,
   "metadata": {
    "ExecuteTime": {
     "end_time": "2017-02-19T20:51:29.306165",
     "start_time": "2017-02-19T20:51:29.298058"
    },
    "collapsed": false
   },
   "outputs": [],
   "source": [
    "dfall = pd.concat([sK3.confidence, sK3['mean'], sK2['mean'], sK1['mean']], axis=1, keys=['confidence', 'gapsize3', 'gapsize2', 'gapsize1'])"
   ]
  },
  {
   "cell_type": "code",
   "execution_count": 300,
   "metadata": {
    "ExecuteTime": {
     "end_time": "2017-02-21T10:49:20.938530",
     "start_time": "2017-02-21T10:49:20.918868"
    },
    "collapsed": false
   },
   "outputs": [
    {
     "data": {
      "text/html": [
       "<div>\n",
       "<table border=\"1\" class=\"dataframe\">\n",
       "  <thead>\n",
       "    <tr style=\"text-align: right;\">\n",
       "      <th></th>\n",
       "      <th>confidence</th>\n",
       "      <th>gapsize3</th>\n",
       "      <th>gapsize2</th>\n",
       "      <th>gapsize1</th>\n",
       "    </tr>\n",
       "  </thead>\n",
       "  <tbody>\n",
       "    <tr>\n",
       "      <th>0</th>\n",
       "      <td>0.0</td>\n",
       "      <td>0.505665</td>\n",
       "      <td>0.852169</td>\n",
       "      <td>2.166897</td>\n",
       "    </tr>\n",
       "    <tr>\n",
       "      <th>1</th>\n",
       "      <td>2.0</td>\n",
       "      <td>0.497303</td>\n",
       "      <td>0.862333</td>\n",
       "      <td>2.180528</td>\n",
       "    </tr>\n",
       "    <tr>\n",
       "      <th>2</th>\n",
       "      <td>4.0</td>\n",
       "      <td>0.493080</td>\n",
       "      <td>0.863033</td>\n",
       "      <td>2.201557</td>\n",
       "    </tr>\n",
       "    <tr>\n",
       "      <th>3</th>\n",
       "      <td>6.0</td>\n",
       "      <td>0.491551</td>\n",
       "      <td>0.869849</td>\n",
       "      <td>2.237474</td>\n",
       "    </tr>\n",
       "    <tr>\n",
       "      <th>4</th>\n",
       "      <td>8.0</td>\n",
       "      <td>0.498489</td>\n",
       "      <td>0.876058</td>\n",
       "      <td>2.267836</td>\n",
       "    </tr>\n",
       "  </tbody>\n",
       "</table>\n",
       "</div>"
      ],
      "text/plain": [
       "   confidence  gapsize3  gapsize2  gapsize1\n",
       "0         0.0  0.505665  0.852169  2.166897\n",
       "1         2.0  0.497303  0.862333  2.180528\n",
       "2         4.0  0.493080  0.863033  2.201557\n",
       "3         6.0  0.491551  0.869849  2.237474\n",
       "4         8.0  0.498489  0.876058  2.267836"
      ]
     },
     "execution_count": 300,
     "metadata": {},
     "output_type": "execute_result"
    }
   ],
   "source": [
    "dfall.head()"
   ]
  },
  {
   "cell_type": "code",
   "execution_count": 319,
   "metadata": {
    "ExecuteTime": {
     "end_time": "2017-02-21T11:04:43.033825",
     "start_time": "2017-02-21T11:04:42.592421"
    },
    "collapsed": false
   },
   "outputs": [
    {
     "data": {
      "image/png": "[encoded data removed]",
      "text/plain": [
       "<matplotlib.figure.Figure at 0x7fdafada7470>"
      ]
     },
     "metadata": {},
     "output_type": "display_data"
    }
   ],
   "source": [
    "fig, ax = plt.subplots()\n",
    "dfall.plot(x='confidence', y=['gapsize1', 'gapsize2', 'gapsize3'], colormap='summer', stacked=False, kind='area', alpha=0.75, ax=ax,)\n",
    "ax.legend(['1', '2', '3'], loc=\"upper left\", title=\"Gap Length\")\n",
    "ax.set_ylabel(\"Average number of gaps\")\n",
    "ax.set_xlabel(\"Confidence in %\")\n",
    "\n",
    "\n",
    "# Confidence\n",
    "plt.axvline(95, color='0.25', linestyle='dashed', linewidth=1)\n",
    "plt.text(80,5,'95%',rotation=0)\n",
    "\n",
    "fig.set_size_inches(5.91553/2,3)\n",
    "plt.tight_layout()\n",
    "\n",
    "plt.savefig('gaps.pdf')"
   ]
  },
  {
   "cell_type": "code",
   "execution_count": null,
   "metadata": {
    "collapsed": true
   },
   "outputs": [],
   "source": []
  }
 ],
 "metadata": {
  "kernelspec": {
   "display_name": "Python 3",
   "language": "python",
   "name": "python3"
  },
  "language_info": {
   "codemirror_mode": {
    "name": "ipython",
    "version": 3
   },
   "file_extension": ".py",
   "mimetype": "text/x-python",
   "name": "python",
   "nbconvert_exporter": "python",
   "pygments_lexer": "ipython3",
   "version": "3.5.2"
  },
  "toc": {
   "colors": {
    "hover_highlight": "#DAA520",
    "running_highlight": "#FF0000",
    "selected_highlight": "#FFD700"
   },
   "moveMenuLeft": true,
   "nav_menu": {
    "height": "12px",
    "width": "252px"
   },
   "navigate_menu": true,
   "number_sections": true,
   "sideBar": true,
   "threshold": 4,
   "toc_cell": false,
   "toc_section_display": "block",
   "toc_window_display": false
  }
 },
 "nbformat": 4,
 "nbformat_minor": 2
}
