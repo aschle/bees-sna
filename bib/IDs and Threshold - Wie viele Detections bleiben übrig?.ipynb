{
 "cells": [
  {
   "cell_type": "code",
   "execution_count": 1,
   "metadata": {
    "collapsed": true
   },
   "outputs": [],
   "source": [
    "import preprocessing as prep\n",
    "import numpy as np\n",
    "import pandas as pd\n",
    "from pandas import Series, DataFrame"
   ]
  },
  {
   "cell_type": "code",
   "execution_count": 14,
   "metadata": {
    "collapsed": true
   },
   "outputs": [],
   "source": [
    "path_list = [\n",
    "    \"../00_Data/testset_2015_1h/2015082215\",\n",
    "    \"../00_Data/testset_2015_1h/2015092215\",\n",
    "    \"../00_Data/testset_2015_1h/2015102215\"\n",
    "]"
   ]
  },
  {
   "cell_type": "code",
   "execution_count": 15,
   "metadata": {
    "collapsed": false
   },
   "outputs": [
    {
     "name": "stdout",
     "output_type": "stream",
     "text": [
      "\n",
      "### file ../00_Data/testset_2015_1h/2015082215 cam 0\n",
      "../00_Data/testset_2015_1h/2015082215-0 --- 64.44047613706215\n",
      "\n",
      "### file ../00_Data/testset_2015_1h/2015082215 cam 1\n",
      "../00_Data/testset_2015_1h/2015082215-1 --- 71.38745976930485\n",
      "\n",
      "### file ../00_Data/testset_2015_1h/2015082215 cam 2\n",
      "../00_Data/testset_2015_1h/2015082215-2 --- 73.14034565942963\n",
      "\n",
      "### file ../00_Data/testset_2015_1h/2015082215 cam 3\n",
      "../00_Data/testset_2015_1h/2015082215-3 --- 69.00570295065708\n",
      "Total ../00_Data/testset_2015_1h/2015082215 --- 67.83326444521525\n",
      "\n",
      "### file ../00_Data/testset_2015_1h/2015092215 cam 0\n",
      "../00_Data/testset_2015_1h/2015092215-0 --- 74.92445101067759\n",
      "\n",
      "### file ../00_Data/testset_2015_1h/2015092215 cam 1\n",
      "../00_Data/testset_2015_1h/2015092215-1 --- 67.40569094515249\n",
      "\n",
      "### file ../00_Data/testset_2015_1h/2015092215 cam 2\n",
      "../00_Data/testset_2015_1h/2015092215-2 --- 54.09965972125111\n",
      "\n",
      "### file ../00_Data/testset_2015_1h/2015092215 cam 3\n",
      "../00_Data/testset_2015_1h/2015092215-3 --- 77.10163427784403\n",
      "Total ../00_Data/testset_2015_1h/2015092215 --- 69.13385747251805\n",
      "\n",
      "### file ../00_Data/testset_2015_1h/2015102215 cam 0\n",
      "../00_Data/testset_2015_1h/2015102215-0 --- 73.96305332868596\n",
      "\n",
      "### file ../00_Data/testset_2015_1h/2015102215 cam 1\n",
      "../00_Data/testset_2015_1h/2015102215-1 --- 61.779441405125255\n",
      "\n",
      "### file ../00_Data/testset_2015_1h/2015102215 cam 2\n",
      "../00_Data/testset_2015_1h/2015102215-2 --- 64.05435080977216\n",
      "\n",
      "### file ../00_Data/testset_2015_1h/2015102215 cam 3\n",
      "../00_Data/testset_2015_1h/2015102215-3 --- 53.53784146887595\n",
      "Total ../00_Data/testset_2015_1h/2015102215 --- 65.86950421963697\n"
     ]
    }
   ],
   "source": [
    "for p in path_list:\n",
    "\n",
    "    num_det_total = 0\n",
    "    num_det_id_total = 0\n",
    "\n",
    "    for i in list(range(4)):\n",
    "        fc = prep.get_fc(p, i)\n",
    "        df = prep.get_dataframe(fc)\n",
    "        num_det = df.shape[0]\n",
    "        df2 = prep.calcIds(df, 0.9)\n",
    "        num_det_id = df2.shape[0]\n",
    "        print(\"{}-{} --- {}\".format(p,i,100*num_det_id/num_det))\n",
    "        num_det_total = num_det_total + num_det\n",
    "        num_det_id_total = num_det_id_total + num_det_id\n",
    "    \n",
    "    print(\"Total {} --- {}\".format(p,100*num_det_id_total/num_det_total))"
   ]
  },
  {
   "cell_type": "code",
   "execution_count": null,
   "metadata": {
    "collapsed": true
   },
   "outputs": [],
   "source": []
  }
 ],
 "metadata": {
  "anaconda-cloud": {},
  "kernelspec": {
   "display_name": "Python [default]",
   "language": "python",
   "name": "python3"
  },
  "language_info": {
   "codemirror_mode": {
    "name": "ipython",
    "version": 3
   },
   "file_extension": ".py",
   "mimetype": "text/x-python",
   "name": "python",
   "nbconvert_exporter": "python",
   "pygments_lexer": "ipython3",
   "version": "3.5.2"
  }
 },
 "nbformat": 4,
 "nbformat_minor": 1
}
