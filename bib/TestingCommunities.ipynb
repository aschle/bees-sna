{
 "cells": [
  {
   "cell_type": "code",
   "execution_count": 11,
   "metadata": {
    "ExecuteTime": {
     "end_time": "2017-03-08T01:13:51.008274",
     "start_time": "2017-03-08T01:13:46.149168"
    },
    "collapsed": false
   },
   "outputs": [],
   "source": [
    "import numpy as np\n",
    "import pandas as pd\n",
    "import os\n",
    "import datetime\n",
    "import pytz\n",
    "import matplotlib.pyplot as plt\n",
    "from collections import Counter\n",
    "from pandas import Series, DataFrame\n",
    "import seaborn as sns\n",
    "\n",
    "import hatching as ht\n",
    "from scipy import stats\n",
    "\n",
    "import igraph as ig\n",
    "import networkx as nx\n",
    "import graph_tool as gt"
   ]
  },
  {
   "cell_type": "code",
   "execution_count": null,
   "metadata": {
    "ExecuteTime": {
     "end_time": "2017-03-08T00:32:14.524034",
     "start_time": "2017-03-08T00:31:55.792817"
    },
    "collapsed": true
   },
   "outputs": [],
   "source": [
    "f = 'TT1_10h_95conf_212dist_3ilen_2gap_600minutes_2016-08-14 08:00:00+00:00.graphml'\n",
    "f = 'TT2_10h_95conf_212dist_3ilen_2gap_600minutes_2016-08-17 08:00:00+00:00.graphml'\n",
    "nxg = nx.read_graphml(f)"
   ]
  },
  {
   "cell_type": "code",
   "execution_count": null,
   "metadata": {
    "ExecuteTime": {
     "end_time": "2017-03-08T00:32:20.144931",
     "start_time": "2017-03-08T00:32:20.135951"
    },
    "collapsed": false
   },
   "outputs": [],
   "source": [
    "print(nx.info(nxg))"
   ]
  },
  {
   "cell_type": "code",
   "execution_count": null,
   "metadata": {
    "ExecuteTime": {
     "end_time": "2017-03-08T00:37:33.661926",
     "start_time": "2017-03-08T00:37:30.791017"
    },
    "collapsed": true
   },
   "outputs": [],
   "source": [
    "igg = ig.Graph.Read_GraphML(f)"
   ]
  },
  {
   "cell_type": "code",
   "execution_count": null,
   "metadata": {
    "ExecuteTime": {
     "end_time": "2017-03-08T00:37:34.508315",
     "start_time": "2017-03-08T00:37:34.501452"
    },
    "collapsed": false
   },
   "outputs": [],
   "source": [
    "igg.summary()"
   ]
  },
  {
   "cell_type": "code",
   "execution_count": null,
   "metadata": {
    "ExecuteTime": {
     "end_time": "2017-03-07T23:48:23.030100",
     "start_time": "2017-03-07T23:48:18.151866"
    },
    "collapsed": false
   },
   "outputs": [],
   "source": [
    "gtg = gt.load_graph(f)"
   ]
  },
  {
   "cell_type": "code",
   "execution_count": null,
   "metadata": {
    "ExecuteTime": {
     "end_time": "2017-03-07T23:48:23.040616",
     "start_time": "2017-03-07T23:48:23.034131"
    },
    "collapsed": false
   },
   "outputs": [],
   "source": [
    "gtg"
   ]
  },
  {
   "cell_type": "markdown",
   "metadata": {},
   "source": [
    "# iGraph Algos"
   ]
  },
  {
   "cell_type": "markdown",
   "metadata": {},
   "source": [
    "## :) Fastgreedy"
   ]
  },
  {
   "cell_type": "code",
   "execution_count": null,
   "metadata": {
    "ExecuteTime": {
     "end_time": "2017-03-07T16:53:47.454490",
     "start_time": "2017-03-07T16:53:47.153092"
    },
    "collapsed": false
   },
   "outputs": [],
   "source": [
    "fg = igg.community_fastgreedy(weights=\"frequency\")"
   ]
  },
  {
   "cell_type": "code",
   "execution_count": null,
   "metadata": {
    "ExecuteTime": {
     "end_time": "2017-03-07T16:53:48.310884",
     "start_time": "2017-03-07T16:53:48.301812"
    },
    "collapsed": false
   },
   "outputs": [],
   "source": [
    "vc = fg.as_clustering(fg.optimal_count)\n",
    "print(vc.summary())"
   ]
  },
  {
   "cell_type": "code",
   "execution_count": null,
   "metadata": {
    "ExecuteTime": {
     "end_time": "2017-03-07T16:53:50.060437",
     "start_time": "2017-03-07T16:53:50.041470"
    },
    "collapsed": false
   },
   "outputs": [],
   "source": [
    "ids = []\n",
    "membership = vc.membership\n",
    "for name, membership in zip(igg.vs, membership):\n",
    "    ids.append((int(name['id']), membership))\n",
    "\n",
    "ids = DataFrame(ids, columns=[\"id\", \"community\"])\n",
    "ids.groupby(by=\"community\").size()"
   ]
  },
  {
   "cell_type": "markdown",
   "metadata": {},
   "source": [
    "## Infomap"
   ]
  },
  {
   "cell_type": "code",
   "execution_count": null,
   "metadata": {
    "ExecuteTime": {
     "end_time": "2017-03-07T11:33:40.683576",
     "start_time": "2017-03-07T11:33:15.066043"
    },
    "collapsed": true
   },
   "outputs": [],
   "source": [
    "im = igg.community_infomap(edge_weights=\"frequency\")"
   ]
  },
  {
   "cell_type": "code",
   "execution_count": null,
   "metadata": {
    "ExecuteTime": {
     "end_time": "2017-03-07T11:34:24.087894",
     "start_time": "2017-03-07T11:34:24.079386"
    },
    "collapsed": false
   },
   "outputs": [],
   "source": [
    "im.summary()"
   ]
  },
  {
   "cell_type": "markdown",
   "metadata": {},
   "source": [
    "## :) leading_eigenvector"
   ]
  },
  {
   "cell_type": "code",
   "execution_count": null,
   "metadata": {
    "ExecuteTime": {
     "end_time": "2017-03-07T16:54:53.163393",
     "start_time": "2017-03-07T16:54:51.030870"
    },
    "collapsed": false
   },
   "outputs": [],
   "source": [
    "lev = igg.community_leading_eigenvector(weights=\"frequency\")"
   ]
  },
  {
   "cell_type": "code",
   "execution_count": null,
   "metadata": {
    "ExecuteTime": {
     "end_time": "2017-03-07T16:54:53.902600",
     "start_time": "2017-03-07T16:54:53.894300"
    },
    "collapsed": false
   },
   "outputs": [],
   "source": [
    "lev.summary()"
   ]
  },
  {
   "cell_type": "code",
   "execution_count": null,
   "metadata": {
    "ExecuteTime": {
     "end_time": "2017-03-07T16:54:58.751656",
     "start_time": "2017-03-07T16:54:58.739733"
    },
    "collapsed": true
   },
   "outputs": [],
   "source": [
    "def getMembershipDF(stuff, g):\n",
    "    ids = []\n",
    "    membership = stuff.membership\n",
    "    for name, membership in zip(g.vs, membership):\n",
    "        ids.append((int(name['id']), membership))\n",
    "\n",
    "    ids = DataFrame(ids, columns=[\"id\", \"community\"])\n",
    "    print(ids.groupby(by=\"community\").size())\n",
    "    print(ids.groupby(by=\"community\").size().sum())"
   ]
  },
  {
   "cell_type": "code",
   "execution_count": null,
   "metadata": {
    "ExecuteTime": {
     "end_time": "2017-03-07T16:54:59.513146",
     "start_time": "2017-03-07T16:54:59.498830"
    },
    "collapsed": false
   },
   "outputs": [],
   "source": [
    "getMembershipDF(lev, igg)"
   ]
  },
  {
   "cell_type": "markdown",
   "metadata": {},
   "source": [
    "## Label Propagation"
   ]
  },
  {
   "cell_type": "code",
   "execution_count": null,
   "metadata": {
    "ExecuteTime": {
     "end_time": "2017-03-07T11:41:07.320946",
     "start_time": "2017-03-07T11:41:07.001699"
    },
    "collapsed": true
   },
   "outputs": [],
   "source": [
    "lpg = igg.community_label_propagation(weights=\"frequency\")"
   ]
  },
  {
   "cell_type": "code",
   "execution_count": null,
   "metadata": {
    "ExecuteTime": {
     "end_time": "2017-03-07T11:41:13.396954",
     "start_time": "2017-03-07T11:41:13.387822"
    },
    "collapsed": false
   },
   "outputs": [],
   "source": [
    "lpg.summary()"
   ]
  },
  {
   "cell_type": "markdown",
   "metadata": {},
   "source": [
    "## :) Multilevel"
   ]
  },
  {
   "cell_type": "code",
   "execution_count": null,
   "metadata": {
    "ExecuteTime": {
     "end_time": "2017-03-07T16:58:39.596446",
     "start_time": "2017-03-07T16:58:39.349898"
    },
    "collapsed": false
   },
   "outputs": [],
   "source": [
    "ml = igg.community_multilevel(weights=\"frequency\")"
   ]
  },
  {
   "cell_type": "code",
   "execution_count": null,
   "metadata": {
    "ExecuteTime": {
     "end_time": "2017-03-07T16:58:40.356216",
     "start_time": "2017-03-07T16:58:40.348355"
    },
    "collapsed": false
   },
   "outputs": [],
   "source": [
    "ml.summary()"
   ]
  },
  {
   "cell_type": "code",
   "execution_count": null,
   "metadata": {
    "ExecuteTime": {
     "end_time": "2017-03-07T16:58:41.348632",
     "start_time": "2017-03-07T16:58:41.332054"
    },
    "collapsed": false
   },
   "outputs": [],
   "source": [
    "getMembershipDF(ml, igg)"
   ]
  },
  {
   "cell_type": "markdown",
   "metadata": {},
   "source": [
    "## Spinglass"
   ]
  },
  {
   "cell_type": "code",
   "execution_count": null,
   "metadata": {
    "ExecuteTime": {
     "start_time": "2017-03-07T11:46:30.392Z"
    },
    "collapsed": true
   },
   "outputs": [],
   "source": [
    "#sg = igg.community_spinglass(weights=\"frequency\")"
   ]
  },
  {
   "cell_type": "code",
   "execution_count": null,
   "metadata": {
    "ExecuteTime": {
     "start_time": "2017-03-07T11:46:39.550Z"
    },
    "collapsed": true
   },
   "outputs": [],
   "source": [
    "#sg.summary()"
   ]
  },
  {
   "cell_type": "code",
   "execution_count": null,
   "metadata": {
    "ExecuteTime": {
     "start_time": "2017-03-07T11:46:46.846Z"
    },
    "collapsed": true
   },
   "outputs": [],
   "source": [
    "#getMembershipDF(sg, igg)"
   ]
  },
  {
   "cell_type": "markdown",
   "metadata": {},
   "source": [
    "## :) Walktrap"
   ]
  },
  {
   "cell_type": "code",
   "execution_count": null,
   "metadata": {
    "ExecuteTime": {
     "end_time": "2017-03-07T16:57:46.733648",
     "start_time": "2017-03-07T16:57:35.630582"
    },
    "collapsed": false
   },
   "outputs": [],
   "source": [
    "wt = igg.community_walktrap(weights=\"frequency\", 0)"
   ]
  },
  {
   "cell_type": "code",
   "execution_count": null,
   "metadata": {
    "ExecuteTime": {
     "end_time": "2017-03-07T16:57:46.874744",
     "start_time": "2017-03-07T16:57:46.738248"
    },
    "collapsed": false
   },
   "outputs": [],
   "source": [
    "wtvc = wt.as_clustering(wt.optimal_count)\n",
    "print(wtvc.summary())"
   ]
  },
  {
   "cell_type": "code",
   "execution_count": null,
   "metadata": {
    "ExecuteTime": {
     "end_time": "2017-03-07T16:57:46.945041",
     "start_time": "2017-03-07T16:57:46.878256"
    },
    "collapsed": true
   },
   "outputs": [],
   "source": [
    "ids = []\n",
    "membership = wtvc.membership\n",
    "for name, membership in zip(igg.vs, membership):\n",
    "    ids.append((int(name['id']), membership))\n",
    "\n",
    "ids = DataFrame(ids, columns=[\"id\", \"community\"])\n",
    "ids.groupby(by=\"community\").size()"
   ]
  },
  {
   "cell_type": "markdown",
   "metadata": {},
   "source": [
    "# Graph-tools"
   ]
  },
  {
   "cell_type": "code",
   "execution_count": null,
   "metadata": {
    "ExecuteTime": {
     "end_time": "2017-03-07T15:03:45.670295",
     "start_time": "2017-03-07T15:03:45.632373"
    },
    "collapsed": false
   },
   "outputs": [],
   "source": [
    "gtg"
   ]
  },
  {
   "cell_type": "code",
   "execution_count": null,
   "metadata": {
    "ExecuteTime": {
     "end_time": "2017-03-07T15:18:35.767883",
     "start_time": "2017-03-07T15:18:34.116370"
    },
    "collapsed": false
   },
   "outputs": [],
   "source": [
    "from graph_tool.all import *"
   ]
  },
  {
   "cell_type": "code",
   "execution_count": null,
   "metadata": {
    "collapsed": true
   },
   "outputs": [],
   "source": [
    "gt.inference.minimize_blockmodel_dl()"
   ]
  },
  {
   "cell_type": "markdown",
   "metadata": {},
   "source": [
    "# networkX - community package"
   ]
  },
  {
   "cell_type": "code",
   "execution_count": null,
   "metadata": {
    "ExecuteTime": {
     "end_time": "2017-03-07T16:59:16.174537",
     "start_time": "2017-03-07T16:59:16.141309"
    },
    "collapsed": true
   },
   "outputs": [],
   "source": [
    "import pythonlouvain.community.community_louvain as community"
   ]
  },
  {
   "cell_type": "code",
   "execution_count": null,
   "metadata": {
    "ExecuteTime": {
     "end_time": "2017-03-07T16:59:19.929593",
     "start_time": "2017-03-07T16:59:16.650431"
    },
    "collapsed": false
   },
   "outputs": [],
   "source": [
    "partition = community.best_partition(nxg, weight=\"frequency\")"
   ]
  },
  {
   "cell_type": "code",
   "execution_count": null,
   "metadata": {
    "ExecuteTime": {
     "end_time": "2017-03-07T16:59:19.939592",
     "start_time": "2017-03-07T16:59:19.932716"
    },
    "collapsed": false
   },
   "outputs": [],
   "source": [
    "df = DataFrame(list(zip(list(partition.keys()),list(partition.values()))), columns=[\"id\", \"comm\"])"
   ]
  },
  {
   "cell_type": "code",
   "execution_count": null,
   "metadata": {
    "ExecuteTime": {
     "end_time": "2017-03-07T16:59:20.043354",
     "start_time": "2017-03-07T16:59:19.943321"
    },
    "collapsed": false
   },
   "outputs": [],
   "source": [
    "df.groupby(by=\"comm\").size()"
   ]
  },
  {
   "cell_type": "markdown",
   "metadata": {
    "collapsed": true
   },
   "source": [
    "# Compare Comunity Outcome"
   ]
  },
  {
   "cell_type": "code",
   "execution_count": 1,
   "metadata": {
    "ExecuteTime": {
     "end_time": "2017-03-08T01:12:21.921212",
     "start_time": "2017-03-08T01:12:21.913252"
    },
    "collapsed": true
   },
   "outputs": [],
   "source": [
    "def addAge(df, date_dt):\n",
    "    aa = ht.get_all_bees_age(date_dt)\n",
    "    df[\"age\"] = df.id.apply(lambda x: aa.iloc[x].age)\n",
    "    return df"
   ]
  },
  {
   "cell_type": "code",
   "execution_count": 42,
   "metadata": {
    "ExecuteTime": {
     "end_time": "2017-03-08T06:24:58.460191",
     "start_time": "2017-03-08T06:24:58.429578"
    },
    "collapsed": true
   },
   "outputs": [],
   "source": [
    "def compareCommunities(g, datestr):\n",
    "    fg = g.community_fastgreedy(weights=\"frequency\")\n",
    "    fgvc = fg.as_clustering(fg.optimal_count)\n",
    "\n",
    "    ids = []\n",
    "    membership = fgvc.membership\n",
    "    for name, membership in zip(g.vs, membership):\n",
    "        ids.append((int(name['id']), membership))\n",
    "\n",
    "    ids = DataFrame(ids, columns=[\"id\", \"community-fg\"])\n",
    "    \n",
    "    lev = g.community_leading_eigenvector(weights=\"frequency\")\n",
    "    ids['community-le'] = lev.membership\n",
    "    \n",
    "    ml = g.community_multilevel(weights=\"frequency\")\n",
    "    ids['community-ml'] = ml.membership\n",
    "    \n",
    "    wt = g.community_walktrap(weights=\"frequency\", steps=3)\n",
    "    wtvc = wt.as_clustering(wt.optimal_count)\n",
    "    ids['community-wt'] = wtvc.membership\n",
    "    \n",
    "    start_dt = datetime.datetime.strptime(datestr, \"%Y-%m-%d\").replace(tzinfo=pytz.UTC)\n",
    "    ids = addAge(ids, start_dt)\n",
    "\n",
    "    return ids"
   ]
  },
  {
   "cell_type": "code",
   "execution_count": null,
   "metadata": {
    "ExecuteTime": {
     "end_time": "2017-03-08T00:39:53.099591",
     "start_time": "2017-03-08T00:37:43.355298"
    },
    "collapsed": false
   },
   "outputs": [],
   "source": [
    "dfc = compareCommunities(igg)"
   ]
  },
  {
   "cell_type": "code",
   "execution_count": null,
   "metadata": {
    "ExecuteTime": {
     "end_time": "2017-03-08T00:39:53.263224",
     "start_time": "2017-03-08T00:39:53.111003"
    },
    "collapsed": true
   },
   "outputs": [],
   "source": [
    "start = \"2016-08-14\"\n",
    "start_dt = datetime.datetime.strptime(start, \"%Y-%m-%d\").replace(tzinfo=pytz.UTC)"
   ]
  },
  {
   "cell_type": "code",
   "execution_count": null,
   "metadata": {
    "ExecuteTime": {
     "end_time": "2017-03-08T00:39:53.906418",
     "start_time": "2017-03-08T00:39:53.266540"
    },
    "collapsed": true
   },
   "outputs": [],
   "source": [
    "dfc = addAge(dfc, start_dt)"
   ]
  },
  {
   "cell_type": "code",
   "execution_count": null,
   "metadata": {
    "ExecuteTime": {
     "end_time": "2017-03-08T00:39:53.927673",
     "start_time": "2017-03-08T00:39:53.910007"
    },
    "collapsed": false
   },
   "outputs": [],
   "source": [
    "dfc.head()"
   ]
  },
  {
   "cell_type": "code",
   "execution_count": 23,
   "metadata": {
    "ExecuteTime": {
     "end_time": "2017-03-08T01:23:05.802647",
     "start_time": "2017-03-08T01:23:05.796095"
    },
    "collapsed": true
   },
   "outputs": [],
   "source": [
    "def commSize(df, col):\n",
    "    print(df.groupby(by=col).size())"
   ]
  },
  {
   "cell_type": "code",
   "execution_count": 24,
   "metadata": {
    "ExecuteTime": {
     "end_time": "2017-03-08T01:23:06.316759",
     "start_time": "2017-03-08T01:23:06.310584"
    },
    "collapsed": true
   },
   "outputs": [],
   "source": [
    "def commMeanAge(df, col):\n",
    "    print(df.groupby(by=col).age.mean())"
   ]
  },
  {
   "cell_type": "markdown",
   "metadata": {},
   "source": [
    "## Size and Number"
   ]
  },
  {
   "cell_type": "code",
   "execution_count": null,
   "metadata": {
    "ExecuteTime": {
     "end_time": "2017-03-08T00:39:54.193837",
     "start_time": "2017-03-08T00:39:54.131150"
    },
    "collapsed": true
   },
   "outputs": [],
   "source": [
    "commSize(df, 'community-fg'), commSize(df, 'community-le'), commSize(df, 'community-ml'),commSize(df, 'community-wt')"
   ]
  },
  {
   "cell_type": "markdown",
   "metadata": {},
   "source": [
    "## Mean Age"
   ]
  },
  {
   "cell_type": "code",
   "execution_count": null,
   "metadata": {
    "ExecuteTime": {
     "end_time": "2017-03-08T00:39:54.244032",
     "start_time": "2017-03-08T00:39:54.196232"
    },
    "collapsed": true
   },
   "outputs": [],
   "source": [
    "commMeanAge(df, 'community-fg'), commMeanAge(df, 'community-le'), commMeanAge(df, 'community-ml'),commMeanAge(df, 'community-wt')"
   ]
  },
  {
   "cell_type": "markdown",
   "metadata": {},
   "source": [
    "## Look at IDs"
   ]
  },
  {
   "cell_type": "code",
   "execution_count": 26,
   "metadata": {
    "ExecuteTime": {
     "end_time": "2017-03-08T01:25:19.989136",
     "start_time": "2017-03-08T01:25:19.981887"
    },
    "collapsed": true
   },
   "outputs": [],
   "source": [
    "def getIdList(df, col):\n",
    "    return df.groupby(by=col).id.apply(set)"
   ]
  },
  {
   "cell_type": "code",
   "execution_count": null,
   "metadata": {
    "ExecuteTime": {
     "end_time": "2017-03-08T00:39:54.402761",
     "start_time": "2017-03-08T00:39:54.343075"
    },
    "collapsed": false
   },
   "outputs": [],
   "source": [
    "getIdList(dfc, 'community-fg')"
   ]
  },
  {
   "cell_type": "code",
   "execution_count": 6,
   "metadata": {
    "ExecuteTime": {
     "end_time": "2017-03-08T01:13:24.256156",
     "start_time": "2017-03-08T01:13:24.247722"
    },
    "collapsed": true
   },
   "outputs": [],
   "source": [
    "def overlap1(s0, s1):\n",
    "    x = len(set(s0).intersection(s1))\n",
    "    y = len(set(s0).union(s1))\n",
    "    return x/y"
   ]
  },
  {
   "cell_type": "code",
   "execution_count": 7,
   "metadata": {
    "ExecuteTime": {
     "end_time": "2017-03-08T01:13:25.863046",
     "start_time": "2017-03-08T01:13:25.850860"
    },
    "collapsed": true
   },
   "outputs": [],
   "source": [
    "def getMappingScore(df, col1, col2):\n",
    "    id1 = getIdList(df, col1)\n",
    "    id2 = getIdList(df, col2)\n",
    "    \n",
    "    print(col1, commSize(df, col1), col2, commSize(df,col2))\n",
    "    \n",
    "    for e1, i in enumerate(id1):\n",
    "        for e2, j in enumerate(id2):\n",
    "            print(e1, col1, e2, col2, overlap1(i,j))\n",
    "        print('\\n')"
   ]
  },
  {
   "cell_type": "code",
   "execution_count": null,
   "metadata": {
    "ExecuteTime": {
     "end_time": "2017-03-08T00:51:48.317285",
     "start_time": "2017-03-08T00:51:48.288984"
    },
    "collapsed": true
   },
   "outputs": [],
   "source": [
    "getMappingScore(dfc, 'community-fg', 'community-le')"
   ]
  },
  {
   "cell_type": "code",
   "execution_count": null,
   "metadata": {
    "ExecuteTime": {
     "end_time": "2017-03-08T00:51:53.265407",
     "start_time": "2017-03-08T00:51:53.241109"
    },
    "collapsed": true
   },
   "outputs": [],
   "source": [
    "getMappingScore(dfc, 'community-le', 'community-ml')"
   ]
  },
  {
   "cell_type": "code",
   "execution_count": null,
   "metadata": {
    "ExecuteTime": {
     "end_time": "2017-03-08T00:51:55.946561",
     "start_time": "2017-03-08T00:51:55.915269"
    },
    "collapsed": true
   },
   "outputs": [],
   "source": [
    "getMappingScore(dfc, 'community-le', 'community-wt')"
   ]
  },
  {
   "cell_type": "code",
   "execution_count": null,
   "metadata": {
    "ExecuteTime": {
     "end_time": "2017-03-08T00:52:00.297991",
     "start_time": "2017-03-08T00:52:00.270091"
    },
    "collapsed": true
   },
   "outputs": [],
   "source": [
    "getMappingScore(dfc, 'community-ml', 'community-wt')"
   ]
  },
  {
   "cell_type": "code",
   "execution_count": 28,
   "metadata": {
    "ExecuteTime": {
     "end_time": "2017-03-08T01:25:55.306549",
     "start_time": "2017-03-08T01:25:55.291620"
    },
    "collapsed": true
   },
   "outputs": [],
   "source": [
    "def alles(df):\n",
    "    print(commSize(df, 'community-fg'), commSize(df, 'community-le'), commSize(df, 'community-ml'),commSize(df, 'community-wt'))\n",
    "    print(commMeanAge(df, 'community-fg'), commMeanAge(df, 'community-le'), commMeanAge(df, 'community-ml'),commMeanAge(df, 'community-wt'))\n",
    "    print(getMappingScore(df, 'community-fg', 'community-le'))\n",
    "    print(getMappingScore(df, 'community-fg', 'community-ml'))\n",
    "    print(getMappingScore(df, 'community-fg', 'community-wt'))\n",
    "    print(getMappingScore(df, 'community-le', 'community-ml'))\n",
    "    print(getMappingScore(df, 'community-le', 'community-wt'))\n",
    "    print(getMappingScore(df, 'community-ml', 'community-wt'))"
   ]
  },
  {
   "cell_type": "code",
   "execution_count": null,
   "metadata": {
    "ExecuteTime": {
     "end_time": "2017-03-08T00:52:03.420704",
     "start_time": "2017-03-08T00:52:03.254657"
    },
    "collapsed": false,
    "scrolled": false
   },
   "outputs": [],
   "source": [
    "alles(dfc)"
   ]
  },
  {
   "cell_type": "markdown",
   "metadata": {},
   "source": [
    "# Alle Testen Stat"
   ]
  },
  {
   "cell_type": "code",
   "execution_count": 9,
   "metadata": {
    "ExecuteTime": {
     "end_time": "2017-03-08T01:13:40.441789",
     "start_time": "2017-03-08T01:13:40.435077"
    },
    "collapsed": true
   },
   "outputs": [],
   "source": [
    "f1 = 'TT1_10h_95conf_212dist_3ilen_2gap_600minutes_2016-08-14 08:00:00+00:00.graphml'\n",
    "f2 = 'TT2_10h_95conf_212dist_3ilen_2gap_600minutes_2016-08-17 08:00:00+00:00.graphml'\n",
    "f3 = 'TT3_10h_95conf_212dist_3ilen_2gap_600minutes_2016-08-20 08:00:00+00:00.graphml'\n",
    "f4 = 'TT4_10h_95conf_212dist_3ilen_2gap_600minutes_2016-09-02 08:00:00+00:00.graphml'"
   ]
  },
  {
   "cell_type": "code",
   "execution_count": 12,
   "metadata": {
    "ExecuteTime": {
     "end_time": "2017-03-08T01:13:58.488532",
     "start_time": "2017-03-08T01:13:51.012321"
    },
    "collapsed": false
   },
   "outputs": [],
   "source": [
    "g1 = ig.Graph.Read_GraphML(f1)\n",
    "g2 = ig.Graph.Read_GraphML(f2)\n",
    "g3 = ig.Graph.Read_GraphML(f3)\n",
    "g4 = ig.Graph.Read_GraphML(f4)"
   ]
  },
  {
   "cell_type": "code",
   "execution_count": 63,
   "metadata": {
    "ExecuteTime": {
     "end_time": "2017-03-08T13:22:39.301570",
     "start_time": "2017-03-08T13:20:02.763368"
    },
    "collapsed": false
   },
   "outputs": [
    {
     "name": "stdout",
     "output_type": "stream",
     "text": [
      "Name: \n",
      "Type: Graph\n",
      "Number of nodes: 1193\n",
      "Number of edges: 406023\n",
      "Average degree: 680.6756\n",
      "anzahl removed edges 87667\n",
      "Name: \n",
      "Type: Graph\n",
      "Number of nodes: 1193\n",
      "Number of edges: 318356\n",
      "Average degree: 533.7066\n",
      "Number of components: 3\n",
      "Counter({1: 2, 1191: 1})\n",
      "Name: \n",
      "Type: Graph\n",
      "Number of nodes: 1095\n",
      "Number of edges: 381548\n",
      "Average degree: 696.8913\n",
      "anzahl removed edges 72518\n",
      "Name: \n",
      "Type: Graph\n",
      "Number of nodes: 1095\n",
      "Number of edges: 309030\n",
      "Average degree: 564.4384\n",
      "Number of components: 1\n",
      "Counter({1095: 1})\n",
      "Name: \n",
      "Type: Graph\n",
      "Number of nodes: 922\n",
      "Number of edges: 291179\n",
      "Average degree: 631.6247\n",
      "anzahl removed edges 48326\n",
      "Name: \n",
      "Type: Graph\n",
      "Number of nodes: 922\n",
      "Number of edges: 242853\n",
      "Average degree: 526.7961\n",
      "Number of components: 2\n",
      "Counter({921: 1, 1: 1})\n",
      "Name: \n",
      "Type: Graph\n",
      "Number of nodes: 379\n",
      "Number of edges: 43922\n",
      "Average degree: 231.7784\n",
      "anzahl removed edges 6368\n",
      "Name: \n",
      "Type: Graph\n",
      "Number of nodes: 379\n",
      "Number of edges: 37554\n",
      "Average degree: 198.1741\n",
      "Number of components: 2\n",
      "Counter({1: 1, 378: 1})\n"
     ]
    }
   ],
   "source": [
    "g1 = thresholdedGraph(f1, 1)\n",
    "g2 = thresholdedGraph(f2, 1)\n",
    "g3 = thresholdedGraph(f3, 1)\n",
    "g4 = thresholdedGraph(f4, 1)"
   ]
  },
  {
   "cell_type": "code",
   "execution_count": 65,
   "metadata": {
    "ExecuteTime": {
     "end_time": "2017-03-08T13:26:28.602780",
     "start_time": "2017-03-08T13:26:28.582573"
    },
    "collapsed": false
   },
   "outputs": [
    {
     "data": {
      "text/plain": [
       "('IGRAPH U--- 1191 318356 -- \\n+ attr: id (v), frequency (e), totalduration (e)',\n",
       " 'IGRAPH U--- 1095 309030 -- \\n+ attr: id (v), frequency (e), totalduration (e)',\n",
       " 'IGRAPH U--- 921 242853 -- \\n+ attr: id (v), frequency (e), totalduration (e)',\n",
       " 'IGRAPH U--- 378 37554 -- \\n+ attr: id (v), frequency (e), totalduration (e)')"
      ]
     },
     "execution_count": 65,
     "metadata": {},
     "output_type": "execute_result"
    }
   ],
   "source": [
    "g1.summary(), g2.summary(), g3.summary(), g4.summary()"
   ]
  },
  {
   "cell_type": "code",
   "execution_count": 66,
   "metadata": {
    "ExecuteTime": {
     "end_time": "2017-03-08T13:27:41.744673",
     "start_time": "2017-03-08T13:26:34.433951"
    },
    "collapsed": true
   },
   "outputs": [],
   "source": [
    "t1 = compareCommunities(g1, \"2016-08-14\")"
   ]
  },
  {
   "cell_type": "code",
   "execution_count": 67,
   "metadata": {
    "ExecuteTime": {
     "end_time": "2017-03-08T13:28:25.662248",
     "start_time": "2017-03-08T13:27:41.749091"
    },
    "collapsed": true
   },
   "outputs": [],
   "source": [
    "t2 = compareCommunities(g2, \"2016-08-17\")"
   ]
  },
  {
   "cell_type": "code",
   "execution_count": 68,
   "metadata": {
    "ExecuteTime": {
     "end_time": "2017-03-08T13:28:56.677242",
     "start_time": "2017-03-08T13:28:25.667809"
    },
    "collapsed": true
   },
   "outputs": [],
   "source": [
    "t3 = compareCommunities(g3, \"2016-08-20\")"
   ]
  },
  {
   "cell_type": "code",
   "execution_count": 69,
   "metadata": {
    "ExecuteTime": {
     "end_time": "2017-03-08T13:28:59.232971",
     "start_time": "2017-03-08T13:28:56.681902"
    },
    "collapsed": true
   },
   "outputs": [],
   "source": [
    "t4 = compareCommunities(g4, \"2016-09-02\")"
   ]
  },
  {
   "cell_type": "code",
   "execution_count": 74,
   "metadata": {
    "ExecuteTime": {
     "end_time": "2017-03-08T13:37:06.868431",
     "start_time": "2017-03-08T13:37:05.984136"
    },
    "collapsed": true
   },
   "outputs": [
    {
     "name": "stdout",
     "output_type": "stream",
     "text": [
      "community-fg\n",
      "0    830\n",
      "1    361\n",
      "dtype: int64\n",
      "community-le\n",
      "0    335\n",
      "1    355\n",
      "2    501\n",
      "dtype: int64\n",
      "community-ml\n",
      "0    539\n",
      "1    339\n",
      "2    313\n",
      "dtype: int64\n",
      "community-wt\n",
      "0    506\n",
      "1    439\n",
      "2    246\n",
      "dtype: int64\n",
      "None None None None\n",
      "community-fg\n",
      "0    21.543373\n",
      "1     8.526316\n",
      "Name: age, dtype: float64\n",
      "community-le\n",
      "0    17.668657\n",
      "1     8.211268\n",
      "2    24.201597\n",
      "Name: age, dtype: float64\n",
      "community-ml\n",
      "0    23.975881\n",
      "1    17.466077\n",
      "2     6.757188\n",
      "Name: age, dtype: float64\n",
      "community-wt\n",
      "0    17.069170\n",
      "1    24.920273\n",
      "2     5.617886\n",
      "Name: age, dtype: float64\n",
      "None None None None\n",
      "community-fg\n",
      "0    830\n",
      "1    361\n",
      "dtype: int64\n",
      "community-le\n",
      "0    335\n",
      "1    355\n",
      "2    501\n",
      "dtype: int64\n",
      "community-fg None community-le None\n",
      "0 community-fg 0 community-le 0.3819691577698695\n",
      "0 community-fg 1 community-le 0.009369676320272573\n",
      "0 community-fg 2 community-le 0.5959232613908872\n",
      "\n",
      "\n",
      "1 community-fg 0 community-le 0.01903367496339678\n",
      "1 community-fg 1 community-le 0.9247311827956989\n",
      "1 community-fg 2 community-le 0.004662004662004662\n",
      "\n",
      "\n",
      "None\n",
      "community-fg\n",
      "0    830\n",
      "1    361\n",
      "dtype: int64\n",
      "community-ml\n",
      "0    539\n",
      "1    339\n",
      "2    313\n",
      "dtype: int64\n",
      "community-fg None community-ml None\n",
      "0 community-fg 0 community-ml 0.6414868105515588\n",
      "0 community-fg 1 community-ml 0.33752860411899316\n",
      "0 community-fg 2 community-ml 0.0\n",
      "\n",
      "\n",
      "1 community-fg 0 community-ml 0.004464285714285714\n",
      "1 community-fg 1 community-ml 0.06707317073170732\n",
      "1 community-fg 2 community-ml 0.8670360110803325\n",
      "\n",
      "\n",
      "None\n",
      "community-fg\n",
      "0    830\n",
      "1    361\n",
      "dtype: int64\n",
      "community-wt\n",
      "0    506\n",
      "1    439\n",
      "2    246\n",
      "dtype: int64\n",
      "community-fg None community-wt None\n",
      "0 community-fg 0 community-wt 0.41375661375661377\n",
      "0 community-fg 1 community-wt 0.5289156626506024\n",
      "0 community-fg 2 community-wt 0.0\n",
      "\n",
      "\n",
      "1 community-fg 0 community-wt 0.1529255319148936\n",
      "1 community-fg 1 community-wt 0.0\n",
      "1 community-fg 2 community-wt 0.6814404432132964\n",
      "\n",
      "\n",
      "None\n",
      "community-le\n",
      "0    335\n",
      "1    355\n",
      "2    501\n",
      "dtype: int64\n",
      "community-ml\n",
      "0    539\n",
      "1    339\n",
      "2    313\n",
      "dtype: int64\n",
      "community-le None community-ml None\n",
      "0 community-le 0 community-ml 0.045454545454545456\n",
      "0 community-le 1 community-ml 0.7736842105263158\n",
      "0 community-le 2 community-ml 0.004651162790697674\n",
      "\n",
      "\n",
      "1 community-le 0 community-ml 0.002242152466367713\n",
      "1 community-le 1 community-ml 0.06769230769230769\n",
      "1 community-le 2 community-ml 0.8607242339832869\n",
      "\n",
      "\n",
      "2 community-le 0 community-ml 0.922365988909427\n",
      "2 community-le 1 community-ml 0.0011918951132300357\n",
      "2 community-le 2 community-ml 0.0012300123001230013\n",
      "\n",
      "\n",
      "None\n",
      "community-le\n",
      "0    335\n",
      "1    355\n",
      "2    501\n",
      "dtype: int64\n",
      "community-wt\n",
      "0    506\n",
      "1    439\n",
      "2    246\n",
      "dtype: int64\n",
      "community-le None community-wt None\n",
      "0 community-le 0 community-wt 0.6457925636007827\n",
      "0 community-le 1 community-wt 0.006501950585175552\n",
      "0 community-le 2 community-wt 0.0\n",
      "\n",
      "\n",
      "1 community-le 0 community-wt 0.1449468085106383\n",
      "1 community-le 1 community-wt 0.0\n",
      "1 community-le 2 community-wt 0.6929577464788732\n",
      "\n",
      "\n",
      "2 community-le 0 community-wt 0.07127659574468086\n",
      "2 community-le 1 community-wt 0.857707509881423\n",
      "2 community-le 2 community-wt 0.0\n",
      "\n",
      "\n",
      "None\n",
      "community-ml\n",
      "0    539\n",
      "1    339\n",
      "2    313\n",
      "dtype: int64\n",
      "community-wt\n",
      "0    506\n",
      "1    439\n",
      "2    246\n",
      "dtype: int64\n",
      "community-ml None community-wt None\n",
      "0 community-ml 0 community-wt 0.10816542948038176\n",
      "0 community-ml 1 community-wt 0.8077634011090573\n",
      "0 community-ml 2 community-wt 0.0\n",
      "\n",
      "\n",
      "1 community-ml 0 community-wt 0.6633858267716536\n",
      "1 community-ml 1 community-wt 0.002577319587628866\n",
      "1 community-ml 2 community-wt 0.0\n",
      "\n",
      "\n",
      "2 community-ml 0 community-wt 0.08909574468085106\n",
      "2 community-ml 1 community-wt 0.0\n",
      "2 community-ml 2 community-wt 0.7859424920127795\n",
      "\n",
      "\n",
      "None\n",
      "community-fg\n",
      "0    601\n",
      "1    460\n",
      "2     34\n",
      "dtype: int64\n",
      "community-le\n",
      "0    636\n",
      "1    459\n",
      "dtype: int64\n",
      "community-ml\n",
      "0    513\n",
      "1    165\n",
      "2    417\n",
      "dtype: int64\n",
      "community-wt\n",
      "0    421\n",
      "1    489\n",
      "2    185\n",
      "dtype: int64\n",
      "None None None None\n",
      "community-fg\n",
      "0    23.921797\n",
      "1    11.686957\n",
      "2    20.382353\n",
      "Name: age, dtype: float64\n",
      "community-le\n",
      "0    23.605346\n",
      "1    11.836601\n",
      "Name: age, dtype: float64\n",
      "community-ml\n",
      "0    24.491228\n",
      "1    19.878788\n",
      "2    11.035971\n",
      "Name: age, dtype: float64\n",
      "community-wt\n",
      "0    25.294537\n",
      "1    12.421268\n",
      "2    20.124324\n",
      "Name: age, dtype: float64\n",
      "None None None None\n",
      "community-fg\n",
      "0    601\n",
      "1    460\n",
      "2     34\n",
      "dtype: int64\n",
      "community-le\n",
      "0    636\n",
      "1    459\n",
      "dtype: int64\n",
      "community-fg None community-le None\n",
      "0 community-fg 0 community-le 0.9358372456964006\n",
      "0 community-fg 1 community-le 0.002838221381267739\n",
      "\n",
      "\n",
      "1 community-fg 0 community-le 0.009208103130755065\n",
      "1 community-fg 1 community-le 0.9594882729211087\n",
      "\n",
      "\n",
      "2 community-fg 0 community-le 0.04361370716510903\n",
      "2 community-fg 1 community-le 0.012320328542094456\n",
      "\n",
      "\n",
      "None\n",
      "community-fg\n",
      "0    601\n",
      "1    460\n",
      "2     34\n",
      "dtype: int64\n",
      "community-ml\n",
      "0    513\n",
      "1    165\n",
      "2    417\n",
      "dtype: int64\n",
      "community-fg None community-ml None\n",
      "0 community-fg 0 community-ml 0.8535773710482529\n",
      "0 community-fg 1 community-ml 0.11661807580174927\n",
      "0 community-fg 2 community-ml 0.007920792079207921\n",
      "\n",
      "\n",
      "1 community-fg 0 community-ml 0.0\n",
      "1 community-fg 1 community-ml 0.09649122807017543\n",
      "1 community-fg 2 community-ml 0.8580508474576272\n",
      "\n",
      "\n",
      "2 community-fg 0 community-ml 0.0\n",
      "2 community-fg 1 community-ml 0.17751479289940827\n",
      "2 community-fg 2 community-ml 0.008948545861297539\n",
      "\n",
      "\n",
      "None\n",
      "community-fg\n",
      "0    601\n",
      "1    460\n",
      "2     34\n",
      "dtype: int64\n",
      "community-wt\n",
      "0    421\n",
      "1    489\n",
      "2    185\n",
      "dtype: int64\n",
      "community-fg None community-wt None\n",
      "0 community-fg 0 community-wt 0.7004991680532446\n",
      "0 community-fg 1 community-wt 0.003683241252302026\n",
      "0 community-fg 2 community-wt 0.28852459016393445\n",
      "\n",
      "\n",
      "1 community-fg 0 community-wt 0.0\n",
      "1 community-fg 1 community-wt 0.9406952965235174\n",
      "1 community-fg 2 community-wt 0.0\n",
      "\n",
      "\n",
      "2 community-fg 0 community-wt 0.0\n",
      "2 community-fg 1 community-wt 0.050200803212851405\n",
      "2 community-fg 2 community-wt 0.04285714285714286\n",
      "\n",
      "\n",
      "None\n",
      "community-le\n",
      "0    636\n",
      "1    459\n",
      "dtype: int64\n",
      "community-ml\n",
      "0    513\n",
      "1    165\n",
      "2    417\n",
      "dtype: int64\n",
      "community-le None community-ml None\n",
      "0 community-le 0 community-ml 0.8066037735849056\n",
      "0 community-le 1 community-ml 0.15417867435158503\n",
      "0 community-le 2 community-ml 0.015429122468659595\n",
      "\n",
      "\n",
      "1 community-le 0 community-ml 0.0\n",
      "1 community-le 1 community-ml 0.10247349823321555\n",
      "1 community-le 2 community-ml 0.8442105263157895\n",
      "\n",
      "\n",
      "None\n",
      "community-le\n",
      "0    636\n",
      "1    459\n",
      "dtype: int64\n",
      "community-wt\n",
      "0    421\n",
      "1    489\n",
      "2    185\n",
      "dtype: int64\n",
      "community-le None community-wt None\n",
      "0 community-le 0 community-wt 0.6619496855345912\n",
      "0 community-le 1 community-wt 0.0273972602739726\n",
      "0 community-le 2 community-wt 0.2908805031446541\n",
      "\n",
      "\n",
      "1 community-le 0 community-wt 0.0\n",
      "1 community-le 1 community-wt 0.9386503067484663\n",
      "1 community-le 2 community-wt 0.0\n",
      "\n",
      "\n",
      "None\n",
      "community-ml\n",
      "0    513\n",
      "1    165\n",
      "2    417\n",
      "dtype: int64\n",
      "community-wt\n",
      "0    421\n",
      "1    489\n",
      "2    185\n",
      "dtype: int64\n",
      "community-ml None community-wt None\n",
      "0 community-ml 0 community-wt 0.8171206225680934\n",
      "0 community-ml 1 community-wt 0.0\n",
      "0 community-ml 2 community-wt 0.1537190082644628\n",
      "\n",
      "\n",
      "1 community-ml 0 community-wt 0.0017094017094017094\n",
      "1 community-ml 1 community-wt 0.14136125654450263\n",
      "1 community-ml 2 community-wt 0.31086142322097376\n",
      "\n",
      "\n",
      "2 community-ml 0 community-wt 0.0\n",
      "2 community-ml 1 community-wt 0.8192771084337349\n",
      "2 community-ml 2 community-wt 0.01517706576728499\n",
      "\n",
      "\n",
      "None\n",
      "community-fg\n",
      "0    465\n",
      "1     18\n",
      "2    438\n",
      "dtype: int64\n",
      "community-le\n",
      "0    486\n",
      "1    435\n",
      "dtype: int64\n",
      "community-ml\n",
      "0    476\n",
      "1    445\n",
      "dtype: int64\n",
      "community-wt\n",
      "0    494\n",
      "1    426\n",
      "2      1\n",
      "dtype: int64\n",
      "None None None None\n",
      "community-fg\n",
      "0    25.118280\n",
      "1    15.277778\n",
      "2    17.335616\n",
      "Name: age, dtype: float64\n",
      "community-le\n",
      "0    24.870370\n",
      "1    17.151724\n",
      "Name: age, dtype: float64\n",
      "community-ml\n",
      "0    17.638655\n",
      "1    25.060674\n",
      "Name: age, dtype: float64\n",
      "community-wt\n",
      "0     25.04251\n",
      "1     17.08216\n",
      "2   -100.00000\n",
      "Name: age, dtype: float64\n",
      "None None None None\n",
      "community-fg\n",
      "0    465\n",
      "1     18\n",
      "2    438\n",
      "dtype: int64\n",
      "community-le\n",
      "0    486\n",
      "1    435\n",
      "dtype: int64\n",
      "community-fg None community-le None\n",
      "0 community-fg 0 community-le 0.9487704918032787\n",
      "0 community-fg 1 community-le 0.0022271714922048997\n",
      "\n",
      "\n",
      "1 community-fg 0 community-le 0.03278688524590164\n",
      "1 community-fg 1 community-le 0.004434589800443459\n",
      "\n",
      "\n",
      "2 community-fg 0 community-le 0.007633587786259542\n",
      "2 community-fg 1 community-le 0.9751131221719457\n",
      "\n",
      "\n",
      "None\n",
      "community-fg\n",
      "0    465\n",
      "1     18\n",
      "2    438\n",
      "dtype: int64\n",
      "community-ml\n",
      "0    476\n",
      "1    445\n",
      "dtype: int64\n",
      "community-fg None community-ml None\n",
      "0 community-fg 0 community-ml 0.021715526601520086\n",
      "0 community-fg 1 community-ml 0.956989247311828\n",
      "\n",
      "\n",
      "1 community-fg 0 community-ml 0.037815126050420166\n",
      "1 community-fg 1 community-ml 0.0\n",
      "\n",
      "\n",
      "2 community-fg 0 community-ml 0.9201680672268907\n",
      "2 community-fg 1 community-ml 0.0\n",
      "\n",
      "\n",
      "None\n",
      "community-fg\n",
      "0    465\n",
      "1     18\n",
      "2    438\n",
      "dtype: int64\n",
      "community-wt\n",
      "0    494\n",
      "1    426\n",
      "2      1\n",
      "dtype: int64\n",
      "community-fg None community-wt None\n",
      "0 community-fg 0 community-wt 0.9334677419354839\n",
      "0 community-fg 1 community-wt 0.0011235955056179776\n",
      "0 community-fg 2 community-wt 0.002150537634408602\n",
      "\n",
      "\n",
      "1 community-fg 0 community-wt 0.03434343434343434\n",
      "1 community-fg 1 community-wt 0.002257336343115124\n",
      "1 community-fg 2 community-wt 0.0\n",
      "\n",
      "\n",
      "2 community-fg 0 community-wt 0.015250544662309368\n",
      "2 community-fg 1 community-wt 0.9636363636363636\n",
      "2 community-fg 2 community-wt 0.0\n",
      "\n",
      "\n",
      "None\n",
      "community-le\n",
      "0    486\n",
      "1    435\n",
      "dtype: int64\n",
      "community-ml\n",
      "0    476\n",
      "1    445\n",
      "dtype: int64\n",
      "community-le None community-ml None\n",
      "0 community-le 0 community-ml 0.04451682953311618\n",
      "0 community-le 1 community-ml 0.9156378600823045\n",
      "\n",
      "\n",
      "1 community-le 0 community-ml 0.9138655462184874\n",
      "1 community-le 1 community-ml 0.0\n",
      "\n",
      "\n",
      "None\n",
      "community-le\n",
      "0    486\n",
      "1    435\n",
      "dtype: int64\n",
      "community-wt\n",
      "0    494\n",
      "1    426\n",
      "2      1\n",
      "dtype: int64\n",
      "community-le None community-wt None\n",
      "0 community-le 0 community-wt 0.9758064516129032\n",
      "0 community-le 1 community-wt 0.0010976948408342481\n",
      "0 community-le 2 community-wt 0.00205761316872428\n",
      "\n",
      "\n",
      "1 community-le 0 community-wt 0.01088139281828074\n",
      "1 community-le 1 community-wt 0.9747706422018348\n",
      "1 community-le 2 community-wt 0.0\n",
      "\n",
      "\n",
      "None\n",
      "community-ml\n",
      "0    476\n",
      "1    445\n",
      "dtype: int64\n",
      "community-wt\n",
      "0    494\n",
      "1    426\n",
      "2      1\n",
      "dtype: int64\n",
      "community-ml None community-wt None\n",
      "0 community-ml 0 community-wt 0.05434782608695652\n",
      "0 community-ml 1 commu"
     ]
    },
    {
     "data": {
      "text/html": [
       "<b>limit_output extension: Maximum message size of 10000 exceeded with 12034 characters</b>"
      ]
     },
     "metadata": {},
     "output_type": "display_data"
    },
    {
     "ename": "TypeError",
     "evalue": "write() takes exactly one argument (4 given)",
     "output_type": "error",
     "traceback": [
      "\u001b[0;31m---------------------------------------------------------------------------\u001b[0m",
      "\u001b[0;31mTypeError\u001b[0m                                 Traceback (most recent call last)",
      "\u001b[0;32m<ipython-input-74-7f127738b158>\u001b[0m in \u001b[0;36m<module>\u001b[0;34m()\u001b[0m\n\u001b[1;32m      1\u001b[0m \u001b[0mfile1\u001b[0m \u001b[0;34m=\u001b[0m\u001b[0mopen\u001b[0m\u001b[0;34m(\u001b[0m\u001b[0;34m'./ilen3WithT1'\u001b[0m\u001b[0;34m,\u001b[0m \u001b[0;34m'w+'\u001b[0m\u001b[0;34m)\u001b[0m\u001b[0;34m\u001b[0m\u001b[0m\n\u001b[0;32m----> 2\u001b[0;31m \u001b[0mfile1\u001b[0m\u001b[0;34m.\u001b[0m\u001b[0mwrite\u001b[0m\u001b[0;34m(\u001b[0m\u001b[0malles\u001b[0m\u001b[0;34m(\u001b[0m\u001b[0mt1\u001b[0m\u001b[0;34m)\u001b[0m\u001b[0;34m,\u001b[0m \u001b[0malles\u001b[0m\u001b[0;34m(\u001b[0m\u001b[0mt2\u001b[0m\u001b[0;34m)\u001b[0m\u001b[0;34m,\u001b[0m \u001b[0malles\u001b[0m\u001b[0;34m(\u001b[0m\u001b[0mt3\u001b[0m\u001b[0;34m)\u001b[0m\u001b[0;34m,\u001b[0m \u001b[0malles\u001b[0m\u001b[0;34m(\u001b[0m\u001b[0mt4\u001b[0m\u001b[0;34m)\u001b[0m\u001b[0;34m)\u001b[0m\u001b[0;34m\u001b[0m\u001b[0m\n\u001b[0m",
      "\u001b[0;31mTypeError\u001b[0m: write() takes exactly one argument (4 given)"
     ]
    }
   ],
   "source": [
    "file1 =open('./ilen3WithT1', 'w+')\n",
    "file1.write(alles(t1), alles(t2), alles(t3), alles(t4))"
   ]
  },
  {
   "cell_type": "code",
   "execution_count": 76,
   "metadata": {
    "ExecuteTime": {
     "end_time": "2017-03-08T13:39:17.735322",
     "start_time": "2017-03-08T13:39:17.445036"
    },
    "collapsed": false,
    "scrolled": false
   },
   "outputs": [
    {
     "name": "stdout",
     "output_type": "stream",
     "text": [
      "community-fg\n",
      "0    830\n",
      "1    361\n",
      "dtype: int64\n",
      "community-le\n",
      "0    335\n",
      "1    355\n",
      "2    501\n",
      "dtype: int64\n",
      "community-ml\n",
      "0    539\n",
      "1    339\n",
      "2    313\n",
      "dtype: int64\n",
      "community-wt\n",
      "0    506\n",
      "1    439\n",
      "2    246\n",
      "dtype: int64\n",
      "None None None None\n",
      "community-fg\n",
      "0    21.543373\n",
      "1     8.526316\n",
      "Name: age, dtype: float64\n",
      "community-le\n",
      "0    17.668657\n",
      "1     8.211268\n",
      "2    24.201597\n",
      "Name: age, dtype: float64\n",
      "community-ml\n",
      "0    23.975881\n",
      "1    17.466077\n",
      "2     6.757188\n",
      "Name: age, dtype: float64\n",
      "community-wt\n",
      "0    17.069170\n",
      "1    24.920273\n",
      "2     5.617886\n",
      "Name: age, dtype: float64\n",
      "None None None None\n",
      "community-fg\n",
      "0    830\n",
      "1    361\n",
      "dtype: int64\n",
      "community-le\n",
      "0    335\n",
      "1    355\n",
      "2    501\n",
      "dtype: int64\n",
      "community-fg None community-le None\n",
      "0 community-fg 0 community-le 0.3819691577698695\n",
      "0 community-fg 1 community-le 0.009369676320272573\n",
      "0 community-fg 2 community-le 0.5959232613908872\n",
      "\n",
      "\n",
      "1 community-fg 0 community-le 0.01903367496339678\n",
      "1 community-fg 1 community-le 0.9247311827956989\n",
      "1 community-fg 2 community-le 0.004662004662004662\n",
      "\n",
      "\n",
      "None\n",
      "community-fg\n",
      "0    830\n",
      "1    361\n",
      "dtype: int64\n",
      "community-ml\n",
      "0    539\n",
      "1    339\n",
      "2    313\n",
      "dtype: int64\n",
      "community-fg None community-ml None\n",
      "0 community-fg 0 community-ml 0.6414868105515588\n",
      "0 community-fg 1 community-ml 0.33752860411899316\n",
      "0 community-fg 2 community-ml 0.0\n",
      "\n",
      "\n",
      "1 community-fg 0 community-ml 0.004464285714285714\n",
      "1 community-fg 1 community-ml 0.06707317073170732\n",
      "1 community-fg 2 community-ml 0.8670360110803325\n",
      "\n",
      "\n",
      "None\n",
      "community-fg\n",
      "0    830\n",
      "1    361\n",
      "dtype: int64\n",
      "community-wt\n",
      "0    506\n",
      "1    439\n",
      "2    246\n",
      "dtype: int64\n",
      "community-fg None community-wt None\n",
      "0 community-fg 0 community-wt 0.41375661375661377\n",
      "0 community-fg 1 community-wt 0.5289156626506024\n",
      "0 community-fg 2 community-wt 0.0\n",
      "\n",
      "\n",
      "1 community-fg 0 community-wt 0.1529255319148936\n",
      "1 community-fg 1 community-wt 0.0\n",
      "1 community-fg 2 community-wt 0.6814404432132964\n",
      "\n",
      "\n",
      "None\n",
      "community-le\n",
      "0    335\n",
      "1    355\n",
      "2    501\n",
      "dtype: int64\n",
      "community-ml\n",
      "0    539\n",
      "1    339\n",
      "2    313\n",
      "dtype: int64\n",
      "community-le None community-ml None\n",
      "0 community-le 0 community-ml 0.045454545454545456\n",
      "0 community-le 1 community-ml 0.7736842105263158\n",
      "0 community-le 2 community-ml 0.004651162790697674\n",
      "\n",
      "\n",
      "1 community-le 0 community-ml 0.002242152466367713\n",
      "1 community-le 1 community-ml 0.06769230769230769\n",
      "1 community-le 2 community-ml 0.8607242339832869\n",
      "\n",
      "\n",
      "2 community-le 0 community-ml 0.922365988909427\n",
      "2 community-le 1 community-ml 0.0011918951132300357\n",
      "2 community-le 2 community-ml 0.0012300123001230013\n",
      "\n",
      "\n",
      "None\n",
      "community-le\n",
      "0    335\n",
      "1    355\n",
      "2    501\n",
      "dtype: int64\n",
      "community-wt\n",
      "0    506\n",
      "1    439\n",
      "2    246\n",
      "dtype: int64\n",
      "community-le None community-wt None\n",
      "0 community-le 0 community-wt 0.6457925636007827\n",
      "0 community-le 1 community-wt 0.006501950585175552\n",
      "0 community-le 2 community-wt 0.0\n",
      "\n",
      "\n",
      "1 community-le 0 community-wt 0.1449468085106383\n",
      "1 community-le 1 community-wt 0.0\n",
      "1 community-le 2 community-wt 0.6929577464788732\n",
      "\n",
      "\n",
      "2 community-le 0 community-wt 0.07127659574468086\n",
      "2 community-le 1 community-wt 0.857707509881423\n",
      "2 community-le 2 community-wt 0.0\n",
      "\n",
      "\n",
      "None\n",
      "community-ml\n",
      "0    539\n",
      "1    339\n",
      "2    313\n",
      "dtype: int64\n",
      "community-wt\n",
      "0    506\n",
      "1    439\n",
      "2    246\n",
      "dtype: int64\n",
      "community-ml None community-wt None\n",
      "0 community-ml 0 community-wt 0.10816542948038176\n",
      "0 community-ml 1 community-wt 0.8077634011090573\n",
      "0 community-ml 2 community-wt 0.0\n",
      "\n",
      "\n",
      "1 community-ml 0 community-wt 0.6633858267716536\n",
      "1 community-ml 1 community-wt 0.002577319587628866\n",
      "1 community-ml 2 community-wt 0.0\n",
      "\n",
      "\n",
      "2 community-ml 0 community-wt 0.08909574468085106\n",
      "2 community-ml 1 community-wt 0.0\n",
      "2 community-ml 2 community-wt 0.7859424920127795\n",
      "\n",
      "\n",
      "None\n",
      "community-fg\n",
      "0    601\n",
      "1    460\n",
      "2     34\n",
      "dtype: int64\n",
      "community-le\n",
      "0    636\n",
      "1    459\n",
      "dtype: int64\n",
      "community-ml\n",
      "0    513\n",
      "1    165\n",
      "2    417\n",
      "dtype: int64\n",
      "community-wt\n",
      "0    421\n",
      "1    489\n",
      "2    185\n",
      "dtype: int64\n",
      "None None None None\n",
      "community-fg\n",
      "0    23.921797\n",
      "1    11.686957\n",
      "2    20.382353\n",
      "Name: age, dtype: float64\n",
      "community-le\n",
      "0    23.605346\n",
      "1    11.836601\n",
      "Name: age, dtype: float64\n",
      "community-ml\n",
      "0    24.491228\n",
      "1    19.878788\n",
      "2    11.035971\n",
      "Name: age, dtype: float64\n",
      "community-wt\n",
      "0    25.294537\n",
      "1    12.421268\n",
      "2    20.124324\n",
      "Name: age, dtype: float64\n",
      "None None None None\n",
      "community-fg\n",
      "0    601\n",
      "1    460\n",
      "2     34\n",
      "dtype: int64\n",
      "community-le\n",
      "0    636\n",
      "1    459\n",
      "dtype: int64\n",
      "community-fg None community-le None\n",
      "0 community-fg 0 community-le 0.9358372456964006\n",
      "0 community-fg 1 community-le 0.002838221381267739\n",
      "\n",
      "\n",
      "1 community-fg 0 community-le 0.009208103130755065\n",
      "1 community-fg 1 community-le 0.9594882729211087\n",
      "\n",
      "\n",
      "2 community-fg 0 community-le 0.04361370716510903\n",
      "2 community-fg 1 community-le 0.012320328542094456\n",
      "\n",
      "\n",
      "None\n",
      "community-fg\n",
      "0    601\n",
      "1    460\n",
      "2     34\n",
      "dtype: int64\n",
      "community-ml\n",
      "0    513\n",
      "1    165\n",
      "2    417\n",
      "dtype: int64\n",
      "community-fg None community-ml None\n",
      "0 community-fg 0 community-ml 0.8535773710482529\n",
      "0 community-fg 1 community-ml 0.11661807580174927\n",
      "0 community-fg 2 community-ml 0.007920792079207921\n",
      "\n",
      "\n",
      "1 community-fg 0 community-ml 0.0\n",
      "1 community-fg 1 community-ml 0.09649122807017543\n",
      "1 community-fg 2 community-ml 0.8580508474576272\n",
      "\n",
      "\n",
      "2 community-fg 0 community-ml 0.0\n",
      "2 community-fg 1 community-ml 0.17751479289940827\n",
      "2 community-fg 2 community-ml 0.008948545861297539\n",
      "\n",
      "\n",
      "None\n",
      "community-fg\n",
      "0    601\n",
      "1    460\n",
      "2     34\n",
      "dtype: int64\n",
      "community-wt\n",
      "0    421\n",
      "1    489\n",
      "2    185\n",
      "dtype: int64\n",
      "community-fg None community-wt None\n",
      "0 community-fg 0 community-wt 0.7004991680532446\n",
      "0 community-fg 1 community-wt 0.003683241252302026\n",
      "0 community-fg 2 community-wt 0.28852459016393445\n",
      "\n",
      "\n",
      "1 community-fg 0 community-wt 0.0\n",
      "1 community-fg 1 community-wt 0.9406952965235174\n",
      "1 community-fg 2 community-wt 0.0\n",
      "\n",
      "\n",
      "2 community-fg 0 community-wt 0.0\n",
      "2 community-fg 1 community-wt 0.050200803212851405\n",
      "2 community-fg 2 community-wt 0.04285714285714286\n",
      "\n",
      "\n",
      "None\n",
      "community-le\n",
      "0    636\n",
      "1    459\n",
      "dtype: int64\n",
      "community-ml\n",
      "0    513\n",
      "1    165\n",
      "2    417\n",
      "dtype: int64\n",
      "community-le None community-ml None\n",
      "0 community-le 0 community-ml 0.8066037735849056\n",
      "0 community-le 1 community-ml 0.15417867435158503\n",
      "0 community-le 2 community-ml 0.015429122468659595\n",
      "\n",
      "\n",
      "1 community-le 0 community-ml 0.0\n",
      "1 community-le 1 community-ml 0.10247349823321555\n",
      "1 community-le 2 community-ml 0.8442105263157895\n",
      "\n",
      "\n",
      "None\n",
      "community-le\n",
      "0    636\n",
      "1    459\n",
      "dtype: int64\n",
      "community-wt\n",
      "0    421\n",
      "1    489\n",
      "2    185\n",
      "dtype: int64\n",
      "community-le None community-wt None\n",
      "0 community-le 0 community-wt 0.6619496855345912\n",
      "0 community-le 1 community-wt 0.0273972602739726\n",
      "0 community-le 2 community-wt 0.2908805031446541\n",
      "\n",
      "\n",
      "1 community-le 0 community-wt 0.0\n",
      "1 community-le 1 community-wt 0.9386503067484663\n",
      "1 community-le 2 community-wt 0.0\n",
      "\n",
      "\n",
      "None\n",
      "community-ml\n",
      "0    513\n",
      "1    165\n",
      "2    417\n",
      "dtype: int64\n",
      "community-wt\n",
      "0    421\n",
      "1    489\n",
      "2    185\n",
      "dtype: int64\n",
      "community-ml None community-wt None\n",
      "0 community-ml 0 community-wt 0.8171206225680934\n",
      "0 community-ml 1 community-wt 0.0\n",
      "0 community-ml 2 community-wt 0.1537190082644628\n",
      "\n",
      "\n",
      "1 community-ml 0 community-wt 0.0017094017094017094\n",
      "1 community-ml 1 community-wt 0.14136125654450263\n",
      "1 community-ml 2 community-wt 0.31086142322097376\n",
      "\n",
      "\n",
      "2 community-ml 0 community-wt 0.0\n",
      "2 community-ml 1 community-wt 0.8192771084337349\n",
      "2 community-ml 2 community-wt 0.01517706576728499\n",
      "\n",
      "\n",
      "None\n"
     ]
    },
    {
     "data": {
      "text/plain": [
       "(None, None)"
      ]
     },
     "execution_count": 76,
     "metadata": {},
     "output_type": "execute_result"
    }
   ],
   "source": [
    "alles(t1), alles(t2)"
   ]
  },
  {
   "cell_type": "code",
   "execution_count": 78,
   "metadata": {
    "ExecuteTime": {
     "end_time": "2017-03-08T13:41:11.405971",
     "start_time": "2017-03-08T13:41:11.252107"
    },
    "collapsed": false,
    "scrolled": false
   },
   "outputs": [
    {
     "name": "stdout",
     "output_type": "stream",
     "text": [
      "community-fg\n",
      "0    465\n",
      "1     18\n",
      "2    438\n",
      "dtype: int64\n",
      "community-le\n",
      "0    486\n",
      "1    435\n",
      "dtype: int64\n",
      "community-ml\n",
      "0    476\n",
      "1    445\n",
      "dtype: int64\n",
      "community-wt\n",
      "0    494\n",
      "1    426\n",
      "2      1\n",
      "dtype: int64\n",
      "None None None None\n",
      "community-fg\n",
      "0    25.118280\n",
      "1    15.277778\n",
      "2    17.335616\n",
      "Name: age, dtype: float64\n",
      "community-le\n",
      "0    24.870370\n",
      "1    17.151724\n",
      "Name: age, dtype: float64\n",
      "community-ml\n",
      "0    17.638655\n",
      "1    25.060674\n",
      "Name: age, dtype: float64\n",
      "community-wt\n",
      "0     25.04251\n",
      "1     17.08216\n",
      "2   -100.00000\n",
      "Name: age, dtype: float64\n",
      "None None None None\n",
      "community-fg\n",
      "0    465\n",
      "1     18\n",
      "2    438\n",
      "dtype: int64\n",
      "community-le\n",
      "0    486\n",
      "1    435\n",
      "dtype: int64\n",
      "community-fg None community-le None\n",
      "0 community-fg 0 community-le 0.9487704918032787\n",
      "0 community-fg 1 community-le 0.0022271714922048997\n",
      "\n",
      "\n",
      "1 community-fg 0 community-le 0.03278688524590164\n",
      "1 community-fg 1 community-le 0.004434589800443459\n",
      "\n",
      "\n",
      "2 community-fg 0 community-le 0.007633587786259542\n",
      "2 community-fg 1 community-le 0.9751131221719457\n",
      "\n",
      "\n",
      "None\n",
      "community-fg\n",
      "0    465\n",
      "1     18\n",
      "2    438\n",
      "dtype: int64\n",
      "community-ml\n",
      "0    476\n",
      "1    445\n",
      "dtype: int64\n",
      "community-fg None community-ml None\n",
      "0 community-fg 0 community-ml 0.021715526601520086\n",
      "0 community-fg 1 community-ml 0.956989247311828\n",
      "\n",
      "\n",
      "1 community-fg 0 community-ml 0.037815126050420166\n",
      "1 community-fg 1 community-ml 0.0\n",
      "\n",
      "\n",
      "2 community-fg 0 community-ml 0.9201680672268907\n",
      "2 community-fg 1 community-ml 0.0\n",
      "\n",
      "\n",
      "None\n",
      "community-fg\n",
      "0    465\n",
      "1     18\n",
      "2    438\n",
      "dtype: int64\n",
      "community-wt\n",
      "0    494\n",
      "1    426\n",
      "2      1\n",
      "dtype: int64\n",
      "community-fg None community-wt None\n",
      "0 community-fg 0 community-wt 0.9334677419354839\n",
      "0 community-fg 1 community-wt 0.0011235955056179776\n",
      "0 community-fg 2 community-wt 0.002150537634408602\n",
      "\n",
      "\n",
      "1 community-fg 0 community-wt 0.03434343434343434\n",
      "1 community-fg 1 community-wt 0.002257336343115124\n",
      "1 community-fg 2 community-wt 0.0\n",
      "\n",
      "\n",
      "2 community-fg 0 community-wt 0.015250544662309368\n",
      "2 community-fg 1 community-wt 0.9636363636363636\n",
      "2 community-fg 2 community-wt 0.0\n",
      "\n",
      "\n",
      "None\n",
      "community-le\n",
      "0    486\n",
      "1    435\n",
      "dtype: int64\n",
      "community-ml\n",
      "0    476\n",
      "1    445\n",
      "dtype: int64\n",
      "community-le None community-ml None\n",
      "0 community-le 0 community-ml 0.04451682953311618\n",
      "0 community-le 1 community-ml 0.9156378600823045\n",
      "\n",
      "\n",
      "1 community-le 0 community-ml 0.9138655462184874\n",
      "1 community-le 1 community-ml 0.0\n",
      "\n",
      "\n",
      "None\n",
      "community-le\n",
      "0    486\n",
      "1    435\n",
      "dtype: int64\n",
      "community-wt\n",
      "0    494\n",
      "1    426\n",
      "2      1\n",
      "dtype: int64\n",
      "community-le None community-wt None\n",
      "0 community-le 0 community-wt 0.9758064516129032\n",
      "0 community-le 1 community-wt 0.0010976948408342481\n",
      "0 community-le 2 community-wt 0.00205761316872428\n",
      "\n",
      "\n",
      "1 community-le 0 community-wt 0.01088139281828074\n",
      "1 community-le 1 community-wt 0.9747706422018348\n",
      "1 community-le 2 community-wt 0.0\n",
      "\n",
      "\n",
      "None\n",
      "community-ml\n",
      "0    476\n",
      "1    445\n",
      "dtype: int64\n",
      "community-wt\n",
      "0    494\n",
      "1    426\n",
      "2      1\n",
      "dtype: int64\n",
      "community-ml None community-wt None\n",
      "0 community-ml 0 community-wt 0.05434782608695652\n",
      "0 community-ml 1 community-wt 0.8949579831932774\n",
      "0 community-ml 2 community-wt 0.0\n",
      "\n",
      "\n",
      "1 community-ml 0 community-wt 0.896969696969697\n",
      "1 community-ml 1 community-wt 0.0\n",
      "1 community-ml 2 community-wt 0.0022471910112359553\n",
      "\n",
      "\n",
      "None\n"
     ]
    }
   ],
   "source": [
    "alles(t3)"
   ]
  },
  {
   "cell_type": "code",
   "execution_count": 59,
   "metadata": {
    "ExecuteTime": {
     "end_time": "2017-03-08T13:17:35.683004",
     "start_time": "2017-03-08T13:17:35.626690"
    },
    "collapsed": true
   },
   "outputs": [],
   "source": [
    "def thresholdedGraph(file, border):\n",
    "\n",
    "    G = nx.read_graphml(file)\n",
    "    print(nx.info(G))\n",
    "    \n",
    "    lowedges = []\n",
    "    for a,b in list(G.edges()):\n",
    "        data = G.get_edge_data(a,b)\n",
    "        f = data.get('frequency')\n",
    "        if f <= border:\n",
    "            lowedges.append((a,b))\n",
    "\n",
    "    print(\"anzahl removed edges\", len(lowedges))\n",
    "    for e in lowedges:\n",
    "        G.remove_edge(e[0],e[1])\n",
    "\n",
    "    print(nx.info(G))\n",
    "\n",
    "    Gcc = sorted(nx.connected_component_subgraphs(G), key = len, reverse=True)\n",
    "    print(\"Number of components: {}\".format(len(Gcc)))\n",
    "\n",
    "    size_components = []\n",
    "    for comp in Gcc:\n",
    "        size_components.append(nx.number_of_nodes(comp))\n",
    "    \n",
    "    print(Counter(list(size_components)))\n",
    "\n",
    "    G = Gcc[0]\n",
    "\n",
    "    nx.write_graphml(G, 'ttt.graphml')\n",
    "    \n",
    "    return ig.Graph.Read_GraphML('ttt.graphml')"
   ]
  },
  {
   "cell_type": "code",
   "execution_count": 60,
   "metadata": {
    "ExecuteTime": {
     "end_time": "2017-03-08T13:18:53.424218",
     "start_time": "2017-03-08T13:17:58.335960"
    },
    "collapsed": false
   },
   "outputs": [
    {
     "name": "stdout",
     "output_type": "stream",
     "text": [
      "Name: \n",
      "Type: Graph\n",
      "Number of nodes: 1193\n",
      "Number of edges: 406023\n",
      "Average degree: 680.6756\n",
      "anzahl removed edges 87667\n",
      "Name: \n",
      "Type: Graph\n",
      "Number of nodes: 1193\n",
      "Number of edges: 318356\n",
      "Average degree: 533.7066\n",
      "Number of components: 3\n",
      "Counter({1: 2, 1191: 1})\n"
     ]
    }
   ],
   "source": [
    "gtest = thresholdedGraph(f1, 1)"
   ]
  },
  {
   "cell_type": "code",
   "execution_count": 62,
   "metadata": {
    "ExecuteTime": {
     "end_time": "2017-03-08T13:19:05.572738",
     "start_time": "2017-03-08T13:19:05.563564"
    },
    "collapsed": false
   },
   "outputs": [
    {
     "data": {
      "text/plain": [
       "'IGRAPH U--- 1191 318356 -- \\n+ attr: id (v), frequency (e), totalduration (e)'"
      ]
     },
     "execution_count": 62,
     "metadata": {},
     "output_type": "execute_result"
    }
   ],
   "source": [
    "gtest.summary()"
   ]
  },
  {
   "cell_type": "code",
   "execution_count": null,
   "metadata": {
    "collapsed": true
   },
   "outputs": [],
   "source": []
  }
 ],
 "metadata": {
  "kernelspec": {
   "display_name": "Python 3",
   "language": "python",
   "name": "python3"
  },
  "language_info": {
   "codemirror_mode": {
    "name": "ipython",
    "version": 3
   },
   "file_extension": ".py",
   "mimetype": "text/x-python",
   "name": "python",
   "nbconvert_exporter": "python",
   "pygments_lexer": "ipython3",
   "version": "3.5.2"
  },
  "toc": {
   "colors": {
    "hover_highlight": "#DAA520",
    "running_highlight": "#FF0000",
    "selected_highlight": "#FFD700"
   },
   "moveMenuLeft": true,
   "nav_menu": {
    "height": "12px",
    "width": "252px"
   },
   "navigate_menu": true,
   "number_sections": true,
   "sideBar": true,
   "threshold": 4,
   "toc_cell": false,
   "toc_position": {
    "height": "750px",
    "left": "0px",
    "right": "1474.38px",
    "top": "105px",
    "width": "212px"
   },
   "toc_section_display": "block",
   "toc_window_display": true
  }
 },
 "nbformat": 4,
 "nbformat_minor": 2
}
