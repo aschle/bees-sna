{
 "cells": [
  {
   "cell_type": "code",
   "execution_count": 1,
   "metadata": {
    "ExecuteTime": {
     "end_time": "2017-03-07T16:12:44.853823",
     "start_time": "2017-03-07T16:12:40.695476"
    },
    "collapsed": false
   },
   "outputs": [],
   "source": [
    "import numpy as np\n",
    "import pandas as pd\n",
    "import os\n",
    "import datetime\n",
    "import pytz\n",
    "import matplotlib.pyplot as plt\n",
    "from collections import Counter\n",
    "from pandas import Series, DataFrame\n",
    "import seaborn as sns\n",
    "\n",
    "import hatching as ht\n",
    "from scipy import stats\n",
    "\n",
    "import igraph as ig\n",
    "import networkx as nx\n",
    "import graph_tool as gt"
   ]
  },
  {
   "cell_type": "code",
   "execution_count": 25,
   "metadata": {
    "ExecuteTime": {
     "end_time": "2017-03-07T16:53:33.599699",
     "start_time": "2017-03-07T16:53:33.591117"
    },
    "collapsed": true
   },
   "outputs": [],
   "source": [
    "f = 'T1_10h_new_95conf_212dist_3ilen_2gap_600minutes_2016-08-14 08:00:00+00:00.graphml'"
   ]
  },
  {
   "cell_type": "code",
   "execution_count": 26,
   "metadata": {
    "ExecuteTime": {
     "end_time": "2017-03-07T16:53:34.415950",
     "start_time": "2017-03-07T16:53:34.402778"
    },
    "collapsed": false
   },
   "outputs": [
    {
     "data": {
      "text/plain": [
       "'T1_10h_new_95conf_212dist_3ilen_2gap_600minutes_2016-08-14 08:00:00+00:00.graphml'"
      ]
     },
     "execution_count": 26,
     "metadata": {},
     "output_type": "execute_result"
    }
   ],
   "source": [
    "f"
   ]
  },
  {
   "cell_type": "code",
   "execution_count": 27,
   "metadata": {
    "ExecuteTime": {
     "end_time": "2017-03-07T16:53:37.887460",
     "start_time": "2017-03-07T16:53:35.726191"
    },
    "collapsed": false
   },
   "outputs": [],
   "source": [
    "nxg = nx.read_graphml(f)"
   ]
  },
  {
   "cell_type": "code",
   "execution_count": 28,
   "metadata": {
    "ExecuteTime": {
     "end_time": "2017-03-07T16:53:38.672689",
     "start_time": "2017-03-07T16:53:38.664897"
    },
    "collapsed": false
   },
   "outputs": [
    {
     "name": "stdout",
     "output_type": "stream",
     "text": [
      "Name: \n",
      "Type: Graph\n",
      "Number of nodes: 963\n",
      "Number of edges: 45235\n",
      "Average degree:  93.9460\n"
     ]
    }
   ],
   "source": [
    "print(nx.info(nxg))"
   ]
  },
  {
   "cell_type": "code",
   "execution_count": 29,
   "metadata": {
    "ExecuteTime": {
     "end_time": "2017-03-07T16:53:40.844348",
     "start_time": "2017-03-07T16:53:40.523608"
    },
    "collapsed": true
   },
   "outputs": [],
   "source": [
    "igg = ig.Graph.Read_GraphML(f)"
   ]
  },
  {
   "cell_type": "code",
   "execution_count": 30,
   "metadata": {
    "ExecuteTime": {
     "end_time": "2017-03-07T16:53:41.497562",
     "start_time": "2017-03-07T16:53:41.489338"
    },
    "collapsed": false
   },
   "outputs": [
    {
     "data": {
      "text/plain": [
       "'IGRAPH U--- 963 45235 -- \\n+ attr: id (v), frequency (e), totalduration (e)'"
      ]
     },
     "execution_count": 30,
     "metadata": {},
     "output_type": "execute_result"
    }
   ],
   "source": [
    "igg.summary()"
   ]
  },
  {
   "cell_type": "code",
   "execution_count": 31,
   "metadata": {
    "ExecuteTime": {
     "end_time": "2017-03-07T16:53:43.012853",
     "start_time": "2017-03-07T16:53:42.413196"
    },
    "collapsed": false
   },
   "outputs": [],
   "source": [
    "gtg = gt.load_graph(f)"
   ]
  },
  {
   "cell_type": "code",
   "execution_count": 32,
   "metadata": {
    "ExecuteTime": {
     "end_time": "2017-03-07T16:53:43.055321",
     "start_time": "2017-03-07T16:53:43.048390"
    },
    "collapsed": false
   },
   "outputs": [
    {
     "data": {
      "text/plain": [
       "<Graph object, undirected, with 963 vertices and 45235 edges at 0x7f8e843e0668>"
      ]
     },
     "execution_count": 32,
     "metadata": {},
     "output_type": "execute_result"
    }
   ],
   "source": [
    "gtg"
   ]
  },
  {
   "cell_type": "markdown",
   "metadata": {},
   "source": [
    "# iGraph Algos"
   ]
  },
  {
   "cell_type": "markdown",
   "metadata": {},
   "source": [
    "## :) Fastgreedy"
   ]
  },
  {
   "cell_type": "code",
   "execution_count": 33,
   "metadata": {
    "ExecuteTime": {
     "end_time": "2017-03-07T16:53:47.454490",
     "start_time": "2017-03-07T16:53:47.153092"
    },
    "collapsed": false
   },
   "outputs": [],
   "source": [
    "fg = igg.community_fastgreedy(weights=\"frequency\")"
   ]
  },
  {
   "cell_type": "code",
   "execution_count": 34,
   "metadata": {
    "ExecuteTime": {
     "end_time": "2017-03-07T16:53:48.310884",
     "start_time": "2017-03-07T16:53:48.301812"
    },
    "collapsed": false
   },
   "outputs": [
    {
     "name": "stdout",
     "output_type": "stream",
     "text": [
      "Clustering with 963 elements and 4 clusters\n"
     ]
    }
   ],
   "source": [
    "vc = fg.as_clustering(fg.optimal_count)\n",
    "print(vc.summary())"
   ]
  },
  {
   "cell_type": "code",
   "execution_count": 35,
   "metadata": {
    "ExecuteTime": {
     "end_time": "2017-03-07T16:53:50.060437",
     "start_time": "2017-03-07T16:53:50.041470"
    },
    "collapsed": false
   },
   "outputs": [
    {
     "data": {
      "text/plain": [
       "community\n",
       "0    501\n",
       "1    168\n",
       "2    292\n",
       "3      2\n",
       "dtype: int64"
      ]
     },
     "execution_count": 35,
     "metadata": {},
     "output_type": "execute_result"
    }
   ],
   "source": [
    "ids = []\n",
    "membership = vc.membership\n",
    "for name, membership in zip(igg.vs, membership):\n",
    "    ids.append((int(name['id']), membership))\n",
    "\n",
    "ids = DataFrame(ids, columns=[\"id\", \"community\"])\n",
    "ids.groupby(by=\"community\").size()"
   ]
  },
  {
   "cell_type": "markdown",
   "metadata": {},
   "source": [
    "## Infomap"
   ]
  },
  {
   "cell_type": "code",
   "execution_count": null,
   "metadata": {
    "ExecuteTime": {
     "end_time": "2017-03-07T11:33:40.683576",
     "start_time": "2017-03-07T11:33:15.066043"
    },
    "collapsed": true
   },
   "outputs": [],
   "source": [
    "im = igg.community_infomap(edge_weights=\"frequency\")"
   ]
  },
  {
   "cell_type": "code",
   "execution_count": null,
   "metadata": {
    "ExecuteTime": {
     "end_time": "2017-03-07T11:34:24.087894",
     "start_time": "2017-03-07T11:34:24.079386"
    },
    "collapsed": false
   },
   "outputs": [],
   "source": [
    "im.summary()"
   ]
  },
  {
   "cell_type": "markdown",
   "metadata": {},
   "source": [
    "## :) leading_eigenvector"
   ]
  },
  {
   "cell_type": "code",
   "execution_count": 37,
   "metadata": {
    "ExecuteTime": {
     "end_time": "2017-03-07T16:54:53.163393",
     "start_time": "2017-03-07T16:54:51.030870"
    },
    "collapsed": false
   },
   "outputs": [],
   "source": [
    "lev = igg.community_leading_eigenvector(weights=\"frequency\")"
   ]
  },
  {
   "cell_type": "code",
   "execution_count": 38,
   "metadata": {
    "ExecuteTime": {
     "end_time": "2017-03-07T16:54:53.902600",
     "start_time": "2017-03-07T16:54:53.894300"
    },
    "collapsed": false
   },
   "outputs": [
    {
     "data": {
      "text/plain": [
       "'Clustering with 963 elements and 12 clusters'"
      ]
     },
     "execution_count": 38,
     "metadata": {},
     "output_type": "execute_result"
    }
   ],
   "source": [
    "lev.summary()"
   ]
  },
  {
   "cell_type": "code",
   "execution_count": 39,
   "metadata": {
    "ExecuteTime": {
     "end_time": "2017-03-07T16:54:58.751656",
     "start_time": "2017-03-07T16:54:58.739733"
    },
    "collapsed": true
   },
   "outputs": [],
   "source": [
    "def getMembershipDF(stuff, g):\n",
    "    ids = []\n",
    "    membership = stuff.membership\n",
    "    for name, membership in zip(g.vs, membership):\n",
    "        ids.append((int(name['id']), membership))\n",
    "\n",
    "    ids = DataFrame(ids, columns=[\"id\", \"community\"])\n",
    "    print(ids.groupby(by=\"community\").size())\n",
    "    print(ids.groupby(by=\"community\").size().sum())"
   ]
  },
  {
   "cell_type": "code",
   "execution_count": 40,
   "metadata": {
    "ExecuteTime": {
     "end_time": "2017-03-07T16:54:59.513146",
     "start_time": "2017-03-07T16:54:59.498830"
    },
    "collapsed": false
   },
   "outputs": [
    {
     "name": "stdout",
     "output_type": "stream",
     "text": [
      "community\n",
      "0     424\n",
      "1     288\n",
      "2     238\n",
      "3       1\n",
      "4       1\n",
      "5       1\n",
      "6       1\n",
      "7       1\n",
      "8       5\n",
      "9       1\n",
      "10      1\n",
      "11      1\n",
      "dtype: int64\n",
      "963\n"
     ]
    }
   ],
   "source": [
    "getMembershipDF(lev, igg)"
   ]
  },
  {
   "cell_type": "markdown",
   "metadata": {},
   "source": [
    "## Label Propagation"
   ]
  },
  {
   "cell_type": "code",
   "execution_count": null,
   "metadata": {
    "ExecuteTime": {
     "end_time": "2017-03-07T11:41:07.320946",
     "start_time": "2017-03-07T11:41:07.001699"
    },
    "collapsed": true
   },
   "outputs": [],
   "source": [
    "lpg = igg.community_label_propagation(weights=\"frequency\")"
   ]
  },
  {
   "cell_type": "code",
   "execution_count": null,
   "metadata": {
    "ExecuteTime": {
     "end_time": "2017-03-07T11:41:13.396954",
     "start_time": "2017-03-07T11:41:13.387822"
    },
    "collapsed": false
   },
   "outputs": [],
   "source": [
    "lpg.summary()"
   ]
  },
  {
   "cell_type": "markdown",
   "metadata": {},
   "source": [
    "## :) Multilevel"
   ]
  },
  {
   "cell_type": "code",
   "execution_count": 56,
   "metadata": {
    "ExecuteTime": {
     "end_time": "2017-03-07T16:58:39.596446",
     "start_time": "2017-03-07T16:58:39.349898"
    },
    "collapsed": false
   },
   "outputs": [],
   "source": [
    "ml = igg.community_multilevel(weights=\"frequency\")"
   ]
  },
  {
   "cell_type": "code",
   "execution_count": 57,
   "metadata": {
    "ExecuteTime": {
     "end_time": "2017-03-07T16:58:40.356216",
     "start_time": "2017-03-07T16:58:40.348355"
    },
    "collapsed": false
   },
   "outputs": [
    {
     "data": {
      "text/plain": [
       "'Clustering with 963 elements and 3 clusters'"
      ]
     },
     "execution_count": 57,
     "metadata": {},
     "output_type": "execute_result"
    }
   ],
   "source": [
    "ml.summary()"
   ]
  },
  {
   "cell_type": "code",
   "execution_count": 58,
   "metadata": {
    "ExecuteTime": {
     "end_time": "2017-03-07T16:58:41.348632",
     "start_time": "2017-03-07T16:58:41.332054"
    },
    "collapsed": false
   },
   "outputs": [
    {
     "name": "stdout",
     "output_type": "stream",
     "text": [
      "community\n",
      "0    227\n",
      "1    429\n",
      "2    307\n",
      "dtype: int64\n",
      "963\n"
     ]
    }
   ],
   "source": [
    "getMembershipDF(ml, igg)"
   ]
  },
  {
   "cell_type": "markdown",
   "metadata": {},
   "source": [
    "## Spinglass"
   ]
  },
  {
   "cell_type": "code",
   "execution_count": null,
   "metadata": {
    "ExecuteTime": {
     "start_time": "2017-03-07T11:46:30.392Z"
    },
    "collapsed": true
   },
   "outputs": [],
   "source": [
    "#sg = igg.community_spinglass(weights=\"frequency\")"
   ]
  },
  {
   "cell_type": "code",
   "execution_count": null,
   "metadata": {
    "ExecuteTime": {
     "start_time": "2017-03-07T11:46:39.550Z"
    },
    "collapsed": true
   },
   "outputs": [],
   "source": [
    "#sg.summary()"
   ]
  },
  {
   "cell_type": "code",
   "execution_count": null,
   "metadata": {
    "ExecuteTime": {
     "start_time": "2017-03-07T11:46:46.846Z"
    },
    "collapsed": true
   },
   "outputs": [],
   "source": [
    "#getMembershipDF(sg, igg)"
   ]
  },
  {
   "cell_type": "markdown",
   "metadata": {},
   "source": [
    "## :) Walktrap"
   ]
  },
  {
   "cell_type": "code",
   "execution_count": 53,
   "metadata": {
    "ExecuteTime": {
     "end_time": "2017-03-07T16:57:46.733648",
     "start_time": "2017-03-07T16:57:35.630582"
    },
    "collapsed": false
   },
   "outputs": [],
   "source": [
    "wt = igg.community_walktrap(weights=\"frequency\", steps=10)"
   ]
  },
  {
   "cell_type": "code",
   "execution_count": 54,
   "metadata": {
    "ExecuteTime": {
     "end_time": "2017-03-07T16:57:46.874744",
     "start_time": "2017-03-07T16:57:46.738248"
    },
    "collapsed": false
   },
   "outputs": [
    {
     "name": "stdout",
     "output_type": "stream",
     "text": [
      "Clustering with 963 elements and 119 clusters\n"
     ]
    }
   ],
   "source": [
    "wtvc = wt.as_clustering(wt.optimal_count)\n",
    "print(wtvc.summary())"
   ]
  },
  {
   "cell_type": "code",
   "execution_count": 55,
   "metadata": {
    "ExecuteTime": {
     "end_time": "2017-03-07T16:57:46.945041",
     "start_time": "2017-03-07T16:57:46.878256"
    },
    "collapsed": false
   },
   "outputs": [
    {
     "data": {
      "text/plain": [
       "community\n",
       "0        1\n",
       "1        1\n",
       "2      195\n",
       "3      443\n",
       "4      209\n",
       "5        1\n",
       "6        1\n",
       "7        1\n",
       "8        1\n",
       "9        1\n",
       "10       1\n",
       "11       1\n",
       "12       1\n",
       "13       1\n",
       "14       1\n",
       "15       1\n",
       "16       1\n",
       "17       1\n",
       "18       1\n",
       "19       1\n",
       "20       1\n",
       "21       1\n",
       "22       1\n",
       "23       1\n",
       "24       1\n",
       "25       1\n",
       "26       1\n",
       "27       1\n",
       "28       1\n",
       "29       1\n",
       "      ... \n",
       "89       1\n",
       "90       1\n",
       "91       1\n",
       "92       1\n",
       "93       1\n",
       "94       1\n",
       "95       1\n",
       "96       1\n",
       "97       1\n",
       "98       1\n",
       "99       1\n",
       "100      1\n",
       "101      1\n",
       "102      1\n",
       "103      1\n",
       "104      1\n",
       "105      1\n",
       "106      1\n",
       "107      1\n",
       "108      1\n",
       "109      1\n",
       "110      1\n",
       "111      1\n",
       "112      1\n",
       "113      1\n",
       "114      1\n",
       "115      1\n",
       "116      1\n",
       "117      1\n",
       "118      1\n",
       "dtype: int64"
      ]
     },
     "execution_count": 55,
     "metadata": {},
     "output_type": "execute_result"
    }
   ],
   "source": [
    "ids = []\n",
    "membership = wtvc.membership\n",
    "for name, membership in zip(igg.vs, membership):\n",
    "    ids.append((int(name['id']), membership))\n",
    "\n",
    "ids = DataFrame(ids, columns=[\"id\", \"community\"])\n",
    "ids.groupby(by=\"community\").size()"
   ]
  },
  {
   "cell_type": "markdown",
   "metadata": {},
   "source": [
    "# Graph-tools"
   ]
  },
  {
   "cell_type": "code",
   "execution_count": null,
   "metadata": {
    "ExecuteTime": {
     "end_time": "2017-03-07T15:03:45.670295",
     "start_time": "2017-03-07T15:03:45.632373"
    },
    "collapsed": false
   },
   "outputs": [],
   "source": [
    "gtg"
   ]
  },
  {
   "cell_type": "code",
   "execution_count": null,
   "metadata": {
    "ExecuteTime": {
     "end_time": "2017-03-07T15:18:35.767883",
     "start_time": "2017-03-07T15:18:34.116370"
    },
    "collapsed": false
   },
   "outputs": [],
   "source": [
    "from graph_tool.all import *"
   ]
  },
  {
   "cell_type": "code",
   "execution_count": null,
   "metadata": {
    "collapsed": true
   },
   "outputs": [],
   "source": [
    "gt.inference.minimize_blockmodel_dl()"
   ]
  },
  {
   "cell_type": "markdown",
   "metadata": {},
   "source": [
    "# networkX - community package"
   ]
  },
  {
   "cell_type": "code",
   "execution_count": 60,
   "metadata": {
    "ExecuteTime": {
     "end_time": "2017-03-07T16:59:16.174537",
     "start_time": "2017-03-07T16:59:16.141309"
    },
    "collapsed": true
   },
   "outputs": [],
   "source": [
    "import pythonlouvain.community.community_louvain as community"
   ]
  },
  {
   "cell_type": "code",
   "execution_count": 61,
   "metadata": {
    "ExecuteTime": {
     "end_time": "2017-03-07T16:59:19.929593",
     "start_time": "2017-03-07T16:59:16.650431"
    },
    "collapsed": false
   },
   "outputs": [],
   "source": [
    "partition = community.best_partition(nxg, weight=\"frequency\")"
   ]
  },
  {
   "cell_type": "code",
   "execution_count": 62,
   "metadata": {
    "ExecuteTime": {
     "end_time": "2017-03-07T16:59:19.939592",
     "start_time": "2017-03-07T16:59:19.932716"
    },
    "collapsed": false
   },
   "outputs": [],
   "source": [
    "df = DataFrame(list(zip(list(partition.keys()),list(partition.values()))), columns=[\"id\", \"comm\"])"
   ]
  },
  {
   "cell_type": "code",
   "execution_count": 63,
   "metadata": {
    "ExecuteTime": {
     "end_time": "2017-03-07T16:59:20.043354",
     "start_time": "2017-03-07T16:59:19.943321"
    },
    "collapsed": false
   },
   "outputs": [
    {
     "data": {
      "text/plain": [
       "comm\n",
       "0    231\n",
       "1    428\n",
       "2    304\n",
       "dtype: int64"
      ]
     },
     "execution_count": 63,
     "metadata": {},
     "output_type": "execute_result"
    }
   ],
   "source": [
    "df.groupby(by=\"comm\").size()"
   ]
  },
  {
   "cell_type": "code",
   "execution_count": null,
   "metadata": {
    "collapsed": true
   },
   "outputs": [],
   "source": []
  }
 ],
 "metadata": {
  "kernelspec": {
   "display_name": "Python 3",
   "language": "python",
   "name": "python3"
  },
  "language_info": {
   "codemirror_mode": {
    "name": "ipython",
    "version": 3
   },
   "file_extension": ".py",
   "mimetype": "text/x-python",
   "name": "python",
   "nbconvert_exporter": "python",
   "pygments_lexer": "ipython3",
   "version": "3.5.2"
  },
  "toc": {
   "colors": {
    "hover_highlight": "#DAA520",
    "running_highlight": "#FF0000",
    "selected_highlight": "#FFD700"
   },
   "moveMenuLeft": true,
   "nav_menu": {
    "height": "12px",
    "width": "252px"
   },
   "navigate_menu": true,
   "number_sections": true,
   "sideBar": true,
   "threshold": 4,
   "toc_cell": false,
   "toc_section_display": "block",
   "toc_window_display": true
  }
 },
 "nbformat": 4,
 "nbformat_minor": 2
}
