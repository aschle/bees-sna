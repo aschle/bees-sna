{
 "cells": [
  {
   "cell_type": "code",
   "execution_count": 1,
   "metadata": {
    "ExecuteTime": {
     "end_time": "2017-03-07T16:12:44.853823",
     "start_time": "2017-03-07T16:12:40.695476"
    },
    "collapsed": false
   },
   "outputs": [],
   "source": [
    "import numpy as np\n",
    "import pandas as pd\n",
    "import os\n",
    "import datetime\n",
    "import pytz\n",
    "import matplotlib.pyplot as plt\n",
    "from collections import Counter\n",
    "from pandas import Series, DataFrame\n",
    "import seaborn as sns\n",
    "\n",
    "import hatching as ht\n",
    "from scipy import stats\n",
    "\n",
    "import igraph as ig\n",
    "import networkx as nx\n",
    "import graph_tool as gt"
   ]
  },
  {
   "cell_type": "code",
   "execution_count": 76,
   "metadata": {
    "ExecuteTime": {
     "end_time": "2017-03-07T23:47:51.947873",
     "start_time": "2017-03-07T23:47:51.942213"
    },
    "collapsed": true
   },
   "outputs": [],
   "source": [
    "f = 'TT1_10h_95conf_212dist_3ilen_2gap_600minutes_2016-08-14 08:00:00+00:00.graphml'"
   ]
  },
  {
   "cell_type": "code",
   "execution_count": 77,
   "metadata": {
    "ExecuteTime": {
     "end_time": "2017-03-07T23:47:52.808402",
     "start_time": "2017-03-07T23:47:52.800676"
    },
    "collapsed": false
   },
   "outputs": [
    {
     "data": {
      "text/plain": [
       "'TT1_10h_95conf_212dist_3ilen_2gap_600minutes_2016-08-14 08:00:00+00:00.graphml'"
      ]
     },
     "execution_count": 77,
     "metadata": {},
     "output_type": "execute_result"
    }
   ],
   "source": [
    "f"
   ]
  },
  {
   "cell_type": "code",
   "execution_count": 78,
   "metadata": {
    "ExecuteTime": {
     "end_time": "2017-03-07T23:48:15.021193",
     "start_time": "2017-03-07T23:47:53.902487"
    },
    "collapsed": false
   },
   "outputs": [],
   "source": [
    "nxg = nx.read_graphml(f)"
   ]
  },
  {
   "cell_type": "code",
   "execution_count": 79,
   "metadata": {
    "ExecuteTime": {
     "end_time": "2017-03-07T23:48:15.032637",
     "start_time": "2017-03-07T23:48:15.024678"
    },
    "collapsed": false
   },
   "outputs": [
    {
     "name": "stdout",
     "output_type": "stream",
     "text": [
      "Name: \n",
      "Type: Graph\n",
      "Number of nodes: 1193\n",
      "Number of edges: 406023\n",
      "Average degree: 680.6756\n"
     ]
    }
   ],
   "source": [
    "print(nx.info(nxg))"
   ]
  },
  {
   "cell_type": "code",
   "execution_count": 80,
   "metadata": {
    "ExecuteTime": {
     "end_time": "2017-03-07T23:48:18.139039",
     "start_time": "2017-03-07T23:48:15.036265"
    },
    "collapsed": true
   },
   "outputs": [],
   "source": [
    "igg = ig.Graph.Read_GraphML(f)"
   ]
  },
  {
   "cell_type": "code",
   "execution_count": 81,
   "metadata": {
    "ExecuteTime": {
     "end_time": "2017-03-07T23:48:18.148995",
     "start_time": "2017-03-07T23:48:18.142618"
    },
    "collapsed": false
   },
   "outputs": [
    {
     "data": {
      "text/plain": [
       "'IGRAPH U--- 1193 406023 -- \\n+ attr: id (v), frequency (e), totalduration (e)'"
      ]
     },
     "execution_count": 81,
     "metadata": {},
     "output_type": "execute_result"
    }
   ],
   "source": [
    "igg.summary()"
   ]
  },
  {
   "cell_type": "code",
   "execution_count": 82,
   "metadata": {
    "ExecuteTime": {
     "end_time": "2017-03-07T23:48:23.030100",
     "start_time": "2017-03-07T23:48:18.151866"
    },
    "collapsed": false
   },
   "outputs": [],
   "source": [
    "gtg = gt.load_graph(f)"
   ]
  },
  {
   "cell_type": "code",
   "execution_count": 83,
   "metadata": {
    "ExecuteTime": {
     "end_time": "2017-03-07T23:48:23.040616",
     "start_time": "2017-03-07T23:48:23.034131"
    },
    "collapsed": false
   },
   "outputs": [
    {
     "data": {
      "text/plain": [
       "<Graph object, undirected, with 1193 vertices and 406023 edges at 0x7f8e843bb438>"
      ]
     },
     "execution_count": 83,
     "metadata": {},
     "output_type": "execute_result"
    }
   ],
   "source": [
    "gtg"
   ]
  },
  {
   "cell_type": "markdown",
   "metadata": {},
   "source": [
    "# iGraph Algos"
   ]
  },
  {
   "cell_type": "markdown",
   "metadata": {},
   "source": [
    "## :) Fastgreedy"
   ]
  },
  {
   "cell_type": "code",
   "execution_count": 33,
   "metadata": {
    "ExecuteTime": {
     "end_time": "2017-03-07T16:53:47.454490",
     "start_time": "2017-03-07T16:53:47.153092"
    },
    "collapsed": false
   },
   "outputs": [],
   "source": [
    "fg = igg.community_fastgreedy(weights=\"frequency\")"
   ]
  },
  {
   "cell_type": "code",
   "execution_count": 34,
   "metadata": {
    "ExecuteTime": {
     "end_time": "2017-03-07T16:53:48.310884",
     "start_time": "2017-03-07T16:53:48.301812"
    },
    "collapsed": false
   },
   "outputs": [
    {
     "name": "stdout",
     "output_type": "stream",
     "text": [
      "Clustering with 963 elements and 4 clusters\n"
     ]
    }
   ],
   "source": [
    "vc = fg.as_clustering(fg.optimal_count)\n",
    "print(vc.summary())"
   ]
  },
  {
   "cell_type": "code",
   "execution_count": 35,
   "metadata": {
    "ExecuteTime": {
     "end_time": "2017-03-07T16:53:50.060437",
     "start_time": "2017-03-07T16:53:50.041470"
    },
    "collapsed": false
   },
   "outputs": [
    {
     "data": {
      "text/plain": [
       "community\n",
       "0    501\n",
       "1    168\n",
       "2    292\n",
       "3      2\n",
       "dtype: int64"
      ]
     },
     "execution_count": 35,
     "metadata": {},
     "output_type": "execute_result"
    }
   ],
   "source": [
    "ids = []\n",
    "membership = vc.membership\n",
    "for name, membership in zip(igg.vs, membership):\n",
    "    ids.append((int(name['id']), membership))\n",
    "\n",
    "ids = DataFrame(ids, columns=[\"id\", \"community\"])\n",
    "ids.groupby(by=\"community\").size()"
   ]
  },
  {
   "cell_type": "markdown",
   "metadata": {},
   "source": [
    "## Infomap"
   ]
  },
  {
   "cell_type": "code",
   "execution_count": null,
   "metadata": {
    "ExecuteTime": {
     "end_time": "2017-03-07T11:33:40.683576",
     "start_time": "2017-03-07T11:33:15.066043"
    },
    "collapsed": true
   },
   "outputs": [],
   "source": [
    "im = igg.community_infomap(edge_weights=\"frequency\")"
   ]
  },
  {
   "cell_type": "code",
   "execution_count": null,
   "metadata": {
    "ExecuteTime": {
     "end_time": "2017-03-07T11:34:24.087894",
     "start_time": "2017-03-07T11:34:24.079386"
    },
    "collapsed": false
   },
   "outputs": [],
   "source": [
    "im.summary()"
   ]
  },
  {
   "cell_type": "markdown",
   "metadata": {},
   "source": [
    "## :) leading_eigenvector"
   ]
  },
  {
   "cell_type": "code",
   "execution_count": 37,
   "metadata": {
    "ExecuteTime": {
     "end_time": "2017-03-07T16:54:53.163393",
     "start_time": "2017-03-07T16:54:51.030870"
    },
    "collapsed": false
   },
   "outputs": [],
   "source": [
    "lev = igg.community_leading_eigenvector(weights=\"frequency\")"
   ]
  },
  {
   "cell_type": "code",
   "execution_count": 38,
   "metadata": {
    "ExecuteTime": {
     "end_time": "2017-03-07T16:54:53.902600",
     "start_time": "2017-03-07T16:54:53.894300"
    },
    "collapsed": false
   },
   "outputs": [
    {
     "data": {
      "text/plain": [
       "'Clustering with 963 elements and 12 clusters'"
      ]
     },
     "execution_count": 38,
     "metadata": {},
     "output_type": "execute_result"
    }
   ],
   "source": [
    "lev.summary()"
   ]
  },
  {
   "cell_type": "code",
   "execution_count": 39,
   "metadata": {
    "ExecuteTime": {
     "end_time": "2017-03-07T16:54:58.751656",
     "start_time": "2017-03-07T16:54:58.739733"
    },
    "collapsed": true
   },
   "outputs": [],
   "source": [
    "def getMembershipDF(stuff, g):\n",
    "    ids = []\n",
    "    membership = stuff.membership\n",
    "    for name, membership in zip(g.vs, membership):\n",
    "        ids.append((int(name['id']), membership))\n",
    "\n",
    "    ids = DataFrame(ids, columns=[\"id\", \"community\"])\n",
    "    print(ids.groupby(by=\"community\").size())\n",
    "    print(ids.groupby(by=\"community\").size().sum())"
   ]
  },
  {
   "cell_type": "code",
   "execution_count": 40,
   "metadata": {
    "ExecuteTime": {
     "end_time": "2017-03-07T16:54:59.513146",
     "start_time": "2017-03-07T16:54:59.498830"
    },
    "collapsed": false
   },
   "outputs": [
    {
     "name": "stdout",
     "output_type": "stream",
     "text": [
      "community\n",
      "0     424\n",
      "1     288\n",
      "2     238\n",
      "3       1\n",
      "4       1\n",
      "5       1\n",
      "6       1\n",
      "7       1\n",
      "8       5\n",
      "9       1\n",
      "10      1\n",
      "11      1\n",
      "dtype: int64\n",
      "963\n"
     ]
    }
   ],
   "source": [
    "getMembershipDF(lev, igg)"
   ]
  },
  {
   "cell_type": "markdown",
   "metadata": {},
   "source": [
    "## Label Propagation"
   ]
  },
  {
   "cell_type": "code",
   "execution_count": null,
   "metadata": {
    "ExecuteTime": {
     "end_time": "2017-03-07T11:41:07.320946",
     "start_time": "2017-03-07T11:41:07.001699"
    },
    "collapsed": true
   },
   "outputs": [],
   "source": [
    "lpg = igg.community_label_propagation(weights=\"frequency\")"
   ]
  },
  {
   "cell_type": "code",
   "execution_count": null,
   "metadata": {
    "ExecuteTime": {
     "end_time": "2017-03-07T11:41:13.396954",
     "start_time": "2017-03-07T11:41:13.387822"
    },
    "collapsed": false
   },
   "outputs": [],
   "source": [
    "lpg.summary()"
   ]
  },
  {
   "cell_type": "markdown",
   "metadata": {},
   "source": [
    "## :) Multilevel"
   ]
  },
  {
   "cell_type": "code",
   "execution_count": 56,
   "metadata": {
    "ExecuteTime": {
     "end_time": "2017-03-07T16:58:39.596446",
     "start_time": "2017-03-07T16:58:39.349898"
    },
    "collapsed": false
   },
   "outputs": [],
   "source": [
    "ml = igg.community_multilevel(weights=\"frequency\")"
   ]
  },
  {
   "cell_type": "code",
   "execution_count": 57,
   "metadata": {
    "ExecuteTime": {
     "end_time": "2017-03-07T16:58:40.356216",
     "start_time": "2017-03-07T16:58:40.348355"
    },
    "collapsed": false
   },
   "outputs": [
    {
     "data": {
      "text/plain": [
       "'Clustering with 963 elements and 3 clusters'"
      ]
     },
     "execution_count": 57,
     "metadata": {},
     "output_type": "execute_result"
    }
   ],
   "source": [
    "ml.summary()"
   ]
  },
  {
   "cell_type": "code",
   "execution_count": 58,
   "metadata": {
    "ExecuteTime": {
     "end_time": "2017-03-07T16:58:41.348632",
     "start_time": "2017-03-07T16:58:41.332054"
    },
    "collapsed": false
   },
   "outputs": [
    {
     "name": "stdout",
     "output_type": "stream",
     "text": [
      "community\n",
      "0    227\n",
      "1    429\n",
      "2    307\n",
      "dtype: int64\n",
      "963\n"
     ]
    }
   ],
   "source": [
    "getMembershipDF(ml, igg)"
   ]
  },
  {
   "cell_type": "markdown",
   "metadata": {},
   "source": [
    "## Spinglass"
   ]
  },
  {
   "cell_type": "code",
   "execution_count": null,
   "metadata": {
    "ExecuteTime": {
     "start_time": "2017-03-07T11:46:30.392Z"
    },
    "collapsed": true
   },
   "outputs": [],
   "source": [
    "#sg = igg.community_spinglass(weights=\"frequency\")"
   ]
  },
  {
   "cell_type": "code",
   "execution_count": null,
   "metadata": {
    "ExecuteTime": {
     "start_time": "2017-03-07T11:46:39.550Z"
    },
    "collapsed": true
   },
   "outputs": [],
   "source": [
    "#sg.summary()"
   ]
  },
  {
   "cell_type": "code",
   "execution_count": null,
   "metadata": {
    "ExecuteTime": {
     "start_time": "2017-03-07T11:46:46.846Z"
    },
    "collapsed": true
   },
   "outputs": [],
   "source": [
    "#getMembershipDF(sg, igg)"
   ]
  },
  {
   "cell_type": "markdown",
   "metadata": {},
   "source": [
    "## :) Walktrap"
   ]
  },
  {
   "cell_type": "code",
   "execution_count": 53,
   "metadata": {
    "ExecuteTime": {
     "end_time": "2017-03-07T16:57:46.733648",
     "start_time": "2017-03-07T16:57:35.630582"
    },
    "collapsed": false
   },
   "outputs": [],
   "source": [
    "wt = igg.community_walktrap(weights=\"frequency\", steps=10)"
   ]
  },
  {
   "cell_type": "code",
   "execution_count": 54,
   "metadata": {
    "ExecuteTime": {
     "end_time": "2017-03-07T16:57:46.874744",
     "start_time": "2017-03-07T16:57:46.738248"
    },
    "collapsed": false
   },
   "outputs": [
    {
     "name": "stdout",
     "output_type": "stream",
     "text": [
      "Clustering with 963 elements and 119 clusters\n"
     ]
    }
   ],
   "source": [
    "wtvc = wt.as_clustering(wt.optimal_count)\n",
    "print(wtvc.summary())"
   ]
  },
  {
   "cell_type": "code",
   "execution_count": 55,
   "metadata": {
    "ExecuteTime": {
     "end_time": "2017-03-07T16:57:46.945041",
     "start_time": "2017-03-07T16:57:46.878256"
    },
    "collapsed": true
   },
   "outputs": [
    {
     "data": {
      "text/plain": [
       "community\n",
       "0        1\n",
       "1        1\n",
       "2      195\n",
       "3      443\n",
       "4      209\n",
       "5        1\n",
       "6        1\n",
       "7        1\n",
       "8        1\n",
       "9        1\n",
       "10       1\n",
       "11       1\n",
       "12       1\n",
       "13       1\n",
       "14       1\n",
       "15       1\n",
       "16       1\n",
       "17       1\n",
       "18       1\n",
       "19       1\n",
       "20       1\n",
       "21       1\n",
       "22       1\n",
       "23       1\n",
       "24       1\n",
       "25       1\n",
       "26       1\n",
       "27       1\n",
       "28       1\n",
       "29       1\n",
       "      ... \n",
       "89       1\n",
       "90       1\n",
       "91       1\n",
       "92       1\n",
       "93       1\n",
       "94       1\n",
       "95       1\n",
       "96       1\n",
       "97       1\n",
       "98       1\n",
       "99       1\n",
       "100      1\n",
       "101      1\n",
       "102      1\n",
       "103      1\n",
       "104      1\n",
       "105      1\n",
       "106      1\n",
       "107      1\n",
       "108      1\n",
       "109      1\n",
       "110      1\n",
       "111      1\n",
       "112      1\n",
       "113      1\n",
       "114      1\n",
       "115      1\n",
       "116      1\n",
       "117      1\n",
       "118      1\n",
       "dtype: int64"
      ]
     },
     "execution_count": 55,
     "metadata": {},
     "output_type": "execute_result"
    }
   ],
   "source": [
    "ids = []\n",
    "membership = wtvc.membership\n",
    "for name, membership in zip(igg.vs, membership):\n",
    "    ids.append((int(name['id']), membership))\n",
    "\n",
    "ids = DataFrame(ids, columns=[\"id\", \"community\"])\n",
    "ids.groupby(by=\"community\").size()"
   ]
  },
  {
   "cell_type": "markdown",
   "metadata": {},
   "source": [
    "# Graph-tools"
   ]
  },
  {
   "cell_type": "code",
   "execution_count": null,
   "metadata": {
    "ExecuteTime": {
     "end_time": "2017-03-07T15:03:45.670295",
     "start_time": "2017-03-07T15:03:45.632373"
    },
    "collapsed": false
   },
   "outputs": [],
   "source": [
    "gtg"
   ]
  },
  {
   "cell_type": "code",
   "execution_count": null,
   "metadata": {
    "ExecuteTime": {
     "end_time": "2017-03-07T15:18:35.767883",
     "start_time": "2017-03-07T15:18:34.116370"
    },
    "collapsed": false
   },
   "outputs": [],
   "source": [
    "from graph_tool.all import *"
   ]
  },
  {
   "cell_type": "code",
   "execution_count": null,
   "metadata": {
    "collapsed": true
   },
   "outputs": [],
   "source": [
    "gt.inference.minimize_blockmodel_dl()"
   ]
  },
  {
   "cell_type": "markdown",
   "metadata": {},
   "source": [
    "# networkX - community package"
   ]
  },
  {
   "cell_type": "code",
   "execution_count": 60,
   "metadata": {
    "ExecuteTime": {
     "end_time": "2017-03-07T16:59:16.174537",
     "start_time": "2017-03-07T16:59:16.141309"
    },
    "collapsed": true
   },
   "outputs": [],
   "source": [
    "import pythonlouvain.community.community_louvain as community"
   ]
  },
  {
   "cell_type": "code",
   "execution_count": 61,
   "metadata": {
    "ExecuteTime": {
     "end_time": "2017-03-07T16:59:19.929593",
     "start_time": "2017-03-07T16:59:16.650431"
    },
    "collapsed": false
   },
   "outputs": [],
   "source": [
    "partition = community.best_partition(nxg, weight=\"frequency\")"
   ]
  },
  {
   "cell_type": "code",
   "execution_count": 62,
   "metadata": {
    "ExecuteTime": {
     "end_time": "2017-03-07T16:59:19.939592",
     "start_time": "2017-03-07T16:59:19.932716"
    },
    "collapsed": false
   },
   "outputs": [],
   "source": [
    "df = DataFrame(list(zip(list(partition.keys()),list(partition.values()))), columns=[\"id\", \"comm\"])"
   ]
  },
  {
   "cell_type": "code",
   "execution_count": 63,
   "metadata": {
    "ExecuteTime": {
     "end_time": "2017-03-07T16:59:20.043354",
     "start_time": "2017-03-07T16:59:19.943321"
    },
    "collapsed": false
   },
   "outputs": [
    {
     "data": {
      "text/plain": [
       "comm\n",
       "0    231\n",
       "1    428\n",
       "2    304\n",
       "dtype: int64"
      ]
     },
     "execution_count": 63,
     "metadata": {},
     "output_type": "execute_result"
    }
   ],
   "source": [
    "df.groupby(by=\"comm\").size()"
   ]
  },
  {
   "cell_type": "markdown",
   "metadata": {
    "collapsed": true
   },
   "source": [
    "# Compare Comunity Outcome"
   ]
  },
  {
   "cell_type": "code",
   "execution_count": 85,
   "metadata": {
    "ExecuteTime": {
     "end_time": "2017-03-07T23:48:29.023363",
     "start_time": "2017-03-07T23:48:29.000958"
    },
    "collapsed": true
   },
   "outputs": [],
   "source": [
    "def compareCommunities(g):\n",
    "    fg = g.community_fastgreedy(weights=\"frequency\")\n",
    "    fgvc = fg.as_clustering(fg.optimal_count)\n",
    "\n",
    "    ids = []\n",
    "    membership = fgvc.membership\n",
    "    for name, membership in zip(g.vs, membership):\n",
    "        ids.append((int(name['id']), membership))\n",
    "\n",
    "    ids = DataFrame(ids, columns=[\"id\", \"community-fg\"])\n",
    "    \n",
    "    lev = g.community_leading_eigenvector(weights=\"frequency\")\n",
    "    ids['community-le'] = lev.membership\n",
    "    \n",
    "    ml = g.community_multilevel(weights=\"frequency\")\n",
    "    ids['community-ml'] = ml.membership\n",
    "    \n",
    "    wt = g.community_walktrap(weights=\"frequency\", steps=10)\n",
    "    wtvc = wt.as_clustering(wt.optimal_count)\n",
    "    ids['community-wt'] = wtvc.membership\n",
    "\n",
    "    return ids"
   ]
  },
  {
   "cell_type": "code",
   "execution_count": 86,
   "metadata": {
    "ExecuteTime": {
     "end_time": "2017-03-07T23:51:13.751501",
     "start_time": "2017-03-07T23:48:31.620972"
    },
    "collapsed": false
   },
   "outputs": [],
   "source": [
    "dfc = compareCommunities(igg)"
   ]
  },
  {
   "cell_type": "code",
   "execution_count": 87,
   "metadata": {
    "ExecuteTime": {
     "end_time": "2017-03-07T23:51:13.763047",
     "start_time": "2017-03-07T23:51:13.755352"
    },
    "collapsed": true
   },
   "outputs": [],
   "source": [
    "def addAge(df, date_dt):\n",
    "    aa = ht.get_all_bees_age(date_dt)\n",
    "    df[\"age\"] = df.id.apply(lambda x: aa.iloc[x].age)\n",
    "    return df"
   ]
  },
  {
   "cell_type": "code",
   "execution_count": 88,
   "metadata": {
    "ExecuteTime": {
     "end_time": "2017-03-07T23:51:13.918579",
     "start_time": "2017-03-07T23:51:13.767169"
    },
    "collapsed": true
   },
   "outputs": [],
   "source": [
    "start = \"2016-08-14\"\n",
    "start_dt = datetime.datetime.strptime(start, \"%Y-%m-%d\").replace(tzinfo=pytz.UTC)"
   ]
  },
  {
   "cell_type": "code",
   "execution_count": 89,
   "metadata": {
    "ExecuteTime": {
     "end_time": "2017-03-07T23:51:31.903769",
     "start_time": "2017-03-07T23:51:31.275956"
    },
    "collapsed": true
   },
   "outputs": [],
   "source": [
    "dfc = addAge(dfc, start_dt)"
   ]
  },
  {
   "cell_type": "code",
   "execution_count": 90,
   "metadata": {
    "ExecuteTime": {
     "end_time": "2017-03-07T23:51:37.051977",
     "start_time": "2017-03-07T23:51:37.029781"
    },
    "collapsed": false
   },
   "outputs": [
    {
     "data": {
      "text/html": [
       "<div>\n",
       "<table border=\"1\" class=\"dataframe\">\n",
       "  <thead>\n",
       "    <tr style=\"text-align: right;\">\n",
       "      <th></th>\n",
       "      <th>id</th>\n",
       "      <th>community-fg</th>\n",
       "      <th>community-le</th>\n",
       "      <th>community-ml</th>\n",
       "      <th>community-wt</th>\n",
       "      <th>age</th>\n",
       "    </tr>\n",
       "  </thead>\n",
       "  <tbody>\n",
       "    <tr>\n",
       "      <th>0</th>\n",
       "      <td>2051</td>\n",
       "      <td>0</td>\n",
       "      <td>0</td>\n",
       "      <td>0</td>\n",
       "      <td>0</td>\n",
       "      <td>3</td>\n",
       "    </tr>\n",
       "    <tr>\n",
       "      <th>1</th>\n",
       "      <td>6</td>\n",
       "      <td>1</td>\n",
       "      <td>1</td>\n",
       "      <td>1</td>\n",
       "      <td>1</td>\n",
       "      <td>26</td>\n",
       "    </tr>\n",
       "    <tr>\n",
       "      <th>2</th>\n",
       "      <td>2055</td>\n",
       "      <td>1</td>\n",
       "      <td>2</td>\n",
       "      <td>2</td>\n",
       "      <td>2</td>\n",
       "      <td>23</td>\n",
       "    </tr>\n",
       "    <tr>\n",
       "      <th>3</th>\n",
       "      <td>8</td>\n",
       "      <td>1</td>\n",
       "      <td>2</td>\n",
       "      <td>2</td>\n",
       "      <td>2</td>\n",
       "      <td>20</td>\n",
       "    </tr>\n",
       "    <tr>\n",
       "      <th>4</th>\n",
       "      <td>2057</td>\n",
       "      <td>0</td>\n",
       "      <td>0</td>\n",
       "      <td>2</td>\n",
       "      <td>2</td>\n",
       "      <td>13</td>\n",
       "    </tr>\n",
       "  </tbody>\n",
       "</table>\n",
       "</div>"
      ],
      "text/plain": [
       "     id  community-fg  community-le  community-ml  community-wt  age\n",
       "0  2051             0             0             0             0    3\n",
       "1     6             1             1             1             1   26\n",
       "2  2055             1             2             2             2   23\n",
       "3     8             1             2             2             2   20\n",
       "4  2057             0             0             2             2   13"
      ]
     },
     "execution_count": 90,
     "metadata": {},
     "output_type": "execute_result"
    }
   ],
   "source": [
    "dfc.head()"
   ]
  },
  {
   "cell_type": "code",
   "execution_count": 94,
   "metadata": {
    "ExecuteTime": {
     "end_time": "2017-03-07T23:53:54.729538",
     "start_time": "2017-03-07T23:53:54.723564"
    },
    "collapsed": true
   },
   "outputs": [],
   "source": [
    "def commSize(df, col):\n",
    "    print(dfc.groupby(by=col).size())"
   ]
  },
  {
   "cell_type": "code",
   "execution_count": 99,
   "metadata": {
    "ExecuteTime": {
     "end_time": "2017-03-07T23:54:56.717175",
     "start_time": "2017-03-07T23:54:56.709888"
    },
    "collapsed": true
   },
   "outputs": [],
   "source": [
    "def commMeanAge(df, col):\n",
    "    print(dfc.groupby(by=col).age.mean())"
   ]
  },
  {
   "cell_type": "markdown",
   "metadata": {},
   "source": [
    "## Size and Number"
   ]
  },
  {
   "cell_type": "code",
   "execution_count": 101,
   "metadata": {
    "ExecuteTime": {
     "end_time": "2017-03-07T23:55:26.573042",
     "start_time": "2017-03-07T23:55:26.557434"
    },
    "collapsed": false
   },
   "outputs": [
    {
     "name": "stdout",
     "output_type": "stream",
     "text": [
      "community-fg\n",
      "0    359\n",
      "1    834\n",
      "dtype: int64\n",
      "community-le\n",
      "0    354\n",
      "1    502\n",
      "2    337\n",
      "dtype: int64\n",
      "community-ml\n",
      "0    313\n",
      "1    541\n",
      "2    339\n",
      "dtype: int64\n",
      "community-wt\n",
      "0    241\n",
      "1    482\n",
      "2    469\n",
      "3      1\n",
      "dtype: int64\n"
     ]
    },
    {
     "data": {
      "text/plain": [
       "(None, None, None, None)"
      ]
     },
     "execution_count": 101,
     "metadata": {},
     "output_type": "execute_result"
    }
   ],
   "source": [
    "commSize(df, 'community-fg'), commSize(df, 'community-le'), commSize(df, 'community-ml'),commSize(df, 'community-wt')"
   ]
  },
  {
   "cell_type": "markdown",
   "metadata": {},
   "source": [
    "## Mean Age"
   ]
  },
  {
   "cell_type": "code",
   "execution_count": 102,
   "metadata": {
    "ExecuteTime": {
     "end_time": "2017-03-07T23:55:44.144921",
     "start_time": "2017-03-07T23:55:44.112484"
    },
    "collapsed": false
   },
   "outputs": [
    {
     "name": "stdout",
     "output_type": "stream",
     "text": [
      "community-fg\n",
      "0     8.359331\n",
      "1    21.575540\n",
      "Name: age, dtype: float64\n",
      "community-le\n",
      "0     8.257062\n",
      "1    24.205179\n",
      "2    17.569733\n",
      "Name: age, dtype: float64\n",
      "community-ml\n",
      "0     6.706070\n",
      "1    24.048059\n",
      "2    17.362832\n",
      "Name: age, dtype: float64\n",
      "community-wt\n",
      "0     5.651452\n",
      "1    24.460581\n",
      "2    16.671642\n",
      "3    24.000000\n",
      "Name: age, dtype: float64\n"
     ]
    },
    {
     "data": {
      "text/plain": [
       "(None, None, None, None)"
      ]
     },
     "execution_count": 102,
     "metadata": {},
     "output_type": "execute_result"
    }
   ],
   "source": [
    "commMeanAge(df, 'community-fg'), commMeanAge(df, 'community-le'), commMeanAge(df, 'community-ml'),commMeanAge(df, 'community-wt')"
   ]
  },
  {
   "cell_type": "code",
   "execution_count": 103,
   "metadata": {
    "ExecuteTime": {
     "end_time": "2017-03-08T00:00:48.337761",
     "start_time": "2017-03-08T00:00:48.307522"
    },
    "collapsed": false
   },
   "outputs": [
    {
     "data": {
      "text/html": [
       "<div>\n",
       "<table border=\"1\" class=\"dataframe\">\n",
       "  <thead>\n",
       "    <tr style=\"text-align: right;\">\n",
       "      <th></th>\n",
       "      <th>id</th>\n",
       "      <th>community-fg</th>\n",
       "      <th>community-le</th>\n",
       "      <th>community-ml</th>\n",
       "      <th>community-wt</th>\n",
       "      <th>age</th>\n",
       "    </tr>\n",
       "  </thead>\n",
       "  <tbody>\n",
       "    <tr>\n",
       "      <th>0</th>\n",
       "      <td>2051</td>\n",
       "      <td>0</td>\n",
       "      <td>0</td>\n",
       "      <td>0</td>\n",
       "      <td>0</td>\n",
       "      <td>3</td>\n",
       "    </tr>\n",
       "    <tr>\n",
       "      <th>1</th>\n",
       "      <td>6</td>\n",
       "      <td>1</td>\n",
       "      <td>1</td>\n",
       "      <td>1</td>\n",
       "      <td>1</td>\n",
       "      <td>26</td>\n",
       "    </tr>\n",
       "    <tr>\n",
       "      <th>2</th>\n",
       "      <td>2055</td>\n",
       "      <td>1</td>\n",
       "      <td>2</td>\n",
       "      <td>2</td>\n",
       "      <td>2</td>\n",
       "      <td>23</td>\n",
       "    </tr>\n",
       "    <tr>\n",
       "      <th>3</th>\n",
       "      <td>8</td>\n",
       "      <td>1</td>\n",
       "      <td>2</td>\n",
       "      <td>2</td>\n",
       "      <td>2</td>\n",
       "      <td>20</td>\n",
       "    </tr>\n",
       "    <tr>\n",
       "      <th>4</th>\n",
       "      <td>2057</td>\n",
       "      <td>0</td>\n",
       "      <td>0</td>\n",
       "      <td>2</td>\n",
       "      <td>2</td>\n",
       "      <td>13</td>\n",
       "    </tr>\n",
       "  </tbody>\n",
       "</table>\n",
       "</div>"
      ],
      "text/plain": [
       "     id  community-fg  community-le  community-ml  community-wt  age\n",
       "0  2051             0             0             0             0    3\n",
       "1     6             1             1             1             1   26\n",
       "2  2055             1             2             2             2   23\n",
       "3     8             1             2             2             2   20\n",
       "4  2057             0             0             2             2   13"
      ]
     },
     "execution_count": 103,
     "metadata": {},
     "output_type": "execute_result"
    }
   ],
   "source": [
    "dfc.head()"
   ]
  },
  {
   "cell_type": "markdown",
   "metadata": {},
   "source": [
    "## Look at IDs"
   ]
  },
  {
   "cell_type": "code",
   "execution_count": 107,
   "metadata": {
    "ExecuteTime": {
     "end_time": "2017-03-08T00:04:34.885192",
     "start_time": "2017-03-08T00:04:34.877107"
    },
    "collapsed": true
   },
   "outputs": [],
   "source": [
    "def getIdList(df, col):\n",
    "    return dfc.groupby(by=col).id.apply(set)"
   ]
  },
  {
   "cell_type": "code",
   "execution_count": 108,
   "metadata": {
    "ExecuteTime": {
     "end_time": "2017-03-08T00:04:35.510673",
     "start_time": "2017-03-08T00:04:35.490549"
    },
    "collapsed": false
   },
   "outputs": [
    {
     "data": {
      "text/plain": [
       "community-fg\n",
       "0    {2051, 2057, 11, 2065, 2066, 19, 2075, 2079, 2...\n",
       "1    {6, 2055, 8, 2061, 2062, 16, 2067, 23, 2072, 2...\n",
       "Name: id, dtype: object"
      ]
     },
     "execution_count": 108,
     "metadata": {},
     "output_type": "execute_result"
    }
   ],
   "source": [
    "getIdList(dfc, 'community-fg')"
   ]
  },
  {
   "cell_type": "code",
   "execution_count": 127,
   "metadata": {
    "ExecuteTime": {
     "end_time": "2017-03-08T00:22:02.392980",
     "start_time": "2017-03-08T00:22:02.378562"
    },
    "collapsed": true
   },
   "outputs": [],
   "source": [
    "def getMappingScore(df, col1, col2):\n",
    "    id1 = getIdList(df, col1)\n",
    "    id2 = getIdList(df, col2)\n",
    "    \n",
    "    print(col1, commSize(df, col1), col2, commSize(df,col2))\n",
    "    \n",
    "    for e1, i in enumerate(id1):\n",
    "        for e2, j in enumerate(id2):\n",
    "            print(e1, col1, e2, col2, len(i.intersection(j)))\n",
    "        print('\\n')"
   ]
  },
  {
   "cell_type": "code",
   "execution_count": 128,
   "metadata": {
    "ExecuteTime": {
     "end_time": "2017-03-08T00:22:03.052157",
     "start_time": "2017-03-08T00:22:03.023765"
    },
    "collapsed": false
   },
   "outputs": [
    {
     "name": "stdout",
     "output_type": "stream",
     "text": [
      "community-fg\n",
      "0    359\n",
      "1    834\n",
      "dtype: int64\n",
      "community-le\n",
      "0    354\n",
      "1    502\n",
      "2    337\n",
      "dtype: int64\n",
      "community-fg None community-le None\n",
      "0 community-fg 0 community-le 344\n",
      "0 community-fg 1 community-le 1\n",
      "0 community-fg 2 community-le 14\n",
      "\n",
      "\n",
      "1 community-fg 0 community-le 10\n",
      "1 community-fg 1 community-le 501\n",
      "1 community-fg 2 community-le 323\n",
      "\n",
      "\n"
     ]
    }
   ],
   "source": [
    "getMappingScore(dfc, 'community-fg', 'community-le')"
   ]
  },
  {
   "cell_type": "code",
   "execution_count": 129,
   "metadata": {
    "ExecuteTime": {
     "end_time": "2017-03-08T00:22:05.208080",
     "start_time": "2017-03-08T00:22:05.178551"
    },
    "collapsed": false
   },
   "outputs": [
    {
     "name": "stdout",
     "output_type": "stream",
     "text": [
      "community-le\n",
      "0    354\n",
      "1    502\n",
      "2    337\n",
      "dtype: int64\n",
      "community-ml\n",
      "0    313\n",
      "1    541\n",
      "2    339\n",
      "dtype: int64\n",
      "community-le None community-ml None\n",
      "0 community-le 0 community-ml 310\n",
      "0 community-le 1 community-ml 1\n",
      "0 community-le 2 community-ml 43\n",
      "\n",
      "\n",
      "1 community-le 0 community-ml 0\n",
      "1 community-le 1 community-ml 501\n",
      "1 community-le 2 community-ml 1\n",
      "\n",
      "\n",
      "2 community-le 0 community-ml 3\n",
      "2 community-le 1 community-ml 39\n",
      "2 community-le 2 community-ml 295\n",
      "\n",
      "\n"
     ]
    }
   ],
   "source": [
    "getMappingScore(dfc, 'community-le', 'community-ml')"
   ]
  },
  {
   "cell_type": "code",
   "execution_count": 130,
   "metadata": {
    "ExecuteTime": {
     "end_time": "2017-03-08T00:22:11.734393",
     "start_time": "2017-03-08T00:22:11.705193"
    },
    "collapsed": false
   },
   "outputs": [
    {
     "name": "stdout",
     "output_type": "stream",
     "text": [
      "community-le\n",
      "0    354\n",
      "1    502\n",
      "2    337\n",
      "dtype: int64\n",
      "community-wt\n",
      "0    241\n",
      "1    482\n",
      "2    469\n",
      "3      1\n",
      "dtype: int64\n",
      "community-le None community-wt None\n",
      "0 community-le 0 community-wt 241\n",
      "0 community-le 1 community-wt 0\n",
      "0 community-le 2 community-wt 112\n",
      "0 community-le 3 community-wt 1\n",
      "\n",
      "\n",
      "1 community-le 0 community-wt 0\n",
      "1 community-le 1 community-wt 453\n",
      "1 community-le 2 community-wt 49\n",
      "1 community-le 3 community-wt 0\n",
      "\n",
      "\n",
      "2 community-le 0 community-wt 0\n",
      "2 community-le 1 community-wt 29\n",
      "2 community-le 2 community-wt 308\n",
      "2 community-le 3 community-wt 0\n",
      "\n",
      "\n"
     ]
    }
   ],
   "source": [
    "getMappingScore(dfc, 'community-le', 'community-wt')"
   ]
  },
  {
   "cell_type": "code",
   "execution_count": null,
   "metadata": {
    "collapsed": true
   },
   "outputs": [],
   "source": []
  }
 ],
 "metadata": {
  "kernelspec": {
   "display_name": "Python 3",
   "language": "python",
   "name": "python3"
  },
  "language_info": {
   "codemirror_mode": {
    "name": "ipython",
    "version": 3
   },
   "file_extension": ".py",
   "mimetype": "text/x-python",
   "name": "python",
   "nbconvert_exporter": "python",
   "pygments_lexer": "ipython3",
   "version": "3.5.2"
  },
  "toc": {
   "colors": {
    "hover_highlight": "#DAA520",
    "running_highlight": "#FF0000",
    "selected_highlight": "#FFD700"
   },
   "moveMenuLeft": true,
   "nav_menu": {
    "height": "12px",
    "width": "252px"
   },
   "navigate_menu": true,
   "number_sections": true,
   "sideBar": true,
   "threshold": 4,
   "toc_cell": false,
   "toc_position": {
    "height": "750px",
    "left": "0px",
    "right": "1474.38px",
    "top": "105px",
    "width": "212px"
   },
   "toc_section_display": "block",
   "toc_window_display": true
  }
 },
 "nbformat": 4,
 "nbformat_minor": 2
}
