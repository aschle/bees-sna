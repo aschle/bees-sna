{
 "cells": [
  {
   "cell_type": "code",
   "execution_count": 1,
   "metadata": {
    "ExecuteTime": {
     "end_time": "2017-03-02T16:37:49.386140",
     "start_time": "2017-03-02T16:37:45.025933"
    },
    "collapsed": true
   },
   "outputs": [],
   "source": [
    "import networkx as nx\n",
    "import preprocessing as prep\n",
    "import numpy as np\n",
    "import pandas as pd\n",
    "import numpy as np\n",
    "import json\n",
    "import os\n",
    "import datetime\n",
    "import pytz\n",
    "import matplotlib.pyplot as plt\n",
    "from collections import Counter\n",
    "from bb_binary import load_frame_container, Repository\n",
    "from pandas import Series, DataFrame\n",
    "import seaborn as sns\n",
    "import igraph as ig\n",
    "import sqlite3"
   ]
  },
  {
   "cell_type": "code",
   "execution_count": 2,
   "metadata": {
    "ExecuteTime": {
     "end_time": "2017-03-02T16:37:49.405411",
     "start_time": "2017-03-02T16:37:49.390008"
    },
    "collapsed": true
   },
   "outputs": [],
   "source": [
    "%matplotlib inline"
   ]
  },
  {
   "cell_type": "code",
   "execution_count": 3,
   "metadata": {
    "ExecuteTime": {
     "end_time": "2017-03-02T16:37:50.285808",
     "start_time": "2017-03-02T16:37:50.279459"
    },
    "collapsed": false
   },
   "outputs": [],
   "source": [
    "graph_files = os.listdir()\n",
    "graph_files = [g for g in graph_files if g.endswith('.graphml')]"
   ]
  },
  {
   "cell_type": "code",
   "execution_count": 4,
   "metadata": {
    "ExecuteTime": {
     "end_time": "2017-03-02T16:37:51.053384",
     "start_time": "2017-03-02T16:37:51.042543"
    },
    "collapsed": false
   },
   "outputs": [
    {
     "data": {
      "text/plain": [
       "['2016-07-21T15:00:00Z_1h_allCams-97_0.97conf_212dist_3ilen.graphml',\n",
       " '2016-07-21T15:00:00Z_1h_allCams-93_0.93conf_212dist_3ilen.graphml',\n",
       " '14hDay_0.99conf_212dist_3ilen.graphml',\n",
       " 'TTT_0.95conf_212dist_3ilen.graphml',\n",
       " '3h_0.99conf_212dist_3ilen.graphml',\n",
       " '2016-07-21T15:00:00Z_1h_allCams-100_1.0conf_212dist_3ilen.graphml',\n",
       " '1h_0.99conf_212dist_3ilen.graphml',\n",
       " '2016-07-21T15:00:00Z_1h_allCams-94_0.94conf_212dist_3ilen.graphml',\n",
       " '2016-07-21T15:00:00Z_1h_allCams-99_0.99conf_212dist_3ilen.graphml',\n",
       " '2016-07-21T15:00:00Z_1h_allCams-90_0.9conf_212dist_3ilen.graphml',\n",
       " '2016-07-21T15:00:00Z_1h_allCams-96_0.96conf_212dist_3ilen.graphml',\n",
       " '1h_0.99conf_175dist_3ilen.graphml',\n",
       " '2016-07-21T15:00:00Z_1h_allCams-95_0.95conf_212dist_3ilen.graphml',\n",
       " '2016-07-21T15:00:00Z_1h_allCams-98_0.98conf_212dist_3ilen.graphml',\n",
       " '2h_0.99conf_175dist_3ilen.graphml',\n",
       " '2016-07-21T15:00:00Z_1h_allCams-91_0.91conf_212dist_3ilen.graphml',\n",
       " 'ttt.graphml',\n",
       " '2016-07-21T15:00:00Z_1h_allCams-92_0.92conf_212dist_3ilen.graphml']"
      ]
     },
     "execution_count": 4,
     "metadata": {},
     "output_type": "execute_result"
    }
   ],
   "source": [
    "graph_files"
   ]
  },
  {
   "cell_type": "markdown",
   "metadata": {},
   "source": [
    "# Network Analysis - Example: One hour Network\n",
    "* Confidence 0.99, 212px radius, 3 frames as intractionlength.\n",
    "* hour-Networks 21.07.2016\n",
    "* cutoff 10\n",
    "* gap size 2\n",
    "* '2016-07-21T15:00:00Z_1h_allCams-99_0.99conf_212dist_3ilen.graphml'"
   ]
  },
  {
   "cell_type": "code",
   "execution_count": 5,
   "metadata": {
    "ExecuteTime": {
     "end_time": "2017-02-25T22:46:41.217193",
     "start_time": "2017-02-25T22:46:41.162345"
    },
    "collapsed": false
   },
   "outputs": [],
   "source": [
    "# graph_list = []\n",
    "\n",
    "# for eg in graph_files:\n",
    "#     G = nx.read_graphml(eg)\n",
    "#     date = eg.split(\"_\")[0]\n",
    "#     date_dt = datetime.datetime.strptime(date, \"%Y-%m-%dT%H:%M:%SZ\").replace(tzinfo=pytz.UTC)\n",
    "#     date_ts = date_dt.timestamp()\n",
    "#     graph_list.append((date_dt,G))\n",
    "\n",
    "# G = graph_list[0][1]"
   ]
  },
  {
   "cell_type": "code",
   "execution_count": 5,
   "metadata": {
    "ExecuteTime": {
     "end_time": "2017-03-02T16:38:13.332863",
     "start_time": "2017-03-02T16:38:07.112184"
    },
    "collapsed": false
   },
   "outputs": [],
   "source": [
    "G = nx.read_graphml('TTT_0.95conf_212dist_3ilen.graphml')"
   ]
  },
  {
   "cell_type": "markdown",
   "metadata": {
    "ExecuteTime": {
     "end_time": "2017-01-25T17:18:07.773835",
     "start_time": "2017-01-25T17:18:07.770664"
    }
   },
   "source": [
    "## Global Properties"
   ]
  },
  {
   "cell_type": "markdown",
   "metadata": {
    "ExecuteTime": {
     "end_time": "2017-01-25T17:19:32.070603",
     "start_time": "2017-01-25T17:19:32.067463"
    }
   },
   "source": [
    "### Nodes, Edges, average Degree and Density"
   ]
  },
  {
   "cell_type": "code",
   "execution_count": 6,
   "metadata": {
    "ExecuteTime": {
     "end_time": "2017-03-02T16:38:17.187919",
     "start_time": "2017-03-02T16:38:17.178407"
    },
    "collapsed": false
   },
   "outputs": [
    {
     "name": "stdout",
     "output_type": "stream",
     "text": [
      "Name: \n",
      "Type: Graph\n",
      "Number of nodes: 1024\n",
      "Number of edges: 112144\n",
      "Average degree: 219.0312\n"
     ]
    }
   ],
   "source": [
    "print(nx.info(G))"
   ]
  },
  {
   "cell_type": "code",
   "execution_count": 7,
   "metadata": {
    "ExecuteTime": {
     "end_time": "2017-03-02T16:38:18.870712",
     "start_time": "2017-03-02T16:38:18.854908"
    },
    "collapsed": false
   },
   "outputs": [
    {
     "data": {
      "text/plain": [
       "219.03125"
      ]
     },
     "execution_count": 7,
     "metadata": {},
     "output_type": "execute_result"
    }
   ],
   "source": [
    "Series(G.degree()).mean()"
   ]
  },
  {
   "cell_type": "code",
   "execution_count": 8,
   "metadata": {
    "ExecuteTime": {
     "end_time": "2017-03-02T16:38:21.335350",
     "start_time": "2017-03-02T16:38:21.325900"
    },
    "collapsed": false
   },
   "outputs": [
    {
     "data": {
      "text/plain": [
       "0.21410679374389052"
      ]
     },
     "execution_count": 8,
     "metadata": {},
     "output_type": "execute_result"
    }
   ],
   "source": [
    "density = nx.density(G)\n",
    "density"
   ]
  },
  {
   "cell_type": "markdown",
   "metadata": {},
   "source": [
    "### Degree distribution"
   ]
  },
  {
   "cell_type": "code",
   "execution_count": 9,
   "metadata": {
    "ExecuteTime": {
     "end_time": "2017-03-02T16:38:24.388487",
     "start_time": "2017-03-02T16:38:23.966323"
    },
    "collapsed": false
   },
   "outputs": [
    {
     "data": {
      "text/plain": [
       "<matplotlib.axes._subplots.AxesSubplot at 0x7f0f87508b70>"
      ]
     },
     "execution_count": 9,
     "metadata": {},
     "output_type": "execute_result"
    },
    {
     "data": {
      "image/png": "[encoded data removed]",
      "text/plain": [
       "<matplotlib.figure.Figure at 0x7f0f8750b518>"
      ]
     },
     "metadata": {},
     "output_type": "display_data"
    }
   ],
   "source": [
    "degrees = G.degree().values()\n",
    "s = Series(list(degrees))\n",
    "s.hist(bins=25)"
   ]
  },
  {
   "cell_type": "code",
   "execution_count": 10,
   "metadata": {
    "ExecuteTime": {
     "end_time": "2017-03-02T16:38:31.614470",
     "start_time": "2017-03-02T16:38:31.595827"
    },
    "collapsed": false
   },
   "outputs": [
    {
     "data": {
      "text/plain": [
       "count    1024.000000\n",
       "mean      219.031250\n",
       "std       108.043287\n",
       "min         1.000000\n",
       "25%       140.000000\n",
       "50%       232.000000\n",
       "75%       300.250000\n",
       "max       504.000000\n",
       "dtype: float64"
      ]
     },
     "execution_count": 10,
     "metadata": {},
     "output_type": "execute_result"
    }
   ],
   "source": [
    "s.describe()"
   ]
  },
  {
   "cell_type": "markdown",
   "metadata": {},
   "source": [
    "### Edge weights distribution"
   ]
  },
  {
   "cell_type": "code",
   "execution_count": 11,
   "metadata": {
    "ExecuteTime": {
     "end_time": "2017-03-02T16:38:42.835850",
     "start_time": "2017-03-02T16:38:41.822568"
    },
    "collapsed": false
   },
   "outputs": [
    {
     "data": {
      "text/plain": [
       "<matplotlib.axes._subplots.AxesSubplot at 0x7f0f875525f8>"
      ]
     },
     "execution_count": 11,
     "metadata": {},
     "output_type": "execute_result"
    },
    {
     "data": {
      "image/png": "[encoded data removed]",
      "text/plain": [
       "<matplotlib.figure.Figure at 0x7f0f8759b358>"
      ]
     },
     "metadata": {},
     "output_type": "display_data"
    }
   ],
   "source": [
    "l = []\n",
    "\n",
    "for e in G.edges():\n",
    "    l.append(G.get_edge_data(e[0],e[1]).get(\"frequency\"))\n",
    "    # totalduration\n",
    "\n",
    "edge_weights = Series(l)\n",
    "\n",
    "fig, ax = plt.subplots()\n",
    "#ax.set_yscale('log')\n",
    "edge_weights.hist(bins=100)"
   ]
  },
  {
   "cell_type": "code",
   "execution_count": 12,
   "metadata": {
    "ExecuteTime": {
     "end_time": "2017-03-02T16:38:47.930061",
     "start_time": "2017-03-02T16:38:47.917375"
    },
    "collapsed": false
   },
   "outputs": [
    {
     "data": {
      "text/plain": [
       "1.0"
      ]
     },
     "execution_count": 12,
     "metadata": {},
     "output_type": "execute_result"
    }
   ],
   "source": [
    "edge_weights.median()"
   ]
  },
  {
   "cell_type": "markdown",
   "metadata": {},
   "source": [
    "### Weighted Degree Distribution"
   ]
  },
  {
   "cell_type": "code",
   "execution_count": 13,
   "metadata": {
    "ExecuteTime": {
     "end_time": "2017-03-02T16:38:52.815516",
     "start_time": "2017-03-02T16:38:52.171712"
    },
    "collapsed": false
   },
   "outputs": [
    {
     "data": {
      "text/plain": [
       "<matplotlib.axes._subplots.AxesSubplot at 0x7f0f876280b8>"
      ]
     },
     "execution_count": 13,
     "metadata": {},
     "output_type": "execute_result"
    },
    {
     "data": {
      "image/png": "[encoded data removed]",
      "text/plain": [
       "<matplotlib.figure.Figure at 0x7f0f874e6940>"
      ]
     },
     "metadata": {},
     "output_type": "display_data"
    }
   ],
   "source": [
    "#degrees = G.degree(weight='frequency').values()\n",
    "degrees = G.degree(weight='totalduration').values()\n",
    "s = Series(list(degrees))\n",
    "s.hist(bins=50)"
   ]
  },
  {
   "cell_type": "code",
   "execution_count": 14,
   "metadata": {
    "ExecuteTime": {
     "end_time": "2017-03-02T16:39:16.808216",
     "start_time": "2017-03-02T16:39:16.144618"
    },
    "collapsed": false
   },
   "outputs": [
    {
     "data": {
      "text/plain": [
       "<matplotlib.axes._subplots.AxesSubplot at 0x7f0f876f7c18>"
      ]
     },
     "execution_count": 14,
     "metadata": {},
     "output_type": "execute_result"
    },
    {
     "data": {
      "image/png": "[encoded data removed]",
      "text/plain": [
       "<matplotlib.figure.Figure at 0x7f0fd4b87a58>"
      ]
     },
     "metadata": {},
     "output_type": "display_data"
    }
   ],
   "source": [
    "#degrees = G.degree(weight='frequency').values()\n",
    "degrees = G.degree(weight='totalduration').values()\n",
    "s = Series(list(degrees))\n",
    "s.hist(bins=50)"
   ]
  },
  {
   "cell_type": "markdown",
   "metadata": {},
   "source": [
    "### Number of components and size distribution"
   ]
  },
  {
   "cell_type": "code",
   "execution_count": 15,
   "metadata": {
    "ExecuteTime": {
     "end_time": "2017-03-02T16:39:27.152350",
     "start_time": "2017-03-02T16:39:25.504402"
    },
    "collapsed": false
   },
   "outputs": [
    {
     "name": "stdout",
     "output_type": "stream",
     "text": [
      "Number of components: 1\n"
     ]
    },
    {
     "data": {
      "text/plain": [
       "Counter({1024: 1})"
      ]
     },
     "execution_count": 15,
     "metadata": {},
     "output_type": "execute_result"
    }
   ],
   "source": [
    "Gcc = sorted(nx.connected_component_subgraphs(G), key = len, reverse=True)\n",
    "print(\"Number of components: {}\".format(len(Gcc)))\n",
    "\n",
    "size_components = []\n",
    "for comp in Gcc:\n",
    "    size_components.append(nx.number_of_nodes(comp))\n",
    "    \n",
    "Counter(list(size_components))"
   ]
  },
  {
   "cell_type": "code",
   "execution_count": 16,
   "metadata": {
    "ExecuteTime": {
     "end_time": "2017-03-02T16:39:29.589855",
     "start_time": "2017-03-02T16:39:29.484660"
    },
    "collapsed": true
   },
   "outputs": [],
   "source": [
    "# keepthe biggest Component\n",
    "G = Gcc[0]"
   ]
  },
  {
   "cell_type": "markdown",
   "metadata": {},
   "source": [
    "There is one big component!"
   ]
  },
  {
   "cell_type": "markdown",
   "metadata": {},
   "source": [
    "### Diameter"
   ]
  },
  {
   "cell_type": "code",
   "execution_count": 17,
   "metadata": {
    "ExecuteTime": {
     "end_time": "2017-03-02T16:40:07.645574",
     "start_time": "2017-03-02T16:39:31.584225"
    },
    "collapsed": false
   },
   "outputs": [
    {
     "name": "stdout",
     "output_type": "stream",
     "text": [
      "Diameter: 4\n"
     ]
    }
   ],
   "source": [
    "diameter = nx.diameter(G)\n",
    "print(\"Diameter: {}\".format(diameter))"
   ]
  },
  {
   "cell_type": "markdown",
   "metadata": {},
   "source": [
    "### Global clustering coefficient"
   ]
  },
  {
   "cell_type": "code",
   "execution_count": 18,
   "metadata": {
    "ExecuteTime": {
     "end_time": "2017-03-02T16:40:25.866423",
     "start_time": "2017-03-02T16:40:12.218238"
    },
    "collapsed": false
   },
   "outputs": [
    {
     "data": {
      "text/plain": [
       "0.3653878152710078"
      ]
     },
     "execution_count": 18,
     "metadata": {},
     "output_type": "execute_result"
    }
   ],
   "source": [
    "cc = nx.average_clustering(G)\n",
    "cc"
   ]
  },
  {
   "cell_type": "markdown",
   "metadata": {},
   "source": [
    "### Average shortest path length"
   ]
  },
  {
   "cell_type": "code",
   "execution_count": 19,
   "metadata": {
    "ExecuteTime": {
     "end_time": "2017-03-02T16:41:07.792014",
     "start_time": "2017-03-02T16:40:31.066062"
    },
    "collapsed": true
   },
   "outputs": [],
   "source": [
    "average_shortest_path = nx.average_shortest_path_length(G)"
   ]
  },
  {
   "cell_type": "code",
   "execution_count": 20,
   "metadata": {
    "ExecuteTime": {
     "end_time": "2017-03-02T16:41:07.802889",
     "start_time": "2017-03-02T16:41:07.795340"
    },
    "collapsed": false
   },
   "outputs": [
    {
     "name": "stdout",
     "output_type": "stream",
     "text": [
      "Average shortest path: 1.8116714015151516\n"
     ]
    }
   ],
   "source": [
    "print(\"Average shortest path: {}\".format(average_shortest_path))"
   ]
  },
  {
   "cell_type": "markdown",
   "metadata": {},
   "source": [
    "## Compare to Random Graph Model\n",
    "* degree distribution (not biniminal/poisson) - ja sieht nicht binominalverteilt aus, sieht ziemlich nach scale free, wenige hubs, viele knote mit wenig links\n",
    "* connectedness (giant component) - ja sieht ziemlich verbunden aus alles, gibt nur eine große komponente\n",
    "* average path length (~diameter) - ist hier auch ziemlich klein, Small-world phenomenon, $d = \\frac{\\ln nodes}{\\ln av degree}$\n",
    "* clustering coefficient - müsste höher sein als bei einem random network, jep ist es auch"
   ]
  },
  {
   "cell_type": "code",
   "execution_count": 21,
   "metadata": {
    "ExecuteTime": {
     "end_time": "2017-03-02T16:41:08.469468",
     "start_time": "2017-03-02T16:41:07.806713"
    },
    "collapsed": false
   },
   "outputs": [
    {
     "data": {
      "text/plain": [
       "'Name: gnp_random_graph(1024,0.21410679374389052)\\nType: Graph\\nNumber of nodes: 1024\\nNumber of edges: 111881\\nAverage degree: 218.5176'"
      ]
     },
     "execution_count": 21,
     "metadata": {},
     "output_type": "execute_result"
    }
   ],
   "source": [
    "random_g = nx.erdos_renyi_graph(n=nx.number_of_nodes(G), p=density)\n",
    "nx.info(random_g)"
   ]
  },
  {
   "cell_type": "code",
   "execution_count": 22,
   "metadata": {
    "ExecuteTime": {
     "end_time": "2017-03-02T16:41:16.288272",
     "start_time": "2017-03-02T16:41:08.472622"
    },
    "collapsed": false
   },
   "outputs": [
    {
     "data": {
      "text/plain": [
       "0.21353166266016468"
      ]
     },
     "execution_count": 22,
     "metadata": {},
     "output_type": "execute_result"
    }
   ],
   "source": [
    "nx.average_clustering(random_g)"
   ]
  },
  {
   "cell_type": "code",
   "execution_count": 23,
   "metadata": {
    "ExecuteTime": {
     "end_time": "2017-03-02T16:41:29.273833",
     "start_time": "2017-03-02T16:41:16.293340"
    },
    "collapsed": false
   },
   "outputs": [
    {
     "data": {
      "text/plain": [
       "0.3653878152710078"
      ]
     },
     "execution_count": 23,
     "metadata": {},
     "output_type": "execute_result"
    }
   ],
   "source": [
    "nx.average_clustering(G)"
   ]
  },
  {
   "cell_type": "markdown",
   "metadata": {},
   "source": [
    "## Local Structure (node level metrics)"
   ]
  },
  {
   "cell_type": "markdown",
   "metadata": {
    "ExecuteTime": {
     "end_time": "2017-01-25T18:00:45.276535",
     "start_time": "2017-01-25T18:00:45.272442"
    }
   },
   "source": [
    "### Betweennes Centrality"
   ]
  },
  {
   "cell_type": "code",
   "execution_count": 24,
   "metadata": {
    "ExecuteTime": {
     "end_time": "2017-03-02T16:43:01.582751",
     "start_time": "2017-03-02T16:41:29.277580"
    },
    "collapsed": false
   },
   "outputs": [],
   "source": [
    "bc = nx.betweenness.betweenness_centrality(G)"
   ]
  },
  {
   "cell_type": "code",
   "execution_count": 25,
   "metadata": {
    "ExecuteTime": {
     "end_time": "2017-03-02T16:43:01.947725",
     "start_time": "2017-03-02T16:43:01.586477"
    },
    "collapsed": false,
    "scrolled": true
   },
   "outputs": [
    {
     "data": {
      "text/plain": [
       "<matplotlib.axes._subplots.AxesSubplot at 0x7f0f8770b208>"
      ]
     },
     "execution_count": 25,
     "metadata": {},
     "output_type": "execute_result"
    },
    {
     "data": {
      "image/png": "[encoded data removed]",
      "text/plain": [
       "<matplotlib.figure.Figure at 0x7f0f876e6ba8>"
      ]
     },
     "metadata": {},
     "output_type": "display_data"
    }
   ],
   "source": [
    "Series(bc).hist(bins = 25)"
   ]
  },
  {
   "cell_type": "markdown",
   "metadata": {},
   "source": [
    "### Degree Centrality"
   ]
  },
  {
   "cell_type": "code",
   "execution_count": 26,
   "metadata": {
    "ExecuteTime": {
     "end_time": "2017-03-02T16:43:01.959638",
     "start_time": "2017-03-02T16:43:01.950711"
    },
    "collapsed": true
   },
   "outputs": [],
   "source": [
    "dc = nx.degree_centrality(G)"
   ]
  },
  {
   "cell_type": "code",
   "execution_count": 27,
   "metadata": {
    "ExecuteTime": {
     "end_time": "2017-03-02T16:43:02.403930",
     "start_time": "2017-03-02T16:43:01.962834"
    },
    "collapsed": false
   },
   "outputs": [
    {
     "data": {
      "text/plain": [
       "<matplotlib.axes._subplots.AxesSubplot at 0x7f0f8767def0>"
      ]
     },
     "execution_count": 27,
     "metadata": {},
     "output_type": "execute_result"
    },
    {
     "data": {
      "image/png": "[encoded data removed]",
      "text/plain": [
       "<matplotlib.figure.Figure at 0x7f0f877ddeb8>"
      ]
     },
     "metadata": {},
     "output_type": "display_data"
    }
   ],
   "source": [
    "Series(dc).hist(bins = 25)"
   ]
  },
  {
   "cell_type": "markdown",
   "metadata": {},
   "source": [
    "### Closeness Centrality"
   ]
  },
  {
   "cell_type": "code",
   "execution_count": 28,
   "metadata": {
    "ExecuteTime": {
     "end_time": "2017-03-02T16:43:38.015496",
     "start_time": "2017-03-02T16:43:02.407569"
    },
    "collapsed": true
   },
   "outputs": [],
   "source": [
    "closenessc = nx.closeness.closeness_centrality(G)"
   ]
  },
  {
   "cell_type": "code",
   "execution_count": 30,
   "metadata": {
    "ExecuteTime": {
     "end_time": "2017-03-02T16:50:18.167425",
     "start_time": "2017-03-02T16:50:17.641088"
    },
    "collapsed": false
   },
   "outputs": [
    {
     "data": {
      "text/plain": [
       "<matplotlib.axes._subplots.AxesSubplot at 0x7f0f874ec588>"
      ]
     },
     "execution_count": 30,
     "metadata": {},
     "output_type": "execute_result"
    },
    {
     "data": {
      "image/png": "[encoded data removed]",
      "text/plain": [
       "<matplotlib.figure.Figure at 0x7f0f8766a0b8>"
      ]
     },
     "metadata": {},
     "output_type": "display_data"
    }
   ],
   "source": [
    "Series(closenessc).hist(bins=50)"
   ]
  },
  {
   "cell_type": "markdown",
   "metadata": {},
   "source": [
    "# Plot Closeness and Age"
   ]
  },
  {
   "cell_type": "code",
   "execution_count": 31,
   "metadata": {
    "ExecuteTime": {
     "end_time": "2017-03-02T16:50:24.941550",
     "start_time": "2017-03-02T16:50:24.930090"
    },
    "collapsed": true
   },
   "outputs": [],
   "source": [
    "import hatching as ht"
   ]
  },
  {
   "cell_type": "code",
   "execution_count": 32,
   "metadata": {
    "ExecuteTime": {
     "end_time": "2017-03-02T16:50:33.619869",
     "start_time": "2017-03-02T16:50:33.607439"
    },
    "collapsed": true
   },
   "outputs": [],
   "source": [
    "start = \"2016-07-26T12:00:00Z\"\n",
    "start_dt = datetime.datetime.strptime(start, \"%Y-%m-%dT%H:%M:%SZ\").replace(tzinfo=pytz.UTC)"
   ]
  },
  {
   "cell_type": "code",
   "execution_count": 33,
   "metadata": {
    "ExecuteTime": {
     "end_time": "2017-03-02T16:50:38.380639",
     "start_time": "2017-03-02T16:50:38.369512"
    },
    "collapsed": false
   },
   "outputs": [],
   "source": [
    "def getAges(g, date_dt):\n",
    "    aa = ht.get_all_bees_age(date_dt)\n",
    "    df = DataFrame([int(x) for x in list(g.nodes())], columns=['id'])\n",
    "    df[\"age\"] = df.id.apply(lambda x: aa.iloc[x].age)\n",
    "    return df"
   ]
  },
  {
   "cell_type": "code",
   "execution_count": 34,
   "metadata": {
    "ExecuteTime": {
     "end_time": "2017-03-02T16:50:41.145046",
     "start_time": "2017-03-02T16:50:41.137535"
    },
    "collapsed": true
   },
   "outputs": [],
   "source": [
    "def addCentrality(df, g):\n",
    "    closenessC = nx.closeness_centrality(g)\n",
    "    df['closeness'] = df.id.apply(lambda x: closenessC.get(str(x)))\n",
    "    return df"
   ]
  },
  {
   "cell_type": "code",
   "execution_count": 35,
   "metadata": {
    "ExecuteTime": {
     "end_time": "2017-03-02T16:50:44.551486",
     "start_time": "2017-03-02T16:50:43.959545"
    },
    "collapsed": false
   },
   "outputs": [],
   "source": [
    "df = getAges(G, start_dt)"
   ]
  },
  {
   "cell_type": "code",
   "execution_count": 36,
   "metadata": {
    "ExecuteTime": {
     "end_time": "2017-03-02T16:51:20.922796",
     "start_time": "2017-03-02T16:50:44.846919"
    },
    "collapsed": false
   },
   "outputs": [],
   "source": [
    "df = addCentrality(df,G)"
   ]
  },
  {
   "cell_type": "code",
   "execution_count": 37,
   "metadata": {
    "ExecuteTime": {
     "end_time": "2017-03-02T16:51:21.277477",
     "start_time": "2017-03-02T16:51:20.926810"
    },
    "collapsed": false
   },
   "outputs": [
    {
     "data": {
      "text/plain": [
       "<matplotlib.axes._subplots.AxesSubplot at 0x7f0f87a53780>"
      ]
     },
     "execution_count": 37,
     "metadata": {},
     "output_type": "execute_result"
    },
    {
     "data": {
      "image/png": "[encoded data removed]",
      "text/plain": [
       "<matplotlib.figure.Figure at 0x7f0f87a09438>"
      ]
     },
     "metadata": {},
     "output_type": "display_data"
    }
   ],
   "source": [
    "df.plot.scatter(x='age', y='closeness', s=2, alpha=0.5)"
   ]
  },
  {
   "cell_type": "markdown",
   "metadata": {},
   "source": [
    "# Find the minimum between those two distributions"
   ]
  },
  {
   "cell_type": "code",
   "execution_count": 37,
   "metadata": {
    "ExecuteTime": {
     "end_time": "2017-02-25T22:50:10.869934",
     "start_time": "2017-02-25T22:50:10.222743"
    },
    "collapsed": false
   },
   "outputs": [],
   "source": [
    "from sklearn.cluster import KMeans"
   ]
  },
  {
   "cell_type": "code",
   "execution_count": 38,
   "metadata": {
    "ExecuteTime": {
     "end_time": "2017-02-25T22:50:10.879003",
     "start_time": "2017-02-25T22:50:10.873494"
    },
    "collapsed": false
   },
   "outputs": [],
   "source": [
    "l = list(df.closeness)"
   ]
  },
  {
   "cell_type": "code",
   "execution_count": 39,
   "metadata": {
    "ExecuteTime": {
     "end_time": "2017-02-25T22:50:10.932110",
     "start_time": "2017-02-25T22:50:10.881581"
    },
    "collapsed": true
   },
   "outputs": [],
   "source": [
    "X = np.array(l)"
   ]
  },
  {
   "cell_type": "code",
   "execution_count": 40,
   "metadata": {
    "ExecuteTime": {
     "end_time": "2017-02-25T22:50:11.824549",
     "start_time": "2017-02-25T22:50:10.935553"
    },
    "collapsed": false
   },
   "outputs": [
    {
     "data": {
      "text/plain": [
       "array([[<matplotlib.axes._subplots.AxesSubplot object at 0x7f6afbfc86a0>]], dtype=object)"
      ]
     },
     "execution_count": 40,
     "metadata": {},
     "output_type": "execute_result"
    },
    {
     "data": {
      "image/png": "[encoded data removed]",
      "text/plain": [
       "<matplotlib.figure.Figure at 0x7f6afbfca828>"
      ]
     },
     "metadata": {},
     "output_type": "display_data"
    }
   ],
   "source": [
    "DataFrame(X).hist(bins=100)"
   ]
  },
  {
   "cell_type": "code",
   "execution_count": 41,
   "metadata": {
    "ExecuteTime": {
     "end_time": "2017-02-25T22:50:11.880054",
     "start_time": "2017-02-25T22:50:11.827306"
    },
    "collapsed": false
   },
   "outputs": [],
   "source": [
    "kmeans = KMeans(n_clusters=3, random_state=0).fit(X.reshape(-1, 1))"
   ]
  },
  {
   "cell_type": "code",
   "execution_count": 42,
   "metadata": {
    "ExecuteTime": {
     "end_time": "2017-02-25T22:50:11.898458",
     "start_time": "2017-02-25T22:50:11.882868"
    },
    "collapsed": false
   },
   "outputs": [],
   "source": [
    "df['cluster'] = kmeans.labels_"
   ]
  },
  {
   "cell_type": "code",
   "execution_count": 43,
   "metadata": {
    "ExecuteTime": {
     "end_time": "2017-02-25T22:50:11.944245",
     "start_time": "2017-02-25T22:50:11.901067"
    },
    "collapsed": false
   },
   "outputs": [],
   "source": [
    "df['cluster'] = df.cluster.apply(lambda x: x + 1)"
   ]
  },
  {
   "cell_type": "code",
   "execution_count": 44,
   "metadata": {
    "ExecuteTime": {
     "end_time": "2017-02-25T22:50:11.997943",
     "start_time": "2017-02-25T22:50:11.947576"
    },
    "collapsed": false
   },
   "outputs": [
    {
     "data": {
      "text/plain": [
       "array([[ 0.50114075],\n",
       "       [ 0.37425114],\n",
       "       [ 0.5510001 ]])"
      ]
     },
     "execution_count": 44,
     "metadata": {},
     "output_type": "execute_result"
    }
   ],
   "source": [
    "kmeans.cluster_centers_"
   ]
  },
  {
   "cell_type": "code",
   "execution_count": 45,
   "metadata": {
    "ExecuteTime": {
     "end_time": "2017-02-25T22:50:12.518021",
     "start_time": "2017-02-25T22:50:12.001538"
    },
    "collapsed": false
   },
   "outputs": [
    {
     "data": {
      "text/plain": [
       "<matplotlib.lines.Line2D at 0x7f6afc0ecef0>"
      ]
     },
     "execution_count": 45,
     "metadata": {},
     "output_type": "execute_result"
    },
    {
     "data": {
      "image/png": "[encoded data removed]",
      "text/plain": [
       "<matplotlib.figure.Figure at 0x7f6afc0b38d0>"
      ]
     },
     "metadata": {},
     "output_type": "display_data"
    }
   ],
   "source": [
    "fig, ax = plt.subplots()\n",
    "df.plot.scatter(x = 'age', y='closeness', s=5, c='cluster', edgecolors='none', cmap='summer', alpha=0.75, ax=ax)\n",
    "plt.axvline(-1, color='0.25', linestyle='dotted', linewidth=1)\n",
    "#plt.text(5,8,'~6%',rotation=0)"
   ]
  },
  {
   "cell_type": "markdown",
   "metadata": {},
   "source": [
    "# Remove nodes with low closeness"
   ]
  },
  {
   "cell_type": "code",
   "execution_count": 46,
   "metadata": {
    "ExecuteTime": {
     "end_time": "2017-02-25T22:50:12.526149",
     "start_time": "2017-02-25T22:50:12.520650"
    },
    "collapsed": false
   },
   "outputs": [
    {
     "data": {
      "text/plain": [
       "1"
      ]
     },
     "execution_count": 46,
     "metadata": {},
     "output_type": "execute_result"
    }
   ],
   "source": [
    "np.argmin(kmeans.cluster_centers_)"
   ]
  },
  {
   "cell_type": "code",
   "execution_count": 47,
   "metadata": {
    "ExecuteTime": {
     "end_time": "2017-02-25T22:50:12.585149",
     "start_time": "2017-02-25T22:50:12.528718"
    },
    "collapsed": false
   },
   "outputs": [],
   "source": [
    "removeIDS = list(df[df.cluster == np.argmin(kmeans.cluster_centers_)+1].id)"
   ]
  },
  {
   "cell_type": "code",
   "execution_count": 48,
   "metadata": {
    "ExecuteTime": {
     "end_time": "2017-02-25T22:50:12.629431",
     "start_time": "2017-02-25T22:50:12.588625"
    },
    "collapsed": false
   },
   "outputs": [
    {
     "data": {
      "text/plain": [
       "140"
      ]
     },
     "execution_count": 48,
     "metadata": {},
     "output_type": "execute_result"
    }
   ],
   "source": [
    "len(removeIDS)"
   ]
  },
  {
   "cell_type": "code",
   "execution_count": 49,
   "metadata": {
    "ExecuteTime": {
     "end_time": "2017-02-25T22:50:12.680812",
     "start_time": "2017-02-25T22:50:12.632356"
    },
    "collapsed": false
   },
   "outputs": [],
   "source": [
    "for n in removeIDS:\n",
    "    G.remove_node(str(n))"
   ]
  },
  {
   "cell_type": "code",
   "execution_count": 50,
   "metadata": {
    "ExecuteTime": {
     "end_time": "2017-02-25T22:50:12.732902",
     "start_time": "2017-02-25T22:50:12.684437"
    },
    "collapsed": false
   },
   "outputs": [
    {
     "name": "stdout",
     "output_type": "stream",
     "text": [
      "Name: \n",
      "Type: Graph\n",
      "Number of nodes: 920\n",
      "Number of edges: 88544\n",
      "Average degree: 192.4870\n"
     ]
    }
   ],
   "source": [
    "print(nx.info(G))"
   ]
  },
  {
   "cell_type": "markdown",
   "metadata": {},
   "source": [
    "Noch zusammenhängend?"
   ]
  },
  {
   "cell_type": "code",
   "execution_count": 51,
   "metadata": {
    "ExecuteTime": {
     "end_time": "2017-02-25T22:50:14.087660",
     "start_time": "2017-02-25T22:50:12.736520"
    },
    "collapsed": false
   },
   "outputs": [
    {
     "name": "stdout",
     "output_type": "stream",
     "text": [
      "Number of components: 1\n"
     ]
    },
    {
     "data": {
      "text/plain": [
       "Counter({920: 1})"
      ]
     },
     "execution_count": 51,
     "metadata": {},
     "output_type": "execute_result"
    }
   ],
   "source": [
    "Gcc = sorted(nx.connected_component_subgraphs(G), key = len, reverse=True)\n",
    "print(\"Number of components: {}\".format(len(Gcc)))\n",
    "\n",
    "size_components = []\n",
    "for comp in Gcc:\n",
    "    size_components.append(nx.number_of_nodes(comp))\n",
    "    \n",
    "Counter(list(size_components))"
   ]
  },
  {
   "cell_type": "code",
   "execution_count": 52,
   "metadata": {
    "ExecuteTime": {
     "end_time": "2017-02-25T22:50:14.095664",
     "start_time": "2017-02-25T22:50:14.090399"
    },
    "collapsed": true
   },
   "outputs": [],
   "source": [
    "def plotDegreeDist(G):\n",
    "    degrees = G.degree().values()\n",
    "    s = Series(list(degrees))\n",
    "    s.hist(bins=50)"
   ]
  },
  {
   "cell_type": "code",
   "execution_count": 53,
   "metadata": {
    "ExecuteTime": {
     "end_time": "2017-02-25T22:50:14.806966",
     "start_time": "2017-02-25T22:50:14.099986"
    },
    "collapsed": false
   },
   "outputs": [
    {
     "data": {
      "image/png": "[encoded data removed]",
      "text/plain": [
       "<matplotlib.figure.Figure at 0x7f6afc0b1c50>"
      ]
     },
     "metadata": {},
     "output_type": "display_data"
    }
   ],
   "source": [
    "plotDegreeDist(G)"
   ]
  },
  {
   "cell_type": "markdown",
   "metadata": {},
   "source": [
    "# Threshold Edges"
   ]
  },
  {
   "cell_type": "code",
   "execution_count": 54,
   "metadata": {
    "ExecuteTime": {
     "end_time": "2017-02-25T22:50:15.015754",
     "start_time": "2017-02-25T22:50:14.810259"
    },
    "collapsed": false,
    "scrolled": false
   },
   "outputs": [],
   "source": [
    "lowedges = []\n",
    "for a,b in list(G.edges()):\n",
    "    data = G.get_edge_data(a,b)\n",
    "    f = data.get('frequency')\n",
    "    if f <= 2:\n",
    "        lowedges.append((a,b))\n",
    "    "
   ]
  },
  {
   "cell_type": "code",
   "execution_count": 55,
   "metadata": {
    "ExecuteTime": {
     "end_time": "2017-02-25T22:50:15.026215",
     "start_time": "2017-02-25T22:50:15.019529"
    },
    "collapsed": false
   },
   "outputs": [
    {
     "data": {
      "text/plain": [
       "66909"
      ]
     },
     "execution_count": 55,
     "metadata": {},
     "output_type": "execute_result"
    }
   ],
   "source": [
    "len(lowedges)"
   ]
  },
  {
   "cell_type": "code",
   "execution_count": 56,
   "metadata": {
    "ExecuteTime": {
     "end_time": "2017-02-25T22:50:15.194199",
     "start_time": "2017-02-25T22:50:15.029626"
    },
    "collapsed": false
   },
   "outputs": [],
   "source": [
    "for e in lowedges:\n",
    "    G.remove_edge(e[0],e[1])"
   ]
  },
  {
   "cell_type": "code",
   "execution_count": 57,
   "metadata": {
    "ExecuteTime": {
     "end_time": "2017-02-25T22:50:15.207699",
     "start_time": "2017-02-25T22:50:15.199490"
    },
    "collapsed": false
   },
   "outputs": [
    {
     "data": {
      "text/plain": [
       "'Name: \\nType: Graph\\nNumber of nodes: 920\\nNumber of edges: 21635\\nAverage degree:  47.0326'"
      ]
     },
     "execution_count": 57,
     "metadata": {},
     "output_type": "execute_result"
    }
   ],
   "source": [
    "nx.info(G)"
   ]
  },
  {
   "cell_type": "code",
   "execution_count": 58,
   "metadata": {
    "ExecuteTime": {
     "end_time": "2017-02-25T22:50:15.798249",
     "start_time": "2017-02-25T22:50:15.211027"
    },
    "collapsed": false
   },
   "outputs": [
    {
     "name": "stdout",
     "output_type": "stream",
     "text": [
      "Number of components: 9\n"
     ]
    },
    {
     "data": {
      "text/plain": [
       "Counter({1: 8, 912: 1})"
      ]
     },
     "execution_count": 58,
     "metadata": {},
     "output_type": "execute_result"
    }
   ],
   "source": [
    "Gcc = sorted(nx.connected_component_subgraphs(G), key = len, reverse=True)\n",
    "print(\"Number of components: {}\".format(len(Gcc)))\n",
    "\n",
    "size_components = []\n",
    "for comp in Gcc:\n",
    "    size_components.append(nx.number_of_nodes(comp))\n",
    "    \n",
    "Counter(list(size_components))"
   ]
  },
  {
   "cell_type": "code",
   "execution_count": 59,
   "metadata": {
    "ExecuteTime": {
     "end_time": "2017-02-25T22:50:15.823561",
     "start_time": "2017-02-25T22:50:15.801636"
    },
    "collapsed": true
   },
   "outputs": [],
   "source": [
    "G = Gcc[0]"
   ]
  },
  {
   "cell_type": "code",
   "execution_count": 60,
   "metadata": {
    "ExecuteTime": {
     "end_time": "2017-02-25T22:50:17.400489",
     "start_time": "2017-02-25T22:50:15.828293"
    },
    "collapsed": true
   },
   "outputs": [],
   "source": [
    "nx.write_graphml(G, 'ttt.graphml')"
   ]
  },
  {
   "cell_type": "markdown",
   "metadata": {},
   "source": [
    "# Community Detection"
   ]
  },
  {
   "cell_type": "code",
   "execution_count": 61,
   "metadata": {
    "ExecuteTime": {
     "end_time": "2017-02-25T22:50:17.429350",
     "start_time": "2017-02-25T22:50:17.406195"
    },
    "collapsed": true
   },
   "outputs": [],
   "source": [
    "def getCommunitiesFastGreedy(g, limit):\n",
    "\n",
    "    fg = g.community_fastgreedy()\n",
    "    vc = fg.as_clustering(fg.optimal_count)\n",
    "\n",
    "    # keep communities with lots of members\n",
    "    cl = [(e,s) for e,s in enumerate(vc.sizes()) if s > limit]\n",
    "\n",
    "    print(cl)\n",
    "\n",
    "    a,b = zip(*cl)\n",
    "\n",
    "    a = list(a)\n",
    "    b = list(b)\n",
    "\n",
    "    membership = vc.membership\n",
    "    ids = [[] for i in range(len(vc.sizes()))]\n",
    "\n",
    "    for name, membership in zip(g.vs, membership):\n",
    "        if membership in a:\n",
    "            ids[membership].append(int(name['id']))\n",
    "\n",
    "    return [i for i in ids if (len(i) > limit)]"
   ]
  },
  {
   "cell_type": "code",
   "execution_count": 62,
   "metadata": {
    "ExecuteTime": {
     "end_time": "2017-02-25T22:50:17.797026",
     "start_time": "2017-02-25T22:50:17.437076"
    },
    "collapsed": true
   },
   "outputs": [],
   "source": [
    "g = ig.Graph.Read_GraphML('ttt.graphml')"
   ]
  },
  {
   "cell_type": "code",
   "execution_count": 63,
   "metadata": {
    "ExecuteTime": {
     "end_time": "2017-02-25T22:50:18.459387",
     "start_time": "2017-02-25T22:50:17.801567"
    },
    "collapsed": false
   },
   "outputs": [
    {
     "name": "stdout",
     "output_type": "stream",
     "text": [
      "[(0, 195), (1, 353), (2, 348), (3, 13), (4, 3)]\n"
     ]
    }
   ],
   "source": [
    "c = getCommunitiesFastGreedy(g, 0)"
   ]
  },
  {
   "cell_type": "code",
   "execution_count": 64,
   "metadata": {
    "ExecuteTime": {
     "end_time": "2017-02-25T22:50:18.506720",
     "start_time": "2017-02-25T22:50:18.462913"
    },
    "collapsed": true
   },
   "outputs": [],
   "source": [
    "def getDFwithIDSts(ids, begin, end, conn):\n",
    "    ids_str = ', '.join([str(x) for x in ids])\n",
    "    sql = '''\n",
    "        SELECT d.XPOS, d.YPOS, d.ID, fc.CAM_ID\n",
    "        FROM DETECTIONS d\n",
    "        INNER JOIN FRAME f\n",
    "        ON d.FRAME_ID=f.FRAME_ID\n",
    "        INNER JOIN FRAME_CONTAINER fc\n",
    "        ON f.FC_ID=fc.FC_ID\n",
    "        WHERE d.ID IN ({}) AND\n",
    "        f.TIMESTAMP >= {} AND\n",
    "        f.TIMESTAMP <= {};\n",
    "    '''.format(ids_str, begin,end)\n",
    "    return pd.read_sql(sql, conn)"
   ]
  },
  {
   "cell_type": "code",
   "execution_count": 65,
   "metadata": {
    "ExecuteTime": {
     "end_time": "2017-02-25T22:50:18.570296",
     "start_time": "2017-02-25T22:50:18.510461"
    },
    "collapsed": false
   },
   "outputs": [],
   "source": [
    "db_path = \"/mnt/data/data_2016_07_21_1day.db\"\n",
    "conn = sqlite3.connect(db_path)"
   ]
  },
  {
   "cell_type": "code",
   "execution_count": 66,
   "metadata": {
    "ExecuteTime": {
     "end_time": "2017-02-25T22:50:18.637327",
     "start_time": "2017-02-25T22:50:18.574661"
    },
    "collapsed": true
   },
   "outputs": [],
   "source": [
    "# input: \"2016-07-21T15:00:00Z\"\n",
    "# returns TS\n",
    "def getTS(string):\n",
    "    start_dt = datetime.datetime.strptime(string, \"%Y-%m-%dT%H:%M:%SZ\").replace(tzinfo=pytz.UTC)\n",
    "    return start_dt.timestamp()"
   ]
  },
  {
   "cell_type": "code",
   "execution_count": 67,
   "metadata": {
    "ExecuteTime": {
     "end_time": "2017-02-25T22:51:45.390428",
     "start_time": "2017-02-25T22:50:18.642005"
    },
    "collapsed": false
   },
   "outputs": [],
   "source": [
    "df0 = getDFwithIDSts(c[0], getTS('2016-07-21T06:00:00Z'), getTS('2016-07-21T20:00:00Z'), conn)"
   ]
  },
  {
   "cell_type": "code",
   "execution_count": 70,
   "metadata": {
    "ExecuteTime": {
     "end_time": "2017-02-25T22:52:21.025578",
     "start_time": "2017-02-25T22:52:18.966346"
    },
    "collapsed": false
   },
   "outputs": [
    {
     "name": "stderr",
     "output_type": "stream",
     "text": [
      "/usr/local/lib/python3.5/dist-packages/pandas/core/generic.py:2773: SettingWithCopyWarning: \n",
      "A value is trying to be set on a copy of a slice from a DataFrame.\n",
      "Try using .loc[row_indexer,col_indexer] = value instead\n",
      "\n",
      "See the caveats in the documentation: http://pandas.pydata.org/pandas-docs/stable/indexing.html#indexing-view-versus-copy\n",
      "  self[name] = value\n"
     ]
    },
    {
     "data": {
      "text/plain": [
       "array([[  6.22000000e+02,   1.43000000e+02,   9.00000000e+01, ...,\n",
       "          1.00000000e+00,   1.50000000e+01,   5.60000000e+01],\n",
       "       [  6.20000000e+01,   7.80000000e+01,   6.30000000e+01, ...,\n",
       "          1.24000000e+02,   3.40000000e+02,   2.03100000e+03],\n",
       "       [  6.50000000e+01,   5.40000000e+01,   7.30000000e+01, ...,\n",
       "          5.18000000e+02,   2.56000000e+02,   2.11000000e+02],\n",
       "       ..., \n",
       "       [  1.96000000e+02,   2.15900000e+03,   2.86000000e+03, ...,\n",
       "          1.35000000e+02,   2.20000000e+01,   0.00000000e+00],\n",
       "       [  1.70000000e+02,   1.23700000e+03,   8.92000000e+02, ...,\n",
       "          8.70000000e+01,   1.80000000e+01,   0.00000000e+00],\n",
       "       [  6.80000000e+01,   7.14000000e+02,   1.03400000e+03, ...,\n",
       "          1.17000000e+02,   2.70000000e+01,   0.00000000e+00]])"
      ]
     },
     "execution_count": 70,
     "metadata": {},
     "output_type": "execute_result"
    },
    {
     "data": {
      "image/png": "[encoded data removed]",
      "text/plain": [
       "<matplotlib.figure.Figure at 0x7f6afd1e6198>"
      ]
     },
     "metadata": {},
     "output_type": "display_data"
    }
   ],
   "source": [
    "plotHeatmapXY(len(c[0]), df0, 0, 1)"
   ]
  },
  {
   "cell_type": "code",
   "execution_count": 71,
   "metadata": {
    "ExecuteTime": {
     "end_time": "2017-02-25T22:52:24.985352",
     "start_time": "2017-02-25T22:52:21.028647"
    },
    "collapsed": false
   },
   "outputs": [
    {
     "name": "stderr",
     "output_type": "stream",
     "text": [
      "/usr/local/lib/python3.5/dist-packages/pandas/core/generic.py:2773: SettingWithCopyWarning: \n",
      "A value is trying to be set on a copy of a slice from a DataFrame.\n",
      "Try using .loc[row_indexer,col_indexer] = value instead\n",
      "\n",
      "See the caveats in the documentation: http://pandas.pydata.org/pandas-docs/stable/indexing.html#indexing-view-versus-copy\n",
      "  self[name] = value\n"
     ]
    },
    {
     "data": {
      "text/plain": [
       "array([[  21.,  155.,  718., ...,  275.,  350.,   47.],\n",
       "       [  42.,  636.,  674., ...,  247.,  526.,  201.],\n",
       "       [  81.,  125.,  676., ...,  258.,  519.,  153.],\n",
       "       ..., \n",
       "       [  30.,   84.,  266., ...,  151.,  539.,  471.],\n",
       "       [ 325.,  203.,  346., ...,  103.,  307.,  265.],\n",
       "       [ 414.,  196.,  406., ...,  247.,  242.,  847.]])"
      ]
     },
     "execution_count": 71,
     "metadata": {},
     "output_type": "execute_result"
    },
    {
     "data": {
      "image/png": "[encoded data removed]",
      "text/plain": [
       "<matplotlib.figure.Figure at 0x7f6aff067be0>"
      ]
     },
     "metadata": {},
     "output_type": "display_data"
    }
   ],
   "source": [
    "plotHeatmapXY(len(c[0]), df0, 2, 3)"
   ]
  },
  {
   "cell_type": "code",
   "execution_count": 72,
   "metadata": {
    "ExecuteTime": {
     "end_time": "2017-02-25T22:54:24.371076",
     "start_time": "2017-02-25T22:52:24.989720"
    },
    "collapsed": false
   },
   "outputs": [],
   "source": [
    "df0 = getDFwithIDSts(c[1], getTS('2016-07-21T06:00:00Z'), getTS('2016-07-21T20:00:00Z'), conn)"
   ]
  },
  {
   "cell_type": "code",
   "execution_count": 73,
   "metadata": {
    "ExecuteTime": {
     "end_time": "2017-02-25T22:54:28.904881",
     "start_time": "2017-02-25T22:54:24.377146"
    },
    "collapsed": false
   },
   "outputs": [
    {
     "name": "stderr",
     "output_type": "stream",
     "text": [
      "/usr/local/lib/python3.5/dist-packages/pandas/core/generic.py:2773: SettingWithCopyWarning: \n",
      "A value is trying to be set on a copy of a slice from a DataFrame.\n",
      "Try using .loc[row_indexer,col_indexer] = value instead\n",
      "\n",
      "See the caveats in the documentation: http://pandas.pydata.org/pandas-docs/stable/indexing.html#indexing-view-versus-copy\n",
      "  self[name] = value\n"
     ]
    },
    {
     "data": {
      "text/plain": [
       "array([[   25.,    14.,   119., ...,     9.,    47.,   144.],\n",
       "       [   54.,    23.,   618., ...,   203.,   603.,  2610.],\n",
       "       [   53.,    30.,   391., ...,   877.,   662.,   716.],\n",
       "       ..., \n",
       "       [   67.,   394.,   801., ...,   135.,    41.,     0.],\n",
       "       [   51.,   414.,   453., ...,    91.,    50.,     0.],\n",
       "       [   58.,   614.,   408., ...,    73.,    72.,     0.]])"
      ]
     },
     "execution_count": 73,
     "metadata": {},
     "output_type": "execute_result"
    },
    {
     "data": {
      "image/png": "[encoded data removed]",
      "text/plain": [
       "<matplotlib.figure.Figure at 0x7f6aff094160>"
      ]
     },
     "metadata": {},
     "output_type": "display_data"
    }
   ],
   "source": [
    "plotHeatmapXY(len(c[1]), df0, 0, 1)"
   ]
  },
  {
   "cell_type": "code",
   "execution_count": 74,
   "metadata": {
    "ExecuteTime": {
     "end_time": "2017-02-25T22:54:33.860880",
     "start_time": "2017-02-25T22:54:28.907737"
    },
    "collapsed": false
   },
   "outputs": [
    {
     "name": "stderr",
     "output_type": "stream",
     "text": [
      "/usr/local/lib/python3.5/dist-packages/pandas/core/generic.py:2773: SettingWithCopyWarning: \n",
      "A value is trying to be set on a copy of a slice from a DataFrame.\n",
      "Try using .loc[row_indexer,col_indexer] = value instead\n",
      "\n",
      "See the caveats in the documentation: http://pandas.pydata.org/pandas-docs/stable/indexing.html#indexing-view-versus-copy\n",
      "  self[name] = value\n"
     ]
    },
    {
     "data": {
      "text/plain": [
       "array([[   24.,    75.,   523., ...,   309.,   395.,     3.],\n",
       "       [   63.,    48.,   490., ...,   643.,   593.,    37.],\n",
       "       [   68.,    55.,   476., ...,  1098.,  1040.,    81.],\n",
       "       ..., \n",
       "       [    5.,    43.,   404., ...,   387.,   781.,  2024.],\n",
       "       [   22.,    36.,   112., ...,   183.,   490.,   825.],\n",
       "       [   12.,    10.,    88., ...,   107.,   163.,   202.]])"
      ]
     },
     "execution_count": 74,
     "metadata": {},
     "output_type": "execute_result"
    },
    {
     "data": {
      "image/png": "[encoded data removed]",
      "text/plain": [
       "<matplotlib.figure.Figure at 0x7f6aff06d748>"
      ]
     },
     "metadata": {},
     "output_type": "display_data"
    }
   ],
   "source": [
    "plotHeatmapXY(len(c[1]), df0, 2, 3)"
   ]
  },
  {
   "cell_type": "code",
   "execution_count": 75,
   "metadata": {
    "ExecuteTime": {
     "end_time": "2017-02-25T22:56:28.207629",
     "start_time": "2017-02-25T22:54:33.863819"
    },
    "collapsed": true
   },
   "outputs": [],
   "source": [
    "df0 = getDFwithIDSts(c[2], getTS('2016-07-21T06:00:00Z'), getTS('2016-07-21T20:00:00Z'), conn)"
   ]
  },
  {
   "cell_type": "code",
   "execution_count": 76,
   "metadata": {
    "ExecuteTime": {
     "end_time": "2017-02-25T22:56:28.228010",
     "start_time": "2017-02-25T22:56:28.211210"
    },
    "collapsed": false
   },
   "outputs": [],
   "source": [
    "def plotHeatmapXY(txt, df, camIDleft, camIDright):\n",
    "    data_l = df[df.CAM_ID == camIDleft]\n",
    "    data_r = df[df.CAM_ID == camIDright]\n",
    "    data_r.XPOS = 3000 - data_r.XPOS\n",
    "    data_r.YPOS = 4000 - data_r.YPOS\n",
    "    data_r.XPOS = data_r.XPOS + 3000\n",
    "    data = pd.concat([data_l,data_r])\n",
    "    x = data.XPOS\n",
    "    y = data.YPOS\n",
    "\n",
    "    H, xedges, yedeges, im = plt.hist2d(x,y,bins=[60,40])\n",
    "    plt.colorbar()\n",
    "    plt.axes().set_title(\"{} \\nCam {} & Cam {}\".format(txt, str(camIDleft), str(camIDright)))\n",
    "    \n",
    "    return H"
   ]
  },
  {
   "cell_type": "code",
   "execution_count": 77,
   "metadata": {
    "ExecuteTime": {
     "end_time": "2017-02-25T22:56:33.907280",
     "start_time": "2017-02-25T22:56:28.232323"
    },
    "collapsed": false
   },
   "outputs": [
    {
     "name": "stderr",
     "output_type": "stream",
     "text": [
      "/usr/local/lib/python3.5/dist-packages/pandas/core/generic.py:2773: SettingWithCopyWarning: \n",
      "A value is trying to be set on a copy of a slice from a DataFrame.\n",
      "Try using .loc[row_indexer,col_indexer] = value instead\n",
      "\n",
      "See the caveats in the documentation: http://pandas.pydata.org/pandas-docs/stable/indexing.html#indexing-view-versus-copy\n",
      "  self[name] = value\n"
     ]
    },
    {
     "data": {
      "text/plain": [
       "array([[   17.,    19.,   580., ...,     0.,     0.,     0.],\n",
       "       [   18.,    23.,   694., ...,   102.,    59.,    19.],\n",
       "       [   48.,    76.,   438., ...,   710.,   325.,    50.],\n",
       "       ..., \n",
       "       [  105.,   663.,   949., ...,    54.,    13.,     0.],\n",
       "       [  115.,   964.,   763., ...,    75.,    13.,     0.],\n",
       "       [  243.,  1853.,  1129., ...,    38.,    26.,     0.]])"
      ]
     },
     "execution_count": 77,
     "metadata": {},
     "output_type": "execute_result"
    },
    {
     "data": {
      "image/png": "[encoded data removed]",
      "text/plain": [
       "<matplotlib.figure.Figure at 0x7f6afd287358>"
      ]
     },
     "metadata": {},
     "output_type": "display_data"
    }
   ],
   "source": [
    "plotHeatmapXY(len(c[2]), df0, 0, 1)"
   ]
  },
  {
   "cell_type": "code",
   "execution_count": 78,
   "metadata": {
    "ExecuteTime": {
     "end_time": "2017-02-25T22:56:37.793649",
     "start_time": "2017-02-25T22:56:33.910311"
    },
    "collapsed": false
   },
   "outputs": [
    {
     "name": "stderr",
     "output_type": "stream",
     "text": [
      "/usr/local/lib/python3.5/dist-packages/pandas/core/generic.py:2773: SettingWithCopyWarning: \n",
      "A value is trying to be set on a copy of a slice from a DataFrame.\n",
      "Try using .loc[row_indexer,col_indexer] = value instead\n",
      "\n",
      "See the caveats in the documentation: http://pandas.pydata.org/pandas-docs/stable/indexing.html#indexing-view-versus-copy\n",
      "  self[name] = value\n"
     ]
    },
    {
     "data": {
      "text/plain": [
       "array([[  11.,   77.,  503., ...,  406.,  269.,   21.],\n",
       "       [  34.,   80.,  607., ...,  737.,  493.,  218.],\n",
       "       [ 124.,  123.,  747., ...,  901.,  892.,  283.],\n",
       "       ..., \n",
       "       [ 103.,   43.,  266., ...,  104.,   97.,   41.],\n",
       "       [ 258.,   41.,  213., ...,   26.,   36.,   21.],\n",
       "       [ 109.,  113.,  189., ...,   31.,   36.,   38.]])"
      ]
     },
     "execution_count": 78,
     "metadata": {},
     "output_type": "execute_result"
    },
    {
     "data": {
      "image/png": "[encoded data removed]",
      "text/plain": [
       "<matplotlib.figure.Figure at 0x7f6aff1ef128>"
      ]
     },
     "metadata": {},
     "output_type": "display_data"
    }
   ],
   "source": [
    "plotHeatmapXY(len(c[2]), df0, 2, 3)"
   ]
  },
  {
   "cell_type": "code",
   "execution_count": 58,
   "metadata": {
    "ExecuteTime": {
     "end_time": "2017-03-03T10:46:03.190934",
     "start_time": "2017-03-03T10:46:03.172753"
    },
    "collapsed": false
   },
   "outputs": [
    {
     "data": {
      "text/plain": [
       "(3,)"
      ]
     },
     "execution_count": 58,
     "metadata": {},
     "output_type": "execute_result"
    }
   ],
   "source": [
    "DataFrame(np.array(list(\"AACDEBGKJGASAVBBNWTSVANBM\")).reshape(5,5), columns=list(\"ABCDF\")).groupby(by=\"A\").size().shape"
   ]
  },
  {
   "cell_type": "code",
   "execution_count": 48,
   "metadata": {
    "ExecuteTime": {
     "end_time": "2017-03-03T10:44:19.829212",
     "start_time": "2017-03-03T10:44:19.817407"
    },
    "collapsed": false
   },
   "outputs": [
    {
     "data": {
      "text/plain": [
       "array(['A', 'B', 'C', 'D', 'E', 'F', 'G', 'K', 'J', 'G', 'H', 'S', 'A',\n",
       "       'V', 'B', 'B', 'N', 'W', 'T', 'S', 'V', 'A', 'N', 'B', 'M'], \n",
       "      dtype='<U1')"
      ]
     },
     "execution_count": 48,
     "metadata": {},
     "output_type": "execute_result"
    }
   ],
   "source": []
  },
  {
   "cell_type": "code",
   "execution_count": 62,
   "metadata": {
    "ExecuteTime": {
     "end_time": "2017-03-03T10:57:25.844170",
     "start_time": "2017-03-03T10:57:25.835380"
    },
    "collapsed": false
   },
   "outputs": [
    {
     "data": {
      "text/plain": [
       "True"
      ]
     },
     "execution_count": 62,
     "metadata": {},
     "output_type": "execute_result"
    }
   ],
   "source": [
    "Series().empty"
   ]
  },
  {
   "cell_type": "code",
   "execution_count": null,
   "metadata": {
    "collapsed": true
   },
   "outputs": [],
   "source": []
  }
 ],
 "metadata": {
  "anaconda-cloud": {},
  "kernelspec": {
   "display_name": "Python 3",
   "language": "python",
   "name": "python3"
  },
  "language_info": {
   "codemirror_mode": {
    "name": "ipython",
    "version": 3
   },
   "file_extension": ".py",
   "mimetype": "text/x-python",
   "name": "python",
   "nbconvert_exporter": "python",
   "pygments_lexer": "ipython3",
   "version": "3.5.2"
  },
  "toc": {
   "colors": {
    "hover_highlight": "#DAA520",
    "running_highlight": "#FF0000",
    "selected_highlight": "#FFD700"
   },
   "moveMenuLeft": true,
   "nav_menu": {
    "height": "315px",
    "width": "252px"
   },
   "navigate_menu": true,
   "number_sections": true,
   "sideBar": true,
   "threshold": 4,
   "toc_cell": false,
   "toc_position": {
    "height": "570px",
    "left": "0px",
    "right": "1064px",
    "top": "106px",
    "width": "212px"
   },
   "toc_section_display": "block",
   "toc_window_display": true
  }
 },
 "nbformat": 4,
 "nbformat_minor": 2
}
