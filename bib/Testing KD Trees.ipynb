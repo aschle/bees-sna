{
 "cells": [
  {
   "cell_type": "code",
   "execution_count": 1,
   "metadata": {
    "collapsed": true
   },
   "outputs": [],
   "source": [
    "import pandas as pd\n",
    "import numpy as np\n",
    "import networkx as nx\n",
    "import preprocessing as prep\n",
    "\n",
    "from bb_binary import FrameContainer, Repository, load_frame_container\n",
    "from pandas import DataFrame, Series\n",
    "\n",
    "from scipy import spatial"
   ]
  },
  {
   "cell_type": "code",
   "execution_count": 2,
   "metadata": {
    "collapsed": false
   },
   "outputs": [],
   "source": [
    "path1 = \"../00_Data/testset_2015_1h/2015082215\"\n",
    "path2 = \"../00_Data/testset_2015_1h/2015092215\"\n",
    "path3 = \"../00_Data/testset_2015_1h/2015102215\"\n",
    "\n",
    "path = path1\n",
    "\n",
    "CONFIDENCE = 0.9\n",
    "DISTANCE = 320"
   ]
  },
  {
   "cell_type": "code",
   "execution_count": 3,
   "metadata": {
    "collapsed": false
   },
   "outputs": [
    {
     "name": "stdout",
     "output_type": "stream",
     "text": [
      "\n",
      "### file ../00_Data/testset_2015_1h/2015082215 cam 0\n",
      "CPU times: user 5.42 ms, sys: 21.5 ms, total: 26.9 ms\n",
      "Wall time: 46.4 ms\n"
     ]
    }
   ],
   "source": [
    "%time fc = prep.get_fc(path, 0)"
   ]
  },
  {
   "cell_type": "code",
   "execution_count": 4,
   "metadata": {
    "collapsed": false
   },
   "outputs": [
    {
     "name": "stdout",
     "output_type": "stream",
     "text": [
      "CPU times: user 43 s, sys: 15.2 s, total: 58.2 s\n",
      "Wall time: 58.5 s\n"
     ]
    }
   ],
   "source": [
    "%time df = prep.get_dataframe(fc)"
   ]
  },
  {
   "cell_type": "code",
   "execution_count": 5,
   "metadata": {
    "collapsed": false
   },
   "outputs": [
    {
     "name": "stdout",
     "output_type": "stream",
     "text": [
      "CPU times: user 7.93 s, sys: 112 ms, total: 8.04 s\n",
      "Wall time: 8.22 s\n"
     ]
    }
   ],
   "source": [
    "%time df = prep.calcIds(df, CONFIDENCE)"
   ]
  },
  {
   "cell_type": "code",
   "execution_count": 6,
   "metadata": {
    "collapsed": false
   },
   "outputs": [
    {
     "name": "stdout",
     "output_type": "stream",
     "text": [
      "CPU times: user 5.31 s, sys: 12.1 s, total: 17.4 s\n",
      "Wall time: 21.5 s\n"
     ]
    }
   ],
   "source": [
    "%time filtered = prep.get_close_bees_old(df, DISTANCE)"
   ]
  },
  {
   "cell_type": "code",
   "execution_count": 7,
   "metadata": {
    "collapsed": false
   },
   "outputs": [
    {
     "name": "stdout",
     "output_type": "stream",
     "text": [
      "CPU times: user 9min 16s, sys: 10.7 s, total: 9min 26s\n",
      "Wall time: 9min 31s\n"
     ]
    }
   ],
   "source": [
    "%time p = prep.bee_pairs_to_timeseries(filtered)"
   ]
  },
  {
   "cell_type": "code",
   "execution_count": 8,
   "metadata": {
    "collapsed": false
   },
   "outputs": [
    {
     "name": "stdout",
     "output_type": "stream",
     "text": [
      "Name: \n",
      "Type: Graph\n",
      "Number of nodes: 494\n",
      "Number of edges: 10579\n",
      "Average degree:  42.8300\n",
      "CPU times: user 436 ms, sys: 19.8 ms, total: 456 ms\n",
      "Wall time: 469 ms\n"
     ]
    }
   ],
   "source": [
    "%time e = prep.create_graph2(p,'ttt')"
   ]
  }
 ],
 "metadata": {
  "kernelspec": {
   "display_name": "Python 3",
   "language": "python",
   "name": "python3"
  },
  "language_info": {
   "codemirror_mode": {
    "name": "ipython",
    "version": 3
   },
   "file_extension": ".py",
   "mimetype": "text/x-python",
   "name": "python",
   "nbconvert_exporter": "python",
   "pygments_lexer": "ipython3",
   "version": "3.5.2"
  }
 },
 "nbformat": 4,
 "nbformat_minor": 1
}
