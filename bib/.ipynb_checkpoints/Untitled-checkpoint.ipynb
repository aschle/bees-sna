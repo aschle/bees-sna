{
 "cells": [
  {
   "cell_type": "code",
   "execution_count": 82,
   "metadata": {
    "collapsed": false
   },
   "outputs": [
    {
     "name": "stdout",
     "output_type": "stream",
     "text": [
      "The line_profiler extension is already loaded. To reload it, use:\n",
      "  %reload_ext line_profiler\n"
     ]
    }
   ],
   "source": [
    "%load_ext line_profiler\n",
    "import pandas as pd\n",
    "import numpy as np\n",
    "import networkx as nx\n",
    "\n",
    "from bb_binary import Repository,load_frame_container\n",
    "from pandas import DataFrame, Series\n",
    "from collections import namedtuple\n",
    "from scipy import spatial"
   ]
  },
  {
   "cell_type": "code",
   "execution_count": 83,
   "metadata": {
    "collapsed": true
   },
   "outputs": [],
   "source": [
    "def get_files(path):\n",
    "    repo = Repository(path)\n",
    "    file = list(repo.iter_fnames())\n",
    "    a = [f.split('/')[-1].split(\"_\")[1] for f in file]\n",
    "    l = len(a)/4\n",
    "    npa = np.array(file).reshape(l,4)\n",
    "    return npa"
   ]
  },
  {
   "cell_type": "code",
   "execution_count": 84,
   "metadata": {
    "collapsed": true
   },
   "outputs": [],
   "source": [
    "def get_dataframe(fc):\n",
    "    detection = namedtuple('Detection', ['idx','xpos','ypos',\n",
    "        'radius','decodedId', 'frame_idx', 'timestamp', 'cam_id', 'fc_id'])\n",
    "\n",
    "    l = []\n",
    "    for f in fc.frames:\n",
    "        tpls = [detection(d.idx, d.xpos, d.ypos, d.radius, list(d.decodedId),\n",
    "            f.frameIdx, f.timestamp, fc.camId, fc.id)\n",
    "            for d in f.detectionsUnion.detectionsDP]\n",
    "        l.append(pd.DataFrame(tpls))\n",
    "    return pd.concat(l)"
   ]
  },
  {
   "cell_type": "code",
   "execution_count": 85,
   "metadata": {
    "collapsed": true
   },
   "outputs": [],
   "source": [
    "def calcIds(df, threshold):\n",
    "    # print('\\n### Calc IDs with threshold: {}'.format(threshold))\n",
    "    #print('#Detections before calcualting IDs: {}'.format(df.shape[0]))\n",
    "\n",
    "    # calc confidence value\n",
    "        # 0...256 in 0...1 umrechnen\n",
    "        # fuer jedes bit abstand zu 0.5 berechnen und dann minimum behalten\n",
    "    # add confidence value to dataframe as column\n",
    "    df = df.assign(confidence = df.decodedId.apply(get_confidence))\n",
    "\n",
    "    # die detections entfernen die nicht  die nicht gut genug sind\n",
    "    df = df[df.confidence >= threshold]\n",
    "\n",
    "    # fuer den Rest der ueber bleibt die ID berechnen und an DF anhaengen\n",
    "    df = df.assign(id = df.decodedId.apply(get_detected_id))\n",
    "\n",
    "    df = df.drop('decodedId', 1)\n",
    "\n",
    "    #print('Number of Detections after calcualting IDs: {}'.format(df.shape[0]))\n",
    "    return df"
   ]
  },
  {
   "cell_type": "code",
   "execution_count": 86,
   "metadata": {
    "collapsed": true
   },
   "outputs": [],
   "source": [
    "def get_detected_id(bits):\n",
    "    # Umrechnen in binary array [0,1,1,1,0,1,1,1,0,0,0,1]\n",
    "    bits = np.array(bits)\n",
    "    bits = bits/255\n",
    "    binary_id = [int(x > 0.5) for x in bits]\n",
    "\n",
    "    decimal_id = int(''.join([str(c) for c in binary_id[:11]]), 2)\n",
    "\n",
    "    # determine what kind of parity bit was used and add 2^11 to decimal id\n",
    "    # uneven parity bit was used\n",
    "    if ((sum(binary_id) % 2) == 1):\n",
    "        decimal_id += 2048\n",
    "\n",
    "    return decimal_id"
   ]
  },
  {
   "cell_type": "code",
   "execution_count": 87,
   "metadata": {
    "collapsed": true
   },
   "outputs": [],
   "source": [
    "def get_confidence(bits):\n",
    "    # 12 bits mit Werten zwischen 0 und 256\n",
    "    bits = np.array(bits)\n",
    "    bits = bits/255\n",
    "\n",
    "    return np.min(np.abs(0.5 - bits)) * 2"
   ]
  },
  {
   "cell_type": "code",
   "execution_count": 88,
   "metadata": {
    "collapsed": true
   },
   "outputs": [],
   "source": [
    "def get_close_bees(df, distance):\n",
    "\n",
    "    df = df.reset_index(level = 'frame_idx')\n",
    "\n",
    "    m = pd.merge(df, df, on='frame_idx')\n",
    "    #m = m.query('id_x < id_y')\n",
    "    m = m[m.id_x < m.id_y]\n",
    "\n",
    "    m.loc[:, 'dist'] = np.square(m.xpos_x - m.xpos_y) \\\n",
    "        + np.square(m.ypos_x - m.ypos_y)\n",
    "\n",
    "    filtered = m[m.dist <= distance**2]\n",
    "\n",
    "    filtered = filtered[['frame_idx','id_x', 'id_y']]\n",
    "    return filtered"
   ]
  },
  {
   "cell_type": "code",
   "execution_count": 89,
   "metadata": {
    "collapsed": true
   },
   "outputs": [],
   "source": [
    "def get_close_bees_kd(df, distance):\n",
    "\n",
    "    df_close = DataFrame()\n",
    "\n",
    "    gr = df.groupby('frame_idx')\n",
    "\n",
    "    for i, group in gr:\n",
    "        xy_coordinates = group[['xpos', 'ypos']].values\n",
    "        tree = spatial.KDTree(xy_coordinates, leafsize=20)\n",
    "        result = tree.query_pairs(distance)\n",
    "        l = [[i,group['id'].iat[a], group['id'].iat[b]] for a,b in result]\n",
    "        df_close = df_close.append(DataFrame(l, columns=['frame_idx', 'id_x', 'id_y']))"
   ]
  },
  {
   "cell_type": "code",
   "execution_count": 90,
   "metadata": {
    "collapsed": true
   },
   "outputs": [],
   "source": [
    "def bee_pairs_to_timeseries(df):\n",
    "    close = df[['frame_idx', 'id_x', 'id_y']]\n",
    "    close = close.set_index(['frame_idx'])\n",
    "    close['pair'] = list(zip(close.id_x, close.id_y))\n",
    "    u_pairs = close.pair.unique()\n",
    "    dft = DataFrame(0, index=u_pairs, columns=np.arange(1024))\n",
    "    gr = close.groupby(level='frame_idx')\n",
    "\n",
    "    for i, group in gr:\n",
    "        l = group['pair']\n",
    "        dft.loc[l,i] = 1\n",
    "\n",
    "    return dft"
   ]
  },
  {
   "cell_type": "code",
   "execution_count": 91,
   "metadata": {
    "collapsed": true
   },
   "outputs": [],
   "source": [
    "def get_ketten(kette, val):\n",
    "    kette = kette.apply(str)\n",
    "    s = kette.str.cat(sep='')\n",
    "    ss = s.split(val)\n",
    "    return [x for x in ss if len(x) > 0]"
   ]
  },
  {
   "cell_type": "code",
   "execution_count": 92,
   "metadata": {
    "collapsed": true
   },
   "outputs": [],
   "source": [
    "def extract_interactions(dft, minlength):\n",
    "    kette = dft.apply(get_ketten, axis=1, args=[\"0\"])\n",
    "    kk = kette.apply(lambda x:[len(item) for item in x])\n",
    "    kk = kk.apply(lambda x: len([item for item in x if item >= minlength]))\n",
    "    return kk[kk > 0]"
   ]
  },
  {
   "cell_type": "code",
   "execution_count": 100,
   "metadata": {
    "collapsed": true
   },
   "outputs": [],
   "source": [
    "# 0.9, 160, \"08\", 3\n",
    "def f(c,d,m,l):\n",
    "    global side0\n",
    "    global side1\n",
    "    filename = \"{}month-{}dist-{}conf-{}len-1h\".format(m,d,str(c).replace('.',''),l)\n",
    "\n",
    "    f = \"../00_Data/testset_2015_1h/\"\n",
    "    p = \"2015\" + m + \"2215\"\n",
    "    CONFIDENCE = c\n",
    "    DISTANCE = d\n",
    "    xmax = 3000\n",
    "    ymax = 4000\n",
    "    LENGTH = l\n",
    "    path = f+p\n",
    "\n",
    "    files = get_files(path)\n",
    "\n",
    "    interactions = Series()\n",
    "\n",
    "    for file_list in files[:1]:\n",
    "        \n",
    "        dataframes = np.empty(4, dtype=object)\n",
    "        \n",
    "        for i in list(range(4)):\n",
    "            fc = load_frame_container(file_list[i])\n",
    "            df = get_dataframe(fc)\n",
    "            df = calcIds(df,CONFIDENCE)\n",
    "\n",
    "            camIdx = file_list[i].split(\"/\")[-1].split(\"_\")[1]\n",
    "            dataframes[camIdx] = df\n",
    "        \n",
    "        # cam 0 und cam1 nach rechts verschieben\n",
    "        dataframes[0].xpos = dataframes[0].xpos + xmax\n",
    "        dataframes[1].xpos = dataframes[1].xpos + xmax\n",
    "\n",
    "        # Seiten zusammenfugen\n",
    "        side0 = pd.concat([dataframes[3], dataframes[0]])\n",
    "        side1 = pd.concat([dataframes[2], dataframes[1]])\n",
    "\n",
    "        close1 = get_close_bees(side0, DISTANCE)\n",
    "        close2 = get_close_bees(side1, DISTANCE)\n",
    "        \n",
    "        close1kd = get_close_bees_kd(side0, DISTANCE)\n",
    "        close2kd = get_close_bees_kd(side1, DISTANCE)\n",
    "\n",
    "        close = pd.concat([close1,close2])\n",
    "        \n",
    "        p = bee_pairs_to_timeseries(close)\n",
    "\n",
    "        edges = extract_interactions(p,LENGTH)\n",
    "        \n",
    "        interactions = pd.concat([interactions, edges])\n",
    "\n",
    "    G = create_graph2(interactions)\n",
    "    print(nx.info(G))\n",
    "\n",
    "    #nx.write_graphml(G, filename + \".graphml\")"
   ]
  },
  {
   "cell_type": "code",
   "execution_count": 97,
   "metadata": {
    "collapsed": true
   },
   "outputs": [],
   "source": [
    "def create_graph2(pairs):\n",
    "    G = nx.Graph()\n",
    "\n",
    "    for elem in pairs.iteritems():\n",
    "        G.add_edge(int(elem[0][0]), int(elem[0][1]), weight=int(elem[1]))\n",
    "\n",
    "    return G"
   ]
  },
  {
   "cell_type": "code",
   "execution_count": 101,
   "metadata": {
    "collapsed": false
   },
   "outputs": [
    {
     "name": "stderr",
     "output_type": "stream",
     "text": [
      "/usr/local/lib/python3.5/site-packages/ipykernel/__main__.py:6: VisibleDeprecationWarning: using a non-integer number instead of an integer will result in an error in the future\n",
      "/usr/local/lib/python3.5/site-packages/ipykernel/__main__.py:30: VisibleDeprecationWarning: using a non-integer number instead of an integer will result in an error in the future\n"
     ]
    },
    {
     "name": "stdout",
     "output_type": "stream",
     "text": [
      "Name: \n",
      "Type: Graph\n",
      "Number of nodes: 712\n",
      "Number of edges: 6384\n",
      "Average degree:  17.9326\n"
     ]
    }
   ],
   "source": [
    "%lprun -f f -f get_dataframe f(0.9, 160, \"08\", 3)"
   ]
  },
  {
   "cell_type": "code",
   "execution_count": 104,
   "metadata": {
    "collapsed": false
   },
   "outputs": [
    {
     "data": {
      "text/html": [
       "<div>\n",
       "<table border=\"1\" class=\"dataframe\">\n",
       "  <thead>\n",
       "    <tr style=\"text-align: right;\">\n",
       "      <th></th>\n",
       "      <th>idx</th>\n",
       "      <th>xpos</th>\n",
       "      <th>ypos</th>\n",
       "      <th>radius</th>\n",
       "      <th>frame_idx</th>\n",
       "      <th>timestamp</th>\n",
       "      <th>cam_id</th>\n",
       "      <th>fc_id</th>\n",
       "      <th>confidence</th>\n",
       "      <th>id</th>\n",
       "    </tr>\n",
       "  </thead>\n",
       "  <tbody>\n",
       "    <tr>\n",
       "      <th>3</th>\n",
       "      <td>3</td>\n",
       "      <td>452</td>\n",
       "      <td>2450</td>\n",
       "      <td>22.891178</td>\n",
       "      <td>0</td>\n",
       "      <td>1.440256e+09</td>\n",
       "      <td>3</td>\n",
       "      <td>17639613505007922451</td>\n",
       "      <td>0.921569</td>\n",
       "      <td>3994</td>\n",
       "    </tr>\n",
       "    <tr>\n",
       "      <th>4</th>\n",
       "      <td>4</td>\n",
       "      <td>702</td>\n",
       "      <td>3464</td>\n",
       "      <td>22.759066</td>\n",
       "      <td>0</td>\n",
       "      <td>1.440256e+09</td>\n",
       "      <td>3</td>\n",
       "      <td>17639613505007922451</td>\n",
       "      <td>0.968627</td>\n",
       "      <td>2251</td>\n",
       "    </tr>\n",
       "    <tr>\n",
       "      <th>5</th>\n",
       "      <td>5</td>\n",
       "      <td>887</td>\n",
       "      <td>2225</td>\n",
       "      <td>22.952803</td>\n",
       "      <td>0</td>\n",
       "      <td>1.440256e+09</td>\n",
       "      <td>3</td>\n",
       "      <td>17639613505007922451</td>\n",
       "      <td>0.992157</td>\n",
       "      <td>564</td>\n",
       "    </tr>\n",
       "    <tr>\n",
       "      <th>7</th>\n",
       "      <td>7</td>\n",
       "      <td>962</td>\n",
       "      <td>1886</td>\n",
       "      <td>23.071014</td>\n",
       "      <td>0</td>\n",
       "      <td>1.440256e+09</td>\n",
       "      <td>3</td>\n",
       "      <td>17639613505007922451</td>\n",
       "      <td>0.984314</td>\n",
       "      <td>3700</td>\n",
       "    </tr>\n",
       "    <tr>\n",
       "      <th>9</th>\n",
       "      <td>9</td>\n",
       "      <td>1237</td>\n",
       "      <td>3374</td>\n",
       "      <td>22.624674</td>\n",
       "      <td>0</td>\n",
       "      <td>1.440256e+09</td>\n",
       "      <td>3</td>\n",
       "      <td>17639613505007922451</td>\n",
       "      <td>1.000000</td>\n",
       "      <td>2762</td>\n",
       "    </tr>\n",
       "  </tbody>\n",
       "</table>\n",
       "</div>"
      ],
      "text/plain": [
       "   idx  xpos  ypos     radius  frame_idx     timestamp  cam_id  \\\n",
       "3    3   452  2450  22.891178          0  1.440256e+09       3   \n",
       "4    4   702  3464  22.759066          0  1.440256e+09       3   \n",
       "5    5   887  2225  22.952803          0  1.440256e+09       3   \n",
       "7    7   962  1886  23.071014          0  1.440256e+09       3   \n",
       "9    9  1237  3374  22.624674          0  1.440256e+09       3   \n",
       "\n",
       "                  fc_id  confidence    id  \n",
       "3  17639613505007922451    0.921569  3994  \n",
       "4  17639613505007922451    0.968627  2251  \n",
       "5  17639613505007922451    0.992157   564  \n",
       "7  17639613505007922451    0.984314  3700  \n",
       "9  17639613505007922451    1.000000  2762  "
      ]
     },
     "execution_count": 104,
     "metadata": {},
     "output_type": "execute_result"
    }
   ],
   "source": [
    "side0.head()"
   ]
  },
  {
   "cell_type": "code",
   "execution_count": 106,
   "metadata": {
    "collapsed": false
   },
   "outputs": [
    {
     "data": {
      "text/plain": [
       "216.3544921875"
      ]
     },
     "execution_count": 106,
     "metadata": {},
     "output_type": "execute_result"
    }
   ],
   "source": [
    "side0.groupby('frame_idx').size().mean()"
   ]
  },
  {
   "cell_type": "code",
   "execution_count": null,
   "metadata": {
    "collapsed": true
   },
   "outputs": [],
   "source": []
  },
  {
   "cell_type": "code",
   "execution_count": null,
   "metadata": {
    "collapsed": true
   },
   "outputs": [],
   "source": []
  },
  {
   "cell_type": "code",
   "execution_count": null,
   "metadata": {
    "collapsed": true
   },
   "outputs": [],
   "source": []
  },
  {
   "cell_type": "code",
   "execution_count": null,
   "metadata": {
    "collapsed": true
   },
   "outputs": [],
   "source": []
  },
  {
   "cell_type": "code",
   "execution_count": null,
   "metadata": {
    "collapsed": true
   },
   "outputs": [],
   "source": []
  },
  {
   "cell_type": "code",
   "execution_count": null,
   "metadata": {
    "collapsed": true
   },
   "outputs": [],
   "source": []
  },
  {
   "cell_type": "code",
   "execution_count": null,
   "metadata": {
    "collapsed": true
   },
   "outputs": [],
   "source": []
  },
  {
   "cell_type": "code",
   "execution_count": null,
   "metadata": {
    "collapsed": true
   },
   "outputs": [],
   "source": []
  },
  {
   "cell_type": "code",
   "execution_count": null,
   "metadata": {
    "collapsed": true
   },
   "outputs": [],
   "source": []
  },
  {
   "cell_type": "code",
   "execution_count": null,
   "metadata": {
    "collapsed": true
   },
   "outputs": [],
   "source": []
  },
  {
   "cell_type": "code",
   "execution_count": null,
   "metadata": {
    "collapsed": true
   },
   "outputs": [],
   "source": []
  }
 ],
 "metadata": {
  "kernelspec": {
   "display_name": "Python 3",
   "language": "python",
   "name": "python3"
  },
  "language_info": {
   "codemirror_mode": {
    "name": "ipython",
    "version": 3
   },
   "file_extension": ".py",
   "mimetype": "text/x-python",
   "name": "python",
   "nbconvert_exporter": "python",
   "pygments_lexer": "ipython3",
   "version": "3.5.2"
  }
 },
 "nbformat": 4,
 "nbformat_minor": 1
}
