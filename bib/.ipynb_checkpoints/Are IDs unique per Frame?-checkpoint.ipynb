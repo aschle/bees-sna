{
 "cells": [
  {
   "cell_type": "code",
   "execution_count": 20,
   "metadata": {
    "collapsed": true
   },
   "outputs": [],
   "source": [
    "import preprocessing as prep\n",
    "import numpy as np\n",
    "import pandas as pd\n",
    "from pandas import Series, DataFrame\n",
    "\n",
    "import matplotlib as mpl\n",
    "import matplotlib.pyplot as plt"
   ]
  },
  {
   "cell_type": "code",
   "execution_count": 22,
   "metadata": {
    "collapsed": true
   },
   "outputs": [],
   "source": [
    "path_list = [\n",
    "    \"../00_Data/testset_2015_1h/2015082215\",\n",
    "    \"../00_Data/testset_2015_1h/2015092215\",\n",
    "    \"../00_Data/testset_2015_1h/2015102215\"\n",
    "]"
   ]
  },
  {
   "cell_type": "markdown",
   "metadata": {},
   "source": [
    "## Gibt es innerhalb eines Frames (pro Kamera) gleiche IDs?"
   ]
  },
  {
   "cell_type": "code",
   "execution_count": 16,
   "metadata": {
    "collapsed": false
   },
   "outputs": [
    {
     "name": "stdout",
     "output_type": "stream",
     "text": [
      "../00_Data/testset_2015_1h/2015082215\n",
      "\n",
      "### file ../00_Data/testset_2015_1h/2015082215 cam 0\n",
      "0 - 73 frames contain not unique IDs\n",
      "\n",
      "### file ../00_Data/testset_2015_1h/2015082215 cam 1\n",
      "1 - 0 frames contain not unique IDs\n",
      "\n",
      "### file ../00_Data/testset_2015_1h/2015082215 cam 2\n",
      "2 - 0 frames contain not unique IDs\n",
      "\n",
      "### file ../00_Data/testset_2015_1h/2015082215 cam 3\n",
      "3 - 12 frames contain not unique IDs\n",
      "../00_Data/testset_2015_1h/2015092215\n",
      "\n",
      "### file ../00_Data/testset_2015_1h/2015092215 cam 0\n",
      "0 - 3 frames contain not unique IDs\n",
      "\n",
      "### file ../00_Data/testset_2015_1h/2015092215 cam 1\n",
      "1 - 10 frames contain not unique IDs\n",
      "\n",
      "### file ../00_Data/testset_2015_1h/2015092215 cam 2\n",
      "2 - 6 frames contain not unique IDs\n",
      "\n",
      "### file ../00_Data/testset_2015_1h/2015092215 cam 3\n",
      "3 - 2 frames contain not unique IDs\n",
      "../00_Data/testset_2015_1h/2015102215\n",
      "\n",
      "### file ../00_Data/testset_2015_1h/2015102215 cam 0\n",
      "0 - 0 frames contain not unique IDs\n",
      "\n",
      "### file ../00_Data/testset_2015_1h/2015102215 cam 1\n",
      "1 - 0 frames contain not unique IDs\n",
      "\n",
      "### file ../00_Data/testset_2015_1h/2015102215 cam 2\n",
      "2 - 8 frames contain not unique IDs\n",
      "\n",
      "### file ../00_Data/testset_2015_1h/2015102215 cam 3\n",
      "3 - 0 frames contain not unique IDs\n"
     ]
    }
   ],
   "source": [
    "for p in path_list:\n",
    "\n",
    "    print(\"{}\".format(p))\n",
    "    for i in list(range(4)):\n",
    "        fc = prep.get_fc(p, i)\n",
    "        df = prep.get_dataframe(fc)\n",
    "        df = prep.calcIds(df, 0.9)\n",
    "        df = df.reset_index(level=1).reset_index(level=1).reset_index(level=1)\n",
    "        gr = df.groupby(['frame_idx'])\n",
    "        id_unique = gr['id'].aggregate(lambda x: x.nunique())\n",
    "        id_sizes = gr['id'].size()\n",
    "        df_id_unique = DataFrame({'uniques': id_unique, 'sizes': id_sizes})\n",
    "        df_id_unique['diff'] = df_id_unique.sizes - df_id_unique.uniques\n",
    "        num = df_id_unique[df_id_unique['diff'] > 0].shape[0]\n",
    "        print(\"{} - {} frames contain not unique IDs\".format(i,num))"
   ]
  },
  {
   "cell_type": "markdown",
   "metadata": {},
   "source": [
    "## Gibt es innerhalb eines Frames (alle Kamera) gleiche IDs?"
   ]
  },
  {
   "cell_type": "code",
   "execution_count": 23,
   "metadata": {
    "collapsed": false
   },
   "outputs": [
    {
     "name": "stdout",
     "output_type": "stream",
     "text": [
      "../00_Data/testset_2015_1h/2015082215\n",
      "\n",
      "### file ../00_Data/testset_2015_1h/2015082215 cam 0\n",
      "\n",
      "### file ../00_Data/testset_2015_1h/2015082215 cam 1\n",
      "\n",
      "### file ../00_Data/testset_2015_1h/2015082215 cam 2\n",
      "\n",
      "### file ../00_Data/testset_2015_1h/2015082215 cam 3\n",
      "count    1024.000000\n",
      "mean       14.102539\n",
      "std         3.686682\n",
      "min         5.000000\n",
      "25%        11.000000\n",
      "50%        14.000000\n",
      "75%        17.000000\n",
      "max        28.000000\n",
      "Name: diff, dtype: float64\n"
     ]
    },
    {
     "data": {
      "image/png": "[encoded data removed]",
      "text/plain": [
       "<matplotlib.figure.Figure at 0x1166cef28>"
      ]
     },
     "metadata": {},
     "output_type": "display_data"
    },
    {
     "name": "stdout",
     "output_type": "stream",
     "text": [
      "../00_Data/testset_2015_1h/2015092215\n",
      "\n",
      "### file ../00_Data/testset_2015_1h/2015092215 cam 0\n",
      "\n",
      "### file ../00_Data/testset_2015_1h/2015092215 cam 1\n",
      "\n",
      "### file ../00_Data/testset_2015_1h/2015092215 cam 2\n",
      "\n",
      "### file ../00_Data/testset_2015_1h/2015092215 cam 3\n",
      "count    1024.000000\n",
      "mean        4.300781\n",
      "std         1.744523\n",
      "min         0.000000\n",
      "25%         3.000000\n",
      "50%         4.000000\n",
      "75%         5.000000\n",
      "max        11.000000\n",
      "Name: diff, dtype: float64\n"
     ]
    },
    {
     "data": {
      "image/png": "[encoded data removed]",
      "text/plain": [
       "<matplotlib.figure.Figure at 0x11744ee48>"
      ]
     },
     "metadata": {},
     "output_type": "display_data"
    },
    {
     "name": "stdout",
     "output_type": "stream",
     "text": [
      "../00_Data/testset_2015_1h/2015102215\n",
      "\n",
      "### file ../00_Data/testset_2015_1h/2015102215 cam 0\n",
      "\n",
      "### file ../00_Data/testset_2015_1h/2015102215 cam 1\n",
      "\n",
      "### file ../00_Data/testset_2015_1h/2015102215 cam 2\n",
      "\n",
      "### file ../00_Data/testset_2015_1h/2015102215 cam 3\n",
      "count    1024.000000\n",
      "mean        1.072266\n",
      "std         0.807257\n",
      "min         0.000000\n",
      "25%         0.000000\n",
      "50%         1.000000\n",
      "75%         2.000000\n",
      "max         3.000000\n",
      "Name: diff, dtype: float64\n"
     ]
    },
    {
     "data": {
      "image/png": "[encoded data removed]",
      "text/plain": [
       "<matplotlib.figure.Figure at 0x117638080>"
      ]
     },
     "metadata": {},
     "output_type": "display_data"
    }
   ],
   "source": [
    "for p in path_list:\n",
    "\n",
    "    print(\"{}\".format(p))\n",
    "\n",
    "    df_all = DataFrame()\n",
    "    for i in list(range(4)):\n",
    "        fc = prep.get_fc(p, i)\n",
    "        df = prep.get_dataframe(fc)\n",
    "        df = prep.calcIds(df, 0.9)\n",
    "        \n",
    "        df = df.reset_index(level=1).reset_index(level=1).reset_index(level=1)\n",
    "        df_all = pd.concat([df_all, df])\n",
    "\n",
    "    \n",
    "    gr = df_all.groupby(['frame_idx'])\n",
    "    id_unique = gr['id'].aggregate(lambda x: x.nunique())\n",
    "    id_sizes = gr['id'].size()\n",
    "    df_id_unique = DataFrame({'uniques': id_unique, 'sizes': id_sizes})\n",
    "    df_id_unique['diff'] = df_id_unique.sizes - df_id_unique.uniques\n",
    "    \n",
    "    print(df_id_unique['diff'].describe())\n",
    "    df_id_unique['diff'].plot.box()\n",
    "    plt.show()\n",
    "    "
   ]
  },
  {
   "cell_type": "code",
   "execution_count": null,
   "metadata": {
    "collapsed": true
   },
   "outputs": [],
   "source": []
  }
 ],
 "metadata": {
  "kernelspec": {
   "display_name": "Python 3",
   "language": "python",
   "name": "python3"
  },
  "language_info": {
   "codemirror_mode": {
    "name": "ipython",
    "version": 3
   },
   "file_extension": ".py",
   "mimetype": "text/x-python",
   "name": "python",
   "nbconvert_exporter": "python",
   "pygments_lexer": "ipython3",
   "version": "3.5.2"
  }
 },
 "nbformat": 4,
 "nbformat_minor": 1
}
