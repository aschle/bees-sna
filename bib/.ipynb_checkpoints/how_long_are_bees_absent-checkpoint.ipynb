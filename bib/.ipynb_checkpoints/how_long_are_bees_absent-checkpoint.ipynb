{
 "cells": [
  {
   "cell_type": "code",
   "execution_count": 55,
   "metadata": {
    "collapsed": false
   },
   "outputs": [
    {
     "name": "stdout",
     "output_type": "stream",
     "text": [
      "The autoreload extension is already loaded. To reload it, use:\n",
      "  %reload_ext autoreload\n"
     ]
    }
   ],
   "source": [
    "%load_ext autoreload\n",
    "%autoreload 2\n",
    "\n",
    "import preprocessing as prep\n",
    "import sys\n",
    "import pandas as pd\n",
    "import numpy as np\n",
    "import networkx as nx\n",
    "import matplotlib.pyplot as plt\n",
    "import seaborn as sns\n",
    "\n",
    "from bb_binary import FrameContainer, Repository, load_frame_container\n",
    "from pandas import DataFrame, Series"
   ]
  },
  {
   "cell_type": "code",
   "execution_count": 2,
   "metadata": {
    "collapsed": true
   },
   "outputs": [],
   "source": [
    "def get_files(path):\n",
    "    repo = Repository(path)\n",
    "    file = list(repo.iter_fnames())\n",
    "    a = [f.split('/')[-1].split(\"_\")[1] for f in file]\n",
    "    l = len(a)/4\n",
    "    npa = np.array(file).reshape(int(l),4)\n",
    "    return npa"
   ]
  },
  {
   "cell_type": "code",
   "execution_count": 3,
   "metadata": {
    "collapsed": true
   },
   "outputs": [],
   "source": [
    "def run():\n",
    "    CONFIDENCE = 0.9\n",
    "    DISTANCE = 160\n",
    "    MONTH = 10\n",
    "    xmax = 3000\n",
    "    ymax = 4000\n",
    "    LENGTH = 3\n",
    "\n",
    "    #f = \"../../data/1h/\"\n",
    "    f = \"../00_Data/testset_2015_1h/\"\n",
    "    p = \"2015\" + str(MONTH) + \"2215\"\n",
    "    path = f+p\n",
    "\n",
    "\n",
    "    files = get_files(path)\n",
    "\n",
    "    dataframes = DataFrame()\n",
    "    \n",
    "    for e, file_list in enumerate(files[:4]):\n",
    "\n",
    "        for i in list(range(4)):\n",
    "            fc = load_frame_container(file_list[i])\n",
    "            df = prep.get_dataframe(fc)\n",
    "            df = prep.calcIds(df,CONFIDENCE)\n",
    "            df['frame_idx'] = df['frame_idx'] + e*1024\n",
    "\n",
    "            dataframes = pd.concat([dataframes, df])\n",
    "    \n",
    "    return dataframes"
   ]
  },
  {
   "cell_type": "code",
   "execution_count": 4,
   "metadata": {
    "collapsed": false
   },
   "outputs": [],
   "source": [
    "df = run()"
   ]
  },
  {
   "cell_type": "code",
   "execution_count": 5,
   "metadata": {
    "collapsed": false
   },
   "outputs": [
    {
     "data": {
      "text/html": [
       "<div>\n",
       "<table border=\"1\" class=\"dataframe\">\n",
       "  <thead>\n",
       "    <tr style=\"text-align: right;\">\n",
       "      <th></th>\n",
       "      <th>idx</th>\n",
       "      <th>xpos</th>\n",
       "      <th>ypos</th>\n",
       "      <th>radius</th>\n",
       "      <th>frame_idx</th>\n",
       "      <th>timestamp</th>\n",
       "      <th>cam_id</th>\n",
       "      <th>fc_id</th>\n",
       "      <th>confidence</th>\n",
       "      <th>id</th>\n",
       "    </tr>\n",
       "  </thead>\n",
       "  <tbody>\n",
       "    <tr>\n",
       "      <th>1</th>\n",
       "      <td>1</td>\n",
       "      <td>1275</td>\n",
       "      <td>349</td>\n",
       "      <td>22.884899</td>\n",
       "      <td>0</td>\n",
       "      <td>1.445526e+09</td>\n",
       "      <td>3</td>\n",
       "      <td>13481051191518485734</td>\n",
       "      <td>1.000000</td>\n",
       "      <td>1404</td>\n",
       "    </tr>\n",
       "    <tr>\n",
       "      <th>2</th>\n",
       "      <td>2</td>\n",
       "      <td>1727</td>\n",
       "      <td>1549</td>\n",
       "      <td>22.834742</td>\n",
       "      <td>0</td>\n",
       "      <td>1.445526e+09</td>\n",
       "      <td>3</td>\n",
       "      <td>13481051191518485734</td>\n",
       "      <td>1.000000</td>\n",
       "      <td>1584</td>\n",
       "    </tr>\n",
       "    <tr>\n",
       "      <th>3</th>\n",
       "      <td>3</td>\n",
       "      <td>2088</td>\n",
       "      <td>1601</td>\n",
       "      <td>22.798576</td>\n",
       "      <td>0</td>\n",
       "      <td>1.445526e+09</td>\n",
       "      <td>3</td>\n",
       "      <td>13481051191518485734</td>\n",
       "      <td>1.000000</td>\n",
       "      <td>244</td>\n",
       "    </tr>\n",
       "    <tr>\n",
       "      <th>4</th>\n",
       "      <td>4</td>\n",
       "      <td>2324</td>\n",
       "      <td>1712</td>\n",
       "      <td>22.888599</td>\n",
       "      <td>0</td>\n",
       "      <td>1.445526e+09</td>\n",
       "      <td>3</td>\n",
       "      <td>13481051191518485734</td>\n",
       "      <td>0.992157</td>\n",
       "      <td>493</td>\n",
       "    </tr>\n",
       "    <tr>\n",
       "      <th>5</th>\n",
       "      <td>5</td>\n",
       "      <td>2637</td>\n",
       "      <td>1949</td>\n",
       "      <td>22.859152</td>\n",
       "      <td>0</td>\n",
       "      <td>1.445526e+09</td>\n",
       "      <td>3</td>\n",
       "      <td>13481051191518485734</td>\n",
       "      <td>0.984314</td>\n",
       "      <td>1737</td>\n",
       "    </tr>\n",
       "  </tbody>\n",
       "</table>\n",
       "</div>"
      ],
      "text/plain": [
       "   idx  xpos  ypos     radius  frame_idx     timestamp  cam_id  \\\n",
       "1    1  1275   349  22.884899          0  1.445526e+09       3   \n",
       "2    2  1727  1549  22.834742          0  1.445526e+09       3   \n",
       "3    3  2088  1601  22.798576          0  1.445526e+09       3   \n",
       "4    4  2324  1712  22.888599          0  1.445526e+09       3   \n",
       "5    5  2637  1949  22.859152          0  1.445526e+09       3   \n",
       "\n",
       "                  fc_id  confidence    id  \n",
       "1  13481051191518485734    1.000000  1404  \n",
       "2  13481051191518485734    1.000000  1584  \n",
       "3  13481051191518485734    1.000000   244  \n",
       "4  13481051191518485734    0.992157   493  \n",
       "5  13481051191518485734    0.984314  1737  "
      ]
     },
     "execution_count": 5,
     "metadata": {},
     "output_type": "execute_result"
    }
   ],
   "source": [
    "df.head()"
   ]
  },
  {
   "cell_type": "code",
   "execution_count": 6,
   "metadata": {
    "collapsed": false
   },
   "outputs": [
    {
     "data": {
      "text/html": [
       "<div>\n",
       "<table border=\"1\" class=\"dataframe\">\n",
       "  <thead>\n",
       "    <tr style=\"text-align: right;\">\n",
       "      <th></th>\n",
       "      <th>idx</th>\n",
       "      <th>xpos</th>\n",
       "      <th>ypos</th>\n",
       "      <th>radius</th>\n",
       "      <th>frame_idx</th>\n",
       "      <th>timestamp</th>\n",
       "      <th>cam_id</th>\n",
       "      <th>fc_id</th>\n",
       "      <th>confidence</th>\n",
       "      <th>id</th>\n",
       "    </tr>\n",
       "  </thead>\n",
       "  <tbody>\n",
       "    <tr>\n",
       "      <th>11</th>\n",
       "      <td>11</td>\n",
       "      <td>2014</td>\n",
       "      <td>2488</td>\n",
       "      <td>23.040073</td>\n",
       "      <td>4095</td>\n",
       "      <td>1.445527e+09</td>\n",
       "      <td>0</td>\n",
       "      <td>9419818031080225429</td>\n",
       "      <td>1.000000</td>\n",
       "      <td>233</td>\n",
       "    </tr>\n",
       "    <tr>\n",
       "      <th>12</th>\n",
       "      <td>12</td>\n",
       "      <td>2213</td>\n",
       "      <td>587</td>\n",
       "      <td>22.743612</td>\n",
       "      <td>4095</td>\n",
       "      <td>1.445527e+09</td>\n",
       "      <td>0</td>\n",
       "      <td>9419818031080225429</td>\n",
       "      <td>1.000000</td>\n",
       "      <td>501</td>\n",
       "    </tr>\n",
       "    <tr>\n",
       "      <th>13</th>\n",
       "      <td>13</td>\n",
       "      <td>2301</td>\n",
       "      <td>3613</td>\n",
       "      <td>22.991192</td>\n",
       "      <td>4095</td>\n",
       "      <td>1.445527e+09</td>\n",
       "      <td>0</td>\n",
       "      <td>9419818031080225429</td>\n",
       "      <td>1.000000</td>\n",
       "      <td>3542</td>\n",
       "    </tr>\n",
       "    <tr>\n",
       "      <th>14</th>\n",
       "      <td>14</td>\n",
       "      <td>2387</td>\n",
       "      <td>637</td>\n",
       "      <td>22.937235</td>\n",
       "      <td>4095</td>\n",
       "      <td>1.445527e+09</td>\n",
       "      <td>0</td>\n",
       "      <td>9419818031080225429</td>\n",
       "      <td>0.992157</td>\n",
       "      <td>61</td>\n",
       "    </tr>\n",
       "    <tr>\n",
       "      <th>15</th>\n",
       "      <td>15</td>\n",
       "      <td>2839</td>\n",
       "      <td>1325</td>\n",
       "      <td>22.945202</td>\n",
       "      <td>4095</td>\n",
       "      <td>1.445527e+09</td>\n",
       "      <td>0</td>\n",
       "      <td>9419818031080225429</td>\n",
       "      <td>1.000000</td>\n",
       "      <td>1333</td>\n",
       "    </tr>\n",
       "  </tbody>\n",
       "</table>\n",
       "</div>"
      ],
      "text/plain": [
       "    idx  xpos  ypos     radius  frame_idx     timestamp  cam_id  \\\n",
       "11   11  2014  2488  23.040073       4095  1.445527e+09       0   \n",
       "12   12  2213   587  22.743612       4095  1.445527e+09       0   \n",
       "13   13  2301  3613  22.991192       4095  1.445527e+09       0   \n",
       "14   14  2387   637  22.937235       4095  1.445527e+09       0   \n",
       "15   15  2839  1325  22.945202       4095  1.445527e+09       0   \n",
       "\n",
       "                  fc_id  confidence    id  \n",
       "11  9419818031080225429    1.000000   233  \n",
       "12  9419818031080225429    1.000000   501  \n",
       "13  9419818031080225429    1.000000  3542  \n",
       "14  9419818031080225429    0.992157    61  \n",
       "15  9419818031080225429    1.000000  1333  "
      ]
     },
     "execution_count": 6,
     "metadata": {},
     "output_type": "execute_result"
    }
   ],
   "source": [
    "df.tail()"
   ]
  },
  {
   "cell_type": "code",
   "execution_count": 7,
   "metadata": {
    "collapsed": true
   },
   "outputs": [],
   "source": [
    "def set_detections(group, dft):\n",
    "    idx = group.frame_idx.iat[0]\n",
    "    dft.loc[group['id'],idx] = 1"
   ]
  },
  {
   "cell_type": "code",
   "execution_count": 10,
   "metadata": {
    "collapsed": false
   },
   "outputs": [],
   "source": [
    "def df_to_timeseries(df):\n",
    "    num_columns = len(df.frame_idx.unique())\n",
    "    u_id = df.id.unique()\n",
    "    dft = DataFrame(0, index=u_id, columns=np.arange(num_columns))\n",
    "    df.groupby('frame_idx').apply(lambda x: set_detections(x,dft))\n",
    "    return dft"
   ]
  },
  {
   "cell_type": "code",
   "execution_count": 11,
   "metadata": {
    "collapsed": false
   },
   "outputs": [],
   "source": [
    "dft = df_to_timeseries(df)"
   ]
  },
  {
   "cell_type": "code",
   "execution_count": 12,
   "metadata": {
    "collapsed": false
   },
   "outputs": [
    {
     "data": {
      "text/html": [
       "<div>\n",
       "<table border=\"1\" class=\"dataframe\">\n",
       "  <thead>\n",
       "    <tr style=\"text-align: right;\">\n",
       "      <th></th>\n",
       "      <th>0</th>\n",
       "      <th>1</th>\n",
       "      <th>2</th>\n",
       "      <th>3</th>\n",
       "      <th>4</th>\n",
       "      <th>5</th>\n",
       "      <th>6</th>\n",
       "      <th>7</th>\n",
       "      <th>8</th>\n",
       "      <th>9</th>\n",
       "      <th>...</th>\n",
       "      <th>4086</th>\n",
       "      <th>4087</th>\n",
       "      <th>4088</th>\n",
       "      <th>4089</th>\n",
       "      <th>4090</th>\n",
       "      <th>4091</th>\n",
       "      <th>4092</th>\n",
       "      <th>4093</th>\n",
       "      <th>4094</th>\n",
       "      <th>4095</th>\n",
       "    </tr>\n",
       "  </thead>\n",
       "  <tbody>\n",
       "    <tr>\n",
       "      <th>1404</th>\n",
       "      <td>1</td>\n",
       "      <td>0</td>\n",
       "      <td>1</td>\n",
       "      <td>1</td>\n",
       "      <td>1</td>\n",
       "      <td>1</td>\n",
       "      <td>0</td>\n",
       "      <td>1</td>\n",
       "      <td>1</td>\n",
       "      <td>1</td>\n",
       "      <td>...</td>\n",
       "      <td>0</td>\n",
       "      <td>0</td>\n",
       "      <td>0</td>\n",
       "      <td>0</td>\n",
       "      <td>0</td>\n",
       "      <td>0</td>\n",
       "      <td>0</td>\n",
       "      <td>0</td>\n",
       "      <td>0</td>\n",
       "      <td>0</td>\n",
       "    </tr>\n",
       "    <tr>\n",
       "      <th>1584</th>\n",
       "      <td>1</td>\n",
       "      <td>1</td>\n",
       "      <td>0</td>\n",
       "      <td>1</td>\n",
       "      <td>1</td>\n",
       "      <td>1</td>\n",
       "      <td>0</td>\n",
       "      <td>1</td>\n",
       "      <td>1</td>\n",
       "      <td>1</td>\n",
       "      <td>...</td>\n",
       "      <td>0</td>\n",
       "      <td>0</td>\n",
       "      <td>0</td>\n",
       "      <td>0</td>\n",
       "      <td>0</td>\n",
       "      <td>0</td>\n",
       "      <td>0</td>\n",
       "      <td>0</td>\n",
       "      <td>0</td>\n",
       "      <td>0</td>\n",
       "    </tr>\n",
       "    <tr>\n",
       "      <th>244</th>\n",
       "      <td>1</td>\n",
       "      <td>1</td>\n",
       "      <td>1</td>\n",
       "      <td>1</td>\n",
       "      <td>1</td>\n",
       "      <td>1</td>\n",
       "      <td>1</td>\n",
       "      <td>1</td>\n",
       "      <td>1</td>\n",
       "      <td>1</td>\n",
       "      <td>...</td>\n",
       "      <td>1</td>\n",
       "      <td>1</td>\n",
       "      <td>1</td>\n",
       "      <td>1</td>\n",
       "      <td>1</td>\n",
       "      <td>1</td>\n",
       "      <td>1</td>\n",
       "      <td>1</td>\n",
       "      <td>1</td>\n",
       "      <td>1</td>\n",
       "    </tr>\n",
       "    <tr>\n",
       "      <th>493</th>\n",
       "      <td>1</td>\n",
       "      <td>0</td>\n",
       "      <td>0</td>\n",
       "      <td>0</td>\n",
       "      <td>1</td>\n",
       "      <td>1</td>\n",
       "      <td>1</td>\n",
       "      <td>1</td>\n",
       "      <td>1</td>\n",
       "      <td>1</td>\n",
       "      <td>...</td>\n",
       "      <td>1</td>\n",
       "      <td>0</td>\n",
       "      <td>0</td>\n",
       "      <td>0</td>\n",
       "      <td>0</td>\n",
       "      <td>0</td>\n",
       "      <td>1</td>\n",
       "      <td>0</td>\n",
       "      <td>0</td>\n",
       "      <td>0</td>\n",
       "    </tr>\n",
       "    <tr>\n",
       "      <th>1737</th>\n",
       "      <td>1</td>\n",
       "      <td>1</td>\n",
       "      <td>1</td>\n",
       "      <td>1</td>\n",
       "      <td>1</td>\n",
       "      <td>1</td>\n",
       "      <td>1</td>\n",
       "      <td>0</td>\n",
       "      <td>1</td>\n",
       "      <td>1</td>\n",
       "      <td>...</td>\n",
       "      <td>0</td>\n",
       "      <td>0</td>\n",
       "      <td>0</td>\n",
       "      <td>0</td>\n",
       "      <td>0</td>\n",
       "      <td>0</td>\n",
       "      <td>0</td>\n",
       "      <td>0</td>\n",
       "      <td>0</td>\n",
       "      <td>0</td>\n",
       "    </tr>\n",
       "  </tbody>\n",
       "</table>\n",
       "<p>5 rows × 4096 columns</p>\n",
       "</div>"
      ],
      "text/plain": [
       "      0     1     2     3     4     5     6     7     8     9     ...   4086  \\\n",
       "1404     1     0     1     1     1     1     0     1     1     1  ...      0   \n",
       "1584     1     1     0     1     1     1     0     1     1     1  ...      0   \n",
       "244      1     1     1     1     1     1     1     1     1     1  ...      1   \n",
       "493      1     0     0     0     1     1     1     1     1     1  ...      1   \n",
       "1737     1     1     1     1     1     1     1     0     1     1  ...      0   \n",
       "\n",
       "      4087  4088  4089  4090  4091  4092  4093  4094  4095  \n",
       "1404     0     0     0     0     0     0     0     0     0  \n",
       "1584     0     0     0     0     0     0     0     0     0  \n",
       "244      1     1     1     1     1     1     1     1     1  \n",
       "493      0     0     0     0     0     1     0     0     0  \n",
       "1737     0     0     0     0     0     0     0     0     0  \n",
       "\n",
       "[5 rows x 4096 columns]"
      ]
     },
     "execution_count": 12,
     "metadata": {},
     "output_type": "execute_result"
    }
   ],
   "source": [
    "dft.head()"
   ]
  },
  {
   "cell_type": "code",
   "execution_count": 43,
   "metadata": {
    "collapsed": true
   },
   "outputs": [],
   "source": [
    "def get_ketten(kette, val):\n",
    "    kette = kette.apply(str)\n",
    "    s = kette.str.cat(sep='')\n",
    "    ss = s.split(val)\n",
    "    return [len(x) for x in ss if len(x) > 0]"
   ]
  },
  {
   "cell_type": "code",
   "execution_count": 44,
   "metadata": {
    "collapsed": false
   },
   "outputs": [],
   "source": [
    "chains0 = dft.apply(get_ketten, axis=1, args=[\"1\"])"
   ]
  },
  {
   "cell_type": "code",
   "execution_count": 47,
   "metadata": {
    "collapsed": false
   },
   "outputs": [
    {
     "data": {
      "text/plain": [
       "1404    [1, 1, 4, 5, 4, 1, 3, 2, 1, 2, 1, 1, 1, 1, 3, ...\n",
       "1584    [1, 1, 1, 1, 1, 1, 3, 1, 13, 2, 1, 1, 3, 1, 2,...\n",
       "dtype: object"
      ]
     },
     "execution_count": 47,
     "metadata": {},
     "output_type": "execute_result"
    }
   ],
   "source": [
    "chains0.head(2)"
   ]
  },
  {
   "cell_type": "code",
   "execution_count": 49,
   "metadata": {
    "collapsed": false
   },
   "outputs": [],
   "source": [
    "list_0 = [j for i in chains0 for j in i]"
   ]
  },
  {
   "cell_type": "code",
   "execution_count": 60,
   "metadata": {
    "collapsed": false
   },
   "outputs": [
    {
     "data": {
      "image/png": "[encoded data removed]",
      "text/plain": [
       "<matplotlib.figure.Figure at 0x10843ed68>"
      ]
     },
     "metadata": {},
     "output_type": "display_data"
    }
   ],
   "source": [
    "ax = sns.distplot(list_0)\n",
    "ax.set(yscale=\"log\")\n",
    "sns.plt.show()"
   ]
  }
 ],
 "metadata": {
  "kernelspec": {
   "display_name": "Python 3",
   "language": "python",
   "name": "python3"
  },
  "language_info": {
   "codemirror_mode": {
    "name": "ipython",
    "version": 3
   },
   "file_extension": ".py",
   "mimetype": "text/x-python",
   "name": "python",
   "nbconvert_exporter": "python",
   "pygments_lexer": "ipython3",
   "version": "3.5.2"
  }
 },
 "nbformat": 4,
 "nbformat_minor": 1
}
