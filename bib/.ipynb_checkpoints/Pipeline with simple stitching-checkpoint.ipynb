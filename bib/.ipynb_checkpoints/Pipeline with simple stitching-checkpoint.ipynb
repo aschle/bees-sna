{
 "cells": [
  {
   "cell_type": "code",
   "execution_count": 1,
   "metadata": {
    "collapsed": false
   },
   "outputs": [],
   "source": [
    "%load_ext autoreload\n",
    "%autoreload 2\n",
    "\n",
    "%load_ext line_profiler\n",
    "\n",
    "import preprocessing as prep\n",
    "import pandas as pd\n",
    "import numpy as np"
   ]
  },
  {
   "cell_type": "code",
   "execution_count": 49,
   "metadata": {
    "collapsed": true
   },
   "outputs": [],
   "source": [
    "path = \"../00_Data/testset_2015_1h/2015092215\"\n",
    "path = \"../00_Data/testset_2015_1h/2015082215\"\n",
    "CONFIDENCE = 0.9\n",
    "DISTANCE = 160\n",
    "xmax = 3000\n",
    "ymax = 4000\n",
    "LENGTH = 3"
   ]
  },
  {
   "cell_type": "code",
   "execution_count": 50,
   "metadata": {
    "collapsed": false
   },
   "outputs": [
    {
     "name": "stdout",
     "output_type": "stream",
     "text": [
      "file ../00_Data/testset_2015_1h/2015082215 cam 0\n",
      "CPU times: user 7.61 ms, sys: 16.3 ms, total: 23.9 ms\n",
      "Wall time: 49.1 ms\n",
      "file ../00_Data/testset_2015_1h/2015082215 cam 1\n",
      "CPU times: user 4.37 ms, sys: 7.43 ms, total: 11.8 ms\n",
      "Wall time: 11.9 ms\n",
      "file ../00_Data/testset_2015_1h/2015082215 cam 2\n",
      "CPU times: user 4.38 ms, sys: 7.95 ms, total: 12.3 ms\n",
      "Wall time: 14.4 ms\n",
      "file ../00_Data/testset_2015_1h/2015082215 cam 3\n",
      "CPU times: user 4.31 ms, sys: 6.7 ms, total: 11 ms\n",
      "Wall time: 11 ms\n"
     ]
    }
   ],
   "source": [
    "%time fc0 = prep.get_fc(path,0)\n",
    "%time fc1 = prep.get_fc(path,1)\n",
    "%time fc2 = prep.get_fc(path,2)\n",
    "%time fc3 = prep.get_fc(path,3)"
   ]
  },
  {
   "cell_type": "code",
   "execution_count": 51,
   "metadata": {
    "collapsed": false
   },
   "outputs": [
    {
     "name": "stdout",
     "output_type": "stream",
     "text": [
      "CPU times: user 11.2 s, sys: 225 ms, total: 11.4 s\n",
      "Wall time: 11.6 s\n",
      "CPU times: user 4.16 s, sys: 78.2 ms, total: 4.24 s\n",
      "Wall time: 4.27 s\n"
     ]
    }
   ],
   "source": [
    "%time df3 = prep.get_dataframe(fc3)\n",
    "%time df3 = prep.calcIds(df3,CONFIDENCE)"
   ]
  },
  {
   "cell_type": "code",
   "execution_count": 52,
   "metadata": {
    "collapsed": false
   },
   "outputs": [
    {
     "name": "stdout",
     "output_type": "stream",
     "text": [
      "CPU times: user 11.1 s, sys: 154 ms, total: 11.3 s\n",
      "Wall time: 11.4 s\n",
      "CPU times: user 4.18 s, sys: 51.5 ms, total: 4.23 s\n",
      "Wall time: 4.33 s\n"
     ]
    }
   ],
   "source": [
    "%time df0 = prep.get_dataframe(fc0)\n",
    "%time df0 = prep.calcIds(df0,CONFIDENCE)"
   ]
  },
  {
   "cell_type": "code",
   "execution_count": 53,
   "metadata": {
    "collapsed": false
   },
   "outputs": [
    {
     "name": "stdout",
     "output_type": "stream",
     "text": [
      "CPU times: user 11.5 s, sys: 176 ms, total: 11.7 s\n",
      "Wall time: 12 s\n",
      "CPU times: user 4.25 s, sys: 74.9 ms, total: 4.32 s\n",
      "Wall time: 4.47 s\n"
     ]
    }
   ],
   "source": [
    "%time df2 = prep.get_dataframe(fc2)\n",
    "%time df2 = prep.calcIds(df2,CONFIDENCE)"
   ]
  },
  {
   "cell_type": "code",
   "execution_count": 54,
   "metadata": {
    "collapsed": false
   },
   "outputs": [
    {
     "name": "stdout",
     "output_type": "stream",
     "text": [
      "CPU times: user 11.7 s, sys: 171 ms, total: 11.9 s\n",
      "Wall time: 12.3 s\n",
      "CPU times: user 4.64 s, sys: 68.4 ms, total: 4.71 s\n",
      "Wall time: 5 s\n"
     ]
    }
   ],
   "source": [
    "%time df1 = prep.get_dataframe(fc1)\n",
    "%time df1 = prep.calcIds(df1,CONFIDENCE)"
   ]
  },
  {
   "cell_type": "code",
   "execution_count": 55,
   "metadata": {
    "collapsed": false
   },
   "outputs": [
    {
     "name": "stdout",
     "output_type": "stream",
     "text": [
      "CPU times: user 2.41 ms, sys: 979 µs, total: 3.39 ms\n",
      "Wall time: 2.82 ms\n"
     ]
    }
   ],
   "source": [
    "# CAM 0 und cam 1 nach rechts verschieben um 3000px\n",
    "%time df0.xpos = df0.xpos + xmax"
   ]
  },
  {
   "cell_type": "code",
   "execution_count": 56,
   "metadata": {
    "collapsed": false
   },
   "outputs": [
    {
     "name": "stdout",
     "output_type": "stream",
     "text": [
      "CPU times: user 2.08 ms, sys: 694 µs, total: 2.78 ms\n",
      "Wall time: 7.57 ms\n"
     ]
    }
   ],
   "source": [
    "%time df1.xpos = df1.xpos + xmax"
   ]
  },
  {
   "cell_type": "code",
   "execution_count": 57,
   "metadata": {
    "collapsed": true
   },
   "outputs": [],
   "source": [
    "# Seiten zusammen schmeißen"
   ]
  },
  {
   "cell_type": "code",
   "execution_count": 58,
   "metadata": {
    "collapsed": false
   },
   "outputs": [
    {
     "name": "stdout",
     "output_type": "stream",
     "text": [
      "CPU times: user 19.4 ms, sys: 9.44 ms, total: 28.9 ms\n",
      "Wall time: 29.9 ms\n"
     ]
    }
   ],
   "source": [
    "%time side0 = pd.concat([df3, df0])"
   ]
  },
  {
   "cell_type": "code",
   "execution_count": 59,
   "metadata": {
    "collapsed": false
   },
   "outputs": [
    {
     "name": "stdout",
     "output_type": "stream",
     "text": [
      "CPU times: user 21.3 ms, sys: 14.3 ms, total: 35.7 ms\n",
      "Wall time: 47.9 ms\n"
     ]
    }
   ],
   "source": [
    "%time side1 = pd.concat([df2, df1])"
   ]
  },
  {
   "cell_type": "code",
   "execution_count": 60,
   "metadata": {
    "collapsed": true
   },
   "outputs": [],
   "source": [
    "# Paare fuer beide Seiten machen"
   ]
  },
  {
   "cell_type": "code",
   "execution_count": 61,
   "metadata": {
    "collapsed": false
   },
   "outputs": [
    {
     "name": "stdout",
     "output_type": "stream",
     "text": [
      "CPU times: user 7.03 s, sys: 20.7 s, total: 27.7 s\n",
      "Wall time: 44.4 s\n"
     ]
    }
   ],
   "source": [
    "%time close1 = prep.get_close_bees(side0, DISTANCE)"
   ]
  },
  {
   "cell_type": "code",
   "execution_count": 62,
   "metadata": {
    "collapsed": false
   },
   "outputs": [
    {
     "name": "stdout",
     "output_type": "stream",
     "text": [
      "CPU times: user 7.55 s, sys: 22.6 s, total: 30.1 s\n",
      "Wall time: 1min 5s\n"
     ]
    }
   ],
   "source": [
    "%time close2 = prep.get_close_bees(side1, DISTANCE)"
   ]
  },
  {
   "cell_type": "code",
   "execution_count": 63,
   "metadata": {
    "collapsed": false
   },
   "outputs": [
    {
     "name": "stdout",
     "output_type": "stream",
     "text": [
      "CPU times: user 3.99 ms, sys: 7.44 ms, total: 11.4 ms\n",
      "Wall time: 11.5 ms\n"
     ]
    }
   ],
   "source": [
    "%time close = pd.concat([close1,close2])"
   ]
  },
  {
   "cell_type": "code",
   "execution_count": 64,
   "metadata": {
    "collapsed": false
   },
   "outputs": [
    {
     "name": "stdout",
     "output_type": "stream",
     "text": [
      "CPU times: user 7.92 s, sys: 196 ms, total: 8.11 s\n",
      "Wall time: 13.9 s\n"
     ]
    }
   ],
   "source": [
    "%time p = prep.bee_pairs_to_timeseries(close)"
   ]
  },
  {
   "cell_type": "code",
   "execution_count": 65,
   "metadata": {
    "collapsed": false
   },
   "outputs": [
    {
     "name": "stdout",
     "output_type": "stream",
     "text": [
      "CPU times: user 5.58 s, sys: 123 ms, total: 5.7 s\n",
      "Wall time: 9.88 s\n"
     ]
    }
   ],
   "source": [
    "%time i = prep.extract_interactions(p,LENGTH)"
   ]
  },
  {
   "cell_type": "code",
   "execution_count": 66,
   "metadata": {
    "collapsed": false
   },
   "outputs": [
    {
     "name": "stdout",
     "output_type": "stream",
     "text": [
      "CPU times: user 8.82 ms, sys: 2.08 ms, total: 10.9 ms\n",
      "Wall time: 13.6 ms\n"
     ]
    }
   ],
   "source": [
    "%time G = prep.create_graph2(i)"
   ]
  },
  {
   "cell_type": "code",
   "execution_count": 79,
   "metadata": {
    "collapsed": true
   },
   "outputs": [],
   "source": [
    "test = side0"
   ]
  },
  {
   "cell_type": "code",
   "execution_count": 80,
   "metadata": {
    "collapsed": true
   },
   "outputs": [],
   "source": [
    "test = test.reset_index(level = 'frame_idx')"
   ]
  },
  {
   "cell_type": "code",
   "execution_count": 81,
   "metadata": {
    "collapsed": false
   },
   "outputs": [],
   "source": [
    "m = pd.merge(test, test, on='frame_idx')"
   ]
  },
  {
   "cell_type": "code",
   "execution_count": 84,
   "metadata": {
    "collapsed": false
   },
   "outputs": [
    {
     "data": {
      "text/html": [
       "<div>\n",
       "<table border=\"1\" class=\"dataframe\">\n",
       "  <thead>\n",
       "    <tr style=\"text-align: right;\">\n",
       "      <th></th>\n",
       "      <th>frame_idx</th>\n",
       "      <th>xpos_x</th>\n",
       "      <th>ypos_x</th>\n",
       "      <th>zRotation_x</th>\n",
       "      <th>timestamp_x</th>\n",
       "      <th>cam_id_x</th>\n",
       "      <th>confidence_x</th>\n",
       "      <th>id_x</th>\n",
       "      <th>xpos_y</th>\n",
       "      <th>ypos_y</th>\n",
       "      <th>zRotation_y</th>\n",
       "      <th>timestamp_y</th>\n",
       "      <th>cam_id_y</th>\n",
       "      <th>confidence_y</th>\n",
       "      <th>id_y</th>\n",
       "    </tr>\n",
       "  </thead>\n",
       "  <tbody>\n",
       "    <tr>\n",
       "      <th>0</th>\n",
       "      <td>0</td>\n",
       "      <td>452</td>\n",
       "      <td>2450</td>\n",
       "      <td>0.649359</td>\n",
       "      <td>1.440256e+09</td>\n",
       "      <td>3</td>\n",
       "      <td>0.921569</td>\n",
       "      <td>3994</td>\n",
       "      <td>452</td>\n",
       "      <td>2450</td>\n",
       "      <td>0.649359</td>\n",
       "      <td>1.440256e+09</td>\n",
       "      <td>3</td>\n",
       "      <td>0.921569</td>\n",
       "      <td>3994</td>\n",
       "    </tr>\n",
       "    <tr>\n",
       "      <th>1</th>\n",
       "      <td>0</td>\n",
       "      <td>452</td>\n",
       "      <td>2450</td>\n",
       "      <td>0.649359</td>\n",
       "      <td>1.440256e+09</td>\n",
       "      <td>3</td>\n",
       "      <td>0.921569</td>\n",
       "      <td>3994</td>\n",
       "      <td>702</td>\n",
       "      <td>3464</td>\n",
       "      <td>1.805921</td>\n",
       "      <td>1.440256e+09</td>\n",
       "      <td>3</td>\n",
       "      <td>0.968627</td>\n",
       "      <td>2251</td>\n",
       "    </tr>\n",
       "    <tr>\n",
       "      <th>2</th>\n",
       "      <td>0</td>\n",
       "      <td>452</td>\n",
       "      <td>2450</td>\n",
       "      <td>0.649359</td>\n",
       "      <td>1.440256e+09</td>\n",
       "      <td>3</td>\n",
       "      <td>0.921569</td>\n",
       "      <td>3994</td>\n",
       "      <td>887</td>\n",
       "      <td>2225</td>\n",
       "      <td>-2.707575</td>\n",
       "      <td>1.440256e+09</td>\n",
       "      <td>3</td>\n",
       "      <td>0.992157</td>\n",
       "      <td>564</td>\n",
       "    </tr>\n",
       "    <tr>\n",
       "      <th>3</th>\n",
       "      <td>0</td>\n",
       "      <td>452</td>\n",
       "      <td>2450</td>\n",
       "      <td>0.649359</td>\n",
       "      <td>1.440256e+09</td>\n",
       "      <td>3</td>\n",
       "      <td>0.921569</td>\n",
       "      <td>3994</td>\n",
       "      <td>962</td>\n",
       "      <td>1886</td>\n",
       "      <td>-1.420315</td>\n",
       "      <td>1.440256e+09</td>\n",
       "      <td>3</td>\n",
       "      <td>0.984314</td>\n",
       "      <td>3700</td>\n",
       "    </tr>\n",
       "    <tr>\n",
       "      <th>4</th>\n",
       "      <td>0</td>\n",
       "      <td>452</td>\n",
       "      <td>2450</td>\n",
       "      <td>0.649359</td>\n",
       "      <td>1.440256e+09</td>\n",
       "      <td>3</td>\n",
       "      <td>0.921569</td>\n",
       "      <td>3994</td>\n",
       "      <td>1237</td>\n",
       "      <td>3374</td>\n",
       "      <td>2.278476</td>\n",
       "      <td>1.440256e+09</td>\n",
       "      <td>3</td>\n",
       "      <td>1.000000</td>\n",
       "      <td>2762</td>\n",
       "    </tr>\n",
       "  </tbody>\n",
       "</table>\n",
       "</div>"
      ],
      "text/plain": [
       "   frame_idx  xpos_x  ypos_x  zRotation_x   timestamp_x  cam_id_x  \\\n",
       "0          0     452    2450     0.649359  1.440256e+09         3   \n",
       "1          0     452    2450     0.649359  1.440256e+09         3   \n",
       "2          0     452    2450     0.649359  1.440256e+09         3   \n",
       "3          0     452    2450     0.649359  1.440256e+09         3   \n",
       "4          0     452    2450     0.649359  1.440256e+09         3   \n",
       "\n",
       "   confidence_x  id_x  xpos_y  ypos_y  zRotation_y   timestamp_y  cam_id_y  \\\n",
       "0      0.921569  3994     452    2450     0.649359  1.440256e+09         3   \n",
       "1      0.921569  3994     702    3464     1.805921  1.440256e+09         3   \n",
       "2      0.921569  3994     887    2225    -2.707575  1.440256e+09         3   \n",
       "3      0.921569  3994     962    1886    -1.420315  1.440256e+09         3   \n",
       "4      0.921569  3994    1237    3374     2.278476  1.440256e+09         3   \n",
       "\n",
       "   confidence_y  id_y  \n",
       "0      0.921569  3994  \n",
       "1      0.968627  2251  \n",
       "2      0.992157   564  \n",
       "3      0.984314  3700  \n",
       "4      1.000000  2762  "
      ]
     },
     "execution_count": 84,
     "metadata": {},
     "output_type": "execute_result"
    }
   ],
   "source": [
    "m.head()"
   ]
  },
  {
   "cell_type": "code",
   "execution_count": 2,
   "metadata": {
    "collapsed": false
   },
   "outputs": [
    {
     "ename": "NameError",
     "evalue": "name 'm' is not defined",
     "output_type": "error",
     "traceback": [
      "\u001b[0;31m---------------------------------------------------------------------------\u001b[0m",
      "\u001b[0;31mNameError\u001b[0m                                 Traceback (most recent call last)",
      "\u001b[0;32m<ipython-input-2-5d9f63b4dc2f>\u001b[0m in \u001b[0;36m<module>\u001b[0;34m()\u001b[0m\n\u001b[0;32m----> 1\u001b[0;31m \u001b[0mget_ipython\u001b[0m\u001b[0;34m(\u001b[0m\u001b[0;34m)\u001b[0m\u001b[0;34m.\u001b[0m\u001b[0mmagic\u001b[0m\u001b[0;34m(\u001b[0m\u001b[0;34m'time sss = m[m.id_x < m.id_y]'\u001b[0m\u001b[0;34m)\u001b[0m\u001b[0;34m\u001b[0m\u001b[0m\n\u001b[0m",
      "\u001b[0;32m/usr/local/lib/python3.5/site-packages/IPython/core/interactiveshell.py\u001b[0m in \u001b[0;36mmagic\u001b[0;34m(self, arg_s)\u001b[0m\n\u001b[1;32m   2156\u001b[0m         \u001b[0mmagic_name\u001b[0m\u001b[0;34m,\u001b[0m \u001b[0m_\u001b[0m\u001b[0;34m,\u001b[0m \u001b[0mmagic_arg_s\u001b[0m \u001b[0;34m=\u001b[0m \u001b[0marg_s\u001b[0m\u001b[0;34m.\u001b[0m\u001b[0mpartition\u001b[0m\u001b[0;34m(\u001b[0m\u001b[0;34m' '\u001b[0m\u001b[0;34m)\u001b[0m\u001b[0;34m\u001b[0m\u001b[0m\n\u001b[1;32m   2157\u001b[0m         \u001b[0mmagic_name\u001b[0m \u001b[0;34m=\u001b[0m \u001b[0mmagic_name\u001b[0m\u001b[0;34m.\u001b[0m\u001b[0mlstrip\u001b[0m\u001b[0;34m(\u001b[0m\u001b[0mprefilter\u001b[0m\u001b[0;34m.\u001b[0m\u001b[0mESC_MAGIC\u001b[0m\u001b[0;34m)\u001b[0m\u001b[0;34m\u001b[0m\u001b[0m\n\u001b[0;32m-> 2158\u001b[0;31m         \u001b[0;32mreturn\u001b[0m \u001b[0mself\u001b[0m\u001b[0;34m.\u001b[0m\u001b[0mrun_line_magic\u001b[0m\u001b[0;34m(\u001b[0m\u001b[0mmagic_name\u001b[0m\u001b[0;34m,\u001b[0m \u001b[0mmagic_arg_s\u001b[0m\u001b[0;34m)\u001b[0m\u001b[0;34m\u001b[0m\u001b[0m\n\u001b[0m\u001b[1;32m   2159\u001b[0m \u001b[0;34m\u001b[0m\u001b[0m\n\u001b[1;32m   2160\u001b[0m     \u001b[0;31m#-------------------------------------------------------------------------\u001b[0m\u001b[0;34m\u001b[0m\u001b[0;34m\u001b[0m\u001b[0m\n",
      "\u001b[0;32m/usr/local/lib/python3.5/site-packages/IPython/core/interactiveshell.py\u001b[0m in \u001b[0;36mrun_line_magic\u001b[0;34m(self, magic_name, line)\u001b[0m\n\u001b[1;32m   2077\u001b[0m                 \u001b[0mkwargs\u001b[0m\u001b[0;34m[\u001b[0m\u001b[0;34m'local_ns'\u001b[0m\u001b[0;34m]\u001b[0m \u001b[0;34m=\u001b[0m \u001b[0msys\u001b[0m\u001b[0;34m.\u001b[0m\u001b[0m_getframe\u001b[0m\u001b[0;34m(\u001b[0m\u001b[0mstack_depth\u001b[0m\u001b[0;34m)\u001b[0m\u001b[0;34m.\u001b[0m\u001b[0mf_locals\u001b[0m\u001b[0;34m\u001b[0m\u001b[0m\n\u001b[1;32m   2078\u001b[0m             \u001b[0;32mwith\u001b[0m \u001b[0mself\u001b[0m\u001b[0;34m.\u001b[0m\u001b[0mbuiltin_trap\u001b[0m\u001b[0;34m:\u001b[0m\u001b[0;34m\u001b[0m\u001b[0m\n\u001b[0;32m-> 2079\u001b[0;31m                 \u001b[0mresult\u001b[0m \u001b[0;34m=\u001b[0m \u001b[0mfn\u001b[0m\u001b[0;34m(\u001b[0m\u001b[0;34m*\u001b[0m\u001b[0margs\u001b[0m\u001b[0;34m,\u001b[0m\u001b[0;34m**\u001b[0m\u001b[0mkwargs\u001b[0m\u001b[0;34m)\u001b[0m\u001b[0;34m\u001b[0m\u001b[0m\n\u001b[0m\u001b[1;32m   2080\u001b[0m             \u001b[0;32mreturn\u001b[0m \u001b[0mresult\u001b[0m\u001b[0;34m\u001b[0m\u001b[0m\n\u001b[1;32m   2081\u001b[0m \u001b[0;34m\u001b[0m\u001b[0m\n",
      "\u001b[0;32m<decorator-gen-59>\u001b[0m in \u001b[0;36mtime\u001b[0;34m(self, line, cell, local_ns)\u001b[0m\n",
      "\u001b[0;32m/usr/local/lib/python3.5/site-packages/IPython/core/magic.py\u001b[0m in \u001b[0;36m<lambda>\u001b[0;34m(f, *a, **k)\u001b[0m\n\u001b[1;32m    186\u001b[0m     \u001b[0;31m# but it's overkill for just that one bit of state.\u001b[0m\u001b[0;34m\u001b[0m\u001b[0;34m\u001b[0m\u001b[0m\n\u001b[1;32m    187\u001b[0m     \u001b[0;32mdef\u001b[0m \u001b[0mmagic_deco\u001b[0m\u001b[0;34m(\u001b[0m\u001b[0marg\u001b[0m\u001b[0;34m)\u001b[0m\u001b[0;34m:\u001b[0m\u001b[0;34m\u001b[0m\u001b[0m\n\u001b[0;32m--> 188\u001b[0;31m         \u001b[0mcall\u001b[0m \u001b[0;34m=\u001b[0m \u001b[0;32mlambda\u001b[0m \u001b[0mf\u001b[0m\u001b[0;34m,\u001b[0m \u001b[0;34m*\u001b[0m\u001b[0ma\u001b[0m\u001b[0;34m,\u001b[0m \u001b[0;34m**\u001b[0m\u001b[0mk\u001b[0m\u001b[0;34m:\u001b[0m \u001b[0mf\u001b[0m\u001b[0;34m(\u001b[0m\u001b[0;34m*\u001b[0m\u001b[0ma\u001b[0m\u001b[0;34m,\u001b[0m \u001b[0;34m**\u001b[0m\u001b[0mk\u001b[0m\u001b[0;34m)\u001b[0m\u001b[0;34m\u001b[0m\u001b[0m\n\u001b[0m\u001b[1;32m    189\u001b[0m \u001b[0;34m\u001b[0m\u001b[0m\n\u001b[1;32m    190\u001b[0m         \u001b[0;32mif\u001b[0m \u001b[0mcallable\u001b[0m\u001b[0;34m(\u001b[0m\u001b[0marg\u001b[0m\u001b[0;34m)\u001b[0m\u001b[0;34m:\u001b[0m\u001b[0;34m\u001b[0m\u001b[0m\n",
      "\u001b[0;32m/usr/local/lib/python3.5/site-packages/IPython/core/magics/execution.py\u001b[0m in \u001b[0;36mtime\u001b[0;34m(self, line, cell, local_ns)\u001b[0m\n\u001b[1;32m   1178\u001b[0m         \u001b[0;32melse\u001b[0m\u001b[0;34m:\u001b[0m\u001b[0;34m\u001b[0m\u001b[0m\n\u001b[1;32m   1179\u001b[0m             \u001b[0mst\u001b[0m \u001b[0;34m=\u001b[0m \u001b[0mclock2\u001b[0m\u001b[0;34m(\u001b[0m\u001b[0;34m)\u001b[0m\u001b[0;34m\u001b[0m\u001b[0m\n\u001b[0;32m-> 1180\u001b[0;31m             \u001b[0mexec\u001b[0m\u001b[0;34m(\u001b[0m\u001b[0mcode\u001b[0m\u001b[0;34m,\u001b[0m \u001b[0mglob\u001b[0m\u001b[0;34m,\u001b[0m \u001b[0mlocal_ns\u001b[0m\u001b[0;34m)\u001b[0m\u001b[0;34m\u001b[0m\u001b[0m\n\u001b[0m\u001b[1;32m   1181\u001b[0m             \u001b[0mend\u001b[0m \u001b[0;34m=\u001b[0m \u001b[0mclock2\u001b[0m\u001b[0;34m(\u001b[0m\u001b[0;34m)\u001b[0m\u001b[0;34m\u001b[0m\u001b[0m\n\u001b[1;32m   1182\u001b[0m             \u001b[0mout\u001b[0m \u001b[0;34m=\u001b[0m \u001b[0;32mNone\u001b[0m\u001b[0;34m\u001b[0m\u001b[0m\n",
      "\u001b[0;32m<timed exec>\u001b[0m in \u001b[0;36m<module>\u001b[0;34m()\u001b[0m\n",
      "\u001b[0;31mNameError\u001b[0m: name 'm' is not defined"
     ]
    }
   ],
   "source": [
    "%time sss = m[m.id_x < m.id_y]"
   ]
  },
  {
   "cell_type": "code",
   "execution_count": 93,
   "metadata": {
    "collapsed": false
   },
   "outputs": [
    {
     "name": "stdout",
     "output_type": "stream",
     "text": [
      "CPU times: user 1.32 s, sys: 4.5 s, total: 5.82 s\n",
      "Wall time: 7.69 s\n"
     ]
    }
   ],
   "source": [
    "\n",
    "%time sss1 = m.query('id_x < id_y')"
   ]
  },
  {
   "cell_type": "code",
   "execution_count": 87,
   "metadata": {
    "collapsed": false
   },
   "outputs": [
    {
     "data": {
      "text/html": [
       "<div>\n",
       "<table border=\"1\" class=\"dataframe\">\n",
       "  <thead>\n",
       "    <tr style=\"text-align: right;\">\n",
       "      <th></th>\n",
       "      <th>frame_idx</th>\n",
       "      <th>xpos_x</th>\n",
       "      <th>ypos_x</th>\n",
       "      <th>zRotation_x</th>\n",
       "      <th>timestamp_x</th>\n",
       "      <th>cam_id_x</th>\n",
       "      <th>confidence_x</th>\n",
       "      <th>id_x</th>\n",
       "      <th>xpos_y</th>\n",
       "      <th>ypos_y</th>\n",
       "      <th>zRotation_y</th>\n",
       "      <th>timestamp_y</th>\n",
       "      <th>cam_id_y</th>\n",
       "      <th>confidence_y</th>\n",
       "      <th>id_y</th>\n",
       "    </tr>\n",
       "  </thead>\n",
       "  <tbody>\n",
       "    <tr>\n",
       "      <th>60</th>\n",
       "      <td>0</td>\n",
       "      <td>452</td>\n",
       "      <td>2450</td>\n",
       "      <td>0.649359</td>\n",
       "      <td>1.440256e+09</td>\n",
       "      <td>3</td>\n",
       "      <td>0.921569</td>\n",
       "      <td>3994</td>\n",
       "      <td>2614</td>\n",
       "      <td>2523</td>\n",
       "      <td>-0.460657</td>\n",
       "      <td>1.440256e+09</td>\n",
       "      <td>3</td>\n",
       "      <td>1.000000</td>\n",
       "      <td>4013</td>\n",
       "    </tr>\n",
       "    <tr>\n",
       "      <th>62</th>\n",
       "      <td>0</td>\n",
       "      <td>452</td>\n",
       "      <td>2450</td>\n",
       "      <td>0.649359</td>\n",
       "      <td>1.440256e+09</td>\n",
       "      <td>3</td>\n",
       "      <td>0.921569</td>\n",
       "      <td>3994</td>\n",
       "      <td>2637</td>\n",
       "      <td>3127</td>\n",
       "      <td>1.396195</td>\n",
       "      <td>1.440256e+09</td>\n",
       "      <td>3</td>\n",
       "      <td>1.000000</td>\n",
       "      <td>4058</td>\n",
       "    </tr>\n",
       "    <tr>\n",
       "      <th>147</th>\n",
       "      <td>0</td>\n",
       "      <td>452</td>\n",
       "      <td>2450</td>\n",
       "      <td>0.649359</td>\n",
       "      <td>1.440256e+09</td>\n",
       "      <td>3</td>\n",
       "      <td>0.921569</td>\n",
       "      <td>3994</td>\n",
       "      <td>5614</td>\n",
       "      <td>2523</td>\n",
       "      <td>-0.460657</td>\n",
       "      <td>1.440256e+09</td>\n",
       "      <td>3</td>\n",
       "      <td>1.000000</td>\n",
       "      <td>4013</td>\n",
       "    </tr>\n",
       "    <tr>\n",
       "      <th>149</th>\n",
       "      <td>0</td>\n",
       "      <td>452</td>\n",
       "      <td>2450</td>\n",
       "      <td>0.649359</td>\n",
       "      <td>1.440256e+09</td>\n",
       "      <td>3</td>\n",
       "      <td>0.921569</td>\n",
       "      <td>3994</td>\n",
       "      <td>5637</td>\n",
       "      <td>3127</td>\n",
       "      <td>1.396195</td>\n",
       "      <td>1.440256e+09</td>\n",
       "      <td>3</td>\n",
       "      <td>1.000000</td>\n",
       "      <td>4058</td>\n",
       "    </tr>\n",
       "    <tr>\n",
       "      <th>174</th>\n",
       "      <td>0</td>\n",
       "      <td>702</td>\n",
       "      <td>3464</td>\n",
       "      <td>1.805921</td>\n",
       "      <td>1.440256e+09</td>\n",
       "      <td>3</td>\n",
       "      <td>0.968627</td>\n",
       "      <td>2251</td>\n",
       "      <td>452</td>\n",
       "      <td>2450</td>\n",
       "      <td>0.649359</td>\n",
       "      <td>1.440256e+09</td>\n",
       "      <td>3</td>\n",
       "      <td>0.921569</td>\n",
       "      <td>3994</td>\n",
       "    </tr>\n",
       "  </tbody>\n",
       "</table>\n",
       "</div>"
      ],
      "text/plain": [
       "     frame_idx  xpos_x  ypos_x  zRotation_x   timestamp_x  cam_id_x  \\\n",
       "60           0     452    2450     0.649359  1.440256e+09         3   \n",
       "62           0     452    2450     0.649359  1.440256e+09         3   \n",
       "147          0     452    2450     0.649359  1.440256e+09         3   \n",
       "149          0     452    2450     0.649359  1.440256e+09         3   \n",
       "174          0     702    3464     1.805921  1.440256e+09         3   \n",
       "\n",
       "     confidence_x  id_x  xpos_y  ypos_y  zRotation_y   timestamp_y  cam_id_y  \\\n",
       "60       0.921569  3994    2614    2523    -0.460657  1.440256e+09         3   \n",
       "62       0.921569  3994    2637    3127     1.396195  1.440256e+09         3   \n",
       "147      0.921569  3994    5614    2523    -0.460657  1.440256e+09         3   \n",
       "149      0.921569  3994    5637    3127     1.396195  1.440256e+09         3   \n",
       "174      0.968627  2251     452    2450     0.649359  1.440256e+09         3   \n",
       "\n",
       "     confidence_y  id_y  \n",
       "60       1.000000  4013  \n",
       "62       1.000000  4058  \n",
       "147      1.000000  4013  \n",
       "149      1.000000  4058  \n",
       "174      0.921569  3994  "
      ]
     },
     "execution_count": 87,
     "metadata": {},
     "output_type": "execute_result"
    }
   ],
   "source": [
    "sss.head()\n"
   ]
  },
  {
   "cell_type": "code",
   "execution_count": 1,
   "metadata": {
    "collapsed": false
   },
   "outputs": [
    {
     "data": {
      "text/plain": [
       "'09'"
      ]
     },
     "execution_count": 1,
     "metadata": {},
     "output_type": "execute_result"
    }
   ],
   "source": [
    "s = \"0.9\"\n",
    "s.replace('.','')"
   ]
  },
  {
   "cell_type": "code",
   "execution_count": null,
   "metadata": {
    "collapsed": true
   },
   "outputs": [],
   "source": []
  }
 ],
 "metadata": {
  "kernelspec": {
   "display_name": "Python 3",
   "language": "python",
   "name": "python3"
  },
  "language_info": {
   "codemirror_mode": {
    "name": "ipython",
    "version": 3
   },
   "file_extension": ".py",
   "mimetype": "text/x-python",
   "name": "python",
   "nbconvert_exporter": "python",
   "pygments_lexer": "ipython3",
   "version": "3.5.2"
  }
 },
 "nbformat": 4,
 "nbformat_minor": 1
}
