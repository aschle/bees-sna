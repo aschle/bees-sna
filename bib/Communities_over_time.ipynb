{
 "cells": [
  {
   "cell_type": "code",
   "execution_count": 131,
   "metadata": {
    "collapsed": true
   },
   "outputs": [],
   "source": [
    "import networkx as nx\n",
    "import os\n",
    "import pandas as pd\n",
    "import numpy as np\n",
    "from pandas import DataFrame, Series\n",
    "import datetime\n",
    "import pytz\n",
    "import matplotlib.pyplot as plt"
   ]
  },
  {
   "cell_type": "code",
   "execution_count": 132,
   "metadata": {
    "collapsed": true
   },
   "outputs": [],
   "source": [
    "%matplotlib inline"
   ]
  },
  {
   "cell_type": "code",
   "execution_count": 120,
   "metadata": {
    "collapsed": false
   },
   "outputs": [],
   "source": [
    "graph_files = os.listdir()\n",
    "graph_files = [g for g in graph_files if g.endswith('.graphml') & g.startswith('2015-')]"
   ]
  },
  {
   "cell_type": "code",
   "execution_count": 121,
   "metadata": {
    "collapsed": false
   },
   "outputs": [
    {
     "data": {
      "text/plain": [
       "['2015-08-21T03:00:00Z_1h_allCams_0.99conf_160dist_6ilen.graphml',\n",
       " '2015-08-21T20:00:00Z_1h_allCams_0.99conf_160dist_6ilen.graphml',\n",
       " '2015-08-21T09:00:00Z_1h_allCams_0.99conf_160dist_6ilen.graphml',\n",
       " '2015-08-21T05:00:00Z_1h_allCams_0.99conf_160dist_6ilen.graphml',\n",
       " '2015-08-21T23:00:00Z_1h_allCams_0.99conf_160dist_6ilen.graphml',\n",
       " '2015-08-21T16:00:00Z_1h_allCams_0.99conf_160dist_6ilen.graphml',\n",
       " '2015-08-21T19:00:00Z_1h_allCams_0.99conf_160dist_6ilen.graphml',\n",
       " '2015-08-21T07:00:00Z_1h_allCams_0.99conf_160dist_6ilen.graphml',\n",
       " '2015-08-21T08:00:00Z_1h_allCams_0.99conf_160dist_6ilen.graphml',\n",
       " '2015-08-21T21:00:00Z_1h_allCams_0.99conf_160dist_6ilen.graphml',\n",
       " '2015-08-21T00:00:00Z_1h_allCams_0.99conf_160dist_6ilen.graphml',\n",
       " '2015-08-21T22:00:00Z_1h_allCams_0.99conf_160dist_6ilen.graphml',\n",
       " '2015-08-21T17:00:00Z_1h_allCams_0.99conf_160dist_6ilen.graphml',\n",
       " '2015-08-21T12:00:00Z_1h_allCams_0.99conf_160dist_6ilen.graphml',\n",
       " '2015-08-21T04:00:00Z_1h_allCams_0.99conf_160dist_6ilen.graphml',\n",
       " '2015-08-21T13:00:00Z_1h_allCams_0.99conf_160dist_6ilen.graphml',\n",
       " '2015-08-21T10:00:00Z_1h_allCams_0.99conf_160dist_6ilen.graphml',\n",
       " '2015-08-21T18:00:00Z_1h_allCams_0.99conf_160dist_6ilen.graphml',\n",
       " '2015-08-21T11:00:00Z_1h_allCams_0.99conf_160dist_6ilen.graphml',\n",
       " '2015-08-21T06:00:00Z_1h_allCams_0.99conf_160dist_6ilen.graphml',\n",
       " '2015-08-21T14:00:00Z_1h_allCams_0.99conf_160dist_6ilen.graphml',\n",
       " '2015-08-21T01:00:00Z_1h_allCams_0.99conf_160dist_6ilen.graphml',\n",
       " '2015-08-21T02:00:00Z_1h_allCams_0.99conf_160dist_6ilen.graphml',\n",
       " '2015-08-21T15:00:00Z_1h_allCams_0.99conf_160dist_6ilen.graphml']"
      ]
     },
     "execution_count": 121,
     "metadata": {},
     "output_type": "execute_result"
    }
   ],
   "source": [
    "graph_files"
   ]
  },
  {
   "cell_type": "code",
   "execution_count": null,
   "metadata": {
    "collapsed": false
   },
   "outputs": [],
   "source": [
    "graph_list = []\n",
    "\n",
    "for eg in graph_files:\n",
    "    G = nx.read_graphml(eg)\n",
    "    date = eg.split(\"_\")[0]\n",
    "    date_dt = datetime.datetime.strptime(date, \"%Y-%m-%dT%H:%M:%SZ\").replace(tzinfo=pytz.UTC)\n",
    "    date_ts = date_dt.timestamp()\n",
    "    graph_list.append((date_dt,G))"
   ]
  },
  {
   "cell_type": "markdown",
   "metadata": {},
   "source": [
    "## Parameter Untersuchen\n",
    "* k = {3,4,5} (gucken was in dem Paper stand was ein gutes k ist!)\n",
    "* evtl. Netzwerke vorher Thresholden mit einem sinnvollem Wert (gucken was da ein guter Wert sein kann!)"
   ]
  },
  {
   "cell_type": "markdown",
   "metadata": {},
   "source": [
    "## k = 3"
   ]
  },
  {
   "cell_type": "code",
   "execution_count": null,
   "metadata": {
    "collapsed": false
   },
   "outputs": [],
   "source": [
    "k = 3\n",
    "\n",
    "kcc_stat = []\n",
    "\n",
    "for date,g in graph_list:\n",
    "    kcc = list(nx.community.k_clique_communities(g,k))\n",
    "    l = [len(c) for c in kcc]\n",
    "    l.sort(reverse=True)\n",
    "    kcc_stat.append((date,len(kcc),l))\n",
    "\n",
    "df3 = DataFrame(kcc_stat, columns=[\"date\", \"communities\", \"size\"])\n",
    "\n",
    "df3.sort_values(by='date')"
   ]
  },
  {
   "cell_type": "code",
   "execution_count": 157,
   "metadata": {
    "collapsed": false
   },
   "outputs": [
    {
     "data": {
      "text/html": [
       "<div>\n",
       "<table border=\"1\" class=\"dataframe\">\n",
       "  <thead>\n",
       "    <tr style=\"text-align: right;\">\n",
       "      <th></th>\n",
       "      <th>date</th>\n",
       "      <th>communities</th>\n",
       "      <th>size</th>\n",
       "    </tr>\n",
       "  </thead>\n",
       "  <tbody>\n",
       "    <tr>\n",
       "      <th>10</th>\n",
       "      <td>2015-08-21 00:00:00+00:00</td>\n",
       "      <td>34</td>\n",
       "      <td>[604, 6, 5, 4, 4, 4, 4, 4, 4, 3, 3, 3, 3, 3, 3...</td>\n",
       "    </tr>\n",
       "    <tr>\n",
       "      <th>21</th>\n",
       "      <td>2015-08-21 01:00:00+00:00</td>\n",
       "      <td>28</td>\n",
       "      <td>[612, 11, 5, 4, 3, 3, 3, 3, 3, 3, 3, 3, 3, 3, ...</td>\n",
       "    </tr>\n",
       "    <tr>\n",
       "      <th>22</th>\n",
       "      <td>2015-08-21 02:00:00+00:00</td>\n",
       "      <td>15</td>\n",
       "      <td>[672, 6, 4, 4, 3, 3, 3, 3, 3, 3, 3, 3, 3, 3, 3]</td>\n",
       "    </tr>\n",
       "    <tr>\n",
       "      <th>0</th>\n",
       "      <td>2015-08-21 03:00:00+00:00</td>\n",
       "      <td>18</td>\n",
       "      <td>[634, 4, 4, 3, 3, 3, 3, 3, 3, 3, 3, 3, 3, 3, 3...</td>\n",
       "    </tr>\n",
       "    <tr>\n",
       "      <th>14</th>\n",
       "      <td>2015-08-21 04:00:00+00:00</td>\n",
       "      <td>24</td>\n",
       "      <td>[627, 8, 8, 5, 4, 4, 3, 3, 3, 3, 3, 3, 3, 3, 3...</td>\n",
       "    </tr>\n",
       "    <tr>\n",
       "      <th>3</th>\n",
       "      <td>2015-08-21 05:00:00+00:00</td>\n",
       "      <td>30</td>\n",
       "      <td>[663, 5, 4, 4, 4, 4, 3, 3, 3, 3, 3, 3, 3, 3, 3...</td>\n",
       "    </tr>\n",
       "    <tr>\n",
       "      <th>19</th>\n",
       "      <td>2015-08-21 06:00:00+00:00</td>\n",
       "      <td>18</td>\n",
       "      <td>[734, 4, 4, 4, 3, 3, 3, 3, 3, 3, 3, 3, 3, 3, 3...</td>\n",
       "    </tr>\n",
       "    <tr>\n",
       "      <th>7</th>\n",
       "      <td>2015-08-21 07:00:00+00:00</td>\n",
       "      <td>29</td>\n",
       "      <td>[775, 4, 4, 4, 4, 3, 3, 3, 3, 3, 3, 3, 3, 3, 3...</td>\n",
       "    </tr>\n",
       "    <tr>\n",
       "      <th>8</th>\n",
       "      <td>2015-08-21 08:00:00+00:00</td>\n",
       "      <td>21</td>\n",
       "      <td>[821, 5, 4, 3, 3, 3, 3, 3, 3, 3, 3, 3, 3, 3, 3...</td>\n",
       "    </tr>\n",
       "    <tr>\n",
       "      <th>2</th>\n",
       "      <td>2015-08-21 09:00:00+00:00</td>\n",
       "      <td>13</td>\n",
       "      <td>[883, 3, 3, 3, 3, 3, 3, 3, 3, 3, 3, 3, 3]</td>\n",
       "    </tr>\n",
       "    <tr>\n",
       "      <th>16</th>\n",
       "      <td>2015-08-21 10:00:00+00:00</td>\n",
       "      <td>9</td>\n",
       "      <td>[917, 3, 3, 3, 3, 3, 3, 3, 3]</td>\n",
       "    </tr>\n",
       "    <tr>\n",
       "      <th>18</th>\n",
       "      <td>2015-08-21 11:00:00+00:00</td>\n",
       "      <td>11</td>\n",
       "      <td>[896, 4, 3, 3, 3, 3, 3, 3, 3, 3, 3]</td>\n",
       "    </tr>\n",
       "    <tr>\n",
       "      <th>13</th>\n",
       "      <td>2015-08-21 12:00:00+00:00</td>\n",
       "      <td>12</td>\n",
       "      <td>[898, 3, 3, 3, 3, 3, 3, 3, 3, 3, 3, 3]</td>\n",
       "    </tr>\n",
       "    <tr>\n",
       "      <th>15</th>\n",
       "      <td>2015-08-21 13:00:00+00:00</td>\n",
       "      <td>11</td>\n",
       "      <td>[902, 3, 3, 3, 3, 3, 3, 3, 3, 3, 3]</td>\n",
       "    </tr>\n",
       "    <tr>\n",
       "      <th>20</th>\n",
       "      <td>2015-08-21 14:00:00+00:00</td>\n",
       "      <td>8</td>\n",
       "      <td>[890, 3, 3, 3, 3, 3, 3, 3]</td>\n",
       "    </tr>\n",
       "    <tr>\n",
       "      <th>23</th>\n",
       "      <td>2015-08-21 15:00:00+00:00</td>\n",
       "      <td>9</td>\n",
       "      <td>[874, 3, 3, 3, 3, 3, 3, 3, 3]</td>\n",
       "    </tr>\n",
       "    <tr>\n",
       "      <th>5</th>\n",
       "      <td>2015-08-21 16:00:00+00:00</td>\n",
       "      <td>17</td>\n",
       "      <td>[776, 4, 4, 3, 3, 3, 3, 3, 3, 3, 3, 3, 3, 3, 3...</td>\n",
       "    </tr>\n",
       "    <tr>\n",
       "      <th>12</th>\n",
       "      <td>2015-08-21 17:00:00+00:00</td>\n",
       "      <td>20</td>\n",
       "      <td>[678, 4, 4, 3, 3, 3, 3, 3, 3, 3, 3, 3, 3, 3, 3...</td>\n",
       "    </tr>\n",
       "    <tr>\n",
       "      <th>17</th>\n",
       "      <td>2015-08-21 18:00:00+00:00</td>\n",
       "      <td>37</td>\n",
       "      <td>[605, 8, 5, 5, 5, 5, 4, 4, 4, 4, 4, 3, 3, 3, 3...</td>\n",
       "    </tr>\n",
       "    <tr>\n",
       "      <th>6</th>\n",
       "      <td>2015-08-21 19:00:00+00:00</td>\n",
       "      <td>37</td>\n",
       "      <td>[576, 5, 5, 5, 4, 4, 4, 4, 3, 3, 3, 3, 3, 3, 3...</td>\n",
       "    </tr>\n",
       "    <tr>\n",
       "      <th>1</th>\n",
       "      <td>2015-08-21 20:00:00+00:00</td>\n",
       "      <td>22</td>\n",
       "      <td>[589, 9, 6, 5, 5, 4, 4, 4, 3, 3, 3, 3, 3, 3, 3...</td>\n",
       "    </tr>\n",
       "    <tr>\n",
       "      <th>9</th>\n",
       "      <td>2015-08-21 21:00:00+00:00</td>\n",
       "      <td>31</td>\n",
       "      <td>[579, 7, 6, 6, 5, 5, 4, 4, 3, 3, 3, 3, 3, 3, 3...</td>\n",
       "    </tr>\n",
       "    <tr>\n",
       "      <th>11</th>\n",
       "      <td>2015-08-21 22:00:00+00:00</td>\n",
       "      <td>39</td>\n",
       "      <td>[640, 6, 5, 4, 4, 4, 4, 4, 3, 3, 3, 3, 3, 3, 3...</td>\n",
       "    </tr>\n",
       "    <tr>\n",
       "      <th>4</th>\n",
       "      <td>2015-08-21 23:00:00+00:00</td>\n",
       "      <td>34</td>\n",
       "      <td>[588, 8, 5, 5, 4, 4, 4, 3, 3, 3, 3, 3, 3, 3, 3...</td>\n",
       "    </tr>\n",
       "  </tbody>\n",
       "</table>\n",
       "</div>"
      ],
      "text/plain": [
       "                        date  communities  \\\n",
       "10 2015-08-21 00:00:00+00:00           34   \n",
       "21 2015-08-21 01:00:00+00:00           28   \n",
       "22 2015-08-21 02:00:00+00:00           15   \n",
       "0  2015-08-21 03:00:00+00:00           18   \n",
       "14 2015-08-21 04:00:00+00:00           24   \n",
       "3  2015-08-21 05:00:00+00:00           30   \n",
       "19 2015-08-21 06:00:00+00:00           18   \n",
       "7  2015-08-21 07:00:00+00:00           29   \n",
       "8  2015-08-21 08:00:00+00:00           21   \n",
       "2  2015-08-21 09:00:00+00:00           13   \n",
       "16 2015-08-21 10:00:00+00:00            9   \n",
       "18 2015-08-21 11:00:00+00:00           11   \n",
       "13 2015-08-21 12:00:00+00:00           12   \n",
       "15 2015-08-21 13:00:00+00:00           11   \n",
       "20 2015-08-21 14:00:00+00:00            8   \n",
       "23 2015-08-21 15:00:00+00:00            9   \n",
       "5  2015-08-21 16:00:00+00:00           17   \n",
       "12 2015-08-21 17:00:00+00:00           20   \n",
       "17 2015-08-21 18:00:00+00:00           37   \n",
       "6  2015-08-21 19:00:00+00:00           37   \n",
       "1  2015-08-21 20:00:00+00:00           22   \n",
       "9  2015-08-21 21:00:00+00:00           31   \n",
       "11 2015-08-21 22:00:00+00:00           39   \n",
       "4  2015-08-21 23:00:00+00:00           34   \n",
       "\n",
       "                                                 size  \n",
       "10  [604, 6, 5, 4, 4, 4, 4, 4, 4, 3, 3, 3, 3, 3, 3...  \n",
       "21  [612, 11, 5, 4, 3, 3, 3, 3, 3, 3, 3, 3, 3, 3, ...  \n",
       "22    [672, 6, 4, 4, 3, 3, 3, 3, 3, 3, 3, 3, 3, 3, 3]  \n",
       "0   [634, 4, 4, 3, 3, 3, 3, 3, 3, 3, 3, 3, 3, 3, 3...  \n",
       "14  [627, 8, 8, 5, 4, 4, 3, 3, 3, 3, 3, 3, 3, 3, 3...  \n",
       "3   [663, 5, 4, 4, 4, 4, 3, 3, 3, 3, 3, 3, 3, 3, 3...  \n",
       "19  [734, 4, 4, 4, 3, 3, 3, 3, 3, 3, 3, 3, 3, 3, 3...  \n",
       "7   [775, 4, 4, 4, 4, 3, 3, 3, 3, 3, 3, 3, 3, 3, 3...  \n",
       "8   [821, 5, 4, 3, 3, 3, 3, 3, 3, 3, 3, 3, 3, 3, 3...  \n",
       "2           [883, 3, 3, 3, 3, 3, 3, 3, 3, 3, 3, 3, 3]  \n",
       "16                      [917, 3, 3, 3, 3, 3, 3, 3, 3]  \n",
       "18                [896, 4, 3, 3, 3, 3, 3, 3, 3, 3, 3]  \n",
       "13             [898, 3, 3, 3, 3, 3, 3, 3, 3, 3, 3, 3]  \n",
       "15                [902, 3, 3, 3, 3, 3, 3, 3, 3, 3, 3]  \n",
       "20                         [890, 3, 3, 3, 3, 3, 3, 3]  \n",
       "23                      [874, 3, 3, 3, 3, 3, 3, 3, 3]  \n",
       "5   [776, 4, 4, 3, 3, 3, 3, 3, 3, 3, 3, 3, 3, 3, 3...  \n",
       "12  [678, 4, 4, 3, 3, 3, 3, 3, 3, 3, 3, 3, 3, 3, 3...  \n",
       "17  [605, 8, 5, 5, 5, 5, 4, 4, 4, 4, 4, 3, 3, 3, 3...  \n",
       "6   [576, 5, 5, 5, 4, 4, 4, 4, 3, 3, 3, 3, 3, 3, 3...  \n",
       "1   [589, 9, 6, 5, 5, 4, 4, 4, 3, 3, 3, 3, 3, 3, 3...  \n",
       "9   [579, 7, 6, 6, 5, 5, 4, 4, 3, 3, 3, 3, 3, 3, 3...  \n",
       "11  [640, 6, 5, 4, 4, 4, 4, 4, 3, 3, 3, 3, 3, 3, 3...  \n",
       "4   [588, 8, 5, 5, 4, 4, 4, 3, 3, 3, 3, 3, 3, 3, 3...  "
      ]
     },
     "execution_count": 157,
     "metadata": {},
     "output_type": "execute_result"
    }
   ],
   "source": [
    "df3.sort_values(by='date')"
   ]
  },
  {
   "cell_type": "code",
   "execution_count": 133,
   "metadata": {
    "collapsed": false
   },
   "outputs": [
    {
     "data": {
      "text/plain": [
       "<matplotlib.axes._subplots.AxesSubplot at 0x7f488c81f550>"
      ]
     },
     "execution_count": 133,
     "metadata": {},
     "output_type": "execute_result"
    },
    {
     "data": {
      "image/png": "[encoded data removed]",
      "text/plain": [
       "<matplotlib.figure.Figure at 0x7f488c839940>"
      ]
     },
     "metadata": {},
     "output_type": "display_data"
    }
   ],
   "source": [
    "df3.sort_values(by='date').communities.plot.box()"
   ]
  },
  {
   "cell_type": "code",
   "execution_count": 142,
   "metadata": {
    "collapsed": false
   },
   "outputs": [
    {
     "data": {
      "text/plain": [
       "<matplotlib.axes._subplots.AxesSubplot at 0x7f488d2c1860>"
      ]
     },
     "execution_count": 142,
     "metadata": {},
     "output_type": "execute_result"
    },
    {
     "data": {
      "image/png": "[encoded data removed]",
      "text/plain": [
       "<matplotlib.figure.Figure at 0x7f488d468da0>"
      ]
     },
     "metadata": {},
     "output_type": "display_data"
    }
   ],
   "source": [
    "df3.set_index('date').plot(title=\"k = 3 | 2015-08-21\")"
   ]
  },
  {
   "cell_type": "code",
   "execution_count": null,
   "metadata": {
    "collapsed": false
   },
   "outputs": [],
   "source": [
    "k = 4\n",
    "\n",
    "kcc_stat = []\n",
    "\n",
    "for date,g in graph_list:\n",
    "    kcc = list(nx.community.k_clique_communities(g,k))\n",
    "    l = [len(c) for c in kcc]\n",
    "    l.sort(reverse=True)\n",
    "    kcc_stat.append((date,len(kcc),l))\n",
    "\n",
    "df4 = DataFrame(kcc_stat, columns=[\"date\", \"communities\", \"size\"])\n",
    "\n",
    "df4.sort_values(by='date')"
   ]
  },
  {
   "cell_type": "code",
   "execution_count": 126,
   "metadata": {
    "collapsed": false
   },
   "outputs": [
    {
     "data": {
      "text/html": [
       "<div>\n",
       "<table border=\"1\" class=\"dataframe\">\n",
       "  <thead>\n",
       "    <tr style=\"text-align: right;\">\n",
       "      <th></th>\n",
       "      <th>date</th>\n",
       "      <th>communities</th>\n",
       "      <th>size</th>\n",
       "    </tr>\n",
       "  </thead>\n",
       "  <tbody>\n",
       "    <tr>\n",
       "      <th>10</th>\n",
       "      <td>2015-08-21 00:00:00+00:00</td>\n",
       "      <td>74</td>\n",
       "      <td>[236, 50, 9, 9, 8, 8, 7, 7, 7, 7, 7, 6, 6, 6, ...</td>\n",
       "    </tr>\n",
       "    <tr>\n",
       "      <th>21</th>\n",
       "      <td>2015-08-21 01:00:00+00:00</td>\n",
       "      <td>74</td>\n",
       "      <td>[394, 8, 7, 6, 6, 6, 6, 6, 5, 5, 5, 5, 5, 5, 5...</td>\n",
       "    </tr>\n",
       "    <tr>\n",
       "      <th>22</th>\n",
       "      <td>2015-08-21 02:00:00+00:00</td>\n",
       "      <td>64</td>\n",
       "      <td>[429, 7, 6, 6, 5, 5, 5, 5, 5, 5, 5, 5, 5, 5, 4...</td>\n",
       "    </tr>\n",
       "    <tr>\n",
       "      <th>0</th>\n",
       "      <td>2015-08-21 03:00:00+00:00</td>\n",
       "      <td>55</td>\n",
       "      <td>[415, 28, 9, 8, 6, 6, 6, 5, 5, 5, 5, 5, 5, 5, ...</td>\n",
       "    </tr>\n",
       "    <tr>\n",
       "      <th>14</th>\n",
       "      <td>2015-08-21 04:00:00+00:00</td>\n",
       "      <td>77</td>\n",
       "      <td>[404, 13, 13, 12, 8, 8, 7, 7, 6, 6, 6, 5, 5, 5...</td>\n",
       "    </tr>\n",
       "    <tr>\n",
       "      <th>3</th>\n",
       "      <td>2015-08-21 05:00:00+00:00</td>\n",
       "      <td>46</td>\n",
       "      <td>[379, 56, 19, 14, 9, 7, 6, 6, 6, 5, 5, 5, 5, 5...</td>\n",
       "    </tr>\n",
       "    <tr>\n",
       "      <th>19</th>\n",
       "      <td>2015-08-21 06:00:00+00:00</td>\n",
       "      <td>70</td>\n",
       "      <td>[479, 23, 10, 8, 8, 6, 6, 5, 5, 5, 5, 5, 5, 5,...</td>\n",
       "    </tr>\n",
       "    <tr>\n",
       "      <th>7</th>\n",
       "      <td>2015-08-21 07:00:00+00:00</td>\n",
       "      <td>87</td>\n",
       "      <td>[433, 68, 14, 12, 10, 9, 8, 8, 8, 8, 7, 7, 7, ...</td>\n",
       "    </tr>\n",
       "    <tr>\n",
       "      <th>8</th>\n",
       "      <td>2015-08-21 08:00:00+00:00</td>\n",
       "      <td>79</td>\n",
       "      <td>[594, 14, 12, 8, 7, 7, 6, 6, 6, 6, 6, 5, 5, 5,...</td>\n",
       "    </tr>\n",
       "    <tr>\n",
       "      <th>2</th>\n",
       "      <td>2015-08-21 09:00:00+00:00</td>\n",
       "      <td>128</td>\n",
       "      <td>[696, 11, 9, 9, 9, 7, 7, 7, 7, 7, 7, 7, 6, 6, ...</td>\n",
       "    </tr>\n",
       "    <tr>\n",
       "      <th>16</th>\n",
       "      <td>2015-08-21 10:00:00+00:00</td>\n",
       "      <td>127</td>\n",
       "      <td>[735, 13, 10, 8, 8, 8, 8, 7, 7, 7, 6, 6, 6, 6,...</td>\n",
       "    </tr>\n",
       "    <tr>\n",
       "      <th>18</th>\n",
       "      <td>2015-08-21 11:00:00+00:00</td>\n",
       "      <td>145</td>\n",
       "      <td>[689, 9, 7, 7, 6, 6, 6, 5, 5, 5, 5, 5, 5, 5, 5...</td>\n",
       "    </tr>\n",
       "    <tr>\n",
       "      <th>13</th>\n",
       "      <td>2015-08-21 12:00:00+00:00</td>\n",
       "      <td>130</td>\n",
       "      <td>[701, 12, 8, 8, 7, 7, 7, 6, 6, 6, 6, 6, 6, 5, ...</td>\n",
       "    </tr>\n",
       "    <tr>\n",
       "      <th>15</th>\n",
       "      <td>2015-08-21 13:00:00+00:00</td>\n",
       "      <td>130</td>\n",
       "      <td>[742, 9, 8, 7, 7, 7, 7, 6, 6, 6, 6, 6, 6, 6, 6...</td>\n",
       "    </tr>\n",
       "    <tr>\n",
       "      <th>20</th>\n",
       "      <td>2015-08-21 14:00:00+00:00</td>\n",
       "      <td>175</td>\n",
       "      <td>[711, 28, 10, 9, 9, 7, 6, 6, 6, 6, 5, 5, 5, 5,...</td>\n",
       "    </tr>\n",
       "    <tr>\n",
       "      <th>23</th>\n",
       "      <td>2015-08-21 15:00:00+00:00</td>\n",
       "      <td>111</td>\n",
       "      <td>[725, 9, 7, 6, 6, 5, 5, 5, 5, 5, 5, 5, 5, 5, 5...</td>\n",
       "    </tr>\n",
       "    <tr>\n",
       "      <th>5</th>\n",
       "      <td>2015-08-21 16:00:00+00:00</td>\n",
       "      <td>80</td>\n",
       "      <td>[574, 12, 9, 8, 6, 6, 6, 6, 5, 5, 5, 5, 5, 5, ...</td>\n",
       "    </tr>\n",
       "    <tr>\n",
       "      <th>12</th>\n",
       "      <td>2015-08-21 17:00:00+00:00</td>\n",
       "      <td>55</td>\n",
       "      <td>[414, 16, 7, 7, 6, 6, 6, 6, 5, 5, 5, 5, 5, 5, ...</td>\n",
       "    </tr>\n",
       "    <tr>\n",
       "      <th>17</th>\n",
       "      <td>2015-08-21 18:00:00+00:00</td>\n",
       "      <td>66</td>\n",
       "      <td>[167, 114, 63, 28, 24, 11, 7, 6, 6, 6, 5, 5, 5...</td>\n",
       "    </tr>\n",
       "    <tr>\n",
       "      <th>6</th>\n",
       "      <td>2015-08-21 19:00:00+00:00</td>\n",
       "      <td>57</td>\n",
       "      <td>[273, 17, 16, 15, 9, 8, 8, 8, 7, 7, 7, 5, 5, 5...</td>\n",
       "    </tr>\n",
       "    <tr>\n",
       "      <th>1</th>\n",
       "      <td>2015-08-21 20:00:00+00:00</td>\n",
       "      <td>47</td>\n",
       "      <td>[293, 9, 9, 6, 5, 5, 5, 5, 5, 5, 5, 5, 5, 5, 5...</td>\n",
       "    </tr>\n",
       "    <tr>\n",
       "      <th>9</th>\n",
       "      <td>2015-08-21 21:00:00+00:00</td>\n",
       "      <td>56</td>\n",
       "      <td>[167, 107, 26, 24, 12, 9, 6, 6, 6, 6, 5, 5, 5,...</td>\n",
       "    </tr>\n",
       "    <tr>\n",
       "      <th>11</th>\n",
       "      <td>2015-08-21 22:00:00+00:00</td>\n",
       "      <td>68</td>\n",
       "      <td>[352, 13, 10, 6, 6, 6, 6, 6, 6, 6, 6, 6, 6, 5,...</td>\n",
       "    </tr>\n",
       "    <tr>\n",
       "      <th>4</th>\n",
       "      <td>2015-08-21 23:00:00+00:00</td>\n",
       "      <td>63</td>\n",
       "      <td>[313, 15, 14, 9, 9, 9, 8, 7, 7, 6, 6, 6, 5, 5,...</td>\n",
       "    </tr>\n",
       "  </tbody>\n",
       "</table>\n",
       "</div>"
      ],
      "text/plain": [
       "                        date  communities  \\\n",
       "10 2015-08-21 00:00:00+00:00           74   \n",
       "21 2015-08-21 01:00:00+00:00           74   \n",
       "22 2015-08-21 02:00:00+00:00           64   \n",
       "0  2015-08-21 03:00:00+00:00           55   \n",
       "14 2015-08-21 04:00:00+00:00           77   \n",
       "3  2015-08-21 05:00:00+00:00           46   \n",
       "19 2015-08-21 06:00:00+00:00           70   \n",
       "7  2015-08-21 07:00:00+00:00           87   \n",
       "8  2015-08-21 08:00:00+00:00           79   \n",
       "2  2015-08-21 09:00:00+00:00          128   \n",
       "16 2015-08-21 10:00:00+00:00          127   \n",
       "18 2015-08-21 11:00:00+00:00          145   \n",
       "13 2015-08-21 12:00:00+00:00          130   \n",
       "15 2015-08-21 13:00:00+00:00          130   \n",
       "20 2015-08-21 14:00:00+00:00          175   \n",
       "23 2015-08-21 15:00:00+00:00          111   \n",
       "5  2015-08-21 16:00:00+00:00           80   \n",
       "12 2015-08-21 17:00:00+00:00           55   \n",
       "17 2015-08-21 18:00:00+00:00           66   \n",
       "6  2015-08-21 19:00:00+00:00           57   \n",
       "1  2015-08-21 20:00:00+00:00           47   \n",
       "9  2015-08-21 21:00:00+00:00           56   \n",
       "11 2015-08-21 22:00:00+00:00           68   \n",
       "4  2015-08-21 23:00:00+00:00           63   \n",
       "\n",
       "                                                 size  \n",
       "10  [236, 50, 9, 9, 8, 8, 7, 7, 7, 7, 7, 6, 6, 6, ...  \n",
       "21  [394, 8, 7, 6, 6, 6, 6, 6, 5, 5, 5, 5, 5, 5, 5...  \n",
       "22  [429, 7, 6, 6, 5, 5, 5, 5, 5, 5, 5, 5, 5, 5, 4...  \n",
       "0   [415, 28, 9, 8, 6, 6, 6, 5, 5, 5, 5, 5, 5, 5, ...  \n",
       "14  [404, 13, 13, 12, 8, 8, 7, 7, 6, 6, 6, 5, 5, 5...  \n",
       "3   [379, 56, 19, 14, 9, 7, 6, 6, 6, 5, 5, 5, 5, 5...  \n",
       "19  [479, 23, 10, 8, 8, 6, 6, 5, 5, 5, 5, 5, 5, 5,...  \n",
       "7   [433, 68, 14, 12, 10, 9, 8, 8, 8, 8, 7, 7, 7, ...  \n",
       "8   [594, 14, 12, 8, 7, 7, 6, 6, 6, 6, 6, 5, 5, 5,...  \n",
       "2   [696, 11, 9, 9, 9, 7, 7, 7, 7, 7, 7, 7, 6, 6, ...  \n",
       "16  [735, 13, 10, 8, 8, 8, 8, 7, 7, 7, 6, 6, 6, 6,...  \n",
       "18  [689, 9, 7, 7, 6, 6, 6, 5, 5, 5, 5, 5, 5, 5, 5...  \n",
       "13  [701, 12, 8, 8, 7, 7, 7, 6, 6, 6, 6, 6, 6, 5, ...  \n",
       "15  [742, 9, 8, 7, 7, 7, 7, 6, 6, 6, 6, 6, 6, 6, 6...  \n",
       "20  [711, 28, 10, 9, 9, 7, 6, 6, 6, 6, 5, 5, 5, 5,...  \n",
       "23  [725, 9, 7, 6, 6, 5, 5, 5, 5, 5, 5, 5, 5, 5, 5...  \n",
       "5   [574, 12, 9, 8, 6, 6, 6, 6, 5, 5, 5, 5, 5, 5, ...  \n",
       "12  [414, 16, 7, 7, 6, 6, 6, 6, 5, 5, 5, 5, 5, 5, ...  \n",
       "17  [167, 114, 63, 28, 24, 11, 7, 6, 6, 6, 5, 5, 5...  \n",
       "6   [273, 17, 16, 15, 9, 8, 8, 8, 7, 7, 7, 5, 5, 5...  \n",
       "1   [293, 9, 9, 6, 5, 5, 5, 5, 5, 5, 5, 5, 5, 5, 5...  \n",
       "9   [167, 107, 26, 24, 12, 9, 6, 6, 6, 6, 5, 5, 5,...  \n",
       "11  [352, 13, 10, 6, 6, 6, 6, 6, 6, 6, 6, 6, 6, 5,...  \n",
       "4   [313, 15, 14, 9, 9, 9, 8, 7, 7, 6, 6, 6, 5, 5,...  "
      ]
     },
     "execution_count": 126,
     "metadata": {},
     "output_type": "execute_result"
    }
   ],
   "source": [
    "df4.sort_values(by='date')"
   ]
  },
  {
   "cell_type": "code",
   "execution_count": 143,
   "metadata": {
    "collapsed": false
   },
   "outputs": [
    {
     "data": {
      "text/plain": [
       "<matplotlib.axes._subplots.AxesSubplot at 0x7f4891c96a20>"
      ]
     },
     "execution_count": 143,
     "metadata": {},
     "output_type": "execute_result"
    },
    {
     "data": {
      "image/png": "[encoded data removed]",
      "text/plain": [
       "<matplotlib.figure.Figure at 0x7f488d1c3668>"
      ]
     },
     "metadata": {},
     "output_type": "display_data"
    }
   ],
   "source": [
    "df4.sort_values(by='date').communities.plot.box()"
   ]
  },
  {
   "cell_type": "code",
   "execution_count": 145,
   "metadata": {
    "collapsed": false
   },
   "outputs": [
    {
     "data": {
      "text/plain": [
       "<matplotlib.axes._subplots.AxesSubplot at 0x7f488c857668>"
      ]
     },
     "execution_count": 145,
     "metadata": {},
     "output_type": "execute_result"
    },
    {
     "data": {
      "image/png": "[encoded data removed]",
      "text/plain": [
       "<matplotlib.figure.Figure at 0x7f488d8a63c8>"
      ]
     },
     "metadata": {},
     "output_type": "display_data"
    }
   ],
   "source": [
    "df4.set_index('date').plot(title=\"k = 4 | 2015-08-21\")"
   ]
  },
  {
   "cell_type": "code",
   "execution_count": null,
   "metadata": {
    "collapsed": false
   },
   "outputs": [],
   "source": [
    "k = 5\n",
    "\n",
    "kcc_stat = []\n",
    "\n",
    "for date,g in graph_list:\n",
    "    kcc = list(nx.community.k_clique_communities(g,k))\n",
    "    l = [len(c) for c in kcc]\n",
    "    l.sort(reverse=True)\n",
    "    kcc_stat.append((date,len(kcc),l))\n",
    "\n",
    "df5 = DataFrame(kcc_stat, columns=[\"date\", \"communities\", \"size\"])\n",
    "\n",
    "df5.sort_values(by='date')"
   ]
  },
  {
   "cell_type": "code",
   "execution_count": 127,
   "metadata": {
    "collapsed": false
   },
   "outputs": [
    {
     "data": {
      "text/html": [
       "<div>\n",
       "<table border=\"1\" class=\"dataframe\">\n",
       "  <thead>\n",
       "    <tr style=\"text-align: right;\">\n",
       "      <th></th>\n",
       "      <th>date</th>\n",
       "      <th>communities</th>\n",
       "      <th>size</th>\n",
       "    </tr>\n",
       "  </thead>\n",
       "  <tbody>\n",
       "    <tr>\n",
       "      <th>10</th>\n",
       "      <td>2015-08-21 00:00:00+00:00</td>\n",
       "      <td>16</td>\n",
       "      <td>[114, 19, 14, 7, 6, 6, 6, 5, 5, 5, 5, 5, 5, 5,...</td>\n",
       "    </tr>\n",
       "    <tr>\n",
       "      <th>21</th>\n",
       "      <td>2015-08-21 01:00:00+00:00</td>\n",
       "      <td>43</td>\n",
       "      <td>[88, 28, 24, 18, 11, 10, 10, 7, 7, 6, 6, 6, 6,...</td>\n",
       "    </tr>\n",
       "    <tr>\n",
       "      <th>22</th>\n",
       "      <td>2015-08-21 02:00:00+00:00</td>\n",
       "      <td>55</td>\n",
       "      <td>[77, 65, 27, 20, 15, 11, 10, 10, 9, 9, 8, 8, 7...</td>\n",
       "    </tr>\n",
       "    <tr>\n",
       "      <th>0</th>\n",
       "      <td>2015-08-21 03:00:00+00:00</td>\n",
       "      <td>49</td>\n",
       "      <td>[103, 23, 12, 11, 11, 11, 10, 8, 8, 7, 7, 6, 6...</td>\n",
       "    </tr>\n",
       "    <tr>\n",
       "      <th>14</th>\n",
       "      <td>2015-08-21 04:00:00+00:00</td>\n",
       "      <td>54</td>\n",
       "      <td>[108, 28, 27, 11, 10, 9, 9, 9, 8, 8, 7, 7, 7, ...</td>\n",
       "    </tr>\n",
       "    <tr>\n",
       "      <th>3</th>\n",
       "      <td>2015-08-21 05:00:00+00:00</td>\n",
       "      <td>59</td>\n",
       "      <td>[140, 42, 23, 22, 10, 10, 9, 8, 8, 8, 7, 7, 7,...</td>\n",
       "    </tr>\n",
       "    <tr>\n",
       "      <th>19</th>\n",
       "      <td>2015-08-21 06:00:00+00:00</td>\n",
       "      <td>40</td>\n",
       "      <td>[142, 55, 27, 19, 11, 11, 7, 7, 7, 7, 6, 6, 6,...</td>\n",
       "    </tr>\n",
       "    <tr>\n",
       "      <th>7</th>\n",
       "      <td>2015-08-21 07:00:00+00:00</td>\n",
       "      <td>60</td>\n",
       "      <td>[95, 42, 40, 16, 15, 11, 10, 9, 8, 8, 7, 7, 7,...</td>\n",
       "    </tr>\n",
       "    <tr>\n",
       "      <th>8</th>\n",
       "      <td>2015-08-21 08:00:00+00:00</td>\n",
       "      <td>58</td>\n",
       "      <td>[233, 33, 26, 14, 10, 9, 9, 8, 8, 8, 8, 8, 7, ...</td>\n",
       "    </tr>\n",
       "    <tr>\n",
       "      <th>2</th>\n",
       "      <td>2015-08-21 09:00:00+00:00</td>\n",
       "      <td>74</td>\n",
       "      <td>[330, 21, 17, 13, 12, 11, 11, 9, 7, 6, 6, 6, 6...</td>\n",
       "    </tr>\n",
       "    <tr>\n",
       "      <th>16</th>\n",
       "      <td>2015-08-21 10:00:00+00:00</td>\n",
       "      <td>100</td>\n",
       "      <td>[369, 24, 16, 15, 11, 11, 11, 10, 9, 9, 9, 8, ...</td>\n",
       "    </tr>\n",
       "    <tr>\n",
       "      <th>18</th>\n",
       "      <td>2015-08-21 11:00:00+00:00</td>\n",
       "      <td>88</td>\n",
       "      <td>[153, 57, 19, 13, 13, 8, 8, 7, 7, 7, 7, 7, 7, ...</td>\n",
       "    </tr>\n",
       "    <tr>\n",
       "      <th>13</th>\n",
       "      <td>2015-08-21 12:00:00+00:00</td>\n",
       "      <td>91</td>\n",
       "      <td>[183, 106, 48, 23, 21, 17, 14, 11, 9, 8, 8, 8,...</td>\n",
       "    </tr>\n",
       "    <tr>\n",
       "      <th>15</th>\n",
       "      <td>2015-08-21 13:00:00+00:00</td>\n",
       "      <td>126</td>\n",
       "      <td>[192, 113, 47, 27, 25, 20, 18, 13, 12, 11, 9, ...</td>\n",
       "    </tr>\n",
       "    <tr>\n",
       "      <th>20</th>\n",
       "      <td>2015-08-21 14:00:00+00:00</td>\n",
       "      <td>100</td>\n",
       "      <td>[139, 89, 63, 53, 13, 9, 8, 8, 8, 8, 8, 8, 7, ...</td>\n",
       "    </tr>\n",
       "    <tr>\n",
       "      <th>23</th>\n",
       "      <td>2015-08-21 15:00:00+00:00</td>\n",
       "      <td>102</td>\n",
       "      <td>[186, 183, 88, 11, 8, 8, 8, 7, 7, 7, 7, 7, 7, ...</td>\n",
       "    </tr>\n",
       "    <tr>\n",
       "      <th>5</th>\n",
       "      <td>2015-08-21 16:00:00+00:00</td>\n",
       "      <td>71</td>\n",
       "      <td>[113, 64, 50, 28, 17, 14, 10, 10, 10, 9, 9, 9,...</td>\n",
       "    </tr>\n",
       "    <tr>\n",
       "      <th>12</th>\n",
       "      <td>2015-08-21 17:00:00+00:00</td>\n",
       "      <td>46</td>\n",
       "      <td>[105, 50, 29, 14, 13, 12, 9, 9, 8, 8, 7, 7, 6,...</td>\n",
       "    </tr>\n",
       "    <tr>\n",
       "      <th>17</th>\n",
       "      <td>2015-08-21 18:00:00+00:00</td>\n",
       "      <td>28</td>\n",
       "      <td>[93, 19, 10, 9, 9, 8, 8, 7, 7, 6, 6, 6, 6, 6, ...</td>\n",
       "    </tr>\n",
       "    <tr>\n",
       "      <th>6</th>\n",
       "      <td>2015-08-21 19:00:00+00:00</td>\n",
       "      <td>43</td>\n",
       "      <td>[48, 17, 13, 13, 12, 12, 10, 10, 10, 9, 8, 8, ...</td>\n",
       "    </tr>\n",
       "    <tr>\n",
       "      <th>1</th>\n",
       "      <td>2015-08-21 20:00:00+00:00</td>\n",
       "      <td>32</td>\n",
       "      <td>[71, 28, 11, 9, 8, 8, 8, 8, 7, 7, 7, 7, 6, 6, ...</td>\n",
       "    </tr>\n",
       "    <tr>\n",
       "      <th>9</th>\n",
       "      <td>2015-08-21 21:00:00+00:00</td>\n",
       "      <td>21</td>\n",
       "      <td>[95, 9, 8, 7, 6, 6, 6, 6, 6, 5, 5, 5, 5, 5, 5,...</td>\n",
       "    </tr>\n",
       "    <tr>\n",
       "      <th>11</th>\n",
       "      <td>2015-08-21 22:00:00+00:00</td>\n",
       "      <td>44</td>\n",
       "      <td>[47, 44, 19, 18, 16, 15, 12, 10, 9, 8, 8, 7, 7...</td>\n",
       "    </tr>\n",
       "    <tr>\n",
       "      <th>4</th>\n",
       "      <td>2015-08-21 23:00:00+00:00</td>\n",
       "      <td>26</td>\n",
       "      <td>[94, 14, 11, 9, 8, 7, 7, 7, 7, 6, 6, 5, 5, 5, ...</td>\n",
       "    </tr>\n",
       "  </tbody>\n",
       "</table>\n",
       "</div>"
      ],
      "text/plain": [
       "                        date  communities  \\\n",
       "10 2015-08-21 00:00:00+00:00           16   \n",
       "21 2015-08-21 01:00:00+00:00           43   \n",
       "22 2015-08-21 02:00:00+00:00           55   \n",
       "0  2015-08-21 03:00:00+00:00           49   \n",
       "14 2015-08-21 04:00:00+00:00           54   \n",
       "3  2015-08-21 05:00:00+00:00           59   \n",
       "19 2015-08-21 06:00:00+00:00           40   \n",
       "7  2015-08-21 07:00:00+00:00           60   \n",
       "8  2015-08-21 08:00:00+00:00           58   \n",
       "2  2015-08-21 09:00:00+00:00           74   \n",
       "16 2015-08-21 10:00:00+00:00          100   \n",
       "18 2015-08-21 11:00:00+00:00           88   \n",
       "13 2015-08-21 12:00:00+00:00           91   \n",
       "15 2015-08-21 13:00:00+00:00          126   \n",
       "20 2015-08-21 14:00:00+00:00          100   \n",
       "23 2015-08-21 15:00:00+00:00          102   \n",
       "5  2015-08-21 16:00:00+00:00           71   \n",
       "12 2015-08-21 17:00:00+00:00           46   \n",
       "17 2015-08-21 18:00:00+00:00           28   \n",
       "6  2015-08-21 19:00:00+00:00           43   \n",
       "1  2015-08-21 20:00:00+00:00           32   \n",
       "9  2015-08-21 21:00:00+00:00           21   \n",
       "11 2015-08-21 22:00:00+00:00           44   \n",
       "4  2015-08-21 23:00:00+00:00           26   \n",
       "\n",
       "                                                 size  \n",
       "10  [114, 19, 14, 7, 6, 6, 6, 5, 5, 5, 5, 5, 5, 5,...  \n",
       "21  [88, 28, 24, 18, 11, 10, 10, 7, 7, 6, 6, 6, 6,...  \n",
       "22  [77, 65, 27, 20, 15, 11, 10, 10, 9, 9, 8, 8, 7...  \n",
       "0   [103, 23, 12, 11, 11, 11, 10, 8, 8, 7, 7, 6, 6...  \n",
       "14  [108, 28, 27, 11, 10, 9, 9, 9, 8, 8, 7, 7, 7, ...  \n",
       "3   [140, 42, 23, 22, 10, 10, 9, 8, 8, 8, 7, 7, 7,...  \n",
       "19  [142, 55, 27, 19, 11, 11, 7, 7, 7, 7, 6, 6, 6,...  \n",
       "7   [95, 42, 40, 16, 15, 11, 10, 9, 8, 8, 7, 7, 7,...  \n",
       "8   [233, 33, 26, 14, 10, 9, 9, 8, 8, 8, 8, 8, 7, ...  \n",
       "2   [330, 21, 17, 13, 12, 11, 11, 9, 7, 6, 6, 6, 6...  \n",
       "16  [369, 24, 16, 15, 11, 11, 11, 10, 9, 9, 9, 8, ...  \n",
       "18  [153, 57, 19, 13, 13, 8, 8, 7, 7, 7, 7, 7, 7, ...  \n",
       "13  [183, 106, 48, 23, 21, 17, 14, 11, 9, 8, 8, 8,...  \n",
       "15  [192, 113, 47, 27, 25, 20, 18, 13, 12, 11, 9, ...  \n",
       "20  [139, 89, 63, 53, 13, 9, 8, 8, 8, 8, 8, 8, 7, ...  \n",
       "23  [186, 183, 88, 11, 8, 8, 8, 7, 7, 7, 7, 7, 7, ...  \n",
       "5   [113, 64, 50, 28, 17, 14, 10, 10, 10, 9, 9, 9,...  \n",
       "12  [105, 50, 29, 14, 13, 12, 9, 9, 8, 8, 7, 7, 6,...  \n",
       "17  [93, 19, 10, 9, 9, 8, 8, 7, 7, 6, 6, 6, 6, 6, ...  \n",
       "6   [48, 17, 13, 13, 12, 12, 10, 10, 10, 9, 8, 8, ...  \n",
       "1   [71, 28, 11, 9, 8, 8, 8, 8, 7, 7, 7, 7, 6, 6, ...  \n",
       "9   [95, 9, 8, 7, 6, 6, 6, 6, 6, 5, 5, 5, 5, 5, 5,...  \n",
       "11  [47, 44, 19, 18, 16, 15, 12, 10, 9, 8, 8, 7, 7...  \n",
       "4   [94, 14, 11, 9, 8, 7, 7, 7, 7, 6, 6, 5, 5, 5, ...  "
      ]
     },
     "execution_count": 127,
     "metadata": {},
     "output_type": "execute_result"
    }
   ],
   "source": [
    "df5.sort_values(by='date')"
   ]
  },
  {
   "cell_type": "code",
   "execution_count": 147,
   "metadata": {
    "collapsed": false
   },
   "outputs": [
    {
     "data": {
      "text/plain": [
       "<matplotlib.axes._subplots.AxesSubplot at 0x7f4891ef24e0>"
      ]
     },
     "execution_count": 147,
     "metadata": {},
     "output_type": "execute_result"
    },
    {
     "data": {
      "image/png": "[encoded data removed]",
      "text/plain": [
       "<matplotlib.figure.Figure at 0x7f488da4c630>"
      ]
     },
     "metadata": {},
     "output_type": "display_data"
    }
   ],
   "source": [
    "df5.sort_values(by='date').communities.plot.box()"
   ]
  },
  {
   "cell_type": "code",
   "execution_count": 149,
   "metadata": {
    "collapsed": false
   },
   "outputs": [
    {
     "data": {
      "text/plain": [
       "<matplotlib.axes._subplots.AxesSubplot at 0x7f488dc6ce48>"
      ]
     },
     "execution_count": 149,
     "metadata": {},
     "output_type": "execute_result"
    },
    {
     "data": {
      "image/png": "[encoded data removed]",
      "text/plain": [
       "<matplotlib.figure.Figure at 0x7f488dcb40b8>"
      ]
     },
     "metadata": {},
     "output_type": "display_data"
    }
   ],
   "source": [
    "df5.set_index('date').plot(title=\"k = 5 | 2015-08-21\")"
   ]
  },
  {
   "cell_type": "code",
   "execution_count": 150,
   "metadata": {
    "collapsed": false
   },
   "outputs": [
    {
     "data": {
      "text/html": [
       "<div>\n",
       "<table border=\"1\" class=\"dataframe\">\n",
       "  <thead>\n",
       "    <tr style=\"text-align: right;\">\n",
       "      <th></th>\n",
       "      <th>date</th>\n",
       "      <th>communities</th>\n",
       "      <th>size</th>\n",
       "    </tr>\n",
       "  </thead>\n",
       "  <tbody>\n",
       "    <tr>\n",
       "      <th>10</th>\n",
       "      <td>2015-08-21 00:00:00+00:00</td>\n",
       "      <td>9</td>\n",
       "      <td>[52, 9, 7, 7, 7, 6, 6, 6, 6]</td>\n",
       "    </tr>\n",
       "    <tr>\n",
       "      <th>21</th>\n",
       "      <td>2015-08-21 01:00:00+00:00</td>\n",
       "      <td>10</td>\n",
       "      <td>[32, 8, 7, 7, 7, 7, 7, 6, 6, 6]</td>\n",
       "    </tr>\n",
       "    <tr>\n",
       "      <th>22</th>\n",
       "      <td>2015-08-21 02:00:00+00:00</td>\n",
       "      <td>13</td>\n",
       "      <td>[12, 11, 8, 7, 6, 6, 6, 6, 6, 6, 6, 6, 6]</td>\n",
       "    </tr>\n",
       "    <tr>\n",
       "      <th>0</th>\n",
       "      <td>2015-08-21 03:00:00+00:00</td>\n",
       "      <td>8</td>\n",
       "      <td>[39, 8, 7, 7, 6, 6, 6, 6]</td>\n",
       "    </tr>\n",
       "    <tr>\n",
       "      <th>14</th>\n",
       "      <td>2015-08-21 04:00:00+00:00</td>\n",
       "      <td>17</td>\n",
       "      <td>[16, 11, 11, 8, 8, 7, 7, 7, 6, 6, 6, 6, 6, 6, ...</td>\n",
       "    </tr>\n",
       "    <tr>\n",
       "      <th>3</th>\n",
       "      <td>2015-08-21 05:00:00+00:00</td>\n",
       "      <td>25</td>\n",
       "      <td>[16, 12, 9, 8, 8, 8, 7, 7, 7, 7, 7, 7, 7, 6, 6...</td>\n",
       "    </tr>\n",
       "    <tr>\n",
       "      <th>19</th>\n",
       "      <td>2015-08-21 06:00:00+00:00</td>\n",
       "      <td>25</td>\n",
       "      <td>[28, 22, 22, 20, 19, 12, 11, 10, 10, 9, 9, 8, ...</td>\n",
       "    </tr>\n",
       "    <tr>\n",
       "      <th>7</th>\n",
       "      <td>2015-08-21 07:00:00+00:00</td>\n",
       "      <td>11</td>\n",
       "      <td>[17, 11, 9, 8, 7, 7, 6, 6, 6, 6, 6]</td>\n",
       "    </tr>\n",
       "    <tr>\n",
       "      <th>8</th>\n",
       "      <td>2015-08-21 08:00:00+00:00</td>\n",
       "      <td>25</td>\n",
       "      <td>[48, 32, 24, 9, 9, 8, 8, 8, 8, 7, 7, 7, 7, 6, ...</td>\n",
       "    </tr>\n",
       "    <tr>\n",
       "      <th>2</th>\n",
       "      <td>2015-08-21 09:00:00+00:00</td>\n",
       "      <td>50</td>\n",
       "      <td>[90, 59, 18, 11, 11, 10, 10, 9, 9, 9, 9, 8, 8,...</td>\n",
       "    </tr>\n",
       "    <tr>\n",
       "      <th>16</th>\n",
       "      <td>2015-08-21 10:00:00+00:00</td>\n",
       "      <td>29</td>\n",
       "      <td>[128, 85, 12, 11, 10, 9, 8, 8, 8, 7, 7, 7, 7, ...</td>\n",
       "    </tr>\n",
       "    <tr>\n",
       "      <th>18</th>\n",
       "      <td>2015-08-21 11:00:00+00:00</td>\n",
       "      <td>24</td>\n",
       "      <td>[67, 9, 8, 7, 7, 7, 7, 7, 7, 6, 6, 6, 6, 6, 6,...</td>\n",
       "    </tr>\n",
       "    <tr>\n",
       "      <th>13</th>\n",
       "      <td>2015-08-21 12:00:00+00:00</td>\n",
       "      <td>35</td>\n",
       "      <td>[49, 18, 10, 9, 9, 8, 8, 7, 7, 7, 7, 7, 7, 7, ...</td>\n",
       "    </tr>\n",
       "    <tr>\n",
       "      <th>15</th>\n",
       "      <td>2015-08-21 13:00:00+00:00</td>\n",
       "      <td>25</td>\n",
       "      <td>[100, 26, 8, 8, 7, 7, 7, 7, 7, 6, 6, 6, 6, 6, ...</td>\n",
       "    </tr>\n",
       "    <tr>\n",
       "      <th>20</th>\n",
       "      <td>2015-08-21 14:00:00+00:00</td>\n",
       "      <td>22</td>\n",
       "      <td>[69, 11, 9, 8, 7, 7, 7, 7, 7, 6, 6, 6, 6, 6, 6...</td>\n",
       "    </tr>\n",
       "    <tr>\n",
       "      <th>23</th>\n",
       "      <td>2015-08-21 15:00:00+00:00</td>\n",
       "      <td>47</td>\n",
       "      <td>[64, 26, 22, 16, 11, 11, 9, 9, 8, 7, 7, 7, 7, ...</td>\n",
       "    </tr>\n",
       "    <tr>\n",
       "      <th>5</th>\n",
       "      <td>2015-08-21 16:00:00+00:00</td>\n",
       "      <td>33</td>\n",
       "      <td>[26, 15, 14, 12, 10, 9, 9, 8, 7, 7, 7, 7, 7, 7...</td>\n",
       "    </tr>\n",
       "    <tr>\n",
       "      <th>12</th>\n",
       "      <td>2015-08-21 17:00:00+00:00</td>\n",
       "      <td>14</td>\n",
       "      <td>[34, 18, 17, 8, 7, 7, 6, 6, 6, 6, 6, 6, 6, 6]</td>\n",
       "    </tr>\n",
       "    <tr>\n",
       "      <th>17</th>\n",
       "      <td>2015-08-21 18:00:00+00:00</td>\n",
       "      <td>12</td>\n",
       "      <td>[16, 8, 7, 7, 7, 6, 6, 6, 6, 6, 6, 6]</td>\n",
       "    </tr>\n",
       "    <tr>\n",
       "      <th>6</th>\n",
       "      <td>2015-08-21 19:00:00+00:00</td>\n",
       "      <td>7</td>\n",
       "      <td>[9, 9, 7, 6, 6, 6, 6]</td>\n",
       "    </tr>\n",
       "    <tr>\n",
       "      <th>1</th>\n",
       "      <td>2015-08-21 20:00:00+00:00</td>\n",
       "      <td>11</td>\n",
       "      <td>[23, 9, 7, 7, 7, 6, 6, 6, 6, 6, 6]</td>\n",
       "    </tr>\n",
       "    <tr>\n",
       "      <th>9</th>\n",
       "      <td>2015-08-21 21:00:00+00:00</td>\n",
       "      <td>10</td>\n",
       "      <td>[39, 12, 8, 8, 6, 6, 6, 6, 6, 6]</td>\n",
       "    </tr>\n",
       "    <tr>\n",
       "      <th>11</th>\n",
       "      <td>2015-08-21 22:00:00+00:00</td>\n",
       "      <td>7</td>\n",
       "      <td>[14, 8, 8, 7, 6, 6, 6]</td>\n",
       "    </tr>\n",
       "    <tr>\n",
       "      <th>4</th>\n",
       "      <td>2015-08-21 23:00:00+00:00</td>\n",
       "      <td>6</td>\n",
       "      <td>[43, 7, 7, 6, 6, 6]</td>\n",
       "    </tr>\n",
       "  </tbody>\n",
       "</table>\n",
       "</div>"
      ],
      "text/plain": [
       "                        date  communities  \\\n",
       "10 2015-08-21 00:00:00+00:00            9   \n",
       "21 2015-08-21 01:00:00+00:00           10   \n",
       "22 2015-08-21 02:00:00+00:00           13   \n",
       "0  2015-08-21 03:00:00+00:00            8   \n",
       "14 2015-08-21 04:00:00+00:00           17   \n",
       "3  2015-08-21 05:00:00+00:00           25   \n",
       "19 2015-08-21 06:00:00+00:00           25   \n",
       "7  2015-08-21 07:00:00+00:00           11   \n",
       "8  2015-08-21 08:00:00+00:00           25   \n",
       "2  2015-08-21 09:00:00+00:00           50   \n",
       "16 2015-08-21 10:00:00+00:00           29   \n",
       "18 2015-08-21 11:00:00+00:00           24   \n",
       "13 2015-08-21 12:00:00+00:00           35   \n",
       "15 2015-08-21 13:00:00+00:00           25   \n",
       "20 2015-08-21 14:00:00+00:00           22   \n",
       "23 2015-08-21 15:00:00+00:00           47   \n",
       "5  2015-08-21 16:00:00+00:00           33   \n",
       "12 2015-08-21 17:00:00+00:00           14   \n",
       "17 2015-08-21 18:00:00+00:00           12   \n",
       "6  2015-08-21 19:00:00+00:00            7   \n",
       "1  2015-08-21 20:00:00+00:00           11   \n",
       "9  2015-08-21 21:00:00+00:00           10   \n",
       "11 2015-08-21 22:00:00+00:00            7   \n",
       "4  2015-08-21 23:00:00+00:00            6   \n",
       "\n",
       "                                                 size  \n",
       "10                       [52, 9, 7, 7, 7, 6, 6, 6, 6]  \n",
       "21                    [32, 8, 7, 7, 7, 7, 7, 6, 6, 6]  \n",
       "22          [12, 11, 8, 7, 6, 6, 6, 6, 6, 6, 6, 6, 6]  \n",
       "0                           [39, 8, 7, 7, 6, 6, 6, 6]  \n",
       "14  [16, 11, 11, 8, 8, 7, 7, 7, 6, 6, 6, 6, 6, 6, ...  \n",
       "3   [16, 12, 9, 8, 8, 8, 7, 7, 7, 7, 7, 7, 7, 6, 6...  \n",
       "19  [28, 22, 22, 20, 19, 12, 11, 10, 10, 9, 9, 8, ...  \n",
       "7                 [17, 11, 9, 8, 7, 7, 6, 6, 6, 6, 6]  \n",
       "8   [48, 32, 24, 9, 9, 8, 8, 8, 8, 7, 7, 7, 7, 6, ...  \n",
       "2   [90, 59, 18, 11, 11, 10, 10, 9, 9, 9, 9, 8, 8,...  \n",
       "16  [128, 85, 12, 11, 10, 9, 8, 8, 8, 7, 7, 7, 7, ...  \n",
       "18  [67, 9, 8, 7, 7, 7, 7, 7, 7, 6, 6, 6, 6, 6, 6,...  \n",
       "13  [49, 18, 10, 9, 9, 8, 8, 7, 7, 7, 7, 7, 7, 7, ...  \n",
       "15  [100, 26, 8, 8, 7, 7, 7, 7, 7, 6, 6, 6, 6, 6, ...  \n",
       "20  [69, 11, 9, 8, 7, 7, 7, 7, 7, 6, 6, 6, 6, 6, 6...  \n",
       "23  [64, 26, 22, 16, 11, 11, 9, 9, 8, 7, 7, 7, 7, ...  \n",
       "5   [26, 15, 14, 12, 10, 9, 9, 8, 7, 7, 7, 7, 7, 7...  \n",
       "12      [34, 18, 17, 8, 7, 7, 6, 6, 6, 6, 6, 6, 6, 6]  \n",
       "17              [16, 8, 7, 7, 7, 6, 6, 6, 6, 6, 6, 6]  \n",
       "6                               [9, 9, 7, 6, 6, 6, 6]  \n",
       "1                  [23, 9, 7, 7, 7, 6, 6, 6, 6, 6, 6]  \n",
       "9                    [39, 12, 8, 8, 6, 6, 6, 6, 6, 6]  \n",
       "11                             [14, 8, 8, 7, 6, 6, 6]  \n",
       "4                                 [43, 7, 7, 6, 6, 6]  "
      ]
     },
     "execution_count": 150,
     "metadata": {},
     "output_type": "execute_result"
    }
   ],
   "source": [
    "k = 6\n",
    "\n",
    "kcc_stat = []\n",
    "\n",
    "for date,g in graph_list:\n",
    "    kcc = list(nx.community.k_clique_communities(g,k))\n",
    "    l = [len(c) for c in kcc]\n",
    "    l.sort(reverse=True)\n",
    "    kcc_stat.append((date,len(kcc),l))\n",
    "\n",
    "df6 = DataFrame(kcc_stat, columns=[\"date\", \"communities\", \"size\"])\n",
    "\n",
    "df6.sort_values(by='date')"
   ]
  },
  {
   "cell_type": "code",
   "execution_count": 151,
   "metadata": {
    "collapsed": false
   },
   "outputs": [
    {
     "data": {
      "text/plain": [
       "<matplotlib.axes._subplots.AxesSubplot at 0x7f488da43828>"
      ]
     },
     "execution_count": 151,
     "metadata": {},
     "output_type": "execute_result"
    },
    {
     "data": {
      "image/png": "[encoded data removed]",
      "text/plain": [
       "<matplotlib.figure.Figure at 0x7f4892dc30b8>"
      ]
     },
     "metadata": {},
     "output_type": "display_data"
    }
   ],
   "source": [
    "df6.sort_values(by='date').communities.plot.box()"
   ]
  },
  {
   "cell_type": "code",
   "execution_count": 152,
   "metadata": {
    "collapsed": false
   },
   "outputs": [
    {
     "data": {
      "text/plain": [
       "<matplotlib.axes._subplots.AxesSubplot at 0x7f4892b4da90>"
      ]
     },
     "execution_count": 152,
     "metadata": {},
     "output_type": "execute_result"
    },
    {
     "data": {
      "image/png": "[encoded data removed]",
      "text/plain": [
       "<matplotlib.figure.Figure at 0x7f4892bd46d8>"
      ]
     },
     "metadata": {},
     "output_type": "display_data"
    }
   ],
   "source": [
    "df6.set_index('date').plot(title=\"k = 6 | 2015-08-21\")"
   ]
  },
  {
   "cell_type": "code",
   "execution_count": 153,
   "metadata": {
    "collapsed": false
   },
   "outputs": [
    {
     "data": {
      "text/html": [
       "<div>\n",
       "<table border=\"1\" class=\"dataframe\">\n",
       "  <thead>\n",
       "    <tr style=\"text-align: right;\">\n",
       "      <th></th>\n",
       "      <th>date</th>\n",
       "      <th>communities</th>\n",
       "      <th>size</th>\n",
       "    </tr>\n",
       "  </thead>\n",
       "  <tbody>\n",
       "    <tr>\n",
       "      <th>10</th>\n",
       "      <td>2015-08-21 00:00:00+00:00</td>\n",
       "      <td>6</td>\n",
       "      <td>[11, 10, 8, 7, 7, 7]</td>\n",
       "    </tr>\n",
       "    <tr>\n",
       "      <th>21</th>\n",
       "      <td>2015-08-21 01:00:00+00:00</td>\n",
       "      <td>2</td>\n",
       "      <td>[13, 7]</td>\n",
       "    </tr>\n",
       "    <tr>\n",
       "      <th>22</th>\n",
       "      <td>2015-08-21 02:00:00+00:00</td>\n",
       "      <td>1</td>\n",
       "      <td>[9]</td>\n",
       "    </tr>\n",
       "    <tr>\n",
       "      <th>0</th>\n",
       "      <td>2015-08-21 03:00:00+00:00</td>\n",
       "      <td>4</td>\n",
       "      <td>[7, 7, 7, 7]</td>\n",
       "    </tr>\n",
       "    <tr>\n",
       "      <th>14</th>\n",
       "      <td>2015-08-21 04:00:00+00:00</td>\n",
       "      <td>1</td>\n",
       "      <td>[8]</td>\n",
       "    </tr>\n",
       "    <tr>\n",
       "      <th>3</th>\n",
       "      <td>2015-08-21 05:00:00+00:00</td>\n",
       "      <td>3</td>\n",
       "      <td>[7, 7, 7]</td>\n",
       "    </tr>\n",
       "    <tr>\n",
       "      <th>19</th>\n",
       "      <td>2015-08-21 06:00:00+00:00</td>\n",
       "      <td>4</td>\n",
       "      <td>[19, 10, 7, 7]</td>\n",
       "    </tr>\n",
       "    <tr>\n",
       "      <th>7</th>\n",
       "      <td>2015-08-21 07:00:00+00:00</td>\n",
       "      <td>2</td>\n",
       "      <td>[8, 7]</td>\n",
       "    </tr>\n",
       "    <tr>\n",
       "      <th>8</th>\n",
       "      <td>2015-08-21 08:00:00+00:00</td>\n",
       "      <td>9</td>\n",
       "      <td>[10, 8, 8, 8, 8, 7, 7, 7, 7]</td>\n",
       "    </tr>\n",
       "    <tr>\n",
       "      <th>2</th>\n",
       "      <td>2015-08-21 09:00:00+00:00</td>\n",
       "      <td>17</td>\n",
       "      <td>[33, 11, 11, 8, 8, 8, 8, 8, 8, 8, 7, 7, 7, 7, ...</td>\n",
       "    </tr>\n",
       "    <tr>\n",
       "      <th>16</th>\n",
       "      <td>2015-08-21 10:00:00+00:00</td>\n",
       "      <td>11</td>\n",
       "      <td>[74, 9, 8, 8, 8, 8, 7, 7, 7, 7, 7]</td>\n",
       "    </tr>\n",
       "    <tr>\n",
       "      <th>18</th>\n",
       "      <td>2015-08-21 11:00:00+00:00</td>\n",
       "      <td>1</td>\n",
       "      <td>[16]</td>\n",
       "    </tr>\n",
       "    <tr>\n",
       "      <th>13</th>\n",
       "      <td>2015-08-21 12:00:00+00:00</td>\n",
       "      <td>2</td>\n",
       "      <td>[16, 7]</td>\n",
       "    </tr>\n",
       "    <tr>\n",
       "      <th>15</th>\n",
       "      <td>2015-08-21 13:00:00+00:00</td>\n",
       "      <td>10</td>\n",
       "      <td>[18, 12, 9, 9, 9, 9, 8, 8, 7, 7]</td>\n",
       "    </tr>\n",
       "    <tr>\n",
       "      <th>20</th>\n",
       "      <td>2015-08-21 14:00:00+00:00</td>\n",
       "      <td>8</td>\n",
       "      <td>[25, 9, 8, 8, 7, 7, 7, 7]</td>\n",
       "    </tr>\n",
       "    <tr>\n",
       "      <th>23</th>\n",
       "      <td>2015-08-21 15:00:00+00:00</td>\n",
       "      <td>8</td>\n",
       "      <td>[9, 7, 7, 7, 7, 7, 7, 7]</td>\n",
       "    </tr>\n",
       "    <tr>\n",
       "      <th>5</th>\n",
       "      <td>2015-08-21 16:00:00+00:00</td>\n",
       "      <td>5</td>\n",
       "      <td>[8, 7, 7, 7, 7]</td>\n",
       "    </tr>\n",
       "    <tr>\n",
       "      <th>12</th>\n",
       "      <td>2015-08-21 17:00:00+00:00</td>\n",
       "      <td>4</td>\n",
       "      <td>[17, 10, 8, 7]</td>\n",
       "    </tr>\n",
       "    <tr>\n",
       "      <th>17</th>\n",
       "      <td>2015-08-21 18:00:00+00:00</td>\n",
       "      <td>2</td>\n",
       "      <td>[7, 7]</td>\n",
       "    </tr>\n",
       "    <tr>\n",
       "      <th>6</th>\n",
       "      <td>2015-08-21 19:00:00+00:00</td>\n",
       "      <td>0</td>\n",
       "      <td>[]</td>\n",
       "    </tr>\n",
       "    <tr>\n",
       "      <th>1</th>\n",
       "      <td>2015-08-21 20:00:00+00:00</td>\n",
       "      <td>2</td>\n",
       "      <td>[7, 7]</td>\n",
       "    </tr>\n",
       "    <tr>\n",
       "      <th>9</th>\n",
       "      <td>2015-08-21 21:00:00+00:00</td>\n",
       "      <td>3</td>\n",
       "      <td>[16, 8, 7]</td>\n",
       "    </tr>\n",
       "    <tr>\n",
       "      <th>11</th>\n",
       "      <td>2015-08-21 22:00:00+00:00</td>\n",
       "      <td>1</td>\n",
       "      <td>[7]</td>\n",
       "    </tr>\n",
       "    <tr>\n",
       "      <th>4</th>\n",
       "      <td>2015-08-21 23:00:00+00:00</td>\n",
       "      <td>3</td>\n",
       "      <td>[11, 8, 7]</td>\n",
       "    </tr>\n",
       "  </tbody>\n",
       "</table>\n",
       "</div>"
      ],
      "text/plain": [
       "                        date  communities  \\\n",
       "10 2015-08-21 00:00:00+00:00            6   \n",
       "21 2015-08-21 01:00:00+00:00            2   \n",
       "22 2015-08-21 02:00:00+00:00            1   \n",
       "0  2015-08-21 03:00:00+00:00            4   \n",
       "14 2015-08-21 04:00:00+00:00            1   \n",
       "3  2015-08-21 05:00:00+00:00            3   \n",
       "19 2015-08-21 06:00:00+00:00            4   \n",
       "7  2015-08-21 07:00:00+00:00            2   \n",
       "8  2015-08-21 08:00:00+00:00            9   \n",
       "2  2015-08-21 09:00:00+00:00           17   \n",
       "16 2015-08-21 10:00:00+00:00           11   \n",
       "18 2015-08-21 11:00:00+00:00            1   \n",
       "13 2015-08-21 12:00:00+00:00            2   \n",
       "15 2015-08-21 13:00:00+00:00           10   \n",
       "20 2015-08-21 14:00:00+00:00            8   \n",
       "23 2015-08-21 15:00:00+00:00            8   \n",
       "5  2015-08-21 16:00:00+00:00            5   \n",
       "12 2015-08-21 17:00:00+00:00            4   \n",
       "17 2015-08-21 18:00:00+00:00            2   \n",
       "6  2015-08-21 19:00:00+00:00            0   \n",
       "1  2015-08-21 20:00:00+00:00            2   \n",
       "9  2015-08-21 21:00:00+00:00            3   \n",
       "11 2015-08-21 22:00:00+00:00            1   \n",
       "4  2015-08-21 23:00:00+00:00            3   \n",
       "\n",
       "                                                 size  \n",
       "10                               [11, 10, 8, 7, 7, 7]  \n",
       "21                                            [13, 7]  \n",
       "22                                                [9]  \n",
       "0                                        [7, 7, 7, 7]  \n",
       "14                                                [8]  \n",
       "3                                           [7, 7, 7]  \n",
       "19                                     [19, 10, 7, 7]  \n",
       "7                                              [8, 7]  \n",
       "8                        [10, 8, 8, 8, 8, 7, 7, 7, 7]  \n",
       "2   [33, 11, 11, 8, 8, 8, 8, 8, 8, 8, 7, 7, 7, 7, ...  \n",
       "16                 [74, 9, 8, 8, 8, 8, 7, 7, 7, 7, 7]  \n",
       "18                                               [16]  \n",
       "13                                            [16, 7]  \n",
       "15                   [18, 12, 9, 9, 9, 9, 8, 8, 7, 7]  \n",
       "20                          [25, 9, 8, 8, 7, 7, 7, 7]  \n",
       "23                           [9, 7, 7, 7, 7, 7, 7, 7]  \n",
       "5                                     [8, 7, 7, 7, 7]  \n",
       "12                                     [17, 10, 8, 7]  \n",
       "17                                             [7, 7]  \n",
       "6                                                  []  \n",
       "1                                              [7, 7]  \n",
       "9                                          [16, 8, 7]  \n",
       "11                                                [7]  \n",
       "4                                          [11, 8, 7]  "
      ]
     },
     "execution_count": 153,
     "metadata": {},
     "output_type": "execute_result"
    }
   ],
   "source": [
    "k = 7\n",
    "\n",
    "kcc_stat = []\n",
    "\n",
    "for date,g in graph_list:\n",
    "    kcc = list(nx.community.k_clique_communities(g,k))\n",
    "    l = [len(c) for c in kcc]\n",
    "    l.sort(reverse=True)\n",
    "    kcc_stat.append((date,len(kcc),l))\n",
    "\n",
    "df7 = DataFrame(kcc_stat, columns=[\"date\", \"communities\", \"size\"])\n",
    "\n",
    "df7.sort_values(by='date')"
   ]
  },
  {
   "cell_type": "code",
   "execution_count": 154,
   "metadata": {
    "collapsed": false
   },
   "outputs": [
    {
     "data": {
      "text/plain": [
       "<matplotlib.axes._subplots.AxesSubplot at 0x7f4892511898>"
      ]
     },
     "execution_count": 154,
     "metadata": {},
     "output_type": "execute_result"
    },
    {
     "data": {
      "image/png": "[encoded data removed]",
      "text/plain": [
       "<matplotlib.figure.Figure at 0x7f489232ca90>"
      ]
     },
     "metadata": {},
     "output_type": "display_data"
    }
   ],
   "source": [
    "df7.sort_values(by='date').communities.plot.box()"
   ]
  },
  {
   "cell_type": "code",
   "execution_count": 156,
   "metadata": {
    "collapsed": false
   },
   "outputs": [
    {
     "data": {
      "text/plain": [
       "<matplotlib.axes._subplots.AxesSubplot at 0x7f4891e18e80>"
      ]
     },
     "execution_count": 156,
     "metadata": {},
     "output_type": "execute_result"
    },
    {
     "data": {
      "image/png": "[encoded data removed]",
      "text/plain": [
       "<matplotlib.figure.Figure at 0x7f488dbca5c0>"
      ]
     },
     "metadata": {},
     "output_type": "display_data"
    }
   ],
   "source": [
    "df7.set_index('date').plot(title=\"k = 7 | 2015-08-21\")"
   ]
  },
  {
   "cell_type": "code",
   "execution_count": null,
   "metadata": {
    "collapsed": true
   },
   "outputs": [],
   "source": []
  }
 ],
 "metadata": {
  "anaconda-cloud": {},
  "kernelspec": {
   "display_name": "Python [conda root]",
   "language": "python",
   "name": "conda-root-py"
  },
  "language_info": {
   "codemirror_mode": {
    "name": "ipython",
    "version": 3
   },
   "file_extension": ".py",
   "mimetype": "text/x-python",
   "name": "python",
   "nbconvert_exporter": "python",
   "pygments_lexer": "ipython3",
   "version": "3.5.2"
  }
 },
 "nbformat": 4,
 "nbformat_minor": 2
}
