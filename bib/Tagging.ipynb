{
 "cells": [
  {
   "cell_type": "markdown",
   "metadata": {},
   "source": [
    "# Tagging of Bees and Data Quality (checking against the age of bees)"
   ]
  },
  {
   "cell_type": "code",
   "execution_count": 1,
   "metadata": {
    "ExecuteTime": {
     "end_time": "2017-03-23T02:55:55.635814",
     "start_time": "2017-03-23T02:55:51.570260"
    },
    "collapsed": true
   },
   "outputs": [],
   "source": [
    "import networkx as nx\n",
    "import os\n",
    "import pandas as pd\n",
    "import numpy as np\n",
    "from pandas import DataFrame, Series\n",
    "import datetime\n",
    "import pytz\n",
    "import matplotlib.pyplot as plt\n",
    "import preprocessing as prep\n",
    "from collections import namedtuple\n",
    "from bb_binary import FrameContainer, Repository, load_frame_container\n",
    "import numpy as np\n",
    "import numpy.ma as npma\n",
    "import datetime\n",
    "import csv\n",
    "import seaborn as sns\n",
    "from collections import Counter"
   ]
  },
  {
   "cell_type": "code",
   "execution_count": 2,
   "metadata": {
    "ExecuteTime": {
     "end_time": "2017-03-23T02:55:55.653194",
     "start_time": "2017-03-23T02:55:55.638703"
    },
    "collapsed": true
   },
   "outputs": [],
   "source": [
    "%matplotlib inline"
   ]
  },
  {
   "cell_type": "code",
   "execution_count": 3,
   "metadata": {
    "ExecuteTime": {
     "end_time": "2017-03-23T02:55:55.662143",
     "start_time": "2017-03-23T02:55:55.655954"
    },
    "collapsed": true
   },
   "outputs": [],
   "source": [
    "Detection = namedtuple('Detection', ['idx', 'xpos', 'ypos', 'radius', 'zRotation', 'decodedId', 'frame_idx', 'timestamp', 'cam_id', 'fc_id'])"
   ]
  },
  {
   "cell_type": "code",
   "execution_count": 4,
   "metadata": {
    "ExecuteTime": {
     "end_time": "2017-02-16T17:09:22.094821",
     "start_time": "2017-02-16T17:09:22.065671"
    },
    "collapsed": true
   },
   "outputs": [],
   "source": [
    "def getDF(path, b, e, camID):\n",
    "    repo = Repository(path)\n",
    "    \n",
    "    tpls = []\n",
    "    myid = 0\n",
    "\n",
    "\n",
    "    for frame, fc in repo.iter_frames(begin=b, end=e, cam=camID):\n",
    "        for d in frame.detectionsUnion.detectionsDP:\n",
    "            d = Detection(d.idx, d.xpos, d.ypos, d.radius, d.zRotation, list(d.decodedId), myid, frame.timestamp, fc.camId, fc.id)\n",
    "            tpls.append(d)\n",
    "        myid += 1\n",
    "\n",
    "    df = DataFrame(tpls)\n",
    "    return df"
   ]
  },
  {
   "cell_type": "markdown",
   "metadata": {
    "ExecuteTime": {
     "end_time": "2017-02-17T10:07:27.027471",
     "start_time": "2017-02-17T10:07:27.015051"
    },
    "heading_collapsed": true
   },
   "source": [
    "# Dateset: 2016 21.07. 15:00 Uhr (5 Minutes)"
   ]
  },
  {
   "cell_type": "code",
   "execution_count": 876,
   "metadata": {
    "ExecuteTime": {
     "end_time": "2017-02-17T14:39:58.079053",
     "start_time": "2017-02-17T14:39:58.060603"
    },
    "collapsed": true,
    "hidden": true
   },
   "outputs": [],
   "source": [
    "start = \"2016-07-21T15:00:00Z\"\n",
    "start_dt = datetime.datetime.strptime(start, \"%Y-%m-%dT%H:%M:%SZ\").replace(tzinfo=pytz.UTC)\n",
    "start_ts = start_dt.timestamp()\n",
    "end_dt = start_dt + datetime.timedelta(minutes=5)\n",
    "end_ts = end_dt.timestamp()"
   ]
  },
  {
   "cell_type": "code",
   "execution_count": 877,
   "metadata": {
    "ExecuteTime": {
     "end_time": "2017-02-17T14:40:03.910573",
     "start_time": "2017-02-17T14:40:00.893069"
    },
    "collapsed": true,
    "hidden": true
   },
   "outputs": [],
   "source": [
    "df3 = getDF(\"/mnt/data2016/\",start_ts, end_ts, 3)"
   ]
  },
  {
   "cell_type": "code",
   "execution_count": 878,
   "metadata": {
    "ExecuteTime": {
     "end_time": "2017-02-17T14:40:06.539677",
     "start_time": "2017-02-17T14:40:06.525461"
    },
    "collapsed": false,
    "hidden": true
   },
   "outputs": [
    {
     "data": {
      "text/plain": [
       "5.016666666666667"
      ]
     },
     "execution_count": 878,
     "metadata": {},
     "output_type": "execute_result"
    }
   ],
   "source": [
    "len(df3.frame_idx.unique())/3/60"
   ]
  },
  {
   "cell_type": "code",
   "execution_count": 879,
   "metadata": {
    "ExecuteTime": {
     "end_time": "2017-02-17T14:40:08.584502",
     "start_time": "2017-02-17T14:40:08.573973"
    },
    "collapsed": false,
    "hidden": true
   },
   "outputs": [
    {
     "data": {
      "text/plain": [
       "903"
      ]
     },
     "execution_count": 879,
     "metadata": {},
     "output_type": "execute_result"
    }
   ],
   "source": [
    "len(df3.frame_idx.unique())"
   ]
  },
  {
   "cell_type": "code",
   "execution_count": 880,
   "metadata": {
    "ExecuteTime": {
     "end_time": "2017-02-17T14:40:16.091714",
     "start_time": "2017-02-17T14:40:13.753124"
    },
    "collapsed": true,
    "hidden": true
   },
   "outputs": [],
   "source": [
    "df2 = getDF(\"/mnt/data2016/\",start_ts, end_ts, 2)"
   ]
  },
  {
   "cell_type": "code",
   "execution_count": 881,
   "metadata": {
    "ExecuteTime": {
     "end_time": "2017-02-17T14:40:16.851782",
     "start_time": "2017-02-17T14:40:16.839120"
    },
    "collapsed": false,
    "hidden": true
   },
   "outputs": [
    {
     "data": {
      "text/plain": [
       "874"
      ]
     },
     "execution_count": 881,
     "metadata": {},
     "output_type": "execute_result"
    }
   ],
   "source": [
    "len(df2.frame_idx.unique())"
   ]
  },
  {
   "cell_type": "code",
   "execution_count": 882,
   "metadata": {
    "ExecuteTime": {
     "end_time": "2017-02-17T14:40:19.175790",
     "start_time": "2017-02-17T14:40:19.167027"
    },
    "collapsed": false,
    "hidden": true
   },
   "outputs": [
    {
     "data": {
      "text/plain": [
       "4.855555555555555"
      ]
     },
     "execution_count": 882,
     "metadata": {},
     "output_type": "execute_result"
    }
   ],
   "source": [
    "len(df2.frame_idx.unique())/3/60"
   ]
  },
  {
   "cell_type": "code",
   "execution_count": 883,
   "metadata": {
    "ExecuteTime": {
     "end_time": "2017-02-17T14:40:25.481354",
     "start_time": "2017-02-17T14:40:21.386595"
    },
    "collapsed": true,
    "hidden": true
   },
   "outputs": [],
   "source": [
    "df1 = getDF(\"/mnt/data2016/\",start_ts, end_ts, 1)"
   ]
  },
  {
   "cell_type": "code",
   "execution_count": 884,
   "metadata": {
    "ExecuteTime": {
     "end_time": "2017-02-17T14:40:26.370806",
     "start_time": "2017-02-17T14:40:26.358376"
    },
    "collapsed": false,
    "hidden": true
   },
   "outputs": [
    {
     "data": {
      "text/plain": [
       "5.016666666666667"
      ]
     },
     "execution_count": 884,
     "metadata": {},
     "output_type": "execute_result"
    }
   ],
   "source": [
    "len(df1.frame_idx.unique())/3/60"
   ]
  },
  {
   "cell_type": "code",
   "execution_count": 885,
   "metadata": {
    "ExecuteTime": {
     "end_time": "2017-02-17T14:40:30.819164",
     "start_time": "2017-02-17T14:40:28.348687"
    },
    "collapsed": true,
    "hidden": true
   },
   "outputs": [],
   "source": [
    "df0 = getDF(\"/mnt/data2016/\",start_ts, end_ts, 0)"
   ]
  },
  {
   "cell_type": "code",
   "execution_count": 886,
   "metadata": {
    "ExecuteTime": {
     "end_time": "2017-02-17T14:40:33.202207",
     "start_time": "2017-02-17T14:40:33.190519"
    },
    "collapsed": false,
    "hidden": true
   },
   "outputs": [
    {
     "data": {
      "text/plain": [
       "5.016666666666667"
      ]
     },
     "execution_count": 886,
     "metadata": {},
     "output_type": "execute_result"
    }
   ],
   "source": [
    "len(df0.frame_idx.unique())/3/60"
   ]
  },
  {
   "cell_type": "markdown",
   "metadata": {},
   "source": [
    "# Overview of Tagged Bees"
   ]
  },
  {
   "cell_type": "code",
   "execution_count": 115,
   "metadata": {
    "ExecuteTime": {
     "end_time": "2017-04-20T01:16:53.212299",
     "start_time": "2017-04-20T01:16:53.200366"
    },
    "collapsed": true
   },
   "outputs": [],
   "source": [
    "csvdata = pd.read_csv(\"hatchdates2016.csv\")"
   ]
  },
  {
   "cell_type": "code",
   "execution_count": 116,
   "metadata": {
    "ExecuteTime": {
     "end_time": "2017-04-20T01:16:57.533225",
     "start_time": "2017-04-20T01:16:57.515893"
    },
    "collapsed": false
   },
   "outputs": [
    {
     "data": {
      "text/html": [
       "<div>\n",
       "<table border=\"1\" class=\"dataframe\">\n",
       "  <thead>\n",
       "    <tr style=\"text-align: right;\">\n",
       "      <th></th>\n",
       "      <th>dec12</th>\n",
       "      <th>dec9</th>\n",
       "      <th>birthdate</th>\n",
       "      <th>later tagged</th>\n",
       "    </tr>\n",
       "  </thead>\n",
       "  <tbody>\n",
       "    <tr>\n",
       "      <th>0</th>\n",
       "      <td>0</td>\n",
       "      <td>0</td>\n",
       "      <td>NaN</td>\n",
       "      <td>NaN</td>\n",
       "    </tr>\n",
       "    <tr>\n",
       "      <th>1</th>\n",
       "      <td>1</td>\n",
       "      <td>256</td>\n",
       "      <td>28.07.2016</td>\n",
       "      <td>NaN</td>\n",
       "    </tr>\n",
       "  </tbody>\n",
       "</table>\n",
       "</div>"
      ],
      "text/plain": [
       "   dec12  dec9   birthdate later tagged\n",
       "0      0     0         NaN          NaN\n",
       "1      1   256  28.07.2016          NaN"
      ]
     },
     "execution_count": 116,
     "metadata": {},
     "output_type": "execute_result"
    }
   ],
   "source": [
    "csvdata.head(2)"
   ]
  },
  {
   "cell_type": "code",
   "execution_count": 117,
   "metadata": {
    "ExecuteTime": {
     "end_time": "2017-04-20T01:16:59.194175",
     "start_time": "2017-04-20T01:16:59.187919"
    },
    "collapsed": false
   },
   "outputs": [
    {
     "data": {
      "text/plain": [
       "4096"
      ]
     },
     "execution_count": 117,
     "metadata": {},
     "output_type": "execute_result"
    }
   ],
   "source": [
    "len(csvdata)"
   ]
  },
  {
   "cell_type": "code",
   "execution_count": 118,
   "metadata": {
    "ExecuteTime": {
     "end_time": "2017-04-20T01:17:00.727624",
     "start_time": "2017-04-20T01:17:00.720486"
    },
    "collapsed": false
   },
   "outputs": [],
   "source": [
    "csvdata = csvdata[csvdata.birthdate != \"01.01.2016\"]"
   ]
  },
  {
   "cell_type": "markdown",
   "metadata": {},
   "source": [
    "## Number of tagged bees"
   ]
  },
  {
   "cell_type": "code",
   "execution_count": 119,
   "metadata": {
    "ExecuteTime": {
     "end_time": "2017-04-20T01:17:07.661883",
     "start_time": "2017-04-20T01:17:07.652874"
    },
    "collapsed": false
   },
   "outputs": [
    {
     "data": {
      "text/plain": [
       "3181"
      ]
     },
     "execution_count": 119,
     "metadata": {},
     "output_type": "execute_result"
    }
   ],
   "source": [
    "len(csvdata.birthdate.dropna())"
   ]
  },
  {
   "cell_type": "code",
   "execution_count": 120,
   "metadata": {
    "ExecuteTime": {
     "end_time": "2017-04-20T01:17:08.560321",
     "start_time": "2017-04-20T01:17:08.552026"
    },
    "collapsed": false
   },
   "outputs": [
    {
     "data": {
      "text/plain": [
       "10"
      ]
     },
     "execution_count": 120,
     "metadata": {},
     "output_type": "execute_result"
    }
   ],
   "source": [
    "len(csvdata['later tagged'].dropna())"
   ]
  },
  {
   "cell_type": "code",
   "execution_count": 121,
   "metadata": {
    "ExecuteTime": {
     "end_time": "2017-04-20T01:17:10.820353",
     "start_time": "2017-04-20T01:17:10.813455"
    },
    "collapsed": false
   },
   "outputs": [],
   "source": [
    "csvdata = csvdata.fillna(0)"
   ]
  },
  {
   "cell_type": "code",
   "execution_count": 122,
   "metadata": {
    "ExecuteTime": {
     "end_time": "2017-04-20T01:17:12.401593",
     "start_time": "2017-04-20T01:17:12.391217"
    },
    "collapsed": false
   },
   "outputs": [],
   "source": [
    "csvdata.loc[csvdata['birthdate']==0, 'birthdate'] = csvdata['later tagged']"
   ]
  },
  {
   "cell_type": "code",
   "execution_count": 123,
   "metadata": {
    "ExecuteTime": {
     "end_time": "2017-04-20T01:17:12.885188",
     "start_time": "2017-04-20T01:17:12.880337"
    },
    "collapsed": false
   },
   "outputs": [],
   "source": [
    "csvdata = csvdata.iloc[:, :-1]"
   ]
  },
  {
   "cell_type": "code",
   "execution_count": 124,
   "metadata": {
    "ExecuteTime": {
     "end_time": "2017-04-20T01:17:13.212312",
     "start_time": "2017-04-20T01:17:13.208005"
    },
    "collapsed": false
   },
   "outputs": [],
   "source": [
    "datesCSV = csvdata.birthdate"
   ]
  },
  {
   "cell_type": "code",
   "execution_count": 125,
   "metadata": {
    "ExecuteTime": {
     "end_time": "2017-04-20T01:17:13.460836",
     "start_time": "2017-04-20T01:17:13.454187"
    },
    "collapsed": false
   },
   "outputs": [],
   "source": [
    "datesCSV = datesCSV[datesCSV != 0]"
   ]
  },
  {
   "cell_type": "code",
   "execution_count": 126,
   "metadata": {
    "ExecuteTime": {
     "end_time": "2017-04-20T01:17:14.055692",
     "start_time": "2017-04-20T01:17:13.818187"
    },
    "collapsed": false
   },
   "outputs": [],
   "source": [
    "datesCSV = datesCSV.apply(lambda x: datetime.datetime.strptime(x, \"%d.%m.%Y\").replace(tzinfo=pytz.UTC))\n",
    "datesCSV = datesCSV.map(lambda t: t.strftime('%Y-%m-%d'))"
   ]
  },
  {
   "cell_type": "code",
   "execution_count": 127,
   "metadata": {
    "ExecuteTime": {
     "end_time": "2017-04-20T01:17:14.144583",
     "start_time": "2017-04-20T01:17:14.136161"
    },
    "collapsed": false
   },
   "outputs": [
    {
     "data": {
      "text/plain": [
       "1    2016-07-28\n",
       "2    2016-08-03\n",
       "3    2016-07-06\n",
       "4    2016-08-22\n",
       "5    2016-07-14\n",
       "Name: birthdate, dtype: object"
      ]
     },
     "execution_count": 127,
     "metadata": {},
     "output_type": "execute_result"
    }
   ],
   "source": [
    "datesCSV.head()"
   ]
  },
  {
   "cell_type": "markdown",
   "metadata": {},
   "source": [
    "## First day of tagging and last day of tagging"
   ]
  },
  {
   "cell_type": "code",
   "execution_count": 217,
   "metadata": {
    "ExecuteTime": {
     "end_time": "2017-02-16T18:42:42.043318",
     "start_time": "2017-02-16T18:42:42.021831"
    },
    "collapsed": false
   },
   "outputs": [
    {
     "data": {
      "text/plain": [
       "'2016-06-28'"
      ]
     },
     "execution_count": 217,
     "metadata": {},
     "output_type": "execute_result"
    }
   ],
   "source": [
    "datesCSV.min()"
   ]
  },
  {
   "cell_type": "code",
   "execution_count": 218,
   "metadata": {
    "ExecuteTime": {
     "end_time": "2017-02-16T18:42:42.821077",
     "start_time": "2017-02-16T18:42:42.810898"
    },
    "collapsed": false
   },
   "outputs": [
    {
     "data": {
      "text/plain": [
       "'2016-09-02'"
      ]
     },
     "execution_count": 218,
     "metadata": {},
     "output_type": "execute_result"
    }
   ],
   "source": [
    "datesCSV.max()"
   ]
  },
  {
   "cell_type": "markdown",
   "metadata": {},
   "source": [
    "## Tagging Frequency (PLOT)"
   ]
  },
  {
   "cell_type": "code",
   "execution_count": 128,
   "metadata": {
    "ExecuteTime": {
     "end_time": "2017-04-20T01:17:17.982038",
     "start_time": "2017-04-20T01:17:17.974347"
    },
    "collapsed": false
   },
   "outputs": [],
   "source": [
    "dateDF = DataFrame(datesCSV.value_counts())"
   ]
  },
  {
   "cell_type": "code",
   "execution_count": 129,
   "metadata": {
    "ExecuteTime": {
     "end_time": "2017-04-20T01:17:18.979820",
     "start_time": "2017-04-20T01:17:18.967823"
    },
    "collapsed": false
   },
   "outputs": [
    {
     "data": {
      "text/html": [
       "<div>\n",
       "<table border=\"1\" class=\"dataframe\">\n",
       "  <thead>\n",
       "    <tr style=\"text-align: right;\">\n",
       "      <th></th>\n",
       "      <th>birthdate</th>\n",
       "    </tr>\n",
       "  </thead>\n",
       "  <tbody>\n",
       "    <tr>\n",
       "      <th>2016-07-01</th>\n",
       "      <td>155</td>\n",
       "    </tr>\n",
       "    <tr>\n",
       "      <th>2016-08-11</th>\n",
       "      <td>154</td>\n",
       "    </tr>\n",
       "    <tr>\n",
       "      <th>2016-07-21</th>\n",
       "      <td>149</td>\n",
       "    </tr>\n",
       "    <tr>\n",
       "      <th>2016-07-28</th>\n",
       "      <td>148</td>\n",
       "    </tr>\n",
       "    <tr>\n",
       "      <th>2016-07-20</th>\n",
       "      <td>132</td>\n",
       "    </tr>\n",
       "  </tbody>\n",
       "</table>\n",
       "</div>"
      ],
      "text/plain": [
       "            birthdate\n",
       "2016-07-01        155\n",
       "2016-08-11        154\n",
       "2016-07-21        149\n",
       "2016-07-28        148\n",
       "2016-07-20        132"
      ]
     },
     "execution_count": 129,
     "metadata": {},
     "output_type": "execute_result"
    }
   ],
   "source": [
    "dateDF.head()"
   ]
  },
  {
   "cell_type": "code",
   "execution_count": 130,
   "metadata": {
    "ExecuteTime": {
     "end_time": "2017-04-20T01:17:24.040976",
     "start_time": "2017-04-20T01:17:24.035234"
    },
    "collapsed": false
   },
   "outputs": [],
   "source": [
    "dateDF = dateDF[dateDF.birthdate == 1]"
   ]
  },
  {
   "cell_type": "code",
   "execution_count": 131,
   "metadata": {
    "ExecuteTime": {
     "end_time": "2017-04-20T01:17:24.823003",
     "start_time": "2017-04-20T01:17:24.811614"
    },
    "collapsed": false
   },
   "outputs": [
    {
     "data": {
      "text/html": [
       "<div>\n",
       "<table border=\"1\" class=\"dataframe\">\n",
       "  <thead>\n",
       "    <tr style=\"text-align: right;\">\n",
       "      <th></th>\n",
       "      <th>birthdate</th>\n",
       "    </tr>\n",
       "  </thead>\n",
       "  <tbody>\n",
       "    <tr>\n",
       "      <th>2016-08-08</th>\n",
       "      <td>1</td>\n",
       "    </tr>\n",
       "    <tr>\n",
       "      <th>2016-08-03</th>\n",
       "      <td>1</td>\n",
       "    </tr>\n",
       "    <tr>\n",
       "      <th>2016-08-16</th>\n",
       "      <td>1</td>\n",
       "    </tr>\n",
       "  </tbody>\n",
       "</table>\n",
       "</div>"
      ],
      "text/plain": [
       "            birthdate\n",
       "2016-08-08          1\n",
       "2016-08-03          1\n",
       "2016-08-16          1"
      ]
     },
     "execution_count": 131,
     "metadata": {},
     "output_type": "execute_result"
    }
   ],
   "source": [
    "dateDF.head()"
   ]
  },
  {
   "cell_type": "code",
   "execution_count": 132,
   "metadata": {
    "ExecuteTime": {
     "end_time": "2017-04-20T01:17:27.965857",
     "start_time": "2017-04-20T01:17:27.956173"
    },
    "collapsed": true
   },
   "outputs": [],
   "source": [
    "index = pd.date_range(datesCSV.min(), datesCSV.max(), freq='D')\n",
    "index = index.map(lambda t: t.strftime('%Y-%m-%d'))"
   ]
  },
  {
   "cell_type": "code",
   "execution_count": 133,
   "metadata": {
    "ExecuteTime": {
     "end_time": "2017-04-20T01:17:28.386396",
     "start_time": "2017-04-20T01:17:28.381554"
    },
    "collapsed": false
   },
   "outputs": [],
   "source": [
    "df_i = DataFrame(index=index)"
   ]
  },
  {
   "cell_type": "code",
   "execution_count": 134,
   "metadata": {
    "ExecuteTime": {
     "end_time": "2017-04-20T01:17:28.665190",
     "start_time": "2017-04-20T01:17:28.656121"
    },
    "collapsed": false
   },
   "outputs": [
    {
     "data": {
      "text/html": [
       "<div>\n",
       "<table border=\"1\" class=\"dataframe\">\n",
       "  <thead>\n",
       "    <tr style=\"text-align: right;\">\n",
       "      <th></th>\n",
       "    </tr>\n",
       "  </thead>\n",
       "  <tbody>\n",
       "    <tr>\n",
       "      <th>2016-06-28</th>\n",
       "    </tr>\n",
       "    <tr>\n",
       "      <th>2016-06-29</th>\n",
       "    </tr>\n",
       "    <tr>\n",
       "      <th>2016-06-30</th>\n",
       "    </tr>\n",
       "    <tr>\n",
       "      <th>2016-07-01</th>\n",
       "    </tr>\n",
       "    <tr>\n",
       "      <th>2016-07-02</th>\n",
       "    </tr>\n",
       "  </tbody>\n",
       "</table>\n",
       "</div>"
      ],
      "text/plain": [
       "Empty DataFrame\n",
       "Columns: []\n",
       "Index: [2016-06-28, 2016-06-29, 2016-06-30, 2016-07-01, 2016-07-02]"
      ]
     },
     "execution_count": 134,
     "metadata": {},
     "output_type": "execute_result"
    }
   ],
   "source": [
    "df_i.head()"
   ]
  },
  {
   "cell_type": "code",
   "execution_count": 135,
   "metadata": {
    "ExecuteTime": {
     "end_time": "2017-04-20T01:17:29.254124",
     "start_time": "2017-04-20T01:17:29.248178"
    },
    "collapsed": false
   },
   "outputs": [],
   "source": [
    "res = pd.concat([df_i, dateDF], axis=1)"
   ]
  },
  {
   "cell_type": "code",
   "execution_count": 136,
   "metadata": {
    "ExecuteTime": {
     "end_time": "2017-04-20T01:17:29.696146",
     "start_time": "2017-04-20T01:17:29.691714"
    },
    "collapsed": false
   },
   "outputs": [],
   "source": [
    "res = res.fillna(0)"
   ]
  },
  {
   "cell_type": "code",
   "execution_count": 137,
   "metadata": {
    "ExecuteTime": {
     "end_time": "2017-04-20T01:17:30.294284",
     "start_time": "2017-04-20T01:17:30.271753"
    },
    "collapsed": false
   },
   "outputs": [
    {
     "data": {
      "text/html": [
       "<div>\n",
       "<table border=\"1\" class=\"dataframe\">\n",
       "  <thead>\n",
       "    <tr style=\"text-align: right;\">\n",
       "      <th></th>\n",
       "      <th>birthdate</th>\n",
       "    </tr>\n",
       "  </thead>\n",
       "  <tbody>\n",
       "    <tr>\n",
       "      <th>count</th>\n",
       "      <td>67.000000</td>\n",
       "    </tr>\n",
       "    <tr>\n",
       "      <th>mean</th>\n",
       "      <td>0.044776</td>\n",
       "    </tr>\n",
       "    <tr>\n",
       "      <th>std</th>\n",
       "      <td>0.208373</td>\n",
       "    </tr>\n",
       "    <tr>\n",
       "      <th>min</th>\n",
       "      <td>0.000000</td>\n",
       "    </tr>\n",
       "    <tr>\n",
       "      <th>25%</th>\n",
       "      <td>0.000000</td>\n",
       "    </tr>\n",
       "    <tr>\n",
       "      <th>50%</th>\n",
       "      <td>0.000000</td>\n",
       "    </tr>\n",
       "    <tr>\n",
       "      <th>75%</th>\n",
       "      <td>0.000000</td>\n",
       "    </tr>\n",
       "    <tr>\n",
       "      <th>max</th>\n",
       "      <td>1.000000</td>\n",
       "    </tr>\n",
       "  </tbody>\n",
       "</table>\n",
       "</div>"
      ],
      "text/plain": [
       "       birthdate\n",
       "count  67.000000\n",
       "mean    0.044776\n",
       "std     0.208373\n",
       "min     0.000000\n",
       "25%     0.000000\n",
       "50%     0.000000\n",
       "75%     0.000000\n",
       "max     1.000000"
      ]
     },
     "execution_count": 137,
     "metadata": {},
     "output_type": "execute_result"
    }
   ],
   "source": [
    "res.describe()"
   ]
  },
  {
   "cell_type": "code",
   "execution_count": 138,
   "metadata": {
    "ExecuteTime": {
     "end_time": "2017-04-20T01:17:30.925190",
     "start_time": "2017-04-20T01:17:30.921285"
    },
    "collapsed": true
   },
   "outputs": [],
   "source": [
    "import matplotlib as mpl"
   ]
  },
  {
   "cell_type": "code",
   "execution_count": 139,
   "metadata": {
    "ExecuteTime": {
     "end_time": "2017-04-20T01:17:31.771414",
     "start_time": "2017-04-20T01:17:31.767242"
    },
    "collapsed": true
   },
   "outputs": [],
   "source": [
    "sns.set_context(\"paper\")"
   ]
  },
  {
   "cell_type": "code",
   "execution_count": 142,
   "metadata": {
    "ExecuteTime": {
     "end_time": "2017-04-20T01:18:23.530501",
     "start_time": "2017-04-20T01:18:23.499658"
    },
    "collapsed": false
   },
   "outputs": [
    {
     "data": {
      "text/html": [
       "<div>\n",
       "<table border=\"1\" class=\"dataframe\">\n",
       "  <thead>\n",
       "    <tr style=\"text-align: right;\">\n",
       "      <th></th>\n",
       "      <th>birthdate</th>\n",
       "    </tr>\n",
       "  </thead>\n",
       "  <tbody>\n",
       "    <tr>\n",
       "      <th>2016-06-28</th>\n",
       "      <td>0.0</td>\n",
       "    </tr>\n",
       "    <tr>\n",
       "      <th>2016-06-29</th>\n",
       "      <td>0.0</td>\n",
       "    </tr>\n",
       "    <tr>\n",
       "      <th>2016-06-30</th>\n",
       "      <td>0.0</td>\n",
       "    </tr>\n",
       "    <tr>\n",
       "      <th>2016-07-01</th>\n",
       "      <td>0.0</td>\n",
       "    </tr>\n",
       "    <tr>\n",
       "      <th>2016-07-02</th>\n",
       "      <td>0.0</td>\n",
       "    </tr>\n",
       "    <tr>\n",
       "      <th>2016-07-03</th>\n",
       "      <td>0.0</td>\n",
       "    </tr>\n",
       "    <tr>\n",
       "      <th>2016-07-04</th>\n",
       "      <td>0.0</td>\n",
       "    </tr>\n",
       "    <tr>\n",
       "      <th>2016-07-05</th>\n",
       "      <td>0.0</td>\n",
       "    </tr>\n",
       "    <tr>\n",
       "      <th>2016-07-06</th>\n",
       "      <td>0.0</td>\n",
       "    </tr>\n",
       "    <tr>\n",
       "      <th>2016-07-07</th>\n",
       "      <td>0.0</td>\n",
       "    </tr>\n",
       "    <tr>\n",
       "      <th>2016-07-08</th>\n",
       "      <td>0.0</td>\n",
       "    </tr>\n",
       "    <tr>\n",
       "      <th>2016-07-09</th>\n",
       "      <td>0.0</td>\n",
       "    </tr>\n",
       "    <tr>\n",
       "      <th>2016-07-10</th>\n",
       "      <td>0.0</td>\n",
       "    </tr>\n",
       "    <tr>\n",
       "      <th>2016-07-11</th>\n",
       "      <td>0.0</td>\n",
       "    </tr>\n",
       "    <tr>\n",
       "      <th>2016-07-12</th>\n",
       "      <td>0.0</td>\n",
       "    </tr>\n",
       "    <tr>\n",
       "      <th>2016-07-13</th>\n",
       "      <td>0.0</td>\n",
       "    </tr>\n",
       "    <tr>\n",
       "      <th>2016-07-14</th>\n",
       "      <td>0.0</td>\n",
       "    </tr>\n",
       "    <tr>\n",
       "      <th>2016-07-15</th>\n",
       "      <td>0.0</td>\n",
       "    </tr>\n",
       "    <tr>\n",
       "      <th>2016-07-16</th>\n",
       "      <td>0.0</td>\n",
       "    </tr>\n",
       "    <tr>\n",
       "      <th>2016-07-17</th>\n",
       "      <td>0.0</td>\n",
       "    </tr>\n",
       "    <tr>\n",
       "      <th>2016-07-18</th>\n",
       "      <td>0.0</td>\n",
       "    </tr>\n",
       "    <tr>\n",
       "      <th>2016-07-19</th>\n",
       "      <td>0.0</td>\n",
       "    </tr>\n",
       "    <tr>\n",
       "      <th>2016-07-20</th>\n",
       "      <td>0.0</td>\n",
       "    </tr>\n",
       "    <tr>\n",
       "      <th>2016-07-21</th>\n",
       "      <td>0.0</td>\n",
       "    </tr>\n",
       "    <tr>\n",
       "      <th>2016-07-22</th>\n",
       "      <td>0.0</td>\n",
       "    </tr>\n",
       "    <tr>\n",
       "      <th>2016-07-23</th>\n",
       "      <td>0.0</td>\n",
       "    </tr>\n",
       "    <tr>\n",
       "      <th>2016-07-24</th>\n",
       "      <td>0.0</td>\n",
       "    </tr>\n",
       "    <tr>\n",
       "      <th>2016-07-25</th>\n",
       "      <td>0.0</td>\n",
       "    </tr>\n",
       "    <tr>\n",
       "      <th>2016-07-26</th>\n",
       "      <td>0.0</td>\n",
       "    </tr>\n",
       "    <tr>\n",
       "      <th>2016-07-27</th>\n",
       "      <td>0.0</td>\n",
       "    </tr>\n",
       "    <tr>\n",
       "      <th>...</th>\n",
       "      <td>...</td>\n",
       "    </tr>\n",
       "    <tr>\n",
       "      <th>2016-08-04</th>\n",
       "      <td>0.0</td>\n",
       "    </tr>\n",
       "    <tr>\n",
       "      <th>2016-08-05</th>\n",
       "      <td>0.0</td>\n",
       "    </tr>\n",
       "    <tr>\n",
       "      <th>2016-08-06</th>\n",
       "      <td>0.0</td>\n",
       "    </tr>\n",
       "    <tr>\n",
       "      <th>2016-08-07</th>\n",
       "      <td>0.0</td>\n",
       "    </tr>\n",
       "    <tr>\n",
       "      <th>2016-08-08</th>\n",
       "      <td>1.0</td>\n",
       "    </tr>\n",
       "    <tr>\n",
       "      <th>2016-08-09</th>\n",
       "      <td>0.0</td>\n",
       "    </tr>\n",
       "    <tr>\n",
       "      <th>2016-08-10</th>\n",
       "      <td>0.0</td>\n",
       "    </tr>\n",
       "    <tr>\n",
       "      <th>2016-08-11</th>\n",
       "      <td>0.0</td>\n",
       "    </tr>\n",
       "    <tr>\n",
       "      <th>2016-08-12</th>\n",
       "      <td>0.0</td>\n",
       "    </tr>\n",
       "    <tr>\n",
       "      <th>2016-08-13</th>\n",
       "      <td>0.0</td>\n",
       "    </tr>\n",
       "    <tr>\n",
       "      <th>2016-08-14</th>\n",
       "      <td>0.0</td>\n",
       "    </tr>\n",
       "    <tr>\n",
       "      <th>2016-08-15</th>\n",
       "      <td>0.0</td>\n",
       "    </tr>\n",
       "    <tr>\n",
       "      <th>2016-08-16</th>\n",
       "      <td>1.0</td>\n",
       "    </tr>\n",
       "    <tr>\n",
       "      <th>2016-08-17</th>\n",
       "      <td>0.0</td>\n",
       "    </tr>\n",
       "    <tr>\n",
       "      <th>2016-08-18</th>\n",
       "      <td>0.0</td>\n",
       "    </tr>\n",
       "    <tr>\n",
       "      <th>2016-08-19</th>\n",
       "      <td>0.0</td>\n",
       "    </tr>\n",
       "    <tr>\n",
       "      <th>2016-08-20</th>\n",
       "      <td>0.0</td>\n",
       "    </tr>\n",
       "    <tr>\n",
       "      <th>2016-08-21</th>\n",
       "      <td>0.0</td>\n",
       "    </tr>\n",
       "    <tr>\n",
       "      <th>2016-08-22</th>\n",
       "      <td>0.0</td>\n",
       "    </tr>\n",
       "    <tr>\n",
       "      <th>2016-08-23</th>\n",
       "      <td>0.0</td>\n",
       "    </tr>\n",
       "    <tr>\n",
       "      <th>2016-08-24</th>\n",
       "      <td>0.0</td>\n",
       "    </tr>\n",
       "    <tr>\n",
       "      <th>2016-08-25</th>\n",
       "      <td>0.0</td>\n",
       "    </tr>\n",
       "    <tr>\n",
       "      <th>2016-08-26</th>\n",
       "      <td>0.0</td>\n",
       "    </tr>\n",
       "    <tr>\n",
       "      <th>2016-08-27</th>\n",
       "      <td>0.0</td>\n",
       "    </tr>\n",
       "    <tr>\n",
       "      <th>2016-08-28</th>\n",
       "      <td>0.0</td>\n",
       "    </tr>\n",
       "    <tr>\n",
       "      <th>2016-08-29</th>\n",
       "      <td>0.0</td>\n",
       "    </tr>\n",
       "    <tr>\n",
       "      <th>2016-08-30</th>\n",
       "      <td>0.0</td>\n",
       "    </tr>\n",
       "    <tr>\n",
       "      <th>2016-08-31</th>\n",
       "      <td>0.0</td>\n",
       "    </tr>\n",
       "    <tr>\n",
       "      <th>2016-09-01</th>\n",
       "      <td>0.0</td>\n",
       "    </tr>\n",
       "    <tr>\n",
       "      <th>2016-09-02</th>\n",
       "      <td>0.0</td>\n",
       "    </tr>\n",
       "  </tbody>\n",
       "</table>\n",
       "<p>67 rows × 1 columns</p>\n",
       "</div>"
      ],
      "text/plain": [
       "            birthdate\n",
       "2016-06-28        0.0\n",
       "2016-06-29        0.0\n",
       "2016-06-30        0.0\n",
       "2016-07-01        0.0\n",
       "2016-07-02        0.0\n",
       "2016-07-03        0.0\n",
       "2016-07-04        0.0\n",
       "2016-07-05        0.0\n",
       "2016-07-06        0.0\n",
       "2016-07-07        0.0\n",
       "2016-07-08        0.0\n",
       "2016-07-09        0.0\n",
       "2016-07-10        0.0\n",
       "2016-07-11        0.0\n",
       "2016-07-12        0.0\n",
       "2016-07-13        0.0\n",
       "2016-07-14        0.0\n",
       "2016-07-15        0.0\n",
       "2016-07-16        0.0\n",
       "2016-07-17        0.0\n",
       "2016-07-18        0.0\n",
       "2016-07-19        0.0\n",
       "2016-07-20        0.0\n",
       "2016-07-21        0.0\n",
       "2016-07-22        0.0\n",
       "2016-07-23        0.0\n",
       "2016-07-24        0.0\n",
       "2016-07-25        0.0\n",
       "2016-07-26        0.0\n",
       "2016-07-27        0.0\n",
       "...               ...\n",
       "2016-08-04        0.0\n",
       "2016-08-05        0.0\n",
       "2016-08-06        0.0\n",
       "2016-08-07        0.0\n",
       "2016-08-08        1.0\n",
       "2016-08-09        0.0\n",
       "2016-08-10        0.0\n",
       "2016-08-11        0.0\n",
       "2016-08-12        0.0\n",
       "2016-08-13        0.0\n",
       "2016-08-14        0.0\n",
       "2016-08-15        0.0\n",
       "2016-08-16        1.0\n",
       "2016-08-17        0.0\n",
       "2016-08-18        0.0\n",
       "2016-08-19        0.0\n",
       "2016-08-20        0.0\n",
       "2016-08-21        0.0\n",
       "2016-08-22        0.0\n",
       "2016-08-23        0.0\n",
       "2016-08-24        0.0\n",
       "2016-08-25        0.0\n",
       "2016-08-26        0.0\n",
       "2016-08-27        0.0\n",
       "2016-08-28        0.0\n",
       "2016-08-29        0.0\n",
       "2016-08-30        0.0\n",
       "2016-08-31        0.0\n",
       "2016-09-01        0.0\n",
       "2016-09-02        0.0\n",
       "\n",
       "[67 rows x 1 columns]"
      ]
     },
     "execution_count": 142,
     "metadata": {},
     "output_type": "execute_result"
    }
   ],
   "source": [
    "res"
   ]
  },
  {
   "cell_type": "code",
   "execution_count": 141,
   "metadata": {
    "ExecuteTime": {
     "end_time": "2017-04-20T01:17:33.667780",
     "start_time": "2017-04-20T01:17:33.207747"
    },
    "collapsed": false,
    "scrolled": false
   },
   "outputs": [
    {
     "data": {
      "image/png": "[encoded data removed]",
      "text/plain": [
       "<matplotlib.figure.Figure at 0x7f89187a49b0>"
      ]
     },
     "metadata": {},
     "output_type": "display_data"
    }
   ],
   "source": [
    "fig, ax = plt.subplots()\n",
    "res.plot.area(legend=False, ax=ax)\n",
    "ax.set_ylabel(\"Number of bees\")\n",
    "ax.set_xlabel(\"Tagging peroid\")\n",
    "labels = ax.get_xticklabels()\n",
    "ax.set_xticklabels(labels, rotation=45)\n",
    "fig.set_size_inches(5.91553,3)\n",
    "#plt.axvline(21, color='0.25', linestyle='dashed', linewidth=1)\n",
    "#plt.text(22.1,120,'Start of recording',rotation=90)\n",
    "plt.tight_layout()\n",
    "#plt.savefig('tagging_period.pdf')"
   ]
  },
  {
   "cell_type": "markdown",
   "metadata": {},
   "source": [
    "# Wo ist genau die Hälfte getagged worden an welchem Tag?"
   ]
  },
  {
   "cell_type": "code",
   "execution_count": 32,
   "metadata": {
    "ExecuteTime": {
     "end_time": "2017-02-24T17:49:29.794113",
     "start_time": "2017-02-24T17:49:29.783088"
    },
    "collapsed": false
   },
   "outputs": [
    {
     "data": {
      "text/html": [
       "<div>\n",
       "<table border=\"1\" class=\"dataframe\">\n",
       "  <thead>\n",
       "    <tr style=\"text-align: right;\">\n",
       "      <th></th>\n",
       "      <th>birthdate</th>\n",
       "    </tr>\n",
       "  </thead>\n",
       "  <tbody>\n",
       "    <tr>\n",
       "      <th>2016-06-28</th>\n",
       "      <td>118.0</td>\n",
       "    </tr>\n",
       "    <tr>\n",
       "      <th>2016-06-29</th>\n",
       "      <td>96.0</td>\n",
       "    </tr>\n",
       "    <tr>\n",
       "      <th>2016-06-30</th>\n",
       "      <td>65.0</td>\n",
       "    </tr>\n",
       "    <tr>\n",
       "      <th>2016-07-01</th>\n",
       "      <td>155.0</td>\n",
       "    </tr>\n",
       "    <tr>\n",
       "      <th>2016-07-02</th>\n",
       "      <td>0.0</td>\n",
       "    </tr>\n",
       "  </tbody>\n",
       "</table>\n",
       "</div>"
      ],
      "text/plain": [
       "            birthdate\n",
       "2016-06-28      118.0\n",
       "2016-06-29       96.0\n",
       "2016-06-30       65.0\n",
       "2016-07-01      155.0\n",
       "2016-07-02        0.0"
      ]
     },
     "execution_count": 32,
     "metadata": {},
     "output_type": "execute_result"
    }
   ],
   "source": [
    "res.head()"
   ]
  },
  {
   "cell_type": "code",
   "execution_count": 33,
   "metadata": {
    "ExecuteTime": {
     "end_time": "2017-02-24T17:49:30.892759",
     "start_time": "2017-02-24T17:49:30.875280"
    },
    "collapsed": false
   },
   "outputs": [
    {
     "data": {
      "text/plain": [
       "count     35.000000\n",
       "mean      91.171429\n",
       "std       50.397529\n",
       "min        1.000000\n",
       "25%       52.000000\n",
       "50%      118.000000\n",
       "75%      128.000000\n",
       "max      155.000000\n",
       "Name: birthdate, dtype: float64"
      ]
     },
     "execution_count": 33,
     "metadata": {},
     "output_type": "execute_result"
    }
   ],
   "source": [
    "res[res.birthdate > 0].birthdate.describe()"
   ]
  },
  {
   "cell_type": "code",
   "execution_count": 36,
   "metadata": {
    "ExecuteTime": {
     "end_time": "2017-02-24T17:49:51.876914",
     "start_time": "2017-02-24T17:49:51.862673"
    },
    "collapsed": false
   },
   "outputs": [],
   "source": [
    "total = 2**11"
   ]
  },
  {
   "cell_type": "code",
   "execution_count": 37,
   "metadata": {
    "ExecuteTime": {
     "end_time": "2017-02-24T17:49:52.944284",
     "start_time": "2017-02-24T17:49:52.936696"
    },
    "collapsed": false
   },
   "outputs": [
    {
     "data": {
      "text/plain": [
       "2048"
      ]
     },
     "execution_count": 37,
     "metadata": {},
     "output_type": "execute_result"
    }
   ],
   "source": [
    "total"
   ]
  },
  {
   "cell_type": "code",
   "execution_count": 45,
   "metadata": {
    "ExecuteTime": {
     "end_time": "2017-02-27T09:52:05.326779",
     "start_time": "2017-02-27T09:52:05.293250"
    },
    "collapsed": false
   },
   "outputs": [
    {
     "name": "stdout",
     "output_type": "stream",
     "text": [
      "118.0\n",
      "2016-06-28\n",
      "214.0\n",
      "2016-06-29\n",
      "279.0\n",
      "2016-06-30\n",
      "434.0\n",
      "2016-07-01\n",
      "434.0\n",
      "2016-07-02\n",
      "434.0\n",
      "2016-07-03\n",
      "562.0\n",
      "2016-07-04\n",
      "690.0\n",
      "2016-07-05\n",
      "818.0\n",
      "2016-07-06\n",
      "946.0\n",
      "2016-07-07\n",
      "946.0\n",
      "2016-07-08\n",
      "946.0\n",
      "2016-07-09\n",
      "946.0\n",
      "2016-07-10\n",
      "1011.0\n",
      "2016-07-11\n",
      "1050.0\n",
      "2016-07-12\n",
      "1176.0\n",
      "2016-07-13\n",
      "1299.0\n",
      "2016-07-14\n",
      "1406.0\n",
      "2016-07-15\n",
      "1406.0\n",
      "2016-07-16\n",
      "1406.0\n",
      "2016-07-17\n",
      "1406.0\n",
      "2016-07-18\n",
      "1449.0\n",
      "2016-07-19\n",
      "1581.0\n",
      "2016-07-20\n",
      "1730.0\n",
      "2016-07-21\n",
      "1861.0\n",
      "2016-07-22\n",
      "1861.0\n",
      "2016-07-23\n",
      "1861.0\n",
      "2016-07-24\n",
      "1893.0\n",
      "2016-07-25\n",
      "2014.0\n",
      "2016-07-26\n",
      "2142.0\n",
      "2016-07-27\n",
      "2016-07-27\n"
     ]
    }
   ],
   "source": [
    "cumm = 0\n",
    "for d,bday in res.iterrows():\n",
    "    cumm += bday[0]\n",
    "    print(cumm)\n",
    "    print(d)\n",
    "    if cumm >= 2048:\n",
    "        print(d)\n",
    "        break"
   ]
  },
  {
   "cell_type": "code",
   "execution_count": 44,
   "metadata": {
    "ExecuteTime": {
     "end_time": "2017-02-27T09:51:09.734892",
     "start_time": "2017-02-27T09:51:09.727063"
    },
    "collapsed": false
   },
   "outputs": [
    {
     "data": {
      "text/plain": [
       "94"
      ]
     },
     "execution_count": 44,
     "metadata": {},
     "output_type": "execute_result"
    }
   ],
   "source": [
    "2142-2048"
   ]
  },
  {
   "cell_type": "markdown",
   "metadata": {},
   "source": [
    "# Testing the Confidence - Evaluation Confidence"
   ]
  },
  {
   "cell_type": "markdown",
   "metadata": {},
   "source": [
    "* 5 Minuten Datensatz\n",
    "* detections mit confidence filtern (0.02er Schritte)\n",
    "* abgleichen mit Geburtsdatum"
   ]
  },
  {
   "cell_type": "code",
   "execution_count": 299,
   "metadata": {
    "ExecuteTime": {
     "end_time": "2017-02-16T19:58:07.933058",
     "start_time": "2017-02-16T19:58:07.920400"
    },
    "collapsed": false
   },
   "outputs": [],
   "source": [
    "import hatching as ht"
   ]
  },
  {
   "cell_type": "code",
   "execution_count": 586,
   "metadata": {
    "ExecuteTime": {
     "end_time": "2017-02-17T10:45:24.332894",
     "start_time": "2017-02-17T10:45:24.320184"
    },
    "collapsed": false
   },
   "outputs": [
    {
     "data": {
      "text/plain": [
       "array([ 0.  ,  0.02,  0.04,  0.06,  0.08,  0.1 ,  0.12,  0.14,  0.16,\n",
       "        0.18,  0.2 ,  0.22,  0.24,  0.26,  0.28,  0.3 ,  0.32,  0.34,\n",
       "        0.36,  0.38,  0.4 ,  0.42,  0.44,  0.46,  0.48,  0.5 ,  0.52,\n",
       "        0.54,  0.56,  0.58,  0.6 ,  0.62,  0.64,  0.66,  0.68,  0.7 ,\n",
       "        0.72,  0.74,  0.76,  0.78,  0.8 ,  0.82,  0.84,  0.86,  0.88,\n",
       "        0.9 ,  0.92,  0.94,  0.96,  0.98,  1.  ])"
      ]
     },
     "execution_count": 586,
     "metadata": {},
     "output_type": "execute_result"
    }
   ],
   "source": [
    "np.arange(0,1.02,0.02)"
   ]
  },
  {
   "cell_type": "code",
   "execution_count": 713,
   "metadata": {
    "ExecuteTime": {
     "end_time": "2017-02-17T11:26:51.644491",
     "start_time": "2017-02-17T11:26:51.622861"
    },
    "collapsed": true
   },
   "outputs": [],
   "source": [
    "def get_all_bees_age(datum):\n",
    "    # Input: date object\n",
    "    # Output: pandas dataframe\n",
    "    if isinstance(datum, datetime.datetime):\n",
    "        datum = datum.date()\n",
    "    \n",
    "    ages = []\n",
    "    \n",
    "    f = pd.read_csv('hatchdates2016.csv')\n",
    "    f = f[[0,2]]\n",
    "    f = f.fillna('')\n",
    "    f.birthdate = f.birthdate.apply(lambda x: ht.str_to_datetime(x))\n",
    "    f['age'] = f.birthdate.apply(lambda x: (datum - x.date()))\n",
    "    f.age.fillna(-1, inplace = True)\n",
    "    f.age = f.age.apply(lambda x: x.days)\n",
    "    return f"
   ]
  },
  {
   "cell_type": "code",
   "execution_count": 714,
   "metadata": {
    "ExecuteTime": {
     "end_time": "2017-02-17T11:26:52.596111",
     "start_time": "2017-02-17T11:26:52.357469"
    },
    "collapsed": false
   },
   "outputs": [],
   "source": [
    "aa = get_all_bees_age(start_dt)"
   ]
  },
  {
   "cell_type": "code",
   "execution_count": 715,
   "metadata": {
    "ExecuteTime": {
     "end_time": "2017-02-17T11:26:52.979640",
     "start_time": "2017-02-17T11:26:52.770731"
    },
    "collapsed": false
   },
   "outputs": [
    {
     "data": {
      "text/html": [
       "<div>\n",
       "<table border=\"1\" class=\"dataframe\">\n",
       "  <thead>\n",
       "    <tr style=\"text-align: right;\">\n",
       "      <th></th>\n",
       "      <th>dec12</th>\n",
       "      <th>birthdate</th>\n",
       "      <th>age</th>\n",
       "    </tr>\n",
       "  </thead>\n",
       "  <tbody>\n",
       "    <tr>\n",
       "      <th>0</th>\n",
       "      <td>0</td>\n",
       "      <td>NaT</td>\n",
       "      <td>-1</td>\n",
       "    </tr>\n",
       "    <tr>\n",
       "      <th>1</th>\n",
       "      <td>1</td>\n",
       "      <td>2016-07-28</td>\n",
       "      <td>-7</td>\n",
       "    </tr>\n",
       "    <tr>\n",
       "      <th>2</th>\n",
       "      <td>2</td>\n",
       "      <td>NaT</td>\n",
       "      <td>-1</td>\n",
       "    </tr>\n",
       "    <tr>\n",
       "      <th>3</th>\n",
       "      <td>3</td>\n",
       "      <td>2016-07-06</td>\n",
       "      <td>15</td>\n",
       "    </tr>\n",
       "    <tr>\n",
       "      <th>4</th>\n",
       "      <td>4</td>\n",
       "      <td>2016-08-22</td>\n",
       "      <td>-32</td>\n",
       "    </tr>\n",
       "  </tbody>\n",
       "</table>\n",
       "</div>"
      ],
      "text/plain": [
       "   dec12  birthdate  age\n",
       "0      0        NaT   -1\n",
       "1      1 2016-07-28   -7\n",
       "2      2        NaT   -1\n",
       "3      3 2016-07-06   15\n",
       "4      4 2016-08-22  -32"
      ]
     },
     "execution_count": 715,
     "metadata": {},
     "output_type": "execute_result"
    }
   ],
   "source": [
    "aa.head()"
   ]
  },
  {
   "cell_type": "code",
   "execution_count": 914,
   "metadata": {
    "ExecuteTime": {
     "end_time": "2017-02-17T16:11:39.884692",
     "start_time": "2017-02-17T16:11:39.855028"
    },
    "collapsed": false
   },
   "outputs": [],
   "source": [
    "def testQuality(df, start_dt, name, sampleSize=100000):\n",
    "    \n",
    "    aa = get_all_bees_age(start_dt)\n",
    "    \n",
    "    quality = []\n",
    "\n",
    "    for i in [0.95]:\n",
    "        ids = prep.calcIds(df, i, 2016)\n",
    "        total = df.shape[0]\n",
    "        rows = ids.shape[0] # total detections with confidence\n",
    "\n",
    "        ids_sample = ids.sample(sampleSize)\n",
    "        #ids_sample = ids\n",
    "        ids_sample[\"age\"] = ids_sample.id.apply(lambda x: aa.iloc[x].age)\n",
    "        age = ids_sample.age\n",
    "\n",
    "        ageWrong = len(age[age < 0])\n",
    "        ageRight = len(age[age >= 0 ])\n",
    "\n",
    "        quality.append((i, ageWrong, ageRight, rows, total, sampleSize))\n",
    "        print(\".\", end='')\n",
    "    \n",
    "    qualityDF = DataFrame(quality, columns=['confidence', 'wrong', 'right', 'rows', 'total', 'sampleSize'])\n",
    "    qualityDF.to_pickle('qualityDF-{}.pickle'.format(name))\n",
    "    return qualityDF"
   ]
  },
  {
   "cell_type": "code",
   "execution_count": 915,
   "metadata": {
    "ExecuteTime": {
     "end_time": "2017-02-17T16:12:53.278075",
     "start_time": "2017-02-17T16:11:51.796529"
    },
    "collapsed": false
   },
   "outputs": [
    {
     "name": "stdout",
     "output_type": "stream",
     "text": [
      "."
     ]
    }
   ],
   "source": [
    "q95 = testQuality(dfall, start_dt, \"all cameras\")"
   ]
  },
  {
   "cell_type": "markdown",
   "metadata": {},
   "source": [
    "## For 0.95 Confidence"
   ]
  },
  {
   "cell_type": "code",
   "execution_count": 918,
   "metadata": {
    "ExecuteTime": {
     "end_time": "2017-02-17T16:13:54.821698",
     "start_time": "2017-02-17T16:13:54.798545"
    },
    "collapsed": false
   },
   "outputs": [
    {
     "data": {
      "text/html": [
       "<div>\n",
       "<table border=\"1\" class=\"dataframe\">\n",
       "  <thead>\n",
       "    <tr style=\"text-align: right;\">\n",
       "      <th></th>\n",
       "      <th>confidence</th>\n",
       "      <th>wrong</th>\n",
       "      <th>right</th>\n",
       "      <th>rows</th>\n",
       "      <th>total</th>\n",
       "      <th>sampleSize</th>\n",
       "      <th>wrong2</th>\n",
       "      <th>wrong2p</th>\n",
       "      <th>rowsp</th>\n",
       "      <th>c</th>\n",
       "    </tr>\n",
       "  </thead>\n",
       "  <tbody>\n",
       "    <tr>\n",
       "      <th>0</th>\n",
       "      <td>0.95</td>\n",
       "      <td>3044</td>\n",
       "      <td>96956</td>\n",
       "      <td>269138</td>\n",
       "      <td>455090</td>\n",
       "      <td>100000</td>\n",
       "      <td>6088</td>\n",
       "      <td>6.088</td>\n",
       "      <td>59.139511</td>\n",
       "      <td>95.0</td>\n",
       "    </tr>\n",
       "  </tbody>\n",
       "</table>\n",
       "</div>"
      ],
      "text/plain": [
       "   confidence  wrong  right    rows   total  sampleSize  wrong2  wrong2p  \\\n",
       "0        0.95   3044  96956  269138  455090      100000    6088    6.088   \n",
       "\n",
       "       rowsp     c  \n",
       "0  59.139511  95.0  "
      ]
     },
     "execution_count": 918,
     "metadata": {},
     "output_type": "execute_result"
    }
   ],
   "source": [
    "q95"
   ]
  },
  {
   "cell_type": "code",
   "execution_count": 917,
   "metadata": {
    "ExecuteTime": {
     "end_time": "2017-02-17T16:13:53.082868",
     "start_time": "2017-02-17T16:13:53.064885"
    },
    "collapsed": true
   },
   "outputs": [],
   "source": [
    "q95['wrong2'] = q95.wrong*2\n",
    "q95['wrong2p'] = 100*q95.wrong2/q95.sampleSize\n",
    "q95['rowsp'] = 100*q95.rows/q95.total\n",
    "q95['c'] = q95.confidence *100 "
   ]
  },
  {
   "cell_type": "code",
   "execution_count": null,
   "metadata": {
    "collapsed": true
   },
   "outputs": [],
   "source": [
    "np.arange(0,1.02,0.02)"
   ]
  },
  {
   "cell_type": "code",
   "execution_count": 888,
   "metadata": {
    "ExecuteTime": {
     "end_time": "2017-02-17T14:41:36.091058",
     "start_time": "2017-02-17T14:41:35.982702"
    },
    "collapsed": false
   },
   "outputs": [],
   "source": [
    "dfall = pd.concat([df0,df1,df2,df3])"
   ]
  },
  {
   "cell_type": "code",
   "execution_count": 903,
   "metadata": {
    "ExecuteTime": {
     "end_time": "2017-02-17T15:41:27.731495",
     "start_time": "2017-02-17T14:46:28.366170"
    },
    "collapsed": false
   },
   "outputs": [
    {
     "name": "stdout",
     "output_type": "stream",
     "text": [
      "..................................................."
     ]
    }
   ],
   "source": [
    "q = testQuality(dfall, start_dt, \"all cameras\")"
   ]
  },
  {
   "cell_type": "code",
   "execution_count": 904,
   "metadata": {
    "ExecuteTime": {
     "end_time": "2017-02-17T15:41:32.899844",
     "start_time": "2017-02-17T15:41:32.875389"
    },
    "collapsed": false
   },
   "outputs": [
    {
     "data": {
      "text/html": [
       "<div>\n",
       "<table border=\"1\" class=\"dataframe\">\n",
       "  <thead>\n",
       "    <tr style=\"text-align: right;\">\n",
       "      <th></th>\n",
       "      <th>confidence</th>\n",
       "      <th>wrong</th>\n",
       "      <th>right</th>\n",
       "      <th>rows</th>\n",
       "      <th>total</th>\n",
       "      <th>sampleSize</th>\n",
       "    </tr>\n",
       "  </thead>\n",
       "  <tbody>\n",
       "    <tr>\n",
       "      <th>0</th>\n",
       "      <td>0.00</td>\n",
       "      <td>18001</td>\n",
       "      <td>81999</td>\n",
       "      <td>455090</td>\n",
       "      <td>455090</td>\n",
       "      <td>100000</td>\n",
       "    </tr>\n",
       "    <tr>\n",
       "      <th>1</th>\n",
       "      <td>0.02</td>\n",
       "      <td>16893</td>\n",
       "      <td>83107</td>\n",
       "      <td>445213</td>\n",
       "      <td>455090</td>\n",
       "      <td>100000</td>\n",
       "    </tr>\n",
       "    <tr>\n",
       "      <th>2</th>\n",
       "      <td>0.04</td>\n",
       "      <td>16472</td>\n",
       "      <td>83528</td>\n",
       "      <td>439454</td>\n",
       "      <td>455090</td>\n",
       "      <td>100000</td>\n",
       "    </tr>\n",
       "    <tr>\n",
       "      <th>3</th>\n",
       "      <td>0.06</td>\n",
       "      <td>15582</td>\n",
       "      <td>84418</td>\n",
       "      <td>431842</td>\n",
       "      <td>455090</td>\n",
       "      <td>100000</td>\n",
       "    </tr>\n",
       "    <tr>\n",
       "      <th>4</th>\n",
       "      <td>0.08</td>\n",
       "      <td>15171</td>\n",
       "      <td>84829</td>\n",
       "      <td>427285</td>\n",
       "      <td>455090</td>\n",
       "      <td>100000</td>\n",
       "    </tr>\n",
       "  </tbody>\n",
       "</table>\n",
       "</div>"
      ],
      "text/plain": [
       "   confidence  wrong  right    rows   total  sampleSize\n",
       "0        0.00  18001  81999  455090  455090      100000\n",
       "1        0.02  16893  83107  445213  455090      100000\n",
       "2        0.04  16472  83528  439454  455090      100000\n",
       "3        0.06  15582  84418  431842  455090      100000\n",
       "4        0.08  15171  84829  427285  455090      100000"
      ]
     },
     "execution_count": 904,
     "metadata": {},
     "output_type": "execute_result"
    }
   ],
   "source": [
    "q.head()"
   ]
  },
  {
   "cell_type": "code",
   "execution_count": 949,
   "metadata": {
    "ExecuteTime": {
     "end_time": "2017-02-17T16:35:30.830800",
     "start_time": "2017-02-17T16:35:30.791995"
    },
    "collapsed": true
   },
   "outputs": [],
   "source": [
    "def plotConfidenc(q, text):\n",
    "    \n",
    "    fig, ax = plt.subplots()\n",
    "    q['wrong2'] = q.wrong*2\n",
    "    q['wrong2p'] = 100*q.wrong2/q.sampleSize\n",
    "    q['rowsp'] = 100*q.rows/q.total\n",
    "    q['c'] = q.confidence *100 \n",
    "    ax = q.plot(x='c', y=['rowsp', 'wrong2p'], stacked=False, kind='area', alpha=0.75, ax=ax, colormap='summer')\n",
    "    ax.set_title('Tradeoff: confidence, wrong detection, \\n and amount of data ({})'.format(text))\n",
    "    ax.set_xlabel('Confidence in %')\n",
    "    ax.set_ylabel('Amount of data in %')\n",
    "    ax.legend(['Remaining data', 'Wrong detections'])\n",
    "    # Confidence\n",
    "    plt.axvline(95, color='0.25', linestyle='dashed', linewidth=1)\n",
    "    plt.text(88,20,'95%',rotation=0)\n",
    "    # Data 59.139511\n",
    "    plt.axhline(59.139511, color='0.25', linestyle='dotted', linewidth=1)\n",
    "    plt.text(5,61,'~59%',rotation=0)\n",
    "    # Error 6.088\n",
    "    plt.axhline(6.0881, color='0.25', linestyle='dotted', linewidth=1)\n",
    "    plt.text(5,8,'~6%',rotation=0)\n",
    "    fig.set_size_inches(5.91553,4)\n",
    "    plt.tight_layout()\n",
    "    print(q[q.confidence >= 0.8])\n",
    "    plt.savefig('tradeoff.pdf')"
   ]
  },
  {
   "cell_type": "code",
   "execution_count": 950,
   "metadata": {
    "ExecuteTime": {
     "end_time": "2017-02-17T16:35:31.678884",
     "start_time": "2017-02-17T16:35:31.114427"
    },
    "collapsed": false
   },
   "outputs": [
    {
     "name": "stdout",
     "output_type": "stream",
     "text": [
      "    confidence  wrong  right    rows   total  sampleSize  wrong2  wrong2p  \\\n",
      "40        0.80   4850  95150  316873  455090      100000    9700    9.700   \n",
      "41        0.82   4656  95344  312269  455090      100000    9312    9.312   \n",
      "42        0.84   4436  95564  308822  455090      100000    8872    8.872   \n",
      "43        0.86   4126  95874  303212  455090      100000    8252    8.252   \n",
      "44        0.88   4054  95946  298988  455090      100000    8108    8.108   \n",
      "45        0.90   3712  96288  291640  455090      100000    7424    7.424   \n",
      "46        0.92   3505  96495  285679  455090      100000    7010    7.010   \n",
      "47        0.94   3052  96948  274063  455090      100000    6104    6.104   \n",
      "48        0.96   2805  97195  263330  455090      100000    5610    5.610   \n",
      "49        0.98   2345  97655  234008  455090      100000    4690    4.690   \n",
      "50        1.00   1785  98215  165339  455090      100000    3570    3.570   \n",
      "\n",
      "        rowsp      c  \n",
      "40  69.628645   80.0  \n",
      "41  68.616977   82.0  \n",
      "42  67.859544   84.0  \n",
      "43  66.626821   86.0  \n",
      "44  65.698653   88.0  \n",
      "45  64.084027   90.0  \n",
      "46  62.774177   92.0  \n",
      "47  60.221714   94.0  \n",
      "48  57.863280   96.0  \n",
      "49  51.420159   98.0  \n",
      "50  36.331055  100.0  \n"
     ]
    },
    {
     "name": "stderr",
     "output_type": "stream",
     "text": [
      "/usr/local/lib/python3.5/dist-packages/matplotlib/font_manager.py:1288: UserWarning: findfont: Font family ['Roboto'] not found. Falling back to Bitstream Vera Sans\n",
      "  (prop.get_family(), self.defaultFamily[fontext]))\n"
     ]
    },
    {
     "data": {
      "image/png": "[encoded data removed]",
      "text/plain": [
       "<matplotlib.figure.Figure at 0x7f2501603ba8>"
      ]
     },
     "metadata": {},
     "output_type": "display_data"
    }
   ],
   "source": [
    "plotConfidenc(q, 'all cameras')"
   ]
  },
  {
   "cell_type": "code",
   "execution_count": null,
   "metadata": {
    "collapsed": true
   },
   "outputs": [],
   "source": []
  }
 ],
 "metadata": {
  "anaconda-cloud": {},
  "kernelspec": {
   "display_name": "Python [default]",
   "language": "python",
   "name": "python3"
  },
  "language_info": {
   "codemirror_mode": {
    "name": "ipython",
    "version": 3
   },
   "file_extension": ".py",
   "mimetype": "text/x-python",
   "name": "python",
   "nbconvert_exporter": "python",
   "pygments_lexer": "ipython3",
   "version": "3.5.2"
  },
  "toc": {
   "colors": {
    "hover_highlight": "#DAA520",
    "running_highlight": "#FF0000",
    "selected_highlight": "#FFD700"
   },
   "moveMenuLeft": true,
   "nav_menu": {
    "height": "81px",
    "width": "252px"
   },
   "navigate_menu": true,
   "number_sections": true,
   "sideBar": true,
   "threshold": 4,
   "toc_cell": false,
   "toc_section_display": "block",
   "toc_window_display": true
  }
 },
 "nbformat": 4,
 "nbformat_minor": 2
}
