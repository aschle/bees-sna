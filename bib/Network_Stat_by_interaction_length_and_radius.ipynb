{
 "cells": [
  {
   "cell_type": "code",
   "execution_count": 60,
   "metadata": {
    "collapsed": true
   },
   "outputs": [],
   "source": [
    "import networkx as nx\n",
    "import preprocessing as prep\n",
    "import numpy as np\n",
    "import pandas as pd\n",
    "import json\n",
    "\n",
    "from bb_binary import load_frame_container, Repository\n",
    "from pandas import Series, DataFrame"
   ]
  },
  {
   "cell_type": "code",
   "execution_count": 2,
   "metadata": {
    "collapsed": true
   },
   "outputs": [],
   "source": [
    "def get_files(path):\n",
    "    repo = Repository(path)\n",
    "    file = list(repo.iter_fnames())\n",
    "    a = [f.split('/')[-1].split(\"_\")[1] for f in file]\n",
    "    l = len(a)/4\n",
    "    npa = np.array(file).reshape(l,4)\n",
    "    return npa"
   ]
  },
  {
   "cell_type": "code",
   "execution_count": 177,
   "metadata": {
    "collapsed": true
   },
   "outputs": [],
   "source": [
    "# 0.9, 160, \"08\", 3\n",
    "def f(c,d,m,l):\n",
    "    filename = \"{}month-{}dist-{}conf-{}len-1h\".format(m,d,str(c).replace('.',''),l)\n",
    "    print(filename)\n",
    "    f = \"../00_Data/testset_2015_1h/\"\n",
    "    p = \"2015\" + m + \"2215\"\n",
    "    CONFIDENCE = c\n",
    "    DISTANCE = d\n",
    "    xmax = 3000\n",
    "    ymax = 4000\n",
    "    LENGTH = l\n",
    "    path = f+p\n",
    "\n",
    "    files = get_files(path)\n",
    "\n",
    "    interactions = Series()\n",
    "\n",
    "    for file_list in files:\n",
    "        \n",
    "        dataframes = np.empty(4, dtype=object)\n",
    "        \n",
    "        for i in list(range(4)):\n",
    "            fc = load_frame_container(file_list[i])\n",
    "            df = prep.get_dataframe(fc)\n",
    "            df = prep.calcIds(df,CONFIDENCE)\n",
    "\n",
    "            camIdx = file_list[i].split(\"/\")[-1].split(\"_\")[1]\n",
    "            dataframes[camIdx] = df\n",
    "        \n",
    "        # cam 0 und cam1 nach rechts verschieben\n",
    "        dataframes[0].xpos = dataframes[0].xpos + xmax\n",
    "        dataframes[1].xpos = dataframes[1].xpos + xmax\n",
    "\n",
    "        # Seiten zusammenfugen\n",
    "        side0 = pd.concat([dataframes[3], dataframes[0]])\n",
    "        side1 = pd.concat([dataframes[2], dataframes[1]])\n",
    "\n",
    "        close1 = prep.get_close_bees(side0, DISTANCE)\n",
    "        close2 = prep.get_close_bees(side1, DISTANCE)\n",
    "\n",
    "        close = pd.concat([close1,close2])\n",
    "        \n",
    "        p = prep.bee_pairs_to_timeseries(close)\n",
    "\n",
    "        edges = prep.extract_interactions(p,LENGTH)\n",
    "        \n",
    "        interactions = pd.concat([interactions, edges])\n",
    "\n",
    "    return prep.create_graph2(interactions)"
   ]
  },
  {
   "cell_type": "code",
   "execution_count": 178,
   "metadata": {
    "collapsed": false
   },
   "outputs": [],
   "source": [
    "def network_statistics(g):\n",
    "    nodes = nx.number_of_nodes(G)\n",
    "    edges = nx.number_of_edges(G)\n",
    "    degrees = G.degree().values()\n",
    "    average_degree = sum(degrees)/nodes\n",
    "    density = nx.density(G)\n",
    "    cc = nx.average_clustering(G)\n",
    "    components = nx.number_connected_components(G)\n",
    "    \n",
    "    # only for biggest subgraph\n",
    "    Gcc = sorted(nx.connected_component_subgraphs(G), key = len, reverse=True)\n",
    "    G0 = Gcc[0]\n",
    "    average_shortest_path = nx.average_shortest_path_length(G0)\n",
    "    diameter = nx.diameter(G0)\n",
    "\n",
    "    return {'nodes': nodes, 'edges': edges, 'av_deg': average_degree, 'density': density,\n",
    "           'cc': cc, 'components': components, 'diameter': diameter,\n",
    "            'av_shortest_path':average_shortest_path, 'degree': degrees}"
   ]
  },
  {
   "cell_type": "markdown",
   "metadata": {},
   "source": [
    "# Check out properties by distance"
   ]
  },
  {
   "cell_type": "code",
   "execution_count": 179,
   "metadata": {
    "collapsed": false
   },
   "outputs": [],
   "source": [
    "distances = np.array(list(range(8,42,2)))*10"
   ]
  },
  {
   "cell_type": "code",
   "execution_count": 180,
   "metadata": {
    "collapsed": true
   },
   "outputs": [],
   "source": [
    "l_stat = []"
   ]
  },
  {
   "cell_type": "code",
   "execution_count": 181,
   "metadata": {
    "collapsed": false
   },
   "outputs": [
    {
     "name": "stdout",
     "output_type": "stream",
     "text": [
      "80\n",
      "09month-80dist-095conf-3len-1h\n"
     ]
    },
    {
     "name": "stderr",
     "output_type": "stream",
     "text": [
      "/usr/local/lib/python3.5/site-packages/ipykernel/__main__.py:6: VisibleDeprecationWarning: using a non-integer number instead of an integer will result in an error in the future\n",
      "/usr/local/lib/python3.5/site-packages/ipykernel/__main__.py:28: VisibleDeprecationWarning: using a non-integer number instead of an integer will result in an error in the future\n"
     ]
    },
    {
     "name": "stdout",
     "output_type": "stream",
     "text": [
      "100\n",
      "09month-100dist-095conf-3len-1h\n",
      "120\n",
      "09month-120dist-095conf-3len-1h\n",
      "140\n",
      "09month-140dist-095conf-3len-1h\n",
      "160\n",
      "09month-160dist-095conf-3len-1h\n",
      "180\n",
      "09month-180dist-095conf-3len-1h\n",
      "200\n",
      "09month-200dist-095conf-3len-1h\n",
      "220\n",
      "09month-220dist-095conf-3len-1h\n",
      "240\n",
      "09month-240dist-095conf-3len-1h\n",
      "260\n",
      "09month-260dist-095conf-3len-1h\n",
      "280\n",
      "09month-280dist-095conf-3len-1h\n",
      "300\n",
      "09month-300dist-095conf-3len-1h\n",
      "320\n",
      "09month-320dist-095conf-3len-1h\n",
      "340\n",
      "09month-340dist-095conf-3len-1h\n",
      "360\n",
      "09month-360dist-095conf-3len-1h\n",
      "380\n",
      "09month-380dist-095conf-3len-1h\n",
      "400\n",
      "09month-400dist-095conf-3len-1h\n"
     ]
    }
   ],
   "source": [
    "for d in distances:\n",
    "    print(d)\n",
    "    G = f(0.95, d, \"09\", 3)\n",
    "    stat_map = network_statistics(G)\n",
    "    stat_map.update({'dist': d})\n",
    "    l_stat.append(Series(stat_map))\n",
    "\n",
    "df = DataFrame(l_stat)"
   ]
  },
  {
   "cell_type": "code",
   "execution_count": 195,
   "metadata": {
    "collapsed": false
   },
   "outputs": [
    {
     "data": {
      "text/html": [
       "<div>\n",
       "<table border=\"1\" class=\"dataframe\">\n",
       "  <thead>\n",
       "    <tr style=\"text-align: right;\">\n",
       "      <th></th>\n",
       "      <th>av_deg</th>\n",
       "      <th>av_shortest_path</th>\n",
       "      <th>cc</th>\n",
       "      <th>components</th>\n",
       "      <th>degree</th>\n",
       "      <th>density</th>\n",
       "      <th>diameter</th>\n",
       "      <th>dist</th>\n",
       "      <th>edges</th>\n",
       "      <th>nodes</th>\n",
       "    </tr>\n",
       "  </thead>\n",
       "  <tbody>\n",
       "    <tr>\n",
       "      <th>0</th>\n",
       "      <td>2.280702</td>\n",
       "      <td>5.519981</td>\n",
       "      <td>0.003509</td>\n",
       "      <td>13</td>\n",
       "      <td>(1, 2, 1, 3, 2, 1, 2, 10, 1, 4, 3, 5, 1, 1, 2,...</td>\n",
       "      <td>0.013416</td>\n",
       "      <td>15</td>\n",
       "      <td>80</td>\n",
       "      <td>195</td>\n",
       "      <td>171</td>\n",
       "    </tr>\n",
       "    <tr>\n",
       "      <th>1</th>\n",
       "      <td>17.873333</td>\n",
       "      <td>2.359242</td>\n",
       "      <td>0.137239</td>\n",
       "      <td>1</td>\n",
       "      <td>(29, 19, 13, 3, 10, 6, 7, 22, 11, 23, 26, 16, ...</td>\n",
       "      <td>0.059777</td>\n",
       "      <td>5</td>\n",
       "      <td>100</td>\n",
       "      <td>2681</td>\n",
       "      <td>300</td>\n",
       "    </tr>\n",
       "  </tbody>\n",
       "</table>\n",
       "</div>"
      ],
      "text/plain": [
       "      av_deg  av_shortest_path        cc  components  \\\n",
       "0   2.280702          5.519981  0.003509          13   \n",
       "1  17.873333          2.359242  0.137239           1   \n",
       "\n",
       "                                              degree   density  diameter  \\\n",
       "0  (1, 2, 1, 3, 2, 1, 2, 10, 1, 4, 3, 5, 1, 1, 2,...  0.013416        15   \n",
       "1  (29, 19, 13, 3, 10, 6, 7, 22, 11, 23, 26, 16, ...  0.059777         5   \n",
       "\n",
       "   dist  edges  nodes  \n",
       "0    80    195    171  \n",
       "1   100   2681    300  "
      ]
     },
     "execution_count": 195,
     "metadata": {},
     "output_type": "execute_result"
    }
   ],
   "source": [
    "df.head(2)"
   ]
  },
  {
   "cell_type": "code",
   "execution_count": 183,
   "metadata": {
    "collapsed": true
   },
   "outputs": [],
   "source": [
    "df.to_csv(\"1h_09_95_3L_distance.csv\", sep=\";\")"
   ]
  },
  {
   "cell_type": "markdown",
   "metadata": {},
   "source": [
    "# Check out properties by interaction length"
   ]
  },
  {
   "cell_type": "code",
   "execution_count": 187,
   "metadata": {
    "collapsed": false
   },
   "outputs": [
    {
     "data": {
      "text/plain": [
       "array([ 1,  2,  3,  4,  5,  6,  7,  8,  9, 10, 11])"
      ]
     },
     "execution_count": 187,
     "metadata": {},
     "output_type": "execute_result"
    }
   ],
   "source": [
    "interaction_length = np.array(list(range(1,12)))\n",
    "interaction_length"
   ]
  },
  {
   "cell_type": "code",
   "execution_count": 188,
   "metadata": {
    "collapsed": true
   },
   "outputs": [],
   "source": [
    "l_stat = []"
   ]
  },
  {
   "cell_type": "code",
   "execution_count": 189,
   "metadata": {
    "collapsed": false
   },
   "outputs": [
    {
     "name": "stdout",
     "output_type": "stream",
     "text": [
      "1\n",
      "09month-160dist-095conf-1len-1h\n"
     ]
    },
    {
     "name": "stderr",
     "output_type": "stream",
     "text": [
      "/usr/local/lib/python3.5/site-packages/ipykernel/__main__.py:6: VisibleDeprecationWarning: using a non-integer number instead of an integer will result in an error in the future\n",
      "/usr/local/lib/python3.5/site-packages/ipykernel/__main__.py:28: VisibleDeprecationWarning: using a non-integer number instead of an integer will result in an error in the future\n"
     ]
    },
    {
     "name": "stdout",
     "output_type": "stream",
     "text": [
      "2\n",
      "09month-160dist-095conf-2len-1h\n",
      "3\n",
      "09month-160dist-095conf-3len-1h\n",
      "4\n",
      "09month-160dist-095conf-4len-1h\n",
      "5\n",
      "09month-160dist-095conf-5len-1h\n",
      "6\n",
      "09month-160dist-095conf-6len-1h\n",
      "7\n",
      "09month-160dist-095conf-7len-1h\n",
      "8\n",
      "09month-160dist-095conf-8len-1h\n",
      "9\n",
      "09month-160dist-095conf-9len-1h\n",
      "10\n",
      "09month-160dist-095conf-10len-1h\n",
      "11\n",
      "09month-160dist-095conf-11len-1h\n"
     ]
    }
   ],
   "source": [
    "for l in interaction_length:\n",
    "    print(l)\n",
    "    G = f(0.95, 160, \"09\", l)\n",
    "    stat_map = network_statistics(G)\n",
    "    stat_map.update({'interaction_length': l})\n",
    "    l_stat.append(Series(stat_map))\n",
    "\n",
    "df2 = DataFrame(l_stat)"
   ]
  },
  {
   "cell_type": "code",
   "execution_count": 190,
   "metadata": {
    "collapsed": true
   },
   "outputs": [],
   "source": [
    "df2.to_csv(\"1h_09_95_160px_length.csv\", sep=\";\")"
   ]
  },
  {
   "cell_type": "code",
   "execution_count": 194,
   "metadata": {
    "collapsed": false
   },
   "outputs": [
    {
     "data": {
      "text/html": [
       "<div>\n",
       "<table border=\"1\" class=\"dataframe\">\n",
       "  <thead>\n",
       "    <tr style=\"text-align: right;\">\n",
       "      <th></th>\n",
       "      <th>av_deg</th>\n",
       "      <th>av_shortest_path</th>\n",
       "      <th>cc</th>\n",
       "      <th>components</th>\n",
       "      <th>degree</th>\n",
       "      <th>density</th>\n",
       "      <th>diameter</th>\n",
       "      <th>edges</th>\n",
       "      <th>interaction_length</th>\n",
       "      <th>nodes</th>\n",
       "    </tr>\n",
       "  </thead>\n",
       "  <tbody>\n",
       "    <tr>\n",
       "      <th>0</th>\n",
       "      <td>37.653259</td>\n",
       "      <td>2.704791</td>\n",
       "      <td>0.473445</td>\n",
       "      <td>1</td>\n",
       "      <td>(1, 1, 1, 4, 1, 2, 1, 161, 1, 176, 3, 208, 1, ...</td>\n",
       "      <td>0.026130</td>\n",
       "      <td>5</td>\n",
       "      <td>27148</td>\n",
       "      <td>1</td>\n",
       "      <td>1442</td>\n",
       "    </tr>\n",
       "    <tr>\n",
       "      <th>1</th>\n",
       "      <td>84.893709</td>\n",
       "      <td>2.125266</td>\n",
       "      <td>0.495840</td>\n",
       "      <td>1</td>\n",
       "      <td>(155, 61, 213, 1, 93, 1, 131, 1, 186, 158, 142...</td>\n",
       "      <td>0.184552</td>\n",
       "      <td>5</td>\n",
       "      <td>19568</td>\n",
       "      <td>2</td>\n",
       "      <td>461</td>\n",
       "    </tr>\n",
       "  </tbody>\n",
       "</table>\n",
       "</div>"
      ],
      "text/plain": [
       "      av_deg  av_shortest_path        cc  components  \\\n",
       "0  37.653259          2.704791  0.473445           1   \n",
       "1  84.893709          2.125266  0.495840           1   \n",
       "\n",
       "                                              degree   density  diameter  \\\n",
       "0  (1, 1, 1, 4, 1, 2, 1, 161, 1, 176, 3, 208, 1, ...  0.026130         5   \n",
       "1  (155, 61, 213, 1, 93, 1, 131, 1, 186, 158, 142...  0.184552         5   \n",
       "\n",
       "   edges  interaction_length  nodes  \n",
       "0  27148                   1   1442  \n",
       "1  19568                   2    461  "
      ]
     },
     "execution_count": 194,
     "metadata": {},
     "output_type": "execute_result"
    }
   ],
   "source": [
    "df2.head(2)"
   ]
  },
  {
   "cell_type": "markdown",
   "metadata": {},
   "source": [
    "# Check out properties by timewindow size"
   ]
  },
  {
   "cell_type": "code",
   "execution_count": null,
   "metadata": {
    "collapsed": true
   },
   "outputs": [],
   "source": []
  }
 ],
 "metadata": {
  "kernelspec": {
   "display_name": "Python 3",
   "language": "python",
   "name": "python3"
  },
  "language_info": {
   "codemirror_mode": {
    "name": "ipython",
    "version": 3
   },
   "file_extension": ".py",
   "mimetype": "text/x-python",
   "name": "python",
   "nbconvert_exporter": "python",
   "pygments_lexer": "ipython3",
   "version": "3.5.2"
  }
 },
 "nbformat": 4,
 "nbformat_minor": 1
}
