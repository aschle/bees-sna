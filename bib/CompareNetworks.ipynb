{
 "cells": [
  {
   "cell_type": "code",
   "execution_count": 1,
   "metadata": {
    "ExecuteTime": {
     "end_time": "2017-02-08T15:57:05.178984",
     "start_time": "2017-02-08T15:57:03.383302"
    },
    "collapsed": true
   },
   "outputs": [],
   "source": [
    "import networkx as nx\n",
    "import os\n",
    "import pandas as pd\n",
    "import numpy as np\n",
    "from pandas import DataFrame, Series\n",
    "import datetime\n",
    "import pytz\n",
    "import matplotlib.pyplot as plt\n",
    "import preprocessing as prep"
   ]
  },
  {
   "cell_type": "code",
   "execution_count": 2,
   "metadata": {
    "ExecuteTime": {
     "end_time": "2017-02-08T15:57:11.027498",
     "start_time": "2017-02-08T15:57:11.015761"
    },
    "collapsed": true
   },
   "outputs": [],
   "source": [
    "%matplotlib inline"
   ]
  },
  {
   "cell_type": "code",
   "execution_count": 3,
   "metadata": {
    "ExecuteTime": {
     "end_time": "2017-02-08T15:57:21.298486",
     "start_time": "2017-02-08T15:57:21.288711"
    },
    "collapsed": true
   },
   "outputs": [],
   "source": [
    "def getGraphs(path):\n",
    "    graph_files = os.listdir(path)\n",
    "    \n",
    "    graph_list = []\n",
    "\n",
    "    for eg in graph_files:\n",
    "        G = nx.read_graphml(path+eg)\n",
    "        date = eg.split(\"_\")[0]\n",
    "        date_dt = datetime.datetime.strptime(date, \"%Y-%m-%dT%H:%M:%SZ\").replace(tzinfo=pytz.UTC)\n",
    "        date_ts = date_dt.timestamp()\n",
    "        graph_list.append((date_dt,G))\n",
    "    \n",
    "    return graph_list"
   ]
  },
  {
   "cell_type": "markdown",
   "metadata": {},
   "source": [
    "# Tagesnetzwerke"
   ]
  },
  {
   "cell_type": "code",
   "execution_count": 4,
   "metadata": {
    "ExecuteTime": {
     "end_time": "2017-02-08T15:58:03.393123",
     "start_time": "2017-02-08T15:57:32.520407"
    },
    "collapsed": true
   },
   "outputs": [],
   "source": [
    "gg = getGraphs(\"networks-days/\")"
   ]
  },
  {
   "cell_type": "code",
   "execution_count": 82,
   "metadata": {
    "ExecuteTime": {
     "end_time": "2017-02-08T16:48:20.786785",
     "start_time": "2017-02-08T16:48:20.779872"
    },
    "collapsed": true
   },
   "outputs": [],
   "source": [
    "dfd = getIdDF(gg)"
   ]
  },
  {
   "cell_type": "code",
   "execution_count": 83,
   "metadata": {
    "ExecuteTime": {
     "end_time": "2017-02-08T16:48:28.844715",
     "start_time": "2017-02-08T16:48:28.822833"
    },
    "collapsed": false
   },
   "outputs": [
    {
     "data": {
      "text/html": [
       "<div>\n",
       "<table border=\"1\" class=\"dataframe\">\n",
       "  <thead>\n",
       "    <tr style=\"text-align: right;\">\n",
       "      <th></th>\n",
       "      <th>nodes</th>\n",
       "    </tr>\n",
       "    <tr>\n",
       "      <th>date</th>\n",
       "      <th></th>\n",
       "    </tr>\n",
       "  </thead>\n",
       "  <tbody>\n",
       "    <tr>\n",
       "      <th>2015-08-21 00:00:00+00:00</th>\n",
       "      <td>[12, 2053, 3223, 3328, 3116, 2734, 3907, 2270,...</td>\n",
       "    </tr>\n",
       "    <tr>\n",
       "      <th>2015-08-22 00:00:00+00:00</th>\n",
       "      <td>[12, 2053, 3223, 3328, 2851, 788, 2058, 2176, ...</td>\n",
       "    </tr>\n",
       "    <tr>\n",
       "      <th>2015-08-23 00:00:00+00:00</th>\n",
       "      <td>[2053, 1643, 3223, 3328, 3116, 2176, 3907, 227...</td>\n",
       "    </tr>\n",
       "    <tr>\n",
       "      <th>2015-08-24 00:00:00+00:00</th>\n",
       "      <td>[2664, 1622, 3328, 3116, 2176, 206, 3907, 2270...</td>\n",
       "    </tr>\n",
       "    <tr>\n",
       "      <th>2015-08-25 00:00:00+00:00</th>\n",
       "      <td>[145, 3256, 2053, 1622, 3328, 3116, 726, 2270,...</td>\n",
       "    </tr>\n",
       "  </tbody>\n",
       "</table>\n",
       "</div>"
      ],
      "text/plain": [
       "                                                                       nodes\n",
       "date                                                                        \n",
       "2015-08-21 00:00:00+00:00  [12, 2053, 3223, 3328, 3116, 2734, 3907, 2270,...\n",
       "2015-08-22 00:00:00+00:00  [12, 2053, 3223, 3328, 2851, 788, 2058, 2176, ...\n",
       "2015-08-23 00:00:00+00:00  [2053, 1643, 3223, 3328, 3116, 2176, 3907, 227...\n",
       "2015-08-24 00:00:00+00:00  [2664, 1622, 3328, 3116, 2176, 206, 3907, 2270...\n",
       "2015-08-25 00:00:00+00:00  [145, 3256, 2053, 1622, 3328, 3116, 726, 2270,..."
      ]
     },
     "execution_count": 83,
     "metadata": {},
     "output_type": "execute_result"
    }
   ],
   "source": [
    "dfd"
   ]
  },
  {
   "cell_type": "code",
   "execution_count": 84,
   "metadata": {
    "ExecuteTime": {
     "end_time": "2017-02-08T16:49:11.380844",
     "start_time": "2017-02-08T16:49:11.372687"
    },
    "collapsed": false
   },
   "outputs": [
    {
     "data": {
      "text/plain": [
       "805"
      ]
     },
     "execution_count": 84,
     "metadata": {},
     "output_type": "execute_result"
    }
   ],
   "source": [
    "getCore(dfd)"
   ]
  },
  {
   "cell_type": "code",
   "execution_count": 87,
   "metadata": {
    "ExecuteTime": {
     "end_time": "2017-02-08T16:54:51.046636",
     "start_time": "2017-02-08T16:54:51.038800"
    },
    "collapsed": true
   },
   "outputs": [],
   "source": [
    "diffsd = getDiff(dfd)"
   ]
  },
  {
   "cell_type": "code",
   "execution_count": 88,
   "metadata": {
    "ExecuteTime": {
     "end_time": "2017-02-08T16:54:57.033917",
     "start_time": "2017-02-08T16:54:57.028120"
    },
    "collapsed": false
   },
   "outputs": [
    {
     "data": {
      "text/plain": [
       "[(1023, 1202, 1182), (991, 1182, 1155), (938, 1155, 1134), (890, 1134, 1151)]"
      ]
     },
     "execution_count": 88,
     "metadata": {},
     "output_type": "execute_result"
    }
   ],
   "source": [
    "diffsd"
   ]
  },
  {
   "cell_type": "code",
   "execution_count": 105,
   "metadata": {
    "ExecuteTime": {
     "end_time": "2017-02-08T17:09:52.540945",
     "start_time": "2017-02-08T17:09:52.071559"
    },
    "collapsed": false
   },
   "outputs": [
    {
     "data": {
      "text/plain": [
       "<matplotlib.axes._subplots.AxesSubplot at 0x7f72762da0b8>"
      ]
     },
     "execution_count": 105,
     "metadata": {},
     "output_type": "execute_result"
    },
    {
     "data": {
      "image/png": "[encoded data removed]",
      "text/plain": [
       "<matplotlib.figure.Figure at 0x7f727624b080>"
      ]
     },
     "metadata": {},
     "output_type": "display_data"
    }
   ],
   "source": [
    "dfdiffsd = DataFrame(diffsd, columns=[\"diffs\", \"a\", \"b\"])\n",
    "dfdiffsd.plot(xlim=(0,3), xticks=[0,1,2,3])"
   ]
  },
  {
   "cell_type": "code",
   "execution_count": 108,
   "metadata": {
    "ExecuteTime": {
     "end_time": "2017-02-08T17:10:18.333588",
     "start_time": "2017-02-08T17:10:18.323265"
    },
    "collapsed": false
   },
   "outputs": [
    {
     "data": {
      "text/plain": [
       "count       4.000000\n",
       "mean      960.500000\n",
       "std        58.631618\n",
       "min       890.000000\n",
       "25%       926.000000\n",
       "50%       964.500000\n",
       "75%       999.000000\n",
       "max      1023.000000\n",
       "Name: diffs, dtype: float64"
      ]
     },
     "execution_count": 108,
     "metadata": {},
     "output_type": "execute_result"
    }
   ],
   "source": [
    "dfdiffsd.diffs.describe()"
   ]
  },
  {
   "cell_type": "markdown",
   "metadata": {},
   "source": [
    "# Stundennetzwerke"
   ]
  },
  {
   "cell_type": "code",
   "execution_count": 58,
   "metadata": {
    "ExecuteTime": {
     "end_time": "2017-02-08T16:36:45.705110",
     "start_time": "2017-02-08T16:36:30.364622"
    },
    "collapsed": true
   },
   "outputs": [],
   "source": [
    "gh = getGraphs(\"networks-hours/\")"
   ]
  },
  {
   "cell_type": "code",
   "execution_count": 65,
   "metadata": {
    "ExecuteTime": {
     "end_time": "2017-02-08T16:38:27.904839",
     "start_time": "2017-02-08T16:38:27.896628"
    },
    "collapsed": true
   },
   "outputs": [],
   "source": [
    "def getIdDF(gg):\n",
    "    nodes = []\n",
    "    for date,g in gg:\n",
    "        n=g.nodes()\n",
    "        nodes.append((date,n))\n",
    "    \n",
    "    df=DataFrame(nodes, columns=[\"date\", \"nodes\"])\n",
    "    df.set_index(\"date\", inplace=True)\n",
    "    df = df.sort_index()\n",
    "    return df"
   ]
  },
  {
   "cell_type": "code",
   "execution_count": 66,
   "metadata": {
    "ExecuteTime": {
     "end_time": "2017-02-08T16:38:28.442041",
     "start_time": "2017-02-08T16:38:28.434294"
    },
    "collapsed": false
   },
   "outputs": [],
   "source": [
    "dfh = getIdDF(gh)"
   ]
  },
  {
   "cell_type": "code",
   "execution_count": 69,
   "metadata": {
    "ExecuteTime": {
     "end_time": "2017-02-08T16:38:41.566617",
     "start_time": "2017-02-08T16:38:41.544948"
    },
    "collapsed": false
   },
   "outputs": [
    {
     "data": {
      "text/html": [
       "<div>\n",
       "<table border=\"1\" class=\"dataframe\">\n",
       "  <thead>\n",
       "    <tr style=\"text-align: right;\">\n",
       "      <th></th>\n",
       "      <th>nodes</th>\n",
       "    </tr>\n",
       "    <tr>\n",
       "      <th>date</th>\n",
       "      <th></th>\n",
       "    </tr>\n",
       "  </thead>\n",
       "  <tbody>\n",
       "    <tr>\n",
       "      <th>2015-08-21 00:00:00+00:00</th>\n",
       "      <td>[2053, 3223, 3328, 2851, 2734, 3907, 1288, 544...</td>\n",
       "    </tr>\n",
       "    <tr>\n",
       "      <th>2015-08-21 01:00:00+00:00</th>\n",
       "      <td>[2053, 3223, 3328, 2851, 2734, 3907, 544, 3122...</td>\n",
       "    </tr>\n",
       "    <tr>\n",
       "      <th>2015-08-21 02:00:00+00:00</th>\n",
       "      <td>[12, 2053, 3223, 3328, 3116, 2734, 3907, 2270,...</td>\n",
       "    </tr>\n",
       "    <tr>\n",
       "      <th>2015-08-21 03:00:00+00:00</th>\n",
       "      <td>[2053, 3223, 3328, 3116, 2734, 3907, 2270, 257...</td>\n",
       "    </tr>\n",
       "    <tr>\n",
       "      <th>2015-08-21 04:00:00+00:00</th>\n",
       "      <td>[3047, 3223, 2851, 788, 3907, 2270, 544, 3122,...</td>\n",
       "    </tr>\n",
       "  </tbody>\n",
       "</table>\n",
       "</div>"
      ],
      "text/plain": [
       "                                                                       nodes\n",
       "date                                                                        \n",
       "2015-08-21 00:00:00+00:00  [2053, 3223, 3328, 2851, 2734, 3907, 1288, 544...\n",
       "2015-08-21 01:00:00+00:00  [2053, 3223, 3328, 2851, 2734, 3907, 544, 3122...\n",
       "2015-08-21 02:00:00+00:00  [12, 2053, 3223, 3328, 3116, 2734, 3907, 2270,...\n",
       "2015-08-21 03:00:00+00:00  [2053, 3223, 3328, 3116, 2734, 3907, 2270, 257...\n",
       "2015-08-21 04:00:00+00:00  [3047, 3223, 2851, 788, 3907, 2270, 544, 3122,..."
      ]
     },
     "execution_count": 69,
     "metadata": {},
     "output_type": "execute_result"
    }
   ],
   "source": [
    "dfh.head()"
   ]
  },
  {
   "cell_type": "code",
   "execution_count": 72,
   "metadata": {
    "ExecuteTime": {
     "end_time": "2017-02-08T16:40:28.516809",
     "start_time": "2017-02-08T16:40:28.510575"
    },
    "collapsed": true
   },
   "outputs": [],
   "source": [
    "def getCore(df):\n",
    "    ids = []\n",
    "    for i in range(df.shape[0]):\n",
    "        ids.append(set(df.ix[i].nodes))\n",
    "    \n",
    "    core = set.intersection(*ids)\n",
    "    return len(core)"
   ]
  },
  {
   "cell_type": "code",
   "execution_count": 73,
   "metadata": {
    "ExecuteTime": {
     "end_time": "2017-02-08T16:40:28.972814",
     "start_time": "2017-02-08T16:40:28.954455"
    },
    "collapsed": false
   },
   "outputs": [
    {
     "data": {
      "text/plain": [
       "206"
      ]
     },
     "execution_count": 73,
     "metadata": {},
     "output_type": "execute_result"
    }
   ],
   "source": [
    "getCore(dfh)"
   ]
  },
  {
   "cell_type": "code",
   "execution_count": 75,
   "metadata": {
    "ExecuteTime": {
     "end_time": "2017-02-08T16:41:56.735631",
     "start_time": "2017-02-08T16:41:56.727912"
    },
    "collapsed": true
   },
   "outputs": [],
   "source": [
    "def getDiff(df):\n",
    "    diffs = []\n",
    "    for i in range(df.shape[0]-1):\n",
    "        a = set(df.ix[i].nodes)\n",
    "        b = set(df.ix[i+1].nodes)\n",
    "        diffs.append((len(set.intersection(a,b)), len(a), len(b)))\n",
    "    \n",
    "    return diffs"
   ]
  },
  {
   "cell_type": "code",
   "execution_count": 111,
   "metadata": {
    "ExecuteTime": {
     "end_time": "2017-02-08T17:10:56.251191",
     "start_time": "2017-02-08T17:10:55.739608"
    },
    "collapsed": false
   },
   "outputs": [
    {
     "data": {
      "text/plain": [
       "<matplotlib.axes._subplots.AxesSubplot at 0x7f7276307320>"
      ]
     },
     "execution_count": 111,
     "metadata": {},
     "output_type": "execute_result"
    },
    {
     "data": {
      "image/png": "[encoded data removed]",
      "text/plain": [
       "<matplotlib.figure.Figure at 0x7f7276068a90>"
      ]
     },
     "metadata": {},
     "output_type": "display_data"
    }
   ],
   "source": [
    "diffsh = getDiff(dfh)\n",
    "dfdiffsh = DataFrame(diffsh, columns=[\"diffs\", \"a\", \"b\"])\n",
    "dfdiffsh.plot()"
   ]
  },
  {
   "cell_type": "code",
   "execution_count": 114,
   "metadata": {
    "ExecuteTime": {
     "end_time": "2017-02-08T17:11:10.663625",
     "start_time": "2017-02-08T17:11:10.653165"
    },
    "collapsed": false
   },
   "outputs": [
    {
     "data": {
      "text/plain": [
       "count     23.000000\n",
       "mean     770.000000\n",
       "std      107.190994\n",
       "min      652.000000\n",
       "25%      676.000000\n",
       "50%      725.000000\n",
       "75%      883.000000\n",
       "max      938.000000\n",
       "Name: diffs, dtype: float64"
      ]
     },
     "execution_count": 114,
     "metadata": {},
     "output_type": "execute_result"
    }
   ],
   "source": [
    "dfdiffsh.diffs.describe()"
   ]
  },
  {
   "cell_type": "code",
   "execution_count": 115,
   "metadata": {
    "ExecuteTime": {
     "end_time": "2017-02-08T17:11:28.555999",
     "start_time": "2017-02-08T17:11:28.545927"
    },
    "collapsed": false
   },
   "outputs": [
    {
     "data": {
      "text/plain": [
       "count     23.000000\n",
       "mean     856.478261\n",
       "std       89.030572\n",
       "min      753.000000\n",
       "25%      773.000000\n",
       "50%      840.000000\n",
       "75%      939.000000\n",
       "max      993.000000\n",
       "Name: a, dtype: float64"
      ]
     },
     "execution_count": 115,
     "metadata": {},
     "output_type": "execute_result"
    }
   ],
   "source": [
    "dfdiffsh.a.describe()"
   ]
  },
  {
   "cell_type": "code",
   "execution_count": null,
   "metadata": {
    "collapsed": true
   },
   "outputs": [],
   "source": []
  }
 ],
 "metadata": {
  "anaconda-cloud": {},
  "kernelspec": {
   "display_name": "Python [conda root]",
   "language": "python",
   "name": "conda-root-py"
  },
  "language_info": {
   "codemirror_mode": {
    "name": "ipython",
    "version": 3
   },
   "file_extension": ".py",
   "mimetype": "text/x-python",
   "name": "python",
   "nbconvert_exporter": "python",
   "pygments_lexer": "ipython3",
   "version": "3.5.2"
  },
  "toc": {
   "colors": {
    "hover_highlight": "#DAA520",
    "running_highlight": "#FF0000",
    "selected_highlight": "#FFD700"
   },
   "moveMenuLeft": true,
   "nav_menu": {
    "height": "48px",
    "width": "252px"
   },
   "navigate_menu": true,
   "number_sections": true,
   "sideBar": true,
   "threshold": 4,
   "toc_cell": false,
   "toc_section_display": "block",
   "toc_window_display": false
  }
 },
 "nbformat": 4,
 "nbformat_minor": 2
}
