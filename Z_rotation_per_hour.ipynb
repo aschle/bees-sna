{
 "cells": [
  {
   "cell_type": "markdown",
   "metadata": {},
   "source": [
    "# Z Rotation per Camera (1hour)"
   ]
  },
  {
   "cell_type": "code",
   "execution_count": 53,
   "metadata": {
    "collapsed": false
   },
   "outputs": [],
   "source": [
    "from bb_binary import FrameContainer, Repository\n",
    "from datetime import datetime, timedelta\n",
    "import numpy as np\n",
    "import pandas as pd\n",
    "from pandas import DataFrame, Series\n",
    "import matplotlib.pyplot as plt"
   ]
  },
  {
   "cell_type": "code",
   "execution_count": 93,
   "metadata": {
    "collapsed": false
   },
   "outputs": [],
   "source": [
    "folder0 = \"2015082215\"\n",
    "folder1 = \"2015092215\"\n",
    "folder2 = \"2015102215\"\n",
    "path = \"00_Data/testset_2015_1h/\"\n",
    "path2 = \"00_Data/testset_2015_1d/\""
   ]
  },
  {
   "cell_type": "code",
   "execution_count": 90,
   "metadata": {
    "collapsed": false
   },
   "outputs": [],
   "source": [
    "def getDetections(path,f):\n",
    "    print(path+f)\n",
    "    repo = Repository(path+f)\n",
    "    ids = []\n",
    "    for frame, fc in repo.iter_frames():\n",
    "        ids.extend([(d.zRotation, fc.camId) for d in frame.detectionsUnion.detectionsDP])\n",
    "    df = DataFrame(ids, columns=['zRotation', 'cam_id'])\n",
    "    return df"
   ]
  },
  {
   "cell_type": "code",
   "execution_count": 97,
   "metadata": {
    "collapsed": true
   },
   "outputs": [],
   "source": [
    "def plot_rotation(df, sample):\n",
    "    \n",
    "    gr = df.groupby('cam_id')\n",
    "    for i, group in gr:\n",
    "        plt.figure()\n",
    "        N = 80\n",
    "        count, division = np.histogram(group.zRotation, bins=N)\n",
    "        count = count\n",
    "        width = (2*np.pi) / N\n",
    "        theta = np.linspace(0.0, 2 * np.pi, N, endpoint=False)\n",
    "\n",
    "        ax = plt.subplot(111, projection='polar')\n",
    "        bars = ax.bar(theta, count, width=width, bottom=10)\n",
    "        ax.set_title(\"Frequency of Angles of cam ID {} of sample {}\".format(i,\n",
    "                                                                            sample))\n",
    "\n",
    "        plt.savefig(\"plot-z-rotation/rotation_cam{}_{}_1d\".format(i, sample))"
   ]
  },
  {
   "cell_type": "code",
   "execution_count": 101,
   "metadata": {
    "collapsed": false
   },
   "outputs": [
    {
     "name": "stdout",
     "output_type": "stream",
     "text": [
      "20150922\n",
      "00_Data/testset_2015_1d/20150922\n"
     ]
    },
    {
     "name": "stderr",
     "output_type": "stream",
     "text": [
      "/usr/local/lib/python3.5/site-packages/matplotlib/pyplot.py:524: RuntimeWarning: More than 20 figures have been opened. Figures created through the pyplot interface (`matplotlib.pyplot.figure`) are retained until explicitly closed and may consume too much memory. (To control this warning, see the rcParam `figure.max_open_warning`).\n",
      "  max_open_warning, RuntimeWarning)\n"
     ]
    }
   ],
   "source": [
    "for elem in [\"20150922\"]:\n",
    "    print(elem)\n",
    "    df = getDetections(path2,elem)\n",
    "    plot_rotation(df, elem)"
   ]
  },
  {
   "cell_type": "code",
   "execution_count": null,
   "metadata": {
    "collapsed": true
   },
   "outputs": [],
   "source": []
  }
 ],
 "metadata": {
  "kernelspec": {
   "display_name": "Python 3",
   "language": "python",
   "name": "python3"
  },
  "language_info": {
   "codemirror_mode": {
    "name": "ipython",
    "version": 3
   },
   "file_extension": ".py",
   "mimetype": "text/x-python",
   "name": "python",
   "nbconvert_exporter": "python",
   "pygments_lexer": "ipython3",
   "version": "3.5.2"
  }
 },
 "nbformat": 4,
 "nbformat_minor": 1
}
