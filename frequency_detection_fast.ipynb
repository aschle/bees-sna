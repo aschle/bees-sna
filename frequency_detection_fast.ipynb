{
 "cells": [
  {
   "cell_type": "code",
   "execution_count": 4,
   "metadata": {
    "collapsed": false
   },
   "outputs": [],
   "source": [
    "%load_ext autoreload\n",
    "%autoreload 2"
   ]
  },
  {
   "cell_type": "code",
   "execution_count": 140,
   "metadata": {
    "collapsed": false
   },
   "outputs": [],
   "source": [
    "import multiprocessing\n",
    "from multiprocessing import Pool\n",
    "from bb_binary import FrameContainer, Repository, load_frame_container\n",
    "import pandas as pd\n",
    "import numpy as np\n",
    "from collections import namedtuple \n",
    "import networkx as nx\n",
    "\n",
    "from pandas import DataFrame, Series\n",
    "from collections import Counter\n",
    "import matplotlib.pyplot as plt\n",
    "import bib.preprocessing as prep\n",
    "import seaborn as sns\n",
    "%matplotlib inline "
   ]
  },
  {
   "cell_type": "markdown",
   "metadata": {},
   "source": [
    "# How often and how long are bees absent and present\n",
    "\n",
    "Looking at all bees for a complete day (24 hours), I want to find out how often a bee is present (detected) or absent (not detected) also looking at the distribution. Also how many bees are there in general (how many unique ids). And how long (how many 0 or 1 in a row) a bee is absent/present on average and also looking at the distribution would be nice."
   ]
  },
  {
   "cell_type": "code",
   "execution_count": 153,
   "metadata": {
    "collapsed": false
   },
   "outputs": [],
   "source": [
    "path = \"../../../../../../storage/mi/aschle/1day/20150822/\""
   ]
  },
  {
   "cell_type": "code",
   "execution_count": 154,
   "metadata": {
    "collapsed": true
   },
   "outputs": [],
   "source": [
    "# packt immer die 4 Kameradateien zusammen\n",
    "def get_files(path):\n",
    "    repo = Repository(path)\n",
    "    file = list(repo.iter_fnames())\n",
    "    a = [f.split('/')[-1].split(\"_\")[1] for f in file]\n",
    "    l = len(a)/4\n",
    "    npa = np.array(file).reshape(int(l),4)\n",
    "    return npa"
   ]
  },
  {
   "cell_type": "code",
   "execution_count": 155,
   "metadata": {
    "collapsed": false
   },
   "outputs": [],
   "source": [
    "files = get_files(path)"
   ]
  },
  {
   "cell_type": "code",
   "execution_count": 156,
   "metadata": {
    "collapsed": false
   },
   "outputs": [
    {
     "data": {
      "text/plain": [
       "253"
      ]
     },
     "execution_count": 156,
     "metadata": {},
     "output_type": "execute_result"
    }
   ],
   "source": [
    "len(files)"
   ]
  },
  {
   "cell_type": "code",
   "execution_count": 157,
   "metadata": {
    "collapsed": false
   },
   "outputs": [],
   "source": [
    "pool = multiprocessing.Pool(18)"
   ]
  },
  {
   "cell_type": "code",
   "execution_count": 159,
   "metadata": {
    "collapsed": false
   },
   "outputs": [],
   "source": [
    "tasks = []\n",
    "\n",
    "for e, f in enumerate(files):\n",
    "    tasks.append((e, f, 0.95))"
   ]
  },
  {
   "cell_type": "code",
   "execution_count": 160,
   "metadata": {
    "collapsed": false
   },
   "outputs": [],
   "source": [
    "def generate_timeseries(index, file_list, confidence=.95):\n",
    "    \n",
    "    dataframes = DataFrame()\n",
    "    \n",
    "    for f in file_list:\n",
    "        fc = load_frame_container(f)\n",
    "        df = prep.get_dataframe2(fc)\n",
    "        df = prep.calcIds(df,confidence)\n",
    "        df['frame_idx'] = df['frame_idx'] + index*1024\n",
    "\n",
    "        dataframes = pd.concat([dataframes, df])\n",
    "\n",
    "    return dataframes"
   ]
  },
  {
   "cell_type": "code",
   "execution_count": 161,
   "metadata": {
    "collapsed": false
   },
   "outputs": [],
   "source": [
    "results = [pool.apply_async( generate_timeseries, t ) for t in tasks]"
   ]
  },
  {
   "cell_type": "code",
   "execution_count": 162,
   "metadata": {
    "collapsed": true
   },
   "outputs": [],
   "source": [
    "df = DataFrame()"
   ]
  },
  {
   "cell_type": "code",
   "execution_count": 163,
   "metadata": {
    "collapsed": false
   },
   "outputs": [],
   "source": [
    "for result in results:\n",
    "    df = pd.concat([df,result.get()])"
   ]
  },
  {
   "cell_type": "code",
   "execution_count": 169,
   "metadata": {
    "collapsed": false
   },
   "outputs": [],
   "source": [
    "df.to_pickle(\"../../../../../.q./storage/mi/aschle/df.pickle\")"
   ]
  },
  {
   "cell_type": "code",
   "execution_count": 170,
   "metadata": {
    "collapsed": false
   },
   "outputs": [],
   "source": [
    "def df_to_timeseries(df):\n",
    "    gr = df.groupby('frame_idx')\n",
    "    num_columns = len(df.frame_idx.unique())\n",
    "\n",
    "    # get all unique ids von allen Frames\n",
    "    u_id = df.id.unique()\n",
    "\n",
    "    dft = DataFrame(0, index=u_id, columns=np.arange(num_columns))\n",
    "\n",
    "    for i, group in gr:\n",
    "        l = group['id']\n",
    "        dft.loc[l,i] = 1\n",
    "\n",
    "    return dft"
   ]
  },
  {
   "cell_type": "code",
   "execution_count": 171,
   "metadata": {
    "collapsed": false
   },
   "outputs": [
    {
     "name": "stdout",
     "output_type": "stream",
     "text": [
      "CPU times: user 25min 57s, sys: 11.2 s, total: 26min 9s\n",
      "Wall time: 25min 52s\n"
     ]
    }
   ],
   "source": [
    "%time dft = df_to_timeseries(df)"
   ]
  },
  {
   "cell_type": "markdown",
   "metadata": {},
   "source": [
    "## Number of 1 per ID and number of 0 per ID"
   ]
  },
  {
   "cell_type": "code",
   "execution_count": 172,
   "metadata": {
    "collapsed": false
   },
   "outputs": [],
   "source": [
    "dft_summen = DataFrame()\n",
    "dft_summen[\"sum1\"] = dft.sum(axis=1)"
   ]
  },
  {
   "cell_type": "code",
   "execution_count": 173,
   "metadata": {
    "collapsed": false
   },
   "outputs": [],
   "source": [
    "dft_summen[\"sum0\"] = (dft.shape[1]) - dft_summen['sum1']"
   ]
  },
  {
   "cell_type": "code",
   "execution_count": 174,
   "metadata": {
    "collapsed": false
   },
   "outputs": [
    {
     "data": {
      "text/plain": [
       "4096"
      ]
     },
     "execution_count": 174,
     "metadata": {},
     "output_type": "execute_result"
    }
   ],
   "source": [
    "# Numer of unique IDs\n",
    "len(dft_summen.index)"
   ]
  },
  {
   "cell_type": "markdown",
   "metadata": {},
   "source": [
    "### Number of 1 = Bee is present"
   ]
  },
  {
   "cell_type": "code",
   "execution_count": 212,
   "metadata": {
    "collapsed": false
   },
   "outputs": [
    {
     "data": {
      "text/plain": [
       "259072"
      ]
     },
     "execution_count": 212,
     "metadata": {},
     "output_type": "execute_result"
    }
   ],
   "source": [
    "len(files)*1024"
   ]
  },
  {
   "cell_type": "code",
   "execution_count": 220,
   "metadata": {
    "collapsed": false
   },
   "outputs": [
    {
     "data": {
      "text/plain": [
       "<matplotlib.text.Text at 0x7f20fbe18978>"
      ]
     },
     "execution_count": 220,
     "metadata": {},
     "output_type": "execute_result"
    },
    {
     "data": {
      "image/png": "[encoded data removed]",
      "text/plain": [
       "<matplotlib.figure.Figure at 0x7f20fbcf27f0>"
      ]
     },
     "metadata": {},
     "output_type": "display_data"
    }
   ],
   "source": [
    "ax = dft_summen.sum1.hist(bins=100, log=True)\n",
    "ax.set_xlabel(\"Numer of '1'\")\n",
    "ax.set_ylabel(\"Frequency\")\n",
    "ax.set_title(\"Distribution - How often (how many frames) was a bee detected during a day?\")"
   ]
  },
  {
   "cell_type": "code",
   "execution_count": 176,
   "metadata": {
    "collapsed": false
   },
   "outputs": [],
   "source": [
    "freq = Counter(dft_summen.sum1)"
   ]
  },
  {
   "cell_type": "code",
   "execution_count": 177,
   "metadata": {
    "collapsed": false
   },
   "outputs": [
    {
     "data": {
      "text/plain": [
       "count      4096.000000\n",
       "mean      16616.937256\n",
       "std       32545.368321\n",
       "min           2.000000\n",
       "25%          84.000000\n",
       "50%         247.000000\n",
       "75%        1426.500000\n",
       "max      192029.000000\n",
       "Name: sum1, dtype: float64"
      ]
     },
     "execution_count": 177,
     "metadata": {},
     "output_type": "execute_result"
    }
   ],
   "source": [
    "dft_summen.sum1.describe()"
   ]
  },
  {
   "cell_type": "code",
   "execution_count": 235,
   "metadata": {
    "collapsed": false
   },
   "outputs": [
    {
     "data": {
      "text/plain": [
       "2         1\n",
       "58232     1\n",
       "58191     1\n",
       "58138     1\n",
       "58041     1\n",
       "58000     1\n",
       "57972     1\n",
       "57924     1\n",
       "57883     1\n",
       "57839     1\n",
       "57764     1\n",
       "57670     1\n",
       "58379     1\n",
       "57593     1\n",
       "57509     1\n",
       "57412     1\n",
       "57345     1\n",
       "57342     1\n",
       "57192     1\n",
       "57089     1\n",
       "57086     1\n",
       "57075     1\n",
       "56592     1\n",
       "56254     1\n",
       "56216     1\n",
       "57547     1\n",
       "56165     1\n",
       "58518     1\n",
       "58960     1\n",
       "62130     1\n",
       "         ..\n",
       "52       15\n",
       "65       15\n",
       "43       15\n",
       "81       15\n",
       "31       15\n",
       "92       15\n",
       "131      16\n",
       "42       16\n",
       "30       16\n",
       "79       16\n",
       "85       16\n",
       "86       16\n",
       "28       16\n",
       "54       17\n",
       "49       17\n",
       "41       17\n",
       "53       17\n",
       "58       18\n",
       "84       18\n",
       "35       18\n",
       "39       19\n",
       "50       20\n",
       "46       20\n",
       "25       20\n",
       "37       21\n",
       "33       22\n",
       "36       23\n",
       "51       26\n",
       "23       27\n",
       "34       31\n",
       "dtype: int64"
      ]
     },
     "execution_count": 235,
     "metadata": {},
     "output_type": "execute_result"
    }
   ],
   "source": [
    "Series(freq).sort_values()"
   ]
  },
  {
   "cell_type": "code",
   "execution_count": 239,
   "metadata": {
    "collapsed": false
   },
   "outputs": [
    {
     "data": {
      "text/html": [
       "<div>\n",
       "<table border=\"1\" class=\"dataframe\">\n",
       "  <thead>\n",
       "    <tr style=\"text-align: right;\">\n",
       "      <th></th>\n",
       "      <th>sum1</th>\n",
       "      <th>sum0</th>\n",
       "    </tr>\n",
       "  </thead>\n",
       "  <tbody>\n",
       "    <tr>\n",
       "      <th>3190</th>\n",
       "      <td>34</td>\n",
       "      <td>259038</td>\n",
       "    </tr>\n",
       "    <tr>\n",
       "      <th>3980</th>\n",
       "      <td>34</td>\n",
       "      <td>259038</td>\n",
       "    </tr>\n",
       "    <tr>\n",
       "      <th>2553</th>\n",
       "      <td>34</td>\n",
       "      <td>259038</td>\n",
       "    </tr>\n",
       "    <tr>\n",
       "      <th>253</th>\n",
       "      <td>34</td>\n",
       "      <td>259038</td>\n",
       "    </tr>\n",
       "    <tr>\n",
       "      <th>3121</th>\n",
       "      <td>34</td>\n",
       "      <td>259038</td>\n",
       "    </tr>\n",
       "    <tr>\n",
       "      <th>3046</th>\n",
       "      <td>34</td>\n",
       "      <td>259038</td>\n",
       "    </tr>\n",
       "    <tr>\n",
       "      <th>3220</th>\n",
       "      <td>34</td>\n",
       "      <td>259038</td>\n",
       "    </tr>\n",
       "    <tr>\n",
       "      <th>3931</th>\n",
       "      <td>34</td>\n",
       "      <td>259038</td>\n",
       "    </tr>\n",
       "    <tr>\n",
       "      <th>189</th>\n",
       "      <td>34</td>\n",
       "      <td>259038</td>\n",
       "    </tr>\n",
       "    <tr>\n",
       "      <th>3165</th>\n",
       "      <td>34</td>\n",
       "      <td>259038</td>\n",
       "    </tr>\n",
       "    <tr>\n",
       "      <th>2699</th>\n",
       "      <td>34</td>\n",
       "      <td>259038</td>\n",
       "    </tr>\n",
       "    <tr>\n",
       "      <th>3711</th>\n",
       "      <td>34</td>\n",
       "      <td>259038</td>\n",
       "    </tr>\n",
       "    <tr>\n",
       "      <th>3123</th>\n",
       "      <td>34</td>\n",
       "      <td>259038</td>\n",
       "    </tr>\n",
       "    <tr>\n",
       "      <th>173</th>\n",
       "      <td>34</td>\n",
       "      <td>259038</td>\n",
       "    </tr>\n",
       "    <tr>\n",
       "      <th>2327</th>\n",
       "      <td>34</td>\n",
       "      <td>259038</td>\n",
       "    </tr>\n",
       "    <tr>\n",
       "      <th>3424</th>\n",
       "      <td>34</td>\n",
       "      <td>259038</td>\n",
       "    </tr>\n",
       "    <tr>\n",
       "      <th>269</th>\n",
       "      <td>34</td>\n",
       "      <td>259038</td>\n",
       "    </tr>\n",
       "    <tr>\n",
       "      <th>1455</th>\n",
       "      <td>34</td>\n",
       "      <td>259038</td>\n",
       "    </tr>\n",
       "    <tr>\n",
       "      <th>2915</th>\n",
       "      <td>34</td>\n",
       "      <td>259038</td>\n",
       "    </tr>\n",
       "    <tr>\n",
       "      <th>3282</th>\n",
       "      <td>34</td>\n",
       "      <td>259038</td>\n",
       "    </tr>\n",
       "    <tr>\n",
       "      <th>3339</th>\n",
       "      <td>34</td>\n",
       "      <td>259038</td>\n",
       "    </tr>\n",
       "    <tr>\n",
       "      <th>2655</th>\n",
       "      <td>34</td>\n",
       "      <td>259038</td>\n",
       "    </tr>\n",
       "    <tr>\n",
       "      <th>2049</th>\n",
       "      <td>34</td>\n",
       "      <td>259038</td>\n",
       "    </tr>\n",
       "    <tr>\n",
       "      <th>2477</th>\n",
       "      <td>34</td>\n",
       "      <td>259038</td>\n",
       "    </tr>\n",
       "    <tr>\n",
       "      <th>3545</th>\n",
       "      <td>34</td>\n",
       "      <td>259038</td>\n",
       "    </tr>\n",
       "    <tr>\n",
       "      <th>3022</th>\n",
       "      <td>34</td>\n",
       "      <td>259038</td>\n",
       "    </tr>\n",
       "    <tr>\n",
       "      <th>3524</th>\n",
       "      <td>34</td>\n",
       "      <td>259038</td>\n",
       "    </tr>\n",
       "    <tr>\n",
       "      <th>4018</th>\n",
       "      <td>34</td>\n",
       "      <td>259038</td>\n",
       "    </tr>\n",
       "    <tr>\n",
       "      <th>2835</th>\n",
       "      <td>34</td>\n",
       "      <td>259038</td>\n",
       "    </tr>\n",
       "    <tr>\n",
       "      <th>3142</th>\n",
       "      <td>34</td>\n",
       "      <td>259038</td>\n",
       "    </tr>\n",
       "    <tr>\n",
       "      <th>484</th>\n",
       "      <td>34</td>\n",
       "      <td>259038</td>\n",
       "    </tr>\n",
       "  </tbody>\n",
       "</table>\n",
       "</div>"
      ],
      "text/plain": [
       "      sum1    sum0\n",
       "3190    34  259038\n",
       "3980    34  259038\n",
       "2553    34  259038\n",
       "253     34  259038\n",
       "3121    34  259038\n",
       "3046    34  259038\n",
       "3220    34  259038\n",
       "3931    34  259038\n",
       "189     34  259038\n",
       "3165    34  259038\n",
       "2699    34  259038\n",
       "3711    34  259038\n",
       "3123    34  259038\n",
       "173     34  259038\n",
       "2327    34  259038\n",
       "3424    34  259038\n",
       "269     34  259038\n",
       "1455    34  259038\n",
       "2915    34  259038\n",
       "3282    34  259038\n",
       "3339    34  259038\n",
       "2655    34  259038\n",
       "2049    34  259038\n",
       "2477    34  259038\n",
       "3545    34  259038\n",
       "3022    34  259038\n",
       "3524    34  259038\n",
       "4018    34  259038\n",
       "2835    34  259038\n",
       "3142    34  259038\n",
       "484     34  259038"
      ]
     },
     "execution_count": 239,
     "metadata": {},
     "output_type": "execute_result"
    }
   ],
   "source": [
    "dft_summen[dft_summen.sum1 == 34]"
   ]
  },
  {
   "cell_type": "code",
   "execution_count": null,
   "metadata": {
    "collapsed": true
   },
   "outputs": [],
   "source": [
    "dft = pd.read_pickle(\"../../../../../../storage/mi/aschle/dft.pickle\")"
   ]
  },
  {
   "cell_type": "code",
   "execution_count": 262,
   "metadata": {
    "collapsed": false
   },
   "outputs": [
    {
     "data": {
      "text/plain": [
       "[32.333333333333336,\n",
       " 264.33333333333331,\n",
       " 2107.6666666666665,\n",
       " 2089.3333333333335,\n",
       " 1152.6666666666667,\n",
       " 2015.6666666666667,\n",
       " 433.66666666666669,\n",
       " 2671.0,\n",
       " 1875.0,\n",
       " 589.33333333333337,\n",
       " 62.333333333333336,\n",
       " 3435.3333333333335,\n",
       " 0.66666666666666663,\n",
       " 0.33333333333333331,\n",
       " 394.0,\n",
       " 1716.3333333333333,\n",
       " 1748.0,\n",
       " 177.0,\n",
       " 8.3333333333333339,\n",
       " 4.0,\n",
       " 507.66666666666669,\n",
       " 3162.0,\n",
       " 946.66666666666663,\n",
       " 1869.3333333333333,\n",
       " 21.666666666666668,\n",
       " 142.66666666666666,\n",
       " 1857.6666666666667,\n",
       " 312.33333333333331,\n",
       " 48.666666666666664,\n",
       " 1387.3333333333333,\n",
       " 3719.3333333333335,\n",
       " 3486.0,\n",
       " 672.0,\n",
       " 873.66666666666663,\n",
       " 923.33333333333337,\n",
       " 3969.0,\n",
       " 1660.0,\n",
       " 2685.3333333333335,\n",
       " 904.33333333333337,\n",
       " 139.0,\n",
       " 488.0,\n",
       " 39.666666666666664,\n",
       " 349.0,\n",
       " 14.666666666666666,\n",
       " 1264.6666666666667,\n",
       " 816.33333333333337,\n",
       " 424.0,\n",
       " 1602.6666666666667,\n",
       " 2483.0,\n",
       " 2463.6666666666665,\n",
       " 697.66666666666663,\n",
       " 0.33333333333333331,\n",
       " 1072.6666666666667,\n",
       " 3010.6666666666665,\n",
       " 136.66666666666666,\n",
       " 334.0,\n",
       " 3861.3333333333335,\n",
       " 209.33333333333334,\n",
       " 3483.6666666666665,\n",
       " 3.0,\n",
       " 119.66666666666667,\n",
       " 825.33333333333337,\n",
       " 69.0,\n",
       " 1382.6666666666667,\n",
       " 420.66666666666669,\n",
       " 6.0,\n",
       " 8.0,\n",
       " 8.0,\n",
       " 25.0,\n",
       " 2011.3333333333333,\n",
       " 6.0,\n",
       " 1.3333333333333333,\n",
       " 187.0,\n",
       " 1378.6666666666667,\n",
       " 195.66666666666666,\n",
       " 2559.6666666666665,\n",
       " 2946.0]"
      ]
     },
     "execution_count": 262,
     "metadata": {},
     "output_type": "execute_result"
    }
   ],
   "source": [
    "ss = dft.iloc[484]\n",
    "six = ss[ss==1].index\n",
    "[(six[i+1]-j)/3 for i,j in enumerate(six[:-1])]"
   ]
  },
  {
   "cell_type": "code",
   "execution_count": 242,
   "metadata": {
    "collapsed": true
   },
   "outputs": [],
   "source": [
    "s = Series([1,2,3,4])"
   ]
  },
  {
   "cell_type": "code",
   "execution_count": 247,
   "metadata": {
    "collapsed": false
   },
   "outputs": [
    {
     "data": {
      "text/plain": [
       "0     True\n",
       "1    False\n",
       "2    False\n",
       "3    False\n",
       "dtype: bool"
      ]
     },
     "execution_count": 247,
     "metadata": {},
     "output_type": "execute_result"
    }
   ],
   "source": [
    "s == 1"
   ]
  },
  {
   "cell_type": "markdown",
   "metadata": {},
   "source": [
    "### Number of 0 = Bee is absent :)))))"
   ]
  },
  {
   "cell_type": "code",
   "execution_count": 222,
   "metadata": {
    "collapsed": false
   },
   "outputs": [
    {
     "data": {
      "text/plain": [
       "<matplotlib.text.Text at 0x7f22ad8d0b70>"
      ]
     },
     "execution_count": 222,
     "metadata": {},
     "output_type": "execute_result"
    },
    {
     "data": {
      "image/png": "[encoded data removed]",
      "text/plain": [
       "<matplotlib.figure.Figure at 0x7f22ada03e80>"
      ]
     },
     "metadata": {},
     "output_type": "display_data"
    }
   ],
   "source": [
    "ax = dft_summen.sum0.hist(bins=100, log=True)\n",
    "ax.set_xlabel(\"Numer of '0'\")\n",
    "ax.set_ylabel(\"Frequency\")\n",
    "ax.set_title(\"Distribution - How often (how many frames) was a bee not detected during a day?\")"
   ]
  },
  {
   "cell_type": "code",
   "execution_count": 179,
   "metadata": {
    "collapsed": false
   },
   "outputs": [
    {
     "data": {
      "text/plain": [
       "count      4096.000000\n",
       "mean     242455.062744\n",
       "std       32545.368321\n",
       "min       67043.000000\n",
       "25%      257645.500000\n",
       "50%      258825.000000\n",
       "75%      258988.000000\n",
       "max      259070.000000\n",
       "Name: sum0, dtype: float64"
      ]
     },
     "execution_count": 179,
     "metadata": {},
     "output_type": "execute_result"
    }
   ],
   "source": [
    "dft_summen.sum0.describe()"
   ]
  },
  {
   "cell_type": "markdown",
   "metadata": {},
   "source": [
    "## Length of 1"
   ]
  },
  {
   "cell_type": "code",
   "execution_count": 180,
   "metadata": {
    "collapsed": false
   },
   "outputs": [
    {
     "name": "stdout",
     "output_type": "stream",
     "text": [
      "CPU times: user 10min 24s, sys: 8.4 s, total: 10min 32s\n",
      "Wall time: 10min 25s\n"
     ]
    }
   ],
   "source": [
    "%time chains1 = dft.apply(get_ketten_len, axis=1, args=[\"0\"])"
   ]
  },
  {
   "cell_type": "code",
   "execution_count": 181,
   "metadata": {
    "collapsed": false
   },
   "outputs": [
    {
     "data": {
      "text/plain": [
       "2318    [5, 3, 1, 1, 1, 1, 1, 3, 1, 1, 1, 2, 2, 2, 1, ...\n",
       "3308    [3, 1, 3, 4, 4, 6, 3, 1, 1, 5, 1, 2, 13, 10, 1...\n",
       "2811    [421, 4, 93, 53, 22, 10, 74, 23, 3, 2, 39, 23,...\n",
       "2386    [9, 19, 8, 8, 20, 7, 4, 2, 9, 6, 8, 1, 4, 3, 3...\n",
       "3747    [8, 72, 3, 20, 21, 1, 2, 1, 1, 1, 1, 1, 6, 1, ...\n",
       "dtype: object"
      ]
     },
     "execution_count": 181,
     "metadata": {},
     "output_type": "execute_result"
    }
   ],
   "source": [
    "chains1.head()\n"
   ]
  },
  {
   "cell_type": "code",
   "execution_count": 182,
   "metadata": {
    "collapsed": true
   },
   "outputs": [],
   "source": [
    "list_1 = [j for i in chains1 for j in i]"
   ]
  },
  {
   "cell_type": "code",
   "execution_count": 183,
   "metadata": {
    "collapsed": true
   },
   "outputs": [],
   "source": [
    "def get_ketten_len(kette, val):\n",
    "    kette = kette.apply(str)\n",
    "    s = kette.str.cat(sep='')\n",
    "    ss = s.split(val)\n",
    "    return [len(x) for x in ss if len(x) > 0]"
   ]
  },
  {
   "cell_type": "code",
   "execution_count": 231,
   "metadata": {
    "collapsed": false
   },
   "outputs": [
    {
     "data": {
      "text/plain": [
       "<matplotlib.text.Text at 0x7f22ad1a6c88>"
      ]
     },
     "execution_count": 231,
     "metadata": {},
     "output_type": "execute_result"
    },
    {
     "data": {
      "image/png": "[encoded data removed]",
      "text/plain": [
       "<matplotlib.figure.Figure at 0x7f22ad1bceb8>"
      ]
     },
     "metadata": {},
     "output_type": "display_data"
    }
   ],
   "source": [
    "plt.hist(list_1, bins=100, log=True, )\n",
    "plt.xlabel(\"Length of '1'\")\n",
    "plt.ylabel(\"Frequency\")\n",
    "plt.title(\"Distribution of 1,11,111,... (length)\")"
   ]
  },
  {
   "cell_type": "code",
   "execution_count": 185,
   "metadata": {
    "collapsed": false
   },
   "outputs": [
    {
     "data": {
      "text/html": [
       "<div>\n",
       "<table border=\"1\" class=\"dataframe\">\n",
       "  <thead>\n",
       "    <tr style=\"text-align: right;\">\n",
       "      <th></th>\n",
       "      <th>0</th>\n",
       "    </tr>\n",
       "  </thead>\n",
       "  <tbody>\n",
       "    <tr>\n",
       "      <th>count</th>\n",
       "      <td>1.149439e+07</td>\n",
       "    </tr>\n",
       "    <tr>\n",
       "      <th>mean</th>\n",
       "      <td>5.921407e+00</td>\n",
       "    </tr>\n",
       "    <tr>\n",
       "      <th>std</th>\n",
       "      <td>2.246038e+01</td>\n",
       "    </tr>\n",
       "    <tr>\n",
       "      <th>min</th>\n",
       "      <td>1.000000e+00</td>\n",
       "    </tr>\n",
       "    <tr>\n",
       "      <th>25%</th>\n",
       "      <td>1.000000e+00</td>\n",
       "    </tr>\n",
       "    <tr>\n",
       "      <th>50%</th>\n",
       "      <td>2.000000e+00</td>\n",
       "    </tr>\n",
       "    <tr>\n",
       "      <th>75%</th>\n",
       "      <td>5.000000e+00</td>\n",
       "    </tr>\n",
       "    <tr>\n",
       "      <th>max</th>\n",
       "      <td>5.606000e+03</td>\n",
       "    </tr>\n",
       "  </tbody>\n",
       "</table>\n",
       "</div>"
      ],
      "text/plain": [
       "                  0\n",
       "count  1.149439e+07\n",
       "mean   5.921407e+00\n",
       "std    2.246038e+01\n",
       "min    1.000000e+00\n",
       "25%    1.000000e+00\n",
       "50%    2.000000e+00\n",
       "75%    5.000000e+00\n",
       "max    5.606000e+03"
      ]
     },
     "execution_count": 185,
     "metadata": {},
     "output_type": "execute_result"
    }
   ],
   "source": [
    "DataFrame(list_1).describe()"
   ]
  },
  {
   "cell_type": "markdown",
   "metadata": {},
   "source": [
    "### Length of 0"
   ]
  },
  {
   "cell_type": "code",
   "execution_count": 186,
   "metadata": {
    "collapsed": false
   },
   "outputs": [
    {
     "name": "stdout",
     "output_type": "stream",
     "text": [
      "CPU times: user 8min 4s, sys: 2.22 s, total: 8min 6s\n",
      "Wall time: 8min 1s\n"
     ]
    }
   ],
   "source": [
    "%time chains0 = dft.apply(get_ketten_len, axis=1, args=[\"1\"])"
   ]
  },
  {
   "cell_type": "code",
   "execution_count": 187,
   "metadata": {
    "collapsed": true
   },
   "outputs": [],
   "source": [
    "list_0 = [j for i in chains0 for j in i]"
   ]
  },
  {
   "cell_type": "code",
   "execution_count": 230,
   "metadata": {
    "collapsed": false
   },
   "outputs": [
    {
     "data": {
      "text/plain": [
       "<matplotlib.text.Text at 0x7f22d5bea940>"
      ]
     },
     "execution_count": 230,
     "metadata": {},
     "output_type": "execute_result"
    },
    {
     "data": {
      "image/png": "[encoded data removed]",
      "text/plain": [
       "<matplotlib.figure.Figure at 0x7f20fbc64a90>"
      ]
     },
     "metadata": {},
     "output_type": "display_data"
    }
   ],
   "source": [
    "(n, bins, patches) = plt.hist(list_0, bins=100, log=True)\n",
    "plt.xlabel(\"Length of '0'\")\n",
    "plt.ylabel(\"Frequency\")\n",
    "plt.title(\"Distribution of 0,00,000,... (length)\")"
   ]
  },
  {
   "cell_type": "code",
   "execution_count": 189,
   "metadata": {
    "collapsed": false
   },
   "outputs": [
    {
     "data": {
      "text/html": [
       "<div>\n",
       "<table border=\"1\" class=\"dataframe\">\n",
       "  <thead>\n",
       "    <tr style=\"text-align: right;\">\n",
       "      <th></th>\n",
       "      <th>0</th>\n",
       "    </tr>\n",
       "  </thead>\n",
       "  <tbody>\n",
       "    <tr>\n",
       "      <th>count</th>\n",
       "      <td>1.149801e+07</td>\n",
       "    </tr>\n",
       "    <tr>\n",
       "      <th>mean</th>\n",
       "      <td>8.637114e+01</td>\n",
       "    </tr>\n",
       "    <tr>\n",
       "      <th>std</th>\n",
       "      <td>8.006484e+02</td>\n",
       "    </tr>\n",
       "    <tr>\n",
       "      <th>min</th>\n",
       "      <td>1.000000e+00</td>\n",
       "    </tr>\n",
       "    <tr>\n",
       "      <th>25%</th>\n",
       "      <td>1.000000e+00</td>\n",
       "    </tr>\n",
       "    <tr>\n",
       "      <th>50%</th>\n",
       "      <td>2.000000e+00</td>\n",
       "    </tr>\n",
       "    <tr>\n",
       "      <th>75%</th>\n",
       "      <td>6.000000e+00</td>\n",
       "    </tr>\n",
       "    <tr>\n",
       "      <th>max</th>\n",
       "      <td>1.561670e+05</td>\n",
       "    </tr>\n",
       "  </tbody>\n",
       "</table>\n",
       "</div>"
      ],
      "text/plain": [
       "                  0\n",
       "count  1.149801e+07\n",
       "mean   8.637114e+01\n",
       "std    8.006484e+02\n",
       "min    1.000000e+00\n",
       "25%    1.000000e+00\n",
       "50%    2.000000e+00\n",
       "75%    6.000000e+00\n",
       "max    1.561670e+05"
      ]
     },
     "execution_count": 189,
     "metadata": {},
     "output_type": "execute_result"
    }
   ],
   "source": [
    "DataFrame(list_0).describe()"
   ]
  },
  {
   "cell_type": "code",
   "execution_count": 263,
   "metadata": {
    "collapsed": true
   },
   "outputs": [],
   "source": [
    "del dft"
   ]
  },
  {
   "cell_type": "code",
   "execution_count": 264,
   "metadata": {
    "collapsed": false
   },
   "outputs": [
    {
     "data": {
      "text/plain": [
       "15989"
      ]
     },
     "execution_count": 264,
     "metadata": {},
     "output_type": "execute_result"
    }
   ],
   "source": [
    "import gc\n",
    "gc.collect()"
   ]
  },
  {
   "cell_type": "code",
   "execution_count": 193,
   "metadata": {
    "collapsed": true
   },
   "outputs": [],
   "source": [
    "dft.to_pickle(\"../../../../../../storage/mi/aschle/dft.pickle\")"
   ]
  },
  {
   "cell_type": "code",
   "execution_count": 194,
   "metadata": {
    "collapsed": true
   },
   "outputs": [],
   "source": [
    "del dft"
   ]
  },
  {
   "cell_type": "code",
   "execution_count": 195,
   "metadata": {
    "collapsed": false
   },
   "outputs": [
    {
     "data": {
      "text/plain": [
       "17"
      ]
     },
     "execution_count": 195,
     "metadata": {},
     "output_type": "execute_result"
    }
   ],
   "source": [
    "gc.collect()"
   ]
  },
  {
   "cell_type": "code",
   "execution_count": 196,
   "metadata": {
    "collapsed": true
   },
   "outputs": [],
   "source": [
    "chains1.to_pickle(\"../../../../../../storage/mi/aschle/chains1.pickle\")"
   ]
  },
  {
   "cell_type": "code",
   "execution_count": 197,
   "metadata": {
    "collapsed": true
   },
   "outputs": [],
   "source": [
    "chains0.to_pickle(\"../../../../../../storage/mi/aschle/chains0.pickle\")"
   ]
  },
  {
   "cell_type": "code",
   "execution_count": 198,
   "metadata": {
    "collapsed": true
   },
   "outputs": [],
   "source": [
    "del chains1"
   ]
  },
  {
   "cell_type": "code",
   "execution_count": 199,
   "metadata": {
    "collapsed": true
   },
   "outputs": [],
   "source": [
    "del chains0"
   ]
  },
  {
   "cell_type": "code",
   "execution_count": 200,
   "metadata": {
    "collapsed": false
   },
   "outputs": [
    {
     "data": {
      "text/plain": [
       "17"
      ]
     },
     "execution_count": 200,
     "metadata": {},
     "output_type": "execute_result"
    }
   ],
   "source": [
    "gc.collect()"
   ]
  }
 ],
 "metadata": {
  "anaconda-cloud": {},
  "kernelspec": {
   "display_name": "Python [default]",
   "language": "python",
   "name": "python3"
  },
  "language_info": {
   "codemirror_mode": {
    "name": "ipython",
    "version": 3
   },
   "file_extension": ".py",
   "mimetype": "text/x-python",
   "name": "python",
   "nbconvert_exporter": "python",
   "pygments_lexer": "ipython3",
   "version": "3.5.2"
  }
 },
 "nbformat": 4,
 "nbformat_minor": 1
}
