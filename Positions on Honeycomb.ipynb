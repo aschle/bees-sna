{
 "cells": [
  {
   "cell_type": "markdown",
   "metadata": {
    "collapsed": true
   },
   "source": [
    "# Position of bees on Honeycomb and Distances"
   ]
  },
  {
   "cell_type": "code",
   "execution_count": 1,
   "metadata": {
    "collapsed": true
   },
   "outputs": [],
   "source": [
    "import os\n",
    "import math\n",
    "from collections import Counter\n",
    "\n",
    "import numpy as np\n",
    "\n",
    "import matplotlib\n",
    "import matplotlib.pyplot as plt\n",
    "import seaborn as sns\n",
    "\n",
    "from bb_binary import FrameContainer, Repository\n",
    "\n",
    "matplotlib.rc(\"figure\", figsize=(12, 6))\n",
    "sns.set_style('white')\n",
    "\n",
    "repo = Repository('/Users/alexa/Projects/bees-sna/2015/')"
   ]
  },
  {
   "cell_type": "code",
   "execution_count": 48,
   "metadata": {
    "collapsed": false
   },
   "outputs": [],
   "source": [
    "distances = [] # list of all distances (bee1, bee2, distance)\n",
    "\n",
    "for frame, container in repo.iter_frames():\n",
    "    positions = []\n",
    "    for detection in frame.detectionsUnion.detectionsDP:\n",
    "        positions.append((detection.xpos, detection.ypos, detection.decodedId))\n",
    "\n",
    "    # Calculate distances for this frame\n",
    "    for i in range(len(positions)-2):\n",
    "        bee1 = positions[i]\n",
    "        for j in range(i+1, len(positions)-1):\n",
    "            bee2 = positions[j]\n",
    "            distX = bee2[0] - bee1[0]\n",
    "            distY = bee2[1] - bee1[1]\n",
    "            dist = math.sqrt(distX*distX + distY*distY)\n",
    "            distances.append((dist, bee1, bee2, frame.frameIdx))"
   ]
  },
  {
   "cell_type": "code",
   "execution_count": null,
   "metadata": {
    "collapsed": true
   },
   "outputs": [],
   "source": []
  },
  {
   "cell_type": "markdown",
   "metadata": {},
   "source": [
    "Why is the ID (# global unique id of the frame) always 0?"
   ]
  },
  {
   "cell_type": "markdown",
   "metadata": {},
   "source": [
    "Number of all distances over all frames"
   ]
  },
  {
   "cell_type": "code",
   "execution_count": 49,
   "metadata": {
    "collapsed": false
   },
   "outputs": [
    {
     "name": "stdout",
     "output_type": "stream",
     "text": [
      "3861138\n"
     ]
    }
   ],
   "source": [
    "print(len(distances))"
   ]
  },
  {
   "cell_type": "markdown",
   "metadata": {},
   "source": [
    "Minimum and Maximal Distance between bees\n"
   ]
  },
  {
   "cell_type": "code",
   "execution_count": 50,
   "metadata": {
    "collapsed": false
   },
   "outputs": [
    {
     "name": "stdout",
     "output_type": "stream",
     "text": [
      "60.0\n",
      "4451.60431755\n"
     ]
    }
   ],
   "source": [
    "list = [x[0] for x in distances]\n",
    "dists = np.array(list)\n",
    "print(np.min(dists))\n",
    "print(np.max(dists))"
   ]
  },
  {
   "cell_type": "markdown",
   "metadata": {},
   "source": [
    "## Histogramm of Distances"
   ]
  },
  {
   "cell_type": "code",
   "execution_count": 51,
   "metadata": {
    "collapsed": false
   },
   "outputs": [
    {
     "data": {
      "image/png": "[encoded data removed]",
      "text/plain": [
       "<matplotlib.figure.Figure at 0x1137222e8>"
      ]
     },
     "metadata": {},
     "output_type": "display_data"
    }
   ],
   "source": [
    "hist, bins = np.histogram(dists, bins=100)\n",
    "width = 0.5* (bins[1] - bins[0])\n",
    "center = (bins[:-1] + bins[1:]) / 2\n",
    "plt.bar(center, hist, align='center', width=width)\n",
    "plt.show()"
   ]
  },
  {
   "cell_type": "markdown",
   "metadata": {},
   "source": [
    "## Looking at very close bees\n",
    "How to choose the right distance? How to calculate it?"
   ]
  },
  {
   "cell_type": "code",
   "execution_count": 60,
   "metadata": {
    "collapsed": true
   },
   "outputs": [],
   "source": [
    "max = 100\n",
    "list = [x for x in distances if x[0] <= max]"
   ]
  },
  {
   "cell_type": "code",
   "execution_count": 61,
   "metadata": {
    "collapsed": false
   },
   "outputs": [
    {
     "name": "stdout",
     "output_type": "stream",
     "text": [
      "4708\n"
     ]
    }
   ],
   "source": [
    "num_close_bees= (len(list))\n",
    "print(num_close_bees)"
   ]
  },
  {
   "cell_type": "markdown",
   "metadata": {},
   "source": [
    "## Calculating IDs for close bees\n",
    "What IDs are involved? For each succesive timeframe, do the same bees stay together?\n",
    "\n",
    "First calculate all the IDs, those who can not be translated for sure (63) are just thrown away."
   ]
  },
  {
   "cell_type": "code",
   "execution_count": 68,
   "metadata": {
    "collapsed": false
   },
   "outputs": [],
   "source": [
    "# Calculating ids with delta 63 (just for testing)\n",
    "def getId(delta, id):\n",
    "\n",
    "    c = 0\n",
    "    number = 0\n",
    "    for i in range(len(id)):\n",
    "        if (id[i] <= 0 + delta):\n",
    "            c = c + 1\n",
    "        if (id[i] >= 255 - delta):\n",
    "            c = c + 1\n",
    "            number = number + 2**i\n",
    "    # Add detected number in decimal\n",
    "    if c == 12:\n",
    "        return number\n",
    "    else:\n",
    "        return -1\n",
    "    \n",
    "delta = 63\n",
    "\n",
    "list = [x for x in list if ((getId(delta, x[1][2]) > -1) and (getId(delta, x[2][2])) > -1)]    "
   ]
  },
  {
   "cell_type": "code",
   "execution_count": 75,
   "metadata": {
    "collapsed": false
   },
   "outputs": [
    {
     "name": "stdout",
     "output_type": "stream",
     "text": [
      "68.5429056924384\n",
      "3227\n"
     ]
    }
   ],
   "source": [
    "print((100*len(list))/num_close_bees)\n",
    "print(len(list))"
   ]
  },
  {
   "cell_type": "markdown",
   "metadata": {},
   "source": [
    "So we lost kind of a lot of bees when calculating the IDs in decimal."
   ]
  },
  {
   "cell_type": "code",
   "execution_count": 72,
   "metadata": {
    "collapsed": false
   },
   "outputs": [],
   "source": [
    "bees = []\n",
    "for x in list:\n",
    "    bees.append((getId(delta, x[1][2]), getId(delta, x[2][2]), x[3]))\n",
    "    "
   ]
  },
  {
   "cell_type": "code",
   "execution_count": 73,
   "metadata": {
    "collapsed": false
   },
   "outputs": [
    {
     "name": "stdout",
     "output_type": "stream",
     "text": [
      "3227\n"
     ]
    }
   ],
   "source": [
    "print(len(bees))"
   ]
  },
  {
   "cell_type": "markdown",
   "metadata": {},
   "source": [
    "## Are there any ID combinations which occur in consecutive frames?\n",
    "How long are those sequences?"
   ]
  },
  {
   "cell_type": "code",
   "execution_count": null,
   "metadata": {
    "collapsed": true
   },
   "outputs": [],
   "source": []
  },
  {
   "cell_type": "code",
   "execution_count": null,
   "metadata": {
    "collapsed": true
   },
   "outputs": [],
   "source": []
  },
  {
   "cell_type": "code",
   "execution_count": null,
   "metadata": {
    "collapsed": true
   },
   "outputs": [],
   "source": []
  },
  {
   "cell_type": "code",
   "execution_count": null,
   "metadata": {
    "collapsed": true
   },
   "outputs": [],
   "source": []
  },
  {
   "cell_type": "code",
   "execution_count": null,
   "metadata": {
    "collapsed": true
   },
   "outputs": [],
   "source": []
  },
  {
   "cell_type": "code",
   "execution_count": null,
   "metadata": {
    "collapsed": true
   },
   "outputs": [],
   "source": []
  },
  {
   "cell_type": "code",
   "execution_count": null,
   "metadata": {
    "collapsed": true
   },
   "outputs": [],
   "source": []
  },
  {
   "cell_type": "code",
   "execution_count": null,
   "metadata": {
    "collapsed": true
   },
   "outputs": [],
   "source": []
  },
  {
   "cell_type": "code",
   "execution_count": null,
   "metadata": {
    "collapsed": true
   },
   "outputs": [],
   "source": []
  }
 ],
 "metadata": {
  "kernelspec": {
   "display_name": "Python 3",
   "language": "python",
   "name": "python3"
  },
  "language_info": {
   "codemirror_mode": {
    "name": "ipython",
    "version": 3
   },
   "file_extension": ".py",
   "mimetype": "text/x-python",
   "name": "python",
   "nbconvert_exporter": "python",
   "pygments_lexer": "ipython3",
   "version": "3.5.2"
  }
 },
 "nbformat": 4,
 "nbformat_minor": 1
}
